{
 "cells": [
  {
   "cell_type": "code",
   "execution_count": null,
   "id": "cf205719",
   "metadata": {},
   "outputs": [
    {
     "data": {
      "application/javascript": [
       "\n",
       "            setTimeout(function() {\n",
       "                var nbb_cell_id = 1;\n",
       "                var nbb_unformatted_code = \"%load_ext nb_black\";\n",
       "                var nbb_formatted_code = \"%load_ext nb_black\";\n",
       "                var nbb_cells = Jupyter.notebook.get_cells();\n",
       "                for (var i = 0; i < nbb_cells.length; ++i) {\n",
       "                    if (nbb_cells[i].input_prompt_number == nbb_cell_id) {\n",
       "                        if (nbb_cells[i].get_text() == nbb_unformatted_code) {\n",
       "                             nbb_cells[i].set_text(nbb_formatted_code);\n",
       "                        }\n",
       "                        break;\n",
       "                    }\n",
       "                }\n",
       "            }, 500);\n",
       "            "
      ],
      "text/plain": [
       "<IPython.core.display.Javascript object>"
      ]
     },
     "metadata": {},
     "output_type": "display_data"
    }
   ],
   "source": [
    "%load_ext nb_black"
   ]
  },
  {
   "cell_type": "code",
   "execution_count": null,
   "id": "96d9faee",
   "metadata": {},
   "outputs": [
    {
     "data": {
      "application/javascript": [
       "\n",
       "            setTimeout(function() {\n",
       "                var nbb_cell_id = 2;\n",
       "                var nbb_unformatted_code = \"# default_exp registry\";\n",
       "                var nbb_formatted_code = \"# default_exp registry\";\n",
       "                var nbb_cells = Jupyter.notebook.get_cells();\n",
       "                for (var i = 0; i < nbb_cells.length; ++i) {\n",
       "                    if (nbb_cells[i].input_prompt_number == nbb_cell_id) {\n",
       "                        if (nbb_cells[i].get_text() == nbb_unformatted_code) {\n",
       "                             nbb_cells[i].set_text(nbb_formatted_code);\n",
       "                        }\n",
       "                        break;\n",
       "                    }\n",
       "                }\n",
       "            }, 500);\n",
       "            "
      ],
      "text/plain": [
       "<IPython.core.display.Javascript object>"
      ]
     },
     "metadata": {},
     "output_type": "display_data"
    }
   ],
   "source": [
    "# default_exp registry"
   ]
  },
  {
   "cell_type": "markdown",
   "id": "a5247162",
   "metadata": {},
   "source": [
    "# Registry\n",
    "\n",
    "Just being able to look up a models class by name. Needed to be able to serialize\n",
    "clients and servers to json or database."
   ]
  },
  {
   "cell_type": "code",
   "execution_count": null,
   "id": "51565f96",
   "metadata": {},
   "outputs": [
    {
     "data": {
      "application/javascript": [
       "\n",
       "            setTimeout(function() {\n",
       "                var nbb_cell_id = 13;\n",
       "                var nbb_unformatted_code = \"# export\\n\\nfrom pydantic import BaseModel\\n\\n\\nCLASS_REGISTRY = {}\\n\\n\\ndef register_model(model_class):\\n    global CLASS_REGISTRY\\n    CLASS_REGISTRY[model_class.__name__] = model_class\\n    return model_class\\n\\n\\ndef get_model_from_registry(class_name):\\n    print(\\\"class registry: \\\", CLASS_REGISTRY)\\n    return CLASS_REGISTRY[class_name]\";\n",
       "                var nbb_formatted_code = \"# export\\n\\nfrom pydantic import BaseModel\\n\\n\\nCLASS_REGISTRY = {}\\n\\n\\ndef register_model(model_class):\\n    global CLASS_REGISTRY\\n    CLASS_REGISTRY[model_class.__name__] = model_class\\n    return model_class\\n\\n\\ndef get_model_from_registry(class_name):\\n    print(\\\"class registry: \\\", CLASS_REGISTRY)\\n    return CLASS_REGISTRY[class_name]\";\n",
       "                var nbb_cells = Jupyter.notebook.get_cells();\n",
       "                for (var i = 0; i < nbb_cells.length; ++i) {\n",
       "                    if (nbb_cells[i].input_prompt_number == nbb_cell_id) {\n",
       "                        if (nbb_cells[i].get_text() == nbb_unformatted_code) {\n",
       "                             nbb_cells[i].set_text(nbb_formatted_code);\n",
       "                        }\n",
       "                        break;\n",
       "                    }\n",
       "                }\n",
       "            }, 500);\n",
       "            "
      ],
      "text/plain": [
       "<IPython.core.display.Javascript object>"
      ]
     },
     "metadata": {},
     "output_type": "display_data"
    }
   ],
   "source": [
    "# export\n",
    "\n",
    "from pydantic import BaseModel\n",
    "\n",
    "\n",
    "CLASS_REGISTRY = {}\n",
    "\n",
    "\n",
    "def register_model(model_class):\n",
    "    global CLASS_REGISTRY\n",
    "    CLASS_REGISTRY[model_class.__name__] = model_class\n",
    "    return model_class\n",
    "\n",
    "\n",
    "def get_model_from_registry(class_name):\n",
    "    return CLASS_REGISTRY[class_name]"
   ]
  },
  {
   "cell_type": "code",
   "execution_count": null,
   "id": "a0804533",
   "metadata": {},
   "outputs": [
    {
     "data": {
      "application/javascript": [
       "\n",
       "            setTimeout(function() {\n",
       "                var nbb_cell_id = 4;\n",
       "                var nbb_unformatted_code = \"@register_model\\nclass StubServer(BaseModel):\\n    name: str = \\\"stub server\\\"\";\n",
       "                var nbb_formatted_code = \"@register_model\\nclass StubServer(BaseModel):\\n    name: str = \\\"stub server\\\"\";\n",
       "                var nbb_cells = Jupyter.notebook.get_cells();\n",
       "                for (var i = 0; i < nbb_cells.length; ++i) {\n",
       "                    if (nbb_cells[i].input_prompt_number == nbb_cell_id) {\n",
       "                        if (nbb_cells[i].get_text() == nbb_unformatted_code) {\n",
       "                             nbb_cells[i].set_text(nbb_formatted_code);\n",
       "                        }\n",
       "                        break;\n",
       "                    }\n",
       "                }\n",
       "            }, 500);\n",
       "            "
      ],
      "text/plain": [
       "<IPython.core.display.Javascript object>"
      ]
     },
     "metadata": {},
     "output_type": "display_data"
    }
   ],
   "source": [
    "@register_model\n",
    "class StubServer(BaseModel):\n",
    "    name: str = \"stub server\""
   ]
  },
  {
   "cell_type": "markdown",
   "id": "b9714a0d",
   "metadata": {},
   "source": [
    "## Usage"
   ]
  },
  {
   "cell_type": "code",
   "execution_count": null,
   "id": "8d6fd131",
   "metadata": {},
   "outputs": [
    {
     "data": {
      "application/javascript": [
       "\n",
       "            setTimeout(function() {\n",
       "                var nbb_cell_id = 5;\n",
       "                var nbb_unformatted_code = \"server = StubServer(name=\\\"foobar\\\")\\nserver_class = get_model_from_registry(server.__class__.__name__)\";\n",
       "                var nbb_formatted_code = \"server = StubServer(name=\\\"foobar\\\")\\nserver_class = get_model_from_registry(server.__class__.__name__)\";\n",
       "                var nbb_cells = Jupyter.notebook.get_cells();\n",
       "                for (var i = 0; i < nbb_cells.length; ++i) {\n",
       "                    if (nbb_cells[i].input_prompt_number == nbb_cell_id) {\n",
       "                        if (nbb_cells[i].get_text() == nbb_unformatted_code) {\n",
       "                             nbb_cells[i].set_text(nbb_formatted_code);\n",
       "                        }\n",
       "                        break;\n",
       "                    }\n",
       "                }\n",
       "            }, 500);\n",
       "            "
      ],
      "text/plain": [
       "<IPython.core.display.Javascript object>"
      ]
     },
     "metadata": {},
     "output_type": "display_data"
    }
   ],
   "source": [
    "server = StubServer(name=\"foobar\")\n",
    "server_class = get_model_from_registry(server.__class__.__name__)"
   ]
  },
  {
   "cell_type": "markdown",
   "id": "d8f9877c",
   "metadata": {},
   "source": [
    "## Tests"
   ]
  },
  {
   "cell_type": "code",
   "execution_count": null,
   "id": "4f2594a0",
   "metadata": {},
   "outputs": [
    {
     "data": {
      "application/javascript": [
       "\n",
       "            setTimeout(function() {\n",
       "                var nbb_cell_id = 6;\n",
       "                var nbb_unformatted_code = \"assert StubServer == get_model_from_registry(str(server.__class__.__name__))\";\n",
       "                var nbb_formatted_code = \"assert StubServer == get_model_from_registry(str(server.__class__.__name__))\";\n",
       "                var nbb_cells = Jupyter.notebook.get_cells();\n",
       "                for (var i = 0; i < nbb_cells.length; ++i) {\n",
       "                    if (nbb_cells[i].input_prompt_number == nbb_cell_id) {\n",
       "                        if (nbb_cells[i].get_text() == nbb_unformatted_code) {\n",
       "                             nbb_cells[i].set_text(nbb_formatted_code);\n",
       "                        }\n",
       "                        break;\n",
       "                    }\n",
       "                }\n",
       "            }, 500);\n",
       "            "
      ],
      "text/plain": [
       "<IPython.core.display.Javascript object>"
      ]
     },
     "metadata": {},
     "output_type": "display_data"
    }
   ],
   "source": [
    "assert StubServer == get_model_from_registry(str(server.__class__.__name__))"
   ]
  },
  {
   "cell_type": "code",
   "execution_count": null,
   "id": "48d1f84f",
   "metadata": {},
   "outputs": [
    {
     "data": {
      "application/javascript": [
       "\n",
       "            setTimeout(function() {\n",
       "                var nbb_cell_id = 7;\n",
       "                var nbb_unformatted_code = \"server = StubServer(name=\\\"foobar\\\")\\nassert get_model_from_registry(\\\"StubServer\\\") == StubServer\";\n",
       "                var nbb_formatted_code = \"server = StubServer(name=\\\"foobar\\\")\\nassert get_model_from_registry(\\\"StubServer\\\") == StubServer\";\n",
       "                var nbb_cells = Jupyter.notebook.get_cells();\n",
       "                for (var i = 0; i < nbb_cells.length; ++i) {\n",
       "                    if (nbb_cells[i].input_prompt_number == nbb_cell_id) {\n",
       "                        if (nbb_cells[i].get_text() == nbb_unformatted_code) {\n",
       "                             nbb_cells[i].set_text(nbb_formatted_code);\n",
       "                        }\n",
       "                        break;\n",
       "                    }\n",
       "                }\n",
       "            }, 500);\n",
       "            "
      ],
      "text/plain": [
       "<IPython.core.display.Javascript object>"
      ]
     },
     "metadata": {},
     "output_type": "display_data"
    }
   ],
   "source": [
    "server = StubServer(name=\"foobar\")\n",
    "assert get_model_from_registry(\"StubServer\") == StubServer"
   ]
  },
  {
   "cell_type": "markdown",
   "id": "e7cfa8a3",
   "metadata": {},
   "source": [
    "# Parameter Models\n",
    "\n",
    "They are used to serialize clients and servers from and to plain python dicts which then could be serialized to json. It's not clear which Server should be created when we accept a BaseServer. Therefore we transfer a model_parameter instance and have a lookup table to choose the right model."
   ]
  },
  {
   "cell_type": "code",
   "execution_count": null,
   "id": "287b2514",
   "metadata": {},
   "outputs": [
    {
     "data": {
      "application/javascript": [
       "\n",
       "            setTimeout(function() {\n",
       "                var nbb_cell_id = 8;\n",
       "                var nbb_unformatted_code = \"# export\\n\\n\\nclass ModelParameters(BaseModel):\\n    class_name: str\\n    parameters: dict\\n\\n    def to_model(self):\\n        return get_model_from_registry(self.class_name)(**self.parameters)\";\n",
       "                var nbb_formatted_code = \"# export\\n\\n\\nclass ModelParameters(BaseModel):\\n    class_name: str\\n    parameters: dict\\n\\n    def to_model(self):\\n        return get_model_from_registry(self.class_name)(**self.parameters)\";\n",
       "                var nbb_cells = Jupyter.notebook.get_cells();\n",
       "                for (var i = 0; i < nbb_cells.length; ++i) {\n",
       "                    if (nbb_cells[i].input_prompt_number == nbb_cell_id) {\n",
       "                        if (nbb_cells[i].get_text() == nbb_unformatted_code) {\n",
       "                             nbb_cells[i].set_text(nbb_formatted_code);\n",
       "                        }\n",
       "                        break;\n",
       "                    }\n",
       "                }\n",
       "            }, 500);\n",
       "            "
      ],
      "text/plain": [
       "<IPython.core.display.Javascript object>"
      ]
     },
     "metadata": {},
     "output_type": "display_data"
    }
   ],
   "source": [
    "# export\n",
    "\n",
    "\n",
    "class ModelParameters(BaseModel):\n",
    "    class_name: str\n",
    "    parameters: dict\n",
    "\n",
    "    def to_model(self):\n",
    "        return get_model_from_registry(self.class_name)(**self.parameters)"
   ]
  },
  {
   "cell_type": "code",
   "execution_count": null,
   "id": "b1008da9",
   "metadata": {},
   "outputs": [
    {
     "data": {
      "application/javascript": [
       "\n",
       "            setTimeout(function() {\n",
       "                var nbb_cell_id = 9;\n",
       "                var nbb_unformatted_code = \"@register_model\\nclass StubSerializableServer(BaseModel):\\n    name: str = \\\"stub server\\\"\\n\\n    def params(self):\\n        return {\\n            \\\"class_name\\\": self.__class__.__name__,\\n            \\\"parameters\\\": self.dict(),\\n        }\";\n",
       "                var nbb_formatted_code = \"@register_model\\nclass StubSerializableServer(BaseModel):\\n    name: str = \\\"stub server\\\"\\n\\n    def params(self):\\n        return {\\n            \\\"class_name\\\": self.__class__.__name__,\\n            \\\"parameters\\\": self.dict(),\\n        }\";\n",
       "                var nbb_cells = Jupyter.notebook.get_cells();\n",
       "                for (var i = 0; i < nbb_cells.length; ++i) {\n",
       "                    if (nbb_cells[i].input_prompt_number == nbb_cell_id) {\n",
       "                        if (nbb_cells[i].get_text() == nbb_unformatted_code) {\n",
       "                             nbb_cells[i].set_text(nbb_formatted_code);\n",
       "                        }\n",
       "                        break;\n",
       "                    }\n",
       "                }\n",
       "            }, 500);\n",
       "            "
      ],
      "text/plain": [
       "<IPython.core.display.Javascript object>"
      ]
     },
     "metadata": {},
     "output_type": "display_data"
    }
   ],
   "source": [
    "@register_model\n",
    "class StubSerializableServer(BaseModel):\n",
    "    name: str = \"stub server\"\n",
    "\n",
    "    def params(self):\n",
    "        return {\n",
    "            \"class_name\": self.__class__.__name__,\n",
    "            \"parameters\": self.dict(),\n",
    "        }"
   ]
  },
  {
   "cell_type": "markdown",
   "id": "30e7b794",
   "metadata": {},
   "source": [
    "## Usage"
   ]
  },
  {
   "cell_type": "code",
   "execution_count": null,
   "id": "74725e5c",
   "metadata": {},
   "outputs": [
    {
     "data": {
      "application/javascript": [
       "\n",
       "            setTimeout(function() {\n",
       "                var nbb_cell_id = 10;\n",
       "                var nbb_unformatted_code = \"# dont_test\\n\\nname = \\\"Some Server\\\"\\nserver = StubSerializableServer(name=name)\\n\\nserver_parameters = ModelParameters(**server.params())\\n\\nserver_from_params = server_parameters.to_model()\";\n",
       "                var nbb_formatted_code = \"# dont_test\\n\\nname = \\\"Some Server\\\"\\nserver = StubSerializableServer(name=name)\\n\\nserver_parameters = ModelParameters(**server.params())\\n\\nserver_from_params = server_parameters.to_model()\";\n",
       "                var nbb_cells = Jupyter.notebook.get_cells();\n",
       "                for (var i = 0; i < nbb_cells.length; ++i) {\n",
       "                    if (nbb_cells[i].input_prompt_number == nbb_cell_id) {\n",
       "                        if (nbb_cells[i].get_text() == nbb_unformatted_code) {\n",
       "                             nbb_cells[i].set_text(nbb_formatted_code);\n",
       "                        }\n",
       "                        break;\n",
       "                    }\n",
       "                }\n",
       "            }, 500);\n",
       "            "
      ],
      "text/plain": [
       "<IPython.core.display.Javascript object>"
      ]
     },
     "metadata": {},
     "output_type": "display_data"
    }
   ],
   "source": [
    "# dont_test\n",
    "\n",
    "name = \"Some Server\"\n",
    "server = StubSerializableServer(name=name)\n",
    "\n",
    "server_parameters = ModelParameters(**server.params())\n",
    "\n",
    "server_from_params = server_parameters.to_model()"
   ]
  },
  {
   "cell_type": "markdown",
   "id": "b16fb7fe",
   "metadata": {},
   "source": [
    "## Tests"
   ]
  },
  {
   "cell_type": "code",
   "execution_count": null,
   "id": "ed1c605e",
   "metadata": {},
   "outputs": [
    {
     "data": {
      "application/javascript": [
       "\n",
       "            setTimeout(function() {\n",
       "                var nbb_cell_id = 11;\n",
       "                var nbb_unformatted_code = \"name = \\\"Test Server\\\"\\nserver = StubSerializableServer(name=name)\\n\\nserver_parameters = ModelParameters(**server.params())\\nserver_from_params = server_parameters.to_model()\\n\\nassert server == server_from_params\";\n",
       "                var nbb_formatted_code = \"name = \\\"Test Server\\\"\\nserver = StubSerializableServer(name=name)\\n\\nserver_parameters = ModelParameters(**server.params())\\nserver_from_params = server_parameters.to_model()\\n\\nassert server == server_from_params\";\n",
       "                var nbb_cells = Jupyter.notebook.get_cells();\n",
       "                for (var i = 0; i < nbb_cells.length; ++i) {\n",
       "                    if (nbb_cells[i].input_prompt_number == nbb_cell_id) {\n",
       "                        if (nbb_cells[i].get_text() == nbb_unformatted_code) {\n",
       "                             nbb_cells[i].set_text(nbb_formatted_code);\n",
       "                        }\n",
       "                        break;\n",
       "                    }\n",
       "                }\n",
       "            }, 500);\n",
       "            "
      ],
      "text/plain": [
       "<IPython.core.display.Javascript object>"
      ]
     },
     "metadata": {},
     "output_type": "display_data"
    }
   ],
   "source": [
    "name = \"Test Server\"\n",
    "server = StubSerializableServer(name=name)\n",
    "\n",
    "server_parameters = ModelParameters(**server.params())\n",
    "server_from_params = server_parameters.to_model()\n",
    "\n",
    "assert server == server_from_params"
   ]
  },
  {
   "cell_type": "code",
   "execution_count": null,
   "id": "702a9e99",
   "metadata": {},
   "outputs": [
    {
     "name": "stdout",
     "output_type": "stream",
     "text": [
      "Converted 00_host.ipynb.\n",
      "Converted 01_django_views.ipynb.\n",
      "Converted 01_fastapi_views.ipynb.\n",
      "Converted 01_file.ipynb.\n",
      "Converted 05_epochs.ipynb.\n",
      "Converted 06_results.ipynb.\n",
      "Converted 100_benchmark_remote_control_server.ipynb.\n",
      "Converted 10_registry.ipynb.\n",
      "Converted 25_core.ipynb.\n",
      "Converted 27_control_server.ipynb.\n",
      "Converted 28_control_client.ipynb.\n",
      "Converted 29_control_cli.ipynb.\n",
      "Converted 30_servers.ipynb.\n",
      "Converted 31_local_servers.ipynb.\n",
      "Converted 32_docker_servers.ipynb.\n",
      "Converted 40_clients.ipynb.\n",
      "Converted 41_benchmark_clients.ipynb.\n",
      "Converted 70_repositories.ipynb.\n",
      "Converted 71_sqlite_repository.ipynb.\n",
      "Converted 90_benchmark_without_benchmark.ipynb.\n",
      "Converted 98_run_benchmark.ipynb.\n",
      "Converted index.ipynb.\n"
     ]
    },
    {
     "data": {
      "application/javascript": [
       "\n",
       "            setTimeout(function() {\n",
       "                var nbb_cell_id = 15;\n",
       "                var nbb_unformatted_code = \"# dont_test\\n\\nfrom nbdev.export import notebook2script\\n\\nnotebook2script()\";\n",
       "                var nbb_formatted_code = \"# dont_test\\n\\nfrom nbdev.export import notebook2script\\n\\nnotebook2script()\";\n",
       "                var nbb_cells = Jupyter.notebook.get_cells();\n",
       "                for (var i = 0; i < nbb_cells.length; ++i) {\n",
       "                    if (nbb_cells[i].input_prompt_number == nbb_cell_id) {\n",
       "                        if (nbb_cells[i].get_text() == nbb_unformatted_code) {\n",
       "                             nbb_cells[i].set_text(nbb_formatted_code);\n",
       "                        }\n",
       "                        break;\n",
       "                    }\n",
       "                }\n",
       "            }, 500);\n",
       "            "
      ],
      "text/plain": [
       "<IPython.core.display.Javascript object>"
      ]
     },
     "metadata": {},
     "output_type": "display_data"
    }
   ],
   "source": [
    "# hide\n",
    "# dont_test\n",
    "\n",
    "from nbdev.export import notebook2script\n",
    "\n",
    "notebook2script()"
   ]
  }
 ],
 "metadata": {
  "kernelspec": {
   "display_name": "Python 3",
   "language": "python",
   "name": "python3"
  }
 },
 "nbformat": 4,
 "nbformat_minor": 5
}
