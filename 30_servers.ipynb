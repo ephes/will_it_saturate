{
 "cells": [
  {
   "cell_type": "code",
   "execution_count": null,
   "id": "automotive-brooks",
   "metadata": {},
   "outputs": [
    {
     "data": {
      "application/javascript": [
       "\n",
       "            setTimeout(function() {\n",
       "                var nbb_cell_id = 1;\n",
       "                var nbb_unformatted_code = \"%load_ext nb_black\";\n",
       "                var nbb_formatted_code = \"%load_ext nb_black\";\n",
       "                var nbb_cells = Jupyter.notebook.get_cells();\n",
       "                for (var i = 0; i < nbb_cells.length; ++i) {\n",
       "                    if (nbb_cells[i].input_prompt_number == nbb_cell_id) {\n",
       "                        if (nbb_cells[i].get_text() == nbb_unformatted_code) {\n",
       "                             nbb_cells[i].set_text(nbb_formatted_code);\n",
       "                        }\n",
       "                        break;\n",
       "                    }\n",
       "                }\n",
       "            }, 500);\n",
       "            "
      ],
      "text/plain": [
       "<IPython.core.display.Javascript object>"
      ]
     },
     "metadata": {},
     "output_type": "display_data"
    }
   ],
   "source": [
    "%load_ext nb_black"
   ]
  },
  {
   "cell_type": "code",
   "execution_count": null,
   "id": "incorporated-ebony",
   "metadata": {},
   "outputs": [
    {
     "data": {
      "application/javascript": [
       "\n",
       "            setTimeout(function() {\n",
       "                var nbb_cell_id = 2;\n",
       "                var nbb_unformatted_code = \"# default_exp servers\";\n",
       "                var nbb_formatted_code = \"# default_exp servers\";\n",
       "                var nbb_cells = Jupyter.notebook.get_cells();\n",
       "                for (var i = 0; i < nbb_cells.length; ++i) {\n",
       "                    if (nbb_cells[i].input_prompt_number == nbb_cell_id) {\n",
       "                        if (nbb_cells[i].get_text() == nbb_unformatted_code) {\n",
       "                             nbb_cells[i].set_text(nbb_formatted_code);\n",
       "                        }\n",
       "                        break;\n",
       "                    }\n",
       "                }\n",
       "            }, 500);\n",
       "            "
      ],
      "text/plain": [
       "<IPython.core.display.Javascript object>"
      ]
     },
     "metadata": {},
     "output_type": "display_data"
    }
   ],
   "source": [
    "# default_exp servers"
   ]
  },
  {
   "cell_type": "markdown",
   "id": "918e7e1f",
   "metadata": {},
   "source": [
    "# Server Registry\n",
    "\n",
    "Just being able to look up a servers class by name. Needed to be able to serialize\n",
    "servers to json or database."
   ]
  },
  {
   "cell_type": "code",
   "execution_count": null,
   "id": "63a44f75",
   "metadata": {},
   "outputs": [
    {
     "data": {
      "application/javascript": [
       "\n",
       "            setTimeout(function() {\n",
       "                var nbb_cell_id = 3;\n",
       "                var nbb_unformatted_code = \"# export\\n\\nfrom pydantic import BaseModel\\n\\n\\nSERVER_CLASS_REGISTRY = {}\\n\\n\\ndef register_server(server_class):\\n    global SERVER_CLASS_REGISTRY\\n    SERVER_CLASS_REGISTRY[server_class.__name__] = server_class\\n    return server_class\\n\\n\\ndef get_server_from_registry(class_name):\\n    return SERVER_CLASS_REGISTRY[class_name]\";\n",
       "                var nbb_formatted_code = \"# export\\n\\nfrom pydantic import BaseModel\\n\\n\\nSERVER_CLASS_REGISTRY = {}\\n\\n\\ndef register_server(server_class):\\n    global SERVER_CLASS_REGISTRY\\n    SERVER_CLASS_REGISTRY[server_class.__name__] = server_class\\n    return server_class\\n\\n\\ndef get_server_from_registry(class_name):\\n    return SERVER_CLASS_REGISTRY[class_name]\";\n",
       "                var nbb_cells = Jupyter.notebook.get_cells();\n",
       "                for (var i = 0; i < nbb_cells.length; ++i) {\n",
       "                    if (nbb_cells[i].input_prompt_number == nbb_cell_id) {\n",
       "                        if (nbb_cells[i].get_text() == nbb_unformatted_code) {\n",
       "                             nbb_cells[i].set_text(nbb_formatted_code);\n",
       "                        }\n",
       "                        break;\n",
       "                    }\n",
       "                }\n",
       "            }, 500);\n",
       "            "
      ],
      "text/plain": [
       "<IPython.core.display.Javascript object>"
      ]
     },
     "metadata": {},
     "output_type": "display_data"
    }
   ],
   "source": [
    "# export\n",
    "\n",
    "from pydantic import BaseModel\n",
    "\n",
    "\n",
    "SERVER_CLASS_REGISTRY = {}\n",
    "\n",
    "\n",
    "def register_server(server_class):\n",
    "    global SERVER_CLASS_REGISTRY\n",
    "    SERVER_CLASS_REGISTRY[server_class.__name__] = server_class\n",
    "    return server_class\n",
    "\n",
    "\n",
    "def get_server_from_registry(class_name):\n",
    "    return SERVER_CLASS_REGISTRY[class_name]"
   ]
  },
  {
   "cell_type": "code",
   "execution_count": null,
   "id": "fc0531aa",
   "metadata": {},
   "outputs": [
    {
     "data": {
      "application/javascript": [
       "\n",
       "            setTimeout(function() {\n",
       "                var nbb_cell_id = 4;\n",
       "                var nbb_unformatted_code = \"@register_server\\nclass StubServer(BaseModel):\\n    name: str = \\\"stub server\\\"\";\n",
       "                var nbb_formatted_code = \"@register_server\\nclass StubServer(BaseModel):\\n    name: str = \\\"stub server\\\"\";\n",
       "                var nbb_cells = Jupyter.notebook.get_cells();\n",
       "                for (var i = 0; i < nbb_cells.length; ++i) {\n",
       "                    if (nbb_cells[i].input_prompt_number == nbb_cell_id) {\n",
       "                        if (nbb_cells[i].get_text() == nbb_unformatted_code) {\n",
       "                             nbb_cells[i].set_text(nbb_formatted_code);\n",
       "                        }\n",
       "                        break;\n",
       "                    }\n",
       "                }\n",
       "            }, 500);\n",
       "            "
      ],
      "text/plain": [
       "<IPython.core.display.Javascript object>"
      ]
     },
     "metadata": {},
     "output_type": "display_data"
    }
   ],
   "source": [
    "@register_server\n",
    "class StubServer(BaseModel):\n",
    "    name: str = \"stub server\""
   ]
  },
  {
   "cell_type": "code",
   "execution_count": null,
   "id": "333eb4e5",
   "metadata": {},
   "outputs": [
    {
     "data": {
      "text/plain": [
       "{'StubServer': __main__.StubServer}"
      ]
     },
     "execution_count": null,
     "metadata": {},
     "output_type": "execute_result"
    },
    {
     "data": {
      "application/javascript": [
       "\n",
       "            setTimeout(function() {\n",
       "                var nbb_cell_id = 5;\n",
       "                var nbb_unformatted_code = \"SERVER_CLASS_REGISTRY\";\n",
       "                var nbb_formatted_code = \"SERVER_CLASS_REGISTRY\";\n",
       "                var nbb_cells = Jupyter.notebook.get_cells();\n",
       "                for (var i = 0; i < nbb_cells.length; ++i) {\n",
       "                    if (nbb_cells[i].input_prompt_number == nbb_cell_id) {\n",
       "                        if (nbb_cells[i].get_text() == nbb_unformatted_code) {\n",
       "                             nbb_cells[i].set_text(nbb_formatted_code);\n",
       "                        }\n",
       "                        break;\n",
       "                    }\n",
       "                }\n",
       "            }, 500);\n",
       "            "
      ],
      "text/plain": [
       "<IPython.core.display.Javascript object>"
      ]
     },
     "metadata": {},
     "output_type": "display_data"
    }
   ],
   "source": [
    "SERVER_CLASS_REGISTRY"
   ]
  },
  {
   "cell_type": "markdown",
   "id": "bde3bda7",
   "metadata": {},
   "source": [
    "## Usage"
   ]
  },
  {
   "cell_type": "code",
   "execution_count": null,
   "id": "1466831e",
   "metadata": {},
   "outputs": [
    {
     "data": {
      "application/javascript": [
       "\n",
       "            setTimeout(function() {\n",
       "                var nbb_cell_id = 6;\n",
       "                var nbb_unformatted_code = \"server = StubServer(name=\\\"foobar\\\")\\nserver_class = get_server_from_registry(server.__class__.__name__)\";\n",
       "                var nbb_formatted_code = \"server = StubServer(name=\\\"foobar\\\")\\nserver_class = get_server_from_registry(server.__class__.__name__)\";\n",
       "                var nbb_cells = Jupyter.notebook.get_cells();\n",
       "                for (var i = 0; i < nbb_cells.length; ++i) {\n",
       "                    if (nbb_cells[i].input_prompt_number == nbb_cell_id) {\n",
       "                        if (nbb_cells[i].get_text() == nbb_unformatted_code) {\n",
       "                             nbb_cells[i].set_text(nbb_formatted_code);\n",
       "                        }\n",
       "                        break;\n",
       "                    }\n",
       "                }\n",
       "            }, 500);\n",
       "            "
      ],
      "text/plain": [
       "<IPython.core.display.Javascript object>"
      ]
     },
     "metadata": {},
     "output_type": "display_data"
    }
   ],
   "source": [
    "server = StubServer(name=\"foobar\")\n",
    "server_class = get_server_from_registry(server.__class__.__name__)"
   ]
  },
  {
   "cell_type": "markdown",
   "id": "6b33fabb",
   "metadata": {},
   "source": [
    "## Tests"
   ]
  },
  {
   "cell_type": "code",
   "execution_count": null,
   "id": "4d165ff7",
   "metadata": {},
   "outputs": [
    {
     "data": {
      "application/javascript": [
       "\n",
       "            setTimeout(function() {\n",
       "                var nbb_cell_id = 7;\n",
       "                var nbb_unformatted_code = \"assert StubServer == get_server_from_registry(str(server.__class__.__name__))\";\n",
       "                var nbb_formatted_code = \"assert StubServer == get_server_from_registry(str(server.__class__.__name__))\";\n",
       "                var nbb_cells = Jupyter.notebook.get_cells();\n",
       "                for (var i = 0; i < nbb_cells.length; ++i) {\n",
       "                    if (nbb_cells[i].input_prompt_number == nbb_cell_id) {\n",
       "                        if (nbb_cells[i].get_text() == nbb_unformatted_code) {\n",
       "                             nbb_cells[i].set_text(nbb_formatted_code);\n",
       "                        }\n",
       "                        break;\n",
       "                    }\n",
       "                }\n",
       "            }, 500);\n",
       "            "
      ],
      "text/plain": [
       "<IPython.core.display.Javascript object>"
      ]
     },
     "metadata": {},
     "output_type": "display_data"
    }
   ],
   "source": [
    "assert StubServer == get_server_from_registry(str(server.__class__.__name__))"
   ]
  },
  {
   "cell_type": "code",
   "execution_count": null,
   "id": "3b27527f",
   "metadata": {},
   "outputs": [
    {
     "data": {
      "application/javascript": [
       "\n",
       "            setTimeout(function() {\n",
       "                var nbb_cell_id = 8;\n",
       "                var nbb_unformatted_code = \"server = StubServer(name=\\\"foobar\\\")\\nassert get_server_from_registry(\\\"StubServer\\\") == StubServer\";\n",
       "                var nbb_formatted_code = \"server = StubServer(name=\\\"foobar\\\")\\nassert get_server_from_registry(\\\"StubServer\\\") == StubServer\";\n",
       "                var nbb_cells = Jupyter.notebook.get_cells();\n",
       "                for (var i = 0; i < nbb_cells.length; ++i) {\n",
       "                    if (nbb_cells[i].input_prompt_number == nbb_cell_id) {\n",
       "                        if (nbb_cells[i].get_text() == nbb_unformatted_code) {\n",
       "                             nbb_cells[i].set_text(nbb_formatted_code);\n",
       "                        }\n",
       "                        break;\n",
       "                    }\n",
       "                }\n",
       "            }, 500);\n",
       "            "
      ],
      "text/plain": [
       "<IPython.core.display.Javascript object>"
      ]
     },
     "metadata": {},
     "output_type": "display_data"
    }
   ],
   "source": [
    "server = StubServer(name=\"foobar\")\n",
    "assert get_server_from_registry(\"StubServer\") == StubServer"
   ]
  },
  {
   "cell_type": "markdown",
   "id": "030b1ce9",
   "metadata": {},
   "source": [
    "# Servers"
   ]
  },
  {
   "cell_type": "code",
   "execution_count": null,
   "id": "political-traveler",
   "metadata": {},
   "outputs": [
    {
     "data": {
      "application/javascript": [
       "\n",
       "            setTimeout(function() {\n",
       "                var nbb_cell_id = 9;\n",
       "                var nbb_unformatted_code = \"# export\\n\\nimport time\\nimport subprocess\\n\\nfrom will_it_saturate.files import BenchmarkFile\";\n",
       "                var nbb_formatted_code = \"# export\\n\\nimport time\\nimport subprocess\\n\\nfrom will_it_saturate.files import BenchmarkFile\";\n",
       "                var nbb_cells = Jupyter.notebook.get_cells();\n",
       "                for (var i = 0; i < nbb_cells.length; ++i) {\n",
       "                    if (nbb_cells[i].input_prompt_number == nbb_cell_id) {\n",
       "                        if (nbb_cells[i].get_text() == nbb_unformatted_code) {\n",
       "                             nbb_cells[i].set_text(nbb_formatted_code);\n",
       "                        }\n",
       "                        break;\n",
       "                    }\n",
       "                }\n",
       "            }, 500);\n",
       "            "
      ],
      "text/plain": [
       "<IPython.core.display.Javascript object>"
      ]
     },
     "metadata": {},
     "output_type": "display_data"
    }
   ],
   "source": [
    "# export\n",
    "\n",
    "import time\n",
    "import subprocess\n",
    "\n",
    "from will_it_saturate.files import BenchmarkFile"
   ]
  },
  {
   "cell_type": "markdown",
   "id": "concerned-least",
   "metadata": {},
   "source": [
    "# Servers"
   ]
  },
  {
   "cell_type": "code",
   "execution_count": null,
   "id": "competitive-rogers",
   "metadata": {},
   "outputs": [
    {
     "data": {
      "application/javascript": [
       "\n",
       "            setTimeout(function() {\n",
       "                var nbb_cell_id = 14;\n",
       "                var nbb_unformatted_code = \"# export\\n\\n\\n@register_server\\nclass BaseServer(BaseModel):\\n    protocol: str = \\\"http\\\"\\n    name: str = \\\"base_server\\\"\\n    host: str = \\\"localhost\\\"\\n    port: int = 8000\\n\\n    def start(self):\\n        pass\\n\\n    def stop(self):\\n        pass\\n\\n    def is_running(self):\\n        return False\\n\\n    def file_to_url(self, file: BenchmarkFile):\\n        return f\\\"{self.protocol}://{self.host}:{self.port}/{file.path}\\\"\\n\\n    def params(self):\\n        return {\\n            \\\"class_name\\\": self.__class__.__name__,\\n            **self.dict(),\\n        }\";\n",
       "                var nbb_formatted_code = \"# export\\n\\n\\n@register_server\\nclass BaseServer(BaseModel):\\n    protocol: str = \\\"http\\\"\\n    name: str = \\\"base_server\\\"\\n    host: str = \\\"localhost\\\"\\n    port: int = 8000\\n\\n    def start(self):\\n        pass\\n\\n    def stop(self):\\n        pass\\n\\n    def is_running(self):\\n        return False\\n\\n    def file_to_url(self, file: BenchmarkFile):\\n        return f\\\"{self.protocol}://{self.host}:{self.port}/{file.path}\\\"\\n\\n    def params(self):\\n        return {\\n            \\\"class_name\\\": self.__class__.__name__,\\n            **self.dict(),\\n        }\";\n",
       "                var nbb_cells = Jupyter.notebook.get_cells();\n",
       "                for (var i = 0; i < nbb_cells.length; ++i) {\n",
       "                    if (nbb_cells[i].input_prompt_number == nbb_cell_id) {\n",
       "                        if (nbb_cells[i].get_text() == nbb_unformatted_code) {\n",
       "                             nbb_cells[i].set_text(nbb_formatted_code);\n",
       "                        }\n",
       "                        break;\n",
       "                    }\n",
       "                }\n",
       "            }, 500);\n",
       "            "
      ],
      "text/plain": [
       "<IPython.core.display.Javascript object>"
      ]
     },
     "metadata": {},
     "output_type": "display_data"
    }
   ],
   "source": [
    "# export\n",
    "\n",
    "\n",
    "@register_server\n",
    "class BaseServer(BaseModel):\n",
    "    protocol: str = \"http\"\n",
    "    name: str = \"base_server\"\n",
    "    host: str = \"localhost\"\n",
    "    port: int = 8000\n",
    "\n",
    "    def start(self):\n",
    "        pass\n",
    "\n",
    "    def stop(self):\n",
    "        pass\n",
    "\n",
    "    def is_running(self):\n",
    "        return False\n",
    "\n",
    "    def file_to_url(self, file: BenchmarkFile):\n",
    "        return f\"{self.protocol}://{self.host}:{self.port}/{file.path}\"\n",
    "\n",
    "    def params(self):\n",
    "        return {\n",
    "            \"class_name\": self.__class__.__name__,\n",
    "            **self.dict(),\n",
    "        }"
   ]
  },
  {
   "cell_type": "markdown",
   "id": "special-milan",
   "metadata": {},
   "source": [
    "## Usage"
   ]
  },
  {
   "cell_type": "code",
   "execution_count": null,
   "id": "naughty-association",
   "metadata": {},
   "outputs": [
    {
     "data": {
      "application/javascript": [
       "\n",
       "            setTimeout(function() {\n",
       "                var nbb_cell_id = 15;\n",
       "                var nbb_unformatted_code = \"name = \\\"Nginx Docker\\\"\\nserver = BaseServer(name=name)\";\n",
       "                var nbb_formatted_code = \"name = \\\"Nginx Docker\\\"\\nserver = BaseServer(name=name)\";\n",
       "                var nbb_cells = Jupyter.notebook.get_cells();\n",
       "                for (var i = 0; i < nbb_cells.length; ++i) {\n",
       "                    if (nbb_cells[i].input_prompt_number == nbb_cell_id) {\n",
       "                        if (nbb_cells[i].get_text() == nbb_unformatted_code) {\n",
       "                             nbb_cells[i].set_text(nbb_formatted_code);\n",
       "                        }\n",
       "                        break;\n",
       "                    }\n",
       "                }\n",
       "            }, 500);\n",
       "            "
      ],
      "text/plain": [
       "<IPython.core.display.Javascript object>"
      ]
     },
     "metadata": {},
     "output_type": "display_data"
    }
   ],
   "source": [
    "name = \"Nginx Docker\"\n",
    "server = BaseServer(name=name)"
   ]
  },
  {
   "cell_type": "markdown",
   "id": "verified-theme",
   "metadata": {},
   "source": [
    "## Tests"
   ]
  },
  {
   "cell_type": "code",
   "execution_count": null,
   "id": "congressional-definition",
   "metadata": {},
   "outputs": [
    {
     "data": {
      "application/javascript": [
       "\n",
       "            setTimeout(function() {\n",
       "                var nbb_cell_id = 18;\n",
       "                var nbb_unformatted_code = \"name = \\\"Nginx Docker\\\"\\nserver = BaseServer(name=name)\\n\\nassert server.name == name\\nassert server.start() is None\\nassert server.stop() is None\\nassert server.host == \\\"localhost\\\"\";\n",
       "                var nbb_formatted_code = \"name = \\\"Nginx Docker\\\"\\nserver = BaseServer(name=name)\\n\\nassert server.name == name\\nassert server.start() is None\\nassert server.stop() is None\\nassert server.host == \\\"localhost\\\"\";\n",
       "                var nbb_cells = Jupyter.notebook.get_cells();\n",
       "                for (var i = 0; i < nbb_cells.length; ++i) {\n",
       "                    if (nbb_cells[i].input_prompt_number == nbb_cell_id) {\n",
       "                        if (nbb_cells[i].get_text() == nbb_unformatted_code) {\n",
       "                             nbb_cells[i].set_text(nbb_formatted_code);\n",
       "                        }\n",
       "                        break;\n",
       "                    }\n",
       "                }\n",
       "            }, 500);\n",
       "            "
      ],
      "text/plain": [
       "<IPython.core.display.Javascript object>"
      ]
     },
     "metadata": {},
     "output_type": "display_data"
    }
   ],
   "source": [
    "name = \"Nginx Docker\"\n",
    "server = BaseServer(name=name)\n",
    "\n",
    "assert server.name == name\n",
    "assert server.start() is None\n",
    "assert server.stop() is None\n",
    "assert server.host == \"localhost\""
   ]
  },
  {
   "cell_type": "code",
   "execution_count": null,
   "id": "direct-discovery",
   "metadata": {},
   "outputs": [
    {
     "data": {
      "application/javascript": [
       "\n",
       "            setTimeout(function() {\n",
       "                var nbb_cell_id = 19;\n",
       "                var nbb_unformatted_code = \"file = BenchmarkFile(number=1, base_path=\\\"foobar\\\", size=123)\\nserver = BaseServer(name=\\\"test server\\\")\\nassert \\\"http://localhost:8000/data/foobar/1\\\" == server.file_to_url(file)\";\n",
       "                var nbb_formatted_code = \"file = BenchmarkFile(number=1, base_path=\\\"foobar\\\", size=123)\\nserver = BaseServer(name=\\\"test server\\\")\\nassert \\\"http://localhost:8000/data/foobar/1\\\" == server.file_to_url(file)\";\n",
       "                var nbb_cells = Jupyter.notebook.get_cells();\n",
       "                for (var i = 0; i < nbb_cells.length; ++i) {\n",
       "                    if (nbb_cells[i].input_prompt_number == nbb_cell_id) {\n",
       "                        if (nbb_cells[i].get_text() == nbb_unformatted_code) {\n",
       "                             nbb_cells[i].set_text(nbb_formatted_code);\n",
       "                        }\n",
       "                        break;\n",
       "                    }\n",
       "                }\n",
       "            }, 500);\n",
       "            "
      ],
      "text/plain": [
       "<IPython.core.display.Javascript object>"
      ]
     },
     "metadata": {},
     "output_type": "display_data"
    }
   ],
   "source": [
    "file = BenchmarkFile(number=1, base_path=\"foobar\", size=123)\n",
    "server = BaseServer(name=\"test server\")\n",
    "assert \"http://localhost:8000/data/foobar/1\" == server.file_to_url(file)"
   ]
  },
  {
   "cell_type": "code",
   "execution_count": null,
   "id": "fb989c1e",
   "metadata": {},
   "outputs": [
    {
     "data": {
      "application/javascript": [
       "\n",
       "            setTimeout(function() {\n",
       "                var nbb_cell_id = 22;\n",
       "                var nbb_unformatted_code = \"assert \\\"class_name\\\" in server.params()\";\n",
       "                var nbb_formatted_code = \"assert \\\"class_name\\\" in server.params()\";\n",
       "                var nbb_cells = Jupyter.notebook.get_cells();\n",
       "                for (var i = 0; i < nbb_cells.length; ++i) {\n",
       "                    if (nbb_cells[i].input_prompt_number == nbb_cell_id) {\n",
       "                        if (nbb_cells[i].get_text() == nbb_unformatted_code) {\n",
       "                             nbb_cells[i].set_text(nbb_formatted_code);\n",
       "                        }\n",
       "                        break;\n",
       "                    }\n",
       "                }\n",
       "            }, 500);\n",
       "            "
      ],
      "text/plain": [
       "<IPython.core.display.Javascript object>"
      ]
     },
     "metadata": {},
     "output_type": "display_data"
    }
   ],
   "source": [
    "assert \"class_name\" in server.params()"
   ]
  },
  {
   "cell_type": "markdown",
   "id": "electronic-tampa",
   "metadata": {},
   "source": [
    "# Export"
   ]
  },
  {
   "cell_type": "code",
   "execution_count": null,
   "id": "cooked-image",
   "metadata": {},
   "outputs": [
    {
     "name": "stdout",
     "output_type": "stream",
     "text": [
      "Converted 00_host.ipynb.\n",
      "Converted 01_django_views.ipynb.\n",
      "Converted 01_fastapi_views.ipynb.\n",
      "Converted 01_file.ipynb.\n",
      "Converted 05_epochs.ipynb.\n",
      "Converted 06_results.ipynb.\n",
      "Converted 25_core.ipynb.\n",
      "Converted 27_control_server.ipynb.\n",
      "Converted 28_control_client.ipynb.\n",
      "Converted 29_control_cli.ipynb.\n",
      "Converted 30_servers.ipynb.\n",
      "Converted 31_local_servers.ipynb.\n",
      "Converted 32_docker_servers.ipynb.\n",
      "Converted 40_clients.ipynb.\n",
      "Converted 41_benchmark_clients.ipynb.\n",
      "Converted 70_repositories.ipynb.\n",
      "Converted 71_sqlite_repository.ipynb.\n",
      "Converted 90_benchmark_without_benchmark.ipynb.\n",
      "Converted 98_run_benchmark.ipynb.\n",
      "Converted index.ipynb.\n"
     ]
    },
    {
     "data": {
      "application/javascript": [
       "\n",
       "            setTimeout(function() {\n",
       "                var nbb_cell_id = 23;\n",
       "                var nbb_unformatted_code = \"# dont_test\\n\\nfrom nbdev.export import notebook2script\\n\\nnotebook2script()\";\n",
       "                var nbb_formatted_code = \"# dont_test\\n\\nfrom nbdev.export import notebook2script\\n\\nnotebook2script()\";\n",
       "                var nbb_cells = Jupyter.notebook.get_cells();\n",
       "                for (var i = 0; i < nbb_cells.length; ++i) {\n",
       "                    if (nbb_cells[i].input_prompt_number == nbb_cell_id) {\n",
       "                        if (nbb_cells[i].get_text() == nbb_unformatted_code) {\n",
       "                             nbb_cells[i].set_text(nbb_formatted_code);\n",
       "                        }\n",
       "                        break;\n",
       "                    }\n",
       "                }\n",
       "            }, 500);\n",
       "            "
      ],
      "text/plain": [
       "<IPython.core.display.Javascript object>"
      ]
     },
     "metadata": {},
     "output_type": "display_data"
    }
   ],
   "source": [
    "# dont_test\n",
    "\n",
    "from nbdev.export import notebook2script\n",
    "\n",
    "notebook2script()"
   ]
  }
 ],
 "metadata": {
  "kernelspec": {
   "display_name": "Python 3",
   "language": "python",
   "name": "python3"
  }
 },
 "nbformat": 4,
 "nbformat_minor": 5
}
