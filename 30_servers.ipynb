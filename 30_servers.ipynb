{
 "cells": [
  {
   "cell_type": "code",
   "execution_count": null,
   "id": "automotive-brooks",
   "metadata": {},
   "outputs": [
    {
     "data": {
      "application/javascript": [
       "\n",
       "            setTimeout(function() {\n",
       "                var nbb_cell_id = 1;\n",
       "                var nbb_unformatted_code = \"%load_ext nb_black\";\n",
       "                var nbb_formatted_code = \"%load_ext nb_black\";\n",
       "                var nbb_cells = Jupyter.notebook.get_cells();\n",
       "                for (var i = 0; i < nbb_cells.length; ++i) {\n",
       "                    if (nbb_cells[i].input_prompt_number == nbb_cell_id) {\n",
       "                        if (nbb_cells[i].get_text() == nbb_unformatted_code) {\n",
       "                             nbb_cells[i].set_text(nbb_formatted_code);\n",
       "                        }\n",
       "                        break;\n",
       "                    }\n",
       "                }\n",
       "            }, 500);\n",
       "            "
      ],
      "text/plain": [
       "<IPython.core.display.Javascript object>"
      ]
     },
     "metadata": {},
     "output_type": "display_data"
    }
   ],
   "source": [
    "%load_ext nb_black"
   ]
  },
  {
   "cell_type": "code",
   "execution_count": null,
   "id": "incorporated-ebony",
   "metadata": {},
   "outputs": [
    {
     "data": {
      "application/javascript": [
       "\n",
       "            setTimeout(function() {\n",
       "                var nbb_cell_id = 2;\n",
       "                var nbb_unformatted_code = \"# default_exp servers\";\n",
       "                var nbb_formatted_code = \"# default_exp servers\";\n",
       "                var nbb_cells = Jupyter.notebook.get_cells();\n",
       "                for (var i = 0; i < nbb_cells.length; ++i) {\n",
       "                    if (nbb_cells[i].input_prompt_number == nbb_cell_id) {\n",
       "                        if (nbb_cells[i].get_text() == nbb_unformatted_code) {\n",
       "                             nbb_cells[i].set_text(nbb_formatted_code);\n",
       "                        }\n",
       "                        break;\n",
       "                    }\n",
       "                }\n",
       "            }, 500);\n",
       "            "
      ],
      "text/plain": [
       "<IPython.core.display.Javascript object>"
      ]
     },
     "metadata": {},
     "output_type": "display_data"
    }
   ],
   "source": [
    "# default_exp servers"
   ]
  },
  {
   "cell_type": "code",
   "execution_count": null,
   "id": "political-traveler",
   "metadata": {},
   "outputs": [
    {
     "data": {
      "application/javascript": [
       "\n",
       "            setTimeout(function() {\n",
       "                var nbb_cell_id = 3;\n",
       "                var nbb_unformatted_code = \"# export\\n\\nfrom pydantic import BaseModel\\n\\nfrom will_it_saturate.files import BenchmarkFile\";\n",
       "                var nbb_formatted_code = \"# export\\n\\nfrom pydantic import BaseModel\\n\\nfrom will_it_saturate.files import BenchmarkFile\";\n",
       "                var nbb_cells = Jupyter.notebook.get_cells();\n",
       "                for (var i = 0; i < nbb_cells.length; ++i) {\n",
       "                    if (nbb_cells[i].input_prompt_number == nbb_cell_id) {\n",
       "                        if (nbb_cells[i].get_text() == nbb_unformatted_code) {\n",
       "                             nbb_cells[i].set_text(nbb_formatted_code);\n",
       "                        }\n",
       "                        break;\n",
       "                    }\n",
       "                }\n",
       "            }, 500);\n",
       "            "
      ],
      "text/plain": [
       "<IPython.core.display.Javascript object>"
      ]
     },
     "metadata": {},
     "output_type": "display_data"
    }
   ],
   "source": [
    "# export\n",
    "\n",
    "import time\n",
    "import subprocess\n",
    "\n",
    "from pydantic import BaseModel\n",
    "\n",
    "from will_it_saturate.files import BenchmarkFile"
   ]
  },
  {
   "cell_type": "markdown",
   "id": "concerned-least",
   "metadata": {},
   "source": [
    "# Servers"
   ]
  },
  {
   "cell_type": "code",
   "execution_count": null,
   "id": "competitive-rogers",
   "metadata": {},
   "outputs": [
    {
     "data": {
      "application/javascript": [
       "\n",
       "            setTimeout(function() {\n",
       "                var nbb_cell_id = 4;\n",
       "                var nbb_unformatted_code = \"# export\\n\\n\\nclass BaseServer(BaseModel):\\n    protocol: str = \\\"http\\\"\\n    name: str = \\\"base_server\\\"\\n    host: str = \\\"localhost\\\"\\n    port: int = 8000\\n\\n    def start(self):\\n        pass\\n\\n    def stop(self):\\n        pass\\n\\n    def is_running(self):\\n        return False\\n\\n    def file_to_url(self, file: BenchmarkFile):\\n        return f\\\"{self.protocol}://{self.host}:{self.port}/{file.path}\\\"\";\n",
       "                var nbb_formatted_code = \"# export\\n\\n\\nclass BaseServer(BaseModel):\\n    protocol: str = \\\"http\\\"\\n    name: str = \\\"base_server\\\"\\n    host: str = \\\"localhost\\\"\\n    port: int = 8000\\n\\n    def start(self):\\n        pass\\n\\n    def stop(self):\\n        pass\\n\\n    def is_running(self):\\n        return False\\n\\n    def file_to_url(self, file: BenchmarkFile):\\n        return f\\\"{self.protocol}://{self.host}:{self.port}/{file.path}\\\"\";\n",
       "                var nbb_cells = Jupyter.notebook.get_cells();\n",
       "                for (var i = 0; i < nbb_cells.length; ++i) {\n",
       "                    if (nbb_cells[i].input_prompt_number == nbb_cell_id) {\n",
       "                        if (nbb_cells[i].get_text() == nbb_unformatted_code) {\n",
       "                             nbb_cells[i].set_text(nbb_formatted_code);\n",
       "                        }\n",
       "                        break;\n",
       "                    }\n",
       "                }\n",
       "            }, 500);\n",
       "            "
      ],
      "text/plain": [
       "<IPython.core.display.Javascript object>"
      ]
     },
     "metadata": {},
     "output_type": "display_data"
    }
   ],
   "source": [
    "# export\n",
    "\n",
    "\n",
    "class BaseServer(BaseModel):\n",
    "    protocol: str = \"http\"\n",
    "    name: str = \"base_server\"\n",
    "    host: str = \"localhost\"\n",
    "    port: int = 8000\n",
    "\n",
    "    def start(self):\n",
    "        pass\n",
    "\n",
    "    def stop(self):\n",
    "        pass\n",
    "\n",
    "    def is_running(self):\n",
    "        return False\n",
    "\n",
    "    def file_to_url(self, file: BenchmarkFile):\n",
    "        return f\"{self.protocol}://{self.host}:{self.port}/{file.path}\""
   ]
  },
  {
   "cell_type": "markdown",
   "id": "special-milan",
   "metadata": {},
   "source": [
    "## Usage"
   ]
  },
  {
   "cell_type": "code",
   "execution_count": null,
   "id": "naughty-association",
   "metadata": {},
   "outputs": [
    {
     "data": {
      "application/javascript": [
       "\n",
       "            setTimeout(function() {\n",
       "                var nbb_cell_id = 5;\n",
       "                var nbb_unformatted_code = \"name = \\\"Nginx Docker\\\"\\nserver = BaseServer(name=name)\";\n",
       "                var nbb_formatted_code = \"name = \\\"Nginx Docker\\\"\\nserver = BaseServer(name=name)\";\n",
       "                var nbb_cells = Jupyter.notebook.get_cells();\n",
       "                for (var i = 0; i < nbb_cells.length; ++i) {\n",
       "                    if (nbb_cells[i].input_prompt_number == nbb_cell_id) {\n",
       "                        if (nbb_cells[i].get_text() == nbb_unformatted_code) {\n",
       "                             nbb_cells[i].set_text(nbb_formatted_code);\n",
       "                        }\n",
       "                        break;\n",
       "                    }\n",
       "                }\n",
       "            }, 500);\n",
       "            "
      ],
      "text/plain": [
       "<IPython.core.display.Javascript object>"
      ]
     },
     "metadata": {},
     "output_type": "display_data"
    }
   ],
   "source": [
    "name = \"Nginx Docker\"\n",
    "server = BaseServer(name=name)"
   ]
  },
  {
   "cell_type": "markdown",
   "id": "verified-theme",
   "metadata": {},
   "source": [
    "## Tests"
   ]
  },
  {
   "cell_type": "code",
   "execution_count": null,
   "id": "congressional-definition",
   "metadata": {},
   "outputs": [
    {
     "data": {
      "application/javascript": [
       "\n",
       "            setTimeout(function() {\n",
       "                var nbb_cell_id = 6;\n",
       "                var nbb_unformatted_code = \"name = \\\"Nginx Docker\\\"\\nserver = BaseServer(name=name)\\n\\nassert server.name == name\\nassert server.start() is None\\nassert server.stop() is None\\nassert server.host == \\\"localhost\\\"\";\n",
       "                var nbb_formatted_code = \"name = \\\"Nginx Docker\\\"\\nserver = BaseServer(name=name)\\n\\nassert server.name == name\\nassert server.start() is None\\nassert server.stop() is None\\nassert server.host == \\\"localhost\\\"\";\n",
       "                var nbb_cells = Jupyter.notebook.get_cells();\n",
       "                for (var i = 0; i < nbb_cells.length; ++i) {\n",
       "                    if (nbb_cells[i].input_prompt_number == nbb_cell_id) {\n",
       "                        if (nbb_cells[i].get_text() == nbb_unformatted_code) {\n",
       "                             nbb_cells[i].set_text(nbb_formatted_code);\n",
       "                        }\n",
       "                        break;\n",
       "                    }\n",
       "                }\n",
       "            }, 500);\n",
       "            "
      ],
      "text/plain": [
       "<IPython.core.display.Javascript object>"
      ]
     },
     "metadata": {},
     "output_type": "display_data"
    }
   ],
   "source": [
    "name = \"Nginx Docker\"\n",
    "server = BaseServer(name=name)\n",
    "\n",
    "assert server.name == name\n",
    "assert server.start() is None\n",
    "assert server.stop() is None\n",
    "assert server.host == \"localhost\""
   ]
  },
  {
   "cell_type": "code",
   "execution_count": null,
   "id": "direct-discovery",
   "metadata": {},
   "outputs": [
    {
     "data": {
      "application/javascript": [
       "\n",
       "            setTimeout(function() {\n",
       "                var nbb_cell_id = 7;\n",
       "                var nbb_unformatted_code = \"file = BenchmarkFile(number=1, base_path=\\\"foobar\\\", size=123)\\nserver = BaseServer(name=\\\"test server\\\")\\nassert \\\"http://localhost:8000/data/foobar/1\\\" == server.file_to_url(file)\";\n",
       "                var nbb_formatted_code = \"file = BenchmarkFile(number=1, base_path=\\\"foobar\\\", size=123)\\nserver = BaseServer(name=\\\"test server\\\")\\nassert \\\"http://localhost:8000/data/foobar/1\\\" == server.file_to_url(file)\";\n",
       "                var nbb_cells = Jupyter.notebook.get_cells();\n",
       "                for (var i = 0; i < nbb_cells.length; ++i) {\n",
       "                    if (nbb_cells[i].input_prompt_number == nbb_cell_id) {\n",
       "                        if (nbb_cells[i].get_text() == nbb_unformatted_code) {\n",
       "                             nbb_cells[i].set_text(nbb_formatted_code);\n",
       "                        }\n",
       "                        break;\n",
       "                    }\n",
       "                }\n",
       "            }, 500);\n",
       "            "
      ],
      "text/plain": [
       "<IPython.core.display.Javascript object>"
      ]
     },
     "metadata": {},
     "output_type": "display_data"
    }
   ],
   "source": [
    "file = BenchmarkFile(number=1, base_path=\"foobar\", size=123)\n",
    "server = BaseServer(name=\"test server\")\n",
    "assert \"http://localhost:8000/data/foobar/1\" == server.file_to_url(file)"
   ]
  },
  {
   "cell_type": "markdown",
   "id": "electronic-tampa",
   "metadata": {},
   "source": [
    "# Export"
   ]
  },
  {
   "cell_type": "code",
   "execution_count": null,
   "id": "cooked-image",
   "metadata": {},
   "outputs": [
    {
     "name": "stdout",
     "output_type": "stream",
     "text": [
      "Converted 00_host.ipynb.\n",
      "Converted 01_django_views.ipynb.\n",
      "Converted 01_fastapi_views.ipynb.\n",
      "Converted 01_file.ipynb.\n",
      "Converted 02_docker_servers.ipynb.\n",
      "Converted 02_local_servers.ipynb.\n",
      "Converted 03_servers.ipynb.\n",
      "Converted 04_clients.ipynb.\n",
      "Converted 05_epochs.ipynb.\n",
      "Converted 05_run_benchmark.ipynb.\n",
      "Converted 06_results.ipynb.\n",
      "Converted 25_core.ipynb.\n",
      "Converted 27_control_server.ipynb.\n",
      "Converted 28_control_client.ipynb.\n",
      "Converted 30_benchmark_clients.ipynb.\n",
      "Converted 40_persistence.ipynb.\n",
      "Converted 60_benchmark_without_benchmark.ipynb.\n",
      "Converted Untitled.ipynb.\n",
      "Converted index.ipynb.\n",
      "Converted spacy_test.ipynb.\n"
     ]
    },
    {
     "data": {
      "application/javascript": [
       "\n",
       "            setTimeout(function() {\n",
       "                var nbb_cell_id = 8;\n",
       "                var nbb_unformatted_code = \"# dont_test\\n\\nfrom nbdev.export import notebook2script\\n\\nnotebook2script()\";\n",
       "                var nbb_formatted_code = \"# dont_test\\n\\nfrom nbdev.export import notebook2script\\n\\nnotebook2script()\";\n",
       "                var nbb_cells = Jupyter.notebook.get_cells();\n",
       "                for (var i = 0; i < nbb_cells.length; ++i) {\n",
       "                    if (nbb_cells[i].input_prompt_number == nbb_cell_id) {\n",
       "                        if (nbb_cells[i].get_text() == nbb_unformatted_code) {\n",
       "                             nbb_cells[i].set_text(nbb_formatted_code);\n",
       "                        }\n",
       "                        break;\n",
       "                    }\n",
       "                }\n",
       "            }, 500);\n",
       "            "
      ],
      "text/plain": [
       "<IPython.core.display.Javascript object>"
      ]
     },
     "metadata": {},
     "output_type": "display_data"
    }
   ],
   "source": [
    "# dont_test\n",
    "\n",
    "from nbdev.export import notebook2script\n",
    "\n",
    "notebook2script()"
   ]
  }
 ],
 "metadata": {
  "kernelspec": {
   "display_name": "Python 3",
   "language": "python",
   "name": "python3"
  }
 },
 "nbformat": 4,
 "nbformat_minor": 5
}
