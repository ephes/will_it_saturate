{
 "cells": [
  {
   "cell_type": "code",
   "execution_count": null,
   "id": "heavy-scholar",
   "metadata": {},
   "outputs": [
    {
     "data": {
      "application/javascript": [
       "\n",
       "            setTimeout(function() {\n",
       "                var nbb_cell_id = 1;\n",
       "                var nbb_unformatted_code = \"%load_ext nb_black\";\n",
       "                var nbb_formatted_code = \"%load_ext nb_black\";\n",
       "                var nbb_cells = Jupyter.notebook.get_cells();\n",
       "                for (var i = 0; i < nbb_cells.length; ++i) {\n",
       "                    if (nbb_cells[i].input_prompt_number == nbb_cell_id) {\n",
       "                        if (nbb_cells[i].get_text() == nbb_unformatted_code) {\n",
       "                             nbb_cells[i].set_text(nbb_formatted_code);\n",
       "                        }\n",
       "                        break;\n",
       "                    }\n",
       "                }\n",
       "            }, 500);\n",
       "            "
      ],
      "text/plain": [
       "<IPython.core.display.Javascript object>"
      ]
     },
     "metadata": {},
     "output_type": "display_data"
    }
   ],
   "source": [
    "%load_ext nb_black"
   ]
  },
  {
   "cell_type": "code",
   "execution_count": null,
   "id": "sorted-salmon",
   "metadata": {},
   "outputs": [
    {
     "data": {
      "application/javascript": [
       "\n",
       "            setTimeout(function() {\n",
       "                var nbb_cell_id = 2;\n",
       "                var nbb_unformatted_code = \"# default_exp hosts\";\n",
       "                var nbb_formatted_code = \"# default_exp hosts\";\n",
       "                var nbb_cells = Jupyter.notebook.get_cells();\n",
       "                for (var i = 0; i < nbb_cells.length; ++i) {\n",
       "                    if (nbb_cells[i].input_prompt_number == nbb_cell_id) {\n",
       "                        if (nbb_cells[i].get_text() == nbb_unformatted_code) {\n",
       "                             nbb_cells[i].set_text(nbb_formatted_code);\n",
       "                        }\n",
       "                        break;\n",
       "                    }\n",
       "                }\n",
       "            }, 500);\n",
       "            "
      ],
      "text/plain": [
       "<IPython.core.display.Javascript object>"
      ]
     },
     "metadata": {},
     "output_type": "display_data"
    }
   ],
   "source": [
    "# default_exp hosts"
   ]
  },
  {
   "cell_type": "markdown",
   "id": "corporate-importance",
   "metadata": {},
   "source": [
    "# Host"
   ]
  },
  {
   "cell_type": "code",
   "execution_count": null,
   "id": "pressing-smith",
   "metadata": {},
   "outputs": [
    {
     "data": {
      "application/javascript": [
       "\n",
       "            setTimeout(function() {\n",
       "                var nbb_cell_id = 3;\n",
       "                var nbb_unformatted_code = \"# export\\n\\nimport cpuinfo\\nimport platform\\nimport subprocess\\n\\nfrom pathlib import Path\\nfrom functools import cache\\n\\nfrom pydantic import BaseModel\\n\\n\\nclass Host(BaseModel):\\n    name: str\\n    port: int\\n\\n\\ndef get_macos_machine_id():\\n    kwargs = {\\\"capture_output\\\": True, \\\"text\\\": True}\\n    output = subprocess.run(\\n        [\\n            \\\"/usr/sbin/system_profiler\\\",\\n            \\\"SPHardwareDataType\\\",\\n        ],\\n        **kwargs,\\n    )\\n    machine_id = None\\n    for line in output.stdout.split(\\\"\\\\n\\\"):\\n        if \\\"Serial Number\\\" in line:\\n            machine_id = line.split()[-1]\\n    return machine_id\\n\\n\\ndef get_linux_machine_id():\\n    machine_id = \\\"linux_dummy\\\"\\n    with Path(\\\"/etc/machine-id\\\").open() as f:\\n        machine_id = f.read().rstrip()\\n    return machine_id\\n\\n\\n@cache\\ndef get_machine_id():\\n    os = platform.platform().lower().split(\\\"-\\\")[0]\\n    os_lookup = {\\\"macos\\\": get_macos_machine_id, \\\"linux\\\": get_linux_machine_id}\\n    return os_lookup[os]()\";\n",
       "                var nbb_formatted_code = \"# export\\n\\nimport cpuinfo\\nimport platform\\nimport subprocess\\n\\nfrom pathlib import Path\\nfrom functools import cache\\n\\nfrom pydantic import BaseModel\\n\\n\\nclass Host(BaseModel):\\n    name: str\\n    port: int\\n\\n\\ndef get_macos_machine_id():\\n    kwargs = {\\\"capture_output\\\": True, \\\"text\\\": True}\\n    output = subprocess.run(\\n        [\\n            \\\"/usr/sbin/system_profiler\\\",\\n            \\\"SPHardwareDataType\\\",\\n        ],\\n        **kwargs,\\n    )\\n    machine_id = None\\n    for line in output.stdout.split(\\\"\\\\n\\\"):\\n        if \\\"Serial Number\\\" in line:\\n            machine_id = line.split()[-1]\\n    return machine_id\\n\\n\\ndef get_linux_machine_id():\\n    machine_id = \\\"linux_dummy\\\"\\n    with Path(\\\"/etc/machine-id\\\").open() as f:\\n        machine_id = f.read().rstrip()\\n    return machine_id\\n\\n\\n@cache\\ndef get_machine_id():\\n    os = platform.platform().lower().split(\\\"-\\\")[0]\\n    os_lookup = {\\\"macos\\\": get_macos_machine_id, \\\"linux\\\": get_linux_machine_id}\\n    return os_lookup[os]()\";\n",
       "                var nbb_cells = Jupyter.notebook.get_cells();\n",
       "                for (var i = 0; i < nbb_cells.length; ++i) {\n",
       "                    if (nbb_cells[i].input_prompt_number == nbb_cell_id) {\n",
       "                        if (nbb_cells[i].get_text() == nbb_unformatted_code) {\n",
       "                             nbb_cells[i].set_text(nbb_formatted_code);\n",
       "                        }\n",
       "                        break;\n",
       "                    }\n",
       "                }\n",
       "            }, 500);\n",
       "            "
      ],
      "text/plain": [
       "<IPython.core.display.Javascript object>"
      ]
     },
     "metadata": {},
     "output_type": "display_data"
    }
   ],
   "source": [
    "# export\n",
    "\n",
    "import cpuinfo\n",
    "import platform\n",
    "import subprocess\n",
    "\n",
    "from pathlib import Path\n",
    "from functools import cache\n",
    "\n",
    "from pydantic import BaseModel\n",
    "\n",
    "\n",
    "class Host(BaseModel):\n",
    "    name: str\n",
    "    port: int\n",
    "\n",
    "\n",
    "def get_macos_machine_id():\n",
    "    kwargs = {\"capture_output\": True, \"text\": True}\n",
    "    output = subprocess.run(\n",
    "        [\n",
    "            \"/usr/sbin/system_profiler\",\n",
    "            \"SPHardwareDataType\",\n",
    "        ],\n",
    "        **kwargs,\n",
    "    )\n",
    "    machine_id = None\n",
    "    for line in output.stdout.split(\"\\n\"):\n",
    "        if \"Serial Number\" in line:\n",
    "            machine_id = line.split()[-1]\n",
    "    return machine_id\n",
    "\n",
    "\n",
    "def get_linux_machine_id():\n",
    "    machine_id = \"linux_dummy\"\n",
    "    with Path(\"/etc/machine-id\").open() as f:\n",
    "        machine_id = f.read().rstrip()\n",
    "    return machine_id\n",
    "\n",
    "\n",
    "@cache\n",
    "def get_machine_id():\n",
    "    os = platform.platform().lower().split(\"-\")[0]\n",
    "    os_lookup = {\"macos\": get_macos_machine_id, \"linux\": get_linux_machine_id}\n",
    "    return os_lookup[os]()"
   ]
  },
  {
   "cell_type": "markdown",
   "id": "parliamentary-mustang",
   "metadata": {},
   "source": [
    "## Usage"
   ]
  },
  {
   "cell_type": "code",
   "execution_count": null,
   "id": "concrete-champion",
   "metadata": {},
   "outputs": [
    {
     "name": "stdout",
     "output_type": "stream",
     "text": [
      "8001\n"
     ]
    },
    {
     "data": {
      "application/javascript": [
       "\n",
       "            setTimeout(function() {\n",
       "                var nbb_cell_id = 4;\n",
       "                var nbb_unformatted_code = \"# dont_test\\n\\nhost = Host(name=\\\"localhost\\\", port=8001)\\nprint(host.port)\";\n",
       "                var nbb_formatted_code = \"# dont_test\\n\\nhost = Host(name=\\\"localhost\\\", port=8001)\\nprint(host.port)\";\n",
       "                var nbb_cells = Jupyter.notebook.get_cells();\n",
       "                for (var i = 0; i < nbb_cells.length; ++i) {\n",
       "                    if (nbb_cells[i].input_prompt_number == nbb_cell_id) {\n",
       "                        if (nbb_cells[i].get_text() == nbb_unformatted_code) {\n",
       "                             nbb_cells[i].set_text(nbb_formatted_code);\n",
       "                        }\n",
       "                        break;\n",
       "                    }\n",
       "                }\n",
       "            }, 500);\n",
       "            "
      ],
      "text/plain": [
       "<IPython.core.display.Javascript object>"
      ]
     },
     "metadata": {},
     "output_type": "display_data"
    }
   ],
   "source": [
    "# dont_test\n",
    "\n",
    "host = Host(name=\"localhost\", port=8001)\n",
    "print(host.port)"
   ]
  },
  {
   "cell_type": "markdown",
   "id": "wireless-myrtle",
   "metadata": {},
   "source": [
    "## Tests"
   ]
  },
  {
   "cell_type": "code",
   "execution_count": null,
   "id": "reserved-pontiac",
   "metadata": {},
   "outputs": [
    {
     "data": {
      "application/javascript": [
       "\n",
       "            setTimeout(function() {\n",
       "                var nbb_cell_id = 5;\n",
       "                var nbb_unformatted_code = \"host = Host(name=\\\"foobar\\\", port=8001)\\nassert host.name == \\\"foobar\\\"\\nassert host.port == 8001\";\n",
       "                var nbb_formatted_code = \"host = Host(name=\\\"foobar\\\", port=8001)\\nassert host.name == \\\"foobar\\\"\\nassert host.port == 8001\";\n",
       "                var nbb_cells = Jupyter.notebook.get_cells();\n",
       "                for (var i = 0; i < nbb_cells.length; ++i) {\n",
       "                    if (nbb_cells[i].input_prompt_number == nbb_cell_id) {\n",
       "                        if (nbb_cells[i].get_text() == nbb_unformatted_code) {\n",
       "                             nbb_cells[i].set_text(nbb_formatted_code);\n",
       "                        }\n",
       "                        break;\n",
       "                    }\n",
       "                }\n",
       "            }, 500);\n",
       "            "
      ],
      "text/plain": [
       "<IPython.core.display.Javascript object>"
      ]
     },
     "metadata": {},
     "output_type": "display_data"
    }
   ],
   "source": [
    "host = Host(name=\"foobar\", port=8001)\n",
    "assert host.name == \"foobar\"\n",
    "assert host.port == 8001"
   ]
  },
  {
   "cell_type": "markdown",
   "id": "46e750ce",
   "metadata": {},
   "source": [
    "# Host Detail"
   ]
  },
  {
   "cell_type": "code",
   "execution_count": null,
   "id": "eb3f028b",
   "metadata": {},
   "outputs": [
    {
     "data": {
      "application/javascript": [
       "\n",
       "            setTimeout(function() {\n",
       "                var nbb_cell_id = 12;\n",
       "                var nbb_unformatted_code = \"# export\\n\\n\\nclass HostDetails(BaseModel):\\n    machine_id: str\\n    cpuinfo: dict\\n\\n    @classmethod\\n    def build_details_from_localhost(cls):\\n        kwargs = {\\n            \\\"machine_id\\\": get_machine_id(),\\n            \\\"cpuinfo\\\": cpuinfo.get_cpu_info(),\\n        }\\n        return cls(**kwargs)\";\n",
       "                var nbb_formatted_code = \"# export\\n\\n\\nclass HostDetails(BaseModel):\\n    machine_id: str\\n    cpuinfo: dict\\n\\n    @classmethod\\n    def build_details_from_localhost(cls):\\n        kwargs = {\\n            \\\"machine_id\\\": get_machine_id(),\\n            \\\"cpuinfo\\\": cpuinfo.get_cpu_info(),\\n        }\\n        return cls(**kwargs)\";\n",
       "                var nbb_cells = Jupyter.notebook.get_cells();\n",
       "                for (var i = 0; i < nbb_cells.length; ++i) {\n",
       "                    if (nbb_cells[i].input_prompt_number == nbb_cell_id) {\n",
       "                        if (nbb_cells[i].get_text() == nbb_unformatted_code) {\n",
       "                             nbb_cells[i].set_text(nbb_formatted_code);\n",
       "                        }\n",
       "                        break;\n",
       "                    }\n",
       "                }\n",
       "            }, 500);\n",
       "            "
      ],
      "text/plain": [
       "<IPython.core.display.Javascript object>"
      ]
     },
     "metadata": {},
     "output_type": "display_data"
    }
   ],
   "source": [
    "# export\n",
    "\n",
    "\n",
    "class HostDetails(BaseModel):\n",
    "    machine_id: str\n",
    "    cpuinfo: dict\n",
    "\n",
    "    @classmethod\n",
    "    def build_details_from_localhost(cls):\n",
    "        kwargs = {\n",
    "            \"machine_id\": get_machine_id(),\n",
    "            \"cpuinfo\": cpuinfo.get_cpu_info(),\n",
    "        }\n",
    "        return cls(**kwargs)"
   ]
  },
  {
   "cell_type": "markdown",
   "id": "e5b972f5",
   "metadata": {},
   "source": [
    "## Usage"
   ]
  },
  {
   "cell_type": "code",
   "execution_count": null,
   "id": "5882ffeb",
   "metadata": {},
   "outputs": [
    {
     "name": "stdout",
     "output_type": "stream",
     "text": [
      "machine id:  C02DR0MZQ6LT\n",
      "cpuinfo arch:  X86_64\n"
     ]
    },
    {
     "data": {
      "application/javascript": [
       "\n",
       "            setTimeout(function() {\n",
       "                var nbb_cell_id = 17;\n",
       "                var nbb_unformatted_code = \"# dont_test\\n\\nhost_details = HostDetails.build_details_from_localhost()\\nprint(\\\"machine id: \\\", host_details.machine_id)\\nprint(\\\"cpuinfo arch: \\\", host_details.cpuinfo[\\\"arch\\\"])\";\n",
       "                var nbb_formatted_code = \"# dont_test\\n\\nhost_details = HostDetails.build_details_from_localhost()\\nprint(\\\"machine id: \\\", host_details.machine_id)\\nprint(\\\"cpuinfo arch: \\\", host_details.cpuinfo[\\\"arch\\\"])\";\n",
       "                var nbb_cells = Jupyter.notebook.get_cells();\n",
       "                for (var i = 0; i < nbb_cells.length; ++i) {\n",
       "                    if (nbb_cells[i].input_prompt_number == nbb_cell_id) {\n",
       "                        if (nbb_cells[i].get_text() == nbb_unformatted_code) {\n",
       "                             nbb_cells[i].set_text(nbb_formatted_code);\n",
       "                        }\n",
       "                        break;\n",
       "                    }\n",
       "                }\n",
       "            }, 500);\n",
       "            "
      ],
      "text/plain": [
       "<IPython.core.display.Javascript object>"
      ]
     },
     "metadata": {},
     "output_type": "display_data"
    }
   ],
   "source": [
    "# dont_test\n",
    "\n",
    "host_details = HostDetails.build_details_from_localhost()\n",
    "print(\"machine id: \", host_details.machine_id)\n",
    "print(\"cpuinfo arch: \", host_details.cpuinfo[\"arch\"])"
   ]
  },
  {
   "cell_type": "markdown",
   "id": "4380924a",
   "metadata": {},
   "source": [
    "## Tests"
   ]
  },
  {
   "cell_type": "code",
   "execution_count": null,
   "id": "f22581d8",
   "metadata": {},
   "outputs": [
    {
     "data": {
      "application/javascript": [
       "\n",
       "            setTimeout(function() {\n",
       "                var nbb_cell_id = 16;\n",
       "                var nbb_unformatted_code = \"# no tests, since they will probably brake github actions..\";\n",
       "                var nbb_formatted_code = \"# no tests, since they will probably brake github actions..\";\n",
       "                var nbb_cells = Jupyter.notebook.get_cells();\n",
       "                for (var i = 0; i < nbb_cells.length; ++i) {\n",
       "                    if (nbb_cells[i].input_prompt_number == nbb_cell_id) {\n",
       "                        if (nbb_cells[i].get_text() == nbb_unformatted_code) {\n",
       "                             nbb_cells[i].set_text(nbb_formatted_code);\n",
       "                        }\n",
       "                        break;\n",
       "                    }\n",
       "                }\n",
       "            }, 500);\n",
       "            "
      ],
      "text/plain": [
       "<IPython.core.display.Javascript object>"
      ]
     },
     "metadata": {},
     "output_type": "display_data"
    }
   ],
   "source": [
    "# no tests, since they will probably brake github actions.."
   ]
  },
  {
   "cell_type": "markdown",
   "id": "naughty-masters",
   "metadata": {},
   "source": [
    "# Export"
   ]
  },
  {
   "cell_type": "code",
   "execution_count": null,
   "id": "smart-filename",
   "metadata": {},
   "outputs": [
    {
     "name": "stdout",
     "output_type": "stream",
     "text": [
      "Converted 00_host.ipynb.\n",
      "Converted 01_django_views.ipynb.\n",
      "Converted 01_fastapi_views.ipynb.\n",
      "Converted 01_file.ipynb.\n",
      "Converted 05_epochs.ipynb.\n",
      "Converted 06_results.ipynb.\n",
      "Converted 25_core.ipynb.\n",
      "Converted 27_control_server.ipynb.\n",
      "Converted 28_control_client.ipynb.\n",
      "Converted 29_control_cli.ipynb.\n",
      "Converted 30_servers.ipynb.\n",
      "Converted 31_local_servers.ipynb.\n",
      "Converted 32_docker_servers.ipynb.\n",
      "Converted 40_clients.ipynb.\n",
      "Converted 41_benchmark_clients.ipynb.\n",
      "Converted 70_repositories.ipynb.\n",
      "Converted 71_sqlite_repository.ipynb.\n",
      "Converted 90_benchmark_without_benchmark.ipynb.\n",
      "Converted 98_run_benchmark.ipynb.\n",
      "Converted index.ipynb.\n"
     ]
    },
    {
     "data": {
      "application/javascript": [
       "\n",
       "            setTimeout(function() {\n",
       "                var nbb_cell_id = 18;\n",
       "                var nbb_unformatted_code = \"# dont_test\\n\\nfrom nbdev.export import notebook2script\\n\\nnotebook2script()\";\n",
       "                var nbb_formatted_code = \"# dont_test\\n\\nfrom nbdev.export import notebook2script\\n\\nnotebook2script()\";\n",
       "                var nbb_cells = Jupyter.notebook.get_cells();\n",
       "                for (var i = 0; i < nbb_cells.length; ++i) {\n",
       "                    if (nbb_cells[i].input_prompt_number == nbb_cell_id) {\n",
       "                        if (nbb_cells[i].get_text() == nbb_unformatted_code) {\n",
       "                             nbb_cells[i].set_text(nbb_formatted_code);\n",
       "                        }\n",
       "                        break;\n",
       "                    }\n",
       "                }\n",
       "            }, 500);\n",
       "            "
      ],
      "text/plain": [
       "<IPython.core.display.Javascript object>"
      ]
     },
     "metadata": {},
     "output_type": "display_data"
    }
   ],
   "source": [
    "# dont_test\n",
    "\n",
    "from nbdev.export import notebook2script\n",
    "\n",
    "notebook2script()"
   ]
  },
  {
   "cell_type": "code",
   "execution_count": null,
   "id": "wired-ending",
   "metadata": {},
   "outputs": [],
   "source": []
  }
 ],
 "metadata": {
  "kernelspec": {
   "display_name": "Python 3",
   "language": "python",
   "name": "python3"
  }
 },
 "nbformat": 4,
 "nbformat_minor": 5
}
