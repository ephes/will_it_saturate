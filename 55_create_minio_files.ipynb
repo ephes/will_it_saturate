{
 "cells": [
  {
   "cell_type": "code",
   "execution_count": null,
   "id": "48f4c5a0",
   "metadata": {},
   "outputs": [
    {
     "data": {
      "application/javascript": [
       "\n",
       "            setTimeout(function() {\n",
       "                var nbb_cell_id = 1;\n",
       "                var nbb_unformatted_code = \"%load_ext nb_black\";\n",
       "                var nbb_formatted_code = \"%load_ext nb_black\";\n",
       "                var nbb_cells = Jupyter.notebook.get_cells();\n",
       "                for (var i = 0; i < nbb_cells.length; ++i) {\n",
       "                    if (nbb_cells[i].input_prompt_number == nbb_cell_id) {\n",
       "                        if (nbb_cells[i].get_text() == nbb_unformatted_code) {\n",
       "                             nbb_cells[i].set_text(nbb_formatted_code);\n",
       "                        }\n",
       "                        break;\n",
       "                    }\n",
       "                }\n",
       "            }, 500);\n",
       "            "
      ],
      "text/plain": [
       "<IPython.core.display.Javascript object>"
      ]
     },
     "metadata": {},
     "output_type": "display_data"
    }
   ],
   "source": [
    "%load_ext nb_black"
   ]
  },
  {
   "cell_type": "code",
   "execution_count": null,
   "id": "6c822f10",
   "metadata": {},
   "outputs": [
    {
     "data": {
      "application/javascript": [
       "\n",
       "            setTimeout(function() {\n",
       "                var nbb_cell_id = 8;\n",
       "                var nbb_unformatted_code = \"# dont_test\\n\\nimport os\\nimport io\\n\\nimport aiobotocore\\n\\nfrom minio import Minio\";\n",
       "                var nbb_formatted_code = \"# dont_test\\n\\nimport os\\nimport io\\n\\nimport aiobotocore\\n\\nfrom minio import Minio\";\n",
       "                var nbb_cells = Jupyter.notebook.get_cells();\n",
       "                for (var i = 0; i < nbb_cells.length; ++i) {\n",
       "                    if (nbb_cells[i].input_prompt_number == nbb_cell_id) {\n",
       "                        if (nbb_cells[i].get_text() == nbb_unformatted_code) {\n",
       "                             nbb_cells[i].set_text(nbb_formatted_code);\n",
       "                        }\n",
       "                        break;\n",
       "                    }\n",
       "                }\n",
       "            }, 500);\n",
       "            "
      ],
      "text/plain": [
       "<IPython.core.display.Javascript object>"
      ]
     },
     "metadata": {},
     "output_type": "display_data"
    }
   ],
   "source": [
    "# dont_test\n",
    "\n",
    "import os\n",
    "import io\n",
    "\n",
    "import aiobotocore\n",
    "\n",
    "from minio import Minio"
   ]
  },
  {
   "cell_type": "code",
   "execution_count": null,
   "id": "162f174c",
   "metadata": {},
   "outputs": [
    {
     "data": {
      "application/javascript": [
       "\n",
       "            setTimeout(function() {\n",
       "                var nbb_cell_id = 3;\n",
       "                var nbb_unformatted_code = \"client = Minio(\\\"127.0.0.1:9000\\\", \\\"minioadmin\\\", \\\"minioadmin\\\", secure=False)\";\n",
       "                var nbb_formatted_code = \"client = Minio(\\\"127.0.0.1:9000\\\", \\\"minioadmin\\\", \\\"minioadmin\\\", secure=False)\";\n",
       "                var nbb_cells = Jupyter.notebook.get_cells();\n",
       "                for (var i = 0; i < nbb_cells.length; ++i) {\n",
       "                    if (nbb_cells[i].input_prompt_number == nbb_cell_id) {\n",
       "                        if (nbb_cells[i].get_text() == nbb_unformatted_code) {\n",
       "                             nbb_cells[i].set_text(nbb_formatted_code);\n",
       "                        }\n",
       "                        break;\n",
       "                    }\n",
       "                }\n",
       "            }, 500);\n",
       "            "
      ],
      "text/plain": [
       "<IPython.core.display.Javascript object>"
      ]
     },
     "metadata": {},
     "output_type": "display_data"
    }
   ],
   "source": [
    "# dont_test\n",
    "\n",
    "client = Minio(\"127.0.0.1:9000\", \"minioadmin\", \"minioadmin\", secure=False)"
   ]
  },
  {
   "cell_type": "code",
   "execution_count": null,
   "id": "b37ba619",
   "metadata": {},
   "outputs": [
    {
     "name": "stdout",
     "output_type": "stream",
     "text": [
      "Bucket 'wis' already exists\n"
     ]
    },
    {
     "data": {
      "application/javascript": [
       "\n",
       "            setTimeout(function() {\n",
       "                var nbb_cell_id = 4;\n",
       "                var nbb_unformatted_code = \"bucket_name = \\\"wis\\\"\\nfound = client.bucket_exists(bucket_name)\\nif not found:\\n    client.make_bucket(bucket_name)\\nelse:\\n    print(f\\\"Bucket '{bucket_name}' already exists\\\")\";\n",
       "                var nbb_formatted_code = \"bucket_name = \\\"wis\\\"\\nfound = client.bucket_exists(bucket_name)\\nif not found:\\n    client.make_bucket(bucket_name)\\nelse:\\n    print(f\\\"Bucket '{bucket_name}' already exists\\\")\";\n",
       "                var nbb_cells = Jupyter.notebook.get_cells();\n",
       "                for (var i = 0; i < nbb_cells.length; ++i) {\n",
       "                    if (nbb_cells[i].input_prompt_number == nbb_cell_id) {\n",
       "                        if (nbb_cells[i].get_text() == nbb_unformatted_code) {\n",
       "                             nbb_cells[i].set_text(nbb_formatted_code);\n",
       "                        }\n",
       "                        break;\n",
       "                    }\n",
       "                }\n",
       "            }, 500);\n",
       "            "
      ],
      "text/plain": [
       "<IPython.core.display.Javascript object>"
      ]
     },
     "metadata": {},
     "output_type": "display_data"
    }
   ],
   "source": [
    "# dont_test\n",
    "\n",
    "\n",
    "bucket_name = \"wis\"\n",
    "found = client.bucket_exists(bucket_name)\n",
    "if not found:\n",
    "    client.make_bucket(bucket_name)\n",
    "else:\n",
    "    print(f\"Bucket '{bucket_name}' already exists\")"
   ]
  },
  {
   "cell_type": "code",
   "execution_count": null,
   "id": "a5f32ed2",
   "metadata": {},
   "outputs": [
    {
     "name": "stdout",
     "output_type": "stream",
     "text": [
      "created foo/bar/baz object; etag: 2964cf8c8fcbbe7f1732f754280d7d4a-2, version-id: None\n"
     ]
    },
    {
     "data": {
      "application/javascript": [
       "\n",
       "            setTimeout(function() {\n",
       "                var nbb_cell_id = 6;\n",
       "                var nbb_unformatted_code = \"path = \\\"foo/bar/baz\\\"\\nsize = 10 ** 7\\ndata = os.urandom(size)\\nresult = client.put_object(\\n    bucket_name, path, io.BytesIO(data), size,\\n)\\nprint(\\n    \\\"created {0} object; etag: {1}, version-id: {2}\\\".format(\\n        result.object_name, result.etag, result.version_id,\\n    ),\\n)\";\n",
       "                var nbb_formatted_code = \"path = \\\"foo/bar/baz\\\"\\nsize = 10 ** 7\\ndata = os.urandom(size)\\nresult = client.put_object(\\n    bucket_name,\\n    path,\\n    io.BytesIO(data),\\n    size,\\n)\\nprint(\\n    \\\"created {0} object; etag: {1}, version-id: {2}\\\".format(\\n        result.object_name,\\n        result.etag,\\n        result.version_id,\\n    ),\\n)\";\n",
       "                var nbb_cells = Jupyter.notebook.get_cells();\n",
       "                for (var i = 0; i < nbb_cells.length; ++i) {\n",
       "                    if (nbb_cells[i].input_prompt_number == nbb_cell_id) {\n",
       "                        if (nbb_cells[i].get_text() == nbb_unformatted_code) {\n",
       "                             nbb_cells[i].set_text(nbb_formatted_code);\n",
       "                        }\n",
       "                        break;\n",
       "                    }\n",
       "                }\n",
       "            }, 500);\n",
       "            "
      ],
      "text/plain": [
       "<IPython.core.display.Javascript object>"
      ]
     },
     "metadata": {},
     "output_type": "display_data"
    }
   ],
   "source": [
    "# dont_test\n",
    "\n",
    "\n",
    "path = \"foo/bar/baz\"\n",
    "size = 10 ** 7\n",
    "data = os.urandom(size)\n",
    "result = client.put_object(\n",
    "    bucket_name,\n",
    "    path,\n",
    "    io.BytesIO(data),\n",
    "    size,\n",
    ")\n",
    "print(\n",
    "    \"created {0} object; etag: {1}, version-id: {2}\".format(\n",
    "        result.object_name,\n",
    "        result.etag,\n",
    "        result.version_id,\n",
    "    ),\n",
    ")"
   ]
  },
  {
   "cell_type": "code",
   "execution_count": null,
   "id": "39be1d8e",
   "metadata": {},
   "outputs": [
    {
     "data": {
      "application/javascript": [
       "\n",
       "            setTimeout(function() {\n",
       "                var nbb_cell_id = 10;\n",
       "                var nbb_unformatted_code = \"# dont_test\\n\\nAWS_ACCESS_KEY_ID = \\\"minioadmin\\\"\\nAWS_SECRET_ACCESS_KEY = \\\"minioadmin\\\"\\n\\nbucket = \\\"wis\\\"\\nkey = \\\"data/3000000_2_12500000/0\\\"\\n\\nsession = aiobotocore.get_session()\";\n",
       "                var nbb_formatted_code = \"# dont_test\\n\\nAWS_ACCESS_KEY_ID = \\\"minioadmin\\\"\\nAWS_SECRET_ACCESS_KEY = \\\"minioadmin\\\"\\n\\nbucket = \\\"wis\\\"\\nkey = \\\"data/3000000_2_12500000/0\\\"\\n\\nsession = aiobotocore.get_session()\";\n",
       "                var nbb_cells = Jupyter.notebook.get_cells();\n",
       "                for (var i = 0; i < nbb_cells.length; ++i) {\n",
       "                    if (nbb_cells[i].input_prompt_number == nbb_cell_id) {\n",
       "                        if (nbb_cells[i].get_text() == nbb_unformatted_code) {\n",
       "                             nbb_cells[i].set_text(nbb_formatted_code);\n",
       "                        }\n",
       "                        break;\n",
       "                    }\n",
       "                }\n",
       "            }, 500);\n",
       "            "
      ],
      "text/plain": [
       "<IPython.core.display.Javascript object>"
      ]
     },
     "metadata": {},
     "output_type": "display_data"
    }
   ],
   "source": [
    "# dont_test\n",
    "\n",
    "AWS_ACCESS_KEY_ID = \"minioadmin\"\n",
    "AWS_SECRET_ACCESS_KEY = \"minioadmin\"\n",
    "\n",
    "bucket = \"wis\"\n",
    "key = \"data/3000000_2_12500000/0\"\n",
    "\n",
    "session = aiobotocore.get_session()"
   ]
  },
  {
   "cell_type": "code",
   "execution_count": null,
   "id": "46b0310a",
   "metadata": {},
   "outputs": [
    {
     "data": {
      "application/javascript": [
       "\n",
       "            setTimeout(function() {\n",
       "                var nbb_cell_id = 25;\n",
       "                var nbb_unformatted_code = \"# dont_test\\n\\nasync with session.create_client(\\n    \\\"s3\\\",\\n    endpoint_url=\\\"http://localhost:9000\\\",\\n    region_name=\\\"us-west-2\\\",\\n    aws_secret_access_key=AWS_SECRET_ACCESS_KEY,\\n    aws_access_key_id=AWS_ACCESS_KEY_ID,\\n) as client:\\n    response = await client.get_object(Bucket=bucket, Key=key)\\n    async with response[\\\"Body\\\"] as stream:\\n        data = await stream.read()\";\n",
       "                var nbb_formatted_code = \"# dont_test\\n\\nasync with session.create_client(\\n    \\\"s3\\\",\\n    endpoint_url=\\\"http://localhost:9000\\\",\\n    region_name=\\\"us-west-2\\\",\\n    aws_secret_access_key=AWS_SECRET_ACCESS_KEY,\\n    aws_access_key_id=AWS_ACCESS_KEY_ID,\\n) as client:\\n    response = await client.get_object(Bucket=bucket, Key=key)\\n    async with response[\\\"Body\\\"] as stream:\\n        data = await stream.read()\";\n",
       "                var nbb_cells = Jupyter.notebook.get_cells();\n",
       "                for (var i = 0; i < nbb_cells.length; ++i) {\n",
       "                    if (nbb_cells[i].input_prompt_number == nbb_cell_id) {\n",
       "                        if (nbb_cells[i].get_text() == nbb_unformatted_code) {\n",
       "                             nbb_cells[i].set_text(nbb_formatted_code);\n",
       "                        }\n",
       "                        break;\n",
       "                    }\n",
       "                }\n",
       "            }, 500);\n",
       "            "
      ],
      "text/plain": [
       "<IPython.core.display.Javascript object>"
      ]
     },
     "metadata": {},
     "output_type": "display_data"
    }
   ],
   "source": [
    "# dont_test\n",
    "\n",
    "async with session.create_client(\n",
    "    \"s3\",\n",
    "    endpoint_url=\"http://localhost:9000\",\n",
    "    region_name=\"us-west-2\",\n",
    "    aws_secret_access_key=AWS_SECRET_ACCESS_KEY,\n",
    "    aws_access_key_id=AWS_ACCESS_KEY_ID,\n",
    ") as client:\n",
    "    response = await client.get_object(Bucket=bucket, Key=key)\n",
    "    async with response[\"Body\"] as stream:\n",
    "        data = await stream.read()"
   ]
  },
  {
   "cell_type": "code",
   "execution_count": null,
   "id": "15ca4ce1",
   "metadata": {},
   "outputs": [
    {
     "data": {
      "application/javascript": [
       "\n",
       "            setTimeout(function() {\n",
       "                var nbb_cell_id = 23;\n",
       "                var nbb_unformatted_code = \"from will_it_saturate.files import calculate_checksum\";\n",
       "                var nbb_formatted_code = \"from will_it_saturate.files import calculate_checksum\";\n",
       "                var nbb_cells = Jupyter.notebook.get_cells();\n",
       "                for (var i = 0; i < nbb_cells.length; ++i) {\n",
       "                    if (nbb_cells[i].input_prompt_number == nbb_cell_id) {\n",
       "                        if (nbb_cells[i].get_text() == nbb_unformatted_code) {\n",
       "                             nbb_cells[i].set_text(nbb_formatted_code);\n",
       "                        }\n",
       "                        break;\n",
       "                    }\n",
       "                }\n",
       "            }, 500);\n",
       "            "
      ],
      "text/plain": [
       "<IPython.core.display.Javascript object>"
      ]
     },
     "metadata": {},
     "output_type": "display_data"
    }
   ],
   "source": [
    "# dont_test\n",
    "from will_it_saturate.files import calculate_checksum\n",
    "calculate_checksum(data)"
   ]
  }
 ],
 "metadata": {
  "kernelspec": {
   "display_name": "Python 3",
   "language": "python",
   "name": "python3"
  }
 },
 "nbformat": 4,
 "nbformat_minor": 5
}
