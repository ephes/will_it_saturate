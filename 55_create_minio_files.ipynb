{
 "cells": [
  {
   "cell_type": "code",
   "execution_count": null,
   "id": "7e95d4a1",
   "metadata": {},
   "outputs": [
    {
     "data": {
      "application/javascript": [
       "\n",
       "            setTimeout(function() {\n",
       "                var nbb_cell_id = 1;\n",
       "                var nbb_unformatted_code = \"%load_ext nb_black\";\n",
       "                var nbb_formatted_code = \"%load_ext nb_black\";\n",
       "                var nbb_cells = Jupyter.notebook.get_cells();\n",
       "                for (var i = 0; i < nbb_cells.length; ++i) {\n",
       "                    if (nbb_cells[i].input_prompt_number == nbb_cell_id) {\n",
       "                        if (nbb_cells[i].get_text() == nbb_unformatted_code) {\n",
       "                             nbb_cells[i].set_text(nbb_formatted_code);\n",
       "                        }\n",
       "                        break;\n",
       "                    }\n",
       "                }\n",
       "            }, 500);\n",
       "            "
      ],
      "text/plain": [
       "<IPython.core.display.Javascript object>"
      ]
     },
     "metadata": {},
     "output_type": "display_data"
    }
   ],
   "source": [
    "%load_ext nb_black"
   ]
  },
  {
   "cell_type": "code",
   "execution_count": null,
   "id": "6c822f10",
   "metadata": {},
   "outputs": [
    {
     "data": {
      "application/javascript": [
       "\n",
       "            setTimeout(function() {\n",
       "                var nbb_cell_id = 2;\n",
       "                var nbb_unformatted_code = \"import os\\nimport io\\n\\nfrom minio import Minio\";\n",
       "                var nbb_formatted_code = \"import os\\nimport io\\n\\nfrom minio import Minio\";\n",
       "                var nbb_cells = Jupyter.notebook.get_cells();\n",
       "                for (var i = 0; i < nbb_cells.length; ++i) {\n",
       "                    if (nbb_cells[i].input_prompt_number == nbb_cell_id) {\n",
       "                        if (nbb_cells[i].get_text() == nbb_unformatted_code) {\n",
       "                             nbb_cells[i].set_text(nbb_formatted_code);\n",
       "                        }\n",
       "                        break;\n",
       "                    }\n",
       "                }\n",
       "            }, 500);\n",
       "            "
      ],
      "text/plain": [
       "<IPython.core.display.Javascript object>"
      ]
     },
     "metadata": {},
     "output_type": "display_data"
    }
   ],
   "source": [
    "# dont_test\n",
    "\n",
    "import os\n",
    "import io\n",
    "\n",
    "from minio import Minio"
   ]
  },
  {
   "cell_type": "code",
   "execution_count": null,
   "id": "1612ef96",
   "metadata": {},
   "outputs": [
    {
     "data": {
      "application/javascript": [
       "\n",
       "            setTimeout(function() {\n",
       "                var nbb_cell_id = 3;\n",
       "                var nbb_unformatted_code = \"client = Minio(\\\"127.0.0.1:9000\\\", \\\"minioadmin\\\", \\\"minioadmin\\\", secure=False)\";\n",
       "                var nbb_formatted_code = \"client = Minio(\\\"127.0.0.1:9000\\\", \\\"minioadmin\\\", \\\"minioadmin\\\", secure=False)\";\n",
       "                var nbb_cells = Jupyter.notebook.get_cells();\n",
       "                for (var i = 0; i < nbb_cells.length; ++i) {\n",
       "                    if (nbb_cells[i].input_prompt_number == nbb_cell_id) {\n",
       "                        if (nbb_cells[i].get_text() == nbb_unformatted_code) {\n",
       "                             nbb_cells[i].set_text(nbb_formatted_code);\n",
       "                        }\n",
       "                        break;\n",
       "                    }\n",
       "                }\n",
       "            }, 500);\n",
       "            "
      ],
      "text/plain": [
       "<IPython.core.display.Javascript object>"
      ]
     },
     "metadata": {},
     "output_type": "display_data"
    }
   ],
   "source": [
    "# dont_test\n",
    "\n",
    "client = Minio(\"127.0.0.1:9000\", \"minioadmin\", \"minioadmin\", secure=False)"
   ]
  },
  {
   "cell_type": "code",
   "execution_count": null,
   "id": "a05fe737",
   "metadata": {},
   "outputs": [
    {
     "name": "stdout",
     "output_type": "stream",
     "text": [
      "Bucket 'wis' already exists\n"
     ]
    },
    {
     "data": {
      "application/javascript": [
       "\n",
       "            setTimeout(function() {\n",
       "                var nbb_cell_id = 4;\n",
       "                var nbb_unformatted_code = \"bucket_name = \\\"wis\\\"\\nfound = client.bucket_exists(bucket_name)\\nif not found:\\n    client.make_bucket(bucket_name)\\nelse:\\n    print(f\\\"Bucket '{bucket_name}' already exists\\\")\";\n",
       "                var nbb_formatted_code = \"bucket_name = \\\"wis\\\"\\nfound = client.bucket_exists(bucket_name)\\nif not found:\\n    client.make_bucket(bucket_name)\\nelse:\\n    print(f\\\"Bucket '{bucket_name}' already exists\\\")\";\n",
       "                var nbb_cells = Jupyter.notebook.get_cells();\n",
       "                for (var i = 0; i < nbb_cells.length; ++i) {\n",
       "                    if (nbb_cells[i].input_prompt_number == nbb_cell_id) {\n",
       "                        if (nbb_cells[i].get_text() == nbb_unformatted_code) {\n",
       "                             nbb_cells[i].set_text(nbb_formatted_code);\n",
       "                        }\n",
       "                        break;\n",
       "                    }\n",
       "                }\n",
       "            }, 500);\n",
       "            "
      ],
      "text/plain": [
       "<IPython.core.display.Javascript object>"
      ]
     },
     "metadata": {},
     "output_type": "display_data"
    }
   ],
   "source": [
    "# dont_test\n",
    "\n",
    "\n",
    "bucket_name = \"wis\"\n",
    "found = client.bucket_exists(bucket_name)\n",
    "if not found:\n",
    "    client.make_bucket(bucket_name)\n",
    "else:\n",
    "    print(f\"Bucket '{bucket_name}' already exists\")"
   ]
  },
  {
   "cell_type": "code",
   "execution_count": null,
   "id": "9674046f",
   "metadata": {},
   "outputs": [
    {
     "name": "stdout",
     "output_type": "stream",
     "text": [
      "created foo/bar/baz object; etag: 2964cf8c8fcbbe7f1732f754280d7d4a-2, version-id: None\n"
     ]
    },
    {
     "data": {
      "application/javascript": [
       "\n",
       "            setTimeout(function() {\n",
       "                var nbb_cell_id = 6;\n",
       "                var nbb_unformatted_code = \"path = \\\"foo/bar/baz\\\"\\nsize = 10 ** 7\\ndata = os.urandom(size)\\nresult = client.put_object(\\n    bucket_name, path, io.BytesIO(data), size,\\n)\\nprint(\\n    \\\"created {0} object; etag: {1}, version-id: {2}\\\".format(\\n        result.object_name, result.etag, result.version_id,\\n    ),\\n)\";\n",
       "                var nbb_formatted_code = \"path = \\\"foo/bar/baz\\\"\\nsize = 10 ** 7\\ndata = os.urandom(size)\\nresult = client.put_object(\\n    bucket_name,\\n    path,\\n    io.BytesIO(data),\\n    size,\\n)\\nprint(\\n    \\\"created {0} object; etag: {1}, version-id: {2}\\\".format(\\n        result.object_name,\\n        result.etag,\\n        result.version_id,\\n    ),\\n)\";\n",
       "                var nbb_cells = Jupyter.notebook.get_cells();\n",
       "                for (var i = 0; i < nbb_cells.length; ++i) {\n",
       "                    if (nbb_cells[i].input_prompt_number == nbb_cell_id) {\n",
       "                        if (nbb_cells[i].get_text() == nbb_unformatted_code) {\n",
       "                             nbb_cells[i].set_text(nbb_formatted_code);\n",
       "                        }\n",
       "                        break;\n",
       "                    }\n",
       "                }\n",
       "            }, 500);\n",
       "            "
      ],
      "text/plain": [
       "<IPython.core.display.Javascript object>"
      ]
     },
     "metadata": {},
     "output_type": "display_data"
    }
   ],
   "source": [
    "# dont_test\n",
    "\n",
    "\n",
    "path = \"foo/bar/baz\"\n",
    "size = 10 ** 7\n",
    "data = os.urandom(size)\n",
    "result = client.put_object(\n",
    "    bucket_name,\n",
    "    path,\n",
    "    io.BytesIO(data),\n",
    "    size,\n",
    ")\n",
    "print(\n",
    "    \"created {0} object; etag: {1}, version-id: {2}\".format(\n",
    "        result.object_name,\n",
    "        result.etag,\n",
    "        result.version_id,\n",
    "    ),\n",
    ")"
   ]
  }
 ],
 "metadata": {
  "kernelspec": {
   "display_name": "Python 3",
   "language": "python",
   "name": "python3"
  }
 },
 "nbformat": 4,
 "nbformat_minor": 5
}
