{
 "cells": [
  {
   "cell_type": "code",
   "execution_count": null,
   "id": "lonely-context",
   "metadata": {},
   "outputs": [
    {
     "data": {
      "application/javascript": [
       "\n",
       "            setTimeout(function() {\n",
       "                var nbb_cell_id = 1;\n",
       "                var nbb_unformatted_code = \"%load_ext nb_black\";\n",
       "                var nbb_formatted_code = \"%load_ext nb_black\";\n",
       "                var nbb_cells = Jupyter.notebook.get_cells();\n",
       "                for (var i = 0; i < nbb_cells.length; ++i) {\n",
       "                    if (nbb_cells[i].input_prompt_number == nbb_cell_id) {\n",
       "                        if (nbb_cells[i].get_text() == nbb_unformatted_code) {\n",
       "                             nbb_cells[i].set_text(nbb_formatted_code);\n",
       "                        }\n",
       "                        break;\n",
       "                    }\n",
       "                }\n",
       "            }, 500);\n",
       "            "
      ],
      "text/plain": [
       "<IPython.core.display.Javascript object>"
      ]
     },
     "metadata": {},
     "output_type": "display_data"
    }
   ],
   "source": [
    "%load_ext nb_black"
   ]
  },
  {
   "cell_type": "code",
   "execution_count": null,
   "id": "light-application",
   "metadata": {},
   "outputs": [
    {
     "data": {
      "application/javascript": [
       "\n",
       "            setTimeout(function() {\n",
       "                var nbb_cell_id = 2;\n",
       "                var nbb_unformatted_code = \"import httpx\\n\\nfrom will_it_saturate.epochs import Epoch\";\n",
       "                var nbb_formatted_code = \"import httpx\\n\\nfrom will_it_saturate.epochs import Epoch\";\n",
       "                var nbb_cells = Jupyter.notebook.get_cells();\n",
       "                for (var i = 0; i < nbb_cells.length; ++i) {\n",
       "                    if (nbb_cells[i].input_prompt_number == nbb_cell_id) {\n",
       "                        if (nbb_cells[i].get_text() == nbb_unformatted_code) {\n",
       "                             nbb_cells[i].set_text(nbb_formatted_code);\n",
       "                        }\n",
       "                        break;\n",
       "                    }\n",
       "                }\n",
       "            }, 500);\n",
       "            "
      ],
      "text/plain": [
       "<IPython.core.display.Javascript object>"
      ]
     },
     "metadata": {},
     "output_type": "display_data"
    }
   ],
   "source": [
    "import httpx\n",
    "\n",
    "from will_it_saturate.epochs import Epoch"
   ]
  },
  {
   "cell_type": "code",
   "execution_count": null,
   "id": "capable-bahrain",
   "metadata": {},
   "outputs": [
    {
     "data": {
      "application/javascript": [
       "\n",
       "            setTimeout(function() {\n",
       "                var nbb_cell_id = 3;\n",
       "                var nbb_unformatted_code = \"# default_exp control.main\";\n",
       "                var nbb_formatted_code = \"# default_exp control.main\";\n",
       "                var nbb_cells = Jupyter.notebook.get_cells();\n",
       "                for (var i = 0; i < nbb_cells.length; ++i) {\n",
       "                    if (nbb_cells[i].input_prompt_number == nbb_cell_id) {\n",
       "                        if (nbb_cells[i].get_text() == nbb_unformatted_code) {\n",
       "                             nbb_cells[i].set_text(nbb_formatted_code);\n",
       "                        }\n",
       "                        break;\n",
       "                    }\n",
       "                }\n",
       "            }, 500);\n",
       "            "
      ],
      "text/plain": [
       "<IPython.core.display.Javascript object>"
      ]
     },
     "metadata": {},
     "output_type": "display_data"
    }
   ],
   "source": [
    "# default_exp control.main"
   ]
  },
  {
   "cell_type": "markdown",
   "id": "buried-compression",
   "metadata": {},
   "source": [
    "# fastAPI Control Server\n",
    "\n",
    "```\n",
    "uvicorn will_it_saturate.control.main:app --reload --port 8001\n",
    "```"
   ]
  },
  {
   "cell_type": "code",
   "execution_count": null,
   "id": "departmental-south",
   "metadata": {},
   "outputs": [
    {
     "data": {
      "application/javascript": [
       "\n",
       "            setTimeout(function() {\n",
       "                var nbb_cell_id = 12;\n",
       "                var nbb_unformatted_code = \"# export\\n\\nimport cpuinfo\\n\\nfrom pathlib import Path\\nfrom pydantic import BaseModel\\n\\nfrom fastapi import FastAPI\\n\\nfrom will_it_saturate.epochs import Epoch\\nfrom will_it_saturate.hosts import HostDetails\\n\\nfrom will_it_saturate.servers import (\\n    BaseServer,\\n    FastAPIUvicornServer,\\n    NginxDockerServer,\\n    DjangoGunicornWSGIServer,\\n)\\n\\nfrom will_it_saturate.clients import BaseClient\\n\\nfrom will_it_saturate.registry import ModelParameters\\n\\n\\napp = FastAPI()\\n\\nservers = {}\\n\\n\\n@app.get(\\\"/\\\")\\ndef read_root():\\n    return {\\\"Hello\\\": \\\"World/Control\\\"}\\n\\n\\n@app.post(\\\"/epochs/\\\")\\ndef create_epoch(epoch: Epoch):\\n    print(epoch)\\n    epoch.create_files()\\n    return epoch\\n\\n\\n@app.post(\\\"/servers/\\\")\\ndef create_server(server_params: ModelParameters):\\n    print(server_params)\\n    global servers\\n    server = server_params.to_model()\\n    if server.name not in servers:\\n        server.start()\\n        servers[server.name] = server\\n    return server_params\\n\\n\\n@app.get(\\\"/servers/\\\")\\ndef list_servers():\\n    return servers\\n\\n\\n@app.get(\\\"/host-details/\\\")\\ndef host_details() -> HostDetails:\\n    host_details = HostDetails.build_details_from_localhost()\\n    return host_details\\n\\n\\n@app.post(\\\"/measure/\\\")\\ndef measure(client_params: ModelParameters, epoch: Epoch):\\n    benchmark_client = client_params.to_model()\\n    print(\\\"client: \\\", benchmark_client)\\n    print(\\\"epoch: \\\", epoch)\\n    return benchmark_client.measure(epoch)\";\n",
       "                var nbb_formatted_code = \"# export\\n\\nimport cpuinfo\\n\\nfrom pathlib import Path\\nfrom pydantic import BaseModel\\n\\nfrom fastapi import FastAPI\\n\\nfrom will_it_saturate.epochs import Epoch\\nfrom will_it_saturate.hosts import HostDetails\\n\\nfrom will_it_saturate.servers import (\\n    BaseServer,\\n    FastAPIUvicornServer,\\n    NginxDockerServer,\\n    DjangoGunicornWSGIServer,\\n)\\n\\nfrom will_it_saturate.clients import BaseClient\\n\\nfrom will_it_saturate.registry import ModelParameters\\n\\n\\napp = FastAPI()\\n\\nservers = {}\\n\\n\\n@app.get(\\\"/\\\")\\ndef read_root():\\n    return {\\\"Hello\\\": \\\"World/Control\\\"}\\n\\n\\n@app.post(\\\"/epochs/\\\")\\ndef create_epoch(epoch: Epoch):\\n    print(epoch)\\n    epoch.create_files()\\n    return epoch\\n\\n\\n@app.post(\\\"/servers/\\\")\\ndef create_server(server_params: ModelParameters):\\n    print(server_params)\\n    global servers\\n    server = server_params.to_model()\\n    if server.name not in servers:\\n        server.start()\\n        servers[server.name] = server\\n    return server_params\\n\\n\\n@app.get(\\\"/servers/\\\")\\ndef list_servers():\\n    return servers\\n\\n\\n@app.get(\\\"/host-details/\\\")\\ndef host_details() -> HostDetails:\\n    host_details = HostDetails.build_details_from_localhost()\\n    return host_details\\n\\n\\n@app.post(\\\"/measure/\\\")\\ndef measure(client_params: ModelParameters, epoch: Epoch):\\n    benchmark_client = client_params.to_model()\\n    print(\\\"client: \\\", benchmark_client)\\n    print(\\\"epoch: \\\", epoch)\\n    return benchmark_client.measure(epoch)\";\n",
       "                var nbb_cells = Jupyter.notebook.get_cells();\n",
       "                for (var i = 0; i < nbb_cells.length; ++i) {\n",
       "                    if (nbb_cells[i].input_prompt_number == nbb_cell_id) {\n",
       "                        if (nbb_cells[i].get_text() == nbb_unformatted_code) {\n",
       "                             nbb_cells[i].set_text(nbb_formatted_code);\n",
       "                        }\n",
       "                        break;\n",
       "                    }\n",
       "                }\n",
       "            }, 500);\n",
       "            "
      ],
      "text/plain": [
       "<IPython.core.display.Javascript object>"
      ]
     },
     "metadata": {},
     "output_type": "display_data"
    }
   ],
   "source": [
    "# export\n",
    "\n",
    "import cpuinfo\n",
    "\n",
    "from pathlib import Path\n",
    "from pydantic import BaseModel\n",
    "\n",
    "from fastapi import FastAPI\n",
    "\n",
    "from will_it_saturate.epochs import Epoch\n",
    "from will_it_saturate.hosts import HostDetails\n",
    "\n",
    "from will_it_saturate.servers import (\n",
    "    BaseServer,\n",
    "    FastAPIUvicornServer,\n",
    "    NginxDockerServer,\n",
    "    DjangoGunicornWSGIServer,\n",
    ")\n",
    "\n",
    "# needed for clients to be registered in CLASS_REGISTRY\n",
    "from will_it_saturate.clients import BaseClient\n",
    "\n",
    "from will_it_saturate.registry import ModelParameters\n",
    "\n",
    "\n",
    "app = FastAPI()\n",
    "\n",
    "servers = {}\n",
    "\n",
    "\n",
    "@app.get(\"/\")\n",
    "def read_root():\n",
    "    return {\"Hello\": \"World/Control\"}\n",
    "\n",
    "\n",
    "@app.post(\"/epochs/\")\n",
    "def create_epoch(epoch: Epoch):\n",
    "    print(epoch)\n",
    "    epoch.create_files()\n",
    "    return epoch\n",
    "\n",
    "\n",
    "@app.post(\"/servers/\")\n",
    "def create_server(server_params: ModelParameters):\n",
    "    print(server_params)\n",
    "    global servers\n",
    "    server = server_params.to_model()\n",
    "    if server.name not in servers:\n",
    "        server.start()\n",
    "        servers[server.name] = server\n",
    "    return server_params\n",
    "\n",
    "\n",
    "@app.get(\"/servers/\")\n",
    "def list_servers():\n",
    "    return servers\n",
    "\n",
    "\n",
    "@app.get(\"/host-details/\")\n",
    "def host_details() -> HostDetails:\n",
    "    host_details = HostDetails.build_details_from_localhost()\n",
    "    return host_details\n",
    "\n",
    "\n",
    "@app.post(\"/measure/\")\n",
    "def measure(client_params: ModelParameters, epoch: Epoch):\n",
    "    benchmark_client = client_params.to_model()\n",
    "    print(\"client: \", benchmark_client)\n",
    "    print(\"epoch: \", epoch)\n",
    "    return benchmark_client.measure(epoch)"
   ]
  },
  {
   "cell_type": "markdown",
   "id": "lesser-radical",
   "metadata": {},
   "source": [
    "# Usage"
   ]
  },
  {
   "cell_type": "code",
   "execution_count": null,
   "id": "labeled-patrick",
   "metadata": {},
   "outputs": [
    {
     "data": {
      "application/javascript": [
       "\n",
       "            setTimeout(function() {\n",
       "                var nbb_cell_id = 5;\n",
       "                var nbb_unformatted_code = \"byte = 8\\ngigabit = 10 ** 9\\nbandwidth = gigabit / byte\\nduration = 3\\nfile_size = 10 ** 7\\n\\nepoch = Epoch(\\n    file_size=file_size,\\n    duration=3,\\n    bandwith=bandwidth,\\n)\";\n",
       "                var nbb_formatted_code = \"byte = 8\\ngigabit = 10 ** 9\\nbandwidth = gigabit / byte\\nduration = 3\\nfile_size = 10 ** 7\\n\\nepoch = Epoch(\\n    file_size=file_size,\\n    duration=3,\\n    bandwith=bandwidth,\\n)\";\n",
       "                var nbb_cells = Jupyter.notebook.get_cells();\n",
       "                for (var i = 0; i < nbb_cells.length; ++i) {\n",
       "                    if (nbb_cells[i].input_prompt_number == nbb_cell_id) {\n",
       "                        if (nbb_cells[i].get_text() == nbb_unformatted_code) {\n",
       "                             nbb_cells[i].set_text(nbb_formatted_code);\n",
       "                        }\n",
       "                        break;\n",
       "                    }\n",
       "                }\n",
       "            }, 500);\n",
       "            "
      ],
      "text/plain": [
       "<IPython.core.display.Javascript object>"
      ]
     },
     "metadata": {},
     "output_type": "display_data"
    }
   ],
   "source": [
    "byte = 8\n",
    "gigabit = 10 ** 9\n",
    "bandwidth = gigabit / byte\n",
    "duration = 3\n",
    "file_size = 10 ** 7\n",
    "\n",
    "epoch = Epoch(\n",
    "    file_size=file_size,\n",
    "    duration=3,\n",
    "    bandwith=bandwidth,\n",
    ")"
   ]
  },
  {
   "cell_type": "code",
   "execution_count": null,
   "id": "smooth-insertion",
   "metadata": {},
   "outputs": [
    {
     "name": "stdout",
     "output_type": "stream",
     "text": [
      "200 {'file_size': 10000000, 'duration': 3, 'bandwidth': 125000000, 'files': [{'number': 0, 'base_path': '10000000_3_125000000', 'size': 10000000, 'data_root': 'data', 'hostname': 'localhost', 'port': 8000, 'checksum': 'b4d1c4304bd32eb46cd8dfa65a45753d', 'creator_name': 'filesystem'}, {'number': 1, 'base_path': '10000000_3_125000000', 'size': 10000000, 'data_root': 'data', 'hostname': 'localhost', 'port': 8000, 'checksum': '8b0c6d2a628bccd4af491f4a78d44123', 'creator_name': 'filesystem'}, {'number': 2, 'base_path': '10000000_3_125000000', 'size': 10000000, 'data_root': 'data', 'hostname': 'localhost', 'port': 8000, 'checksum': '65ebdcd690b372939379e72bb4a1cbd2', 'creator_name': 'filesystem'}, {'number': 3, 'base_path': '10000000_3_125000000', 'size': 10000000, 'data_root': 'data', 'hostname': 'localhost', 'port': 8000, 'checksum': 'db69ed48f9243bb76d03ebe092d4dd29', 'creator_name': 'filesystem'}, {'number': 4, 'base_path': '10000000_3_125000000', 'size': 10000000, 'data_root': 'data', 'hostname': 'localhost', 'port': 8000, 'checksum': 'faea093a44b76657a143d4e242da39a9', 'creator_name': 'filesystem'}, {'number': 5, 'base_path': '10000000_3_125000000', 'size': 10000000, 'data_root': 'data', 'hostname': 'localhost', 'port': 8000, 'checksum': '5b057ec42fa56300ac49d5f88a91f484', 'creator_name': 'filesystem'}, {'number': 6, 'base_path': '10000000_3_125000000', 'size': 10000000, 'data_root': 'data', 'hostname': 'localhost', 'port': 8000, 'checksum': 'c9ed00c46f0fca873f7e33ae0fbfd6df', 'creator_name': 'filesystem'}, {'number': 7, 'base_path': '10000000_3_125000000', 'size': 10000000, 'data_root': 'data', 'hostname': 'localhost', 'port': 8000, 'checksum': '0f3050401f23a93ef5c1cf73568b84a9', 'creator_name': 'filesystem'}, {'number': 8, 'base_path': '10000000_3_125000000', 'size': 10000000, 'data_root': 'data', 'hostname': 'localhost', 'port': 8000, 'checksum': '0531365c0b38c492911e1c7d6f5ceba5', 'creator_name': 'filesystem'}, {'number': 9, 'base_path': '10000000_3_125000000', 'size': 10000000, 'data_root': 'data', 'hostname': 'localhost', 'port': 8000, 'checksum': '57507141c155fef4b375e73379510c40', 'creator_name': 'filesystem'}, {'number': 10, 'base_path': '10000000_3_125000000', 'size': 10000000, 'data_root': 'data', 'hostname': 'localhost', 'port': 8000, 'checksum': '702e2a524ffc595c902ea3b234c31a98', 'creator_name': 'filesystem'}, {'number': 11, 'base_path': '10000000_3_125000000', 'size': 10000000, 'data_root': 'data', 'hostname': 'localhost', 'port': 8000, 'checksum': 'ee21713ffbb1e02b941ff9f4a4b8f99f', 'creator_name': 'filesystem'}, {'number': 12, 'base_path': '10000000_3_125000000', 'size': 10000000, 'data_root': 'data', 'hostname': 'localhost', 'port': 8000, 'checksum': '3536abfe4937a977fe629970b8f41d64', 'creator_name': 'filesystem'}, {'number': 13, 'base_path': '10000000_3_125000000', 'size': 10000000, 'data_root': 'data', 'hostname': 'localhost', 'port': 8000, 'checksum': '41c755a03487fba10cc6a347e2764d21', 'creator_name': 'filesystem'}, {'number': 14, 'base_path': '10000000_3_125000000', 'size': 10000000, 'data_root': 'data', 'hostname': 'localhost', 'port': 8000, 'checksum': 'fb4b37a708ef679b830959408da288ba', 'creator_name': 'filesystem'}, {'number': 15, 'base_path': '10000000_3_125000000', 'size': 10000000, 'data_root': 'data', 'hostname': 'localhost', 'port': 8000, 'checksum': '08a033f64f78ed3f93a1c764c0f1a60f', 'creator_name': 'filesystem'}, {'number': 16, 'base_path': '10000000_3_125000000', 'size': 10000000, 'data_root': 'data', 'hostname': 'localhost', 'port': 8000, 'checksum': '82c500edfbf57f180806d656a56cda57', 'creator_name': 'filesystem'}, {'number': 17, 'base_path': '10000000_3_125000000', 'size': 10000000, 'data_root': 'data', 'hostname': 'localhost', 'port': 8000, 'checksum': 'd39d87621fdb9536dc9be93dc5680937', 'creator_name': 'filesystem'}, {'number': 18, 'base_path': '10000000_3_125000000', 'size': 10000000, 'data_root': 'data', 'hostname': 'localhost', 'port': 8000, 'checksum': '83c47047a4e68af44312d8b04334b1e6', 'creator_name': 'filesystem'}, {'number': 19, 'base_path': '10000000_3_125000000', 'size': 10000000, 'data_root': 'data', 'hostname': 'localhost', 'port': 8000, 'checksum': '28c0687602573f2799815f79952a6e71', 'creator_name': 'filesystem'}, {'number': 20, 'base_path': '10000000_3_125000000', 'size': 10000000, 'data_root': 'data', 'hostname': 'localhost', 'port': 8000, 'checksum': '5e5a29b9ba2f59e601059e088f3c979c', 'creator_name': 'filesystem'}, {'number': 21, 'base_path': '10000000_3_125000000', 'size': 10000000, 'data_root': 'data', 'hostname': 'localhost', 'port': 8000, 'checksum': '98fe80ecf7739224eef164d8e312056b', 'creator_name': 'filesystem'}, {'number': 22, 'base_path': '10000000_3_125000000', 'size': 10000000, 'data_root': 'data', 'hostname': 'localhost', 'port': 8000, 'checksum': '83e04fbf6519f27e8c78b5363467bf81', 'creator_name': 'filesystem'}, {'number': 23, 'base_path': '10000000_3_125000000', 'size': 10000000, 'data_root': 'data', 'hostname': 'localhost', 'port': 8000, 'checksum': 'b1812291a7df41fad5598f8923277ef7', 'creator_name': 'filesystem'}, {'number': 24, 'base_path': '10000000_3_125000000', 'size': 10000000, 'data_root': 'data', 'hostname': 'localhost', 'port': 8000, 'checksum': '01f9feddf38db57c0a7b2682e9bdfb71', 'creator_name': 'filesystem'}, {'number': 25, 'base_path': '10000000_3_125000000', 'size': 10000000, 'data_root': 'data', 'hostname': 'localhost', 'port': 8000, 'checksum': 'b65b263f98c055e65473e3fc95b3f9f6', 'creator_name': 'filesystem'}, {'number': 26, 'base_path': '10000000_3_125000000', 'size': 10000000, 'data_root': 'data', 'hostname': 'localhost', 'port': 8000, 'checksum': '480e68e32327db5f7db0885c68b1f721', 'creator_name': 'filesystem'}, {'number': 27, 'base_path': '10000000_3_125000000', 'size': 10000000, 'data_root': 'data', 'hostname': 'localhost', 'port': 8000, 'checksum': '2714ae84bcfcfa9ba93e7ce068742f93', 'creator_name': 'filesystem'}, {'number': 28, 'base_path': '10000000_3_125000000', 'size': 10000000, 'data_root': 'data', 'hostname': 'localhost', 'port': 8000, 'checksum': '7afcf8ce417e6bb89724480faff2558d', 'creator_name': 'filesystem'}, {'number': 29, 'base_path': '10000000_3_125000000', 'size': 10000000, 'data_root': 'data', 'hostname': 'localhost', 'port': 8000, 'checksum': 'cfed8e88f8581f1f02493494304ac4fd', 'creator_name': 'filesystem'}, {'number': 30, 'base_path': '10000000_3_125000000', 'size': 10000000, 'data_root': 'data', 'hostname': 'localhost', 'port': 8000, 'checksum': 'b9b66a55c37fcfcd88fa448af1e4c075', 'creator_name': 'filesystem'}, {'number': 31, 'base_path': '10000000_3_125000000', 'size': 10000000, 'data_root': 'data', 'hostname': 'localhost', 'port': 8000, 'checksum': '9a35db31b7fbf2fc20644725e91d6182', 'creator_name': 'filesystem'}, {'number': 32, 'base_path': '10000000_3_125000000', 'size': 10000000, 'data_root': 'data', 'hostname': 'localhost', 'port': 8000, 'checksum': 'a22b96ea1c692aae4b87a2c34d799838', 'creator_name': 'filesystem'}, {'number': 33, 'base_path': '10000000_3_125000000', 'size': 10000000, 'data_root': 'data', 'hostname': 'localhost', 'port': 8000, 'checksum': '4c4d32c12b1eff5e519d91fed709702c', 'creator_name': 'filesystem'}, {'number': 34, 'base_path': '10000000_3_125000000', 'size': 10000000, 'data_root': 'data', 'hostname': 'localhost', 'port': 8000, 'checksum': 'a4a30d64829c8d5607d8e9cd1923351f', 'creator_name': 'filesystem'}, {'number': 35, 'base_path': '10000000_3_125000000', 'size': 10000000, 'data_root': 'data', 'hostname': 'localhost', 'port': 8000, 'checksum': '1e3b6f847c48dd27810eff098cbb729e', 'creator_name': 'filesystem'}, {'number': 36, 'base_path': '10000000_3_125000000', 'size': 10000000, 'data_root': 'data', 'hostname': 'localhost', 'port': 8000, 'checksum': 'ec9dc86180e547a1a5ce88a9c7ee222a', 'creator_name': 'filesystem'}, {'number': 37, 'base_path': '10000000_3_125000000', 'size': 10000000, 'data_root': 'data', 'hostname': 'localhost', 'port': 8000, 'checksum': '6bfb1ed40ef786272e0ff62a8907436b', 'creator_name': 'filesystem'}], 'urls': [], 'file_creator_name': 'filesystem', 'data_root': 'data'}\n"
     ]
    },
    {
     "data": {
      "application/javascript": [
       "\n",
       "            setTimeout(function() {\n",
       "                var nbb_cell_id = 6;\n",
       "                var nbb_unformatted_code = \"# dont_test\\nurl = \\\"http://localhost:8001/epochs/\\\"\\n\\nr = httpx.post(url, json=epoch.dict())\\nprint(r.status_code, r.json())\";\n",
       "                var nbb_formatted_code = \"# dont_test\\nurl = \\\"http://localhost:8001/epochs/\\\"\\n\\nr = httpx.post(url, json=epoch.dict())\\nprint(r.status_code, r.json())\";\n",
       "                var nbb_cells = Jupyter.notebook.get_cells();\n",
       "                for (var i = 0; i < nbb_cells.length; ++i) {\n",
       "                    if (nbb_cells[i].input_prompt_number == nbb_cell_id) {\n",
       "                        if (nbb_cells[i].get_text() == nbb_unformatted_code) {\n",
       "                             nbb_cells[i].set_text(nbb_formatted_code);\n",
       "                        }\n",
       "                        break;\n",
       "                    }\n",
       "                }\n",
       "            }, 500);\n",
       "            "
      ],
      "text/plain": [
       "<IPython.core.display.Javascript object>"
      ]
     },
     "metadata": {},
     "output_type": "display_data"
    }
   ],
   "source": [
    "# dont_test\n",
    "url = \"http://localhost:8001/epochs/\"\n",
    "\n",
    "r = httpx.post(url, json=epoch.dict())\n",
    "print(r.status_code, r.json())"
   ]
  },
  {
   "cell_type": "markdown",
   "id": "surprising-stereo",
   "metadata": {},
   "source": [
    "# Export"
   ]
  },
  {
   "cell_type": "code",
   "execution_count": null,
   "id": "threaded-replacement",
   "metadata": {},
   "outputs": [
    {
     "name": "stdout",
     "output_type": "stream",
     "text": [
      "Converted 00_host.ipynb.\n",
      "Converted 01_django_views.ipynb.\n",
      "Converted 01_fastapi_views.ipynb.\n",
      "Converted 01_file.ipynb.\n",
      "Converted 05_epochs.ipynb.\n",
      "Converted 06_results.ipynb.\n",
      "Converted 100_benchmark_remote_control_server.ipynb.\n",
      "Converted 10_registry.ipynb.\n",
      "Converted 25_core.ipynb.\n",
      "Converted 27_control_server.ipynb.\n",
      "Converted 28_control_client.ipynb.\n",
      "Converted 29_control_cli.ipynb.\n",
      "Converted 30_servers.ipynb.\n",
      "Converted 31_local_servers.ipynb.\n",
      "Converted 32_docker_servers.ipynb.\n",
      "Converted 40_clients.ipynb.\n",
      "Converted 41_benchmark_clients.ipynb.\n",
      "Converted 70_repositories.ipynb.\n",
      "Converted 71_sqlite_repository.ipynb.\n",
      "Converted 90_benchmark_without_benchmark.ipynb.\n",
      "Converted 98_run_benchmark.ipynb.\n",
      "Converted index.ipynb.\n"
     ]
    },
    {
     "data": {
      "application/javascript": [
       "\n",
       "            setTimeout(function() {\n",
       "                var nbb_cell_id = 14;\n",
       "                var nbb_unformatted_code = \"# dont_test\\n\\nfrom nbdev.export import notebook2script\\n\\nnotebook2script()\";\n",
       "                var nbb_formatted_code = \"# dont_test\\n\\nfrom nbdev.export import notebook2script\\n\\nnotebook2script()\";\n",
       "                var nbb_cells = Jupyter.notebook.get_cells();\n",
       "                for (var i = 0; i < nbb_cells.length; ++i) {\n",
       "                    if (nbb_cells[i].input_prompt_number == nbb_cell_id) {\n",
       "                        if (nbb_cells[i].get_text() == nbb_unformatted_code) {\n",
       "                             nbb_cells[i].set_text(nbb_formatted_code);\n",
       "                        }\n",
       "                        break;\n",
       "                    }\n",
       "                }\n",
       "            }, 500);\n",
       "            "
      ],
      "text/plain": [
       "<IPython.core.display.Javascript object>"
      ]
     },
     "metadata": {},
     "output_type": "display_data"
    }
   ],
   "source": [
    "# dont_test\n",
    "\n",
    "from nbdev.export import notebook2script\n",
    "\n",
    "notebook2script()"
   ]
  }
 ],
 "metadata": {
  "kernelspec": {
   "display_name": "Python 3",
   "language": "python",
   "name": "python3"
  }
 },
 "nbformat": 4,
 "nbformat_minor": 5
}
