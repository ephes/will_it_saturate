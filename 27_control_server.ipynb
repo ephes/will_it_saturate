{
 "cells": [
  {
   "cell_type": "code",
   "execution_count": null,
   "id": "lonely-context",
   "metadata": {},
   "outputs": [
    {
     "data": {
      "application/javascript": [
       "\n",
       "            setTimeout(function() {\n",
       "                var nbb_cell_id = 1;\n",
       "                var nbb_unformatted_code = \"%load_ext nb_black\";\n",
       "                var nbb_formatted_code = \"%load_ext nb_black\";\n",
       "                var nbb_cells = Jupyter.notebook.get_cells();\n",
       "                for (var i = 0; i < nbb_cells.length; ++i) {\n",
       "                    if (nbb_cells[i].input_prompt_number == nbb_cell_id) {\n",
       "                        if (nbb_cells[i].get_text() == nbb_unformatted_code) {\n",
       "                             nbb_cells[i].set_text(nbb_formatted_code);\n",
       "                        }\n",
       "                        break;\n",
       "                    }\n",
       "                }\n",
       "            }, 500);\n",
       "            "
      ],
      "text/plain": [
       "<IPython.core.display.Javascript object>"
      ]
     },
     "metadata": {},
     "output_type": "display_data"
    }
   ],
   "source": [
    "%load_ext nb_black"
   ]
  },
  {
   "cell_type": "code",
   "execution_count": null,
   "id": "light-application",
   "metadata": {},
   "outputs": [
    {
     "data": {
      "application/javascript": [
       "\n",
       "            setTimeout(function() {\n",
       "                var nbb_cell_id = 2;\n",
       "                var nbb_unformatted_code = \"import httpx\\n\\nfrom will_it_saturate.epochs import Epoch\";\n",
       "                var nbb_formatted_code = \"import httpx\\n\\nfrom will_it_saturate.epochs import Epoch\";\n",
       "                var nbb_cells = Jupyter.notebook.get_cells();\n",
       "                for (var i = 0; i < nbb_cells.length; ++i) {\n",
       "                    if (nbb_cells[i].input_prompt_number == nbb_cell_id) {\n",
       "                        if (nbb_cells[i].get_text() == nbb_unformatted_code) {\n",
       "                             nbb_cells[i].set_text(nbb_formatted_code);\n",
       "                        }\n",
       "                        break;\n",
       "                    }\n",
       "                }\n",
       "            }, 500);\n",
       "            "
      ],
      "text/plain": [
       "<IPython.core.display.Javascript object>"
      ]
     },
     "metadata": {},
     "output_type": "display_data"
    }
   ],
   "source": [
    "import httpx\n",
    "\n",
    "from will_it_saturate.epochs import Epoch"
   ]
  },
  {
   "cell_type": "code",
   "execution_count": null,
   "id": "capable-bahrain",
   "metadata": {},
   "outputs": [
    {
     "data": {
      "application/javascript": [
       "\n",
       "            setTimeout(function() {\n",
       "                var nbb_cell_id = 3;\n",
       "                var nbb_unformatted_code = \"# default_exp control.main\";\n",
       "                var nbb_formatted_code = \"# default_exp control.main\";\n",
       "                var nbb_cells = Jupyter.notebook.get_cells();\n",
       "                for (var i = 0; i < nbb_cells.length; ++i) {\n",
       "                    if (nbb_cells[i].input_prompt_number == nbb_cell_id) {\n",
       "                        if (nbb_cells[i].get_text() == nbb_unformatted_code) {\n",
       "                             nbb_cells[i].set_text(nbb_formatted_code);\n",
       "                        }\n",
       "                        break;\n",
       "                    }\n",
       "                }\n",
       "            }, 500);\n",
       "            "
      ],
      "text/plain": [
       "<IPython.core.display.Javascript object>"
      ]
     },
     "metadata": {},
     "output_type": "display_data"
    }
   ],
   "source": [
    "# default_exp control.main"
   ]
  },
  {
   "cell_type": "markdown",
   "id": "buried-compression",
   "metadata": {},
   "source": [
    "# fastAPI Control Server\n",
    "\n",
    "```\n",
    "uvicorn will_it_saturate.control.main:app --reload --port 8001\n",
    "```"
   ]
  },
  {
   "cell_type": "code",
   "execution_count": null,
   "id": "departmental-south",
   "metadata": {},
   "outputs": [
    {
     "data": {
      "application/javascript": [
       "\n",
       "            setTimeout(function() {\n",
       "                var nbb_cell_id = 7;\n",
       "                var nbb_unformatted_code = \"# export\\n\\nimport cpuinfo\\n\\nfrom pathlib import Path\\nfrom pydantic import BaseModel\\n\\nfrom fastapi import FastAPI\\n\\nfrom will_it_saturate.epochs import Epoch\\nfrom will_it_saturate.hosts import get_machine_id\\n\\nfrom will_it_saturate.servers import (\\n    BaseServer,\\n    FastAPIUvicornServer,\\n    NginxDockerServer,\\n    DjangoGunicornWSGIServer,\\n)\\n\\nfrom will_it_saturate.clients import ClientParameters\\n\\n\\napp = FastAPI()\\n\\nservers = {}\\n\\n\\n@app.get(\\\"/\\\")\\ndef read_root():\\n    return {\\\"Hello\\\": \\\"World/Control\\\"}\\n\\n\\n@app.post(\\\"/epochs/\\\")\\ndef create_epoch(epoch: Epoch):\\n    print(epoch)\\n    epoch.create_files()\\n    return epoch\\n\\n\\n@app.post(\\\"/servers/\\\")\\ndef create_server(server: BaseServer):\\n    print(server)\\n    global servers\\n    if server.name not in servers:\\n        created_server = FastAPIUvicornServer(name=server.name, port=5001)\\n        created_server.start()\\n        servers[server.name] = created_server\\n    return servers[server.name]\\n\\n\\n@app.get(\\\"/servers/\\\")\\ndef list_servers():\\n    return servers\\n\\n\\n@app.get(\\\"/machine/\\\")\\ndef machine():\\n    result = {\\\"machine_id\\\": get_machine_id()}\\n    result.update(cpuinfo.get_cpu_info())\\n    return result\\n\\n\\n@app.post(\\\"/measure/\\\")\\ndef measure(client_params: ClientParameters, epoch: Epoch):\\n    benchmark_client = client_params.client\\n    print(\\\"client: \\\", benchmark_client)\\n    print(\\\"epoch: \\\", epoch)\\n    return benchmark_client.measure(epoch)\";\n",
       "                var nbb_formatted_code = \"# export\\n\\nimport cpuinfo\\n\\nfrom pathlib import Path\\nfrom pydantic import BaseModel\\n\\nfrom fastapi import FastAPI\\n\\nfrom will_it_saturate.epochs import Epoch\\nfrom will_it_saturate.hosts import get_machine_id\\n\\nfrom will_it_saturate.servers import (\\n    BaseServer,\\n    FastAPIUvicornServer,\\n    NginxDockerServer,\\n    DjangoGunicornWSGIServer,\\n)\\n\\nfrom will_it_saturate.clients import ClientParameters\\n\\n\\napp = FastAPI()\\n\\nservers = {}\\n\\n\\n@app.get(\\\"/\\\")\\ndef read_root():\\n    return {\\\"Hello\\\": \\\"World/Control\\\"}\\n\\n\\n@app.post(\\\"/epochs/\\\")\\ndef create_epoch(epoch: Epoch):\\n    print(epoch)\\n    epoch.create_files()\\n    return epoch\\n\\n\\n@app.post(\\\"/servers/\\\")\\ndef create_server(server: BaseServer):\\n    print(server)\\n    global servers\\n    if server.name not in servers:\\n        created_server = FastAPIUvicornServer(name=server.name, port=5001)\\n        created_server.start()\\n        servers[server.name] = created_server\\n    return servers[server.name]\\n\\n\\n@app.get(\\\"/servers/\\\")\\ndef list_servers():\\n    return servers\\n\\n\\n@app.get(\\\"/machine/\\\")\\ndef machine():\\n    result = {\\\"machine_id\\\": get_machine_id()}\\n    result.update(cpuinfo.get_cpu_info())\\n    return result\\n\\n\\n@app.post(\\\"/measure/\\\")\\ndef measure(client_params: ClientParameters, epoch: Epoch):\\n    benchmark_client = client_params.client\\n    print(\\\"client: \\\", benchmark_client)\\n    print(\\\"epoch: \\\", epoch)\\n    return benchmark_client.measure(epoch)\";\n",
       "                var nbb_cells = Jupyter.notebook.get_cells();\n",
       "                for (var i = 0; i < nbb_cells.length; ++i) {\n",
       "                    if (nbb_cells[i].input_prompt_number == nbb_cell_id) {\n",
       "                        if (nbb_cells[i].get_text() == nbb_unformatted_code) {\n",
       "                             nbb_cells[i].set_text(nbb_formatted_code);\n",
       "                        }\n",
       "                        break;\n",
       "                    }\n",
       "                }\n",
       "            }, 500);\n",
       "            "
      ],
      "text/plain": [
       "<IPython.core.display.Javascript object>"
      ]
     },
     "metadata": {},
     "output_type": "display_data"
    }
   ],
   "source": [
    "# export\n",
    "\n",
    "import cpuinfo\n",
    "\n",
    "from pathlib import Path\n",
    "from pydantic import BaseModel\n",
    "\n",
    "from fastapi import FastAPI\n",
    "\n",
    "from will_it_saturate.epochs import Epoch\n",
    "from will_it_saturate.hosts import get_machine_id\n",
    "\n",
    "from will_it_saturate.servers import (\n",
    "    BaseServer,\n",
    "    FastAPIUvicornServer,\n",
    "    NginxDockerServer,\n",
    "    DjangoGunicornWSGIServer,\n",
    ")\n",
    "\n",
    "from will_it_saturate.clients import ClientParameters\n",
    "\n",
    "\n",
    "app = FastAPI()\n",
    "\n",
    "servers = {}\n",
    "\n",
    "\n",
    "@app.get(\"/\")\n",
    "def read_root():\n",
    "    return {\"Hello\": \"World/Control\"}\n",
    "\n",
    "\n",
    "@app.post(\"/epochs/\")\n",
    "def create_epoch(epoch: Epoch):\n",
    "    print(epoch)\n",
    "    epoch.create_files()\n",
    "    return epoch\n",
    "\n",
    "\n",
    "@app.post(\"/servers/\")\n",
    "def create_server(server: BaseServer):\n",
    "    print(server)\n",
    "    global servers\n",
    "    if server.name not in servers:\n",
    "        created_server = FastAPIUvicornServer(name=server.name, port=5001)\n",
    "        created_server.start()\n",
    "        servers[server.name] = created_server\n",
    "    return servers[server.name]\n",
    "\n",
    "\n",
    "@app.get(\"/servers/\")\n",
    "def list_servers():\n",
    "    return servers\n",
    "\n",
    "\n",
    "@app.get(\"/machine/\")\n",
    "def machine():\n",
    "    result = {\"machine_id\": get_machine_id()}\n",
    "    result.update(cpuinfo.get_cpu_info())\n",
    "    return result\n",
    "\n",
    "\n",
    "@app.post(\"/measure/\")\n",
    "def measure(client_params: ClientParameters, epoch: Epoch):\n",
    "    benchmark_client = client_params.client()\n",
    "    print(\"client: \", benchmark_client)\n",
    "    print(\"epoch: \", epoch)\n",
    "    return benchmark_client.measure(epoch)"
   ]
  },
  {
   "cell_type": "markdown",
   "id": "lesser-radical",
   "metadata": {},
   "source": [
    "# Usage"
   ]
  },
  {
   "cell_type": "code",
   "execution_count": null,
   "id": "labeled-patrick",
   "metadata": {},
   "outputs": [
    {
     "data": {
      "application/javascript": [
       "\n",
       "            setTimeout(function() {\n",
       "                var nbb_cell_id = 5;\n",
       "                var nbb_unformatted_code = \"byte = 8\\ngigabit = 10 ** 9\\nbandwidth = gigabit / byte\\nduration = 3\\nfile_size = 10 ** 7\\n\\nepoch = Epoch(\\n    file_size=file_size,\\n    duration=3,\\n    bandwith=bandwidth,\\n)\";\n",
       "                var nbb_formatted_code = \"byte = 8\\ngigabit = 10 ** 9\\nbandwidth = gigabit / byte\\nduration = 3\\nfile_size = 10 ** 7\\n\\nepoch = Epoch(\\n    file_size=file_size,\\n    duration=3,\\n    bandwith=bandwidth,\\n)\";\n",
       "                var nbb_cells = Jupyter.notebook.get_cells();\n",
       "                for (var i = 0; i < nbb_cells.length; ++i) {\n",
       "                    if (nbb_cells[i].input_prompt_number == nbb_cell_id) {\n",
       "                        if (nbb_cells[i].get_text() == nbb_unformatted_code) {\n",
       "                             nbb_cells[i].set_text(nbb_formatted_code);\n",
       "                        }\n",
       "                        break;\n",
       "                    }\n",
       "                }\n",
       "            }, 500);\n",
       "            "
      ],
      "text/plain": [
       "<IPython.core.display.Javascript object>"
      ]
     },
     "metadata": {},
     "output_type": "display_data"
    }
   ],
   "source": [
    "byte = 8\n",
    "gigabit = 10 ** 9\n",
    "bandwidth = gigabit / byte\n",
    "duration = 3\n",
    "file_size = 10 ** 7\n",
    "\n",
    "epoch = Epoch(\n",
    "    file_size=file_size,\n",
    "    duration=3,\n",
    "    bandwith=bandwidth,\n",
    ")"
   ]
  },
  {
   "cell_type": "code",
   "execution_count": null,
   "id": "smooth-insertion",
   "metadata": {},
   "outputs": [
    {
     "name": "stdout",
     "output_type": "stream",
     "text": [
      "200 {'file_size': 10000000, 'duration': 3, 'bandwidth': 125000000, 'files': [{'number': 0, 'base_path': '10000000_3_125000000', 'size': 10000000, 'data_root': 'data', 'hostname': 'localhost', 'port': 8000, 'checksum': '4a45eb0c5580122823126fc30477ce08', 'creator_name': 'filesystem'}, {'number': 1, 'base_path': '10000000_3_125000000', 'size': 10000000, 'data_root': 'data', 'hostname': 'localhost', 'port': 8000, 'checksum': '22b964829c3cd80f9627861eee97ad6f', 'creator_name': 'filesystem'}, {'number': 2, 'base_path': '10000000_3_125000000', 'size': 10000000, 'data_root': 'data', 'hostname': 'localhost', 'port': 8000, 'checksum': '2313682c8f900d9011cf3557356c0b75', 'creator_name': 'filesystem'}, {'number': 3, 'base_path': '10000000_3_125000000', 'size': 10000000, 'data_root': 'data', 'hostname': 'localhost', 'port': 8000, 'checksum': '9f09900cb8d58d1e470e087682f385b2', 'creator_name': 'filesystem'}, {'number': 4, 'base_path': '10000000_3_125000000', 'size': 10000000, 'data_root': 'data', 'hostname': 'localhost', 'port': 8000, 'checksum': '2e55ad3afc945fb3fa02e189cfe67f8e', 'creator_name': 'filesystem'}, {'number': 5, 'base_path': '10000000_3_125000000', 'size': 10000000, 'data_root': 'data', 'hostname': 'localhost', 'port': 8000, 'checksum': '313ec2ea38efe6aef2ec0e9757d52899', 'creator_name': 'filesystem'}, {'number': 6, 'base_path': '10000000_3_125000000', 'size': 10000000, 'data_root': 'data', 'hostname': 'localhost', 'port': 8000, 'checksum': '94a9f1df40f1b2f576834d3e76f18dfb', 'creator_name': 'filesystem'}, {'number': 7, 'base_path': '10000000_3_125000000', 'size': 10000000, 'data_root': 'data', 'hostname': 'localhost', 'port': 8000, 'checksum': '803541662f910cfca33bbaf0fb83958b', 'creator_name': 'filesystem'}, {'number': 8, 'base_path': '10000000_3_125000000', 'size': 10000000, 'data_root': 'data', 'hostname': 'localhost', 'port': 8000, 'checksum': '1fb112c459f7d67efaccae9f754bd9bb', 'creator_name': 'filesystem'}, {'number': 9, 'base_path': '10000000_3_125000000', 'size': 10000000, 'data_root': 'data', 'hostname': 'localhost', 'port': 8000, 'checksum': 'c1166abfc9dcb7bb5ae0203cfb5b2a25', 'creator_name': 'filesystem'}, {'number': 10, 'base_path': '10000000_3_125000000', 'size': 10000000, 'data_root': 'data', 'hostname': 'localhost', 'port': 8000, 'checksum': '533016e0162c5cfbb1e869c9c9a7e249', 'creator_name': 'filesystem'}, {'number': 11, 'base_path': '10000000_3_125000000', 'size': 10000000, 'data_root': 'data', 'hostname': 'localhost', 'port': 8000, 'checksum': 'ae2553c42ab30398c3676be67d7866db', 'creator_name': 'filesystem'}, {'number': 12, 'base_path': '10000000_3_125000000', 'size': 10000000, 'data_root': 'data', 'hostname': 'localhost', 'port': 8000, 'checksum': '7d5a8be71c778ae5657319b2e1086d43', 'creator_name': 'filesystem'}, {'number': 13, 'base_path': '10000000_3_125000000', 'size': 10000000, 'data_root': 'data', 'hostname': 'localhost', 'port': 8000, 'checksum': '6e594c98e81a256db27d38398c1ae348', 'creator_name': 'filesystem'}, {'number': 14, 'base_path': '10000000_3_125000000', 'size': 10000000, 'data_root': 'data', 'hostname': 'localhost', 'port': 8000, 'checksum': '96e6595fee0313865801a93f9f99bd67', 'creator_name': 'filesystem'}, {'number': 15, 'base_path': '10000000_3_125000000', 'size': 10000000, 'data_root': 'data', 'hostname': 'localhost', 'port': 8000, 'checksum': '3a679197df846392e8ff342bb1d6988e', 'creator_name': 'filesystem'}, {'number': 16, 'base_path': '10000000_3_125000000', 'size': 10000000, 'data_root': 'data', 'hostname': 'localhost', 'port': 8000, 'checksum': '9ac16b96d58ea0f55ef90555971b6d24', 'creator_name': 'filesystem'}, {'number': 17, 'base_path': '10000000_3_125000000', 'size': 10000000, 'data_root': 'data', 'hostname': 'localhost', 'port': 8000, 'checksum': '88c841daecd56a6f729418bad5a0a078', 'creator_name': 'filesystem'}, {'number': 18, 'base_path': '10000000_3_125000000', 'size': 10000000, 'data_root': 'data', 'hostname': 'localhost', 'port': 8000, 'checksum': '5bab7a82cacf6180e8742dccfc9789af', 'creator_name': 'filesystem'}, {'number': 19, 'base_path': '10000000_3_125000000', 'size': 10000000, 'data_root': 'data', 'hostname': 'localhost', 'port': 8000, 'checksum': '83cb97d7c85f956206853eb7e55802fb', 'creator_name': 'filesystem'}, {'number': 20, 'base_path': '10000000_3_125000000', 'size': 10000000, 'data_root': 'data', 'hostname': 'localhost', 'port': 8000, 'checksum': 'c093cc108c15f9f8b1942613d54ac276', 'creator_name': 'filesystem'}, {'number': 21, 'base_path': '10000000_3_125000000', 'size': 10000000, 'data_root': 'data', 'hostname': 'localhost', 'port': 8000, 'checksum': '2c84b7ad2ab2c313c648d04124ac1330', 'creator_name': 'filesystem'}, {'number': 22, 'base_path': '10000000_3_125000000', 'size': 10000000, 'data_root': 'data', 'hostname': 'localhost', 'port': 8000, 'checksum': 'bd15f308e252ec8c791a7b07981232d2', 'creator_name': 'filesystem'}, {'number': 23, 'base_path': '10000000_3_125000000', 'size': 10000000, 'data_root': 'data', 'hostname': 'localhost', 'port': 8000, 'checksum': 'f2d0851036ed1048c1c928c36497d8cf', 'creator_name': 'filesystem'}, {'number': 24, 'base_path': '10000000_3_125000000', 'size': 10000000, 'data_root': 'data', 'hostname': 'localhost', 'port': 8000, 'checksum': '2076e3c0ed18222be31ecd4ceb7f1a80', 'creator_name': 'filesystem'}, {'number': 25, 'base_path': '10000000_3_125000000', 'size': 10000000, 'data_root': 'data', 'hostname': 'localhost', 'port': 8000, 'checksum': 'a66066126ade072ae05be8a206009d3c', 'creator_name': 'filesystem'}, {'number': 26, 'base_path': '10000000_3_125000000', 'size': 10000000, 'data_root': 'data', 'hostname': 'localhost', 'port': 8000, 'checksum': 'a6fd6bed34c49fb385d8cd8f229f3294', 'creator_name': 'filesystem'}, {'number': 27, 'base_path': '10000000_3_125000000', 'size': 10000000, 'data_root': 'data', 'hostname': 'localhost', 'port': 8000, 'checksum': '533bd27b1c79b46100def2bdc00663d3', 'creator_name': 'filesystem'}, {'number': 28, 'base_path': '10000000_3_125000000', 'size': 10000000, 'data_root': 'data', 'hostname': 'localhost', 'port': 8000, 'checksum': '02d134c102e04af314c434e83aed56a0', 'creator_name': 'filesystem'}, {'number': 29, 'base_path': '10000000_3_125000000', 'size': 10000000, 'data_root': 'data', 'hostname': 'localhost', 'port': 8000, 'checksum': 'ed8f97a64543c033e8d0efb57362da45', 'creator_name': 'filesystem'}, {'number': 30, 'base_path': '10000000_3_125000000', 'size': 10000000, 'data_root': 'data', 'hostname': 'localhost', 'port': 8000, 'checksum': '97e164a5ec8119f241454ec74cea4c0e', 'creator_name': 'filesystem'}, {'number': 31, 'base_path': '10000000_3_125000000', 'size': 10000000, 'data_root': 'data', 'hostname': 'localhost', 'port': 8000, 'checksum': '0ff5384c42a3b69595767de8588b4796', 'creator_name': 'filesystem'}, {'number': 32, 'base_path': '10000000_3_125000000', 'size': 10000000, 'data_root': 'data', 'hostname': 'localhost', 'port': 8000, 'checksum': '147780b874e91e383a4c538437cf2ad5', 'creator_name': 'filesystem'}, {'number': 33, 'base_path': '10000000_3_125000000', 'size': 10000000, 'data_root': 'data', 'hostname': 'localhost', 'port': 8000, 'checksum': '057facaac0a1a74e7be2c0fb7c5af469', 'creator_name': 'filesystem'}, {'number': 34, 'base_path': '10000000_3_125000000', 'size': 10000000, 'data_root': 'data', 'hostname': 'localhost', 'port': 8000, 'checksum': 'd1bdea7159b3c8a1bd34b69275f14cc5', 'creator_name': 'filesystem'}, {'number': 35, 'base_path': '10000000_3_125000000', 'size': 10000000, 'data_root': 'data', 'hostname': 'localhost', 'port': 8000, 'checksum': 'b845bf6113f1c150c8566234f06b1fd1', 'creator_name': 'filesystem'}, {'number': 36, 'base_path': '10000000_3_125000000', 'size': 10000000, 'data_root': 'data', 'hostname': 'localhost', 'port': 8000, 'checksum': '4c1d4abc8522e3f40ed25c523fe00512', 'creator_name': 'filesystem'}, {'number': 37, 'base_path': '10000000_3_125000000', 'size': 10000000, 'data_root': 'data', 'hostname': 'localhost', 'port': 8000, 'checksum': 'da02b0672cd8c7b79e9774bcbb1379a1', 'creator_name': 'filesystem'}], 'urls': [], 'file_creator_name': 'filesystem', 'data_root': 'data'}\n"
     ]
    },
    {
     "data": {
      "application/javascript": [
       "\n",
       "            setTimeout(function() {\n",
       "                var nbb_cell_id = 52;\n",
       "                var nbb_unformatted_code = \"url = \\\"http://localhost:8001/epochs/\\\"\\n\\nr = httpx.post(url, json=epoch.dict())\\nprint(r.status_code, r.json())\";\n",
       "                var nbb_formatted_code = \"url = \\\"http://localhost:8001/epochs/\\\"\\n\\nr = httpx.post(url, json=epoch.dict())\\nprint(r.status_code, r.json())\";\n",
       "                var nbb_cells = Jupyter.notebook.get_cells();\n",
       "                for (var i = 0; i < nbb_cells.length; ++i) {\n",
       "                    if (nbb_cells[i].input_prompt_number == nbb_cell_id) {\n",
       "                        if (nbb_cells[i].get_text() == nbb_unformatted_code) {\n",
       "                             nbb_cells[i].set_text(nbb_formatted_code);\n",
       "                        }\n",
       "                        break;\n",
       "                    }\n",
       "                }\n",
       "            }, 500);\n",
       "            "
      ],
      "text/plain": [
       "<IPython.core.display.Javascript object>"
      ]
     },
     "metadata": {},
     "output_type": "display_data"
    }
   ],
   "source": [
    "url = \"http://localhost:8001/epochs/\"\n",
    "\n",
    "r = httpx.post(url, json=epoch.dict())\n",
    "print(r.status_code, r.json())"
   ]
  },
  {
   "cell_type": "markdown",
   "id": "surprising-stereo",
   "metadata": {},
   "source": [
    "# Export"
   ]
  },
  {
   "cell_type": "code",
   "execution_count": null,
   "id": "threaded-replacement",
   "metadata": {},
   "outputs": [
    {
     "name": "stdout",
     "output_type": "stream",
     "text": [
      "Converted 00_host.ipynb.\n",
      "Converted 01_django_views.ipynb.\n",
      "Converted 01_fastapi_views.ipynb.\n",
      "Converted 01_file.ipynb.\n",
      "Converted 05_epochs.ipynb.\n",
      "Converted 06_results.ipynb.\n",
      "Converted 25_core.ipynb.\n",
      "Converted 27_control_server.ipynb.\n",
      "Converted 28_control_client.ipynb.\n",
      "Converted 29_control_cli.ipynb.\n",
      "Converted 30_servers.ipynb.\n",
      "Converted 31_local_servers.ipynb.\n",
      "Converted 32_docker_servers.ipynb.\n",
      "Converted 40_clients.ipynb.\n",
      "Converted 41_benchmark_clients.ipynb.\n",
      "Converted 70_repositories.ipynb.\n",
      "Converted 71_sqlite_repository.ipynb.\n",
      "Converted 90_benchmark_without_benchmark.ipynb.\n",
      "Converted 98_run_benchmark.ipynb.\n",
      "Converted index.ipynb.\n"
     ]
    },
    {
     "data": {
      "application/javascript": [
       "\n",
       "            setTimeout(function() {\n",
       "                var nbb_cell_id = 9;\n",
       "                var nbb_unformatted_code = \"# dont_test\\n\\nfrom nbdev.export import notebook2script\\n\\nnotebook2script()\";\n",
       "                var nbb_formatted_code = \"# dont_test\\n\\nfrom nbdev.export import notebook2script\\n\\nnotebook2script()\";\n",
       "                var nbb_cells = Jupyter.notebook.get_cells();\n",
       "                for (var i = 0; i < nbb_cells.length; ++i) {\n",
       "                    if (nbb_cells[i].input_prompt_number == nbb_cell_id) {\n",
       "                        if (nbb_cells[i].get_text() == nbb_unformatted_code) {\n",
       "                             nbb_cells[i].set_text(nbb_formatted_code);\n",
       "                        }\n",
       "                        break;\n",
       "                    }\n",
       "                }\n",
       "            }, 500);\n",
       "            "
      ],
      "text/plain": [
       "<IPython.core.display.Javascript object>"
      ]
     },
     "metadata": {},
     "output_type": "display_data"
    }
   ],
   "source": [
    "# dont_test\n",
    "\n",
    "from nbdev.export import notebook2script\n",
    "\n",
    "notebook2script()"
   ]
  },
  {
   "cell_type": "code",
   "execution_count": null,
   "id": "7be34271",
   "metadata": {},
   "outputs": [],
   "source": []
  }
 ],
 "metadata": {
  "kernelspec": {
   "display_name": "Python 3",
   "language": "python",
   "name": "python3"
  }
 },
 "nbformat": 4,
 "nbformat_minor": 5
}
