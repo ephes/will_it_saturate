{
 "cells": [
  {
   "cell_type": "code",
   "execution_count": 2,
   "id": "automotive-brooks",
   "metadata": {},
   "outputs": [
    {
     "data": {
      "application/javascript": [
       "\n",
       "            setTimeout(function() {\n",
       "                var nbb_cell_id = 2;\n",
       "                var nbb_unformatted_code = \"# hide\\n\\n%load_ext nb_black\";\n",
       "                var nbb_formatted_code = \"# hide\\n\\n%load_ext nb_black\";\n",
       "                var nbb_cells = Jupyter.notebook.get_cells();\n",
       "                for (var i = 0; i < nbb_cells.length; ++i) {\n",
       "                    if (nbb_cells[i].input_prompt_number == nbb_cell_id) {\n",
       "                        if (nbb_cells[i].get_text() == nbb_unformatted_code) {\n",
       "                             nbb_cells[i].set_text(nbb_formatted_code);\n",
       "                        }\n",
       "                        break;\n",
       "                    }\n",
       "                }\n",
       "            }, 500);\n",
       "            "
      ],
      "text/plain": [
       "<IPython.core.display.Javascript object>"
      ]
     },
     "metadata": {},
     "output_type": "display_data"
    }
   ],
   "source": [
    "# hide\n",
    "\n",
    "%load_ext nb_black"
   ]
  },
  {
   "cell_type": "code",
   "execution_count": 3,
   "id": "incorporated-ebony",
   "metadata": {},
   "outputs": [
    {
     "data": {
      "application/javascript": [
       "\n",
       "            setTimeout(function() {\n",
       "                var nbb_cell_id = 3;\n",
       "                var nbb_unformatted_code = \"# default_exp core\";\n",
       "                var nbb_formatted_code = \"# default_exp core\";\n",
       "                var nbb_cells = Jupyter.notebook.get_cells();\n",
       "                for (var i = 0; i < nbb_cells.length; ++i) {\n",
       "                    if (nbb_cells[i].input_prompt_number == nbb_cell_id) {\n",
       "                        if (nbb_cells[i].get_text() == nbb_unformatted_code) {\n",
       "                             nbb_cells[i].set_text(nbb_formatted_code);\n",
       "                        }\n",
       "                        break;\n",
       "                    }\n",
       "                }\n",
       "            }, 500);\n",
       "            "
      ],
      "text/plain": [
       "<IPython.core.display.Javascript object>"
      ]
     },
     "metadata": {},
     "output_type": "display_data"
    }
   ],
   "source": [
    "# default_exp core"
   ]
  },
  {
   "cell_type": "markdown",
   "id": "macro-thermal",
   "metadata": {},
   "source": [
    "# module Core\n",
    "\n",
    "> Core benchmark logic"
   ]
  },
  {
   "cell_type": "code",
   "execution_count": 4,
   "id": "political-traveler",
   "metadata": {},
   "outputs": [
    {
     "data": {
      "application/javascript": [
       "\n",
       "            setTimeout(function() {\n",
       "                var nbb_cell_id = 4;\n",
       "                var nbb_unformatted_code = \"# export\\n\\nimport os\\nimport math\\nimport hashlib\\n\\nfrom pathlib import Path\\nfrom typing import Optional, Callable, Any\\n\\nfrom pydantic import BaseModel\";\n",
       "                var nbb_formatted_code = \"# export\\n\\nimport os\\nimport math\\nimport hashlib\\n\\nfrom pathlib import Path\\nfrom typing import Optional, Callable, Any\\n\\nfrom pydantic import BaseModel\";\n",
       "                var nbb_cells = Jupyter.notebook.get_cells();\n",
       "                for (var i = 0; i < nbb_cells.length; ++i) {\n",
       "                    if (nbb_cells[i].input_prompt_number == nbb_cell_id) {\n",
       "                        if (nbb_cells[i].get_text() == nbb_unformatted_code) {\n",
       "                             nbb_cells[i].set_text(nbb_formatted_code);\n",
       "                        }\n",
       "                        break;\n",
       "                    }\n",
       "                }\n",
       "            }, 500);\n",
       "            "
      ],
      "text/plain": [
       "<IPython.core.display.Javascript object>"
      ]
     },
     "metadata": {},
     "output_type": "display_data"
    }
   ],
   "source": [
    "# export\n",
    "\n",
    "import os\n",
    "import math\n",
    "import hashlib\n",
    "\n",
    "from pathlib import Path\n",
    "from typing import Optional, Callable, Any\n",
    "\n",
    "from pydantic import BaseModel"
   ]
  },
  {
   "cell_type": "markdown",
   "id": "ambient-nirvana",
   "metadata": {},
   "source": [
    "# Benchmark Files"
   ]
  },
  {
   "cell_type": "code",
   "execution_count": 5,
   "id": "anticipated-introduction",
   "metadata": {},
   "outputs": [
    {
     "data": {
      "application/javascript": [
       "\n",
       "            setTimeout(function() {\n",
       "                var nbb_cell_id = 5;\n",
       "                var nbb_unformatted_code = \"# export\\n\\n\\ndef md5sum_for_path(path):\\n    with path.open(\\\"rb\\\") as f:\\n        md5sum = hashlib.md5(f.read()).hexdigest()\\n    return md5sum\\n\\n\\nclass FilesystemCreator:\\n    def __call__(self, path, size):\\n        path.parent.mkdir(parents=True, exist_ok=True)\\n        if not path.exists():\\n            with path.open(\\\"wb\\\") as f:\\n                f.write(os.urandom(size))\\n        return md5sum_for_path(path)\\n\\n\\nclass BenchmarkFile(BaseModel):\\n    number: int\\n    base_path: str\\n    size: int\\n    data_root: str = \\\"data\\\"\\n    hostname: str = \\\"localhost\\\"\\n    port: int = 8000\\n    md5sum: Optional[str] = None\\n    creator: Callable = FilesystemCreator()\\n\\n    @property\\n    def filesystem_path(self):\\n        return Path(self.data_root) / self.base_path / str(self.number)\\n\\n    def get_or_create(self):\\n        self.md5sum = self.creator(self.filesystem_path, self.size)\\n\\n    @property\\n    def path(self):\\n        return f\\\"{self.data_root}/{self.base_path}/{self.number}\\\"\\n    \\n    @property\\n    def host(self):\\n        return f\\\"http://{self.hostname}:{self.port}\\\"\\n\\n    @property\\n    def url(self):\\n        return f\\\"{self.host}/{self.path}\\\"\";\n",
       "                var nbb_formatted_code = \"# export\\n\\n\\ndef md5sum_for_path(path):\\n    with path.open(\\\"rb\\\") as f:\\n        md5sum = hashlib.md5(f.read()).hexdigest()\\n    return md5sum\\n\\n\\nclass FilesystemCreator:\\n    def __call__(self, path, size):\\n        path.parent.mkdir(parents=True, exist_ok=True)\\n        if not path.exists():\\n            with path.open(\\\"wb\\\") as f:\\n                f.write(os.urandom(size))\\n        return md5sum_for_path(path)\\n\\n\\nclass BenchmarkFile(BaseModel):\\n    number: int\\n    base_path: str\\n    size: int\\n    data_root: str = \\\"data\\\"\\n    hostname: str = \\\"localhost\\\"\\n    port: int = 8000\\n    md5sum: Optional[str] = None\\n    creator: Callable = FilesystemCreator()\\n\\n    @property\\n    def filesystem_path(self):\\n        return Path(self.data_root) / self.base_path / str(self.number)\\n\\n    def get_or_create(self):\\n        self.md5sum = self.creator(self.filesystem_path, self.size)\\n\\n    @property\\n    def path(self):\\n        return f\\\"{self.data_root}/{self.base_path}/{self.number}\\\"\\n\\n    @property\\n    def host(self):\\n        return f\\\"http://{self.hostname}:{self.port}\\\"\\n\\n    @property\\n    def url(self):\\n        return f\\\"{self.host}/{self.path}\\\"\";\n",
       "                var nbb_cells = Jupyter.notebook.get_cells();\n",
       "                for (var i = 0; i < nbb_cells.length; ++i) {\n",
       "                    if (nbb_cells[i].input_prompt_number == nbb_cell_id) {\n",
       "                        if (nbb_cells[i].get_text() == nbb_unformatted_code) {\n",
       "                             nbb_cells[i].set_text(nbb_formatted_code);\n",
       "                        }\n",
       "                        break;\n",
       "                    }\n",
       "                }\n",
       "            }, 500);\n",
       "            "
      ],
      "text/plain": [
       "<IPython.core.display.Javascript object>"
      ]
     },
     "metadata": {},
     "output_type": "display_data"
    }
   ],
   "source": [
    "# export\n",
    "\n",
    "\n",
    "def md5sum_for_path(path):\n",
    "    with path.open(\"rb\") as f:\n",
    "        md5sum = hashlib.md5(f.read()).hexdigest()\n",
    "    return md5sum\n",
    "\n",
    "\n",
    "class FilesystemCreator:\n",
    "    def __call__(self, path, size):\n",
    "        path.parent.mkdir(parents=True, exist_ok=True)\n",
    "        if not path.exists():\n",
    "            with path.open(\"wb\") as f:\n",
    "                f.write(os.urandom(size))\n",
    "        return md5sum_for_path(path)\n",
    "\n",
    "\n",
    "class BenchmarkFile(BaseModel):\n",
    "    number: int\n",
    "    base_path: str\n",
    "    size: int\n",
    "    data_root: str = \"data\"\n",
    "    hostname: str = \"localhost\"\n",
    "    port: int = 8000\n",
    "    md5sum: Optional[str] = None\n",
    "    creator: Callable = FilesystemCreator()\n",
    "\n",
    "    @property\n",
    "    def filesystem_path(self):\n",
    "        return Path(self.data_root) / self.base_path / str(self.number)\n",
    "\n",
    "    def get_or_create(self):\n",
    "        self.md5sum = self.creator(self.filesystem_path, self.size)\n",
    "\n",
    "    @property\n",
    "    def path(self):\n",
    "        return f\"{self.data_root}/{self.base_path}/{self.number}\"\n",
    "\n",
    "    @property\n",
    "    def host(self):\n",
    "        return f\"http://{self.hostname}:{self.port}\"\n",
    "\n",
    "    @property\n",
    "    def url(self):\n",
    "        return f\"{self.host}/{self.path}\""
   ]
  },
  {
   "cell_type": "markdown",
   "id": "swedish-celtic",
   "metadata": {},
   "source": [
    "## Usage"
   ]
  },
  {
   "cell_type": "code",
   "execution_count": 6,
   "id": "dominant-yugoslavia",
   "metadata": {},
   "outputs": [
    {
     "data": {
      "text/plain": [
       "'http://localhost:8000/data/3000000_2_12500000/0'"
      ]
     },
     "execution_count": 6,
     "metadata": {},
     "output_type": "execute_result"
    },
    {
     "data": {
      "application/javascript": [
       "\n",
       "            setTimeout(function() {\n",
       "                var nbb_cell_id = 6;\n",
       "                var nbb_unformatted_code = \"base_path = \\\"3000000_2_12500000\\\"\\nbenchmark_file = BenchmarkFile(number=0, size=10 ** 6 * 3, base_path=base_path)\\nbenchmark_file.url\";\n",
       "                var nbb_formatted_code = \"base_path = \\\"3000000_2_12500000\\\"\\nbenchmark_file = BenchmarkFile(number=0, size=10 ** 6 * 3, base_path=base_path)\\nbenchmark_file.url\";\n",
       "                var nbb_cells = Jupyter.notebook.get_cells();\n",
       "                for (var i = 0; i < nbb_cells.length; ++i) {\n",
       "                    if (nbb_cells[i].input_prompt_number == nbb_cell_id) {\n",
       "                        if (nbb_cells[i].get_text() == nbb_unformatted_code) {\n",
       "                             nbb_cells[i].set_text(nbb_formatted_code);\n",
       "                        }\n",
       "                        break;\n",
       "                    }\n",
       "                }\n",
       "            }, 500);\n",
       "            "
      ],
      "text/plain": [
       "<IPython.core.display.Javascript object>"
      ]
     },
     "metadata": {},
     "output_type": "display_data"
    }
   ],
   "source": [
    "base_path = \"3000000_2_12500000\"\n",
    "benchmark_file = BenchmarkFile(number=0, size=10 ** 6 * 3, base_path=base_path)\n",
    "benchmark_file.url"
   ]
  },
  {
   "cell_type": "markdown",
   "id": "hundred-blowing",
   "metadata": {},
   "source": [
    "## Tests"
   ]
  },
  {
   "cell_type": "code",
   "execution_count": 7,
   "id": "incorporated-function",
   "metadata": {},
   "outputs": [
    {
     "data": {
      "application/javascript": [
       "\n",
       "            setTimeout(function() {\n",
       "                var nbb_cell_id = 7;\n",
       "                var nbb_unformatted_code = \"assert \\\"localhost\\\" in benchmark_file.url\\nassert base_path in benchmark_file.url\";\n",
       "                var nbb_formatted_code = \"assert \\\"localhost\\\" in benchmark_file.url\\nassert base_path in benchmark_file.url\";\n",
       "                var nbb_cells = Jupyter.notebook.get_cells();\n",
       "                for (var i = 0; i < nbb_cells.length; ++i) {\n",
       "                    if (nbb_cells[i].input_prompt_number == nbb_cell_id) {\n",
       "                        if (nbb_cells[i].get_text() == nbb_unformatted_code) {\n",
       "                             nbb_cells[i].set_text(nbb_formatted_code);\n",
       "                        }\n",
       "                        break;\n",
       "                    }\n",
       "                }\n",
       "            }, 500);\n",
       "            "
      ],
      "text/plain": [
       "<IPython.core.display.Javascript object>"
      ]
     },
     "metadata": {},
     "output_type": "display_data"
    }
   ],
   "source": [
    "assert \"localhost\" in benchmark_file.url\n",
    "assert base_path in benchmark_file.url"
   ]
  },
  {
   "cell_type": "code",
   "execution_count": 8,
   "id": "opposed-investor",
   "metadata": {},
   "outputs": [
    {
     "data": {
      "application/javascript": [
       "\n",
       "            setTimeout(function() {\n",
       "                var nbb_cell_id = 8;\n",
       "                var nbb_unformatted_code = \"file_size = 10 ** 6 * 3\\n\\n\\nclass TestCreator:\\n    def __call__(self, path, size):\\n        assert size == file_size\\n        return \\\"test_md5sum\\\"\\n\\n\\nbenchmark_file = BenchmarkFile(\\n    number=0, size=file_size, base_path=base_path, creator=TestCreator()\\n)\\nbenchmark_file.get_or_create()\";\n",
       "                var nbb_formatted_code = \"file_size = 10 ** 6 * 3\\n\\n\\nclass TestCreator:\\n    def __call__(self, path, size):\\n        assert size == file_size\\n        return \\\"test_md5sum\\\"\\n\\n\\nbenchmark_file = BenchmarkFile(\\n    number=0, size=file_size, base_path=base_path, creator=TestCreator()\\n)\\nbenchmark_file.get_or_create()\";\n",
       "                var nbb_cells = Jupyter.notebook.get_cells();\n",
       "                for (var i = 0; i < nbb_cells.length; ++i) {\n",
       "                    if (nbb_cells[i].input_prompt_number == nbb_cell_id) {\n",
       "                        if (nbb_cells[i].get_text() == nbb_unformatted_code) {\n",
       "                             nbb_cells[i].set_text(nbb_formatted_code);\n",
       "                        }\n",
       "                        break;\n",
       "                    }\n",
       "                }\n",
       "            }, 500);\n",
       "            "
      ],
      "text/plain": [
       "<IPython.core.display.Javascript object>"
      ]
     },
     "metadata": {},
     "output_type": "display_data"
    }
   ],
   "source": [
    "file_size = 10 ** 6 * 3\n",
    "\n",
    "\n",
    "class TestCreator:\n",
    "    def __call__(self, path, size):\n",
    "        assert size == file_size\n",
    "        return \"test_md5sum\"\n",
    "\n",
    "\n",
    "benchmark_file = BenchmarkFile(\n",
    "    number=0, size=file_size, base_path=base_path, creator=TestCreator()\n",
    ")\n",
    "benchmark_file.get_or_create()"
   ]
  },
  {
   "cell_type": "markdown",
   "id": "fresh-shift",
   "metadata": {},
   "source": [
    "# Benchmark Rows"
   ]
  },
  {
   "cell_type": "code",
   "execution_count": 21,
   "id": "operating-madagascar",
   "metadata": {},
   "outputs": [
    {
     "data": {
      "application/javascript": [
       "\n",
       "            setTimeout(function() {\n",
       "                var nbb_cell_id = 21;\n",
       "                var nbb_unformatted_code = \"# export\\n\\n\\nclass BenchmarkRow(BaseModel):\\n    file_size: int  # size of a single file\\n    duration: int = 30  # in seconds\\n    bandwidth: int = int(10 ** 9 / 8)  # in bytes per second\\n    files: list[BenchmarkFile] = []\\n    file_creator: Callable = FilesystemCreator()\\n    elapsed: Optional[float] = None\\n    data_root: str = \\\"data\\\"\\n\\n    def __str__(self):\\n        return f\\\"size: {self.file_size} duration: {self.duration} bandwidth: {self.bandwidth}\\\"\\n\\n    @property\\n    def base_path(self):\\n        return f\\\"{self.file_size}_{self.duration}_{self.bandwidth}\\\"\\n\\n    @property\\n    def complete_size(self):\\n        return self.duration * self.bandwidth\\n\\n    @property\\n    def number_of_files(self):\\n        return math.ceil(self.complete_size / self.file_size)\\n\\n    @property\\n    def number_of_connections(self):\\n        return math.ceil(self.bandwidth / self.file_size)\\n\\n    def get_bytes_per_second(self, elapsed):\\n        return self.complete_size / elapsed\\n\\n    @property\\n    def bytes_per_second(self):\\n        return self.complete_size / self.elapsed\\n\\n    def create_files(self):\\n        if len(self.files) > 0:\\n            return\\n        for num in range(self.number_of_files):\\n            benchmark_file = BenchmarkFile(\\n                number=num,\\n                base_path=self.base_path,\\n                size=self.file_size,\\n                creator=self.file_creator,\\n                data_root=self.data_root,\\n            )\\n            benchmark_file.get_or_create()\\n            self.files.append(benchmark_file)\";\n",
       "                var nbb_formatted_code = \"# export\\n\\n\\nclass BenchmarkRow(BaseModel):\\n    file_size: int  # size of a single file\\n    duration: int = 30  # in seconds\\n    bandwidth: int = int(10 ** 9 / 8)  # in bytes per second\\n    files: list[BenchmarkFile] = []\\n    file_creator: Callable = FilesystemCreator()\\n    elapsed: Optional[float] = None\\n    data_root: str = \\\"data\\\"\\n\\n    def __str__(self):\\n        return f\\\"size: {self.file_size} duration: {self.duration} bandwidth: {self.bandwidth}\\\"\\n\\n    @property\\n    def base_path(self):\\n        return f\\\"{self.file_size}_{self.duration}_{self.bandwidth}\\\"\\n\\n    @property\\n    def complete_size(self):\\n        return self.duration * self.bandwidth\\n\\n    @property\\n    def number_of_files(self):\\n        return math.ceil(self.complete_size / self.file_size)\\n\\n    @property\\n    def number_of_connections(self):\\n        return math.ceil(self.bandwidth / self.file_size)\\n\\n    def get_bytes_per_second(self, elapsed):\\n        return self.complete_size / elapsed\\n\\n    @property\\n    def bytes_per_second(self):\\n        return self.complete_size / self.elapsed\\n\\n    def create_files(self):\\n        if len(self.files) > 0:\\n            return\\n        for num in range(self.number_of_files):\\n            benchmark_file = BenchmarkFile(\\n                number=num,\\n                base_path=self.base_path,\\n                size=self.file_size,\\n                creator=self.file_creator,\\n                data_root=self.data_root,\\n            )\\n            benchmark_file.get_or_create()\\n            self.files.append(benchmark_file)\";\n",
       "                var nbb_cells = Jupyter.notebook.get_cells();\n",
       "                for (var i = 0; i < nbb_cells.length; ++i) {\n",
       "                    if (nbb_cells[i].input_prompt_number == nbb_cell_id) {\n",
       "                        if (nbb_cells[i].get_text() == nbb_unformatted_code) {\n",
       "                             nbb_cells[i].set_text(nbb_formatted_code);\n",
       "                        }\n",
       "                        break;\n",
       "                    }\n",
       "                }\n",
       "            }, 500);\n",
       "            "
      ],
      "text/plain": [
       "<IPython.core.display.Javascript object>"
      ]
     },
     "metadata": {},
     "output_type": "display_data"
    }
   ],
   "source": [
    "# export\n",
    "\n",
    "\n",
    "class BenchmarkRow(BaseModel):\n",
    "    file_size: int  # size of a single file\n",
    "    duration: int = 30  # in seconds\n",
    "    bandwidth: int = int(10 ** 9 / 8)  # in bytes per second\n",
    "    files: list[BenchmarkFile] = []\n",
    "    file_creator: Callable = FilesystemCreator()\n",
    "    elapsed: Optional[float] = None\n",
    "    data_root: str = \"data\"\n",
    "\n",
    "    def __str__(self):\n",
    "        return f\"size: {self.file_size} duration: {self.duration} bandwidth: {self.bandwidth}\"\n",
    "\n",
    "    @property\n",
    "    def base_path(self):\n",
    "        return f\"{self.file_size}_{self.duration}_{self.bandwidth}\"\n",
    "\n",
    "    @property\n",
    "    def complete_size(self):\n",
    "        return self.duration * self.bandwidth\n",
    "\n",
    "    @property\n",
    "    def number_of_files(self):\n",
    "        return math.ceil(self.complete_size / self.file_size)\n",
    "\n",
    "    @property\n",
    "    def number_of_connections(self):\n",
    "        return math.ceil(self.bandwidth / self.file_size)\n",
    "\n",
    "    def get_bytes_per_second(self, elapsed):\n",
    "        return self.complete_size / elapsed\n",
    "\n",
    "    @property\n",
    "    def bytes_per_second(self):\n",
    "        return self.complete_size / self.elapsed\n",
    "\n",
    "    def create_files(self):\n",
    "        if len(self.files) > 0:\n",
    "            return\n",
    "        for num in range(self.number_of_files):\n",
    "            benchmark_file = BenchmarkFile(\n",
    "                number=num,\n",
    "                base_path=self.base_path,\n",
    "                size=self.file_size,\n",
    "                creator=self.file_creator,\n",
    "                data_root=self.data_root,\n",
    "            )\n",
    "            benchmark_file.get_or_create()\n",
    "            self.files.append(benchmark_file)"
   ]
  },
  {
   "cell_type": "code",
   "execution_count": 22,
   "id": "searching-official",
   "metadata": {},
   "outputs": [
    {
     "data": {
      "application/javascript": [
       "\n",
       "            setTimeout(function() {\n",
       "                var nbb_cell_id = 22;\n",
       "                var nbb_unformatted_code = \"# hide\\n\\n\\nclass DummyCreator:\\n    def __call__(self, path, size):\\n        return \\\"dummy\\\"\";\n",
       "                var nbb_formatted_code = \"# hide\\n\\n\\nclass DummyCreator:\\n    def __call__(self, path, size):\\n        return \\\"dummy\\\"\";\n",
       "                var nbb_cells = Jupyter.notebook.get_cells();\n",
       "                for (var i = 0; i < nbb_cells.length; ++i) {\n",
       "                    if (nbb_cells[i].input_prompt_number == nbb_cell_id) {\n",
       "                        if (nbb_cells[i].get_text() == nbb_unformatted_code) {\n",
       "                             nbb_cells[i].set_text(nbb_formatted_code);\n",
       "                        }\n",
       "                        break;\n",
       "                    }\n",
       "                }\n",
       "            }, 500);\n",
       "            "
      ],
      "text/plain": [
       "<IPython.core.display.Javascript object>"
      ]
     },
     "metadata": {},
     "output_type": "display_data"
    }
   ],
   "source": [
    "# hide\n",
    "\n",
    "\n",
    "class DummyCreator:\n",
    "    def __call__(self, path, size):\n",
    "        return \"dummy\""
   ]
  },
  {
   "cell_type": "markdown",
   "id": "intermediate-contrary",
   "metadata": {},
   "source": [
    "## Usage"
   ]
  },
  {
   "cell_type": "code",
   "execution_count": 23,
   "id": "patent-twins",
   "metadata": {},
   "outputs": [
    {
     "name": "stdout",
     "output_type": "stream",
     "text": [
      "9\n"
     ]
    },
    {
     "data": {
      "application/javascript": [
       "\n",
       "            setTimeout(function() {\n",
       "                var nbb_cell_id = 23;\n",
       "                var nbb_unformatted_code = \"byte = 8\\nhundred_mbit = 10 ** 8\\nbandwidth = hundred_mbit / byte\\nduration = 2  # seconds\\nfile_size = 10 ** 6 * 3  # 100MB\\n\\nbenchmark_row = BenchmarkRow(\\n    file_size=file_size,\\n    duration=duration,\\n    bandwidth=bandwidth,\\n    file_creator=DummyCreator(),\\n)\\nbenchmark_row.create_files()\\nprint(len(benchmark_row.files))\";\n",
       "                var nbb_formatted_code = \"byte = 8\\nhundred_mbit = 10 ** 8\\nbandwidth = hundred_mbit / byte\\nduration = 2  # seconds\\nfile_size = 10 ** 6 * 3  # 100MB\\n\\nbenchmark_row = BenchmarkRow(\\n    file_size=file_size,\\n    duration=duration,\\n    bandwidth=bandwidth,\\n    file_creator=DummyCreator(),\\n)\\nbenchmark_row.create_files()\\nprint(len(benchmark_row.files))\";\n",
       "                var nbb_cells = Jupyter.notebook.get_cells();\n",
       "                for (var i = 0; i < nbb_cells.length; ++i) {\n",
       "                    if (nbb_cells[i].input_prompt_number == nbb_cell_id) {\n",
       "                        if (nbb_cells[i].get_text() == nbb_unformatted_code) {\n",
       "                             nbb_cells[i].set_text(nbb_formatted_code);\n",
       "                        }\n",
       "                        break;\n",
       "                    }\n",
       "                }\n",
       "            }, 500);\n",
       "            "
      ],
      "text/plain": [
       "<IPython.core.display.Javascript object>"
      ]
     },
     "metadata": {},
     "output_type": "display_data"
    }
   ],
   "source": [
    "byte = 8\n",
    "hundred_mbit = 10 ** 8\n",
    "bandwidth = hundred_mbit / byte\n",
    "duration = 2  # seconds\n",
    "file_size = 10 ** 6 * 3  # 100MB\n",
    "\n",
    "benchmark_row = BenchmarkRow(\n",
    "    file_size=file_size,\n",
    "    duration=duration,\n",
    "    bandwidth=bandwidth,\n",
    "    file_creator=DummyCreator(),\n",
    ")\n",
    "benchmark_row.create_files()\n",
    "print(len(benchmark_row.files))"
   ]
  },
  {
   "cell_type": "markdown",
   "id": "champion-blind",
   "metadata": {},
   "source": [
    "## Tests"
   ]
  },
  {
   "cell_type": "code",
   "execution_count": 24,
   "id": "spatial-proposition",
   "metadata": {},
   "outputs": [
    {
     "data": {
      "application/javascript": [
       "\n",
       "            setTimeout(function() {\n",
       "                var nbb_cell_id = 24;\n",
       "                var nbb_unformatted_code = \"byte = 8\\ngigabit = 10 ** 9\\n\\ntest_params = {\\n    \\\"file_size\\\": 10 ** 6 * 10,  # 10MB\\n    \\\"duration\\\": 30,\\n    \\\"bandwidth\\\": gigabit / byte,\\n    \\\"file_creator\\\": DummyCreator(),\\n}\\n\\ntest_benchmark_row = BenchmarkRow(**test_params)\";\n",
       "                var nbb_formatted_code = \"byte = 8\\ngigabit = 10 ** 9\\n\\ntest_params = {\\n    \\\"file_size\\\": 10 ** 6 * 10,  # 10MB\\n    \\\"duration\\\": 30,\\n    \\\"bandwidth\\\": gigabit / byte,\\n    \\\"file_creator\\\": DummyCreator(),\\n}\\n\\ntest_benchmark_row = BenchmarkRow(**test_params)\";\n",
       "                var nbb_cells = Jupyter.notebook.get_cells();\n",
       "                for (var i = 0; i < nbb_cells.length; ++i) {\n",
       "                    if (nbb_cells[i].input_prompt_number == nbb_cell_id) {\n",
       "                        if (nbb_cells[i].get_text() == nbb_unformatted_code) {\n",
       "                             nbb_cells[i].set_text(nbb_formatted_code);\n",
       "                        }\n",
       "                        break;\n",
       "                    }\n",
       "                }\n",
       "            }, 500);\n",
       "            "
      ],
      "text/plain": [
       "<IPython.core.display.Javascript object>"
      ]
     },
     "metadata": {},
     "output_type": "display_data"
    }
   ],
   "source": [
    "byte = 8\n",
    "gigabit = 10 ** 9\n",
    "\n",
    "test_params = {\n",
    "    \"file_size\": 10 ** 6 * 10,  # 10MB\n",
    "    \"duration\": 30,\n",
    "    \"bandwidth\": gigabit / byte,\n",
    "    \"file_creator\": DummyCreator(),\n",
    "}\n",
    "\n",
    "test_benchmark_row = BenchmarkRow(**test_params)"
   ]
  },
  {
   "cell_type": "code",
   "execution_count": 25,
   "id": "understanding-wealth",
   "metadata": {},
   "outputs": [
    {
     "data": {
      "application/javascript": [
       "\n",
       "            setTimeout(function() {\n",
       "                var nbb_cell_id = 25;\n",
       "                var nbb_unformatted_code = \"assert test_benchmark_row.bandwidth == 125000000\\nassert test_benchmark_row.number_of_files == 375\\nassert test_benchmark_row.get_bytes_per_second(30.0) == test_benchmark_row.bandwidth\\nassert test_benchmark_row.number_of_connections == 13\";\n",
       "                var nbb_formatted_code = \"assert test_benchmark_row.bandwidth == 125000000\\nassert test_benchmark_row.number_of_files == 375\\nassert test_benchmark_row.get_bytes_per_second(30.0) == test_benchmark_row.bandwidth\\nassert test_benchmark_row.number_of_connections == 13\";\n",
       "                var nbb_cells = Jupyter.notebook.get_cells();\n",
       "                for (var i = 0; i < nbb_cells.length; ++i) {\n",
       "                    if (nbb_cells[i].input_prompt_number == nbb_cell_id) {\n",
       "                        if (nbb_cells[i].get_text() == nbb_unformatted_code) {\n",
       "                             nbb_cells[i].set_text(nbb_formatted_code);\n",
       "                        }\n",
       "                        break;\n",
       "                    }\n",
       "                }\n",
       "            }, 500);\n",
       "            "
      ],
      "text/plain": [
       "<IPython.core.display.Javascript object>"
      ]
     },
     "metadata": {},
     "output_type": "display_data"
    }
   ],
   "source": [
    "assert test_benchmark_row.bandwidth == 125000000\n",
    "assert test_benchmark_row.number_of_files == 375\n",
    "assert test_benchmark_row.get_bytes_per_second(30.0) == test_benchmark_row.bandwidth\n",
    "assert test_benchmark_row.number_of_connections == 13"
   ]
  },
  {
   "cell_type": "code",
   "execution_count": 26,
   "id": "korean-subdivision",
   "metadata": {},
   "outputs": [
    {
     "data": {
      "application/javascript": [
       "\n",
       "            setTimeout(function() {\n",
       "                var nbb_cell_id = 26;\n",
       "                var nbb_unformatted_code = \"test_benchmark_row.create_files()\\nassert len(test_benchmark_row.files) == test_benchmark_row.number_of_files\\n\\n# assert we don't generate files twice\\ntest_benchmark_row.create_files()\\nassert len(test_benchmark_row.files) == test_benchmark_row.number_of_files\";\n",
       "                var nbb_formatted_code = \"test_benchmark_row.create_files()\\nassert len(test_benchmark_row.files) == test_benchmark_row.number_of_files\\n\\n# assert we don't generate files twice\\ntest_benchmark_row.create_files()\\nassert len(test_benchmark_row.files) == test_benchmark_row.number_of_files\";\n",
       "                var nbb_cells = Jupyter.notebook.get_cells();\n",
       "                for (var i = 0; i < nbb_cells.length; ++i) {\n",
       "                    if (nbb_cells[i].input_prompt_number == nbb_cell_id) {\n",
       "                        if (nbb_cells[i].get_text() == nbb_unformatted_code) {\n",
       "                             nbb_cells[i].set_text(nbb_formatted_code);\n",
       "                        }\n",
       "                        break;\n",
       "                    }\n",
       "                }\n",
       "            }, 500);\n",
       "            "
      ],
      "text/plain": [
       "<IPython.core.display.Javascript object>"
      ]
     },
     "metadata": {},
     "output_type": "display_data"
    }
   ],
   "source": [
    "test_benchmark_row.create_files()\n",
    "assert len(test_benchmark_row.files) == test_benchmark_row.number_of_files\n",
    "\n",
    "# assert we don't generate files twice\n",
    "test_benchmark_row.create_files()\n",
    "assert len(test_benchmark_row.files) == test_benchmark_row.number_of_files"
   ]
  },
  {
   "cell_type": "markdown",
   "id": "official-chile",
   "metadata": {},
   "source": [
    "# Core Benchmark Model"
   ]
  },
  {
   "cell_type": "code",
   "execution_count": 27,
   "id": "hairy-soccer",
   "metadata": {},
   "outputs": [
    {
     "data": {
      "application/javascript": [
       "\n",
       "            setTimeout(function() {\n",
       "                var nbb_cell_id = 27;\n",
       "                var nbb_unformatted_code = \"# export\\n\\n\\nclass Benchmark(BaseModel):\\n    duration: int = 30  # in seconds\\n    bandwidth: int = int(10 ** 9 / 8)  # in bytes per second\\n    rows: list[BenchmarkRow] = []\\n    file_creator: Callable = FilesystemCreator()\\n\\n    def create_rows(self, file_sizes):\\n        if len(self.rows) > 0:\\n            return\\n        kwargs = dict(self)\\n        del kwargs[\\\"rows\\\"]\\n        for file_size in file_sizes:\\n            benchmark_row = BenchmarkRow(file_size=file_size, **kwargs)\\n            benchmark_row.create_files()\\n            self.rows.append(benchmark_row)\";\n",
       "                var nbb_formatted_code = \"# export\\n\\n\\nclass Benchmark(BaseModel):\\n    duration: int = 30  # in seconds\\n    bandwidth: int = int(10 ** 9 / 8)  # in bytes per second\\n    rows: list[BenchmarkRow] = []\\n    file_creator: Callable = FilesystemCreator()\\n\\n    def create_rows(self, file_sizes):\\n        if len(self.rows) > 0:\\n            return\\n        kwargs = dict(self)\\n        del kwargs[\\\"rows\\\"]\\n        for file_size in file_sizes:\\n            benchmark_row = BenchmarkRow(file_size=file_size, **kwargs)\\n            benchmark_row.create_files()\\n            self.rows.append(benchmark_row)\";\n",
       "                var nbb_cells = Jupyter.notebook.get_cells();\n",
       "                for (var i = 0; i < nbb_cells.length; ++i) {\n",
       "                    if (nbb_cells[i].input_prompt_number == nbb_cell_id) {\n",
       "                        if (nbb_cells[i].get_text() == nbb_unformatted_code) {\n",
       "                             nbb_cells[i].set_text(nbb_formatted_code);\n",
       "                        }\n",
       "                        break;\n",
       "                    }\n",
       "                }\n",
       "            }, 500);\n",
       "            "
      ],
      "text/plain": [
       "<IPython.core.display.Javascript object>"
      ]
     },
     "metadata": {},
     "output_type": "display_data"
    }
   ],
   "source": [
    "# export\n",
    "\n",
    "\n",
    "class Benchmark(BaseModel):\n",
    "    duration: int = 30  # in seconds\n",
    "    bandwidth: int = int(10 ** 9 / 8)  # in bytes per second\n",
    "    rows: list[BenchmarkRow] = []\n",
    "    file_creator: Callable = FilesystemCreator()\n",
    "\n",
    "    def create_rows(self, file_sizes):\n",
    "        if len(self.rows) > 0:\n",
    "            return\n",
    "        kwargs = dict(self)\n",
    "        del kwargs[\"rows\"]\n",
    "        for file_size in file_sizes:\n",
    "            benchmark_row = BenchmarkRow(file_size=file_size, **kwargs)\n",
    "            benchmark_row.create_files()\n",
    "            self.rows.append(benchmark_row)"
   ]
  },
  {
   "cell_type": "markdown",
   "id": "veterinary-capability",
   "metadata": {},
   "source": [
    "## Usage"
   ]
  },
  {
   "cell_type": "code",
   "execution_count": 28,
   "id": "common-combine",
   "metadata": {},
   "outputs": [
    {
     "name": "stdout",
     "output_type": "stream",
     "text": [
      "3\n"
     ]
    },
    {
     "data": {
      "application/javascript": [
       "\n",
       "            setTimeout(function() {\n",
       "                var nbb_cell_id = 28;\n",
       "                var nbb_unformatted_code = \"byte = 8\\nhundred_mbit = 10 ** 8\\nbandwidth = hundred_mbit / byte\\nduration = 2  # seconds\\nfile_size = 10 ** 6 * 3  # 100MB\\n\\nbenchmark = Benchmark(\\n    duration=duration, bandwidth=bandwidth, file_creator=DummyCreator()\\n)\\nbenchmark.create_rows([10 ** 7, 10 ** 6, 10 ** 5])\\nprint(len(benchmark.rows))\";\n",
       "                var nbb_formatted_code = \"byte = 8\\nhundred_mbit = 10 ** 8\\nbandwidth = hundred_mbit / byte\\nduration = 2  # seconds\\nfile_size = 10 ** 6 * 3  # 100MB\\n\\nbenchmark = Benchmark(\\n    duration=duration, bandwidth=bandwidth, file_creator=DummyCreator()\\n)\\nbenchmark.create_rows([10 ** 7, 10 ** 6, 10 ** 5])\\nprint(len(benchmark.rows))\";\n",
       "                var nbb_cells = Jupyter.notebook.get_cells();\n",
       "                for (var i = 0; i < nbb_cells.length; ++i) {\n",
       "                    if (nbb_cells[i].input_prompt_number == nbb_cell_id) {\n",
       "                        if (nbb_cells[i].get_text() == nbb_unformatted_code) {\n",
       "                             nbb_cells[i].set_text(nbb_formatted_code);\n",
       "                        }\n",
       "                        break;\n",
       "                    }\n",
       "                }\n",
       "            }, 500);\n",
       "            "
      ],
      "text/plain": [
       "<IPython.core.display.Javascript object>"
      ]
     },
     "metadata": {},
     "output_type": "display_data"
    }
   ],
   "source": [
    "byte = 8\n",
    "hundred_mbit = 10 ** 8\n",
    "bandwidth = hundred_mbit / byte\n",
    "duration = 2  # seconds\n",
    "file_size = 10 ** 6 * 3  # 100MB\n",
    "\n",
    "benchmark = Benchmark(\n",
    "    duration=duration, bandwidth=bandwidth, file_creator=DummyCreator()\n",
    ")\n",
    "benchmark.create_rows([10 ** 7, 10 ** 6, 10 ** 5])\n",
    "print(len(benchmark.rows))"
   ]
  },
  {
   "cell_type": "markdown",
   "id": "unusual-youth",
   "metadata": {},
   "source": [
    "## Tests"
   ]
  },
  {
   "cell_type": "code",
   "execution_count": 29,
   "id": "missing-egypt",
   "metadata": {},
   "outputs": [
    {
     "data": {
      "application/javascript": [
       "\n",
       "            setTimeout(function() {\n",
       "                var nbb_cell_id = 29;\n",
       "                var nbb_unformatted_code = \"byte = 8\\ngigabit = 10 ** 9\\n\\ntest_params = {\\n    \\\"duration\\\": 30,\\n    \\\"bandwidth\\\": gigabit / byte,\\n    \\\"file_creator\\\": DummyCreator(),\\n}\\n\\ntest_benchmark = Benchmark(**test_params)\";\n",
       "                var nbb_formatted_code = \"byte = 8\\ngigabit = 10 ** 9\\n\\ntest_params = {\\n    \\\"duration\\\": 30,\\n    \\\"bandwidth\\\": gigabit / byte,\\n    \\\"file_creator\\\": DummyCreator(),\\n}\\n\\ntest_benchmark = Benchmark(**test_params)\";\n",
       "                var nbb_cells = Jupyter.notebook.get_cells();\n",
       "                for (var i = 0; i < nbb_cells.length; ++i) {\n",
       "                    if (nbb_cells[i].input_prompt_number == nbb_cell_id) {\n",
       "                        if (nbb_cells[i].get_text() == nbb_unformatted_code) {\n",
       "                             nbb_cells[i].set_text(nbb_formatted_code);\n",
       "                        }\n",
       "                        break;\n",
       "                    }\n",
       "                }\n",
       "            }, 500);\n",
       "            "
      ],
      "text/plain": [
       "<IPython.core.display.Javascript object>"
      ]
     },
     "metadata": {},
     "output_type": "display_data"
    }
   ],
   "source": [
    "byte = 8\n",
    "gigabit = 10 ** 9\n",
    "\n",
    "test_params = {\n",
    "    \"duration\": 30,\n",
    "    \"bandwidth\": gigabit / byte,\n",
    "    \"file_creator\": DummyCreator(),\n",
    "}\n",
    "\n",
    "test_benchmark = Benchmark(**test_params)"
   ]
  },
  {
   "cell_type": "code",
   "execution_count": 30,
   "id": "spatial-coating",
   "metadata": {},
   "outputs": [
    {
     "data": {
      "application/javascript": [
       "\n",
       "            setTimeout(function() {\n",
       "                var nbb_cell_id = 30;\n",
       "                var nbb_unformatted_code = \"file_sizes = [10 ** 7, 10 ** 6, 10 ** 5]\\ntest_benchmark.create_rows(file_sizes)\\nassert len(test_benchmark.rows) == len(file_sizes)\";\n",
       "                var nbb_formatted_code = \"file_sizes = [10 ** 7, 10 ** 6, 10 ** 5]\\ntest_benchmark.create_rows(file_sizes)\\nassert len(test_benchmark.rows) == len(file_sizes)\";\n",
       "                var nbb_cells = Jupyter.notebook.get_cells();\n",
       "                for (var i = 0; i < nbb_cells.length; ++i) {\n",
       "                    if (nbb_cells[i].input_prompt_number == nbb_cell_id) {\n",
       "                        if (nbb_cells[i].get_text() == nbb_unformatted_code) {\n",
       "                             nbb_cells[i].set_text(nbb_formatted_code);\n",
       "                        }\n",
       "                        break;\n",
       "                    }\n",
       "                }\n",
       "            }, 500);\n",
       "            "
      ],
      "text/plain": [
       "<IPython.core.display.Javascript object>"
      ]
     },
     "metadata": {},
     "output_type": "display_data"
    }
   ],
   "source": [
    "file_sizes = [10 ** 7, 10 ** 6, 10 ** 5]\n",
    "test_benchmark.create_rows(file_sizes)\n",
    "assert len(test_benchmark.rows) == len(file_sizes)"
   ]
  },
  {
   "cell_type": "markdown",
   "id": "electronic-tampa",
   "metadata": {},
   "source": [
    "# Export"
   ]
  },
  {
   "cell_type": "code",
   "execution_count": 31,
   "id": "cooked-image",
   "metadata": {},
   "outputs": [
    {
     "name": "stdout",
     "output_type": "stream",
     "text": [
      "Converted 00_core.ipynb.\n",
      "Converted 01_serve_files.ipynb.\n",
      "Converted 02_run_benchmark.ipynb.\n",
      "Converted 03_create_files_old.ipynb.\n",
      "Converted 04_use_nginx_to_serve_files.ipynb.\n",
      "Converted 05_run_wrk_benchmark.ipynb.\n",
      "Converted index.ipynb.\n"
     ]
    },
    {
     "data": {
      "application/javascript": [
       "\n",
       "            setTimeout(function() {\n",
       "                var nbb_cell_id = 31;\n",
       "                var nbb_unformatted_code = \"from nbdev.export import notebook2script\\n\\nnotebook2script()\";\n",
       "                var nbb_formatted_code = \"from nbdev.export import notebook2script\\n\\nnotebook2script()\";\n",
       "                var nbb_cells = Jupyter.notebook.get_cells();\n",
       "                for (var i = 0; i < nbb_cells.length; ++i) {\n",
       "                    if (nbb_cells[i].input_prompt_number == nbb_cell_id) {\n",
       "                        if (nbb_cells[i].get_text() == nbb_unformatted_code) {\n",
       "                             nbb_cells[i].set_text(nbb_formatted_code);\n",
       "                        }\n",
       "                        break;\n",
       "                    }\n",
       "                }\n",
       "            }, 500);\n",
       "            "
      ],
      "text/plain": [
       "<IPython.core.display.Javascript object>"
      ]
     },
     "metadata": {},
     "output_type": "display_data"
    }
   ],
   "source": [
    "from nbdev.export import notebook2script\n",
    "\n",
    "notebook2script()"
   ]
  }
 ],
 "metadata": {
  "kernelspec": {
   "display_name": "Python 3",
   "language": "python",
   "name": "python3"
  },
  "language_info": {
   "codemirror_mode": {
    "name": "ipython",
    "version": 3
   },
   "file_extension": ".py",
   "mimetype": "text/x-python",
   "name": "python",
   "nbconvert_exporter": "python",
   "pygments_lexer": "ipython3",
   "version": "3.9.1"
  }
 },
 "nbformat": 4,
 "nbformat_minor": 5
}
