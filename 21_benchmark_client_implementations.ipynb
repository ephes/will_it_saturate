{
 "cells": [
  {
   "cell_type": "code",
   "execution_count": null,
   "metadata": {},
   "outputs": [
    {
     "data": {
      "application/javascript": [
       "\n",
       "            setTimeout(function() {\n",
       "                var nbb_cell_id = 2;\n",
       "                var nbb_unformatted_code = \"# hide\\n\\n%load_ext nb_black\";\n",
       "                var nbb_formatted_code = \"# hide\\n\\n%load_ext nb_black\";\n",
       "                var nbb_cells = Jupyter.notebook.get_cells();\n",
       "                for (var i = 0; i < nbb_cells.length; ++i) {\n",
       "                    if (nbb_cells[i].input_prompt_number == nbb_cell_id) {\n",
       "                        if (nbb_cells[i].get_text() == nbb_unformatted_code) {\n",
       "                             nbb_cells[i].set_text(nbb_formatted_code);\n",
       "                        }\n",
       "                        break;\n",
       "                    }\n",
       "                }\n",
       "            }, 500);\n",
       "            "
      ],
      "text/plain": [
       "<IPython.core.display.Javascript object>"
      ]
     },
     "metadata": {},
     "output_type": "display_data"
    }
   ],
   "source": [
    "# hide\n",
    "\n",
    "%load_ext nb_black"
   ]
  },
  {
   "cell_type": "code",
   "execution_count": null,
   "metadata": {},
   "outputs": [
    {
     "data": {
      "application/javascript": [
       "\n",
       "            setTimeout(function() {\n",
       "                var nbb_cell_id = 3;\n",
       "                var nbb_unformatted_code = \"# default_exp clients\";\n",
       "                var nbb_formatted_code = \"# default_exp clients\";\n",
       "                var nbb_cells = Jupyter.notebook.get_cells();\n",
       "                for (var i = 0; i < nbb_cells.length; ++i) {\n",
       "                    if (nbb_cells[i].input_prompt_number == nbb_cell_id) {\n",
       "                        if (nbb_cells[i].get_text() == nbb_unformatted_code) {\n",
       "                             nbb_cells[i].set_text(nbb_formatted_code);\n",
       "                        }\n",
       "                        break;\n",
       "                    }\n",
       "                }\n",
       "            }, 500);\n",
       "            "
      ],
      "text/plain": [
       "<IPython.core.display.Javascript object>"
      ]
     },
     "metadata": {},
     "output_type": "display_data"
    }
   ],
   "source": [
    "# default_exp clients"
   ]
  },
  {
   "cell_type": "code",
   "execution_count": null,
   "metadata": {},
   "outputs": [
    {
     "data": {
      "application/javascript": [
       "\n",
       "            setTimeout(function() {\n",
       "                var nbb_cell_id = 4;\n",
       "                var nbb_unformatted_code = \"from will_it_saturate.clients import BaseClient\\nfrom will_it_saturate.registry import register_model\";\n",
       "                var nbb_formatted_code = \"from will_it_saturate.clients import BaseClient\\nfrom will_it_saturate.registry import register_model\";\n",
       "                var nbb_cells = Jupyter.notebook.get_cells();\n",
       "                for (var i = 0; i < nbb_cells.length; ++i) {\n",
       "                    if (nbb_cells[i].input_prompt_number == nbb_cell_id) {\n",
       "                        if (nbb_cells[i].get_text() == nbb_unformatted_code) {\n",
       "                             nbb_cells[i].set_text(nbb_formatted_code);\n",
       "                        }\n",
       "                        break;\n",
       "                    }\n",
       "                }\n",
       "            }, 500);\n",
       "            "
      ],
      "text/plain": [
       "<IPython.core.display.Javascript object>"
      ]
     },
     "metadata": {},
     "output_type": "display_data"
    }
   ],
   "source": [
    "from will_it_saturate.clients import BaseClient\n",
    "from will_it_saturate.registry import register_model"
   ]
  },
  {
   "cell_type": "code",
   "execution_count": null,
   "metadata": {},
   "outputs": [
    {
     "data": {
      "application/javascript": [
       "\n",
       "            setTimeout(function() {\n",
       "                var nbb_cell_id = 4;\n",
       "                var nbb_unformatted_code = \"# export\\n\\nimport os\\nimport math\\nimport time\\nimport httpx\\nimport asyncio\\nimport aiohttp\\nimport subprocess\\n\\nfrom pathlib import Path\\nfrom multiprocessing import Pool\\nfrom multiprocessing import set_start_method\\n\\n# from will_it_saturate.old_core import Benchmark\\nfrom will_it_saturate.servers import BaseServer\";\n",
       "                var nbb_formatted_code = \"# export\\n\\nimport os\\nimport math\\nimport time\\nimport httpx\\nimport asyncio\\nimport aiohttp\\nimport subprocess\\n\\nfrom pathlib import Path\\nfrom multiprocessing import Pool\\nfrom multiprocessing import set_start_method\\n\\n# from will_it_saturate.old_core import Benchmark\\nfrom will_it_saturate.servers import BaseServer\";\n",
       "                var nbb_cells = Jupyter.notebook.get_cells();\n",
       "                for (var i = 0; i < nbb_cells.length; ++i) {\n",
       "                    if (nbb_cells[i].input_prompt_number == nbb_cell_id) {\n",
       "                        if (nbb_cells[i].get_text() == nbb_unformatted_code) {\n",
       "                             nbb_cells[i].set_text(nbb_formatted_code);\n",
       "                        }\n",
       "                        break;\n",
       "                    }\n",
       "                }\n",
       "            }, 500);\n",
       "            "
      ],
      "text/plain": [
       "<IPython.core.display.Javascript object>"
      ]
     },
     "metadata": {},
     "output_type": "display_data"
    }
   ],
   "source": [
    "# export\n",
    "\n",
    "import os\n",
    "import math\n",
    "import time\n",
    "import httpx\n",
    "import asyncio\n",
    "import aiohttp\n",
    "import subprocess\n",
    "\n",
    "from pathlib import Path\n",
    "from multiprocessing import Pool\n",
    "from multiprocessing import set_start_method\n",
    "\n",
    "# from will_it_saturate.old_core import Benchmark\n",
    "from will_it_saturate.servers import BaseServer"
   ]
  },
  {
   "cell_type": "code",
   "execution_count": null,
   "metadata": {},
   "outputs": [
    {
     "data": {
      "application/javascript": [
       "\n",
       "            setTimeout(function() {\n",
       "                var nbb_cell_id = 5;\n",
       "                var nbb_unformatted_code = \"# os.environ[\\\"OBJC_DISABLE_INITIALIZE_FORK_SAFETY\\\"] = \\\"YES\\\"\\n# set_start_method(\\\"fork\\\")\\n# print(os.environ[\\\"OBJC_DISABLE_INITIALIZE_FORK_SAFETY\\\"])\";\n",
       "                var nbb_formatted_code = \"# os.environ[\\\"OBJC_DISABLE_INITIALIZE_FORK_SAFETY\\\"] = \\\"YES\\\"\\n# set_start_method(\\\"fork\\\")\\n# print(os.environ[\\\"OBJC_DISABLE_INITIALIZE_FORK_SAFETY\\\"])\";\n",
       "                var nbb_cells = Jupyter.notebook.get_cells();\n",
       "                for (var i = 0; i < nbb_cells.length; ++i) {\n",
       "                    if (nbb_cells[i].input_prompt_number == nbb_cell_id) {\n",
       "                        if (nbb_cells[i].get_text() == nbb_unformatted_code) {\n",
       "                             nbb_cells[i].set_text(nbb_formatted_code);\n",
       "                        }\n",
       "                        break;\n",
       "                    }\n",
       "                }\n",
       "            }, 500);\n",
       "            "
      ],
      "text/plain": [
       "<IPython.core.display.Javascript object>"
      ]
     },
     "metadata": {},
     "output_type": "display_data"
    }
   ],
   "source": [
    "# os.environ[\"OBJC_DISABLE_INITIALIZE_FORK_SAFETY\"] = \"YES\"\n",
    "# set_start_method(\"fork\")\n",
    "# print(os.environ[\"OBJC_DISABLE_INITIALIZE_FORK_SAFETY\"])"
   ]
  },
  {
   "cell_type": "markdown",
   "metadata": {},
   "source": [
    "## Caveats\n",
    "\n",
    "On macOS increase open file limit with:\n",
    "\n",
    "```\n",
    "ulimit -n 2048\n",
    "```\n",
    "\n",
    "Before starting the fastAPI Server with:\n",
    "\n",
    "```\n",
    "uvicorn will_it_saturate.fastapi.main:app --reload\n",
    "```\n",
    "\n",
    "It's not really possible to test forked client from this notebook. I don't know why. It works in the 03_run_benchmark script. Here I have to set_start_method(\"fork\") and other ugly stuff."
   ]
  },
  {
   "cell_type": "code",
   "execution_count": null,
   "metadata": {},
   "outputs": [
    {
     "data": {
      "application/javascript": [
       "\n",
       "            setTimeout(function() {\n",
       "                var nbb_cell_id = 6;\n",
       "                var nbb_unformatted_code = \"# dont_test\\n\\nbyte = 8\\ngigabit = 10 ** 9\\nbandwidth = gigabit / byte\\n\\n# file_sizes = [10 ** 7, 10 ** 6]\\nfile_sizes = [10 ** 7, 10 ** 6, 10 ** 5]\\n# file_sizes = [10 ** 7]\\n\\n# benchmark = Benchmark(\\n#     bandwidth=bandwidth,\\n#     duration=3,\\n#     file_sizes=file_sizes,\\n# )\\n# benchmark.create_epochs()\";\n",
       "                var nbb_formatted_code = \"# dont_test\\n\\nbyte = 8\\ngigabit = 10 ** 9\\nbandwidth = gigabit / byte\\n\\n# file_sizes = [10 ** 7, 10 ** 6]\\nfile_sizes = [10 ** 7, 10 ** 6, 10 ** 5]\\n# file_sizes = [10 ** 7]\\n\\n# benchmark = Benchmark(\\n#     bandwidth=bandwidth,\\n#     duration=3,\\n#     file_sizes=file_sizes,\\n# )\\n# benchmark.create_epochs()\";\n",
       "                var nbb_cells = Jupyter.notebook.get_cells();\n",
       "                for (var i = 0; i < nbb_cells.length; ++i) {\n",
       "                    if (nbb_cells[i].input_prompt_number == nbb_cell_id) {\n",
       "                        if (nbb_cells[i].get_text() == nbb_unformatted_code) {\n",
       "                             nbb_cells[i].set_text(nbb_formatted_code);\n",
       "                        }\n",
       "                        break;\n",
       "                    }\n",
       "                }\n",
       "            }, 500);\n",
       "            "
      ],
      "text/plain": [
       "<IPython.core.display.Javascript object>"
      ]
     },
     "metadata": {},
     "output_type": "display_data"
    }
   ],
   "source": [
    "# dont_test\n",
    "\n",
    "byte = 8\n",
    "gigabit = 10 ** 9\n",
    "bandwidth = gigabit / byte\n",
    "\n",
    "# file_sizes = [10 ** 7, 10 ** 6]\n",
    "file_sizes = [10 ** 7, 10 ** 6, 10 ** 5]\n",
    "# file_sizes = [10 ** 7]\n",
    "\n",
    "# benchmark = Benchmark(\n",
    "#     bandwidth=bandwidth,\n",
    "#     duration=3,\n",
    "#     file_sizes=file_sizes,\n",
    "# )\n",
    "# benchmark.create_epochs()"
   ]
  },
  {
   "cell_type": "code",
   "execution_count": null,
   "metadata": {},
   "outputs": [
    {
     "data": {
      "application/javascript": [
       "\n",
       "            setTimeout(function() {\n",
       "                var nbb_cell_id = 7;\n",
       "                var nbb_unformatted_code = \"# export\\n\\n\\n# just here because of broken nbdev confusing lua with python\\ncounter = 0\\nrequest = None\\n\\n\\n@register_model\\nclass HttpxClient(BaseClient):\\n    async def measure_server(self, epoch):\\n        print(\\\"measure server\\\")\\n        print(epoch.urls[0])\\n        max_connections = min(epoch.number_of_connections, 100)\\n        limits = httpx.Limits(\\n            max_keepalive_connections=5, max_connections=max_connections\\n        )\\n        timeout = httpx.Timeout(30.0, connect=60.0)\\n        start = time.perf_counter()\\n        async with httpx.AsyncClient(limits=limits, timeout=timeout) as client:\\n            responses = await asyncio.gather(*[client.get(url) for url in epoch.urls])\\n        elapsed = time.perf_counter() - start\\n        print(\\\"done: \\\", elapsed)\\n        print(\\\"responses status: \\\", responses[0].status_code)\\n        return elapsed, responses\\n\\n    def measure_in_new_process(self, epoch):\\n        print(\\\"new process\\\")\\n        elapsed, responses = asyncio.run(self.measure_server(epoch))\\n        self.verify_checksums(epoch, responses)\\n        return elapsed\\n\\n    def measure(self, epoch):\\n        print(\\\"measure\\\")\\n        with Pool(1) as p:\\n            [result] = p.map(self.measure_in_new_process, [epoch])\\n        return result\\n\\n\\n\\n\\n# def run_httpx():\\n#     byte = 8\\n#     gigabit = 10 ** 9\\n#     bandwidth = gigabit / byte\\n# \\n#     # file_sizes = [10 ** 7, 10 ** 6]\\n#     # file_sizes = [10 ** 7, 10 ** 6, 10 ** 5]\\n#     file_sizes = [10 ** 7]\\n# \\n#     benchmark = Benchmark(\\n#         bandwidth=bandwidth,\\n#         duration=3,\\n#         file_sizes=file_sizes,\\n#         servers=[BenchmarkServer(name=\\\"uvicorn\\\")],\\n#         clients=[HttpxClient(name=\\\"httpx\\\")],\\n#     )\\n#     benchmark.create_rows()\\n#     benchmark.run()\\n#     print(benchmark.results_frame)\\n    \";\n",
       "                var nbb_formatted_code = \"# export\\n\\n\\n# just here because of broken nbdev confusing lua with python\\ncounter = 0\\nrequest = None\\n\\n\\n@register_model\\nclass HttpxClient(BaseClient):\\n    async def measure_server(self, epoch):\\n        print(\\\"measure server\\\")\\n        print(epoch.urls[0])\\n        max_connections = min(epoch.number_of_connections, 100)\\n        limits = httpx.Limits(\\n            max_keepalive_connections=5, max_connections=max_connections\\n        )\\n        timeout = httpx.Timeout(30.0, connect=60.0)\\n        start = time.perf_counter()\\n        async with httpx.AsyncClient(limits=limits, timeout=timeout) as client:\\n            responses = await asyncio.gather(*[client.get(url) for url in epoch.urls])\\n        elapsed = time.perf_counter() - start\\n        print(\\\"done: \\\", elapsed)\\n        print(\\\"responses status: \\\", responses[0].status_code)\\n        return elapsed, responses\\n\\n    def measure_in_new_process(self, epoch):\\n        print(\\\"new process\\\")\\n        elapsed, responses = asyncio.run(self.measure_server(epoch))\\n        self.verify_checksums(epoch, responses)\\n        return elapsed\\n\\n    def measure(self, epoch):\\n        print(\\\"measure\\\")\\n        with Pool(1) as p:\\n            [result] = p.map(self.measure_in_new_process, [epoch])\\n        return result\\n\\n\\n# def run_httpx():\\n#     byte = 8\\n#     gigabit = 10 ** 9\\n#     bandwidth = gigabit / byte\\n#\\n#     # file_sizes = [10 ** 7, 10 ** 6]\\n#     # file_sizes = [10 ** 7, 10 ** 6, 10 ** 5]\\n#     file_sizes = [10 ** 7]\\n#\\n#     benchmark = Benchmark(\\n#         bandwidth=bandwidth,\\n#         duration=3,\\n#         file_sizes=file_sizes,\\n#         servers=[BenchmarkServer(name=\\\"uvicorn\\\")],\\n#         clients=[HttpxClient(name=\\\"httpx\\\")],\\n#     )\\n#     benchmark.create_rows()\\n#     benchmark.run()\\n#     print(benchmark.results_frame)\";\n",
       "                var nbb_cells = Jupyter.notebook.get_cells();\n",
       "                for (var i = 0; i < nbb_cells.length; ++i) {\n",
       "                    if (nbb_cells[i].input_prompt_number == nbb_cell_id) {\n",
       "                        if (nbb_cells[i].get_text() == nbb_unformatted_code) {\n",
       "                             nbb_cells[i].set_text(nbb_formatted_code);\n",
       "                        }\n",
       "                        break;\n",
       "                    }\n",
       "                }\n",
       "            }, 500);\n",
       "            "
      ],
      "text/plain": [
       "<IPython.core.display.Javascript object>"
      ]
     },
     "metadata": {},
     "output_type": "display_data"
    }
   ],
   "source": [
    "# export\n",
    "\n",
    "\n",
    "# just here because of broken nbdev confusing lua with python\n",
    "counter = 0\n",
    "request = None\n",
    "\n",
    "\n",
    "@register_model\n",
    "class HttpxClient(BaseClient):\n",
    "    async def measure_server(self, epoch):\n",
    "        print(\"measure server\")\n",
    "        print(epoch.urls[0])\n",
    "        max_connections = min(epoch.number_of_connections, 50)\n",
    "        limits = httpx.Limits(\n",
    "            max_keepalive_connections=10, max_connections=max_connections\n",
    "        )\n",
    "        timeout = httpx.Timeout(30.0, connect=60.0)\n",
    "        start = time.perf_counter()\n",
    "        async with httpx.AsyncClient(limits=limits, timeout=timeout) as client:\n",
    "            responses = await asyncio.gather(*[client.get(url) for url in epoch.urls])\n",
    "        elapsed = time.perf_counter() - start\n",
    "        print(\"done: \", elapsed)\n",
    "        print(\"responses status: \", responses[0].status_code)\n",
    "        return elapsed, responses\n",
    "\n",
    "    def measure_in_new_process(self, epoch):\n",
    "        print(\"new process\")\n",
    "        elapsed, responses = asyncio.run(self.measure_server(epoch))\n",
    "        self.verify_checksums(epoch, responses)\n",
    "        return elapsed\n",
    "\n",
    "    def measure(self, epoch):\n",
    "        print(\"measure\")\n",
    "        with Pool(1) as p:\n",
    "            [result] = p.map(self.measure_in_new_process, [epoch])\n",
    "        return result\n",
    "\n",
    "\n",
    "\n",
    "\n",
    "# def run_httpx():\n",
    "#     byte = 8\n",
    "#     gigabit = 10 ** 9\n",
    "#     bandwidth = gigabit / byte\n",
    "# \n",
    "#     # file_sizes = [10 ** 7, 10 ** 6]\n",
    "#     # file_sizes = [10 ** 7, 10 ** 6, 10 ** 5]\n",
    "#     file_sizes = [10 ** 7]\n",
    "# \n",
    "#     benchmark = Benchmark(\n",
    "#         bandwidth=bandwidth,\n",
    "#         duration=3,\n",
    "#         file_sizes=file_sizes,\n",
    "#         servers=[BenchmarkServer(name=\"uvicorn\")],\n",
    "#         clients=[HttpxClient(name=\"httpx\")],\n",
    "#     )\n",
    "#     benchmark.create_rows()\n",
    "#     benchmark.run()\n",
    "#     print(benchmark.results_frame)\n",
    "    \n",
    "\n"
   ]
  },
  {
   "cell_type": "code",
   "execution_count": null,
   "metadata": {},
   "outputs": [
    {
     "data": {
      "application/javascript": [
       "\n",
       "            setTimeout(function() {\n",
       "                var nbb_cell_id = 8;\n",
       "                var nbb_unformatted_code = \"# dont_test\\n\\n# client = HttpxClient()\\n# elapsed, responses = await client.measure_server(benchmark.epochs[0])\\n# print(elapsed)\";\n",
       "                var nbb_formatted_code = \"# dont_test\\n\\n# client = HttpxClient()\\n# elapsed, responses = await client.measure_server(benchmark.epochs[0])\\n# print(elapsed)\";\n",
       "                var nbb_cells = Jupyter.notebook.get_cells();\n",
       "                for (var i = 0; i < nbb_cells.length; ++i) {\n",
       "                    if (nbb_cells[i].input_prompt_number == nbb_cell_id) {\n",
       "                        if (nbb_cells[i].get_text() == nbb_unformatted_code) {\n",
       "                             nbb_cells[i].set_text(nbb_formatted_code);\n",
       "                        }\n",
       "                        break;\n",
       "                    }\n",
       "                }\n",
       "            }, 500);\n",
       "            "
      ],
      "text/plain": [
       "<IPython.core.display.Javascript object>"
      ]
     },
     "metadata": {},
     "output_type": "display_data"
    }
   ],
   "source": [
    "# dont_test\n",
    "\n",
    "# client = HttpxClient()\n",
    "# elapsed, responses = await client.measure_server(benchmark.epochs[0])\n",
    "# print(elapsed)"
   ]
  },
  {
   "cell_type": "markdown",
   "metadata": {},
   "source": [
    "## aiohttp"
   ]
  },
  {
   "cell_type": "code",
   "execution_count": null,
   "metadata": {},
   "outputs": [
    {
     "data": {
      "application/javascript": [
       "\n",
       "            setTimeout(function() {\n",
       "                var nbb_cell_id = 9;\n",
       "                var nbb_unformatted_code = \"# export\\n\\n\\nclass AioHttpResponse:\\n    def __init__(self, url, content):\\n        self.url = url\\n        self.content = content\\n\\n\\n@register_model\\nclass AioHttpClient(BaseClient):\\n    async def fetch_page(self, session, url):\\n        async with session.get(url) as response:\\n            content = await response.read()\\n            return AioHttpResponse(url, content)\\n\\n    async def measure_server(self, epoch):\\n        print(\\\"measure server\\\")\\n        print(epoch.urls[0])\\n        urls = epoch.urls\\n        max_connections = min(epoch.number_of_connections, 400)\\n        conn = aiohttp.TCPConnector(limit=max_connections)\\n        responses = []\\n        start = time.perf_counter()\\n        async with aiohttp.ClientSession(connector=conn) as session:\\n            tasks = [asyncio.create_task(self.fetch_page(session, url)) for url in urls]\\n            responses = await asyncio.gather(*tasks)\\n        elapsed = time.perf_counter() - start\\n        return elapsed, responses\\n\\n    def measure_in_new_process(self, epoch):\\n        elapsed, responses = asyncio.run(self.measure_server(epoch))\\n        self.verify_checksums(epoch, responses)\\n        return elapsed\\n\\n    def measure(self, epoch):\\n        with Pool(1) as p:\\n            [result] = p.map(self.measure_in_new_process, [epoch])\\n        return result\";\n",
       "                var nbb_formatted_code = \"# export\\n\\n\\nclass AioHttpResponse:\\n    def __init__(self, url, content):\\n        self.url = url\\n        self.content = content\\n\\n\\n@register_model\\nclass AioHttpClient(BaseClient):\\n    async def fetch_page(self, session, url):\\n        async with session.get(url) as response:\\n            content = await response.read()\\n            return AioHttpResponse(url, content)\\n\\n    async def measure_server(self, epoch):\\n        print(\\\"measure server\\\")\\n        print(epoch.urls[0])\\n        urls = epoch.urls\\n        max_connections = min(epoch.number_of_connections, 400)\\n        conn = aiohttp.TCPConnector(limit=max_connections)\\n        responses = []\\n        start = time.perf_counter()\\n        async with aiohttp.ClientSession(connector=conn) as session:\\n            tasks = [asyncio.create_task(self.fetch_page(session, url)) for url in urls]\\n            responses = await asyncio.gather(*tasks)\\n        elapsed = time.perf_counter() - start\\n        return elapsed, responses\\n\\n    def measure_in_new_process(self, epoch):\\n        elapsed, responses = asyncio.run(self.measure_server(epoch))\\n        self.verify_checksums(epoch, responses)\\n        return elapsed\\n\\n    def measure(self, epoch):\\n        with Pool(1) as p:\\n            [result] = p.map(self.measure_in_new_process, [epoch])\\n        return result\";\n",
       "                var nbb_cells = Jupyter.notebook.get_cells();\n",
       "                for (var i = 0; i < nbb_cells.length; ++i) {\n",
       "                    if (nbb_cells[i].input_prompt_number == nbb_cell_id) {\n",
       "                        if (nbb_cells[i].get_text() == nbb_unformatted_code) {\n",
       "                             nbb_cells[i].set_text(nbb_formatted_code);\n",
       "                        }\n",
       "                        break;\n",
       "                    }\n",
       "                }\n",
       "            }, 500);\n",
       "            "
      ],
      "text/plain": [
       "<IPython.core.display.Javascript object>"
      ]
     },
     "metadata": {},
     "output_type": "display_data"
    }
   ],
   "source": [
    "# export\n",
    "\n",
    "\n",
    "class AioHttpResponse:\n",
    "    def __init__(self, url, content):\n",
    "        self.url = url\n",
    "        self.content = content\n",
    "\n",
    "\n",
    "@register_model\n",
    "class AioHttpClient(BaseClient):\n",
    "    async def fetch_page(self, session, url):\n",
    "        async with session.get(url) as response:\n",
    "            content = await response.read()\n",
    "            return AioHttpResponse(url, content)\n",
    "\n",
    "    async def measure_server(self, epoch):\n",
    "        print(\"measure server\")\n",
    "        print(epoch.urls[0])\n",
    "        urls = epoch.urls\n",
    "        max_connections = min(epoch.number_of_connections, 200)\n",
    "        conn = aiohttp.TCPConnector(limit=max_connections)\n",
    "        responses = []\n",
    "        start = time.perf_counter()\n",
    "        async with aiohttp.ClientSession(connector=conn) as session:\n",
    "            tasks = [asyncio.create_task(self.fetch_page(session, url)) for url in urls]\n",
    "            responses = await asyncio.gather(*tasks)\n",
    "        elapsed = time.perf_counter() - start\n",
    "        return elapsed, responses\n",
    "\n",
    "    def measure_in_new_process(self, epoch):\n",
    "        elapsed, responses = asyncio.run(self.measure_server(epoch))\n",
    "        self.verify_checksums(epoch, responses)\n",
    "        return elapsed\n",
    "\n",
    "    def measure(self, epoch):\n",
    "        with Pool(1) as p:\n",
    "            [result] = p.map(self.measure_in_new_process, [epoch])\n",
    "        return result"
   ]
  },
  {
   "cell_type": "code",
   "execution_count": null,
   "metadata": {},
   "outputs": [],
   "source": [
    "# dont_test\n",
    "\n",
    "client = AioHttpClient()\n",
    "elapsed, responses = await client.measure_server(benchmark.epochs[0])\n",
    "print(elapsed)"
   ]
  },
  {
   "cell_type": "markdown",
   "metadata": {},
   "source": [
    "## wrk"
   ]
  },
  {
   "cell_type": "code",
   "execution_count": null,
   "metadata": {},
   "outputs": [
    {
     "data": {
      "application/javascript": [
       "\n",
       "            setTimeout(function() {\n",
       "                var nbb_cell_id = 5;\n",
       "                var nbb_unformatted_code = \"# export\\n\\n\\n@register_model\\nclass WrkClient(BaseClient):\\n    connections: int = 20\\n    # set duration to two minutes since it is 10 seconds by default and kills the benchmark\\n    duration: int = 120\\n    threads: int = 1\\n    host: str = \\\"localhost\\\"\\n    port: str = \\\"8000\\\"\\n\\n    def create_urls_string(self, epoch):\\n        urls = []\\n        for bf in epoch.files:\\n            urls.append(f'    {{path = \\\"/{bf.path}\\\"}},')\\n        return \\\"\\\\n\\\".join(urls)\\n\\n    def create_lua_script(self, epoch):\\n        requests_head = \\\"requests = {\\\"\\n        requests_tail = \\\"}\\\"\\n        lua_body = \\\"\\\"\\\"\\nprint(requests[1])\\n\\nif #requests <= 0 then\\n  print(\\\"multiplerequests: No requests found.\\\")\\n  os.exit()\\nend\\n\\nprint(\\\"multiplerequests: Found \\\" .. #requests .. \\\" requests\\\")\\n\\ncounter = 1\\nrequest = function()\\n  -- Get the next requests array element\\n  local request_object = requests[counter]\\n\\n  -- Increment the counter\\n  counter = counter + 1\\n\\n  -- If the counter is longer than the requests array length -> stop and exit\\n  if counter > #requests then\\n    wrk.thread:stop()\\n    os.exit()\\n  end\\n\\n  -- Return the request object with the current URL path\\n  return wrk.format(request_object.method, request_object.path, request_object.headers, request_object.body)\\nend\\n        \\\"\\\"\\\"\\n        urls = self.create_urls_string(epoch)\\n        lua = \\\"\\\\n\\\".join([requests_head, urls, requests_tail, lua_body])\\n        with Path(f\\\"wrk.lua\\\").open(\\\"w\\\") as f:\\n            f.write(lua)\\n\\n    def run_wrk(self):\\n        kwargs = {\\\"capture_output\\\": True, \\\"text\\\": True}\\n        start = time.perf_counter()\\n        command = [\\n            \\\"wrk\\\",\\n            \\\"-c\\\",\\n            str(self.connections),\\n            \\\"-t\\\",\\n            str(self.threads),\\n            \\\"-s\\\",\\n            \\\"wrk.lua\\\",\\n            f\\\"http://{self.host}:{self.port}\\\",\\n        ]\\n        print(\\\"command: \\\", \\\" \\\".join(command))\\n        output = subprocess.run(\\n            command,\\n            **kwargs,\\n        )\\n        elapsed = time.perf_counter() - start\\n        return elapsed\\n\\n    def measure(self, epoch):\\n        print(\\\"measure? wtf?\\\")\\n        self.create_lua_script(epoch)\\n        elapsed = self.run_wrk()\\n        return elapsed\";\n",
       "                var nbb_formatted_code = \"# export\\n\\n\\n@register_model\\nclass WrkClient(BaseClient):\\n    connections: int = 20\\n    # set duration to two minutes since it is 10 seconds by default and kills the benchmark\\n    duration: int = 120\\n    threads: int = 1\\n    host: str = \\\"localhost\\\"\\n    port: str = \\\"8000\\\"\\n\\n    def create_urls_string(self, epoch):\\n        urls = []\\n        for bf in epoch.files:\\n            urls.append(f'    {{path = \\\"/{bf.path}\\\"}},')\\n        return \\\"\\\\n\\\".join(urls)\\n\\n    def create_lua_script(self, epoch):\\n        requests_head = \\\"requests = {\\\"\\n        requests_tail = \\\"}\\\"\\n        lua_body = \\\"\\\"\\\"\\nprint(requests[1])\\n\\nif #requests <= 0 then\\n  print(\\\"multiplerequests: No requests found.\\\")\\n  os.exit()\\nend\\n\\nprint(\\\"multiplerequests: Found \\\" .. #requests .. \\\" requests\\\")\\n\\ncounter = 1\\nrequest = function()\\n  -- Get the next requests array element\\n  local request_object = requests[counter]\\n\\n  -- Increment the counter\\n  counter = counter + 1\\n\\n  -- If the counter is longer than the requests array length -> stop and exit\\n  if counter > #requests then\\n    wrk.thread:stop()\\n    os.exit()\\n  end\\n\\n  -- Return the request object with the current URL path\\n  return wrk.format(request_object.method, request_object.path, request_object.headers, request_object.body)\\nend\\n        \\\"\\\"\\\"\\n        urls = self.create_urls_string(epoch)\\n        lua = \\\"\\\\n\\\".join([requests_head, urls, requests_tail, lua_body])\\n        with Path(f\\\"wrk.lua\\\").open(\\\"w\\\") as f:\\n            f.write(lua)\\n\\n    def run_wrk(self):\\n        kwargs = {\\\"capture_output\\\": True, \\\"text\\\": True}\\n        start = time.perf_counter()\\n        command = [\\n            \\\"wrk\\\",\\n            \\\"-c\\\",\\n            str(self.connections),\\n            \\\"-t\\\",\\n            str(self.threads),\\n            \\\"-s\\\",\\n            \\\"wrk.lua\\\",\\n            f\\\"http://{self.host}:{self.port}\\\",\\n        ]\\n        print(\\\"command: \\\", \\\" \\\".join(command))\\n        output = subprocess.run(\\n            command,\\n            **kwargs,\\n        )\\n        elapsed = time.perf_counter() - start\\n        return elapsed\\n\\n    def measure(self, epoch):\\n        print(\\\"measure? wtf?\\\")\\n        self.create_lua_script(epoch)\\n        elapsed = self.run_wrk()\\n        return elapsed\";\n",
       "                var nbb_cells = Jupyter.notebook.get_cells();\n",
       "                for (var i = 0; i < nbb_cells.length; ++i) {\n",
       "                    if (nbb_cells[i].input_prompt_number == nbb_cell_id) {\n",
       "                        if (nbb_cells[i].get_text() == nbb_unformatted_code) {\n",
       "                             nbb_cells[i].set_text(nbb_formatted_code);\n",
       "                        }\n",
       "                        break;\n",
       "                    }\n",
       "                }\n",
       "            }, 500);\n",
       "            "
      ],
      "text/plain": [
       "<IPython.core.display.Javascript object>"
      ]
     },
     "metadata": {},
     "output_type": "display_data"
    }
   ],
   "source": [
    "# export\n",
    "\n",
    "\n",
    "@register_model\n",
    "class WrkClient(BaseClient):\n",
    "    connections: int = 20\n",
    "    # set duration to two minutes since it is 10 seconds by default and kills the benchmark\n",
    "    duration: int = 120\n",
    "    threads: int = 1\n",
    "    host: str = \"localhost\"\n",
    "    port: str = \"8000\"\n",
    "\n",
    "    def create_urls_string(self, epoch):\n",
    "        urls = []\n",
    "        for bf in epoch.files:\n",
    "            urls.append(f'    {{path = \"/{bf.path}\"}},')\n",
    "        return \"\\n\".join(urls)\n",
    "\n",
    "    def create_lua_script(self, epoch):\n",
    "        requests_head = \"requests = {\"\n",
    "        requests_tail = \"}\"\n",
    "        lua_body = \"\"\"\n",
    "print(requests[1])\n",
    "\n",
    "if #requests <= 0 then\n",
    "  print(\"multiplerequests: No requests found.\")\n",
    "  os.exit()\n",
    "end\n",
    "\n",
    "print(\"multiplerequests: Found \" .. #requests .. \" requests\")\n",
    "\n",
    "counter = 1\n",
    "request = function()\n",
    "  -- Get the next requests array element\n",
    "  local request_object = requests[counter]\n",
    "\n",
    "  -- Increment the counter\n",
    "  counter = counter + 1\n",
    "\n",
    "  -- If the counter is longer than the requests array length -> stop and exit\n",
    "  if counter > #requests then\n",
    "    wrk.thread:stop()\n",
    "    os.exit()\n",
    "  end\n",
    "\n",
    "  -- Return the request object with the current URL path\n",
    "  return wrk.format(request_object.method, request_object.path, request_object.headers, request_object.body)\n",
    "end\n",
    "        \"\"\"\n",
    "        urls = self.create_urls_string(epoch)\n",
    "        lua = \"\\n\".join([requests_head, urls, requests_tail, lua_body])\n",
    "        with Path(f\"wrk.lua\").open(\"w\") as f:\n",
    "            f.write(lua)\n",
    "\n",
    "    def run_wrk(self):\n",
    "        kwargs = {\"capture_output\": True, \"text\": True}\n",
    "        start = time.perf_counter()\n",
    "        command = [\n",
    "            \"wrk\",\n",
    "            \"-d\",\n",
    "            str(self.duration),\n",
    "            \"-c\",\n",
    "            str(self.connections),\n",
    "            \"-t\",\n",
    "            str(self.threads),\n",
    "            \"-s\",\n",
    "            \"wrk.lua\",\n",
    "            f\"http://{self.host}:{self.port}\",\n",
    "        ]\n",
    "        print(\"command: \", \" \".join(command))\n",
    "        output = subprocess.run(\n",
    "            command,\n",
    "            **kwargs,\n",
    "        )\n",
    "        elapsed = time.perf_counter() - start\n",
    "        return elapsed\n",
    "\n",
    "    def measure(self, epoch):\n",
    "        print(\"measure? wtf?\")\n",
    "        self.create_lua_script(epoch)\n",
    "        elapsed = self.run_wrk()\n",
    "        return elapsed"
   ]
  },
  {
   "cell_type": "markdown",
   "metadata": {},
   "source": [
    "## Wrk CLI command\n",
    "\n",
    "```shell\n",
    "time wrk -d 30 -c 20 -t 1 -s wrk.lua http://staging.wersdoerfer.de:5001\n",
    "```"
   ]
  },
  {
   "cell_type": "code",
   "execution_count": null,
   "metadata": {},
   "outputs": [],
   "source": [
    "%%time\n",
    "# dont_test\n",
    "kwargs = {\"capture_output\": True, \"text\": True}\n",
    "output = subprocess.run([\"wrk\", \"-c20\", \"-t1\", \"-d2\", \"-s\", \"wrk.lua\", \"http://localhost:8000\"], **kwargs)\n",
    "# output = subprocess.run([\"wrk\", \"-d2\", \"http://localhost:8000\"], **kwargs)"
   ]
  },
  {
   "cell_type": "code",
   "execution_count": null,
   "metadata": {},
   "outputs": [],
   "source": [
    "# dont_test\n",
    "print(output.stdout)"
   ]
  },
  {
   "cell_type": "code",
   "execution_count": null,
   "metadata": {},
   "outputs": [],
   "source": [
    "# dont_test\n",
    "\n",
    "client = WrkClient()\n",
    "elapsed = client.measure(benchmark.epochs[0])\n",
    "print(elapsed)"
   ]
  },
  {
   "cell_type": "code",
   "execution_count": null,
   "metadata": {},
   "outputs": [
    {
     "name": "stdout",
     "output_type": "stream",
     "text": [
      "Converted 00_index.ipynb.\n",
      "Converted 01_host.ipynb.\n",
      "Converted 02_file.ipynb.\n",
      "Converted 03_registry.ipynb.\n",
      "Converted 04_epochs.ipynb.\n",
      "Converted 10_servers.ipynb.\n",
      "Converted 11_views_for_fastapi_server.ipynb.\n",
      "Converted 12_views_for_django_server.ipynb.\n",
      "Converted 15_servers_started_locally.ipynb.\n",
      "Converted 16_servers_started_via_docker.ipynb.\n",
      "Converted 20_clients.ipynb.\n",
      "Converted 21_benchmark_client_implementations.ipynb.\n",
      "Converted 30_control_server.ipynb.\n",
      "Converted 31_control_client.ipynb.\n",
      "Converted 32_control_cli.ipynb.\n",
      "Converted 40_results.ipynb.\n",
      "Converted 41_repositories.ipynb.\n",
      "Converted 42_sqlite_repository.ipynb.\n",
      "Converted 50_benchmark_without_benchmark.ipynb.\n",
      "Converted 51_benchmark_remote_control_server.ipynb.\n",
      "Converted 52_benchmark_from_config.ipynb.\n",
      "Converted 60_legacy.ipynb.\n",
      "Converted 61_run_benchmark.ipynb.\n"
     ]
    },
    {
     "data": {
      "application/javascript": [
       "\n",
       "            setTimeout(function() {\n",
       "                var nbb_cell_id = 6;\n",
       "                var nbb_unformatted_code = \"# hide\\n# dont_test\\n\\nfrom nbdev.export import notebook2script\\n\\nnotebook2script()\";\n",
       "                var nbb_formatted_code = \"# hide\\n# dont_test\\n\\nfrom nbdev.export import notebook2script\\n\\nnotebook2script()\";\n",
       "                var nbb_cells = Jupyter.notebook.get_cells();\n",
       "                for (var i = 0; i < nbb_cells.length; ++i) {\n",
       "                    if (nbb_cells[i].input_prompt_number == nbb_cell_id) {\n",
       "                        if (nbb_cells[i].get_text() == nbb_unformatted_code) {\n",
       "                             nbb_cells[i].set_text(nbb_formatted_code);\n",
       "                        }\n",
       "                        break;\n",
       "                    }\n",
       "                }\n",
       "            }, 500);\n",
       "            "
      ],
      "text/plain": [
       "<IPython.core.display.Javascript object>"
      ]
     },
     "metadata": {},
     "output_type": "display_data"
    }
   ],
   "source": [
    "# hide\n",
    "# dont_test\n",
    "\n",
    "from nbdev.export import notebook2script\n",
    "\n",
    "notebook2script()"
   ]
  },
  {
   "cell_type": "code",
   "execution_count": null,
   "metadata": {},
   "outputs": [],
   "source": []
  }
 ],
 "metadata": {
  "kernelspec": {
   "display_name": "Python 3",
   "language": "python",
   "name": "python3"
  }
 },
 "nbformat": 4,
 "nbformat_minor": 2
}
