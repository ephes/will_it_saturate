{
 "cells": [
  {
   "cell_type": "code",
   "execution_count": null,
   "id": "recovered-venture",
   "metadata": {},
   "outputs": [
    {
     "data": {
      "application/javascript": [
       "\n",
       "            setTimeout(function() {\n",
       "                var nbb_cell_id = 1;\n",
       "                var nbb_unformatted_code = \"# hide\\n\\n%load_ext nb_black\";\n",
       "                var nbb_formatted_code = \"# hide\\n\\n%load_ext nb_black\";\n",
       "                var nbb_cells = Jupyter.notebook.get_cells();\n",
       "                for (var i = 0; i < nbb_cells.length; ++i) {\n",
       "                    if (nbb_cells[i].input_prompt_number == nbb_cell_id) {\n",
       "                        if (nbb_cells[i].get_text() == nbb_unformatted_code) {\n",
       "                             nbb_cells[i].set_text(nbb_formatted_code);\n",
       "                        }\n",
       "                        break;\n",
       "                    }\n",
       "                }\n",
       "            }, 500);\n",
       "            "
      ],
      "text/plain": [
       "<IPython.core.display.Javascript object>"
      ]
     },
     "metadata": {},
     "output_type": "display_data"
    }
   ],
   "source": [
    "# hide\n",
    "\n",
    "%load_ext nb_black"
   ]
  },
  {
   "cell_type": "code",
   "execution_count": null,
   "id": "intermediate-dispute",
   "metadata": {},
   "outputs": [
    {
     "data": {
      "application/javascript": [
       "\n",
       "            setTimeout(function() {\n",
       "                var nbb_cell_id = 2;\n",
       "                var nbb_unformatted_code = \"# default_exp fastapi.main\";\n",
       "                var nbb_formatted_code = \"# default_exp fastapi.main\";\n",
       "                var nbb_cells = Jupyter.notebook.get_cells();\n",
       "                for (var i = 0; i < nbb_cells.length; ++i) {\n",
       "                    if (nbb_cells[i].input_prompt_number == nbb_cell_id) {\n",
       "                        if (nbb_cells[i].get_text() == nbb_unformatted_code) {\n",
       "                             nbb_cells[i].set_text(nbb_formatted_code);\n",
       "                        }\n",
       "                        break;\n",
       "                    }\n",
       "                }\n",
       "            }, 500);\n",
       "            "
      ],
      "text/plain": [
       "<IPython.core.display.Javascript object>"
      ]
     },
     "metadata": {},
     "output_type": "display_data"
    }
   ],
   "source": [
    "# default_exp fastapi.main"
   ]
  },
  {
   "cell_type": "markdown",
   "id": "architectural-connecticut",
   "metadata": {},
   "source": [
    "## fastAPI Application Views\n",
    "\n",
    "```\n",
    "uvicorn will_it_saturate.fastapi.main:app --reload\n",
    "```"
   ]
  },
  {
   "cell_type": "code",
   "execution_count": null,
   "id": "latter-popularity",
   "metadata": {},
   "outputs": [
    {
     "data": {
      "application/javascript": [
       "\n",
       "            setTimeout(function() {\n",
       "                var nbb_cell_id = 3;\n",
       "                var nbb_unformatted_code = \"# export\\n\\nfrom pathlib import Path\\n\\nfrom fastapi import FastAPI\\nfrom fastapi.responses import FileResponse\";\n",
       "                var nbb_formatted_code = \"# export\\n\\nfrom pathlib import Path\\n\\nfrom fastapi import FastAPI\\nfrom fastapi.responses import FileResponse\";\n",
       "                var nbb_cells = Jupyter.notebook.get_cells();\n",
       "                for (var i = 0; i < nbb_cells.length; ++i) {\n",
       "                    if (nbb_cells[i].input_prompt_number == nbb_cell_id) {\n",
       "                        if (nbb_cells[i].get_text() == nbb_unformatted_code) {\n",
       "                             nbb_cells[i].set_text(nbb_formatted_code);\n",
       "                        }\n",
       "                        break;\n",
       "                    }\n",
       "                }\n",
       "            }, 500);\n",
       "            "
      ],
      "text/plain": [
       "<IPython.core.display.Javascript object>"
      ]
     },
     "metadata": {},
     "output_type": "display_data"
    }
   ],
   "source": [
    "# export\n",
    "import time\n",
    "\n",
    "from pathlib import Path\n",
    "\n",
    "from fastapi import FastAPI\n",
    "from fastapi.responses import FileResponse"
   ]
  },
  {
   "cell_type": "markdown",
   "id": "a74e7e8c",
   "metadata": {},
   "source": [
    "## Time Measuring FileResponse"
   ]
  },
  {
   "cell_type": "code",
   "execution_count": null,
   "id": "5e7c8dca",
   "metadata": {},
   "outputs": [
    {
     "data": {
      "application/javascript": [
       "\n",
       "            setTimeout(function() {\n",
       "                var nbb_cell_id = 7;\n",
       "                var nbb_unformatted_code = \"# export\\n\\nimport stat\\nimport aiofiles\\n\\nfrom aiofiles.os import stat as aio_stat\\n\\nfrom starlette.types import Receive, Scope, Send\\n\\n\\nclass MyFileResponse(FileResponse):\\n    async def __call__(self, scope: Scope, receive: Receive, send: Send) -> None:\\n        if self.stat_result is None:\\n            try:\\n                stat_result = await aio_stat(self.path)\\n                self.set_stat_headers(stat_result)\\n            except FileNotFoundError:\\n                raise RuntimeError(f\\\"File at path {self.path} does not exist.\\\")\\n            else:\\n                mode = stat_result.st_mode\\n                if not stat.S_ISREG(mode):\\n                    raise RuntimeError(f\\\"File at path {self.path} is not a file.\\\")\\n        await send(\\n            {\\n                \\\"type\\\": \\\"http.response.start\\\",\\n                \\\"status\\\": self.status_code,\\n                \\\"headers\\\": self.raw_headers,\\n            }\\n        )\\n        if self.send_header_only:\\n            await send({\\\"type\\\": \\\"http.response.body\\\", \\\"body\\\": b\\\"\\\", \\\"more_body\\\": False})\\n        else:\\n            async with aiofiles.open(self.path, mode=\\\"rb\\\") as file:\\n                start = time.perf_counter()\\n                more_body = True\\n                while more_body:\\n                    chunk = await file.read(self.chunk_size)\\n                    more_body = len(chunk) == self.chunk_size\\n                    await send(\\n                        {\\n                            \\\"type\\\": \\\"http.response.body\\\",\\n                            \\\"body\\\": chunk,\\n                            \\\"more_body\\\": more_body,\\n                        }\\n                    )\\n                elapsed = time.perf_counter() - start\\n                print(f\\\"elapsed: {elapsed} for {self.path}\\\")\\n\\n        if self.background is not None:\\n            await self.background()\";\n",
       "                var nbb_formatted_code = \"# export\\n\\nimport stat\\nimport aiofiles\\n\\nfrom aiofiles.os import stat as aio_stat\\n\\nfrom starlette.types import Receive, Scope, Send\\n\\n\\nclass MyFileResponse(FileResponse):\\n    async def __call__(self, scope: Scope, receive: Receive, send: Send) -> None:\\n        if self.stat_result is None:\\n            try:\\n                stat_result = await aio_stat(self.path)\\n                self.set_stat_headers(stat_result)\\n            except FileNotFoundError:\\n                raise RuntimeError(f\\\"File at path {self.path} does not exist.\\\")\\n            else:\\n                mode = stat_result.st_mode\\n                if not stat.S_ISREG(mode):\\n                    raise RuntimeError(f\\\"File at path {self.path} is not a file.\\\")\\n        await send(\\n            {\\n                \\\"type\\\": \\\"http.response.start\\\",\\n                \\\"status\\\": self.status_code,\\n                \\\"headers\\\": self.raw_headers,\\n            }\\n        )\\n        if self.send_header_only:\\n            await send({\\\"type\\\": \\\"http.response.body\\\", \\\"body\\\": b\\\"\\\", \\\"more_body\\\": False})\\n        else:\\n            async with aiofiles.open(self.path, mode=\\\"rb\\\") as file:\\n                start = time.perf_counter()\\n                more_body = True\\n                while more_body:\\n                    chunk = await file.read(self.chunk_size)\\n                    more_body = len(chunk) == self.chunk_size\\n                    await send(\\n                        {\\n                            \\\"type\\\": \\\"http.response.body\\\",\\n                            \\\"body\\\": chunk,\\n                            \\\"more_body\\\": more_body,\\n                        }\\n                    )\\n                elapsed = time.perf_counter() - start\\n                print(f\\\"elapsed: {elapsed} for {self.path}\\\")\\n\\n        if self.background is not None:\\n            await self.background()\";\n",
       "                var nbb_cells = Jupyter.notebook.get_cells();\n",
       "                for (var i = 0; i < nbb_cells.length; ++i) {\n",
       "                    if (nbb_cells[i].input_prompt_number == nbb_cell_id) {\n",
       "                        if (nbb_cells[i].get_text() == nbb_unformatted_code) {\n",
       "                             nbb_cells[i].set_text(nbb_formatted_code);\n",
       "                        }\n",
       "                        break;\n",
       "                    }\n",
       "                }\n",
       "            }, 500);\n",
       "            "
      ],
      "text/plain": [
       "<IPython.core.display.Javascript object>"
      ]
     },
     "metadata": {},
     "output_type": "display_data"
    }
   ],
   "source": [
    "# export\n",
    "\n",
    "import stat\n",
    "import aiofiles\n",
    "\n",
    "from aiofiles.os import stat as aio_stat\n",
    "\n",
    "from starlette.types import Receive, Scope, Send\n",
    "\n",
    "\n",
    "class MyFileResponse(FileResponse):\n",
    "    async def __call__(self, scope: Scope, receive: Receive, send: Send) -> None:\n",
    "        if self.stat_result is None:\n",
    "            try:\n",
    "                stat_result = await aio_stat(self.path)\n",
    "                self.set_stat_headers(stat_result)\n",
    "            except FileNotFoundError:\n",
    "                raise RuntimeError(f\"File at path {self.path} does not exist.\")\n",
    "            else:\n",
    "                mode = stat_result.st_mode\n",
    "                if not stat.S_ISREG(mode):\n",
    "                    raise RuntimeError(f\"File at path {self.path} is not a file.\")\n",
    "        await send(\n",
    "            {\n",
    "                \"type\": \"http.response.start\",\n",
    "                \"status\": self.status_code,\n",
    "                \"headers\": self.raw_headers,\n",
    "            }\n",
    "        )\n",
    "        if self.send_header_only:\n",
    "            await send({\"type\": \"http.response.body\", \"body\": b\"\", \"more_body\": False})\n",
    "        else:\n",
    "            async with aiofiles.open(self.path, mode=\"rb\") as file:\n",
    "                start = time.perf_counter()\n",
    "                more_body = True\n",
    "                while more_body:\n",
    "                    chunk = await file.read(self.chunk_size)\n",
    "                    more_body = len(chunk) == self.chunk_size\n",
    "                    await send(\n",
    "                        {\n",
    "                            \"type\": \"http.response.body\",\n",
    "                            \"body\": chunk,\n",
    "                            \"more_body\": more_body,\n",
    "                        }\n",
    "                    )\n",
    "                elapsed = time.perf_counter() - start\n",
    "                print(f\"elapsed: {elapsed} for {self.path}\")\n",
    "\n",
    "        if self.background is not None:\n",
    "            await self.background()"
   ]
  },
  {
   "cell_type": "markdown",
   "id": "bbcd97d6",
   "metadata": {},
   "source": [
    "## FastAPI File Serving Views"
   ]
  },
  {
   "cell_type": "code",
   "execution_count": null,
   "id": "greater-allergy",
   "metadata": {},
   "outputs": [
    {
     "data": {
      "application/javascript": [
       "\n",
       "            setTimeout(function() {\n",
       "                var nbb_cell_id = 8;\n",
       "                var nbb_unformatted_code = \"# export\\n\\napp = FastAPI()\\n\\n\\n\\n@app.get(\\\"/\\\")\\ndef read_root():\\n    return {\\\"Hello\\\": \\\"World\\\"}\\n\\n\\n@app.get(\\\"/pathinfo/{base_dir}\\\")\\ndef get_file_urls(base_dir: str):\\n    pass\\n\\n\\n@app.get(\\\"/{base}/{path}/{num}\\\")\\nasync def serve_file(base: str, path: str, num: int):\\n    file_path = str(Path(base) / path / str(num))\\n    return MyFileResponse(file_path)\";\n",
       "                var nbb_formatted_code = \"# export\\n\\napp = FastAPI()\\n\\n\\n@app.get(\\\"/\\\")\\ndef read_root():\\n    return {\\\"Hello\\\": \\\"World\\\"}\\n\\n\\n@app.get(\\\"/pathinfo/{base_dir}\\\")\\ndef get_file_urls(base_dir: str):\\n    pass\\n\\n\\n@app.get(\\\"/{base}/{path}/{num}\\\")\\nasync def serve_file(base: str, path: str, num: int):\\n    file_path = str(Path(base) / path / str(num))\\n    return MyFileResponse(file_path)\";\n",
       "                var nbb_cells = Jupyter.notebook.get_cells();\n",
       "                for (var i = 0; i < nbb_cells.length; ++i) {\n",
       "                    if (nbb_cells[i].input_prompt_number == nbb_cell_id) {\n",
       "                        if (nbb_cells[i].get_text() == nbb_unformatted_code) {\n",
       "                             nbb_cells[i].set_text(nbb_formatted_code);\n",
       "                        }\n",
       "                        break;\n",
       "                    }\n",
       "                }\n",
       "            }, 500);\n",
       "            "
      ],
      "text/plain": [
       "<IPython.core.display.Javascript object>"
      ]
     },
     "metadata": {},
     "output_type": "display_data"
    }
   ],
   "source": [
    "# export\n",
    "\n",
    "app = FastAPI()\n",
    "\n",
    "\n",
    "@app.get(\"/\")\n",
    "def read_root():\n",
    "    return {\"Hello\": \"World\"}\n",
    "\n",
    "\n",
    "@app.get(\"/pathinfo/{base_dir}\")\n",
    "def get_file_urls(base_dir: str):\n",
    "    pass\n",
    "\n",
    "\n",
    "@app.get(\"/{base}/{path}/{num}\")\n",
    "async def serve_file(base: str, path: str, num: int):\n",
    "    file_path = str(Path(base) / path / str(num))\n",
    "    return MyFileResponse(file_path)"
   ]
  },
  {
   "cell_type": "code",
   "execution_count": null,
   "id": "dress-ghost",
   "metadata": {},
   "outputs": [
    {
     "name": "stdout",
     "output_type": "stream",
     "text": [
      "Converted 00_index.ipynb.\n",
      "Converted 01_host.ipynb.\n",
      "Converted 02_file.ipynb.\n",
      "Converted 03_registry.ipynb.\n",
      "Converted 04_epochs.ipynb.\n",
      "Converted 10_servers.ipynb.\n",
      "Converted 11_views_for_fastapi_server.ipynb.\n",
      "Converted 12_views_for_django_server.ipynb.\n",
      "Converted 15_servers_started_locally.ipynb.\n",
      "Converted 16_servers_started_via_docker.ipynb.\n",
      "Converted 20_clients.ipynb.\n",
      "Converted 21_benchmark_client_implementations.ipynb.\n",
      "Converted 30_control_server.ipynb.\n",
      "Converted 31_control_client.ipynb.\n",
      "Converted 32_control_cli.ipynb.\n",
      "Converted 40_results.ipynb.\n",
      "Converted 41_repositories.ipynb.\n",
      "Converted 42_sqlite_repository.ipynb.\n",
      "Converted 50_benchmark_without_benchmark.ipynb.\n",
      "Converted 51_benchmark_remote_control_server.ipynb.\n",
      "Converted 52_benchmark_from_config.ipynb.\n",
      "Converted 52_generate_files_for_benchmark.ipynb.\n",
      "Converted 60_legacy.ipynb.\n",
      "Converted 61_run_benchmark.ipynb.\n"
     ]
    },
    {
     "data": {
      "application/javascript": [
       "\n",
       "            setTimeout(function() {\n",
       "                var nbb_cell_id = 9;\n",
       "                var nbb_unformatted_code = \"# hide\\n# dont_test\\n\\nfrom nbdev.export import notebook2script\\n\\nnotebook2script()\";\n",
       "                var nbb_formatted_code = \"# hide\\n# dont_test\\n\\nfrom nbdev.export import notebook2script\\n\\nnotebook2script()\";\n",
       "                var nbb_cells = Jupyter.notebook.get_cells();\n",
       "                for (var i = 0; i < nbb_cells.length; ++i) {\n",
       "                    if (nbb_cells[i].input_prompt_number == nbb_cell_id) {\n",
       "                        if (nbb_cells[i].get_text() == nbb_unformatted_code) {\n",
       "                             nbb_cells[i].set_text(nbb_formatted_code);\n",
       "                        }\n",
       "                        break;\n",
       "                    }\n",
       "                }\n",
       "            }, 500);\n",
       "            "
      ],
      "text/plain": [
       "<IPython.core.display.Javascript object>"
      ]
     },
     "metadata": {},
     "output_type": "display_data"
    }
   ],
   "source": [
    "# hide\n",
    "# dont_test\n",
    "\n",
    "from nbdev.export import notebook2script\n",
    "\n",
    "notebook2script()"
   ]
  }
 ],
 "metadata": {
  "kernelspec": {
   "display_name": "Python 3",
   "language": "python",
   "name": "python3"
  }
 },
 "nbformat": 4,
 "nbformat_minor": 5
}
