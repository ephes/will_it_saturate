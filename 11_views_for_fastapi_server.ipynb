{
 "cells": [
  {
   "cell_type": "code",
   "execution_count": null,
   "id": "recovered-venture",
   "metadata": {},
   "outputs": [
    {
     "name": "stdout",
     "output_type": "stream",
     "text": [
      "The nb_black extension is already loaded. To reload it, use:\n",
      "  %reload_ext nb_black\n"
     ]
    },
    {
     "data": {
      "application/javascript": [
       "\n",
       "            setTimeout(function() {\n",
       "                var nbb_cell_id = 19;\n",
       "                var nbb_unformatted_code = \"# hide\\n\\n%load_ext nb_black\";\n",
       "                var nbb_formatted_code = \"# hide\\n\\n%load_ext nb_black\";\n",
       "                var nbb_cells = Jupyter.notebook.get_cells();\n",
       "                for (var i = 0; i < nbb_cells.length; ++i) {\n",
       "                    if (nbb_cells[i].input_prompt_number == nbb_cell_id) {\n",
       "                        if (nbb_cells[i].get_text() == nbb_unformatted_code) {\n",
       "                             nbb_cells[i].set_text(nbb_formatted_code);\n",
       "                        }\n",
       "                        break;\n",
       "                    }\n",
       "                }\n",
       "            }, 500);\n",
       "            "
      ],
      "text/plain": [
       "<IPython.core.display.Javascript object>"
      ]
     },
     "metadata": {},
     "output_type": "display_data"
    }
   ],
   "source": [
    "# hide\n",
    "\n",
    "%load_ext nb_black"
   ]
  },
  {
   "cell_type": "code",
   "execution_count": null,
   "id": "intermediate-dispute",
   "metadata": {},
   "outputs": [],
   "source": [
    "# default_exp fastapi.main"
   ]
  },
  {
   "cell_type": "markdown",
   "id": "architectural-connecticut",
   "metadata": {},
   "source": [
    "## fastAPI Application Views\n",
    "\n",
    "```\n",
    "uvicorn will_it_saturate.fastapi.main:app --reload\n",
    "```"
   ]
  },
  {
   "cell_type": "code",
   "execution_count": null,
   "id": "latter-popularity",
   "metadata": {},
   "outputs": [],
   "source": [
    "# export\n",
    "\n",
    "from pathlib import Path\n",
    "\n",
    "from fastapi import FastAPI\n",
    "from fastapi.responses import FileResponse"
   ]
  },
  {
   "cell_type": "code",
   "execution_count": null,
   "id": "greater-allergy",
   "metadata": {},
   "outputs": [],
   "source": [
    "# export\n",
    "\n",
    "app = FastAPI()\n",
    "\n",
    "\n",
    "@app.get(\"/\")\n",
    "def read_root():\n",
    "    return {\"Hello\": \"World\"}\n",
    "\n",
    "\n",
    "@app.get(\"/pathinfo/{base_dir}\")\n",
    "def get_file_urls(base_dir: str):\n",
    "    pass\n",
    "\n",
    "\n",
    "@app.get(\"/{base}/{path}/{num}\")\n",
    "async def serve_file(base: str, path: str, num: int):\n",
    "    file_path = str(Path(base) / path / str(num))\n",
    "    return FileResponse(file_path)"
   ]
  },
  {
   "cell_type": "code",
   "execution_count": null,
   "id": "dress-ghost",
   "metadata": {},
   "outputs": [
    {
     "name": "stdout",
     "output_type": "stream",
     "text": [
      "Converted 00_core.ipynb.\n",
      "Converted 01_django_views.ipynb.\n",
      "Converted 01_fastapi_views.ipynb.\n",
      "Converted 03_nginx_docker_server.ipynb.\n",
      "Converted 03_servers.ipynb.\n",
      "Converted 04_benchmark_clients.ipynb.\n",
      "Converted 05_persistence.ipynb.\n",
      "Converted 06_run_benchmark.ipynb.\n",
      "Converted django_start_server.ipynb.\n",
      "Converted index.ipynb.\n",
      "Converted run_wrk_benchmark_test.ipynb.\n",
      "Converted use_nginx_to_serve_files_test.ipynb.\n"
     ]
    }
   ],
   "source": [
    "# hide\n",
    "# dont_test\n",
    "\n",
    "from nbdev.export import notebook2script\n",
    "\n",
    "notebook2script()"
   ]
  }
 ],
 "metadata": {
  "kernelspec": {
   "display_name": "Python 3",
   "language": "python",
   "name": "python3"
  }
 },
 "nbformat": 4,
 "nbformat_minor": 5
}
