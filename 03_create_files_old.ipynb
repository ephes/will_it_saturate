{
 "cells": [
  {
   "cell_type": "code",
   "execution_count": null,
   "id": "gross-shore",
   "metadata": {},
   "outputs": [
    {
     "data": {
      "application/javascript": [
       "\n",
       "            setTimeout(function() {\n",
       "                var nbb_cell_id = 6;\n",
       "                var nbb_unformatted_code = \"# hide\\n\\n%load_ext nb_black\";\n",
       "                var nbb_formatted_code = \"# hide\\n\\n%load_ext nb_black\";\n",
       "                var nbb_cells = Jupyter.notebook.get_cells();\n",
       "                for (var i = 0; i < nbb_cells.length; ++i) {\n",
       "                    if (nbb_cells[i].input_prompt_number == nbb_cell_id) {\n",
       "                        if (nbb_cells[i].get_text() == nbb_unformatted_code) {\n",
       "                             nbb_cells[i].set_text(nbb_formatted_code);\n",
       "                        }\n",
       "                        break;\n",
       "                    }\n",
       "                }\n",
       "            }, 500);\n",
       "            "
      ],
      "text/plain": [
       "<IPython.core.display.Javascript object>"
      ]
     },
     "metadata": {},
     "output_type": "display_data"
    }
   ],
   "source": [
    "# hide\n",
    "\n",
    "%load_ext nb_black"
   ]
  },
  {
   "cell_type": "code",
   "execution_count": null,
   "id": "identified-gateway",
   "metadata": {},
   "outputs": [],
   "source": [
    "#default_exp files"
   ]
  },
  {
   "cell_type": "markdown",
   "id": "approved-pursuit",
   "metadata": {},
   "source": [
    "# module Files\n",
    "\n",
    "> Creation of benchmark files"
   ]
  },
  {
   "cell_type": "code",
   "execution_count": null,
   "id": "living-stuart",
   "metadata": {},
   "outputs": [],
   "source": [
    "import os\n",
    "import math\n",
    "\n",
    "from pathlib import Path"
   ]
  },
  {
   "cell_type": "code",
   "execution_count": null,
   "id": "monetary-minimum",
   "metadata": {},
   "outputs": [],
   "source": [
    "#export\n",
    "\n",
    "\n",
    "def create_with_urandom(path, size):\n",
    "    path.parent.mkdir(parents=True, exist_ok=True)\n",
    "    with path.open(\"wb\") as f:\n",
    "        f.write(os.urandom(size))\n",
    "    \n",
    "\n",
    "class Creator:\n",
    "    \"\"\"\n",
    "    Create files used for benchmark.\n",
    "    \n",
    "    All sizes are in byte, durations in seconds.\n",
    "    \"\"\"\n",
    "    def __init__(self, bandwidth=10**9 / 8, duration=30, file_size=10 ** 6 * 100):\n",
    "        self.bandwidth = bandwidth\n",
    "        self.duration = duration\n",
    "        self.file_size = file_size\n",
    "        self.complete_size = duration * bandwidth\n",
    "\n",
    "    @property\n",
    "    def number_of_files(self):\n",
    "        return math.ceil(self.complete_size / self.file_size)\n",
    "    \n",
    "    @property\n",
    "    def root(self):\n",
    "        return Path(\"data\") / f\"{self.bandwidth}_{self.duration}_{self.file_size}\"\n",
    "    \n",
    "    def create_file(self, num, file_creator):\n",
    "        root = self.root\n",
    "        file_path = root / str(num)\n",
    "        file_creator(file_path, self.file_size)\n",
    "    \n",
    "    def create_files(self, file_creator=create_with_urandom):\n",
    "        for num in range(self.number_of_files):\n",
    "            self.create_file(num, file_creator)"
   ]
  },
  {
   "cell_type": "markdown",
   "id": "serial-third",
   "metadata": {},
   "source": [
    "# Usage"
   ]
  },
  {
   "cell_type": "code",
   "execution_count": null,
   "id": "proof-preservation",
   "metadata": {},
   "outputs": [],
   "source": [
    "byte = 8\n",
    "hundred_mbit = 10 ** 8\n",
    "bandwidth = hundred_mbit / byte\n",
    "duration = 2  # seconds\n",
    "file_size = 10 ** 6 * 3  # 100MB\n",
    "\n",
    "creator = Creator(bandwidth=bandwidth, duration=duration, file_size=file_size)\n",
    "creator.create_files()"
   ]
  },
  {
   "cell_type": "markdown",
   "id": "registered-academy",
   "metadata": {},
   "source": [
    "# Tests"
   ]
  },
  {
   "cell_type": "markdown",
   "id": "sufficient-spain",
   "metadata": {},
   "source": [
    "## Setup File Creator"
   ]
  },
  {
   "cell_type": "code",
   "execution_count": null,
   "id": "returning-season",
   "metadata": {},
   "outputs": [],
   "source": [
    "byte = 8\n",
    "gigabit = 10 ** 9\n",
    "bandwidth = gigabit / byte\n",
    "duration = 30  # seconds\n",
    "file_size = 10 ** 6 * 100  # 100MB\n",
    "creator = Creator(bandwidth=bandwidth, duration=duration, file_size=file_size)"
   ]
  },
  {
   "cell_type": "code",
   "execution_count": null,
   "id": "auburn-pillow",
   "metadata": {},
   "outputs": [],
   "source": [
    "assert creator.bandwidth == 125000000.0\n",
    "assert creator.number_of_files == 38"
   ]
  },
  {
   "cell_type": "code",
   "execution_count": null,
   "id": "introductory-anatomy",
   "metadata": {},
   "outputs": [],
   "source": [
    "def test_file_size(path, size):\n",
    "    assert size == file_size\n",
    "\n",
    "creator.create_files(file_creator=test_file_size)"
   ]
  }
 ],
 "metadata": {
  "kernelspec": {
   "display_name": "Python 3",
   "language": "python",
   "name": "python3"
  }
 },
 "nbformat": 4,
 "nbformat_minor": 5
}
