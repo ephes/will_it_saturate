{
 "cells": [
  {
   "cell_type": "code",
   "execution_count": null,
   "metadata": {},
   "outputs": [
    {
     "data": {
      "application/javascript": [
       "\n",
       "            setTimeout(function() {\n",
       "                var nbb_cell_id = 1;\n",
       "                var nbb_unformatted_code = \"# hide\\n\\n%load_ext nb_black\";\n",
       "                var nbb_formatted_code = \"# hide\\n\\n%load_ext nb_black\";\n",
       "                var nbb_cells = Jupyter.notebook.get_cells();\n",
       "                for (var i = 0; i < nbb_cells.length; ++i) {\n",
       "                    if (nbb_cells[i].input_prompt_number == nbb_cell_id) {\n",
       "                        if (nbb_cells[i].get_text() == nbb_unformatted_code) {\n",
       "                             nbb_cells[i].set_text(nbb_formatted_code);\n",
       "                        }\n",
       "                        break;\n",
       "                    }\n",
       "                }\n",
       "            }, 500);\n",
       "            "
      ],
      "text/plain": [
       "<IPython.core.display.Javascript object>"
      ]
     },
     "metadata": {},
     "output_type": "display_data"
    }
   ],
   "source": [
    "# hide\n",
    "\n",
    "%load_ext nb_black"
   ]
  },
  {
   "cell_type": "code",
   "execution_count": null,
   "metadata": {},
   "outputs": [
    {
     "data": {
      "application/javascript": [
       "\n",
       "            setTimeout(function() {\n",
       "                var nbb_cell_id = 2;\n",
       "                var nbb_unformatted_code = \"# default_exp client\";\n",
       "                var nbb_formatted_code = \"# default_exp client\";\n",
       "                var nbb_cells = Jupyter.notebook.get_cells();\n",
       "                for (var i = 0; i < nbb_cells.length; ++i) {\n",
       "                    if (nbb_cells[i].input_prompt_number == nbb_cell_id) {\n",
       "                        if (nbb_cells[i].get_text() == nbb_unformatted_code) {\n",
       "                             nbb_cells[i].set_text(nbb_formatted_code);\n",
       "                        }\n",
       "                        break;\n",
       "                    }\n",
       "                }\n",
       "            }, 500);\n",
       "            "
      ],
      "text/plain": [
       "<IPython.core.display.Javascript object>"
      ]
     },
     "metadata": {},
     "output_type": "display_data"
    }
   ],
   "source": [
    "# default_exp client"
   ]
  },
  {
   "cell_type": "code",
   "execution_count": null,
   "metadata": {},
   "outputs": [
    {
     "data": {
      "application/javascript": [
       "\n",
       "            setTimeout(function() {\n",
       "                var nbb_cell_id = 3;\n",
       "                var nbb_unformatted_code = \"# export\\n\\nimport os\\nimport math\\nimport time\\nimport httpx\\nimport asyncio\\nimport aiohttp\\nimport subprocess\\n\\nfrom pathlib import Path\\nfrom multiprocessing import Pool\\nfrom multiprocessing import set_start_method\\n\\nfrom will_it_saturate.core import Benchmark, BaseServer, BaseClient\";\n",
       "                var nbb_formatted_code = \"# export\\n\\nimport os\\nimport math\\nimport time\\nimport httpx\\nimport asyncio\\nimport aiohttp\\nimport subprocess\\n\\nfrom pathlib import Path\\nfrom multiprocessing import Pool\\nfrom multiprocessing import set_start_method\\n\\nfrom will_it_saturate.core import Benchmark, BaseServer, BaseClient\";\n",
       "                var nbb_cells = Jupyter.notebook.get_cells();\n",
       "                for (var i = 0; i < nbb_cells.length; ++i) {\n",
       "                    if (nbb_cells[i].input_prompt_number == nbb_cell_id) {\n",
       "                        if (nbb_cells[i].get_text() == nbb_unformatted_code) {\n",
       "                             nbb_cells[i].set_text(nbb_formatted_code);\n",
       "                        }\n",
       "                        break;\n",
       "                    }\n",
       "                }\n",
       "            }, 500);\n",
       "            "
      ],
      "text/plain": [
       "<IPython.core.display.Javascript object>"
      ]
     },
     "metadata": {},
     "output_type": "display_data"
    }
   ],
   "source": [
    "# export\n",
    "\n",
    "import os\n",
    "import math\n",
    "import time\n",
    "import httpx\n",
    "import asyncio\n",
    "import aiohttp\n",
    "import subprocess\n",
    "\n",
    "from pathlib import Path\n",
    "from multiprocessing import Pool\n",
    "from multiprocessing import set_start_method\n",
    "\n",
    "from will_it_saturate.core import Benchmark, BaseServer, BaseClient"
   ]
  },
  {
   "cell_type": "code",
   "execution_count": null,
   "metadata": {},
   "outputs": [
    {
     "data": {
      "application/javascript": [
       "\n",
       "            setTimeout(function() {\n",
       "                var nbb_cell_id = 4;\n",
       "                var nbb_unformatted_code = \"# os.environ[\\\"OBJC_DISABLE_INITIALIZE_FORK_SAFETY\\\"] = \\\"YES\\\"\\n# set_start_method(\\\"fork\\\")\\n# print(os.environ[\\\"OBJC_DISABLE_INITIALIZE_FORK_SAFETY\\\"])\";\n",
       "                var nbb_formatted_code = \"# os.environ[\\\"OBJC_DISABLE_INITIALIZE_FORK_SAFETY\\\"] = \\\"YES\\\"\\n# set_start_method(\\\"fork\\\")\\n# print(os.environ[\\\"OBJC_DISABLE_INITIALIZE_FORK_SAFETY\\\"])\";\n",
       "                var nbb_cells = Jupyter.notebook.get_cells();\n",
       "                for (var i = 0; i < nbb_cells.length; ++i) {\n",
       "                    if (nbb_cells[i].input_prompt_number == nbb_cell_id) {\n",
       "                        if (nbb_cells[i].get_text() == nbb_unformatted_code) {\n",
       "                             nbb_cells[i].set_text(nbb_formatted_code);\n",
       "                        }\n",
       "                        break;\n",
       "                    }\n",
       "                }\n",
       "            }, 500);\n",
       "            "
      ],
      "text/plain": [
       "<IPython.core.display.Javascript object>"
      ]
     },
     "metadata": {},
     "output_type": "display_data"
    }
   ],
   "source": [
    "# os.environ[\"OBJC_DISABLE_INITIALIZE_FORK_SAFETY\"] = \"YES\"\n",
    "# set_start_method(\"fork\")\n",
    "# print(os.environ[\"OBJC_DISABLE_INITIALIZE_FORK_SAFETY\"])"
   ]
  },
  {
   "cell_type": "markdown",
   "metadata": {},
   "source": [
    "# Caveats\n",
    "\n",
    "On macOS increase open file limit with:\n",
    "\n",
    "```\n",
    "ulimit -n 2048\n",
    "```\n",
    "\n",
    "Before starting the fastAPI Server with:\n",
    "\n",
    "```\n",
    "uvicorn will_it_saturate.fastapi.main:app --reload\n",
    "```\n",
    "\n",
    "It's not really possible to test forked client from this notebook. I don't know why. It works in the 03_run_benchmark script. Here I have to set_start_method(\"fork\") and other ugly stuff."
   ]
  },
  {
   "cell_type": "code",
   "execution_count": null,
   "metadata": {},
   "outputs": [
    {
     "data": {
      "application/javascript": [
       "\n",
       "            setTimeout(function() {\n",
       "                var nbb_cell_id = 6;\n",
       "                var nbb_unformatted_code = \"# dont_test\\n\\nbyte = 8\\ngigabit = 10 ** 9\\nbandwidth = gigabit / byte\\n\\n# file_sizes = [10 ** 7, 10 ** 6]\\nfile_sizes = [10 ** 7, 10 ** 6, 10 ** 5]\\n# file_sizes = [10 ** 7]\\n\\nbenchmark = Benchmark(\\n    bandwidth=bandwidth,\\n    duration=3,\\n    file_sizes=file_sizes,\\n)\\nbenchmark.create_epochs()\";\n",
       "                var nbb_formatted_code = \"# dont_test\\n\\nbyte = 8\\ngigabit = 10 ** 9\\nbandwidth = gigabit / byte\\n\\n# file_sizes = [10 ** 7, 10 ** 6]\\nfile_sizes = [10 ** 7, 10 ** 6, 10 ** 5]\\n# file_sizes = [10 ** 7]\\n\\nbenchmark = Benchmark(\\n    bandwidth=bandwidth,\\n    duration=3,\\n    file_sizes=file_sizes,\\n)\\nbenchmark.create_epochs()\";\n",
       "                var nbb_cells = Jupyter.notebook.get_cells();\n",
       "                for (var i = 0; i < nbb_cells.length; ++i) {\n",
       "                    if (nbb_cells[i].input_prompt_number == nbb_cell_id) {\n",
       "                        if (nbb_cells[i].get_text() == nbb_unformatted_code) {\n",
       "                             nbb_cells[i].set_text(nbb_formatted_code);\n",
       "                        }\n",
       "                        break;\n",
       "                    }\n",
       "                }\n",
       "            }, 500);\n",
       "            "
      ],
      "text/plain": [
       "<IPython.core.display.Javascript object>"
      ]
     },
     "metadata": {},
     "output_type": "display_data"
    }
   ],
   "source": [
    "# dont_test\n",
    "\n",
    "byte = 8\n",
    "gigabit = 10 ** 9\n",
    "bandwidth = gigabit / byte\n",
    "\n",
    "# file_sizes = [10 ** 7, 10 ** 6]\n",
    "file_sizes = [10 ** 7, 10 ** 6, 10 ** 5]\n",
    "# file_sizes = [10 ** 7]\n",
    "\n",
    "benchmark = Benchmark(\n",
    "    bandwidth=bandwidth,\n",
    "    duration=3,\n",
    "    file_sizes=file_sizes,\n",
    ")\n",
    "benchmark.create_epochs()"
   ]
  },
  {
   "cell_type": "code",
   "execution_count": null,
   "metadata": {},
   "outputs": [
    {
     "data": {
      "application/javascript": [
       "\n",
       "            setTimeout(function() {\n",
       "                var nbb_cell_id = 7;\n",
       "                var nbb_unformatted_code = \"# export\\n\\n\\n# just here because of broken nbdev confusing lua with python\\ncounter = 0\\nrequest = None\\n\\n\\nclass HttpxClient(BaseClient):\\n    async def measure_server(self, benchmark_row):\\n        print(\\\"measure server\\\")\\n        urls = [bf.url for bf in benchmark_row.files]\\n        print(urls[0])\\n        max_connections = min(benchmark_row.number_of_connections, 100)\\n        limits = httpx.Limits(\\n            max_keepalive_connections=5, max_connections=max_connections\\n        )\\n        timeout = httpx.Timeout(30.0, connect=60.0)\\n        start = time.perf_counter()\\n        async with httpx.AsyncClient(limits=limits, timeout=timeout) as client:\\n            responses = await asyncio.gather(*[client.get(url) for url in urls])\\n        elapsed = time.perf_counter() - start\\n        print(\\\"done: \\\", elapsed)\\n        print(\\\"responses status: \\\", responses[0].status_code)\\n        return elapsed, responses\\n\\n    def measure_in_new_process(self, benchmark_row):\\n        print(\\\"new process\\\")\\n        elapsed, responses = asyncio.run(self.measure_server(benchmark_row))\\n        self.verify_checksums(benchmark_row.files, responses)\\n        return elapsed\\n\\n    def measure(self, benchmark_row):\\n        print(\\\"measure\\\")\\n        with Pool(1) as p:\\n            [result] = p.map(self.measure_in_new_process, [benchmark_row])\\n        return result\\n\\n\\ndef run_httpx():\\n    byte = 8\\n    gigabit = 10 ** 9\\n    bandwidth = gigabit / byte\\n\\n    # file_sizes = [10 ** 7, 10 ** 6]\\n    # file_sizes = [10 ** 7, 10 ** 6, 10 ** 5]\\n    file_sizes = [10 ** 7]\\n\\n    benchmark = Benchmark(\\n        bandwidth=bandwidth,\\n        duration=3,\\n        file_sizes=file_sizes,\\n        servers=[BenchmarkServer(name=\\\"uvicorn\\\")],\\n        clients=[HttpxClient(name=\\\"httpx\\\")],\\n    )\\n    benchmark.create_rows()\\n    benchmark.run()\\n    print(benchmark.results_frame)\";\n",
       "                var nbb_formatted_code = \"# export\\n\\n\\n# just here because of broken nbdev confusing lua with python\\ncounter = 0\\nrequest = None\\n\\n\\nclass HttpxClient(BaseClient):\\n    async def measure_server(self, benchmark_row):\\n        print(\\\"measure server\\\")\\n        urls = [bf.url for bf in benchmark_row.files]\\n        print(urls[0])\\n        max_connections = min(benchmark_row.number_of_connections, 100)\\n        limits = httpx.Limits(\\n            max_keepalive_connections=5, max_connections=max_connections\\n        )\\n        timeout = httpx.Timeout(30.0, connect=60.0)\\n        start = time.perf_counter()\\n        async with httpx.AsyncClient(limits=limits, timeout=timeout) as client:\\n            responses = await asyncio.gather(*[client.get(url) for url in urls])\\n        elapsed = time.perf_counter() - start\\n        print(\\\"done: \\\", elapsed)\\n        print(\\\"responses status: \\\", responses[0].status_code)\\n        return elapsed, responses\\n\\n    def measure_in_new_process(self, benchmark_row):\\n        print(\\\"new process\\\")\\n        elapsed, responses = asyncio.run(self.measure_server(benchmark_row))\\n        self.verify_checksums(benchmark_row.files, responses)\\n        return elapsed\\n\\n    def measure(self, benchmark_row):\\n        print(\\\"measure\\\")\\n        with Pool(1) as p:\\n            [result] = p.map(self.measure_in_new_process, [benchmark_row])\\n        return result\\n\\n\\ndef run_httpx():\\n    byte = 8\\n    gigabit = 10 ** 9\\n    bandwidth = gigabit / byte\\n\\n    # file_sizes = [10 ** 7, 10 ** 6]\\n    # file_sizes = [10 ** 7, 10 ** 6, 10 ** 5]\\n    file_sizes = [10 ** 7]\\n\\n    benchmark = Benchmark(\\n        bandwidth=bandwidth,\\n        duration=3,\\n        file_sizes=file_sizes,\\n        servers=[BenchmarkServer(name=\\\"uvicorn\\\")],\\n        clients=[HttpxClient(name=\\\"httpx\\\")],\\n    )\\n    benchmark.create_rows()\\n    benchmark.run()\\n    print(benchmark.results_frame)\";\n",
       "                var nbb_cells = Jupyter.notebook.get_cells();\n",
       "                for (var i = 0; i < nbb_cells.length; ++i) {\n",
       "                    if (nbb_cells[i].input_prompt_number == nbb_cell_id) {\n",
       "                        if (nbb_cells[i].get_text() == nbb_unformatted_code) {\n",
       "                             nbb_cells[i].set_text(nbb_formatted_code);\n",
       "                        }\n",
       "                        break;\n",
       "                    }\n",
       "                }\n",
       "            }, 500);\n",
       "            "
      ],
      "text/plain": [
       "<IPython.core.display.Javascript object>"
      ]
     },
     "metadata": {},
     "output_type": "display_data"
    }
   ],
   "source": [
    "# export\n",
    "\n",
    "\n",
    "# just here because of broken nbdev confusing lua with python\n",
    "counter = 0\n",
    "request = None\n",
    "\n",
    "\n",
    "class HttpxClient(BaseClient):\n",
    "    async def measure_server(self, benchmark_row):\n",
    "        print(\"measure server\")\n",
    "        urls = [bf.url for bf in benchmark_row.files]\n",
    "        print(urls[0])\n",
    "        max_connections = min(benchmark_row.number_of_connections, 100)\n",
    "        limits = httpx.Limits(\n",
    "            max_keepalive_connections=5, max_connections=max_connections\n",
    "        )\n",
    "        timeout = httpx.Timeout(30.0, connect=60.0)\n",
    "        start = time.perf_counter()\n",
    "        async with httpx.AsyncClient(limits=limits, timeout=timeout) as client:\n",
    "            responses = await asyncio.gather(*[client.get(url) for url in urls])\n",
    "        elapsed = time.perf_counter() - start\n",
    "        print(\"done: \", elapsed)\n",
    "        print(\"responses status: \", responses[0].status_code)\n",
    "        return elapsed, responses\n",
    "\n",
    "    def measure_in_new_process(self, benchmark_row):\n",
    "        print(\"new process\")\n",
    "        elapsed, responses = asyncio.run(self.measure_server(benchmark_row))\n",
    "        self.verify_checksums(benchmark_row.files, responses)\n",
    "        return elapsed\n",
    "\n",
    "    def measure(self, benchmark_row):\n",
    "        print(\"measure\")\n",
    "        with Pool(1) as p:\n",
    "            [result] = p.map(self.measure_in_new_process, [benchmark_row])\n",
    "        return result\n",
    "\n",
    "\n",
    "def run_httpx():\n",
    "    byte = 8\n",
    "    gigabit = 10 ** 9\n",
    "    bandwidth = gigabit / byte\n",
    "\n",
    "    # file_sizes = [10 ** 7, 10 ** 6]\n",
    "    # file_sizes = [10 ** 7, 10 ** 6, 10 ** 5]\n",
    "    file_sizes = [10 ** 7]\n",
    "\n",
    "    benchmark = Benchmark(\n",
    "        bandwidth=bandwidth,\n",
    "        duration=3,\n",
    "        file_sizes=file_sizes,\n",
    "        servers=[BenchmarkServer(name=\"uvicorn\")],\n",
    "        clients=[HttpxClient(name=\"httpx\")],\n",
    "    )\n",
    "    benchmark.create_rows()\n",
    "    benchmark.run()\n",
    "    print(benchmark.results_frame)"
   ]
  },
  {
   "cell_type": "code",
   "execution_count": null,
   "metadata": {},
   "outputs": [
    {
     "name": "stdout",
     "output_type": "stream",
     "text": [
      "measure server\n",
      "http://localhost:8000/data/10000000_3_125000000/0\n"
     ]
    },
    {
     "ename": "ConnectError",
     "evalue": "Multiple exceptions: [Errno 61] Connect call failed ('::1', 8000, 0, 0), [Errno 61] Connect call failed ('127.0.0.1', 8000)",
     "output_type": "error",
     "traceback": [
      "\u001b[0;31m---------------------------------------------------------------------------\u001b[0m",
      "\u001b[0;31mConnectError\u001b[0m                              Traceback (most recent call last)",
      "\u001b[0;32m~/.pyenv/versions/3.9.2/envs/wis/lib/python3.9/site-packages/httpx/_exceptions.py\u001b[0m in \u001b[0;36mmap_exceptions\u001b[0;34m(mapping, **kwargs)\u001b[0m\n\u001b[1;32m    325\u001b[0m     \u001b[0;32mtry\u001b[0m\u001b[0;34m:\u001b[0m\u001b[0;34m\u001b[0m\u001b[0;34m\u001b[0m\u001b[0m\n\u001b[0;32m--> 326\u001b[0;31m         \u001b[0;32myield\u001b[0m\u001b[0;34m\u001b[0m\u001b[0;34m\u001b[0m\u001b[0m\n\u001b[0m\u001b[1;32m    327\u001b[0m     \u001b[0;32mexcept\u001b[0m \u001b[0mException\u001b[0m \u001b[0;32mas\u001b[0m \u001b[0mexc\u001b[0m\u001b[0;34m:\u001b[0m\u001b[0;34m\u001b[0m\u001b[0;34m\u001b[0m\u001b[0m\n",
      "\u001b[0;32m~/.pyenv/versions/3.9.2/envs/wis/lib/python3.9/site-packages/httpx/_client.py\u001b[0m in \u001b[0;36m_send_single_request\u001b[0;34m(self, request, timeout)\u001b[0m\n\u001b[1;32m   1491\u001b[0m         \u001b[0;32mwith\u001b[0m \u001b[0mmap_exceptions\u001b[0m\u001b[0;34m(\u001b[0m\u001b[0mHTTPCORE_EXC_MAP\u001b[0m\u001b[0;34m,\u001b[0m \u001b[0mrequest\u001b[0m\u001b[0;34m=\u001b[0m\u001b[0mrequest\u001b[0m\u001b[0;34m)\u001b[0m\u001b[0;34m:\u001b[0m\u001b[0;34m\u001b[0m\u001b[0;34m\u001b[0m\u001b[0m\n\u001b[0;32m-> 1492\u001b[0;31m             (status_code, headers, stream, ext) = await transport.arequest(\n\u001b[0m\u001b[1;32m   1493\u001b[0m                 \u001b[0mrequest\u001b[0m\u001b[0;34m.\u001b[0m\u001b[0mmethod\u001b[0m\u001b[0;34m.\u001b[0m\u001b[0mencode\u001b[0m\u001b[0;34m(\u001b[0m\u001b[0;34m)\u001b[0m\u001b[0;34m,\u001b[0m\u001b[0;34m\u001b[0m\u001b[0;34m\u001b[0m\u001b[0m\n",
      "\u001b[0;32m~/.pyenv/versions/3.9.2/envs/wis/lib/python3.9/site-packages/httpx/_transports/default.py\u001b[0m in \u001b[0;36marequest\u001b[0;34m(self, method, url, headers, stream, ext)\u001b[0m\n\u001b[1;32m    168\u001b[0m     ) -> typing.Tuple[int, Headers, httpcore.AsyncByteStream, dict]:\n\u001b[0;32m--> 169\u001b[0;31m         return await self._pool.arequest(\n\u001b[0m\u001b[1;32m    170\u001b[0m             \u001b[0mmethod\u001b[0m\u001b[0;34m,\u001b[0m \u001b[0murl\u001b[0m\u001b[0;34m,\u001b[0m \u001b[0mheaders\u001b[0m\u001b[0;34m=\u001b[0m\u001b[0mheaders\u001b[0m\u001b[0;34m,\u001b[0m \u001b[0mstream\u001b[0m\u001b[0;34m=\u001b[0m\u001b[0mstream\u001b[0m\u001b[0;34m,\u001b[0m \u001b[0mext\u001b[0m\u001b[0;34m=\u001b[0m\u001b[0mext\u001b[0m\u001b[0;34m\u001b[0m\u001b[0;34m\u001b[0m\u001b[0m\n",
      "\u001b[0;32m~/.pyenv/versions/3.9.2/envs/wis/lib/python3.9/site-packages/httpcore/_async/connection_pool.py\u001b[0m in \u001b[0;36marequest\u001b[0;34m(self, method, url, headers, stream, ext)\u001b[0m\n\u001b[1;32m    217\u001b[0m             \u001b[0;32mtry\u001b[0m\u001b[0;34m:\u001b[0m\u001b[0;34m\u001b[0m\u001b[0;34m\u001b[0m\u001b[0m\n\u001b[0;32m--> 218\u001b[0;31m                 response = await connection.arequest(\n\u001b[0m\u001b[1;32m    219\u001b[0m                     \u001b[0mmethod\u001b[0m\u001b[0;34m,\u001b[0m \u001b[0murl\u001b[0m\u001b[0;34m,\u001b[0m \u001b[0mheaders\u001b[0m\u001b[0;34m=\u001b[0m\u001b[0mheaders\u001b[0m\u001b[0;34m,\u001b[0m \u001b[0mstream\u001b[0m\u001b[0;34m=\u001b[0m\u001b[0mstream\u001b[0m\u001b[0;34m,\u001b[0m \u001b[0mext\u001b[0m\u001b[0;34m=\u001b[0m\u001b[0mext\u001b[0m\u001b[0;34m\u001b[0m\u001b[0;34m\u001b[0m\u001b[0m\n",
      "\u001b[0;32m~/.pyenv/versions/3.9.2/envs/wis/lib/python3.9/site-packages/httpcore/_async/connection.py\u001b[0m in \u001b[0;36marequest\u001b[0;34m(self, method, url, headers, stream, ext)\u001b[0m\n\u001b[1;32m     92\u001b[0m                     )\n\u001b[0;32m---> 93\u001b[0;31m                     \u001b[0mself\u001b[0m\u001b[0;34m.\u001b[0m\u001b[0msocket\u001b[0m \u001b[0;34m=\u001b[0m \u001b[0;32mawait\u001b[0m \u001b[0mself\u001b[0m\u001b[0;34m.\u001b[0m\u001b[0m_open_socket\u001b[0m\u001b[0;34m(\u001b[0m\u001b[0mtimeout\u001b[0m\u001b[0;34m)\u001b[0m\u001b[0;34m\u001b[0m\u001b[0;34m\u001b[0m\u001b[0m\n\u001b[0m\u001b[1;32m     94\u001b[0m                 \u001b[0mself\u001b[0m\u001b[0;34m.\u001b[0m\u001b[0m_create_connection\u001b[0m\u001b[0;34m(\u001b[0m\u001b[0mself\u001b[0m\u001b[0;34m.\u001b[0m\u001b[0msocket\u001b[0m\u001b[0;34m)\u001b[0m\u001b[0;34m\u001b[0m\u001b[0;34m\u001b[0m\u001b[0m\n",
      "\u001b[0;32m~/.pyenv/versions/3.9.2/envs/wis/lib/python3.9/site-packages/httpcore/_async/connection.py\u001b[0m in \u001b[0;36m_open_socket\u001b[0;34m(self, timeout)\u001b[0m\n\u001b[1;32m    118\u001b[0m                 \u001b[0;32mif\u001b[0m \u001b[0mself\u001b[0m\u001b[0;34m.\u001b[0m\u001b[0muds\u001b[0m \u001b[0;32mis\u001b[0m \u001b[0;32mNone\u001b[0m\u001b[0;34m:\u001b[0m\u001b[0;34m\u001b[0m\u001b[0;34m\u001b[0m\u001b[0m\n\u001b[0;32m--> 119\u001b[0;31m                     return await self.backend.open_tcp_stream(\n\u001b[0m\u001b[1;32m    120\u001b[0m                         \u001b[0mhostname\u001b[0m\u001b[0;34m,\u001b[0m\u001b[0;34m\u001b[0m\u001b[0;34m\u001b[0m\u001b[0m\n",
      "\u001b[0;32m~/.pyenv/versions/3.9.2/envs/wis/lib/python3.9/site-packages/httpcore/_backends/auto.py\u001b[0m in \u001b[0;36mopen_tcp_stream\u001b[0;34m(self, hostname, port, ssl_context, timeout, local_address)\u001b[0m\n\u001b[1;32m     43\u001b[0m     ) -> AsyncSocketStream:\n\u001b[0;32m---> 44\u001b[0;31m         return await self.backend.open_tcp_stream(\n\u001b[0m\u001b[1;32m     45\u001b[0m             \u001b[0mhostname\u001b[0m\u001b[0;34m,\u001b[0m \u001b[0mport\u001b[0m\u001b[0;34m,\u001b[0m \u001b[0mssl_context\u001b[0m\u001b[0;34m,\u001b[0m \u001b[0mtimeout\u001b[0m\u001b[0;34m,\u001b[0m \u001b[0mlocal_address\u001b[0m\u001b[0;34m=\u001b[0m\u001b[0mlocal_address\u001b[0m\u001b[0;34m\u001b[0m\u001b[0;34m\u001b[0m\u001b[0m\n",
      "\u001b[0;32m~/.pyenv/versions/3.9.2/envs/wis/lib/python3.9/site-packages/httpcore/_backends/asyncio.py\u001b[0m in \u001b[0;36mopen_tcp_stream\u001b[0;34m(self, hostname, port, ssl_context, timeout, local_address)\u001b[0m\n\u001b[1;32m    269\u001b[0m             )\n\u001b[0;32m--> 270\u001b[0;31m             return SocketStream(\n\u001b[0m\u001b[1;32m    271\u001b[0m                 \u001b[0mstream_reader\u001b[0m\u001b[0;34m=\u001b[0m\u001b[0mstream_reader\u001b[0m\u001b[0;34m,\u001b[0m \u001b[0mstream_writer\u001b[0m\u001b[0;34m=\u001b[0m\u001b[0mstream_writer\u001b[0m\u001b[0;34m\u001b[0m\u001b[0;34m\u001b[0m\u001b[0m\n",
      "\u001b[0;32m~/.pyenv/versions/3.9.2/Python.framework/Versions/3.9/lib/python3.9/contextlib.py\u001b[0m in \u001b[0;36m__exit__\u001b[0;34m(self, type, value, traceback)\u001b[0m\n\u001b[1;32m    134\u001b[0m             \u001b[0;32mtry\u001b[0m\u001b[0;34m:\u001b[0m\u001b[0;34m\u001b[0m\u001b[0;34m\u001b[0m\u001b[0m\n\u001b[0;32m--> 135\u001b[0;31m                 \u001b[0mself\u001b[0m\u001b[0;34m.\u001b[0m\u001b[0mgen\u001b[0m\u001b[0;34m.\u001b[0m\u001b[0mthrow\u001b[0m\u001b[0;34m(\u001b[0m\u001b[0mtype\u001b[0m\u001b[0;34m,\u001b[0m \u001b[0mvalue\u001b[0m\u001b[0;34m,\u001b[0m \u001b[0mtraceback\u001b[0m\u001b[0;34m)\u001b[0m\u001b[0;34m\u001b[0m\u001b[0;34m\u001b[0m\u001b[0m\n\u001b[0m\u001b[1;32m    136\u001b[0m             \u001b[0;32mexcept\u001b[0m \u001b[0mStopIteration\u001b[0m \u001b[0;32mas\u001b[0m \u001b[0mexc\u001b[0m\u001b[0;34m:\u001b[0m\u001b[0;34m\u001b[0m\u001b[0;34m\u001b[0m\u001b[0m\n",
      "\u001b[0;32m~/.pyenv/versions/3.9.2/envs/wis/lib/python3.9/site-packages/httpcore/_exceptions.py\u001b[0m in \u001b[0;36mmap_exceptions\u001b[0;34m(map)\u001b[0m\n\u001b[1;32m     11\u001b[0m             \u001b[0;32mif\u001b[0m \u001b[0misinstance\u001b[0m\u001b[0;34m(\u001b[0m\u001b[0mexc\u001b[0m\u001b[0;34m,\u001b[0m \u001b[0mfrom_exc\u001b[0m\u001b[0;34m)\u001b[0m\u001b[0;34m:\u001b[0m\u001b[0;34m\u001b[0m\u001b[0;34m\u001b[0m\u001b[0m\n\u001b[0;32m---> 12\u001b[0;31m                 \u001b[0;32mraise\u001b[0m \u001b[0mto_exc\u001b[0m\u001b[0;34m(\u001b[0m\u001b[0mexc\u001b[0m\u001b[0;34m)\u001b[0m \u001b[0;32mfrom\u001b[0m \u001b[0;32mNone\u001b[0m\u001b[0;34m\u001b[0m\u001b[0;34m\u001b[0m\u001b[0m\n\u001b[0m\u001b[1;32m     13\u001b[0m         \u001b[0;32mraise\u001b[0m\u001b[0;34m\u001b[0m\u001b[0;34m\u001b[0m\u001b[0m\n",
      "\u001b[0;31mConnectError\u001b[0m: Multiple exceptions: [Errno 61] Connect call failed ('::1', 8000, 0, 0), [Errno 61] Connect call failed ('127.0.0.1', 8000)",
      "\nThe above exception was the direct cause of the following exception:\n",
      "\u001b[0;31mConnectError\u001b[0m                              Traceback (most recent call last)",
      "\u001b[0;32m<ipython-input-9-314ab886b5c5>\u001b[0m in \u001b[0;36m<module>\u001b[0;34m\u001b[0m\n\u001b[1;32m      2\u001b[0m \u001b[0;34m\u001b[0m\u001b[0m\n\u001b[1;32m      3\u001b[0m \u001b[0mclient\u001b[0m \u001b[0;34m=\u001b[0m \u001b[0mHttpxClient\u001b[0m\u001b[0;34m(\u001b[0m\u001b[0;34m)\u001b[0m\u001b[0;34m\u001b[0m\u001b[0;34m\u001b[0m\u001b[0m\n\u001b[0;32m----> 4\u001b[0;31m \u001b[0melapsed\u001b[0m\u001b[0;34m,\u001b[0m \u001b[0mresponses\u001b[0m \u001b[0;34m=\u001b[0m \u001b[0;32mawait\u001b[0m \u001b[0mclient\u001b[0m\u001b[0;34m.\u001b[0m\u001b[0mmeasure_server\u001b[0m\u001b[0;34m(\u001b[0m\u001b[0mbenchmark\u001b[0m\u001b[0;34m.\u001b[0m\u001b[0mepochs\u001b[0m\u001b[0;34m[\u001b[0m\u001b[0;36m0\u001b[0m\u001b[0;34m]\u001b[0m\u001b[0;34m)\u001b[0m\u001b[0;34m\u001b[0m\u001b[0;34m\u001b[0m\u001b[0m\n\u001b[0m\u001b[1;32m      5\u001b[0m \u001b[0mprint\u001b[0m\u001b[0;34m(\u001b[0m\u001b[0melapsed\u001b[0m\u001b[0;34m)\u001b[0m\u001b[0;34m\u001b[0m\u001b[0;34m\u001b[0m\u001b[0m\n",
      "\u001b[0;32m<ipython-input-7-0777e69a54dd>\u001b[0m in \u001b[0;36mmeasure_server\u001b[0;34m(self, benchmark_row)\u001b[0m\n\u001b[1;32m     19\u001b[0m         \u001b[0mstart\u001b[0m \u001b[0;34m=\u001b[0m \u001b[0mtime\u001b[0m\u001b[0;34m.\u001b[0m\u001b[0mperf_counter\u001b[0m\u001b[0;34m(\u001b[0m\u001b[0;34m)\u001b[0m\u001b[0;34m\u001b[0m\u001b[0;34m\u001b[0m\u001b[0m\n\u001b[1;32m     20\u001b[0m         \u001b[0;32masync\u001b[0m \u001b[0;32mwith\u001b[0m \u001b[0mhttpx\u001b[0m\u001b[0;34m.\u001b[0m\u001b[0mAsyncClient\u001b[0m\u001b[0;34m(\u001b[0m\u001b[0mlimits\u001b[0m\u001b[0;34m=\u001b[0m\u001b[0mlimits\u001b[0m\u001b[0;34m,\u001b[0m \u001b[0mtimeout\u001b[0m\u001b[0;34m=\u001b[0m\u001b[0mtimeout\u001b[0m\u001b[0;34m)\u001b[0m \u001b[0;32mas\u001b[0m \u001b[0mclient\u001b[0m\u001b[0;34m:\u001b[0m\u001b[0;34m\u001b[0m\u001b[0;34m\u001b[0m\u001b[0m\n\u001b[0;32m---> 21\u001b[0;31m             \u001b[0mresponses\u001b[0m \u001b[0;34m=\u001b[0m \u001b[0;32mawait\u001b[0m \u001b[0masyncio\u001b[0m\u001b[0;34m.\u001b[0m\u001b[0mgather\u001b[0m\u001b[0;34m(\u001b[0m\u001b[0;34m*\u001b[0m\u001b[0;34m[\u001b[0m\u001b[0mclient\u001b[0m\u001b[0;34m.\u001b[0m\u001b[0mget\u001b[0m\u001b[0;34m(\u001b[0m\u001b[0murl\u001b[0m\u001b[0;34m)\u001b[0m \u001b[0;32mfor\u001b[0m \u001b[0murl\u001b[0m \u001b[0;32min\u001b[0m \u001b[0murls\u001b[0m\u001b[0;34m]\u001b[0m\u001b[0;34m)\u001b[0m\u001b[0;34m\u001b[0m\u001b[0;34m\u001b[0m\u001b[0m\n\u001b[0m\u001b[1;32m     22\u001b[0m         \u001b[0melapsed\u001b[0m \u001b[0;34m=\u001b[0m \u001b[0mtime\u001b[0m\u001b[0;34m.\u001b[0m\u001b[0mperf_counter\u001b[0m\u001b[0;34m(\u001b[0m\u001b[0;34m)\u001b[0m \u001b[0;34m-\u001b[0m \u001b[0mstart\u001b[0m\u001b[0;34m\u001b[0m\u001b[0;34m\u001b[0m\u001b[0m\n\u001b[1;32m     23\u001b[0m         \u001b[0mprint\u001b[0m\u001b[0;34m(\u001b[0m\u001b[0;34m\"done: \"\u001b[0m\u001b[0;34m,\u001b[0m \u001b[0melapsed\u001b[0m\u001b[0;34m)\u001b[0m\u001b[0;34m\u001b[0m\u001b[0;34m\u001b[0m\u001b[0m\n",
      "\u001b[0;32m~/.pyenv/versions/3.9.2/envs/wis/lib/python3.9/site-packages/httpx/_client.py\u001b[0m in \u001b[0;36mget\u001b[0;34m(self, url, params, headers, cookies, auth, allow_redirects, timeout)\u001b[0m\n\u001b[1;32m   1537\u001b[0m         \u001b[0;34m**\u001b[0m\u001b[0mParameters\u001b[0m\u001b[0;34m**\u001b[0m\u001b[0;34m:\u001b[0m \u001b[0mSee\u001b[0m\u001b[0;31m \u001b[0m\u001b[0;31m`\u001b[0m\u001b[0mhttpx\u001b[0m\u001b[0;34m.\u001b[0m\u001b[0mrequest\u001b[0m\u001b[0;31m`\u001b[0m\u001b[0;34m.\u001b[0m\u001b[0;34m\u001b[0m\u001b[0;34m\u001b[0m\u001b[0m\n\u001b[1;32m   1538\u001b[0m         \"\"\"\n\u001b[0;32m-> 1539\u001b[0;31m         return await self.request(\n\u001b[0m\u001b[1;32m   1540\u001b[0m             \u001b[0;34m\"GET\"\u001b[0m\u001b[0;34m,\u001b[0m\u001b[0;34m\u001b[0m\u001b[0;34m\u001b[0m\u001b[0m\n\u001b[1;32m   1541\u001b[0m             \u001b[0murl\u001b[0m\u001b[0;34m,\u001b[0m\u001b[0;34m\u001b[0m\u001b[0;34m\u001b[0m\u001b[0m\n",
      "\u001b[0;32m~/.pyenv/versions/3.9.2/envs/wis/lib/python3.9/site-packages/httpx/_client.py\u001b[0m in \u001b[0;36mrequest\u001b[0;34m(self, method, url, content, data, files, json, params, headers, cookies, auth, allow_redirects, timeout)\u001b[0m\n\u001b[1;32m   1359\u001b[0m             \u001b[0mcookies\u001b[0m\u001b[0;34m=\u001b[0m\u001b[0mcookies\u001b[0m\u001b[0;34m,\u001b[0m\u001b[0;34m\u001b[0m\u001b[0;34m\u001b[0m\u001b[0m\n\u001b[1;32m   1360\u001b[0m         )\n\u001b[0;32m-> 1361\u001b[0;31m         response = await self.send(\n\u001b[0m\u001b[1;32m   1362\u001b[0m             \u001b[0mrequest\u001b[0m\u001b[0;34m,\u001b[0m \u001b[0mauth\u001b[0m\u001b[0;34m=\u001b[0m\u001b[0mauth\u001b[0m\u001b[0;34m,\u001b[0m \u001b[0mallow_redirects\u001b[0m\u001b[0;34m=\u001b[0m\u001b[0mallow_redirects\u001b[0m\u001b[0;34m,\u001b[0m \u001b[0mtimeout\u001b[0m\u001b[0;34m=\u001b[0m\u001b[0mtimeout\u001b[0m\u001b[0;34m\u001b[0m\u001b[0;34m\u001b[0m\u001b[0m\n\u001b[1;32m   1363\u001b[0m         )\n",
      "\u001b[0;32m~/.pyenv/versions/3.9.2/envs/wis/lib/python3.9/site-packages/httpx/_client.py\u001b[0m in \u001b[0;36msend\u001b[0;34m(self, request, stream, auth, allow_redirects, timeout)\u001b[0m\n\u001b[1;32m   1394\u001b[0m         \u001b[0mauth\u001b[0m \u001b[0;34m=\u001b[0m \u001b[0mself\u001b[0m\u001b[0;34m.\u001b[0m\u001b[0m_build_request_auth\u001b[0m\u001b[0;34m(\u001b[0m\u001b[0mrequest\u001b[0m\u001b[0;34m,\u001b[0m \u001b[0mauth\u001b[0m\u001b[0;34m)\u001b[0m\u001b[0;34m\u001b[0m\u001b[0;34m\u001b[0m\u001b[0m\n\u001b[1;32m   1395\u001b[0m \u001b[0;34m\u001b[0m\u001b[0m\n\u001b[0;32m-> 1396\u001b[0;31m         response = await self._send_handling_auth(\n\u001b[0m\u001b[1;32m   1397\u001b[0m             \u001b[0mrequest\u001b[0m\u001b[0;34m,\u001b[0m\u001b[0;34m\u001b[0m\u001b[0;34m\u001b[0m\u001b[0m\n\u001b[1;32m   1398\u001b[0m             \u001b[0mauth\u001b[0m\u001b[0;34m=\u001b[0m\u001b[0mauth\u001b[0m\u001b[0;34m,\u001b[0m\u001b[0;34m\u001b[0m\u001b[0;34m\u001b[0m\u001b[0m\n",
      "\u001b[0;32m~/.pyenv/versions/3.9.2/envs/wis/lib/python3.9/site-packages/httpx/_client.py\u001b[0m in \u001b[0;36m_send_handling_auth\u001b[0;34m(self, request, auth, timeout, allow_redirects, history)\u001b[0m\n\u001b[1;32m   1432\u001b[0m \u001b[0;34m\u001b[0m\u001b[0m\n\u001b[1;32m   1433\u001b[0m         \u001b[0;32mwhile\u001b[0m \u001b[0;32mTrue\u001b[0m\u001b[0;34m:\u001b[0m\u001b[0;34m\u001b[0m\u001b[0;34m\u001b[0m\u001b[0m\n\u001b[0;32m-> 1434\u001b[0;31m             response = await self._send_handling_redirects(\n\u001b[0m\u001b[1;32m   1435\u001b[0m                 \u001b[0mrequest\u001b[0m\u001b[0;34m,\u001b[0m\u001b[0;34m\u001b[0m\u001b[0;34m\u001b[0m\u001b[0m\n\u001b[1;32m   1436\u001b[0m                 \u001b[0mtimeout\u001b[0m\u001b[0;34m=\u001b[0m\u001b[0mtimeout\u001b[0m\u001b[0;34m,\u001b[0m\u001b[0;34m\u001b[0m\u001b[0;34m\u001b[0m\u001b[0m\n",
      "\u001b[0;32m~/.pyenv/versions/3.9.2/envs/wis/lib/python3.9/site-packages/httpx/_client.py\u001b[0m in \u001b[0;36m_send_handling_redirects\u001b[0;34m(self, request, timeout, allow_redirects, history)\u001b[0m\n\u001b[1;32m   1464\u001b[0m                 )\n\u001b[1;32m   1465\u001b[0m \u001b[0;34m\u001b[0m\u001b[0m\n\u001b[0;32m-> 1466\u001b[0;31m             \u001b[0mresponse\u001b[0m \u001b[0;34m=\u001b[0m \u001b[0;32mawait\u001b[0m \u001b[0mself\u001b[0m\u001b[0;34m.\u001b[0m\u001b[0m_send_single_request\u001b[0m\u001b[0;34m(\u001b[0m\u001b[0mrequest\u001b[0m\u001b[0;34m,\u001b[0m \u001b[0mtimeout\u001b[0m\u001b[0;34m)\u001b[0m\u001b[0;34m\u001b[0m\u001b[0;34m\u001b[0m\u001b[0m\n\u001b[0m\u001b[1;32m   1467\u001b[0m             \u001b[0mresponse\u001b[0m\u001b[0;34m.\u001b[0m\u001b[0mhistory\u001b[0m \u001b[0;34m=\u001b[0m \u001b[0mlist\u001b[0m\u001b[0;34m(\u001b[0m\u001b[0mhistory\u001b[0m\u001b[0;34m)\u001b[0m\u001b[0;34m\u001b[0m\u001b[0;34m\u001b[0m\u001b[0m\n\u001b[1;32m   1468\u001b[0m \u001b[0;34m\u001b[0m\u001b[0m\n",
      "\u001b[0;32m~/.pyenv/versions/3.9.2/envs/wis/lib/python3.9/site-packages/httpx/_client.py\u001b[0m in \u001b[0;36m_send_single_request\u001b[0;34m(self, request, timeout)\u001b[0m\n\u001b[1;32m   1490\u001b[0m \u001b[0;34m\u001b[0m\u001b[0m\n\u001b[1;32m   1491\u001b[0m         \u001b[0;32mwith\u001b[0m \u001b[0mmap_exceptions\u001b[0m\u001b[0;34m(\u001b[0m\u001b[0mHTTPCORE_EXC_MAP\u001b[0m\u001b[0;34m,\u001b[0m \u001b[0mrequest\u001b[0m\u001b[0;34m=\u001b[0m\u001b[0mrequest\u001b[0m\u001b[0;34m)\u001b[0m\u001b[0;34m:\u001b[0m\u001b[0;34m\u001b[0m\u001b[0;34m\u001b[0m\u001b[0m\n\u001b[0;32m-> 1492\u001b[0;31m             (status_code, headers, stream, ext) = await transport.arequest(\n\u001b[0m\u001b[1;32m   1493\u001b[0m                 \u001b[0mrequest\u001b[0m\u001b[0;34m.\u001b[0m\u001b[0mmethod\u001b[0m\u001b[0;34m.\u001b[0m\u001b[0mencode\u001b[0m\u001b[0;34m(\u001b[0m\u001b[0;34m)\u001b[0m\u001b[0;34m,\u001b[0m\u001b[0;34m\u001b[0m\u001b[0;34m\u001b[0m\u001b[0m\n\u001b[1;32m   1494\u001b[0m                 \u001b[0mrequest\u001b[0m\u001b[0;34m.\u001b[0m\u001b[0murl\u001b[0m\u001b[0;34m.\u001b[0m\u001b[0mraw\u001b[0m\u001b[0;34m,\u001b[0m\u001b[0;34m\u001b[0m\u001b[0;34m\u001b[0m\u001b[0m\n",
      "\u001b[0;32m~/.pyenv/versions/3.9.2/Python.framework/Versions/3.9/lib/python3.9/contextlib.py\u001b[0m in \u001b[0;36m__exit__\u001b[0;34m(self, type, value, traceback)\u001b[0m\n\u001b[1;32m    133\u001b[0m                 \u001b[0mvalue\u001b[0m \u001b[0;34m=\u001b[0m \u001b[0mtype\u001b[0m\u001b[0;34m(\u001b[0m\u001b[0;34m)\u001b[0m\u001b[0;34m\u001b[0m\u001b[0;34m\u001b[0m\u001b[0m\n\u001b[1;32m    134\u001b[0m             \u001b[0;32mtry\u001b[0m\u001b[0;34m:\u001b[0m\u001b[0;34m\u001b[0m\u001b[0;34m\u001b[0m\u001b[0m\n\u001b[0;32m--> 135\u001b[0;31m                 \u001b[0mself\u001b[0m\u001b[0;34m.\u001b[0m\u001b[0mgen\u001b[0m\u001b[0;34m.\u001b[0m\u001b[0mthrow\u001b[0m\u001b[0;34m(\u001b[0m\u001b[0mtype\u001b[0m\u001b[0;34m,\u001b[0m \u001b[0mvalue\u001b[0m\u001b[0;34m,\u001b[0m \u001b[0mtraceback\u001b[0m\u001b[0;34m)\u001b[0m\u001b[0;34m\u001b[0m\u001b[0;34m\u001b[0m\u001b[0m\n\u001b[0m\u001b[1;32m    136\u001b[0m             \u001b[0;32mexcept\u001b[0m \u001b[0mStopIteration\u001b[0m \u001b[0;32mas\u001b[0m \u001b[0mexc\u001b[0m\u001b[0;34m:\u001b[0m\u001b[0;34m\u001b[0m\u001b[0;34m\u001b[0m\u001b[0m\n\u001b[1;32m    137\u001b[0m                 \u001b[0;31m# Suppress StopIteration *unless* it's the same exception that\u001b[0m\u001b[0;34m\u001b[0m\u001b[0;34m\u001b[0m\u001b[0;34m\u001b[0m\u001b[0m\n",
      "\u001b[0;32m~/.pyenv/versions/3.9.2/envs/wis/lib/python3.9/site-packages/httpx/_exceptions.py\u001b[0m in \u001b[0;36mmap_exceptions\u001b[0;34m(mapping, **kwargs)\u001b[0m\n\u001b[1;32m    341\u001b[0m \u001b[0;34m\u001b[0m\u001b[0m\n\u001b[1;32m    342\u001b[0m         \u001b[0mmessage\u001b[0m \u001b[0;34m=\u001b[0m \u001b[0mstr\u001b[0m\u001b[0;34m(\u001b[0m\u001b[0mexc\u001b[0m\u001b[0;34m)\u001b[0m\u001b[0;34m\u001b[0m\u001b[0;34m\u001b[0m\u001b[0m\n\u001b[0;32m--> 343\u001b[0;31m         \u001b[0;32mraise\u001b[0m \u001b[0mmapped_exc\u001b[0m\u001b[0;34m(\u001b[0m\u001b[0mmessage\u001b[0m\u001b[0;34m,\u001b[0m \u001b[0;34m**\u001b[0m\u001b[0mkwargs\u001b[0m\u001b[0;34m)\u001b[0m \u001b[0;32mfrom\u001b[0m \u001b[0mexc\u001b[0m  \u001b[0;31m# type: ignore\u001b[0m\u001b[0;34m\u001b[0m\u001b[0;34m\u001b[0m\u001b[0m\n\u001b[0m\u001b[1;32m    344\u001b[0m \u001b[0;34m\u001b[0m\u001b[0m\n\u001b[1;32m    345\u001b[0m \u001b[0;34m\u001b[0m\u001b[0m\n",
      "\u001b[0;31mConnectError\u001b[0m: Multiple exceptions: [Errno 61] Connect call failed ('::1', 8000, 0, 0), [Errno 61] Connect call failed ('127.0.0.1', 8000)"
     ]
    },
    {
     "data": {
      "application/javascript": [
       "\n",
       "            setTimeout(function() {\n",
       "                var nbb_cell_id = 9;\n",
       "                var nbb_unformatted_code = \"# dont_test\\n\\nclient = HttpxClient()\\nelapsed, responses = await client.measure_server(benchmark.epochs[0])\\nprint(elapsed)\";\n",
       "                var nbb_formatted_code = \"# dont_test\\n\\nclient = HttpxClient()\\nelapsed, responses = await client.measure_server(benchmark.epochs[0])\\nprint(elapsed)\";\n",
       "                var nbb_cells = Jupyter.notebook.get_cells();\n",
       "                for (var i = 0; i < nbb_cells.length; ++i) {\n",
       "                    if (nbb_cells[i].input_prompt_number == nbb_cell_id) {\n",
       "                        if (nbb_cells[i].get_text() == nbb_unformatted_code) {\n",
       "                             nbb_cells[i].set_text(nbb_formatted_code);\n",
       "                        }\n",
       "                        break;\n",
       "                    }\n",
       "                }\n",
       "            }, 500);\n",
       "            "
      ],
      "text/plain": [
       "<IPython.core.display.Javascript object>"
      ]
     },
     "metadata": {},
     "output_type": "display_data"
    }
   ],
   "source": [
    "# dont_test\n",
    "\n",
    "client = HttpxClient()\n",
    "elapsed, responses = await client.measure_server(benchmark.epochs[0])\n",
    "print(elapsed)"
   ]
  },
  {
   "cell_type": "markdown",
   "metadata": {},
   "source": [
    "# aiohttp"
   ]
  },
  {
   "cell_type": "code",
   "execution_count": null,
   "metadata": {},
   "outputs": [
    {
     "data": {
      "application/javascript": [
       "\n",
       "            setTimeout(function() {\n",
       "                var nbb_cell_id = 10;\n",
       "                var nbb_unformatted_code = \"# export\\n\\n\\nclass AioHttpResponse:\\n    def __init__(self, url, content):\\n        self.url = url\\n        self.content = content\\n\\n\\nclass AioHttpClient(BaseClient):\\n    async def fetch_page(self, session, url):\\n        async with session.get(url) as response:\\n            content = await response.read()\\n            return AioHttpResponse(url, content)\\n\\n    async def measure_server(self, benchmark_row):\\n        urls = [bf.url for bf in benchmark_row.files]\\n        max_connections = min(benchmark_row.number_of_connections, 200)\\n        conn = aiohttp.TCPConnector(limit=max_connections)\\n        responses = []\\n        start = time.perf_counter()\\n        async with aiohttp.ClientSession(connector=conn) as session:\\n            tasks = [asyncio.create_task(self.fetch_page(session, url)) for url in urls]\\n            responses = await asyncio.gather(*tasks)\\n        elapsed = time.perf_counter() - start\\n        return elapsed, responses\\n\\n    def measure_in_new_process(self, benchmark_row):\\n        elapsed, responses = asyncio.run(self.measure_server(benchmark_row))\\n        self.verify_checksums(benchmark_row.files, responses)\\n        return elapsed\\n\\n    def measure(self, benchmark_row):\\n        with Pool(1) as p:\\n            [result] = p.map(self.measure_in_new_process, [benchmark_row])\\n        return result\";\n",
       "                var nbb_formatted_code = \"# export\\n\\n\\nclass AioHttpResponse:\\n    def __init__(self, url, content):\\n        self.url = url\\n        self.content = content\\n\\n\\nclass AioHttpClient(BaseClient):\\n    async def fetch_page(self, session, url):\\n        async with session.get(url) as response:\\n            content = await response.read()\\n            return AioHttpResponse(url, content)\\n\\n    async def measure_server(self, benchmark_row):\\n        urls = [bf.url for bf in benchmark_row.files]\\n        max_connections = min(benchmark_row.number_of_connections, 200)\\n        conn = aiohttp.TCPConnector(limit=max_connections)\\n        responses = []\\n        start = time.perf_counter()\\n        async with aiohttp.ClientSession(connector=conn) as session:\\n            tasks = [asyncio.create_task(self.fetch_page(session, url)) for url in urls]\\n            responses = await asyncio.gather(*tasks)\\n        elapsed = time.perf_counter() - start\\n        return elapsed, responses\\n\\n    def measure_in_new_process(self, benchmark_row):\\n        elapsed, responses = asyncio.run(self.measure_server(benchmark_row))\\n        self.verify_checksums(benchmark_row.files, responses)\\n        return elapsed\\n\\n    def measure(self, benchmark_row):\\n        with Pool(1) as p:\\n            [result] = p.map(self.measure_in_new_process, [benchmark_row])\\n        return result\";\n",
       "                var nbb_cells = Jupyter.notebook.get_cells();\n",
       "                for (var i = 0; i < nbb_cells.length; ++i) {\n",
       "                    if (nbb_cells[i].input_prompt_number == nbb_cell_id) {\n",
       "                        if (nbb_cells[i].get_text() == nbb_unformatted_code) {\n",
       "                             nbb_cells[i].set_text(nbb_formatted_code);\n",
       "                        }\n",
       "                        break;\n",
       "                    }\n",
       "                }\n",
       "            }, 500);\n",
       "            "
      ],
      "text/plain": [
       "<IPython.core.display.Javascript object>"
      ]
     },
     "metadata": {},
     "output_type": "display_data"
    }
   ],
   "source": [
    "# export\n",
    "\n",
    "\n",
    "class AioHttpResponse:\n",
    "    def __init__(self, url, content):\n",
    "        self.url = url\n",
    "        self.content = content\n",
    "\n",
    "\n",
    "class AioHttpClient(BaseClient):\n",
    "    async def fetch_page(self, session, url):\n",
    "        async with session.get(url) as response:\n",
    "            content = await response.read()\n",
    "            return AioHttpResponse(url, content)\n",
    "\n",
    "    async def measure_server(self, benchmark_row):\n",
    "        urls = [bf.url for bf in benchmark_row.files]\n",
    "        max_connections = min(benchmark_row.number_of_connections, 200)\n",
    "        conn = aiohttp.TCPConnector(limit=max_connections)\n",
    "        responses = []\n",
    "        start = time.perf_counter()\n",
    "        async with aiohttp.ClientSession(connector=conn) as session:\n",
    "            tasks = [asyncio.create_task(self.fetch_page(session, url)) for url in urls]\n",
    "            responses = await asyncio.gather(*tasks)\n",
    "        elapsed = time.perf_counter() - start\n",
    "        return elapsed, responses\n",
    "\n",
    "    def measure_in_new_process(self, benchmark_row):\n",
    "        elapsed, responses = asyncio.run(self.measure_server(benchmark_row))\n",
    "        self.verify_checksums(benchmark_row.files, responses)\n",
    "        return elapsed\n",
    "\n",
    "    def measure(self, benchmark_row):\n",
    "        with Pool(1) as p:\n",
    "            [result] = p.map(self.measure_in_new_process, [benchmark_row])\n",
    "        return result"
   ]
  },
  {
   "cell_type": "code",
   "execution_count": null,
   "metadata": {},
   "outputs": [],
   "source": [
    "# dont_test\n",
    "\n",
    "client = AioHttpClient()\n",
    "elapsed, responses = await client.measure_server(benchmark.epochs[0])\n",
    "print(elapsed)"
   ]
  },
  {
   "cell_type": "markdown",
   "metadata": {},
   "source": [
    "# wrk"
   ]
  },
  {
   "cell_type": "code",
   "execution_count": null,
   "metadata": {},
   "outputs": [
    {
     "data": {
      "application/javascript": [
       "\n",
       "            setTimeout(function() {\n",
       "                var nbb_cell_id = 11;\n",
       "                var nbb_unformatted_code = \"# export\\n\\n\\nclass WrkClient(BaseClient):\\n    connections: int = 200\\n    duration: int = 20\\n    threads: int = 1\\n\\n    def create_urls_string(self, benchmark_row):\\n        urls = []\\n        for bf in benchmark_row.files:\\n            urls.append(f'    {{path = \\\"/{bf.path}\\\"}},')\\n        return \\\"\\\\n\\\".join(urls)\\n\\n    def create_lua_script(self, benchmark_row):\\n        requests_head = \\\"requests = {\\\"\\n        requests_tail = \\\"}\\\"\\n        lua_body = \\\"\\\"\\\"\\nprint(requests[1])\\n\\nif #requests <= 0 then\\n  print(\\\"multiplerequests: No requests found.\\\")\\n  os.exit()\\nend\\n\\nprint(\\\"multiplerequests: Found \\\" .. #requests .. \\\" requests\\\")\\n\\ncounter = 1\\nrequest = function()\\n  -- Get the next requests array element\\n  local request_object = requests[counter]\\n\\n  -- Increment the counter\\n  counter = counter + 1\\n\\n  -- If the counter is longer than the requests array length -> stop and exit\\n  if counter > #requests then\\n    wrk.thread:stop()\\n    os.exit()\\n  end\\n\\n  -- Return the request object with the current URL path\\n  return wrk.format(request_object.method, request_object.path, request_object.headers, request_object.body)\\nend\\n        \\\"\\\"\\\"\\n        urls = self.create_urls_string(benchmark_row)\\n        lua = \\\"\\\\n\\\".join([requests_head, urls, requests_tail, lua_body])\\n        with Path(f\\\"wrk.lua\\\").open(\\\"w\\\") as f:\\n            f.write(lua)\\n\\n    def run_wrk(self):\\n        kwargs = {\\\"capture_output\\\": True, \\\"text\\\": True}\\n        start = time.perf_counter()\\n        output = subprocess.run(\\n            [\\n                \\\"wrk\\\",\\n                \\\"-c\\\",\\n                str(self.connections),\\n                \\\"-t\\\",\\n                str(self.threads),\\n                \\\"-s\\\",\\n                \\\"wrk.lua\\\",\\n                \\\"http://localhost:8000\\\",\\n            ],\\n            **kwargs,\\n        )\\n        elapsed = time.perf_counter() - start\\n        return elapsed\\n\\n    def measure(self, benchmark_row):\\n        self.create_lua_script(benchmark_row)\\n        elapsed = self.run_wrk()\\n        return elapsed\";\n",
       "                var nbb_formatted_code = \"# export\\n\\n\\nclass WrkClient(BaseClient):\\n    connections: int = 200\\n    duration: int = 20\\n    threads: int = 1\\n\\n    def create_urls_string(self, benchmark_row):\\n        urls = []\\n        for bf in benchmark_row.files:\\n            urls.append(f'    {{path = \\\"/{bf.path}\\\"}},')\\n        return \\\"\\\\n\\\".join(urls)\\n\\n    def create_lua_script(self, benchmark_row):\\n        requests_head = \\\"requests = {\\\"\\n        requests_tail = \\\"}\\\"\\n        lua_body = \\\"\\\"\\\"\\nprint(requests[1])\\n\\nif #requests <= 0 then\\n  print(\\\"multiplerequests: No requests found.\\\")\\n  os.exit()\\nend\\n\\nprint(\\\"multiplerequests: Found \\\" .. #requests .. \\\" requests\\\")\\n\\ncounter = 1\\nrequest = function()\\n  -- Get the next requests array element\\n  local request_object = requests[counter]\\n\\n  -- Increment the counter\\n  counter = counter + 1\\n\\n  -- If the counter is longer than the requests array length -> stop and exit\\n  if counter > #requests then\\n    wrk.thread:stop()\\n    os.exit()\\n  end\\n\\n  -- Return the request object with the current URL path\\n  return wrk.format(request_object.method, request_object.path, request_object.headers, request_object.body)\\nend\\n        \\\"\\\"\\\"\\n        urls = self.create_urls_string(benchmark_row)\\n        lua = \\\"\\\\n\\\".join([requests_head, urls, requests_tail, lua_body])\\n        with Path(f\\\"wrk.lua\\\").open(\\\"w\\\") as f:\\n            f.write(lua)\\n\\n    def run_wrk(self):\\n        kwargs = {\\\"capture_output\\\": True, \\\"text\\\": True}\\n        start = time.perf_counter()\\n        output = subprocess.run(\\n            [\\n                \\\"wrk\\\",\\n                \\\"-c\\\",\\n                str(self.connections),\\n                \\\"-t\\\",\\n                str(self.threads),\\n                \\\"-s\\\",\\n                \\\"wrk.lua\\\",\\n                \\\"http://localhost:8000\\\",\\n            ],\\n            **kwargs,\\n        )\\n        elapsed = time.perf_counter() - start\\n        return elapsed\\n\\n    def measure(self, benchmark_row):\\n        self.create_lua_script(benchmark_row)\\n        elapsed = self.run_wrk()\\n        return elapsed\";\n",
       "                var nbb_cells = Jupyter.notebook.get_cells();\n",
       "                for (var i = 0; i < nbb_cells.length; ++i) {\n",
       "                    if (nbb_cells[i].input_prompt_number == nbb_cell_id) {\n",
       "                        if (nbb_cells[i].get_text() == nbb_unformatted_code) {\n",
       "                             nbb_cells[i].set_text(nbb_formatted_code);\n",
       "                        }\n",
       "                        break;\n",
       "                    }\n",
       "                }\n",
       "            }, 500);\n",
       "            "
      ],
      "text/plain": [
       "<IPython.core.display.Javascript object>"
      ]
     },
     "metadata": {},
     "output_type": "display_data"
    }
   ],
   "source": [
    "# export\n",
    "\n",
    "\n",
    "class WrkClient(BaseClient):\n",
    "    connections: int = 200\n",
    "    duration: int = 20\n",
    "    threads: int = 1\n",
    "\n",
    "    def create_urls_string(self, benchmark_row):\n",
    "        urls = []\n",
    "        for bf in benchmark_row.files:\n",
    "            urls.append(f'    {{path = \"/{bf.path}\"}},')\n",
    "        return \"\\n\".join(urls)\n",
    "\n",
    "    def create_lua_script(self, benchmark_row):\n",
    "        requests_head = \"requests = {\"\n",
    "        requests_tail = \"}\"\n",
    "        lua_body = \"\"\"\n",
    "print(requests[1])\n",
    "\n",
    "if #requests <= 0 then\n",
    "  print(\"multiplerequests: No requests found.\")\n",
    "  os.exit()\n",
    "end\n",
    "\n",
    "print(\"multiplerequests: Found \" .. #requests .. \" requests\")\n",
    "\n",
    "counter = 1\n",
    "request = function()\n",
    "  -- Get the next requests array element\n",
    "  local request_object = requests[counter]\n",
    "\n",
    "  -- Increment the counter\n",
    "  counter = counter + 1\n",
    "\n",
    "  -- If the counter is longer than the requests array length -> stop and exit\n",
    "  if counter > #requests then\n",
    "    wrk.thread:stop()\n",
    "    os.exit()\n",
    "  end\n",
    "\n",
    "  -- Return the request object with the current URL path\n",
    "  return wrk.format(request_object.method, request_object.path, request_object.headers, request_object.body)\n",
    "end\n",
    "        \"\"\"\n",
    "        urls = self.create_urls_string(benchmark_row)\n",
    "        lua = \"\\n\".join([requests_head, urls, requests_tail, lua_body])\n",
    "        with Path(f\"wrk.lua\").open(\"w\") as f:\n",
    "            f.write(lua)\n",
    "\n",
    "    def run_wrk(self):\n",
    "        kwargs = {\"capture_output\": True, \"text\": True}\n",
    "        start = time.perf_counter()\n",
    "        output = subprocess.run(\n",
    "            [\n",
    "                \"wrk\",\n",
    "                \"-c\",\n",
    "                str(self.connections),\n",
    "                \"-t\",\n",
    "                str(self.threads),\n",
    "                \"-s\",\n",
    "                \"wrk.lua\",\n",
    "                \"http://localhost:8000\",\n",
    "            ],\n",
    "            **kwargs,\n",
    "        )\n",
    "        elapsed = time.perf_counter() - start\n",
    "        return elapsed\n",
    "\n",
    "    def measure(self, benchmark_row):\n",
    "        self.create_lua_script(benchmark_row)\n",
    "        elapsed = self.run_wrk()\n",
    "        return elapsed"
   ]
  },
  {
   "cell_type": "code",
   "execution_count": null,
   "metadata": {},
   "outputs": [],
   "source": [
    "%%time\n",
    "# dont_test\n",
    "kwargs = {\"capture_output\": True, \"text\": True}\n",
    "output = subprocess.run([\"wrk\", \"-c20\", \"-t1\", \"-d2\", \"-s\", \"wrk.lua\", \"http://localhost:8000\"], **kwargs)\n",
    "# output = subprocess.run([\"wrk\", \"-d2\", \"http://localhost:8000\"], **kwargs)"
   ]
  },
  {
   "cell_type": "code",
   "execution_count": null,
   "metadata": {},
   "outputs": [],
   "source": [
    "# dont_test\n",
    "print(output.stdout)"
   ]
  },
  {
   "cell_type": "code",
   "execution_count": null,
   "metadata": {},
   "outputs": [],
   "source": [
    "# dont_test\n",
    "\n",
    "client = WrkClient()\n",
    "elapsed = client.measure(benchmark.epochs[0])\n",
    "print(elapsed)"
   ]
  },
  {
   "cell_type": "markdown",
   "metadata": {},
   "source": [
    "# Export"
   ]
  },
  {
   "cell_type": "code",
   "execution_count": null,
   "metadata": {},
   "outputs": [
    {
     "name": "stdout",
     "output_type": "stream",
     "text": [
      "Converted 00_core.ipynb.\n",
      "Converted 01_django_views.ipynb.\n",
      "Converted 01_fastapi_views.ipynb.\n",
      "Converted 02_docker_servers.ipynb.\n",
      "Converted 02_local_servers.ipynb.\n",
      "Converted 03_benchmark_clients.ipynb.\n",
      "Converted 04_persistence.ipynb.\n",
      "Converted 05_run_benchmark.ipynb.\n",
      "Converted index.ipynb.\n"
     ]
    },
    {
     "data": {
      "application/javascript": [
       "\n",
       "            setTimeout(function() {\n",
       "                var nbb_cell_id = 5;\n",
       "                var nbb_unformatted_code = \"# dont_test\\n\\nfrom nbdev.export import notebook2script\\n\\nnotebook2script()\";\n",
       "                var nbb_formatted_code = \"# dont_test\\n\\nfrom nbdev.export import notebook2script\\n\\nnotebook2script()\";\n",
       "                var nbb_cells = Jupyter.notebook.get_cells();\n",
       "                for (var i = 0; i < nbb_cells.length; ++i) {\n",
       "                    if (nbb_cells[i].input_prompt_number == nbb_cell_id) {\n",
       "                        if (nbb_cells[i].get_text() == nbb_unformatted_code) {\n",
       "                             nbb_cells[i].set_text(nbb_formatted_code);\n",
       "                        }\n",
       "                        break;\n",
       "                    }\n",
       "                }\n",
       "            }, 500);\n",
       "            "
      ],
      "text/plain": [
       "<IPython.core.display.Javascript object>"
      ]
     },
     "metadata": {},
     "output_type": "display_data"
    }
   ],
   "source": [
    "# dont_test\n",
    "\n",
    "from nbdev.export import notebook2script\n",
    "\n",
    "notebook2script()"
   ]
  },
  {
   "cell_type": "code",
   "execution_count": null,
   "metadata": {},
   "outputs": [],
   "source": []
  }
 ],
 "metadata": {
  "kernelspec": {
   "display_name": "Python 3",
   "language": "python",
   "name": "python3"
  }
 },
 "nbformat": 4,
 "nbformat_minor": 2
}
