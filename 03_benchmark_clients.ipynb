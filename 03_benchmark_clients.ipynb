{
 "cells": [
  {
   "cell_type": "code",
   "execution_count": 1,
   "metadata": {},
   "outputs": [
    {
     "data": {
      "application/javascript": [
       "\n",
       "            setTimeout(function() {\n",
       "                var nbb_cell_id = 1;\n",
       "                var nbb_unformatted_code = \"# hide\\n\\n%load_ext nb_black\";\n",
       "                var nbb_formatted_code = \"# hide\\n\\n%load_ext nb_black\";\n",
       "                var nbb_cells = Jupyter.notebook.get_cells();\n",
       "                for (var i = 0; i < nbb_cells.length; ++i) {\n",
       "                    if (nbb_cells[i].input_prompt_number == nbb_cell_id) {\n",
       "                        if (nbb_cells[i].get_text() == nbb_unformatted_code) {\n",
       "                             nbb_cells[i].set_text(nbb_formatted_code);\n",
       "                        }\n",
       "                        break;\n",
       "                    }\n",
       "                }\n",
       "            }, 500);\n",
       "            "
      ],
      "text/plain": [
       "<IPython.core.display.Javascript object>"
      ]
     },
     "metadata": {},
     "output_type": "display_data"
    }
   ],
   "source": [
    "# hide\n",
    "\n",
    "%load_ext nb_black"
   ]
  },
  {
   "cell_type": "code",
   "execution_count": 2,
   "metadata": {},
   "outputs": [
    {
     "data": {
      "application/javascript": [
       "\n",
       "            setTimeout(function() {\n",
       "                var nbb_cell_id = 2;\n",
       "                var nbb_unformatted_code = \"# default_exp client\";\n",
       "                var nbb_formatted_code = \"# default_exp client\";\n",
       "                var nbb_cells = Jupyter.notebook.get_cells();\n",
       "                for (var i = 0; i < nbb_cells.length; ++i) {\n",
       "                    if (nbb_cells[i].input_prompt_number == nbb_cell_id) {\n",
       "                        if (nbb_cells[i].get_text() == nbb_unformatted_code) {\n",
       "                             nbb_cells[i].set_text(nbb_formatted_code);\n",
       "                        }\n",
       "                        break;\n",
       "                    }\n",
       "                }\n",
       "            }, 500);\n",
       "            "
      ],
      "text/plain": [
       "<IPython.core.display.Javascript object>"
      ]
     },
     "metadata": {},
     "output_type": "display_data"
    }
   ],
   "source": [
    "# default_exp client"
   ]
  },
  {
   "cell_type": "code",
   "execution_count": 3,
   "metadata": {},
   "outputs": [
    {
     "data": {
      "application/javascript": [
       "\n",
       "            setTimeout(function() {\n",
       "                var nbb_cell_id = 3;\n",
       "                var nbb_unformatted_code = \"# export\\n\\nimport os\\nimport math\\nimport time\\nimport httpx\\nimport asyncio\\nimport aiohttp\\nimport subprocess\\n\\nfrom pathlib import Path\\nfrom multiprocessing import Pool\\nfrom multiprocessing import set_start_method\\n\\nfrom will_it_saturate.core import Benchmark, BaseServer, BaseClient\";\n",
       "                var nbb_formatted_code = \"# export\\n\\nimport os\\nimport math\\nimport time\\nimport httpx\\nimport asyncio\\nimport aiohttp\\nimport subprocess\\n\\nfrom pathlib import Path\\nfrom multiprocessing import Pool\\nfrom multiprocessing import set_start_method\\n\\nfrom will_it_saturate.core import Benchmark, BaseServer, BaseClient\";\n",
       "                var nbb_cells = Jupyter.notebook.get_cells();\n",
       "                for (var i = 0; i < nbb_cells.length; ++i) {\n",
       "                    if (nbb_cells[i].input_prompt_number == nbb_cell_id) {\n",
       "                        if (nbb_cells[i].get_text() == nbb_unformatted_code) {\n",
       "                             nbb_cells[i].set_text(nbb_formatted_code);\n",
       "                        }\n",
       "                        break;\n",
       "                    }\n",
       "                }\n",
       "            }, 500);\n",
       "            "
      ],
      "text/plain": [
       "<IPython.core.display.Javascript object>"
      ]
     },
     "metadata": {},
     "output_type": "display_data"
    }
   ],
   "source": [
    "# export\n",
    "\n",
    "import os\n",
    "import math\n",
    "import time\n",
    "import httpx\n",
    "import asyncio\n",
    "import aiohttp\n",
    "import subprocess\n",
    "\n",
    "from pathlib import Path\n",
    "from multiprocessing import Pool\n",
    "from multiprocessing import set_start_method\n",
    "\n",
    "from will_it_saturate.core import Benchmark, BaseServer, BaseClient"
   ]
  },
  {
   "cell_type": "code",
   "execution_count": 4,
   "metadata": {},
   "outputs": [
    {
     "data": {
      "application/javascript": [
       "\n",
       "            setTimeout(function() {\n",
       "                var nbb_cell_id = 4;\n",
       "                var nbb_unformatted_code = \"# os.environ[\\\"OBJC_DISABLE_INITIALIZE_FORK_SAFETY\\\"] = \\\"YES\\\"\\n# set_start_method(\\\"fork\\\")\\n# print(os.environ[\\\"OBJC_DISABLE_INITIALIZE_FORK_SAFETY\\\"])\";\n",
       "                var nbb_formatted_code = \"# os.environ[\\\"OBJC_DISABLE_INITIALIZE_FORK_SAFETY\\\"] = \\\"YES\\\"\\n# set_start_method(\\\"fork\\\")\\n# print(os.environ[\\\"OBJC_DISABLE_INITIALIZE_FORK_SAFETY\\\"])\";\n",
       "                var nbb_cells = Jupyter.notebook.get_cells();\n",
       "                for (var i = 0; i < nbb_cells.length; ++i) {\n",
       "                    if (nbb_cells[i].input_prompt_number == nbb_cell_id) {\n",
       "                        if (nbb_cells[i].get_text() == nbb_unformatted_code) {\n",
       "                             nbb_cells[i].set_text(nbb_formatted_code);\n",
       "                        }\n",
       "                        break;\n",
       "                    }\n",
       "                }\n",
       "            }, 500);\n",
       "            "
      ],
      "text/plain": [
       "<IPython.core.display.Javascript object>"
      ]
     },
     "metadata": {},
     "output_type": "display_data"
    }
   ],
   "source": [
    "# os.environ[\"OBJC_DISABLE_INITIALIZE_FORK_SAFETY\"] = \"YES\"\n",
    "# set_start_method(\"fork\")\n",
    "# print(os.environ[\"OBJC_DISABLE_INITIALIZE_FORK_SAFETY\"])"
   ]
  },
  {
   "cell_type": "markdown",
   "metadata": {},
   "source": [
    "# Caveats\n",
    "\n",
    "On macOS increase open file limit with:\n",
    "\n",
    "```\n",
    "ulimit -n 2048\n",
    "```\n",
    "\n",
    "Before starting the fastAPI Server with:\n",
    "\n",
    "```\n",
    "uvicorn will_it_saturate.fastapi.main:app --reload\n",
    "```\n",
    "\n",
    "It's not really possible to test forked client from this notebook. I don't know why. It works in the 03_run_benchmark script. Here I have to set_start_method(\"fork\") and other ugly stuff."
   ]
  },
  {
   "cell_type": "code",
   "execution_count": 6,
   "metadata": {},
   "outputs": [
    {
     "data": {
      "application/javascript": [
       "\n",
       "            setTimeout(function() {\n",
       "                var nbb_cell_id = 6;\n",
       "                var nbb_unformatted_code = \"# dont_test\\n\\nbyte = 8\\ngigabit = 10 ** 9\\nbandwidth = gigabit / byte\\n\\n# file_sizes = [10 ** 7, 10 ** 6]\\nfile_sizes = [10 ** 7, 10 ** 6, 10 ** 5]\\n# file_sizes = [10 ** 7]\\n\\nbenchmark = Benchmark(\\n    bandwidth=bandwidth,\\n    duration=3,\\n    file_sizes=file_sizes,\\n)\\nbenchmark.create_epochs()\";\n",
       "                var nbb_formatted_code = \"# dont_test\\n\\nbyte = 8\\ngigabit = 10 ** 9\\nbandwidth = gigabit / byte\\n\\n# file_sizes = [10 ** 7, 10 ** 6]\\nfile_sizes = [10 ** 7, 10 ** 6, 10 ** 5]\\n# file_sizes = [10 ** 7]\\n\\nbenchmark = Benchmark(\\n    bandwidth=bandwidth,\\n    duration=3,\\n    file_sizes=file_sizes,\\n)\\nbenchmark.create_epochs()\";\n",
       "                var nbb_cells = Jupyter.notebook.get_cells();\n",
       "                for (var i = 0; i < nbb_cells.length; ++i) {\n",
       "                    if (nbb_cells[i].input_prompt_number == nbb_cell_id) {\n",
       "                        if (nbb_cells[i].get_text() == nbb_unformatted_code) {\n",
       "                             nbb_cells[i].set_text(nbb_formatted_code);\n",
       "                        }\n",
       "                        break;\n",
       "                    }\n",
       "                }\n",
       "            }, 500);\n",
       "            "
      ],
      "text/plain": [
       "<IPython.core.display.Javascript object>"
      ]
     },
     "metadata": {},
     "output_type": "display_data"
    }
   ],
   "source": [
    "# dont_test\n",
    "\n",
    "byte = 8\n",
    "gigabit = 10 ** 9\n",
    "bandwidth = gigabit / byte\n",
    "\n",
    "# file_sizes = [10 ** 7, 10 ** 6]\n",
    "file_sizes = [10 ** 7, 10 ** 6, 10 ** 5]\n",
    "# file_sizes = [10 ** 7]\n",
    "\n",
    "benchmark = Benchmark(\n",
    "    bandwidth=bandwidth,\n",
    "    duration=3,\n",
    "    file_sizes=file_sizes,\n",
    ")\n",
    "benchmark.create_epochs()"
   ]
  },
  {
   "cell_type": "code",
   "execution_count": 5,
   "metadata": {},
   "outputs": [
    {
     "data": {
      "application/javascript": [
       "\n",
       "            setTimeout(function() {\n",
       "                var nbb_cell_id = 5;\n",
       "                var nbb_unformatted_code = \"# export\\n\\n\\n# just here because of broken nbdev confusing lua with python\\ncounter = 0\\nrequest = None\\n\\n\\nclass HttpxClient(BaseClient):\\n    async def measure_server(self, epoch):\\n        print(\\\"measure server\\\")\\n        print(epoch.urls[0])\\n        max_connections = min(epoch.number_of_connections, 100)\\n        limits = httpx.Limits(\\n            max_keepalive_connections=5, max_connections=max_connections\\n        )\\n        timeout = httpx.Timeout(30.0, connect=60.0)\\n        start = time.perf_counter()\\n        async with httpx.AsyncClient(limits=limits, timeout=timeout) as client:\\n            responses = await asyncio.gather(*[client.get(url) for url in epoch.urls])\\n        elapsed = time.perf_counter() - start\\n        print(\\\"done: \\\", elapsed)\\n        print(\\\"responses status: \\\", responses[0].status_code)\\n        return elapsed, responses\\n\\n    def measure_in_new_process(self, epoch):\\n        print(\\\"new process\\\")\\n        elapsed, responses = asyncio.run(self.measure_server(epoch))\\n        self.verify_checksums(epoch.files, responses)\\n        return elapsed\\n\\n    def measure(self, epoch):\\n        print(\\\"measure\\\")\\n        with Pool(1) as p:\\n            [result] = p.map(self.measure_in_new_process, [epoch])\\n        return result\\n\\n\\ndef run_httpx():\\n    byte = 8\\n    gigabit = 10 ** 9\\n    bandwidth = gigabit / byte\\n\\n    # file_sizes = [10 ** 7, 10 ** 6]\\n    # file_sizes = [10 ** 7, 10 ** 6, 10 ** 5]\\n    file_sizes = [10 ** 7]\\n\\n    benchmark = Benchmark(\\n        bandwidth=bandwidth,\\n        duration=3,\\n        file_sizes=file_sizes,\\n        servers=[BenchmarkServer(name=\\\"uvicorn\\\")],\\n        clients=[HttpxClient(name=\\\"httpx\\\")],\\n    )\\n    benchmark.create_rows()\\n    benchmark.run()\\n    print(benchmark.results_frame)\";\n",
       "                var nbb_formatted_code = \"# export\\n\\n\\n# just here because of broken nbdev confusing lua with python\\ncounter = 0\\nrequest = None\\n\\n\\nclass HttpxClient(BaseClient):\\n    async def measure_server(self, epoch):\\n        print(\\\"measure server\\\")\\n        print(epoch.urls[0])\\n        max_connections = min(epoch.number_of_connections, 100)\\n        limits = httpx.Limits(\\n            max_keepalive_connections=5, max_connections=max_connections\\n        )\\n        timeout = httpx.Timeout(30.0, connect=60.0)\\n        start = time.perf_counter()\\n        async with httpx.AsyncClient(limits=limits, timeout=timeout) as client:\\n            responses = await asyncio.gather(*[client.get(url) for url in epoch.urls])\\n        elapsed = time.perf_counter() - start\\n        print(\\\"done: \\\", elapsed)\\n        print(\\\"responses status: \\\", responses[0].status_code)\\n        return elapsed, responses\\n\\n    def measure_in_new_process(self, epoch):\\n        print(\\\"new process\\\")\\n        elapsed, responses = asyncio.run(self.measure_server(epoch))\\n        self.verify_checksums(epoch.files, responses)\\n        return elapsed\\n\\n    def measure(self, epoch):\\n        print(\\\"measure\\\")\\n        with Pool(1) as p:\\n            [result] = p.map(self.measure_in_new_process, [epoch])\\n        return result\\n\\n\\ndef run_httpx():\\n    byte = 8\\n    gigabit = 10 ** 9\\n    bandwidth = gigabit / byte\\n\\n    # file_sizes = [10 ** 7, 10 ** 6]\\n    # file_sizes = [10 ** 7, 10 ** 6, 10 ** 5]\\n    file_sizes = [10 ** 7]\\n\\n    benchmark = Benchmark(\\n        bandwidth=bandwidth,\\n        duration=3,\\n        file_sizes=file_sizes,\\n        servers=[BenchmarkServer(name=\\\"uvicorn\\\")],\\n        clients=[HttpxClient(name=\\\"httpx\\\")],\\n    )\\n    benchmark.create_rows()\\n    benchmark.run()\\n    print(benchmark.results_frame)\";\n",
       "                var nbb_cells = Jupyter.notebook.get_cells();\n",
       "                for (var i = 0; i < nbb_cells.length; ++i) {\n",
       "                    if (nbb_cells[i].input_prompt_number == nbb_cell_id) {\n",
       "                        if (nbb_cells[i].get_text() == nbb_unformatted_code) {\n",
       "                             nbb_cells[i].set_text(nbb_formatted_code);\n",
       "                        }\n",
       "                        break;\n",
       "                    }\n",
       "                }\n",
       "            }, 500);\n",
       "            "
      ],
      "text/plain": [
       "<IPython.core.display.Javascript object>"
      ]
     },
     "metadata": {},
     "output_type": "display_data"
    }
   ],
   "source": [
    "# export\n",
    "\n",
    "\n",
    "# just here because of broken nbdev confusing lua with python\n",
    "counter = 0\n",
    "request = None\n",
    "\n",
    "\n",
    "class HttpxClient(BaseClient):\n",
    "    async def measure_server(self, epoch):\n",
    "        print(\"measure server\")\n",
    "        print(epoch.urls[0])\n",
    "        max_connections = min(epoch.number_of_connections, 100)\n",
    "        limits = httpx.Limits(\n",
    "            max_keepalive_connections=5, max_connections=max_connections\n",
    "        )\n",
    "        timeout = httpx.Timeout(30.0, connect=60.0)\n",
    "        start = time.perf_counter()\n",
    "        async with httpx.AsyncClient(limits=limits, timeout=timeout) as client:\n",
    "            responses = await asyncio.gather(*[client.get(url) for url in epoch.urls])\n",
    "        elapsed = time.perf_counter() - start\n",
    "        print(\"done: \", elapsed)\n",
    "        print(\"responses status: \", responses[0].status_code)\n",
    "        return elapsed, responses\n",
    "\n",
    "    def measure_in_new_process(self, epoch):\n",
    "        print(\"new process\")\n",
    "        elapsed, responses = asyncio.run(self.measure_server(epoch))\n",
    "        self.verify_checksums(epoch, responses)\n",
    "        return elapsed\n",
    "\n",
    "    def measure(self, epoch):\n",
    "        print(\"measure\")\n",
    "        with Pool(1) as p:\n",
    "            [result] = p.map(self.measure_in_new_process, [epoch])\n",
    "        return result\n",
    "\n",
    "\n",
    "def run_httpx():\n",
    "    byte = 8\n",
    "    gigabit = 10 ** 9\n",
    "    bandwidth = gigabit / byte\n",
    "\n",
    "    # file_sizes = [10 ** 7, 10 ** 6]\n",
    "    # file_sizes = [10 ** 7, 10 ** 6, 10 ** 5]\n",
    "    file_sizes = [10 ** 7]\n",
    "\n",
    "    benchmark = Benchmark(\n",
    "        bandwidth=bandwidth,\n",
    "        duration=3,\n",
    "        file_sizes=file_sizes,\n",
    "        servers=[BenchmarkServer(name=\"uvicorn\")],\n",
    "        clients=[HttpxClient(name=\"httpx\")],\n",
    "    )\n",
    "    benchmark.create_rows()\n",
    "    benchmark.run()\n",
    "    print(benchmark.results_frame)"
   ]
  },
  {
   "cell_type": "code",
   "execution_count": 6,
   "metadata": {},
   "outputs": [
    {
     "ename": "NameError",
     "evalue": "name 'benchmark' is not defined",
     "output_type": "error",
     "traceback": [
      "\u001b[0;31m---------------------------------------------------------------------------\u001b[0m",
      "\u001b[0;31mNameError\u001b[0m                                 Traceback (most recent call last)",
      "\u001b[0;32m<ipython-input-6-314ab886b5c5>\u001b[0m in \u001b[0;36m<module>\u001b[0;34m\u001b[0m\n\u001b[1;32m      2\u001b[0m \u001b[0;34m\u001b[0m\u001b[0m\n\u001b[1;32m      3\u001b[0m \u001b[0mclient\u001b[0m \u001b[0;34m=\u001b[0m \u001b[0mHttpxClient\u001b[0m\u001b[0;34m(\u001b[0m\u001b[0;34m)\u001b[0m\u001b[0;34m\u001b[0m\u001b[0;34m\u001b[0m\u001b[0m\n\u001b[0;32m----> 4\u001b[0;31m \u001b[0melapsed\u001b[0m\u001b[0;34m,\u001b[0m \u001b[0mresponses\u001b[0m \u001b[0;34m=\u001b[0m \u001b[0;32mawait\u001b[0m \u001b[0mclient\u001b[0m\u001b[0;34m.\u001b[0m\u001b[0mmeasure_server\u001b[0m\u001b[0;34m(\u001b[0m\u001b[0mbenchmark\u001b[0m\u001b[0;34m.\u001b[0m\u001b[0mepochs\u001b[0m\u001b[0;34m[\u001b[0m\u001b[0;36m0\u001b[0m\u001b[0;34m]\u001b[0m\u001b[0;34m)\u001b[0m\u001b[0;34m\u001b[0m\u001b[0;34m\u001b[0m\u001b[0m\n\u001b[0m\u001b[1;32m      5\u001b[0m \u001b[0mprint\u001b[0m\u001b[0;34m(\u001b[0m\u001b[0melapsed\u001b[0m\u001b[0;34m)\u001b[0m\u001b[0;34m\u001b[0m\u001b[0;34m\u001b[0m\u001b[0m\n",
      "\u001b[0;31mNameError\u001b[0m: name 'benchmark' is not defined"
     ]
    },
    {
     "data": {
      "application/javascript": [
       "\n",
       "            setTimeout(function() {\n",
       "                var nbb_cell_id = 6;\n",
       "                var nbb_unformatted_code = \"# dont_test\\n\\nclient = HttpxClient()\\nelapsed, responses = await client.measure_server(benchmark.epochs[0])\\nprint(elapsed)\";\n",
       "                var nbb_formatted_code = \"# dont_test\\n\\nclient = HttpxClient()\\nelapsed, responses = await client.measure_server(benchmark.epochs[0])\\nprint(elapsed)\";\n",
       "                var nbb_cells = Jupyter.notebook.get_cells();\n",
       "                for (var i = 0; i < nbb_cells.length; ++i) {\n",
       "                    if (nbb_cells[i].input_prompt_number == nbb_cell_id) {\n",
       "                        if (nbb_cells[i].get_text() == nbb_unformatted_code) {\n",
       "                             nbb_cells[i].set_text(nbb_formatted_code);\n",
       "                        }\n",
       "                        break;\n",
       "                    }\n",
       "                }\n",
       "            }, 500);\n",
       "            "
      ],
      "text/plain": [
       "<IPython.core.display.Javascript object>"
      ]
     },
     "metadata": {},
     "output_type": "display_data"
    }
   ],
   "source": [
    "# dont_test\n",
    "\n",
    "client = HttpxClient()\n",
    "elapsed, responses = await client.measure_server(benchmark.epochs[0])\n",
    "print(elapsed)"
   ]
  },
  {
   "cell_type": "markdown",
   "metadata": {},
   "source": [
    "# aiohttp"
   ]
  },
  {
   "cell_type": "code",
   "execution_count": null,
   "metadata": {},
   "outputs": [
    {
     "data": {
      "application/javascript": [
       "\n",
       "            setTimeout(function() {\n",
       "                var nbb_cell_id = 12;\n",
       "                var nbb_unformatted_code = \"# export\\n\\n\\nclass AioHttpResponse:\\n    def __init__(self, url, content):\\n        self.url = url\\n        self.content = content\\n\\n\\nclass AioHttpClient(BaseClient):\\n    async def fetch_page(self, session, url):\\n        async with session.get(url) as response:\\n            content = await response.read()\\n            return AioHttpResponse(url, content)\\n\\n    async def measure_server(self, epoch):\\n        urls = [bf.url for bf in benchmark_row.files]\\n        max_connections = min(benchmark_row.number_of_connections, 200)\\n        conn = aiohttp.TCPConnector(limit=max_connections)\\n        responses = []\\n        start = time.perf_counter()\\n        async with aiohttp.ClientSession(connector=conn) as session:\\n            tasks = [asyncio.create_task(self.fetch_page(session, url)) for url in urls]\\n            responses = await asyncio.gather(*tasks)\\n        elapsed = time.perf_counter() - start\\n        return elapsed, responses\\n\\n    def measure_in_new_process(self, epoch):\\n        elapsed, responses = asyncio.run(self.measure_server(epoch))\\n        self.verify_checksums(epoch.files, responses)\\n        return elapsed\\n\\n    def measure(self, epoch):\\n        with Pool(1) as p:\\n            [result] = p.map(self.measure_in_new_process, [epoch])\\n        return result\";\n",
       "                var nbb_formatted_code = \"# export\\n\\n\\nclass AioHttpResponse:\\n    def __init__(self, url, content):\\n        self.url = url\\n        self.content = content\\n\\n\\nclass AioHttpClient(BaseClient):\\n    async def fetch_page(self, session, url):\\n        async with session.get(url) as response:\\n            content = await response.read()\\n            return AioHttpResponse(url, content)\\n\\n    async def measure_server(self, epoch):\\n        urls = [bf.url for bf in benchmark_row.files]\\n        max_connections = min(benchmark_row.number_of_connections, 200)\\n        conn = aiohttp.TCPConnector(limit=max_connections)\\n        responses = []\\n        start = time.perf_counter()\\n        async with aiohttp.ClientSession(connector=conn) as session:\\n            tasks = [asyncio.create_task(self.fetch_page(session, url)) for url in urls]\\n            responses = await asyncio.gather(*tasks)\\n        elapsed = time.perf_counter() - start\\n        return elapsed, responses\\n\\n    def measure_in_new_process(self, epoch):\\n        elapsed, responses = asyncio.run(self.measure_server(epoch))\\n        self.verify_checksums(epoch.files, responses)\\n        return elapsed\\n\\n    def measure(self, epoch):\\n        with Pool(1) as p:\\n            [result] = p.map(self.measure_in_new_process, [epoch])\\n        return result\";\n",
       "                var nbb_cells = Jupyter.notebook.get_cells();\n",
       "                for (var i = 0; i < nbb_cells.length; ++i) {\n",
       "                    if (nbb_cells[i].input_prompt_number == nbb_cell_id) {\n",
       "                        if (nbb_cells[i].get_text() == nbb_unformatted_code) {\n",
       "                             nbb_cells[i].set_text(nbb_formatted_code);\n",
       "                        }\n",
       "                        break;\n",
       "                    }\n",
       "                }\n",
       "            }, 500);\n",
       "            "
      ],
      "text/plain": [
       "<IPython.core.display.Javascript object>"
      ]
     },
     "metadata": {},
     "output_type": "display_data"
    }
   ],
   "source": [
    "# export\n",
    "\n",
    "\n",
    "class AioHttpResponse:\n",
    "    def __init__(self, url, content):\n",
    "        self.url = url\n",
    "        self.content = content\n",
    "\n",
    "\n",
    "class AioHttpClient(BaseClient):\n",
    "    async def fetch_page(self, session, url):\n",
    "        async with session.get(url) as response:\n",
    "            content = await response.read()\n",
    "            return AioHttpResponse(url, content)\n",
    "\n",
    "    async def measure_server(self, epoch):\n",
    "        urls = [bf.url for bf in epoch.files]\n",
    "        max_connections = min(epoch.number_of_connections, 200)\n",
    "        conn = aiohttp.TCPConnector(limit=max_connections)\n",
    "        responses = []\n",
    "        start = time.perf_counter()\n",
    "        async with aiohttp.ClientSession(connector=conn) as session:\n",
    "            tasks = [asyncio.create_task(self.fetch_page(session, url)) for url in urls]\n",
    "            responses = await asyncio.gather(*tasks)\n",
    "        elapsed = time.perf_counter() - start\n",
    "        return elapsed, responses\n",
    "\n",
    "    def measure_in_new_process(self, epoch):\n",
    "        elapsed, responses = asyncio.run(self.measure_server(epoch))\n",
    "        self.verify_checksums(epoch.files, responses)\n",
    "        return elapsed\n",
    "\n",
    "    def measure(self, epoch):\n",
    "        with Pool(1) as p:\n",
    "            [result] = p.map(self.measure_in_new_process, [epoch])\n",
    "        return result"
   ]
  },
  {
   "cell_type": "code",
   "execution_count": null,
   "metadata": {},
   "outputs": [],
   "source": [
    "# dont_test\n",
    "\n",
    "client = AioHttpClient()\n",
    "elapsed, responses = await client.measure_server(benchmark.epochs[0])\n",
    "print(elapsed)"
   ]
  },
  {
   "cell_type": "markdown",
   "metadata": {},
   "source": [
    "# wrk"
   ]
  },
  {
   "cell_type": "code",
   "execution_count": null,
   "metadata": {},
   "outputs": [
    {
     "data": {
      "application/javascript": [
       "\n",
       "            setTimeout(function() {\n",
       "                var nbb_cell_id = 13;\n",
       "                var nbb_unformatted_code = \"# export\\n\\n\\nclass WrkClient(BaseClient):\\n    connections: int = 200\\n    duration: int = 20\\n    threads: int = 1\\n\\n    def create_urls_string(self, benchmark_row):\\n        urls = []\\n        for bf in benchmark_row.files:\\n            urls.append(f'    {{path = \\\"/{bf.path}\\\"}},')\\n        return \\\"\\\\n\\\".join(urls)\\n\\n    def create_lua_script(self, benchmark_row):\\n        requests_head = \\\"requests = {\\\"\\n        requests_tail = \\\"}\\\"\\n        lua_body = \\\"\\\"\\\"\\nprint(requests[1])\\n\\nif #requests <= 0 then\\n  print(\\\"multiplerequests: No requests found.\\\")\\n  os.exit()\\nend\\n\\nprint(\\\"multiplerequests: Found \\\" .. #requests .. \\\" requests\\\")\\n\\ncounter = 1\\nrequest = function()\\n  -- Get the next requests array element\\n  local request_object = requests[counter]\\n\\n  -- Increment the counter\\n  counter = counter + 1\\n\\n  -- If the counter is longer than the requests array length -> stop and exit\\n  if counter > #requests then\\n    wrk.thread:stop()\\n    os.exit()\\n  end\\n\\n  -- Return the request object with the current URL path\\n  return wrk.format(request_object.method, request_object.path, request_object.headers, request_object.body)\\nend\\n        \\\"\\\"\\\"\\n        urls = self.create_urls_string(benchmark_row)\\n        lua = \\\"\\\\n\\\".join([requests_head, urls, requests_tail, lua_body])\\n        with Path(f\\\"wrk.lua\\\").open(\\\"w\\\") as f:\\n            f.write(lua)\\n\\n    def run_wrk(self):\\n        kwargs = {\\\"capture_output\\\": True, \\\"text\\\": True}\\n        start = time.perf_counter()\\n        output = subprocess.run(\\n            [\\n                \\\"wrk\\\",\\n                \\\"-c\\\",\\n                str(self.connections),\\n                \\\"-t\\\",\\n                str(self.threads),\\n                \\\"-s\\\",\\n                \\\"wrk.lua\\\",\\n                \\\"http://localhost:8000\\\",\\n            ],\\n            **kwargs,\\n        )\\n        elapsed = time.perf_counter() - start\\n        return elapsed\\n\\n    def measure(self, benchmark_row):\\n        self.create_lua_script(benchmark_row)\\n        elapsed = self.run_wrk()\\n        return elapsed\";\n",
       "                var nbb_formatted_code = \"# export\\n\\n\\nclass WrkClient(BaseClient):\\n    connections: int = 200\\n    duration: int = 20\\n    threads: int = 1\\n\\n    def create_urls_string(self, benchmark_row):\\n        urls = []\\n        for bf in benchmark_row.files:\\n            urls.append(f'    {{path = \\\"/{bf.path}\\\"}},')\\n        return \\\"\\\\n\\\".join(urls)\\n\\n    def create_lua_script(self, benchmark_row):\\n        requests_head = \\\"requests = {\\\"\\n        requests_tail = \\\"}\\\"\\n        lua_body = \\\"\\\"\\\"\\nprint(requests[1])\\n\\nif #requests <= 0 then\\n  print(\\\"multiplerequests: No requests found.\\\")\\n  os.exit()\\nend\\n\\nprint(\\\"multiplerequests: Found \\\" .. #requests .. \\\" requests\\\")\\n\\ncounter = 1\\nrequest = function()\\n  -- Get the next requests array element\\n  local request_object = requests[counter]\\n\\n  -- Increment the counter\\n  counter = counter + 1\\n\\n  -- If the counter is longer than the requests array length -> stop and exit\\n  if counter > #requests then\\n    wrk.thread:stop()\\n    os.exit()\\n  end\\n\\n  -- Return the request object with the current URL path\\n  return wrk.format(request_object.method, request_object.path, request_object.headers, request_object.body)\\nend\\n        \\\"\\\"\\\"\\n        urls = self.create_urls_string(benchmark_row)\\n        lua = \\\"\\\\n\\\".join([requests_head, urls, requests_tail, lua_body])\\n        with Path(f\\\"wrk.lua\\\").open(\\\"w\\\") as f:\\n            f.write(lua)\\n\\n    def run_wrk(self):\\n        kwargs = {\\\"capture_output\\\": True, \\\"text\\\": True}\\n        start = time.perf_counter()\\n        output = subprocess.run(\\n            [\\n                \\\"wrk\\\",\\n                \\\"-c\\\",\\n                str(self.connections),\\n                \\\"-t\\\",\\n                str(self.threads),\\n                \\\"-s\\\",\\n                \\\"wrk.lua\\\",\\n                \\\"http://localhost:8000\\\",\\n            ],\\n            **kwargs,\\n        )\\n        elapsed = time.perf_counter() - start\\n        return elapsed\\n\\n    def measure(self, benchmark_row):\\n        self.create_lua_script(benchmark_row)\\n        elapsed = self.run_wrk()\\n        return elapsed\";\n",
       "                var nbb_cells = Jupyter.notebook.get_cells();\n",
       "                for (var i = 0; i < nbb_cells.length; ++i) {\n",
       "                    if (nbb_cells[i].input_prompt_number == nbb_cell_id) {\n",
       "                        if (nbb_cells[i].get_text() == nbb_unformatted_code) {\n",
       "                             nbb_cells[i].set_text(nbb_formatted_code);\n",
       "                        }\n",
       "                        break;\n",
       "                    }\n",
       "                }\n",
       "            }, 500);\n",
       "            "
      ],
      "text/plain": [
       "<IPython.core.display.Javascript object>"
      ]
     },
     "metadata": {},
     "output_type": "display_data"
    }
   ],
   "source": [
    "# export\n",
    "\n",
    "\n",
    "class WrkClient(BaseClient):\n",
    "    connections: int = 200\n",
    "    duration: int = 20\n",
    "    threads: int = 1\n",
    "\n",
    "    def create_urls_string(self, epoch):\n",
    "        urls = []\n",
    "        for bf in epoch.files:\n",
    "            urls.append(f'    {{path = \"/{bf.path}\"}},')\n",
    "        return \"\\n\".join(urls)\n",
    "\n",
    "    def create_lua_script(self, epoch):\n",
    "        requests_head = \"requests = {\"\n",
    "        requests_tail = \"}\"\n",
    "        lua_body = \"\"\"\n",
    "print(requests[1])\n",
    "\n",
    "if #requests <= 0 then\n",
    "  print(\"multiplerequests: No requests found.\")\n",
    "  os.exit()\n",
    "end\n",
    "\n",
    "print(\"multiplerequests: Found \" .. #requests .. \" requests\")\n",
    "\n",
    "counter = 1\n",
    "request = function()\n",
    "  -- Get the next requests array element\n",
    "  local request_object = requests[counter]\n",
    "\n",
    "  -- Increment the counter\n",
    "  counter = counter + 1\n",
    "\n",
    "  -- If the counter is longer than the requests array length -> stop and exit\n",
    "  if counter > #requests then\n",
    "    wrk.thread:stop()\n",
    "    os.exit()\n",
    "  end\n",
    "\n",
    "  -- Return the request object with the current URL path\n",
    "  return wrk.format(request_object.method, request_object.path, request_object.headers, request_object.body)\n",
    "end\n",
    "        \"\"\"\n",
    "        urls = self.create_urls_string(epoch)\n",
    "        lua = \"\\n\".join([requests_head, urls, requests_tail, lua_body])\n",
    "        with Path(f\"wrk.lua\").open(\"w\") as f:\n",
    "            f.write(lua)\n",
    "\n",
    "    def run_wrk(self):\n",
    "        kwargs = {\"capture_output\": True, \"text\": True}\n",
    "        start = time.perf_counter()\n",
    "        output = subprocess.run(\n",
    "            [\n",
    "                \"wrk\",\n",
    "                \"-c\",\n",
    "                str(self.connections),\n",
    "                \"-t\",\n",
    "                str(self.threads),\n",
    "                \"-s\",\n",
    "                \"wrk.lua\",\n",
    "                \"http://localhost:8000\",\n",
    "            ],\n",
    "            **kwargs,\n",
    "        )\n",
    "        elapsed = time.perf_counter() - start\n",
    "        return elapsed\n",
    "\n",
    "    def measure(self, epoch):\n",
    "        self.create_lua_script(epoch)\n",
    "        elapsed = self.run_wrk()\n",
    "        return elapsed"
   ]
  },
  {
   "cell_type": "code",
   "execution_count": null,
   "metadata": {},
   "outputs": [],
   "source": [
    "%%time\n",
    "# dont_test\n",
    "kwargs = {\"capture_output\": True, \"text\": True}\n",
    "output = subprocess.run([\"wrk\", \"-c20\", \"-t1\", \"-d2\", \"-s\", \"wrk.lua\", \"http://localhost:8000\"], **kwargs)\n",
    "# output = subprocess.run([\"wrk\", \"-d2\", \"http://localhost:8000\"], **kwargs)"
   ]
  },
  {
   "cell_type": "code",
   "execution_count": null,
   "metadata": {},
   "outputs": [],
   "source": [
    "# dont_test\n",
    "print(output.stdout)"
   ]
  },
  {
   "cell_type": "code",
   "execution_count": null,
   "metadata": {},
   "outputs": [],
   "source": [
    "# dont_test\n",
    "\n",
    "client = WrkClient()\n",
    "elapsed = client.measure(benchmark.epochs[0])\n",
    "print(elapsed)"
   ]
  },
  {
   "cell_type": "markdown",
   "metadata": {},
   "source": [
    "# Export"
   ]
  },
  {
   "cell_type": "code",
   "execution_count": 8,
   "metadata": {},
   "outputs": [
    {
     "name": "stdout",
     "output_type": "stream",
     "text": [
      "Converted 00_core.ipynb.\n",
      "Converted 01_django_views.ipynb.\n",
      "Converted 01_fastapi_views.ipynb.\n",
      "Converted 02_control_server.ipynb.\n",
      "Converted 02_docker_servers.ipynb.\n",
      "Converted 02_local_servers.ipynb.\n",
      "Converted 03_benchmark_clients.ipynb.\n",
      "Converted 04_persistence.ipynb.\n",
      "Converted 05_run_benchmark.ipynb.\n",
      "Converted 06_benchmark_without_benchmark.ipynb.\n",
      "Converted index.ipynb.\n"
     ]
    },
    {
     "data": {
      "application/javascript": [
       "\n",
       "            setTimeout(function() {\n",
       "                var nbb_cell_id = 8;\n",
       "                var nbb_unformatted_code = \"# dont_test\\n\\nfrom nbdev.export import notebook2script\\n\\nnotebook2script()\";\n",
       "                var nbb_formatted_code = \"# dont_test\\n\\nfrom nbdev.export import notebook2script\\n\\nnotebook2script()\";\n",
       "                var nbb_cells = Jupyter.notebook.get_cells();\n",
       "                for (var i = 0; i < nbb_cells.length; ++i) {\n",
       "                    if (nbb_cells[i].input_prompt_number == nbb_cell_id) {\n",
       "                        if (nbb_cells[i].get_text() == nbb_unformatted_code) {\n",
       "                             nbb_cells[i].set_text(nbb_formatted_code);\n",
       "                        }\n",
       "                        break;\n",
       "                    }\n",
       "                }\n",
       "            }, 500);\n",
       "            "
      ],
      "text/plain": [
       "<IPython.core.display.Javascript object>"
      ]
     },
     "metadata": {},
     "output_type": "display_data"
    }
   ],
   "source": [
    "# dont_test\n",
    "\n",
    "from nbdev.export import notebook2script\n",
    "\n",
    "notebook2script()"
   ]
  },
  {
   "cell_type": "code",
   "execution_count": null,
   "metadata": {},
   "outputs": [],
   "source": []
  }
 ],
 "metadata": {
  "kernelspec": {
   "display_name": "Python 3",
   "language": "python",
   "name": "python3"
  },
  "language_info": {
   "codemirror_mode": {
    "name": "ipython",
    "version": 3
   },
   "file_extension": ".py",
   "mimetype": "text/x-python",
   "name": "python",
   "nbconvert_exporter": "python",
   "pygments_lexer": "ipython3",
   "version": "3.9.2"
  }
 },
 "nbformat": 4,
 "nbformat_minor": 2
}
