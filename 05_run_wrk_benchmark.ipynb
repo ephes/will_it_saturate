{
 "cells": [
  {
   "cell_type": "code",
   "execution_count": 1,
   "id": "massive-default",
   "metadata": {},
   "outputs": [
    {
     "data": {
      "application/javascript": [
       "\n",
       "            setTimeout(function() {\n",
       "                var nbb_cell_id = 1;\n",
       "                var nbb_unformatted_code = \"# hide\\n\\n%load_ext nb_black\";\n",
       "                var nbb_formatted_code = \"# hide\\n\\n%load_ext nb_black\";\n",
       "                var nbb_cells = Jupyter.notebook.get_cells();\n",
       "                for (var i = 0; i < nbb_cells.length; ++i) {\n",
       "                    if (nbb_cells[i].input_prompt_number == nbb_cell_id) {\n",
       "                        if (nbb_cells[i].get_text() == nbb_unformatted_code) {\n",
       "                             nbb_cells[i].set_text(nbb_formatted_code);\n",
       "                        }\n",
       "                        break;\n",
       "                    }\n",
       "                }\n",
       "            }, 500);\n",
       "            "
      ],
      "text/plain": [
       "<IPython.core.display.Javascript object>"
      ]
     },
     "metadata": {},
     "output_type": "display_data"
    }
   ],
   "source": [
    "# hide\n",
    "\n",
    "%load_ext nb_black"
   ]
  },
  {
   "cell_type": "code",
   "execution_count": 10,
   "id": "emerging-calibration",
   "metadata": {},
   "outputs": [
    {
     "data": {
      "application/javascript": [
       "\n",
       "            setTimeout(function() {\n",
       "                var nbb_cell_id = 10;\n",
       "                var nbb_unformatted_code = \"import json\\n\\nfrom pathlib import Path\\n\\nfrom will_it_saturate.core import Benchmark\";\n",
       "                var nbb_formatted_code = \"import json\\n\\nfrom pathlib import Path\\n\\nfrom will_it_saturate.core import Benchmark\";\n",
       "                var nbb_cells = Jupyter.notebook.get_cells();\n",
       "                for (var i = 0; i < nbb_cells.length; ++i) {\n",
       "                    if (nbb_cells[i].input_prompt_number == nbb_cell_id) {\n",
       "                        if (nbb_cells[i].get_text() == nbb_unformatted_code) {\n",
       "                             nbb_cells[i].set_text(nbb_formatted_code);\n",
       "                        }\n",
       "                        break;\n",
       "                    }\n",
       "                }\n",
       "            }, 500);\n",
       "            "
      ],
      "text/plain": [
       "<IPython.core.display.Javascript object>"
      ]
     },
     "metadata": {},
     "output_type": "display_data"
    }
   ],
   "source": [
    "import json\n",
    "\n",
    "from pathlib import Path\n",
    "\n",
    "from will_it_saturate.core import Benchmark"
   ]
  },
  {
   "cell_type": "markdown",
   "id": "proof-proportion",
   "metadata": {},
   "source": [
    "# Create wrk JSON"
   ]
  },
  {
   "cell_type": "code",
   "execution_count": 11,
   "id": "bizarre-montreal",
   "metadata": {},
   "outputs": [
    {
     "data": {
      "application/javascript": [
       "\n",
       "            setTimeout(function() {\n",
       "                var nbb_cell_id = 11;\n",
       "                var nbb_unformatted_code = \"byte = 8\\ngigabit = 10 ** 9\\nbandwidth = gigabit / byte\\n\\nbenchmark = Benchmark(bandwidth=bandwidth, duration=3)\\n\\n# file_sizes = [10 ** 7, 10 ** 6]\\nfile_sizes = [10 ** 7, 10 ** 6, 10 ** 5]\\n# file_sizes = [10 ** 7]\\nbenchmark.create_rows(file_sizes)\";\n",
       "                var nbb_formatted_code = \"byte = 8\\ngigabit = 10 ** 9\\nbandwidth = gigabit / byte\\n\\nbenchmark = Benchmark(bandwidth=bandwidth, duration=3)\\n\\n# file_sizes = [10 ** 7, 10 ** 6]\\nfile_sizes = [10 ** 7, 10 ** 6, 10 ** 5]\\n# file_sizes = [10 ** 7]\\nbenchmark.create_rows(file_sizes)\";\n",
       "                var nbb_cells = Jupyter.notebook.get_cells();\n",
       "                for (var i = 0; i < nbb_cells.length; ++i) {\n",
       "                    if (nbb_cells[i].input_prompt_number == nbb_cell_id) {\n",
       "                        if (nbb_cells[i].get_text() == nbb_unformatted_code) {\n",
       "                             nbb_cells[i].set_text(nbb_formatted_code);\n",
       "                        }\n",
       "                        break;\n",
       "                    }\n",
       "                }\n",
       "            }, 500);\n",
       "            "
      ],
      "text/plain": [
       "<IPython.core.display.Javascript object>"
      ]
     },
     "metadata": {},
     "output_type": "display_data"
    }
   ],
   "source": [
    "byte = 8\n",
    "gigabit = 10 ** 9\n",
    "bandwidth = gigabit / byte\n",
    "\n",
    "benchmark = Benchmark(bandwidth=bandwidth, duration=3)\n",
    "\n",
    "# file_sizes = [10 ** 7, 10 ** 6]\n",
    "file_sizes = [10 ** 7, 10 ** 6, 10 ** 5]\n",
    "# file_sizes = [10 ** 7]\n",
    "benchmark.create_rows(file_sizes)"
   ]
  },
  {
   "cell_type": "code",
   "execution_count": 12,
   "id": "alive-deficit",
   "metadata": {},
   "outputs": [
    {
     "data": {
      "application/javascript": [
       "\n",
       "            setTimeout(function() {\n",
       "                var nbb_cell_id = 12;\n",
       "                var nbb_unformatted_code = \"def create_url_list(benchmark_row):\\n    template = {\\n        \\\"method\\\": \\\"GET\\\",\\n    }\\n    urls = []\\n    for bf in benchmark_row.files:\\n        urls.append({**template, \\\"path\\\": bf.path})\\n    return urls\";\n",
       "                var nbb_formatted_code = \"def create_url_list(benchmark_row):\\n    template = {\\n        \\\"method\\\": \\\"GET\\\",\\n    }\\n    urls = []\\n    for bf in benchmark_row.files:\\n        urls.append({**template, \\\"path\\\": bf.path})\\n    return urls\";\n",
       "                var nbb_cells = Jupyter.notebook.get_cells();\n",
       "                for (var i = 0; i < nbb_cells.length; ++i) {\n",
       "                    if (nbb_cells[i].input_prompt_number == nbb_cell_id) {\n",
       "                        if (nbb_cells[i].get_text() == nbb_unformatted_code) {\n",
       "                             nbb_cells[i].set_text(nbb_formatted_code);\n",
       "                        }\n",
       "                        break;\n",
       "                    }\n",
       "                }\n",
       "            }, 500);\n",
       "            "
      ],
      "text/plain": [
       "<IPython.core.display.Javascript object>"
      ]
     },
     "metadata": {},
     "output_type": "display_data"
    }
   ],
   "source": [
    "def create_url_list(benchmark_row):\n",
    "    template = {\n",
    "        \"method\": \"GET\",\n",
    "    }\n",
    "    urls = []\n",
    "    for bf in benchmark_row.files:\n",
    "        urls.append({**template, \"path\": bf.path})\n",
    "    return urls"
   ]
  },
  {
   "cell_type": "code",
   "execution_count": 19,
   "id": "outstanding-medline",
   "metadata": {},
   "outputs": [
    {
     "name": "stdout",
     "output_type": "stream",
     "text": [
      "38\n",
      "data/10000000_3_125000000.json\n",
      "375\n",
      "data/1000000_3_125000000.json\n",
      "3750\n",
      "data/100000_3_125000000.json\n"
     ]
    },
    {
     "data": {
      "application/javascript": [
       "\n",
       "            setTimeout(function() {\n",
       "                var nbb_cell_id = 19;\n",
       "                var nbb_unformatted_code = \"for br in benchmark.rows:\\n    urls = create_url_list(br)\\n    print(len(urls))\\n    json_path = Path(br.data_root) / f\\\"{br.base_path}.json\\\"\\n    print(json_path)\\n    with json_path.open(\\\"w\\\") as f:\\n        f.write(json.dumps(urls))\";\n",
       "                var nbb_formatted_code = \"for br in benchmark.rows:\\n    urls = create_url_list(br)\\n    print(len(urls))\\n    json_path = Path(br.data_root) / f\\\"{br.base_path}.json\\\"\\n    print(json_path)\\n    with json_path.open(\\\"w\\\") as f:\\n        f.write(json.dumps(urls))\";\n",
       "                var nbb_cells = Jupyter.notebook.get_cells();\n",
       "                for (var i = 0; i < nbb_cells.length; ++i) {\n",
       "                    if (nbb_cells[i].input_prompt_number == nbb_cell_id) {\n",
       "                        if (nbb_cells[i].get_text() == nbb_unformatted_code) {\n",
       "                             nbb_cells[i].set_text(nbb_formatted_code);\n",
       "                        }\n",
       "                        break;\n",
       "                    }\n",
       "                }\n",
       "            }, 500);\n",
       "            "
      ],
      "text/plain": [
       "<IPython.core.display.Javascript object>"
      ]
     },
     "metadata": {},
     "output_type": "display_data"
    }
   ],
   "source": [
    "for br in benchmark.rows:\n",
    "    urls = create_url_list(br)\n",
    "    print(len(urls))\n",
    "    json_path = Path(br.data_root) / f\"{br.base_path}.json\"\n",
    "    print(json_path)\n",
    "    with json_path.open(\"w\") as f:\n",
    "        f.write(json.dumps(urls))"
   ]
  },
  {
   "cell_type": "markdown",
   "id": "musical-perry",
   "metadata": {},
   "source": [
    "# Create wrk Lua"
   ]
  },
  {
   "cell_type": "code",
   "execution_count": 38,
   "id": "digital-setting",
   "metadata": {},
   "outputs": [
    {
     "data": {
      "application/javascript": [
       "\n",
       "            setTimeout(function() {\n",
       "                var nbb_cell_id = 38;\n",
       "                var nbb_unformatted_code = \"def cerate_url_string(benchmark_row):\\n    urls = []\\n    for bf in benchmark_row.files:\\n        urls.append(f'    {{path = \\\"/{bf.path}\\\"}},')\\n    return \\\"\\\\n\\\".join(urls)\";\n",
       "                var nbb_formatted_code = \"def cerate_url_string(benchmark_row):\\n    urls = []\\n    for bf in benchmark_row.files:\\n        urls.append(f'    {{path = \\\"/{bf.path}\\\"}},')\\n    return \\\"\\\\n\\\".join(urls)\";\n",
       "                var nbb_cells = Jupyter.notebook.get_cells();\n",
       "                for (var i = 0; i < nbb_cells.length; ++i) {\n",
       "                    if (nbb_cells[i].input_prompt_number == nbb_cell_id) {\n",
       "                        if (nbb_cells[i].get_text() == nbb_unformatted_code) {\n",
       "                             nbb_cells[i].set_text(nbb_formatted_code);\n",
       "                        }\n",
       "                        break;\n",
       "                    }\n",
       "                }\n",
       "            }, 500);\n",
       "            "
      ],
      "text/plain": [
       "<IPython.core.display.Javascript object>"
      ]
     },
     "metadata": {},
     "output_type": "display_data"
    }
   ],
   "source": [
    "def cerate_url_string(benchmark_row):\n",
    "    urls = []\n",
    "    for bf in benchmark_row.files:\n",
    "        urls.append(f'    {{path = \"/{bf.path}\"}},')\n",
    "    return \"\\n\".join(urls)"
   ]
  },
  {
   "cell_type": "code",
   "execution_count": 39,
   "id": "intense-necessity",
   "metadata": {},
   "outputs": [
    {
     "data": {
      "application/javascript": [
       "\n",
       "            setTimeout(function() {\n",
       "                var nbb_cell_id = 39;\n",
       "                var nbb_unformatted_code = \"requests_head = \\\"requests = {\\\"\\nrequests_tail = \\\"}\\\"\\n\\nlua_body = \\\"\\\"\\\"\\nprint(requests[1])\\n\\nif #requests <= 0 then\\n  print(\\\"multiplerequests: No requests found.\\\")\\n  os.exit()\\nend\\n\\nprint(\\\"multiplerequests: Found \\\" .. #requests .. \\\" requests\\\")\\n\\ncounter = 1\\nrequest = function()\\n  -- Get the next requests array element\\n  local request_object = requests[counter]\\n\\n  -- Increment the counter\\n  counter = counter + 1\\n\\n  -- If the counter is longer than the requests array length then reset it\\n  if counter > #requests then\\n    counter = 1\\n  end\\n\\n  -- Return the request object with the current URL path\\n  return wrk.format(request_object.method, request_object.path, request_object.headers, request_object.body)\\nend\\n\\\"\\\"\\\"\";\n",
       "                var nbb_formatted_code = \"requests_head = \\\"requests = {\\\"\\nrequests_tail = \\\"}\\\"\\n\\nlua_body = \\\"\\\"\\\"\\nprint(requests[1])\\n\\nif #requests <= 0 then\\n  print(\\\"multiplerequests: No requests found.\\\")\\n  os.exit()\\nend\\n\\nprint(\\\"multiplerequests: Found \\\" .. #requests .. \\\" requests\\\")\\n\\ncounter = 1\\nrequest = function()\\n  -- Get the next requests array element\\n  local request_object = requests[counter]\\n\\n  -- Increment the counter\\n  counter = counter + 1\\n\\n  -- If the counter is longer than the requests array length then reset it\\n  if counter > #requests then\\n    counter = 1\\n  end\\n\\n  -- Return the request object with the current URL path\\n  return wrk.format(request_object.method, request_object.path, request_object.headers, request_object.body)\\nend\\n\\\"\\\"\\\"\";\n",
       "                var nbb_cells = Jupyter.notebook.get_cells();\n",
       "                for (var i = 0; i < nbb_cells.length; ++i) {\n",
       "                    if (nbb_cells[i].input_prompt_number == nbb_cell_id) {\n",
       "                        if (nbb_cells[i].get_text() == nbb_unformatted_code) {\n",
       "                             nbb_cells[i].set_text(nbb_formatted_code);\n",
       "                        }\n",
       "                        break;\n",
       "                    }\n",
       "                }\n",
       "            }, 500);\n",
       "            "
      ],
      "text/plain": [
       "<IPython.core.display.Javascript object>"
      ]
     },
     "metadata": {},
     "output_type": "display_data"
    }
   ],
   "source": [
    "requests_head = \"requests = {\"\n",
    "requests_tail = \"}\"\n",
    "\n",
    "lua_body = \"\"\"\n",
    "print(requests[1])\n",
    "\n",
    "if #requests <= 0 then\n",
    "  print(\"multiplerequests: No requests found.\")\n",
    "  os.exit()\n",
    "end\n",
    "\n",
    "print(\"multiplerequests: Found \" .. #requests .. \" requests\")\n",
    "\n",
    "counter = 1\n",
    "request = function()\n",
    "  -- Get the next requests array element\n",
    "  local request_object = requests[counter]\n",
    "\n",
    "  -- Increment the counter\n",
    "  counter = counter + 1\n",
    "\n",
    "  -- If the counter is longer than the requests array length then reset it\n",
    "  if counter > #requests then\n",
    "    counter = 1\n",
    "  end\n",
    "\n",
    "  -- Return the request object with the current URL path\n",
    "  return wrk.format(request_object.method, request_object.path, request_object.headers, request_object.body)\n",
    "end\n",
    "\"\"\""
   ]
  },
  {
   "cell_type": "code",
   "execution_count": 40,
   "id": "charitable-member",
   "metadata": {},
   "outputs": [
    {
     "data": {
      "application/javascript": [
       "\n",
       "            setTimeout(function() {\n",
       "                var nbb_cell_id = 40;\n",
       "                var nbb_unformatted_code = \"for num, br in enumerate(benchmark.rows):\\n    urls = cerate_url_string(br)\\n    lua = \\\"\\\\n\\\".join([requests_head, urls, requests_tail, lua_body])\\n    with Path(f\\\"wrk{num}.lua\\\").open(\\\"w\\\") as f:\\n        f.write(lua)\";\n",
       "                var nbb_formatted_code = \"for num, br in enumerate(benchmark.rows):\\n    urls = cerate_url_string(br)\\n    lua = \\\"\\\\n\\\".join([requests_head, urls, requests_tail, lua_body])\\n    with Path(f\\\"wrk{num}.lua\\\").open(\\\"w\\\") as f:\\n        f.write(lua)\";\n",
       "                var nbb_cells = Jupyter.notebook.get_cells();\n",
       "                for (var i = 0; i < nbb_cells.length; ++i) {\n",
       "                    if (nbb_cells[i].input_prompt_number == nbb_cell_id) {\n",
       "                        if (nbb_cells[i].get_text() == nbb_unformatted_code) {\n",
       "                             nbb_cells[i].set_text(nbb_formatted_code);\n",
       "                        }\n",
       "                        break;\n",
       "                    }\n",
       "                }\n",
       "            }, 500);\n",
       "            "
      ],
      "text/plain": [
       "<IPython.core.display.Javascript object>"
      ]
     },
     "metadata": {},
     "output_type": "display_data"
    }
   ],
   "source": [
    "for num, br in enumerate(benchmark.rows):\n",
    "    urls = cerate_url_string(br)\n",
    "    lua = \"\\n\".join([requests_head, urls, requests_tail, lua_body])\n",
    "    with Path(f\"wrk{num}.lua\").open(\"w\") as f:\n",
    "        f.write(lua)"
   ]
  },
  {
   "cell_type": "code",
   "execution_count": null,
   "id": "august-pipeline",
   "metadata": {},
   "outputs": [],
   "source": []
  }
 ],
 "metadata": {
  "kernelspec": {
   "display_name": "Python 3",
   "language": "python",
   "name": "python3"
  },
  "language_info": {
   "codemirror_mode": {
    "name": "ipython",
    "version": 3
   },
   "file_extension": ".py",
   "mimetype": "text/x-python",
   "name": "python",
   "nbconvert_exporter": "python",
   "pygments_lexer": "ipython3",
   "version": "3.9.1"
  }
 },
 "nbformat": 4,
 "nbformat_minor": 5
}
