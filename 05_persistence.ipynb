{
 "cells": [
  {
   "cell_type": "code",
   "execution_count": null,
   "id": "basic-underwear",
   "metadata": {},
   "outputs": [
    {
     "data": {
      "application/javascript": [
       "\n",
       "            setTimeout(function() {\n",
       "                var nbb_cell_id = 2;\n",
       "                var nbb_unformatted_code = \"# hide\\n\\nfrom pprint import pprint\\n\\n%load_ext nb_black\";\n",
       "                var nbb_formatted_code = \"# hide\\n\\nfrom pprint import pprint\\n\\n%load_ext nb_black\";\n",
       "                var nbb_cells = Jupyter.notebook.get_cells();\n",
       "                for (var i = 0; i < nbb_cells.length; ++i) {\n",
       "                    if (nbb_cells[i].input_prompt_number == nbb_cell_id) {\n",
       "                        if (nbb_cells[i].get_text() == nbb_unformatted_code) {\n",
       "                             nbb_cells[i].set_text(nbb_formatted_code);\n",
       "                        }\n",
       "                        break;\n",
       "                    }\n",
       "                }\n",
       "            }, 500);\n",
       "            "
      ],
      "text/plain": [
       "<IPython.core.display.Javascript object>"
      ]
     },
     "metadata": {},
     "output_type": "display_data"
    }
   ],
   "source": [
    "# hide\n",
    "\n",
    "from pprint import pprint\n",
    "\n",
    "%load_ext nb_black"
   ]
  },
  {
   "cell_type": "code",
   "execution_count": null,
   "id": "moving-sherman",
   "metadata": {},
   "outputs": [
    {
     "data": {
      "application/javascript": [
       "\n",
       "            setTimeout(function() {\n",
       "                var nbb_cell_id = 3;\n",
       "                var nbb_unformatted_code = \"# default_exp persistence\";\n",
       "                var nbb_formatted_code = \"# default_exp persistence\";\n",
       "                var nbb_cells = Jupyter.notebook.get_cells();\n",
       "                for (var i = 0; i < nbb_cells.length; ++i) {\n",
       "                    if (nbb_cells[i].input_prompt_number == nbb_cell_id) {\n",
       "                        if (nbb_cells[i].get_text() == nbb_unformatted_code) {\n",
       "                             nbb_cells[i].set_text(nbb_formatted_code);\n",
       "                        }\n",
       "                        break;\n",
       "                    }\n",
       "                }\n",
       "            }, 500);\n",
       "            "
      ],
      "text/plain": [
       "<IPython.core.display.Javascript object>"
      ]
     },
     "metadata": {},
     "output_type": "display_data"
    }
   ],
   "source": [
    "# default_exp persistence"
   ]
  },
  {
   "cell_type": "code",
   "execution_count": null,
   "id": "integrated-customs",
   "metadata": {},
   "outputs": [
    {
     "data": {
      "application/javascript": [
       "\n",
       "            setTimeout(function() {\n",
       "                var nbb_cell_id = 71;\n",
       "                var nbb_unformatted_code = \"# export\\n\\nimport json\\nimport sqlite3\\n\\nfrom will_it_saturate.core import BaseRepository\\n\\n\\nclass SqliteRepository(BaseRepository):\\n    connection: sqlite3.Connection\\n\\n    class Config:\\n        arbitrary_types_allowed = True\\n\\n    def execute_stmt(self, stmt, ignore_error=False):\\n        cursor = self.connection.cursor()\\n        try:\\n            cursor.execute(stmt)\\n        except sqlite3.OperationalError as exc:\\n            if not ignore_error:\\n                raise (exc)\\n\\n    def create_benchmark_table(self):\\n        stmt = \\\"\\\"\\\"\\n            create table benchmark (\\n                benchmark_id INTEGER PRIMARY KEY,\\n                created DATE DEFAULT (datetime('now','localtime')),\\n                machine_id TEXT NOT NULL UNIQUE,\\n                uname TEXT NOT NULL,\\n                data TEXT NOT NULL\\n            )\\n        \\\"\\\"\\\"\\n        self.execute_stmt(stmt, ignore_error=True)\\n\\n    def create_result_table(self):\\n        stmt = \\\"\\\"\\\"\\n            create table result (\\n                result_id INTEGER PRIMARY KEY,\\n                benchmark_id integer not NULL,\\n                created DATE DEFAULT (datetime('now','localtime')),\\n                server text not NULL,\\n                client text not NULL,\\n                file_size integer not NULL,\\n                complete_size integer not NULL,\\n                elapsed real not NULL,\\n                FOREIGN KEY(benchmark_id) REFERENCES benchmark(benchmark_id)\\n            )\\n        \\\"\\\"\\\"\\n        self.execute_stmt(stmt, ignore_error=True)\\n\\n    def create_tables(self):\\n        self.create_benchmark_table()\\n        self.create_result_table()\\n\\n    def add_benchmark(self, benchmark):\\n        stmt = \\\"\\\"\\\"\\n            insert into benchmark (machine_id, uname, data)\\n            values (?, ?, ?)\\n        \\\"\\\"\\\"\\n        cursor = self.connection.cursor()\\n        machine_id = benchmark.machine_id\\n        uname = benchmark.uname_json\\n        data = benchmark.json()\\n        try:\\n            cursor = cursor.execute(stmt, [machine_id, uname, data])\\n        except sqlite3.IntegrityError as e:\\n            pass\\n        self.connection.commit()\\n\\n    def get_benchmark(self, benchmark):\\n        stmt = \\\"\\\"\\\"\\n            select *\\n              from benchmark\\n             where machine_id=?\\n        \\\"\\\"\\\"\\n        cursor = self.connection.cursor()\\n        cursor.execute(stmt, [benchmark.machine_id])\\n        return cursor.fetchone()\\n\\n    def get_benchmark_id(self, benchmark):\\n        row = self.get_benchmark(benchmark)\\n        if row is None:\\n            return row\\n        return row[0]\\n\\n    def get_result(self, benchmark, result):\\n        benchmark_id = self.get_benchmark_id(benchmark)\\n        if benchmark_id is None:\\n            self.add_benchmark(benchmark)\\n        benchmark_id = self.get_benchmark_id(benchmark)\\n        assert benchmark_id is not None\\n        stmt = \\\"\\\"\\\"\\n            select *\\n              from result\\n             where benchmark_id=?\\n               and server=?\\n               and client=?\\n               and file_size=?\\n               and complete_size=?\\n        \\\"\\\"\\\"\\n        cursor = self.connection.cursor()\\n        cursor.execute(\\n            stmt,\\n            [\\n                benchmark_id,\\n                result.server,\\n                result.client,\\n                result.file_size,\\n                result.complete_size,\\n            ],\\n        )\\n        row = cursor.fetchone()\\n        if row is None:\\n            return result\\n        result.elapsed = row[7]\\n        return result\\n\\n    def add_result(self, benchmark, result):\\n        benchmark_id = self.get_benchmark_id(benchmark)\\n        columns = [\\n            \\\"benchmark_id\\\",\\n            \\\"server\\\",\\n            \\\"client\\\",\\n            \\\"file_size\\\",\\n            \\\"complete_size\\\",\\n            \\\"elapsed\\\",\\n        ]\\n        columns_str = \\\",\\\".join(columns)\\n        values_str = \\\",\\\".join([\\\"?\\\" for c in columns])\\n        stmt = f\\\"\\\"\\\"\\n            insert into result ({columns_str})\\n            values ({values_str})\\n        \\\"\\\"\\\"\\n        cursor = self.connection.cursor()\\n        result_dict = result.dict()\\n        result_dict[\\\"benchmark_id\\\"] = benchmark_id\\n        values = [result_dict[c] for c in columns]\\n        try:\\n            cursor = cursor.execute(stmt, values)\\n        except sqlite3.IntegrityError as e:\\n            pass\\n        self.connection.commit()\\n\\n    @classmethod\\n    def build_repository(cls, database_name):\\n        conn = sqlite3.connect(database_name)\\n        repo = cls(connection=conn)\\n        repo.create_tables()\\n        return repo\";\n",
       "                var nbb_formatted_code = \"# export\\n\\nimport json\\nimport sqlite3\\n\\nfrom will_it_saturate.core import BaseRepository\\n\\n\\nclass SqliteRepository(BaseRepository):\\n    connection: sqlite3.Connection\\n\\n    class Config:\\n        arbitrary_types_allowed = True\\n\\n    def execute_stmt(self, stmt, ignore_error=False):\\n        cursor = self.connection.cursor()\\n        try:\\n            cursor.execute(stmt)\\n        except sqlite3.OperationalError as exc:\\n            if not ignore_error:\\n                raise (exc)\\n\\n    def create_benchmark_table(self):\\n        stmt = \\\"\\\"\\\"\\n            create table benchmark (\\n                benchmark_id INTEGER PRIMARY KEY,\\n                created DATE DEFAULT (datetime('now','localtime')),\\n                machine_id TEXT NOT NULL UNIQUE,\\n                uname TEXT NOT NULL,\\n                data TEXT NOT NULL\\n            )\\n        \\\"\\\"\\\"\\n        self.execute_stmt(stmt, ignore_error=True)\\n\\n    def create_result_table(self):\\n        stmt = \\\"\\\"\\\"\\n            create table result (\\n                result_id INTEGER PRIMARY KEY,\\n                benchmark_id integer not NULL,\\n                created DATE DEFAULT (datetime('now','localtime')),\\n                server text not NULL,\\n                client text not NULL,\\n                file_size integer not NULL,\\n                complete_size integer not NULL,\\n                elapsed real not NULL,\\n                FOREIGN KEY(benchmark_id) REFERENCES benchmark(benchmark_id)\\n            )\\n        \\\"\\\"\\\"\\n        self.execute_stmt(stmt, ignore_error=True)\\n\\n    def create_tables(self):\\n        self.create_benchmark_table()\\n        self.create_result_table()\\n\\n    def add_benchmark(self, benchmark):\\n        stmt = \\\"\\\"\\\"\\n            insert into benchmark (machine_id, uname, data)\\n            values (?, ?, ?)\\n        \\\"\\\"\\\"\\n        cursor = self.connection.cursor()\\n        machine_id = benchmark.machine_id\\n        uname = benchmark.uname_json\\n        data = benchmark.json()\\n        try:\\n            cursor = cursor.execute(stmt, [machine_id, uname, data])\\n        except sqlite3.IntegrityError as e:\\n            pass\\n        self.connection.commit()\\n\\n    def get_benchmark(self, benchmark):\\n        stmt = \\\"\\\"\\\"\\n            select *\\n              from benchmark\\n             where machine_id=?\\n        \\\"\\\"\\\"\\n        cursor = self.connection.cursor()\\n        cursor.execute(stmt, [benchmark.machine_id])\\n        return cursor.fetchone()\\n\\n    def get_benchmark_id(self, benchmark):\\n        row = self.get_benchmark(benchmark)\\n        if row is None:\\n            return row\\n        return row[0]\\n\\n    def get_result(self, benchmark, result):\\n        benchmark_id = self.get_benchmark_id(benchmark)\\n        if benchmark_id is None:\\n            self.add_benchmark(benchmark)\\n        benchmark_id = self.get_benchmark_id(benchmark)\\n        assert benchmark_id is not None\\n        stmt = \\\"\\\"\\\"\\n            select *\\n              from result\\n             where benchmark_id=?\\n               and server=?\\n               and client=?\\n               and file_size=?\\n               and complete_size=?\\n        \\\"\\\"\\\"\\n        cursor = self.connection.cursor()\\n        cursor.execute(\\n            stmt,\\n            [\\n                benchmark_id,\\n                result.server,\\n                result.client,\\n                result.file_size,\\n                result.complete_size,\\n            ],\\n        )\\n        row = cursor.fetchone()\\n        if row is None:\\n            return result\\n        result.elapsed = row[7]\\n        return result\\n\\n    def add_result(self, benchmark, result):\\n        benchmark_id = self.get_benchmark_id(benchmark)\\n        columns = [\\n            \\\"benchmark_id\\\",\\n            \\\"server\\\",\\n            \\\"client\\\",\\n            \\\"file_size\\\",\\n            \\\"complete_size\\\",\\n            \\\"elapsed\\\",\\n        ]\\n        columns_str = \\\",\\\".join(columns)\\n        values_str = \\\",\\\".join([\\\"?\\\" for c in columns])\\n        stmt = f\\\"\\\"\\\"\\n            insert into result ({columns_str})\\n            values ({values_str})\\n        \\\"\\\"\\\"\\n        cursor = self.connection.cursor()\\n        result_dict = result.dict()\\n        result_dict[\\\"benchmark_id\\\"] = benchmark_id\\n        values = [result_dict[c] for c in columns]\\n        try:\\n            cursor = cursor.execute(stmt, values)\\n        except sqlite3.IntegrityError as e:\\n            pass\\n        self.connection.commit()\\n\\n    @classmethod\\n    def build_repository(cls, database_name):\\n        conn = sqlite3.connect(database_name)\\n        repo = cls(connection=conn)\\n        repo.create_tables()\\n        return repo\";\n",
       "                var nbb_cells = Jupyter.notebook.get_cells();\n",
       "                for (var i = 0; i < nbb_cells.length; ++i) {\n",
       "                    if (nbb_cells[i].input_prompt_number == nbb_cell_id) {\n",
       "                        if (nbb_cells[i].get_text() == nbb_unformatted_code) {\n",
       "                             nbb_cells[i].set_text(nbb_formatted_code);\n",
       "                        }\n",
       "                        break;\n",
       "                    }\n",
       "                }\n",
       "            }, 500);\n",
       "            "
      ],
      "text/plain": [
       "<IPython.core.display.Javascript object>"
      ]
     },
     "metadata": {},
     "output_type": "display_data"
    }
   ],
   "source": [
    "# export\n",
    "\n",
    "import json\n",
    "import sqlite3\n",
    "\n",
    "from will_it_saturate.core import BaseRepository\n",
    "\n",
    "\n",
    "class SqliteRepository(BaseRepository):\n",
    "    connection: sqlite3.Connection\n",
    "\n",
    "    class Config:\n",
    "        arbitrary_types_allowed = True\n",
    "\n",
    "    def execute_stmt(self, stmt, ignore_error=False):\n",
    "        cursor = self.connection.cursor()\n",
    "        try:\n",
    "            cursor.execute(stmt)\n",
    "        except sqlite3.OperationalError as exc:\n",
    "            if not ignore_error:\n",
    "                raise (exc)\n",
    "\n",
    "    def create_benchmark_table(self):\n",
    "        stmt = \"\"\"\n",
    "            create table benchmark (\n",
    "                benchmark_id INTEGER PRIMARY KEY,\n",
    "                created DATE DEFAULT (datetime('now','localtime')),\n",
    "                machine_id TEXT NOT NULL UNIQUE,\n",
    "                uname TEXT NOT NULL,\n",
    "                data TEXT NOT NULL\n",
    "            )\n",
    "        \"\"\"\n",
    "        self.execute_stmt(stmt, ignore_error=True)\n",
    "\n",
    "    def create_result_table(self):\n",
    "        stmt = \"\"\"\n",
    "            create table result (\n",
    "                result_id INTEGER PRIMARY KEY,\n",
    "                benchmark_id integer not NULL,\n",
    "                created DATE DEFAULT (datetime('now','localtime')),\n",
    "                server text not NULL,\n",
    "                client text not NULL,\n",
    "                file_size integer not NULL,\n",
    "                complete_size integer not NULL,\n",
    "                elapsed real not NULL,\n",
    "                FOREIGN KEY(benchmark_id) REFERENCES benchmark(benchmark_id)\n",
    "            )\n",
    "        \"\"\"\n",
    "        self.execute_stmt(stmt, ignore_error=True)\n",
    "\n",
    "    def create_tables(self):\n",
    "        self.create_benchmark_table()\n",
    "        self.create_result_table()\n",
    "\n",
    "    def add_benchmark(self, benchmark):\n",
    "        stmt = \"\"\"\n",
    "            insert into benchmark (machine_id, uname, data)\n",
    "            values (?, ?, ?)\n",
    "        \"\"\"\n",
    "        cursor = self.connection.cursor()\n",
    "        machine_id = benchmark.machine_id\n",
    "        uname = benchmark.uname_json\n",
    "        data = benchmark.json()\n",
    "        try:\n",
    "            cursor = cursor.execute(stmt, [machine_id, uname, data])\n",
    "        except sqlite3.IntegrityError as e:\n",
    "            pass\n",
    "        self.connection.commit()\n",
    "\n",
    "    def get_benchmark(self, benchmark):\n",
    "        stmt = \"\"\"\n",
    "            select *\n",
    "              from benchmark\n",
    "             where machine_id=?\n",
    "        \"\"\"\n",
    "        cursor = self.connection.cursor()\n",
    "        cursor.execute(stmt, [benchmark.machine_id])\n",
    "        return cursor.fetchone()\n",
    "\n",
    "    def get_benchmark_id(self, benchmark):\n",
    "        row = self.get_benchmark(benchmark)\n",
    "        if row is None:\n",
    "            return row\n",
    "        return row[0]\n",
    "\n",
    "    def get_result(self, benchmark, result):\n",
    "        benchmark_id = self.get_benchmark_id(benchmark)\n",
    "        if benchmark_id is None:\n",
    "            self.add_benchmark(benchmark)\n",
    "        benchmark_id = self.get_benchmark_id(benchmark)\n",
    "        assert benchmark_id is not None\n",
    "        stmt = \"\"\"\n",
    "            select *\n",
    "              from result\n",
    "             where benchmark_id=?\n",
    "               and server=?\n",
    "               and client=?\n",
    "               and file_size=?\n",
    "               and complete_size=?\n",
    "        \"\"\"\n",
    "        cursor = self.connection.cursor()\n",
    "        cursor.execute(\n",
    "            stmt,\n",
    "            [\n",
    "                benchmark_id,\n",
    "                result.server,\n",
    "                result.client,\n",
    "                result.file_size,\n",
    "                result.complete_size,\n",
    "            ],\n",
    "        )\n",
    "        row = cursor.fetchone()\n",
    "        if row is None:\n",
    "            return result\n",
    "        result.elapsed = row[7]\n",
    "        return result\n",
    "\n",
    "    def add_result(self, benchmark, result):\n",
    "        benchmark_id = self.get_benchmark_id(benchmark)\n",
    "        columns = [\n",
    "            \"benchmark_id\",\n",
    "            \"server\",\n",
    "            \"client\",\n",
    "            \"file_size\",\n",
    "            \"complete_size\",\n",
    "            \"elapsed\",\n",
    "        ]\n",
    "        columns_str = \",\".join(columns)\n",
    "        values_str = \",\".join([\"?\" for c in columns])\n",
    "        stmt = f\"\"\"\n",
    "            insert into result ({columns_str})\n",
    "            values ({values_str})\n",
    "        \"\"\"\n",
    "        cursor = self.connection.cursor()\n",
    "        result_dict = result.dict()\n",
    "        result_dict[\"benchmark_id\"] = benchmark_id\n",
    "        values = [result_dict[c] for c in columns]\n",
    "        try:\n",
    "            cursor = cursor.execute(stmt, values)\n",
    "        except sqlite3.IntegrityError as e:\n",
    "            pass\n",
    "        self.connection.commit()\n",
    "\n",
    "    @classmethod\n",
    "    def build_repository(cls, database_name):\n",
    "        conn = sqlite3.connect(database_name)\n",
    "        repo = cls(connection=conn)\n",
    "        repo.create_tables()\n",
    "        return repo"
   ]
  },
  {
   "cell_type": "markdown",
   "id": "coated-consortium",
   "metadata": {},
   "source": [
    "# Usage"
   ]
  },
  {
   "cell_type": "code",
   "execution_count": null,
   "id": "constant-promise",
   "metadata": {},
   "outputs": [
    {
     "data": {
      "application/javascript": [
       "\n",
       "            setTimeout(function() {\n",
       "                var nbb_cell_id = 58;\n",
       "                var nbb_unformatted_code = \"conn = sqlite3.connect(\\\"example.db\\\")\\nrepo = SqliteRepository(connection=conn)\\nrepo.create_tables()\";\n",
       "                var nbb_formatted_code = \"conn = sqlite3.connect(\\\"example.db\\\")\\nrepo = SqliteRepository(connection=conn)\\nrepo.create_tables()\";\n",
       "                var nbb_cells = Jupyter.notebook.get_cells();\n",
       "                for (var i = 0; i < nbb_cells.length; ++i) {\n",
       "                    if (nbb_cells[i].input_prompt_number == nbb_cell_id) {\n",
       "                        if (nbb_cells[i].get_text() == nbb_unformatted_code) {\n",
       "                             nbb_cells[i].set_text(nbb_formatted_code);\n",
       "                        }\n",
       "                        break;\n",
       "                    }\n",
       "                }\n",
       "            }, 500);\n",
       "            "
      ],
      "text/plain": [
       "<IPython.core.display.Javascript object>"
      ]
     },
     "metadata": {},
     "output_type": "display_data"
    }
   ],
   "source": [
    "conn = sqlite3.connect(\"example.db\")\n",
    "repo = SqliteRepository(connection=conn)\n",
    "repo.create_tables()"
   ]
  },
  {
   "cell_type": "code",
   "execution_count": null,
   "id": "original-juice",
   "metadata": {},
   "outputs": [
    {
     "data": {
      "application/javascript": [
       "\n",
       "            setTimeout(function() {\n",
       "                var nbb_cell_id = 59;\n",
       "                var nbb_unformatted_code = \"from will_it_saturate.core import Benchmark\\nfrom will_it_saturate.core import BenchmarkResult\\n\\nbenchmark = Benchmark()\\nbenchmark = Benchmark()\\nrepo.add_benchmark(benchmark)\\nrepo.add_benchmark(benchmark)  # should not raise integrity exception\";\n",
       "                var nbb_formatted_code = \"from will_it_saturate.core import Benchmark\\nfrom will_it_saturate.core import BenchmarkResult\\n\\nbenchmark = Benchmark()\\nbenchmark = Benchmark()\\nrepo.add_benchmark(benchmark)\\nrepo.add_benchmark(benchmark)  # should not raise integrity exception\";\n",
       "                var nbb_cells = Jupyter.notebook.get_cells();\n",
       "                for (var i = 0; i < nbb_cells.length; ++i) {\n",
       "                    if (nbb_cells[i].input_prompt_number == nbb_cell_id) {\n",
       "                        if (nbb_cells[i].get_text() == nbb_unformatted_code) {\n",
       "                             nbb_cells[i].set_text(nbb_formatted_code);\n",
       "                        }\n",
       "                        break;\n",
       "                    }\n",
       "                }\n",
       "            }, 500);\n",
       "            "
      ],
      "text/plain": [
       "<IPython.core.display.Javascript object>"
      ]
     },
     "metadata": {},
     "output_type": "display_data"
    }
   ],
   "source": [
    "from will_it_saturate.core import Benchmark\n",
    "from will_it_saturate.core import BenchmarkResult\n",
    "\n",
    "benchmark = Benchmark()\n",
    "benchmark = Benchmark()\n",
    "repo.add_benchmark(benchmark)\n",
    "repo.add_benchmark(benchmark)  # should not raise integrity exception"
   ]
  },
  {
   "cell_type": "code",
   "execution_count": null,
   "id": "proprietary-purchase",
   "metadata": {},
   "outputs": [
    {
     "data": {
      "text/plain": [
       "(1,\n",
       " '2021-02-28 16:27:43',\n",
       " 'C02ZPB8KMD6T',\n",
       " '[\"Darwin\", \"ephesmpb.fritz.box\", \"20.3.0\", \"Darwin Kernel Version 20.3.0: Thu Jan 21 00:07:06 PST 2021; root:xnu-7195.81.3~1/RELEASE_X86_64\", \"x86_64\", \"i386\"]',\n",
       " '{\"duration\": 30, \"bandwidth\": 125000000, \"cpuinfo\": {\"python_version\": \"3.9.2.final.0 (64 bit)\", \"cpuinfo_version\": [7, 0, 0], \"cpuinfo_version_string\": \"7.0.0\", \"arch\": \"X86_64\", \"bits\": 64, \"count\": 16, \"arch_string_raw\": \"x86_64\", \"vendor_id_raw\": \"GenuineIntel\", \"brand_raw\": \"Intel(R) Core(TM) i9-9880H CPU @ 2.30GHz\", \"hz_advertised_friendly\": \"2.3000 GHz\", \"hz_actual_friendly\": \"2.3000 GHz\", \"hz_advertised\": [2300000000, 0], \"hz_actual\": [2300000000, 0], \"l2_cache_size\": 262144, \"stepping\": 13, \"model\": 158, \"family\": 6, \"flags\": [\"1gbpage\", \"3dnowprefetch\", \"abm\", \"acapmsr\", \"acpi\", \"adx\", \"aes\", \"apic\", \"avx\", \"avx1.0\", \"avx2\", \"bmi1\", \"bmi2\", \"clflush\", \"clflushopt\", \"clfsh\", \"clfsopt\", \"cmov\", \"cx16\", \"cx8\", \"de\", \"ds\", \"ds_cpl\", \"dscpl\", \"dtes64\", \"dts\", \"em64t\", \"erms\", \"est\", \"f16c\", \"fma\", \"fpu\", \"fpu_csds\", \"fxsr\", \"ht\", \"htt\", \"ibrs\", \"intel_pt\", \"invpcid\", \"ipt\", \"l1df\", \"lahf\", \"lahf_lm\", \"lzcnt\", \"mca\", \"mce\", \"mdclear\", \"mmx\", \"mon\", \"monitor\", \"movbe\", \"mpx\", \"msr\", \"mtrr\", \"osxsave\", \"pae\", \"pat\", \"pbe\", \"pcid\", \"pclmulqdq\", \"pdcm\", \"pge\", \"pni\", \"popcnt\", \"prefetchw\", \"pse\", \"pse36\", \"rdrand\", \"rdrnd\", \"rdseed\", \"rdtscp\", \"rdwrfsgs\", \"seglim64\", \"sep\", \"sgx\", \"sgx_lc\", \"sgxlc\", \"smap\", \"smep\", \"smx\", \"ss\", \"ssbd\", \"sse\", \"sse2\", \"sse3\", \"sse4.1\", \"sse4.2\", \"sse4_1\", \"sse4_2\", \"ssse3\", \"stibp\", \"syscall\", \"tm\", \"tm2\", \"tpr\", \"tsc\", \"tsc_thread_offset\", \"tscdeadline\", \"tsci\", \"tsctmr\", \"vme\", \"vmx\", \"x2apic\", \"xd\", \"xsave\", \"xtpr\"], \"l2_cache_line_size\": 256, \"l2_cache_associativity\": 6}}')"
      ]
     },
     "execution_count": null,
     "metadata": {},
     "output_type": "execute_result"
    },
    {
     "data": {
      "application/javascript": [
       "\n",
       "            setTimeout(function() {\n",
       "                var nbb_cell_id = 60;\n",
       "                var nbb_unformatted_code = \"repo.get_benchmark(benchmark)\";\n",
       "                var nbb_formatted_code = \"repo.get_benchmark(benchmark)\";\n",
       "                var nbb_cells = Jupyter.notebook.get_cells();\n",
       "                for (var i = 0; i < nbb_cells.length; ++i) {\n",
       "                    if (nbb_cells[i].input_prompt_number == nbb_cell_id) {\n",
       "                        if (nbb_cells[i].get_text() == nbb_unformatted_code) {\n",
       "                             nbb_cells[i].set_text(nbb_formatted_code);\n",
       "                        }\n",
       "                        break;\n",
       "                    }\n",
       "                }\n",
       "            }, 500);\n",
       "            "
      ],
      "text/plain": [
       "<IPython.core.display.Javascript object>"
      ]
     },
     "metadata": {},
     "output_type": "display_data"
    }
   ],
   "source": [
    "repo.get_benchmark(benchmark)"
   ]
  },
  {
   "cell_type": "code",
   "execution_count": null,
   "id": "static-audio",
   "metadata": {},
   "outputs": [
    {
     "data": {
      "text/plain": [
       "'{\"duration\": 30, \"bandwidth\": 125000000, \"cpuinfo\": {\"python_version\": \"3.9.2.final.0 (64 bit)\", \"cpuinfo_version\": [7, 0, 0], \"cpuinfo_version_string\": \"7.0.0\", \"arch\": \"X86_64\", \"bits\": 64, \"count\": 16, \"arch_string_raw\": \"x86_64\", \"vendor_id_raw\": \"GenuineIntel\", \"brand_raw\": \"Intel(R) Core(TM) i9-9880H CPU @ 2.30GHz\", \"hz_advertised_friendly\": \"2.3000 GHz\", \"hz_actual_friendly\": \"2.3000 GHz\", \"hz_advertised\": [2300000000, 0], \"hz_actual\": [2300000000, 0], \"l2_cache_size\": 262144, \"stepping\": 13, \"model\": 158, \"family\": 6, \"flags\": [\"1gbpage\", \"3dnowprefetch\", \"abm\", \"acapmsr\", \"acpi\", \"adx\", \"aes\", \"apic\", \"avx\", \"avx1.0\", \"avx2\", \"bmi1\", \"bmi2\", \"clflush\", \"clflushopt\", \"clfsh\", \"clfsopt\", \"cmov\", \"cx16\", \"cx8\", \"de\", \"ds\", \"ds_cpl\", \"dscpl\", \"dtes64\", \"dts\", \"em64t\", \"erms\", \"est\", \"f16c\", \"fma\", \"fpu\", \"fpu_csds\", \"fxsr\", \"ht\", \"htt\", \"ibrs\", \"intel_pt\", \"invpcid\", \"ipt\", \"l1df\", \"lahf\", \"lahf_lm\", \"lzcnt\", \"mca\", \"mce\", \"mdclear\", \"mmx\", \"mon\", \"monitor\", \"movbe\", \"mpx\", \"msr\", \"mtrr\", \"osxsave\", \"pae\", \"pat\", \"pbe\", \"pcid\", \"pclmulqdq\", \"pdcm\", \"pge\", \"pni\", \"popcnt\", \"prefetchw\", \"pse\", \"pse36\", \"rdrand\", \"rdrnd\", \"rdseed\", \"rdtscp\", \"rdwrfsgs\", \"seglim64\", \"sep\", \"sgx\", \"sgx_lc\", \"sgxlc\", \"smap\", \"smep\", \"smx\", \"ss\", \"ssbd\", \"sse\", \"sse2\", \"sse3\", \"sse4.1\", \"sse4.2\", \"sse4_1\", \"sse4_2\", \"ssse3\", \"stibp\", \"syscall\", \"tm\", \"tm2\", \"tpr\", \"tsc\", \"tsc_thread_offset\", \"tscdeadline\", \"tsci\", \"tsctmr\", \"vme\", \"vmx\", \"x2apic\", \"xd\", \"xsave\", \"xtpr\"], \"l2_cache_line_size\": 256, \"l2_cache_associativity\": 6}}'"
      ]
     },
     "execution_count": null,
     "metadata": {},
     "output_type": "execute_result"
    },
    {
     "data": {
      "application/javascript": [
       "\n",
       "            setTimeout(function() {\n",
       "                var nbb_cell_id = 61;\n",
       "                var nbb_unformatted_code = \"benchmark.json()\";\n",
       "                var nbb_formatted_code = \"benchmark.json()\";\n",
       "                var nbb_cells = Jupyter.notebook.get_cells();\n",
       "                for (var i = 0; i < nbb_cells.length; ++i) {\n",
       "                    if (nbb_cells[i].input_prompt_number == nbb_cell_id) {\n",
       "                        if (nbb_cells[i].get_text() == nbb_unformatted_code) {\n",
       "                             nbb_cells[i].set_text(nbb_formatted_code);\n",
       "                        }\n",
       "                        break;\n",
       "                    }\n",
       "                }\n",
       "            }, 500);\n",
       "            "
      ],
      "text/plain": [
       "<IPython.core.display.Javascript object>"
      ]
     },
     "metadata": {},
     "output_type": "display_data"
    }
   ],
   "source": [
    "benchmark.json()"
   ]
  },
  {
   "cell_type": "code",
   "execution_count": null,
   "id": "tested-found",
   "metadata": {},
   "outputs": [
    {
     "data": {
      "application/javascript": [
       "\n",
       "            setTimeout(function() {\n",
       "                var nbb_cell_id = 62;\n",
       "                var nbb_unformatted_code = \"# repo.get_benchmark(benchmark)\";\n",
       "                var nbb_formatted_code = \"# repo.get_benchmark(benchmark)\";\n",
       "                var nbb_cells = Jupyter.notebook.get_cells();\n",
       "                for (var i = 0; i < nbb_cells.length; ++i) {\n",
       "                    if (nbb_cells[i].input_prompt_number == nbb_cell_id) {\n",
       "                        if (nbb_cells[i].get_text() == nbb_unformatted_code) {\n",
       "                             nbb_cells[i].set_text(nbb_formatted_code);\n",
       "                        }\n",
       "                        break;\n",
       "                    }\n",
       "                }\n",
       "            }, 500);\n",
       "            "
      ],
      "text/plain": [
       "<IPython.core.display.Javascript object>"
      ]
     },
     "metadata": {},
     "output_type": "display_data"
    }
   ],
   "source": [
    "# repo.get_benchmark(benchmark)"
   ]
  },
  {
   "cell_type": "code",
   "execution_count": null,
   "id": "selective-liberty",
   "metadata": {},
   "outputs": [
    {
     "data": {
      "application/javascript": [
       "\n",
       "            setTimeout(function() {\n",
       "                var nbb_cell_id = 63;\n",
       "                var nbb_unformatted_code = \"benchmark.machine_id = \\\"foobar\\\"\";\n",
       "                var nbb_formatted_code = \"benchmark.machine_id = \\\"foobar\\\"\";\n",
       "                var nbb_cells = Jupyter.notebook.get_cells();\n",
       "                for (var i = 0; i < nbb_cells.length; ++i) {\n",
       "                    if (nbb_cells[i].input_prompt_number == nbb_cell_id) {\n",
       "                        if (nbb_cells[i].get_text() == nbb_unformatted_code) {\n",
       "                             nbb_cells[i].set_text(nbb_formatted_code);\n",
       "                        }\n",
       "                        break;\n",
       "                    }\n",
       "                }\n",
       "            }, 500);\n",
       "            "
      ],
      "text/plain": [
       "<IPython.core.display.Javascript object>"
      ]
     },
     "metadata": {},
     "output_type": "display_data"
    }
   ],
   "source": [
    "benchmark.machine_id = \"foobar\""
   ]
  },
  {
   "cell_type": "code",
   "execution_count": null,
   "id": "fitting-marketing",
   "metadata": {},
   "outputs": [
    {
     "name": "stdout",
     "output_type": "stream",
     "text": [
      "3.0\n"
     ]
    },
    {
     "data": {
      "application/javascript": [
       "\n",
       "            setTimeout(function() {\n",
       "                var nbb_cell_id = 67;\n",
       "                var nbb_unformatted_code = \"file_size = 10 ** 6\\ncomplete_size = 100 * file_size\\nresult = BenchmarkResult(\\n    server=\\\"nginx\\\",\\n    client=\\\"httpx\\\",\\n    file_size=file_size,\\n    complete_size=complete_size,\\n)\\n\\nresult = repo.get_result(benchmark, result)\\nprint(result.elapsed)\";\n",
       "                var nbb_formatted_code = \"file_size = 10 ** 6\\ncomplete_size = 100 * file_size\\nresult = BenchmarkResult(\\n    server=\\\"nginx\\\",\\n    client=\\\"httpx\\\",\\n    file_size=file_size,\\n    complete_size=complete_size,\\n)\\n\\nresult = repo.get_result(benchmark, result)\\nprint(result.elapsed)\";\n",
       "                var nbb_cells = Jupyter.notebook.get_cells();\n",
       "                for (var i = 0; i < nbb_cells.length; ++i) {\n",
       "                    if (nbb_cells[i].input_prompt_number == nbb_cell_id) {\n",
       "                        if (nbb_cells[i].get_text() == nbb_unformatted_code) {\n",
       "                             nbb_cells[i].set_text(nbb_formatted_code);\n",
       "                        }\n",
       "                        break;\n",
       "                    }\n",
       "                }\n",
       "            }, 500);\n",
       "            "
      ],
      "text/plain": [
       "<IPython.core.display.Javascript object>"
      ]
     },
     "metadata": {},
     "output_type": "display_data"
    }
   ],
   "source": [
    "file_size = 10 ** 6\n",
    "complete_size = 100 * file_size\n",
    "result = BenchmarkResult(\n",
    "    server=\"nginx\",\n",
    "    client=\"httpx\",\n",
    "    file_size=file_size,\n",
    "    complete_size=complete_size,\n",
    ")\n",
    "\n",
    "result = repo.get_result(benchmark, result)\n",
    "print(result.elapsed)"
   ]
  },
  {
   "cell_type": "code",
   "execution_count": null,
   "id": "furnished-tanzania",
   "metadata": {},
   "outputs": [
    {
     "name": "stdout",
     "output_type": "stream",
     "text": [
      "{'server': 'nginx', 'client': 'httpx', 'file_size': 1000000, 'elapsed': 3.0, 'complete_size': 100000000}\n"
     ]
    },
    {
     "data": {
      "application/javascript": [
       "\n",
       "            setTimeout(function() {\n",
       "                var nbb_cell_id = 65;\n",
       "                var nbb_unformatted_code = \"from will_it_saturate.core import BenchmarkResult\\n\\nfile_size = 10 ** 6\\ncomplete_size = 100 * file_size\\nresult = BenchmarkResult(\\n    server=\\\"nginx\\\",\\n    client=\\\"httpx\\\",\\n    file_size=file_size,\\n    elapsed=3.0,\\n    complete_size=complete_size,\\n)\\nprint(result.dict())\";\n",
       "                var nbb_formatted_code = \"from will_it_saturate.core import BenchmarkResult\\n\\nfile_size = 10 ** 6\\ncomplete_size = 100 * file_size\\nresult = BenchmarkResult(\\n    server=\\\"nginx\\\",\\n    client=\\\"httpx\\\",\\n    file_size=file_size,\\n    elapsed=3.0,\\n    complete_size=complete_size,\\n)\\nprint(result.dict())\";\n",
       "                var nbb_cells = Jupyter.notebook.get_cells();\n",
       "                for (var i = 0; i < nbb_cells.length; ++i) {\n",
       "                    if (nbb_cells[i].input_prompt_number == nbb_cell_id) {\n",
       "                        if (nbb_cells[i].get_text() == nbb_unformatted_code) {\n",
       "                             nbb_cells[i].set_text(nbb_formatted_code);\n",
       "                        }\n",
       "                        break;\n",
       "                    }\n",
       "                }\n",
       "            }, 500);\n",
       "            "
      ],
      "text/plain": [
       "<IPython.core.display.Javascript object>"
      ]
     },
     "metadata": {},
     "output_type": "display_data"
    }
   ],
   "source": [
    "from will_it_saturate.core import BenchmarkResult\n",
    "\n",
    "file_size = 10 ** 6\n",
    "complete_size = 100 * file_size\n",
    "result = BenchmarkResult(\n",
    "    server=\"nginx\",\n",
    "    client=\"httpx\",\n",
    "    file_size=file_size,\n",
    "    elapsed=3.0,\n",
    "    complete_size=complete_size,\n",
    ")\n",
    "print(result.dict())"
   ]
  },
  {
   "cell_type": "code",
   "execution_count": null,
   "id": "sublime-brown",
   "metadata": {},
   "outputs": [
    {
     "name": "stdout",
     "output_type": "stream",
     "text": [
      "\n",
      "            insert into result (benchmark_id,server,client,file_size,complete_size,elapsed)\n",
      "            values (?,?,?,?,?,?)\n",
      "        \n"
     ]
    },
    {
     "data": {
      "application/javascript": [
       "\n",
       "            setTimeout(function() {\n",
       "                var nbb_cell_id = 55;\n",
       "                var nbb_unformatted_code = \"repo.add_result(benchmark, result)\";\n",
       "                var nbb_formatted_code = \"repo.add_result(benchmark, result)\";\n",
       "                var nbb_cells = Jupyter.notebook.get_cells();\n",
       "                for (var i = 0; i < nbb_cells.length; ++i) {\n",
       "                    if (nbb_cells[i].input_prompt_number == nbb_cell_id) {\n",
       "                        if (nbb_cells[i].get_text() == nbb_unformatted_code) {\n",
       "                             nbb_cells[i].set_text(nbb_formatted_code);\n",
       "                        }\n",
       "                        break;\n",
       "                    }\n",
       "                }\n",
       "            }, 500);\n",
       "            "
      ],
      "text/plain": [
       "<IPython.core.display.Javascript object>"
      ]
     },
     "metadata": {},
     "output_type": "display_data"
    }
   ],
   "source": [
    "repo.add_result(benchmark, result)"
   ]
  },
  {
   "cell_type": "markdown",
   "id": "personal-missouri",
   "metadata": {},
   "source": [
    "# Export"
   ]
  },
  {
   "cell_type": "code",
   "execution_count": null,
   "id": "appointed-enforcement",
   "metadata": {},
   "outputs": [
    {
     "name": "stdout",
     "output_type": "stream",
     "text": [
      "Converted 00_core.ipynb.\n",
      "Converted 01_serve_files_uvicorn.ipynb.\n",
      "Converted 02_fastapi_uvicorn_server.ipynb.\n",
      "Converted 03_nginx_docker_server.ipynb.\n",
      "Converted 04_benchmark_clients.ipynb.\n",
      "Converted 05_persistence.ipynb.\n",
      "Converted 06_run_benchmark.ipynb.\n",
      "Converted index.ipynb.\n",
      "Converted run_wrk_benchmark_test.ipynb.\n",
      "Converted use_nginx_to_serve_files_test.ipynb.\n"
     ]
    },
    {
     "data": {
      "application/javascript": [
       "\n",
       "            setTimeout(function() {\n",
       "                var nbb_cell_id = 72;\n",
       "                var nbb_unformatted_code = \"# dont_test\\n\\nfrom nbdev.export import notebook2script\\n\\nnotebook2script()\";\n",
       "                var nbb_formatted_code = \"# dont_test\\n\\nfrom nbdev.export import notebook2script\\n\\nnotebook2script()\";\n",
       "                var nbb_cells = Jupyter.notebook.get_cells();\n",
       "                for (var i = 0; i < nbb_cells.length; ++i) {\n",
       "                    if (nbb_cells[i].input_prompt_number == nbb_cell_id) {\n",
       "                        if (nbb_cells[i].get_text() == nbb_unformatted_code) {\n",
       "                             nbb_cells[i].set_text(nbb_formatted_code);\n",
       "                        }\n",
       "                        break;\n",
       "                    }\n",
       "                }\n",
       "            }, 500);\n",
       "            "
      ],
      "text/plain": [
       "<IPython.core.display.Javascript object>"
      ]
     },
     "metadata": {},
     "output_type": "display_data"
    }
   ],
   "source": [
    "# dont_test\n",
    "\n",
    "from nbdev.export import notebook2script\n",
    "\n",
    "notebook2script()"
   ]
  }
 ],
 "metadata": {
  "kernelspec": {
   "display_name": "Python 3",
   "language": "python",
   "name": "python3"
  }
 },
 "nbformat": 4,
 "nbformat_minor": 5
}
