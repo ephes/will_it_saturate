{
 "cells": [
  {
   "cell_type": "code",
   "execution_count": null,
   "id": "automotive-brooks",
   "metadata": {},
   "outputs": [
    {
     "data": {
      "application/javascript": [
       "\n",
       "            setTimeout(function() {\n",
       "                var nbb_cell_id = 1;\n",
       "                var nbb_unformatted_code = \"%load_ext nb_black\";\n",
       "                var nbb_formatted_code = \"%load_ext nb_black\";\n",
       "                var nbb_cells = Jupyter.notebook.get_cells();\n",
       "                for (var i = 0; i < nbb_cells.length; ++i) {\n",
       "                    if (nbb_cells[i].input_prompt_number == nbb_cell_id) {\n",
       "                        if (nbb_cells[i].get_text() == nbb_unformatted_code) {\n",
       "                             nbb_cells[i].set_text(nbb_formatted_code);\n",
       "                        }\n",
       "                        break;\n",
       "                    }\n",
       "                }\n",
       "            }, 500);\n",
       "            "
      ],
      "text/plain": [
       "<IPython.core.display.Javascript object>"
      ]
     },
     "metadata": {},
     "output_type": "display_data"
    }
   ],
   "source": [
    "%load_ext nb_black"
   ]
  },
  {
   "cell_type": "code",
   "execution_count": null,
   "id": "incorporated-ebony",
   "metadata": {},
   "outputs": [
    {
     "data": {
      "application/javascript": [
       "\n",
       "            setTimeout(function() {\n",
       "                var nbb_cell_id = 2;\n",
       "                var nbb_unformatted_code = \"# default_exp repositories\";\n",
       "                var nbb_formatted_code = \"# default_exp repositories\";\n",
       "                var nbb_cells = Jupyter.notebook.get_cells();\n",
       "                for (var i = 0; i < nbb_cells.length; ++i) {\n",
       "                    if (nbb_cells[i].input_prompt_number == nbb_cell_id) {\n",
       "                        if (nbb_cells[i].get_text() == nbb_unformatted_code) {\n",
       "                             nbb_cells[i].set_text(nbb_formatted_code);\n",
       "                        }\n",
       "                        break;\n",
       "                    }\n",
       "                }\n",
       "            }, 500);\n",
       "            "
      ],
      "text/plain": [
       "<IPython.core.display.Javascript object>"
      ]
     },
     "metadata": {},
     "output_type": "display_data"
    }
   ],
   "source": [
    "# default_exp repositories"
   ]
  },
  {
   "cell_type": "markdown",
   "id": "macro-thermal",
   "metadata": {},
   "source": [
    "# module Repositories\n",
    "\n",
    "> How to persist results"
   ]
  },
  {
   "cell_type": "markdown",
   "id": "olympic-universal",
   "metadata": {},
   "source": [
    "# Repositories"
   ]
  },
  {
   "cell_type": "code",
   "execution_count": null,
   "id": "normal-lighting",
   "metadata": {},
   "outputs": [
    {
     "data": {
      "application/javascript": [
       "\n",
       "            setTimeout(function() {\n",
       "                var nbb_cell_id = 3;\n",
       "                var nbb_unformatted_code = \"# export\\n\\nfrom typing import Any\\nfrom pydantic import BaseModel\\nfrom collections import defaultdict\\n\\n\\nclass BaseRepository(BaseModel):\\n    session: Any = None\\n\\n    def get_results(self):\\n        pass\\n\\n    def add_result(self, result):\\n        pass\\n\\n\\nclass InMemoryRepository(BaseRepository):\\n    results: dict = defaultdict(dict)\\n\\n    def get_results(self):\\n        return self.results.get(benchmark, {}).get(result, result)\\n\\n    def add_result(self, benchmark, result):\\n        self.results[benchmark][result] = result\";\n",
       "                var nbb_formatted_code = \"# export\\n\\nfrom typing import Any\\nfrom pydantic import BaseModel\\nfrom collections import defaultdict\\n\\n\\nclass BaseRepository(BaseModel):\\n    session: Any = None\\n\\n    def get_results(self):\\n        pass\\n\\n    def add_result(self, result):\\n        pass\\n\\n\\nclass InMemoryRepository(BaseRepository):\\n    results: dict = defaultdict(dict)\\n\\n    def get_results(self):\\n        return self.results.get(benchmark, {}).get(result, result)\\n\\n    def add_result(self, benchmark, result):\\n        self.results[benchmark][result] = result\";\n",
       "                var nbb_cells = Jupyter.notebook.get_cells();\n",
       "                for (var i = 0; i < nbb_cells.length; ++i) {\n",
       "                    if (nbb_cells[i].input_prompt_number == nbb_cell_id) {\n",
       "                        if (nbb_cells[i].get_text() == nbb_unformatted_code) {\n",
       "                             nbb_cells[i].set_text(nbb_formatted_code);\n",
       "                        }\n",
       "                        break;\n",
       "                    }\n",
       "                }\n",
       "            }, 500);\n",
       "            "
      ],
      "text/plain": [
       "<IPython.core.display.Javascript object>"
      ]
     },
     "metadata": {},
     "output_type": "display_data"
    }
   ],
   "source": [
    "# export\n",
    "\n",
    "from typing import Any\n",
    "from pydantic import BaseModel\n",
    "from collections import defaultdict\n",
    "\n",
    "\n",
    "class BaseRepository(BaseModel):\n",
    "    session: Any = None\n",
    "\n",
    "    def get_results(self):\n",
    "        pass\n",
    "\n",
    "    def add_result(self, result):\n",
    "        pass\n",
    "\n",
    "\n",
    "class InMemoryRepository(BaseRepository):\n",
    "    results: dict = defaultdict(dict)\n",
    "\n",
    "    def get_results(self):\n",
    "        return self.results.get(benchmark, {}).get(result, result)\n",
    "\n",
    "    def add_result(self, benchmark, result):\n",
    "        self.results[benchmark][result] = result"
   ]
  },
  {
   "cell_type": "markdown",
   "id": "veterinary-capability",
   "metadata": {},
   "source": [
    "## Usage"
   ]
  },
  {
   "cell_type": "code",
   "execution_count": null,
   "id": "common-combine",
   "metadata": {},
   "outputs": [
    {
     "data": {
      "application/javascript": [
       "\n",
       "            setTimeout(function() {\n",
       "                var nbb_cell_id = 4;\n",
       "                var nbb_unformatted_code = \"# dont_test\\n\\nrepository = InMemoryRepository()\";\n",
       "                var nbb_formatted_code = \"# dont_test\\n\\nrepository = InMemoryRepository()\";\n",
       "                var nbb_cells = Jupyter.notebook.get_cells();\n",
       "                for (var i = 0; i < nbb_cells.length; ++i) {\n",
       "                    if (nbb_cells[i].input_prompt_number == nbb_cell_id) {\n",
       "                        if (nbb_cells[i].get_text() == nbb_unformatted_code) {\n",
       "                             nbb_cells[i].set_text(nbb_formatted_code);\n",
       "                        }\n",
       "                        break;\n",
       "                    }\n",
       "                }\n",
       "            }, 500);\n",
       "            "
      ],
      "text/plain": [
       "<IPython.core.display.Javascript object>"
      ]
     },
     "metadata": {},
     "output_type": "display_data"
    }
   ],
   "source": [
    "# dont_test\n",
    "\n",
    "repository = InMemoryRepository()"
   ]
  },
  {
   "cell_type": "markdown",
   "id": "unusual-youth",
   "metadata": {},
   "source": [
    "## Tests"
   ]
  },
  {
   "cell_type": "code",
   "execution_count": null,
   "id": "cooked-image",
   "metadata": {},
   "outputs": [
    {
     "name": "stdout",
     "output_type": "stream",
     "text": [
      "Converted 00_host.ipynb.\n",
      "Converted 01_django_views.ipynb.\n",
      "Converted 01_fastapi_views.ipynb.\n",
      "Converted 01_file.ipynb.\n",
      "Converted 05_epochs.ipynb.\n",
      "Converted 06_results.ipynb.\n",
      "Converted 100_benchmark_remote_control_server.ipynb.\n",
      "Converted 10_registry.ipynb.\n",
      "Converted 25_core.ipynb.\n",
      "Converted 27_control_server.ipynb.\n",
      "Converted 28_control_client.ipynb.\n",
      "Converted 29_control_cli.ipynb.\n",
      "Converted 30_servers.ipynb.\n",
      "Converted 31_local_servers.ipynb.\n",
      "Converted 32_docker_servers.ipynb.\n",
      "Converted 40_clients.ipynb.\n",
      "Converted 41_benchmark_clients.ipynb.\n",
      "Converted 70_repositories.ipynb.\n",
      "Converted 71_sqlite_repository.ipynb.\n",
      "Converted 90_benchmark_without_benchmark.ipynb.\n",
      "Converted 98_run_benchmark.ipynb.\n",
      "Converted index.ipynb.\n"
     ]
    },
    {
     "data": {
      "application/javascript": [
       "\n",
       "            setTimeout(function() {\n",
       "                var nbb_cell_id = 5;\n",
       "                var nbb_unformatted_code = \"# dont_test\\n\\nfrom nbdev.export import notebook2script\\n\\nnotebook2script()\";\n",
       "                var nbb_formatted_code = \"# dont_test\\n\\nfrom nbdev.export import notebook2script\\n\\nnotebook2script()\";\n",
       "                var nbb_cells = Jupyter.notebook.get_cells();\n",
       "                for (var i = 0; i < nbb_cells.length; ++i) {\n",
       "                    if (nbb_cells[i].input_prompt_number == nbb_cell_id) {\n",
       "                        if (nbb_cells[i].get_text() == nbb_unformatted_code) {\n",
       "                             nbb_cells[i].set_text(nbb_formatted_code);\n",
       "                        }\n",
       "                        break;\n",
       "                    }\n",
       "                }\n",
       "            }, 500);\n",
       "            "
      ],
      "text/plain": [
       "<IPython.core.display.Javascript object>"
      ]
     },
     "metadata": {},
     "output_type": "display_data"
    }
   ],
   "source": [
    "# hide\n",
    "# dont_test\n",
    "\n",
    "from nbdev.export import notebook2script\n",
    "\n",
    "notebook2script()"
   ]
  }
 ],
 "metadata": {
  "kernelspec": {
   "display_name": "Python 3",
   "language": "python",
   "name": "python3"
  }
 },
 "nbformat": 4,
 "nbformat_minor": 5
}
