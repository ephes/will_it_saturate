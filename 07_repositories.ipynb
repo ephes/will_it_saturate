{
 "cells": [
  {
   "cell_type": "code",
   "execution_count": null,
   "id": "automotive-brooks",
   "metadata": {},
   "outputs": [
    {
     "data": {
      "application/javascript": [
       "\n",
       "            setTimeout(function() {\n",
       "                var nbb_cell_id = 1;\n",
       "                var nbb_unformatted_code = \"%load_ext nb_black\";\n",
       "                var nbb_formatted_code = \"%load_ext nb_black\";\n",
       "                var nbb_cells = Jupyter.notebook.get_cells();\n",
       "                for (var i = 0; i < nbb_cells.length; ++i) {\n",
       "                    if (nbb_cells[i].input_prompt_number == nbb_cell_id) {\n",
       "                        if (nbb_cells[i].get_text() == nbb_unformatted_code) {\n",
       "                             nbb_cells[i].set_text(nbb_formatted_code);\n",
       "                        }\n",
       "                        break;\n",
       "                    }\n",
       "                }\n",
       "            }, 500);\n",
       "            "
      ],
      "text/plain": [
       "<IPython.core.display.Javascript object>"
      ]
     },
     "metadata": {},
     "output_type": "display_data"
    }
   ],
   "source": [
    "%load_ext nb_black"
   ]
  },
  {
   "cell_type": "code",
   "execution_count": null,
   "id": "incorporated-ebony",
   "metadata": {},
   "outputs": [
    {
     "data": {
      "application/javascript": [
       "\n",
       "            setTimeout(function() {\n",
       "                var nbb_cell_id = 2;\n",
       "                var nbb_unformatted_code = \"# default_exp repositories\";\n",
       "                var nbb_formatted_code = \"# default_exp repositories\";\n",
       "                var nbb_cells = Jupyter.notebook.get_cells();\n",
       "                for (var i = 0; i < nbb_cells.length; ++i) {\n",
       "                    if (nbb_cells[i].input_prompt_number == nbb_cell_id) {\n",
       "                        if (nbb_cells[i].get_text() == nbb_unformatted_code) {\n",
       "                             nbb_cells[i].set_text(nbb_formatted_code);\n",
       "                        }\n",
       "                        break;\n",
       "                    }\n",
       "                }\n",
       "            }, 500);\n",
       "            "
      ],
      "text/plain": [
       "<IPython.core.display.Javascript object>"
      ]
     },
     "metadata": {},
     "output_type": "display_data"
    }
   ],
   "source": [
    "# default_exp repositories"
   ]
  },
  {
   "cell_type": "markdown",
   "id": "macro-thermal",
   "metadata": {},
   "source": [
    "# module Repositories\n",
    "\n",
    "> How to persist results"
   ]
  },
  {
   "cell_type": "code",
   "execution_count": null,
   "id": "political-traveler",
   "metadata": {},
   "outputs": [
    {
     "data": {
      "application/javascript": [
       "\n",
       "            setTimeout(function() {\n",
       "                var nbb_cell_id = 3;\n",
       "                var nbb_unformatted_code = \"# export\\n\\nimport os\\nimport math\\nimport json\\nimport hashlib\\n\\nimport pandas as pd\\n\\nfrom pathlib import Path\\nfrom urllib.parse import urljoin\\nfrom typing import Optional, Callable, Any\\n\\nfrom pydantic import BaseModel\\n\\nfrom will_it_saturate.epochs import Epoch\\nfrom will_it_saturate.results import Result\\nfrom will_it_saturate.servers import BaseServer\\nfrom will_it_saturate.clients import BaseClient\\nfrom will_it_saturate.files import BenchmarkFile, FILE_CREATORS\";\n",
       "                var nbb_formatted_code = \"# export\\n\\nimport os\\nimport math\\nimport json\\nimport hashlib\\n\\nimport pandas as pd\\n\\nfrom pathlib import Path\\nfrom urllib.parse import urljoin\\nfrom typing import Optional, Callable, Any\\n\\nfrom pydantic import BaseModel\\n\\nfrom will_it_saturate.epochs import Epoch\\nfrom will_it_saturate.results import Result\\nfrom will_it_saturate.servers import BaseServer\\nfrom will_it_saturate.clients import BaseClient\\nfrom will_it_saturate.files import BenchmarkFile, FILE_CREATORS\";\n",
       "                var nbb_cells = Jupyter.notebook.get_cells();\n",
       "                for (var i = 0; i < nbb_cells.length; ++i) {\n",
       "                    if (nbb_cells[i].input_prompt_number == nbb_cell_id) {\n",
       "                        if (nbb_cells[i].get_text() == nbb_unformatted_code) {\n",
       "                             nbb_cells[i].set_text(nbb_formatted_code);\n",
       "                        }\n",
       "                        break;\n",
       "                    }\n",
       "                }\n",
       "            }, 500);\n",
       "            "
      ],
      "text/plain": [
       "<IPython.core.display.Javascript object>"
      ]
     },
     "metadata": {},
     "output_type": "display_data"
    }
   ],
   "source": [
    "# export\n",
    "\n",
    "import os\n",
    "import math\n",
    "import json\n",
    "import hashlib\n",
    "\n",
    "import pandas as pd\n",
    "\n",
    "from pathlib import Path\n",
    "from urllib.parse import urljoin\n",
    "from typing import Optional, Callable, Any\n",
    "\n",
    "from pydantic import BaseModel\n",
    "\n",
    "from will_it_saturate.epochs import Epoch\n",
    "from will_it_saturate.results import Result\n",
    "from will_it_saturate.servers import BaseServer\n",
    "from will_it_saturate.clients import BaseClient\n",
    "from will_it_saturate.files import BenchmarkFile, FILE_CREATORS"
   ]
  },
  {
   "cell_type": "markdown",
   "id": "olympic-universal",
   "metadata": {},
   "source": [
    "# Repositories"
   ]
  },
  {
   "cell_type": "code",
   "execution_count": null,
   "id": "normal-lighting",
   "metadata": {},
   "outputs": [
    {
     "data": {
      "application/javascript": [
       "\n",
       "            setTimeout(function() {\n",
       "                var nbb_cell_id = 4;\n",
       "                var nbb_unformatted_code = \"# export\\n\\nfrom collections import defaultdict\\n\\n\\nclass BaseRepository(BaseModel):\\n    session: Any = None\\n\\n    def get_result(self, benchmark, result):\\n        pass\\n\\n    def add_result(self, benchmark, result):\\n        pass\\n\\n\\nclass InMemoryRepository(BaseRepository):\\n    results: dict = defaultdict(dict)\\n\\n    def get_result(self, benchmark, result):\\n        return self.results.get(benchmark, {}).get(result, result)\\n\\n    def add_result(self, benchmark, result):\\n        self.results[benchmark][result] = result\";\n",
       "                var nbb_formatted_code = \"# export\\n\\nfrom collections import defaultdict\\n\\n\\nclass BaseRepository(BaseModel):\\n    session: Any = None\\n\\n    def get_result(self, benchmark, result):\\n        pass\\n\\n    def add_result(self, benchmark, result):\\n        pass\\n\\n\\nclass InMemoryRepository(BaseRepository):\\n    results: dict = defaultdict(dict)\\n\\n    def get_result(self, benchmark, result):\\n        return self.results.get(benchmark, {}).get(result, result)\\n\\n    def add_result(self, benchmark, result):\\n        self.results[benchmark][result] = result\";\n",
       "                var nbb_cells = Jupyter.notebook.get_cells();\n",
       "                for (var i = 0; i < nbb_cells.length; ++i) {\n",
       "                    if (nbb_cells[i].input_prompt_number == nbb_cell_id) {\n",
       "                        if (nbb_cells[i].get_text() == nbb_unformatted_code) {\n",
       "                             nbb_cells[i].set_text(nbb_formatted_code);\n",
       "                        }\n",
       "                        break;\n",
       "                    }\n",
       "                }\n",
       "            }, 500);\n",
       "            "
      ],
      "text/plain": [
       "<IPython.core.display.Javascript object>"
      ]
     },
     "metadata": {},
     "output_type": "display_data"
    }
   ],
   "source": [
    "# export\n",
    "\n",
    "from collections import defaultdict\n",
    "\n",
    "\n",
    "class BaseRepository(BaseModel):\n",
    "    session: Any = None\n",
    "\n",
    "    def get_result(self, benchmark, result):\n",
    "        pass\n",
    "\n",
    "    def add_result(self, benchmark, result):\n",
    "        pass\n",
    "\n",
    "\n",
    "class InMemoryRepository(BaseRepository):\n",
    "    results: dict = defaultdict(dict)\n",
    "\n",
    "    def get_result(self, benchmark, result):\n",
    "        return self.results.get(benchmark, {}).get(result, result)\n",
    "\n",
    "    def add_result(self, benchmark, result):\n",
    "        self.results[benchmark][result] = result"
   ]
  },
  {
   "cell_type": "markdown",
   "id": "veterinary-capability",
   "metadata": {},
   "source": [
    "## Usage"
   ]
  },
  {
   "cell_type": "code",
   "execution_count": null,
   "id": "common-combine",
   "metadata": {},
   "outputs": [
    {
     "data": {
      "application/javascript": [
       "\n",
       "            setTimeout(function() {\n",
       "                var nbb_cell_id = 5;\n",
       "                var nbb_unformatted_code = \"# dont_test\\n\\nrepository = InMemoryRepository()\";\n",
       "                var nbb_formatted_code = \"# dont_test\\n\\nrepository = InMemoryRepository()\";\n",
       "                var nbb_cells = Jupyter.notebook.get_cells();\n",
       "                for (var i = 0; i < nbb_cells.length; ++i) {\n",
       "                    if (nbb_cells[i].input_prompt_number == nbb_cell_id) {\n",
       "                        if (nbb_cells[i].get_text() == nbb_unformatted_code) {\n",
       "                             nbb_cells[i].set_text(nbb_formatted_code);\n",
       "                        }\n",
       "                        break;\n",
       "                    }\n",
       "                }\n",
       "            }, 500);\n",
       "            "
      ],
      "text/plain": [
       "<IPython.core.display.Javascript object>"
      ]
     },
     "metadata": {},
     "output_type": "display_data"
    }
   ],
   "source": [
    "# dont_test\n",
    "\n",
    "repository = InMemoryRepository()"
   ]
  },
  {
   "cell_type": "markdown",
   "id": "unusual-youth",
   "metadata": {},
   "source": [
    "## Tests"
   ]
  },
  {
   "cell_type": "markdown",
   "id": "electronic-tampa",
   "metadata": {},
   "source": [
    "# Export"
   ]
  },
  {
   "cell_type": "code",
   "execution_count": null,
   "id": "cooked-image",
   "metadata": {},
   "outputs": [
    {
     "name": "stdout",
     "output_type": "stream",
     "text": [
      "Converted 00_host.ipynb.\n",
      "Converted 01_django_views.ipynb.\n",
      "Converted 01_fastapi_views.ipynb.\n",
      "Converted 01_file.ipynb.\n",
      "Converted 02_docker_servers.ipynb.\n",
      "Converted 02_local_servers.ipynb.\n",
      "Converted 03_servers.ipynb.\n",
      "Converted 04_clients.ipynb.\n",
      "Converted 05_epochs.ipynb.\n",
      "Converted 05_run_benchmark.ipynb.\n",
      "Converted 06_results.ipynb.\n",
      "Converted 07_repositories.ipynb.\n",
      "Converted 25_core.ipynb.\n",
      "Converted 27_control_server.ipynb.\n",
      "Converted 28_control_client.ipynb.\n",
      "Converted 30_benchmark_clients.ipynb.\n",
      "Converted 40_persistence.ipynb.\n",
      "Converted 60_benchmark_without_benchmark.ipynb.\n",
      "Converted Untitled.ipynb.\n",
      "Converted index.ipynb.\n",
      "Converted spacy_test.ipynb.\n"
     ]
    },
    {
     "data": {
      "application/javascript": [
       "\n",
       "            setTimeout(function() {\n",
       "                var nbb_cell_id = 6;\n",
       "                var nbb_unformatted_code = \"# dont_test\\n\\nfrom nbdev.export import notebook2script\\n\\nnotebook2script()\";\n",
       "                var nbb_formatted_code = \"# dont_test\\n\\nfrom nbdev.export import notebook2script\\n\\nnotebook2script()\";\n",
       "                var nbb_cells = Jupyter.notebook.get_cells();\n",
       "                for (var i = 0; i < nbb_cells.length; ++i) {\n",
       "                    if (nbb_cells[i].input_prompt_number == nbb_cell_id) {\n",
       "                        if (nbb_cells[i].get_text() == nbb_unformatted_code) {\n",
       "                             nbb_cells[i].set_text(nbb_formatted_code);\n",
       "                        }\n",
       "                        break;\n",
       "                    }\n",
       "                }\n",
       "            }, 500);\n",
       "            "
      ],
      "text/plain": [
       "<IPython.core.display.Javascript object>"
      ]
     },
     "metadata": {},
     "output_type": "display_data"
    }
   ],
   "source": [
    "# dont_test\n",
    "\n",
    "from nbdev.export import notebook2script\n",
    "\n",
    "notebook2script()"
   ]
  }
 ],
 "metadata": {
  "kernelspec": {
   "display_name": "Python 3",
   "language": "python",
   "name": "python3"
  }
 },
 "nbformat": 4,
 "nbformat_minor": 5
}
