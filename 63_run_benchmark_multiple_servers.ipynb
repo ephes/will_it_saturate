{
 "cells": [
  {
   "cell_type": "code",
   "execution_count": null,
   "id": "0cae8b28",
   "metadata": {},
   "outputs": [
    {
     "data": {
      "application/javascript": [
       "\n",
       "            setTimeout(function() {\n",
       "                var nbb_cell_id = 1;\n",
       "                var nbb_unformatted_code = \"# hide\\n\\n%load_ext nb_black\\n%config InlineBackend.figure_format=\\\"retina\\\"\";\n",
       "                var nbb_formatted_code = \"# hide\\n\\n%load_ext nb_black\\n%config InlineBackend.figure_format=\\\"retina\\\"\";\n",
       "                var nbb_cells = Jupyter.notebook.get_cells();\n",
       "                for (var i = 0; i < nbb_cells.length; ++i) {\n",
       "                    if (nbb_cells[i].input_prompt_number == nbb_cell_id) {\n",
       "                        if (nbb_cells[i].get_text() == nbb_unformatted_code) {\n",
       "                             nbb_cells[i].set_text(nbb_formatted_code);\n",
       "                        }\n",
       "                        break;\n",
       "                    }\n",
       "                }\n",
       "            }, 500);\n",
       "            "
      ],
      "text/plain": [
       "<IPython.core.display.Javascript object>"
      ]
     },
     "metadata": {},
     "output_type": "display_data"
    }
   ],
   "source": [
    "# hide\n",
    "\n",
    "%load_ext nb_black\n",
    "%config InlineBackend.figure_format=\"retina\""
   ]
  },
  {
   "cell_type": "code",
   "execution_count": null,
   "id": "5a285d7d",
   "metadata": {},
   "outputs": [
    {
     "data": {
      "application/javascript": [
       "\n",
       "            setTimeout(function() {\n",
       "                var nbb_cell_id = 2;\n",
       "                var nbb_unformatted_code = \"# dont_test\\n\\nimport httpx\\nimport pandas as pd\\n\\nfrom urllib.parse import urljoin\\n\\nfrom will_it_saturate import servers\\nfrom will_it_saturate import clients\\n\\n# from will_it_saturate.gevent_client import GeventClient\\nfrom will_it_saturate.epochs import Epoch\\nfrom will_it_saturate.hosts import Host, HostDetails\\n\\nfrom will_it_saturate.results import Result\\nfrom will_it_saturate.files import BenchmarkFile\\nfrom will_it_saturate.control.client import ControlClient\\nfrom will_it_saturate.repositories import SqliteRepository, register_default_tables\";\n",
       "                var nbb_formatted_code = \"# dont_test\\n\\nimport httpx\\nimport pandas as pd\\n\\nfrom urllib.parse import urljoin\\n\\nfrom will_it_saturate import servers\\nfrom will_it_saturate import clients\\n\\n# from will_it_saturate.gevent_client import GeventClient\\nfrom will_it_saturate.epochs import Epoch\\nfrom will_it_saturate.hosts import Host, HostDetails\\n\\nfrom will_it_saturate.results import Result\\nfrom will_it_saturate.files import BenchmarkFile\\nfrom will_it_saturate.control.client import ControlClient\\nfrom will_it_saturate.repositories import SqliteRepository, register_default_tables\";\n",
       "                var nbb_cells = Jupyter.notebook.get_cells();\n",
       "                for (var i = 0; i < nbb_cells.length; ++i) {\n",
       "                    if (nbb_cells[i].input_prompt_number == nbb_cell_id) {\n",
       "                        if (nbb_cells[i].get_text() == nbb_unformatted_code) {\n",
       "                             nbb_cells[i].set_text(nbb_formatted_code);\n",
       "                        }\n",
       "                        break;\n",
       "                    }\n",
       "                }\n",
       "            }, 500);\n",
       "            "
      ],
      "text/plain": [
       "<IPython.core.display.Javascript object>"
      ]
     },
     "metadata": {},
     "output_type": "display_data"
    }
   ],
   "source": [
    "# dont_test\n",
    "\n",
    "import httpx\n",
    "import pandas as pd\n",
    "\n",
    "from urllib.parse import urljoin\n",
    "\n",
    "from will_it_saturate import servers\n",
    "from will_it_saturate import clients\n",
    "\n",
    "# from will_it_saturate.gevent_client import GeventClient\n",
    "from will_it_saturate.epochs import Epoch\n",
    "from will_it_saturate.hosts import Host, HostDetails\n",
    "\n",
    "from will_it_saturate.results import Result\n",
    "from will_it_saturate.files import BenchmarkFile\n",
    "from will_it_saturate.control.client import ControlClient\n",
    "from will_it_saturate.repositories import SqliteRepository, register_default_tables"
   ]
  },
  {
   "cell_type": "code",
   "execution_count": null,
   "id": "6b09a481",
   "metadata": {},
   "outputs": [
    {
     "data": {
      "application/javascript": [
       "\n",
       "            setTimeout(function() {\n",
       "                var nbb_cell_id = 3;\n",
       "                var nbb_unformatted_code = \"def get_results(name=\\\"local_results.db\\\"):\\n    repository = SqliteRepository.build_repository(\\\"local_results.db\\\")\\n    register_default_tables(repository)\\n    results = repository.tables[\\\"result\\\"]\\n    return results\";\n",
       "                var nbb_formatted_code = \"def get_results(name=\\\"local_results.db\\\"):\\n    repository = SqliteRepository.build_repository(\\\"local_results.db\\\")\\n    register_default_tables(repository)\\n    results = repository.tables[\\\"result\\\"]\\n    return results\";\n",
       "                var nbb_cells = Jupyter.notebook.get_cells();\n",
       "                for (var i = 0; i < nbb_cells.length; ++i) {\n",
       "                    if (nbb_cells[i].input_prompt_number == nbb_cell_id) {\n",
       "                        if (nbb_cells[i].get_text() == nbb_unformatted_code) {\n",
       "                             nbb_cells[i].set_text(nbb_formatted_code);\n",
       "                        }\n",
       "                        break;\n",
       "                    }\n",
       "                }\n",
       "            }, 500);\n",
       "            "
      ],
      "text/plain": [
       "<IPython.core.display.Javascript object>"
      ]
     },
     "metadata": {},
     "output_type": "display_data"
    }
   ],
   "source": [
    "def get_results(name=\"local_results.db\"):\n",
    "    repository = SqliteRepository.build_repository(\"local_results.db\")\n",
    "    register_default_tables(repository)\n",
    "    results = repository.tables[\"result\"]\n",
    "    return results"
   ]
  },
  {
   "cell_type": "code",
   "execution_count": null,
   "id": "771320f2",
   "metadata": {},
   "outputs": [
    {
     "data": {
      "application/javascript": [
       "\n",
       "            setTimeout(function() {\n",
       "                var nbb_cell_id = 4;\n",
       "                var nbb_unformatted_code = \"# dont_test\\n\\ncontrol_host = \\\"localhost\\\"\\n# control_host = \\\"staging.wersdoerfer.de\\\"\\ncontrol_port = 8100\\n\\nclient_control_host = Host(name=control_host, port=control_port)\\nclient_control_client = ControlClient(host=client_control_host)\\nclient_details = client_control_client.get_host_details()\\nbenchmark_clients = [\\n    clients.WrkClient(name=\\\"wrk\\\"),\\n    # clients.AioHttpClient(name=\\\"aiohttp\\\"),\\n    # clients.HttpxClient(name=\\\"httpx\\\"),\\n]\\n# benchmark_client = clients.WrkClient(name=\\\"wrk\\\")\\n\\nserver_control_host = Host(name=control_host, port=control_port)\\nserver_control_client = ControlClient(host=server_control_host)\\nserver_details = server_control_client.get_host_details()\\nserver_classes = [\\n    servers.NginxFileServer,\\n    servers.FastAPIUvicornServer,\\n    servers.NginxSendfileServer,\\n    servers.CaddyFileServer,\\n]\";\n",
       "                var nbb_formatted_code = \"# dont_test\\n\\ncontrol_host = \\\"localhost\\\"\\n# control_host = \\\"staging.wersdoerfer.de\\\"\\ncontrol_port = 8100\\n\\nclient_control_host = Host(name=control_host, port=control_port)\\nclient_control_client = ControlClient(host=client_control_host)\\nclient_details = client_control_client.get_host_details()\\nbenchmark_clients = [\\n    clients.WrkClient(name=\\\"wrk\\\"),\\n    # clients.AioHttpClient(name=\\\"aiohttp\\\"),\\n    # clients.HttpxClient(name=\\\"httpx\\\"),\\n]\\n# benchmark_client = clients.WrkClient(name=\\\"wrk\\\")\\n\\nserver_control_host = Host(name=control_host, port=control_port)\\nserver_control_client = ControlClient(host=server_control_host)\\nserver_details = server_control_client.get_host_details()\\nserver_classes = [\\n    servers.NginxFileServer,\\n    servers.FastAPIUvicornServer,\\n    servers.NginxSendfileServer,\\n    servers.CaddyFileServer,\\n]\";\n",
       "                var nbb_cells = Jupyter.notebook.get_cells();\n",
       "                for (var i = 0; i < nbb_cells.length; ++i) {\n",
       "                    if (nbb_cells[i].input_prompt_number == nbb_cell_id) {\n",
       "                        if (nbb_cells[i].get_text() == nbb_unformatted_code) {\n",
       "                             nbb_cells[i].set_text(nbb_formatted_code);\n",
       "                        }\n",
       "                        break;\n",
       "                    }\n",
       "                }\n",
       "            }, 500);\n",
       "            "
      ],
      "text/plain": [
       "<IPython.core.display.Javascript object>"
      ]
     },
     "metadata": {},
     "output_type": "display_data"
    }
   ],
   "source": [
    "# dont_test\n",
    "\n",
    "control_host = \"localhost\"\n",
    "# control_host = \"staging.wersdoerfer.de\"\n",
    "control_port = 8100\n",
    "\n",
    "client_control_host = Host(name=control_host, port=control_port)\n",
    "client_control_client = ControlClient(host=client_control_host)\n",
    "client_details = client_control_client.get_host_details()\n",
    "benchmark_clients = [\n",
    "    clients.WrkClient(name=\"wrk\"),\n",
    "    # clients.AioHttpClient(name=\"aiohttp\"),\n",
    "    # clients.HttpxClient(name=\"httpx\"),\n",
    "]\n",
    "# benchmark_client = clients.WrkClient(name=\"wrk\")\n",
    "\n",
    "server_control_host = Host(name=control_host, port=control_port)\n",
    "server_control_client = ControlClient(host=server_control_host)\n",
    "server_details = server_control_client.get_host_details()\n",
    "server_classes = [\n",
    "    servers.NginxFileServer,\n",
    "    servers.FastAPIUvicornServer,\n",
    "    servers.NginxSendfileServer,\n",
    "    servers.CaddyFileServer,\n",
    "]"
   ]
  },
  {
   "cell_type": "code",
   "execution_count": null,
   "id": "8133fe27",
   "metadata": {},
   "outputs": [
    {
     "data": {
      "application/javascript": [
       "\n",
       "            setTimeout(function() {\n",
       "                var nbb_cell_id = 5;\n",
       "                var nbb_unformatted_code = \"# dont_test\\n\\nbyte, file_size, duration = 8, 10**5, 10\\nfor server_class in server_classes:\\n    server = server_control_client.get_or_create_server(\\n        server_class(host=\\\"localhost\\\", port=5001)\\n    )\\n    epoch = Epoch(file_size=file_size, duration=duration)\\n    files = server_control_client.get_or_create_files(epoch)\\n    epoch.urls = [server.file_to_url(file) for file in files]\\n    for benchmark_client in benchmark_clients:\\n        result = Result(\\n            server=server,\\n            client=benchmark_client,\\n            server_details=server_details,\\n            client_details=client_details,\\n            file_size=epoch.file_size,\\n            complete_size=epoch.complete_size,\\n        )\\n        result.elapsed = client_control_client.measure(benchmark_client, epoch)\\n        results = get_results()\\n        result_id = results.add_result(result)\\n    server_control_client.stop_server(server)\";\n",
       "                var nbb_formatted_code = \"# dont_test\\n\\nbyte, file_size, duration = 8, 10**5, 10\\nfor server_class in server_classes:\\n    server = server_control_client.get_or_create_server(\\n        server_class(host=\\\"localhost\\\", port=5001)\\n    )\\n    epoch = Epoch(file_size=file_size, duration=duration)\\n    files = server_control_client.get_or_create_files(epoch)\\n    epoch.urls = [server.file_to_url(file) for file in files]\\n    for benchmark_client in benchmark_clients:\\n        result = Result(\\n            server=server,\\n            client=benchmark_client,\\n            server_details=server_details,\\n            client_details=client_details,\\n            file_size=epoch.file_size,\\n            complete_size=epoch.complete_size,\\n        )\\n        result.elapsed = client_control_client.measure(benchmark_client, epoch)\\n        results = get_results()\\n        result_id = results.add_result(result)\\n    server_control_client.stop_server(server)\";\n",
       "                var nbb_cells = Jupyter.notebook.get_cells();\n",
       "                for (var i = 0; i < nbb_cells.length; ++i) {\n",
       "                    if (nbb_cells[i].input_prompt_number == nbb_cell_id) {\n",
       "                        if (nbb_cells[i].get_text() == nbb_unformatted_code) {\n",
       "                             nbb_cells[i].set_text(nbb_formatted_code);\n",
       "                        }\n",
       "                        break;\n",
       "                    }\n",
       "                }\n",
       "            }, 500);\n",
       "            "
      ],
      "text/plain": [
       "<IPython.core.display.Javascript object>"
      ]
     },
     "metadata": {},
     "output_type": "display_data"
    }
   ],
   "source": [
    "# dont_test\n",
    "\n",
    "byte, file_size, duration = 8, 10**5, 10\n",
    "for server_class in server_classes:\n",
    "    server = server_control_client.get_or_create_server(\n",
    "        server_class(host=\"localhost\", port=5001)\n",
    "    )\n",
    "    epoch = Epoch(file_size=file_size, duration=duration)\n",
    "    files = server_control_client.get_or_create_files(epoch)\n",
    "    epoch.urls = [server.file_to_url(file) for file in files]\n",
    "    for benchmark_client in benchmark_clients:\n",
    "        result = Result(\n",
    "            server=server,\n",
    "            client=benchmark_client,\n",
    "            server_details=server_details,\n",
    "            client_details=client_details,\n",
    "            file_size=epoch.file_size,\n",
    "            complete_size=epoch.complete_size,\n",
    "        )\n",
    "        result.elapsed = client_control_client.measure(benchmark_client, epoch)\n",
    "        results = get_results()\n",
    "        result_id = results.add_result(result)\n",
    "    server_control_client.stop_server(server)"
   ]
  },
  {
   "cell_type": "code",
   "execution_count": null,
   "id": "d78e098c",
   "metadata": {},
   "outputs": [
    {
     "data": {
      "text/html": [
       "<div>\n",
       "<style scoped>\n",
       "    .dataframe tbody tr th:only-of-type {\n",
       "        vertical-align: middle;\n",
       "    }\n",
       "\n",
       "    .dataframe tbody tr th {\n",
       "        vertical-align: top;\n",
       "    }\n",
       "\n",
       "    .dataframe thead th {\n",
       "        text-align: right;\n",
       "    }\n",
       "</style>\n",
       "<table border=\"1\" class=\"dataframe\">\n",
       "  <thead>\n",
       "    <tr style=\"text-align: right;\">\n",
       "      <th></th>\n",
       "      <th>server</th>\n",
       "      <th>client</th>\n",
       "      <th>elapsed</th>\n",
       "      <th>file_size_h</th>\n",
       "      <th>bytes_per_second_h</th>\n",
       "      <th>arch</th>\n",
       "    </tr>\n",
       "  </thead>\n",
       "  <tbody>\n",
       "    <tr>\n",
       "      <th>2</th>\n",
       "      <td>nginx/sendfile</td>\n",
       "      <td>wrk</td>\n",
       "      <td>0.248960</td>\n",
       "      <td>97.66KB</td>\n",
       "      <td>4.68GB</td>\n",
       "      <td>arm64</td>\n",
       "    </tr>\n",
       "    <tr>\n",
       "      <th>3</th>\n",
       "      <td>caddy</td>\n",
       "      <td>wrk</td>\n",
       "      <td>0.467159</td>\n",
       "      <td>97.66KB</td>\n",
       "      <td>2.49GB</td>\n",
       "      <td>arm64</td>\n",
       "    </tr>\n",
       "    <tr>\n",
       "      <th>0</th>\n",
       "      <td>nginx/minimal</td>\n",
       "      <td>wrk</td>\n",
       "      <td>0.971686</td>\n",
       "      <td>97.66KB</td>\n",
       "      <td>1.2GB</td>\n",
       "      <td>arm64</td>\n",
       "    </tr>\n",
       "    <tr>\n",
       "      <th>1</th>\n",
       "      <td>fastAPI/uvicorn</td>\n",
       "      <td>wrk</td>\n",
       "      <td>3.985233</td>\n",
       "      <td>97.66KB</td>\n",
       "      <td>299.13MB</td>\n",
       "      <td>arm64</td>\n",
       "    </tr>\n",
       "  </tbody>\n",
       "</table>\n",
       "</div>"
      ],
      "text/plain": [
       "            server client   elapsed file_size_h bytes_per_second_h   arch\n",
       "2   nginx/sendfile    wrk  0.248960     97.66KB             4.68GB  arm64\n",
       "3            caddy    wrk  0.467159     97.66KB             2.49GB  arm64\n",
       "0    nginx/minimal    wrk  0.971686     97.66KB              1.2GB  arm64\n",
       "1  fastAPI/uvicorn    wrk  3.985233     97.66KB           299.13MB  arm64"
      ]
     },
     "execution_count": null,
     "metadata": {},
     "output_type": "execute_result"
    },
    {
     "data": {
      "application/javascript": [
       "\n",
       "            setTimeout(function() {\n",
       "                var nbb_cell_id = 6;\n",
       "                var nbb_unformatted_code = \"# dont_test\\n\\nresults = get_results()\\nresults_from_database = results.get_results()\\n\\nshow_columns = [\\n    \\\"server\\\",\\n    \\\"client\\\",\\n    \\\"elapsed\\\",\\n    \\\"file_size_h\\\",\\n    \\\"bytes_per_second_h\\\",\\n    \\\"arch\\\",\\n]\\n\\ncols = set(show_columns + [\\\"bytes_per_second\\\"])\\n\\ndf = pd.DataFrame(\\n    [\\n        {k: v for k, v in r.dict_for_pandas().items() if k in cols}\\n        for r in results_from_database\\n    ]\\n)\\ndf.sort_values([\\\"file_size_h\\\", \\\"bytes_per_second\\\"], ascending=False)[show_columns]\";\n",
       "                var nbb_formatted_code = \"# dont_test\\n\\nresults = get_results()\\nresults_from_database = results.get_results()\\n\\nshow_columns = [\\n    \\\"server\\\",\\n    \\\"client\\\",\\n    \\\"elapsed\\\",\\n    \\\"file_size_h\\\",\\n    \\\"bytes_per_second_h\\\",\\n    \\\"arch\\\",\\n]\\n\\ncols = set(show_columns + [\\\"bytes_per_second\\\"])\\n\\ndf = pd.DataFrame(\\n    [\\n        {k: v for k, v in r.dict_for_pandas().items() if k in cols}\\n        for r in results_from_database\\n    ]\\n)\\ndf.sort_values([\\\"file_size_h\\\", \\\"bytes_per_second\\\"], ascending=False)[show_columns]\";\n",
       "                var nbb_cells = Jupyter.notebook.get_cells();\n",
       "                for (var i = 0; i < nbb_cells.length; ++i) {\n",
       "                    if (nbb_cells[i].input_prompt_number == nbb_cell_id) {\n",
       "                        if (nbb_cells[i].get_text() == nbb_unformatted_code) {\n",
       "                             nbb_cells[i].set_text(nbb_formatted_code);\n",
       "                        }\n",
       "                        break;\n",
       "                    }\n",
       "                }\n",
       "            }, 500);\n",
       "            "
      ],
      "text/plain": [
       "<IPython.core.display.Javascript object>"
      ]
     },
     "metadata": {},
     "output_type": "display_data"
    }
   ],
   "source": [
    "# dont_test\n",
    "\n",
    "results = get_results()\n",
    "results_from_database = results.get_results()\n",
    "\n",
    "show_columns = [\n",
    "    \"server\",\n",
    "    \"client\",\n",
    "    \"elapsed\",\n",
    "    \"file_size_h\",\n",
    "    \"bytes_per_second_h\",\n",
    "    \"arch\",\n",
    "]\n",
    "\n",
    "cols = set(show_columns + [\"bytes_per_second\"])\n",
    "\n",
    "df = pd.DataFrame(\n",
    "    [\n",
    "        {k: v for k, v in r.dict_for_pandas().items() if k in cols}\n",
    "        for r in results_from_database\n",
    "    ]\n",
    ")\n",
    "df.sort_values([\"file_size_h\", \"bytes_per_second\"], ascending=False)[show_columns]"
   ]
  },
  {
   "cell_type": "code",
   "execution_count": null,
   "id": "9d6d9191",
   "metadata": {},
   "outputs": [],
   "source": []
  }
 ],
 "metadata": {
  "kernelspec": {
   "display_name": "Python 3 (ipykernel)",
   "language": "python",
   "name": "python3"
  }
 },
 "nbformat": 4,
 "nbformat_minor": 5
}
