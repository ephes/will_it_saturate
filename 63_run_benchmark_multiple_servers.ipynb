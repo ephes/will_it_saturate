{
 "cells": [
  {
   "cell_type": "code",
   "execution_count": null,
   "id": "0cae8b28",
   "metadata": {},
   "outputs": [
    {
     "data": {
      "application/javascript": [
       "\n",
       "            setTimeout(function() {\n",
       "                var nbb_cell_id = 1;\n",
       "                var nbb_unformatted_code = \"# hide\\n\\n%load_ext nb_black\\n%config InlineBackend.figure_format=\\\"retina\\\"\";\n",
       "                var nbb_formatted_code = \"# hide\\n\\n%load_ext nb_black\\n%config InlineBackend.figure_format=\\\"retina\\\"\";\n",
       "                var nbb_cells = Jupyter.notebook.get_cells();\n",
       "                for (var i = 0; i < nbb_cells.length; ++i) {\n",
       "                    if (nbb_cells[i].input_prompt_number == nbb_cell_id) {\n",
       "                        if (nbb_cells[i].get_text() == nbb_unformatted_code) {\n",
       "                             nbb_cells[i].set_text(nbb_formatted_code);\n",
       "                        }\n",
       "                        break;\n",
       "                    }\n",
       "                }\n",
       "            }, 500);\n",
       "            "
      ],
      "text/plain": [
       "<IPython.core.display.Javascript object>"
      ]
     },
     "metadata": {},
     "output_type": "display_data"
    }
   ],
   "source": [
    "# hide\n",
    "\n",
    "%load_ext nb_black\n",
    "%config InlineBackend.figure_format=\"retina\""
   ]
  },
  {
   "cell_type": "code",
   "execution_count": null,
   "id": "5a285d7d",
   "metadata": {},
   "outputs": [
    {
     "data": {
      "application/javascript": [
       "\n",
       "            setTimeout(function() {\n",
       "                var nbb_cell_id = 2;\n",
       "                var nbb_unformatted_code = \"# dont_test\\n\\nimport httpx\\nimport pandas as pd\\n\\nfrom urllib.parse import urljoin\\n\\nfrom will_it_saturate import servers\\nfrom will_it_saturate import clients\\n\\n# from will_it_saturate.gevent_client import GeventClient\\nfrom will_it_saturate.epochs import Epoch\\nfrom will_it_saturate.hosts import Host, HostDetails\\n\\nfrom will_it_saturate.results import Result\\nfrom will_it_saturate.files import BenchmarkFile\\nfrom will_it_saturate.control.client import ControlClient\\nfrom will_it_saturate.repositories import SqliteRepository, register_default_tables\";\n",
       "                var nbb_formatted_code = \"# dont_test\\n\\nimport httpx\\nimport pandas as pd\\n\\nfrom urllib.parse import urljoin\\n\\nfrom will_it_saturate import servers\\nfrom will_it_saturate import clients\\n\\n# from will_it_saturate.gevent_client import GeventClient\\nfrom will_it_saturate.epochs import Epoch\\nfrom will_it_saturate.hosts import Host, HostDetails\\n\\nfrom will_it_saturate.results import Result\\nfrom will_it_saturate.files import BenchmarkFile\\nfrom will_it_saturate.control.client import ControlClient\\nfrom will_it_saturate.repositories import SqliteRepository, register_default_tables\";\n",
       "                var nbb_cells = Jupyter.notebook.get_cells();\n",
       "                for (var i = 0; i < nbb_cells.length; ++i) {\n",
       "                    if (nbb_cells[i].input_prompt_number == nbb_cell_id) {\n",
       "                        if (nbb_cells[i].get_text() == nbb_unformatted_code) {\n",
       "                             nbb_cells[i].set_text(nbb_formatted_code);\n",
       "                        }\n",
       "                        break;\n",
       "                    }\n",
       "                }\n",
       "            }, 500);\n",
       "            "
      ],
      "text/plain": [
       "<IPython.core.display.Javascript object>"
      ]
     },
     "metadata": {},
     "output_type": "display_data"
    }
   ],
   "source": [
    "# dont_test\n",
    "\n",
    "import httpx\n",
    "import pandas as pd\n",
    "\n",
    "from urllib.parse import urljoin\n",
    "\n",
    "from will_it_saturate import servers\n",
    "from will_it_saturate import clients\n",
    "\n",
    "# from will_it_saturate.gevent_client import GeventClient\n",
    "from will_it_saturate.epochs import Epoch\n",
    "from will_it_saturate.hosts import Host, HostDetails\n",
    "\n",
    "from will_it_saturate.results import Result\n",
    "from will_it_saturate.files import BenchmarkFile\n",
    "from will_it_saturate.control.client import ControlClient\n",
    "from will_it_saturate.repositories import SqliteRepository, register_default_tables"
   ]
  },
  {
   "cell_type": "code",
   "execution_count": null,
   "id": "9fb9f596",
   "metadata": {},
   "outputs": [
    {
     "data": {
      "application/javascript": [
       "\n",
       "            setTimeout(function() {\n",
       "                var nbb_cell_id = 7;\n",
       "                var nbb_unformatted_code = \"# control_host = \\\"localhost\\\"\\ncontrol_host = \\\"staging.wersdoerfer.de\\\"\\ncontrol_port = 8100\";\n",
       "                var nbb_formatted_code = \"# control_host = \\\"localhost\\\"\\ncontrol_host = \\\"staging.wersdoerfer.de\\\"\\ncontrol_port = 8100\";\n",
       "                var nbb_cells = Jupyter.notebook.get_cells();\n",
       "                for (var i = 0; i < nbb_cells.length; ++i) {\n",
       "                    if (nbb_cells[i].input_prompt_number == nbb_cell_id) {\n",
       "                        if (nbb_cells[i].get_text() == nbb_unformatted_code) {\n",
       "                             nbb_cells[i].set_text(nbb_formatted_code);\n",
       "                        }\n",
       "                        break;\n",
       "                    }\n",
       "                }\n",
       "            }, 500);\n",
       "            "
      ],
      "text/plain": [
       "<IPython.core.display.Javascript object>"
      ]
     },
     "metadata": {},
     "output_type": "display_data"
    }
   ],
   "source": [
    "control_host = \"staging.wersdoerfer.de\"\n",
    "control_port = 8100"
   ]
  },
  {
   "cell_type": "code",
   "execution_count": null,
   "id": "771320f2",
   "metadata": {},
   "outputs": [
    {
     "data": {
      "application/javascript": [
       "\n",
       "            setTimeout(function() {\n",
       "                var nbb_cell_id = 3;\n",
       "                var nbb_unformatted_code = \"# dont_test\\n\\nclient_control_host = Host(name=\\\"localhost\\\", port=8100)\\nclient_control_client = ControlClient(host=client_control_host)\\nclient_details = client_control_client.get_host_details()\\nbenchmark_clients = [\\n    clients.WrkClient(name=\\\"wrk\\\"),\\n    # clients.AioHttpClient(name=\\\"aiohttp\\\"),\\n    clients.HttpxClient(name=\\\"httpx\\\"),\\n]\\n# benchmark_client = clients.WrkClient(name=\\\"wrk\\\")\";\n",
       "                var nbb_formatted_code = \"# dont_test\\n\\nclient_control_host = Host(name=\\\"localhost\\\", port=8100)\\nclient_control_client = ControlClient(host=client_control_host)\\nclient_details = client_control_client.get_host_details()\\nbenchmark_clients = [\\n    clients.WrkClient(name=\\\"wrk\\\"),\\n    # clients.AioHttpClient(name=\\\"aiohttp\\\"),\\n    clients.HttpxClient(name=\\\"httpx\\\"),\\n]\\n# benchmark_client = clients.WrkClient(name=\\\"wrk\\\")\";\n",
       "                var nbb_cells = Jupyter.notebook.get_cells();\n",
       "                for (var i = 0; i < nbb_cells.length; ++i) {\n",
       "                    if (nbb_cells[i].input_prompt_number == nbb_cell_id) {\n",
       "                        if (nbb_cells[i].get_text() == nbb_unformatted_code) {\n",
       "                             nbb_cells[i].set_text(nbb_formatted_code);\n",
       "                        }\n",
       "                        break;\n",
       "                    }\n",
       "                }\n",
       "            }, 500);\n",
       "            "
      ],
      "text/plain": [
       "<IPython.core.display.Javascript object>"
      ]
     },
     "metadata": {},
     "output_type": "display_data"
    }
   ],
   "source": [
    "# dont_test\n",
    "\n",
    "# control_host = \"localhost\"\n",
    "control_host = \"staging.wersdoerfer.de\"\n",
    "control_port = 8100\n",
    "\n",
    "client_control_host = Host(name=control_host, port=control_port)\n",
    "client_control_client = ControlClient(host=client_control_host)\n",
    "client_details = client_control_client.get_host_details()\n",
    "benchmark_clients = [\n",
    "    clients.WrkClient(name=\"wrk\"),\n",
    "    # clients.AioHttpClient(name=\"aiohttp\"),\n",
    "    clients.HttpxClient(name=\"httpx\"),\n",
    "]\n",
    "# benchmark_client = clients.WrkClient(name=\"wrk\")\n",
    "\n",
    "server_control_host = Host(name=control_host, port=control_port)\n",
    "server_control_client = ControlClient(host=server_control_host)\n",
    "server_details = server_control_client.get_host_details()\n",
    "server_classes = [\n",
    "    servers.NginxFileServer,\n",
    "    servers.FastAPIUvicornServer,\n",
    "    servers.NginxSendfileServer,\n",
    "    servers.CaddyFileServer,\n",
    "]"
   ]
  },
  {
   "cell_type": "code",
   "execution_count": null,
   "id": "8133fe27",
   "metadata": {},
   "outputs": [
    {
     "data": {
      "application/javascript": [
       "\n",
       "            setTimeout(function() {\n",
       "                var nbb_cell_id = 5;\n",
       "                var nbb_unformatted_code = \"# dont_test\\n\\nbyte, file_size, duration = 8, 10**5, 3\\nfor server_class in server_classes:\\n    server = server_control_client.get_or_create_server(\\n        server_class(host=\\\"localhost\\\", port=5001)\\n    )\\n    epoch = Epoch(file_size=file_size, duration=duration)\\n    files = server_control_client.get_or_create_files(epoch)\\n    epoch.urls = [server.file_to_url(file) for file in files]\\n    for benchmark_client in benchmark_clients:\\n        result = Result(\\n            server=server,\\n            client=benchmark_client,\\n            server_details=server_details,\\n            client_details=client_details,\\n            file_size=epoch.file_size,\\n            complete_size=epoch.complete_size,\\n        )\\n        result.elapsed = client_control_client.measure(benchmark_client, epoch)\\n        repository = SqliteRepository.build_repository(\\\"all_results.db\\\")\\n        register_default_tables(repository)\\n        results = repository.tables[\\\"result\\\"]\\n        result_id = results.add_result(result)\\n    server_control_client.stop_server(server)\";\n",
       "                var nbb_formatted_code = \"# dont_test\\n\\nbyte, file_size, duration = 8, 10**5, 3\\nfor server_class in server_classes:\\n    server = server_control_client.get_or_create_server(\\n        server_class(host=\\\"localhost\\\", port=5001)\\n    )\\n    epoch = Epoch(file_size=file_size, duration=duration)\\n    files = server_control_client.get_or_create_files(epoch)\\n    epoch.urls = [server.file_to_url(file) for file in files]\\n    for benchmark_client in benchmark_clients:\\n        result = Result(\\n            server=server,\\n            client=benchmark_client,\\n            server_details=server_details,\\n            client_details=client_details,\\n            file_size=epoch.file_size,\\n            complete_size=epoch.complete_size,\\n        )\\n        result.elapsed = client_control_client.measure(benchmark_client, epoch)\\n        repository = SqliteRepository.build_repository(\\\"all_results.db\\\")\\n        register_default_tables(repository)\\n        results = repository.tables[\\\"result\\\"]\\n        result_id = results.add_result(result)\\n    server_control_client.stop_server(server)\";\n",
       "                var nbb_cells = Jupyter.notebook.get_cells();\n",
       "                for (var i = 0; i < nbb_cells.length; ++i) {\n",
       "                    if (nbb_cells[i].input_prompt_number == nbb_cell_id) {\n",
       "                        if (nbb_cells[i].get_text() == nbb_unformatted_code) {\n",
       "                             nbb_cells[i].set_text(nbb_formatted_code);\n",
       "                        }\n",
       "                        break;\n",
       "                    }\n",
       "                }\n",
       "            }, 500);\n",
       "            "
      ],
      "text/plain": [
       "<IPython.core.display.Javascript object>"
      ]
     },
     "metadata": {},
     "output_type": "display_data"
    }
   ],
   "source": [
    "# dont_test\n",
    "\n",
    "byte, file_size, duration = 8, 10**5, 3\n",
    "for server_class in server_classes:\n",
    "    server = server_control_client.get_or_create_server(\n",
    "        server_class(host=\"localhost\", port=5001)\n",
    "    )\n",
    "    epoch = Epoch(file_size=file_size, duration=duration)\n",
    "    files = server_control_client.get_or_create_files(epoch)\n",
    "    epoch.urls = [server.file_to_url(file) for file in files]\n",
    "    for benchmark_client in benchmark_clients:\n",
    "        result = Result(\n",
    "            server=server,\n",
    "            client=benchmark_client,\n",
    "            server_details=server_details,\n",
    "            client_details=client_details,\n",
    "            file_size=epoch.file_size,\n",
    "            complete_size=epoch.complete_size,\n",
    "        )\n",
    "        result.elapsed = client_control_client.measure(benchmark_client, epoch)\n",
    "        repository = SqliteRepository.build_repository(\"all_results.db\")\n",
    "        register_default_tables(repository)\n",
    "        results = repository.tables[\"result\"]\n",
    "        result_id = results.add_result(result)\n",
    "    server_control_client.stop_server(server)"
   ]
  },
  {
   "cell_type": "code",
   "execution_count": null,
   "id": "d78e098c",
   "metadata": {},
   "outputs": [
    {
     "data": {
      "text/html": [
       "<div>\n",
       "<style scoped>\n",
       "    .dataframe tbody tr th:only-of-type {\n",
       "        vertical-align: middle;\n",
       "    }\n",
       "\n",
       "    .dataframe tbody tr th {\n",
       "        vertical-align: top;\n",
       "    }\n",
       "\n",
       "    .dataframe thead th {\n",
       "        text-align: right;\n",
       "    }\n",
       "</style>\n",
       "<table border=\"1\" class=\"dataframe\">\n",
       "  <thead>\n",
       "    <tr style=\"text-align: right;\">\n",
       "      <th></th>\n",
       "      <th>server</th>\n",
       "      <th>client</th>\n",
       "      <th>elapsed</th>\n",
       "      <th>file_size_h</th>\n",
       "      <th>bytes_per_second_h</th>\n",
       "    </tr>\n",
       "  </thead>\n",
       "  <tbody>\n",
       "    <tr>\n",
       "      <th>0</th>\n",
       "      <td>nginx/minimal</td>\n",
       "      <td>wrk</td>\n",
       "      <td>0.145824</td>\n",
       "      <td>97.66KB</td>\n",
       "      <td>2.39GB</td>\n",
       "    </tr>\n",
       "    <tr>\n",
       "      <th>1</th>\n",
       "      <td>nginx/minimal</td>\n",
       "      <td>httpx</td>\n",
       "      <td>4.373843</td>\n",
       "      <td>97.66KB</td>\n",
       "      <td>81.77MB</td>\n",
       "    </tr>\n",
       "    <tr>\n",
       "      <th>2</th>\n",
       "      <td>fastAPI/uvicorn</td>\n",
       "      <td>wrk</td>\n",
       "      <td>2.674689</td>\n",
       "      <td>97.66KB</td>\n",
       "      <td>133.71MB</td>\n",
       "    </tr>\n",
       "    <tr>\n",
       "      <th>3</th>\n",
       "      <td>fastAPI/uvicorn</td>\n",
       "      <td>httpx</td>\n",
       "      <td>5.065635</td>\n",
       "      <td>97.66KB</td>\n",
       "      <td>70.6MB</td>\n",
       "    </tr>\n",
       "    <tr>\n",
       "      <th>4</th>\n",
       "      <td>nginx/sendfile</td>\n",
       "      <td>wrk</td>\n",
       "      <td>0.116421</td>\n",
       "      <td>97.66KB</td>\n",
       "      <td>3.0GB</td>\n",
       "    </tr>\n",
       "    <tr>\n",
       "      <th>5</th>\n",
       "      <td>nginx/sendfile</td>\n",
       "      <td>httpx</td>\n",
       "      <td>4.177912</td>\n",
       "      <td>97.66KB</td>\n",
       "      <td>85.6MB</td>\n",
       "    </tr>\n",
       "    <tr>\n",
       "      <th>6</th>\n",
       "      <td>caddy</td>\n",
       "      <td>wrk</td>\n",
       "      <td>0.153288</td>\n",
       "      <td>97.66KB</td>\n",
       "      <td>2.28GB</td>\n",
       "    </tr>\n",
       "    <tr>\n",
       "      <th>7</th>\n",
       "      <td>caddy</td>\n",
       "      <td>httpx</td>\n",
       "      <td>4.324604</td>\n",
       "      <td>97.66KB</td>\n",
       "      <td>82.7MB</td>\n",
       "    </tr>\n",
       "  </tbody>\n",
       "</table>\n",
       "</div>"
      ],
      "text/plain": [
       "            server client   elapsed file_size_h bytes_per_second_h\n",
       "0    nginx/minimal    wrk  0.145824     97.66KB             2.39GB\n",
       "1    nginx/minimal  httpx  4.373843     97.66KB            81.77MB\n",
       "2  fastAPI/uvicorn    wrk  2.674689     97.66KB           133.71MB\n",
       "3  fastAPI/uvicorn  httpx  5.065635     97.66KB             70.6MB\n",
       "4   nginx/sendfile    wrk  0.116421     97.66KB              3.0GB\n",
       "5   nginx/sendfile  httpx  4.177912     97.66KB             85.6MB\n",
       "6            caddy    wrk  0.153288     97.66KB             2.28GB\n",
       "7            caddy  httpx  4.324604     97.66KB             82.7MB"
      ]
     },
     "execution_count": null,
     "metadata": {},
     "output_type": "execute_result"
    },
    {
     "data": {
      "application/javascript": [
       "\n",
       "            setTimeout(function() {\n",
       "                var nbb_cell_id = 6;\n",
       "                var nbb_unformatted_code = \"# dont_test\\n\\nresults_from_database = results.get_results()\\n\\ncols = set([\\\"server\\\", \\\"client\\\", \\\"elapsed\\\", \\\"file_size_h\\\", \\\"bytes_per_second_h\\\"])\\npd.DataFrame(\\n    [\\n        {k: v for k, v in r.dict_for_pandas().items() if k in cols}\\n        for r in results_from_database\\n    ]\\n)\";\n",
       "                var nbb_formatted_code = \"# dont_test\\n\\nresults_from_database = results.get_results()\\n\\ncols = set([\\\"server\\\", \\\"client\\\", \\\"elapsed\\\", \\\"file_size_h\\\", \\\"bytes_per_second_h\\\"])\\npd.DataFrame(\\n    [\\n        {k: v for k, v in r.dict_for_pandas().items() if k in cols}\\n        for r in results_from_database\\n    ]\\n)\";\n",
       "                var nbb_cells = Jupyter.notebook.get_cells();\n",
       "                for (var i = 0; i < nbb_cells.length; ++i) {\n",
       "                    if (nbb_cells[i].input_prompt_number == nbb_cell_id) {\n",
       "                        if (nbb_cells[i].get_text() == nbb_unformatted_code) {\n",
       "                             nbb_cells[i].set_text(nbb_formatted_code);\n",
       "                        }\n",
       "                        break;\n",
       "                    }\n",
       "                }\n",
       "            }, 500);\n",
       "            "
      ],
      "text/plain": [
       "<IPython.core.display.Javascript object>"
      ]
     },
     "metadata": {},
     "output_type": "display_data"
    }
   ],
   "source": [
    "# dont_test\n",
    "\n",
    "results_from_database = results.get_results()\n",
    "\n",
    "cols = set([\"server\", \"client\", \"elapsed\", \"file_size_h\", \"bytes_per_second_h\"])\n",
    "pd.DataFrame(\n",
    "    [\n",
    "        {k: v for k, v in r.dict_for_pandas().items() if k in cols}\n",
    "        for r in results_from_database\n",
    "    ]\n",
    ")"
   ]
  },
  {
   "cell_type": "code",
   "execution_count": null,
   "id": "7447138e",
   "metadata": {},
   "outputs": [],
   "source": []
  }
 ],
 "metadata": {
  "kernelspec": {
   "display_name": "Python 3 (ipykernel)",
   "language": "python",
   "name": "python3"
  }
 },
 "nbformat": 4,
 "nbformat_minor": 5
}
