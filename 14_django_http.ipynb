{
 "cells": [
  {
   "cell_type": "code",
   "execution_count": null,
   "id": "18adf224",
   "metadata": {},
   "outputs": [
    {
     "data": {
      "application/javascript": [
       "\n",
       "            setTimeout(function() {\n",
       "                var nbb_cell_id = 1;\n",
       "                var nbb_unformatted_code = \"# hide\\n\\n%load_ext nb_black\";\n",
       "                var nbb_formatted_code = \"# hide\\n\\n%load_ext nb_black\";\n",
       "                var nbb_cells = Jupyter.notebook.get_cells();\n",
       "                for (var i = 0; i < nbb_cells.length; ++i) {\n",
       "                    if (nbb_cells[i].input_prompt_number == nbb_cell_id) {\n",
       "                        if (nbb_cells[i].get_text() == nbb_unformatted_code) {\n",
       "                             nbb_cells[i].set_text(nbb_formatted_code);\n",
       "                        }\n",
       "                        break;\n",
       "                    }\n",
       "                }\n",
       "            }, 500);\n",
       "            "
      ],
      "text/plain": [
       "<IPython.core.display.Javascript object>"
      ]
     },
     "metadata": {},
     "output_type": "display_data"
    }
   ],
   "source": [
    "# hide\n",
    "\n",
    "%load_ext nb_black"
   ]
  },
  {
   "cell_type": "code",
   "execution_count": null,
   "id": "9ffdde54",
   "metadata": {},
   "outputs": [
    {
     "data": {
      "application/javascript": [
       "\n",
       "            setTimeout(function() {\n",
       "                var nbb_cell_id = 2;\n",
       "                var nbb_unformatted_code = \"# export\\n\\nimport time\\nimport logging\\n\\nfrom django.http import FileResponse\\n\\nlogger = logging.getLogger(__name__)\";\n",
       "                var nbb_formatted_code = \"# export\\n\\nimport time\\nimport logging\\n\\nfrom django.http import FileResponse\\n\\nlogger = logging.getLogger(__name__)\";\n",
       "                var nbb_cells = Jupyter.notebook.get_cells();\n",
       "                for (var i = 0; i < nbb_cells.length; ++i) {\n",
       "                    if (nbb_cells[i].input_prompt_number == nbb_cell_id) {\n",
       "                        if (nbb_cells[i].get_text() == nbb_unformatted_code) {\n",
       "                             nbb_cells[i].set_text(nbb_formatted_code);\n",
       "                        }\n",
       "                        break;\n",
       "                    }\n",
       "                }\n",
       "            }, 500);\n",
       "            "
      ],
      "text/plain": [
       "<IPython.core.display.Javascript object>"
      ]
     },
     "metadata": {},
     "output_type": "display_data"
    }
   ],
   "source": [
    "# export\n",
    "\n",
    "import time\n",
    "import logging\n",
    "\n",
    "from django.http import FileResponse\n",
    "\n",
    "logger = logging.getLogger(__name__)"
   ]
  },
  {
   "cell_type": "markdown",
   "id": "63f73edd",
   "metadata": {},
   "source": [
    "## Measuring File Response"
   ]
  },
  {
   "cell_type": "code",
   "execution_count": null,
   "id": "85ed5db0",
   "metadata": {},
   "outputs": [
    {
     "data": {
      "application/javascript": [
       "\n",
       "            setTimeout(function() {\n",
       "                var nbb_cell_id = 3;\n",
       "                var nbb_unformatted_code = \"# export\\n\\n\\nclass MeasuringFileResponse(FileResponse):\\n    def __init__(self, *args, **kwargs):\\n        self.open_file_name = args[0].name\\n        self.started_serving = time.perf_counter()\\n        super().__init__(*args, **kwargs)\\n\\n    def close(self):\\n        super().close()\\n        elapsed = time.perf_counter() - self.started_serving\\n        # print(f\\\"elapsed: {elapsed} for {self.open_file_name}\\\")\\n        logger.info(f\\\"{self.open_file_name},{elapsed}\\\")\";\n",
       "                var nbb_formatted_code = \"# export\\n\\n\\nclass MeasuringFileResponse(FileResponse):\\n    def __init__(self, *args, **kwargs):\\n        self.open_file_name = args[0].name\\n        self.started_serving = time.perf_counter()\\n        super().__init__(*args, **kwargs)\\n\\n    def close(self):\\n        super().close()\\n        elapsed = time.perf_counter() - self.started_serving\\n        # print(f\\\"elapsed: {elapsed} for {self.open_file_name}\\\")\\n        logger.info(f\\\"{self.open_file_name},{elapsed}\\\")\";\n",
       "                var nbb_cells = Jupyter.notebook.get_cells();\n",
       "                for (var i = 0; i < nbb_cells.length; ++i) {\n",
       "                    if (nbb_cells[i].input_prompt_number == nbb_cell_id) {\n",
       "                        if (nbb_cells[i].get_text() == nbb_unformatted_code) {\n",
       "                             nbb_cells[i].set_text(nbb_formatted_code);\n",
       "                        }\n",
       "                        break;\n",
       "                    }\n",
       "                }\n",
       "            }, 500);\n",
       "            "
      ],
      "text/plain": [
       "<IPython.core.display.Javascript object>"
      ]
     },
     "metadata": {},
     "output_type": "display_data"
    }
   ],
   "source": [
    "# export\n",
    "\n",
    "\n",
    "class MeasuringFileResponse(FileResponse):\n",
    "    def __init__(self, *args, **kwargs):\n",
    "        self.open_file_name = args[0].name\n",
    "        self.started_serving = time.perf_counter()\n",
    "        super().__init__(*args, **kwargs)\n",
    "\n",
    "    def close(self):\n",
    "        super().close()\n",
    "        elapsed = time.perf_counter() - self.started_serving\n",
    "        # print(f\"elapsed: {elapsed} for {self.open_file_name}\")\n",
    "        logger.info(f\"{self.open_file_name},{elapsed}\")"
   ]
  },
  {
   "cell_type": "markdown",
   "id": "07706010",
   "metadata": {},
   "source": [
    "## Async File Response"
   ]
  },
  {
   "cell_type": "code",
   "execution_count": null,
   "id": "cb2ad93f",
   "metadata": {},
   "outputs": [
    {
     "data": {
      "application/javascript": [
       "\n",
       "            setTimeout(function() {\n",
       "                var nbb_cell_id = 4;\n",
       "                var nbb_unformatted_code = \"# default_exp django.http\";\n",
       "                var nbb_formatted_code = \"# default_exp django.http\";\n",
       "                var nbb_cells = Jupyter.notebook.get_cells();\n",
       "                for (var i = 0; i < nbb_cells.length; ++i) {\n",
       "                    if (nbb_cells[i].input_prompt_number == nbb_cell_id) {\n",
       "                        if (nbb_cells[i].get_text() == nbb_unformatted_code) {\n",
       "                             nbb_cells[i].set_text(nbb_formatted_code);\n",
       "                        }\n",
       "                        break;\n",
       "                    }\n",
       "                }\n",
       "            }, 500);\n",
       "            "
      ],
      "text/plain": [
       "<IPython.core.display.Javascript object>"
      ]
     },
     "metadata": {},
     "output_type": "display_data"
    }
   ],
   "source": [
    "# default_exp django.http"
   ]
  },
  {
   "cell_type": "code",
   "execution_count": null,
   "id": "7707f83b",
   "metadata": {},
   "outputs": [
    {
     "data": {
      "application/javascript": [
       "\n",
       "            setTimeout(function() {\n",
       "                var nbb_cell_id = 5;\n",
       "                var nbb_unformatted_code = \"# export\\n\\nimport aiofiles\\n\\n\\nclass AsyncFileResponse(FileResponse):\\n    def __init__(self, *args, **kwargs):\\n        self.started_serving = time.perf_counter()\\n        self.chunk_size = kwargs.get(\\\"chunk_size\\\", 4096)\\n        self.async_file = None\\n        self.more_body = True\\n        super().__init__(*args, **kwargs)\\n        self.headers[\\\"Content-Type\\\"] = \\\"application/octet-stream\\\"\\n\\n    def __aiter__(self):\\n        return self\\n\\n    async def __anext__(self):\\n        if self.async_file is None:\\n            self.async_file = await aiofiles.open(self.filename, mode=\\\"rb\\\")\\n        while self.more_body:\\n            chunk = await self.async_file.read(self.chunk_size)\\n            self.more_body = len(chunk) == self.chunk_size\\n            return self.more_body, chunk\\n        await self.async_file.close()\\n        raise StopAsyncIteration\\n\\n    def close(self):\\n        super().close()\\n        elapsed = time.perf_counter() - self.started_serving\\n        logger.info(f\\\"{self.filename},{elapsed}\\\")\";\n",
       "                var nbb_formatted_code = \"# export\\n\\nimport aiofiles\\n\\n\\nclass AsyncFileResponse(FileResponse):\\n    def __init__(self, *args, **kwargs):\\n        self.started_serving = time.perf_counter()\\n        self.chunk_size = kwargs.get(\\\"chunk_size\\\", 4096)\\n        self.async_file = None\\n        self.more_body = True\\n        super().__init__(*args, **kwargs)\\n        self.headers[\\\"Content-Type\\\"] = \\\"application/octet-stream\\\"\\n\\n    def __aiter__(self):\\n        return self\\n\\n    async def __anext__(self):\\n        if self.async_file is None:\\n            self.async_file = await aiofiles.open(self.filename, mode=\\\"rb\\\")\\n        while self.more_body:\\n            chunk = await self.async_file.read(self.chunk_size)\\n            self.more_body = len(chunk) == self.chunk_size\\n            return self.more_body, chunk\\n        await self.async_file.close()\\n        raise StopAsyncIteration\\n\\n    def close(self):\\n        super().close()\\n        elapsed = time.perf_counter() - self.started_serving\\n        logger.info(f\\\"{self.filename},{elapsed}\\\")\";\n",
       "                var nbb_cells = Jupyter.notebook.get_cells();\n",
       "                for (var i = 0; i < nbb_cells.length; ++i) {\n",
       "                    if (nbb_cells[i].input_prompt_number == nbb_cell_id) {\n",
       "                        if (nbb_cells[i].get_text() == nbb_unformatted_code) {\n",
       "                             nbb_cells[i].set_text(nbb_formatted_code);\n",
       "                        }\n",
       "                        break;\n",
       "                    }\n",
       "                }\n",
       "            }, 500);\n",
       "            "
      ],
      "text/plain": [
       "<IPython.core.display.Javascript object>"
      ]
     },
     "metadata": {},
     "output_type": "display_data"
    }
   ],
   "source": [
    "# export\n",
    "\n",
    "import aiofiles\n",
    "\n",
    "\n",
    "class AsyncFileResponse(FileResponse):\n",
    "    def __init__(self, *args, **kwargs):\n",
    "        self.started_serving = time.perf_counter()\n",
    "        self.chunk_size = kwargs.get(\"chunk_size\", 4096)\n",
    "        self.async_file = None\n",
    "        self.more_body = True\n",
    "        super().__init__(*args, **kwargs)\n",
    "        self.headers[\"Content-Type\"] = \"application/octet-stream\"\n",
    "\n",
    "    def __aiter__(self):\n",
    "        return self\n",
    "\n",
    "    async def __anext__(self):\n",
    "        if self.async_file is None:\n",
    "            self.async_file = await aiofiles.open(self.filename, mode=\"rb\")\n",
    "        while self.more_body:\n",
    "            chunk = await self.async_file.read(self.chunk_size)\n",
    "            self.more_body = len(chunk) == self.chunk_size\n",
    "            return self.more_body, chunk\n",
    "        await self.async_file.close()\n",
    "        raise StopAsyncIteration\n",
    "\n",
    "    def close(self):\n",
    "        super().close()\n",
    "        elapsed = time.perf_counter() - self.started_serving\n",
    "        logger.info(f\"{self.filename},{elapsed}\")"
   ]
  },
  {
   "cell_type": "code",
   "execution_count": null,
   "id": "c534aa0b",
   "metadata": {},
   "outputs": [
    {
     "name": "stdout",
     "output_type": "stream",
     "text": [
      "False\n",
      "True\n"
     ]
    },
    {
     "data": {
      "application/javascript": [
       "\n",
       "            setTimeout(function() {\n",
       "                var nbb_cell_id = 6;\n",
       "                var nbb_unformatted_code = \"# dont_test\\nimport os\\nimport asyncio\\n\\nimport django\\n\\nos.environ.setdefault(\\\"DJANGO_SETTINGS_MODULE\\\", \\\"will_it_saturate.django.settings\\\")\\n\\ndjango.setup(set_prefix=False)\\n\\n\\nafr = AsyncFileResponse()\\nprint(asyncio.iscoroutinefunction(afr.__aiter__))\\nprint(hasattr(afr, \\\"__aiter__\\\"))\";\n",
       "                var nbb_formatted_code = \"# dont_test\\nimport os\\nimport asyncio\\n\\nimport django\\n\\nos.environ.setdefault(\\\"DJANGO_SETTINGS_MODULE\\\", \\\"will_it_saturate.django.settings\\\")\\n\\ndjango.setup(set_prefix=False)\\n\\n\\nafr = AsyncFileResponse()\\nprint(asyncio.iscoroutinefunction(afr.__aiter__))\\nprint(hasattr(afr, \\\"__aiter__\\\"))\";\n",
       "                var nbb_cells = Jupyter.notebook.get_cells();\n",
       "                for (var i = 0; i < nbb_cells.length; ++i) {\n",
       "                    if (nbb_cells[i].input_prompt_number == nbb_cell_id) {\n",
       "                        if (nbb_cells[i].get_text() == nbb_unformatted_code) {\n",
       "                             nbb_cells[i].set_text(nbb_formatted_code);\n",
       "                        }\n",
       "                        break;\n",
       "                    }\n",
       "                }\n",
       "            }, 500);\n",
       "            "
      ],
      "text/plain": [
       "<IPython.core.display.Javascript object>"
      ]
     },
     "metadata": {},
     "output_type": "display_data"
    }
   ],
   "source": [
    "# dont_test\n",
    "import os\n",
    "import asyncio\n",
    "\n",
    "import django\n",
    "\n",
    "os.environ.setdefault(\"DJANGO_SETTINGS_MODULE\", \"will_it_saturate.django.settings\")\n",
    "\n",
    "django.setup(set_prefix=False)\n",
    "\n",
    "\n",
    "afr = AsyncFileResponse()\n",
    "print(asyncio.iscoroutinefunction(afr.__aiter__))\n",
    "print(hasattr(afr, \"__aiter__\"))"
   ]
  },
  {
   "cell_type": "markdown",
   "id": "fafb9460",
   "metadata": {},
   "source": [
    "## AsyncMinioResponse"
   ]
  },
  {
   "cell_type": "code",
   "execution_count": null,
   "id": "20800b01",
   "metadata": {},
   "outputs": [
    {
     "data": {
      "application/javascript": [
       "\n",
       "            setTimeout(function() {\n",
       "                var nbb_cell_id = 7;\n",
       "                var nbb_unformatted_code = \"class AsyncMinioResponse(FileResponse):\\n    def __init__(self, *args, **kwargs):\\n        self.started_serving = time.perf_counter()\\n        self.chunk_size = kwargs.get(\\\"chunk_size\\\", 4096)\\n        self.async_minio_response = kwargs.get(\\\"minio_response\\\")\\n        self.async_minio_stream = None\\n        self.more_body = True\\n        super().__init__(*args, **kwargs)\\n        self.headers[\\\"Content-Type\\\"] = \\\"application/octet-stream\\\"\\n\\n    def __aiter__(self):\\n        return self\\n\\n    async def __anext__(self):\\n        if self.async_minio_stream is None:\\n            self.async_minio_stream = self.async_minio_response[\\\"Body\\\"]\\n        while self.more_body:\\n            chunk = await self.async_minio_stream.read(self.chunk_size)\\n            self.more_body = len(chunk) == self.chunk_size\\n            return self.more_body, chunk\\n        raise StopAsyncIteration\\n\\n    def close(self):\\n        super().close()\\n        elapsed = time.perf_counter() - self.started_serving\\n        logger.info(f\\\"{self.filename},{elapsed}\\\")\";\n",
       "                var nbb_formatted_code = \"class AsyncMinioResponse(FileResponse):\\n    def __init__(self, *args, **kwargs):\\n        self.started_serving = time.perf_counter()\\n        self.chunk_size = kwargs.get(\\\"chunk_size\\\", 4096)\\n        self.async_minio_response = kwargs.get(\\\"minio_response\\\")\\n        self.async_minio_stream = None\\n        self.more_body = True\\n        super().__init__(*args, **kwargs)\\n        self.headers[\\\"Content-Type\\\"] = \\\"application/octet-stream\\\"\\n\\n    def __aiter__(self):\\n        return self\\n\\n    async def __anext__(self):\\n        if self.async_minio_stream is None:\\n            self.async_minio_stream = self.async_minio_response[\\\"Body\\\"]\\n        while self.more_body:\\n            chunk = await self.async_minio_stream.read(self.chunk_size)\\n            self.more_body = len(chunk) == self.chunk_size\\n            return self.more_body, chunk\\n        raise StopAsyncIteration\\n\\n    def close(self):\\n        super().close()\\n        elapsed = time.perf_counter() - self.started_serving\\n        logger.info(f\\\"{self.filename},{elapsed}\\\")\";\n",
       "                var nbb_cells = Jupyter.notebook.get_cells();\n",
       "                for (var i = 0; i < nbb_cells.length; ++i) {\n",
       "                    if (nbb_cells[i].input_prompt_number == nbb_cell_id) {\n",
       "                        if (nbb_cells[i].get_text() == nbb_unformatted_code) {\n",
       "                             nbb_cells[i].set_text(nbb_formatted_code);\n",
       "                        }\n",
       "                        break;\n",
       "                    }\n",
       "                }\n",
       "            }, 500);\n",
       "            "
      ],
      "text/plain": [
       "<IPython.core.display.Javascript object>"
      ]
     },
     "metadata": {},
     "output_type": "display_data"
    }
   ],
   "source": [
    "# export\n",
    "\n",
    "import aiobotocore\n",
    "\n",
    "AWS_ACCESS_KEY_ID = \"minioadmin\"\n",
    "AWS_SECRET_ACCESS_KEY = \"minioadmin\"\n",
    "\n",
    "# session = aiobotocore.get_session()\n",
    "\n",
    "\n",
    "class AsyncMinioResponse(FileResponse):\n",
    "    minio = True\n",
    "\n",
    "    def __init__(self, *args, **kwargs):\n",
    "        self.started_serving = time.perf_counter()\n",
    "        self.chunk_size = kwargs.pop(\"chunk_size\", 4096)\n",
    "        self.bucket = kwargs.pop(\"bucket\", None)\n",
    "        self.key = kwargs.pop(\"key\", None)\n",
    "        self.filename = self.key\n",
    "        super().__init__(*args, **kwargs)\n",
    "        self.headers[\"Content-Type\"] = \"application/octet-stream\"\n",
    "\n",
    "#     def __aiter__(self):\n",
    "#         return self\n",
    "\n",
    "#     async def __anext__(self):\n",
    "#         while self.more_body:\n",
    "#             chunk = await self.minio_stream.read(self.chunk_size)\n",
    "#             self.more_body = len(chunk) == self.chunk_size\n",
    "#             return self.more_body, chunk\n",
    "\n",
    "#         self.client.close()\n",
    "#         raise StopAsyncIteration\n",
    "\n",
    "    def close(self):\n",
    "        super().close()\n",
    "        elapsed = time.perf_counter() - self.started_serving\n",
    "        logger.info(f\"{self.filename},{elapsed}\")"
   ]
  },
  {
   "cell_type": "code",
   "execution_count": null,
   "id": "f97f7598",
   "metadata": {},
   "outputs": [
    {
     "name": "stdout",
     "output_type": "stream",
     "text": [
      "Converted 00_index.ipynb.\n",
      "Converted 01_host.ipynb.\n",
      "Converted 02_file.ipynb.\n",
      "Converted 03_registry.ipynb.\n",
      "Converted 04_epochs.ipynb.\n",
      "Converted 10_servers.ipynb.\n",
      "Converted 11_fastapi_main.ipynb.\n",
      "Converted 12_django_views.ipynb.\n",
      "Converted 13_django_handlers.ipynb.\n",
      "Converted 14_django_http.ipynb.\n",
      "Converted 15_django_asgi.ipynb.\n",
      "Converted 15_django_async_settings.ipynb.\n",
      "Converted 15_django_settings.ipynb.\n",
      "Converted 15_django_urls.ipynb.\n",
      "Converted 15_django_wsgi.ipynb.\n",
      "Converted 16_minio.ipynb.\n",
      "Converted 16_servers_started_locally.ipynb.\n",
      "Converted 16_servers_started_via_docker.ipynb.\n",
      "Converted 20_clients.ipynb.\n",
      "Converted 21_benchmark_client_implementations.ipynb.\n",
      "Converted 22_gevent_client.ipynb.\n",
      "Converted 30_control_server.ipynb.\n",
      "Converted 31_control_client.ipynb.\n",
      "Converted 32_control_cli.ipynb.\n",
      "Converted 40_results.ipynb.\n",
      "Converted 41_repositories.ipynb.\n",
      "Converted 42_sqlite_repository.ipynb.\n",
      "Converted 50_benchmark_without_benchmark.ipynb.\n",
      "Converted 51_benchmark_remote_control_server.ipynb.\n",
      "Converted 52_benchmark_from_config.ipynb.\n",
      "Converted 52_generate_files_for_benchmark.ipynb.\n",
      "Converted 53_analyze.ipynb.\n",
      "Converted 54_measure_with_plots.ipynb.\n",
      "Converted 54_measure_with_plots_not_gevent.ipynb.\n",
      "Converted 55_create_minio_files.ipynb.\n",
      "Converted 60_legacy.ipynb.\n",
      "Converted 61_run_benchmark.ipynb.\n"
     ]
    },
    {
     "data": {
      "application/javascript": [
       "\n",
       "            setTimeout(function() {\n",
       "                var nbb_cell_id = 29;\n",
       "                var nbb_unformatted_code = \"# hide\\n# dont_test\\n\\nfrom nbdev.export import notebook2script\\n\\nnotebook2script()\";\n",
       "                var nbb_formatted_code = \"# hide\\n# dont_test\\n\\nfrom nbdev.export import notebook2script\\n\\nnotebook2script()\";\n",
       "                var nbb_cells = Jupyter.notebook.get_cells();\n",
       "                for (var i = 0; i < nbb_cells.length; ++i) {\n",
       "                    if (nbb_cells[i].input_prompt_number == nbb_cell_id) {\n",
       "                        if (nbb_cells[i].get_text() == nbb_unformatted_code) {\n",
       "                             nbb_cells[i].set_text(nbb_formatted_code);\n",
       "                        }\n",
       "                        break;\n",
       "                    }\n",
       "                }\n",
       "            }, 500);\n",
       "            "
      ],
      "text/plain": [
       "<IPython.core.display.Javascript object>"
      ]
     },
     "metadata": {},
     "output_type": "display_data"
    }
   ],
   "source": [
    "# hide\n",
    "# dont_test\n",
    "\n",
    "from nbdev.export import notebook2script\n",
    "\n",
    "notebook2script()"
   ]
  },
  {
   "cell_type": "code",
   "execution_count": null,
   "id": "9d83d24a",
   "metadata": {},
   "outputs": [],
   "source": []
  }
 ],
 "metadata": {
  "kernelspec": {
   "display_name": "Python 3",
   "language": "python",
   "name": "python3"
  }
 },
 "nbformat": 4,
 "nbformat_minor": 5
}
