{
 "cells": [
  {
   "cell_type": "code",
   "execution_count": 1,
   "id": "naughty-psychiatry",
   "metadata": {},
   "outputs": [
    {
     "data": {
      "application/javascript": [
       "\n",
       "            setTimeout(function() {\n",
       "                var nbb_cell_id = 1;\n",
       "                var nbb_unformatted_code = \"%load_ext nb_black\";\n",
       "                var nbb_formatted_code = \"%load_ext nb_black\";\n",
       "                var nbb_cells = Jupyter.notebook.get_cells();\n",
       "                for (var i = 0; i < nbb_cells.length; ++i) {\n",
       "                    if (nbb_cells[i].input_prompt_number == nbb_cell_id) {\n",
       "                        if (nbb_cells[i].get_text() == nbb_unformatted_code) {\n",
       "                             nbb_cells[i].set_text(nbb_formatted_code);\n",
       "                        }\n",
       "                        break;\n",
       "                    }\n",
       "                }\n",
       "            }, 500);\n",
       "            "
      ],
      "text/plain": [
       "<IPython.core.display.Javascript object>"
      ]
     },
     "metadata": {},
     "output_type": "display_data"
    }
   ],
   "source": [
    "%load_ext nb_black"
   ]
  },
  {
   "cell_type": "code",
   "execution_count": 13,
   "id": "aerial-money",
   "metadata": {},
   "outputs": [
    {
     "data": {
      "application/javascript": [
       "\n",
       "            setTimeout(function() {\n",
       "                var nbb_cell_id = 13;\n",
       "                var nbb_unformatted_code = \"import httpx\\n\\nfrom urllib.parse import urljoin\\n\\nfrom will_it_saturate.server import (\\n    FastAPIUvicornServer,\\n    NginxDockerServer,\\n    DjangoGunicornWSGIServer,\\n)\\nfrom will_it_saturate.core import FilesystemCreator, Epoch, Result, BenchmarkFile\\nfrom will_it_saturate.client import HttpxClient, AioHttpClient, WrkClient\\nfrom will_it_saturate.persistence import SqliteRepository\";\n",
       "                var nbb_formatted_code = \"import httpx\\n\\nfrom urllib.parse import urljoin\\n\\nfrom will_it_saturate.server import (\\n    FastAPIUvicornServer,\\n    NginxDockerServer,\\n    DjangoGunicornWSGIServer,\\n)\\nfrom will_it_saturate.core import FilesystemCreator, Epoch, Result, BenchmarkFile\\nfrom will_it_saturate.client import HttpxClient, AioHttpClient, WrkClient\\nfrom will_it_saturate.persistence import SqliteRepository\";\n",
       "                var nbb_cells = Jupyter.notebook.get_cells();\n",
       "                for (var i = 0; i < nbb_cells.length; ++i) {\n",
       "                    if (nbb_cells[i].input_prompt_number == nbb_cell_id) {\n",
       "                        if (nbb_cells[i].get_text() == nbb_unformatted_code) {\n",
       "                             nbb_cells[i].set_text(nbb_formatted_code);\n",
       "                        }\n",
       "                        break;\n",
       "                    }\n",
       "                }\n",
       "            }, 500);\n",
       "            "
      ],
      "text/plain": [
       "<IPython.core.display.Javascript object>"
      ]
     },
     "metadata": {},
     "output_type": "display_data"
    }
   ],
   "source": [
    "import httpx\n",
    "\n",
    "from urllib.parse import urljoin\n",
    "\n",
    "from will_it_saturate.server import (\n",
    "    FastAPIUvicornServer,\n",
    "    NginxDockerServer,\n",
    "    DjangoGunicornWSGIServer,\n",
    ")\n",
    "from will_it_saturate.core import FilesystemCreator, Epoch, Result, BenchmarkFile\n",
    "from will_it_saturate.client import HttpxClient, AioHttpClient, WrkClient\n",
    "from will_it_saturate.persistence import SqliteRepository"
   ]
  },
  {
   "cell_type": "markdown",
   "id": "inappropriate-brazil",
   "metadata": {},
   "source": [
    "# Local Benchmark"
   ]
  },
  {
   "cell_type": "code",
   "execution_count": null,
   "id": "naughty-actress",
   "metadata": {},
   "outputs": [
    {
     "data": {
      "application/javascript": [
       "\n",
       "            setTimeout(function() {\n",
       "                var nbb_cell_id = 2;\n",
       "                var nbb_unformatted_code = \"# dont_test\\n\\nbyte = 8\\ngigabit = 10 ** 9\\nbandwidth = gigabit / byte\\nduration = 3\\nfile_size = 10 ** 7\\nfile_creator = FilesystemCreator()\\n\\n\\n# server = DjangoGunicornWSGIServer()\\nserver = FastAPIUvicornServer()\\n# client = AioHttpClient(name=\\\"aiohttp\\\")\\nclient = HttpxClient(name=\\\"httpx\\\")\\n# repository = SqliteRepository.build_repository(\\\"foo.db\\\")\\n\\nepoch = Epoch(file_size=file_size, duration=duration, file_creator=file_creator)\\n\\nepoch.create_files()\\n\\nresult = BenchmarkResult(\\n    server=server.name,\\n    client=client.name,\\n    file_size=epoch.file_size,\\n    complete_size=epoch.complete_size,\\n)\\n\\nif not server.started:\\n    server.start\\n\\n# result.elapsed = client.measure(epoch)\";\n",
       "                var nbb_formatted_code = \"# dont_test\\n\\nbyte = 8\\ngigabit = 10 ** 9\\nbandwidth = gigabit / byte\\nduration = 3\\nfile_size = 10 ** 7\\nfile_creator = FilesystemCreator()\\n\\n\\n# server = DjangoGunicornWSGIServer()\\nserver = FastAPIUvicornServer()\\n# client = AioHttpClient(name=\\\"aiohttp\\\")\\nclient = HttpxClient(name=\\\"httpx\\\")\\n# repository = SqliteRepository.build_repository(\\\"foo.db\\\")\\n\\nepoch = Epoch(file_size=file_size, duration=duration, file_creator=file_creator)\\n\\nepoch.create_files()\\n\\nresult = BenchmarkResult(\\n    server=server.name,\\n    client=client.name,\\n    file_size=epoch.file_size,\\n    complete_size=epoch.complete_size,\\n)\\n\\nif not server.started:\\n    server.start\\n\\n# result.elapsed = client.measure(epoch)\";\n",
       "                var nbb_cells = Jupyter.notebook.get_cells();\n",
       "                for (var i = 0; i < nbb_cells.length; ++i) {\n",
       "                    if (nbb_cells[i].input_prompt_number == nbb_cell_id) {\n",
       "                        if (nbb_cells[i].get_text() == nbb_unformatted_code) {\n",
       "                             nbb_cells[i].set_text(nbb_formatted_code);\n",
       "                        }\n",
       "                        break;\n",
       "                    }\n",
       "                }\n",
       "            }, 500);\n",
       "            "
      ],
      "text/plain": [
       "<IPython.core.display.Javascript object>"
      ]
     },
     "metadata": {},
     "output_type": "display_data"
    }
   ],
   "source": [
    "# dont_test\n",
    "\n",
    "byte = 8\n",
    "gigabit = 10 ** 9\n",
    "bandwidth = gigabit / byte\n",
    "duration = 3\n",
    "file_size = 10 ** 7\n",
    "file_creator = FilesystemCreator()\n",
    "\n",
    "\n",
    "# server = DjangoGunicornWSGIServer()\n",
    "server = FastAPIUvicornServer()\n",
    "# client = AioHttpClient(name=\"aiohttp\")\n",
    "client = HttpxClient(name=\"httpx\")\n",
    "# repository = SqliteRepository.build_repository(\"foo.db\")\n",
    "\n",
    "epoch = Epoch(file_size=file_size, duration=duration, file_creator=file_creator)\n",
    "\n",
    "epoch.create_files()\n",
    "\n",
    "result = BenchmarkResult(\n",
    "    server=server.name,\n",
    "    client=client.name,\n",
    "    file_size=epoch.file_size,\n",
    "    complete_size=epoch.complete_size,\n",
    ")\n",
    "\n",
    "if not server.started:\n",
    "    server.start\n",
    "\n",
    "result.elapsed = client.measure(epoch)"
   ]
  },
  {
   "cell_type": "markdown",
   "id": "nutritional-mobility",
   "metadata": {},
   "source": [
    "# Remote Benchmark"
   ]
  },
  {
   "cell_type": "code",
   "execution_count": 3,
   "id": "pleased-student",
   "metadata": {},
   "outputs": [
    {
     "data": {
      "application/javascript": [
       "\n",
       "            setTimeout(function() {\n",
       "                var nbb_cell_id = 3;\n",
       "                var nbb_unformatted_code = \"byte = 8\\ngigabit = 10 ** 9\\nbandwidth = gigabit / byte\\nduration = 3\\nfile_size = 10 ** 7\\nfile_creator = FilesystemCreator()\\n\\nepoch = Epoch(file_size=file_size, duration=duration, file_creator=file_creator)\";\n",
       "                var nbb_formatted_code = \"byte = 8\\ngigabit = 10 ** 9\\nbandwidth = gigabit / byte\\nduration = 3\\nfile_size = 10 ** 7\\nfile_creator = FilesystemCreator()\\n\\nepoch = Epoch(file_size=file_size, duration=duration, file_creator=file_creator)\";\n",
       "                var nbb_cells = Jupyter.notebook.get_cells();\n",
       "                for (var i = 0; i < nbb_cells.length; ++i) {\n",
       "                    if (nbb_cells[i].input_prompt_number == nbb_cell_id) {\n",
       "                        if (nbb_cells[i].get_text() == nbb_unformatted_code) {\n",
       "                             nbb_cells[i].set_text(nbb_formatted_code);\n",
       "                        }\n",
       "                        break;\n",
       "                    }\n",
       "                }\n",
       "            }, 500);\n",
       "            "
      ],
      "text/plain": [
       "<IPython.core.display.Javascript object>"
      ]
     },
     "metadata": {},
     "output_type": "display_data"
    }
   ],
   "source": [
    "byte = 8\n",
    "gigabit = 10 ** 9\n",
    "bandwidth = gigabit / byte\n",
    "duration = 3\n",
    "file_size = 10 ** 7\n",
    "file_creator = FilesystemCreator()\n",
    "\n",
    "epoch = Epoch(file_size=file_size, duration=duration, file_creator=file_creator)"
   ]
  },
  {
   "cell_type": "code",
   "execution_count": 11,
   "id": "contemporary-connecticut",
   "metadata": {},
   "outputs": [
    {
     "name": "stdout",
     "output_type": "stream",
     "text": [
      "200 6\n"
     ]
    },
    {
     "data": {
      "application/javascript": [
       "\n",
       "            setTimeout(function() {\n",
       "                var nbb_cell_id = 11;\n",
       "                var nbb_unformatted_code = \"control_base = \\\"http://localhost:8001/\\\"\\ncontrol_epochs = urljoin(control_base, \\\"epochs/\\\")\\n\\nr = httpx.post(control_epochs, json=epoch.dict_without_file_creator())\\nprint(r.status_code, len(r.json()))\";\n",
       "                var nbb_formatted_code = \"control_base = \\\"http://localhost:8001/\\\"\\ncontrol_epochs = urljoin(control_base, \\\"epochs/\\\")\\n\\nr = httpx.post(control_epochs, json=epoch.dict_without_file_creator())\\nprint(r.status_code, len(r.json()))\";\n",
       "                var nbb_cells = Jupyter.notebook.get_cells();\n",
       "                for (var i = 0; i < nbb_cells.length; ++i) {\n",
       "                    if (nbb_cells[i].input_prompt_number == nbb_cell_id) {\n",
       "                        if (nbb_cells[i].get_text() == nbb_unformatted_code) {\n",
       "                             nbb_cells[i].set_text(nbb_formatted_code);\n",
       "                        }\n",
       "                        break;\n",
       "                    }\n",
       "                }\n",
       "            }, 500);\n",
       "            "
      ],
      "text/plain": [
       "<IPython.core.display.Javascript object>"
      ]
     },
     "metadata": {},
     "output_type": "display_data"
    }
   ],
   "source": [
    "control_base = \"http://localhost:8001/\"\n",
    "control_epochs = urljoin(control_base, \"epochs/\")\n",
    "\n",
    "r = httpx.post(control_epochs, json=epoch.dict_without_file_creator())\n",
    "print(r.status_code, len(r.json()))"
   ]
  },
  {
   "cell_type": "code",
   "execution_count": 15,
   "id": "chinese-shower",
   "metadata": {},
   "outputs": [
    {
     "data": {
      "text/plain": [
       "{'file_size': 10000000,\n",
       " 'duration': 3,\n",
       " 'bandwidth': 125000000,\n",
       " 'files': [{'number': 0,\n",
       "   'base_path': '10000000_3_125000000',\n",
       "   'size': 10000000,\n",
       "   'data_root': 'data',\n",
       "   'hostname': 'localhost',\n",
       "   'port': 8000,\n",
       "   'checksum': '61d3e3ca52e4878ed4b9751d204e64d9',\n",
       "   'creator': {}},\n",
       "  {'number': 1,\n",
       "   'base_path': '10000000_3_125000000',\n",
       "   'size': 10000000,\n",
       "   'data_root': 'data',\n",
       "   'hostname': 'localhost',\n",
       "   'port': 8000,\n",
       "   'checksum': 'd1d4eceb00bbfcae752984ad735ef906',\n",
       "   'creator': {}},\n",
       "  {'number': 2,\n",
       "   'base_path': '10000000_3_125000000',\n",
       "   'size': 10000000,\n",
       "   'data_root': 'data',\n",
       "   'hostname': 'localhost',\n",
       "   'port': 8000,\n",
       "   'checksum': 'e62db9c0c03f92d446d9d51d6b98db03',\n",
       "   'creator': {}},\n",
       "  {'number': 3,\n",
       "   'base_path': '10000000_3_125000000',\n",
       "   'size': 10000000,\n",
       "   'data_root': 'data',\n",
       "   'hostname': 'localhost',\n",
       "   'port': 8000,\n",
       "   'checksum': '259b3debe22dbf7a8252046889bcff4b',\n",
       "   'creator': {}},\n",
       "  {'number': 4,\n",
       "   'base_path': '10000000_3_125000000',\n",
       "   'size': 10000000,\n",
       "   'data_root': 'data',\n",
       "   'hostname': 'localhost',\n",
       "   'port': 8000,\n",
       "   'checksum': '3cf374628944b5179573b16f1a09cccb',\n",
       "   'creator': {}},\n",
       "  {'number': 5,\n",
       "   'base_path': '10000000_3_125000000',\n",
       "   'size': 10000000,\n",
       "   'data_root': 'data',\n",
       "   'hostname': 'localhost',\n",
       "   'port': 8000,\n",
       "   'checksum': 'f51c038acb664f330e31ad4729645f51',\n",
       "   'creator': {}},\n",
       "  {'number': 6,\n",
       "   'base_path': '10000000_3_125000000',\n",
       "   'size': 10000000,\n",
       "   'data_root': 'data',\n",
       "   'hostname': 'localhost',\n",
       "   'port': 8000,\n",
       "   'checksum': 'ccce124ccfb9d3ccda0a75bfed81af42',\n",
       "   'creator': {}},\n",
       "  {'number': 7,\n",
       "   'base_path': '10000000_3_125000000',\n",
       "   'size': 10000000,\n",
       "   'data_root': 'data',\n",
       "   'hostname': 'localhost',\n",
       "   'port': 8000,\n",
       "   'checksum': '634327942266338a97cc5726d7a30708',\n",
       "   'creator': {}},\n",
       "  {'number': 8,\n",
       "   'base_path': '10000000_3_125000000',\n",
       "   'size': 10000000,\n",
       "   'data_root': 'data',\n",
       "   'hostname': 'localhost',\n",
       "   'port': 8000,\n",
       "   'checksum': '14c048531388144af1fa2a849b3b6249',\n",
       "   'creator': {}},\n",
       "  {'number': 9,\n",
       "   'base_path': '10000000_3_125000000',\n",
       "   'size': 10000000,\n",
       "   'data_root': 'data',\n",
       "   'hostname': 'localhost',\n",
       "   'port': 8000,\n",
       "   'checksum': '60788e917167b42d79bddbfc0135594a',\n",
       "   'creator': {}},\n",
       "  {'number': 10,\n",
       "   'base_path': '10000000_3_125000000',\n",
       "   'size': 10000000,\n",
       "   'data_root': 'data',\n",
       "   'hostname': 'localhost',\n",
       "   'port': 8000,\n",
       "   'checksum': '9b24bf47322a113da7b77f64bfa9d6a8',\n",
       "   'creator': {}},\n",
       "  {'number': 11,\n",
       "   'base_path': '10000000_3_125000000',\n",
       "   'size': 10000000,\n",
       "   'data_root': 'data',\n",
       "   'hostname': 'localhost',\n",
       "   'port': 8000,\n",
       "   'checksum': 'b3a5649a2db95c0c58ae0dc931426e1a',\n",
       "   'creator': {}},\n",
       "  {'number': 12,\n",
       "   'base_path': '10000000_3_125000000',\n",
       "   'size': 10000000,\n",
       "   'data_root': 'data',\n",
       "   'hostname': 'localhost',\n",
       "   'port': 8000,\n",
       "   'checksum': '6dff4feca8f44baff5fdf7d69ec0fa8c',\n",
       "   'creator': {}},\n",
       "  {'number': 13,\n",
       "   'base_path': '10000000_3_125000000',\n",
       "   'size': 10000000,\n",
       "   'data_root': 'data',\n",
       "   'hostname': 'localhost',\n",
       "   'port': 8000,\n",
       "   'checksum': 'ef3c17a9621ac2142d0e226660c81726',\n",
       "   'creator': {}},\n",
       "  {'number': 14,\n",
       "   'base_path': '10000000_3_125000000',\n",
       "   'size': 10000000,\n",
       "   'data_root': 'data',\n",
       "   'hostname': 'localhost',\n",
       "   'port': 8000,\n",
       "   'checksum': 'fea25944de76644ef3c679dc76446a67',\n",
       "   'creator': {}},\n",
       "  {'number': 15,\n",
       "   'base_path': '10000000_3_125000000',\n",
       "   'size': 10000000,\n",
       "   'data_root': 'data',\n",
       "   'hostname': 'localhost',\n",
       "   'port': 8000,\n",
       "   'checksum': '7fcccaa836be532f25d79d4eedcf5b34',\n",
       "   'creator': {}},\n",
       "  {'number': 16,\n",
       "   'base_path': '10000000_3_125000000',\n",
       "   'size': 10000000,\n",
       "   'data_root': 'data',\n",
       "   'hostname': 'localhost',\n",
       "   'port': 8000,\n",
       "   'checksum': '63202d8e26de798decd07f9c5b7b6cd8',\n",
       "   'creator': {}},\n",
       "  {'number': 17,\n",
       "   'base_path': '10000000_3_125000000',\n",
       "   'size': 10000000,\n",
       "   'data_root': 'data',\n",
       "   'hostname': 'localhost',\n",
       "   'port': 8000,\n",
       "   'checksum': '54eed13280c0e80f331e3f1290639c30',\n",
       "   'creator': {}},\n",
       "  {'number': 18,\n",
       "   'base_path': '10000000_3_125000000',\n",
       "   'size': 10000000,\n",
       "   'data_root': 'data',\n",
       "   'hostname': 'localhost',\n",
       "   'port': 8000,\n",
       "   'checksum': '6d5e3ad207dcd363063e0d1b00627b21',\n",
       "   'creator': {}},\n",
       "  {'number': 19,\n",
       "   'base_path': '10000000_3_125000000',\n",
       "   'size': 10000000,\n",
       "   'data_root': 'data',\n",
       "   'hostname': 'localhost',\n",
       "   'port': 8000,\n",
       "   'checksum': 'fc614959528e4418a553b7ba130cee44',\n",
       "   'creator': {}},\n",
       "  {'number': 20,\n",
       "   'base_path': '10000000_3_125000000',\n",
       "   'size': 10000000,\n",
       "   'data_root': 'data',\n",
       "   'hostname': 'localhost',\n",
       "   'port': 8000,\n",
       "   'checksum': '1298010995dfba96c768764e004cb5b0',\n",
       "   'creator': {}},\n",
       "  {'number': 21,\n",
       "   'base_path': '10000000_3_125000000',\n",
       "   'size': 10000000,\n",
       "   'data_root': 'data',\n",
       "   'hostname': 'localhost',\n",
       "   'port': 8000,\n",
       "   'checksum': '616ef327597b6919a55ee381dd77d105',\n",
       "   'creator': {}},\n",
       "  {'number': 22,\n",
       "   'base_path': '10000000_3_125000000',\n",
       "   'size': 10000000,\n",
       "   'data_root': 'data',\n",
       "   'hostname': 'localhost',\n",
       "   'port': 8000,\n",
       "   'checksum': '94d5d07c85730be279845c63ba60828f',\n",
       "   'creator': {}},\n",
       "  {'number': 23,\n",
       "   'base_path': '10000000_3_125000000',\n",
       "   'size': 10000000,\n",
       "   'data_root': 'data',\n",
       "   'hostname': 'localhost',\n",
       "   'port': 8000,\n",
       "   'checksum': 'f38a5dec753c7351a3594b7ae889fe64',\n",
       "   'creator': {}},\n",
       "  {'number': 24,\n",
       "   'base_path': '10000000_3_125000000',\n",
       "   'size': 10000000,\n",
       "   'data_root': 'data',\n",
       "   'hostname': 'localhost',\n",
       "   'port': 8000,\n",
       "   'checksum': 'a3ca72d1edebbb8bcc65fd265e816537',\n",
       "   'creator': {}},\n",
       "  {'number': 25,\n",
       "   'base_path': '10000000_3_125000000',\n",
       "   'size': 10000000,\n",
       "   'data_root': 'data',\n",
       "   'hostname': 'localhost',\n",
       "   'port': 8000,\n",
       "   'checksum': '81a9b8b03474af96396b89774ae5faad',\n",
       "   'creator': {}},\n",
       "  {'number': 26,\n",
       "   'base_path': '10000000_3_125000000',\n",
       "   'size': 10000000,\n",
       "   'data_root': 'data',\n",
       "   'hostname': 'localhost',\n",
       "   'port': 8000,\n",
       "   'checksum': 'c5ee420e9e9bcb932c5dd27121bdf36b',\n",
       "   'creator': {}},\n",
       "  {'number': 27,\n",
       "   'base_path': '10000000_3_125000000',\n",
       "   'size': 10000000,\n",
       "   'data_root': 'data',\n",
       "   'hostname': 'localhost',\n",
       "   'port': 8000,\n",
       "   'checksum': '59587606497e51b8baf397130b9ac39c',\n",
       "   'creator': {}},\n",
       "  {'number': 28,\n",
       "   'base_path': '10000000_3_125000000',\n",
       "   'size': 10000000,\n",
       "   'data_root': 'data',\n",
       "   'hostname': 'localhost',\n",
       "   'port': 8000,\n",
       "   'checksum': '8e63c43d8fab1a249fab318f2b399f66',\n",
       "   'creator': {}},\n",
       "  {'number': 29,\n",
       "   'base_path': '10000000_3_125000000',\n",
       "   'size': 10000000,\n",
       "   'data_root': 'data',\n",
       "   'hostname': 'localhost',\n",
       "   'port': 8000,\n",
       "   'checksum': 'd245ebff41cb5f3ce8787049af859ef9',\n",
       "   'creator': {}},\n",
       "  {'number': 30,\n",
       "   'base_path': '10000000_3_125000000',\n",
       "   'size': 10000000,\n",
       "   'data_root': 'data',\n",
       "   'hostname': 'localhost',\n",
       "   'port': 8000,\n",
       "   'checksum': 'b9e8197757546b1e38f99f885d9c82a0',\n",
       "   'creator': {}},\n",
       "  {'number': 31,\n",
       "   'base_path': '10000000_3_125000000',\n",
       "   'size': 10000000,\n",
       "   'data_root': 'data',\n",
       "   'hostname': 'localhost',\n",
       "   'port': 8000,\n",
       "   'checksum': 'c0219af7b4b449694b60997d1105e8f9',\n",
       "   'creator': {}},\n",
       "  {'number': 32,\n",
       "   'base_path': '10000000_3_125000000',\n",
       "   'size': 10000000,\n",
       "   'data_root': 'data',\n",
       "   'hostname': 'localhost',\n",
       "   'port': 8000,\n",
       "   'checksum': '96543766e1c8d6877b183e890bbbf088',\n",
       "   'creator': {}},\n",
       "  {'number': 33,\n",
       "   'base_path': '10000000_3_125000000',\n",
       "   'size': 10000000,\n",
       "   'data_root': 'data',\n",
       "   'hostname': 'localhost',\n",
       "   'port': 8000,\n",
       "   'checksum': 'bca583ee256bf81f9685806173edc946',\n",
       "   'creator': {}},\n",
       "  {'number': 34,\n",
       "   'base_path': '10000000_3_125000000',\n",
       "   'size': 10000000,\n",
       "   'data_root': 'data',\n",
       "   'hostname': 'localhost',\n",
       "   'port': 8000,\n",
       "   'checksum': 'd35643076e91196b964107ae72655477',\n",
       "   'creator': {}},\n",
       "  {'number': 35,\n",
       "   'base_path': '10000000_3_125000000',\n",
       "   'size': 10000000,\n",
       "   'data_root': 'data',\n",
       "   'hostname': 'localhost',\n",
       "   'port': 8000,\n",
       "   'checksum': 'c0ff17d0291eb5eb041762e770626018',\n",
       "   'creator': {}},\n",
       "  {'number': 36,\n",
       "   'base_path': '10000000_3_125000000',\n",
       "   'size': 10000000,\n",
       "   'data_root': 'data',\n",
       "   'hostname': 'localhost',\n",
       "   'port': 8000,\n",
       "   'checksum': 'a6df1885dc0e994b61e7a3afe5e51ee9',\n",
       "   'creator': {}},\n",
       "  {'number': 37,\n",
       "   'base_path': '10000000_3_125000000',\n",
       "   'size': 10000000,\n",
       "   'data_root': 'data',\n",
       "   'hostname': 'localhost',\n",
       "   'port': 8000,\n",
       "   'checksum': '716231c31ed4a72080a4686f5dd6e1be',\n",
       "   'creator': {}}],\n",
       " 'file_creator': {},\n",
       " 'data_root': 'data'}"
      ]
     },
     "execution_count": 15,
     "metadata": {},
     "output_type": "execute_result"
    },
    {
     "data": {
      "application/javascript": [
       "\n",
       "            setTimeout(function() {\n",
       "                var nbb_cell_id = 15;\n",
       "                var nbb_unformatted_code = \"r.json()\";\n",
       "                var nbb_formatted_code = \"r.json()\";\n",
       "                var nbb_cells = Jupyter.notebook.get_cells();\n",
       "                for (var i = 0; i < nbb_cells.length; ++i) {\n",
       "                    if (nbb_cells[i].input_prompt_number == nbb_cell_id) {\n",
       "                        if (nbb_cells[i].get_text() == nbb_unformatted_code) {\n",
       "                             nbb_cells[i].set_text(nbb_formatted_code);\n",
       "                        }\n",
       "                        break;\n",
       "                    }\n",
       "                }\n",
       "            }, 500);\n",
       "            "
      ],
      "text/plain": [
       "<IPython.core.display.Javascript object>"
      ]
     },
     "metadata": {},
     "output_type": "display_data"
    }
   ],
   "source": [
    "r.json()"
   ]
  },
  {
   "cell_type": "code",
   "execution_count": 17,
   "id": "auburn-willow",
   "metadata": {},
   "outputs": [
    {
     "data": {
      "application/javascript": [
       "\n",
       "            setTimeout(function() {\n",
       "                var nbb_cell_id = 17;\n",
       "                var nbb_unformatted_code = \"for bfile in r.json()[\\\"files\\\"]:\\n    kwargs = {k: v for k, v in bfile.items() if k != \\\"creator\\\"}\\n    epoch.files.append(BenchmarkFile(**kwargs))\";\n",
       "                var nbb_formatted_code = \"for bfile in r.json()[\\\"files\\\"]:\\n    kwargs = {k: v for k, v in bfile.items() if k != \\\"creator\\\"}\\n    epoch.files.append(BenchmarkFile(**kwargs))\";\n",
       "                var nbb_cells = Jupyter.notebook.get_cells();\n",
       "                for (var i = 0; i < nbb_cells.length; ++i) {\n",
       "                    if (nbb_cells[i].input_prompt_number == nbb_cell_id) {\n",
       "                        if (nbb_cells[i].get_text() == nbb_unformatted_code) {\n",
       "                             nbb_cells[i].set_text(nbb_formatted_code);\n",
       "                        }\n",
       "                        break;\n",
       "                    }\n",
       "                }\n",
       "            }, 500);\n",
       "            "
      ],
      "text/plain": [
       "<IPython.core.display.Javascript object>"
      ]
     },
     "metadata": {},
     "output_type": "display_data"
    }
   ],
   "source": [
    "for bfile in r.json()[\"files\"]:\n",
    "    kwargs = {k: v for k, v in bfile.items() if k != \"creator\"}\n",
    "    epoch.files.append(BenchmarkFile(**kwargs))"
   ]
  },
  {
   "cell_type": "code",
   "execution_count": 5,
   "id": "departmental-animal",
   "metadata": {},
   "outputs": [
    {
     "data": {
      "application/javascript": [
       "\n",
       "            setTimeout(function() {\n",
       "                var nbb_cell_id = 5;\n",
       "                var nbb_unformatted_code = \"server = FastAPIUvicornServer()\";\n",
       "                var nbb_formatted_code = \"server = FastAPIUvicornServer()\";\n",
       "                var nbb_cells = Jupyter.notebook.get_cells();\n",
       "                for (var i = 0; i < nbb_cells.length; ++i) {\n",
       "                    if (nbb_cells[i].input_prompt_number == nbb_cell_id) {\n",
       "                        if (nbb_cells[i].get_text() == nbb_unformatted_code) {\n",
       "                             nbb_cells[i].set_text(nbb_formatted_code);\n",
       "                        }\n",
       "                        break;\n",
       "                    }\n",
       "                }\n",
       "            }, 500);\n",
       "            "
      ],
      "text/plain": [
       "<IPython.core.display.Javascript object>"
      ]
     },
     "metadata": {},
     "output_type": "display_data"
    }
   ],
   "source": [
    "server = FastAPIUvicornServer()"
   ]
  },
  {
   "cell_type": "code",
   "execution_count": 6,
   "id": "conceptual-bible",
   "metadata": {},
   "outputs": [
    {
     "data": {
      "text/plain": [
       "{'name': 'fastAPI/uvicorn'}"
      ]
     },
     "execution_count": 6,
     "metadata": {},
     "output_type": "execute_result"
    },
    {
     "data": {
      "application/javascript": [
       "\n",
       "            setTimeout(function() {\n",
       "                var nbb_cell_id = 6;\n",
       "                var nbb_unformatted_code = \"server.dict()\";\n",
       "                var nbb_formatted_code = \"server.dict()\";\n",
       "                var nbb_cells = Jupyter.notebook.get_cells();\n",
       "                for (var i = 0; i < nbb_cells.length; ++i) {\n",
       "                    if (nbb_cells[i].input_prompt_number == nbb_cell_id) {\n",
       "                        if (nbb_cells[i].get_text() == nbb_unformatted_code) {\n",
       "                             nbb_cells[i].set_text(nbb_formatted_code);\n",
       "                        }\n",
       "                        break;\n",
       "                    }\n",
       "                }\n",
       "            }, 500);\n",
       "            "
      ],
      "text/plain": [
       "<IPython.core.display.Javascript object>"
      ]
     },
     "metadata": {},
     "output_type": "display_data"
    }
   ],
   "source": [
    "server.dict()"
   ]
  },
  {
   "cell_type": "code",
   "execution_count": 7,
   "id": "affected-coast",
   "metadata": {},
   "outputs": [
    {
     "name": "stdout",
     "output_type": "stream",
     "text": [
      "200 {'name': 'fastAPI/uvicorn'}\n"
     ]
    },
    {
     "data": {
      "application/javascript": [
       "\n",
       "            setTimeout(function() {\n",
       "                var nbb_cell_id = 7;\n",
       "                var nbb_unformatted_code = \"server = FastAPIUvicornServer()\\ncontrol_servers = urljoin(control_base, \\\"servers/\\\")\\nr = httpx.post(control_servers, json=server.dict())\\nprint(r.status_code, r.json())\";\n",
       "                var nbb_formatted_code = \"server = FastAPIUvicornServer()\\ncontrol_servers = urljoin(control_base, \\\"servers/\\\")\\nr = httpx.post(control_servers, json=server.dict())\\nprint(r.status_code, r.json())\";\n",
       "                var nbb_cells = Jupyter.notebook.get_cells();\n",
       "                for (var i = 0; i < nbb_cells.length; ++i) {\n",
       "                    if (nbb_cells[i].input_prompt_number == nbb_cell_id) {\n",
       "                        if (nbb_cells[i].get_text() == nbb_unformatted_code) {\n",
       "                             nbb_cells[i].set_text(nbb_formatted_code);\n",
       "                        }\n",
       "                        break;\n",
       "                    }\n",
       "                }\n",
       "            }, 500);\n",
       "            "
      ],
      "text/plain": [
       "<IPython.core.display.Javascript object>"
      ]
     },
     "metadata": {},
     "output_type": "display_data"
    }
   ],
   "source": [
    "server = FastAPIUvicornServer()\n",
    "control_servers = urljoin(control_base, \"servers/\")\n",
    "r = httpx.post(control_servers, json=server.dict())\n",
    "print(r.status_code, r.json())"
   ]
  },
  {
   "cell_type": "code",
   "execution_count": 8,
   "id": "standard-decimal",
   "metadata": {},
   "outputs": [
    {
     "data": {
      "application/javascript": [
       "\n",
       "            setTimeout(function() {\n",
       "                var nbb_cell_id = 8;\n",
       "                var nbb_unformatted_code = \"client = HttpxClient(name=\\\"httpx\\\")\\n\\n\\nresult = Result(\\n    server=server.name,\\n    client=client.name,\\n    file_size=epoch.file_size,\\n    complete_size=epoch.complete_size,\\n)\";\n",
       "                var nbb_formatted_code = \"client = HttpxClient(name=\\\"httpx\\\")\\n\\n\\nresult = Result(\\n    server=server.name,\\n    client=client.name,\\n    file_size=epoch.file_size,\\n    complete_size=epoch.complete_size,\\n)\";\n",
       "                var nbb_cells = Jupyter.notebook.get_cells();\n",
       "                for (var i = 0; i < nbb_cells.length; ++i) {\n",
       "                    if (nbb_cells[i].input_prompt_number == nbb_cell_id) {\n",
       "                        if (nbb_cells[i].get_text() == nbb_unformatted_code) {\n",
       "                             nbb_cells[i].set_text(nbb_formatted_code);\n",
       "                        }\n",
       "                        break;\n",
       "                    }\n",
       "                }\n",
       "            }, 500);\n",
       "            "
      ],
      "text/plain": [
       "<IPython.core.display.Javascript object>"
      ]
     },
     "metadata": {},
     "output_type": "display_data"
    }
   ],
   "source": [
    "client = HttpxClient(name=\"httpx\")\n",
    "\n",
    "\n",
    "result = Result(\n",
    "    server=server.name,\n",
    "    client=client.name,\n",
    "    file_size=epoch.file_size,\n",
    "    complete_size=epoch.complete_size,\n",
    ")"
   ]
  },
  {
   "cell_type": "code",
   "execution_count": 18,
   "id": "round-array",
   "metadata": {},
   "outputs": [
    {
     "name": "stdout",
     "output_type": "stream",
     "text": [
      "measure\n",
      "CPU times: user 6.02 ms, sys: 9.19 ms, total: 15.2 ms\n",
      "Wall time: 8.89 s\n"
     ]
    },
    {
     "data": {
      "application/javascript": [
       "\n",
       "            setTimeout(function() {\n",
       "                var nbb_cell_id = 18;\n",
       "                var nbb_unformatted_code = \"%%time\\nresult.elapsed = client.measure(epoch)\";\n",
       "                var nbb_formatted_code = \"%%time\\nresult.elapsed = client.measure(epoch)\";\n",
       "                var nbb_cells = Jupyter.notebook.get_cells();\n",
       "                for (var i = 0; i < nbb_cells.length; ++i) {\n",
       "                    if (nbb_cells[i].input_prompt_number == nbb_cell_id) {\n",
       "                        if (nbb_cells[i].get_text() == nbb_unformatted_code) {\n",
       "                             nbb_cells[i].set_text(nbb_formatted_code);\n",
       "                        }\n",
       "                        break;\n",
       "                    }\n",
       "                }\n",
       "            }, 500);\n",
       "            "
      ],
      "text/plain": [
       "<IPython.core.display.Javascript object>"
      ]
     },
     "metadata": {},
     "output_type": "display_data"
    }
   ],
   "source": [
    "%%time\n",
    "result.elapsed = client.measure(epoch)"
   ]
  },
  {
   "cell_type": "code",
   "execution_count": 19,
   "id": "linear-artwork",
   "metadata": {},
   "outputs": [
    {
     "data": {
      "text/plain": [
       "Result(server='fastAPI/uvicorn', client='httpx', file_size=10000000, elapsed=6.465179579, complete_size=375000000)"
      ]
     },
     "execution_count": 19,
     "metadata": {},
     "output_type": "execute_result"
    },
    {
     "data": {
      "application/javascript": [
       "\n",
       "            setTimeout(function() {\n",
       "                var nbb_cell_id = 19;\n",
       "                var nbb_unformatted_code = \"result\";\n",
       "                var nbb_formatted_code = \"result\";\n",
       "                var nbb_cells = Jupyter.notebook.get_cells();\n",
       "                for (var i = 0; i < nbb_cells.length; ++i) {\n",
       "                    if (nbb_cells[i].input_prompt_number == nbb_cell_id) {\n",
       "                        if (nbb_cells[i].get_text() == nbb_unformatted_code) {\n",
       "                             nbb_cells[i].set_text(nbb_formatted_code);\n",
       "                        }\n",
       "                        break;\n",
       "                    }\n",
       "                }\n",
       "            }, 500);\n",
       "            "
      ],
      "text/plain": [
       "<IPython.core.display.Javascript object>"
      ]
     },
     "metadata": {},
     "output_type": "display_data"
    }
   ],
   "source": [
    "result"
   ]
  },
  {
   "cell_type": "code",
   "execution_count": 20,
   "id": "progressive-problem",
   "metadata": {},
   "outputs": [
    {
     "data": {
      "text/plain": [
       "58003029.21485176"
      ]
     },
     "execution_count": 20,
     "metadata": {},
     "output_type": "execute_result"
    },
    {
     "data": {
      "application/javascript": [
       "\n",
       "            setTimeout(function() {\n",
       "                var nbb_cell_id = 20;\n",
       "                var nbb_unformatted_code = \"result.bytes_per_second\";\n",
       "                var nbb_formatted_code = \"result.bytes_per_second\";\n",
       "                var nbb_cells = Jupyter.notebook.get_cells();\n",
       "                for (var i = 0; i < nbb_cells.length; ++i) {\n",
       "                    if (nbb_cells[i].input_prompt_number == nbb_cell_id) {\n",
       "                        if (nbb_cells[i].get_text() == nbb_unformatted_code) {\n",
       "                             nbb_cells[i].set_text(nbb_formatted_code);\n",
       "                        }\n",
       "                        break;\n",
       "                    }\n",
       "                }\n",
       "            }, 500);\n",
       "            "
      ],
      "text/plain": [
       "<IPython.core.display.Javascript object>"
      ]
     },
     "metadata": {},
     "output_type": "display_data"
    }
   ],
   "source": [
    "result.bytes_per_second"
   ]
  }
 ],
 "metadata": {
  "kernelspec": {
   "display_name": "Python 3",
   "language": "python",
   "name": "python3"
  },
  "language_info": {
   "codemirror_mode": {
    "name": "ipython",
    "version": 3
   },
   "file_extension": ".py",
   "mimetype": "text/x-python",
   "name": "python",
   "nbconvert_exporter": "python",
   "pygments_lexer": "ipython3",
   "version": "3.9.2"
  }
 },
 "nbformat": 4,
 "nbformat_minor": 5
}
