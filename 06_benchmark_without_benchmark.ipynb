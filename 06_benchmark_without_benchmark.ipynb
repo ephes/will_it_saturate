{
 "cells": [
  {
   "cell_type": "code",
   "execution_count": null,
   "id": "naughty-psychiatry",
   "metadata": {},
   "outputs": [
    {
     "name": "stdout",
     "output_type": "stream",
     "text": [
      "The nb_black extension is already loaded. To reload it, use:\n",
      "  %reload_ext nb_black\n"
     ]
    },
    {
     "data": {
      "application/javascript": [
       "\n",
       "            setTimeout(function() {\n",
       "                var nbb_cell_id = 5;\n",
       "                var nbb_unformatted_code = \"%load_ext nb_black\";\n",
       "                var nbb_formatted_code = \"%load_ext nb_black\";\n",
       "                var nbb_cells = Jupyter.notebook.get_cells();\n",
       "                for (var i = 0; i < nbb_cells.length; ++i) {\n",
       "                    if (nbb_cells[i].input_prompt_number == nbb_cell_id) {\n",
       "                        if (nbb_cells[i].get_text() == nbb_unformatted_code) {\n",
       "                             nbb_cells[i].set_text(nbb_formatted_code);\n",
       "                        }\n",
       "                        break;\n",
       "                    }\n",
       "                }\n",
       "            }, 500);\n",
       "            "
      ],
      "text/plain": [
       "<IPython.core.display.Javascript object>"
      ]
     },
     "metadata": {},
     "output_type": "display_data"
    }
   ],
   "source": [
    "%load_ext nb_black"
   ]
  },
  {
   "cell_type": "code",
   "execution_count": null,
   "id": "aerial-money",
   "metadata": {},
   "outputs": [
    {
     "data": {
      "application/javascript": [
       "\n",
       "            setTimeout(function() {\n",
       "                var nbb_cell_id = 10;\n",
       "                var nbb_unformatted_code = \"import httpx\\n\\nfrom urllib.parse import urljoin\\n\\nfrom will_it_saturate.server import (\\n    FastAPIUvicornServer,\\n    NginxDockerServer,\\n    DjangoGunicornWSGIServer,\\n)\\nfrom will_it_saturate.core import FilesystemCreator, Epoch, Result\\nfrom will_it_saturate.client import HttpxClient, AioHttpClient, WrkClient\\nfrom will_it_saturate.persistence import SqliteRepository\";\n",
       "                var nbb_formatted_code = \"import httpx\\n\\nfrom urllib.parse import urljoin\\n\\nfrom will_it_saturate.server import (\\n    FastAPIUvicornServer,\\n    NginxDockerServer,\\n    DjangoGunicornWSGIServer,\\n)\\nfrom will_it_saturate.core import FilesystemCreator, Epoch, Result\\nfrom will_it_saturate.client import HttpxClient, AioHttpClient, WrkClient\\nfrom will_it_saturate.persistence import SqliteRepository\";\n",
       "                var nbb_cells = Jupyter.notebook.get_cells();\n",
       "                for (var i = 0; i < nbb_cells.length; ++i) {\n",
       "                    if (nbb_cells[i].input_prompt_number == nbb_cell_id) {\n",
       "                        if (nbb_cells[i].get_text() == nbb_unformatted_code) {\n",
       "                             nbb_cells[i].set_text(nbb_formatted_code);\n",
       "                        }\n",
       "                        break;\n",
       "                    }\n",
       "                }\n",
       "            }, 500);\n",
       "            "
      ],
      "text/plain": [
       "<IPython.core.display.Javascript object>"
      ]
     },
     "metadata": {},
     "output_type": "display_data"
    }
   ],
   "source": [
    "import httpx\n",
    "\n",
    "from urllib.parse import urljoin\n",
    "\n",
    "from will_it_saturate.server import (\n",
    "    FastAPIUvicornServer,\n",
    "    NginxDockerServer,\n",
    "    DjangoGunicornWSGIServer,\n",
    ")\n",
    "from will_it_saturate.core import FilesystemCreator, Epoch, Result\n",
    "from will_it_saturate.client import HttpxClient, AioHttpClient, WrkClient\n",
    "from will_it_saturate.persistence import SqliteRepository"
   ]
  },
  {
   "cell_type": "code",
   "execution_count": null,
   "id": "naughty-actress",
   "metadata": {},
   "outputs": [
    {
     "data": {
      "application/javascript": [
       "\n",
       "            setTimeout(function() {\n",
       "                var nbb_cell_id = 2;\n",
       "                var nbb_unformatted_code = \"# dont_test\\n\\nbyte = 8\\ngigabit = 10 ** 9\\nbandwidth = gigabit / byte\\nduration = 3\\nfile_size = 10 ** 7\\nfile_creator = FilesystemCreator()\\n\\n\\n# server = DjangoGunicornWSGIServer()\\nserver = FastAPIUvicornServer()\\n# client = AioHttpClient(name=\\\"aiohttp\\\")\\nclient = HttpxClient(name=\\\"httpx\\\")\\n# repository = SqliteRepository.build_repository(\\\"foo.db\\\")\\n\\nepoch = Epoch(file_size=file_size, duration=duration, file_creator=file_creator)\\n\\nepoch.create_files()\\n\\nresult = BenchmarkResult(\\n    server=server.name,\\n    client=client.name,\\n    file_size=epoch.file_size,\\n    complete_size=epoch.complete_size,\\n)\\n\\nif not server.started:\\n    server.start\\n\\n# result.elapsed = client.measure(epoch)\";\n",
       "                var nbb_formatted_code = \"# dont_test\\n\\nbyte = 8\\ngigabit = 10 ** 9\\nbandwidth = gigabit / byte\\nduration = 3\\nfile_size = 10 ** 7\\nfile_creator = FilesystemCreator()\\n\\n\\n# server = DjangoGunicornWSGIServer()\\nserver = FastAPIUvicornServer()\\n# client = AioHttpClient(name=\\\"aiohttp\\\")\\nclient = HttpxClient(name=\\\"httpx\\\")\\n# repository = SqliteRepository.build_repository(\\\"foo.db\\\")\\n\\nepoch = Epoch(file_size=file_size, duration=duration, file_creator=file_creator)\\n\\nepoch.create_files()\\n\\nresult = BenchmarkResult(\\n    server=server.name,\\n    client=client.name,\\n    file_size=epoch.file_size,\\n    complete_size=epoch.complete_size,\\n)\\n\\nif not server.started:\\n    server.start\\n\\n# result.elapsed = client.measure(epoch)\";\n",
       "                var nbb_cells = Jupyter.notebook.get_cells();\n",
       "                for (var i = 0; i < nbb_cells.length; ++i) {\n",
       "                    if (nbb_cells[i].input_prompt_number == nbb_cell_id) {\n",
       "                        if (nbb_cells[i].get_text() == nbb_unformatted_code) {\n",
       "                             nbb_cells[i].set_text(nbb_formatted_code);\n",
       "                        }\n",
       "                        break;\n",
       "                    }\n",
       "                }\n",
       "            }, 500);\n",
       "            "
      ],
      "text/plain": [
       "<IPython.core.display.Javascript object>"
      ]
     },
     "metadata": {},
     "output_type": "display_data"
    }
   ],
   "source": [
    "# dont_test\n",
    "\n",
    "byte = 8\n",
    "gigabit = 10 ** 9\n",
    "bandwidth = gigabit / byte\n",
    "duration = 3\n",
    "file_size = 10 ** 7\n",
    "file_creator = FilesystemCreator()\n",
    "\n",
    "\n",
    "# server = DjangoGunicornWSGIServer()\n",
    "server = FastAPIUvicornServer()\n",
    "# client = AioHttpClient(name=\"aiohttp\")\n",
    "client = HttpxClient(name=\"httpx\")\n",
    "# repository = SqliteRepository.build_repository(\"foo.db\")\n",
    "\n",
    "epoch = Epoch(file_size=file_size, duration=duration, file_creator=file_creator)\n",
    "\n",
    "epoch.create_files()\n",
    "\n",
    "result = BenchmarkResult(\n",
    "    server=server.name,\n",
    "    client=client.name,\n",
    "    file_size=epoch.file_size,\n",
    "    complete_size=epoch.complete_size,\n",
    ")\n",
    "\n",
    "if not server.started:\n",
    "    server.start\n",
    "\n",
    "# result.elapsed = client.measure(epoch)"
   ]
  },
  {
   "cell_type": "code",
   "execution_count": null,
   "id": "integrated-tennessee",
   "metadata": {},
   "outputs": [
    {
     "data": {
      "application/javascript": [
       "\n",
       "            setTimeout(function() {\n",
       "                var nbb_cell_id = 3;\n",
       "                var nbb_unformatted_code = \"server.start()\";\n",
       "                var nbb_formatted_code = \"server.start()\";\n",
       "                var nbb_cells = Jupyter.notebook.get_cells();\n",
       "                for (var i = 0; i < nbb_cells.length; ++i) {\n",
       "                    if (nbb_cells[i].input_prompt_number == nbb_cell_id) {\n",
       "                        if (nbb_cells[i].get_text() == nbb_unformatted_code) {\n",
       "                             nbb_cells[i].set_text(nbb_formatted_code);\n",
       "                        }\n",
       "                        break;\n",
       "                    }\n",
       "                }\n",
       "            }, 500);\n",
       "            "
      ],
      "text/plain": [
       "<IPython.core.display.Javascript object>"
      ]
     },
     "metadata": {},
     "output_type": "display_data"
    }
   ],
   "source": [
    "server.start()"
   ]
  },
  {
   "cell_type": "code",
   "execution_count": null,
   "id": "wicked-private",
   "metadata": {},
   "outputs": [
    {
     "data": {
      "text/plain": [
       "True"
      ]
     },
     "execution_count": null,
     "metadata": {},
     "output_type": "execute_result"
    },
    {
     "data": {
      "application/javascript": [
       "\n",
       "            setTimeout(function() {\n",
       "                var nbb_cell_id = 4;\n",
       "                var nbb_unformatted_code = \"server.started\";\n",
       "                var nbb_formatted_code = \"server.started\";\n",
       "                var nbb_cells = Jupyter.notebook.get_cells();\n",
       "                for (var i = 0; i < nbb_cells.length; ++i) {\n",
       "                    if (nbb_cells[i].input_prompt_number == nbb_cell_id) {\n",
       "                        if (nbb_cells[i].get_text() == nbb_unformatted_code) {\n",
       "                             nbb_cells[i].set_text(nbb_formatted_code);\n",
       "                        }\n",
       "                        break;\n",
       "                    }\n",
       "                }\n",
       "            }, 500);\n",
       "            "
      ],
      "text/plain": [
       "<IPython.core.display.Javascript object>"
      ]
     },
     "metadata": {},
     "output_type": "display_data"
    }
   ],
   "source": [
    "server.started"
   ]
  },
  {
   "cell_type": "code",
   "execution_count": null,
   "id": "white-democrat",
   "metadata": {},
   "outputs": [
    {
     "name": "stdout",
     "output_type": "stream",
     "text": [
      "measure\n"
     ]
    },
    {
     "data": {
      "application/javascript": [
       "\n",
       "            setTimeout(function() {\n",
       "                var nbb_cell_id = 5;\n",
       "                var nbb_unformatted_code = \"result.elapsed = client.measure(epoch)\";\n",
       "                var nbb_formatted_code = \"result.elapsed = client.measure(epoch)\";\n",
       "                var nbb_cells = Jupyter.notebook.get_cells();\n",
       "                for (var i = 0; i < nbb_cells.length; ++i) {\n",
       "                    if (nbb_cells[i].input_prompt_number == nbb_cell_id) {\n",
       "                        if (nbb_cells[i].get_text() == nbb_unformatted_code) {\n",
       "                             nbb_cells[i].set_text(nbb_formatted_code);\n",
       "                        }\n",
       "                        break;\n",
       "                    }\n",
       "                }\n",
       "            }, 500);\n",
       "            "
      ],
      "text/plain": [
       "<IPython.core.display.Javascript object>"
      ]
     },
     "metadata": {},
     "output_type": "display_data"
    }
   ],
   "source": [
    "result.elapsed = client.measure(epoch)"
   ]
  },
  {
   "cell_type": "code",
   "execution_count": null,
   "id": "satisfied-limitation",
   "metadata": {},
   "outputs": [
    {
     "data": {
      "text/plain": [
       "6.525339666999999"
      ]
     },
     "execution_count": null,
     "metadata": {},
     "output_type": "execute_result"
    },
    {
     "data": {
      "application/javascript": [
       "\n",
       "            setTimeout(function() {\n",
       "                var nbb_cell_id = 6;\n",
       "                var nbb_unformatted_code = \"result.elapsed\";\n",
       "                var nbb_formatted_code = \"result.elapsed\";\n",
       "                var nbb_cells = Jupyter.notebook.get_cells();\n",
       "                for (var i = 0; i < nbb_cells.length; ++i) {\n",
       "                    if (nbb_cells[i].input_prompt_number == nbb_cell_id) {\n",
       "                        if (nbb_cells[i].get_text() == nbb_unformatted_code) {\n",
       "                             nbb_cells[i].set_text(nbb_formatted_code);\n",
       "                        }\n",
       "                        break;\n",
       "                    }\n",
       "                }\n",
       "            }, 500);\n",
       "            "
      ],
      "text/plain": [
       "<IPython.core.display.Javascript object>"
      ]
     },
     "metadata": {},
     "output_type": "display_data"
    }
   ],
   "source": [
    "result.elapsed"
   ]
  },
  {
   "cell_type": "code",
   "execution_count": null,
   "id": "specialized-better",
   "metadata": {},
   "outputs": [
    {
     "data": {
      "text/plain": [
       "57468272.785316154"
      ]
     },
     "execution_count": null,
     "metadata": {},
     "output_type": "execute_result"
    },
    {
     "data": {
      "application/javascript": [
       "\n",
       "            setTimeout(function() {\n",
       "                var nbb_cell_id = 7;\n",
       "                var nbb_unformatted_code = \"result.bytes_per_second\";\n",
       "                var nbb_formatted_code = \"result.bytes_per_second\";\n",
       "                var nbb_cells = Jupyter.notebook.get_cells();\n",
       "                for (var i = 0; i < nbb_cells.length; ++i) {\n",
       "                    if (nbb_cells[i].input_prompt_number == nbb_cell_id) {\n",
       "                        if (nbb_cells[i].get_text() == nbb_unformatted_code) {\n",
       "                             nbb_cells[i].set_text(nbb_formatted_code);\n",
       "                        }\n",
       "                        break;\n",
       "                    }\n",
       "                }\n",
       "            }, 500);\n",
       "            "
      ],
      "text/plain": [
       "<IPython.core.display.Javascript object>"
      ]
     },
     "metadata": {},
     "output_type": "display_data"
    }
   ],
   "source": [
    "result.bytes_per_second"
   ]
  },
  {
   "cell_type": "markdown",
   "id": "nutritional-mobility",
   "metadata": {},
   "source": [
    "# Remote Benchmark"
   ]
  },
  {
   "cell_type": "code",
   "execution_count": null,
   "id": "pleased-student",
   "metadata": {},
   "outputs": [
    {
     "data": {
      "application/javascript": [
       "\n",
       "            setTimeout(function() {\n",
       "                var nbb_cell_id = 2;\n",
       "                var nbb_unformatted_code = \"byte = 8\\ngigabit = 10 ** 9\\nbandwidth = gigabit / byte\\nduration = 3\\nfile_size = 10 ** 7\\nfile_creator = FilesystemCreator()\\n\\nepoch = Epoch(file_size=file_size, duration=duration, file_creator=file_creator)\";\n",
       "                var nbb_formatted_code = \"byte = 8\\ngigabit = 10 ** 9\\nbandwidth = gigabit / byte\\nduration = 3\\nfile_size = 10 ** 7\\nfile_creator = FilesystemCreator()\\n\\nepoch = Epoch(file_size=file_size, duration=duration, file_creator=file_creator)\";\n",
       "                var nbb_cells = Jupyter.notebook.get_cells();\n",
       "                for (var i = 0; i < nbb_cells.length; ++i) {\n",
       "                    if (nbb_cells[i].input_prompt_number == nbb_cell_id) {\n",
       "                        if (nbb_cells[i].get_text() == nbb_unformatted_code) {\n",
       "                             nbb_cells[i].set_text(nbb_formatted_code);\n",
       "                        }\n",
       "                        break;\n",
       "                    }\n",
       "                }\n",
       "            }, 500);\n",
       "            "
      ],
      "text/plain": [
       "<IPython.core.display.Javascript object>"
      ]
     },
     "metadata": {},
     "output_type": "display_data"
    }
   ],
   "source": [
    "byte = 8\n",
    "gigabit = 10 ** 9\n",
    "bandwidth = gigabit / byte\n",
    "duration = 3\n",
    "file_size = 10 ** 7\n",
    "file_creator = FilesystemCreator()\n",
    "\n",
    "epoch = Epoch(file_size=file_size, duration=duration, file_creator=file_creator)"
   ]
  },
  {
   "cell_type": "code",
   "execution_count": null,
   "id": "contemporary-connecticut",
   "metadata": {},
   "outputs": [
    {
     "name": "stdout",
     "output_type": "stream",
     "text": [
      "200 6\n"
     ]
    },
    {
     "data": {
      "application/javascript": [
       "\n",
       "            setTimeout(function() {\n",
       "                var nbb_cell_id = 12;\n",
       "                var nbb_unformatted_code = \"control_base = \\\"http://localhost:8001/\\\"\\ncontrol_epochs = urljoin(control_base, \\\"epochs/\\\")\\n\\nr = httpx.post(control_epochs, json=epoch.dict_without_file_creator())\\nprint(r.status_code, len(r.json()))\";\n",
       "                var nbb_formatted_code = \"control_base = \\\"http://localhost:8001/\\\"\\ncontrol_epochs = urljoin(control_base, \\\"epochs/\\\")\\n\\nr = httpx.post(control_epochs, json=epoch.dict_without_file_creator())\\nprint(r.status_code, len(r.json()))\";\n",
       "                var nbb_cells = Jupyter.notebook.get_cells();\n",
       "                for (var i = 0; i < nbb_cells.length; ++i) {\n",
       "                    if (nbb_cells[i].input_prompt_number == nbb_cell_id) {\n",
       "                        if (nbb_cells[i].get_text() == nbb_unformatted_code) {\n",
       "                             nbb_cells[i].set_text(nbb_formatted_code);\n",
       "                        }\n",
       "                        break;\n",
       "                    }\n",
       "                }\n",
       "            }, 500);\n",
       "            "
      ],
      "text/plain": [
       "<IPython.core.display.Javascript object>"
      ]
     },
     "metadata": {},
     "output_type": "display_data"
    }
   ],
   "source": [
    "control_base = \"http://localhost:8001/\"\n",
    "control_epochs = urljoin(control_base, \"epochs/\")\n",
    "\n",
    "r = httpx.post(control_epochs, json=epoch.dict_without_file_creator())\n",
    "print(r.status_code, len(r.json()))"
   ]
  },
  {
   "cell_type": "code",
   "execution_count": null,
   "id": "departmental-animal",
   "metadata": {},
   "outputs": [
    {
     "data": {
      "application/javascript": [
       "\n",
       "            setTimeout(function() {\n",
       "                var nbb_cell_id = 14;\n",
       "                var nbb_unformatted_code = \"server = FastAPIUvicornServer()\";\n",
       "                var nbb_formatted_code = \"server = FastAPIUvicornServer()\";\n",
       "                var nbb_cells = Jupyter.notebook.get_cells();\n",
       "                for (var i = 0; i < nbb_cells.length; ++i) {\n",
       "                    if (nbb_cells[i].input_prompt_number == nbb_cell_id) {\n",
       "                        if (nbb_cells[i].get_text() == nbb_unformatted_code) {\n",
       "                             nbb_cells[i].set_text(nbb_formatted_code);\n",
       "                        }\n",
       "                        break;\n",
       "                    }\n",
       "                }\n",
       "            }, 500);\n",
       "            "
      ],
      "text/plain": [
       "<IPython.core.display.Javascript object>"
      ]
     },
     "metadata": {},
     "output_type": "display_data"
    }
   ],
   "source": [
    "server = FastAPIUvicornServer()"
   ]
  },
  {
   "cell_type": "code",
   "execution_count": null,
   "id": "conceptual-bible",
   "metadata": {},
   "outputs": [
    {
     "data": {
      "text/plain": [
       "{'name': 'fastAPI/uvicorn'}"
      ]
     },
     "execution_count": null,
     "metadata": {},
     "output_type": "execute_result"
    },
    {
     "data": {
      "application/javascript": [
       "\n",
       "            setTimeout(function() {\n",
       "                var nbb_cell_id = 15;\n",
       "                var nbb_unformatted_code = \"server.dict()\";\n",
       "                var nbb_formatted_code = \"server.dict()\";\n",
       "                var nbb_cells = Jupyter.notebook.get_cells();\n",
       "                for (var i = 0; i < nbb_cells.length; ++i) {\n",
       "                    if (nbb_cells[i].input_prompt_number == nbb_cell_id) {\n",
       "                        if (nbb_cells[i].get_text() == nbb_unformatted_code) {\n",
       "                             nbb_cells[i].set_text(nbb_formatted_code);\n",
       "                        }\n",
       "                        break;\n",
       "                    }\n",
       "                }\n",
       "            }, 500);\n",
       "            "
      ],
      "text/plain": [
       "<IPython.core.display.Javascript object>"
      ]
     },
     "metadata": {},
     "output_type": "display_data"
    }
   ],
   "source": [
    "server.dict()"
   ]
  },
  {
   "cell_type": "code",
   "execution_count": null,
   "id": "affected-coast",
   "metadata": {},
   "outputs": [
    {
     "name": "stdout",
     "output_type": "stream",
     "text": [
      "200 <bound method Response.json of <Response [200 OK]>>\n"
     ]
    },
    {
     "data": {
      "application/javascript": [
       "\n",
       "            setTimeout(function() {\n",
       "                var nbb_cell_id = 17;\n",
       "                var nbb_unformatted_code = \"server = FastAPIUvicornServer()\\ncontrol_servers = urljoin(control_base, \\\"servers/\\\")\\nr = httpx.post(control_servers, json=server.dict())\\nprint(r.status_code, r.json)\";\n",
       "                var nbb_formatted_code = \"server = FastAPIUvicornServer()\\ncontrol_servers = urljoin(control_base, \\\"servers/\\\")\\nr = httpx.post(control_servers, json=server.dict())\\nprint(r.status_code, r.json)\";\n",
       "                var nbb_cells = Jupyter.notebook.get_cells();\n",
       "                for (var i = 0; i < nbb_cells.length; ++i) {\n",
       "                    if (nbb_cells[i].input_prompt_number == nbb_cell_id) {\n",
       "                        if (nbb_cells[i].get_text() == nbb_unformatted_code) {\n",
       "                             nbb_cells[i].set_text(nbb_formatted_code);\n",
       "                        }\n",
       "                        break;\n",
       "                    }\n",
       "                }\n",
       "            }, 500);\n",
       "            "
      ],
      "text/plain": [
       "<IPython.core.display.Javascript object>"
      ]
     },
     "metadata": {},
     "output_type": "display_data"
    }
   ],
   "source": [
    "server = FastAPIUvicornServer()\n",
    "control_servers = urljoin(control_base, \"servers/\")\n",
    "r = httpx.post(control_servers, json=server.dict())\n",
    "print(r.status_code, r.json)"
   ]
  },
  {
   "cell_type": "code",
   "execution_count": null,
   "id": "burning-spray",
   "metadata": {},
   "outputs": [],
   "source": [
    "# dont_test\n",
    "\n",
    "byte = 8\n",
    "gigabit = 10 ** 9\n",
    "bandwidth = gigabit / byte\n",
    "duration = 3\n",
    "file_size = 10 ** 7\n",
    "file_creator = FilesystemCreator()\n",
    "\n",
    "\n",
    "# server = DjangoGunicornWSGIServer()\n",
    "server = FastAPIUvicornServer()\n",
    "# client = AioHttpClient(name=\"aiohttp\")\n",
    "client = HttpxClient(name=\"httpx\")\n",
    "# repository = SqliteRepository.build_repository(\"foo.db\")\n",
    "\n",
    "epoch = Epoch(file_size=file_size, duration=duration, file_creator=file_creator)\n",
    "\n",
    "epoch.create_files()\n",
    "\n",
    "result = BenchmarkResult(\n",
    "    server=server.name,\n",
    "    client=client.name,\n",
    "    file_size=epoch.file_size,\n",
    "    complete_size=epoch.complete_size,\n",
    ")\n",
    "\n",
    "if not server.started:\n",
    "    server.start\n",
    "\n",
    "# result.elapsed = client.measure(epoch)"
   ]
  }
 ],
 "metadata": {
  "kernelspec": {
   "display_name": "Python 3",
   "language": "python",
   "name": "python3"
  }
 },
 "nbformat": 4,
 "nbformat_minor": 5
}
