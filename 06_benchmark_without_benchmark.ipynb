{
 "cells": [
  {
   "cell_type": "code",
   "execution_count": null,
   "id": "naughty-psychiatry",
   "metadata": {},
   "outputs": [
    {
     "data": {
      "application/javascript": [
       "\n",
       "            setTimeout(function() {\n",
       "                var nbb_cell_id = 1;\n",
       "                var nbb_unformatted_code = \"%load_ext nb_black\";\n",
       "                var nbb_formatted_code = \"%load_ext nb_black\";\n",
       "                var nbb_cells = Jupyter.notebook.get_cells();\n",
       "                for (var i = 0; i < nbb_cells.length; ++i) {\n",
       "                    if (nbb_cells[i].input_prompt_number == nbb_cell_id) {\n",
       "                        if (nbb_cells[i].get_text() == nbb_unformatted_code) {\n",
       "                             nbb_cells[i].set_text(nbb_formatted_code);\n",
       "                        }\n",
       "                        break;\n",
       "                    }\n",
       "                }\n",
       "            }, 500);\n",
       "            "
      ],
      "text/plain": [
       "<IPython.core.display.Javascript object>"
      ]
     },
     "metadata": {},
     "output_type": "display_data"
    }
   ],
   "source": [
    "%load_ext nb_black"
   ]
  },
  {
   "cell_type": "code",
   "execution_count": null,
   "id": "aerial-money",
   "metadata": {},
   "outputs": [
    {
     "data": {
      "application/javascript": [
       "\n",
       "            setTimeout(function() {\n",
       "                var nbb_cell_id = 2;\n",
       "                var nbb_unformatted_code = \"import httpx\\n\\nfrom urllib.parse import urljoin\\n\\nfrom will_it_saturate.server import (\\n    FastAPIUvicornServer,\\n    NginxDockerServer,\\n    DjangoGunicornWSGIServer,\\n)\\nfrom will_it_saturate.core import FilesystemCreator, Epoch, Result, BenchmarkFile\\nfrom will_it_saturate.client import HttpxClient, AioHttpClient, WrkClient\\nfrom will_it_saturate.persistence import SqliteRepository\";\n",
       "                var nbb_formatted_code = \"import httpx\\n\\nfrom urllib.parse import urljoin\\n\\nfrom will_it_saturate.server import (\\n    FastAPIUvicornServer,\\n    NginxDockerServer,\\n    DjangoGunicornWSGIServer,\\n)\\nfrom will_it_saturate.core import FilesystemCreator, Epoch, Result, BenchmarkFile\\nfrom will_it_saturate.client import HttpxClient, AioHttpClient, WrkClient\\nfrom will_it_saturate.persistence import SqliteRepository\";\n",
       "                var nbb_cells = Jupyter.notebook.get_cells();\n",
       "                for (var i = 0; i < nbb_cells.length; ++i) {\n",
       "                    if (nbb_cells[i].input_prompt_number == nbb_cell_id) {\n",
       "                        if (nbb_cells[i].get_text() == nbb_unformatted_code) {\n",
       "                             nbb_cells[i].set_text(nbb_formatted_code);\n",
       "                        }\n",
       "                        break;\n",
       "                    }\n",
       "                }\n",
       "            }, 500);\n",
       "            "
      ],
      "text/plain": [
       "<IPython.core.display.Javascript object>"
      ]
     },
     "metadata": {},
     "output_type": "display_data"
    }
   ],
   "source": [
    "import httpx\n",
    "\n",
    "from urllib.parse import urljoin\n",
    "\n",
    "from will_it_saturate.server import (\n",
    "    FastAPIUvicornServer,\n",
    "    NginxDockerServer,\n",
    "    DjangoGunicornWSGIServer,\n",
    ")\n",
    "from will_it_saturate.core import FilesystemCreator, Epoch, Result, BenchmarkFile\n",
    "from will_it_saturate.client import HttpxClient, AioHttpClient, WrkClient\n",
    "from will_it_saturate.persistence import SqliteRepository"
   ]
  },
  {
   "cell_type": "markdown",
   "id": "nutritional-mobility",
   "metadata": {},
   "source": [
    "# Remote Benchmark"
   ]
  },
  {
   "cell_type": "code",
   "execution_count": null,
   "id": "touched-world",
   "metadata": {},
   "outputs": [
    {
     "data": {
      "application/javascript": [
       "\n",
       "            setTimeout(function() {\n",
       "                var nbb_cell_id = 30;\n",
       "                var nbb_unformatted_code = \"def run_epoch(server, client, epoch):\\n    control_base = \\\"http://localhost:8001/\\\"\\n    control_epochs = urljoin(control_base, \\\"epochs/\\\")\\n    r = httpx.post(control_epochs, json=epoch.dict_without_file_creator())\\n\\n    for bfile in r.json()[\\\"files\\\"]:\\n        kwargs = {k: v for k, v in bfile.items() if k != \\\"creator\\\"}\\n        epoch.files.append(BenchmarkFile(**kwargs))\\n\\n    control_servers = urljoin(control_base, \\\"servers/\\\")\\n    r = httpx.post(control_servers, json=server.dict())\\n    server = server.__class__(**r.json())\\n\\n    epoch.urls = [server.file_to_url(file) for file in epoch.files]\\n\\n    result = Result(\\n        server=server.name,\\n        client=client.name,\\n        file_size=epoch.file_size,\\n        complete_size=epoch.complete_size,\\n    )\\n\\n    result.elapsed = client.measure(epoch)\\n    return result\";\n",
       "                var nbb_formatted_code = \"def run_epoch(server, client, epoch):\\n    control_base = \\\"http://localhost:8001/\\\"\\n    control_epochs = urljoin(control_base, \\\"epochs/\\\")\\n    r = httpx.post(control_epochs, json=epoch.dict_without_file_creator())\\n\\n    for bfile in r.json()[\\\"files\\\"]:\\n        kwargs = {k: v for k, v in bfile.items() if k != \\\"creator\\\"}\\n        epoch.files.append(BenchmarkFile(**kwargs))\\n\\n    control_servers = urljoin(control_base, \\\"servers/\\\")\\n    r = httpx.post(control_servers, json=server.dict())\\n    server = server.__class__(**r.json())\\n\\n    epoch.urls = [server.file_to_url(file) for file in epoch.files]\\n\\n    result = Result(\\n        server=server.name,\\n        client=client.name,\\n        file_size=epoch.file_size,\\n        complete_size=epoch.complete_size,\\n    )\\n\\n    result.elapsed = client.measure(epoch)\\n    return result\";\n",
       "                var nbb_cells = Jupyter.notebook.get_cells();\n",
       "                for (var i = 0; i < nbb_cells.length; ++i) {\n",
       "                    if (nbb_cells[i].input_prompt_number == nbb_cell_id) {\n",
       "                        if (nbb_cells[i].get_text() == nbb_unformatted_code) {\n",
       "                             nbb_cells[i].set_text(nbb_formatted_code);\n",
       "                        }\n",
       "                        break;\n",
       "                    }\n",
       "                }\n",
       "            }, 500);\n",
       "            "
      ],
      "text/plain": [
       "<IPython.core.display.Javascript object>"
      ]
     },
     "metadata": {},
     "output_type": "display_data"
    }
   ],
   "source": [
    "def run_epoch(server, client, epoch):\n",
    "    control_base = \"http://localhost:8001/\"\n",
    "    control_epochs = urljoin(control_base, \"epochs/\")\n",
    "    r = httpx.post(control_epochs, json=epoch.dict_without_file_creator())\n",
    "\n",
    "    for bfile in r.json()[\"files\"]:\n",
    "        kwargs = {k: v for k, v in bfile.items() if k != \"creator\"}\n",
    "        epoch.files.append(BenchmarkFile(**kwargs))\n",
    "\n",
    "    control_servers = urljoin(control_base, \"servers/\")\n",
    "    r = httpx.post(control_servers, json=server.dict())\n",
    "    server = server.__class__(**r.json())\n",
    "\n",
    "    epoch.urls = [server.file_to_url(file) for file in epoch.files]\n",
    "\n",
    "    result = Result(\n",
    "        server=server.name,\n",
    "        client=client.name,\n",
    "        file_size=epoch.file_size,\n",
    "        complete_size=epoch.complete_size,\n",
    "    )\n",
    "\n",
    "    result.elapsed = client.measure(epoch)\n",
    "    return result"
   ]
  },
  {
   "cell_type": "code",
   "execution_count": null,
   "id": "innovative-incidence",
   "metadata": {},
   "outputs": [
    {
     "data": {
      "application/javascript": [
       "\n",
       "            setTimeout(function() {\n",
       "                var nbb_cell_id = 31;\n",
       "                var nbb_unformatted_code = \"byte, file_size, duration = 8, 10 ** 7, 3\\nepoch = Epoch(file_size=file_size, duration=duration)\";\n",
       "                var nbb_formatted_code = \"byte, file_size, duration = 8, 10 ** 7, 3\\nepoch = Epoch(file_size=file_size, duration=duration)\";\n",
       "                var nbb_cells = Jupyter.notebook.get_cells();\n",
       "                for (var i = 0; i < nbb_cells.length; ++i) {\n",
       "                    if (nbb_cells[i].input_prompt_number == nbb_cell_id) {\n",
       "                        if (nbb_cells[i].get_text() == nbb_unformatted_code) {\n",
       "                             nbb_cells[i].set_text(nbb_formatted_code);\n",
       "                        }\n",
       "                        break;\n",
       "                    }\n",
       "                }\n",
       "            }, 500);\n",
       "            "
      ],
      "text/plain": [
       "<IPython.core.display.Javascript object>"
      ]
     },
     "metadata": {},
     "output_type": "display_data"
    }
   ],
   "source": [
    "byte, file_size, duration = 8, 10 ** 7, 3\n",
    "epoch = Epoch(file_size=file_size, duration=duration)"
   ]
  },
  {
   "cell_type": "code",
   "execution_count": null,
   "id": "exact-design",
   "metadata": {},
   "outputs": [
    {
     "data": {
      "application/javascript": [
       "\n",
       "            setTimeout(function() {\n",
       "                var nbb_cell_id = 32;\n",
       "                var nbb_unformatted_code = \"server = FastAPIUvicornServer()\\nclient = HttpxClient(name=\\\"httpx\\\")\";\n",
       "                var nbb_formatted_code = \"server = FastAPIUvicornServer()\\nclient = HttpxClient(name=\\\"httpx\\\")\";\n",
       "                var nbb_cells = Jupyter.notebook.get_cells();\n",
       "                for (var i = 0; i < nbb_cells.length; ++i) {\n",
       "                    if (nbb_cells[i].input_prompt_number == nbb_cell_id) {\n",
       "                        if (nbb_cells[i].get_text() == nbb_unformatted_code) {\n",
       "                             nbb_cells[i].set_text(nbb_formatted_code);\n",
       "                        }\n",
       "                        break;\n",
       "                    }\n",
       "                }\n",
       "            }, 500);\n",
       "            "
      ],
      "text/plain": [
       "<IPython.core.display.Javascript object>"
      ]
     },
     "metadata": {},
     "output_type": "display_data"
    }
   ],
   "source": [
    "server = FastAPIUvicornServer()\n",
    "client = HttpxClient(name=\"httpx\")"
   ]
  },
  {
   "cell_type": "code",
   "execution_count": null,
   "id": "alert-effects",
   "metadata": {},
   "outputs": [
    {
     "name": "stdout",
     "output_type": "stream",
     "text": [
      "measure\n",
      "CPU times: user 28.1 ms, sys: 10.2 ms, total: 38.3 ms\n",
      "Wall time: 9.38 s\n"
     ]
    },
    {
     "data": {
      "application/javascript": [
       "\n",
       "            setTimeout(function() {\n",
       "                var nbb_cell_id = 33;\n",
       "                var nbb_unformatted_code = \"%%time\\nresult = run_epoch(server, client, epoch)\";\n",
       "                var nbb_formatted_code = \"%%time\\nresult = run_epoch(server, client, epoch)\";\n",
       "                var nbb_cells = Jupyter.notebook.get_cells();\n",
       "                for (var i = 0; i < nbb_cells.length; ++i) {\n",
       "                    if (nbb_cells[i].input_prompt_number == nbb_cell_id) {\n",
       "                        if (nbb_cells[i].get_text() == nbb_unformatted_code) {\n",
       "                             nbb_cells[i].set_text(nbb_formatted_code);\n",
       "                        }\n",
       "                        break;\n",
       "                    }\n",
       "                }\n",
       "            }, 500);\n",
       "            "
      ],
      "text/plain": [
       "<IPython.core.display.Javascript object>"
      ]
     },
     "metadata": {},
     "output_type": "display_data"
    }
   ],
   "source": [
    "%%time\n",
    "result = run_epoch(server, client, epoch)"
   ]
  },
  {
   "cell_type": "code",
   "execution_count": null,
   "id": "medium-paris",
   "metadata": {},
   "outputs": [
    {
     "data": {
      "text/plain": [
       "59206337.146475695"
      ]
     },
     "execution_count": null,
     "metadata": {},
     "output_type": "execute_result"
    },
    {
     "data": {
      "application/javascript": [
       "\n",
       "            setTimeout(function() {\n",
       "                var nbb_cell_id = 34;\n",
       "                var nbb_unformatted_code = \"result.bytes_per_second\";\n",
       "                var nbb_formatted_code = \"result.bytes_per_second\";\n",
       "                var nbb_cells = Jupyter.notebook.get_cells();\n",
       "                for (var i = 0; i < nbb_cells.length; ++i) {\n",
       "                    if (nbb_cells[i].input_prompt_number == nbb_cell_id) {\n",
       "                        if (nbb_cells[i].get_text() == nbb_unformatted_code) {\n",
       "                             nbb_cells[i].set_text(nbb_formatted_code);\n",
       "                        }\n",
       "                        break;\n",
       "                    }\n",
       "                }\n",
       "            }, 500);\n",
       "            "
      ],
      "text/plain": [
       "<IPython.core.display.Javascript object>"
      ]
     },
     "metadata": {},
     "output_type": "display_data"
    }
   ],
   "source": [
    "result.bytes_per_second"
   ]
  },
  {
   "cell_type": "code",
   "execution_count": null,
   "id": "reliable-allergy",
   "metadata": {},
   "outputs": [
    {
     "name": "stdout",
     "output_type": "stream",
     "text": [
      "measure\n",
      "CPU times: user 38.6 ms, sys: 11.3 ms, total: 49.9 ms\n",
      "Wall time: 9.41 s\n"
     ]
    },
    {
     "data": {
      "application/javascript": [
       "\n",
       "            setTimeout(function() {\n",
       "                var nbb_cell_id = 20;\n",
       "                var nbb_unformatted_code = \"%%time\\nresult = run_epoch(10 ** 7)\";\n",
       "                var nbb_formatted_code = \"%%time\\nresult = run_epoch(10 ** 7)\";\n",
       "                var nbb_cells = Jupyter.notebook.get_cells();\n",
       "                for (var i = 0; i < nbb_cells.length; ++i) {\n",
       "                    if (nbb_cells[i].input_prompt_number == nbb_cell_id) {\n",
       "                        if (nbb_cells[i].get_text() == nbb_unformatted_code) {\n",
       "                             nbb_cells[i].set_text(nbb_formatted_code);\n",
       "                        }\n",
       "                        break;\n",
       "                    }\n",
       "                }\n",
       "            }, 500);\n",
       "            "
      ],
      "text/plain": [
       "<IPython.core.display.Javascript object>"
      ]
     },
     "metadata": {},
     "output_type": "display_data"
    }
   ],
   "source": [
    "%%time\n",
    "result = run_epoch(10 ** 7)"
   ]
  },
  {
   "cell_type": "code",
   "execution_count": null,
   "id": "pending-detection",
   "metadata": {},
   "outputs": [
    {
     "name": "stdout",
     "output_type": "stream",
     "text": [
      "measure\n",
      "CPU times: user 28.8 ms, sys: 10.4 ms, total: 39.1 ms\n",
      "Wall time: 9.7 s\n"
     ]
    },
    {
     "data": {
      "application/javascript": [
       "\n",
       "            setTimeout(function() {\n",
       "                var nbb_cell_id = 21;\n",
       "                var nbb_unformatted_code = \"%%time\\nresult = run_epoch(10 ** 6)\";\n",
       "                var nbb_formatted_code = \"%%time\\nresult = run_epoch(10 ** 6)\";\n",
       "                var nbb_cells = Jupyter.notebook.get_cells();\n",
       "                for (var i = 0; i < nbb_cells.length; ++i) {\n",
       "                    if (nbb_cells[i].input_prompt_number == nbb_cell_id) {\n",
       "                        if (nbb_cells[i].get_text() == nbb_unformatted_code) {\n",
       "                             nbb_cells[i].set_text(nbb_formatted_code);\n",
       "                        }\n",
       "                        break;\n",
       "                    }\n",
       "                }\n",
       "            }, 500);\n",
       "            "
      ],
      "text/plain": [
       "<IPython.core.display.Javascript object>"
      ]
     },
     "metadata": {},
     "output_type": "display_data"
    }
   ],
   "source": [
    "%%time\n",
    "result = run_epoch(10 ** 6)"
   ]
  },
  {
   "cell_type": "code",
   "execution_count": null,
   "id": "addressed-comfort",
   "metadata": {},
   "outputs": [
    {
     "data": {
      "text/plain": [
       "56193971.8565544"
      ]
     },
     "execution_count": null,
     "metadata": {},
     "output_type": "execute_result"
    },
    {
     "data": {
      "application/javascript": [
       "\n",
       "            setTimeout(function() {\n",
       "                var nbb_cell_id = 22;\n",
       "                var nbb_unformatted_code = \"result.bytes_per_second\";\n",
       "                var nbb_formatted_code = \"result.bytes_per_second\";\n",
       "                var nbb_cells = Jupyter.notebook.get_cells();\n",
       "                for (var i = 0; i < nbb_cells.length; ++i) {\n",
       "                    if (nbb_cells[i].input_prompt_number == nbb_cell_id) {\n",
       "                        if (nbb_cells[i].get_text() == nbb_unformatted_code) {\n",
       "                             nbb_cells[i].set_text(nbb_formatted_code);\n",
       "                        }\n",
       "                        break;\n",
       "                    }\n",
       "                }\n",
       "            }, 500);\n",
       "            "
      ],
      "text/plain": [
       "<IPython.core.display.Javascript object>"
      ]
     },
     "metadata": {},
     "output_type": "display_data"
    }
   ],
   "source": [
    "result.bytes_per_second"
   ]
  },
  {
   "cell_type": "code",
   "execution_count": null,
   "id": "pleased-student",
   "metadata": {},
   "outputs": [
    {
     "name": "stdout",
     "output_type": "stream",
     "text": [
      "measure\n",
      "CPU times: user 31.8 ms, sys: 10.2 ms, total: 42.1 ms\n",
      "Wall time: 9.3 s\n"
     ]
    },
    {
     "data": {
      "text/plain": [
       "Result(server='fastAPI/uvicorn', client='httpx', file_size=10000000, elapsed=6.217392495, complete_size=375000000)"
      ]
     },
     "execution_count": null,
     "metadata": {},
     "output_type": "execute_result"
    },
    {
     "data": {
      "application/javascript": [
       "\n",
       "            setTimeout(function() {\n",
       "                var nbb_cell_id = 17;\n",
       "                var nbb_unformatted_code = \"%%time\\n\\nbyte = 8\\ngigabit = 10 ** 9\\nbandwidth = gigabit / byte\\nduration = 3\\nfile_size = 10 ** 7\\n\\nepoch = Epoch(file_size=file_size, duration=duration)\\n\\ncontrol_base = \\\"http://localhost:8001/\\\"\\ncontrol_epochs = urljoin(control_base, \\\"epochs/\\\")\\n\\nr = httpx.post(control_epochs, json=epoch.dict_without_file_creator())\\n\\nfor bfile in r.json()[\\\"files\\\"]:\\n    kwargs = {k: v for k, v in bfile.items() if k != \\\"creator\\\"}\\n    epoch.files.append(BenchmarkFile(**kwargs))\\n\\n\\nserver = FastAPIUvicornServer()\\ncontrol_servers = urljoin(control_base, \\\"servers/\\\")\\nr = httpx.post(control_servers, json=server.dict())\\nserver = FastAPIUvicornServer(**r.json())\\n\\nepoch.urls = [server.file_to_url(file) for file in epoch.files]\\n\\nclient = HttpxClient(name=\\\"httpx\\\")\\n\\n\\nresult = Result(\\n    server=server.name,\\n    client=client.name,\\n    file_size=epoch.file_size,\\n    complete_size=epoch.complete_size,\\n)\\n\\nresult.elapsed = client.measure(epoch)\\nresult\";\n",
       "                var nbb_formatted_code = \"%%time\\n\\nbyte = 8\\ngigabit = 10 ** 9\\nbandwidth = gigabit / byte\\nduration = 3\\nfile_size = 10 ** 7\\n\\nepoch = Epoch(file_size=file_size, duration=duration)\\n\\ncontrol_base = \\\"http://localhost:8001/\\\"\\ncontrol_epochs = urljoin(control_base, \\\"epochs/\\\")\\n\\nr = httpx.post(control_epochs, json=epoch.dict_without_file_creator())\\n\\nfor bfile in r.json()[\\\"files\\\"]:\\n    kwargs = {k: v for k, v in bfile.items() if k != \\\"creator\\\"}\\n    epoch.files.append(BenchmarkFile(**kwargs))\\n\\n\\nserver = FastAPIUvicornServer()\\ncontrol_servers = urljoin(control_base, \\\"servers/\\\")\\nr = httpx.post(control_servers, json=server.dict())\\nserver = FastAPIUvicornServer(**r.json())\\n\\nepoch.urls = [server.file_to_url(file) for file in epoch.files]\\n\\nclient = HttpxClient(name=\\\"httpx\\\")\\n\\n\\nresult = Result(\\n    server=server.name,\\n    client=client.name,\\n    file_size=epoch.file_size,\\n    complete_size=epoch.complete_size,\\n)\\n\\nresult.elapsed = client.measure(epoch)\\nresult\";\n",
       "                var nbb_cells = Jupyter.notebook.get_cells();\n",
       "                for (var i = 0; i < nbb_cells.length; ++i) {\n",
       "                    if (nbb_cells[i].input_prompt_number == nbb_cell_id) {\n",
       "                        if (nbb_cells[i].get_text() == nbb_unformatted_code) {\n",
       "                             nbb_cells[i].set_text(nbb_formatted_code);\n",
       "                        }\n",
       "                        break;\n",
       "                    }\n",
       "                }\n",
       "            }, 500);\n",
       "            "
      ],
      "text/plain": [
       "<IPython.core.display.Javascript object>"
      ]
     },
     "metadata": {},
     "output_type": "display_data"
    }
   ],
   "source": [
    "%%time\n",
    "\n",
    "byte = 8\n",
    "gigabit = 10 ** 9\n",
    "bandwidth = gigabit / byte\n",
    "duration = 3\n",
    "file_size = 10 ** 7\n",
    "\n",
    "epoch = Epoch(file_size=file_size, duration=duration)\n",
    "\n",
    "control_base = \"http://localhost:8001/\"\n",
    "control_epochs = urljoin(control_base, \"epochs/\")\n",
    "\n",
    "r = httpx.post(control_epochs, json=epoch.dict_without_file_creator())\n",
    "\n",
    "for bfile in r.json()[\"files\"]:\n",
    "    kwargs = {k: v for k, v in bfile.items() if k != \"creator\"}\n",
    "    epoch.files.append(BenchmarkFile(**kwargs))\n",
    "\n",
    "\n",
    "server = FastAPIUvicornServer()\n",
    "control_servers = urljoin(control_base, \"servers/\")\n",
    "r = httpx.post(control_servers, json=server.dict())\n",
    "server = FastAPIUvicornServer(**r.json())\n",
    "\n",
    "epoch.urls = [server.file_to_url(file) for file in epoch.files]\n",
    "\n",
    "client = HttpxClient(name=\"httpx\")\n",
    "\n",
    "\n",
    "result = Result(\n",
    "    server=server.name,\n",
    "    client=client.name,\n",
    "    file_size=epoch.file_size,\n",
    "    complete_size=epoch.complete_size,\n",
    ")\n",
    "\n",
    "result.elapsed = client.measure(epoch)\n",
    "result"
   ]
  },
  {
   "cell_type": "code",
   "execution_count": null,
   "id": "introductory-crack",
   "metadata": {},
   "outputs": [],
   "source": []
  },
  {
   "cell_type": "code",
   "execution_count": null,
   "id": "twelve-jonathan",
   "metadata": {},
   "outputs": [
    {
     "data": {
      "text/plain": [
       "60314673.7642144"
      ]
     },
     "execution_count": null,
     "metadata": {},
     "output_type": "execute_result"
    },
    {
     "data": {
      "application/javascript": [
       "\n",
       "            setTimeout(function() {\n",
       "                var nbb_cell_id = 18;\n",
       "                var nbb_unformatted_code = \"result.bytes_per_second\";\n",
       "                var nbb_formatted_code = \"result.bytes_per_second\";\n",
       "                var nbb_cells = Jupyter.notebook.get_cells();\n",
       "                for (var i = 0; i < nbb_cells.length; ++i) {\n",
       "                    if (nbb_cells[i].input_prompt_number == nbb_cell_id) {\n",
       "                        if (nbb_cells[i].get_text() == nbb_unformatted_code) {\n",
       "                             nbb_cells[i].set_text(nbb_formatted_code);\n",
       "                        }\n",
       "                        break;\n",
       "                    }\n",
       "                }\n",
       "            }, 500);\n",
       "            "
      ],
      "text/plain": [
       "<IPython.core.display.Javascript object>"
      ]
     },
     "metadata": {},
     "output_type": "display_data"
    }
   ],
   "source": [
    "result.bytes_per_second"
   ]
  },
  {
   "cell_type": "markdown",
   "id": "inappropriate-brazil",
   "metadata": {},
   "source": [
    "# Local Benchmark"
   ]
  },
  {
   "cell_type": "code",
   "execution_count": null,
   "id": "naughty-actress",
   "metadata": {},
   "outputs": [
    {
     "data": {
      "application/javascript": [
       "\n",
       "            setTimeout(function() {\n",
       "                var nbb_cell_id = 2;\n",
       "                var nbb_unformatted_code = \"# dont_test\\n\\nbyte = 8\\ngigabit = 10 ** 9\\nbandwidth = gigabit / byte\\nduration = 3\\nfile_size = 10 ** 7\\nfile_creator = FilesystemCreator()\\n\\n\\n# server = DjangoGunicornWSGIServer()\\nserver = FastAPIUvicornServer()\\n# client = AioHttpClient(name=\\\"aiohttp\\\")\\nclient = HttpxClient(name=\\\"httpx\\\")\\n# repository = SqliteRepository.build_repository(\\\"foo.db\\\")\\n\\nepoch = Epoch(file_size=file_size, duration=duration, file_creator=file_creator)\\n\\nepoch.create_files()\\n\\nresult = BenchmarkResult(\\n    server=server.name,\\n    client=client.name,\\n    file_size=epoch.file_size,\\n    complete_size=epoch.complete_size,\\n)\\n\\nif not server.started:\\n    server.start\\n\\n# result.elapsed = client.measure(epoch)\";\n",
       "                var nbb_formatted_code = \"# dont_test\\n\\nbyte = 8\\ngigabit = 10 ** 9\\nbandwidth = gigabit / byte\\nduration = 3\\nfile_size = 10 ** 7\\nfile_creator = FilesystemCreator()\\n\\n\\n# server = DjangoGunicornWSGIServer()\\nserver = FastAPIUvicornServer()\\n# client = AioHttpClient(name=\\\"aiohttp\\\")\\nclient = HttpxClient(name=\\\"httpx\\\")\\n# repository = SqliteRepository.build_repository(\\\"foo.db\\\")\\n\\nepoch = Epoch(file_size=file_size, duration=duration, file_creator=file_creator)\\n\\nepoch.create_files()\\n\\nresult = BenchmarkResult(\\n    server=server.name,\\n    client=client.name,\\n    file_size=epoch.file_size,\\n    complete_size=epoch.complete_size,\\n)\\n\\nif not server.started:\\n    server.start\\n\\n# result.elapsed = client.measure(epoch)\";\n",
       "                var nbb_cells = Jupyter.notebook.get_cells();\n",
       "                for (var i = 0; i < nbb_cells.length; ++i) {\n",
       "                    if (nbb_cells[i].input_prompt_number == nbb_cell_id) {\n",
       "                        if (nbb_cells[i].get_text() == nbb_unformatted_code) {\n",
       "                             nbb_cells[i].set_text(nbb_formatted_code);\n",
       "                        }\n",
       "                        break;\n",
       "                    }\n",
       "                }\n",
       "            }, 500);\n",
       "            "
      ],
      "text/plain": [
       "<IPython.core.display.Javascript object>"
      ]
     },
     "metadata": {},
     "output_type": "display_data"
    }
   ],
   "source": [
    "# dont_test\n",
    "\n",
    "byte = 8\n",
    "gigabit = 10 ** 9\n",
    "bandwidth = gigabit / byte\n",
    "duration = 3\n",
    "file_size = 10 ** 7\n",
    "file_creator = FilesystemCreator()\n",
    "\n",
    "\n",
    "# server = DjangoGunicornWSGIServer()\n",
    "server = FastAPIUvicornServer()\n",
    "# client = AioHttpClient(name=\"aiohttp\")\n",
    "client = HttpxClient(name=\"httpx\")\n",
    "# repository = SqliteRepository.build_repository(\"foo.db\")\n",
    "\n",
    "epoch = Epoch(file_size=file_size, duration=duration, file_creator=file_creator)\n",
    "\n",
    "epoch.create_files()\n",
    "\n",
    "result = BenchmarkResult(\n",
    "    server=server.name,\n",
    "    client=client.name,\n",
    "    file_size=epoch.file_size,\n",
    "    complete_size=epoch.complete_size,\n",
    ")\n",
    "\n",
    "if not server.started:\n",
    "    server.start\n",
    "\n",
    "result.elapsed = client.measure(epoch)"
   ]
  }
 ],
 "metadata": {
  "kernelspec": {
   "display_name": "Python 3",
   "language": "python",
   "name": "python3"
  }
 },
 "nbformat": 4,
 "nbformat_minor": 5
}
