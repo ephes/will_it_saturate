{
 "cells": [
  {
   "cell_type": "code",
   "execution_count": null,
   "id": "naughty-psychiatry",
   "metadata": {},
   "outputs": [
    {
     "data": {
      "application/javascript": [
       "\n",
       "            setTimeout(function() {\n",
       "                var nbb_cell_id = 1;\n",
       "                var nbb_unformatted_code = \"%load_ext nb_black\";\n",
       "                var nbb_formatted_code = \"%load_ext nb_black\";\n",
       "                var nbb_cells = Jupyter.notebook.get_cells();\n",
       "                for (var i = 0; i < nbb_cells.length; ++i) {\n",
       "                    if (nbb_cells[i].input_prompt_number == nbb_cell_id) {\n",
       "                        if (nbb_cells[i].get_text() == nbb_unformatted_code) {\n",
       "                             nbb_cells[i].set_text(nbb_formatted_code);\n",
       "                        }\n",
       "                        break;\n",
       "                    }\n",
       "                }\n",
       "            }, 500);\n",
       "            "
      ],
      "text/plain": [
       "<IPython.core.display.Javascript object>"
      ]
     },
     "metadata": {},
     "output_type": "display_data"
    }
   ],
   "source": [
    "%load_ext nb_black"
   ]
  },
  {
   "cell_type": "code",
   "execution_count": null,
   "id": "aerial-money",
   "metadata": {},
   "outputs": [
    {
     "data": {
      "application/javascript": [
       "\n",
       "            setTimeout(function() {\n",
       "                var nbb_cell_id = 2;\n",
       "                var nbb_unformatted_code = \"import httpx\\n\\nfrom urllib.parse import urljoin\\n\\nfrom will_it_saturate.server import (\\n    FastAPIUvicornServer,\\n    NginxDockerServer,\\n    DjangoGunicornWSGIServer,\\n)\\nfrom will_it_saturate.core import FilesystemCreator, Epoch, Result, BenchmarkFile\\nfrom will_it_saturate.client import HttpxClient, AioHttpClient, WrkClient\\nfrom will_it_saturate.persistence import SqliteRepository\";\n",
       "                var nbb_formatted_code = \"import httpx\\n\\nfrom urllib.parse import urljoin\\n\\nfrom will_it_saturate.server import (\\n    FastAPIUvicornServer,\\n    NginxDockerServer,\\n    DjangoGunicornWSGIServer,\\n)\\nfrom will_it_saturate.core import FilesystemCreator, Epoch, Result, BenchmarkFile\\nfrom will_it_saturate.client import HttpxClient, AioHttpClient, WrkClient\\nfrom will_it_saturate.persistence import SqliteRepository\";\n",
       "                var nbb_cells = Jupyter.notebook.get_cells();\n",
       "                for (var i = 0; i < nbb_cells.length; ++i) {\n",
       "                    if (nbb_cells[i].input_prompt_number == nbb_cell_id) {\n",
       "                        if (nbb_cells[i].get_text() == nbb_unformatted_code) {\n",
       "                             nbb_cells[i].set_text(nbb_formatted_code);\n",
       "                        }\n",
       "                        break;\n",
       "                    }\n",
       "                }\n",
       "            }, 500);\n",
       "            "
      ],
      "text/plain": [
       "<IPython.core.display.Javascript object>"
      ]
     },
     "metadata": {},
     "output_type": "display_data"
    }
   ],
   "source": [
    "import httpx\n",
    "\n",
    "from urllib.parse import urljoin\n",
    "\n",
    "from will_it_saturate.server import (\n",
    "    FastAPIUvicornServer,\n",
    "    NginxDockerServer,\n",
    "    DjangoGunicornWSGIServer,\n",
    ")\n",
    "from will_it_saturate.core import FilesystemCreator, Epoch, Result, BenchmarkFile\n",
    "from will_it_saturate.client import HttpxClient, AioHttpClient, WrkClient\n",
    "from will_it_saturate.persistence import SqliteRepository"
   ]
  },
  {
   "cell_type": "markdown",
   "id": "nutritional-mobility",
   "metadata": {},
   "source": [
    "# Remote Benchmark"
   ]
  },
  {
   "cell_type": "code",
   "execution_count": null,
   "id": "pleased-student",
   "metadata": {},
   "outputs": [
    {
     "data": {
      "application/javascript": [
       "\n",
       "            setTimeout(function() {\n",
       "                var nbb_cell_id = 3;\n",
       "                var nbb_unformatted_code = \"byte = 8\\ngigabit = 10 ** 9\\nbandwidth = gigabit / byte\\nduration = 3\\nfile_size = 10 ** 7\\n\\nepoch = Epoch(file_size=file_size, duration=duration)\";\n",
       "                var nbb_formatted_code = \"byte = 8\\ngigabit = 10 ** 9\\nbandwidth = gigabit / byte\\nduration = 3\\nfile_size = 10 ** 7\\n\\nepoch = Epoch(file_size=file_size, duration=duration)\";\n",
       "                var nbb_cells = Jupyter.notebook.get_cells();\n",
       "                for (var i = 0; i < nbb_cells.length; ++i) {\n",
       "                    if (nbb_cells[i].input_prompt_number == nbb_cell_id) {\n",
       "                        if (nbb_cells[i].get_text() == nbb_unformatted_code) {\n",
       "                             nbb_cells[i].set_text(nbb_formatted_code);\n",
       "                        }\n",
       "                        break;\n",
       "                    }\n",
       "                }\n",
       "            }, 500);\n",
       "            "
      ],
      "text/plain": [
       "<IPython.core.display.Javascript object>"
      ]
     },
     "metadata": {},
     "output_type": "display_data"
    }
   ],
   "source": [
    "byte = 8\n",
    "gigabit = 10 ** 9\n",
    "bandwidth = gigabit / byte\n",
    "duration = 3\n",
    "file_size = 10 ** 7\n",
    "\n",
    "epoch = Epoch(file_size=file_size, duration=duration)"
   ]
  },
  {
   "cell_type": "code",
   "execution_count": null,
   "id": "contemporary-connecticut",
   "metadata": {},
   "outputs": [
    {
     "name": "stdout",
     "output_type": "stream",
     "text": [
      "200 6\n"
     ]
    },
    {
     "data": {
      "application/javascript": [
       "\n",
       "            setTimeout(function() {\n",
       "                var nbb_cell_id = 4;\n",
       "                var nbb_unformatted_code = \"control_base = \\\"http://localhost:8001/\\\"\\ncontrol_epochs = urljoin(control_base, \\\"epochs/\\\")\\n\\nr = httpx.post(control_epochs, json=epoch.dict_without_file_creator())\\nprint(r.status_code, len(r.json()))\";\n",
       "                var nbb_formatted_code = \"control_base = \\\"http://localhost:8001/\\\"\\ncontrol_epochs = urljoin(control_base, \\\"epochs/\\\")\\n\\nr = httpx.post(control_epochs, json=epoch.dict_without_file_creator())\\nprint(r.status_code, len(r.json()))\";\n",
       "                var nbb_cells = Jupyter.notebook.get_cells();\n",
       "                for (var i = 0; i < nbb_cells.length; ++i) {\n",
       "                    if (nbb_cells[i].input_prompt_number == nbb_cell_id) {\n",
       "                        if (nbb_cells[i].get_text() == nbb_unformatted_code) {\n",
       "                             nbb_cells[i].set_text(nbb_formatted_code);\n",
       "                        }\n",
       "                        break;\n",
       "                    }\n",
       "                }\n",
       "            }, 500);\n",
       "            "
      ],
      "text/plain": [
       "<IPython.core.display.Javascript object>"
      ]
     },
     "metadata": {},
     "output_type": "display_data"
    }
   ],
   "source": [
    "control_base = \"http://localhost:8001/\"\n",
    "control_epochs = urljoin(control_base, \"epochs/\")\n",
    "\n",
    "r = httpx.post(control_epochs, json=epoch.dict_without_file_creator())\n",
    "print(r.status_code, len(r.json()))"
   ]
  },
  {
   "cell_type": "code",
   "execution_count": null,
   "id": "chinese-shower",
   "metadata": {},
   "outputs": [
    {
     "data": {
      "text/plain": [
       "{'file_size': 10000000,\n",
       " 'duration': 3,\n",
       " 'bandwidth': 125000000,\n",
       " 'files': [{'number': 0,\n",
       "   'base_path': '10000000_3_125000000',\n",
       "   'size': 10000000,\n",
       "   'data_root': 'data',\n",
       "   'hostname': 'localhost',\n",
       "   'port': 8000,\n",
       "   'checksum': '4a45eb0c5580122823126fc30477ce08',\n",
       "   'creator': {}},\n",
       "  {'number': 1,\n",
       "   'base_path': '10000000_3_125000000',\n",
       "   'size': 10000000,\n",
       "   'data_root': 'data',\n",
       "   'hostname': 'localhost',\n",
       "   'port': 8000,\n",
       "   'checksum': '22b964829c3cd80f9627861eee97ad6f',\n",
       "   'creator': {}},\n",
       "  {'number': 2,\n",
       "   'base_path': '10000000_3_125000000',\n",
       "   'size': 10000000,\n",
       "   'data_root': 'data',\n",
       "   'hostname': 'localhost',\n",
       "   'port': 8000,\n",
       "   'checksum': '2313682c8f900d9011cf3557356c0b75',\n",
       "   'creator': {}},\n",
       "  {'number': 3,\n",
       "   'base_path': '10000000_3_125000000',\n",
       "   'size': 10000000,\n",
       "   'data_root': 'data',\n",
       "   'hostname': 'localhost',\n",
       "   'port': 8000,\n",
       "   'checksum': '9f09900cb8d58d1e470e087682f385b2',\n",
       "   'creator': {}},\n",
       "  {'number': 4,\n",
       "   'base_path': '10000000_3_125000000',\n",
       "   'size': 10000000,\n",
       "   'data_root': 'data',\n",
       "   'hostname': 'localhost',\n",
       "   'port': 8000,\n",
       "   'checksum': '2e55ad3afc945fb3fa02e189cfe67f8e',\n",
       "   'creator': {}},\n",
       "  {'number': 5,\n",
       "   'base_path': '10000000_3_125000000',\n",
       "   'size': 10000000,\n",
       "   'data_root': 'data',\n",
       "   'hostname': 'localhost',\n",
       "   'port': 8000,\n",
       "   'checksum': '313ec2ea38efe6aef2ec0e9757d52899',\n",
       "   'creator': {}},\n",
       "  {'number': 6,\n",
       "   'base_path': '10000000_3_125000000',\n",
       "   'size': 10000000,\n",
       "   'data_root': 'data',\n",
       "   'hostname': 'localhost',\n",
       "   'port': 8000,\n",
       "   'checksum': '94a9f1df40f1b2f576834d3e76f18dfb',\n",
       "   'creator': {}},\n",
       "  {'number': 7,\n",
       "   'base_path': '10000000_3_125000000',\n",
       "   'size': 10000000,\n",
       "   'data_root': 'data',\n",
       "   'hostname': 'localhost',\n",
       "   'port': 8000,\n",
       "   'checksum': '803541662f910cfca33bbaf0fb83958b',\n",
       "   'creator': {}},\n",
       "  {'number': 8,\n",
       "   'base_path': '10000000_3_125000000',\n",
       "   'size': 10000000,\n",
       "   'data_root': 'data',\n",
       "   'hostname': 'localhost',\n",
       "   'port': 8000,\n",
       "   'checksum': '1fb112c459f7d67efaccae9f754bd9bb',\n",
       "   'creator': {}},\n",
       "  {'number': 9,\n",
       "   'base_path': '10000000_3_125000000',\n",
       "   'size': 10000000,\n",
       "   'data_root': 'data',\n",
       "   'hostname': 'localhost',\n",
       "   'port': 8000,\n",
       "   'checksum': 'c1166abfc9dcb7bb5ae0203cfb5b2a25',\n",
       "   'creator': {}},\n",
       "  {'number': 10,\n",
       "   'base_path': '10000000_3_125000000',\n",
       "   'size': 10000000,\n",
       "   'data_root': 'data',\n",
       "   'hostname': 'localhost',\n",
       "   'port': 8000,\n",
       "   'checksum': '533016e0162c5cfbb1e869c9c9a7e249',\n",
       "   'creator': {}},\n",
       "  {'number': 11,\n",
       "   'base_path': '10000000_3_125000000',\n",
       "   'size': 10000000,\n",
       "   'data_root': 'data',\n",
       "   'hostname': 'localhost',\n",
       "   'port': 8000,\n",
       "   'checksum': 'ae2553c42ab30398c3676be67d7866db',\n",
       "   'creator': {}},\n",
       "  {'number': 12,\n",
       "   'base_path': '10000000_3_125000000',\n",
       "   'size': 10000000,\n",
       "   'data_root': 'data',\n",
       "   'hostname': 'localhost',\n",
       "   'port': 8000,\n",
       "   'checksum': '7d5a8be71c778ae5657319b2e1086d43',\n",
       "   'creator': {}},\n",
       "  {'number': 13,\n",
       "   'base_path': '10000000_3_125000000',\n",
       "   'size': 10000000,\n",
       "   'data_root': 'data',\n",
       "   'hostname': 'localhost',\n",
       "   'port': 8000,\n",
       "   'checksum': '6e594c98e81a256db27d38398c1ae348',\n",
       "   'creator': {}},\n",
       "  {'number': 14,\n",
       "   'base_path': '10000000_3_125000000',\n",
       "   'size': 10000000,\n",
       "   'data_root': 'data',\n",
       "   'hostname': 'localhost',\n",
       "   'port': 8000,\n",
       "   'checksum': '96e6595fee0313865801a93f9f99bd67',\n",
       "   'creator': {}},\n",
       "  {'number': 15,\n",
       "   'base_path': '10000000_3_125000000',\n",
       "   'size': 10000000,\n",
       "   'data_root': 'data',\n",
       "   'hostname': 'localhost',\n",
       "   'port': 8000,\n",
       "   'checksum': '3a679197df846392e8ff342bb1d6988e',\n",
       "   'creator': {}},\n",
       "  {'number': 16,\n",
       "   'base_path': '10000000_3_125000000',\n",
       "   'size': 10000000,\n",
       "   'data_root': 'data',\n",
       "   'hostname': 'localhost',\n",
       "   'port': 8000,\n",
       "   'checksum': '9ac16b96d58ea0f55ef90555971b6d24',\n",
       "   'creator': {}},\n",
       "  {'number': 17,\n",
       "   'base_path': '10000000_3_125000000',\n",
       "   'size': 10000000,\n",
       "   'data_root': 'data',\n",
       "   'hostname': 'localhost',\n",
       "   'port': 8000,\n",
       "   'checksum': '88c841daecd56a6f729418bad5a0a078',\n",
       "   'creator': {}},\n",
       "  {'number': 18,\n",
       "   'base_path': '10000000_3_125000000',\n",
       "   'size': 10000000,\n",
       "   'data_root': 'data',\n",
       "   'hostname': 'localhost',\n",
       "   'port': 8000,\n",
       "   'checksum': '5bab7a82cacf6180e8742dccfc9789af',\n",
       "   'creator': {}},\n",
       "  {'number': 19,\n",
       "   'base_path': '10000000_3_125000000',\n",
       "   'size': 10000000,\n",
       "   'data_root': 'data',\n",
       "   'hostname': 'localhost',\n",
       "   'port': 8000,\n",
       "   'checksum': '83cb97d7c85f956206853eb7e55802fb',\n",
       "   'creator': {}},\n",
       "  {'number': 20,\n",
       "   'base_path': '10000000_3_125000000',\n",
       "   'size': 10000000,\n",
       "   'data_root': 'data',\n",
       "   'hostname': 'localhost',\n",
       "   'port': 8000,\n",
       "   'checksum': 'c093cc108c15f9f8b1942613d54ac276',\n",
       "   'creator': {}},\n",
       "  {'number': 21,\n",
       "   'base_path': '10000000_3_125000000',\n",
       "   'size': 10000000,\n",
       "   'data_root': 'data',\n",
       "   'hostname': 'localhost',\n",
       "   'port': 8000,\n",
       "   'checksum': '2c84b7ad2ab2c313c648d04124ac1330',\n",
       "   'creator': {}},\n",
       "  {'number': 22,\n",
       "   'base_path': '10000000_3_125000000',\n",
       "   'size': 10000000,\n",
       "   'data_root': 'data',\n",
       "   'hostname': 'localhost',\n",
       "   'port': 8000,\n",
       "   'checksum': 'bd15f308e252ec8c791a7b07981232d2',\n",
       "   'creator': {}},\n",
       "  {'number': 23,\n",
       "   'base_path': '10000000_3_125000000',\n",
       "   'size': 10000000,\n",
       "   'data_root': 'data',\n",
       "   'hostname': 'localhost',\n",
       "   'port': 8000,\n",
       "   'checksum': 'f2d0851036ed1048c1c928c36497d8cf',\n",
       "   'creator': {}},\n",
       "  {'number': 24,\n",
       "   'base_path': '10000000_3_125000000',\n",
       "   'size': 10000000,\n",
       "   'data_root': 'data',\n",
       "   'hostname': 'localhost',\n",
       "   'port': 8000,\n",
       "   'checksum': '2076e3c0ed18222be31ecd4ceb7f1a80',\n",
       "   'creator': {}},\n",
       "  {'number': 25,\n",
       "   'base_path': '10000000_3_125000000',\n",
       "   'size': 10000000,\n",
       "   'data_root': 'data',\n",
       "   'hostname': 'localhost',\n",
       "   'port': 8000,\n",
       "   'checksum': 'a66066126ade072ae05be8a206009d3c',\n",
       "   'creator': {}},\n",
       "  {'number': 26,\n",
       "   'base_path': '10000000_3_125000000',\n",
       "   'size': 10000000,\n",
       "   'data_root': 'data',\n",
       "   'hostname': 'localhost',\n",
       "   'port': 8000,\n",
       "   'checksum': 'a6fd6bed34c49fb385d8cd8f229f3294',\n",
       "   'creator': {}},\n",
       "  {'number': 27,\n",
       "   'base_path': '10000000_3_125000000',\n",
       "   'size': 10000000,\n",
       "   'data_root': 'data',\n",
       "   'hostname': 'localhost',\n",
       "   'port': 8000,\n",
       "   'checksum': '533bd27b1c79b46100def2bdc00663d3',\n",
       "   'creator': {}},\n",
       "  {'number': 28,\n",
       "   'base_path': '10000000_3_125000000',\n",
       "   'size': 10000000,\n",
       "   'data_root': 'data',\n",
       "   'hostname': 'localhost',\n",
       "   'port': 8000,\n",
       "   'checksum': '02d134c102e04af314c434e83aed56a0',\n",
       "   'creator': {}},\n",
       "  {'number': 29,\n",
       "   'base_path': '10000000_3_125000000',\n",
       "   'size': 10000000,\n",
       "   'data_root': 'data',\n",
       "   'hostname': 'localhost',\n",
       "   'port': 8000,\n",
       "   'checksum': 'ed8f97a64543c033e8d0efb57362da45',\n",
       "   'creator': {}},\n",
       "  {'number': 30,\n",
       "   'base_path': '10000000_3_125000000',\n",
       "   'size': 10000000,\n",
       "   'data_root': 'data',\n",
       "   'hostname': 'localhost',\n",
       "   'port': 8000,\n",
       "   'checksum': '97e164a5ec8119f241454ec74cea4c0e',\n",
       "   'creator': {}},\n",
       "  {'number': 31,\n",
       "   'base_path': '10000000_3_125000000',\n",
       "   'size': 10000000,\n",
       "   'data_root': 'data',\n",
       "   'hostname': 'localhost',\n",
       "   'port': 8000,\n",
       "   'checksum': '0ff5384c42a3b69595767de8588b4796',\n",
       "   'creator': {}},\n",
       "  {'number': 32,\n",
       "   'base_path': '10000000_3_125000000',\n",
       "   'size': 10000000,\n",
       "   'data_root': 'data',\n",
       "   'hostname': 'localhost',\n",
       "   'port': 8000,\n",
       "   'checksum': '147780b874e91e383a4c538437cf2ad5',\n",
       "   'creator': {}},\n",
       "  {'number': 33,\n",
       "   'base_path': '10000000_3_125000000',\n",
       "   'size': 10000000,\n",
       "   'data_root': 'data',\n",
       "   'hostname': 'localhost',\n",
       "   'port': 8000,\n",
       "   'checksum': '057facaac0a1a74e7be2c0fb7c5af469',\n",
       "   'creator': {}},\n",
       "  {'number': 34,\n",
       "   'base_path': '10000000_3_125000000',\n",
       "   'size': 10000000,\n",
       "   'data_root': 'data',\n",
       "   'hostname': 'localhost',\n",
       "   'port': 8000,\n",
       "   'checksum': 'd1bdea7159b3c8a1bd34b69275f14cc5',\n",
       "   'creator': {}},\n",
       "  {'number': 35,\n",
       "   'base_path': '10000000_3_125000000',\n",
       "   'size': 10000000,\n",
       "   'data_root': 'data',\n",
       "   'hostname': 'localhost',\n",
       "   'port': 8000,\n",
       "   'checksum': 'b845bf6113f1c150c8566234f06b1fd1',\n",
       "   'creator': {}},\n",
       "  {'number': 36,\n",
       "   'base_path': '10000000_3_125000000',\n",
       "   'size': 10000000,\n",
       "   'data_root': 'data',\n",
       "   'hostname': 'localhost',\n",
       "   'port': 8000,\n",
       "   'checksum': '4c1d4abc8522e3f40ed25c523fe00512',\n",
       "   'creator': {}},\n",
       "  {'number': 37,\n",
       "   'base_path': '10000000_3_125000000',\n",
       "   'size': 10000000,\n",
       "   'data_root': 'data',\n",
       "   'hostname': 'localhost',\n",
       "   'port': 8000,\n",
       "   'checksum': 'da02b0672cd8c7b79e9774bcbb1379a1',\n",
       "   'creator': {}}],\n",
       " 'file_creator': {},\n",
       " 'data_root': 'data'}"
      ]
     },
     "execution_count": null,
     "metadata": {},
     "output_type": "execute_result"
    },
    {
     "data": {
      "application/javascript": [
       "\n",
       "            setTimeout(function() {\n",
       "                var nbb_cell_id = 5;\n",
       "                var nbb_unformatted_code = \"r.json()\";\n",
       "                var nbb_formatted_code = \"r.json()\";\n",
       "                var nbb_cells = Jupyter.notebook.get_cells();\n",
       "                for (var i = 0; i < nbb_cells.length; ++i) {\n",
       "                    if (nbb_cells[i].input_prompt_number == nbb_cell_id) {\n",
       "                        if (nbb_cells[i].get_text() == nbb_unformatted_code) {\n",
       "                             nbb_cells[i].set_text(nbb_formatted_code);\n",
       "                        }\n",
       "                        break;\n",
       "                    }\n",
       "                }\n",
       "            }, 500);\n",
       "            "
      ],
      "text/plain": [
       "<IPython.core.display.Javascript object>"
      ]
     },
     "metadata": {},
     "output_type": "display_data"
    }
   ],
   "source": [
    "r.json()"
   ]
  },
  {
   "cell_type": "code",
   "execution_count": null,
   "id": "auburn-willow",
   "metadata": {},
   "outputs": [
    {
     "data": {
      "application/javascript": [
       "\n",
       "            setTimeout(function() {\n",
       "                var nbb_cell_id = 6;\n",
       "                var nbb_unformatted_code = \"for bfile in r.json()[\\\"files\\\"]:\\n    kwargs = {k: v for k, v in bfile.items() if k != \\\"creator\\\"}\\n    epoch.files.append(BenchmarkFile(**kwargs))\";\n",
       "                var nbb_formatted_code = \"for bfile in r.json()[\\\"files\\\"]:\\n    kwargs = {k: v for k, v in bfile.items() if k != \\\"creator\\\"}\\n    epoch.files.append(BenchmarkFile(**kwargs))\";\n",
       "                var nbb_cells = Jupyter.notebook.get_cells();\n",
       "                for (var i = 0; i < nbb_cells.length; ++i) {\n",
       "                    if (nbb_cells[i].input_prompt_number == nbb_cell_id) {\n",
       "                        if (nbb_cells[i].get_text() == nbb_unformatted_code) {\n",
       "                             nbb_cells[i].set_text(nbb_formatted_code);\n",
       "                        }\n",
       "                        break;\n",
       "                    }\n",
       "                }\n",
       "            }, 500);\n",
       "            "
      ],
      "text/plain": [
       "<IPython.core.display.Javascript object>"
      ]
     },
     "metadata": {},
     "output_type": "display_data"
    }
   ],
   "source": [
    "for bfile in r.json()[\"files\"]:\n",
    "    kwargs = {k: v for k, v in bfile.items() if k != \"creator\"}\n",
    "    epoch.files.append(BenchmarkFile(**kwargs))"
   ]
  },
  {
   "cell_type": "code",
   "execution_count": null,
   "id": "departmental-animal",
   "metadata": {},
   "outputs": [
    {
     "data": {
      "application/javascript": [
       "\n",
       "            setTimeout(function() {\n",
       "                var nbb_cell_id = 7;\n",
       "                var nbb_unformatted_code = \"server = FastAPIUvicornServer()\";\n",
       "                var nbb_formatted_code = \"server = FastAPIUvicornServer()\";\n",
       "                var nbb_cells = Jupyter.notebook.get_cells();\n",
       "                for (var i = 0; i < nbb_cells.length; ++i) {\n",
       "                    if (nbb_cells[i].input_prompt_number == nbb_cell_id) {\n",
       "                        if (nbb_cells[i].get_text() == nbb_unformatted_code) {\n",
       "                             nbb_cells[i].set_text(nbb_formatted_code);\n",
       "                        }\n",
       "                        break;\n",
       "                    }\n",
       "                }\n",
       "            }, 500);\n",
       "            "
      ],
      "text/plain": [
       "<IPython.core.display.Javascript object>"
      ]
     },
     "metadata": {},
     "output_type": "display_data"
    }
   ],
   "source": [
    "server = FastAPIUvicornServer()"
   ]
  },
  {
   "cell_type": "code",
   "execution_count": null,
   "id": "conceptual-bible",
   "metadata": {},
   "outputs": [
    {
     "data": {
      "text/plain": [
       "{'name': 'fastAPI/uvicorn', 'host': 'localhost', 'port': 8000}"
      ]
     },
     "execution_count": null,
     "metadata": {},
     "output_type": "execute_result"
    },
    {
     "data": {
      "application/javascript": [
       "\n",
       "            setTimeout(function() {\n",
       "                var nbb_cell_id = 8;\n",
       "                var nbb_unformatted_code = \"server.dict()\";\n",
       "                var nbb_formatted_code = \"server.dict()\";\n",
       "                var nbb_cells = Jupyter.notebook.get_cells();\n",
       "                for (var i = 0; i < nbb_cells.length; ++i) {\n",
       "                    if (nbb_cells[i].input_prompt_number == nbb_cell_id) {\n",
       "                        if (nbb_cells[i].get_text() == nbb_unformatted_code) {\n",
       "                             nbb_cells[i].set_text(nbb_formatted_code);\n",
       "                        }\n",
       "                        break;\n",
       "                    }\n",
       "                }\n",
       "            }, 500);\n",
       "            "
      ],
      "text/plain": [
       "<IPython.core.display.Javascript object>"
      ]
     },
     "metadata": {},
     "output_type": "display_data"
    }
   ],
   "source": [
    "server.dict()"
   ]
  },
  {
   "cell_type": "code",
   "execution_count": null,
   "id": "affected-coast",
   "metadata": {},
   "outputs": [
    {
     "name": "stdout",
     "output_type": "stream",
     "text": [
      "200 {'name': 'fastAPI/uvicorn', 'host': 'localhost', 'port': 5001}\n"
     ]
    },
    {
     "data": {
      "application/javascript": [
       "\n",
       "            setTimeout(function() {\n",
       "                var nbb_cell_id = 9;\n",
       "                var nbb_unformatted_code = \"server = FastAPIUvicornServer()\\ncontrol_servers = urljoin(control_base, \\\"servers/\\\")\\nr = httpx.post(control_servers, json=server.dict())\\nserver = FastAPIUvicornServer(**r.json())\\nprint(r.status_code, r.json())\";\n",
       "                var nbb_formatted_code = \"server = FastAPIUvicornServer()\\ncontrol_servers = urljoin(control_base, \\\"servers/\\\")\\nr = httpx.post(control_servers, json=server.dict())\\nserver = FastAPIUvicornServer(**r.json())\\nprint(r.status_code, r.json())\";\n",
       "                var nbb_cells = Jupyter.notebook.get_cells();\n",
       "                for (var i = 0; i < nbb_cells.length; ++i) {\n",
       "                    if (nbb_cells[i].input_prompt_number == nbb_cell_id) {\n",
       "                        if (nbb_cells[i].get_text() == nbb_unformatted_code) {\n",
       "                             nbb_cells[i].set_text(nbb_formatted_code);\n",
       "                        }\n",
       "                        break;\n",
       "                    }\n",
       "                }\n",
       "            }, 500);\n",
       "            "
      ],
      "text/plain": [
       "<IPython.core.display.Javascript object>"
      ]
     },
     "metadata": {},
     "output_type": "display_data"
    }
   ],
   "source": [
    "server = FastAPIUvicornServer()\n",
    "control_servers = urljoin(control_base, \"servers/\")\n",
    "r = httpx.post(control_servers, json=server.dict())\n",
    "server = FastAPIUvicornServer(**r.json())\n",
    "print(r.status_code, r.json())"
   ]
  },
  {
   "cell_type": "code",
   "execution_count": null,
   "id": "automated-projection",
   "metadata": {},
   "outputs": [
    {
     "data": {
      "text/plain": [
       "FastAPIUvicornServer(name='fastAPI/uvicorn', host='localhost', port=5001)"
      ]
     },
     "execution_count": null,
     "metadata": {},
     "output_type": "execute_result"
    },
    {
     "data": {
      "application/javascript": [
       "\n",
       "            setTimeout(function() {\n",
       "                var nbb_cell_id = 10;\n",
       "                var nbb_unformatted_code = \"server\";\n",
       "                var nbb_formatted_code = \"server\";\n",
       "                var nbb_cells = Jupyter.notebook.get_cells();\n",
       "                for (var i = 0; i < nbb_cells.length; ++i) {\n",
       "                    if (nbb_cells[i].input_prompt_number == nbb_cell_id) {\n",
       "                        if (nbb_cells[i].get_text() == nbb_unformatted_code) {\n",
       "                             nbb_cells[i].set_text(nbb_formatted_code);\n",
       "                        }\n",
       "                        break;\n",
       "                    }\n",
       "                }\n",
       "            }, 500);\n",
       "            "
      ],
      "text/plain": [
       "<IPython.core.display.Javascript object>"
      ]
     },
     "metadata": {},
     "output_type": "display_data"
    }
   ],
   "source": [
    "server"
   ]
  },
  {
   "cell_type": "code",
   "execution_count": null,
   "id": "strategic-lincoln",
   "metadata": {},
   "outputs": [
    {
     "data": {
      "application/javascript": [
       "\n",
       "            setTimeout(function() {\n",
       "                var nbb_cell_id = 11;\n",
       "                var nbb_unformatted_code = \"for efile in epoch.files:\\n    efile.port = 5001\";\n",
       "                var nbb_formatted_code = \"for efile in epoch.files:\\n    efile.port = 5001\";\n",
       "                var nbb_cells = Jupyter.notebook.get_cells();\n",
       "                for (var i = 0; i < nbb_cells.length; ++i) {\n",
       "                    if (nbb_cells[i].input_prompt_number == nbb_cell_id) {\n",
       "                        if (nbb_cells[i].get_text() == nbb_unformatted_code) {\n",
       "                             nbb_cells[i].set_text(nbb_formatted_code);\n",
       "                        }\n",
       "                        break;\n",
       "                    }\n",
       "                }\n",
       "            }, 500);\n",
       "            "
      ],
      "text/plain": [
       "<IPython.core.display.Javascript object>"
      ]
     },
     "metadata": {},
     "output_type": "display_data"
    }
   ],
   "source": [
    "for efile in epoch.files:\n",
    "    efile.port = 5001"
   ]
  },
  {
   "cell_type": "code",
   "execution_count": null,
   "id": "standard-decimal",
   "metadata": {},
   "outputs": [
    {
     "data": {
      "application/javascript": [
       "\n",
       "            setTimeout(function() {\n",
       "                var nbb_cell_id = 12;\n",
       "                var nbb_unformatted_code = \"client = HttpxClient(name=\\\"httpx\\\")\\n\\n\\nresult = Result(\\n    server=server.name,\\n    client=client.name,\\n    file_size=epoch.file_size,\\n    complete_size=epoch.complete_size,\\n)\";\n",
       "                var nbb_formatted_code = \"client = HttpxClient(name=\\\"httpx\\\")\\n\\n\\nresult = Result(\\n    server=server.name,\\n    client=client.name,\\n    file_size=epoch.file_size,\\n    complete_size=epoch.complete_size,\\n)\";\n",
       "                var nbb_cells = Jupyter.notebook.get_cells();\n",
       "                for (var i = 0; i < nbb_cells.length; ++i) {\n",
       "                    if (nbb_cells[i].input_prompt_number == nbb_cell_id) {\n",
       "                        if (nbb_cells[i].get_text() == nbb_unformatted_code) {\n",
       "                             nbb_cells[i].set_text(nbb_formatted_code);\n",
       "                        }\n",
       "                        break;\n",
       "                    }\n",
       "                }\n",
       "            }, 500);\n",
       "            "
      ],
      "text/plain": [
       "<IPython.core.display.Javascript object>"
      ]
     },
     "metadata": {},
     "output_type": "display_data"
    }
   ],
   "source": [
    "client = HttpxClient(name=\"httpx\")\n",
    "\n",
    "\n",
    "result = Result(\n",
    "    server=server.name,\n",
    "    client=client.name,\n",
    "    file_size=epoch.file_size,\n",
    "    complete_size=epoch.complete_size,\n",
    ")"
   ]
  },
  {
   "cell_type": "code",
   "execution_count": null,
   "id": "round-array",
   "metadata": {},
   "outputs": [
    {
     "name": "stdout",
     "output_type": "stream",
     "text": [
      "measure\n",
      "CPU times: user 8.64 ms, sys: 12.3 ms, total: 20.9 ms\n",
      "Wall time: 9.41 s\n"
     ]
    },
    {
     "data": {
      "application/javascript": [
       "\n",
       "            setTimeout(function() {\n",
       "                var nbb_cell_id = 13;\n",
       "                var nbb_unformatted_code = \"%%time\\nresult.elapsed = client.measure(epoch)\";\n",
       "                var nbb_formatted_code = \"%%time\\nresult.elapsed = client.measure(epoch)\";\n",
       "                var nbb_cells = Jupyter.notebook.get_cells();\n",
       "                for (var i = 0; i < nbb_cells.length; ++i) {\n",
       "                    if (nbb_cells[i].input_prompt_number == nbb_cell_id) {\n",
       "                        if (nbb_cells[i].get_text() == nbb_unformatted_code) {\n",
       "                             nbb_cells[i].set_text(nbb_formatted_code);\n",
       "                        }\n",
       "                        break;\n",
       "                    }\n",
       "                }\n",
       "            }, 500);\n",
       "            "
      ],
      "text/plain": [
       "<IPython.core.display.Javascript object>"
      ]
     },
     "metadata": {},
     "output_type": "display_data"
    }
   ],
   "source": [
    "%%time\n",
    "result.elapsed = client.measure(epoch)"
   ]
  },
  {
   "cell_type": "code",
   "execution_count": null,
   "id": "linear-artwork",
   "metadata": {},
   "outputs": [
    {
     "data": {
      "text/plain": [
       "Result(server='fastAPI/uvicorn', client='httpx', file_size=10000000, elapsed=6.730053406, complete_size=375000000)"
      ]
     },
     "execution_count": null,
     "metadata": {},
     "output_type": "execute_result"
    },
    {
     "data": {
      "application/javascript": [
       "\n",
       "            setTimeout(function() {\n",
       "                var nbb_cell_id = 14;\n",
       "                var nbb_unformatted_code = \"result\";\n",
       "                var nbb_formatted_code = \"result\";\n",
       "                var nbb_cells = Jupyter.notebook.get_cells();\n",
       "                for (var i = 0; i < nbb_cells.length; ++i) {\n",
       "                    if (nbb_cells[i].input_prompt_number == nbb_cell_id) {\n",
       "                        if (nbb_cells[i].get_text() == nbb_unformatted_code) {\n",
       "                             nbb_cells[i].set_text(nbb_formatted_code);\n",
       "                        }\n",
       "                        break;\n",
       "                    }\n",
       "                }\n",
       "            }, 500);\n",
       "            "
      ],
      "text/plain": [
       "<IPython.core.display.Javascript object>"
      ]
     },
     "metadata": {},
     "output_type": "display_data"
    }
   ],
   "source": [
    "result"
   ]
  },
  {
   "cell_type": "code",
   "execution_count": null,
   "id": "progressive-problem",
   "metadata": {},
   "outputs": [
    {
     "data": {
      "text/plain": [
       "55720211.6205614"
      ]
     },
     "execution_count": null,
     "metadata": {},
     "output_type": "execute_result"
    },
    {
     "data": {
      "application/javascript": [
       "\n",
       "            setTimeout(function() {\n",
       "                var nbb_cell_id = 15;\n",
       "                var nbb_unformatted_code = \"result.bytes_per_second\";\n",
       "                var nbb_formatted_code = \"result.bytes_per_second\";\n",
       "                var nbb_cells = Jupyter.notebook.get_cells();\n",
       "                for (var i = 0; i < nbb_cells.length; ++i) {\n",
       "                    if (nbb_cells[i].input_prompt_number == nbb_cell_id) {\n",
       "                        if (nbb_cells[i].get_text() == nbb_unformatted_code) {\n",
       "                             nbb_cells[i].set_text(nbb_formatted_code);\n",
       "                        }\n",
       "                        break;\n",
       "                    }\n",
       "                }\n",
       "            }, 500);\n",
       "            "
      ],
      "text/plain": [
       "<IPython.core.display.Javascript object>"
      ]
     },
     "metadata": {},
     "output_type": "display_data"
    }
   ],
   "source": [
    "result.bytes_per_second"
   ]
  },
  {
   "cell_type": "markdown",
   "id": "inappropriate-brazil",
   "metadata": {},
   "source": [
    "# Local Benchmark"
   ]
  },
  {
   "cell_type": "code",
   "execution_count": null,
   "id": "naughty-actress",
   "metadata": {},
   "outputs": [
    {
     "data": {
      "application/javascript": [
       "\n",
       "            setTimeout(function() {\n",
       "                var nbb_cell_id = 2;\n",
       "                var nbb_unformatted_code = \"# dont_test\\n\\nbyte = 8\\ngigabit = 10 ** 9\\nbandwidth = gigabit / byte\\nduration = 3\\nfile_size = 10 ** 7\\nfile_creator = FilesystemCreator()\\n\\n\\n# server = DjangoGunicornWSGIServer()\\nserver = FastAPIUvicornServer()\\n# client = AioHttpClient(name=\\\"aiohttp\\\")\\nclient = HttpxClient(name=\\\"httpx\\\")\\n# repository = SqliteRepository.build_repository(\\\"foo.db\\\")\\n\\nepoch = Epoch(file_size=file_size, duration=duration, file_creator=file_creator)\\n\\nepoch.create_files()\\n\\nresult = BenchmarkResult(\\n    server=server.name,\\n    client=client.name,\\n    file_size=epoch.file_size,\\n    complete_size=epoch.complete_size,\\n)\\n\\nif not server.started:\\n    server.start\\n\\n# result.elapsed = client.measure(epoch)\";\n",
       "                var nbb_formatted_code = \"# dont_test\\n\\nbyte = 8\\ngigabit = 10 ** 9\\nbandwidth = gigabit / byte\\nduration = 3\\nfile_size = 10 ** 7\\nfile_creator = FilesystemCreator()\\n\\n\\n# server = DjangoGunicornWSGIServer()\\nserver = FastAPIUvicornServer()\\n# client = AioHttpClient(name=\\\"aiohttp\\\")\\nclient = HttpxClient(name=\\\"httpx\\\")\\n# repository = SqliteRepository.build_repository(\\\"foo.db\\\")\\n\\nepoch = Epoch(file_size=file_size, duration=duration, file_creator=file_creator)\\n\\nepoch.create_files()\\n\\nresult = BenchmarkResult(\\n    server=server.name,\\n    client=client.name,\\n    file_size=epoch.file_size,\\n    complete_size=epoch.complete_size,\\n)\\n\\nif not server.started:\\n    server.start\\n\\n# result.elapsed = client.measure(epoch)\";\n",
       "                var nbb_cells = Jupyter.notebook.get_cells();\n",
       "                for (var i = 0; i < nbb_cells.length; ++i) {\n",
       "                    if (nbb_cells[i].input_prompt_number == nbb_cell_id) {\n",
       "                        if (nbb_cells[i].get_text() == nbb_unformatted_code) {\n",
       "                             nbb_cells[i].set_text(nbb_formatted_code);\n",
       "                        }\n",
       "                        break;\n",
       "                    }\n",
       "                }\n",
       "            }, 500);\n",
       "            "
      ],
      "text/plain": [
       "<IPython.core.display.Javascript object>"
      ]
     },
     "metadata": {},
     "output_type": "display_data"
    }
   ],
   "source": [
    "# dont_test\n",
    "\n",
    "byte = 8\n",
    "gigabit = 10 ** 9\n",
    "bandwidth = gigabit / byte\n",
    "duration = 3\n",
    "file_size = 10 ** 7\n",
    "file_creator = FilesystemCreator()\n",
    "\n",
    "\n",
    "# server = DjangoGunicornWSGIServer()\n",
    "server = FastAPIUvicornServer()\n",
    "# client = AioHttpClient(name=\"aiohttp\")\n",
    "client = HttpxClient(name=\"httpx\")\n",
    "# repository = SqliteRepository.build_repository(\"foo.db\")\n",
    "\n",
    "epoch = Epoch(file_size=file_size, duration=duration, file_creator=file_creator)\n",
    "\n",
    "epoch.create_files()\n",
    "\n",
    "result = BenchmarkResult(\n",
    "    server=server.name,\n",
    "    client=client.name,\n",
    "    file_size=epoch.file_size,\n",
    "    complete_size=epoch.complete_size,\n",
    ")\n",
    "\n",
    "if not server.started:\n",
    "    server.start\n",
    "\n",
    "result.elapsed = client.measure(epoch)"
   ]
  }
 ],
 "metadata": {
  "kernelspec": {
   "display_name": "Python 3",
   "language": "python",
   "name": "python3"
  }
 },
 "nbformat": 4,
 "nbformat_minor": 5
}
