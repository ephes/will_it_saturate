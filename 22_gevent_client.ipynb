{
 "cells": [
  {
   "cell_type": "code",
   "execution_count": null,
   "id": "98a5c6b3",
   "metadata": {},
   "outputs": [
    {
     "data": {
      "application/javascript": [
       "\n",
       "            setTimeout(function() {\n",
       "                var nbb_cell_id = 1;\n",
       "                var nbb_unformatted_code = \"# hide\\n\\n%load_ext nb_black\";\n",
       "                var nbb_formatted_code = \"# hide\\n\\n%load_ext nb_black\";\n",
       "                var nbb_cells = Jupyter.notebook.get_cells();\n",
       "                for (var i = 0; i < nbb_cells.length; ++i) {\n",
       "                    if (nbb_cells[i].input_prompt_number == nbb_cell_id) {\n",
       "                        if (nbb_cells[i].get_text() == nbb_unformatted_code) {\n",
       "                             nbb_cells[i].set_text(nbb_formatted_code);\n",
       "                        }\n",
       "                        break;\n",
       "                    }\n",
       "                }\n",
       "            }, 500);\n",
       "            "
      ],
      "text/plain": [
       "<IPython.core.display.Javascript object>"
      ]
     },
     "metadata": {},
     "output_type": "display_data"
    }
   ],
   "source": [
    "# hide\n",
    "\n",
    "%load_ext nb_black"
   ]
  },
  {
   "cell_type": "code",
   "execution_count": null,
   "id": "9beba46b",
   "metadata": {},
   "outputs": [
    {
     "data": {
      "application/javascript": [
       "\n",
       "            setTimeout(function() {\n",
       "                var nbb_cell_id = 2;\n",
       "                var nbb_unformatted_code = \"# default_exp gevent_client\";\n",
       "                var nbb_formatted_code = \"# default_exp gevent_client\";\n",
       "                var nbb_cells = Jupyter.notebook.get_cells();\n",
       "                for (var i = 0; i < nbb_cells.length; ++i) {\n",
       "                    if (nbb_cells[i].input_prompt_number == nbb_cell_id) {\n",
       "                        if (nbb_cells[i].get_text() == nbb_unformatted_code) {\n",
       "                             nbb_cells[i].set_text(nbb_formatted_code);\n",
       "                        }\n",
       "                        break;\n",
       "                    }\n",
       "                }\n",
       "            }, 500);\n",
       "            "
      ],
      "text/plain": [
       "<IPython.core.display.Javascript object>"
      ]
     },
     "metadata": {},
     "output_type": "display_data"
    }
   ],
   "source": [
    "# default_exp gevent_client"
   ]
  },
  {
   "cell_type": "code",
   "execution_count": null,
   "id": "6252a673",
   "metadata": {},
   "outputs": [],
   "source": [
    "# export\n",
    "# hide\n",
    "\n",
    "\n",
    "import gevent\n",
    "\n",
    "from gevent import monkey\n",
    "from gevent.pool import Pool\n",
    "\n",
    "monkey.patch_all()\n",
    "\n",
    "import time\n",
    "import requests\n",
    "\n",
    "from will_it_saturate.servers import BaseServer\n",
    "from will_it_saturate.clients import BaseClient\n",
    "from will_it_saturate.registry import register_model\n",
    "\n",
    "\n",
    "def fetch(url):\n",
    "    response = requests.get(url)\n",
    "    response.raise_for_status()\n",
    "    return response\n",
    "\n",
    "\n",
    "@register_model\n",
    "class GeventClient(BaseClient):\n",
    "    def measure_server(self, epoch):\n",
    "        print(\"measure server\")\n",
    "        print(epoch.urls[0])\n",
    "        start = time.perf_counter()\n",
    "        jobs = [gevent.spawn(fetch, _url) for _url in epoch.urls]\n",
    "        responses = gevent.wait(jobs)\n",
    "        elapsed = time.perf_counter() - start\n",
    "        responses = [r.value for r in responses]\n",
    "        print(len(responses))\n",
    "        return elapsed, responses\n",
    "\n",
    "    def measure(self, epoch):\n",
    "        print(\"measure\")\n",
    "        elapsed, responses = self.measure_server(epoch)\n",
    "        self.verify_checksums(epoch, responses)\n",
    "        return elapsed"
   ]
  },
  {
   "cell_type": "code",
   "execution_count": null,
   "id": "944fd3c1",
   "metadata": {},
   "outputs": [
    {
     "data": {
      "application/javascript": [
       "\n",
       "            setTimeout(function() {\n",
       "                var nbb_cell_id = 4;\n",
       "                var nbb_unformatted_code = \"# export\\n\\ndef run_httpx():\\n    typer.run(run_httpx_with_args)\";\n",
       "                var nbb_formatted_code = \"# export\\n\\n\\ndef run_httpx():\\n    typer.run(run_httpx_with_args)\";\n",
       "                var nbb_cells = Jupyter.notebook.get_cells();\n",
       "                for (var i = 0; i < nbb_cells.length; ++i) {\n",
       "                    if (nbb_cells[i].input_prompt_number == nbb_cell_id) {\n",
       "                        if (nbb_cells[i].get_text() == nbb_unformatted_code) {\n",
       "                             nbb_cells[i].set_text(nbb_formatted_code);\n",
       "                        }\n",
       "                        break;\n",
       "                    }\n",
       "                }\n",
       "            }, 500);\n",
       "            "
      ],
      "text/plain": [
       "<IPython.core.display.Javascript object>"
      ]
     },
     "metadata": {},
     "output_type": "display_data"
    }
   ],
   "source": [
    "# export\n",
    "\n",
    "import typer\n",
    "\n",
    "\n",
    "from will_it_saturate.hosts import Host\n",
    "from will_it_saturate.epochs import Epoch\n",
    "from will_it_saturate.servers import BaseServer\n",
    "from will_it_saturate.control.client import ControlClient\n",
    "\n",
    "\n",
    "def run_gevent_with_args(exponent: int, server_host_name: str):\n",
    "    print(\"running requests with gevent\") \n",
    "    typer.echo(f\"exponent {exponent}, server_host_name: {server_host_name}\")\n",
    "    control_server_port, server_port = 8100, 5100\n",
    "    server = BaseServer(host=server_host_name, port=server_port)\n",
    "    server_control_host = Host(name=server_host_name, port=control_server_port)\n",
    "    server_control_client = ControlClient(host=server_control_host)\n",
    "    epoch = Epoch(file_size=10 ** exponent, duration=10)\n",
    "    epoch.files = server_control_client.get_or_create_files(epoch)\n",
    "    epoch.create_urls_from_files(server)\n",
    "    benchmark_client = GeventClient(name=\"gevent\", host=server_host_name, port=server_port)\n",
    "    elapsed = benchmark_client.measure(epoch)\n",
    "    print(f\"elapsed: {elapsed}\")\n",
    "\n",
    "\n",
    "def run_gevent():\n",
    "    typer.run(run_gevent_with_args)"
   ]
  },
  {
   "cell_type": "code",
   "execution_count": null,
   "id": "32d01031",
   "metadata": {},
   "outputs": [
    {
     "name": "stdout",
     "output_type": "stream",
     "text": [
      "Converted 00_index.ipynb.\n",
      "Converted 01_host.ipynb.\n",
      "Converted 02_file.ipynb.\n",
      "Converted 03_registry.ipynb.\n",
      "Converted 04_epochs.ipynb.\n",
      "Converted 10_servers.ipynb.\n",
      "Converted 11_views_for_fastapi_server.ipynb.\n",
      "Converted 12_views_for_django_server.ipynb.\n",
      "Converted 13_django_asgi.ipynb.\n",
      "Converted 14_django_async_file_response.ipynb.\n",
      "Converted 15_servers_started_locally.ipynb.\n",
      "Converted 16_servers_started_via_docker.ipynb.\n",
      "Converted 20_clients.ipynb.\n",
      "Converted 21_benchmark_client_implementations.ipynb.\n",
      "Converted 22_gevent_client.ipynb.\n",
      "Converted 30_control_server.ipynb.\n",
      "Converted 31_control_client.ipynb.\n",
      "Converted 32_control_cli.ipynb.\n",
      "Converted 40_results.ipynb.\n",
      "Converted 41_repositories.ipynb.\n",
      "Converted 42_sqlite_repository.ipynb.\n",
      "Converted 50_benchmark_without_benchmark.ipynb.\n",
      "Converted 51_benchmark_remote_control_server.ipynb.\n",
      "Converted 52_benchmark_from_config.ipynb.\n",
      "Converted 52_generate_files_for_benchmark.ipynb.\n",
      "Converted 53_analyze.ipynb.\n",
      "Converted 60_legacy.ipynb.\n",
      "Converted 61_run_benchmark.ipynb.\n"
     ]
    }
   ],
   "source": [
    "# hide\n",
    "# dont_test\n",
    "\n",
    "from nbdev.export import notebook2script\n",
    "\n",
    "notebook2script()"
   ]
  },
  {
   "cell_type": "code",
   "execution_count": null,
   "id": "b4fa1371",
   "metadata": {},
   "outputs": [],
   "source": []
  }
 ],
 "metadata": {
  "kernelspec": {
   "display_name": "Python 3",
   "language": "python",
   "name": "python3"
  }
 },
 "nbformat": 4,
 "nbformat_minor": 5
}
