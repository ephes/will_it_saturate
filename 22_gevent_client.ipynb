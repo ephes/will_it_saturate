{
 "cells": [
  {
   "cell_type": "code",
   "execution_count": null,
   "id": "c433eaff",
   "metadata": {},
   "outputs": [
    {
     "data": {
      "application/javascript": [
       "\n",
       "            setTimeout(function() {\n",
       "                var nbb_cell_id = 4;\n",
       "                var nbb_unformatted_code = \"# hide\\n\\n%load_ext nb_black\";\n",
       "                var nbb_formatted_code = \"# hide\\n\\n%load_ext nb_black\";\n",
       "                var nbb_cells = Jupyter.notebook.get_cells();\n",
       "                for (var i = 0; i < nbb_cells.length; ++i) {\n",
       "                    if (nbb_cells[i].input_prompt_number == nbb_cell_id) {\n",
       "                        if (nbb_cells[i].get_text() == nbb_unformatted_code) {\n",
       "                             nbb_cells[i].set_text(nbb_formatted_code);\n",
       "                        }\n",
       "                        break;\n",
       "                    }\n",
       "                }\n",
       "            }, 500);\n",
       "            "
      ],
      "text/plain": [
       "<IPython.core.display.Javascript object>"
      ]
     },
     "metadata": {},
     "output_type": "display_data"
    }
   ],
   "source": [
    "# hide\n",
    "\n",
    "%load_ext nb_black"
   ]
  },
  {
   "cell_type": "code",
   "execution_count": null,
   "id": "b9cc3bb3",
   "metadata": {},
   "outputs": [
    {
     "data": {
      "application/javascript": [
       "\n",
       "            setTimeout(function() {\n",
       "                var nbb_cell_id = 5;\n",
       "                var nbb_unformatted_code = \"# default_exp gevent_client\";\n",
       "                var nbb_formatted_code = \"# default_exp gevent_client\";\n",
       "                var nbb_cells = Jupyter.notebook.get_cells();\n",
       "                for (var i = 0; i < nbb_cells.length; ++i) {\n",
       "                    if (nbb_cells[i].input_prompt_number == nbb_cell_id) {\n",
       "                        if (nbb_cells[i].get_text() == nbb_unformatted_code) {\n",
       "                             nbb_cells[i].set_text(nbb_formatted_code);\n",
       "                        }\n",
       "                        break;\n",
       "                    }\n",
       "                }\n",
       "            }, 500);\n",
       "            "
      ],
      "text/plain": [
       "<IPython.core.display.Javascript object>"
      ]
     },
     "metadata": {},
     "output_type": "display_data"
    }
   ],
   "source": [
    "# default_exp gevent_client"
   ]
  },
  {
   "cell_type": "code",
   "execution_count": null,
   "id": "d6aa14c3",
   "metadata": {},
   "outputs": [
    {
     "name": "stderr",
     "output_type": "stream",
     "text": [
      "<ipython-input-3-a208846a70b7>:7: MonkeyPatchWarning: Monkey-patching ssl after ssl has already been imported may lead to errors, including RecursionError on Python 3.6. It may also silently lead to incorrect behaviour on Python 3.7. Please monkey-patch earlier. See https://github.com/gevent/gevent/issues/1016. Modules that had direct imports (NOT patched): ['httpcore._sync.http_proxy (/Users/jochen/.virtualenvs/wis/lib/python3.9/site-packages/httpcore/_sync/http_proxy.py)', 'httpcore._sync.http11 (/Users/jochen/.virtualenvs/wis/lib/python3.9/site-packages/httpcore/_sync/http11.py)', 'httpcore._async.http11 (/Users/jochen/.virtualenvs/wis/lib/python3.9/site-packages/httpcore/_async/http11.py)', 'httpcore._async.connection_pool (/Users/jochen/.virtualenvs/wis/lib/python3.9/site-packages/httpcore/_async/connection_pool.py)', 'httpcore._backends.auto (/Users/jochen/.virtualenvs/wis/lib/python3.9/site-packages/httpcore/_backends/auto.py)', 'urllib3.util.ssl_ (/Users/jochen/.virtualenvs/wis/lib/python3.9/site-packages/urllib3/util/ssl_.py)', 'httpcore._async.connection (/Users/jochen/.virtualenvs/wis/lib/python3.9/site-packages/httpcore/_async/connection.py)', 'httpcore._sync.connection (/Users/jochen/.virtualenvs/wis/lib/python3.9/site-packages/httpcore/_sync/connection.py)', 'urllib3.util (/Users/jochen/.virtualenvs/wis/lib/python3.9/site-packages/urllib3/util/__init__.py)', 'httpcore._sync.connection_pool (/Users/jochen/.virtualenvs/wis/lib/python3.9/site-packages/httpcore/_sync/connection_pool.py)', 'httpcore._backends.sync (/Users/jochen/.virtualenvs/wis/lib/python3.9/site-packages/httpcore/_backends/sync.py)', 'httpcore._backends.base (/Users/jochen/.virtualenvs/wis/lib/python3.9/site-packages/httpcore/_backends/base.py)', 'httpcore._async.http_proxy (/Users/jochen/.virtualenvs/wis/lib/python3.9/site-packages/httpcore/_async/http_proxy.py)']. \n",
      "  monkey.patch_all()\n"
     ]
    }
   ],
   "source": [
    "# export\n",
    "\n",
    "import gevent\n",
    "\n",
    "from gevent import monkey\n",
    "\n",
    "monkey.patch_all()\n",
    "\n",
    "\n",
    "import time\n",
    "import requests\n",
    "\n",
    "from datetime import datetime\n",
    "\n",
    "from will_it_saturate.servers import BaseServer\n",
    "from will_it_saturate.clients import BaseClient\n",
    "from will_it_saturate.registry import register_model\n",
    "\n",
    "\n",
    "def fetch(url):\n",
    "    response = requests.get(url)\n",
    "    response.raise_for_status()\n",
    "    started = datetime.now()\n",
    "    stopped = datetime.now()\n",
    "    response.started = started\n",
    "    response.stopped = stopped\n",
    "    return response\n",
    "\n",
    "\n",
    "class FakeResponse:\n",
    "    def __init__(self, url, content, started, stopped):\n",
    "        self.url = url\n",
    "        self.content = content\n",
    "        self.started = started\n",
    "        self.stopped = stopped\n",
    "\n",
    "\n",
    "def streaming_fetch(url):\n",
    "    chunks = []\n",
    "    with requests.get(url, stream=True) as r:\n",
    "        r.raise_for_status()\n",
    "        started = datetime.now()\n",
    "        for chunk in r.iter_content(chunk_size=4096):\n",
    "            chunks.append(chunk)\n",
    "    stopped = datetime.now()\n",
    "    response = FakeResponse(url, b\"\".join(chunks), started, stopped)\n",
    "    return response\n",
    "\n",
    "\n",
    "@register_model\n",
    "class GeventClient(BaseClient):\n",
    "    timestamps = []\n",
    "\n",
    "    def set_timestamps(self, responses):\n",
    "        for response in responses:\n",
    "            self.timestamps.append((response.started, response.stopped))\n",
    "\n",
    "    def measure_server(self, epoch):\n",
    "        print(\"measure server\")\n",
    "        print(epoch.urls[0])\n",
    "        start = time.perf_counter()\n",
    "        # jobs = [gevent.spawn(fetch, _url) for _url in epoch.urls]\n",
    "        jobs = [gevent.spawn(streaming_fetch, _url) for _url in epoch.urls]\n",
    "        responses = gevent.wait(jobs)\n",
    "        elapsed = time.perf_counter() - start\n",
    "        responses = [r.value for r in responses]\n",
    "        return elapsed, responses\n",
    "\n",
    "    def measure(self, epoch):\n",
    "        print(\"measure\")\n",
    "        # monkey.patch_all()\n",
    "        elapsed, responses = self.measure_server(epoch)\n",
    "        self.verify_checksums(epoch, responses)\n",
    "#         for response in responses:\n",
    "#             print(response.url, len(response.content))\n",
    "        self.set_timestamps(responses)\n",
    "        return elapsed"
   ]
  },
  {
   "cell_type": "code",
   "execution_count": null,
   "id": "57b2081c",
   "metadata": {},
   "outputs": [
    {
     "data": {
      "application/javascript": [
       "\n",
       "            setTimeout(function() {\n",
       "                var nbb_cell_id = 8;\n",
       "                var nbb_unformatted_code = \"# export\\n\\nimport typer\\n\\n\\nfrom will_it_saturate.hosts import Host\\nfrom will_it_saturate.epochs import Epoch\\nfrom will_it_saturate.servers import BaseServer\\nfrom will_it_saturate.control.client import ControlClient\\n\\n\\ndef run_gevent_with_args(exponent: int, server_host_name: str):\\n    print(\\\"running requests with gevent\\\") \\n    typer.echo(f\\\"exponent {exponent}, server_host_name: {server_host_name}\\\")\\n    control_server_port, server_port = 8100, 5100\\n    server = BaseServer(host=server_host_name, port=server_port)\\n    server_control_host = Host(name=server_host_name, port=control_server_port)\\n    server_control_client = ControlClient(host=server_control_host)\\n    epoch = Epoch(file_size=10 ** exponent, duration=10)\\n    epoch.files = server_control_client.get_or_create_files(epoch)\\n    epoch.create_urls_from_files(server)\\n    benchmark_client = GeventClient(name=\\\"gevent\\\", host=server_host_name, port=server_port)\\n    elapsed = benchmark_client.measure(epoch)\\n    print(f\\\"elapsed: {elapsed}\\\")\\n\\n\\ndef run_gevent():\\n    typer.run(run_gevent_with_args)\";\n",
       "                var nbb_formatted_code = \"# export\\n\\nimport typer\\n\\n\\nfrom will_it_saturate.hosts import Host\\nfrom will_it_saturate.epochs import Epoch\\nfrom will_it_saturate.servers import BaseServer\\nfrom will_it_saturate.control.client import ControlClient\\n\\n\\ndef run_gevent_with_args(exponent: int, server_host_name: str):\\n    print(\\\"running requests with gevent\\\")\\n    typer.echo(f\\\"exponent {exponent}, server_host_name: {server_host_name}\\\")\\n    control_server_port, server_port = 8100, 5100\\n    server = BaseServer(host=server_host_name, port=server_port)\\n    server_control_host = Host(name=server_host_name, port=control_server_port)\\n    server_control_client = ControlClient(host=server_control_host)\\n    epoch = Epoch(file_size=10 ** exponent, duration=10)\\n    epoch.files = server_control_client.get_or_create_files(epoch)\\n    epoch.create_urls_from_files(server)\\n    benchmark_client = GeventClient(\\n        name=\\\"gevent\\\", host=server_host_name, port=server_port\\n    )\\n    elapsed = benchmark_client.measure(epoch)\\n    print(f\\\"elapsed: {elapsed}\\\")\\n\\n\\ndef run_gevent():\\n    typer.run(run_gevent_with_args)\";\n",
       "                var nbb_cells = Jupyter.notebook.get_cells();\n",
       "                for (var i = 0; i < nbb_cells.length; ++i) {\n",
       "                    if (nbb_cells[i].input_prompt_number == nbb_cell_id) {\n",
       "                        if (nbb_cells[i].get_text() == nbb_unformatted_code) {\n",
       "                             nbb_cells[i].set_text(nbb_formatted_code);\n",
       "                        }\n",
       "                        break;\n",
       "                    }\n",
       "                }\n",
       "            }, 500);\n",
       "            "
      ],
      "text/plain": [
       "<IPython.core.display.Javascript object>"
      ]
     },
     "metadata": {},
     "output_type": "display_data"
    }
   ],
   "source": [
    "# export\n",
    "\n",
    "import typer\n",
    "\n",
    "\n",
    "from will_it_saturate.hosts import Host\n",
    "from will_it_saturate.epochs import Epoch\n",
    "from will_it_saturate.servers import BaseServer\n",
    "from will_it_saturate.control.client import ControlClient\n",
    "\n",
    "\n",
    "def run_gevent_with_args(exponent: int, server_host_name: str):\n",
    "    print(\"running requests with gevent\")\n",
    "    typer.echo(f\"exponent {exponent}, server_host_name: {server_host_name}\")\n",
    "    control_server_port, server_port = 8100, 5100\n",
    "    server = BaseServer(host=server_host_name, port=server_port)\n",
    "    server_control_host = Host(name=server_host_name, port=control_server_port)\n",
    "    server_control_client = ControlClient(host=server_control_host)\n",
    "    # epoch = Epoch(file_size=10 ** exponent, duration=10, file_creator_name=\"minio\")\n",
    "    epoch = Epoch(file_size=10 ** exponent, duration=10)\n",
    "    epoch.files = server_control_client.get_or_create_files(epoch)\n",
    "    epoch.create_urls_from_files(server)\n",
    "    benchmark_client = GeventClient(\n",
    "        name=\"gevent\", host=server_host_name, port=server_port\n",
    "    )\n",
    "    elapsed = benchmark_client.measure(epoch)\n",
    "    print(f\"elapsed: {elapsed}\")\n",
    "\n",
    "\n",
    "def run_gevent():\n",
    "    typer.run(run_gevent_with_args)"
   ]
  },
  {
   "cell_type": "code",
   "execution_count": null,
   "id": "7164c9f0",
   "metadata": {},
   "outputs": [
    {
     "name": "stdout",
     "output_type": "stream",
     "text": [
      "Converted 00_index.ipynb.\n",
      "Converted 01_config.ipynb.\n",
      "Converted 01_host.ipynb.\n",
      "Converted 02_file.ipynb.\n",
      "Converted 03_registry.ipynb.\n",
      "Converted 04_epochs.ipynb.\n",
      "Converted 10_servers.ipynb.\n",
      "Converted 11_fastapi_main.ipynb.\n",
      "Converted 12_django_views.ipynb.\n",
      "Converted 13_django_handlers.ipynb.\n",
      "Converted 14_django_http.ipynb.\n",
      "Converted 15_django_asgi.ipynb.\n",
      "Converted 15_django_async_settings.ipynb.\n",
      "Converted 15_django_settings.ipynb.\n",
      "Converted 15_django_urls.ipynb.\n",
      "Converted 15_django_wsgi.ipynb.\n",
      "Converted 16_minio.ipynb.\n",
      "Converted 16_servers_started_locally.ipynb.\n",
      "Converted 16_servers_started_via_docker.ipynb.\n",
      "Converted 20_clients.ipynb.\n",
      "Converted 21_benchmark_client_implementations.ipynb.\n",
      "Converted 22_gevent_client.ipynb.\n",
      "Converted 30_control_server.ipynb.\n",
      "Converted 31_control_client.ipynb.\n",
      "Converted 32_control_cli.ipynb.\n",
      "Converted 40_results.ipynb.\n",
      "Converted 41_repositories.ipynb.\n",
      "Converted 42_sqlite_repository.ipynb.\n",
      "Converted 50_benchmark_without_benchmark.ipynb.\n",
      "Converted 51_benchmark_remote_control_server.ipynb.\n",
      "Converted 52_benchmark_from_config.ipynb.\n",
      "Converted 52_generate_files_for_benchmark.ipynb.\n",
      "Converted 53_analyze.ipynb.\n",
      "Converted 54_measure_with_plots.ipynb.\n",
      "Converted 54_measure_with_plots_not_gevent.ipynb.\n",
      "Converted 55_create_minio_files.ipynb.\n",
      "Converted 60_legacy.ipynb.\n",
      "Converted 61_run_benchmark.ipynb.\n"
     ]
    }
   ],
   "source": [
    "# hide\n",
    "# dont_test\n",
    "\n",
    "from nbdev.export import notebook2script\n",
    "\n",
    "notebook2script()"
   ]
  },
  {
   "cell_type": "code",
   "execution_count": null,
   "id": "d05abd80",
   "metadata": {},
   "outputs": [],
   "source": []
  }
 ],
 "metadata": {
  "kernelspec": {
   "display_name": "Python 3",
   "language": "python",
   "name": "python3"
  }
 },
 "nbformat": 4,
 "nbformat_minor": 5
}
