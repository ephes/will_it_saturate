{
 "cells": [
  {
   "cell_type": "code",
   "execution_count": null,
   "metadata": {},
   "outputs": [
    {
     "data": {
      "application/javascript": [
       "\n",
       "            setTimeout(function() {\n",
       "                var nbb_cell_id = 1;\n",
       "                var nbb_unformatted_code = \"%load_ext nb_black\";\n",
       "                var nbb_formatted_code = \"%load_ext nb_black\";\n",
       "                var nbb_cells = Jupyter.notebook.get_cells();\n",
       "                for (var i = 0; i < nbb_cells.length; ++i) {\n",
       "                    if (nbb_cells[i].input_prompt_number == nbb_cell_id) {\n",
       "                        if (nbb_cells[i].get_text() == nbb_unformatted_code) {\n",
       "                             nbb_cells[i].set_text(nbb_formatted_code);\n",
       "                        }\n",
       "                        break;\n",
       "                    }\n",
       "                }\n",
       "            }, 500);\n",
       "            "
      ],
      "text/plain": [
       "<IPython.core.display.Javascript object>"
      ]
     },
     "metadata": {},
     "output_type": "display_data"
    }
   ],
   "source": [
    "%load_ext nb_black"
   ]
  },
  {
   "cell_type": "markdown",
   "metadata": {},
   "source": [
    "# Will it Saturate?\n",
    "\n",
    "> Just a test to see if we are abe to saturate 1Gbit with file responsens using just pure Python without nginx or something like that. "
   ]
  },
  {
   "cell_type": "markdown",
   "metadata": {},
   "source": [
    "This file will become your README and also the index of your documentation."
   ]
  },
  {
   "cell_type": "markdown",
   "metadata": {},
   "source": [
    "## Install"
   ]
  },
  {
   "cell_type": "markdown",
   "metadata": {},
   "source": [
    "`pip install will_it_saturate`"
   ]
  },
  {
   "cell_type": "markdown",
   "metadata": {},
   "source": [
    "## How to use"
   ]
  },
  {
   "cell_type": "markdown",
   "metadata": {},
   "source": [
    "Start control server\n",
    "\n",
    "`wis_control_server`"
   ]
  },
  {
   "cell_type": "code",
   "execution_count": null,
   "metadata": {},
   "outputs": [
    {
     "data": {
      "application/javascript": [
       "\n",
       "            setTimeout(function() {\n",
       "                var nbb_cell_id = 5;\n",
       "                var nbb_unformatted_code = \"import httpx\\nimport pandas as pd\\n\\nfrom urllib.parse import urljoin\\n\\nfrom will_it_saturate import servers\\nfrom will_it_saturate import clients\\nfrom will_it_saturate.epochs import Epoch\\nfrom will_it_saturate.hosts import Host, HostDetails\\n\\nfrom will_it_saturate.results import Result\\nfrom will_it_saturate.files import BenchmarkFile\\nfrom will_it_saturate.control.client import ControlClient\\nfrom will_it_saturate.repositories import SqliteRepository, register_default_tables\";\n",
       "                var nbb_formatted_code = \"import httpx\\nimport pandas as pd\\n\\nfrom urllib.parse import urljoin\\n\\nfrom will_it_saturate import servers\\nfrom will_it_saturate import clients\\nfrom will_it_saturate.epochs import Epoch\\nfrom will_it_saturate.hosts import Host, HostDetails\\n\\nfrom will_it_saturate.results import Result\\nfrom will_it_saturate.files import BenchmarkFile\\nfrom will_it_saturate.control.client import ControlClient\\nfrom will_it_saturate.repositories import SqliteRepository, register_default_tables\";\n",
       "                var nbb_cells = Jupyter.notebook.get_cells();\n",
       "                for (var i = 0; i < nbb_cells.length; ++i) {\n",
       "                    if (nbb_cells[i].input_prompt_number == nbb_cell_id) {\n",
       "                        if (nbb_cells[i].get_text() == nbb_unformatted_code) {\n",
       "                             nbb_cells[i].set_text(nbb_formatted_code);\n",
       "                        }\n",
       "                        break;\n",
       "                    }\n",
       "                }\n",
       "            }, 500);\n",
       "            "
      ],
      "text/plain": [
       "<IPython.core.display.Javascript object>"
      ]
     },
     "metadata": {},
     "output_type": "display_data"
    }
   ],
   "source": [
    "import httpx\n",
    "import pandas as pd\n",
    "\n",
    "from urllib.parse import urljoin\n",
    "\n",
    "from will_it_saturate import servers\n",
    "from will_it_saturate import clients\n",
    "from will_it_saturate.epochs import Epoch\n",
    "from will_it_saturate.hosts import Host, HostDetails\n",
    "\n",
    "from will_it_saturate.results import Result\n",
    "from will_it_saturate.files import BenchmarkFile\n",
    "from will_it_saturate.control.client import ControlClient\n",
    "from will_it_saturate.repositories import SqliteRepository, register_default_tables"
   ]
  },
  {
   "cell_type": "markdown",
   "metadata": {},
   "source": [
    "### Create Benchmark Server\n",
    "\n",
    "create server control client + server (needed for turning files into urls)"
   ]
  },
  {
   "cell_type": "code",
   "execution_count": null,
   "metadata": {},
   "outputs": [
    {
     "data": {
      "application/javascript": [
       "\n",
       "            setTimeout(function() {\n",
       "                var nbb_cell_id = 4;\n",
       "                var nbb_unformatted_code = \"# dont_test\\n\\nserver_control_host = Host(name=\\\"localhost\\\", port=8001)\\nserver_control_client = ControlClient(host=server_control_host)\\nserver_details = server_control_client.get_host_details()\\nserver = server_control_client.get_or_create_server(\\n    servers.FastAPIUvicornServer(host=\\\"localhost\\\", port=5001)\\n)\";\n",
       "                var nbb_formatted_code = \"# dont_test\\n\\nserver_control_host = Host(name=\\\"localhost\\\", port=8001)\\nserver_control_client = ControlClient(host=server_control_host)\\nserver_details = server_control_client.get_host_details()\\nserver = server_control_client.get_or_create_server(\\n    servers.FastAPIUvicornServer(host=\\\"localhost\\\", port=5001)\\n)\";\n",
       "                var nbb_cells = Jupyter.notebook.get_cells();\n",
       "                for (var i = 0; i < nbb_cells.length; ++i) {\n",
       "                    if (nbb_cells[i].input_prompt_number == nbb_cell_id) {\n",
       "                        if (nbb_cells[i].get_text() == nbb_unformatted_code) {\n",
       "                             nbb_cells[i].set_text(nbb_formatted_code);\n",
       "                        }\n",
       "                        break;\n",
       "                    }\n",
       "                }\n",
       "            }, 500);\n",
       "            "
      ],
      "text/plain": [
       "<IPython.core.display.Javascript object>"
      ]
     },
     "metadata": {},
     "output_type": "display_data"
    }
   ],
   "source": [
    "# dont_test\n",
    "\n",
    "server_control_host = Host(name=\"localhost\", port=8001)\n",
    "server_control_client = ControlClient(host=server_control_host)\n",
    "server_details = server_control_client.get_host_details()\n",
    "server = server_control_client.get_or_create_server(\n",
    "    servers.FastAPIUvicornServer(host=\"localhost\", port=5001)\n",
    ")"
   ]
  },
  {
   "cell_type": "markdown",
   "metadata": {},
   "source": [
    "### Create Files and Urls"
   ]
  },
  {
   "cell_type": "code",
   "execution_count": null,
   "metadata": {},
   "outputs": [
    {
     "data": {
      "application/javascript": [
       "\n",
       "            setTimeout(function() {\n",
       "                var nbb_cell_id = 6;\n",
       "                var nbb_unformatted_code = \"byte, file_size, duration = 8, 10 ** 7, 3\\nepoch = Epoch(file_size=file_size, duration=duration)\\nfiles = server_control_client.get_or_create_files(epoch)\\nepoch.urls = [server.file_to_url(file) for file in files]\";\n",
       "                var nbb_formatted_code = \"byte, file_size, duration = 8, 10 ** 7, 3\\nepoch = Epoch(file_size=file_size, duration=duration)\\nfiles = server_control_client.get_or_create_files(epoch)\\nepoch.urls = [server.file_to_url(file) for file in files]\";\n",
       "                var nbb_cells = Jupyter.notebook.get_cells();\n",
       "                for (var i = 0; i < nbb_cells.length; ++i) {\n",
       "                    if (nbb_cells[i].input_prompt_number == nbb_cell_id) {\n",
       "                        if (nbb_cells[i].get_text() == nbb_unformatted_code) {\n",
       "                             nbb_cells[i].set_text(nbb_formatted_code);\n",
       "                        }\n",
       "                        break;\n",
       "                    }\n",
       "                }\n",
       "            }, 500);\n",
       "            "
      ],
      "text/plain": [
       "<IPython.core.display.Javascript object>"
      ]
     },
     "metadata": {},
     "output_type": "display_data"
    }
   ],
   "source": [
    "# dont_test\n",
    "\n",
    "byte, file_size, duration = 8, 10 ** 7, 3\n",
    "epoch = Epoch(file_size=file_size, duration=duration)\n",
    "files = server_control_client.get_or_create_files(epoch)\n",
    "epoch.urls = [server.file_to_url(file) for file in files]"
   ]
  },
  {
   "cell_type": "markdown",
   "metadata": {},
   "source": [
    "### Create Control Client"
   ]
  },
  {
   "cell_type": "code",
   "execution_count": null,
   "metadata": {},
   "outputs": [
    {
     "data": {
      "application/javascript": [
       "\n",
       "            setTimeout(function() {\n",
       "                var nbb_cell_id = 7;\n",
       "                var nbb_unformatted_code = \"client_control_host = Host(name=\\\"localhost\\\", port=8001)\\nclient_control_client = ControlClient(host=client_control_host)\\nclient_details = client_control_client.get_host_details()\\nbenchmark_client = clients.HttpxClient(name=\\\"httpx\\\")\";\n",
       "                var nbb_formatted_code = \"client_control_host = Host(name=\\\"localhost\\\", port=8001)\\nclient_control_client = ControlClient(host=client_control_host)\\nclient_details = client_control_client.get_host_details()\\nbenchmark_client = clients.HttpxClient(name=\\\"httpx\\\")\";\n",
       "                var nbb_cells = Jupyter.notebook.get_cells();\n",
       "                for (var i = 0; i < nbb_cells.length; ++i) {\n",
       "                    if (nbb_cells[i].input_prompt_number == nbb_cell_id) {\n",
       "                        if (nbb_cells[i].get_text() == nbb_unformatted_code) {\n",
       "                             nbb_cells[i].set_text(nbb_formatted_code);\n",
       "                        }\n",
       "                        break;\n",
       "                    }\n",
       "                }\n",
       "            }, 500);\n",
       "            "
      ],
      "text/plain": [
       "<IPython.core.display.Javascript object>"
      ]
     },
     "metadata": {},
     "output_type": "display_data"
    }
   ],
   "source": [
    "# dont_test\n",
    "\n",
    "client_control_host = Host(name=\"localhost\", port=8001)\n",
    "client_control_client = ControlClient(host=client_control_host)\n",
    "client_details = client_control_client.get_host_details()\n",
    "benchmark_client = clients.HttpxClient(name=\"httpx\")"
   ]
  },
  {
   "cell_type": "markdown",
   "metadata": {},
   "source": [
    "### Create Result"
   ]
  },
  {
   "cell_type": "code",
   "execution_count": null,
   "metadata": {},
   "outputs": [
    {
     "data": {
      "application/javascript": [
       "\n",
       "            setTimeout(function() {\n",
       "                var nbb_cell_id = 8;\n",
       "                var nbb_unformatted_code = \"# dont_test\\n\\nresult = Result(\\n    server=server,\\n    client=benchmark_client,\\n    server_details=server_details,\\n    client_details=client_details,\\n    file_size=epoch.file_size,\\n    complete_size=epoch.complete_size,\\n)\";\n",
       "                var nbb_formatted_code = \"# dont_test\\n\\nresult = Result(\\n    server=server,\\n    client=benchmark_client,\\n    server_details=server_details,\\n    client_details=client_details,\\n    file_size=epoch.file_size,\\n    complete_size=epoch.complete_size,\\n)\";\n",
       "                var nbb_cells = Jupyter.notebook.get_cells();\n",
       "                for (var i = 0; i < nbb_cells.length; ++i) {\n",
       "                    if (nbb_cells[i].input_prompt_number == nbb_cell_id) {\n",
       "                        if (nbb_cells[i].get_text() == nbb_unformatted_code) {\n",
       "                             nbb_cells[i].set_text(nbb_formatted_code);\n",
       "                        }\n",
       "                        break;\n",
       "                    }\n",
       "                }\n",
       "            }, 500);\n",
       "            "
      ],
      "text/plain": [
       "<IPython.core.display.Javascript object>"
      ]
     },
     "metadata": {},
     "output_type": "display_data"
    }
   ],
   "source": [
    "# dont_test\n",
    "\n",
    "result = Result(\n",
    "    server=server,\n",
    "    client=benchmark_client,\n",
    "    server_details=server_details,\n",
    "    client_details=client_details,\n",
    "    file_size=epoch.file_size,\n",
    "    complete_size=epoch.complete_size,\n",
    ")"
   ]
  },
  {
   "cell_type": "markdown",
   "metadata": {},
   "source": [
    "### Measure Server with Client"
   ]
  },
  {
   "cell_type": "code",
   "execution_count": null,
   "metadata": {},
   "outputs": [
    {
     "data": {
      "application/javascript": [
       "\n",
       "            setTimeout(function() {\n",
       "                var nbb_cell_id = 9;\n",
       "                var nbb_unformatted_code = \"# dont_test\\n\\nresult.elapsed = client_control_client.measure(benchmark_client, epoch)\";\n",
       "                var nbb_formatted_code = \"# dont_test\\n\\nresult.elapsed = client_control_client.measure(benchmark_client, epoch)\";\n",
       "                var nbb_cells = Jupyter.notebook.get_cells();\n",
       "                for (var i = 0; i < nbb_cells.length; ++i) {\n",
       "                    if (nbb_cells[i].input_prompt_number == nbb_cell_id) {\n",
       "                        if (nbb_cells[i].get_text() == nbb_unformatted_code) {\n",
       "                             nbb_cells[i].set_text(nbb_formatted_code);\n",
       "                        }\n",
       "                        break;\n",
       "                    }\n",
       "                }\n",
       "            }, 500);\n",
       "            "
      ],
      "text/plain": [
       "<IPython.core.display.Javascript object>"
      ]
     },
     "metadata": {},
     "output_type": "display_data"
    }
   ],
   "source": [
    "# dont_test\n",
    "\n",
    "result.elapsed = client_control_client.measure(benchmark_client, epoch)"
   ]
  },
  {
   "cell_type": "markdown",
   "metadata": {},
   "source": [
    "### Save Result\n",
    "\n",
    "We are using a sqlite database for saving benchmark results."
   ]
  },
  {
   "cell_type": "code",
   "execution_count": null,
   "metadata": {},
   "outputs": [
    {
     "data": {
      "application/javascript": [
       "\n",
       "            setTimeout(function() {\n",
       "                var nbb_cell_id = 10;\n",
       "                var nbb_unformatted_code = \"# dont_test\\n\\nrepository = SqliteRepository.build_repository(\\\"results.db\\\")\\nregister_default_tables(repository)\\nresults = repository.tables[\\\"result\\\"]\";\n",
       "                var nbb_formatted_code = \"# dont_test\\n\\nrepository = SqliteRepository.build_repository(\\\"results.db\\\")\\nregister_default_tables(repository)\\nresults = repository.tables[\\\"result\\\"]\";\n",
       "                var nbb_cells = Jupyter.notebook.get_cells();\n",
       "                for (var i = 0; i < nbb_cells.length; ++i) {\n",
       "                    if (nbb_cells[i].input_prompt_number == nbb_cell_id) {\n",
       "                        if (nbb_cells[i].get_text() == nbb_unformatted_code) {\n",
       "                             nbb_cells[i].set_text(nbb_formatted_code);\n",
       "                        }\n",
       "                        break;\n",
       "                    }\n",
       "                }\n",
       "            }, 500);\n",
       "            "
      ],
      "text/plain": [
       "<IPython.core.display.Javascript object>"
      ]
     },
     "metadata": {},
     "output_type": "display_data"
    }
   ],
   "source": [
    "# dont_test\n",
    "\n",
    "repository = SqliteRepository.build_repository(\"results.db\")\n",
    "register_default_tables(repository)\n",
    "results = repository.tables[\"result\"]"
   ]
  },
  {
   "cell_type": "code",
   "execution_count": null,
   "metadata": {},
   "outputs": [
    {
     "data": {
      "application/javascript": [
       "\n",
       "            setTimeout(function() {\n",
       "                var nbb_cell_id = 11;\n",
       "                var nbb_unformatted_code = \"# dont_test\\n\\nresult_id = results.add_result(result)\";\n",
       "                var nbb_formatted_code = \"# dont_test\\n\\nresult_id = results.add_result(result)\";\n",
       "                var nbb_cells = Jupyter.notebook.get_cells();\n",
       "                for (var i = 0; i < nbb_cells.length; ++i) {\n",
       "                    if (nbb_cells[i].input_prompt_number == nbb_cell_id) {\n",
       "                        if (nbb_cells[i].get_text() == nbb_unformatted_code) {\n",
       "                             nbb_cells[i].set_text(nbb_formatted_code);\n",
       "                        }\n",
       "                        break;\n",
       "                    }\n",
       "                }\n",
       "            }, 500);\n",
       "            "
      ],
      "text/plain": [
       "<IPython.core.display.Javascript object>"
      ]
     },
     "metadata": {},
     "output_type": "display_data"
    }
   ],
   "source": [
    "# dont_test\n",
    "\n",
    "result_id = results.add_result(result)"
   ]
  },
  {
   "cell_type": "code",
   "execution_count": null,
   "metadata": {},
   "outputs": [
    {
     "data": {
      "text/html": [
       "<div>\n",
       "<style scoped>\n",
       "    .dataframe tbody tr th:only-of-type {\n",
       "        vertical-align: middle;\n",
       "    }\n",
       "\n",
       "    .dataframe tbody tr th {\n",
       "        vertical-align: top;\n",
       "    }\n",
       "\n",
       "    .dataframe thead th {\n",
       "        text-align: right;\n",
       "    }\n",
       "</style>\n",
       "<table border=\"1\" class=\"dataframe\">\n",
       "  <thead>\n",
       "    <tr style=\"text-align: right;\">\n",
       "      <th></th>\n",
       "      <th>server</th>\n",
       "      <th>client</th>\n",
       "      <th>elapsed</th>\n",
       "      <th>file_size_h</th>\n",
       "      <th>bytes_per_second_h</th>\n",
       "    </tr>\n",
       "  </thead>\n",
       "  <tbody>\n",
       "    <tr>\n",
       "      <th>0</th>\n",
       "      <td>fastAPI/uvicorn</td>\n",
       "      <td>httpx</td>\n",
       "      <td>4.318646</td>\n",
       "      <td>9.54MB</td>\n",
       "      <td>82.81MB</td>\n",
       "    </tr>\n",
       "    <tr>\n",
       "      <th>1</th>\n",
       "      <td>fastAPI/uvicorn</td>\n",
       "      <td>httpx</td>\n",
       "      <td>3.168980</td>\n",
       "      <td>9.54MB</td>\n",
       "      <td>112.85MB</td>\n",
       "    </tr>\n",
       "  </tbody>\n",
       "</table>\n",
       "</div>"
      ],
      "text/plain": [
       "            server client   elapsed file_size_h bytes_per_second_h\n",
       "0  fastAPI/uvicorn  httpx  4.318646      9.54MB            82.81MB\n",
       "1  fastAPI/uvicorn  httpx  3.168980      9.54MB           112.85MB"
      ]
     },
     "execution_count": null,
     "metadata": {},
     "output_type": "execute_result"
    },
    {
     "data": {
      "application/javascript": [
       "\n",
       "            setTimeout(function() {\n",
       "                var nbb_cell_id = 13;\n",
       "                var nbb_unformatted_code = \"# dont_test\\n\\nresults_from_database = results.get_results()\\n\\ncols = set([\\\"server\\\", \\\"client\\\", \\\"elapsed\\\", \\\"file_size_h\\\", \\\"bytes_per_second_h\\\"])\\npd.DataFrame([{k: v for k, v in r.dict_for_pandas().items() if k in cols} for r in results_from_database])\";\n",
       "                var nbb_formatted_code = \"# dont_test\\n\\nresults_from_database = results.get_results()\\n\\ncols = set([\\\"server\\\", \\\"client\\\", \\\"elapsed\\\", \\\"file_size_h\\\", \\\"bytes_per_second_h\\\"])\\npd.DataFrame(\\n    [\\n        {k: v for k, v in r.dict_for_pandas().items() if k in cols}\\n        for r in results_from_database\\n    ]\\n)\";\n",
       "                var nbb_cells = Jupyter.notebook.get_cells();\n",
       "                for (var i = 0; i < nbb_cells.length; ++i) {\n",
       "                    if (nbb_cells[i].input_prompt_number == nbb_cell_id) {\n",
       "                        if (nbb_cells[i].get_text() == nbb_unformatted_code) {\n",
       "                             nbb_cells[i].set_text(nbb_formatted_code);\n",
       "                        }\n",
       "                        break;\n",
       "                    }\n",
       "                }\n",
       "            }, 500);\n",
       "            "
      ],
      "text/plain": [
       "<IPython.core.display.Javascript object>"
      ]
     },
     "metadata": {},
     "output_type": "display_data"
    }
   ],
   "source": [
    "# dont_test\n",
    "\n",
    "results_from_database = results.get_results()\n",
    "\n",
    "cols = set([\"server\", \"client\", \"elapsed\", \"file_size_h\", \"bytes_per_second_h\"])\n",
    "pd.DataFrame(\n",
    "    [\n",
    "        {k: v for k, v in r.dict_for_pandas().items() if k in cols}\n",
    "        for r in results_from_database\n",
    "    ]\n",
    ")"
   ]
  },
  {
   "cell_type": "code",
   "execution_count": null,
   "metadata": {},
   "outputs": [],
   "source": []
  }
 ],
 "metadata": {
  "kernelspec": {
   "display_name": "Python 3",
   "language": "python",
   "name": "python3"
  }
 },
 "nbformat": 4,
 "nbformat_minor": 2
}
