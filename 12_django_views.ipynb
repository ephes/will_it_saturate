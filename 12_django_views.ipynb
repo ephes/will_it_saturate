{
 "cells": [
  {
   "cell_type": "code",
   "execution_count": null,
   "id": "recovered-venture",
   "metadata": {},
   "outputs": [
    {
     "data": {
      "application/javascript": [
       "\n",
       "            setTimeout(function() {\n",
       "                var nbb_cell_id = 1;\n",
       "                var nbb_unformatted_code = \"# hide\\n\\n%load_ext nb_black\";\n",
       "                var nbb_formatted_code = \"# hide\\n\\n%load_ext nb_black\";\n",
       "                var nbb_cells = Jupyter.notebook.get_cells();\n",
       "                for (var i = 0; i < nbb_cells.length; ++i) {\n",
       "                    if (nbb_cells[i].input_prompt_number == nbb_cell_id) {\n",
       "                        if (nbb_cells[i].get_text() == nbb_unformatted_code) {\n",
       "                             nbb_cells[i].set_text(nbb_formatted_code);\n",
       "                        }\n",
       "                        break;\n",
       "                    }\n",
       "                }\n",
       "            }, 500);\n",
       "            "
      ],
      "text/plain": [
       "<IPython.core.display.Javascript object>"
      ]
     },
     "metadata": {},
     "output_type": "display_data"
    }
   ],
   "source": [
    "# hide\n",
    "\n",
    "%load_ext nb_black"
   ]
  },
  {
   "cell_type": "code",
   "execution_count": null,
   "id": "explicit-slovenia",
   "metadata": {},
   "outputs": [
    {
     "data": {
      "application/javascript": [
       "\n",
       "            setTimeout(function() {\n",
       "                var nbb_cell_id = 2;\n",
       "                var nbb_unformatted_code = \"# default_exp django.views\";\n",
       "                var nbb_formatted_code = \"# default_exp django.views\";\n",
       "                var nbb_cells = Jupyter.notebook.get_cells();\n",
       "                for (var i = 0; i < nbb_cells.length; ++i) {\n",
       "                    if (nbb_cells[i].input_prompt_number == nbb_cell_id) {\n",
       "                        if (nbb_cells[i].get_text() == nbb_unformatted_code) {\n",
       "                             nbb_cells[i].set_text(nbb_formatted_code);\n",
       "                        }\n",
       "                        break;\n",
       "                    }\n",
       "                }\n",
       "            }, 500);\n",
       "            "
      ],
      "text/plain": [
       "<IPython.core.display.Javascript object>"
      ]
     },
     "metadata": {},
     "output_type": "display_data"
    }
   ],
   "source": [
    "# default_exp django.views"
   ]
  },
  {
   "cell_type": "code",
   "execution_count": null,
   "id": "2746e33b",
   "metadata": {},
   "outputs": [
    {
     "data": {
      "application/javascript": [
       "\n",
       "            setTimeout(function() {\n",
       "                var nbb_cell_id = 7;\n",
       "                var nbb_unformatted_code = \"# export\\nfrom pathlib import Path\\n\\nfrom django.conf import settings\\n\\nfrom fileresponse.http import AiobotocoreFileResponse\\nfrom fileresponse.http import AiofileFileResponse as AiofileFileResponse\\n\\nfrom will_it_saturate.django.http import AsyncFileResponse\\nfrom will_it_saturate.django.http import AsyncMinioResponse\\nfrom will_it_saturate.django.http import MeasuringFileResponse\";\n",
       "                var nbb_formatted_code = \"# export\\nfrom pathlib import Path\\n\\nfrom django.conf import settings\\n\\nfrom fileresponse.http import AiobotocoreFileResponse\\nfrom fileresponse.http import AiofileFileResponse as AiofileFileResponse\\n\\nfrom will_it_saturate.django.http import AsyncFileResponse\\nfrom will_it_saturate.django.http import AsyncMinioResponse\\nfrom will_it_saturate.django.http import MeasuringFileResponse\";\n",
       "                var nbb_cells = Jupyter.notebook.get_cells();\n",
       "                for (var i = 0; i < nbb_cells.length; ++i) {\n",
       "                    if (nbb_cells[i].input_prompt_number == nbb_cell_id) {\n",
       "                        if (nbb_cells[i].get_text() == nbb_unformatted_code) {\n",
       "                             nbb_cells[i].set_text(nbb_formatted_code);\n",
       "                        }\n",
       "                        break;\n",
       "                    }\n",
       "                }\n",
       "            }, 500);\n",
       "            "
      ],
      "text/plain": [
       "<IPython.core.display.Javascript object>"
      ]
     },
     "metadata": {},
     "output_type": "display_data"
    }
   ],
   "source": [
    "# export\n",
    "from pathlib import Path\n",
    "\n",
    "from django.conf import settings\n",
    "\n",
    "from fileresponse.http import AiobotocoreFileResponse\n",
    "from fileresponse.http import AiofileFileResponse as AiofileFileResponse\n",
    "\n",
    "from will_it_saturate.django.http import AsyncFileResponse\n",
    "from will_it_saturate.django.http import AsyncMinioResponse\n",
    "from will_it_saturate.django.http import MeasuringFileResponse"
   ]
  },
  {
   "cell_type": "markdown",
   "id": "proper-split",
   "metadata": {},
   "source": [
    "## Django Views"
   ]
  },
  {
   "cell_type": "code",
   "execution_count": null,
   "id": "becoming-driver",
   "metadata": {},
   "outputs": [
    {
     "data": {
      "application/javascript": [
       "\n",
       "            setTimeout(function() {\n",
       "                var nbb_cell_id = 4;\n",
       "                var nbb_unformatted_code = \"# export\\nimport io\\nimport aiobotocore\\n\\nfrom minio import Minio\\n\\nclient = Minio(\\\"127.0.0.1:9000\\\", \\\"minioadmin\\\", \\\"minioadmin\\\", secure=False)\\n\\n\\nAWS_ACCESS_KEY_ID = \\\"minioadmin\\\"\\nAWS_SECRET_ACCESS_KEY = \\\"minioadmin\\\"\\n\\nbucket = \\\"wis\\\"\\nkey = \\\"data/3000000_2_12500000/0\\\"\\n\\nsession = aiobotocore.get_session()\\n\\n\\ndef serve_sync_filesystem(request, base, path, num):\\n    file_path = Path(base) / path / str(num)\\n    return MeasuringFileResponse(file_path.open(\\\"rb\\\"))\\n\\n\\ndef serve_sync_minio(request, base, path, num):\\n    file_path = Path(base) / path / str(num)\\n    object_name = str(file_path)\\n    try:\\n        response = client.get_object(\\\"wis\\\", object_name)\\n        data = io.BytesIO(response.read())\\n        data.name = object_name\\n        return MeasuringFileResponse(data)\\n    finally:\\n        response.close()\\n        response.release_conn()\\n\\n\\nasync def serve_async_filesystem(request, base, path, num):\\n    file_path = Path(base) / path / str(num)\\n    return AsyncFileResponse(filename=file_path)\\n\\n\\nasync def serve_async_minio(request, base, path, num):\\n    file_path = Path(base) / path / str(num)\\n    bucket = \\\"wis\\\"\\n    key = str(file_path)\\n    async with session.create_client(\\n        \\\"s3\\\",\\n        endpoint_url=\\\"http://localhost:9000\\\",\\n        region_name=\\\"us-west-2\\\",\\n        aws_secret_access_key=AWS_SECRET_ACCESS_KEY,\\n        aws_access_key_id=AWS_ACCESS_KEY_ID,\\n    ) as client:\\n        response = await client.get_object(Bucket=bucket, Key=key)\\n        async with response[\\\"Body\\\"] as stream:\\n            return AsyncMinioResponse(minio_stream=stream)\";\n",
       "                var nbb_formatted_code = \"# export\\nimport io\\nimport aiobotocore\\n\\nfrom minio import Minio\\n\\nclient = Minio(\\\"127.0.0.1:9000\\\", \\\"minioadmin\\\", \\\"minioadmin\\\", secure=False)\\n\\n\\nAWS_ACCESS_KEY_ID = \\\"minioadmin\\\"\\nAWS_SECRET_ACCESS_KEY = \\\"minioadmin\\\"\\n\\nbucket = \\\"wis\\\"\\nkey = \\\"data/3000000_2_12500000/0\\\"\\n\\nsession = aiobotocore.get_session()\\n\\n\\ndef serve_sync_filesystem(request, base, path, num):\\n    file_path = Path(base) / path / str(num)\\n    return MeasuringFileResponse(file_path.open(\\\"rb\\\"))\\n\\n\\ndef serve_sync_minio(request, base, path, num):\\n    file_path = Path(base) / path / str(num)\\n    object_name = str(file_path)\\n    try:\\n        response = client.get_object(\\\"wis\\\", object_name)\\n        data = io.BytesIO(response.read())\\n        data.name = object_name\\n        return MeasuringFileResponse(data)\\n    finally:\\n        response.close()\\n        response.release_conn()\\n\\n\\nasync def serve_async_filesystem(request, base, path, num):\\n    file_path = Path(base) / path / str(num)\\n    return AsyncFileResponse(filename=file_path)\\n\\n\\nasync def serve_async_minio(request, base, path, num):\\n    file_path = Path(base) / path / str(num)\\n    bucket = \\\"wis\\\"\\n    key = str(file_path)\\n    async with session.create_client(\\n        \\\"s3\\\",\\n        endpoint_url=\\\"http://localhost:9000\\\",\\n        region_name=\\\"us-west-2\\\",\\n        aws_secret_access_key=AWS_SECRET_ACCESS_KEY,\\n        aws_access_key_id=AWS_ACCESS_KEY_ID,\\n    ) as client:\\n        response = await client.get_object(Bucket=bucket, Key=key)\\n        async with response[\\\"Body\\\"] as stream:\\n            return AsyncMinioResponse(minio_stream=stream)\";\n",
       "                var nbb_cells = Jupyter.notebook.get_cells();\n",
       "                for (var i = 0; i < nbb_cells.length; ++i) {\n",
       "                    if (nbb_cells[i].input_prompt_number == nbb_cell_id) {\n",
       "                        if (nbb_cells[i].get_text() == nbb_unformatted_code) {\n",
       "                             nbb_cells[i].set_text(nbb_formatted_code);\n",
       "                        }\n",
       "                        break;\n",
       "                    }\n",
       "                }\n",
       "            }, 500);\n",
       "            "
      ],
      "text/plain": [
       "<IPython.core.display.Javascript object>"
      ]
     },
     "metadata": {},
     "output_type": "display_data"
    }
   ],
   "source": [
    "# export\n",
    "import io\n",
    "\n",
    "import aiobotocore\n",
    "\n",
    "from minio import Minio\n",
    "\n",
    "client = Minio(\"127.0.0.1:9000\", \"minioadmin\", \"minioadmin\", secure=False)\n",
    "\n",
    "\n",
    "AWS_ACCESS_KEY_ID = \"minioadmin\"\n",
    "AWS_SECRET_ACCESS_KEY = \"minioadmin\"\n",
    "\n",
    "bucket = \"wis\"\n",
    "key = \"data/3000000_2_12500000/0\"\n",
    "\n",
    "\n",
    "def serve_sync_filesystem(request, base, path, num):\n",
    "    file_path = Path(base) / path / str(num)\n",
    "    return MeasuringFileResponse(file_path.open(\"rb\"))\n",
    "\n",
    "\n",
    "def serve_sync_minio(request, base, path, num):\n",
    "    file_path = Path(base) / path / str(num)\n",
    "    object_name = str(file_path)\n",
    "    try:\n",
    "        response = client.get_object(\"wis\", object_name)\n",
    "        data = io.BytesIO(response.read())\n",
    "        data.name = object_name\n",
    "        return MeasuringFileResponse(data)\n",
    "    finally:\n",
    "        response.close()\n",
    "        response.release_conn()\n",
    "\n",
    "\n",
    "async def serve_async_filesystem(request, base, path, num):\n",
    "    file_path = Path(base) / path / str(num)\n",
    "    return AsyncFileResponse(filename=file_path)\n",
    "\n",
    "\n",
    "async def serve_async_minio(request, base, path, num):\n",
    "    file_path = Path(base) / path / str(num)\n",
    "    bucket = \"wis\"\n",
    "    key = str(file_path)\n",
    "    return AsyncMinioResponse(bucket=bucket, key=key, chunk_size=4096, filename=key)\n",
    "#     session = aiobotocore.get_session()\n",
    "#     async with session.create_client(\n",
    "#             \"s3\",\n",
    "#             endpoint_url=\"http://localhost:9000\",\n",
    "#             region_name=\"us-west-2\",\n",
    "#             aws_secret_access_key=AWS_SECRET_ACCESS_KEY,\n",
    "#             aws_access_key_id=AWS_ACCESS_KEY_ID,\n",
    "#     ) as client:\n",
    "#         response = await client.get_object(Bucket=bucket, Key=key)\n",
    "#         async with response[\"Body\"] as stream:\n",
    "#             data = await stream.read()\n",
    "#             data = io.BytesIO(data)\n",
    "#             data.name = key\n",
    "#             # return AsyncMinioResponse(minio_stream=stream)\n",
    "#     return MeasuringFileResponse(data)\n",
    "\n",
    "\n",
    "\n",
    "async def serve_async_django_fileresponse(request, base, path, num):\n",
    "    file_path = Path(base) / path / str(num)\n",
    "    return AiofileFileResponse(file_path)\n",
    "\n",
    "\n",
    "async def serve_async_django_fileresponse_minio(request, base, path, num):\n",
    "    bucket = settings.DJANGO_AWS_STORAGE_BUCKET_NAME\n",
    "    key = str(num)\n",
    "    return AiobotocoreFileResponse(bucket, key, chunk_size=4096)"
   ]
  },
  {
   "cell_type": "code",
   "execution_count": null,
   "id": "dress-ghost",
   "metadata": {},
   "outputs": [
    {
     "name": "stdout",
     "output_type": "stream",
     "text": [
      "Converted 00_index.ipynb.\n",
      "Converted 01_config.ipynb.\n",
      "Converted 01_host.ipynb.\n",
      "Converted 02_file.ipynb.\n",
      "Converted 03_registry.ipynb.\n",
      "Converted 04_epochs.ipynb.\n",
      "Converted 10_servers.ipynb.\n",
      "Converted 11_fastapi_main.ipynb.\n",
      "Converted 12_django_views.ipynb.\n",
      "Converted 13_django_handlers.ipynb.\n",
      "Converted 14_django_http.ipynb.\n",
      "Converted 15_django_asgi.ipynb.\n",
      "Converted 15_django_async_settings.ipynb.\n",
      "Converted 15_django_settings.ipynb.\n",
      "Converted 15_django_urls.ipynb.\n",
      "Converted 15_django_wsgi.ipynb.\n",
      "Converted 16_minio.ipynb.\n",
      "Converted 16_servers_started_locally.ipynb.\n",
      "Converted 16_servers_started_via_docker.ipynb.\n",
      "Converted 20_clients.ipynb.\n",
      "Converted 21_benchmark_client_implementations.ipynb.\n",
      "Converted 22_gevent_client.ipynb.\n",
      "Converted 30_control_server.ipynb.\n",
      "Converted 31_control_client.ipynb.\n",
      "Converted 32_control_cli.ipynb.\n",
      "Converted 40_results.ipynb.\n",
      "Converted 41_repositories.ipynb.\n",
      "Converted 42_sqlite_repository.ipynb.\n",
      "Converted 50_benchmark_without_benchmark.ipynb.\n",
      "Converted 51_benchmark_remote_control_server.ipynb.\n",
      "Converted 52_benchmark_from_config.ipynb.\n",
      "Converted 52_generate_files_for_benchmark.ipynb.\n",
      "Converted 53_analyze.ipynb.\n",
      "Converted 54_measure_with_plots.ipynb.\n",
      "Converted 54_measure_with_plots_not_gevent.ipynb.\n",
      "Converted 55_create_minio_files.ipynb.\n",
      "Converted 60_legacy.ipynb.\n",
      "Converted 61_run_benchmark.ipynb.\n"
     ]
    },
    {
     "data": {
      "application/javascript": [
       "\n",
       "            setTimeout(function() {\n",
       "                var nbb_cell_id = 8;\n",
       "                var nbb_unformatted_code = \"# hide\\n# dont_test\\n\\nfrom nbdev.export import notebook2script\\n\\nnotebook2script()\";\n",
       "                var nbb_formatted_code = \"# hide\\n# dont_test\\n\\nfrom nbdev.export import notebook2script\\n\\nnotebook2script()\";\n",
       "                var nbb_cells = Jupyter.notebook.get_cells();\n",
       "                for (var i = 0; i < nbb_cells.length; ++i) {\n",
       "                    if (nbb_cells[i].input_prompt_number == nbb_cell_id) {\n",
       "                        if (nbb_cells[i].get_text() == nbb_unformatted_code) {\n",
       "                             nbb_cells[i].set_text(nbb_formatted_code);\n",
       "                        }\n",
       "                        break;\n",
       "                    }\n",
       "                }\n",
       "            }, 500);\n",
       "            "
      ],
      "text/plain": [
       "<IPython.core.display.Javascript object>"
      ]
     },
     "metadata": {},
     "output_type": "display_data"
    }
   ],
   "source": [
    "# hide\n",
    "# dont_test\n",
    "\n",
    "from nbdev.export import notebook2script\n",
    "\n",
    "notebook2script()"
   ]
  },
  {
   "cell_type": "code",
   "execution_count": null,
   "id": "cc805d1d",
   "metadata": {},
   "outputs": [],
   "source": []
  }
 ],
 "metadata": {
  "kernelspec": {
   "display_name": "Python 3",
   "language": "python",
   "name": "python3"
  }
 },
 "nbformat": 4,
 "nbformat_minor": 5
}
