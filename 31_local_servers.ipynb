{
 "cells": [
  {
   "cell_type": "code",
   "execution_count": null,
   "id": "recovered-venture",
   "metadata": {},
   "outputs": [
    {
     "data": {
      "application/javascript": [
       "\n",
       "            setTimeout(function() {\n",
       "                var nbb_cell_id = 1;\n",
       "                var nbb_unformatted_code = \"%load_ext nb_black\";\n",
       "                var nbb_formatted_code = \"%load_ext nb_black\";\n",
       "                var nbb_cells = Jupyter.notebook.get_cells();\n",
       "                for (var i = 0; i < nbb_cells.length; ++i) {\n",
       "                    if (nbb_cells[i].input_prompt_number == nbb_cell_id) {\n",
       "                        if (nbb_cells[i].get_text() == nbb_unformatted_code) {\n",
       "                             nbb_cells[i].set_text(nbb_formatted_code);\n",
       "                        }\n",
       "                        break;\n",
       "                    }\n",
       "                }\n",
       "            }, 500);\n",
       "            "
      ],
      "text/plain": [
       "<IPython.core.display.Javascript object>"
      ]
     },
     "metadata": {},
     "output_type": "display_data"
    }
   ],
   "source": [
    "%load_ext nb_black"
   ]
  },
  {
   "cell_type": "code",
   "execution_count": null,
   "id": "oriented-denver",
   "metadata": {},
   "outputs": [
    {
     "data": {
      "application/javascript": [
       "\n",
       "            setTimeout(function() {\n",
       "                var nbb_cell_id = 2;\n",
       "                var nbb_unformatted_code = \"# default_exp servers\";\n",
       "                var nbb_formatted_code = \"# default_exp servers\";\n",
       "                var nbb_cells = Jupyter.notebook.get_cells();\n",
       "                for (var i = 0; i < nbb_cells.length; ++i) {\n",
       "                    if (nbb_cells[i].input_prompt_number == nbb_cell_id) {\n",
       "                        if (nbb_cells[i].get_text() == nbb_unformatted_code) {\n",
       "                             nbb_cells[i].set_text(nbb_formatted_code);\n",
       "                        }\n",
       "                        break;\n",
       "                    }\n",
       "                }\n",
       "            }, 500);\n",
       "            "
      ],
      "text/plain": [
       "<IPython.core.display.Javascript object>"
      ]
     },
     "metadata": {},
     "output_type": "display_data"
    }
   ],
   "source": [
    "# default_exp servers"
   ]
  },
  {
   "cell_type": "markdown",
   "id": "golden-campbell",
   "metadata": {},
   "source": [
    "# FastAPIUvicornServer"
   ]
  },
  {
   "cell_type": "code",
   "execution_count": null,
   "id": "likely-december",
   "metadata": {},
   "outputs": [
    {
     "data": {
      "application/javascript": [
       "\n",
       "            setTimeout(function() {\n",
       "                var nbb_cell_id = 7;\n",
       "                var nbb_unformatted_code = \"import time\\nimport subprocess\\n\\n\\nfrom will_it_saturate.servers import BaseServer\";\n",
       "                var nbb_formatted_code = \"import time\\nimport subprocess\\n\\n\\nfrom will_it_saturate.servers import BaseServer\";\n",
       "                var nbb_cells = Jupyter.notebook.get_cells();\n",
       "                for (var i = 0; i < nbb_cells.length; ++i) {\n",
       "                    if (nbb_cells[i].input_prompt_number == nbb_cell_id) {\n",
       "                        if (nbb_cells[i].get_text() == nbb_unformatted_code) {\n",
       "                             nbb_cells[i].set_text(nbb_formatted_code);\n",
       "                        }\n",
       "                        break;\n",
       "                    }\n",
       "                }\n",
       "            }, 500);\n",
       "            "
      ],
      "text/plain": [
       "<IPython.core.display.Javascript object>"
      ]
     },
     "metadata": {},
     "output_type": "display_data"
    }
   ],
   "source": [
    "import time\n",
    "import subprocess\n",
    "\n",
    "\n",
    "from will_it_saturate.servers import BaseServer"
   ]
  },
  {
   "cell_type": "code",
   "execution_count": null,
   "id": "minimal-stopping",
   "metadata": {},
   "outputs": [
    {
     "data": {
      "application/javascript": [
       "\n",
       "            setTimeout(function() {\n",
       "                var nbb_cell_id = 8;\n",
       "                var nbb_unformatted_code = \"# export\\n\\n\\n\\nclass FastAPIUvicornServer(BaseServer):\\n    name: str = \\\"fastAPI/uvicorn\\\"\\n\\n    def get_pid(self):\\n        kwargs = {\\\"shell\\\": True, \\\"capture_output\\\": True, \\\"text\\\": True}\\n        output = subprocess.run(\\n            f\\\"ps aux | grep will_it_saturate.fastapi.main:app\\\", **kwargs\\n        )\\n        lines = [l for l in output.stdout.split(\\\"\\\\n\\\") if len(l) > 0 and \\\"grep\\\" not in l]\\n        if len(lines) > 0:\\n            pid = lines[0].split()[1]\\n            return pid\\n\\n    @property\\n    def started(self):\\n        return self.get_pid() is not None\\n\\n    def start_server(self):\\n        subprocess.Popen(\\n            [\\n                \\\"uvicorn\\\",\\n                \\\"--port\\\",\\n                str(self.port),\\n                \\\"--no-access-log\\\",\\n                \\\"will_it_saturate.fastapi.main:app\\\",\\n            ]\\n        )\\n        # subprocess.Popen([\\\"uvicorn\\\", \\\"will_it_saturate.fastapi.main:app\\\"])\\n\\n    def stop_server(self):\\n        subprocess.check_output([\\\"kill\\\", self.get_pid()])\\n        time.sleep(1)  # dunno why this is necessary\\n\\n    def start(self):\\n        if not self.started:\\n            self.start_server()\\n\\n    def stop(self):\\n        if self.started:\\n            self.stop_server()\";\n",
       "                var nbb_formatted_code = \"# export\\n\\n\\nclass FastAPIUvicornServer(BaseServer):\\n    name: str = \\\"fastAPI/uvicorn\\\"\\n\\n    def get_pid(self):\\n        kwargs = {\\\"shell\\\": True, \\\"capture_output\\\": True, \\\"text\\\": True}\\n        output = subprocess.run(\\n            f\\\"ps aux | grep will_it_saturate.fastapi.main:app\\\", **kwargs\\n        )\\n        lines = [l for l in output.stdout.split(\\\"\\\\n\\\") if len(l) > 0 and \\\"grep\\\" not in l]\\n        if len(lines) > 0:\\n            pid = lines[0].split()[1]\\n            return pid\\n\\n    @property\\n    def started(self):\\n        return self.get_pid() is not None\\n\\n    def start_server(self):\\n        subprocess.Popen(\\n            [\\n                \\\"uvicorn\\\",\\n                \\\"--port\\\",\\n                str(self.port),\\n                \\\"--no-access-log\\\",\\n                \\\"will_it_saturate.fastapi.main:app\\\",\\n            ]\\n        )\\n        # subprocess.Popen([\\\"uvicorn\\\", \\\"will_it_saturate.fastapi.main:app\\\"])\\n\\n    def stop_server(self):\\n        subprocess.check_output([\\\"kill\\\", self.get_pid()])\\n        time.sleep(1)  # dunno why this is necessary\\n\\n    def start(self):\\n        if not self.started:\\n            self.start_server()\\n\\n    def stop(self):\\n        if self.started:\\n            self.stop_server()\";\n",
       "                var nbb_cells = Jupyter.notebook.get_cells();\n",
       "                for (var i = 0; i < nbb_cells.length; ++i) {\n",
       "                    if (nbb_cells[i].input_prompt_number == nbb_cell_id) {\n",
       "                        if (nbb_cells[i].get_text() == nbb_unformatted_code) {\n",
       "                             nbb_cells[i].set_text(nbb_formatted_code);\n",
       "                        }\n",
       "                        break;\n",
       "                    }\n",
       "                }\n",
       "            }, 500);\n",
       "            "
      ],
      "text/plain": [
       "<IPython.core.display.Javascript object>"
      ]
     },
     "metadata": {},
     "output_type": "display_data"
    }
   ],
   "source": [
    "# export\n",
    "\n",
    "\n",
    "class FastAPIUvicornServer(BaseServer):\n",
    "    name: str = \"fastAPI/uvicorn\"\n",
    "\n",
    "    def get_pid(self):\n",
    "        kwargs = {\"shell\": True, \"capture_output\": True, \"text\": True}\n",
    "        output = subprocess.run(\n",
    "            f\"ps aux | grep will_it_saturate.fastapi.main:app\", **kwargs\n",
    "        )\n",
    "        lines = [l for l in output.stdout.split(\"\\n\") if len(l) > 0 and \"grep\" not in l]\n",
    "        if len(lines) > 0:\n",
    "            pid = lines[0].split()[1]\n",
    "            return pid\n",
    "\n",
    "    @property\n",
    "    def started(self):\n",
    "        return self.get_pid() is not None\n",
    "\n",
    "    def start_server(self):\n",
    "        subprocess.Popen(\n",
    "            [\n",
    "                \"uvicorn\",\n",
    "                \"--port\",\n",
    "                str(self.port),\n",
    "                \"--no-access-log\",\n",
    "                \"will_it_saturate.fastapi.main:app\",\n",
    "            ]\n",
    "        )\n",
    "        # subprocess.Popen([\"uvicorn\", \"will_it_saturate.fastapi.main:app\"])\n",
    "\n",
    "    def stop_server(self):\n",
    "        subprocess.check_output([\"kill\", self.get_pid()])\n",
    "        time.sleep(1)  # dunno why this is necessary\n",
    "\n",
    "    def start(self):\n",
    "        if not self.started:\n",
    "            self.start_server()\n",
    "\n",
    "    def stop(self):\n",
    "        if self.started:\n",
    "            self.stop_server()"
   ]
  },
  {
   "cell_type": "markdown",
   "id": "compliant-devices",
   "metadata": {},
   "source": [
    "## Usage"
   ]
  },
  {
   "cell_type": "code",
   "execution_count": null,
   "id": "distinct-dream",
   "metadata": {},
   "outputs": [
    {
     "data": {
      "application/javascript": [
       "\n",
       "            setTimeout(function() {\n",
       "                var nbb_cell_id = 10;\n",
       "                var nbb_unformatted_code = \"# dont_test\\n\\n# server = FastAPIUvicornServer()\\n# server.start()\\n# print(server.get_pid())\\n# server.stop()\\n# print(\\\"stopped..\\\")\\n# print(server.get_pid())\\n# print(server.started)\";\n",
       "                var nbb_formatted_code = \"# dont_test\\n\\n# server = FastAPIUvicornServer()\\n# server.start()\\n# print(server.get_pid())\\n# server.stop()\\n# print(\\\"stopped..\\\")\\n# print(server.get_pid())\\n# print(server.started)\";\n",
       "                var nbb_cells = Jupyter.notebook.get_cells();\n",
       "                for (var i = 0; i < nbb_cells.length; ++i) {\n",
       "                    if (nbb_cells[i].input_prompt_number == nbb_cell_id) {\n",
       "                        if (nbb_cells[i].get_text() == nbb_unformatted_code) {\n",
       "                             nbb_cells[i].set_text(nbb_formatted_code);\n",
       "                        }\n",
       "                        break;\n",
       "                    }\n",
       "                }\n",
       "            }, 500);\n",
       "            "
      ],
      "text/plain": [
       "<IPython.core.display.Javascript object>"
      ]
     },
     "metadata": {},
     "output_type": "display_data"
    }
   ],
   "source": [
    "# dont_test\n",
    "\n",
    "# server = FastAPIUvicornServer()\n",
    "# server.start()\n",
    "# print(server.get_pid())\n",
    "# server.stop()\n",
    "# print(\"stopped..\")\n",
    "# print(server.get_pid())\n",
    "# print(server.started)"
   ]
  },
  {
   "cell_type": "markdown",
   "id": "parental-channels",
   "metadata": {},
   "source": [
    "# DjangoGunicornWSGIServer"
   ]
  },
  {
   "cell_type": "code",
   "execution_count": null,
   "id": "bulgarian-scientist",
   "metadata": {},
   "outputs": [
    {
     "data": {
      "application/javascript": [
       "\n",
       "            setTimeout(function() {\n",
       "                var nbb_cell_id = 11;\n",
       "                var nbb_unformatted_code = \"# export\\n\\n\\nclass DjangoGunicornWSGIServer(BaseServer):\\n    name: str = \\\"django/gunicorn/wsgi\\\"\\n\\n    def get_pids(self):\\n        kwargs = {\\\"shell\\\": True, \\\"capture_output\\\": True, \\\"text\\\": True}\\n        output = subprocess.run(f\\\"ps aux | grep will_it_saturate.django.wsgi\\\", **kwargs)\\n        lines = [l for l in output.stdout.split(\\\"\\\\n\\\") if len(l) > 0 and \\\"grep\\\" not in l]\\n        print(len(lines))\\n        pids = []\\n        for line in lines:\\n            pid = line.split()[1]\\n            pids.append(pid)\\n        return pids\\n\\n    @property\\n    def started(self):\\n        return len(self.get_pids()) > 0\\n\\n    def start_server(self):\\n        subprocess.Popen(\\n            [\\n                \\\"gunicorn\\\",\\n                \\\"--backlog\\\",\\n                \\\"10000\\\",\\n                \\\"-w\\\",\\n                \\\"8\\\",\\n                \\\"-b\\\" \\\":8000\\\",\\n                \\\"will_it_saturate.django.wsgi\\\",\\n            ]\\n        )\\n        time.sleep(2)\\n\\n    def stop_server(self):\\n        kill_command = [\\\"kill\\\"]\\n        kill_command.extend(self.get_pids())\\n        subprocess.check_output(kill_command)\\n        time.sleep(1)  # dunno why this is necessary\\n\\n    def start(self):\\n        if not self.started:\\n            self.start_server()\\n\\n    def stop(self):\\n        if self.started:\\n            self.stop_server()\";\n",
       "                var nbb_formatted_code = \"# export\\n\\n\\nclass DjangoGunicornWSGIServer(BaseServer):\\n    name: str = \\\"django/gunicorn/wsgi\\\"\\n\\n    def get_pids(self):\\n        kwargs = {\\\"shell\\\": True, \\\"capture_output\\\": True, \\\"text\\\": True}\\n        output = subprocess.run(f\\\"ps aux | grep will_it_saturate.django.wsgi\\\", **kwargs)\\n        lines = [l for l in output.stdout.split(\\\"\\\\n\\\") if len(l) > 0 and \\\"grep\\\" not in l]\\n        print(len(lines))\\n        pids = []\\n        for line in lines:\\n            pid = line.split()[1]\\n            pids.append(pid)\\n        return pids\\n\\n    @property\\n    def started(self):\\n        return len(self.get_pids()) > 0\\n\\n    def start_server(self):\\n        subprocess.Popen(\\n            [\\n                \\\"gunicorn\\\",\\n                \\\"--backlog\\\",\\n                \\\"10000\\\",\\n                \\\"-w\\\",\\n                \\\"8\\\",\\n                \\\"-b\\\" \\\":8000\\\",\\n                \\\"will_it_saturate.django.wsgi\\\",\\n            ]\\n        )\\n        time.sleep(2)\\n\\n    def stop_server(self):\\n        kill_command = [\\\"kill\\\"]\\n        kill_command.extend(self.get_pids())\\n        subprocess.check_output(kill_command)\\n        time.sleep(1)  # dunno why this is necessary\\n\\n    def start(self):\\n        if not self.started:\\n            self.start_server()\\n\\n    def stop(self):\\n        if self.started:\\n            self.stop_server()\";\n",
       "                var nbb_cells = Jupyter.notebook.get_cells();\n",
       "                for (var i = 0; i < nbb_cells.length; ++i) {\n",
       "                    if (nbb_cells[i].input_prompt_number == nbb_cell_id) {\n",
       "                        if (nbb_cells[i].get_text() == nbb_unformatted_code) {\n",
       "                             nbb_cells[i].set_text(nbb_formatted_code);\n",
       "                        }\n",
       "                        break;\n",
       "                    }\n",
       "                }\n",
       "            }, 500);\n",
       "            "
      ],
      "text/plain": [
       "<IPython.core.display.Javascript object>"
      ]
     },
     "metadata": {},
     "output_type": "display_data"
    }
   ],
   "source": [
    "# export\n",
    "\n",
    "\n",
    "class DjangoGunicornWSGIServer(BaseServer):\n",
    "    name: str = \"django/gunicorn/wsgi\"\n",
    "\n",
    "    def get_pids(self):\n",
    "        kwargs = {\"shell\": True, \"capture_output\": True, \"text\": True}\n",
    "        output = subprocess.run(f\"ps aux | grep will_it_saturate.django.wsgi\", **kwargs)\n",
    "        lines = [l for l in output.stdout.split(\"\\n\") if len(l) > 0 and \"grep\" not in l]\n",
    "        print(len(lines))\n",
    "        pids = []\n",
    "        for line in lines:\n",
    "            pid = line.split()[1]\n",
    "            pids.append(pid)\n",
    "        return pids\n",
    "\n",
    "    @property\n",
    "    def started(self):\n",
    "        return len(self.get_pids()) > 0\n",
    "\n",
    "    def start_server(self):\n",
    "        subprocess.Popen(\n",
    "            [\n",
    "                \"gunicorn\",\n",
    "                \"--backlog\",\n",
    "                \"10000\",\n",
    "                \"-w\",\n",
    "                \"8\",\n",
    "                \"-b\" \":8000\",\n",
    "                \"will_it_saturate.django.wsgi\",\n",
    "            ]\n",
    "        )\n",
    "        time.sleep(2)\n",
    "\n",
    "    def stop_server(self):\n",
    "        kill_command = [\"kill\"]\n",
    "        kill_command.extend(self.get_pids())\n",
    "        subprocess.check_output(kill_command)\n",
    "        time.sleep(1)  # dunno why this is necessary\n",
    "\n",
    "    def start(self):\n",
    "        if not self.started:\n",
    "            self.start_server()\n",
    "\n",
    "    def stop(self):\n",
    "        if self.started:\n",
    "            self.stop_server()"
   ]
  },
  {
   "cell_type": "code",
   "execution_count": null,
   "id": "hazardous-biography",
   "metadata": {},
   "outputs": [
    {
     "name": "stdout",
     "output_type": "stream",
     "text": [
      "1\n",
      "['54814']\n",
      "1\n",
      "1\n",
      "1\n",
      "['54814']\n",
      "1\n",
      "True\n"
     ]
    },
    {
     "data": {
      "application/javascript": [
       "\n",
       "            setTimeout(function() {\n",
       "                var nbb_cell_id = 12;\n",
       "                var nbb_unformatted_code = \"# dont_test\\n\\nserver = DjangoGunicornWSGIServer()\\nserver.start_server()\\nprint(server.get_pids())\\nserver.stop()\\nprint(server.get_pids())\\nprint(server.started)\";\n",
       "                var nbb_formatted_code = \"# dont_test\\n\\nserver = DjangoGunicornWSGIServer()\\nserver.start_server()\\nprint(server.get_pids())\\nserver.stop()\\nprint(server.get_pids())\\nprint(server.started)\";\n",
       "                var nbb_cells = Jupyter.notebook.get_cells();\n",
       "                for (var i = 0; i < nbb_cells.length; ++i) {\n",
       "                    if (nbb_cells[i].input_prompt_number == nbb_cell_id) {\n",
       "                        if (nbb_cells[i].get_text() == nbb_unformatted_code) {\n",
       "                             nbb_cells[i].set_text(nbb_formatted_code);\n",
       "                        }\n",
       "                        break;\n",
       "                    }\n",
       "                }\n",
       "            }, 500);\n",
       "            "
      ],
      "text/plain": [
       "<IPython.core.display.Javascript object>"
      ]
     },
     "metadata": {},
     "output_type": "display_data"
    }
   ],
   "source": [
    "# dont_test\n",
    "\n",
    "server = DjangoGunicornWSGIServer()\n",
    "server.start_server()\n",
    "print(server.get_pids())\n",
    "server.stop()\n",
    "print(server.get_pids())\n",
    "print(server.started)"
   ]
  },
  {
   "cell_type": "markdown",
   "id": "useful-probability",
   "metadata": {},
   "source": [
    "# Export"
   ]
  },
  {
   "cell_type": "code",
   "execution_count": null,
   "id": "dress-ghost",
   "metadata": {},
   "outputs": [
    {
     "name": "stdout",
     "output_type": "stream",
     "text": [
      "Converted 00_host.ipynb.\n",
      "Converted 01_django_views.ipynb.\n",
      "Converted 01_fastapi_views.ipynb.\n",
      "Converted 01_file.ipynb.\n",
      "Converted 04_clients.ipynb.\n",
      "Converted 05_epochs.ipynb.\n",
      "Converted 05_run_benchmark.ipynb.\n",
      "Converted 06_results.ipynb.\n",
      "Converted 07_repositories.ipynb.\n",
      "Converted 25_core.ipynb.\n",
      "Converted 27_control_server.ipynb.\n",
      "Converted 28_control_client.ipynb.\n",
      "Converted 30_benchmark_clients.ipynb.\n",
      "Converted 30_servers.ipynb.\n",
      "Converted 31_local_servers.ipynb.\n",
      "Converted 32_docker_servers.ipynb.\n",
      "Converted 40_persistence.ipynb.\n",
      "Converted 60_benchmark_without_benchmark.ipynb.\n",
      "Converted index.ipynb.\n"
     ]
    },
    {
     "data": {
      "application/javascript": [
       "\n",
       "            setTimeout(function() {\n",
       "                var nbb_cell_id = 9;\n",
       "                var nbb_unformatted_code = \"# dont_test\\n\\nfrom nbdev.export import notebook2script\\n\\nnotebook2script()\";\n",
       "                var nbb_formatted_code = \"# dont_test\\n\\nfrom nbdev.export import notebook2script\\n\\nnotebook2script()\";\n",
       "                var nbb_cells = Jupyter.notebook.get_cells();\n",
       "                for (var i = 0; i < nbb_cells.length; ++i) {\n",
       "                    if (nbb_cells[i].input_prompt_number == nbb_cell_id) {\n",
       "                        if (nbb_cells[i].get_text() == nbb_unformatted_code) {\n",
       "                             nbb_cells[i].set_text(nbb_formatted_code);\n",
       "                        }\n",
       "                        break;\n",
       "                    }\n",
       "                }\n",
       "            }, 500);\n",
       "            "
      ],
      "text/plain": [
       "<IPython.core.display.Javascript object>"
      ]
     },
     "metadata": {},
     "output_type": "display_data"
    }
   ],
   "source": [
    "# dont_test\n",
    "\n",
    "from nbdev.export import notebook2script\n",
    "\n",
    "notebook2script()"
   ]
  },
  {
   "cell_type": "code",
   "execution_count": null,
   "id": "extensive-advantage",
   "metadata": {},
   "outputs": [],
   "source": []
  }
 ],
 "metadata": {
  "kernelspec": {
   "display_name": "Python 3",
   "language": "python",
   "name": "python3"
  }
 },
 "nbformat": 4,
 "nbformat_minor": 5
}
