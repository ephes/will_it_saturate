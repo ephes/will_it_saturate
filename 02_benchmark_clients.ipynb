{
 "cells": [
  {
   "cell_type": "code",
   "execution_count": null,
   "metadata": {},
   "outputs": [
    {
     "data": {
      "application/javascript": [
       "\n",
       "            setTimeout(function() {\n",
       "                var nbb_cell_id = 1;\n",
       "                var nbb_unformatted_code = \"# hide\\n\\n%load_ext nb_black\";\n",
       "                var nbb_formatted_code = \"# hide\\n\\n%load_ext nb_black\";\n",
       "                var nbb_cells = Jupyter.notebook.get_cells();\n",
       "                for (var i = 0; i < nbb_cells.length; ++i) {\n",
       "                    if (nbb_cells[i].input_prompt_number == nbb_cell_id) {\n",
       "                        if (nbb_cells[i].get_text() == nbb_unformatted_code) {\n",
       "                             nbb_cells[i].set_text(nbb_formatted_code);\n",
       "                        }\n",
       "                        break;\n",
       "                    }\n",
       "                }\n",
       "            }, 500);\n",
       "            "
      ],
      "text/plain": [
       "<IPython.core.display.Javascript object>"
      ]
     },
     "metadata": {},
     "output_type": "display_data"
    }
   ],
   "source": [
    "# hide\n",
    "\n",
    "%load_ext nb_black"
   ]
  },
  {
   "cell_type": "code",
   "execution_count": null,
   "metadata": {},
   "outputs": [
    {
     "data": {
      "application/javascript": [
       "\n",
       "            setTimeout(function() {\n",
       "                var nbb_cell_id = 2;\n",
       "                var nbb_unformatted_code = \"# default_exp client\";\n",
       "                var nbb_formatted_code = \"# default_exp client\";\n",
       "                var nbb_cells = Jupyter.notebook.get_cells();\n",
       "                for (var i = 0; i < nbb_cells.length; ++i) {\n",
       "                    if (nbb_cells[i].input_prompt_number == nbb_cell_id) {\n",
       "                        if (nbb_cells[i].get_text() == nbb_unformatted_code) {\n",
       "                             nbb_cells[i].set_text(nbb_formatted_code);\n",
       "                        }\n",
       "                        break;\n",
       "                    }\n",
       "                }\n",
       "            }, 500);\n",
       "            "
      ],
      "text/plain": [
       "<IPython.core.display.Javascript object>"
      ]
     },
     "metadata": {},
     "output_type": "display_data"
    }
   ],
   "source": [
    "# default_exp client"
   ]
  },
  {
   "cell_type": "code",
   "execution_count": null,
   "metadata": {},
   "outputs": [
    {
     "data": {
      "application/javascript": [
       "\n",
       "            setTimeout(function() {\n",
       "                var nbb_cell_id = 3;\n",
       "                var nbb_unformatted_code = \"# export\\n\\nimport os\\nimport math\\nimport time\\nimport httpx\\nimport asyncio\\nimport aiohttp\\n\\nfrom pathlib import Path\\n\\nfrom will_it_saturate.core import Benchmark\";\n",
       "                var nbb_formatted_code = \"# export\\n\\nimport os\\nimport math\\nimport time\\nimport httpx\\nimport asyncio\\nimport aiohttp\\n\\nfrom pathlib import Path\\n\\nfrom will_it_saturate.core import Benchmark\";\n",
       "                var nbb_cells = Jupyter.notebook.get_cells();\n",
       "                for (var i = 0; i < nbb_cells.length; ++i) {\n",
       "                    if (nbb_cells[i].input_prompt_number == nbb_cell_id) {\n",
       "                        if (nbb_cells[i].get_text() == nbb_unformatted_code) {\n",
       "                             nbb_cells[i].set_text(nbb_formatted_code);\n",
       "                        }\n",
       "                        break;\n",
       "                    }\n",
       "                }\n",
       "            }, 500);\n",
       "            "
      ],
      "text/plain": [
       "<IPython.core.display.Javascript object>"
      ]
     },
     "metadata": {},
     "output_type": "display_data"
    }
   ],
   "source": [
    "# export\n",
    "\n",
    "import os\n",
    "import math\n",
    "import time\n",
    "import httpx\n",
    "import asyncio\n",
    "import aiohttp\n",
    "\n",
    "from pathlib import Path\n",
    "\n",
    "from will_it_saturate.core import Benchmark"
   ]
  },
  {
   "cell_type": "markdown",
   "metadata": {},
   "source": [
    "# Caveats\n",
    "\n",
    "On macOS increase open file limit with:\n",
    "\n",
    "```\n",
    "ulimit -n 2048\n",
    "```\n",
    "\n",
    "Before starting the fastAPI Server with:\n",
    "\n",
    "```\n",
    "uvicorn will_it_saturate.main:app --reload\n",
    "```"
   ]
  },
  {
   "cell_type": "code",
   "execution_count": null,
   "metadata": {},
   "outputs": [
    {
     "data": {
      "application/javascript": [
       "\n",
       "            setTimeout(function() {\n",
       "                var nbb_cell_id = 4;\n",
       "                var nbb_unformatted_code = \"byte = 8\\ngigabit = 10 ** 9\\nbandwidth = gigabit / byte\\n\\n\\n# file_sizes = [10 ** 7, 10 ** 6]\\n# file_sizes = [10 ** 7, 10 ** 6, 10 ** 5]\\nfile_sizes = [10 ** 7]\\n\\nbenchmark = Benchmark(bandwidth=bandwidth, duration=3, file_sizes=file_sizes)\\nbenchmark.create_rows()\";\n",
       "                var nbb_formatted_code = \"byte = 8\\ngigabit = 10 ** 9\\nbandwidth = gigabit / byte\\n\\n\\n# file_sizes = [10 ** 7, 10 ** 6]\\n# file_sizes = [10 ** 7, 10 ** 6, 10 ** 5]\\nfile_sizes = [10 ** 7]\\n\\nbenchmark = Benchmark(bandwidth=bandwidth, duration=3, file_sizes=file_sizes)\\nbenchmark.create_rows()\";\n",
       "                var nbb_cells = Jupyter.notebook.get_cells();\n",
       "                for (var i = 0; i < nbb_cells.length; ++i) {\n",
       "                    if (nbb_cells[i].input_prompt_number == nbb_cell_id) {\n",
       "                        if (nbb_cells[i].get_text() == nbb_unformatted_code) {\n",
       "                             nbb_cells[i].set_text(nbb_formatted_code);\n",
       "                        }\n",
       "                        break;\n",
       "                    }\n",
       "                }\n",
       "            }, 500);\n",
       "            "
      ],
      "text/plain": [
       "<IPython.core.display.Javascript object>"
      ]
     },
     "metadata": {},
     "output_type": "display_data"
    }
   ],
   "source": [
    "byte = 8\n",
    "gigabit = 10 ** 9\n",
    "bandwidth = gigabit / byte\n",
    "\n",
    "\n",
    "# file_sizes = [10 ** 7, 10 ** 6]\n",
    "# file_sizes = [10 ** 7, 10 ** 6, 10 ** 5]\n",
    "file_sizes = [10 ** 7]\n",
    "\n",
    "benchmark = Benchmark(bandwidth=bandwidth, duration=3, file_sizes=file_sizes)\n",
    "benchmark.create_rows()"
   ]
  },
  {
   "cell_type": "code",
   "execution_count": null,
   "metadata": {},
   "outputs": [
    {
     "data": {
      "application/javascript": [
       "\n",
       "            setTimeout(function() {\n",
       "                var nbb_cell_id = 5;\n",
       "                var nbb_unformatted_code = \"# export\\n\\n\\nclass BaseClient:\\n    def __init__(self, benchmark, server, client):\\n        self.benchmark = benchmark\\n        self.server = server\\n        self.client = client\\n\\n    def check_md5sums(self, benchmark_files, responses):\\n        md5_lookup = {}\\n        for response in responses:\\n            url = str(response.url)\\n            md5_lookup[url] = hashlib.md5(response.content).hexdigest()\\n\\n        for bf in benchmark_files:\\n            assert bf.md5sum == md5_lookup.get(bf.url, \\\"wrong\\\")\\n\\n    def show_results(self):\\n        print(\\n            f\\\"Filesize  Transferred for server {self.server} with client {self.client}\\\"\\n        )\\n        for row in self.benchmark.rows:\\n            file_size, file_unit = convert_size(row.file_size)\\n            transferred_per_second, transferred_unit = convert_size(\\n                row.bytes_per_second\\n            )\\n            file_string = f\\\"{file_size}{file_unit}\\\"\\n            transferred_string = f\\\"{transferred_per_second}{transferred_unit}/s\\\"\\n            print(f\\\"{file_string} {transferred_string:>11s}\\\")\";\n",
       "                var nbb_formatted_code = \"# export\\n\\n\\nclass BaseClient:\\n    def __init__(self, benchmark, server, client):\\n        self.benchmark = benchmark\\n        self.server = server\\n        self.client = client\\n\\n    def check_md5sums(self, benchmark_files, responses):\\n        md5_lookup = {}\\n        for response in responses:\\n            url = str(response.url)\\n            md5_lookup[url] = hashlib.md5(response.content).hexdigest()\\n\\n        for bf in benchmark_files:\\n            assert bf.md5sum == md5_lookup.get(bf.url, \\\"wrong\\\")\\n\\n    def show_results(self):\\n        print(\\n            f\\\"Filesize  Transferred for server {self.server} with client {self.client}\\\"\\n        )\\n        for row in self.benchmark.rows:\\n            file_size, file_unit = convert_size(row.file_size)\\n            transferred_per_second, transferred_unit = convert_size(\\n                row.bytes_per_second\\n            )\\n            file_string = f\\\"{file_size}{file_unit}\\\"\\n            transferred_string = f\\\"{transferred_per_second}{transferred_unit}/s\\\"\\n            print(f\\\"{file_string} {transferred_string:>11s}\\\")\";\n",
       "                var nbb_cells = Jupyter.notebook.get_cells();\n",
       "                for (var i = 0; i < nbb_cells.length; ++i) {\n",
       "                    if (nbb_cells[i].input_prompt_number == nbb_cell_id) {\n",
       "                        if (nbb_cells[i].get_text() == nbb_unformatted_code) {\n",
       "                             nbb_cells[i].set_text(nbb_formatted_code);\n",
       "                        }\n",
       "                        break;\n",
       "                    }\n",
       "                }\n",
       "            }, 500);\n",
       "            "
      ],
      "text/plain": [
       "<IPython.core.display.Javascript object>"
      ]
     },
     "metadata": {},
     "output_type": "display_data"
    }
   ],
   "source": [
    "# export\n",
    "\n",
    "\n",
    "class BaseClient:\n",
    "    def __init__(self, benchmark, server, client):\n",
    "        self.benchmark = benchmark\n",
    "        self.server = server\n",
    "        self.client = client\n",
    "\n",
    "    def check_md5sums(self, benchmark_files, responses):\n",
    "        md5_lookup = {}\n",
    "        for response in responses:\n",
    "            url = str(response.url)\n",
    "            md5_lookup[url] = hashlib.md5(response.content).hexdigest()\n",
    "\n",
    "        for bf in benchmark_files:\n",
    "            assert bf.md5sum == md5_lookup.get(bf.url, \"wrong\")\n",
    "\n",
    "    def show_results(self):\n",
    "        print(\n",
    "            f\"Filesize  Transferred for server {self.server} with client {self.client}\"\n",
    "        )\n",
    "        for row in self.benchmark.rows:\n",
    "            file_size, file_unit = convert_size(row.file_size)\n",
    "            transferred_per_second, transferred_unit = convert_size(\n",
    "                row.bytes_per_second\n",
    "            )\n",
    "            file_string = f\"{file_size}{file_unit}\"\n",
    "            transferred_string = f\"{transferred_per_second}{transferred_unit}/s\"\n",
    "            print(f\"{file_string} {transferred_string:>11s}\")"
   ]
  },
  {
   "cell_type": "code",
   "execution_count": null,
   "metadata": {},
   "outputs": [
    {
     "data": {
      "application/javascript": [
       "\n",
       "            setTimeout(function() {\n",
       "                var nbb_cell_id = 6;\n",
       "                var nbb_unformatted_code = \"# export\\n\\nfrom will_it_saturate.core import BenchmarkClient\\n\\n\\nclass HttpxClient(BenchmarkClient):\\n    async def measure_br(self, br):\\n        urls = [bf.url for bf in br.files]\\n        # httpx breaks on more than 100 parallel connections\\n        max_connections = min(br.number_of_connections, 100)\\n        limits = httpx.Limits(\\n            max_keepalive_connections=5, max_connections=max_connections\\n        )\\n        start = time.perf_counter()\\n        async with httpx.AsyncClient(limits=limits) as client:\\n            responses = await asyncio.gather(*[client.get(url) for url in urls])\\n        elapsed = time.perf_counter() - start\\n        return elapsed, responses\\n\\n    async def measure_async(self, br):\\n        elapsed, responses = await self.measure_br(br)\\n        print(elapsed, len(responses))\\n        self.verify_checksums(br.files, responses)\\n        return elapsed\\n\\n    def measure_benchmark_row(self, br):\\n        loop = asyncio.get_running_loop()\\n        task = loop.create_task(self.measure_async(br))\\n        task.add_done_callback(\\n            lambda t: print(\\n                f\\\"Task done: \\\" f\\\"{t.result()=} << return val of main()\\\"  # optional\\n            )\\n        )  # optional (using py38)\\n\\n        # asyncio.run(self.measure_async(br))\\n        # return 2.0\\n\\n\\n#         urls = [bf.url for bf in br.files]\\n#         elapsed, responses = await self.measure_urls(urls)\\n#         self.verify_checksums(br.files, responses)\";\n",
       "                var nbb_formatted_code = \"# export\\n\\nfrom will_it_saturate.core import BenchmarkClient\\n\\n\\nclass HttpxClient(BenchmarkClient):\\n    async def measure_br(self, br):\\n        urls = [bf.url for bf in br.files]\\n        # httpx breaks on more than 100 parallel connections\\n        max_connections = min(br.number_of_connections, 100)\\n        limits = httpx.Limits(\\n            max_keepalive_connections=5, max_connections=max_connections\\n        )\\n        start = time.perf_counter()\\n        async with httpx.AsyncClient(limits=limits) as client:\\n            responses = await asyncio.gather(*[client.get(url) for url in urls])\\n        elapsed = time.perf_counter() - start\\n        return elapsed, responses\\n\\n    async def measure_async(self, br):\\n        elapsed, responses = await self.measure_br(br)\\n        print(elapsed, len(responses))\\n        self.verify_checksums(br.files, responses)\\n        return elapsed\\n\\n    def measure_benchmark_row(self, br):\\n        loop = asyncio.get_running_loop()\\n        task = loop.create_task(self.measure_async(br))\\n        task.add_done_callback(\\n            lambda t: print(\\n                f\\\"Task done: \\\" f\\\"{t.result()=} << return val of main()\\\"  # optional\\n            )\\n        )  # optional (using py38)\\n\\n        # asyncio.run(self.measure_async(br))\\n        # return 2.0\\n\\n\\n#         urls = [bf.url for bf in br.files]\\n#         elapsed, responses = await self.measure_urls(urls)\\n#         self.verify_checksums(br.files, responses)\";\n",
       "                var nbb_cells = Jupyter.notebook.get_cells();\n",
       "                for (var i = 0; i < nbb_cells.length; ++i) {\n",
       "                    if (nbb_cells[i].input_prompt_number == nbb_cell_id) {\n",
       "                        if (nbb_cells[i].get_text() == nbb_unformatted_code) {\n",
       "                             nbb_cells[i].set_text(nbb_formatted_code);\n",
       "                        }\n",
       "                        break;\n",
       "                    }\n",
       "                }\n",
       "            }, 500);\n",
       "            "
      ],
      "text/plain": [
       "<IPython.core.display.Javascript object>"
      ]
     },
     "metadata": {},
     "output_type": "display_data"
    }
   ],
   "source": [
    "# export\n",
    "\n",
    "from will_it_saturate.core import BenchmarkClient\n",
    "\n",
    "\n",
    "class HttpxClient(BenchmarkClient):\n",
    "    async def measure_br(self, br):\n",
    "        urls = [bf.url for bf in br.files]\n",
    "        # httpx breaks on more than 100 parallel connections\n",
    "        max_connections = min(br.number_of_connections, 100)\n",
    "        limits = httpx.Limits(\n",
    "            max_keepalive_connections=5, max_connections=max_connections\n",
    "        )\n",
    "        start = time.perf_counter()\n",
    "        async with httpx.AsyncClient(limits=limits) as client:\n",
    "            responses = await asyncio.gather(*[client.get(url) for url in urls])\n",
    "        elapsed = time.perf_counter() - start\n",
    "        return elapsed, responses\n",
    "\n",
    "    async def measure_async(self, br):\n",
    "        elapsed, responses = await self.measure_br(br)\n",
    "        print(elapsed, len(responses))\n",
    "        self.verify_checksums(br.files, responses)\n",
    "        return elapsed\n",
    "\n",
    "    def measure_benchmark_row(self, br):\n",
    "        loop = asyncio.get_running_loop()\n",
    "        task = loop.create_task(self.measure_async(br))\n",
    "        task.add_done_callback(\n",
    "            lambda t: print(\n",
    "                f\"Task done: \" f\"{t.result()=} << return val of main()\"  # optional\n",
    "            )\n",
    "        )  # optional (using py38)\n",
    "\n",
    "        # asyncio.run(self.measure_async(br))\n",
    "        # return 2.0\n",
    "\n",
    "\n",
    "#         urls = [bf.url for bf in br.files]\n",
    "#         elapsed, responses = await self.measure_urls(urls)\n",
    "#         self.verify_checksums(br.files, responses)"
   ]
  },
  {
   "cell_type": "code",
   "execution_count": null,
   "metadata": {},
   "outputs": [
    {
     "data": {
      "application/javascript": [
       "\n",
       "            setTimeout(function() {\n",
       "                var nbb_cell_id = 7;\n",
       "                var nbb_unformatted_code = \"client = HttpxClient(name=\\\"httpx\\\")\";\n",
       "                var nbb_formatted_code = \"client = HttpxClient(name=\\\"httpx\\\")\";\n",
       "                var nbb_cells = Jupyter.notebook.get_cells();\n",
       "                for (var i = 0; i < nbb_cells.length; ++i) {\n",
       "                    if (nbb_cells[i].input_prompt_number == nbb_cell_id) {\n",
       "                        if (nbb_cells[i].get_text() == nbb_unformatted_code) {\n",
       "                             nbb_cells[i].set_text(nbb_formatted_code);\n",
       "                        }\n",
       "                        break;\n",
       "                    }\n",
       "                }\n",
       "            }, 500);\n",
       "            "
      ],
      "text/plain": [
       "<IPython.core.display.Javascript object>"
      ]
     },
     "metadata": {},
     "output_type": "display_data"
    }
   ],
   "source": [
    "client = HttpxClient(name=\"httpx\")"
   ]
  },
  {
   "cell_type": "code",
   "execution_count": null,
   "metadata": {},
   "outputs": [
    {
     "data": {
      "application/javascript": [
       "\n",
       "            setTimeout(function() {\n",
       "                var nbb_cell_id = 8;\n",
       "                var nbb_unformatted_code = \"benchmark.clients.append(client)\";\n",
       "                var nbb_formatted_code = \"benchmark.clients.append(client)\";\n",
       "                var nbb_cells = Jupyter.notebook.get_cells();\n",
       "                for (var i = 0; i < nbb_cells.length; ++i) {\n",
       "                    if (nbb_cells[i].input_prompt_number == nbb_cell_id) {\n",
       "                        if (nbb_cells[i].get_text() == nbb_unformatted_code) {\n",
       "                             nbb_cells[i].set_text(nbb_formatted_code);\n",
       "                        }\n",
       "                        break;\n",
       "                    }\n",
       "                }\n",
       "            }, 500);\n",
       "            "
      ],
      "text/plain": [
       "<IPython.core.display.Javascript object>"
      ]
     },
     "metadata": {},
     "output_type": "display_data"
    }
   ],
   "source": [
    "benchmark.clients.append(client)"
   ]
  },
  {
   "cell_type": "code",
   "execution_count": null,
   "metadata": {},
   "outputs": [
    {
     "data": {
      "application/javascript": [
       "\n",
       "            setTimeout(function() {\n",
       "                var nbb_cell_id = 9;\n",
       "                var nbb_unformatted_code = \"from will_it_saturate.core import BenchmarkServer\";\n",
       "                var nbb_formatted_code = \"from will_it_saturate.core import BenchmarkServer\";\n",
       "                var nbb_cells = Jupyter.notebook.get_cells();\n",
       "                for (var i = 0; i < nbb_cells.length; ++i) {\n",
       "                    if (nbb_cells[i].input_prompt_number == nbb_cell_id) {\n",
       "                        if (nbb_cells[i].get_text() == nbb_unformatted_code) {\n",
       "                             nbb_cells[i].set_text(nbb_formatted_code);\n",
       "                        }\n",
       "                        break;\n",
       "                    }\n",
       "                }\n",
       "            }, 500);\n",
       "            "
      ],
      "text/plain": [
       "<IPython.core.display.Javascript object>"
      ]
     },
     "metadata": {},
     "output_type": "display_data"
    }
   ],
   "source": [
    "from will_it_saturate.core import BenchmarkServer"
   ]
  },
  {
   "cell_type": "code",
   "execution_count": null,
   "metadata": {},
   "outputs": [
    {
     "data": {
      "application/javascript": [
       "\n",
       "            setTimeout(function() {\n",
       "                var nbb_cell_id = 10;\n",
       "                var nbb_unformatted_code = \"benchmark.servers.append(BenchmarkServer(name=\\\"fastAPI\\\"))\";\n",
       "                var nbb_formatted_code = \"benchmark.servers.append(BenchmarkServer(name=\\\"fastAPI\\\"))\";\n",
       "                var nbb_cells = Jupyter.notebook.get_cells();\n",
       "                for (var i = 0; i < nbb_cells.length; ++i) {\n",
       "                    if (nbb_cells[i].input_prompt_number == nbb_cell_id) {\n",
       "                        if (nbb_cells[i].get_text() == nbb_unformatted_code) {\n",
       "                             nbb_cells[i].set_text(nbb_formatted_code);\n",
       "                        }\n",
       "                        break;\n",
       "                    }\n",
       "                }\n",
       "            }, 500);\n",
       "            "
      ],
      "text/plain": [
       "<IPython.core.display.Javascript object>"
      ]
     },
     "metadata": {},
     "output_type": "display_data"
    }
   ],
   "source": [
    "benchmark.servers.append(BenchmarkServer(name=\"fastAPI\"))"
   ]
  },
  {
   "cell_type": "code",
   "execution_count": null,
   "metadata": {},
   "outputs": [
    {
     "ename": "ValidationError",
     "evalue": "1 validation error for BenchmarkResult\nelapsed\n  none is not an allowed value (type=type_error.none.not_allowed)",
     "output_type": "error",
     "traceback": [
      "\u001b[0;31m---------------------------------------------------------------------------\u001b[0m",
      "\u001b[0;31mValidationError\u001b[0m                           Traceback (most recent call last)",
      "\u001b[0;32m<ipython-input-11-4b26255d2bea>\u001b[0m in \u001b[0;36m<module>\u001b[0;34m\u001b[0m\n\u001b[0;32m----> 1\u001b[0;31m \u001b[0mbenchmark\u001b[0m\u001b[0;34m.\u001b[0m\u001b[0mrun\u001b[0m\u001b[0;34m(\u001b[0m\u001b[0;34m)\u001b[0m\u001b[0;34m\u001b[0m\u001b[0;34m\u001b[0m\u001b[0m\n\u001b[0m",
      "\u001b[0;32m~/projects/will_it_saturate/will_it_saturate/core.py\u001b[0m in \u001b[0;36mrun\u001b[0;34m(self)\u001b[0m\n\u001b[1;32m    241\u001b[0m             \u001b[0;31m# start with servers, because they are more expensive to create\u001b[0m\u001b[0;34m\u001b[0m\u001b[0;34m\u001b[0m\u001b[0;34m\u001b[0m\u001b[0m\n\u001b[1;32m    242\u001b[0m             \u001b[0;32mfor\u001b[0m \u001b[0mclient\u001b[0m \u001b[0;32min\u001b[0m \u001b[0mself\u001b[0m\u001b[0;34m.\u001b[0m\u001b[0mclients\u001b[0m\u001b[0;34m:\u001b[0m\u001b[0;34m\u001b[0m\u001b[0;34m\u001b[0m\u001b[0m\n\u001b[0;32m--> 243\u001b[0;31m                 \u001b[0mself\u001b[0m\u001b[0;34m.\u001b[0m\u001b[0mtest_server_with_client\u001b[0m\u001b[0;34m(\u001b[0m\u001b[0mserver\u001b[0m\u001b[0;34m,\u001b[0m \u001b[0mclient\u001b[0m\u001b[0;34m)\u001b[0m\u001b[0;34m\u001b[0m\u001b[0;34m\u001b[0m\u001b[0m\n\u001b[0m\u001b[1;32m    244\u001b[0m \u001b[0;34m\u001b[0m\u001b[0m\n\u001b[1;32m    245\u001b[0m     \u001b[0;34m@\u001b[0m\u001b[0mproperty\u001b[0m\u001b[0;34m\u001b[0m\u001b[0;34m\u001b[0m\u001b[0m\n",
      "\u001b[0;32m~/projects/will_it_saturate/will_it_saturate/core.py\u001b[0m in \u001b[0;36mtest_server_with_client\u001b[0;34m(self, server, client)\u001b[0m\n\u001b[1;32m    228\u001b[0m         \u001b[0;32mfor\u001b[0m \u001b[0mbenchmark_row\u001b[0m \u001b[0;32min\u001b[0m \u001b[0mself\u001b[0m\u001b[0;34m.\u001b[0m\u001b[0mrows\u001b[0m\u001b[0;34m:\u001b[0m\u001b[0;34m\u001b[0m\u001b[0;34m\u001b[0m\u001b[0m\n\u001b[1;32m    229\u001b[0m             \u001b[0melapsed\u001b[0m \u001b[0;34m=\u001b[0m \u001b[0mclient\u001b[0m\u001b[0;34m.\u001b[0m\u001b[0mmeasure_benchmark_row\u001b[0m\u001b[0;34m(\u001b[0m\u001b[0mbenchmark_row\u001b[0m\u001b[0;34m)\u001b[0m\u001b[0;34m\u001b[0m\u001b[0;34m\u001b[0m\u001b[0m\n\u001b[0;32m--> 230\u001b[0;31m             result = BenchmarkResult(\n\u001b[0m\u001b[1;32m    231\u001b[0m                 \u001b[0mserver\u001b[0m\u001b[0;34m=\u001b[0m\u001b[0mserver\u001b[0m\u001b[0;34m.\u001b[0m\u001b[0mname\u001b[0m\u001b[0;34m,\u001b[0m\u001b[0;34m\u001b[0m\u001b[0;34m\u001b[0m\u001b[0m\n\u001b[1;32m    232\u001b[0m                 \u001b[0mclient\u001b[0m\u001b[0;34m=\u001b[0m\u001b[0mclient\u001b[0m\u001b[0;34m.\u001b[0m\u001b[0mname\u001b[0m\u001b[0;34m,\u001b[0m\u001b[0;34m\u001b[0m\u001b[0;34m\u001b[0m\u001b[0m\n",
      "\u001b[0;32m~/.pyenv/versions/3.9.1/envs/wis/lib/python3.9/site-packages/pydantic/main.py\u001b[0m in \u001b[0;36m__init__\u001b[0;34m(__pydantic_self__, **data)\u001b[0m\n\u001b[1;32m    360\u001b[0m         \u001b[0mvalues\u001b[0m\u001b[0;34m,\u001b[0m \u001b[0mfields_set\u001b[0m\u001b[0;34m,\u001b[0m \u001b[0mvalidation_error\u001b[0m \u001b[0;34m=\u001b[0m \u001b[0mvalidate_model\u001b[0m\u001b[0;34m(\u001b[0m\u001b[0m__pydantic_self__\u001b[0m\u001b[0;34m.\u001b[0m\u001b[0m__class__\u001b[0m\u001b[0;34m,\u001b[0m \u001b[0mdata\u001b[0m\u001b[0;34m)\u001b[0m\u001b[0;34m\u001b[0m\u001b[0;34m\u001b[0m\u001b[0m\n\u001b[1;32m    361\u001b[0m         \u001b[0;32mif\u001b[0m \u001b[0mvalidation_error\u001b[0m\u001b[0;34m:\u001b[0m\u001b[0;34m\u001b[0m\u001b[0;34m\u001b[0m\u001b[0m\n\u001b[0;32m--> 362\u001b[0;31m             \u001b[0;32mraise\u001b[0m \u001b[0mvalidation_error\u001b[0m\u001b[0;34m\u001b[0m\u001b[0;34m\u001b[0m\u001b[0m\n\u001b[0m\u001b[1;32m    363\u001b[0m         \u001b[0mobject_setattr\u001b[0m\u001b[0;34m(\u001b[0m\u001b[0m__pydantic_self__\u001b[0m\u001b[0;34m,\u001b[0m \u001b[0;34m'__dict__'\u001b[0m\u001b[0;34m,\u001b[0m \u001b[0mvalues\u001b[0m\u001b[0;34m)\u001b[0m\u001b[0;34m\u001b[0m\u001b[0;34m\u001b[0m\u001b[0m\n\u001b[1;32m    364\u001b[0m         \u001b[0mobject_setattr\u001b[0m\u001b[0;34m(\u001b[0m\u001b[0m__pydantic_self__\u001b[0m\u001b[0;34m,\u001b[0m \u001b[0;34m'__fields_set__'\u001b[0m\u001b[0;34m,\u001b[0m \u001b[0mfields_set\u001b[0m\u001b[0;34m)\u001b[0m\u001b[0;34m\u001b[0m\u001b[0;34m\u001b[0m\u001b[0m\n",
      "\u001b[0;31mValidationError\u001b[0m: 1 validation error for BenchmarkResult\nelapsed\n  none is not an allowed value (type=type_error.none.not_allowed)"
     ]
    },
    {
     "data": {
      "application/javascript": [
       "\n",
       "            setTimeout(function() {\n",
       "                var nbb_cell_id = 11;\n",
       "                var nbb_unformatted_code = \"benchmark.run()\";\n",
       "                var nbb_formatted_code = \"benchmark.run()\";\n",
       "                var nbb_cells = Jupyter.notebook.get_cells();\n",
       "                for (var i = 0; i < nbb_cells.length; ++i) {\n",
       "                    if (nbb_cells[i].input_prompt_number == nbb_cell_id) {\n",
       "                        if (nbb_cells[i].get_text() == nbb_unformatted_code) {\n",
       "                             nbb_cells[i].set_text(nbb_formatted_code);\n",
       "                        }\n",
       "                        break;\n",
       "                    }\n",
       "                }\n",
       "            }, 500);\n",
       "            "
      ],
      "text/plain": [
       "<IPython.core.display.Javascript object>"
      ]
     },
     "metadata": {},
     "output_type": "display_data"
    },
    {
     "name": "stdout",
     "output_type": "stream",
     "text": [
      "4.2216322360000005 38\n",
      "Task done: t.result()=4.2216322360000005 << return val of main()\n"
     ]
    }
   ],
   "source": [
    "benchmark.run()"
   ]
  },
  {
   "cell_type": "code",
   "execution_count": null,
   "metadata": {},
   "outputs": [],
   "source": [
    "# export\n",
    "\n",
    "from will_it_saturate.core import BenchmarkClient\n",
    "\n",
    "\n",
    "class HttpxClient(BenchmarkClient):\n",
    "    async def measure_benchmark_row(self, br):\n",
    "        urls = [bf.url for bf in br.files]\n",
    "        # httpx breaks on more than 100 parallel connections\n",
    "        max_connections = min(br.number_of_connections, 100)\n",
    "        limits = httpx.Limits(\n",
    "            max_keepalive_connections=5, max_connections=max_connections\n",
    "        )\n",
    "        start = time.perf_counter()\n",
    "        async with httpx.AsyncClient(limits=limits) as client:\n",
    "            responses = await asyncio.gather(*[client.get(url) for url in urls])\n",
    "        elapsed = time.perf_counter() - start\n",
    "        self._md5sums(br.files, responses)\n",
    "        return elapsed"
   ]
  },
  {
   "cell_type": "code",
   "execution_count": null,
   "metadata": {},
   "outputs": [
    {
     "data": {
      "application/javascript": [
       "\n",
       "            setTimeout(function() {\n",
       "                var nbb_cell_id = 25;\n",
       "                var nbb_unformatted_code = \"bclient = HttpxClient(benchmark, \\\"fastAPI\\\", \\\"httpx\\\")\";\n",
       "                var nbb_formatted_code = \"bclient = HttpxClient(benchmark, \\\"fastAPI\\\", \\\"httpx\\\")\";\n",
       "                var nbb_cells = Jupyter.notebook.get_cells();\n",
       "                for (var i = 0; i < nbb_cells.length; ++i) {\n",
       "                    if (nbb_cells[i].input_prompt_number == nbb_cell_id) {\n",
       "                        if (nbb_cells[i].get_text() == nbb_unformatted_code) {\n",
       "                             nbb_cells[i].set_text(nbb_formatted_code);\n",
       "                        }\n",
       "                        break;\n",
       "                    }\n",
       "                }\n",
       "            }, 500);\n",
       "            "
      ],
      "text/plain": [
       "<IPython.core.display.Javascript object>"
      ]
     },
     "metadata": {},
     "output_type": "display_data"
    }
   ],
   "source": [
    "bclient = HttpxClient(benchmark, \"fastAPI\", \"httpx\")"
   ]
  },
  {
   "cell_type": "code",
   "execution_count": null,
   "metadata": {},
   "outputs": [
    {
     "data": {
      "application/javascript": [
       "\n",
       "            setTimeout(function() {\n",
       "                var nbb_cell_id = 26;\n",
       "                var nbb_unformatted_code = \"await bclient.run()\";\n",
       "                var nbb_formatted_code = \"await bclient.run()\";\n",
       "                var nbb_cells = Jupyter.notebook.get_cells();\n",
       "                for (var i = 0; i < nbb_cells.length; ++i) {\n",
       "                    if (nbb_cells[i].input_prompt_number == nbb_cell_id) {\n",
       "                        if (nbb_cells[i].get_text() == nbb_unformatted_code) {\n",
       "                             nbb_cells[i].set_text(nbb_formatted_code);\n",
       "                        }\n",
       "                        break;\n",
       "                    }\n",
       "                }\n",
       "            }, 500);\n",
       "            "
      ],
      "text/plain": [
       "<IPython.core.display.Javascript object>"
      ]
     },
     "metadata": {},
     "output_type": "display_data"
    }
   ],
   "source": [
    "await bclient.run()"
   ]
  },
  {
   "cell_type": "code",
   "execution_count": null,
   "metadata": {},
   "outputs": [
    {
     "name": "stdout",
     "output_type": "stream",
     "text": [
      "Filesize  Transferred for server fastAPI with client httpx\n",
      "9.54MB   90.34MB/s\n",
      "976.56KB   87.31MB/s\n",
      "97.66KB   38.52MB/s\n"
     ]
    },
    {
     "data": {
      "application/javascript": [
       "\n",
       "            setTimeout(function() {\n",
       "                var nbb_cell_id = 27;\n",
       "                var nbb_unformatted_code = \"bclient.show_results()\";\n",
       "                var nbb_formatted_code = \"bclient.show_results()\";\n",
       "                var nbb_cells = Jupyter.notebook.get_cells();\n",
       "                for (var i = 0; i < nbb_cells.length; ++i) {\n",
       "                    if (nbb_cells[i].input_prompt_number == nbb_cell_id) {\n",
       "                        if (nbb_cells[i].get_text() == nbb_unformatted_code) {\n",
       "                             nbb_cells[i].set_text(nbb_formatted_code);\n",
       "                        }\n",
       "                        break;\n",
       "                    }\n",
       "                }\n",
       "            }, 500);\n",
       "            "
      ],
      "text/plain": [
       "<IPython.core.display.Javascript object>"
      ]
     },
     "metadata": {},
     "output_type": "display_data"
    }
   ],
   "source": [
    "bclient.show_results()"
   ]
  },
  {
   "cell_type": "code",
   "execution_count": null,
   "metadata": {},
   "outputs": [
    {
     "name": "stdout",
     "output_type": "stream",
     "text": [
      "Benchmark fastAPI + httpx: \n",
      "---------\n",
      "File size: 9.54MB\n",
      "59.63MB/s\n",
      "---------\n",
      "File size: 976.56KB\n",
      "48.34MB/s\n",
      "---------\n",
      "File size: 97.66KB\n",
      "11.57MB/s\n"
     ]
    },
    {
     "data": {
      "application/javascript": [
       "\n",
       "            setTimeout(function() {\n",
       "                var nbb_cell_id = 10;\n",
       "                var nbb_unformatted_code = \"print(\\\"Benchmark fastAPI + httpx: \\\")\\nfor br in benchmark.rows:\\n    print(\\\"---------\\\")\\n    file_size, file_unit = convert_size(br.file_size)\\n    print(f\\\"File size: {file_size}{file_unit}\\\")\\n    file_size, file_unit = convert_size(br.file_size)\\n    transferred_per_second, transferred_unit = convert_size(br.bytes_per_second)\\n    print(f\\\"{transferred_per_second}{transferred_unit}/s\\\")\";\n",
       "                var nbb_formatted_code = \"print(\\\"Benchmark fastAPI + httpx: \\\")\\nfor br in benchmark.rows:\\n    print(\\\"---------\\\")\\n    file_size, file_unit = convert_size(br.file_size)\\n    print(f\\\"File size: {file_size}{file_unit}\\\")\\n    file_size, file_unit = convert_size(br.file_size)\\n    transferred_per_second, transferred_unit = convert_size(br.bytes_per_second)\\n    print(f\\\"{transferred_per_second}{transferred_unit}/s\\\")\";\n",
       "                var nbb_cells = Jupyter.notebook.get_cells();\n",
       "                for (var i = 0; i < nbb_cells.length; ++i) {\n",
       "                    if (nbb_cells[i].input_prompt_number == nbb_cell_id) {\n",
       "                        if (nbb_cells[i].get_text() == nbb_unformatted_code) {\n",
       "                             nbb_cells[i].set_text(nbb_formatted_code);\n",
       "                        }\n",
       "                        break;\n",
       "                    }\n",
       "                }\n",
       "            }, 500);\n",
       "            "
      ],
      "text/plain": [
       "<IPython.core.display.Javascript object>"
      ]
     },
     "metadata": {},
     "output_type": "display_data"
    }
   ],
   "source": [
    "print(\"Benchmark fastAPI + httpx: \")\n",
    "for br in benchmark.rows:\n",
    "    print(\"---------\")\n",
    "    file_size, file_unit = convert_size(br.file_size)\n",
    "    print(f\"File size: {file_size}{file_unit}\")\n",
    "    transferred_per_second, transferred_unit = convert_size(br.bytes_per_second)\n",
    "    print(f\"{transferred_per_second}{transferred_unit}/s\")"
   ]
  },
  {
   "cell_type": "code",
   "execution_count": null,
   "metadata": {},
   "outputs": [
    {
     "name": "stdout",
     "output_type": "stream",
     "text": [
      "Filesize  Transferred for \n",
      "97.66KB  11.57MB/s\n"
     ]
    },
    {
     "data": {
      "application/javascript": [
       "\n",
       "            setTimeout(function() {\n",
       "                var nbb_cell_id = 21;\n",
       "                var nbb_unformatted_code = \"print(\\\"Filesize  Transferred for \\\")\\nfile_size, file_unit = \\\"97.66\\\", \\\"KB\\\"\\nfile_string = f\\\"{file_size}{file_unit}\\\"\\ntransferred_per_second, transferred_unit = \\\"11.57\\\", \\\"MB\\\"\\ntransferred_string = f\\\"{transferred_per_second}{transferred_unit}/s\\\"\\nline = f\\\"{file_string} {transferred_string:>10s}\\\"\\nprint(line)\";\n",
       "                var nbb_formatted_code = \"print(\\\"Filesize  Transferred for \\\")\\nfile_size, file_unit = \\\"97.66\\\", \\\"KB\\\"\\nfile_string = f\\\"{file_size}{file_unit}\\\"\\ntransferred_per_second, transferred_unit = \\\"11.57\\\", \\\"MB\\\"\\ntransferred_string = f\\\"{transferred_per_second}{transferred_unit}/s\\\"\\nline = f\\\"{file_string} {transferred_string:>10s}\\\"\\nprint(line)\";\n",
       "                var nbb_cells = Jupyter.notebook.get_cells();\n",
       "                for (var i = 0; i < nbb_cells.length; ++i) {\n",
       "                    if (nbb_cells[i].input_prompt_number == nbb_cell_id) {\n",
       "                        if (nbb_cells[i].get_text() == nbb_unformatted_code) {\n",
       "                             nbb_cells[i].set_text(nbb_formatted_code);\n",
       "                        }\n",
       "                        break;\n",
       "                    }\n",
       "                }\n",
       "            }, 500);\n",
       "            "
      ],
      "text/plain": [
       "<IPython.core.display.Javascript object>"
      ]
     },
     "metadata": {},
     "output_type": "display_data"
    }
   ],
   "source": [
    "print(\"Filesize  Transferred for \")\n",
    "file_size, file_unit = \"97.66\", \"KB\"\n",
    "file_string = f\"{file_size}{file_unit}\"\n",
    "transferred_per_second, transferred_unit = \"11.57\", \"MB\"\n",
    "transferred_string = f\"{transferred_per_second}{transferred_unit}/s\"\n",
    "line = f\"{file_string} {transferred_string:>10s}\"\n",
    "print(line)"
   ]
  },
  {
   "cell_type": "code",
   "execution_count": null,
   "metadata": {},
   "outputs": [
    {
     "name": "stdout",
     "output_type": "stream",
     "text": [
      "Filesize  Transferred for \n",
      "976.56KB  11.57MB/s\n"
     ]
    },
    {
     "data": {
      "application/javascript": [
       "\n",
       "            setTimeout(function() {\n",
       "                var nbb_cell_id = 20;\n",
       "                var nbb_unformatted_code = \"print(\\\"Filesize  Transferred for \\\")\\nfile_size, file_unit = \\\"976.56\\\", \\\"KB\\\"\\nfile_string = f\\\"{file_size}{file_unit}\\\"\\ntransferred_per_second, transferred_unit = \\\"11.57\\\", \\\"MB\\\"\\ntransferred_string = f\\\"{transferred_per_second}{transferred_unit}/s\\\"\\nline = f\\\"{file_string} {transferred_string:>10s}\\\"\\nprint(line)\";\n",
       "                var nbb_formatted_code = \"print(\\\"Filesize  Transferred for \\\")\\nfile_size, file_unit = \\\"976.56\\\", \\\"KB\\\"\\nfile_string = f\\\"{file_size}{file_unit}\\\"\\ntransferred_per_second, transferred_unit = \\\"11.57\\\", \\\"MB\\\"\\ntransferred_string = f\\\"{transferred_per_second}{transferred_unit}/s\\\"\\nline = f\\\"{file_string} {transferred_string:>10s}\\\"\\nprint(line)\";\n",
       "                var nbb_cells = Jupyter.notebook.get_cells();\n",
       "                for (var i = 0; i < nbb_cells.length; ++i) {\n",
       "                    if (nbb_cells[i].input_prompt_number == nbb_cell_id) {\n",
       "                        if (nbb_cells[i].get_text() == nbb_unformatted_code) {\n",
       "                             nbb_cells[i].set_text(nbb_formatted_code);\n",
       "                        }\n",
       "                        break;\n",
       "                    }\n",
       "                }\n",
       "            }, 500);\n",
       "            "
      ],
      "text/plain": [
       "<IPython.core.display.Javascript object>"
      ]
     },
     "metadata": {},
     "output_type": "display_data"
    }
   ],
   "source": [
    "print(\"Filesize  Transferred for \")\n",
    "file_size, file_unit = \"976.56\", \"KB\"\n",
    "file_string = f\"{file_size}{file_unit}\"\n",
    "transferred_per_second, transferred_unit = \"11.57\", \"MB\"\n",
    "transferred_string = f\"{transferred_per_second}{transferred_unit}/s\"\n",
    "line = f\"{file_string} {transferred_string:>10s}\"\n",
    "print(line)"
   ]
  },
  {
   "cell_type": "code",
   "execution_count": null,
   "metadata": {},
   "outputs": [
    {
     "name": "stdout",
     "output_type": "stream",
     "text": [
      "Benchmark fastAPI + httpx: \n",
      "---------\n",
      "File size: 9.54MB\n",
      "46.68MB/s\n",
      "---------\n",
      "File size: 976.56KB\n",
      "42.95MB/s\n",
      "---------\n",
      "File size: 97.66KB\n",
      "26.27MB/s\n"
     ]
    },
    {
     "data": {
      "application/javascript": [
       "\n",
       "            setTimeout(function() {\n",
       "                var nbb_cell_id = 10;\n",
       "                var nbb_unformatted_code = \"print(\\\"Benchmark fastAPI + httpx: \\\")\\nfor br in benchmark.rows:\\n    print(\\\"---------\\\")\\n    file_size, file_unit = convert_size(br.file_size)\\n    print(f\\\"File size: {file_size}{file_unit}\\\")\\n    file_size, file_unit = convert_size(br.file_size)\\n    transferred_per_second, transferred_unit = convert_size(br.bytes_per_second)\\n    print(f\\\"{transferred_per_second}{transferred_unit}/s\\\")\";\n",
       "                var nbb_formatted_code = \"print(\\\"Benchmark fastAPI + httpx: \\\")\\nfor br in benchmark.rows:\\n    print(\\\"---------\\\")\\n    file_size, file_unit = convert_size(br.file_size)\\n    print(f\\\"File size: {file_size}{file_unit}\\\")\\n    file_size, file_unit = convert_size(br.file_size)\\n    transferred_per_second, transferred_unit = convert_size(br.bytes_per_second)\\n    print(f\\\"{transferred_per_second}{transferred_unit}/s\\\")\";\n",
       "                var nbb_cells = Jupyter.notebook.get_cells();\n",
       "                for (var i = 0; i < nbb_cells.length; ++i) {\n",
       "                    if (nbb_cells[i].input_prompt_number == nbb_cell_id) {\n",
       "                        if (nbb_cells[i].get_text() == nbb_unformatted_code) {\n",
       "                             nbb_cells[i].set_text(nbb_formatted_code);\n",
       "                        }\n",
       "                        break;\n",
       "                    }\n",
       "                }\n",
       "            }, 500);\n",
       "            "
      ],
      "text/plain": [
       "<IPython.core.display.Javascript object>"
      ]
     },
     "metadata": {},
     "output_type": "display_data"
    }
   ],
   "source": [
    "print(\"Benchmark fastAPI + httpx: \")\n",
    "for br in benchmark.rows:\n",
    "    print(\"---------\")\n",
    "    file_size, file_unit = convert_size(br.file_size)\n",
    "    print(f\"File size: {file_size}{file_unit}\")\n",
    "    file_size, file_unit = convert_size(br.file_size)\n",
    "    transferred_per_second, transferred_unit = convert_size(br.bytes_per_second)\n",
    "    print(f\"{transferred_per_second}{transferred_unit}/s\")"
   ]
  },
  {
   "cell_type": "code",
   "execution_count": null,
   "metadata": {},
   "outputs": [
    {
     "name": "stdout",
     "output_type": "stream",
     "text": [
      "Benchmark Nginx: \n",
      "---------\n",
      "File size: 9.54MB\n",
      "55.56MB/s\n",
      "---------\n",
      "File size: 976.56KB\n",
      "49.69MB/s\n",
      "---------\n",
      "File size: 97.66KB\n",
      "20.27MB/s\n"
     ]
    },
    {
     "data": {
      "application/javascript": [
       "\n",
       "            setTimeout(function() {\n",
       "                var nbb_cell_id = 52;\n",
       "                var nbb_unformatted_code = \"print(\\\"Benchmark Nginx: \\\")\\nfor br in benchmark.rows:\\n    print(\\\"---------\\\")\\n    file_size, file_unit = convert_size(br.file_size)\\n    print(f\\\"File size: {file_size}{file_unit}\\\")\\n    file_size, file_unit = convert_size(br.file_size)\\n    transferred_per_second, transferred_unit = convert_size(br.bytes_per_second)\\n    print(f\\\"{transferred_per_second}{transferred_unit}/s\\\")\";\n",
       "                var nbb_formatted_code = \"print(\\\"Benchmark Nginx: \\\")\\nfor br in benchmark.rows:\\n    print(\\\"---------\\\")\\n    file_size, file_unit = convert_size(br.file_size)\\n    print(f\\\"File size: {file_size}{file_unit}\\\")\\n    file_size, file_unit = convert_size(br.file_size)\\n    transferred_per_second, transferred_unit = convert_size(br.bytes_per_second)\\n    print(f\\\"{transferred_per_second}{transferred_unit}/s\\\")\";\n",
       "                var nbb_cells = Jupyter.notebook.get_cells();\n",
       "                for (var i = 0; i < nbb_cells.length; ++i) {\n",
       "                    if (nbb_cells[i].input_prompt_number == nbb_cell_id) {\n",
       "                        if (nbb_cells[i].get_text() == nbb_unformatted_code) {\n",
       "                             nbb_cells[i].set_text(nbb_formatted_code);\n",
       "                        }\n",
       "                        break;\n",
       "                    }\n",
       "                }\n",
       "            }, 500);\n",
       "            "
      ],
      "text/plain": [
       "<IPython.core.display.Javascript object>"
      ]
     },
     "metadata": {},
     "output_type": "display_data"
    }
   ],
   "source": [
    "print(\"Benchmark Nginx with httpx: \")\n",
    "for br in benchmark.rows:\n",
    "    print(\"---------\")\n",
    "    file_size, file_unit = convert_size(br.file_size)\n",
    "    print(f\"File size: {file_size}{file_unit}\")\n",
    "    file_size, file_unit = convert_size(br.file_size)\n",
    "    transferred_per_second, transferred_unit = convert_size(br.bytes_per_second)\n",
    "    print(f\"{transferred_per_second}{transferred_unit}/s\")"
   ]
  },
  {
   "cell_type": "code",
   "execution_count": null,
   "metadata": {},
   "outputs": [
    {
     "name": "stdout",
     "output_type": "stream",
     "text": [
      "Benchmark Nginx with httpx: \n",
      "---------\n",
      "File size: 9.54MB\n",
      "62.09MB/s\n",
      "---------\n",
      "File size: 976.56KB\n",
      "74.07MB/s\n",
      "---------\n",
      "File size: 97.66KB\n",
      "30.94MB/s\n"
     ]
    },
    {
     "data": {
      "application/javascript": [
       "\n",
       "            setTimeout(function() {\n",
       "                var nbb_cell_id = 24;\n",
       "                var nbb_unformatted_code = \"print(\\\"Benchmark Nginx with httpx: \\\")\\nfor br in benchmark.rows:\\n    print(\\\"---------\\\")\\n    file_size, file_unit = convert_size(br.file_size)\\n    print(f\\\"File size: {file_size}{file_unit}\\\")\\n    file_size, file_unit = convert_size(br.file_size)\\n    transferred_per_second, transferred_unit = convert_size(br.bytes_per_second)\\n    print(f\\\"{transferred_per_second}{transferred_unit}/s\\\")\";\n",
       "                var nbb_formatted_code = \"print(\\\"Benchmark Nginx with httpx: \\\")\\nfor br in benchmark.rows:\\n    print(\\\"---------\\\")\\n    file_size, file_unit = convert_size(br.file_size)\\n    print(f\\\"File size: {file_size}{file_unit}\\\")\\n    file_size, file_unit = convert_size(br.file_size)\\n    transferred_per_second, transferred_unit = convert_size(br.bytes_per_second)\\n    print(f\\\"{transferred_per_second}{transferred_unit}/s\\\")\";\n",
       "                var nbb_cells = Jupyter.notebook.get_cells();\n",
       "                for (var i = 0; i < nbb_cells.length; ++i) {\n",
       "                    if (nbb_cells[i].input_prompt_number == nbb_cell_id) {\n",
       "                        if (nbb_cells[i].get_text() == nbb_unformatted_code) {\n",
       "                             nbb_cells[i].set_text(nbb_formatted_code);\n",
       "                        }\n",
       "                        break;\n",
       "                    }\n",
       "                }\n",
       "            }, 500);\n",
       "            "
      ],
      "text/plain": [
       "<IPython.core.display.Javascript object>"
      ]
     },
     "metadata": {},
     "output_type": "display_data"
    }
   ],
   "source": [
    "print(\"Benchmark Nginx with httpx: \")\n",
    "for br in benchmark.rows:\n",
    "    print(\"---------\")\n",
    "    file_size, file_unit = convert_size(br.file_size)\n",
    "    print(f\"File size: {file_size}{file_unit}\")\n",
    "    file_size, file_unit = convert_size(br.file_size)\n",
    "    transferred_per_second, transferred_unit = convert_size(br.bytes_per_second)\n",
    "    print(f\"{transferred_per_second}{transferred_unit}/s\")"
   ]
  },
  {
   "cell_type": "markdown",
   "metadata": {},
   "source": [
    "# aiohttp"
   ]
  },
  {
   "cell_type": "code",
   "execution_count": null,
   "metadata": {},
   "outputs": [
    {
     "data": {
      "application/javascript": [
       "\n",
       "            setTimeout(function() {\n",
       "                var nbb_cell_id = 15;\n",
       "                var nbb_unformatted_code = \"# export\\n\\n\\nclass AioHttpResponse:\\n    def __init__(self, url, content):\\n        self.url = url\\n        self.content = content\\n\\n\\nclass AioHttpClient(BaseClient):\\n    async def fetch_page(self, session, url):\\n        async with session.get(url) as response:\\n            content = await response.read()\\n            return AioHttpResponse(url, content)\\n\\n    async def measure_benchmark_row(self, br):\\n        urls = [bf.url for bf in br.files]\\n        max_connections = min(br.number_of_connections, 200)\\n        # max_connections = br.number_of_connections\\n        conn = aiohttp.TCPConnector(limit=max_connections)\\n        responses = []\\n        start = time.perf_counter()\\n        async with aiohttp.ClientSession(connector=conn) as session:\\n            tasks = [asyncio.create_task(self.fetch_page(session, url)) for url in urls]\\n            responses = await asyncio.gather(*tasks)\\n        elapsed = time.perf_counter() - start\\n        self.responses = responses\\n        self.check_md5sums(br.files, responses)\\n        br.elapsed = elapsed\\n\\n    async def run(self):\\n        for br in self.benchmark.rows:\\n            await self.measure_benchmark_row(br)\";\n",
       "                var nbb_formatted_code = \"# export\\n\\n\\nclass AioHttpResponse:\\n    def __init__(self, url, content):\\n        self.url = url\\n        self.content = content\\n\\n\\nclass AioHttpClient(BaseClient):\\n    async def fetch_page(self, session, url):\\n        async with session.get(url) as response:\\n            content = await response.read()\\n            return AioHttpResponse(url, content)\\n\\n    async def measure_benchmark_row(self, br):\\n        urls = [bf.url for bf in br.files]\\n        max_connections = min(br.number_of_connections, 200)\\n        # max_connections = br.number_of_connections\\n        conn = aiohttp.TCPConnector(limit=max_connections)\\n        responses = []\\n        start = time.perf_counter()\\n        async with aiohttp.ClientSession(connector=conn) as session:\\n            tasks = [asyncio.create_task(self.fetch_page(session, url)) for url in urls]\\n            responses = await asyncio.gather(*tasks)\\n        elapsed = time.perf_counter() - start\\n        self.responses = responses\\n        self.check_md5sums(br.files, responses)\\n        br.elapsed = elapsed\\n\\n    async def run(self):\\n        for br in self.benchmark.rows:\\n            await self.measure_benchmark_row(br)\";\n",
       "                var nbb_cells = Jupyter.notebook.get_cells();\n",
       "                for (var i = 0; i < nbb_cells.length; ++i) {\n",
       "                    if (nbb_cells[i].input_prompt_number == nbb_cell_id) {\n",
       "                        if (nbb_cells[i].get_text() == nbb_unformatted_code) {\n",
       "                             nbb_cells[i].set_text(nbb_formatted_code);\n",
       "                        }\n",
       "                        break;\n",
       "                    }\n",
       "                }\n",
       "            }, 500);\n",
       "            "
      ],
      "text/plain": [
       "<IPython.core.display.Javascript object>"
      ]
     },
     "metadata": {},
     "output_type": "display_data"
    }
   ],
   "source": [
    "# export\n",
    "\n",
    "\n",
    "class AioHttpResponse:\n",
    "    def __init__(self, url, content):\n",
    "        self.url = url\n",
    "        self.content = content\n",
    "\n",
    "\n",
    "class AioHttpClient(BaseClient):\n",
    "    async def fetch_page(self, session, url):\n",
    "        async with session.get(url) as response:\n",
    "            content = await response.read()\n",
    "            return AioHttpResponse(url, content)\n",
    "\n",
    "    async def measure_benchmark_row(self, br):\n",
    "        urls = [bf.url for bf in br.files]\n",
    "        max_connections = min(br.number_of_connections, 200)\n",
    "        # max_connections = br.number_of_connections\n",
    "        conn = aiohttp.TCPConnector(limit=max_connections)\n",
    "        responses = []\n",
    "        start = time.perf_counter()\n",
    "        async with aiohttp.ClientSession(connector=conn) as session:\n",
    "            tasks = [asyncio.create_task(self.fetch_page(session, url)) for url in urls]\n",
    "            responses = await asyncio.gather(*tasks)\n",
    "        elapsed = time.perf_counter() - start\n",
    "        self.responses = responses\n",
    "        self.check_md5sums(br.files, responses)\n",
    "        br.elapsed = elapsed\n",
    "\n",
    "    async def run(self):\n",
    "        for br in self.benchmark.rows:\n",
    "            await self.measure_benchmark_row(br)"
   ]
  },
  {
   "cell_type": "code",
   "execution_count": null,
   "metadata": {},
   "outputs": [
    {
     "data": {
      "application/javascript": [
       "\n",
       "            setTimeout(function() {\n",
       "                var nbb_cell_id = 18;\n",
       "                var nbb_unformatted_code = \"bclient = AioHttpClient(benchmark)\";\n",
       "                var nbb_formatted_code = \"bclient = AioHttpClient(benchmark)\";\n",
       "                var nbb_cells = Jupyter.notebook.get_cells();\n",
       "                for (var i = 0; i < nbb_cells.length; ++i) {\n",
       "                    if (nbb_cells[i].input_prompt_number == nbb_cell_id) {\n",
       "                        if (nbb_cells[i].get_text() == nbb_unformatted_code) {\n",
       "                             nbb_cells[i].set_text(nbb_formatted_code);\n",
       "                        }\n",
       "                        break;\n",
       "                    }\n",
       "                }\n",
       "            }, 500);\n",
       "            "
      ],
      "text/plain": [
       "<IPython.core.display.Javascript object>"
      ]
     },
     "metadata": {},
     "output_type": "display_data"
    }
   ],
   "source": [
    "bclient = AioHttpClient(benchmark)"
   ]
  },
  {
   "cell_type": "code",
   "execution_count": null,
   "metadata": {},
   "outputs": [
    {
     "data": {
      "application/javascript": [
       "\n",
       "            setTimeout(function() {\n",
       "                var nbb_cell_id = 19;\n",
       "                var nbb_unformatted_code = \"await bclient.run()\";\n",
       "                var nbb_formatted_code = \"await bclient.run()\";\n",
       "                var nbb_cells = Jupyter.notebook.get_cells();\n",
       "                for (var i = 0; i < nbb_cells.length; ++i) {\n",
       "                    if (nbb_cells[i].input_prompt_number == nbb_cell_id) {\n",
       "                        if (nbb_cells[i].get_text() == nbb_unformatted_code) {\n",
       "                             nbb_cells[i].set_text(nbb_formatted_code);\n",
       "                        }\n",
       "                        break;\n",
       "                    }\n",
       "                }\n",
       "            }, 500);\n",
       "            "
      ],
      "text/plain": [
       "<IPython.core.display.Javascript object>"
      ]
     },
     "metadata": {},
     "output_type": "display_data"
    }
   ],
   "source": [
    "await bclient.run()"
   ]
  },
  {
   "cell_type": "code",
   "execution_count": null,
   "metadata": {},
   "outputs": [
    {
     "name": "stdout",
     "output_type": "stream",
     "text": [
      "61.16 MB\n",
      "54.44 MB\n",
      "31.9 MB\n"
     ]
    },
    {
     "data": {
      "application/javascript": [
       "\n",
       "            setTimeout(function() {\n",
       "                var nbb_cell_id = 22;\n",
       "                var nbb_unformatted_code = \"for br in benchmark.rows:\\n    # print(br.elapsed)\\n    # print(br.bytes_per_second)\\n    print(\\\" \\\".join([str(_) for _ in convert_size(br.bytes_per_second)]))\";\n",
       "                var nbb_formatted_code = \"for br in benchmark.rows:\\n    # print(br.elapsed)\\n    # print(br.bytes_per_second)\\n    print(\\\" \\\".join([str(_) for _ in convert_size(br.bytes_per_second)]))\";\n",
       "                var nbb_cells = Jupyter.notebook.get_cells();\n",
       "                for (var i = 0; i < nbb_cells.length; ++i) {\n",
       "                    if (nbb_cells[i].input_prompt_number == nbb_cell_id) {\n",
       "                        if (nbb_cells[i].get_text() == nbb_unformatted_code) {\n",
       "                             nbb_cells[i].set_text(nbb_formatted_code);\n",
       "                        }\n",
       "                        break;\n",
       "                    }\n",
       "                }\n",
       "            }, 500);\n",
       "            "
      ],
      "text/plain": [
       "<IPython.core.display.Javascript object>"
      ]
     },
     "metadata": {},
     "output_type": "display_data"
    }
   ],
   "source": [
    "print(\"Benchmark fastAPI with aiohttp: \")\n",
    "for br in benchmark.rows:\n",
    "    print(\"---------\")\n",
    "    file_size, file_unit = convert_size(br.file_size)\n",
    "    print(f\"File size: {file_size}{file_unit}\")\n",
    "    file_size, file_unit = convert_size(br.file_size)\n",
    "    transferred_per_second, transferred_unit = convert_size(br.bytes_per_second)\n",
    "    print(f\"{transferred_per_second}{transferred_unit}/s\")"
   ]
  },
  {
   "cell_type": "code",
   "execution_count": null,
   "metadata": {},
   "outputs": [
    {
     "name": "stdout",
     "output_type": "stream",
     "text": [
      "Benchmark fastAPI with aiohttp: \n",
      "---------\n",
      "File size: 9.54MB\n",
      "49.37MB/s\n",
      "---------\n",
      "File size: 976.56KB\n",
      "52.43MB/s\n",
      "---------\n",
      "File size: 97.66KB\n",
      "35.38MB/s\n"
     ]
    },
    {
     "data": {
      "application/javascript": [
       "\n",
       "            setTimeout(function() {\n",
       "                var nbb_cell_id = 14;\n",
       "                var nbb_unformatted_code = \"print(\\\"Benchmark fastAPI with aiohttp: \\\")\\nfor br in benchmark.rows:\\n    print(\\\"---------\\\")\\n    file_size, file_unit = convert_size(br.file_size)\\n    print(f\\\"File size: {file_size}{file_unit}\\\")\\n    file_size, file_unit = convert_size(br.file_size)\\n    transferred_per_second, transferred_unit = convert_size(br.bytes_per_second)\\n    print(f\\\"{transferred_per_second}{transferred_unit}/s\\\")\";\n",
       "                var nbb_formatted_code = \"print(\\\"Benchmark fastAPI with aiohttp: \\\")\\nfor br in benchmark.rows:\\n    print(\\\"---------\\\")\\n    file_size, file_unit = convert_size(br.file_size)\\n    print(f\\\"File size: {file_size}{file_unit}\\\")\\n    file_size, file_unit = convert_size(br.file_size)\\n    transferred_per_second, transferred_unit = convert_size(br.bytes_per_second)\\n    print(f\\\"{transferred_per_second}{transferred_unit}/s\\\")\";\n",
       "                var nbb_cells = Jupyter.notebook.get_cells();\n",
       "                for (var i = 0; i < nbb_cells.length; ++i) {\n",
       "                    if (nbb_cells[i].input_prompt_number == nbb_cell_id) {\n",
       "                        if (nbb_cells[i].get_text() == nbb_unformatted_code) {\n",
       "                             nbb_cells[i].set_text(nbb_formatted_code);\n",
       "                        }\n",
       "                        break;\n",
       "                    }\n",
       "                }\n",
       "            }, 500);\n",
       "            "
      ],
      "text/plain": [
       "<IPython.core.display.Javascript object>"
      ]
     },
     "metadata": {},
     "output_type": "display_data"
    }
   ],
   "source": [
    "print(\"Benchmark fastAPI with aiohttp: \")\n",
    "for br in benchmark.rows:\n",
    "    print(\"---------\")\n",
    "    file_size, file_unit = convert_size(br.file_size)\n",
    "    print(f\"File size: {file_size}{file_unit}\")\n",
    "    file_size, file_unit = convert_size(br.file_size)\n",
    "    transferred_per_second, transferred_unit = convert_size(br.bytes_per_second)\n",
    "    print(f\"{transferred_per_second}{transferred_unit}/s\")"
   ]
  },
  {
   "cell_type": "code",
   "execution_count": null,
   "metadata": {},
   "outputs": [
    {
     "name": "stdout",
     "output_type": "stream",
     "text": [
      "Benchmark Nginx with aiohttp: \n",
      "---------\n",
      "File size: 9.54MB\n",
      "60.81MB/s\n",
      "---------\n",
      "File size: 976.56KB\n",
      "56.63MB/s\n",
      "---------\n",
      "File size: 97.66KB\n",
      "40.02MB/s\n"
     ]
    },
    {
     "data": {
      "application/javascript": [
       "\n",
       "            setTimeout(function() {\n",
       "                var nbb_cell_id = 60;\n",
       "                var nbb_unformatted_code = \"print(\\\"Benchmark Nginx with aiohttp: \\\")\\nfor br in benchmark.rows:\\n    print(\\\"---------\\\")\\n    file_size, file_unit = convert_size(br.file_size)\\n    print(f\\\"File size: {file_size}{file_unit}\\\")\\n    file_size, file_unit = convert_size(br.file_size)\\n    transferred_per_second, transferred_unit = convert_size(br.bytes_per_second)\\n    print(f\\\"{transferred_per_second}{transferred_unit}/s\\\")\";\n",
       "                var nbb_formatted_code = \"print(\\\"Benchmark Nginx with aiohttp: \\\")\\nfor br in benchmark.rows:\\n    print(\\\"---------\\\")\\n    file_size, file_unit = convert_size(br.file_size)\\n    print(f\\\"File size: {file_size}{file_unit}\\\")\\n    file_size, file_unit = convert_size(br.file_size)\\n    transferred_per_second, transferred_unit = convert_size(br.bytes_per_second)\\n    print(f\\\"{transferred_per_second}{transferred_unit}/s\\\")\";\n",
       "                var nbb_cells = Jupyter.notebook.get_cells();\n",
       "                for (var i = 0; i < nbb_cells.length; ++i) {\n",
       "                    if (nbb_cells[i].input_prompt_number == nbb_cell_id) {\n",
       "                        if (nbb_cells[i].get_text() == nbb_unformatted_code) {\n",
       "                             nbb_cells[i].set_text(nbb_formatted_code);\n",
       "                        }\n",
       "                        break;\n",
       "                    }\n",
       "                }\n",
       "            }, 500);\n",
       "            "
      ],
      "text/plain": [
       "<IPython.core.display.Javascript object>"
      ]
     },
     "metadata": {},
     "output_type": "display_data"
    }
   ],
   "source": [
    "print(\"Benchmark Nginx with aiohttp: \")\n",
    "for br in benchmark.rows:\n",
    "    print(\"---------\")\n",
    "    file_size, file_unit = convert_size(br.file_size)\n",
    "    print(f\"File size: {file_size}{file_unit}\")\n",
    "    file_size, file_unit = convert_size(br.file_size)\n",
    "    transferred_per_second, transferred_unit = convert_size(br.bytes_per_second)\n",
    "    print(f\"{transferred_per_second}{transferred_unit}/s\")"
   ]
  },
  {
   "cell_type": "code",
   "execution_count": null,
   "metadata": {},
   "outputs": [
    {
     "name": "stdout",
     "output_type": "stream",
     "text": [
      "Benchmark Nginx with aiohttp: \n",
      "---------\n",
      "File size: 9.54MB\n",
      "80.27MB/s\n",
      "---------\n",
      "File size: 976.56KB\n",
      "71.1MB/s\n",
      "---------\n",
      "File size: 97.66KB\n",
      "56.49MB/s\n"
     ]
    },
    {
     "data": {
      "application/javascript": [
       "\n",
       "            setTimeout(function() {\n",
       "                var nbb_cell_id = 20;\n",
       "                var nbb_unformatted_code = \"print(\\\"Benchmark Nginx with aiohttp: \\\")\\nfor br in benchmark.rows:\\n    print(\\\"---------\\\")\\n    file_size, file_unit = convert_size(br.file_size)\\n    print(f\\\"File size: {file_size}{file_unit}\\\")\\n    file_size, file_unit = convert_size(br.file_size)\\n    transferred_per_second, transferred_unit = convert_size(br.bytes_per_second)\\n    print(f\\\"{transferred_per_second}{transferred_unit}/s\\\")\";\n",
       "                var nbb_formatted_code = \"print(\\\"Benchmark Nginx with aiohttp: \\\")\\nfor br in benchmark.rows:\\n    print(\\\"---------\\\")\\n    file_size, file_unit = convert_size(br.file_size)\\n    print(f\\\"File size: {file_size}{file_unit}\\\")\\n    file_size, file_unit = convert_size(br.file_size)\\n    transferred_per_second, transferred_unit = convert_size(br.bytes_per_second)\\n    print(f\\\"{transferred_per_second}{transferred_unit}/s\\\")\";\n",
       "                var nbb_cells = Jupyter.notebook.get_cells();\n",
       "                for (var i = 0; i < nbb_cells.length; ++i) {\n",
       "                    if (nbb_cells[i].input_prompt_number == nbb_cell_id) {\n",
       "                        if (nbb_cells[i].get_text() == nbb_unformatted_code) {\n",
       "                             nbb_cells[i].set_text(nbb_formatted_code);\n",
       "                        }\n",
       "                        break;\n",
       "                    }\n",
       "                }\n",
       "            }, 500);\n",
       "            "
      ],
      "text/plain": [
       "<IPython.core.display.Javascript object>"
      ]
     },
     "metadata": {},
     "output_type": "display_data"
    }
   ],
   "source": [
    "print(\"Benchmark Nginx with aiohttp: \")\n",
    "for br in benchmark.rows:\n",
    "    print(\"---------\")\n",
    "    file_size, file_unit = convert_size(br.file_size)\n",
    "    print(f\"File size: {file_size}{file_unit}\")\n",
    "    file_size, file_unit = convert_size(br.file_size)\n",
    "    transferred_per_second, transferred_unit = convert_size(br.bytes_per_second)\n",
    "    print(f\"{transferred_per_second}{transferred_unit}/s\")"
   ]
  },
  {
   "cell_type": "markdown",
   "metadata": {},
   "source": [
    "# Export"
   ]
  },
  {
   "cell_type": "code",
   "execution_count": null,
   "metadata": {},
   "outputs": [
    {
     "name": "stdout",
     "output_type": "stream",
     "text": [
      "Converted 00_core.ipynb.\n",
      "Converted 01_serve_files.ipynb.\n",
      "Converted 02_run_benchmark.ipynb.\n",
      "Converted 03_create_files_old.ipynb.\n",
      "Converted index.ipynb.\n"
     ]
    },
    {
     "data": {
      "application/javascript": [
       "\n",
       "            setTimeout(function() {\n",
       "                var nbb_cell_id = 13;\n",
       "                var nbb_unformatted_code = \"from nbdev.export import notebook2script\\n\\nnotebook2script()\";\n",
       "                var nbb_formatted_code = \"from nbdev.export import notebook2script\\n\\nnotebook2script()\";\n",
       "                var nbb_cells = Jupyter.notebook.get_cells();\n",
       "                for (var i = 0; i < nbb_cells.length; ++i) {\n",
       "                    if (nbb_cells[i].input_prompt_number == nbb_cell_id) {\n",
       "                        if (nbb_cells[i].get_text() == nbb_unformatted_code) {\n",
       "                             nbb_cells[i].set_text(nbb_formatted_code);\n",
       "                        }\n",
       "                        break;\n",
       "                    }\n",
       "                }\n",
       "            }, 500);\n",
       "            "
      ],
      "text/plain": [
       "<IPython.core.display.Javascript object>"
      ]
     },
     "metadata": {},
     "output_type": "display_data"
    }
   ],
   "source": [
    "from nbdev.export import notebook2script\n",
    "\n",
    "notebook2script()"
   ]
  }
 ],
 "metadata": {
  "kernelspec": {
   "display_name": "Python 3",
   "language": "python",
   "name": "python3"
  }
 },
 "nbformat": 4,
 "nbformat_minor": 2
}
