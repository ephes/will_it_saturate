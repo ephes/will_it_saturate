{
 "cells": [
  {
   "cell_type": "code",
   "execution_count": null,
   "metadata": {},
   "outputs": [
    {
     "data": {
      "application/javascript": [
       "\n",
       "            setTimeout(function() {\n",
       "                var nbb_cell_id = 1;\n",
       "                var nbb_unformatted_code = \"# hide\\n\\n%load_ext nb_black\";\n",
       "                var nbb_formatted_code = \"# hide\\n\\n%load_ext nb_black\";\n",
       "                var nbb_cells = Jupyter.notebook.get_cells();\n",
       "                for (var i = 0; i < nbb_cells.length; ++i) {\n",
       "                    if (nbb_cells[i].input_prompt_number == nbb_cell_id) {\n",
       "                        if (nbb_cells[i].get_text() == nbb_unformatted_code) {\n",
       "                             nbb_cells[i].set_text(nbb_formatted_code);\n",
       "                        }\n",
       "                        break;\n",
       "                    }\n",
       "                }\n",
       "            }, 500);\n",
       "            "
      ],
      "text/plain": [
       "<IPython.core.display.Javascript object>"
      ]
     },
     "metadata": {},
     "output_type": "display_data"
    }
   ],
   "source": [
    "# hide\n",
    "\n",
    "%load_ext nb_black"
   ]
  },
  {
   "cell_type": "code",
   "execution_count": null,
   "metadata": {},
   "outputs": [
    {
     "data": {
      "application/javascript": [
       "\n",
       "            setTimeout(function() {\n",
       "                var nbb_cell_id = 2;\n",
       "                var nbb_unformatted_code = \"# default_exp client\";\n",
       "                var nbb_formatted_code = \"# default_exp client\";\n",
       "                var nbb_cells = Jupyter.notebook.get_cells();\n",
       "                for (var i = 0; i < nbb_cells.length; ++i) {\n",
       "                    if (nbb_cells[i].input_prompt_number == nbb_cell_id) {\n",
       "                        if (nbb_cells[i].get_text() == nbb_unformatted_code) {\n",
       "                             nbb_cells[i].set_text(nbb_formatted_code);\n",
       "                        }\n",
       "                        break;\n",
       "                    }\n",
       "                }\n",
       "            }, 500);\n",
       "            "
      ],
      "text/plain": [
       "<IPython.core.display.Javascript object>"
      ]
     },
     "metadata": {},
     "output_type": "display_data"
    }
   ],
   "source": [
    "# default_exp client"
   ]
  },
  {
   "cell_type": "code",
   "execution_count": null,
   "metadata": {},
   "outputs": [
    {
     "data": {
      "application/javascript": [
       "\n",
       "            setTimeout(function() {\n",
       "                var nbb_cell_id = 3;\n",
       "                var nbb_unformatted_code = \"# export\\n\\nimport os\\nimport math\\nimport time\\nimport httpx\\nimport asyncio\\nimport aiohttp\\n\\nfrom pathlib import Path\\nfrom multiprocessing import Pool\\nfrom multiprocessing import set_start_method\\n\\nfrom will_it_saturate.core import Benchmark, BenchmarkServer, BenchmarkClient\";\n",
       "                var nbb_formatted_code = \"# export\\n\\nimport os\\nimport math\\nimport time\\nimport httpx\\nimport asyncio\\nimport aiohttp\\n\\nfrom pathlib import Path\\nfrom multiprocessing import Pool\\nfrom multiprocessing import set_start_method\\n\\nfrom will_it_saturate.core import Benchmark, BenchmarkServer, BenchmarkClient\";\n",
       "                var nbb_cells = Jupyter.notebook.get_cells();\n",
       "                for (var i = 0; i < nbb_cells.length; ++i) {\n",
       "                    if (nbb_cells[i].input_prompt_number == nbb_cell_id) {\n",
       "                        if (nbb_cells[i].get_text() == nbb_unformatted_code) {\n",
       "                             nbb_cells[i].set_text(nbb_formatted_code);\n",
       "                        }\n",
       "                        break;\n",
       "                    }\n",
       "                }\n",
       "            }, 500);\n",
       "            "
      ],
      "text/plain": [
       "<IPython.core.display.Javascript object>"
      ]
     },
     "metadata": {},
     "output_type": "display_data"
    }
   ],
   "source": [
    "# export\n",
    "\n",
    "import os\n",
    "import math\n",
    "import time\n",
    "import httpx\n",
    "import asyncio\n",
    "import aiohttp\n",
    "\n",
    "from pathlib import Path\n",
    "from multiprocessing import Pool\n",
    "from multiprocessing import set_start_method\n",
    "\n",
    "from will_it_saturate.core import Benchmark, BenchmarkServer, BenchmarkClient"
   ]
  },
  {
   "cell_type": "code",
   "execution_count": null,
   "metadata": {},
   "outputs": [
    {
     "data": {
      "application/javascript": [
       "\n",
       "            setTimeout(function() {\n",
       "                var nbb_cell_id = 4;\n",
       "                var nbb_unformatted_code = \"# os.environ[\\\"OBJC_DISABLE_INITIALIZE_FORK_SAFETY\\\"] = \\\"YES\\\"\\n# set_start_method(\\\"fork\\\")\\n# print(os.environ[\\\"OBJC_DISABLE_INITIALIZE_FORK_SAFETY\\\"])\";\n",
       "                var nbb_formatted_code = \"# os.environ[\\\"OBJC_DISABLE_INITIALIZE_FORK_SAFETY\\\"] = \\\"YES\\\"\\n# set_start_method(\\\"fork\\\")\\n# print(os.environ[\\\"OBJC_DISABLE_INITIALIZE_FORK_SAFETY\\\"])\";\n",
       "                var nbb_cells = Jupyter.notebook.get_cells();\n",
       "                for (var i = 0; i < nbb_cells.length; ++i) {\n",
       "                    if (nbb_cells[i].input_prompt_number == nbb_cell_id) {\n",
       "                        if (nbb_cells[i].get_text() == nbb_unformatted_code) {\n",
       "                             nbb_cells[i].set_text(nbb_formatted_code);\n",
       "                        }\n",
       "                        break;\n",
       "                    }\n",
       "                }\n",
       "            }, 500);\n",
       "            "
      ],
      "text/plain": [
       "<IPython.core.display.Javascript object>"
      ]
     },
     "metadata": {},
     "output_type": "display_data"
    }
   ],
   "source": [
    "# os.environ[\"OBJC_DISABLE_INITIALIZE_FORK_SAFETY\"] = \"YES\"\n",
    "# set_start_method(\"fork\")\n",
    "# print(os.environ[\"OBJC_DISABLE_INITIALIZE_FORK_SAFETY\"])"
   ]
  },
  {
   "cell_type": "markdown",
   "metadata": {},
   "source": [
    "# Caveats\n",
    "\n",
    "On macOS increase open file limit with:\n",
    "\n",
    "```\n",
    "ulimit -n 2048\n",
    "```\n",
    "\n",
    "Before starting the fastAPI Server with:\n",
    "\n",
    "```\n",
    "uvicorn will_it_saturate.main:app --reload\n",
    "```\n",
    "\n",
    "It's not really possible to test forked client from this notebook. I don't know why. It works in the 03_run_benchmark script. Here I have to set_start_method(\"fork\") and other ugly stuff."
   ]
  },
  {
   "cell_type": "code",
   "execution_count": null,
   "metadata": {},
   "outputs": [
    {
     "data": {
      "application/javascript": [
       "\n",
       "            setTimeout(function() {\n",
       "                var nbb_cell_id = 5;\n",
       "                var nbb_unformatted_code = \"byte = 8\\ngigabit = 10 ** 9\\nbandwidth = gigabit / byte\\n\\n# file_sizes = [10 ** 7, 10 ** 6]\\nfile_sizes = [10 ** 7, 10 ** 6, 10 ** 5]\\n# file_sizes = [10 ** 7]\\n\\nbenchmark = Benchmark(\\n    bandwidth=bandwidth,\\n    duration=3,\\n    file_sizes=file_sizes,\\n)\\nbenchmark.create_rows()\";\n",
       "                var nbb_formatted_code = \"byte = 8\\ngigabit = 10 ** 9\\nbandwidth = gigabit / byte\\n\\n# file_sizes = [10 ** 7, 10 ** 6]\\nfile_sizes = [10 ** 7, 10 ** 6, 10 ** 5]\\n# file_sizes = [10 ** 7]\\n\\nbenchmark = Benchmark(\\n    bandwidth=bandwidth,\\n    duration=3,\\n    file_sizes=file_sizes,\\n)\\nbenchmark.create_rows()\";\n",
       "                var nbb_cells = Jupyter.notebook.get_cells();\n",
       "                for (var i = 0; i < nbb_cells.length; ++i) {\n",
       "                    if (nbb_cells[i].input_prompt_number == nbb_cell_id) {\n",
       "                        if (nbb_cells[i].get_text() == nbb_unformatted_code) {\n",
       "                             nbb_cells[i].set_text(nbb_formatted_code);\n",
       "                        }\n",
       "                        break;\n",
       "                    }\n",
       "                }\n",
       "            }, 500);\n",
       "            "
      ],
      "text/plain": [
       "<IPython.core.display.Javascript object>"
      ]
     },
     "metadata": {},
     "output_type": "display_data"
    }
   ],
   "source": [
    "byte = 8\n",
    "gigabit = 10 ** 9\n",
    "bandwidth = gigabit / byte\n",
    "\n",
    "# file_sizes = [10 ** 7, 10 ** 6]\n",
    "file_sizes = [10 ** 7, 10 ** 6, 10 ** 5]\n",
    "# file_sizes = [10 ** 7]\n",
    "\n",
    "benchmark = Benchmark(\n",
    "    bandwidth=bandwidth,\n",
    "    duration=3,\n",
    "    file_sizes=file_sizes,\n",
    ")\n",
    "benchmark.create_rows()"
   ]
  },
  {
   "cell_type": "code",
   "execution_count": null,
   "metadata": {},
   "outputs": [
    {
     "data": {
      "application/javascript": [
       "\n",
       "            setTimeout(function() {\n",
       "                var nbb_cell_id = 6;\n",
       "                var nbb_unformatted_code = \"# export\\n\\n\\nclass HttpxClient(BenchmarkClient):\\n    async def measure_server(self, benchmark_row):\\n        print(\\\"measure server\\\")\\n        urls = [bf.url for bf in benchmark_row.files]\\n        print(urls[0])\\n        max_connections = min(benchmark_row.number_of_connections, 100)\\n        limits = httpx.Limits(\\n            max_keepalive_connections=5, max_connections=max_connections\\n        )\\n        start = time.perf_counter()\\n        async with httpx.AsyncClient(limits=limits) as client:\\n            responses = await asyncio.gather(*[client.get(url) for url in urls])\\n        elapsed = time.perf_counter() - start\\n        print(\\\"done: \\\", elapsed)\\n        print(\\\"responses status: \\\", responses[0].status_code)\\n        return elapsed, responses\\n\\n    def measure_in_new_process(self, benchmark_row):\\n        print(\\\"new process\\\")\\n        elapsed, responses = asyncio.run(self.measure_server(benchmark_row))\\n        self.verify_checksums(benchmark_row.files, responses)\\n        return elapsed\\n\\n    def measure(self, benchmark_row):\\n        print(\\\"measure\\\")\\n        with Pool(1) as p:\\n            [result] = p.map(self.measure_in_new_process, [benchmark_row])\\n        return result\\n\\n\\ndef run_httpx():\\n    byte = 8\\n    gigabit = 10 ** 9\\n    bandwidth = gigabit / byte\\n\\n    # file_sizes = [10 ** 7, 10 ** 6]\\n    # file_sizes = [10 ** 7, 10 ** 6, 10 ** 5]\\n    file_sizes = [10 ** 7]\\n\\n    benchmark = Benchmark(\\n        bandwidth=bandwidth,\\n        duration=3,\\n        file_sizes=file_sizes,\\n        servers=[BenchmarkServer(name=\\\"uvicorn\\\")],\\n        clients=[HttpxClient(name=\\\"httpx\\\")],\\n    )\\n    benchmark.create_rows()\\n    benchmark.run()\\n    print(benchmark.results_frame)\";\n",
       "                var nbb_formatted_code = \"# export\\n\\n\\nclass HttpxClient(BenchmarkClient):\\n    async def measure_server(self, benchmark_row):\\n        print(\\\"measure server\\\")\\n        urls = [bf.url for bf in benchmark_row.files]\\n        print(urls[0])\\n        max_connections = min(benchmark_row.number_of_connections, 100)\\n        limits = httpx.Limits(\\n            max_keepalive_connections=5, max_connections=max_connections\\n        )\\n        start = time.perf_counter()\\n        async with httpx.AsyncClient(limits=limits) as client:\\n            responses = await asyncio.gather(*[client.get(url) for url in urls])\\n        elapsed = time.perf_counter() - start\\n        print(\\\"done: \\\", elapsed)\\n        print(\\\"responses status: \\\", responses[0].status_code)\\n        return elapsed, responses\\n\\n    def measure_in_new_process(self, benchmark_row):\\n        print(\\\"new process\\\")\\n        elapsed, responses = asyncio.run(self.measure_server(benchmark_row))\\n        self.verify_checksums(benchmark_row.files, responses)\\n        return elapsed\\n\\n    def measure(self, benchmark_row):\\n        print(\\\"measure\\\")\\n        with Pool(1) as p:\\n            [result] = p.map(self.measure_in_new_process, [benchmark_row])\\n        return result\\n\\n\\ndef run_httpx():\\n    byte = 8\\n    gigabit = 10 ** 9\\n    bandwidth = gigabit / byte\\n\\n    # file_sizes = [10 ** 7, 10 ** 6]\\n    # file_sizes = [10 ** 7, 10 ** 6, 10 ** 5]\\n    file_sizes = [10 ** 7]\\n\\n    benchmark = Benchmark(\\n        bandwidth=bandwidth,\\n        duration=3,\\n        file_sizes=file_sizes,\\n        servers=[BenchmarkServer(name=\\\"uvicorn\\\")],\\n        clients=[HttpxClient(name=\\\"httpx\\\")],\\n    )\\n    benchmark.create_rows()\\n    benchmark.run()\\n    print(benchmark.results_frame)\";\n",
       "                var nbb_cells = Jupyter.notebook.get_cells();\n",
       "                for (var i = 0; i < nbb_cells.length; ++i) {\n",
       "                    if (nbb_cells[i].input_prompt_number == nbb_cell_id) {\n",
       "                        if (nbb_cells[i].get_text() == nbb_unformatted_code) {\n",
       "                             nbb_cells[i].set_text(nbb_formatted_code);\n",
       "                        }\n",
       "                        break;\n",
       "                    }\n",
       "                }\n",
       "            }, 500);\n",
       "            "
      ],
      "text/plain": [
       "<IPython.core.display.Javascript object>"
      ]
     },
     "metadata": {},
     "output_type": "display_data"
    }
   ],
   "source": [
    "# export\n",
    "\n",
    "\n",
    "class HttpxClient(BenchmarkClient):\n",
    "    async def measure_server(self, benchmark_row):\n",
    "        print(\"measure server\")\n",
    "        urls = [bf.url for bf in benchmark_row.files]\n",
    "        print(urls[0])\n",
    "        max_connections = min(benchmark_row.number_of_connections, 100)\n",
    "        limits = httpx.Limits(\n",
    "            max_keepalive_connections=5, max_connections=max_connections\n",
    "        )\n",
    "        start = time.perf_counter()\n",
    "        async with httpx.AsyncClient(limits=limits) as client:\n",
    "            responses = await asyncio.gather(*[client.get(url) for url in urls])\n",
    "        elapsed = time.perf_counter() - start\n",
    "        print(\"done: \", elapsed)\n",
    "        print(\"responses status: \", responses[0].status_code)\n",
    "        return elapsed, responses\n",
    "\n",
    "    def measure_in_new_process(self, benchmark_row):\n",
    "        print(\"new process\")\n",
    "        elapsed, responses = asyncio.run(self.measure_server(benchmark_row))\n",
    "        self.verify_checksums(benchmark_row.files, responses)\n",
    "        return elapsed\n",
    "\n",
    "    def measure(self, benchmark_row):\n",
    "        print(\"measure\")\n",
    "        with Pool(1) as p:\n",
    "            [result] = p.map(self.measure_in_new_process, [benchmark_row])\n",
    "        return result\n",
    "\n",
    "\n",
    "def run_httpx():\n",
    "    byte = 8\n",
    "    gigabit = 10 ** 9\n",
    "    bandwidth = gigabit / byte\n",
    "\n",
    "    # file_sizes = [10 ** 7, 10 ** 6]\n",
    "    # file_sizes = [10 ** 7, 10 ** 6, 10 ** 5]\n",
    "    file_sizes = [10 ** 7]\n",
    "\n",
    "    benchmark = Benchmark(\n",
    "        bandwidth=bandwidth,\n",
    "        duration=3,\n",
    "        file_sizes=file_sizes,\n",
    "        servers=[BenchmarkServer(name=\"uvicorn\")],\n",
    "        clients=[HttpxClient(name=\"httpx\")],\n",
    "    )\n",
    "    benchmark.create_rows()\n",
    "    benchmark.run()\n",
    "    print(benchmark.results_frame)"
   ]
  },
  {
   "cell_type": "code",
   "execution_count": null,
   "metadata": {},
   "outputs": [
    {
     "name": "stdout",
     "output_type": "stream",
     "text": [
      "measure server\n",
      "http://localhost:8000/data/10000000_3_125000000/0\n",
      "done\n",
      "3.2920197919999996\n"
     ]
    },
    {
     "data": {
      "application/javascript": [
       "\n",
       "            setTimeout(function() {\n",
       "                var nbb_cell_id = 7;\n",
       "                var nbb_unformatted_code = \"client = HttpxClient()\\nelapsed, responses = await client.measure_server(benchmark.rows[0])\\nprint(elapsed)\";\n",
       "                var nbb_formatted_code = \"client = HttpxClient()\\nelapsed, responses = await client.measure_server(benchmark.rows[0])\\nprint(elapsed)\";\n",
       "                var nbb_cells = Jupyter.notebook.get_cells();\n",
       "                for (var i = 0; i < nbb_cells.length; ++i) {\n",
       "                    if (nbb_cells[i].input_prompt_number == nbb_cell_id) {\n",
       "                        if (nbb_cells[i].get_text() == nbb_unformatted_code) {\n",
       "                             nbb_cells[i].set_text(nbb_formatted_code);\n",
       "                        }\n",
       "                        break;\n",
       "                    }\n",
       "                }\n",
       "            }, 500);\n",
       "            "
      ],
      "text/plain": [
       "<IPython.core.display.Javascript object>"
      ]
     },
     "metadata": {},
     "output_type": "display_data"
    }
   ],
   "source": [
    "# dont_test\n",
    "\n",
    "client = HttpxClient()\n",
    "elapsed, responses = await client.measure_server(benchmark.rows[0])\n",
    "print(elapsed)"
   ]
  },
  {
   "cell_type": "markdown",
   "metadata": {},
   "source": [
    "# aiohttp"
   ]
  },
  {
   "cell_type": "code",
   "execution_count": null,
   "metadata": {},
   "outputs": [
    {
     "data": {
      "application/javascript": [
       "\n",
       "            setTimeout(function() {\n",
       "                var nbb_cell_id = 8;\n",
       "                var nbb_unformatted_code = \"# export\\n\\n\\nclass AioHttpResponse:\\n    def __init__(self, url, content):\\n        self.url = url\\n        self.content = content\\n\\n\\nclass AioHttpClient(BenchmarkClient):\\n    async def fetch_page(self, session, url):\\n        async with session.get(url) as response:\\n            content = await response.read()\\n            return AioHttpResponse(url, content)\\n\\n    async def measure_server(self, benchmark_row):\\n        urls = [bf.url for bf in benchmark_row.files]\\n        max_connections = min(benchmark_row.number_of_connections, 100)\\n        conn = aiohttp.TCPConnector(limit=max_connections)\\n        responses = []\\n        start = time.perf_counter()\\n        async with aiohttp.ClientSession(connector=conn) as session:\\n            tasks = [asyncio.create_task(self.fetch_page(session, url)) for url in urls]\\n            responses = await asyncio.gather(*tasks)\\n        elapsed = time.perf_counter() - start\\n        return elapsed, responses\\n\\n    def measure_in_new_process(self, benchmark_row):\\n        elapsed, responses = asyncio.run(self.measure_server(benchmark_row))\\n        self.verify_checksums(benchmark_row.files, responses)\\n        return elapsed\\n\\n    def measure(self, benchmark_row):\\n        with Pool(1) as p:\\n            [result] = p.map(self.measure_in_new_process, [benchmark_row])\\n        return result\";\n",
       "                var nbb_formatted_code = \"# export\\n\\n\\nclass AioHttpResponse:\\n    def __init__(self, url, content):\\n        self.url = url\\n        self.content = content\\n\\n\\nclass AioHttpClient(BenchmarkClient):\\n    async def fetch_page(self, session, url):\\n        async with session.get(url) as response:\\n            content = await response.read()\\n            return AioHttpResponse(url, content)\\n\\n    async def measure_server(self, benchmark_row):\\n        urls = [bf.url for bf in benchmark_row.files]\\n        max_connections = min(benchmark_row.number_of_connections, 100)\\n        conn = aiohttp.TCPConnector(limit=max_connections)\\n        responses = []\\n        start = time.perf_counter()\\n        async with aiohttp.ClientSession(connector=conn) as session:\\n            tasks = [asyncio.create_task(self.fetch_page(session, url)) for url in urls]\\n            responses = await asyncio.gather(*tasks)\\n        elapsed = time.perf_counter() - start\\n        return elapsed, responses\\n\\n    def measure_in_new_process(self, benchmark_row):\\n        elapsed, responses = asyncio.run(self.measure_server(benchmark_row))\\n        self.verify_checksums(benchmark_row.files, responses)\\n        return elapsed\\n\\n    def measure(self, benchmark_row):\\n        with Pool(1) as p:\\n            [result] = p.map(self.measure_in_new_process, [benchmark_row])\\n        return result\";\n",
       "                var nbb_cells = Jupyter.notebook.get_cells();\n",
       "                for (var i = 0; i < nbb_cells.length; ++i) {\n",
       "                    if (nbb_cells[i].input_prompt_number == nbb_cell_id) {\n",
       "                        if (nbb_cells[i].get_text() == nbb_unformatted_code) {\n",
       "                             nbb_cells[i].set_text(nbb_formatted_code);\n",
       "                        }\n",
       "                        break;\n",
       "                    }\n",
       "                }\n",
       "            }, 500);\n",
       "            "
      ],
      "text/plain": [
       "<IPython.core.display.Javascript object>"
      ]
     },
     "metadata": {},
     "output_type": "display_data"
    }
   ],
   "source": [
    "# export\n",
    "\n",
    "\n",
    "class AioHttpResponse:\n",
    "    def __init__(self, url, content):\n",
    "        self.url = url\n",
    "        self.content = content\n",
    "\n",
    "\n",
    "class AioHttpClient(BenchmarkClient):\n",
    "    async def fetch_page(self, session, url):\n",
    "        async with session.get(url) as response:\n",
    "            content = await response.read()\n",
    "            return AioHttpResponse(url, content)\n",
    "\n",
    "    async def measure_server(self, benchmark_row):\n",
    "        urls = [bf.url for bf in benchmark_row.files]\n",
    "        max_connections = min(benchmark_row.number_of_connections, 200)\n",
    "        conn = aiohttp.TCPConnector(limit=max_connections)\n",
    "        responses = []\n",
    "        start = time.perf_counter()\n",
    "        async with aiohttp.ClientSession(connector=conn) as session:\n",
    "            tasks = [asyncio.create_task(self.fetch_page(session, url)) for url in urls]\n",
    "            responses = await asyncio.gather(*tasks)\n",
    "        elapsed = time.perf_counter() - start\n",
    "        return elapsed, responses\n",
    "\n",
    "    def measure_in_new_process(self, benchmark_row):\n",
    "        elapsed, responses = asyncio.run(self.measure_server(benchmark_row))\n",
    "        self.verify_checksums(benchmark_row.files, responses)\n",
    "        return elapsed\n",
    "\n",
    "    def measure(self, benchmark_row):\n",
    "        with Pool(1) as p:\n",
    "            [result] = p.map(self.measure_in_new_process, [benchmark_row])\n",
    "        return result"
   ]
  },
  {
   "cell_type": "code",
   "execution_count": null,
   "metadata": {},
   "outputs": [
    {
     "name": "stdout",
     "output_type": "stream",
     "text": [
      "3.271349916\n"
     ]
    },
    {
     "data": {
      "application/javascript": [
       "\n",
       "            setTimeout(function() {\n",
       "                var nbb_cell_id = 9;\n",
       "                var nbb_unformatted_code = \"client = AioHttpClient()\\nelapsed, responses = await client.measure_server(benchmark.rows[0])\\nprint(elapsed)\";\n",
       "                var nbb_formatted_code = \"client = AioHttpClient()\\nelapsed, responses = await client.measure_server(benchmark.rows[0])\\nprint(elapsed)\";\n",
       "                var nbb_cells = Jupyter.notebook.get_cells();\n",
       "                for (var i = 0; i < nbb_cells.length; ++i) {\n",
       "                    if (nbb_cells[i].input_prompt_number == nbb_cell_id) {\n",
       "                        if (nbb_cells[i].get_text() == nbb_unformatted_code) {\n",
       "                             nbb_cells[i].set_text(nbb_formatted_code);\n",
       "                        }\n",
       "                        break;\n",
       "                    }\n",
       "                }\n",
       "            }, 500);\n",
       "            "
      ],
      "text/plain": [
       "<IPython.core.display.Javascript object>"
      ]
     },
     "metadata": {},
     "output_type": "display_data"
    }
   ],
   "source": [
    "client = AioHttpClient()\n",
    "elapsed, responses = await client.measure_server(benchmark.rows[0])\n",
    "print(elapsed)"
   ]
  },
  {
   "cell_type": "markdown",
   "metadata": {},
   "source": [
    "# Export"
   ]
  },
  {
   "cell_type": "code",
   "execution_count": null,
   "metadata": {},
   "outputs": [
    {
     "name": "stdout",
     "output_type": "stream",
     "text": [
      "Converted 00_core.ipynb.\n",
      "Converted 01_serve_files_uvicorn.ipynb.\n",
      "Converted 02_benchmark_clients.ipynb.\n",
      "Converted 03_run_benchmark.ipynb.\n",
      "Converted 04_use_nginx_to_serve_files.ipynb.\n",
      "Converted 05_run_wrk_benchmark.ipynb.\n",
      "Converted 06_fastapi_uvicorn_server.ipynb.\n",
      "Converted index.ipynb.\n"
     ]
    },
    {
     "data": {
      "application/javascript": [
       "\n",
       "            setTimeout(function() {\n",
       "                var nbb_cell_id = 10;\n",
       "                var nbb_unformatted_code = \"from nbdev.export import notebook2script\\n\\nnotebook2script()\";\n",
       "                var nbb_formatted_code = \"from nbdev.export import notebook2script\\n\\nnotebook2script()\";\n",
       "                var nbb_cells = Jupyter.notebook.get_cells();\n",
       "                for (var i = 0; i < nbb_cells.length; ++i) {\n",
       "                    if (nbb_cells[i].input_prompt_number == nbb_cell_id) {\n",
       "                        if (nbb_cells[i].get_text() == nbb_unformatted_code) {\n",
       "                             nbb_cells[i].set_text(nbb_formatted_code);\n",
       "                        }\n",
       "                        break;\n",
       "                    }\n",
       "                }\n",
       "            }, 500);\n",
       "            "
      ],
      "text/plain": [
       "<IPython.core.display.Javascript object>"
      ]
     },
     "metadata": {},
     "output_type": "display_data"
    }
   ],
   "source": [
    "# dont_test\n",
    "\n",
    "from nbdev.export import notebook2script\n",
    "\n",
    "notebook2script()"
   ]
  },
  {
   "cell_type": "code",
   "execution_count": null,
   "metadata": {},
   "outputs": [],
   "source": []
  }
 ],
 "metadata": {
  "kernelspec": {
   "display_name": "Python 3",
   "language": "python",
   "name": "python3"
  }
 },
 "nbformat": 4,
 "nbformat_minor": 2
}
