{
 "cells": [
  {
   "cell_type": "code",
   "execution_count": null,
   "id": "b05e5a14",
   "metadata": {},
   "outputs": [
    {
     "data": {
      "application/javascript": [
       "\n",
       "            setTimeout(function() {\n",
       "                var nbb_cell_id = 1;\n",
       "                var nbb_unformatted_code = \"# hide\\n\\n%load_ext nb_black\";\n",
       "                var nbb_formatted_code = \"# hide\\n\\n%load_ext nb_black\";\n",
       "                var nbb_cells = Jupyter.notebook.get_cells();\n",
       "                for (var i = 0; i < nbb_cells.length; ++i) {\n",
       "                    if (nbb_cells[i].input_prompt_number == nbb_cell_id) {\n",
       "                        if (nbb_cells[i].get_text() == nbb_unformatted_code) {\n",
       "                             nbb_cells[i].set_text(nbb_formatted_code);\n",
       "                        }\n",
       "                        break;\n",
       "                    }\n",
       "                }\n",
       "            }, 500);\n",
       "            "
      ],
      "text/plain": [
       "<IPython.core.display.Javascript object>"
      ]
     },
     "metadata": {},
     "output_type": "display_data"
    }
   ],
   "source": [
    "# hide\n",
    "\n",
    "%load_ext nb_black"
   ]
  },
  {
   "cell_type": "code",
   "execution_count": null,
   "id": "104a4895",
   "metadata": {},
   "outputs": [
    {
     "data": {
      "application/javascript": [
       "\n",
       "            setTimeout(function() {\n",
       "                var nbb_cell_id = 2;\n",
       "                var nbb_unformatted_code = \"# default_exp django.settings\";\n",
       "                var nbb_formatted_code = \"# default_exp django.settings\";\n",
       "                var nbb_cells = Jupyter.notebook.get_cells();\n",
       "                for (var i = 0; i < nbb_cells.length; ++i) {\n",
       "                    if (nbb_cells[i].input_prompt_number == nbb_cell_id) {\n",
       "                        if (nbb_cells[i].get_text() == nbb_unformatted_code) {\n",
       "                             nbb_cells[i].set_text(nbb_formatted_code);\n",
       "                        }\n",
       "                        break;\n",
       "                    }\n",
       "                }\n",
       "            }, 500);\n",
       "            "
      ],
      "text/plain": [
       "<IPython.core.display.Javascript object>"
      ]
     },
     "metadata": {},
     "output_type": "display_data"
    }
   ],
   "source": [
    "# default_exp django.settings"
   ]
  },
  {
   "cell_type": "code",
   "execution_count": null,
   "id": "a4f6e095",
   "metadata": {},
   "outputs": [
    {
     "data": {
      "application/javascript": [
       "\n",
       "            setTimeout(function() {\n",
       "                var nbb_cell_id = 3;\n",
       "                var nbb_unformatted_code = \"# export\\nfrom pathlib import Path\\n\\n# Build paths inside the project like this: BASE_DIR / 'subdir'.\\nBASE_DIR = Path().resolve()\\n\\n\\n# Quick-start development settings - unsuitable for production\\n# See https://docs.djangoproject.com/en/3.1/howto/deployment/checklist/\\n\\n# SECURITY WARNING: keep the secret key used in production secret!\\nSECRET_KEY = \\\"b1y4apm267-am-ya1^i=7227z#hz=8y9ca4am*p_&iclf6wlu4\\\"\\n\\n# SECURITY WARNING: don't run with debug turned on in production!\\nDEBUG = True\\n\\nALLOWED_HOSTS = [\\\"*\\\"]\\n\\n\\n# Application definition\\n\\nINSTALLED_APPS = [\\n    \\\"django.contrib.admin\\\",\\n    \\\"django.contrib.auth\\\",\\n    \\\"django.contrib.contenttypes\\\",\\n    \\\"django.contrib.sessions\\\",\\n    \\\"django.contrib.messages\\\",\\n    \\\"django.contrib.staticfiles\\\",\\n    \\\"django_extensions\\\",\\n]\\n\\nMIDDLEWARE = []\\n\\nROOT_URLCONF = \\\"will_it_saturate.django.urls\\\"\\n\\nTEMPLATES = [\\n    {\\n        \\\"BACKEND\\\": \\\"django.template.backends.django.DjangoTemplates\\\",\\n        \\\"DIRS\\\": [],\\n        \\\"APP_DIRS\\\": True,\\n        \\\"OPTIONS\\\": {\\n            \\\"context_processors\\\": [\\n                \\\"django.template.context_processors.debug\\\",\\n                \\\"django.template.context_processors.request\\\",\\n                \\\"django.contrib.auth.context_processors.auth\\\",\\n                \\\"django.contrib.messages.context_processors.messages\\\",\\n            ],\\n        },\\n    },\\n]\\n\\nWSGI_APPLICATION = \\\"will_it_saturate.django.wsgi.application\\\"\\n\\n\\n# Database\\n# https://docs.djangoproject.com/en/3.1/ref/settings/#databases\\n\\nDATABASES = {\\n    \\\"default\\\": {\\n        \\\"ENGINE\\\": \\\"django.db.backends.sqlite3\\\",\\n        \\\"NAME\\\": BASE_DIR / \\\"django.db\\\",\\n    }\\n}\\n\\n\\n# Password validation\\n# https://docs.djangoproject.com/en/3.1/ref/settings/#auth-password-validators\\n\\nAUTH_PASSWORD_VALIDATORS = [\\n    {\\n        \\\"NAME\\\": \\\"django.contrib.auth.password_validation.UserAttributeSimilarityValidator\\\",\\n    },\\n    {\\n        \\\"NAME\\\": \\\"django.contrib.auth.password_validation.MinimumLengthValidator\\\",\\n    },\\n    {\\n        \\\"NAME\\\": \\\"django.contrib.auth.password_validation.CommonPasswordValidator\\\",\\n    },\\n    {\\n        \\\"NAME\\\": \\\"django.contrib.auth.password_validation.NumericPasswordValidator\\\",\\n    },\\n]\\n\\n\\n# Internationalization\\n# https://docs.djangoproject.com/en/3.1/topics/i18n/\\n\\nLANGUAGE_CODE = \\\"en-us\\\"\\n\\nTIME_ZONE = \\\"UTC\\\"\\n\\nUSE_I18N = True\\n\\nUSE_L10N = True\\n\\nUSE_TZ = True\\n\\n\\n# Static files (CSS, JavaScript, Images)\\n# https://docs.djangoproject.com/en/3.1/howto/static-files/\\n\\nSTATIC_URL = \\\"/static/\\\"\\n\\n# logging\\nLOGGING = {\\n    \\\"version\\\": 1,\\n    \\\"disable_existing_loggers\\\": False,\\n    \\\"handlers\\\": {\\n        \\\"console\\\": {\\n            \\\"class\\\": \\\"logging.StreamHandler\\\",\\n        },\\n    },\\n    \\\"root\\\": {\\n        \\\"handlers\\\": [\\\"console\\\"],\\n        \\\"level\\\": \\\"INFO\\\",\\n    },\\n}\\n\\n# AWS S3 / MinIO settings\\nDJANGO_AWS_ACCESS_KEY_ID=\\\"minioadmin\\\"\\nDJANGO_AWS_SECRET_ACCESS_KEY=\\\"minioadmin\\\"\\nDJANGO_AWS_REGION=\\\"us-west-2\\\"\\nDJANGO_AWS_STORAGE_BUCKET_NAME=\\\"wis\\\"\\nMINIO_ENDPOINT_URL=\\\"http://localhost:9000\\\"\";\n",
       "                var nbb_formatted_code = \"# export\\nfrom pathlib import Path\\n\\n# Build paths inside the project like this: BASE_DIR / 'subdir'.\\nBASE_DIR = Path().resolve()\\n\\n\\n# Quick-start development settings - unsuitable for production\\n# See https://docs.djangoproject.com/en/3.1/howto/deployment/checklist/\\n\\n# SECURITY WARNING: keep the secret key used in production secret!\\nSECRET_KEY = \\\"b1y4apm267-am-ya1^i=7227z#hz=8y9ca4am*p_&iclf6wlu4\\\"\\n\\n# SECURITY WARNING: don't run with debug turned on in production!\\nDEBUG = True\\n\\nALLOWED_HOSTS = [\\\"*\\\"]\\n\\n\\n# Application definition\\n\\nINSTALLED_APPS = [\\n    \\\"django.contrib.admin\\\",\\n    \\\"django.contrib.auth\\\",\\n    \\\"django.contrib.contenttypes\\\",\\n    \\\"django.contrib.sessions\\\",\\n    \\\"django.contrib.messages\\\",\\n    \\\"django.contrib.staticfiles\\\",\\n    \\\"django_extensions\\\",\\n]\\n\\nMIDDLEWARE = []\\n\\nROOT_URLCONF = \\\"will_it_saturate.django.urls\\\"\\n\\nTEMPLATES = [\\n    {\\n        \\\"BACKEND\\\": \\\"django.template.backends.django.DjangoTemplates\\\",\\n        \\\"DIRS\\\": [],\\n        \\\"APP_DIRS\\\": True,\\n        \\\"OPTIONS\\\": {\\n            \\\"context_processors\\\": [\\n                \\\"django.template.context_processors.debug\\\",\\n                \\\"django.template.context_processors.request\\\",\\n                \\\"django.contrib.auth.context_processors.auth\\\",\\n                \\\"django.contrib.messages.context_processors.messages\\\",\\n            ],\\n        },\\n    },\\n]\\n\\nWSGI_APPLICATION = \\\"will_it_saturate.django.wsgi.application\\\"\\n\\n\\n# Database\\n# https://docs.djangoproject.com/en/3.1/ref/settings/#databases\\n\\nDATABASES = {\\n    \\\"default\\\": {\\n        \\\"ENGINE\\\": \\\"django.db.backends.sqlite3\\\",\\n        \\\"NAME\\\": BASE_DIR / \\\"django.db\\\",\\n    }\\n}\\n\\n\\n# Password validation\\n# https://docs.djangoproject.com/en/3.1/ref/settings/#auth-password-validators\\n\\nAUTH_PASSWORD_VALIDATORS = [\\n    {\\n        \\\"NAME\\\": \\\"django.contrib.auth.password_validation.UserAttributeSimilarityValidator\\\",\\n    },\\n    {\\n        \\\"NAME\\\": \\\"django.contrib.auth.password_validation.MinimumLengthValidator\\\",\\n    },\\n    {\\n        \\\"NAME\\\": \\\"django.contrib.auth.password_validation.CommonPasswordValidator\\\",\\n    },\\n    {\\n        \\\"NAME\\\": \\\"django.contrib.auth.password_validation.NumericPasswordValidator\\\",\\n    },\\n]\\n\\n\\n# Internationalization\\n# https://docs.djangoproject.com/en/3.1/topics/i18n/\\n\\nLANGUAGE_CODE = \\\"en-us\\\"\\n\\nTIME_ZONE = \\\"UTC\\\"\\n\\nUSE_I18N = True\\n\\nUSE_L10N = True\\n\\nUSE_TZ = True\\n\\n\\n# Static files (CSS, JavaScript, Images)\\n# https://docs.djangoproject.com/en/3.1/howto/static-files/\\n\\nSTATIC_URL = \\\"/static/\\\"\\n\\n# logging\\nLOGGING = {\\n    \\\"version\\\": 1,\\n    \\\"disable_existing_loggers\\\": False,\\n    \\\"handlers\\\": {\\n        \\\"console\\\": {\\n            \\\"class\\\": \\\"logging.StreamHandler\\\",\\n        },\\n    },\\n    \\\"root\\\": {\\n        \\\"handlers\\\": [\\\"console\\\"],\\n        \\\"level\\\": \\\"INFO\\\",\\n    },\\n}\\n\\n# AWS S3 / MinIO settings\\nDJANGO_AWS_ACCESS_KEY_ID = \\\"minioadmin\\\"\\nDJANGO_AWS_SECRET_ACCESS_KEY = \\\"minioadmin\\\"\\nDJANGO_AWS_REGION = \\\"us-west-2\\\"\\nDJANGO_AWS_STORAGE_BUCKET_NAME = \\\"wis\\\"\\nMINIO_ENDPOINT_URL = \\\"http://localhost:9000\\\"\";\n",
       "                var nbb_cells = Jupyter.notebook.get_cells();\n",
       "                for (var i = 0; i < nbb_cells.length; ++i) {\n",
       "                    if (nbb_cells[i].input_prompt_number == nbb_cell_id) {\n",
       "                        if (nbb_cells[i].get_text() == nbb_unformatted_code) {\n",
       "                             nbb_cells[i].set_text(nbb_formatted_code);\n",
       "                        }\n",
       "                        break;\n",
       "                    }\n",
       "                }\n",
       "            }, 500);\n",
       "            "
      ],
      "text/plain": [
       "<IPython.core.display.Javascript object>"
      ]
     },
     "metadata": {},
     "output_type": "display_data"
    }
   ],
   "source": [
    "# export\n",
    "from pathlib import Path\n",
    "\n",
    "# Build paths inside the project like this: BASE_DIR / 'subdir'.\n",
    "BASE_DIR = Path().resolve()\n",
    "\n",
    "\n",
    "# Quick-start development settings - unsuitable for production\n",
    "# See https://docs.djangoproject.com/en/3.1/howto/deployment/checklist/\n",
    "\n",
    "# SECURITY WARNING: keep the secret key used in production secret!\n",
    "SECRET_KEY = \"b1y4apm267-am-ya1^i=7227z#hz=8y9ca4am*p_&iclf6wlu4\"\n",
    "\n",
    "# SECURITY WARNING: don't run with debug turned on in production!\n",
    "DEBUG = True\n",
    "\n",
    "ALLOWED_HOSTS = [\"*\"]\n",
    "\n",
    "\n",
    "# Application definition\n",
    "\n",
    "INSTALLED_APPS = [\n",
    "    \"django.contrib.admin\",\n",
    "    \"django.contrib.auth\",\n",
    "    \"django.contrib.contenttypes\",\n",
    "    \"django.contrib.sessions\",\n",
    "    \"django.contrib.messages\",\n",
    "    \"django.contrib.staticfiles\",\n",
    "    \"django_extensions\",\n",
    "]\n",
    "\n",
    "MIDDLEWARE = []\n",
    "\n",
    "ROOT_URLCONF = \"will_it_saturate.django.urls\"\n",
    "\n",
    "TEMPLATES = [\n",
    "    {\n",
    "        \"BACKEND\": \"django.template.backends.django.DjangoTemplates\",\n",
    "        \"DIRS\": [],\n",
    "        \"APP_DIRS\": True,\n",
    "        \"OPTIONS\": {\n",
    "            \"context_processors\": [\n",
    "                \"django.template.context_processors.debug\",\n",
    "                \"django.template.context_processors.request\",\n",
    "                \"django.contrib.auth.context_processors.auth\",\n",
    "                \"django.contrib.messages.context_processors.messages\",\n",
    "            ],\n",
    "        },\n",
    "    },\n",
    "]\n",
    "\n",
    "WSGI_APPLICATION = \"will_it_saturate.django.wsgi.application\"\n",
    "\n",
    "\n",
    "# Database\n",
    "# https://docs.djangoproject.com/en/3.1/ref/settings/#databases\n",
    "\n",
    "DATABASES = {\n",
    "    \"default\": {\n",
    "        \"ENGINE\": \"django.db.backends.sqlite3\",\n",
    "        \"NAME\": BASE_DIR / \"django.db\",\n",
    "    }\n",
    "}\n",
    "\n",
    "\n",
    "# Password validation\n",
    "# https://docs.djangoproject.com/en/3.1/ref/settings/#auth-password-validators\n",
    "\n",
    "AUTH_PASSWORD_VALIDATORS = [\n",
    "    {\n",
    "        \"NAME\": \"django.contrib.auth.password_validation.UserAttributeSimilarityValidator\",\n",
    "    },\n",
    "    {\n",
    "        \"NAME\": \"django.contrib.auth.password_validation.MinimumLengthValidator\",\n",
    "    },\n",
    "    {\n",
    "        \"NAME\": \"django.contrib.auth.password_validation.CommonPasswordValidator\",\n",
    "    },\n",
    "    {\n",
    "        \"NAME\": \"django.contrib.auth.password_validation.NumericPasswordValidator\",\n",
    "    },\n",
    "]\n",
    "\n",
    "\n",
    "# Internationalization\n",
    "# https://docs.djangoproject.com/en/3.1/topics/i18n/\n",
    "\n",
    "LANGUAGE_CODE = \"en-us\"\n",
    "\n",
    "TIME_ZONE = \"UTC\"\n",
    "\n",
    "USE_I18N = True\n",
    "\n",
    "USE_L10N = True\n",
    "\n",
    "USE_TZ = True\n",
    "\n",
    "\n",
    "# Static files (CSS, JavaScript, Images)\n",
    "# https://docs.djangoproject.com/en/3.1/howto/static-files/\n",
    "\n",
    "STATIC_URL = \"/static/\"\n",
    "\n",
    "# logging\n",
    "LOGGING = {\n",
    "    \"version\": 1,\n",
    "    \"disable_existing_loggers\": False,\n",
    "    \"handlers\": {\n",
    "        \"console\": {\n",
    "            \"class\": \"logging.StreamHandler\",\n",
    "        },\n",
    "    },\n",
    "    \"root\": {\n",
    "        \"handlers\": [\"console\"],\n",
    "        \"level\": \"INFO\",\n",
    "    },\n",
    "}\n",
    "\n",
    "# AWS S3 / MinIO settings\n",
    "DJANGO_AWS_ACCESS_KEY_ID = \"minioadmin\"\n",
    "DJANGO_AWS_SECRET_ACCESS_KEY = \"minioadmin\"\n",
    "DJANGO_AWS_REGION = \"us-west-2\"\n",
    "DJANGO_AWS_STORAGE_BUCKET_NAME = \"wis\"\n",
    "MINIO_ENDPOINT_URL = \"http://localhost:9000\""
   ]
  },
  {
   "cell_type": "code",
   "execution_count": null,
   "id": "d2357a0e",
   "metadata": {},
   "outputs": [
    {
     "name": "stdout",
     "output_type": "stream",
     "text": [
      "Converted 00_index.ipynb.\n",
      "Converted 01_config.ipynb.\n",
      "Converted 01_host.ipynb.\n",
      "Converted 02_file.ipynb.\n",
      "Converted 03_registry.ipynb.\n",
      "Converted 04_epochs.ipynb.\n",
      "Converted 10_servers.ipynb.\n",
      "Converted 11_fastapi_main.ipynb.\n",
      "Converted 12_django_views.ipynb.\n",
      "Converted 13_django_handlers.ipynb.\n",
      "Converted 14_django_http.ipynb.\n",
      "Converted 15_django_asgi.ipynb.\n",
      "Converted 15_django_async_settings.ipynb.\n",
      "Converted 15_django_settings.ipynb.\n",
      "Converted 15_django_urls.ipynb.\n",
      "Converted 15_django_wsgi.ipynb.\n",
      "Converted 16_minio.ipynb.\n",
      "Converted 16_servers_started_locally.ipynb.\n",
      "Converted 16_servers_started_via_docker.ipynb.\n",
      "Converted 20_clients.ipynb.\n",
      "Converted 21_benchmark_client_implementations.ipynb.\n",
      "Converted 22_gevent_client.ipynb.\n",
      "Converted 30_control_server.ipynb.\n",
      "Converted 31_control_client.ipynb.\n",
      "Converted 32_control_cli.ipynb.\n",
      "Converted 40_results.ipynb.\n",
      "Converted 41_repositories.ipynb.\n",
      "Converted 42_sqlite_repository.ipynb.\n",
      "Converted 50_benchmark_without_benchmark.ipynb.\n",
      "Converted 51_benchmark_remote_control_server.ipynb.\n",
      "Converted 52_benchmark_from_config.ipynb.\n",
      "Converted 52_generate_files_for_benchmark.ipynb.\n",
      "Converted 53_analyze.ipynb.\n",
      "Converted 54_measure_with_plots.ipynb.\n",
      "Converted 54_measure_with_plots_not_gevent.ipynb.\n",
      "Converted 55_create_minio_files.ipynb.\n",
      "Converted 60_legacy.ipynb.\n",
      "Converted 61_run_benchmark.ipynb.\n"
     ]
    },
    {
     "data": {
      "application/javascript": [
       "\n",
       "            setTimeout(function() {\n",
       "                var nbb_cell_id = 5;\n",
       "                var nbb_unformatted_code = \"# hide\\n# dont_test\\n\\nfrom nbdev.export import notebook2script\\n\\nnotebook2script()\";\n",
       "                var nbb_formatted_code = \"# hide\\n# dont_test\\n\\nfrom nbdev.export import notebook2script\\n\\nnotebook2script()\";\n",
       "                var nbb_cells = Jupyter.notebook.get_cells();\n",
       "                for (var i = 0; i < nbb_cells.length; ++i) {\n",
       "                    if (nbb_cells[i].input_prompt_number == nbb_cell_id) {\n",
       "                        if (nbb_cells[i].get_text() == nbb_unformatted_code) {\n",
       "                             nbb_cells[i].set_text(nbb_formatted_code);\n",
       "                        }\n",
       "                        break;\n",
       "                    }\n",
       "                }\n",
       "            }, 500);\n",
       "            "
      ],
      "text/plain": [
       "<IPython.core.display.Javascript object>"
      ]
     },
     "metadata": {},
     "output_type": "display_data"
    }
   ],
   "source": [
    "# hide\n",
    "# dont_test\n",
    "\n",
    "from nbdev.export import notebook2script\n",
    "\n",
    "notebook2script()"
   ]
  },
  {
   "cell_type": "code",
   "execution_count": null,
   "id": "41cd2279",
   "metadata": {},
   "outputs": [],
   "source": []
  }
 ],
 "metadata": {
  "kernelspec": {
   "display_name": "Python 3",
   "language": "python",
   "name": "python3"
  }
 },
 "nbformat": 4,
 "nbformat_minor": 5
}
