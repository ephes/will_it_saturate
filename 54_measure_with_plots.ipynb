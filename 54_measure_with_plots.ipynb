{
 "cells": [
  {
   "cell_type": "code",
   "execution_count": null,
   "id": "4a638326",
   "metadata": {},
   "outputs": [],
   "source": [
    "# hide\n",
    "\n",
    "%load_ext nb_black\n",
    "%config InlineBackend.figure_format=\"retina\""
   ]
  },
  {
   "cell_type": "code",
   "execution_count": null,
   "id": "3fca2e01",
   "metadata": {},
   "outputs": [],
   "source": [
    "# dont_test\n",
    "\n",
    "from will_it_saturate.gevent_client import GeventClient"
   ]
  },
  {
   "cell_type": "code",
   "execution_count": null,
   "id": "0277aa6d",
   "metadata": {},
   "outputs": [],
   "source": [
    "# dont_test\n",
    "\n",
    "from will_it_saturate import gevent_client\n",
    "\n",
    "import numpy as np\n",
    "import pandas as pd\n",
    "\n",
    "from will_it_saturate.hosts import Host\n",
    "from will_it_saturate.epochs import Epoch\n",
    "from will_it_saturate.servers import BaseServer\n",
    "from will_it_saturate.control.client import ControlClient"
   ]
  },
  {
   "cell_type": "code",
   "execution_count": null,
   "id": "4993b796",
   "metadata": {},
   "outputs": [],
   "source": [
    "# dont_test\n",
    "\n",
    "file_size = 10 ** 7\n",
    "server_host_name = \"192.168.178.113\"\n",
    "control_server_port, server_port = 8100, 5100\n",
    "server = BaseServer(host=server_host_name, port=server_port)\n",
    "server_control_host = Host(name=server_host_name, port=control_server_port)\n",
    "server_control_client = ControlClient(host=server_control_host)\n",
    "epoch = Epoch(file_size=file_size, duration=10)\n",
    "# epoch = Epoch(file_size=file_size, duration=10, file_creator_name=\"minio\")\n",
    "epoch.files = server_control_client.get_or_create_files(epoch)\n",
    "epoch.create_urls_from_files(server)"
   ]
  },
  {
   "cell_type": "code",
   "execution_count": null,
   "id": "8aa3894e",
   "metadata": {},
   "outputs": [],
   "source": [
    "# dont_test\n",
    "\n",
    "benchmark_client = gevent_client.GeventClient(\n",
    "    name=\"gevent\", host=server_host_name, port=server_port\n",
    ")\n",
    "elapsed = benchmark_client.measure(epoch)\n",
    "print(f\"elapsed: {elapsed}\")"
   ]
  },
  {
   "cell_type": "code",
   "execution_count": null,
   "id": "31018f56",
   "metadata": {},
   "outputs": [],
   "source": [
    "# dont_test\n",
    "\n",
    "\n",
    "def df_from_timestamps(timestamps, file_size):\n",
    "    min_started = min([started for started, stopped in timestamps])\n",
    "    max_stopped = max([stopped for started, stopped in timestamps])\n",
    "    index = pd.date_range(start=min_started, end=max_stopped, freq=\"ms\")\n",
    "    df = pd.DataFrame(index=index)\n",
    "    for i, ts in enumerate(timestamps):\n",
    "        start, end = ts\n",
    "        duration = (end - start).total_seconds()\n",
    "        bandwidth = (file_size / duration) / 10 ** 6\n",
    "        column = f\"client_{i}\"\n",
    "        df.loc[:, column] = 0\n",
    "        df.loc[start:end, column] = bandwidth\n",
    "    return df"
   ]
  },
  {
   "cell_type": "code",
   "execution_count": null,
   "id": "d4594f42",
   "metadata": {},
   "outputs": [],
   "source": [
    "# dont_test\n",
    "\n",
    "\n",
    "df = df_from_timestamps(benchmark_client.timestamps, epoch.file_size)"
   ]
  },
  {
   "cell_type": "code",
   "execution_count": null,
   "id": "04fa617c",
   "metadata": {},
   "outputs": [],
   "source": [
    "# dont_test\n",
    "\n",
    "ax = df.plot(figsize=(10, 6), legend=False, title=\"Bandwidth used by clients\")\n",
    "ax.set_xlabel(\"Time\")\n",
    "_ = ax.set_ylabel(\"MB/s\")"
   ]
  },
  {
   "cell_type": "code",
   "execution_count": null,
   "id": "4033de76",
   "metadata": {},
   "outputs": [],
   "source": [
    "# for ts in benchmark_client.timestamps:\n",
    "#     start, end = ts\n",
    "#     duration = (end - start).total_seconds()\n",
    "#     print(duration, start, end)"
   ]
  },
  {
   "cell_type": "code",
   "execution_count": null,
   "id": "c991717a",
   "metadata": {},
   "outputs": [],
   "source": [
    "# dont_test\n",
    "\n",
    "benchmark_client = gevent_client.GeventClient(\n",
    "    name=\"gevent\", host=server_host_name, port=server_port\n",
    ")\n",
    "elapsed = benchmark_client.measure(epoch)\n",
    "print(f\"elapsed: {elapsed}\")"
   ]
  },
  {
   "cell_type": "code",
   "execution_count": null,
   "id": "10bae27f",
   "metadata": {},
   "outputs": [],
   "source": [
    "# dont_test\n",
    "\n",
    "df = df_from_timestamps(benchmark_client.timestamps, epoch.file_size)"
   ]
  },
  {
   "cell_type": "code",
   "execution_count": null,
   "id": "2ea7aa1c",
   "metadata": {},
   "outputs": [],
   "source": [
    "# dont_test\n",
    "\n",
    "ax = df.plot(figsize=(10, 6), legend=False, title=\"Bandwidth used by clients\")\n",
    "ax.set_xlabel(\"Time\")\n",
    "_ = ax.set_ylabel(\"MB/s\")"
   ]
  },
  {
   "cell_type": "code",
   "execution_count": null,
   "id": "c7cd3d35",
   "metadata": {},
   "outputs": [],
   "source": []
  }
 ],
 "metadata": {
  "kernelspec": {
   "display_name": "Python 3",
   "language": "python",
   "name": "python3"
  }
 },
 "nbformat": 4,
 "nbformat_minor": 5
}
