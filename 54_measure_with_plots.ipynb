{
 "cells": [
  {
   "cell_type": "code",
   "execution_count": null,
   "id": "4a638326",
   "metadata": {},
   "outputs": [
    {
     "data": {
      "application/javascript": [
       "\n",
       "            setTimeout(function() {\n",
       "                var nbb_cell_id = 1;\n",
       "                var nbb_unformatted_code = \"# hide\\n\\n%load_ext nb_black\\n%config InlineBackend.figure_format=\\\"retina\\\"\";\n",
       "                var nbb_formatted_code = \"# hide\\n\\n%load_ext nb_black\\n%config InlineBackend.figure_format=\\\"retina\\\"\";\n",
       "                var nbb_cells = Jupyter.notebook.get_cells();\n",
       "                for (var i = 0; i < nbb_cells.length; ++i) {\n",
       "                    if (nbb_cells[i].input_prompt_number == nbb_cell_id) {\n",
       "                        if (nbb_cells[i].get_text() == nbb_unformatted_code) {\n",
       "                             nbb_cells[i].set_text(nbb_formatted_code);\n",
       "                        }\n",
       "                        break;\n",
       "                    }\n",
       "                }\n",
       "            }, 500);\n",
       "            "
      ],
      "text/plain": [
       "<IPython.core.display.Javascript object>"
      ]
     },
     "metadata": {},
     "output_type": "display_data"
    }
   ],
   "source": [
    "# hide\n",
    "\n",
    "%load_ext nb_black\n",
    "%config InlineBackend.figure_format=\"retina\""
   ]
  },
  {
   "cell_type": "code",
   "execution_count": null,
   "id": "3fca2e01",
   "metadata": {},
   "outputs": [
    {
     "ename": "RuntimeError",
     "evalue": "cannot release un-acquired lock",
     "output_type": "error",
     "traceback": [
      "\u001b[0;31m---------------------------------------------------------------------------\u001b[0m",
      "\u001b[0;31mRuntimeError\u001b[0m                              Traceback (most recent call last)",
      "\u001b[0;32m<ipython-input-2-46ef50cba510>\u001b[0m in \u001b[0;36m<module>\u001b[0;34m\u001b[0m\n\u001b[1;32m      1\u001b[0m \u001b[0;31m# dont_test\u001b[0m\u001b[0;34m\u001b[0m\u001b[0;34m\u001b[0m\u001b[0;34m\u001b[0m\u001b[0m\n\u001b[1;32m      2\u001b[0m \u001b[0;34m\u001b[0m\u001b[0m\n\u001b[0;32m----> 3\u001b[0;31m \u001b[0;32mfrom\u001b[0m \u001b[0mwill_it_saturate\u001b[0m\u001b[0;34m.\u001b[0m\u001b[0mgevent_client\u001b[0m \u001b[0;32mimport\u001b[0m \u001b[0mGeventClient\u001b[0m\u001b[0;34m\u001b[0m\u001b[0;34m\u001b[0m\u001b[0m\n\u001b[0m",
      "\u001b[0;32m~/.pyenv/versions/3.9.5/Python.framework/Versions/3.9/lib/python3.9/importlib/_bootstrap.py\u001b[0m in \u001b[0;36m_find_and_load\u001b[0;34m(name, import_)\u001b[0m\n",
      "\u001b[0;32m~/.pyenv/versions/3.9.5/Python.framework/Versions/3.9/lib/python3.9/importlib/_bootstrap.py\u001b[0m in \u001b[0;36m__exit__\u001b[0;34m(self, *args, **kwargs)\u001b[0m\n",
      "\u001b[0;32m~/.pyenv/versions/3.9.5/Python.framework/Versions/3.9/lib/python3.9/importlib/_bootstrap.py\u001b[0m in \u001b[0;36mrelease\u001b[0;34m(self)\u001b[0m\n",
      "\u001b[0;31mRuntimeError\u001b[0m: cannot release un-acquired lock"
     ]
    },
    {
     "data": {
      "application/javascript": [
       "\n",
       "            setTimeout(function() {\n",
       "                var nbb_cell_id = 2;\n",
       "                var nbb_unformatted_code = \"# dont_test\\n\\nfrom will_it_saturate.gevent_client import GeventClient\";\n",
       "                var nbb_formatted_code = \"# dont_test\\n\\nfrom will_it_saturate.gevent_client import GeventClient\";\n",
       "                var nbb_cells = Jupyter.notebook.get_cells();\n",
       "                for (var i = 0; i < nbb_cells.length; ++i) {\n",
       "                    if (nbb_cells[i].input_prompt_number == nbb_cell_id) {\n",
       "                        if (nbb_cells[i].get_text() == nbb_unformatted_code) {\n",
       "                             nbb_cells[i].set_text(nbb_formatted_code);\n",
       "                        }\n",
       "                        break;\n",
       "                    }\n",
       "                }\n",
       "            }, 500);\n",
       "            "
      ],
      "text/plain": [
       "<IPython.core.display.Javascript object>"
      ]
     },
     "metadata": {},
     "output_type": "display_data"
    }
   ],
   "source": [
    "# dont_test\n",
    "\n",
    "from will_it_saturate.gevent_client import GeventClient"
   ]
  },
  {
   "cell_type": "code",
   "execution_count": null,
   "id": "0277aa6d",
   "metadata": {},
   "outputs": [
    {
     "data": {
      "application/javascript": [
       "\n",
       "            setTimeout(function() {\n",
       "                var nbb_cell_id = 3;\n",
       "                var nbb_unformatted_code = \"# dont_test\\n\\nfrom will_it_saturate import gevent_client\\n\\nimport numpy as np\\nimport pandas as pd\\n\\nfrom will_it_saturate.hosts import Host\\nfrom will_it_saturate.epochs import Epoch\\nfrom will_it_saturate.servers import BaseServer\\nfrom will_it_saturate.control.client import ControlClient\";\n",
       "                var nbb_formatted_code = \"# dont_test\\n\\nfrom will_it_saturate import gevent_client\\n\\nimport numpy as np\\nimport pandas as pd\\n\\nfrom will_it_saturate.hosts import Host\\nfrom will_it_saturate.epochs import Epoch\\nfrom will_it_saturate.servers import BaseServer\\nfrom will_it_saturate.control.client import ControlClient\";\n",
       "                var nbb_cells = Jupyter.notebook.get_cells();\n",
       "                for (var i = 0; i < nbb_cells.length; ++i) {\n",
       "                    if (nbb_cells[i].input_prompt_number == nbb_cell_id) {\n",
       "                        if (nbb_cells[i].get_text() == nbb_unformatted_code) {\n",
       "                             nbb_cells[i].set_text(nbb_formatted_code);\n",
       "                        }\n",
       "                        break;\n",
       "                    }\n",
       "                }\n",
       "            }, 500);\n",
       "            "
      ],
      "text/plain": [
       "<IPython.core.display.Javascript object>"
      ]
     },
     "metadata": {},
     "output_type": "display_data"
    }
   ],
   "source": [
    "# dont_test\n",
    "\n",
    "from will_it_saturate import gevent_client\n",
    "\n",
    "import numpy as np\n",
    "import pandas as pd\n",
    "\n",
    "from will_it_saturate.hosts import Host\n",
    "from will_it_saturate.epochs import Epoch\n",
    "from will_it_saturate.servers import BaseServer\n",
    "from will_it_saturate.control.client import ControlClient"
   ]
  },
  {
   "cell_type": "code",
   "execution_count": null,
   "id": "4993b796",
   "metadata": {},
   "outputs": [
    {
     "data": {
      "application/javascript": [
       "\n",
       "            setTimeout(function() {\n",
       "                var nbb_cell_id = 6;\n",
       "                var nbb_unformatted_code = \"# dont_test\\n\\nfile_size = 10 ** 7\\nserver_host_name = \\\"192.168.178.113\\\"\\ncontrol_server_port, server_port = 8100, 5100\\nserver = BaseServer(host=server_host_name, port=server_port)\\nserver_control_host = Host(name=server_host_name, port=control_server_port)\\nserver_control_client = ControlClient(host=server_control_host)\\n# epoch = Epoch(file_size=file_size, duration=10)\\nepoch = Epoch(file_size=file_size, duration=10, file_creator_name=\\\"minio\\\")\\nepoch.files = server_control_client.get_or_create_files(epoch)\\nepoch.create_urls_from_files(server)\";\n",
       "                var nbb_formatted_code = \"# dont_test\\n\\nfile_size = 10 ** 7\\nserver_host_name = \\\"192.168.178.113\\\"\\ncontrol_server_port, server_port = 8100, 5100\\nserver = BaseServer(host=server_host_name, port=server_port)\\nserver_control_host = Host(name=server_host_name, port=control_server_port)\\nserver_control_client = ControlClient(host=server_control_host)\\n# epoch = Epoch(file_size=file_size, duration=10)\\nepoch = Epoch(file_size=file_size, duration=10, file_creator_name=\\\"minio\\\")\\nepoch.files = server_control_client.get_or_create_files(epoch)\\nepoch.create_urls_from_files(server)\";\n",
       "                var nbb_cells = Jupyter.notebook.get_cells();\n",
       "                for (var i = 0; i < nbb_cells.length; ++i) {\n",
       "                    if (nbb_cells[i].input_prompt_number == nbb_cell_id) {\n",
       "                        if (nbb_cells[i].get_text() == nbb_unformatted_code) {\n",
       "                             nbb_cells[i].set_text(nbb_formatted_code);\n",
       "                        }\n",
       "                        break;\n",
       "                    }\n",
       "                }\n",
       "            }, 500);\n",
       "            "
      ],
      "text/plain": [
       "<IPython.core.display.Javascript object>"
      ]
     },
     "metadata": {},
     "output_type": "display_data"
    }
   ],
   "source": [
    "# dont_test\n",
    "\n",
    "file_size = 10 ** 7\n",
    "server_host_name = \"192.168.178.113\"\n",
    "control_server_port, server_port = 8100, 5100\n",
    "server = BaseServer(host=server_host_name, port=server_port)\n",
    "server_control_host = Host(name=server_host_name, port=control_server_port)\n",
    "server_control_client = ControlClient(host=server_control_host)\n",
    "# epoch = Epoch(file_size=file_size, duration=10)\n",
    "epoch = Epoch(file_size=file_size, duration=10, file_creator_name=\"minio\")\n",
    "epoch.files = server_control_client.get_or_create_files(epoch)\n",
    "epoch.create_urls_from_files(server)"
   ]
  },
  {
   "cell_type": "code",
   "execution_count": null,
   "id": "8aa3894e",
   "metadata": {},
   "outputs": [
    {
     "name": "stdout",
     "output_type": "stream",
     "text": [
      "measure\n",
      "measure server\n",
      "http://192.168.178.113:5100/data/10000000_10_125000000/0\n",
      "http://192.168.178.113:5100/data/10000000_10_125000000/26 10000000\n",
      "http://192.168.178.113:5100/data/10000000_10_125000000/31 10000000\n",
      "http://192.168.178.113:5100/data/10000000_10_125000000/29 10000000\n",
      "http://192.168.178.113:5100/data/10000000_10_125000000/28 10000000\n",
      "http://192.168.178.113:5100/data/10000000_10_125000000/30 10000000\n",
      "http://192.168.178.113:5100/data/10000000_10_125000000/6 10000000\n",
      "http://192.168.178.113:5100/data/10000000_10_125000000/9 10000000\n",
      "http://192.168.178.113:5100/data/10000000_10_125000000/10 10000000\n",
      "http://192.168.178.113:5100/data/10000000_10_125000000/1 10000000\n",
      "http://192.168.178.113:5100/data/10000000_10_125000000/2 10000000\n",
      "http://192.168.178.113:5100/data/10000000_10_125000000/3 10000000\n",
      "http://192.168.178.113:5100/data/10000000_10_125000000/4 10000000\n",
      "http://192.168.178.113:5100/data/10000000_10_125000000/7 10000000\n",
      "http://192.168.178.113:5100/data/10000000_10_125000000/8 10000000\n",
      "http://192.168.178.113:5100/data/10000000_10_125000000/49 10000000\n",
      "http://192.168.178.113:5100/data/10000000_10_125000000/50 10000000\n",
      "http://192.168.178.113:5100/data/10000000_10_125000000/65 10000000\n",
      "http://192.168.178.113:5100/data/10000000_10_125000000/66 10000000\n",
      "http://192.168.178.113:5100/data/10000000_10_125000000/99 10000000\n",
      "http://192.168.178.113:5100/data/10000000_10_125000000/100 10000000\n",
      "http://192.168.178.113:5100/data/10000000_10_125000000/101 10000000\n",
      "http://192.168.178.113:5100/data/10000000_10_125000000/102 10000000\n",
      "http://192.168.178.113:5100/data/10000000_10_125000000/103 10000000\n",
      "http://192.168.178.113:5100/data/10000000_10_125000000/104 10000000\n",
      "http://192.168.178.113:5100/data/10000000_10_125000000/105 10000000\n",
      "http://192.168.178.113:5100/data/10000000_10_125000000/106 10000000\n",
      "http://192.168.178.113:5100/data/10000000_10_125000000/0 10000000\n",
      "http://192.168.178.113:5100/data/10000000_10_125000000/107 10000000\n",
      "http://192.168.178.113:5100/data/10000000_10_125000000/27 10000000\n",
      "http://192.168.178.113:5100/data/10000000_10_125000000/32 10000000\n",
      "http://192.168.178.113:5100/data/10000000_10_125000000/5 10000000\n",
      "http://192.168.178.113:5100/data/10000000_10_125000000/59 10000000\n",
      "http://192.168.178.113:5100/data/10000000_10_125000000/53 10000000\n",
      "http://192.168.178.113:5100/data/10000000_10_125000000/84 10000000\n",
      "http://192.168.178.113:5100/data/10000000_10_125000000/82 10000000\n",
      "http://192.168.178.113:5100/data/10000000_10_125000000/83 10000000\n",
      "http://192.168.178.113:5100/data/10000000_10_125000000/88 10000000\n",
      "http://192.168.178.113:5100/data/10000000_10_125000000/80 10000000\n",
      "http://192.168.178.113:5100/data/10000000_10_125000000/56 10000000\n",
      "http://192.168.178.113:5100/data/10000000_10_125000000/20 10000000\n",
      "http://192.168.178.113:5100/data/10000000_10_125000000/18 10000000\n",
      "http://192.168.178.113:5100/data/10000000_10_125000000/19 10000000\n",
      "http://192.168.178.113:5100/data/10000000_10_125000000/21 10000000\n",
      "http://192.168.178.113:5100/data/10000000_10_125000000/22 10000000\n",
      "http://192.168.178.113:5100/data/10000000_10_125000000/24 10000000\n",
      "http://192.168.178.113:5100/data/10000000_10_125000000/43 10000000\n",
      "http://192.168.178.113:5100/data/10000000_10_125000000/55 10000000\n",
      "http://192.168.178.113:5100/data/10000000_10_125000000/12 10000000\n",
      "http://192.168.178.113:5100/data/10000000_10_125000000/15 10000000\n",
      "http://192.168.178.113:5100/data/10000000_10_125000000/16 10000000\n",
      "http://192.168.178.113:5100/data/10000000_10_125000000/51 10000000\n",
      "http://192.168.178.113:5100/data/10000000_10_125000000/58 10000000\n",
      "http://192.168.178.113:5100/data/10000000_10_125000000/87 10000000\n",
      "http://192.168.178.113:5100/data/10000000_10_125000000/57 10000000\n",
      "http://192.168.178.113:5100/data/10000000_10_125000000/23 10000000\n",
      "http://192.168.178.113:5100/data/10000000_10_125000000/25 10000000\n",
      "http://192.168.178.113:5100/data/10000000_10_125000000/35 10000000\n",
      "http://192.168.178.113:5100/data/10000000_10_125000000/37 10000000\n",
      "http://192.168.178.113:5100/data/10000000_10_125000000/38 10000000\n",
      "http://192.168.178.113:5100/data/10000000_10_125000000/39 10000000\n",
      "http://192.168.178.113:5100/data/10000000_10_125000000/40 10000000\n",
      "http://192.168.178.113:5100/data/10000000_10_125000000/41 10000000\n",
      "http://192.168.178.113:5100/data/10000000_10_125000000/42 10000000\n",
      "http://192.168.178.113:5100/data/10000000_10_125000000/44 10000000\n",
      "http://192.168.178.113:5100/data/10000000_10_125000000/45 10000000\n",
      "http://192.168.178.113:5100/data/10000000_10_125000000/46 10000000\n",
      "http://192.168.178.113:5100/data/10000000_10_125000000/47 10000000\n",
      "http://192.168.178.113:5100/data/10000000_10_125000000/48 10000000\n",
      "http://192.168.178.113:5100/data/10000000_10_125000000/60 10000000\n",
      "http://192.168.178.113:5100/data/10000000_10_125000000/61 10000000\n",
      "http://192.168.178.113:5100/data/10000000_10_125000000/62 10000000\n",
      "http://192.168.178.113:5100/data/10000000_10_125000000/63 10000000\n",
      "http://192.168.178.113:5100/data/10000000_10_125000000/64 10000000\n",
      "http://192.168.178.113:5100/data/10000000_10_125000000/67 10000000\n",
      "http://192.168.178.113:5100/data/10000000_10_125000000/69 10000000\n",
      "http://192.168.178.113:5100/data/10000000_10_125000000/70 10000000\n",
      "http://192.168.178.113:5100/data/10000000_10_125000000/71 10000000\n",
      "http://192.168.178.113:5100/data/10000000_10_125000000/72 10000000\n",
      "http://192.168.178.113:5100/data/10000000_10_125000000/73 10000000\n",
      "http://192.168.178.113:5100/data/10000000_10_125000000/74 10000000\n",
      "http://192.168.178.113:5100/data/10000000_10_125000000/75 10000000\n",
      "http://192.168.178.113:5100/data/10000000_10_125000000/76 10000000\n",
      "http://192.168.178.113:5100/data/10000000_10_125000000/77 10000000\n",
      "http://192.168.178.113:5100/data/10000000_10_125000000/78 10000000\n",
      "http://192.168.178.113:5100/data/10000000_10_125000000/89 10000000\n",
      "http://192.168.178.113:5100/data/10000000_10_125000000/90 10000000\n",
      "http://192.168.178.113:5100/data/10000000_10_125000000/91 10000000\n",
      "http://192.168.178.113:5100/data/10000000_10_125000000/92 10000000\n",
      "http://192.168.178.113:5100/data/10000000_10_125000000/93 10000000\n",
      "http://192.168.178.113:5100/data/10000000_10_125000000/94 10000000\n",
      "http://192.168.178.113:5100/data/10000000_10_125000000/95 10000000\n",
      "http://192.168.178.113:5100/data/10000000_10_125000000/96 10000000\n",
      "http://192.168.178.113:5100/data/10000000_10_125000000/97 10000000\n",
      "http://192.168.178.113:5100/data/10000000_10_125000000/98 10000000\n",
      "http://192.168.178.113:5100/data/10000000_10_125000000/110 10000000\n",
      "http://192.168.178.113:5100/data/10000000_10_125000000/112 10000000\n",
      "http://192.168.178.113:5100/data/10000000_10_125000000/113 10000000\n",
      "http://192.168.178.113:5100/data/10000000_10_125000000/115 10000000\n",
      "http://192.168.178.113:5100/data/10000000_10_125000000/116 10000000\n",
      "http://192.168.178.113:5100/data/10000000_10_125000000/119 10000000\n",
      "http://192.168.178.113:5100/data/10000000_10_125000000/121 10000000\n",
      "http://192.168.178.113:5100/data/10000000_10_125000000/122 10000000\n",
      "http://192.168.178.113:5100/data/10000000_10_125000000/52 10000000\n",
      "http://192.168.178.113:5100/data/10000000_10_125000000/54 10000000\n",
      "http://192.168.178.113:5100/data/10000000_10_125000000/79 10000000\n",
      "http://192.168.178.113:5100/data/10000000_10_125000000/85 10000000\n",
      "http://192.168.178.113:5100/data/10000000_10_125000000/86 10000000\n",
      "http://192.168.178.113:5100/data/10000000_10_125000000/108 10000000\n",
      "http://192.168.178.113:5100/data/10000000_10_125000000/13 10000000\n",
      "http://192.168.178.113:5100/data/10000000_10_125000000/14 10000000\n",
      "http://192.168.178.113:5100/data/10000000_10_125000000/34 10000000\n",
      "http://192.168.178.113:5100/data/10000000_10_125000000/36 10000000\n",
      "http://192.168.178.113:5100/data/10000000_10_125000000/68 10000000\n",
      "http://192.168.178.113:5100/data/10000000_10_125000000/111 10000000\n",
      "http://192.168.178.113:5100/data/10000000_10_125000000/114 10000000\n",
      "http://192.168.178.113:5100/data/10000000_10_125000000/117 10000000\n",
      "http://192.168.178.113:5100/data/10000000_10_125000000/118 10000000\n",
      "http://192.168.178.113:5100/data/10000000_10_125000000/120 10000000\n",
      "http://192.168.178.113:5100/data/10000000_10_125000000/123 10000000\n",
      "http://192.168.178.113:5100/data/10000000_10_125000000/81 10000000\n",
      "http://192.168.178.113:5100/data/10000000_10_125000000/109 10000000\n",
      "http://192.168.178.113:5100/data/10000000_10_125000000/17 10000000\n",
      "http://192.168.178.113:5100/data/10000000_10_125000000/33 10000000\n",
      "http://192.168.178.113:5100/data/10000000_10_125000000/124 10000000\n",
      "http://192.168.178.113:5100/data/10000000_10_125000000/11 10000000\n",
      "elapsed: 13.455586610000012\n"
     ]
    },
    {
     "data": {
      "application/javascript": [
       "\n",
       "            setTimeout(function() {\n",
       "                var nbb_cell_id = 7;\n",
       "                var nbb_unformatted_code = \"# dont_test\\n\\nbenchmark_client = gevent_client.GeventClient(\\n    name=\\\"gevent\\\", host=server_host_name, port=server_port\\n)\\nelapsed = benchmark_client.measure(epoch)\\nprint(f\\\"elapsed: {elapsed}\\\")\";\n",
       "                var nbb_formatted_code = \"# dont_test\\n\\nbenchmark_client = gevent_client.GeventClient(\\n    name=\\\"gevent\\\", host=server_host_name, port=server_port\\n)\\nelapsed = benchmark_client.measure(epoch)\\nprint(f\\\"elapsed: {elapsed}\\\")\";\n",
       "                var nbb_cells = Jupyter.notebook.get_cells();\n",
       "                for (var i = 0; i < nbb_cells.length; ++i) {\n",
       "                    if (nbb_cells[i].input_prompt_number == nbb_cell_id) {\n",
       "                        if (nbb_cells[i].get_text() == nbb_unformatted_code) {\n",
       "                             nbb_cells[i].set_text(nbb_formatted_code);\n",
       "                        }\n",
       "                        break;\n",
       "                    }\n",
       "                }\n",
       "            }, 500);\n",
       "            "
      ],
      "text/plain": [
       "<IPython.core.display.Javascript object>"
      ]
     },
     "metadata": {},
     "output_type": "display_data"
    }
   ],
   "source": [
    "# dont_test\n",
    "\n",
    "benchmark_client = gevent_client.GeventClient(\n",
    "    name=\"gevent\", host=server_host_name, port=server_port\n",
    ")\n",
    "elapsed = benchmark_client.measure(epoch)\n",
    "print(f\"elapsed: {elapsed}\")"
   ]
  },
  {
   "cell_type": "code",
   "execution_count": null,
   "id": "31018f56",
   "metadata": {},
   "outputs": [
    {
     "data": {
      "application/javascript": [
       "\n",
       "            setTimeout(function() {\n",
       "                var nbb_cell_id = 8;\n",
       "                var nbb_unformatted_code = \"# dont_test \\n\\ndef df_from_timestamps(timestamps, file_size):\\n    min_started = min([started for started, stopped in timestamps])\\n    max_stopped = max([stopped for started, stopped in timestamps])\\n    index = pd.date_range(start=min_started, end=max_stopped, freq=\\\"ms\\\")\\n    df = pd.DataFrame(index=index)\\n    for i, ts in enumerate(timestamps):\\n        start, end = ts\\n        duration = (end - start).total_seconds()\\n        bandwidth = (file_size / duration) / 10 ** 6\\n        column = f\\\"client_{i}\\\"\\n        df.loc[:, column] = 0\\n        df.loc[start:end, column] = bandwidth\\n    return df\";\n",
       "                var nbb_formatted_code = \"# dont_test\\n\\n\\ndef df_from_timestamps(timestamps, file_size):\\n    min_started = min([started for started, stopped in timestamps])\\n    max_stopped = max([stopped for started, stopped in timestamps])\\n    index = pd.date_range(start=min_started, end=max_stopped, freq=\\\"ms\\\")\\n    df = pd.DataFrame(index=index)\\n    for i, ts in enumerate(timestamps):\\n        start, end = ts\\n        duration = (end - start).total_seconds()\\n        bandwidth = (file_size / duration) / 10 ** 6\\n        column = f\\\"client_{i}\\\"\\n        df.loc[:, column] = 0\\n        df.loc[start:end, column] = bandwidth\\n    return df\";\n",
       "                var nbb_cells = Jupyter.notebook.get_cells();\n",
       "                for (var i = 0; i < nbb_cells.length; ++i) {\n",
       "                    if (nbb_cells[i].input_prompt_number == nbb_cell_id) {\n",
       "                        if (nbb_cells[i].get_text() == nbb_unformatted_code) {\n",
       "                             nbb_cells[i].set_text(nbb_formatted_code);\n",
       "                        }\n",
       "                        break;\n",
       "                    }\n",
       "                }\n",
       "            }, 500);\n",
       "            "
      ],
      "text/plain": [
       "<IPython.core.display.Javascript object>"
      ]
     },
     "metadata": {},
     "output_type": "display_data"
    }
   ],
   "source": [
    "# dont_test\n",
    "\n",
    "\n",
    "def df_from_timestamps(timestamps, file_size):\n",
    "    min_started = min([started for started, stopped in timestamps])\n",
    "    max_stopped = max([stopped for started, stopped in timestamps])\n",
    "    index = pd.date_range(start=min_started, end=max_stopped, freq=\"ms\")\n",
    "    df = pd.DataFrame(index=index)\n",
    "    for i, ts in enumerate(timestamps):\n",
    "        start, end = ts\n",
    "        duration = (end - start).total_seconds()\n",
    "        bandwidth = (file_size / duration) / 10 ** 6\n",
    "        column = f\"client_{i}\"\n",
    "        df.loc[:, column] = 0\n",
    "        df.loc[start:end, column] = bandwidth\n",
    "    return df"
   ]
  },
  {
   "cell_type": "code",
   "execution_count": null,
   "id": "d4594f42",
   "metadata": {},
   "outputs": [
    {
     "data": {
      "application/javascript": [
       "\n",
       "            setTimeout(function() {\n",
       "                var nbb_cell_id = 9;\n",
       "                var nbb_unformatted_code = \"# dont_test \\n\\n\\ndf = df_from_timestamps(benchmark_client.timestamps, epoch.file_size)\";\n",
       "                var nbb_formatted_code = \"# dont_test\\n\\n\\ndf = df_from_timestamps(benchmark_client.timestamps, epoch.file_size)\";\n",
       "                var nbb_cells = Jupyter.notebook.get_cells();\n",
       "                for (var i = 0; i < nbb_cells.length; ++i) {\n",
       "                    if (nbb_cells[i].input_prompt_number == nbb_cell_id) {\n",
       "                        if (nbb_cells[i].get_text() == nbb_unformatted_code) {\n",
       "                             nbb_cells[i].set_text(nbb_formatted_code);\n",
       "                        }\n",
       "                        break;\n",
       "                    }\n",
       "                }\n",
       "            }, 500);\n",
       "            "
      ],
      "text/plain": [
       "<IPython.core.display.Javascript object>"
      ]
     },
     "metadata": {},
     "output_type": "display_data"
    }
   ],
   "source": [
    "# dont_test\n",
    "\n",
    "\n",
    "df = df_from_timestamps(benchmark_client.timestamps, epoch.file_size)"
   ]
  },
  {
   "cell_type": "code",
   "execution_count": null,
   "id": "04fa617c",
   "metadata": {},
   "outputs": [
    {
     "data": {
      "image/png": "[encoded data removed]",
      "text/plain": [
       "<Figure size 720x432 with 1 Axes>"
      ]
     },
     "metadata": {
      "image/png": {
       "height": 374,
       "width": 607
      },
      "needs_background": "light"
     },
     "output_type": "display_data"
    },
    {
     "data": {
      "application/javascript": [
       "\n",
       "            setTimeout(function() {\n",
       "                var nbb_cell_id = 10;\n",
       "                var nbb_unformatted_code = \"# dont_test \\n\\nax = df.plot(figsize=(10, 6), legend=False, title=\\\"Bandwidth used by clients\\\")\\nax.set_xlabel(\\\"Time\\\")\\n_ = ax.set_ylabel(\\\"MB/s\\\")\";\n",
       "                var nbb_formatted_code = \"# dont_test\\n\\nax = df.plot(figsize=(10, 6), legend=False, title=\\\"Bandwidth used by clients\\\")\\nax.set_xlabel(\\\"Time\\\")\\n_ = ax.set_ylabel(\\\"MB/s\\\")\";\n",
       "                var nbb_cells = Jupyter.notebook.get_cells();\n",
       "                for (var i = 0; i < nbb_cells.length; ++i) {\n",
       "                    if (nbb_cells[i].input_prompt_number == nbb_cell_id) {\n",
       "                        if (nbb_cells[i].get_text() == nbb_unformatted_code) {\n",
       "                             nbb_cells[i].set_text(nbb_formatted_code);\n",
       "                        }\n",
       "                        break;\n",
       "                    }\n",
       "                }\n",
       "            }, 500);\n",
       "            "
      ],
      "text/plain": [
       "<IPython.core.display.Javascript object>"
      ]
     },
     "metadata": {},
     "output_type": "display_data"
    }
   ],
   "source": [
    "# dont_test\n",
    "\n",
    "ax = df.plot(figsize=(10, 6), legend=False, title=\"Bandwidth used by clients\")\n",
    "ax.set_xlabel(\"Time\")\n",
    "_ = ax.set_ylabel(\"MB/s\")"
   ]
  },
  {
   "cell_type": "code",
   "execution_count": null,
   "id": "4033de76",
   "metadata": {},
   "outputs": [],
   "source": [
    "# for ts in benchmark_client.timestamps:\n",
    "#     start, end = ts\n",
    "#     duration = (end - start).total_seconds()\n",
    "#     print(duration, start, end)"
   ]
  },
  {
   "cell_type": "code",
   "execution_count": null,
   "id": "c991717a",
   "metadata": {},
   "outputs": [
    {
     "name": "stdout",
     "output_type": "stream",
     "text": [
      "measure\n",
      "measure server\n",
      "http://192.168.178.113:5100/data/10000000_10_125000000/0\n",
      "elapsed: 11.961080057999993\n"
     ]
    },
    {
     "data": {
      "application/javascript": [
       "\n",
       "            setTimeout(function() {\n",
       "                var nbb_cell_id = 15;\n",
       "                var nbb_unformatted_code = \"benchmark_client = gevent_client.GeventClient(\\n    name=\\\"gevent\\\", host=server_host_name, port=server_port\\n)\\nelapsed = benchmark_client.measure(epoch)\\nprint(f\\\"elapsed: {elapsed}\\\")\";\n",
       "                var nbb_formatted_code = \"benchmark_client = gevent_client.GeventClient(\\n    name=\\\"gevent\\\", host=server_host_name, port=server_port\\n)\\nelapsed = benchmark_client.measure(epoch)\\nprint(f\\\"elapsed: {elapsed}\\\")\";\n",
       "                var nbb_cells = Jupyter.notebook.get_cells();\n",
       "                for (var i = 0; i < nbb_cells.length; ++i) {\n",
       "                    if (nbb_cells[i].input_prompt_number == nbb_cell_id) {\n",
       "                        if (nbb_cells[i].get_text() == nbb_unformatted_code) {\n",
       "                             nbb_cells[i].set_text(nbb_formatted_code);\n",
       "                        }\n",
       "                        break;\n",
       "                    }\n",
       "                }\n",
       "            }, 500);\n",
       "            "
      ],
      "text/plain": [
       "<IPython.core.display.Javascript object>"
      ]
     },
     "metadata": {},
     "output_type": "display_data"
    }
   ],
   "source": [
    "# dont_test \n",
    "\n",
    "benchmark_client = gevent_client.GeventClient(\n",
    "    name=\"gevent\", host=server_host_name, port=server_port\n",
    ")\n",
    "elapsed = benchmark_client.measure(epoch)\n",
    "print(f\"elapsed: {elapsed}\")"
   ]
  },
  {
   "cell_type": "code",
   "execution_count": null,
   "id": "10bae27f",
   "metadata": {},
   "outputs": [
    {
     "data": {
      "application/javascript": [
       "\n",
       "            setTimeout(function() {\n",
       "                var nbb_cell_id = 16;\n",
       "                var nbb_unformatted_code = \"df = df_from_timestamps(benchmark_client.timestamps, epoch.file_size)\";\n",
       "                var nbb_formatted_code = \"df = df_from_timestamps(benchmark_client.timestamps, epoch.file_size)\";\n",
       "                var nbb_cells = Jupyter.notebook.get_cells();\n",
       "                for (var i = 0; i < nbb_cells.length; ++i) {\n",
       "                    if (nbb_cells[i].input_prompt_number == nbb_cell_id) {\n",
       "                        if (nbb_cells[i].get_text() == nbb_unformatted_code) {\n",
       "                             nbb_cells[i].set_text(nbb_formatted_code);\n",
       "                        }\n",
       "                        break;\n",
       "                    }\n",
       "                }\n",
       "            }, 500);\n",
       "            "
      ],
      "text/plain": [
       "<IPython.core.display.Javascript object>"
      ]
     },
     "metadata": {},
     "output_type": "display_data"
    }
   ],
   "source": [
    "# dont_test \n",
    "\n",
    "\n",
    "df = df_from_timestamps(benchmark_client.timestamps, epoch.file_size)"
   ]
  },
  {
   "cell_type": "code",
   "execution_count": null,
   "id": "2ea7aa1c",
   "metadata": {},
   "outputs": [
    {
     "data": {
      "image/png": "[encoded data removed]",
      "text/plain": [
       "<Figure size 720x432 with 1 Axes>"
      ]
     },
     "metadata": {
      "image/png": {
       "height": 374,
       "width": 608
      },
      "needs_background": "light"
     },
     "output_type": "display_data"
    },
    {
     "data": {
      "application/javascript": [
       "\n",
       "            setTimeout(function() {\n",
       "                var nbb_cell_id = 17;\n",
       "                var nbb_unformatted_code = \"ax = df.plot(figsize=(10, 6), legend=False, title=\\\"Bandwidth used by clients\\\")\\nax.set_xlabel(\\\"Time\\\")\\n_ = ax.set_ylabel(\\\"MB/s\\\")\";\n",
       "                var nbb_formatted_code = \"ax = df.plot(figsize=(10, 6), legend=False, title=\\\"Bandwidth used by clients\\\")\\nax.set_xlabel(\\\"Time\\\")\\n_ = ax.set_ylabel(\\\"MB/s\\\")\";\n",
       "                var nbb_cells = Jupyter.notebook.get_cells();\n",
       "                for (var i = 0; i < nbb_cells.length; ++i) {\n",
       "                    if (nbb_cells[i].input_prompt_number == nbb_cell_id) {\n",
       "                        if (nbb_cells[i].get_text() == nbb_unformatted_code) {\n",
       "                             nbb_cells[i].set_text(nbb_formatted_code);\n",
       "                        }\n",
       "                        break;\n",
       "                    }\n",
       "                }\n",
       "            }, 500);\n",
       "            "
      ],
      "text/plain": [
       "<IPython.core.display.Javascript object>"
      ]
     },
     "metadata": {},
     "output_type": "display_data"
    }
   ],
   "source": [
    "# dont_test \n",
    "\n",
    "ax = df.plot(figsize=(10, 6), legend=False, title=\"Bandwidth used by clients\")\n",
    "ax.set_xlabel(\"Time\")\n",
    "_ = ax.set_ylabel(\"MB/s\")"
   ]
  },
  {
   "cell_type": "code",
   "execution_count": null,
   "id": "ccc87422",
   "metadata": {},
   "outputs": [],
   "source": []
  }
 ],
 "metadata": {
  "kernelspec": {
   "display_name": "Python 3",
   "language": "python",
   "name": "python3"
  }
 },
 "nbformat": 4,
 "nbformat_minor": 5
}
