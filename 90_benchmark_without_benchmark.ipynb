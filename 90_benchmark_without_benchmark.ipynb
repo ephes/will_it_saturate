{
 "cells": [
  {
   "cell_type": "code",
   "execution_count": null,
   "id": "naughty-psychiatry",
   "metadata": {},
   "outputs": [
    {
     "data": {
      "application/javascript": [
       "\n",
       "            setTimeout(function() {\n",
       "                var nbb_cell_id = 1;\n",
       "                var nbb_unformatted_code = \"%load_ext nb_black\";\n",
       "                var nbb_formatted_code = \"%load_ext nb_black\";\n",
       "                var nbb_cells = Jupyter.notebook.get_cells();\n",
       "                for (var i = 0; i < nbb_cells.length; ++i) {\n",
       "                    if (nbb_cells[i].input_prompt_number == nbb_cell_id) {\n",
       "                        if (nbb_cells[i].get_text() == nbb_unformatted_code) {\n",
       "                             nbb_cells[i].set_text(nbb_formatted_code);\n",
       "                        }\n",
       "                        break;\n",
       "                    }\n",
       "                }\n",
       "            }, 500);\n",
       "            "
      ],
      "text/plain": [
       "<IPython.core.display.Javascript object>"
      ]
     },
     "metadata": {},
     "output_type": "display_data"
    }
   ],
   "source": [
    "%load_ext nb_black"
   ]
  },
  {
   "cell_type": "code",
   "execution_count": null,
   "id": "aerial-money",
   "metadata": {},
   "outputs": [
    {
     "data": {
      "application/javascript": [
       "\n",
       "            setTimeout(function() {\n",
       "                var nbb_cell_id = 2;\n",
       "                var nbb_unformatted_code = \"import httpx\\nimport pandas as pd\\n\\nfrom urllib.parse import urljoin\\n\\nfrom will_it_saturate.servers import (\\n    FastAPIUvicornServer,\\n    NginxDockerServer,\\n    DjangoGunicornWSGIServer,\\n)\\nfrom will_it_saturate.epochs import Epoch\\nfrom will_it_saturate.hosts import Host, HostDetails\\n\\nfrom will_it_saturate.results import Result\\nfrom will_it_saturate.files import BenchmarkFile\\nfrom will_it_saturate.control.client import ControlClient\\nfrom will_it_saturate.repositories import SqliteRepository, register_default_tables\\nfrom will_it_saturate.clients import (\\n    HttpxClient,\\n    AioHttpClient,\\n    WrkClient,\\n    BaseClient,\\n)\";\n",
       "                var nbb_formatted_code = \"import httpx\\nimport pandas as pd\\n\\nfrom urllib.parse import urljoin\\n\\nfrom will_it_saturate.servers import (\\n    FastAPIUvicornServer,\\n    NginxDockerServer,\\n    DjangoGunicornWSGIServer,\\n)\\nfrom will_it_saturate.epochs import Epoch\\nfrom will_it_saturate.hosts import Host, HostDetails\\n\\nfrom will_it_saturate.results import Result\\nfrom will_it_saturate.files import BenchmarkFile\\nfrom will_it_saturate.control.client import ControlClient\\nfrom will_it_saturate.repositories import SqliteRepository, register_default_tables\\nfrom will_it_saturate.clients import (\\n    HttpxClient,\\n    AioHttpClient,\\n    WrkClient,\\n    BaseClient,\\n)\";\n",
       "                var nbb_cells = Jupyter.notebook.get_cells();\n",
       "                for (var i = 0; i < nbb_cells.length; ++i) {\n",
       "                    if (nbb_cells[i].input_prompt_number == nbb_cell_id) {\n",
       "                        if (nbb_cells[i].get_text() == nbb_unformatted_code) {\n",
       "                             nbb_cells[i].set_text(nbb_formatted_code);\n",
       "                        }\n",
       "                        break;\n",
       "                    }\n",
       "                }\n",
       "            }, 500);\n",
       "            "
      ],
      "text/plain": [
       "<IPython.core.display.Javascript object>"
      ]
     },
     "metadata": {},
     "output_type": "display_data"
    }
   ],
   "source": [
    "import httpx\n",
    "import pandas as pd\n",
    "\n",
    "from urllib.parse import urljoin\n",
    "\n",
    "from will_it_saturate.servers import (\n",
    "    FastAPIUvicornServer,\n",
    "    NginxDockerServer,\n",
    "    DjangoGunicornWSGIServer,\n",
    ")\n",
    "from will_it_saturate.epochs import Epoch\n",
    "from will_it_saturate.hosts import Host, HostDetails\n",
    "\n",
    "from will_it_saturate.results import Result\n",
    "from will_it_saturate.files import BenchmarkFile\n",
    "from will_it_saturate.control.client import ControlClient\n",
    "from will_it_saturate.repositories import SqliteRepository, register_default_tables\n",
    "from will_it_saturate.clients import (\n",
    "    HttpxClient,\n",
    "    AioHttpClient,\n",
    "    WrkClient,\n",
    "    BaseClient,\n",
    ")"
   ]
  },
  {
   "cell_type": "markdown",
   "id": "nutritional-mobility",
   "metadata": {},
   "source": [
    "# Remote Benchmark"
   ]
  },
  {
   "cell_type": "code",
   "execution_count": null,
   "id": "southeast-maker",
   "metadata": {},
   "outputs": [
    {
     "name": "stdout",
     "output_type": "stream",
     "text": [
      "protocol='http' name='fastAPI/uvicorn' host='localhost' port=8000\n",
      "[BenchmarkFile(number=0, base_path='10000000_3_125000000', size=10000000, data_root='data', hostname='localhost', port=8000, checksum='b4d1c4304bd32eb46cd8dfa65a45753d', creator_name='filesystem'), BenchmarkFile(number=1, base_path='10000000_3_125000000', size=10000000, data_root='data', hostname='localhost', port=8000, checksum='8b0c6d2a628bccd4af491f4a78d44123', creator_name='filesystem'), BenchmarkFile(number=2, base_path='10000000_3_125000000', size=10000000, data_root='data', hostname='localhost', port=8000, checksum='65ebdcd690b372939379e72bb4a1cbd2', creator_name='filesystem'), BenchmarkFile(number=3, base_path='10000000_3_125000000', size=10000000, data_root='data', hostname='localhost', port=8000, checksum='db69ed48f9243bb76d03ebe092d4dd29', creator_name='filesystem'), BenchmarkFile(number=4, base_path='10000000_3_125000000', size=10000000, data_root='data', hostname='localhost', port=8000, checksum='faea093a44b76657a143d4e242da39a9', creator_name='filesystem'), BenchmarkFile(number=5, base_path='10000000_3_125000000', size=10000000, data_root='data', hostname='localhost', port=8000, checksum='5b057ec42fa56300ac49d5f88a91f484', creator_name='filesystem'), BenchmarkFile(number=6, base_path='10000000_3_125000000', size=10000000, data_root='data', hostname='localhost', port=8000, checksum='c9ed00c46f0fca873f7e33ae0fbfd6df', creator_name='filesystem'), BenchmarkFile(number=7, base_path='10000000_3_125000000', size=10000000, data_root='data', hostname='localhost', port=8000, checksum='0f3050401f23a93ef5c1cf73568b84a9', creator_name='filesystem'), BenchmarkFile(number=8, base_path='10000000_3_125000000', size=10000000, data_root='data', hostname='localhost', port=8000, checksum='0531365c0b38c492911e1c7d6f5ceba5', creator_name='filesystem'), BenchmarkFile(number=9, base_path='10000000_3_125000000', size=10000000, data_root='data', hostname='localhost', port=8000, checksum='57507141c155fef4b375e73379510c40', creator_name='filesystem')]\n"
     ]
    },
    {
     "data": {
      "application/javascript": [
       "\n",
       "            setTimeout(function() {\n",
       "                var nbb_cell_id = 3;\n",
       "                var nbb_unformatted_code = \"# dont_test\\n\\n# create server control client + server (needed for turning files into urls)\\nserver_control_host = Host(name=\\\"localhost\\\", port=8001)\\nserver_control_client = ControlClient(host=server_control_host)\\nserver_details = server_control_client.get_host_details()\\nserver = server_control_client.get_or_create_server(FastAPIUvicornServer())\\nprint(server)\\n\\n# create files and urls\\nbyte, file_size, duration = 8, 10 ** 7, 3\\nepoch = Epoch(file_size=file_size, duration=duration)\\nfiles = server_control_client.get_or_create_files(epoch)\\nprint(files[:10])\\nepoch.urls = [server.file_to_url(file) for file in files]\\n\\n# create control client + measure server\\nclient_control_host = Host(name=\\\"localhost\\\", port=8001)\\nclient_control_client = ControlClient(host=client_control_host)\\nclient_details = client_control_client.get_host_details()\\nbenchmark_client = HttpxClient(name=\\\"httpx\\\")\\n\\nresult = Result(\\n    server=server,\\n    client=benchmark_client,\\n    server_details=server_details,\\n    client_details=client_details,\\n    file_size=epoch.file_size,\\n    complete_size=epoch.complete_size,\\n)\";\n",
       "                var nbb_formatted_code = \"# dont_test\\n\\n# create server control client + server (needed for turning files into urls)\\nserver_control_host = Host(name=\\\"localhost\\\", port=8001)\\nserver_control_client = ControlClient(host=server_control_host)\\nserver_details = server_control_client.get_host_details()\\nserver = server_control_client.get_or_create_server(FastAPIUvicornServer())\\nprint(server)\\n\\n# create files and urls\\nbyte, file_size, duration = 8, 10 ** 7, 3\\nepoch = Epoch(file_size=file_size, duration=duration)\\nfiles = server_control_client.get_or_create_files(epoch)\\nprint(files[:10])\\nepoch.urls = [server.file_to_url(file) for file in files]\\n\\n# create control client + measure server\\nclient_control_host = Host(name=\\\"localhost\\\", port=8001)\\nclient_control_client = ControlClient(host=client_control_host)\\nclient_details = client_control_client.get_host_details()\\nbenchmark_client = HttpxClient(name=\\\"httpx\\\")\\n\\nresult = Result(\\n    server=server,\\n    client=benchmark_client,\\n    server_details=server_details,\\n    client_details=client_details,\\n    file_size=epoch.file_size,\\n    complete_size=epoch.complete_size,\\n)\";\n",
       "                var nbb_cells = Jupyter.notebook.get_cells();\n",
       "                for (var i = 0; i < nbb_cells.length; ++i) {\n",
       "                    if (nbb_cells[i].input_prompt_number == nbb_cell_id) {\n",
       "                        if (nbb_cells[i].get_text() == nbb_unformatted_code) {\n",
       "                             nbb_cells[i].set_text(nbb_formatted_code);\n",
       "                        }\n",
       "                        break;\n",
       "                    }\n",
       "                }\n",
       "            }, 500);\n",
       "            "
      ],
      "text/plain": [
       "<IPython.core.display.Javascript object>"
      ]
     },
     "metadata": {},
     "output_type": "display_data"
    }
   ],
   "source": [
    "# dont_test\n",
    "\n",
    "# create server control client + server (needed for turning files into urls)\n",
    "server_control_host = Host(name=\"localhost\", port=8001)\n",
    "server_control_client = ControlClient(host=server_control_host)\n",
    "server_details = server_control_client.get_host_details()\n",
    "server = server_control_client.get_or_create_server(FastAPIUvicornServer())\n",
    "print(server)\n",
    "\n",
    "# create files and urls\n",
    "byte, file_size, duration = 8, 10 ** 7, 3\n",
    "epoch = Epoch(file_size=file_size, duration=duration)\n",
    "files = server_control_client.get_or_create_files(epoch)\n",
    "print(files[:10])\n",
    "epoch.urls = [server.file_to_url(file) for file in files]\n",
    "\n",
    "# create control client + measure server\n",
    "client_control_host = Host(name=\"localhost\", port=8001)\n",
    "client_control_client = ControlClient(host=client_control_host)\n",
    "client_details = client_control_client.get_host_details()\n",
    "benchmark_client = HttpxClient(name=\"httpx\")\n",
    "\n",
    "result = Result(\n",
    "    server=server,\n",
    "    client=benchmark_client,\n",
    "    server_details=server_details,\n",
    "    client_details=client_details,\n",
    "    file_size=epoch.file_size,\n",
    "    complete_size=epoch.complete_size,\n",
    ")"
   ]
  },
  {
   "cell_type": "code",
   "execution_count": null,
   "id": "promotional-pressure",
   "metadata": {},
   "outputs": [
    {
     "name": "stdout",
     "output_type": "stream",
     "text": [
      "3.2735622909999997\n"
     ]
    },
    {
     "data": {
      "application/javascript": [
       "\n",
       "            setTimeout(function() {\n",
       "                var nbb_cell_id = 4;\n",
       "                var nbb_unformatted_code = \"# dont_test\\n\\nresult.elapsed = client_control_client.measure(benchmark_client, epoch)\\nprint(result.elapsed)\\n\\n# result.elapsed = benchmark_client.measure(epoch)\";\n",
       "                var nbb_formatted_code = \"# dont_test\\n\\nresult.elapsed = client_control_client.measure(benchmark_client, epoch)\\nprint(result.elapsed)\\n\\n# result.elapsed = benchmark_client.measure(epoch)\";\n",
       "                var nbb_cells = Jupyter.notebook.get_cells();\n",
       "                for (var i = 0; i < nbb_cells.length; ++i) {\n",
       "                    if (nbb_cells[i].input_prompt_number == nbb_cell_id) {\n",
       "                        if (nbb_cells[i].get_text() == nbb_unformatted_code) {\n",
       "                             nbb_cells[i].set_text(nbb_formatted_code);\n",
       "                        }\n",
       "                        break;\n",
       "                    }\n",
       "                }\n",
       "            }, 500);\n",
       "            "
      ],
      "text/plain": [
       "<IPython.core.display.Javascript object>"
      ]
     },
     "metadata": {},
     "output_type": "display_data"
    }
   ],
   "source": [
    "# dont_test\n",
    "\n",
    "result.elapsed = client_control_client.measure(benchmark_client, epoch)\n",
    "print(result.elapsed)\n",
    "\n",
    "# result.elapsed = benchmark_client.measure(epoch)"
   ]
  },
  {
   "cell_type": "code",
   "execution_count": null,
   "id": "simple-walter",
   "metadata": {},
   "outputs": [
    {
     "data": {
      "text/plain": [
       "114554105.4865481"
      ]
     },
     "execution_count": null,
     "metadata": {},
     "output_type": "execute_result"
    },
    {
     "data": {
      "application/javascript": [
       "\n",
       "            setTimeout(function() {\n",
       "                var nbb_cell_id = 5;\n",
       "                var nbb_unformatted_code = \"# dont_test\\n\\nresult.bytes_per_second\";\n",
       "                var nbb_formatted_code = \"# dont_test\\n\\nresult.bytes_per_second\";\n",
       "                var nbb_cells = Jupyter.notebook.get_cells();\n",
       "                for (var i = 0; i < nbb_cells.length; ++i) {\n",
       "                    if (nbb_cells[i].input_prompt_number == nbb_cell_id) {\n",
       "                        if (nbb_cells[i].get_text() == nbb_unformatted_code) {\n",
       "                             nbb_cells[i].set_text(nbb_formatted_code);\n",
       "                        }\n",
       "                        break;\n",
       "                    }\n",
       "                }\n",
       "            }, 500);\n",
       "            "
      ],
      "text/plain": [
       "<IPython.core.display.Javascript object>"
      ]
     },
     "metadata": {},
     "output_type": "display_data"
    }
   ],
   "source": [
    "# dont_test\n",
    "\n",
    "result.bytes_per_second"
   ]
  },
  {
   "cell_type": "code",
   "execution_count": null,
   "id": "93176452",
   "metadata": {},
   "outputs": [
    {
     "data": {
      "application/javascript": [
       "\n",
       "            setTimeout(function() {\n",
       "                var nbb_cell_id = 6;\n",
       "                var nbb_unformatted_code = \"# dont_test\\n\\nrepository = SqliteRepository.build_repository(\\\"test.db\\\")\\nregister_default_tables(repository)\\nresults = repository.tables[\\\"result\\\"]\";\n",
       "                var nbb_formatted_code = \"# dont_test\\n\\nrepository = SqliteRepository.build_repository(\\\"test.db\\\")\\nregister_default_tables(repository)\\nresults = repository.tables[\\\"result\\\"]\";\n",
       "                var nbb_cells = Jupyter.notebook.get_cells();\n",
       "                for (var i = 0; i < nbb_cells.length; ++i) {\n",
       "                    if (nbb_cells[i].input_prompt_number == nbb_cell_id) {\n",
       "                        if (nbb_cells[i].get_text() == nbb_unformatted_code) {\n",
       "                             nbb_cells[i].set_text(nbb_formatted_code);\n",
       "                        }\n",
       "                        break;\n",
       "                    }\n",
       "                }\n",
       "            }, 500);\n",
       "            "
      ],
      "text/plain": [
       "<IPython.core.display.Javascript object>"
      ]
     },
     "metadata": {},
     "output_type": "display_data"
    }
   ],
   "source": [
    "# dont_test\n",
    "\n",
    "repository = SqliteRepository.build_repository(\"test.db\")\n",
    "register_default_tables(repository)\n",
    "results = repository.tables[\"result\"]"
   ]
  },
  {
   "cell_type": "code",
   "execution_count": null,
   "id": "180dc2fb",
   "metadata": {},
   "outputs": [
    {
     "name": "stdout",
     "output_type": "stream",
     "text": [
      "2\n"
     ]
    },
    {
     "data": {
      "application/javascript": [
       "\n",
       "            setTimeout(function() {\n",
       "                var nbb_cell_id = 7;\n",
       "                var nbb_unformatted_code = \"# dont_test\\n\\nresult_id = results.add_result(result)\\nprint(result_id)\";\n",
       "                var nbb_formatted_code = \"# dont_test\\n\\nresult_id = results.add_result(result)\\nprint(result_id)\";\n",
       "                var nbb_cells = Jupyter.notebook.get_cells();\n",
       "                for (var i = 0; i < nbb_cells.length; ++i) {\n",
       "                    if (nbb_cells[i].input_prompt_number == nbb_cell_id) {\n",
       "                        if (nbb_cells[i].get_text() == nbb_unformatted_code) {\n",
       "                             nbb_cells[i].set_text(nbb_formatted_code);\n",
       "                        }\n",
       "                        break;\n",
       "                    }\n",
       "                }\n",
       "            }, 500);\n",
       "            "
      ],
      "text/plain": [
       "<IPython.core.display.Javascript object>"
      ]
     },
     "metadata": {},
     "output_type": "display_data"
    }
   ],
   "source": [
    "# dont_test\n",
    "\n",
    "result_id = results.add_result(result)\n",
    "print(result_id)"
   ]
  },
  {
   "cell_type": "code",
   "execution_count": null,
   "id": "4fe8f279",
   "metadata": {},
   "outputs": [
    {
     "data": {
      "text/plain": [
       "[Result(server=FastAPIUvicornServer(protocol='http', name='fastAPI/uvicorn', host='localhost', port=8000), client=HttpxClient(name='httpx'), server_details=HostDetails(machine_id='C02DR0MZQ6LT', cpuinfo={'python_version': '3.9.4.final.0 (64 bit)', 'cpuinfo_version': [7, 0, 0], 'cpuinfo_version_string': '7.0.0', 'arch': 'X86_64', 'bits': 64, 'count': 8, 'arch_string_raw': 'x86_64', 'vendor_id_raw': 'GenuineIntel', 'brand_raw': 'VirtualApple @ 2.50GHz', 'hz_advertised_friendly': '2.5000 GHz', 'hz_actual_friendly': '1.0013 GHz', 'hz_advertised': [2500000000, 0], 'hz_actual': [1001258125, 0], 'l2_cache_size': 65536, 'l2_cache_line_size': 8192, 'l2_cache_associativity': 8, 'model': 44, 'family': 6, 'flags': ['aes', 'apic', 'clflush', 'cmov', 'cx16', 'cx8', 'de', 'dtes64', 'fpu', 'fxsr', 'lahf_lm', 'mmx', 'monitor', 'pat', 'pclmulqdq', 'pni', 'popcnt', 'pse36', 'sep', 'ss', 'sse', 'sse2', 'sse4_1', 'sse4_2', 'ssse3', 'tsc']}), client_details=HostDetails(machine_id='C02DR0MZQ6LT', cpuinfo={'python_version': '3.9.4.final.0 (64 bit)', 'cpuinfo_version': [7, 0, 0], 'cpuinfo_version_string': '7.0.0', 'arch': 'X86_64', 'bits': 64, 'count': 8, 'arch_string_raw': 'x86_64', 'vendor_id_raw': 'GenuineIntel', 'brand_raw': 'VirtualApple @ 2.50GHz', 'hz_advertised_friendly': '2.5000 GHz', 'hz_actual_friendly': '1.0013 GHz', 'hz_advertised': [2500000000, 0], 'hz_actual': [1001258125, 0], 'l2_cache_size': 65536, 'l2_cache_line_size': 8192, 'l2_cache_associativity': 8, 'model': 44, 'family': 6, 'flags': ['aes', 'apic', 'clflush', 'cmov', 'cx16', 'cx8', 'de', 'dtes64', 'fpu', 'fxsr', 'lahf_lm', 'mmx', 'monitor', 'pat', 'pclmulqdq', 'pni', 'popcnt', 'pse36', 'sep', 'ss', 'sse', 'sse2', 'sse4_1', 'sse4_2', 'ssse3', 'tsc']}), file_size=10000000, elapsed=3.253347042, complete_size=375000000),\n",
       " Result(server=FastAPIUvicornServer(protocol='http', name='fastAPI/uvicorn', host='localhost', port=8000), client=HttpxClient(name='httpx'), server_details=HostDetails(machine_id='C02DR0MZQ6LT', cpuinfo={'python_version': '3.9.4.final.0 (64 bit)', 'cpuinfo_version': [7, 0, 0], 'cpuinfo_version_string': '7.0.0', 'arch': 'X86_64', 'bits': 64, 'count': 8, 'arch_string_raw': 'x86_64', 'vendor_id_raw': 'GenuineIntel', 'brand_raw': 'VirtualApple @ 2.50GHz', 'hz_advertised_friendly': '2.5000 GHz', 'hz_actual_friendly': '1.0013 GHz', 'hz_advertised': [2500000000, 0], 'hz_actual': [1001258125, 0], 'l2_cache_size': 65536, 'l2_cache_line_size': 8192, 'l2_cache_associativity': 8, 'model': 44, 'family': 6, 'flags': ['aes', 'apic', 'clflush', 'cmov', 'cx16', 'cx8', 'de', 'dtes64', 'fpu', 'fxsr', 'lahf_lm', 'mmx', 'monitor', 'pat', 'pclmulqdq', 'pni', 'popcnt', 'pse36', 'sep', 'ss', 'sse', 'sse2', 'sse4_1', 'sse4_2', 'ssse3', 'tsc']}), client_details=HostDetails(machine_id='C02DR0MZQ6LT', cpuinfo={'python_version': '3.9.4.final.0 (64 bit)', 'cpuinfo_version': [7, 0, 0], 'cpuinfo_version_string': '7.0.0', 'arch': 'X86_64', 'bits': 64, 'count': 8, 'arch_string_raw': 'x86_64', 'vendor_id_raw': 'GenuineIntel', 'brand_raw': 'VirtualApple @ 2.50GHz', 'hz_advertised_friendly': '2.5000 GHz', 'hz_actual_friendly': '1.0013 GHz', 'hz_advertised': [2500000000, 0], 'hz_actual': [1001258125, 0], 'l2_cache_size': 65536, 'l2_cache_line_size': 8192, 'l2_cache_associativity': 8, 'model': 44, 'family': 6, 'flags': ['aes', 'apic', 'clflush', 'cmov', 'cx16', 'cx8', 'de', 'dtes64', 'fpu', 'fxsr', 'lahf_lm', 'mmx', 'monitor', 'pat', 'pclmulqdq', 'pni', 'popcnt', 'pse36', 'sep', 'ss', 'sse', 'sse2', 'sse4_1', 'sse4_2', 'ssse3', 'tsc']}), file_size=10000000, elapsed=3.2735622909999997, complete_size=375000000)]"
      ]
     },
     "execution_count": null,
     "metadata": {},
     "output_type": "execute_result"
    },
    {
     "data": {
      "application/javascript": [
       "\n",
       "            setTimeout(function() {\n",
       "                var nbb_cell_id = 8;\n",
       "                var nbb_unformatted_code = \"# dont_test\\n\\nresults.get_results()\";\n",
       "                var nbb_formatted_code = \"# dont_test\\n\\nresults.get_results()\";\n",
       "                var nbb_cells = Jupyter.notebook.get_cells();\n",
       "                for (var i = 0; i < nbb_cells.length; ++i) {\n",
       "                    if (nbb_cells[i].input_prompt_number == nbb_cell_id) {\n",
       "                        if (nbb_cells[i].get_text() == nbb_unformatted_code) {\n",
       "                             nbb_cells[i].set_text(nbb_formatted_code);\n",
       "                        }\n",
       "                        break;\n",
       "                    }\n",
       "                }\n",
       "            }, 500);\n",
       "            "
      ],
      "text/plain": [
       "<IPython.core.display.Javascript object>"
      ]
     },
     "metadata": {},
     "output_type": "display_data"
    }
   ],
   "source": [
    "# dont_test\n",
    "\n",
    "results.get_results()"
   ]
  },
  {
   "cell_type": "code",
   "execution_count": null,
   "id": "a0ed594a",
   "metadata": {},
   "outputs": [
    {
     "data": {
      "text/html": [
       "<div>\n",
       "<style scoped>\n",
       "    .dataframe tbody tr th:only-of-type {\n",
       "        vertical-align: middle;\n",
       "    }\n",
       "\n",
       "    .dataframe tbody tr th {\n",
       "        vertical-align: top;\n",
       "    }\n",
       "\n",
       "    .dataframe thead th {\n",
       "        text-align: right;\n",
       "    }\n",
       "</style>\n",
       "<table border=\"1\" class=\"dataframe\">\n",
       "  <thead>\n",
       "    <tr style=\"text-align: right;\">\n",
       "      <th></th>\n",
       "      <th>server</th>\n",
       "      <th>client</th>\n",
       "      <th>server_details</th>\n",
       "      <th>client_details</th>\n",
       "      <th>file_size</th>\n",
       "      <th>elapsed</th>\n",
       "      <th>complete_size</th>\n",
       "      <th>file_size_h</th>\n",
       "      <th>bytes_per_second</th>\n",
       "      <th>bytes_per_second_h</th>\n",
       "    </tr>\n",
       "  </thead>\n",
       "  <tbody>\n",
       "    <tr>\n",
       "      <th>0</th>\n",
       "      <td>{'protocol': 'http', 'name': 'fastAPI/uvicorn'...</td>\n",
       "      <td>{'name': 'httpx'}</td>\n",
       "      <td>{'machine_id': 'C02DR0MZQ6LT', 'cpuinfo': {'py...</td>\n",
       "      <td>{'machine_id': 'C02DR0MZQ6LT', 'cpuinfo': {'py...</td>\n",
       "      <td>10000000</td>\n",
       "      <td>3.253347</td>\n",
       "      <td>375000000</td>\n",
       "      <td>9.54MB</td>\n",
       "      <td>1.152659e+08</td>\n",
       "      <td>109.93MB</td>\n",
       "    </tr>\n",
       "    <tr>\n",
       "      <th>1</th>\n",
       "      <td>{'protocol': 'http', 'name': 'fastAPI/uvicorn'...</td>\n",
       "      <td>{'name': 'httpx'}</td>\n",
       "      <td>{'machine_id': 'C02DR0MZQ6LT', 'cpuinfo': {'py...</td>\n",
       "      <td>{'machine_id': 'C02DR0MZQ6LT', 'cpuinfo': {'py...</td>\n",
       "      <td>10000000</td>\n",
       "      <td>3.273562</td>\n",
       "      <td>375000000</td>\n",
       "      <td>9.54MB</td>\n",
       "      <td>1.145541e+08</td>\n",
       "      <td>109.25MB</td>\n",
       "    </tr>\n",
       "  </tbody>\n",
       "</table>\n",
       "</div>"
      ],
      "text/plain": [
       "                                              server             client  \\\n",
       "0  {'protocol': 'http', 'name': 'fastAPI/uvicorn'...  {'name': 'httpx'}   \n",
       "1  {'protocol': 'http', 'name': 'fastAPI/uvicorn'...  {'name': 'httpx'}   \n",
       "\n",
       "                                      server_details  \\\n",
       "0  {'machine_id': 'C02DR0MZQ6LT', 'cpuinfo': {'py...   \n",
       "1  {'machine_id': 'C02DR0MZQ6LT', 'cpuinfo': {'py...   \n",
       "\n",
       "                                      client_details  file_size   elapsed  \\\n",
       "0  {'machine_id': 'C02DR0MZQ6LT', 'cpuinfo': {'py...   10000000  3.253347   \n",
       "1  {'machine_id': 'C02DR0MZQ6LT', 'cpuinfo': {'py...   10000000  3.273562   \n",
       "\n",
       "   complete_size file_size_h  bytes_per_second bytes_per_second_h  \n",
       "0      375000000      9.54MB      1.152659e+08           109.93MB  \n",
       "1      375000000      9.54MB      1.145541e+08           109.25MB  "
      ]
     },
     "execution_count": null,
     "metadata": {},
     "output_type": "execute_result"
    },
    {
     "data": {
      "application/javascript": [
       "\n",
       "            setTimeout(function() {\n",
       "                var nbb_cell_id = 9;\n",
       "                var nbb_unformatted_code = \"# dont_test\\n\\npd.DataFrame([r.dict_with_properties() for r in results.get_results()])\";\n",
       "                var nbb_formatted_code = \"# dont_test\\n\\npd.DataFrame([r.dict_with_properties() for r in results.get_results()])\";\n",
       "                var nbb_cells = Jupyter.notebook.get_cells();\n",
       "                for (var i = 0; i < nbb_cells.length; ++i) {\n",
       "                    if (nbb_cells[i].input_prompt_number == nbb_cell_id) {\n",
       "                        if (nbb_cells[i].get_text() == nbb_unformatted_code) {\n",
       "                             nbb_cells[i].set_text(nbb_formatted_code);\n",
       "                        }\n",
       "                        break;\n",
       "                    }\n",
       "                }\n",
       "            }, 500);\n",
       "            "
      ],
      "text/plain": [
       "<IPython.core.display.Javascript object>"
      ]
     },
     "metadata": {},
     "output_type": "display_data"
    }
   ],
   "source": [
    "# dont_test\n",
    "\n",
    "pd.DataFrame([r.dict_with_properties() for r in results.get_results()])"
   ]
  },
  {
   "cell_type": "code",
   "execution_count": null,
   "id": "bd40ec3c",
   "metadata": {},
   "outputs": [
    {
     "data": {
      "text/html": [
       "<div>\n",
       "<style scoped>\n",
       "    .dataframe tbody tr th:only-of-type {\n",
       "        vertical-align: middle;\n",
       "    }\n",
       "\n",
       "    .dataframe tbody tr th {\n",
       "        vertical-align: top;\n",
       "    }\n",
       "\n",
       "    .dataframe thead th {\n",
       "        text-align: right;\n",
       "    }\n",
       "</style>\n",
       "<table border=\"1\" class=\"dataframe\">\n",
       "  <thead>\n",
       "    <tr style=\"text-align: right;\">\n",
       "      <th></th>\n",
       "      <th>server</th>\n",
       "      <th>client</th>\n",
       "      <th>server_host</th>\n",
       "      <th>client_host</th>\n",
       "      <th>elapsed</th>\n",
       "      <th>file_size</th>\n",
       "      <th>file_size_h</th>\n",
       "      <th>complete_size</th>\n",
       "      <th>bytes_per_second</th>\n",
       "      <th>bytes_per_second_h</th>\n",
       "    </tr>\n",
       "  </thead>\n",
       "  <tbody>\n",
       "    <tr>\n",
       "      <th>0</th>\n",
       "      <td>fastAPI/uvicorn</td>\n",
       "      <td>httpx</td>\n",
       "      <td>C02DR0MZQ6LT</td>\n",
       "      <td>C02DR0MZQ6LT</td>\n",
       "      <td>3.253347</td>\n",
       "      <td>10000000</td>\n",
       "      <td>9.54MB</td>\n",
       "      <td>375000000</td>\n",
       "      <td>1.152659e+08</td>\n",
       "      <td>109.93MB</td>\n",
       "    </tr>\n",
       "    <tr>\n",
       "      <th>1</th>\n",
       "      <td>fastAPI/uvicorn</td>\n",
       "      <td>httpx</td>\n",
       "      <td>C02DR0MZQ6LT</td>\n",
       "      <td>C02DR0MZQ6LT</td>\n",
       "      <td>3.273562</td>\n",
       "      <td>10000000</td>\n",
       "      <td>9.54MB</td>\n",
       "      <td>375000000</td>\n",
       "      <td>1.145541e+08</td>\n",
       "      <td>109.25MB</td>\n",
       "    </tr>\n",
       "  </tbody>\n",
       "</table>\n",
       "</div>"
      ],
      "text/plain": [
       "            server client   server_host   client_host   elapsed  file_size  \\\n",
       "0  fastAPI/uvicorn  httpx  C02DR0MZQ6LT  C02DR0MZQ6LT  3.253347   10000000   \n",
       "1  fastAPI/uvicorn  httpx  C02DR0MZQ6LT  C02DR0MZQ6LT  3.273562   10000000   \n",
       "\n",
       "  file_size_h  complete_size  bytes_per_second bytes_per_second_h  \n",
       "0      9.54MB      375000000      1.152659e+08           109.93MB  \n",
       "1      9.54MB      375000000      1.145541e+08           109.25MB  "
      ]
     },
     "execution_count": null,
     "metadata": {},
     "output_type": "execute_result"
    },
    {
     "data": {
      "application/javascript": [
       "\n",
       "            setTimeout(function() {\n",
       "                var nbb_cell_id = 10;\n",
       "                var nbb_unformatted_code = \"# dont_test\\n\\npd.DataFrame([r.dict_for_pandas() for r in results.get_results()])\";\n",
       "                var nbb_formatted_code = \"# dont_test\\n\\npd.DataFrame([r.dict_for_pandas() for r in results.get_results()])\";\n",
       "                var nbb_cells = Jupyter.notebook.get_cells();\n",
       "                for (var i = 0; i < nbb_cells.length; ++i) {\n",
       "                    if (nbb_cells[i].input_prompt_number == nbb_cell_id) {\n",
       "                        if (nbb_cells[i].get_text() == nbb_unformatted_code) {\n",
       "                             nbb_cells[i].set_text(nbb_formatted_code);\n",
       "                        }\n",
       "                        break;\n",
       "                    }\n",
       "                }\n",
       "            }, 500);\n",
       "            "
      ],
      "text/plain": [
       "<IPython.core.display.Javascript object>"
      ]
     },
     "metadata": {},
     "output_type": "display_data"
    }
   ],
   "source": [
    "# dont_test\n",
    "\n",
    "pd.DataFrame([r.dict_for_pandas() for r in results.get_results()])"
   ]
  },
  {
   "cell_type": "code",
   "execution_count": null,
   "id": "f85484ee",
   "metadata": {},
   "outputs": [
    {
     "data": {
      "application/javascript": [
       "\n",
       "            setTimeout(function() {\n",
       "                var nbb_cell_id = 8;\n",
       "                var nbb_unformatted_code = \"repo = SqliteRepository.build_repository(\\\"foobar.sqlite\\\")\";\n",
       "                var nbb_formatted_code = \"repo = SqliteRepository.build_repository(\\\"foobar.sqlite\\\")\";\n",
       "                var nbb_cells = Jupyter.notebook.get_cells();\n",
       "                for (var i = 0; i < nbb_cells.length; ++i) {\n",
       "                    if (nbb_cells[i].input_prompt_number == nbb_cell_id) {\n",
       "                        if (nbb_cells[i].get_text() == nbb_unformatted_code) {\n",
       "                             nbb_cells[i].set_text(nbb_formatted_code);\n",
       "                        }\n",
       "                        break;\n",
       "                    }\n",
       "                }\n",
       "            }, 500);\n",
       "            "
      ],
      "text/plain": [
       "<IPython.core.display.Javascript object>"
      ]
     },
     "metadata": {},
     "output_type": "display_data"
    }
   ],
   "source": [
    "# dont_test\n",
    "\n",
    "\n",
    "repo = SqliteRepository.build_repository(\"foobar.sqlite\")"
   ]
  },
  {
   "cell_type": "code",
   "execution_count": null,
   "id": "touched-world",
   "metadata": {},
   "outputs": [],
   "source": [
    "def run_epoch(server, client, epoch):\n",
    "    control_base = \"http://localhost:8001/\"\n",
    "    control_epochs = urljoin(control_base, \"epochs/\")\n",
    "    r = httpx.post(control_epochs, json=epoch.dict())\n",
    "\n",
    "    for bfile in r.json()[\"files\"]:\n",
    "        kwargs = {k: v for k, v in bfile.items() if k != \"creator\"}\n",
    "        epoch.files.append(BenchmarkFile(**kwargs))\n",
    "\n",
    "    control_servers = urljoin(control_base, \"servers/\")\n",
    "    r = httpx.post(control_servers, json=server.dict())\n",
    "    server = server.__class__(**r.json())\n",
    "\n",
    "    epoch.urls = [server.file_to_url(file) for file in epoch.files]\n",
    "\n",
    "    result = Result(\n",
    "        server=server.name,\n",
    "        client=client.name,\n",
    "        file_size=epoch.file_size,\n",
    "        complete_size=epoch.complete_size,\n",
    "    )\n",
    "\n",
    "    result.elapsed = client.measure(epoch)\n",
    "    return result"
   ]
  },
  {
   "cell_type": "code",
   "execution_count": null,
   "id": "innovative-incidence",
   "metadata": {},
   "outputs": [
    {
     "data": {
      "application/javascript": [
       "\n",
       "            setTimeout(function() {\n",
       "                var nbb_cell_id = 9;\n",
       "                var nbb_unformatted_code = \"# dont_test\\n\\nbyte, file_size, duration = 8, 10 ** 7, 3\\nepoch = Epoch(file_size=file_size, duration=duration)\";\n",
       "                var nbb_formatted_code = \"# dont_test\\n\\nbyte, file_size, duration = 8, 10 ** 7, 3\\nepoch = Epoch(file_size=file_size, duration=duration)\";\n",
       "                var nbb_cells = Jupyter.notebook.get_cells();\n",
       "                for (var i = 0; i < nbb_cells.length; ++i) {\n",
       "                    if (nbb_cells[i].input_prompt_number == nbb_cell_id) {\n",
       "                        if (nbb_cells[i].get_text() == nbb_unformatted_code) {\n",
       "                             nbb_cells[i].set_text(nbb_formatted_code);\n",
       "                        }\n",
       "                        break;\n",
       "                    }\n",
       "                }\n",
       "            }, 500);\n",
       "            "
      ],
      "text/plain": [
       "<IPython.core.display.Javascript object>"
      ]
     },
     "metadata": {},
     "output_type": "display_data"
    }
   ],
   "source": [
    "# dont_test\n",
    "\n",
    "byte, file_size, duration = 8, 10 ** 7, 3\n",
    "epoch = Epoch(file_size=file_size, duration=duration)"
   ]
  },
  {
   "cell_type": "code",
   "execution_count": null,
   "id": "exact-design",
   "metadata": {},
   "outputs": [
    {
     "data": {
      "application/javascript": [
       "\n",
       "            setTimeout(function() {\n",
       "                var nbb_cell_id = 10;\n",
       "                var nbb_unformatted_code = \"# dont_test\\n\\nserver = FastAPIUvicornServer()\\nclient = HttpxClient(name=\\\"httpx\\\")\";\n",
       "                var nbb_formatted_code = \"# dont_test\\n\\nserver = FastAPIUvicornServer()\\nclient = HttpxClient(name=\\\"httpx\\\")\";\n",
       "                var nbb_cells = Jupyter.notebook.get_cells();\n",
       "                for (var i = 0; i < nbb_cells.length; ++i) {\n",
       "                    if (nbb_cells[i].input_prompt_number == nbb_cell_id) {\n",
       "                        if (nbb_cells[i].get_text() == nbb_unformatted_code) {\n",
       "                             nbb_cells[i].set_text(nbb_formatted_code);\n",
       "                        }\n",
       "                        break;\n",
       "                    }\n",
       "                }\n",
       "            }, 500);\n",
       "            "
      ],
      "text/plain": [
       "<IPython.core.display.Javascript object>"
      ]
     },
     "metadata": {},
     "output_type": "display_data"
    }
   ],
   "source": [
    "# dont_test\n",
    "\n",
    "server = FastAPIUvicornServer()\n",
    "client = HttpxClient(name=\"httpx\")"
   ]
  },
  {
   "cell_type": "code",
   "execution_count": null,
   "id": "alert-effects",
   "metadata": {},
   "outputs": [
    {
     "name": "stdout",
     "output_type": "stream",
     "text": [
      "measure\n"
     ]
    },
    {
     "data": {
      "application/javascript": [
       "\n",
       "            setTimeout(function() {\n",
       "                var nbb_cell_id = 11;\n",
       "                var nbb_unformatted_code = \"# dont_test\\n\\nresult = run_epoch(server, client, epoch)\";\n",
       "                var nbb_formatted_code = \"# dont_test\\n\\nresult = run_epoch(server, client, epoch)\";\n",
       "                var nbb_cells = Jupyter.notebook.get_cells();\n",
       "                for (var i = 0; i < nbb_cells.length; ++i) {\n",
       "                    if (nbb_cells[i].input_prompt_number == nbb_cell_id) {\n",
       "                        if (nbb_cells[i].get_text() == nbb_unformatted_code) {\n",
       "                             nbb_cells[i].set_text(nbb_formatted_code);\n",
       "                        }\n",
       "                        break;\n",
       "                    }\n",
       "                }\n",
       "            }, 500);\n",
       "            "
      ],
      "text/plain": [
       "<IPython.core.display.Javascript object>"
      ]
     },
     "metadata": {},
     "output_type": "display_data"
    }
   ],
   "source": [
    "# dont_test\n",
    "\n",
    "result = run_epoch(server, client, epoch)"
   ]
  },
  {
   "cell_type": "code",
   "execution_count": null,
   "id": "medium-paris",
   "metadata": {},
   "outputs": [
    {
     "data": {
      "text/plain": [
       "52162649.75030322"
      ]
     },
     "execution_count": null,
     "metadata": {},
     "output_type": "execute_result"
    },
    {
     "data": {
      "application/javascript": [
       "\n",
       "            setTimeout(function() {\n",
       "                var nbb_cell_id = 12;\n",
       "                var nbb_unformatted_code = \"# dont_test\\n\\nresult.bytes_per_second\";\n",
       "                var nbb_formatted_code = \"# dont_test\\n\\nresult.bytes_per_second\";\n",
       "                var nbb_cells = Jupyter.notebook.get_cells();\n",
       "                for (var i = 0; i < nbb_cells.length; ++i) {\n",
       "                    if (nbb_cells[i].input_prompt_number == nbb_cell_id) {\n",
       "                        if (nbb_cells[i].get_text() == nbb_unformatted_code) {\n",
       "                             nbb_cells[i].set_text(nbb_formatted_code);\n",
       "                        }\n",
       "                        break;\n",
       "                    }\n",
       "                }\n",
       "            }, 500);\n",
       "            "
      ],
      "text/plain": [
       "<IPython.core.display.Javascript object>"
      ]
     },
     "metadata": {},
     "output_type": "display_data"
    }
   ],
   "source": [
    "# dont_test\n",
    "\n",
    "result.bytes_per_second"
   ]
  },
  {
   "cell_type": "code",
   "execution_count": null,
   "id": "pleased-student",
   "metadata": {},
   "outputs": [
    {
     "name": "stdout",
     "output_type": "stream",
     "text": [
      "measure\n"
     ]
    },
    {
     "data": {
      "text/plain": [
       "Result(server='fastAPI/uvicorn', client='httpx', file_size=10000000, elapsed=6.916868163999999, complete_size=375000000)"
      ]
     },
     "execution_count": null,
     "metadata": {},
     "output_type": "execute_result"
    },
    {
     "data": {
      "application/javascript": [
       "\n",
       "            setTimeout(function() {\n",
       "                var nbb_cell_id = 15;\n",
       "                var nbb_unformatted_code = \"# dont_test\\n\\nbyte = 8\\ngigabit = 10 ** 9\\nbandwidth = gigabit / byte\\nduration = 3\\nfile_size = 10 ** 7\\n\\nepoch = Epoch(file_size=file_size, duration=duration)\\n\\ncontrol_base = \\\"http://localhost:8001/\\\"\\ncontrol_epochs = urljoin(control_base, \\\"epochs/\\\")\\n\\nr = httpx.post(control_epochs, json=epoch.dict())\\n\\nfor bfile in r.json()[\\\"files\\\"]:\\n    kwargs = {k: v for k, v in bfile.items() if k != \\\"creator\\\"}\\n    epoch.files.append(BenchmarkFile(**kwargs))\\n\\n\\nserver = FastAPIUvicornServer()\\ncontrol_servers = urljoin(control_base, \\\"servers/\\\")\\nr = httpx.post(control_servers, json=server.dict())\\nserver = FastAPIUvicornServer(**r.json())\\n\\nepoch.urls = [server.file_to_url(file) for file in epoch.files]\\n\\nclient = HttpxClient(name=\\\"httpx\\\")\\n\\n\\nresult = Result(\\n    server=server.name,\\n    client=client.name,\\n    file_size=epoch.file_size,\\n    complete_size=epoch.complete_size,\\n)\\n\\nresult.elapsed = client.measure(epoch)\\nresult\";\n",
       "                var nbb_formatted_code = \"# dont_test\\n\\nbyte = 8\\ngigabit = 10 ** 9\\nbandwidth = gigabit / byte\\nduration = 3\\nfile_size = 10 ** 7\\n\\nepoch = Epoch(file_size=file_size, duration=duration)\\n\\ncontrol_base = \\\"http://localhost:8001/\\\"\\ncontrol_epochs = urljoin(control_base, \\\"epochs/\\\")\\n\\nr = httpx.post(control_epochs, json=epoch.dict())\\n\\nfor bfile in r.json()[\\\"files\\\"]:\\n    kwargs = {k: v for k, v in bfile.items() if k != \\\"creator\\\"}\\n    epoch.files.append(BenchmarkFile(**kwargs))\\n\\n\\nserver = FastAPIUvicornServer()\\ncontrol_servers = urljoin(control_base, \\\"servers/\\\")\\nr = httpx.post(control_servers, json=server.dict())\\nserver = FastAPIUvicornServer(**r.json())\\n\\nepoch.urls = [server.file_to_url(file) for file in epoch.files]\\n\\nclient = HttpxClient(name=\\\"httpx\\\")\\n\\n\\nresult = Result(\\n    server=server.name,\\n    client=client.name,\\n    file_size=epoch.file_size,\\n    complete_size=epoch.complete_size,\\n)\\n\\nresult.elapsed = client.measure(epoch)\\nresult\";\n",
       "                var nbb_cells = Jupyter.notebook.get_cells();\n",
       "                for (var i = 0; i < nbb_cells.length; ++i) {\n",
       "                    if (nbb_cells[i].input_prompt_number == nbb_cell_id) {\n",
       "                        if (nbb_cells[i].get_text() == nbb_unformatted_code) {\n",
       "                             nbb_cells[i].set_text(nbb_formatted_code);\n",
       "                        }\n",
       "                        break;\n",
       "                    }\n",
       "                }\n",
       "            }, 500);\n",
       "            "
      ],
      "text/plain": [
       "<IPython.core.display.Javascript object>"
      ]
     },
     "metadata": {},
     "output_type": "display_data"
    }
   ],
   "source": [
    "# dont_test\n",
    "\n",
    "byte = 8\n",
    "gigabit = 10 ** 9\n",
    "bandwidth = gigabit / byte\n",
    "duration = 3\n",
    "file_size = 10 ** 7\n",
    "\n",
    "epoch = Epoch(file_size=file_size, duration=duration)\n",
    "\n",
    "control_base = \"http://localhost:8001/\"\n",
    "control_epochs = urljoin(control_base, \"epochs/\")\n",
    "\n",
    "r = httpx.post(control_epochs, json=epoch.dict())\n",
    "\n",
    "for bfile in r.json()[\"files\"]:\n",
    "    kwargs = {k: v for k, v in bfile.items() if k != \"creator\"}\n",
    "    epoch.files.append(BenchmarkFile(**kwargs))\n",
    "\n",
    "\n",
    "server = FastAPIUvicornServer()\n",
    "control_servers = urljoin(control_base, \"servers/\")\n",
    "r = httpx.post(control_servers, json=server.dict())\n",
    "server = FastAPIUvicornServer(**r.json())\n",
    "\n",
    "epoch.urls = [server.file_to_url(file) for file in epoch.files]\n",
    "\n",
    "client = HttpxClient(name=\"httpx\")\n",
    "\n",
    "\n",
    "result = Result(\n",
    "    server=server.name,\n",
    "    client=client.name,\n",
    "    file_size=epoch.file_size,\n",
    "    complete_size=epoch.complete_size,\n",
    ")\n",
    "\n",
    "result.elapsed = client.measure(epoch)\n",
    "result"
   ]
  },
  {
   "cell_type": "code",
   "execution_count": null,
   "id": "twelve-jonathan",
   "metadata": {},
   "outputs": [
    {
     "data": {
      "text/plain": [
       "54215288.06226934"
      ]
     },
     "execution_count": null,
     "metadata": {},
     "output_type": "execute_result"
    },
    {
     "data": {
      "application/javascript": [
       "\n",
       "            setTimeout(function() {\n",
       "                var nbb_cell_id = 16;\n",
       "                var nbb_unformatted_code = \"# dont_test\\n\\nresult.bytes_per_second\";\n",
       "                var nbb_formatted_code = \"# dont_test\\n\\nresult.bytes_per_second\";\n",
       "                var nbb_cells = Jupyter.notebook.get_cells();\n",
       "                for (var i = 0; i < nbb_cells.length; ++i) {\n",
       "                    if (nbb_cells[i].input_prompt_number == nbb_cell_id) {\n",
       "                        if (nbb_cells[i].get_text() == nbb_unformatted_code) {\n",
       "                             nbb_cells[i].set_text(nbb_formatted_code);\n",
       "                        }\n",
       "                        break;\n",
       "                    }\n",
       "                }\n",
       "            }, 500);\n",
       "            "
      ],
      "text/plain": [
       "<IPython.core.display.Javascript object>"
      ]
     },
     "metadata": {},
     "output_type": "display_data"
    }
   ],
   "source": [
    "# dont_test\n",
    "\n",
    "result.bytes_per_second"
   ]
  },
  {
   "cell_type": "markdown",
   "id": "inappropriate-brazil",
   "metadata": {},
   "source": [
    "# Local Benchmark"
   ]
  },
  {
   "cell_type": "code",
   "execution_count": null,
   "id": "naughty-actress",
   "metadata": {},
   "outputs": [
    {
     "ename": "ValidationError",
     "evalue": "2 validation errors for Result\nserver\n  value is not a valid dict (type=type_error.dict)\nclient\n  value is not a valid dict (type=type_error.dict)",
     "output_type": "error",
     "traceback": [
      "\u001b[0;31m---------------------------------------------------------------------------\u001b[0m",
      "\u001b[0;31mValidationError\u001b[0m                           Traceback (most recent call last)",
      "\u001b[0;32m<ipython-input-9-bb6036e5e7cb>\u001b[0m in \u001b[0;36m<module>\u001b[0;34m\u001b[0m\n\u001b[1;32m     18\u001b[0m \u001b[0mepoch\u001b[0m\u001b[0;34m.\u001b[0m\u001b[0mcreate_files\u001b[0m\u001b[0;34m(\u001b[0m\u001b[0;34m)\u001b[0m\u001b[0;34m\u001b[0m\u001b[0;34m\u001b[0m\u001b[0m\n\u001b[1;32m     19\u001b[0m \u001b[0;34m\u001b[0m\u001b[0m\n\u001b[0;32m---> 20\u001b[0;31m result = Result(\n\u001b[0m\u001b[1;32m     21\u001b[0m     \u001b[0mserver\u001b[0m\u001b[0;34m=\u001b[0m\u001b[0mserver\u001b[0m\u001b[0;34m.\u001b[0m\u001b[0mname\u001b[0m\u001b[0;34m,\u001b[0m\u001b[0;34m\u001b[0m\u001b[0;34m\u001b[0m\u001b[0m\n\u001b[1;32m     22\u001b[0m     \u001b[0mclient\u001b[0m\u001b[0;34m=\u001b[0m\u001b[0mclient\u001b[0m\u001b[0;34m.\u001b[0m\u001b[0mname\u001b[0m\u001b[0;34m,\u001b[0m\u001b[0;34m\u001b[0m\u001b[0;34m\u001b[0m\u001b[0m\n",
      "\u001b[0;32m~/.virtualenvs/wis/lib/python3.9/site-packages/pydantic/main.cpython-39-darwin.so\u001b[0m in \u001b[0;36mpydantic.main.BaseModel.__init__\u001b[0;34m()\u001b[0m\n",
      "\u001b[0;31mValidationError\u001b[0m: 2 validation errors for Result\nserver\n  value is not a valid dict (type=type_error.dict)\nclient\n  value is not a valid dict (type=type_error.dict)"
     ]
    },
    {
     "data": {
      "application/javascript": [
       "\n",
       "            setTimeout(function() {\n",
       "                var nbb_cell_id = 9;\n",
       "                var nbb_unformatted_code = \"# dont_test\\n\\nbyte = 8\\ngigabit = 10 ** 9\\nbandwidth = gigabit / byte\\nduration = 3\\nfile_size = 10 ** 7\\n\\n\\n# server = DjangoGunicornWSGIServer()\\nserver = FastAPIUvicornServer()\\n# client = AioHttpClient(name=\\\"aiohttp\\\")\\nclient = HttpxClient(name=\\\"httpx\\\")\\n# repository = SqliteRepository.build_repository(\\\"foo.db\\\")\\n\\nepoch = Epoch(file_size=file_size, duration=duration)\\n\\nepoch.create_files()\\n\\nresult = Result(\\n    server=server.name,\\n    client=client.name,\\n    file_size=epoch.file_size,\\n    complete_size=epoch.complete_size,\\n)\\n\\nif not server.started:\\n    server.start\\n\\nresult.elapsed = client.measure(epoch)\";\n",
       "                var nbb_formatted_code = \"# dont_test\\n\\nbyte = 8\\ngigabit = 10 ** 9\\nbandwidth = gigabit / byte\\nduration = 3\\nfile_size = 10 ** 7\\n\\n\\n# server = DjangoGunicornWSGIServer()\\nserver = FastAPIUvicornServer()\\n# client = AioHttpClient(name=\\\"aiohttp\\\")\\nclient = HttpxClient(name=\\\"httpx\\\")\\n# repository = SqliteRepository.build_repository(\\\"foo.db\\\")\\n\\nepoch = Epoch(file_size=file_size, duration=duration)\\n\\nepoch.create_files()\\n\\nresult = Result(\\n    server=server.name,\\n    client=client.name,\\n    file_size=epoch.file_size,\\n    complete_size=epoch.complete_size,\\n)\\n\\nif not server.started:\\n    server.start\\n\\nresult.elapsed = client.measure(epoch)\";\n",
       "                var nbb_cells = Jupyter.notebook.get_cells();\n",
       "                for (var i = 0; i < nbb_cells.length; ++i) {\n",
       "                    if (nbb_cells[i].input_prompt_number == nbb_cell_id) {\n",
       "                        if (nbb_cells[i].get_text() == nbb_unformatted_code) {\n",
       "                             nbb_cells[i].set_text(nbb_formatted_code);\n",
       "                        }\n",
       "                        break;\n",
       "                    }\n",
       "                }\n",
       "            }, 500);\n",
       "            "
      ],
      "text/plain": [
       "<IPython.core.display.Javascript object>"
      ]
     },
     "metadata": {},
     "output_type": "display_data"
    }
   ],
   "source": [
    "# dont_test\n",
    "\n",
    "byte = 8\n",
    "gigabit = 10 ** 9\n",
    "bandwidth = gigabit / byte\n",
    "duration = 3\n",
    "file_size = 10 ** 7\n",
    "\n",
    "\n",
    "# server = DjangoGunicornWSGIServer()\n",
    "server = FastAPIUvicornServer()\n",
    "# client = AioHttpClient(name=\"aiohttp\")\n",
    "client = HttpxClient(name=\"httpx\")\n",
    "# repository = SqliteRepository.build_repository(\"foo.db\")\n",
    "\n",
    "epoch = Epoch(file_size=file_size, duration=duration)\n",
    "\n",
    "epoch.create_files()\n",
    "\n",
    "result = Result(\n",
    "    server=server.name,\n",
    "    client=client.name,\n",
    "    file_size=epoch.file_size,\n",
    "    complete_size=epoch.complete_size,\n",
    ")\n",
    "\n",
    "if not server.started:\n",
    "    server.start\n",
    "\n",
    "result.elapsed = client.measure(epoch)"
   ]
  },
  {
   "cell_type": "code",
   "execution_count": null,
   "id": "20b4ebd0",
   "metadata": {},
   "outputs": [],
   "source": []
  }
 ],
 "metadata": {
  "kernelspec": {
   "display_name": "Python 3",
   "language": "python",
   "name": "python3"
  }
 },
 "nbformat": 4,
 "nbformat_minor": 5
}
