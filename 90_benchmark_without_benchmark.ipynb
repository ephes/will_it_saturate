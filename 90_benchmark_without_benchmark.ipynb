{
 "cells": [
  {
   "cell_type": "code",
   "execution_count": 1,
   "id": "naughty-psychiatry",
   "metadata": {},
   "outputs": [
    {
     "data": {
      "application/javascript": [
       "\n",
       "            setTimeout(function() {\n",
       "                var nbb_cell_id = 1;\n",
       "                var nbb_unformatted_code = \"%load_ext nb_black\";\n",
       "                var nbb_formatted_code = \"%load_ext nb_black\";\n",
       "                var nbb_cells = Jupyter.notebook.get_cells();\n",
       "                for (var i = 0; i < nbb_cells.length; ++i) {\n",
       "                    if (nbb_cells[i].input_prompt_number == nbb_cell_id) {\n",
       "                        if (nbb_cells[i].get_text() == nbb_unformatted_code) {\n",
       "                             nbb_cells[i].set_text(nbb_formatted_code);\n",
       "                        }\n",
       "                        break;\n",
       "                    }\n",
       "                }\n",
       "            }, 500);\n",
       "            "
      ],
      "text/plain": [
       "<IPython.core.display.Javascript object>"
      ]
     },
     "metadata": {},
     "output_type": "display_data"
    }
   ],
   "source": [
    "%load_ext nb_black"
   ]
  },
  {
   "cell_type": "code",
   "execution_count": null,
   "id": "aerial-money",
   "metadata": {},
   "outputs": [
    {
     "data": {
      "application/javascript": [
       "\n",
       "            setTimeout(function() {\n",
       "                var nbb_cell_id = 2;\n",
       "                var nbb_unformatted_code = \"import httpx\\n\\nfrom urllib.parse import urljoin\\n\\nfrom will_it_saturate.servers import (\\n    FastAPIUvicornServer,\\n    NginxDockerServer,\\n    DjangoGunicornWSGIServer,\\n)\\nfrom will_it_saturate.hosts import Host\\nfrom will_it_saturate.epochs import Epoch\\n\\nfrom will_it_saturate.results import Result\\nfrom will_it_saturate.files import BenchmarkFile\\nfrom will_it_saturate.control.client import ControlClient\\nfrom will_it_saturate.repositories import SqliteRepository\\nfrom will_it_saturate.clients import HttpxClient, AioHttpClient, WrkClient\";\n",
       "                var nbb_formatted_code = \"import httpx\\n\\nfrom urllib.parse import urljoin\\n\\nfrom will_it_saturate.servers import (\\n    FastAPIUvicornServer,\\n    NginxDockerServer,\\n    DjangoGunicornWSGIServer,\\n)\\nfrom will_it_saturate.hosts import Host\\nfrom will_it_saturate.epochs import Epoch\\n\\nfrom will_it_saturate.results import Result\\nfrom will_it_saturate.files import BenchmarkFile\\nfrom will_it_saturate.control.client import ControlClient\\nfrom will_it_saturate.repositories import SqliteRepository\\nfrom will_it_saturate.clients import HttpxClient, AioHttpClient, WrkClient\";\n",
       "                var nbb_cells = Jupyter.notebook.get_cells();\n",
       "                for (var i = 0; i < nbb_cells.length; ++i) {\n",
       "                    if (nbb_cells[i].input_prompt_number == nbb_cell_id) {\n",
       "                        if (nbb_cells[i].get_text() == nbb_unformatted_code) {\n",
       "                             nbb_cells[i].set_text(nbb_formatted_code);\n",
       "                        }\n",
       "                        break;\n",
       "                    }\n",
       "                }\n",
       "            }, 500);\n",
       "            "
      ],
      "text/plain": [
       "<IPython.core.display.Javascript object>"
      ]
     },
     "metadata": {},
     "output_type": "display_data"
    }
   ],
   "source": [
    "import httpx\n",
    "\n",
    "from urllib.parse import urljoin\n",
    "\n",
    "from will_it_saturate.servers import (\n",
    "    FastAPIUvicornServer,\n",
    "    NginxDockerServer,\n",
    "    DjangoGunicornWSGIServer,\n",
    ")\n",
    "from will_it_saturate.hosts import Host\n",
    "from will_it_saturate.epochs import Epoch\n",
    "\n",
    "from will_it_saturate.results import Result\n",
    "from will_it_saturate.files import BenchmarkFile\n",
    "from will_it_saturate.control.client import ControlClient\n",
    "from will_it_saturate.repositories import SqliteRepository\n",
    "from will_it_saturate.clients import HttpxClient, AioHttpClient, WrkClient"
   ]
  },
  {
   "cell_type": "markdown",
   "id": "nutritional-mobility",
   "metadata": {},
   "source": [
    "# Remote Benchmark"
   ]
  },
  {
   "cell_type": "code",
   "execution_count": null,
   "id": "southeast-maker",
   "metadata": {},
   "outputs": [
    {
     "name": "stdout",
     "output_type": "stream",
     "text": [
      "protocol='http' name='fastAPI/uvicorn' host='localhost' port=5001\n",
      "[BenchmarkFile(number=0, base_path='10000000_3_125000000', size=10000000, data_root='data', hostname='localhost', port=8000, checksum='4a45eb0c5580122823126fc30477ce08', creator_name='filesystem'), BenchmarkFile(number=1, base_path='10000000_3_125000000', size=10000000, data_root='data', hostname='localhost', port=8000, checksum='22b964829c3cd80f9627861eee97ad6f', creator_name='filesystem'), BenchmarkFile(number=2, base_path='10000000_3_125000000', size=10000000, data_root='data', hostname='localhost', port=8000, checksum='2313682c8f900d9011cf3557356c0b75', creator_name='filesystem'), BenchmarkFile(number=3, base_path='10000000_3_125000000', size=10000000, data_root='data', hostname='localhost', port=8000, checksum='9f09900cb8d58d1e470e087682f385b2', creator_name='filesystem'), BenchmarkFile(number=4, base_path='10000000_3_125000000', size=10000000, data_root='data', hostname='localhost', port=8000, checksum='2e55ad3afc945fb3fa02e189cfe67f8e', creator_name='filesystem'), BenchmarkFile(number=5, base_path='10000000_3_125000000', size=10000000, data_root='data', hostname='localhost', port=8000, checksum='313ec2ea38efe6aef2ec0e9757d52899', creator_name='filesystem'), BenchmarkFile(number=6, base_path='10000000_3_125000000', size=10000000, data_root='data', hostname='localhost', port=8000, checksum='94a9f1df40f1b2f576834d3e76f18dfb', creator_name='filesystem'), BenchmarkFile(number=7, base_path='10000000_3_125000000', size=10000000, data_root='data', hostname='localhost', port=8000, checksum='803541662f910cfca33bbaf0fb83958b', creator_name='filesystem'), BenchmarkFile(number=8, base_path='10000000_3_125000000', size=10000000, data_root='data', hostname='localhost', port=8000, checksum='1fb112c459f7d67efaccae9f754bd9bb', creator_name='filesystem'), BenchmarkFile(number=9, base_path='10000000_3_125000000', size=10000000, data_root='data', hostname='localhost', port=8000, checksum='c1166abfc9dcb7bb5ae0203cfb5b2a25', creator_name='filesystem')]\n"
     ]
    },
    {
     "data": {
      "application/javascript": [
       "\n",
       "            setTimeout(function() {\n",
       "                var nbb_cell_id = 3;\n",
       "                var nbb_unformatted_code = \"# dont_test\\n\\nbyte, file_size, duration = 8, 10 ** 7, 3\\nepoch = Epoch(file_size=file_size, duration=duration)\\n\\ncontrol_host = Host(name=\\\"localhost\\\", port=8001)\\ncontrol_client = ControlClient(host=control_host)\\n\\nserver = control_client.get_or_create_server(FastAPIUvicornServer())\\nprint(server)\\nbenchmark_client = HttpxClient(name=\\\"httpx\\\")\\n\\nfiles = control_client.get_or_create_files(epoch)\\nprint(files[:10])\\n\\nepoch.urls = [server.file_to_url(file) for file in files]\\n\\nresult = Result(\\n    server=server.name,\\n    client=benchmark_client.name,\\n    file_size=epoch.file_size,\\n    complete_size=epoch.complete_size,\\n)\";\n",
       "                var nbb_formatted_code = \"# dont_test\\n\\nbyte, file_size, duration = 8, 10 ** 7, 3\\nepoch = Epoch(file_size=file_size, duration=duration)\\n\\ncontrol_host = Host(name=\\\"localhost\\\", port=8001)\\ncontrol_client = ControlClient(host=control_host)\\n\\nserver = control_client.get_or_create_server(FastAPIUvicornServer())\\nprint(server)\\nbenchmark_client = HttpxClient(name=\\\"httpx\\\")\\n\\nfiles = control_client.get_or_create_files(epoch)\\nprint(files[:10])\\n\\nepoch.urls = [server.file_to_url(file) for file in files]\\n\\nresult = Result(\\n    server=server.name,\\n    client=benchmark_client.name,\\n    file_size=epoch.file_size,\\n    complete_size=epoch.complete_size,\\n)\";\n",
       "                var nbb_cells = Jupyter.notebook.get_cells();\n",
       "                for (var i = 0; i < nbb_cells.length; ++i) {\n",
       "                    if (nbb_cells[i].input_prompt_number == nbb_cell_id) {\n",
       "                        if (nbb_cells[i].get_text() == nbb_unformatted_code) {\n",
       "                             nbb_cells[i].set_text(nbb_formatted_code);\n",
       "                        }\n",
       "                        break;\n",
       "                    }\n",
       "                }\n",
       "            }, 500);\n",
       "            "
      ],
      "text/plain": [
       "<IPython.core.display.Javascript object>"
      ]
     },
     "metadata": {},
     "output_type": "display_data"
    }
   ],
   "source": [
    "# dont_test\n",
    "\n",
    "byte, file_size, duration = 8, 10 ** 7, 3\n",
    "epoch = Epoch(file_size=file_size, duration=duration)\n",
    "\n",
    "control_host = Host(name=\"localhost\", port=8001)\n",
    "control_client = ControlClient(host=control_host)\n",
    "\n",
    "server = control_client.get_or_create_server(FastAPIUvicornServer())\n",
    "print(server)\n",
    "benchmark_client = HttpxClient(name=\"httpx\")\n",
    "\n",
    "files = control_client.get_or_create_files(epoch)\n",
    "print(files[:10])\n",
    "\n",
    "epoch.urls = [server.file_to_url(file) for file in files]\n",
    "\n",
    "result = Result(\n",
    "    server=server.name,\n",
    "    client=benchmark_client.name,\n",
    "    file_size=epoch.file_size,\n",
    "    complete_size=epoch.complete_size,\n",
    ")"
   ]
  },
  {
   "cell_type": "code",
   "execution_count": null,
   "id": "promotional-pressure",
   "metadata": {},
   "outputs": [
    {
     "name": "stdout",
     "output_type": "stream",
     "text": [
      "measure\n"
     ]
    },
    {
     "data": {
      "application/javascript": [
       "\n",
       "            setTimeout(function() {\n",
       "                var nbb_cell_id = 4;\n",
       "                var nbb_unformatted_code = \"# dont_test\\n\\nresult.elapsed = benchmark_client.measure(epoch)\";\n",
       "                var nbb_formatted_code = \"# dont_test\\n\\nresult.elapsed = benchmark_client.measure(epoch)\";\n",
       "                var nbb_cells = Jupyter.notebook.get_cells();\n",
       "                for (var i = 0; i < nbb_cells.length; ++i) {\n",
       "                    if (nbb_cells[i].input_prompt_number == nbb_cell_id) {\n",
       "                        if (nbb_cells[i].get_text() == nbb_unformatted_code) {\n",
       "                             nbb_cells[i].set_text(nbb_formatted_code);\n",
       "                        }\n",
       "                        break;\n",
       "                    }\n",
       "                }\n",
       "            }, 500);\n",
       "            "
      ],
      "text/plain": [
       "<IPython.core.display.Javascript object>"
      ]
     },
     "metadata": {},
     "output_type": "display_data"
    }
   ],
   "source": [
    "# dont_test\n",
    "\n",
    "result.elapsed = benchmark_client.measure(epoch)"
   ]
  },
  {
   "cell_type": "code",
   "execution_count": null,
   "id": "simple-walter",
   "metadata": {},
   "outputs": [
    {
     "data": {
      "text/plain": [
       "52186936.92073767"
      ]
     },
     "execution_count": null,
     "metadata": {},
     "output_type": "execute_result"
    },
    {
     "data": {
      "application/javascript": [
       "\n",
       "            setTimeout(function() {\n",
       "                var nbb_cell_id = 5;\n",
       "                var nbb_unformatted_code = \"# dont_test\\n\\nresult.bytes_per_second\";\n",
       "                var nbb_formatted_code = \"# dont_test\\n\\nresult.bytes_per_second\";\n",
       "                var nbb_cells = Jupyter.notebook.get_cells();\n",
       "                for (var i = 0; i < nbb_cells.length; ++i) {\n",
       "                    if (nbb_cells[i].input_prompt_number == nbb_cell_id) {\n",
       "                        if (nbb_cells[i].get_text() == nbb_unformatted_code) {\n",
       "                             nbb_cells[i].set_text(nbb_formatted_code);\n",
       "                        }\n",
       "                        break;\n",
       "                    }\n",
       "                }\n",
       "            }, 500);\n",
       "            "
      ],
      "text/plain": [
       "<IPython.core.display.Javascript object>"
      ]
     },
     "metadata": {},
     "output_type": "display_data"
    }
   ],
   "source": [
    "# dont_test\n",
    "\n",
    "result.bytes_per_second"
   ]
  },
  {
   "cell_type": "code",
   "execution_count": null,
   "id": "touched-world",
   "metadata": {},
   "outputs": [
    {
     "data": {
      "application/javascript": [
       "\n",
       "            setTimeout(function() {\n",
       "                var nbb_cell_id = 8;\n",
       "                var nbb_unformatted_code = \"def run_epoch(server, client, epoch):\\n    control_base = \\\"http://localhost:8001/\\\"\\n    control_epochs = urljoin(control_base, \\\"epochs/\\\")\\n    r = httpx.post(control_epochs, json=epoch.dict())\\n\\n    for bfile in r.json()[\\\"files\\\"]:\\n        kwargs = {k: v for k, v in bfile.items() if k != \\\"creator\\\"}\\n        epoch.files.append(BenchmarkFile(**kwargs))\\n\\n    control_servers = urljoin(control_base, \\\"servers/\\\")\\n    r = httpx.post(control_servers, json=server.dict())\\n    server = server.__class__(**r.json())\\n\\n    epoch.urls = [server.file_to_url(file) for file in epoch.files]\\n\\n    result = Result(\\n        server=server.name,\\n        client=client.name,\\n        file_size=epoch.file_size,\\n        complete_size=epoch.complete_size,\\n    )\\n\\n    result.elapsed = client.measure(epoch)\\n    return result\";\n",
       "                var nbb_formatted_code = \"def run_epoch(server, client, epoch):\\n    control_base = \\\"http://localhost:8001/\\\"\\n    control_epochs = urljoin(control_base, \\\"epochs/\\\")\\n    r = httpx.post(control_epochs, json=epoch.dict())\\n\\n    for bfile in r.json()[\\\"files\\\"]:\\n        kwargs = {k: v for k, v in bfile.items() if k != \\\"creator\\\"}\\n        epoch.files.append(BenchmarkFile(**kwargs))\\n\\n    control_servers = urljoin(control_base, \\\"servers/\\\")\\n    r = httpx.post(control_servers, json=server.dict())\\n    server = server.__class__(**r.json())\\n\\n    epoch.urls = [server.file_to_url(file) for file in epoch.files]\\n\\n    result = Result(\\n        server=server.name,\\n        client=client.name,\\n        file_size=epoch.file_size,\\n        complete_size=epoch.complete_size,\\n    )\\n\\n    result.elapsed = client.measure(epoch)\\n    return result\";\n",
       "                var nbb_cells = Jupyter.notebook.get_cells();\n",
       "                for (var i = 0; i < nbb_cells.length; ++i) {\n",
       "                    if (nbb_cells[i].input_prompt_number == nbb_cell_id) {\n",
       "                        if (nbb_cells[i].get_text() == nbb_unformatted_code) {\n",
       "                             nbb_cells[i].set_text(nbb_formatted_code);\n",
       "                        }\n",
       "                        break;\n",
       "                    }\n",
       "                }\n",
       "            }, 500);\n",
       "            "
      ],
      "text/plain": [
       "<IPython.core.display.Javascript object>"
      ]
     },
     "metadata": {},
     "output_type": "display_data"
    }
   ],
   "source": [
    "def run_epoch(server, client, epoch):\n",
    "    control_base = \"http://localhost:8001/\"\n",
    "    control_epochs = urljoin(control_base, \"epochs/\")\n",
    "    r = httpx.post(control_epochs, json=epoch.dict())\n",
    "\n",
    "    for bfile in r.json()[\"files\"]:\n",
    "        kwargs = {k: v for k, v in bfile.items() if k != \"creator\"}\n",
    "        epoch.files.append(BenchmarkFile(**kwargs))\n",
    "\n",
    "    control_servers = urljoin(control_base, \"servers/\")\n",
    "    r = httpx.post(control_servers, json=server.dict())\n",
    "    server = server.__class__(**r.json())\n",
    "\n",
    "    epoch.urls = [server.file_to_url(file) for file in epoch.files]\n",
    "\n",
    "    result = Result(\n",
    "        server=server.name,\n",
    "        client=client.name,\n",
    "        file_size=epoch.file_size,\n",
    "        complete_size=epoch.complete_size,\n",
    "    )\n",
    "\n",
    "    result.elapsed = client.measure(epoch)\n",
    "    return result"
   ]
  },
  {
   "cell_type": "code",
   "execution_count": null,
   "id": "innovative-incidence",
   "metadata": {},
   "outputs": [
    {
     "data": {
      "application/javascript": [
       "\n",
       "            setTimeout(function() {\n",
       "                var nbb_cell_id = 9;\n",
       "                var nbb_unformatted_code = \"# dont_test\\n\\nbyte, file_size, duration = 8, 10 ** 7, 3\\nepoch = Epoch(file_size=file_size, duration=duration)\";\n",
       "                var nbb_formatted_code = \"# dont_test\\n\\nbyte, file_size, duration = 8, 10 ** 7, 3\\nepoch = Epoch(file_size=file_size, duration=duration)\";\n",
       "                var nbb_cells = Jupyter.notebook.get_cells();\n",
       "                for (var i = 0; i < nbb_cells.length; ++i) {\n",
       "                    if (nbb_cells[i].input_prompt_number == nbb_cell_id) {\n",
       "                        if (nbb_cells[i].get_text() == nbb_unformatted_code) {\n",
       "                             nbb_cells[i].set_text(nbb_formatted_code);\n",
       "                        }\n",
       "                        break;\n",
       "                    }\n",
       "                }\n",
       "            }, 500);\n",
       "            "
      ],
      "text/plain": [
       "<IPython.core.display.Javascript object>"
      ]
     },
     "metadata": {},
     "output_type": "display_data"
    }
   ],
   "source": [
    "# dont_test\n",
    "\n",
    "byte, file_size, duration = 8, 10 ** 7, 3\n",
    "epoch = Epoch(file_size=file_size, duration=duration)"
   ]
  },
  {
   "cell_type": "code",
   "execution_count": null,
   "id": "exact-design",
   "metadata": {},
   "outputs": [
    {
     "data": {
      "application/javascript": [
       "\n",
       "            setTimeout(function() {\n",
       "                var nbb_cell_id = 10;\n",
       "                var nbb_unformatted_code = \"# dont_test\\n\\nserver = FastAPIUvicornServer()\\nclient = HttpxClient(name=\\\"httpx\\\")\";\n",
       "                var nbb_formatted_code = \"# dont_test\\n\\nserver = FastAPIUvicornServer()\\nclient = HttpxClient(name=\\\"httpx\\\")\";\n",
       "                var nbb_cells = Jupyter.notebook.get_cells();\n",
       "                for (var i = 0; i < nbb_cells.length; ++i) {\n",
       "                    if (nbb_cells[i].input_prompt_number == nbb_cell_id) {\n",
       "                        if (nbb_cells[i].get_text() == nbb_unformatted_code) {\n",
       "                             nbb_cells[i].set_text(nbb_formatted_code);\n",
       "                        }\n",
       "                        break;\n",
       "                    }\n",
       "                }\n",
       "            }, 500);\n",
       "            "
      ],
      "text/plain": [
       "<IPython.core.display.Javascript object>"
      ]
     },
     "metadata": {},
     "output_type": "display_data"
    }
   ],
   "source": [
    "# dont_test\n",
    "\n",
    "server = FastAPIUvicornServer()\n",
    "client = HttpxClient(name=\"httpx\")"
   ]
  },
  {
   "cell_type": "code",
   "execution_count": null,
   "id": "alert-effects",
   "metadata": {},
   "outputs": [
    {
     "name": "stdout",
     "output_type": "stream",
     "text": [
      "measure\n"
     ]
    },
    {
     "data": {
      "application/javascript": [
       "\n",
       "            setTimeout(function() {\n",
       "                var nbb_cell_id = 11;\n",
       "                var nbb_unformatted_code = \"# dont_test\\n\\nresult = run_epoch(server, client, epoch)\";\n",
       "                var nbb_formatted_code = \"# dont_test\\n\\nresult = run_epoch(server, client, epoch)\";\n",
       "                var nbb_cells = Jupyter.notebook.get_cells();\n",
       "                for (var i = 0; i < nbb_cells.length; ++i) {\n",
       "                    if (nbb_cells[i].input_prompt_number == nbb_cell_id) {\n",
       "                        if (nbb_cells[i].get_text() == nbb_unformatted_code) {\n",
       "                             nbb_cells[i].set_text(nbb_formatted_code);\n",
       "                        }\n",
       "                        break;\n",
       "                    }\n",
       "                }\n",
       "            }, 500);\n",
       "            "
      ],
      "text/plain": [
       "<IPython.core.display.Javascript object>"
      ]
     },
     "metadata": {},
     "output_type": "display_data"
    }
   ],
   "source": [
    "# dont_test\n",
    "\n",
    "result = run_epoch(server, client, epoch)"
   ]
  },
  {
   "cell_type": "code",
   "execution_count": null,
   "id": "medium-paris",
   "metadata": {},
   "outputs": [
    {
     "data": {
      "text/plain": [
       "52162649.75030322"
      ]
     },
     "execution_count": null,
     "metadata": {},
     "output_type": "execute_result"
    },
    {
     "data": {
      "application/javascript": [
       "\n",
       "            setTimeout(function() {\n",
       "                var nbb_cell_id = 12;\n",
       "                var nbb_unformatted_code = \"# dont_test\\n\\nresult.bytes_per_second\";\n",
       "                var nbb_formatted_code = \"# dont_test\\n\\nresult.bytes_per_second\";\n",
       "                var nbb_cells = Jupyter.notebook.get_cells();\n",
       "                for (var i = 0; i < nbb_cells.length; ++i) {\n",
       "                    if (nbb_cells[i].input_prompt_number == nbb_cell_id) {\n",
       "                        if (nbb_cells[i].get_text() == nbb_unformatted_code) {\n",
       "                             nbb_cells[i].set_text(nbb_formatted_code);\n",
       "                        }\n",
       "                        break;\n",
       "                    }\n",
       "                }\n",
       "            }, 500);\n",
       "            "
      ],
      "text/plain": [
       "<IPython.core.display.Javascript object>"
      ]
     },
     "metadata": {},
     "output_type": "display_data"
    }
   ],
   "source": [
    "# dont_test\n",
    "\n",
    "result.bytes_per_second"
   ]
  },
  {
   "cell_type": "code",
   "execution_count": null,
   "id": "pleased-student",
   "metadata": {},
   "outputs": [
    {
     "name": "stdout",
     "output_type": "stream",
     "text": [
      "measure\n"
     ]
    },
    {
     "data": {
      "text/plain": [
       "Result(server='fastAPI/uvicorn', client='httpx', file_size=10000000, elapsed=6.916868163999999, complete_size=375000000)"
      ]
     },
     "execution_count": null,
     "metadata": {},
     "output_type": "execute_result"
    },
    {
     "data": {
      "application/javascript": [
       "\n",
       "            setTimeout(function() {\n",
       "                var nbb_cell_id = 15;\n",
       "                var nbb_unformatted_code = \"# dont_test\\n\\nbyte = 8\\ngigabit = 10 ** 9\\nbandwidth = gigabit / byte\\nduration = 3\\nfile_size = 10 ** 7\\n\\nepoch = Epoch(file_size=file_size, duration=duration)\\n\\ncontrol_base = \\\"http://localhost:8001/\\\"\\ncontrol_epochs = urljoin(control_base, \\\"epochs/\\\")\\n\\nr = httpx.post(control_epochs, json=epoch.dict())\\n\\nfor bfile in r.json()[\\\"files\\\"]:\\n    kwargs = {k: v for k, v in bfile.items() if k != \\\"creator\\\"}\\n    epoch.files.append(BenchmarkFile(**kwargs))\\n\\n\\nserver = FastAPIUvicornServer()\\ncontrol_servers = urljoin(control_base, \\\"servers/\\\")\\nr = httpx.post(control_servers, json=server.dict())\\nserver = FastAPIUvicornServer(**r.json())\\n\\nepoch.urls = [server.file_to_url(file) for file in epoch.files]\\n\\nclient = HttpxClient(name=\\\"httpx\\\")\\n\\n\\nresult = Result(\\n    server=server.name,\\n    client=client.name,\\n    file_size=epoch.file_size,\\n    complete_size=epoch.complete_size,\\n)\\n\\nresult.elapsed = client.measure(epoch)\\nresult\";\n",
       "                var nbb_formatted_code = \"# dont_test\\n\\nbyte = 8\\ngigabit = 10 ** 9\\nbandwidth = gigabit / byte\\nduration = 3\\nfile_size = 10 ** 7\\n\\nepoch = Epoch(file_size=file_size, duration=duration)\\n\\ncontrol_base = \\\"http://localhost:8001/\\\"\\ncontrol_epochs = urljoin(control_base, \\\"epochs/\\\")\\n\\nr = httpx.post(control_epochs, json=epoch.dict())\\n\\nfor bfile in r.json()[\\\"files\\\"]:\\n    kwargs = {k: v for k, v in bfile.items() if k != \\\"creator\\\"}\\n    epoch.files.append(BenchmarkFile(**kwargs))\\n\\n\\nserver = FastAPIUvicornServer()\\ncontrol_servers = urljoin(control_base, \\\"servers/\\\")\\nr = httpx.post(control_servers, json=server.dict())\\nserver = FastAPIUvicornServer(**r.json())\\n\\nepoch.urls = [server.file_to_url(file) for file in epoch.files]\\n\\nclient = HttpxClient(name=\\\"httpx\\\")\\n\\n\\nresult = Result(\\n    server=server.name,\\n    client=client.name,\\n    file_size=epoch.file_size,\\n    complete_size=epoch.complete_size,\\n)\\n\\nresult.elapsed = client.measure(epoch)\\nresult\";\n",
       "                var nbb_cells = Jupyter.notebook.get_cells();\n",
       "                for (var i = 0; i < nbb_cells.length; ++i) {\n",
       "                    if (nbb_cells[i].input_prompt_number == nbb_cell_id) {\n",
       "                        if (nbb_cells[i].get_text() == nbb_unformatted_code) {\n",
       "                             nbb_cells[i].set_text(nbb_formatted_code);\n",
       "                        }\n",
       "                        break;\n",
       "                    }\n",
       "                }\n",
       "            }, 500);\n",
       "            "
      ],
      "text/plain": [
       "<IPython.core.display.Javascript object>"
      ]
     },
     "metadata": {},
     "output_type": "display_data"
    }
   ],
   "source": [
    "# dont_test\n",
    "\n",
    "byte = 8\n",
    "gigabit = 10 ** 9\n",
    "bandwidth = gigabit / byte\n",
    "duration = 3\n",
    "file_size = 10 ** 7\n",
    "\n",
    "epoch = Epoch(file_size=file_size, duration=duration)\n",
    "\n",
    "control_base = \"http://localhost:8001/\"\n",
    "control_epochs = urljoin(control_base, \"epochs/\")\n",
    "\n",
    "r = httpx.post(control_epochs, json=epoch.dict())\n",
    "\n",
    "for bfile in r.json()[\"files\"]:\n",
    "    kwargs = {k: v for k, v in bfile.items() if k != \"creator\"}\n",
    "    epoch.files.append(BenchmarkFile(**kwargs))\n",
    "\n",
    "\n",
    "server = FastAPIUvicornServer()\n",
    "control_servers = urljoin(control_base, \"servers/\")\n",
    "r = httpx.post(control_servers, json=server.dict())\n",
    "server = FastAPIUvicornServer(**r.json())\n",
    "\n",
    "epoch.urls = [server.file_to_url(file) for file in epoch.files]\n",
    "\n",
    "client = HttpxClient(name=\"httpx\")\n",
    "\n",
    "\n",
    "result = Result(\n",
    "    server=server.name,\n",
    "    client=client.name,\n",
    "    file_size=epoch.file_size,\n",
    "    complete_size=epoch.complete_size,\n",
    ")\n",
    "\n",
    "result.elapsed = client.measure(epoch)\n",
    "result"
   ]
  },
  {
   "cell_type": "code",
   "execution_count": null,
   "id": "twelve-jonathan",
   "metadata": {},
   "outputs": [
    {
     "data": {
      "text/plain": [
       "54215288.06226934"
      ]
     },
     "execution_count": null,
     "metadata": {},
     "output_type": "execute_result"
    },
    {
     "data": {
      "application/javascript": [
       "\n",
       "            setTimeout(function() {\n",
       "                var nbb_cell_id = 16;\n",
       "                var nbb_unformatted_code = \"# dont_test\\n\\nresult.bytes_per_second\";\n",
       "                var nbb_formatted_code = \"# dont_test\\n\\nresult.bytes_per_second\";\n",
       "                var nbb_cells = Jupyter.notebook.get_cells();\n",
       "                for (var i = 0; i < nbb_cells.length; ++i) {\n",
       "                    if (nbb_cells[i].input_prompt_number == nbb_cell_id) {\n",
       "                        if (nbb_cells[i].get_text() == nbb_unformatted_code) {\n",
       "                             nbb_cells[i].set_text(nbb_formatted_code);\n",
       "                        }\n",
       "                        break;\n",
       "                    }\n",
       "                }\n",
       "            }, 500);\n",
       "            "
      ],
      "text/plain": [
       "<IPython.core.display.Javascript object>"
      ]
     },
     "metadata": {},
     "output_type": "display_data"
    }
   ],
   "source": [
    "# dont_test\n",
    "\n",
    "result.bytes_per_second"
   ]
  },
  {
   "cell_type": "markdown",
   "id": "inappropriate-brazil",
   "metadata": {},
   "source": [
    "# Local Benchmark"
   ]
  },
  {
   "cell_type": "code",
   "execution_count": null,
   "id": "naughty-actress",
   "metadata": {},
   "outputs": [
    {
     "name": "stdout",
     "output_type": "stream",
     "text": [
      "measure\n"
     ]
    },
    {
     "ename": "IndexError",
     "evalue": "list index out of range",
     "output_type": "error",
     "traceback": [
      "\u001b[0;31m---------------------------------------------------------------------------\u001b[0m",
      "\u001b[0;31mRemoteTraceback\u001b[0m                           Traceback (most recent call last)",
      "\u001b[0;31mRemoteTraceback\u001b[0m: \n\"\"\"\nTraceback (most recent call last):\n  File \"/Users/wersdoerfer/.pyenv/versions/3.9.2/Python.framework/Versions/3.9/lib/python3.9/multiprocessing/pool.py\", line 125, in worker\n    result = (True, func(*args, **kwds))\n  File \"/Users/wersdoerfer/.pyenv/versions/3.9.2/Python.framework/Versions/3.9/lib/python3.9/multiprocessing/pool.py\", line 48, in mapstar\n    return list(map(*args))\n  File \"/Users/wersdoerfer/projects/will_it_saturate/will_it_saturate/client.py\", line 49, in measure_in_new_process\n    elapsed, responses = asyncio.run(self.measure_server(epoch))\n  File \"/Users/wersdoerfer/.pyenv/versions/3.9.2/Python.framework/Versions/3.9/lib/python3.9/asyncio/runners.py\", line 44, in run\n    return loop.run_until_complete(main)\n  File \"/Users/wersdoerfer/.pyenv/versions/3.9.2/Python.framework/Versions/3.9/lib/python3.9/asyncio/base_events.py\", line 642, in run_until_complete\n    return future.result()\n  File \"/Users/wersdoerfer/projects/will_it_saturate/will_it_saturate/client.py\", line 33, in measure_server\n    print(epoch.urls[0])\nIndexError: list index out of range\n\"\"\"",
      "\nThe above exception was the direct cause of the following exception:\n",
      "\u001b[0;31mIndexError\u001b[0m                                Traceback (most recent call last)",
      "\u001b[0;32m<ipython-input-20-bb6036e5e7cb>\u001b[0m in \u001b[0;36m<module>\u001b[0;34m\u001b[0m\n\u001b[1;32m     28\u001b[0m     \u001b[0mserver\u001b[0m\u001b[0;34m.\u001b[0m\u001b[0mstart\u001b[0m\u001b[0;34m\u001b[0m\u001b[0;34m\u001b[0m\u001b[0m\n\u001b[1;32m     29\u001b[0m \u001b[0;34m\u001b[0m\u001b[0m\n\u001b[0;32m---> 30\u001b[0;31m \u001b[0mresult\u001b[0m\u001b[0;34m.\u001b[0m\u001b[0melapsed\u001b[0m \u001b[0;34m=\u001b[0m \u001b[0mclient\u001b[0m\u001b[0;34m.\u001b[0m\u001b[0mmeasure\u001b[0m\u001b[0;34m(\u001b[0m\u001b[0mepoch\u001b[0m\u001b[0;34m)\u001b[0m\u001b[0;34m\u001b[0m\u001b[0;34m\u001b[0m\u001b[0m\n\u001b[0m",
      "\u001b[0;32m~/projects/will_it_saturate/will_it_saturate/client.py\u001b[0m in \u001b[0;36mmeasure\u001b[0;34m(self, epoch)\u001b[0m\n\u001b[1;32m     54\u001b[0m         \u001b[0mprint\u001b[0m\u001b[0;34m(\u001b[0m\u001b[0;34m\"measure\"\u001b[0m\u001b[0;34m)\u001b[0m\u001b[0;34m\u001b[0m\u001b[0;34m\u001b[0m\u001b[0m\n\u001b[1;32m     55\u001b[0m         \u001b[0;32mwith\u001b[0m \u001b[0mPool\u001b[0m\u001b[0;34m(\u001b[0m\u001b[0;36m1\u001b[0m\u001b[0;34m)\u001b[0m \u001b[0;32mas\u001b[0m \u001b[0mp\u001b[0m\u001b[0;34m:\u001b[0m\u001b[0;34m\u001b[0m\u001b[0;34m\u001b[0m\u001b[0m\n\u001b[0;32m---> 56\u001b[0;31m             \u001b[0;34m[\u001b[0m\u001b[0mresult\u001b[0m\u001b[0;34m]\u001b[0m \u001b[0;34m=\u001b[0m \u001b[0mp\u001b[0m\u001b[0;34m.\u001b[0m\u001b[0mmap\u001b[0m\u001b[0;34m(\u001b[0m\u001b[0mself\u001b[0m\u001b[0;34m.\u001b[0m\u001b[0mmeasure_in_new_process\u001b[0m\u001b[0;34m,\u001b[0m \u001b[0;34m[\u001b[0m\u001b[0mepoch\u001b[0m\u001b[0;34m]\u001b[0m\u001b[0;34m)\u001b[0m\u001b[0;34m\u001b[0m\u001b[0;34m\u001b[0m\u001b[0m\n\u001b[0m\u001b[1;32m     57\u001b[0m         \u001b[0;32mreturn\u001b[0m \u001b[0mresult\u001b[0m\u001b[0;34m\u001b[0m\u001b[0;34m\u001b[0m\u001b[0m\n\u001b[1;32m     58\u001b[0m \u001b[0;34m\u001b[0m\u001b[0m\n",
      "\u001b[0;32m~/.pyenv/versions/3.9.2/Python.framework/Versions/3.9/lib/python3.9/multiprocessing/pool.py\u001b[0m in \u001b[0;36mmap\u001b[0;34m(self, func, iterable, chunksize)\u001b[0m\n\u001b[1;32m    362\u001b[0m         \u001b[0;32min\u001b[0m \u001b[0ma\u001b[0m \u001b[0mlist\u001b[0m \u001b[0mthat\u001b[0m \u001b[0;32mis\u001b[0m \u001b[0mreturned\u001b[0m\u001b[0;34m.\u001b[0m\u001b[0;34m\u001b[0m\u001b[0;34m\u001b[0m\u001b[0m\n\u001b[1;32m    363\u001b[0m         '''\n\u001b[0;32m--> 364\u001b[0;31m         \u001b[0;32mreturn\u001b[0m \u001b[0mself\u001b[0m\u001b[0;34m.\u001b[0m\u001b[0m_map_async\u001b[0m\u001b[0;34m(\u001b[0m\u001b[0mfunc\u001b[0m\u001b[0;34m,\u001b[0m \u001b[0miterable\u001b[0m\u001b[0;34m,\u001b[0m \u001b[0mmapstar\u001b[0m\u001b[0;34m,\u001b[0m \u001b[0mchunksize\u001b[0m\u001b[0;34m)\u001b[0m\u001b[0;34m.\u001b[0m\u001b[0mget\u001b[0m\u001b[0;34m(\u001b[0m\u001b[0;34m)\u001b[0m\u001b[0;34m\u001b[0m\u001b[0;34m\u001b[0m\u001b[0m\n\u001b[0m\u001b[1;32m    365\u001b[0m \u001b[0;34m\u001b[0m\u001b[0m\n\u001b[1;32m    366\u001b[0m     \u001b[0;32mdef\u001b[0m \u001b[0mstarmap\u001b[0m\u001b[0;34m(\u001b[0m\u001b[0mself\u001b[0m\u001b[0;34m,\u001b[0m \u001b[0mfunc\u001b[0m\u001b[0;34m,\u001b[0m \u001b[0miterable\u001b[0m\u001b[0;34m,\u001b[0m \u001b[0mchunksize\u001b[0m\u001b[0;34m=\u001b[0m\u001b[0;32mNone\u001b[0m\u001b[0;34m)\u001b[0m\u001b[0;34m:\u001b[0m\u001b[0;34m\u001b[0m\u001b[0;34m\u001b[0m\u001b[0m\n",
      "\u001b[0;32m~/.pyenv/versions/3.9.2/Python.framework/Versions/3.9/lib/python3.9/multiprocessing/pool.py\u001b[0m in \u001b[0;36mget\u001b[0;34m(self, timeout)\u001b[0m\n\u001b[1;32m    769\u001b[0m             \u001b[0;32mreturn\u001b[0m \u001b[0mself\u001b[0m\u001b[0;34m.\u001b[0m\u001b[0m_value\u001b[0m\u001b[0;34m\u001b[0m\u001b[0;34m\u001b[0m\u001b[0m\n\u001b[1;32m    770\u001b[0m         \u001b[0;32melse\u001b[0m\u001b[0;34m:\u001b[0m\u001b[0;34m\u001b[0m\u001b[0;34m\u001b[0m\u001b[0m\n\u001b[0;32m--> 771\u001b[0;31m             \u001b[0;32mraise\u001b[0m \u001b[0mself\u001b[0m\u001b[0;34m.\u001b[0m\u001b[0m_value\u001b[0m\u001b[0;34m\u001b[0m\u001b[0;34m\u001b[0m\u001b[0m\n\u001b[0m\u001b[1;32m    772\u001b[0m \u001b[0;34m\u001b[0m\u001b[0m\n\u001b[1;32m    773\u001b[0m     \u001b[0;32mdef\u001b[0m \u001b[0m_set\u001b[0m\u001b[0;34m(\u001b[0m\u001b[0mself\u001b[0m\u001b[0;34m,\u001b[0m \u001b[0mi\u001b[0m\u001b[0;34m,\u001b[0m \u001b[0mobj\u001b[0m\u001b[0;34m)\u001b[0m\u001b[0;34m:\u001b[0m\u001b[0;34m\u001b[0m\u001b[0;34m\u001b[0m\u001b[0m\n",
      "\u001b[0;31mIndexError\u001b[0m: list index out of range"
     ]
    },
    {
     "data": {
      "application/javascript": [
       "\n",
       "            setTimeout(function() {\n",
       "                var nbb_cell_id = 20;\n",
       "                var nbb_unformatted_code = \"# dont_test\\n\\nbyte = 8\\ngigabit = 10 ** 9\\nbandwidth = gigabit / byte\\nduration = 3\\nfile_size = 10 ** 7\\n\\n\\n# server = DjangoGunicornWSGIServer()\\nserver = FastAPIUvicornServer()\\n# client = AioHttpClient(name=\\\"aiohttp\\\")\\nclient = HttpxClient(name=\\\"httpx\\\")\\n# repository = SqliteRepository.build_repository(\\\"foo.db\\\")\\n\\nepoch = Epoch(file_size=file_size, duration=duration)\\n\\nepoch.create_files()\\n\\nresult = Result(\\n    server=server.name,\\n    client=client.name,\\n    file_size=epoch.file_size,\\n    complete_size=epoch.complete_size,\\n)\\n\\nif not server.started:\\n    server.start\\n\\nresult.elapsed = client.measure(epoch)\";\n",
       "                var nbb_formatted_code = \"# dont_test\\n\\nbyte = 8\\ngigabit = 10 ** 9\\nbandwidth = gigabit / byte\\nduration = 3\\nfile_size = 10 ** 7\\n\\n\\n# server = DjangoGunicornWSGIServer()\\nserver = FastAPIUvicornServer()\\n# client = AioHttpClient(name=\\\"aiohttp\\\")\\nclient = HttpxClient(name=\\\"httpx\\\")\\n# repository = SqliteRepository.build_repository(\\\"foo.db\\\")\\n\\nepoch = Epoch(file_size=file_size, duration=duration)\\n\\nepoch.create_files()\\n\\nresult = Result(\\n    server=server.name,\\n    client=client.name,\\n    file_size=epoch.file_size,\\n    complete_size=epoch.complete_size,\\n)\\n\\nif not server.started:\\n    server.start\\n\\nresult.elapsed = client.measure(epoch)\";\n",
       "                var nbb_cells = Jupyter.notebook.get_cells();\n",
       "                for (var i = 0; i < nbb_cells.length; ++i) {\n",
       "                    if (nbb_cells[i].input_prompt_number == nbb_cell_id) {\n",
       "                        if (nbb_cells[i].get_text() == nbb_unformatted_code) {\n",
       "                             nbb_cells[i].set_text(nbb_formatted_code);\n",
       "                        }\n",
       "                        break;\n",
       "                    }\n",
       "                }\n",
       "            }, 500);\n",
       "            "
      ],
      "text/plain": [
       "<IPython.core.display.Javascript object>"
      ]
     },
     "metadata": {},
     "output_type": "display_data"
    }
   ],
   "source": [
    "# dont_test\n",
    "\n",
    "byte = 8\n",
    "gigabit = 10 ** 9\n",
    "bandwidth = gigabit / byte\n",
    "duration = 3\n",
    "file_size = 10 ** 7\n",
    "\n",
    "\n",
    "# server = DjangoGunicornWSGIServer()\n",
    "server = FastAPIUvicornServer()\n",
    "# client = AioHttpClient(name=\"aiohttp\")\n",
    "client = HttpxClient(name=\"httpx\")\n",
    "# repository = SqliteRepository.build_repository(\"foo.db\")\n",
    "\n",
    "epoch = Epoch(file_size=file_size, duration=duration)\n",
    "\n",
    "epoch.create_files()\n",
    "\n",
    "result = Result(\n",
    "    server=server.name,\n",
    "    client=client.name,\n",
    "    file_size=epoch.file_size,\n",
    "    complete_size=epoch.complete_size,\n",
    ")\n",
    "\n",
    "if not server.started:\n",
    "    server.start\n",
    "\n",
    "result.elapsed = client.measure(epoch)"
   ]
  }
 ],
 "metadata": {
  "kernelspec": {
   "display_name": "Python 3",
   "language": "python",
   "name": "python3"
  },
  "language_info": {
   "codemirror_mode": {
    "name": "ipython",
    "version": 3
   },
   "file_extension": ".py",
   "mimetype": "text/x-python",
   "name": "python",
   "nbconvert_exporter": "python",
   "pygments_lexer": "ipython3",
   "version": "3.9.2"
  }
 },
 "nbformat": 4,
 "nbformat_minor": 5
}
