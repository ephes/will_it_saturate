{
 "cells": [
  {
   "cell_type": "code",
   "execution_count": null,
   "id": "recovered-venture",
   "metadata": {},
   "outputs": [
    {
     "data": {
      "application/javascript": [
       "\n",
       "            setTimeout(function() {\n",
       "                var nbb_cell_id = 1;\n",
       "                var nbb_unformatted_code = \"# hide\\n%load_ext nb_black\";\n",
       "                var nbb_formatted_code = \"# hide\\n%load_ext nb_black\";\n",
       "                var nbb_cells = Jupyter.notebook.get_cells();\n",
       "                for (var i = 0; i < nbb_cells.length; ++i) {\n",
       "                    if (nbb_cells[i].input_prompt_number == nbb_cell_id) {\n",
       "                        if (nbb_cells[i].get_text() == nbb_unformatted_code) {\n",
       "                             nbb_cells[i].set_text(nbb_formatted_code);\n",
       "                        }\n",
       "                        break;\n",
       "                    }\n",
       "                }\n",
       "            }, 500);\n",
       "            "
      ],
      "text/plain": [
       "<IPython.core.display.Javascript object>"
      ]
     },
     "metadata": {},
     "output_type": "display_data"
    }
   ],
   "source": [
    "# hide\n",
    "%load_ext nb_black"
   ]
  },
  {
   "cell_type": "code",
   "execution_count": null,
   "id": "oriented-denver",
   "metadata": {},
   "outputs": [
    {
     "data": {
      "application/javascript": [
       "\n",
       "            setTimeout(function() {\n",
       "                var nbb_cell_id = 2;\n",
       "                var nbb_unformatted_code = \"# default_exp servers\";\n",
       "                var nbb_formatted_code = \"# default_exp servers\";\n",
       "                var nbb_cells = Jupyter.notebook.get_cells();\n",
       "                for (var i = 0; i < nbb_cells.length; ++i) {\n",
       "                    if (nbb_cells[i].input_prompt_number == nbb_cell_id) {\n",
       "                        if (nbb_cells[i].get_text() == nbb_unformatted_code) {\n",
       "                             nbb_cells[i].set_text(nbb_formatted_code);\n",
       "                        }\n",
       "                        break;\n",
       "                    }\n",
       "                }\n",
       "            }, 500);\n",
       "            "
      ],
      "text/plain": [
       "<IPython.core.display.Javascript object>"
      ]
     },
     "metadata": {},
     "output_type": "display_data"
    }
   ],
   "source": [
    "# default_exp servers"
   ]
  },
  {
   "cell_type": "markdown",
   "id": "golden-campbell",
   "metadata": {},
   "source": [
    "## FastAPIUvicornServer"
   ]
  },
  {
   "cell_type": "code",
   "execution_count": null,
   "id": "likely-december",
   "metadata": {},
   "outputs": [
    {
     "data": {
      "application/javascript": [
       "\n",
       "            setTimeout(function() {\n",
       "                var nbb_cell_id = 3;\n",
       "                var nbb_unformatted_code = \"import time\\nimport subprocess\\n\\nfrom pathlib import Path\\n\\nfrom will_it_saturate.servers import BaseServer\\nfrom will_it_saturate.registry import register_model\";\n",
       "                var nbb_formatted_code = \"import time\\nimport subprocess\\n\\nfrom pathlib import Path\\n\\nfrom will_it_saturate.servers import BaseServer\\nfrom will_it_saturate.registry import register_model\";\n",
       "                var nbb_cells = Jupyter.notebook.get_cells();\n",
       "                for (var i = 0; i < nbb_cells.length; ++i) {\n",
       "                    if (nbb_cells[i].input_prompt_number == nbb_cell_id) {\n",
       "                        if (nbb_cells[i].get_text() == nbb_unformatted_code) {\n",
       "                             nbb_cells[i].set_text(nbb_formatted_code);\n",
       "                        }\n",
       "                        break;\n",
       "                    }\n",
       "                }\n",
       "            }, 500);\n",
       "            "
      ],
      "text/plain": [
       "<IPython.core.display.Javascript object>"
      ]
     },
     "metadata": {},
     "output_type": "display_data"
    }
   ],
   "source": [
    "import time\n",
    "import subprocess\n",
    "\n",
    "from pathlib import Path\n",
    "\n",
    "from will_it_saturate.servers import BaseServer\n",
    "from will_it_saturate.registry import register_model"
   ]
  },
  {
   "cell_type": "code",
   "execution_count": null,
   "id": "minimal-stopping",
   "metadata": {},
   "outputs": [
    {
     "data": {
      "application/javascript": [
       "\n",
       "            setTimeout(function() {\n",
       "                var nbb_cell_id = 11;\n",
       "                var nbb_unformatted_code = \"# export\\n\\n\\n@register_model\\nclass FastAPIUvicornServer(BaseServer):\\n    name: str = \\\"fastAPI/uvicorn\\\"\\n\\n    def get_pid(self):\\n        kwargs = {\\\"shell\\\": True, \\\"capture_output\\\": True, \\\"text\\\": True}\\n        output = subprocess.run(\\n            f\\\"ps aux | grep will_it_saturate.fastapi.main:app\\\", **kwargs\\n        )\\n        lines = [l for l in output.stdout.split(\\\"\\\\n\\\") if len(l) > 0 and \\\"grep\\\" not in l]\\n        if len(lines) > 0:\\n            pid = lines[0].split()[1]\\n            return pid\\n\\n    @property\\n    def started(self):\\n        return self.get_pid() is not None\\n\\n    def start_server(self):\\n        subprocess.Popen(\\n            [\\n                \\\"uvicorn\\\",\\n                \\\"--workers\\\",\\n                \\\"8\\\",\\n                \\\"--host\\\",\\n                str(self.host),\\n                \\\"--port\\\",\\n                str(self.port),\\n                \\\"--no-access-log\\\",\\n                \\\"will_it_saturate.fastapi.main:app\\\",\\n            ]\\n        )\\n        # subprocess.Popen([\\\"uvicorn\\\", \\\"will_it_saturate.fastapi.main:app\\\"])\\n\\n    def stop_server(self):\\n        subprocess.check_output([\\\"kill\\\", self.get_pid()])\\n        time.sleep(1)  # dunno why this is necessary\\n\\n    def start(self):\\n        if not self.started:\\n            self.start_server()\\n\\n    def stop(self):\\n        if self.started:\\n            self.stop_server()\";\n",
       "                var nbb_formatted_code = \"# export\\n\\n\\n@register_model\\nclass FastAPIUvicornServer(BaseServer):\\n    name: str = \\\"fastAPI/uvicorn\\\"\\n\\n    def get_pid(self):\\n        kwargs = {\\\"shell\\\": True, \\\"capture_output\\\": True, \\\"text\\\": True}\\n        output = subprocess.run(\\n            f\\\"ps aux | grep will_it_saturate.fastapi.main:app\\\", **kwargs\\n        )\\n        lines = [l for l in output.stdout.split(\\\"\\\\n\\\") if len(l) > 0 and \\\"grep\\\" not in l]\\n        if len(lines) > 0:\\n            pid = lines[0].split()[1]\\n            return pid\\n\\n    @property\\n    def started(self):\\n        return self.get_pid() is not None\\n\\n    def start_server(self):\\n        subprocess.Popen(\\n            [\\n                \\\"uvicorn\\\",\\n                \\\"--workers\\\",\\n                \\\"8\\\",\\n                \\\"--host\\\",\\n                str(self.host),\\n                \\\"--port\\\",\\n                str(self.port),\\n                \\\"--no-access-log\\\",\\n                \\\"will_it_saturate.fastapi.main:app\\\",\\n            ]\\n        )\\n        # subprocess.Popen([\\\"uvicorn\\\", \\\"will_it_saturate.fastapi.main:app\\\"])\\n\\n    def stop_server(self):\\n        subprocess.check_output([\\\"kill\\\", self.get_pid()])\\n        time.sleep(1)  # dunno why this is necessary\\n\\n    def start(self):\\n        if not self.started:\\n            self.start_server()\\n\\n    def stop(self):\\n        if self.started:\\n            self.stop_server()\";\n",
       "                var nbb_cells = Jupyter.notebook.get_cells();\n",
       "                for (var i = 0; i < nbb_cells.length; ++i) {\n",
       "                    if (nbb_cells[i].input_prompt_number == nbb_cell_id) {\n",
       "                        if (nbb_cells[i].get_text() == nbb_unformatted_code) {\n",
       "                             nbb_cells[i].set_text(nbb_formatted_code);\n",
       "                        }\n",
       "                        break;\n",
       "                    }\n",
       "                }\n",
       "            }, 500);\n",
       "            "
      ],
      "text/plain": [
       "<IPython.core.display.Javascript object>"
      ]
     },
     "metadata": {},
     "output_type": "display_data"
    }
   ],
   "source": [
    "# export\n",
    "\n",
    "\n",
    "@register_model\n",
    "class FastAPIUvicornServer(BaseServer):\n",
    "    name: str = \"fastAPI/uvicorn\"\n",
    "\n",
    "    def get_pid(self):\n",
    "        kwargs = {\"shell\": True, \"capture_output\": True, \"text\": True}\n",
    "        output = subprocess.run(\n",
    "            f\"ps aux | grep will_it_saturate.fastapi.main:app\", **kwargs\n",
    "        )\n",
    "        lines = [l for l in output.stdout.split(\"\\n\") if len(l) > 0 and \"grep\" not in l]\n",
    "        if len(lines) > 0:\n",
    "            pid = lines[0].split()[1]\n",
    "            return pid\n",
    "\n",
    "    @property\n",
    "    def started(self):\n",
    "        return self.get_pid() is not None\n",
    "\n",
    "    def start_server(self):\n",
    "        subprocess.Popen(\n",
    "            [\n",
    "                \"uvicorn\",\n",
    "                \"--workers\",\n",
    "                \"4\",\n",
    "                \"--host\",\n",
    "                str(self.host),\n",
    "                \"--port\",\n",
    "                str(self.port),\n",
    "                \"--no-access-log\",\n",
    "                \"will_it_saturate.fastapi.main:app\",\n",
    "            ]\n",
    "        )\n",
    "        # subprocess.Popen([\"uvicorn\", \"will_it_saturate.fastapi.main:app\"])\n",
    "\n",
    "    def stop_server(self):\n",
    "        subprocess.check_output([\"kill\", self.get_pid()])\n",
    "        time.sleep(1)  # dunno why this is necessary\n",
    "\n",
    "    def start(self):\n",
    "        if not self.started:\n",
    "            self.start_server()\n",
    "\n",
    "    def stop(self):\n",
    "        if self.started:\n",
    "            self.stop_server()"
   ]
  },
  {
   "cell_type": "markdown",
   "id": "compliant-devices",
   "metadata": {},
   "source": [
    "### Usage"
   ]
  },
  {
   "cell_type": "code",
   "execution_count": null,
   "id": "distinct-dream",
   "metadata": {},
   "outputs": [
    {
     "data": {
      "application/javascript": [
       "\n",
       "            setTimeout(function() {\n",
       "                var nbb_cell_id = 5;\n",
       "                var nbb_unformatted_code = \"# dont_test\\n\\n# server = FastAPIUvicornServer()\\n# server.start()\\n# print(server.get_pid())\\n# server.stop()\\n# print(\\\"stopped..\\\")\\n# print(server.get_pid())\\n# print(server.started)\";\n",
       "                var nbb_formatted_code = \"# dont_test\\n\\n# server = FastAPIUvicornServer()\\n# server.start()\\n# print(server.get_pid())\\n# server.stop()\\n# print(\\\"stopped..\\\")\\n# print(server.get_pid())\\n# print(server.started)\";\n",
       "                var nbb_cells = Jupyter.notebook.get_cells();\n",
       "                for (var i = 0; i < nbb_cells.length; ++i) {\n",
       "                    if (nbb_cells[i].input_prompt_number == nbb_cell_id) {\n",
       "                        if (nbb_cells[i].get_text() == nbb_unformatted_code) {\n",
       "                             nbb_cells[i].set_text(nbb_formatted_code);\n",
       "                        }\n",
       "                        break;\n",
       "                    }\n",
       "                }\n",
       "            }, 500);\n",
       "            "
      ],
      "text/plain": [
       "<IPython.core.display.Javascript object>"
      ]
     },
     "metadata": {},
     "output_type": "display_data"
    }
   ],
   "source": [
    "# dont_test\n",
    "\n",
    "# server = FastAPIUvicornServer()\n",
    "# server.start()\n",
    "# print(server.get_pid())\n",
    "# server.stop()\n",
    "# print(\"stopped..\")\n",
    "# print(server.get_pid())\n",
    "# print(server.started)"
   ]
  },
  {
   "cell_type": "code",
   "execution_count": null,
   "id": "68662cc2",
   "metadata": {},
   "outputs": [
    {
     "name": "stdout",
     "output_type": "stream",
     "text": [
      "None\n"
     ]
    },
    {
     "data": {
      "application/javascript": [
       "\n",
       "            setTimeout(function() {\n",
       "                var nbb_cell_id = 6;\n",
       "                var nbb_unformatted_code = \"server = FastAPIUvicornServer()\\nprint(server.get_pid())\";\n",
       "                var nbb_formatted_code = \"server = FastAPIUvicornServer()\\nprint(server.get_pid())\";\n",
       "                var nbb_cells = Jupyter.notebook.get_cells();\n",
       "                for (var i = 0; i < nbb_cells.length; ++i) {\n",
       "                    if (nbb_cells[i].input_prompt_number == nbb_cell_id) {\n",
       "                        if (nbb_cells[i].get_text() == nbb_unformatted_code) {\n",
       "                             nbb_cells[i].set_text(nbb_formatted_code);\n",
       "                        }\n",
       "                        break;\n",
       "                    }\n",
       "                }\n",
       "            }, 500);\n",
       "            "
      ],
      "text/plain": [
       "<IPython.core.display.Javascript object>"
      ]
     },
     "metadata": {},
     "output_type": "display_data"
    }
   ],
   "source": [
    "server = FastAPIUvicornServer()\n",
    "print(server.get_pid())"
   ]
  },
  {
   "cell_type": "code",
   "execution_count": null,
   "id": "1f1d7203",
   "metadata": {},
   "outputs": [
    {
     "data": {
      "application/javascript": [
       "\n",
       "            setTimeout(function() {\n",
       "                var nbb_cell_id = 7;\n",
       "                var nbb_unformatted_code = \"server.start()\";\n",
       "                var nbb_formatted_code = \"server.start()\";\n",
       "                var nbb_cells = Jupyter.notebook.get_cells();\n",
       "                for (var i = 0; i < nbb_cells.length; ++i) {\n",
       "                    if (nbb_cells[i].input_prompt_number == nbb_cell_id) {\n",
       "                        if (nbb_cells[i].get_text() == nbb_unformatted_code) {\n",
       "                             nbb_cells[i].set_text(nbb_formatted_code);\n",
       "                        }\n",
       "                        break;\n",
       "                    }\n",
       "                }\n",
       "            }, 500);\n",
       "            "
      ],
      "text/plain": [
       "<IPython.core.display.Javascript object>"
      ]
     },
     "metadata": {},
     "output_type": "display_data"
    },
    {
     "name": "stderr",
     "output_type": "stream",
     "text": [
      "Usage: uvicorn [OPTIONS] APP\n",
      "Try 'uvicorn --help' for help.\n",
      "\n",
      "Error: No such option: -w\n"
     ]
    }
   ],
   "source": [
    "server.start()"
   ]
  },
  {
   "cell_type": "code",
   "execution_count": null,
   "id": "24035b15",
   "metadata": {},
   "outputs": [
    {
     "name": "stderr",
     "output_type": "stream",
     "text": [
      "INFO:     Shutting down\n",
      "INFO:     Waiting for application shutdown.\n",
      "INFO:     Application shutdown complete.\n",
      "INFO:     Finished server process [25235]\n"
     ]
    },
    {
     "data": {
      "application/javascript": [
       "\n",
       "            setTimeout(function() {\n",
       "                var nbb_cell_id = 10;\n",
       "                var nbb_unformatted_code = \"server.stop()\";\n",
       "                var nbb_formatted_code = \"server.stop()\";\n",
       "                var nbb_cells = Jupyter.notebook.get_cells();\n",
       "                for (var i = 0; i < nbb_cells.length; ++i) {\n",
       "                    if (nbb_cells[i].input_prompt_number == nbb_cell_id) {\n",
       "                        if (nbb_cells[i].get_text() == nbb_unformatted_code) {\n",
       "                             nbb_cells[i].set_text(nbb_formatted_code);\n",
       "                        }\n",
       "                        break;\n",
       "                    }\n",
       "                }\n",
       "            }, 500);\n",
       "            "
      ],
      "text/plain": [
       "<IPython.core.display.Javascript object>"
      ]
     },
     "metadata": {},
     "output_type": "display_data"
    }
   ],
   "source": [
    "server.stop()"
   ]
  },
  {
   "cell_type": "markdown",
   "id": "parental-channels",
   "metadata": {},
   "source": [
    "## DjangoGunicornWSGIServer"
   ]
  },
  {
   "cell_type": "code",
   "execution_count": null,
   "id": "bulgarian-scientist",
   "metadata": {},
   "outputs": [
    {
     "data": {
      "application/javascript": [
       "\n",
       "            setTimeout(function() {\n",
       "                var nbb_cell_id = 5;\n",
       "                var nbb_unformatted_code = \"# export\\n\\n\\n@register_model\\nclass DjangoGunicornWSGIServer(BaseServer):\\n    name: str = \\\"django/gunicorn/wsgi\\\"\\n\\n    def get_pids(self):\\n        kwargs = {\\\"shell\\\": True, \\\"capture_output\\\": True, \\\"text\\\": True}\\n        output = subprocess.run(f\\\"ps aux | grep will_it_saturate.django.wsgi\\\", **kwargs)\\n        lines = [l for l in output.stdout.split(\\\"\\\\n\\\") if len(l) > 0 and \\\"grep\\\" not in l]\\n        print(len(lines))\\n        pids = []\\n        for line in lines:\\n            pid = line.split()[1]\\n            pids.append(pid)\\n        return pids\\n\\n    @property\\n    def started(self):\\n        return len(self.get_pids()) > 0\\n\\n    def start_server(self):\\n        subprocess.Popen(\\n            [\\n                \\\"gunicorn\\\",\\n                \\\"--backlog\\\",\\n                \\\"10000\\\",\\n                \\\"-w\\\",\\n                \\\"8\\\",\\n                \\\"-b\\\" f\\\":{self.port}\\\",\\n                \\\"will_it_saturate.django.wsgi\\\",\\n            ]\\n        )\\n        time.sleep(2)\\n\\n    def stop_server(self):\\n        kill_command = [\\\"kill\\\"]\\n        kill_command.extend(self.get_pids())\\n        subprocess.check_output(kill_command)\\n        time.sleep(1)  # dunno why this is necessary\\n\\n    def start(self):\\n        if not self.started:\\n            self.start_server()\\n\\n    def stop(self):\\n        if self.started:\\n            self.stop_server()\";\n",
       "                var nbb_formatted_code = \"# export\\n\\n\\n@register_model\\nclass DjangoGunicornWSGIServer(BaseServer):\\n    name: str = \\\"django/gunicorn/wsgi\\\"\\n\\n    def get_pids(self):\\n        kwargs = {\\\"shell\\\": True, \\\"capture_output\\\": True, \\\"text\\\": True}\\n        output = subprocess.run(f\\\"ps aux | grep will_it_saturate.django.wsgi\\\", **kwargs)\\n        lines = [l for l in output.stdout.split(\\\"\\\\n\\\") if len(l) > 0 and \\\"grep\\\" not in l]\\n        print(len(lines))\\n        pids = []\\n        for line in lines:\\n            pid = line.split()[1]\\n            pids.append(pid)\\n        return pids\\n\\n    @property\\n    def started(self):\\n        return len(self.get_pids()) > 0\\n\\n    def start_server(self):\\n        subprocess.Popen(\\n            [\\n                \\\"gunicorn\\\",\\n                \\\"--backlog\\\",\\n                \\\"10000\\\",\\n                \\\"-w\\\",\\n                \\\"8\\\",\\n                \\\"-b\\\" f\\\":{self.port}\\\",\\n                \\\"will_it_saturate.django.wsgi\\\",\\n            ]\\n        )\\n        time.sleep(2)\\n\\n    def stop_server(self):\\n        kill_command = [\\\"kill\\\"]\\n        kill_command.extend(self.get_pids())\\n        subprocess.check_output(kill_command)\\n        time.sleep(1)  # dunno why this is necessary\\n\\n    def start(self):\\n        if not self.started:\\n            self.start_server()\\n\\n    def stop(self):\\n        if self.started:\\n            self.stop_server()\";\n",
       "                var nbb_cells = Jupyter.notebook.get_cells();\n",
       "                for (var i = 0; i < nbb_cells.length; ++i) {\n",
       "                    if (nbb_cells[i].input_prompt_number == nbb_cell_id) {\n",
       "                        if (nbb_cells[i].get_text() == nbb_unformatted_code) {\n",
       "                             nbb_cells[i].set_text(nbb_formatted_code);\n",
       "                        }\n",
       "                        break;\n",
       "                    }\n",
       "                }\n",
       "            }, 500);\n",
       "            "
      ],
      "text/plain": [
       "<IPython.core.display.Javascript object>"
      ]
     },
     "metadata": {},
     "output_type": "display_data"
    }
   ],
   "source": [
    "# export\n",
    "\n",
    "\n",
    "@register_model\n",
    "class DjangoGunicornWSGIServer(BaseServer):\n",
    "    name: str = \"django/gunicorn/wsgi\"\n",
    "\n",
    "    def get_pids(self):\n",
    "        kwargs = {\"shell\": True, \"capture_output\": True, \"text\": True}\n",
    "        output = subprocess.run(f\"ps aux | grep will_it_saturate.django.wsgi\", **kwargs)\n",
    "        lines = [l for l in output.stdout.split(\"\\n\") if len(l) > 0 and \"grep\" not in l]\n",
    "        print(len(lines))\n",
    "        pids = []\n",
    "        for line in lines:\n",
    "            pid = line.split()[1]\n",
    "            pids.append(pid)\n",
    "        return pids\n",
    "\n",
    "    @property\n",
    "    def started(self):\n",
    "        return len(self.get_pids()) > 0\n",
    "\n",
    "    def start_server(self):\n",
    "        subprocess.Popen(\n",
    "            [\n",
    "                \"gunicorn\",\n",
    "                \"--backlog\",\n",
    "                \"10000\",\n",
    "                \"-w\",\n",
    "                \"8\",\n",
    "                \"-b\" f\":{self.port}\",\n",
    "                \"will_it_saturate.django.wsgi\",\n",
    "            ]\n",
    "        )\n",
    "        time.sleep(2)\n",
    "\n",
    "    def stop_server(self):\n",
    "        kill_command = [\"kill\"]\n",
    "        kill_command.extend(self.get_pids())\n",
    "        subprocess.check_output(kill_command)\n",
    "        time.sleep(1)  # dunno why this is necessary\n",
    "\n",
    "    def start(self):\n",
    "        if not self.started:\n",
    "            self.start_server()\n",
    "\n",
    "    def stop(self):\n",
    "        if self.started:\n",
    "            self.stop_server()"
   ]
  },
  {
   "cell_type": "code",
   "execution_count": null,
   "id": "hazardous-biography",
   "metadata": {},
   "outputs": [
    {
     "name": "stdout",
     "output_type": "stream",
     "text": [
      "9\n",
      "['25638', '25637', '25636', '25635', '25630', '25634', '25633', '25632', '25631']\n",
      "9\n",
      "9\n",
      "0\n",
      "[]\n",
      "0\n",
      "False\n"
     ]
    },
    {
     "data": {
      "application/javascript": [
       "\n",
       "            setTimeout(function() {\n",
       "                var nbb_cell_id = 7;\n",
       "                var nbb_unformatted_code = \"# dont_test\\n\\nserver = DjangoGunicornWSGIServer()\\nserver.start_server()\\nprint(server.get_pids())\\nserver.stop()\\nprint(server.get_pids())\\nprint(server.started)\";\n",
       "                var nbb_formatted_code = \"# dont_test\\n\\nserver = DjangoGunicornWSGIServer()\\nserver.start_server()\\nprint(server.get_pids())\\nserver.stop()\\nprint(server.get_pids())\\nprint(server.started)\";\n",
       "                var nbb_cells = Jupyter.notebook.get_cells();\n",
       "                for (var i = 0; i < nbb_cells.length; ++i) {\n",
       "                    if (nbb_cells[i].input_prompt_number == nbb_cell_id) {\n",
       "                        if (nbb_cells[i].get_text() == nbb_unformatted_code) {\n",
       "                             nbb_cells[i].set_text(nbb_formatted_code);\n",
       "                        }\n",
       "                        break;\n",
       "                    }\n",
       "                }\n",
       "            }, 500);\n",
       "            "
      ],
      "text/plain": [
       "<IPython.core.display.Javascript object>"
      ]
     },
     "metadata": {},
     "output_type": "display_data"
    }
   ],
   "source": [
    "# dont_test\n",
    "\n",
    "server = DjangoGunicornWSGIServer()\n",
    "server.start_server()\n",
    "print(server.get_pids())\n",
    "server.stop()\n",
    "print(server.get_pids())\n",
    "print(server.started)"
   ]
  },
  {
   "cell_type": "markdown",
   "id": "9234cc8d",
   "metadata": {},
   "source": [
    "# Caddy"
   ]
  },
  {
   "cell_type": "code",
   "execution_count": null,
   "id": "08524a71",
   "metadata": {},
   "outputs": [
    {
     "data": {
      "application/javascript": [
       "\n",
       "            setTimeout(function() {\n",
       "                var nbb_cell_id = 6;\n",
       "                var nbb_unformatted_code = \"# export\\n\\n\\n@register_model\\nclass CaddyFileServer(BaseServer):\\n    name: str = \\\"caddy\\\"\\n\\n    def get_pids(self):\\n        kwargs = {\\\"shell\\\": True, \\\"capture_output\\\": True, \\\"text\\\": True}\\n        output = subprocess.run(f\\\"ps aux | grep -i caddy\\\", **kwargs)\\n        lines = [l for l in output.stdout.split(\\\"\\\\n\\\") if len(l) > 0 and \\\"grep\\\" not in l]\\n        print(len(lines))\\n        pids = []\\n        for line in lines:\\n            pid = line.split()[1]\\n            pids.append(pid)\\n        return pids\\n\\n    @property\\n    def started(self):\\n        return len(self.get_pids()) > 0\\n\\n    def start_server(self):\\n        subprocess.Popen(\\n            [\\n                \\\"caddy\\\",\\n                \\\"file-server\\\",\\n                \\\"--listen\\\",\\n                f\\\"0.0.0.0:{self.port}\\\",\\n            ]\\n        )\\n        time.sleep(2)\\n\\n    def stop_server(self):\\n        kill_command = [\\\"kill\\\"]\\n        kill_command.extend(self.get_pids())\\n        subprocess.check_output(kill_command)\\n        time.sleep(1)  # dunno why this is necessary\\n\\n    def start(self):\\n        if not self.started:\\n            self.start_server()\\n\\n    def stop(self):\\n        if self.started:\\n            self.stop_server()\";\n",
       "                var nbb_formatted_code = \"# export\\n\\n\\n@register_model\\nclass CaddyFileServer(BaseServer):\\n    name: str = \\\"caddy\\\"\\n\\n    def get_pids(self):\\n        kwargs = {\\\"shell\\\": True, \\\"capture_output\\\": True, \\\"text\\\": True}\\n        output = subprocess.run(f\\\"ps aux | grep -i caddy\\\", **kwargs)\\n        lines = [l for l in output.stdout.split(\\\"\\\\n\\\") if len(l) > 0 and \\\"grep\\\" not in l]\\n        print(len(lines))\\n        pids = []\\n        for line in lines:\\n            pid = line.split()[1]\\n            pids.append(pid)\\n        return pids\\n\\n    @property\\n    def started(self):\\n        return len(self.get_pids()) > 0\\n\\n    def start_server(self):\\n        subprocess.Popen(\\n            [\\n                \\\"caddy\\\",\\n                \\\"file-server\\\",\\n                \\\"--listen\\\",\\n                f\\\"0.0.0.0:{self.port}\\\",\\n            ]\\n        )\\n        time.sleep(2)\\n\\n    def stop_server(self):\\n        kill_command = [\\\"kill\\\"]\\n        kill_command.extend(self.get_pids())\\n        subprocess.check_output(kill_command)\\n        time.sleep(1)  # dunno why this is necessary\\n\\n    def start(self):\\n        if not self.started:\\n            self.start_server()\\n\\n    def stop(self):\\n        if self.started:\\n            self.stop_server()\";\n",
       "                var nbb_cells = Jupyter.notebook.get_cells();\n",
       "                for (var i = 0; i < nbb_cells.length; ++i) {\n",
       "                    if (nbb_cells[i].input_prompt_number == nbb_cell_id) {\n",
       "                        if (nbb_cells[i].get_text() == nbb_unformatted_code) {\n",
       "                             nbb_cells[i].set_text(nbb_formatted_code);\n",
       "                        }\n",
       "                        break;\n",
       "                    }\n",
       "                }\n",
       "            }, 500);\n",
       "            "
      ],
      "text/plain": [
       "<IPython.core.display.Javascript object>"
      ]
     },
     "metadata": {},
     "output_type": "display_data"
    }
   ],
   "source": [
    "# export\n",
    "\n",
    "\n",
    "@register_model\n",
    "class CaddyFileServer(BaseServer):\n",
    "    name: str = \"caddy\"\n",
    "\n",
    "    def get_pids(self):\n",
    "        kwargs = {\"shell\": True, \"capture_output\": True, \"text\": True}\n",
    "        output = subprocess.run(f\"ps aux | grep -i caddy\", **kwargs)\n",
    "        lines = [l for l in output.stdout.split(\"\\n\") if len(l) > 0 and \"grep\" not in l]\n",
    "        print(len(lines))\n",
    "        pids = []\n",
    "        for line in lines:\n",
    "            pid = line.split()[1]\n",
    "            pids.append(pid)\n",
    "        return pids\n",
    "\n",
    "    @property\n",
    "    def started(self):\n",
    "        return len(self.get_pids()) > 0\n",
    "\n",
    "    def start_server(self):\n",
    "        subprocess.Popen(\n",
    "            [\n",
    "                \"caddy\",\n",
    "                \"file-server\",\n",
    "                \"--listen\",\n",
    "                f\"0.0.0.0:{self.port}\",\n",
    "            ]\n",
    "        )\n",
    "        time.sleep(2)\n",
    "\n",
    "    def stop_server(self):\n",
    "        kill_command = [\"kill\"]\n",
    "        kill_command.extend(self.get_pids())\n",
    "        subprocess.check_output(kill_command)\n",
    "        time.sleep(1)  # dunno why this is necessary\n",
    "\n",
    "    def start(self):\n",
    "        if not self.started:\n",
    "            self.start_server()\n",
    "\n",
    "    def stop(self):\n",
    "        if self.started:\n",
    "            self.stop_server()"
   ]
  },
  {
   "cell_type": "code",
   "execution_count": null,
   "id": "990c013f",
   "metadata": {},
   "outputs": [
    {
     "name": "stderr",
     "output_type": "stream",
     "text": [
      "{\"level\":\"warn\",\"ts\":1648802602.167109,\"logger\":\"admin\",\"msg\":\"admin endpoint disabled\"}\n",
      "{\"level\":\"info\",\"ts\":1648802602.1672041,\"logger\":\"tls.cache.maintenance\",\"msg\":\"started background certificate maintenance\",\"cache\":\"0x140008c3dc0\"}\n",
      "{\"level\":\"info\",\"ts\":1648802602.167552,\"logger\":\"tls\",\"msg\":\"cleaning storage unit\",\"description\":\"FileStorage:/Users/jochen/Library/Application Support/Caddy\"}\n",
      "{\"level\":\"info\",\"ts\":1648802602.167604,\"logger\":\"tls\",\"msg\":\"finished cleaning storage units\"}\n",
      "{\"level\":\"info\",\"ts\":1648802602.16818,\"msg\":\"autosaved config (load with --resume flag)\",\"file\":\"/Users/jochen/Library/Application Support/Caddy/autosave.json\"}\n",
      "2022/04/01 10:43:22 Caddy 2 serving static files on 0.0.0.0:5001\n"
     ]
    },
    {
     "name": "stdout",
     "output_type": "stream",
     "text": [
      "1\n",
      "['11319']\n",
      "1\n",
      "1\n"
     ]
    },
    {
     "name": "stderr",
     "output_type": "stream",
     "text": [
      "{\"level\":\"info\",\"ts\":1648802604.331993,\"msg\":\"shutting down apps, then terminating\",\"signal\":\"SIGTERM\"}\n",
      "{\"level\":\"warn\",\"ts\":1648802604.332008,\"msg\":\"exiting; byeee!! 👋\",\"signal\":\"SIGTERM\"}\n",
      "{\"level\":\"info\",\"ts\":1648802604.33333,\"logger\":\"tls.cache.maintenance\",\"msg\":\"stopped background certificate maintenance\",\"cache\":\"0x140008c3dc0\"}\n",
      "{\"level\":\"info\",\"ts\":1648802604.333366,\"msg\":\"shutdown complete\",\"signal\":\"SIGTERM\",\"exit_code\":0}\n"
     ]
    },
    {
     "name": "stdout",
     "output_type": "stream",
     "text": [
      "0\n",
      "[]\n",
      "0\n",
      "False\n"
     ]
    }
   ],
   "source": [
    "# dont_test\n",
    "\n",
    "server = CaddyFileServer(port=5001)\n",
    "server.start_server()\n",
    "print(server.get_pids())\n",
    "server.stop()\n",
    "print(server.get_pids())\n",
    "print(server.started)"
   ]
  },
  {
   "cell_type": "markdown",
   "id": "1f115ee6",
   "metadata": {},
   "source": [
    "# Nginx"
   ]
  },
  {
   "cell_type": "code",
   "execution_count": null,
   "id": "3eb1cfe7",
   "metadata": {},
   "outputs": [
    {
     "data": {
      "application/javascript": [
       "\n",
       "            setTimeout(function() {\n",
       "                var nbb_cell_id = 7;\n",
       "                var nbb_unformatted_code = \"# export\\n\\n\\n@register_model\\nclass NginxFileServer(BaseServer):\\n    name: str = \\\"nginx/minimal\\\"\\n\\n    def get_pids(self):\\n        kwargs = {\\\"shell\\\": True, \\\"capture_output\\\": True, \\\"text\\\": True}\\n        output = subprocess.run(f\\\"ps aux | grep -i nginx\\\", **kwargs)\\n        lines = [l for l in output.stdout.split(\\\"\\\\n\\\") if len(l) > 0 and \\\"grep\\\" not in l]\\n        print(len(lines))\\n        pids = []\\n        for line in lines:\\n            pid = line.split()[1]\\n            pids.append(pid)\\n        return pids\\n\\n    @property\\n    def started(self):\\n        return len(self.get_pids()) > 0\\n\\n    def create_config(self):\\n        cwd = Path.cwd()\\n        server_root = str(cwd)\\n        config = f\\\"\\\"\\\"\\ndaemon off;\\nerror_log /dev/null;\\npid /tmp/nginx.pid;\\nevents {{}}\\nhttp {{\\n    server {{\\n        listen {self.port};\\n        sendfile           off;\\n        tcp_nopush         off;\\n        tcp_nodelay        off;\\n        root {server_root};\\n    }}\\n}}\\n        \\\"\\\"\\\"\\n        config_path = cwd / \\\"nginx.conf\\\"\\n        with config_path.open(\\\"w\\\") as f:\\n            f.write(config)\\n        return config_path\\n\\n    def start_server(self):\\n        config_path = self.create_config()\\n        subprocess.Popen(\\n            [\\n                \\\"nginx\\\",\\n                \\\"-c\\\",\\n                str(config_path),\\n            ]\\n        )\\n        time.sleep(2)\\n\\n    def stop_server(self):\\n        kill_command = [\\\"kill\\\"]\\n        kill_command.extend(self.get_pids())\\n        subprocess.check_output(kill_command)\\n        time.sleep(1)  # dunno why this is necessary\\n\\n    def start(self):\\n        if not self.started:\\n            self.start_server()\\n\\n    def stop(self):\\n        if self.started:\\n            self.stop_server()\\n\\n\\n@register_model\\nclass NginxSendfileServer(NginxFileServer):\\n    name: str = \\\"nginx/sendfile\\\"\\n\\n    def create_config(self):\\n        cwd = Path.cwd()\\n        server_root = str(cwd)\\n        config = f\\\"\\\"\\\"\\nerror_log /dev/null;\\npid /tmp/nginx.pid;\\ndaemon off;\\nevents {{}}\\nhttp {{\\n    server {{\\n        listen    {self.port};\\n        sendfile           on;\\n        sendfile_max_chunk 1m;\\n        tcp_nopush         on;\\n        tcp_nodelay        on;\\n        keepalive_timeout  65;\\n        root {server_root};\\n    }}\\n}}\\n        \\\"\\\"\\\"\\n        print(config)\\n        config_path = cwd / \\\"nginx.conf\\\"\\n        with config_path.open(\\\"w\\\") as f:\\n            f.write(config)\\n        return config_path\";\n",
       "                var nbb_formatted_code = \"# export\\n\\n\\n@register_model\\nclass NginxFileServer(BaseServer):\\n    name: str = \\\"nginx/minimal\\\"\\n\\n    def get_pids(self):\\n        kwargs = {\\\"shell\\\": True, \\\"capture_output\\\": True, \\\"text\\\": True}\\n        output = subprocess.run(f\\\"ps aux | grep -i nginx\\\", **kwargs)\\n        lines = [l for l in output.stdout.split(\\\"\\\\n\\\") if len(l) > 0 and \\\"grep\\\" not in l]\\n        print(len(lines))\\n        pids = []\\n        for line in lines:\\n            pid = line.split()[1]\\n            pids.append(pid)\\n        return pids\\n\\n    @property\\n    def started(self):\\n        return len(self.get_pids()) > 0\\n\\n    def create_config(self):\\n        cwd = Path.cwd()\\n        server_root = str(cwd)\\n        config = f\\\"\\\"\\\"\\ndaemon off;\\nerror_log /dev/null;\\npid /tmp/nginx.pid;\\nevents {{}}\\nhttp {{\\n    server {{\\n        listen {self.port};\\n        sendfile           off;\\n        tcp_nopush         off;\\n        tcp_nodelay        off;\\n        root {server_root};\\n    }}\\n}}\\n        \\\"\\\"\\\"\\n        config_path = cwd / \\\"nginx.conf\\\"\\n        with config_path.open(\\\"w\\\") as f:\\n            f.write(config)\\n        return config_path\\n\\n    def start_server(self):\\n        config_path = self.create_config()\\n        subprocess.Popen(\\n            [\\n                \\\"nginx\\\",\\n                \\\"-c\\\",\\n                str(config_path),\\n            ]\\n        )\\n        time.sleep(2)\\n\\n    def stop_server(self):\\n        kill_command = [\\\"kill\\\"]\\n        kill_command.extend(self.get_pids())\\n        subprocess.check_output(kill_command)\\n        time.sleep(1)  # dunno why this is necessary\\n\\n    def start(self):\\n        if not self.started:\\n            self.start_server()\\n\\n    def stop(self):\\n        if self.started:\\n            self.stop_server()\\n\\n\\n@register_model\\nclass NginxSendfileServer(NginxFileServer):\\n    name: str = \\\"nginx/sendfile\\\"\\n\\n    def create_config(self):\\n        cwd = Path.cwd()\\n        server_root = str(cwd)\\n        config = f\\\"\\\"\\\"\\nerror_log /dev/null;\\npid /tmp/nginx.pid;\\ndaemon off;\\nevents {{}}\\nhttp {{\\n    server {{\\n        listen    {self.port};\\n        sendfile           on;\\n        sendfile_max_chunk 1m;\\n        tcp_nopush         on;\\n        tcp_nodelay        on;\\n        keepalive_timeout  65;\\n        root {server_root};\\n    }}\\n}}\\n        \\\"\\\"\\\"\\n        print(config)\\n        config_path = cwd / \\\"nginx.conf\\\"\\n        with config_path.open(\\\"w\\\") as f:\\n            f.write(config)\\n        return config_path\";\n",
       "                var nbb_cells = Jupyter.notebook.get_cells();\n",
       "                for (var i = 0; i < nbb_cells.length; ++i) {\n",
       "                    if (nbb_cells[i].input_prompt_number == nbb_cell_id) {\n",
       "                        if (nbb_cells[i].get_text() == nbb_unformatted_code) {\n",
       "                             nbb_cells[i].set_text(nbb_formatted_code);\n",
       "                        }\n",
       "                        break;\n",
       "                    }\n",
       "                }\n",
       "            }, 500);\n",
       "            "
      ],
      "text/plain": [
       "<IPython.core.display.Javascript object>"
      ]
     },
     "metadata": {},
     "output_type": "display_data"
    }
   ],
   "source": [
    "# export\n",
    "\n",
    "\n",
    "@register_model\n",
    "class NginxFileServer(BaseServer):\n",
    "    name: str = \"nginx/minimal\"\n",
    "\n",
    "    def get_pids(self):\n",
    "        kwargs = {\"shell\": True, \"capture_output\": True, \"text\": True}\n",
    "        output = subprocess.run(f\"ps aux | grep -i nginx\", **kwargs)\n",
    "        lines = [l for l in output.stdout.split(\"\\n\") if len(l) > 0 and \"grep\" not in l]\n",
    "        print(len(lines))\n",
    "        pids = []\n",
    "        for line in lines:\n",
    "            pid = line.split()[1]\n",
    "            pids.append(pid)\n",
    "        return pids\n",
    "\n",
    "    @property\n",
    "    def started(self):\n",
    "        return len(self.get_pids()) > 0\n",
    "\n",
    "    def create_config(self):\n",
    "        cwd = Path.cwd()\n",
    "        server_root = str(cwd)\n",
    "        config = f\"\"\"\n",
    "daemon off;\n",
    "worker_processes 4;\n",
    "error_log /dev/null;\n",
    "pid /tmp/nginx.pid;\n",
    "events {{}}\n",
    "http {{\n",
    "    server {{\n",
    "        listen {self.port};\n",
    "        sendfile           off;\n",
    "        tcp_nopush         off;\n",
    "        tcp_nodelay        off;\n",
    "        root {server_root};\n",
    "    }}\n",
    "}}\n",
    "        \"\"\"\n",
    "        config_path = cwd / \"nginx.conf\"\n",
    "        with config_path.open(\"w\") as f:\n",
    "            f.write(config)\n",
    "        return config_path\n",
    "\n",
    "    def start_server(self):\n",
    "        config_path = self.create_config()\n",
    "        subprocess.Popen(\n",
    "            [\n",
    "                \"nginx\",\n",
    "                \"-c\",\n",
    "                str(config_path),\n",
    "            ]\n",
    "        )\n",
    "        time.sleep(2)\n",
    "\n",
    "    def stop_server(self):\n",
    "        kill_command = [\"kill\"]\n",
    "        kill_command.extend(self.get_pids())\n",
    "        subprocess.check_output(kill_command)\n",
    "        time.sleep(1)  # dunno why this is necessary\n",
    "\n",
    "    def start(self):\n",
    "        if not self.started:\n",
    "            self.start_server()\n",
    "\n",
    "    def stop(self):\n",
    "        if self.started:\n",
    "            self.stop_server()\n",
    "\n",
    "\n",
    "@register_model\n",
    "class NginxSendfileServer(NginxFileServer):\n",
    "    name: str = \"nginx/sendfile\"\n",
    "\n",
    "    def create_config(self):\n",
    "        cwd = Path.cwd()\n",
    "        server_root = str(cwd)\n",
    "        config = f\"\"\"\n",
    "error_log /dev/null;\n",
    "pid /tmp/nginx.pid;\n",
    "worker_processes 4;\n",
    "daemon off;\n",
    "events {{}}\n",
    "http {{\n",
    "    server {{\n",
    "        listen    {self.port};\n",
    "        sendfile           on;\n",
    "        sendfile_max_chunk 1m;\n",
    "        tcp_nopush         on;\n",
    "        tcp_nodelay        on;\n",
    "        keepalive_timeout  65;\n",
    "        root {server_root};\n",
    "    }}\n",
    "}}\n",
    "        \"\"\"\n",
    "        print(config)\n",
    "        config_path = cwd / \"nginx.conf\"\n",
    "        with config_path.open(\"w\") as f:\n",
    "            f.write(config)\n",
    "        return config_path"
   ]
  },
  {
   "cell_type": "code",
   "execution_count": null,
   "id": "4f148ca0",
   "metadata": {},
   "outputs": [
    {
     "name": "stdout",
     "output_type": "stream",
     "text": [
      "\n",
      "daemon off;\n",
      "events {}\n",
      "http {\n",
      "    server {\n",
      "        listen 5001;\n",
      "        sendfile        on;\n",
      "        sendfile_max_chunk 1m;\n",
      "        root /Users/jochen/projects/will_it_saturate;\n",
      "    }\n",
      "}\n",
      "        \n",
      "2\n",
      "['39178', '39177']\n",
      "2\n",
      "2\n",
      "0\n",
      "[]\n",
      "0\n",
      "False\n"
     ]
    },
    {
     "data": {
      "application/javascript": [
       "\n",
       "            setTimeout(function() {\n",
       "                var nbb_cell_id = 26;\n",
       "                var nbb_unformatted_code = \"# dont_test\\n\\n# server = NginxFileServer(port=5001)\\nserver = NginxSendfileServer(port=5001)\\nserver.start_server()\\nprint(server.get_pids())\\nserver.stop()\\nprint(server.get_pids())\\nprint(server.started)\";\n",
       "                var nbb_formatted_code = \"# dont_test\\n\\n# server = NginxFileServer(port=5001)\\nserver = NginxSendfileServer(port=5001)\\nserver.start_server()\\nprint(server.get_pids())\\nserver.stop()\\nprint(server.get_pids())\\nprint(server.started)\";\n",
       "                var nbb_cells = Jupyter.notebook.get_cells();\n",
       "                for (var i = 0; i < nbb_cells.length; ++i) {\n",
       "                    if (nbb_cells[i].input_prompt_number == nbb_cell_id) {\n",
       "                        if (nbb_cells[i].get_text() == nbb_unformatted_code) {\n",
       "                             nbb_cells[i].set_text(nbb_formatted_code);\n",
       "                        }\n",
       "                        break;\n",
       "                    }\n",
       "                }\n",
       "            }, 500);\n",
       "            "
      ],
      "text/plain": [
       "<IPython.core.display.Javascript object>"
      ]
     },
     "metadata": {},
     "output_type": "display_data"
    }
   ],
   "source": [
    "# dont_test\n",
    "\n",
    "# server = NginxFileServer(port=5001)\n",
    "server = NginxSendfileServer(port=5001)\n",
    "server.start_server()\n",
    "print(server.get_pids())\n",
    "server.stop()\n",
    "print(server.get_pids())\n",
    "print(server.started)"
   ]
  },
  {
   "cell_type": "code",
   "execution_count": null,
   "id": "dress-ghost",
   "metadata": {},
   "outputs": [
    {
     "name": "stdout",
     "output_type": "stream",
     "text": [
      "Converted 00_index.ipynb.\n",
      "Converted 01_config.ipynb.\n",
      "Converted 01_host.ipynb.\n",
      "Converted 02_file.ipynb.\n",
      "Converted 03_registry.ipynb.\n",
      "Converted 04_epochs.ipynb.\n",
      "Converted 10_servers.ipynb.\n",
      "Converted 11_fastapi_main.ipynb.\n",
      "Converted 12_django_views.ipynb.\n",
      "Converted 13_django_handlers.ipynb.\n",
      "Converted 14_django_http.ipynb.\n",
      "Converted 15_django_asgi.ipynb.\n",
      "Converted 15_django_async_settings.ipynb.\n",
      "Converted 15_django_settings.ipynb.\n",
      "Converted 15_django_urls.ipynb.\n",
      "Converted 15_django_wsgi.ipynb.\n",
      "Converted 16_minio.ipynb.\n",
      "Converted 16_servers_started_locally.ipynb.\n",
      "Converted 16_servers_started_via_docker.ipynb.\n",
      "Converted 20_clients.ipynb.\n",
      "Converted 21_benchmark_client_implementations.ipynb.\n",
      "Converted 22_gevent_client.ipynb.\n",
      "Converted 30_control_server.ipynb.\n",
      "Converted 31_control_client.ipynb.\n",
      "Converted 32_control_cli.ipynb.\n",
      "Converted 40_results.ipynb.\n",
      "Converted 41_repositories.ipynb.\n",
      "Converted 42_sqlite_repository.ipynb.\n",
      "Converted 50_benchmark_without_benchmark.ipynb.\n",
      "Converted 51_benchmark_remote_control_server.ipynb.\n",
      "Converted 52_benchmark_from_config.ipynb.\n",
      "Converted 52_generate_files_for_benchmark.ipynb.\n",
      "Converted 53_analyze.ipynb.\n",
      "Converted 54_measure_with_plots.ipynb.\n",
      "Converted 54_measure_with_plots_not_gevent.ipynb.\n",
      "Converted 55_create_minio_files.ipynb.\n",
      "Converted 60_legacy.ipynb.\n",
      "Converted 61_run_benchmark.ipynb.\n",
      "Converted 62_run_benchmark-caddy.ipynb.\n",
      "Converted 63_run_benchmark_multiple_servers.ipynb.\n"
     ]
    },
    {
     "data": {
      "application/javascript": [
       "\n",
       "            setTimeout(function() {\n",
       "                var nbb_cell_id = 12;\n",
       "                var nbb_unformatted_code = \"# hide\\n# dont_test\\n\\nfrom nbdev.export import notebook2script\\n\\nnotebook2script()\";\n",
       "                var nbb_formatted_code = \"# hide\\n# dont_test\\n\\nfrom nbdev.export import notebook2script\\n\\nnotebook2script()\";\n",
       "                var nbb_cells = Jupyter.notebook.get_cells();\n",
       "                for (var i = 0; i < nbb_cells.length; ++i) {\n",
       "                    if (nbb_cells[i].input_prompt_number == nbb_cell_id) {\n",
       "                        if (nbb_cells[i].get_text() == nbb_unformatted_code) {\n",
       "                             nbb_cells[i].set_text(nbb_formatted_code);\n",
       "                        }\n",
       "                        break;\n",
       "                    }\n",
       "                }\n",
       "            }, 500);\n",
       "            "
      ],
      "text/plain": [
       "<IPython.core.display.Javascript object>"
      ]
     },
     "metadata": {},
     "output_type": "display_data"
    }
   ],
   "source": [
    "# hide\n",
    "# dont_test\n",
    "\n",
    "from nbdev.export import notebook2script\n",
    "\n",
    "notebook2script()"
   ]
  },
  {
   "cell_type": "code",
   "execution_count": null,
   "id": "bcf49b7c",
   "metadata": {},
   "outputs": [],
   "source": []
  }
 ],
 "metadata": {
  "kernelspec": {
   "display_name": "Python 3 (ipykernel)",
   "language": "python",
   "name": "python3"
  }
 },
 "nbformat": 4,
 "nbformat_minor": 5
}
