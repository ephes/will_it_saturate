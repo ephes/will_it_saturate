{
 "cells": [
  {
   "cell_type": "code",
   "execution_count": null,
   "id": "automotive-brooks",
   "metadata": {},
   "outputs": [
    {
     "data": {
      "application/javascript": [
       "\n",
       "            setTimeout(function() {\n",
       "                var nbb_cell_id = 1;\n",
       "                var nbb_unformatted_code = \"%load_ext nb_black\";\n",
       "                var nbb_formatted_code = \"%load_ext nb_black\";\n",
       "                var nbb_cells = Jupyter.notebook.get_cells();\n",
       "                for (var i = 0; i < nbb_cells.length; ++i) {\n",
       "                    if (nbb_cells[i].input_prompt_number == nbb_cell_id) {\n",
       "                        if (nbb_cells[i].get_text() == nbb_unformatted_code) {\n",
       "                             nbb_cells[i].set_text(nbb_formatted_code);\n",
       "                        }\n",
       "                        break;\n",
       "                    }\n",
       "                }\n",
       "            }, 500);\n",
       "            "
      ],
      "text/plain": [
       "<IPython.core.display.Javascript object>"
      ]
     },
     "metadata": {},
     "output_type": "display_data"
    }
   ],
   "source": [
    "%load_ext nb_black"
   ]
  },
  {
   "cell_type": "code",
   "execution_count": null,
   "id": "incorporated-ebony",
   "metadata": {},
   "outputs": [
    {
     "data": {
      "application/javascript": [
       "\n",
       "            setTimeout(function() {\n",
       "                var nbb_cell_id = 2;\n",
       "                var nbb_unformatted_code = \"# default_exp epochs\";\n",
       "                var nbb_formatted_code = \"# default_exp epochs\";\n",
       "                var nbb_cells = Jupyter.notebook.get_cells();\n",
       "                for (var i = 0; i < nbb_cells.length; ++i) {\n",
       "                    if (nbb_cells[i].input_prompt_number == nbb_cell_id) {\n",
       "                        if (nbb_cells[i].get_text() == nbb_unformatted_code) {\n",
       "                             nbb_cells[i].set_text(nbb_formatted_code);\n",
       "                        }\n",
       "                        break;\n",
       "                    }\n",
       "                }\n",
       "            }, 500);\n",
       "            "
      ],
      "text/plain": [
       "<IPython.core.display.Javascript object>"
      ]
     },
     "metadata": {},
     "output_type": "display_data"
    }
   ],
   "source": [
    "# default_exp epochs"
   ]
  },
  {
   "cell_type": "markdown",
   "id": "macro-thermal",
   "metadata": {},
   "source": [
    "# module Epochs\n",
    "\n",
    "> Handle different benchmark scenarios"
   ]
  },
  {
   "cell_type": "code",
   "execution_count": null,
   "id": "political-traveler",
   "metadata": {},
   "outputs": [
    {
     "data": {
      "application/javascript": [
       "\n",
       "            setTimeout(function() {\n",
       "                var nbb_cell_id = 3;\n",
       "                var nbb_unformatted_code = \"# export\\nimport math\\n\\nfrom pydantic import BaseModel\\n\\nfrom will_it_saturate.files import BenchmarkFile, FILE_CREATORS\";\n",
       "                var nbb_formatted_code = \"# export\\nimport math\\n\\nfrom pydantic import BaseModel\\n\\nfrom will_it_saturate.files import BenchmarkFile, FILE_CREATORS\";\n",
       "                var nbb_cells = Jupyter.notebook.get_cells();\n",
       "                for (var i = 0; i < nbb_cells.length; ++i) {\n",
       "                    if (nbb_cells[i].input_prompt_number == nbb_cell_id) {\n",
       "                        if (nbb_cells[i].get_text() == nbb_unformatted_code) {\n",
       "                             nbb_cells[i].set_text(nbb_formatted_code);\n",
       "                        }\n",
       "                        break;\n",
       "                    }\n",
       "                }\n",
       "            }, 500);\n",
       "            "
      ],
      "text/plain": [
       "<IPython.core.display.Javascript object>"
      ]
     },
     "metadata": {},
     "output_type": "display_data"
    }
   ],
   "source": [
    "# export\n",
    "import math\n",
    "\n",
    "from pydantic import BaseModel\n",
    "\n",
    "from will_it_saturate.files import BenchmarkFile, FILE_CREATORS"
   ]
  },
  {
   "cell_type": "markdown",
   "id": "fresh-shift",
   "metadata": {},
   "source": [
    "# Epoch / Runs"
   ]
  },
  {
   "cell_type": "code",
   "execution_count": null,
   "id": "massive-designer",
   "metadata": {},
   "outputs": [
    {
     "data": {
      "application/javascript": [
       "\n",
       "            setTimeout(function() {\n",
       "                var nbb_cell_id = 4;\n",
       "                var nbb_unformatted_code = \"# export\\n\\n\\nclass Epoch(BaseModel):\\n    file_size: int  # size of a single file\\n    duration: int = 30  # in seconds\\n    bandwidth: int = int(10 ** 9 / 8)  # in bytes per second\\n    files: list[BenchmarkFile] = []\\n    urls: list[str] = []\\n    file_creator_name: str = \\\"filesystem\\\"\\n    data_root: str = \\\"data\\\"\\n\\n    def __str__(self):\\n        return f\\\"size: {self.file_size} duration: {self.duration} bandwidth: {self.bandwidth}\\\"\\n\\n    @property\\n    def base_path(self):\\n        return f\\\"{self.file_size}_{self.duration}_{self.bandwidth}\\\"\\n\\n    @property\\n    def complete_size(self):\\n        return self.duration * self.bandwidth\\n\\n    @property\\n    def number_of_files(self):\\n        return math.ceil(self.complete_size / self.file_size)\\n\\n    @property\\n    def number_of_connections(self):\\n        return math.ceil(self.bandwidth / self.file_size)\\n\\n    def get_bytes_per_second(self, elapsed):\\n        # FIXME remove elapsed?\\n        return self.complete_size / elapsed\\n\\n    def create_files(self):\\n        if len(self.files) > 0:\\n            return\\n        for num in range(self.number_of_files):\\n            benchmark_file = BenchmarkFile(\\n                number=num,\\n                base_path=self.base_path,\\n                size=self.file_size,\\n                creator_name=self.file_creator_name,\\n                data_root=self.data_root,\\n            )\\n            benchmark_file.get_or_create()\\n            self.files.append(benchmark_file)\";\n",
       "                var nbb_formatted_code = \"# export\\n\\n\\nclass Epoch(BaseModel):\\n    file_size: int  # size of a single file\\n    duration: int = 30  # in seconds\\n    bandwidth: int = int(10 ** 9 / 8)  # in bytes per second\\n    files: list[BenchmarkFile] = []\\n    urls: list[str] = []\\n    file_creator_name: str = \\\"filesystem\\\"\\n    data_root: str = \\\"data\\\"\\n\\n    def __str__(self):\\n        return f\\\"size: {self.file_size} duration: {self.duration} bandwidth: {self.bandwidth}\\\"\\n\\n    @property\\n    def base_path(self):\\n        return f\\\"{self.file_size}_{self.duration}_{self.bandwidth}\\\"\\n\\n    @property\\n    def complete_size(self):\\n        return self.duration * self.bandwidth\\n\\n    @property\\n    def number_of_files(self):\\n        return math.ceil(self.complete_size / self.file_size)\\n\\n    @property\\n    def number_of_connections(self):\\n        return math.ceil(self.bandwidth / self.file_size)\\n\\n    def get_bytes_per_second(self, elapsed):\\n        # FIXME remove elapsed?\\n        return self.complete_size / elapsed\\n\\n    def create_files(self):\\n        if len(self.files) > 0:\\n            return\\n        for num in range(self.number_of_files):\\n            benchmark_file = BenchmarkFile(\\n                number=num,\\n                base_path=self.base_path,\\n                size=self.file_size,\\n                creator_name=self.file_creator_name,\\n                data_root=self.data_root,\\n            )\\n            benchmark_file.get_or_create()\\n            self.files.append(benchmark_file)\";\n",
       "                var nbb_cells = Jupyter.notebook.get_cells();\n",
       "                for (var i = 0; i < nbb_cells.length; ++i) {\n",
       "                    if (nbb_cells[i].input_prompt_number == nbb_cell_id) {\n",
       "                        if (nbb_cells[i].get_text() == nbb_unformatted_code) {\n",
       "                             nbb_cells[i].set_text(nbb_formatted_code);\n",
       "                        }\n",
       "                        break;\n",
       "                    }\n",
       "                }\n",
       "            }, 500);\n",
       "            "
      ],
      "text/plain": [
       "<IPython.core.display.Javascript object>"
      ]
     },
     "metadata": {},
     "output_type": "display_data"
    }
   ],
   "source": [
    "# export\n",
    "\n",
    "\n",
    "class Epoch(BaseModel):\n",
    "    file_size: int  # size of a single file\n",
    "    duration: int = 30  # in seconds\n",
    "    bandwidth: int = int(10 ** 9 / 8)  # in bytes per second\n",
    "    files: list[BenchmarkFile] = []\n",
    "    urls: list[str] = []\n",
    "    file_creator_name: str = \"filesystem\"\n",
    "    data_root: str = \"data\"\n",
    "\n",
    "    def __str__(self):\n",
    "        return f\"size: {self.file_size} duration: {self.duration} bandwidth: {self.bandwidth}\"\n",
    "\n",
    "    @property\n",
    "    def base_path(self):\n",
    "        return f\"{self.file_size}_{self.duration}_{self.bandwidth}\"\n",
    "\n",
    "    @property\n",
    "    def complete_size(self):\n",
    "        return self.duration * self.bandwidth\n",
    "\n",
    "    @property\n",
    "    def number_of_files(self):\n",
    "        return math.ceil(self.complete_size / self.file_size)\n",
    "\n",
    "    @property\n",
    "    def number_of_connections(self):\n",
    "        return math.ceil(self.bandwidth / self.file_size)\n",
    "\n",
    "    def get_bytes_per_second(self, elapsed):\n",
    "        # FIXME remove elapsed?\n",
    "        return self.complete_size / elapsed\n",
    "\n",
    "    def create_files(self):\n",
    "        if len(self.files) > 0:\n",
    "            return\n",
    "        for num in range(self.number_of_files):\n",
    "            benchmark_file = BenchmarkFile(\n",
    "                number=num,\n",
    "                base_path=self.base_path,\n",
    "                size=self.file_size,\n",
    "                creator_name=self.file_creator_name,\n",
    "                data_root=self.data_root,\n",
    "            )\n",
    "            benchmark_file.get_or_create()\n",
    "            self.files.append(benchmark_file)"
   ]
  },
  {
   "cell_type": "markdown",
   "id": "intermediate-contrary",
   "metadata": {},
   "source": [
    "## Usage"
   ]
  },
  {
   "cell_type": "code",
   "execution_count": null,
   "id": "patent-twins",
   "metadata": {},
   "outputs": [
    {
     "name": "stdout",
     "output_type": "stream",
     "text": [
      "9\n"
     ]
    },
    {
     "data": {
      "application/javascript": [
       "\n",
       "            setTimeout(function() {\n",
       "                var nbb_cell_id = 5;\n",
       "                var nbb_unformatted_code = \"# dont_test\\n\\n\\ndef create_file(path, size):\\n    return \\\"test_md5sum\\\"\\n\\n\\nFILE_CREATORS[\\\"stub_creator\\\"] = create_file\\n\\n\\nbyte = 8\\nhundred_mbit = 10 ** 8\\nbandwidth = hundred_mbit / byte\\nduration = 2  # seconds\\nfile_size = 10 ** 6 * 3  # 100MB\\n\\nepoch = Epoch(\\n    file_size=file_size,\\n    duration=duration,\\n    bandwidth=bandwidth,\\n    file_creator_name=\\\"stub_creator\\\",\\n)\\nepoch.create_files()\\nprint(len(epoch.files))\";\n",
       "                var nbb_formatted_code = \"# dont_test\\n\\n\\ndef create_file(path, size):\\n    return \\\"test_md5sum\\\"\\n\\n\\nFILE_CREATORS[\\\"stub_creator\\\"] = create_file\\n\\n\\nbyte = 8\\nhundred_mbit = 10 ** 8\\nbandwidth = hundred_mbit / byte\\nduration = 2  # seconds\\nfile_size = 10 ** 6 * 3  # 100MB\\n\\nepoch = Epoch(\\n    file_size=file_size,\\n    duration=duration,\\n    bandwidth=bandwidth,\\n    file_creator_name=\\\"stub_creator\\\",\\n)\\nepoch.create_files()\\nprint(len(epoch.files))\";\n",
       "                var nbb_cells = Jupyter.notebook.get_cells();\n",
       "                for (var i = 0; i < nbb_cells.length; ++i) {\n",
       "                    if (nbb_cells[i].input_prompt_number == nbb_cell_id) {\n",
       "                        if (nbb_cells[i].get_text() == nbb_unformatted_code) {\n",
       "                             nbb_cells[i].set_text(nbb_formatted_code);\n",
       "                        }\n",
       "                        break;\n",
       "                    }\n",
       "                }\n",
       "            }, 500);\n",
       "            "
      ],
      "text/plain": [
       "<IPython.core.display.Javascript object>"
      ]
     },
     "metadata": {},
     "output_type": "display_data"
    }
   ],
   "source": [
    "# dont_test\n",
    "\n",
    "\n",
    "def create_file(path, size):\n",
    "    return \"test_md5sum\"\n",
    "\n",
    "\n",
    "FILE_CREATORS[\"stub_creator\"] = create_file\n",
    "\n",
    "\n",
    "byte = 8\n",
    "hundred_mbit = 10 ** 8\n",
    "bandwidth = hundred_mbit / byte\n",
    "duration = 2  # seconds\n",
    "file_size = 10 ** 6 * 3  # 100MB\n",
    "\n",
    "epoch = Epoch(\n",
    "    file_size=file_size,\n",
    "    duration=duration,\n",
    "    bandwidth=bandwidth,\n",
    "    file_creator_name=\"stub_creator\",\n",
    ")\n",
    "epoch.create_files()\n",
    "print(len(epoch.files))"
   ]
  },
  {
   "cell_type": "markdown",
   "id": "champion-blind",
   "metadata": {},
   "source": [
    "## Tests"
   ]
  },
  {
   "cell_type": "code",
   "execution_count": null,
   "id": "spatial-proposition",
   "metadata": {},
   "outputs": [
    {
     "data": {
      "application/javascript": [
       "\n",
       "            setTimeout(function() {\n",
       "                var nbb_cell_id = 6;\n",
       "                var nbb_unformatted_code = \"def create_file(path, size):\\n    return \\\"test_md5sum\\\"\\n\\n\\nFILE_CREATORS[\\\"stub_creator\\\"] = create_file\\n\\n\\nbyte = 8\\ngigabit = 10 ** 9\\n\\nparams = {\\n    \\\"file_size\\\": 10 ** 6 * 10,  # 10MB\\n    \\\"duration\\\": 30,\\n    \\\"bandwidth\\\": gigabit / byte,\\n    \\\"file_creator_name\\\": \\\"stub_creator\\\",\\n}\\n\\nepoch = Epoch(**params)\";\n",
       "                var nbb_formatted_code = \"def create_file(path, size):\\n    return \\\"test_md5sum\\\"\\n\\n\\nFILE_CREATORS[\\\"stub_creator\\\"] = create_file\\n\\n\\nbyte = 8\\ngigabit = 10 ** 9\\n\\nparams = {\\n    \\\"file_size\\\": 10 ** 6 * 10,  # 10MB\\n    \\\"duration\\\": 30,\\n    \\\"bandwidth\\\": gigabit / byte,\\n    \\\"file_creator_name\\\": \\\"stub_creator\\\",\\n}\\n\\nepoch = Epoch(**params)\";\n",
       "                var nbb_cells = Jupyter.notebook.get_cells();\n",
       "                for (var i = 0; i < nbb_cells.length; ++i) {\n",
       "                    if (nbb_cells[i].input_prompt_number == nbb_cell_id) {\n",
       "                        if (nbb_cells[i].get_text() == nbb_unformatted_code) {\n",
       "                             nbb_cells[i].set_text(nbb_formatted_code);\n",
       "                        }\n",
       "                        break;\n",
       "                    }\n",
       "                }\n",
       "            }, 500);\n",
       "            "
      ],
      "text/plain": [
       "<IPython.core.display.Javascript object>"
      ]
     },
     "metadata": {},
     "output_type": "display_data"
    }
   ],
   "source": [
    "def create_file(path, size):\n",
    "    return \"test_md5sum\"\n",
    "\n",
    "\n",
    "FILE_CREATORS[\"stub_creator\"] = create_file\n",
    "\n",
    "\n",
    "byte = 8\n",
    "gigabit = 10 ** 9\n",
    "\n",
    "params = {\n",
    "    \"file_size\": 10 ** 6 * 10,  # 10MB\n",
    "    \"duration\": 30,\n",
    "    \"bandwidth\": gigabit / byte,\n",
    "    \"file_creator_name\": \"stub_creator\",\n",
    "}\n",
    "\n",
    "epoch = Epoch(**params)"
   ]
  },
  {
   "cell_type": "code",
   "execution_count": null,
   "id": "understanding-wealth",
   "metadata": {},
   "outputs": [
    {
     "data": {
      "application/javascript": [
       "\n",
       "            setTimeout(function() {\n",
       "                var nbb_cell_id = 7;\n",
       "                var nbb_unformatted_code = \"assert epoch.bandwidth == 125000000\\nassert epoch.number_of_files == 375\\nassert epoch.get_bytes_per_second(30.0) == epoch.bandwidth\\nassert epoch.number_of_connections == 13\\nassert \\\"file_size\\\" in epoch.json()\";\n",
       "                var nbb_formatted_code = \"assert epoch.bandwidth == 125000000\\nassert epoch.number_of_files == 375\\nassert epoch.get_bytes_per_second(30.0) == epoch.bandwidth\\nassert epoch.number_of_connections == 13\\nassert \\\"file_size\\\" in epoch.json()\";\n",
       "                var nbb_cells = Jupyter.notebook.get_cells();\n",
       "                for (var i = 0; i < nbb_cells.length; ++i) {\n",
       "                    if (nbb_cells[i].input_prompt_number == nbb_cell_id) {\n",
       "                        if (nbb_cells[i].get_text() == nbb_unformatted_code) {\n",
       "                             nbb_cells[i].set_text(nbb_formatted_code);\n",
       "                        }\n",
       "                        break;\n",
       "                    }\n",
       "                }\n",
       "            }, 500);\n",
       "            "
      ],
      "text/plain": [
       "<IPython.core.display.Javascript object>"
      ]
     },
     "metadata": {},
     "output_type": "display_data"
    }
   ],
   "source": [
    "assert epoch.bandwidth == 125000000\n",
    "assert epoch.number_of_files == 375\n",
    "assert epoch.get_bytes_per_second(30.0) == epoch.bandwidth\n",
    "assert epoch.number_of_connections == 13\n",
    "assert \"file_size\" in epoch.json()"
   ]
  },
  {
   "cell_type": "code",
   "execution_count": null,
   "id": "korean-subdivision",
   "metadata": {},
   "outputs": [
    {
     "data": {
      "application/javascript": [
       "\n",
       "            setTimeout(function() {\n",
       "                var nbb_cell_id = 8;\n",
       "                var nbb_unformatted_code = \"epoch.create_files()\\nassert len(epoch.files) == epoch.number_of_files\\n\\n# assert we don't generate files twice\\nepoch.create_files()\\nassert len(epoch.files) == epoch.number_of_files\";\n",
       "                var nbb_formatted_code = \"epoch.create_files()\\nassert len(epoch.files) == epoch.number_of_files\\n\\n# assert we don't generate files twice\\nepoch.create_files()\\nassert len(epoch.files) == epoch.number_of_files\";\n",
       "                var nbb_cells = Jupyter.notebook.get_cells();\n",
       "                for (var i = 0; i < nbb_cells.length; ++i) {\n",
       "                    if (nbb_cells[i].input_prompt_number == nbb_cell_id) {\n",
       "                        if (nbb_cells[i].get_text() == nbb_unformatted_code) {\n",
       "                             nbb_cells[i].set_text(nbb_formatted_code);\n",
       "                        }\n",
       "                        break;\n",
       "                    }\n",
       "                }\n",
       "            }, 500);\n",
       "            "
      ],
      "text/plain": [
       "<IPython.core.display.Javascript object>"
      ]
     },
     "metadata": {},
     "output_type": "display_data"
    }
   ],
   "source": [
    "epoch.create_files()\n",
    "assert len(epoch.files) == epoch.number_of_files\n",
    "\n",
    "# assert we don't generate files twice\n",
    "epoch.create_files()\n",
    "assert len(epoch.files) == epoch.number_of_files"
   ]
  },
  {
   "cell_type": "code",
   "execution_count": null,
   "id": "cooked-image",
   "metadata": {},
   "outputs": [
    {
     "name": "stdout",
     "output_type": "stream",
     "text": [
      "Converted 00_host.ipynb.\n",
      "Converted 01_django_views.ipynb.\n",
      "Converted 01_fastapi_views.ipynb.\n",
      "Converted 01_file.ipynb.\n",
      "Converted 05_epochs.ipynb.\n",
      "Converted 06_results.ipynb.\n",
      "Converted 07_repositories.ipynb.\n",
      "Converted 25_core.ipynb.\n",
      "Converted 27_control_server.ipynb.\n",
      "Converted 28_control_client.ipynb.\n",
      "Converted 30_servers.ipynb.\n",
      "Converted 31_local_servers.ipynb.\n",
      "Converted 32_docker_servers.ipynb.\n",
      "Converted 40_clients.ipynb.\n",
      "Converted 40_persistence.ipynb.\n",
      "Converted 41_benchmark_clients.ipynb.\n",
      "Converted 90_benchmark_without_benchmark.ipynb.\n",
      "Converted 98_run_benchmark.ipynb.\n",
      "Converted index.ipynb.\n"
     ]
    },
    {
     "data": {
      "application/javascript": [
       "\n",
       "            setTimeout(function() {\n",
       "                var nbb_cell_id = 10;\n",
       "                var nbb_unformatted_code = \"# dont_test\\n\\nfrom nbdev.export import notebook2script\\n\\nnotebook2script()\";\n",
       "                var nbb_formatted_code = \"# dont_test\\n\\nfrom nbdev.export import notebook2script\\n\\nnotebook2script()\";\n",
       "                var nbb_cells = Jupyter.notebook.get_cells();\n",
       "                for (var i = 0; i < nbb_cells.length; ++i) {\n",
       "                    if (nbb_cells[i].input_prompt_number == nbb_cell_id) {\n",
       "                        if (nbb_cells[i].get_text() == nbb_unformatted_code) {\n",
       "                             nbb_cells[i].set_text(nbb_formatted_code);\n",
       "                        }\n",
       "                        break;\n",
       "                    }\n",
       "                }\n",
       "            }, 500);\n",
       "            "
      ],
      "text/plain": [
       "<IPython.core.display.Javascript object>"
      ]
     },
     "metadata": {},
     "output_type": "display_data"
    }
   ],
   "source": [
    "# hide\n",
    "# dont_test\n",
    "\n",
    "from nbdev.export import notebook2script\n",
    "\n",
    "notebook2script()"
   ]
  },
  {
   "cell_type": "code",
   "execution_count": null,
   "id": "expected-harvard",
   "metadata": {},
   "outputs": [],
   "source": []
  }
 ],
 "metadata": {
  "kernelspec": {
   "display_name": "Python 3",
   "language": "python",
   "name": "python3"
  }
 },
 "nbformat": 4,
 "nbformat_minor": 5
}
