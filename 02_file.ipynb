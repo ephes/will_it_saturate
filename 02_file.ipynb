{
 "cells": [
  {
   "cell_type": "code",
   "execution_count": null,
   "id": "local-mathematics",
   "metadata": {},
   "outputs": [
    {
     "data": {
      "application/javascript": [
       "\n",
       "            setTimeout(function() {\n",
       "                var nbb_cell_id = 1;\n",
       "                var nbb_unformatted_code = \"%load_ext nb_black\";\n",
       "                var nbb_formatted_code = \"%load_ext nb_black\";\n",
       "                var nbb_cells = Jupyter.notebook.get_cells();\n",
       "                for (var i = 0; i < nbb_cells.length; ++i) {\n",
       "                    if (nbb_cells[i].input_prompt_number == nbb_cell_id) {\n",
       "                        if (nbb_cells[i].get_text() == nbb_unformatted_code) {\n",
       "                             nbb_cells[i].set_text(nbb_formatted_code);\n",
       "                        }\n",
       "                        break;\n",
       "                    }\n",
       "                }\n",
       "            }, 500);\n",
       "            "
      ],
      "text/plain": [
       "<IPython.core.display.Javascript object>"
      ]
     },
     "metadata": {},
     "output_type": "display_data"
    }
   ],
   "source": [
    "%load_ext nb_black"
   ]
  },
  {
   "cell_type": "code",
   "execution_count": null,
   "id": "excellent-synthetic",
   "metadata": {},
   "outputs": [
    {
     "data": {
      "application/javascript": [
       "\n",
       "            setTimeout(function() {\n",
       "                var nbb_cell_id = 2;\n",
       "                var nbb_unformatted_code = \"# default_exp files\";\n",
       "                var nbb_formatted_code = \"# default_exp files\";\n",
       "                var nbb_cells = Jupyter.notebook.get_cells();\n",
       "                for (var i = 0; i < nbb_cells.length; ++i) {\n",
       "                    if (nbb_cells[i].input_prompt_number == nbb_cell_id) {\n",
       "                        if (nbb_cells[i].get_text() == nbb_unformatted_code) {\n",
       "                             nbb_cells[i].set_text(nbb_formatted_code);\n",
       "                        }\n",
       "                        break;\n",
       "                    }\n",
       "                }\n",
       "            }, 500);\n",
       "            "
      ],
      "text/plain": [
       "<IPython.core.display.Javascript object>"
      ]
     },
     "metadata": {},
     "output_type": "display_data"
    }
   ],
   "source": [
    "# default_exp files"
   ]
  },
  {
   "cell_type": "markdown",
   "id": "collected-committee",
   "metadata": {},
   "source": [
    "# File"
   ]
  },
  {
   "cell_type": "code",
   "execution_count": null,
   "id": "serial-renaissance",
   "metadata": {},
   "outputs": [
    {
     "data": {
      "application/javascript": [
       "\n",
       "            setTimeout(function() {\n",
       "                var nbb_cell_id = 3;\n",
       "                var nbb_unformatted_code = \"# export\\n\\nimport os\\nimport hashlib\\n\\nfrom pathlib import Path\\nfrom typing import Optional\\nfrom pydantic import BaseModel\\n\\n\\ndef calculate_checksum(content):\\n    return hashlib.md5(content).hexdigest()\\n\\n\\ndef checksum_for_path(path):\\n    with path.open(\\\"rb\\\") as f:\\n        checksum = calculate_checksum(f.read())\\n    return checksum\\n\\n\\ndef create_via_filesystem(path, size):\\n    path.parent.mkdir(parents=True, exist_ok=True)\\n    if not path.exists():\\n        with path.open(\\\"wb\\\") as f:\\n            f.write(os.urandom(size))\\n    return checksum_for_path(path)\\n\\n\\nFILE_CREATORS = {\\\"filesystem\\\": create_via_filesystem}\\n\\n\\nclass BenchmarkFile(BaseModel):\\n    number: int\\n    base_path: str\\n    size: int\\n    data_root: str = \\\"data\\\"\\n    hostname: str = \\\"localhost\\\"\\n    port: int = 8000\\n    checksum: Optional[str] = None\\n    creator_name: str = \\\"filesystem\\\"\\n\\n    @property\\n    def filesystem_path(self):\\n        return Path(self.data_root) / self.base_path / str(self.number)\\n\\n    def get_or_create(self):\\n        create = FILE_CREATORS.get(self.creator_name)\\n        self.checksum = create(self.filesystem_path, self.size)\\n\\n    @property\\n    def path(self):\\n        return f\\\"{self.data_root}/{self.base_path}/{self.number}\\\"\\n\\n    @property\\n    def host(self):\\n        return f\\\"http://{self.hostname}:{self.port}\\\"\\n\\n    @property\\n    def url(self):\\n        return f\\\"{self.host}/{self.path}\\\"\";\n",
       "                var nbb_formatted_code = \"# export\\n\\nimport os\\nimport hashlib\\n\\nfrom pathlib import Path\\nfrom typing import Optional\\nfrom pydantic import BaseModel\\n\\n\\ndef calculate_checksum(content):\\n    return hashlib.md5(content).hexdigest()\\n\\n\\ndef checksum_for_path(path):\\n    with path.open(\\\"rb\\\") as f:\\n        checksum = calculate_checksum(f.read())\\n    return checksum\\n\\n\\ndef create_via_filesystem(path, size):\\n    path.parent.mkdir(parents=True, exist_ok=True)\\n    if not path.exists():\\n        with path.open(\\\"wb\\\") as f:\\n            f.write(os.urandom(size))\\n    return checksum_for_path(path)\\n\\n\\nFILE_CREATORS = {\\\"filesystem\\\": create_via_filesystem}\\n\\n\\nclass BenchmarkFile(BaseModel):\\n    number: int\\n    base_path: str\\n    size: int\\n    data_root: str = \\\"data\\\"\\n    hostname: str = \\\"localhost\\\"\\n    port: int = 8000\\n    checksum: Optional[str] = None\\n    creator_name: str = \\\"filesystem\\\"\\n\\n    @property\\n    def filesystem_path(self):\\n        return Path(self.data_root) / self.base_path / str(self.number)\\n\\n    def get_or_create(self):\\n        create = FILE_CREATORS.get(self.creator_name)\\n        self.checksum = create(self.filesystem_path, self.size)\\n\\n    @property\\n    def path(self):\\n        return f\\\"{self.data_root}/{self.base_path}/{self.number}\\\"\\n\\n    @property\\n    def host(self):\\n        return f\\\"http://{self.hostname}:{self.port}\\\"\\n\\n    @property\\n    def url(self):\\n        return f\\\"{self.host}/{self.path}\\\"\";\n",
       "                var nbb_cells = Jupyter.notebook.get_cells();\n",
       "                for (var i = 0; i < nbb_cells.length; ++i) {\n",
       "                    if (nbb_cells[i].input_prompt_number == nbb_cell_id) {\n",
       "                        if (nbb_cells[i].get_text() == nbb_unformatted_code) {\n",
       "                             nbb_cells[i].set_text(nbb_formatted_code);\n",
       "                        }\n",
       "                        break;\n",
       "                    }\n",
       "                }\n",
       "            }, 500);\n",
       "            "
      ],
      "text/plain": [
       "<IPython.core.display.Javascript object>"
      ]
     },
     "metadata": {},
     "output_type": "display_data"
    }
   ],
   "source": [
    "# export\n",
    "\n",
    "import os\n",
    "import hashlib\n",
    "\n",
    "from pathlib import Path\n",
    "from typing import Optional\n",
    "from pydantic import BaseModel\n",
    "\n",
    "\n",
    "def calculate_checksum(content):\n",
    "    return hashlib.md5(content).hexdigest()\n",
    "\n",
    "\n",
    "def checksum_for_path(path):\n",
    "    with path.open(\"rb\") as f:\n",
    "        checksum = calculate_checksum(f.read())\n",
    "    return checksum\n",
    "\n",
    "\n",
    "def create_via_filesystem(path, size):\n",
    "    path.parent.mkdir(parents=True, exist_ok=True)\n",
    "    if not path.exists():\n",
    "        with path.open(\"wb\") as f:\n",
    "            f.write(os.urandom(size))\n",
    "    return checksum_for_path(path)\n",
    "\n",
    "\n",
    "FILE_CREATORS = {\"filesystem\": create_via_filesystem}\n",
    "\n",
    "\n",
    "class BenchmarkFile(BaseModel):\n",
    "    number: int\n",
    "    base_path: str\n",
    "    size: int\n",
    "    data_root: str = \"data\"\n",
    "    hostname: str = \"localhost\"\n",
    "    port: int = 8000\n",
    "    checksum: Optional[str] = None\n",
    "    creator_name: str = \"filesystem\"\n",
    "\n",
    "    @property\n",
    "    def filesystem_path(self):\n",
    "        return Path(self.data_root) / self.base_path / str(self.number)\n",
    "\n",
    "    def get_or_create(self):\n",
    "        create = FILE_CREATORS.get(self.creator_name)\n",
    "        self.checksum = create(self.filesystem_path, self.size)\n",
    "\n",
    "    @property\n",
    "    def path(self):\n",
    "        return f\"{self.data_root}/{self.base_path}/{self.number}\"\n",
    "\n",
    "    @property\n",
    "    def host(self):\n",
    "        return f\"http://{self.hostname}:{self.port}\"\n",
    "\n",
    "    @property\n",
    "    def url(self):\n",
    "        return f\"{self.host}/{self.path}\""
   ]
  },
  {
   "cell_type": "markdown",
   "id": "handmade-surrey",
   "metadata": {},
   "source": [
    "## Usage"
   ]
  },
  {
   "cell_type": "code",
   "execution_count": null,
   "id": "royal-barcelona",
   "metadata": {},
   "outputs": [
    {
     "data": {
      "text/plain": [
       "'http://localhost:8000/data/3000000_2_12500000/0'"
      ]
     },
     "execution_count": null,
     "metadata": {},
     "output_type": "execute_result"
    },
    {
     "data": {
      "application/javascript": [
       "\n",
       "            setTimeout(function() {\n",
       "                var nbb_cell_id = 4;\n",
       "                var nbb_unformatted_code = \"# dont_test\\n\\nbase_path = \\\"3000000_2_12500000\\\"\\nbenchmark_file = BenchmarkFile(number=0, size=10 ** 6 * 3, base_path=base_path)\\nbenchmark_file.url\";\n",
       "                var nbb_formatted_code = \"# dont_test\\n\\nbase_path = \\\"3000000_2_12500000\\\"\\nbenchmark_file = BenchmarkFile(number=0, size=10 ** 6 * 3, base_path=base_path)\\nbenchmark_file.url\";\n",
       "                var nbb_cells = Jupyter.notebook.get_cells();\n",
       "                for (var i = 0; i < nbb_cells.length; ++i) {\n",
       "                    if (nbb_cells[i].input_prompt_number == nbb_cell_id) {\n",
       "                        if (nbb_cells[i].get_text() == nbb_unformatted_code) {\n",
       "                             nbb_cells[i].set_text(nbb_formatted_code);\n",
       "                        }\n",
       "                        break;\n",
       "                    }\n",
       "                }\n",
       "            }, 500);\n",
       "            "
      ],
      "text/plain": [
       "<IPython.core.display.Javascript object>"
      ]
     },
     "metadata": {},
     "output_type": "display_data"
    }
   ],
   "source": [
    "# dont_test\n",
    "\n",
    "base_path = \"3000000_2_12500000\"\n",
    "benchmark_file = BenchmarkFile(number=0, size=10 ** 6 * 3, base_path=base_path)\n",
    "benchmark_file.url"
   ]
  },
  {
   "cell_type": "markdown",
   "id": "laden-italy",
   "metadata": {},
   "source": [
    "## Tests"
   ]
  },
  {
   "cell_type": "code",
   "execution_count": null,
   "id": "fifty-anaheim",
   "metadata": {},
   "outputs": [
    {
     "data": {
      "application/javascript": [
       "\n",
       "            setTimeout(function() {\n",
       "                var nbb_cell_id = 5;\n",
       "                var nbb_unformatted_code = \"# it's md5 for now\\ncontent = b\\\"foobar\\\"\\nassert calculate_checksum(content) == hashlib.md5(content).hexdigest()\";\n",
       "                var nbb_formatted_code = \"# it's md5 for now\\ncontent = b\\\"foobar\\\"\\nassert calculate_checksum(content) == hashlib.md5(content).hexdigest()\";\n",
       "                var nbb_cells = Jupyter.notebook.get_cells();\n",
       "                for (var i = 0; i < nbb_cells.length; ++i) {\n",
       "                    if (nbb_cells[i].input_prompt_number == nbb_cell_id) {\n",
       "                        if (nbb_cells[i].get_text() == nbb_unformatted_code) {\n",
       "                             nbb_cells[i].set_text(nbb_formatted_code);\n",
       "                        }\n",
       "                        break;\n",
       "                    }\n",
       "                }\n",
       "            }, 500);\n",
       "            "
      ],
      "text/plain": [
       "<IPython.core.display.Javascript object>"
      ]
     },
     "metadata": {},
     "output_type": "display_data"
    }
   ],
   "source": [
    "# it's md5 for now\n",
    "content = b\"foobar\"\n",
    "assert calculate_checksum(content) == hashlib.md5(content).hexdigest()"
   ]
  },
  {
   "cell_type": "code",
   "execution_count": null,
   "id": "cooperative-macro",
   "metadata": {},
   "outputs": [
    {
     "data": {
      "application/javascript": [
       "\n",
       "            setTimeout(function() {\n",
       "                var nbb_cell_id = 6;\n",
       "                var nbb_unformatted_code = \"base_path = \\\"3000000_2_12500000\\\"\\nbenchmark_file = BenchmarkFile(number=0, size=10 ** 6 * 3, base_path=base_path)\\n\\nassert \\\"localhost\\\" in benchmark_file.url\\nassert base_path in benchmark_file.url\\nassert \\\"base_path\\\" in benchmark_file.json()\";\n",
       "                var nbb_formatted_code = \"base_path = \\\"3000000_2_12500000\\\"\\nbenchmark_file = BenchmarkFile(number=0, size=10 ** 6 * 3, base_path=base_path)\\n\\nassert \\\"localhost\\\" in benchmark_file.url\\nassert base_path in benchmark_file.url\\nassert \\\"base_path\\\" in benchmark_file.json()\";\n",
       "                var nbb_cells = Jupyter.notebook.get_cells();\n",
       "                for (var i = 0; i < nbb_cells.length; ++i) {\n",
       "                    if (nbb_cells[i].input_prompt_number == nbb_cell_id) {\n",
       "                        if (nbb_cells[i].get_text() == nbb_unformatted_code) {\n",
       "                             nbb_cells[i].set_text(nbb_formatted_code);\n",
       "                        }\n",
       "                        break;\n",
       "                    }\n",
       "                }\n",
       "            }, 500);\n",
       "            "
      ],
      "text/plain": [
       "<IPython.core.display.Javascript object>"
      ]
     },
     "metadata": {},
     "output_type": "display_data"
    }
   ],
   "source": [
    "base_path = \"3000000_2_12500000\"\n",
    "benchmark_file = BenchmarkFile(number=0, size=10 ** 6 * 3, base_path=base_path)\n",
    "\n",
    "assert \"localhost\" in benchmark_file.url\n",
    "assert base_path in benchmark_file.url\n",
    "assert \"base_path\" in benchmark_file.json()"
   ]
  },
  {
   "cell_type": "code",
   "execution_count": null,
   "id": "naval-playback",
   "metadata": {},
   "outputs": [
    {
     "data": {
      "application/javascript": [
       "\n",
       "            setTimeout(function() {\n",
       "                var nbb_cell_id = 7;\n",
       "                var nbb_unformatted_code = \"file_size = 10 ** 6 * 3\\n\\n\\ndef create_file(path, size):\\n    assert size == file_size\\n    return \\\"test_md5sum\\\"\\n\\n\\nFILE_CREATORS[\\\"stub_creator\\\"] = create_file\\n\\n\\nbenchmark_file = BenchmarkFile(\\n    number=0, size=file_size, base_path=base_path, creator_name=\\\"stub_creator\\\"\\n)\\nbenchmark_file.get_or_create()\";\n",
       "                var nbb_formatted_code = \"file_size = 10 ** 6 * 3\\n\\n\\ndef create_file(path, size):\\n    assert size == file_size\\n    return \\\"test_md5sum\\\"\\n\\n\\nFILE_CREATORS[\\\"stub_creator\\\"] = create_file\\n\\n\\nbenchmark_file = BenchmarkFile(\\n    number=0, size=file_size, base_path=base_path, creator_name=\\\"stub_creator\\\"\\n)\\nbenchmark_file.get_or_create()\";\n",
       "                var nbb_cells = Jupyter.notebook.get_cells();\n",
       "                for (var i = 0; i < nbb_cells.length; ++i) {\n",
       "                    if (nbb_cells[i].input_prompt_number == nbb_cell_id) {\n",
       "                        if (nbb_cells[i].get_text() == nbb_unformatted_code) {\n",
       "                             nbb_cells[i].set_text(nbb_formatted_code);\n",
       "                        }\n",
       "                        break;\n",
       "                    }\n",
       "                }\n",
       "            }, 500);\n",
       "            "
      ],
      "text/plain": [
       "<IPython.core.display.Javascript object>"
      ]
     },
     "metadata": {},
     "output_type": "display_data"
    }
   ],
   "source": [
    "file_size = 10 ** 6 * 3\n",
    "\n",
    "\n",
    "def create_file(path, size):\n",
    "    assert size == file_size\n",
    "    return \"test_md5sum\"\n",
    "\n",
    "\n",
    "FILE_CREATORS[\"stub_creator\"] = create_file\n",
    "\n",
    "\n",
    "benchmark_file = BenchmarkFile(\n",
    "    number=0, size=file_size, base_path=base_path, creator_name=\"stub_creator\"\n",
    ")\n",
    "benchmark_file.get_or_create()"
   ]
  },
  {
   "cell_type": "code",
   "execution_count": null,
   "id": "vertical-comparative",
   "metadata": {},
   "outputs": [
    {
     "name": "stdout",
     "output_type": "stream",
     "text": [
      "Converted 00_index.ipynb.\n",
      "Converted 01_host.ipynb.\n",
      "Converted 02_file.ipynb.\n",
      "Converted 03_registry.ipynb.\n",
      "Converted 04_epochs.ipynb.\n",
      "Converted 10_servers.ipynb.\n",
      "Converted 11_views_for_fastapi_server.ipynb.\n",
      "Converted 12_views_for_django_server.ipynb.\n",
      "Converted 15_servers_started_locally.ipynb.\n",
      "Converted 16_servers_started_via_docker.ipynb.\n",
      "Converted 20_clients.ipynb.\n",
      "Converted 21_benchmark_client_implementations.ipynb.\n",
      "Converted 30_control_server.ipynb.\n",
      "Converted 31_control_client.ipynb.\n",
      "Converted 32_control_cli.ipynb.\n",
      "Converted 40_results.ipynb.\n",
      "Converted 41_repositories.ipynb.\n",
      "Converted 42_sqlite_repository.ipynb.\n",
      "Converted 50_benchmark_without_benchmark.ipynb.\n",
      "Converted 51_benchmark_remote_control_server.ipynb.\n",
      "Converted 60_legacy.ipynb.\n",
      "Converted 61_run_benchmark.ipynb.\n"
     ]
    },
    {
     "data": {
      "application/javascript": [
       "\n",
       "            setTimeout(function() {\n",
       "                var nbb_cell_id = 8;\n",
       "                var nbb_unformatted_code = \"# hide\\n# dont_test\\n\\n\\nfrom nbdev.export import notebook2script\\n\\nnotebook2script()\";\n",
       "                var nbb_formatted_code = \"# hide\\n# dont_test\\n\\n\\nfrom nbdev.export import notebook2script\\n\\nnotebook2script()\";\n",
       "                var nbb_cells = Jupyter.notebook.get_cells();\n",
       "                for (var i = 0; i < nbb_cells.length; ++i) {\n",
       "                    if (nbb_cells[i].input_prompt_number == nbb_cell_id) {\n",
       "                        if (nbb_cells[i].get_text() == nbb_unformatted_code) {\n",
       "                             nbb_cells[i].set_text(nbb_formatted_code);\n",
       "                        }\n",
       "                        break;\n",
       "                    }\n",
       "                }\n",
       "            }, 500);\n",
       "            "
      ],
      "text/plain": [
       "<IPython.core.display.Javascript object>"
      ]
     },
     "metadata": {},
     "output_type": "display_data"
    }
   ],
   "source": [
    "# hide\n",
    "# dont_test\n",
    "\n",
    "from nbdev.export import notebook2script\n",
    "\n",
    "notebook2script()"
   ]
  }
 ],
 "metadata": {
  "kernelspec": {
   "display_name": "Python 3",
   "language": "python",
   "name": "python3"
  }
 },
 "nbformat": 4,
 "nbformat_minor": 5
}
