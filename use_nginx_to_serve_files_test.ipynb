{
 "cells": [
  {
   "cell_type": "code",
   "execution_count": null,
   "id": "streaming-logic",
   "metadata": {},
   "outputs": [
    {
     "data": {
      "application/javascript": [
       "\n",
       "            setTimeout(function() {\n",
       "                var nbb_cell_id = 1;\n",
       "                var nbb_unformatted_code = \"# hide\\n\\n%load_ext nb_black\";\n",
       "                var nbb_formatted_code = \"# hide\\n\\n%load_ext nb_black\";\n",
       "                var nbb_cells = Jupyter.notebook.get_cells();\n",
       "                for (var i = 0; i < nbb_cells.length; ++i) {\n",
       "                    if (nbb_cells[i].input_prompt_number == nbb_cell_id) {\n",
       "                        if (nbb_cells[i].get_text() == nbb_unformatted_code) {\n",
       "                             nbb_cells[i].set_text(nbb_formatted_code);\n",
       "                        }\n",
       "                        break;\n",
       "                    }\n",
       "                }\n",
       "            }, 500);\n",
       "            "
      ],
      "text/plain": [
       "<IPython.core.display.Javascript object>"
      ]
     },
     "metadata": {},
     "output_type": "display_data"
    }
   ],
   "source": [
    "# hide\n",
    "\n",
    "%load_ext nb_black"
   ]
  },
  {
   "cell_type": "code",
   "execution_count": null,
   "id": "democratic-arlington",
   "metadata": {},
   "outputs": [
    {
     "data": {
      "application/javascript": [
       "\n",
       "            setTimeout(function() {\n",
       "                var nbb_cell_id = 10;\n",
       "                var nbb_unformatted_code = \"import subprocess\\n\\nfrom pathlib import Path\";\n",
       "                var nbb_formatted_code = \"import subprocess\\n\\nfrom pathlib import Path\";\n",
       "                var nbb_cells = Jupyter.notebook.get_cells();\n",
       "                for (var i = 0; i < nbb_cells.length; ++i) {\n",
       "                    if (nbb_cells[i].input_prompt_number == nbb_cell_id) {\n",
       "                        if (nbb_cells[i].get_text() == nbb_unformatted_code) {\n",
       "                             nbb_cells[i].set_text(nbb_formatted_code);\n",
       "                        }\n",
       "                        break;\n",
       "                    }\n",
       "                }\n",
       "            }, 500);\n",
       "            "
      ],
      "text/plain": [
       "<IPython.core.display.Javascript object>"
      ]
     },
     "metadata": {},
     "output_type": "display_data"
    }
   ],
   "source": [
    "import subprocess\n",
    "\n",
    "from pathlib import Path"
   ]
  },
  {
   "cell_type": "markdown",
   "id": "novel-suspension",
   "metadata": {},
   "source": [
    "# Run Nginx via Docker\n",
    "```\n",
    "docker build -f Dockerfile.nginx -t wis-nginx .\n",
    "docker run --name wis-nginx -d -p 8000:80 wis-nginx\n",
    "```\n",
    "\n",
    "Todo:\n",
    "\n",
    " * run from function"
   ]
  },
  {
   "cell_type": "code",
   "execution_count": null,
   "id": "visible-conditions",
   "metadata": {},
   "outputs": [
    {
     "data": {
      "application/javascript": [
       "\n",
       "            setTimeout(function() {\n",
       "                var nbb_cell_id = 7;\n",
       "                var nbb_unformatted_code = \"port = \\\"8000\\\"\\nname = \\\"wis-nginx\\\"\\ndata_root = \\\"data\\\"\\nkwargs = {\\\"shell\\\": True, \\\"capture_output\\\": True, \\\"text\\\": True}\";\n",
       "                var nbb_formatted_code = \"port = \\\"8000\\\"\\nname = \\\"wis-nginx\\\"\\ndata_root = \\\"data\\\"\\nkwargs = {\\\"shell\\\": True, \\\"capture_output\\\": True, \\\"text\\\": True}\";\n",
       "                var nbb_cells = Jupyter.notebook.get_cells();\n",
       "                for (var i = 0; i < nbb_cells.length; ++i) {\n",
       "                    if (nbb_cells[i].input_prompt_number == nbb_cell_id) {\n",
       "                        if (nbb_cells[i].get_text() == nbb_unformatted_code) {\n",
       "                             nbb_cells[i].set_text(nbb_formatted_code);\n",
       "                        }\n",
       "                        break;\n",
       "                    }\n",
       "                }\n",
       "            }, 500);\n",
       "            "
      ],
      "text/plain": [
       "<IPython.core.display.Javascript object>"
      ]
     },
     "metadata": {},
     "output_type": "display_data"
    }
   ],
   "source": [
    "port = \"8000\"\n",
    "name = \"wis-nginx\"\n",
    "data_root = \"data\"\n",
    "kwargs = {\"shell\": True, \"capture_output\": True, \"text\": True}"
   ]
  },
  {
   "cell_type": "markdown",
   "id": "mathematical-dream",
   "metadata": {},
   "source": [
    "## Write Dockerfile"
   ]
  },
  {
   "cell_type": "code",
   "execution_count": null,
   "id": "purple-donna",
   "metadata": {},
   "outputs": [
    {
     "data": {
      "application/javascript": [
       "\n",
       "            setTimeout(function() {\n",
       "                var nbb_cell_id = 11;\n",
       "                var nbb_unformatted_code = \"dockerfile = f\\\"\\\"\\\"\\nFROM nginx\\nCOPY {data_root} /usr/share/nginx/html/{data_root}\\n\\\"\\\"\\\"\\nwith Path(\\\"Dockerfile.nginx\\\").open(\\\"w\\\") as f:\\n    f.write(dockerfile)\";\n",
       "                var nbb_formatted_code = \"dockerfile = f\\\"\\\"\\\"\\nFROM nginx\\nCOPY {data_root} /usr/share/nginx/html/{data_root}\\n\\\"\\\"\\\"\\nwith Path(\\\"Dockerfile.nginx\\\").open(\\\"w\\\") as f:\\n    f.write(dockerfile)\";\n",
       "                var nbb_cells = Jupyter.notebook.get_cells();\n",
       "                for (var i = 0; i < nbb_cells.length; ++i) {\n",
       "                    if (nbb_cells[i].input_prompt_number == nbb_cell_id) {\n",
       "                        if (nbb_cells[i].get_text() == nbb_unformatted_code) {\n",
       "                             nbb_cells[i].set_text(nbb_formatted_code);\n",
       "                        }\n",
       "                        break;\n",
       "                    }\n",
       "                }\n",
       "            }, 500);\n",
       "            "
      ],
      "text/plain": [
       "<IPython.core.display.Javascript object>"
      ]
     },
     "metadata": {},
     "output_type": "display_data"
    }
   ],
   "source": [
    "dockerfile = f\"\"\"\n",
    "FROM nginx\n",
    "COPY {data_root} /usr/share/nginx/html/{data_root}\n",
    "\"\"\"\n",
    "with Path(\"Dockerfile.nginx\").open(\"w\") as f:\n",
    "    f.write(dockerfile)"
   ]
  },
  {
   "cell_type": "markdown",
   "id": "level-separate",
   "metadata": {},
   "source": [
    "## Kill if Running"
   ]
  },
  {
   "cell_type": "code",
   "execution_count": null,
   "id": "functional-heavy",
   "metadata": {},
   "outputs": [
    {
     "data": {
      "application/javascript": [
       "\n",
       "            setTimeout(function() {\n",
       "                var nbb_cell_id = 12;\n",
       "                var nbb_unformatted_code = \"output = subprocess.run(f\\\"docker ps | grep {name}\\\", **kwargs)\\nif len(output.stdout) > 0:\\n    docker_id = output.stdout.split()[0]\\n    output = subprocess.run(f\\\"docker kill {docker_id}\\\", **kwargs)\\n    print(output.stdout)\";\n",
       "                var nbb_formatted_code = \"output = subprocess.run(f\\\"docker ps | grep {name}\\\", **kwargs)\\nif len(output.stdout) > 0:\\n    docker_id = output.stdout.split()[0]\\n    output = subprocess.run(f\\\"docker kill {docker_id}\\\", **kwargs)\\n    print(output.stdout)\";\n",
       "                var nbb_cells = Jupyter.notebook.get_cells();\n",
       "                for (var i = 0; i < nbb_cells.length; ++i) {\n",
       "                    if (nbb_cells[i].input_prompt_number == nbb_cell_id) {\n",
       "                        if (nbb_cells[i].get_text() == nbb_unformatted_code) {\n",
       "                             nbb_cells[i].set_text(nbb_formatted_code);\n",
       "                        }\n",
       "                        break;\n",
       "                    }\n",
       "                }\n",
       "            }, 500);\n",
       "            "
      ],
      "text/plain": [
       "<IPython.core.display.Javascript object>"
      ]
     },
     "metadata": {},
     "output_type": "display_data"
    }
   ],
   "source": [
    "# dont_test\n",
    "\n",
    "output = subprocess.run(f\"docker ps | grep {name}\", **kwargs)\n",
    "if len(output.stdout) > 0:\n",
    "    docker_id = output.stdout.split()[0]\n",
    "    output = subprocess.run(f\"docker kill {docker_id}\", **kwargs)\n",
    "    print(output.stdout)"
   ]
  },
  {
   "cell_type": "markdown",
   "id": "herbal-thirty",
   "metadata": {},
   "source": [
    "## Remove Container"
   ]
  },
  {
   "cell_type": "code",
   "execution_count": null,
   "id": "liable-queensland",
   "metadata": {},
   "outputs": [
    {
     "name": "stdout",
     "output_type": "stream",
     "text": [
      "\n"
     ]
    },
    {
     "data": {
      "application/javascript": [
       "\n",
       "            setTimeout(function() {\n",
       "                var nbb_cell_id = 13;\n",
       "                var nbb_unformatted_code = \"output = subprocess.run(f\\\"docker rm {name}\\\", **kwargs)\\nprint(output.stdout)\";\n",
       "                var nbb_formatted_code = \"output = subprocess.run(f\\\"docker rm {name}\\\", **kwargs)\\nprint(output.stdout)\";\n",
       "                var nbb_cells = Jupyter.notebook.get_cells();\n",
       "                for (var i = 0; i < nbb_cells.length; ++i) {\n",
       "                    if (nbb_cells[i].input_prompt_number == nbb_cell_id) {\n",
       "                        if (nbb_cells[i].get_text() == nbb_unformatted_code) {\n",
       "                             nbb_cells[i].set_text(nbb_formatted_code);\n",
       "                        }\n",
       "                        break;\n",
       "                    }\n",
       "                }\n",
       "            }, 500);\n",
       "            "
      ],
      "text/plain": [
       "<IPython.core.display.Javascript object>"
      ]
     },
     "metadata": {},
     "output_type": "display_data"
    }
   ],
   "source": [
    "# dont_test\n",
    "\n",
    "output = subprocess.run(f\"docker rm {name}\", **kwargs)\n",
    "print(output.stdout)"
   ]
  },
  {
   "cell_type": "markdown",
   "id": "seventh-processing",
   "metadata": {},
   "source": [
    "## Build Container"
   ]
  },
  {
   "cell_type": "code",
   "execution_count": null,
   "id": "unlikely-thesis",
   "metadata": {},
   "outputs": [
    {
     "name": "stdout",
     "output_type": "stream",
     "text": [
      "\n"
     ]
    },
    {
     "data": {
      "application/javascript": [
       "\n",
       "            setTimeout(function() {\n",
       "                var nbb_cell_id = 14;\n",
       "                var nbb_unformatted_code = \"output = subprocess.run(f\\\"docker build -f Dockerfile.nginx -t {name} .\\\", **kwargs)\\nprint(output.stdout)\";\n",
       "                var nbb_formatted_code = \"output = subprocess.run(f\\\"docker build -f Dockerfile.nginx -t {name} .\\\", **kwargs)\\nprint(output.stdout)\";\n",
       "                var nbb_cells = Jupyter.notebook.get_cells();\n",
       "                for (var i = 0; i < nbb_cells.length; ++i) {\n",
       "                    if (nbb_cells[i].input_prompt_number == nbb_cell_id) {\n",
       "                        if (nbb_cells[i].get_text() == nbb_unformatted_code) {\n",
       "                             nbb_cells[i].set_text(nbb_formatted_code);\n",
       "                        }\n",
       "                        break;\n",
       "                    }\n",
       "                }\n",
       "            }, 500);\n",
       "            "
      ],
      "text/plain": [
       "<IPython.core.display.Javascript object>"
      ]
     },
     "metadata": {},
     "output_type": "display_data"
    }
   ],
   "source": [
    "# dont_test\n",
    "\n",
    "output = subprocess.run(f\"docker build -f Dockerfile.nginx -t {name} .\", **kwargs)\n",
    "print(output.stdout)"
   ]
  },
  {
   "cell_type": "markdown",
   "id": "angry-crime",
   "metadata": {},
   "source": [
    "## Start Container"
   ]
  },
  {
   "cell_type": "code",
   "execution_count": null,
   "id": "ceramic-robert",
   "metadata": {},
   "outputs": [
    {
     "name": "stdout",
     "output_type": "stream",
     "text": [
      "253f35cb746f47e4ad04140a6e4252d655033538fdc76ad7414d86188f9b732d\n",
      "\n"
     ]
    },
    {
     "data": {
      "application/javascript": [
       "\n",
       "            setTimeout(function() {\n",
       "                var nbb_cell_id = 15;\n",
       "                var nbb_unformatted_code = \"output = subprocess.run(f\\\"docker run --name {name} -d -p {port}:80 {name}\\\", **kwargs)\\nprint(output.stdout)\";\n",
       "                var nbb_formatted_code = \"output = subprocess.run(f\\\"docker run --name {name} -d -p {port}:80 {name}\\\", **kwargs)\\nprint(output.stdout)\";\n",
       "                var nbb_cells = Jupyter.notebook.get_cells();\n",
       "                for (var i = 0; i < nbb_cells.length; ++i) {\n",
       "                    if (nbb_cells[i].input_prompt_number == nbb_cell_id) {\n",
       "                        if (nbb_cells[i].get_text() == nbb_unformatted_code) {\n",
       "                             nbb_cells[i].set_text(nbb_formatted_code);\n",
       "                        }\n",
       "                        break;\n",
       "                    }\n",
       "                }\n",
       "            }, 500);\n",
       "            "
      ],
      "text/plain": [
       "<IPython.core.display.Javascript object>"
      ]
     },
     "metadata": {},
     "output_type": "display_data"
    }
   ],
   "source": [
    "# dont_test\n",
    "\n",
    "output = subprocess.run(f\"docker run --name {name} -d -p {port}:80 {name}\", **kwargs)\n",
    "print(output.stdout)"
   ]
  }
 ],
 "metadata": {
  "kernelspec": {
   "display_name": "Python 3",
   "language": "python",
   "name": "python3"
  }
 },
 "nbformat": 4,
 "nbformat_minor": 5
}
