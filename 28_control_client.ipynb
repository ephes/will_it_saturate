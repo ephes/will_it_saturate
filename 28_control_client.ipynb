{
 "cells": [
  {
   "cell_type": "code",
   "execution_count": null,
   "id": "lonely-context",
   "metadata": {},
   "outputs": [
    {
     "data": {
      "application/javascript": [
       "\n",
       "            setTimeout(function() {\n",
       "                var nbb_cell_id = 1;\n",
       "                var nbb_unformatted_code = \"%load_ext nb_black\";\n",
       "                var nbb_formatted_code = \"%load_ext nb_black\";\n",
       "                var nbb_cells = Jupyter.notebook.get_cells();\n",
       "                for (var i = 0; i < nbb_cells.length; ++i) {\n",
       "                    if (nbb_cells[i].input_prompt_number == nbb_cell_id) {\n",
       "                        if (nbb_cells[i].get_text() == nbb_unformatted_code) {\n",
       "                             nbb_cells[i].set_text(nbb_formatted_code);\n",
       "                        }\n",
       "                        break;\n",
       "                    }\n",
       "                }\n",
       "            }, 500);\n",
       "            "
      ],
      "text/plain": [
       "<IPython.core.display.Javascript object>"
      ]
     },
     "metadata": {},
     "output_type": "display_data"
    }
   ],
   "source": [
    "%load_ext nb_black"
   ]
  },
  {
   "cell_type": "code",
   "execution_count": null,
   "id": "contained-farmer",
   "metadata": {},
   "outputs": [
    {
     "data": {
      "application/javascript": [
       "\n",
       "            setTimeout(function() {\n",
       "                var nbb_cell_id = 2;\n",
       "                var nbb_unformatted_code = \"# default_exp control.client\";\n",
       "                var nbb_formatted_code = \"# default_exp control.client\";\n",
       "                var nbb_cells = Jupyter.notebook.get_cells();\n",
       "                for (var i = 0; i < nbb_cells.length; ++i) {\n",
       "                    if (nbb_cells[i].input_prompt_number == nbb_cell_id) {\n",
       "                        if (nbb_cells[i].get_text() == nbb_unformatted_code) {\n",
       "                             nbb_cells[i].set_text(nbb_formatted_code);\n",
       "                        }\n",
       "                        break;\n",
       "                    }\n",
       "                }\n",
       "            }, 500);\n",
       "            "
      ],
      "text/plain": [
       "<IPython.core.display.Javascript object>"
      ]
     },
     "metadata": {},
     "output_type": "display_data"
    }
   ],
   "source": [
    "# default_exp control.client"
   ]
  },
  {
   "cell_type": "markdown",
   "id": "moving-specialist",
   "metadata": {},
   "source": [
    "# Control Client"
   ]
  },
  {
   "cell_type": "code",
   "execution_count": null,
   "id": "editorial-voltage",
   "metadata": {},
   "outputs": [
    {
     "data": {
      "application/javascript": [
       "\n",
       "            setTimeout(function() {\n",
       "                var nbb_cell_id = 3;\n",
       "                var nbb_unformatted_code = \"# export\\n\\nimport httpx\\n\\nfrom pydantic import BaseModel\\nfrom urllib.parse import urljoin\\n\\nfrom will_it_saturate.hosts import Host\\nfrom will_it_saturate.files import BenchmarkFile\\n\\n\\nclass ControlClient(BaseModel):\\n    host: Host\\n\\n    @property\\n    def base_url(self):\\n        return f\\\"http://{self.host.name}:{self.host.port}/\\\"\\n\\n    @property\\n    def machine(self):\\n        url = urljoin(self.base_url, \\\"machine\\\")\\n        r = httpx.get(url)\\n        r.raise_for_status()\\n        return r.json()\\n\\n    def get_or_create_files(self, epoch):\\n        url = urljoin(self.base_url, \\\"epochs\\\")\\n        r = httpx.post(url, json=epoch.dict())\\n        r.raise_for_status()\\n        return [BenchmarkFile(**file) for file in r.json()[\\\"files\\\"]]\\n\\n    def get_or_create_server(self, server):\\n        url = urljoin(self.base_url, \\\"servers\\\")\\n        r = httpx.post(url, json=server.dict())\\n        r.raise_for_status()\\n        return server.__class__(**r.json())\";\n",
       "                var nbb_formatted_code = \"# export\\n\\nimport httpx\\n\\nfrom pydantic import BaseModel\\nfrom urllib.parse import urljoin\\n\\nfrom will_it_saturate.hosts import Host\\nfrom will_it_saturate.files import BenchmarkFile\\n\\n\\nclass ControlClient(BaseModel):\\n    host: Host\\n\\n    @property\\n    def base_url(self):\\n        return f\\\"http://{self.host.name}:{self.host.port}/\\\"\\n\\n    @property\\n    def machine(self):\\n        url = urljoin(self.base_url, \\\"machine\\\")\\n        r = httpx.get(url)\\n        r.raise_for_status()\\n        return r.json()\\n\\n    def get_or_create_files(self, epoch):\\n        url = urljoin(self.base_url, \\\"epochs\\\")\\n        r = httpx.post(url, json=epoch.dict())\\n        r.raise_for_status()\\n        return [BenchmarkFile(**file) for file in r.json()[\\\"files\\\"]]\\n\\n    def get_or_create_server(self, server):\\n        url = urljoin(self.base_url, \\\"servers\\\")\\n        r = httpx.post(url, json=server.dict())\\n        r.raise_for_status()\\n        return server.__class__(**r.json())\";\n",
       "                var nbb_cells = Jupyter.notebook.get_cells();\n",
       "                for (var i = 0; i < nbb_cells.length; ++i) {\n",
       "                    if (nbb_cells[i].input_prompt_number == nbb_cell_id) {\n",
       "                        if (nbb_cells[i].get_text() == nbb_unformatted_code) {\n",
       "                             nbb_cells[i].set_text(nbb_formatted_code);\n",
       "                        }\n",
       "                        break;\n",
       "                    }\n",
       "                }\n",
       "            }, 500);\n",
       "            "
      ],
      "text/plain": [
       "<IPython.core.display.Javascript object>"
      ]
     },
     "metadata": {},
     "output_type": "display_data"
    }
   ],
   "source": [
    "# export\n",
    "\n",
    "import httpx\n",
    "\n",
    "from pydantic import BaseModel\n",
    "from urllib.parse import urljoin\n",
    "\n",
    "from will_it_saturate.hosts import Host\n",
    "from will_it_saturate.files import BenchmarkFile\n",
    "\n",
    "\n",
    "class ControlClient(BaseModel):\n",
    "    host: Host\n",
    "\n",
    "    @property\n",
    "    def base_url(self):\n",
    "        return f\"http://{self.host.name}:{self.host.port}/\"\n",
    "\n",
    "    @property\n",
    "    def machine(self):\n",
    "        url = urljoin(self.base_url, \"machine\")\n",
    "        r = httpx.get(url)\n",
    "        r.raise_for_status()\n",
    "        return r.json()\n",
    "\n",
    "    def get_or_create_files(self, epoch):\n",
    "        url = urljoin(self.base_url, \"epochs\")\n",
    "        r = httpx.post(url, json=epoch.dict())\n",
    "        r.raise_for_status()\n",
    "        return [BenchmarkFile(**file) for file in r.json()[\"files\"]]\n",
    "\n",
    "    def get_or_create_server(self, server):\n",
    "        url = urljoin(self.base_url, \"servers\")\n",
    "        r = httpx.post(url, json=server.dict())\n",
    "        r.raise_for_status()\n",
    "        return server.__class__(**r.json())"
   ]
  },
  {
   "cell_type": "markdown",
   "id": "cardiac-hunter",
   "metadata": {},
   "source": [
    "## Usage"
   ]
  },
  {
   "cell_type": "code",
   "execution_count": null,
   "id": "dangerous-light",
   "metadata": {},
   "outputs": [
    {
     "name": "stdout",
     "output_type": "stream",
     "text": [
      "8001\n",
      "C02ZD1Y8LVDQ\n"
     ]
    },
    {
     "data": {
      "application/javascript": [
       "\n",
       "            setTimeout(function() {\n",
       "                var nbb_cell_id = 4;\n",
       "                var nbb_unformatted_code = \"# dont_test\\n\\nhost = Host(name=\\\"localhost\\\", port=8001)\\nclient = ControlClient(host=host)\\nprint(client.host.port)\\nprint(client.machine[\\\"machine_id\\\"])\";\n",
       "                var nbb_formatted_code = \"# dont_test\\n\\nhost = Host(name=\\\"localhost\\\", port=8001)\\nclient = ControlClient(host=host)\\nprint(client.host.port)\\nprint(client.machine[\\\"machine_id\\\"])\";\n",
       "                var nbb_cells = Jupyter.notebook.get_cells();\n",
       "                for (var i = 0; i < nbb_cells.length; ++i) {\n",
       "                    if (nbb_cells[i].input_prompt_number == nbb_cell_id) {\n",
       "                        if (nbb_cells[i].get_text() == nbb_unformatted_code) {\n",
       "                             nbb_cells[i].set_text(nbb_formatted_code);\n",
       "                        }\n",
       "                        break;\n",
       "                    }\n",
       "                }\n",
       "            }, 500);\n",
       "            "
      ],
      "text/plain": [
       "<IPython.core.display.Javascript object>"
      ]
     },
     "metadata": {},
     "output_type": "display_data"
    }
   ],
   "source": [
    "# dont_test\n",
    "\n",
    "host = Host(name=\"localhost\", port=8001)\n",
    "client = ControlClient(host=host)\n",
    "print(client.host.port)\n",
    "print(client.machine[\"machine_id\"])"
   ]
  },
  {
   "cell_type": "markdown",
   "id": "guilty-surveillance",
   "metadata": {},
   "source": [
    "## Tests"
   ]
  },
  {
   "cell_type": "code",
   "execution_count": null,
   "id": "provincial-jewelry",
   "metadata": {},
   "outputs": [
    {
     "data": {
      "application/javascript": [
       "\n",
       "            setTimeout(function() {\n",
       "                var nbb_cell_id = 5;\n",
       "                var nbb_unformatted_code = \"test_host = Host(name=\\\"foobar\\\", port=8001)\\ntest_client = ControlClient(host=test_host)\\nassert \\\"foobar\\\" in test_client.base_url\\nassert \\\"8001\\\" in test_client.base_url\";\n",
       "                var nbb_formatted_code = \"test_host = Host(name=\\\"foobar\\\", port=8001)\\ntest_client = ControlClient(host=test_host)\\nassert \\\"foobar\\\" in test_client.base_url\\nassert \\\"8001\\\" in test_client.base_url\";\n",
       "                var nbb_cells = Jupyter.notebook.get_cells();\n",
       "                for (var i = 0; i < nbb_cells.length; ++i) {\n",
       "                    if (nbb_cells[i].input_prompt_number == nbb_cell_id) {\n",
       "                        if (nbb_cells[i].get_text() == nbb_unformatted_code) {\n",
       "                             nbb_cells[i].set_text(nbb_formatted_code);\n",
       "                        }\n",
       "                        break;\n",
       "                    }\n",
       "                }\n",
       "            }, 500);\n",
       "            "
      ],
      "text/plain": [
       "<IPython.core.display.Javascript object>"
      ]
     },
     "metadata": {},
     "output_type": "display_data"
    }
   ],
   "source": [
    "test_host = Host(name=\"foobar\", port=8001)\n",
    "test_client = ControlClient(host=test_host)\n",
    "assert \"foobar\" in test_client.base_url\n",
    "assert \"8001\" in test_client.base_url"
   ]
  },
  {
   "cell_type": "markdown",
   "id": "surprising-stereo",
   "metadata": {},
   "source": [
    "# Export"
   ]
  },
  {
   "cell_type": "code",
   "execution_count": null,
   "id": "threaded-replacement",
   "metadata": {},
   "outputs": [
    {
     "name": "stdout",
     "output_type": "stream",
     "text": [
      "Converted 00_host.ipynb.\n",
      "Converted 01_django_views.ipynb.\n",
      "Converted 01_fastapi_views.ipynb.\n",
      "Converted 01_file.ipynb.\n",
      "Converted 02_docker_servers.ipynb.\n",
      "Converted 02_local_servers.ipynb.\n",
      "Converted 03_servers.ipynb.\n",
      "Converted 04_clients.ipynb.\n",
      "Converted 05_epochs.ipynb.\n",
      "Converted 05_run_benchmark.ipynb.\n",
      "Converted 06_results.ipynb.\n",
      "Converted 07_repositories.ipynb.\n",
      "Converted 25_core.ipynb.\n",
      "Converted 27_control_server.ipynb.\n",
      "Converted 28_control_client.ipynb.\n",
      "Converted 30_benchmark_clients.ipynb.\n",
      "Converted 40_persistence.ipynb.\n",
      "Converted 60_benchmark_without_benchmark.ipynb.\n",
      "Converted Untitled.ipynb.\n",
      "Converted index.ipynb.\n",
      "Converted spacy_test.ipynb.\n"
     ]
    },
    {
     "data": {
      "application/javascript": [
       "\n",
       "            setTimeout(function() {\n",
       "                var nbb_cell_id = 6;\n",
       "                var nbb_unformatted_code = \"# dont_test\\n\\nfrom nbdev.export import notebook2script\\n\\nnotebook2script()\";\n",
       "                var nbb_formatted_code = \"# dont_test\\n\\nfrom nbdev.export import notebook2script\\n\\nnotebook2script()\";\n",
       "                var nbb_cells = Jupyter.notebook.get_cells();\n",
       "                for (var i = 0; i < nbb_cells.length; ++i) {\n",
       "                    if (nbb_cells[i].input_prompt_number == nbb_cell_id) {\n",
       "                        if (nbb_cells[i].get_text() == nbb_unformatted_code) {\n",
       "                             nbb_cells[i].set_text(nbb_formatted_code);\n",
       "                        }\n",
       "                        break;\n",
       "                    }\n",
       "                }\n",
       "            }, 500);\n",
       "            "
      ],
      "text/plain": [
       "<IPython.core.display.Javascript object>"
      ]
     },
     "metadata": {},
     "output_type": "display_data"
    }
   ],
   "source": [
    "# dont_test\n",
    "\n",
    "from nbdev.export import notebook2script\n",
    "\n",
    "notebook2script()"
   ]
  }
 ],
 "metadata": {
  "kernelspec": {
   "display_name": "Python 3",
   "language": "python",
   "name": "python3"
  },
  "language_info": {
   "codemirror_mode": {
    "name": "ipython",
    "version": 3
   },
   "file_extension": ".py",
   "mimetype": "text/x-python",
   "name": "python",
   "nbconvert_exporter": "python",
   "pygments_lexer": "ipython3",
   "version": "3.9.2"
  }
 },
 "nbformat": 4,
 "nbformat_minor": 5
}
