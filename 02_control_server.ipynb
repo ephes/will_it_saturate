{
 "cells": [
  {
   "cell_type": "code",
   "execution_count": 1,
   "id": "lonely-context",
   "metadata": {},
   "outputs": [
    {
     "data": {
      "application/javascript": [
       "\n",
       "            setTimeout(function() {\n",
       "                var nbb_cell_id = 1;\n",
       "                var nbb_unformatted_code = \"%load_ext nb_black\";\n",
       "                var nbb_formatted_code = \"%load_ext nb_black\";\n",
       "                var nbb_cells = Jupyter.notebook.get_cells();\n",
       "                for (var i = 0; i < nbb_cells.length; ++i) {\n",
       "                    if (nbb_cells[i].input_prompt_number == nbb_cell_id) {\n",
       "                        if (nbb_cells[i].get_text() == nbb_unformatted_code) {\n",
       "                             nbb_cells[i].set_text(nbb_formatted_code);\n",
       "                        }\n",
       "                        break;\n",
       "                    }\n",
       "                }\n",
       "            }, 500);\n",
       "            "
      ],
      "text/plain": [
       "<IPython.core.display.Javascript object>"
      ]
     },
     "metadata": {},
     "output_type": "display_data"
    }
   ],
   "source": [
    "%load_ext nb_black"
   ]
  },
  {
   "cell_type": "code",
   "execution_count": 2,
   "id": "light-application",
   "metadata": {},
   "outputs": [
    {
     "data": {
      "application/javascript": [
       "\n",
       "            setTimeout(function() {\n",
       "                var nbb_cell_id = 2;\n",
       "                var nbb_unformatted_code = \"import httpx\\n\\nfrom will_it_saturate.core import Epoch, FilesystemCreator\";\n",
       "                var nbb_formatted_code = \"import httpx\\n\\nfrom will_it_saturate.core import Epoch, FilesystemCreator\";\n",
       "                var nbb_cells = Jupyter.notebook.get_cells();\n",
       "                for (var i = 0; i < nbb_cells.length; ++i) {\n",
       "                    if (nbb_cells[i].input_prompt_number == nbb_cell_id) {\n",
       "                        if (nbb_cells[i].get_text() == nbb_unformatted_code) {\n",
       "                             nbb_cells[i].set_text(nbb_formatted_code);\n",
       "                        }\n",
       "                        break;\n",
       "                    }\n",
       "                }\n",
       "            }, 500);\n",
       "            "
      ],
      "text/plain": [
       "<IPython.core.display.Javascript object>"
      ]
     },
     "metadata": {},
     "output_type": "display_data"
    }
   ],
   "source": [
    "import httpx\n",
    "\n",
    "from will_it_saturate.core import Epoch, FilesystemCreator"
   ]
  },
  {
   "cell_type": "code",
   "execution_count": 3,
   "id": "biological-intention",
   "metadata": {},
   "outputs": [
    {
     "data": {
      "application/javascript": [
       "\n",
       "            setTimeout(function() {\n",
       "                var nbb_cell_id = 3;\n",
       "                var nbb_unformatted_code = \"# default_exp control.main\";\n",
       "                var nbb_formatted_code = \"# default_exp control.main\";\n",
       "                var nbb_cells = Jupyter.notebook.get_cells();\n",
       "                for (var i = 0; i < nbb_cells.length; ++i) {\n",
       "                    if (nbb_cells[i].input_prompt_number == nbb_cell_id) {\n",
       "                        if (nbb_cells[i].get_text() == nbb_unformatted_code) {\n",
       "                             nbb_cells[i].set_text(nbb_formatted_code);\n",
       "                        }\n",
       "                        break;\n",
       "                    }\n",
       "                }\n",
       "            }, 500);\n",
       "            "
      ],
      "text/plain": [
       "<IPython.core.display.Javascript object>"
      ]
     },
     "metadata": {},
     "output_type": "display_data"
    }
   ],
   "source": [
    "# default_exp control.main"
   ]
  },
  {
   "cell_type": "markdown",
   "id": "buried-compression",
   "metadata": {},
   "source": [
    "# fastAPI Control Server\n",
    "\n",
    "```\n",
    "uvicorn will_it_saturate.control.main:app --reload --port 8001\n",
    "```"
   ]
  },
  {
   "cell_type": "code",
   "execution_count": 11,
   "id": "departmental-south",
   "metadata": {},
   "outputs": [
    {
     "data": {
      "application/javascript": [
       "\n",
       "            setTimeout(function() {\n",
       "                var nbb_cell_id = 11;\n",
       "                var nbb_unformatted_code = \"# export\\n\\nfrom pathlib import Path\\nfrom pydantic import BaseModel\\n\\nfrom fastapi import FastAPI\\n\\nfrom will_it_saturate.core import Epoch, FilesystemCreator\\n\\napp = FastAPI()\\n\\n\\n@app.get(\\\"/\\\")\\ndef read_root():\\n    return {\\\"Hello\\\": \\\"World/Control\\\"}\\n\\n\\n@app.post(\\\"/epochs/\\\")\\ndef create_epoch(epoch: Epoch):\\n    print(epoch)\\n    epoch.file_creator = FilesystemCreator()\\n    epoch.create_files()\\n    return epoch\";\n",
       "                var nbb_formatted_code = \"# export\\n\\nfrom pathlib import Path\\nfrom pydantic import BaseModel\\n\\nfrom fastapi import FastAPI\\n\\nfrom will_it_saturate.core import Epoch, FilesystemCreator\\n\\napp = FastAPI()\\n\\n\\n@app.get(\\\"/\\\")\\ndef read_root():\\n    return {\\\"Hello\\\": \\\"World/Control\\\"}\\n\\n\\n@app.post(\\\"/epochs/\\\")\\ndef create_epoch(epoch: Epoch):\\n    print(epoch)\\n    epoch.file_creator = FilesystemCreator()\\n    epoch.create_files()\\n    return epoch\";\n",
       "                var nbb_cells = Jupyter.notebook.get_cells();\n",
       "                for (var i = 0; i < nbb_cells.length; ++i) {\n",
       "                    if (nbb_cells[i].input_prompt_number == nbb_cell_id) {\n",
       "                        if (nbb_cells[i].get_text() == nbb_unformatted_code) {\n",
       "                             nbb_cells[i].set_text(nbb_formatted_code);\n",
       "                        }\n",
       "                        break;\n",
       "                    }\n",
       "                }\n",
       "            }, 500);\n",
       "            "
      ],
      "text/plain": [
       "<IPython.core.display.Javascript object>"
      ]
     },
     "metadata": {},
     "output_type": "display_data"
    }
   ],
   "source": [
    "# export\n",
    "\n",
    "from pathlib import Path\n",
    "from pydantic import BaseModel\n",
    "\n",
    "from fastapi import FastAPI\n",
    "\n",
    "from will_it_saturate.core import Epoch, FilesystemCreator\n",
    "\n",
    "app = FastAPI()\n",
    "\n",
    "\n",
    "@app.get(\"/\")\n",
    "def read_root():\n",
    "    return {\"Hello\": \"World/Control\"}\n",
    "\n",
    "\n",
    "@app.post(\"/epochs/\")\n",
    "def create_epoch(epoch: Epoch):\n",
    "    print(epoch)\n",
    "    epoch.file_creator = FilesystemCreator()\n",
    "    epoch.create_files()\n",
    "    return epoch\n"
   ]
  },
  {
   "cell_type": "markdown",
   "id": "lesser-radical",
   "metadata": {},
   "source": [
    "# Usage"
   ]
  },
  {
   "cell_type": "code",
   "execution_count": 5,
   "id": "labeled-patrick",
   "metadata": {},
   "outputs": [
    {
     "data": {
      "application/javascript": [
       "\n",
       "            setTimeout(function() {\n",
       "                var nbb_cell_id = 5;\n",
       "                var nbb_unformatted_code = \"byte = 8\\ngigabit = 10 ** 9\\nbandwidth = gigabit / byte\\nduration = 3\\nfile_size = 10 ** 7\\n\\nepoch = Epoch(\\n    file_size=file_size,\\n    duration=3,\\n    bandwith=bandwidth,\\n)\";\n",
       "                var nbb_formatted_code = \"byte = 8\\ngigabit = 10 ** 9\\nbandwidth = gigabit / byte\\nduration = 3\\nfile_size = 10 ** 7\\n\\nepoch = Epoch(\\n    file_size=file_size,\\n    duration=3,\\n    bandwith=bandwidth,\\n)\";\n",
       "                var nbb_cells = Jupyter.notebook.get_cells();\n",
       "                for (var i = 0; i < nbb_cells.length; ++i) {\n",
       "                    if (nbb_cells[i].input_prompt_number == nbb_cell_id) {\n",
       "                        if (nbb_cells[i].get_text() == nbb_unformatted_code) {\n",
       "                             nbb_cells[i].set_text(nbb_formatted_code);\n",
       "                        }\n",
       "                        break;\n",
       "                    }\n",
       "                }\n",
       "            }, 500);\n",
       "            "
      ],
      "text/plain": [
       "<IPython.core.display.Javascript object>"
      ]
     },
     "metadata": {},
     "output_type": "display_data"
    }
   ],
   "source": [
    "byte = 8\n",
    "gigabit = 10 ** 9\n",
    "bandwidth = gigabit / byte\n",
    "duration = 3\n",
    "file_size = 10 ** 7\n",
    "\n",
    "epoch = Epoch(\n",
    "    file_size=file_size,\n",
    "    duration=3,\n",
    "    bandwith=bandwidth,\n",
    ")"
   ]
  },
  {
   "cell_type": "code",
   "execution_count": 14,
   "id": "smooth-insertion",
   "metadata": {},
   "outputs": [
    {
     "name": "stdout",
     "output_type": "stream",
     "text": [
      "200 {'file_size': 10000000, 'duration': 3, 'bandwidth': 125000000, 'files': [{'number': 0, 'base_path': '10000000_3_125000000', 'size': 10000000, 'data_root': 'data', 'hostname': 'localhost', 'port': 8000, 'checksum': '61d3e3ca52e4878ed4b9751d204e64d9', 'creator': {}}, {'number': 1, 'base_path': '10000000_3_125000000', 'size': 10000000, 'data_root': 'data', 'hostname': 'localhost', 'port': 8000, 'checksum': 'd1d4eceb00bbfcae752984ad735ef906', 'creator': {}}, {'number': 2, 'base_path': '10000000_3_125000000', 'size': 10000000, 'data_root': 'data', 'hostname': 'localhost', 'port': 8000, 'checksum': 'e62db9c0c03f92d446d9d51d6b98db03', 'creator': {}}, {'number': 3, 'base_path': '10000000_3_125000000', 'size': 10000000, 'data_root': 'data', 'hostname': 'localhost', 'port': 8000, 'checksum': '259b3debe22dbf7a8252046889bcff4b', 'creator': {}}, {'number': 4, 'base_path': '10000000_3_125000000', 'size': 10000000, 'data_root': 'data', 'hostname': 'localhost', 'port': 8000, 'checksum': '3cf374628944b5179573b16f1a09cccb', 'creator': {}}, {'number': 5, 'base_path': '10000000_3_125000000', 'size': 10000000, 'data_root': 'data', 'hostname': 'localhost', 'port': 8000, 'checksum': 'f51c038acb664f330e31ad4729645f51', 'creator': {}}, {'number': 6, 'base_path': '10000000_3_125000000', 'size': 10000000, 'data_root': 'data', 'hostname': 'localhost', 'port': 8000, 'checksum': 'ccce124ccfb9d3ccda0a75bfed81af42', 'creator': {}}, {'number': 7, 'base_path': '10000000_3_125000000', 'size': 10000000, 'data_root': 'data', 'hostname': 'localhost', 'port': 8000, 'checksum': '634327942266338a97cc5726d7a30708', 'creator': {}}, {'number': 8, 'base_path': '10000000_3_125000000', 'size': 10000000, 'data_root': 'data', 'hostname': 'localhost', 'port': 8000, 'checksum': '14c048531388144af1fa2a849b3b6249', 'creator': {}}, {'number': 9, 'base_path': '10000000_3_125000000', 'size': 10000000, 'data_root': 'data', 'hostname': 'localhost', 'port': 8000, 'checksum': '60788e917167b42d79bddbfc0135594a', 'creator': {}}, {'number': 10, 'base_path': '10000000_3_125000000', 'size': 10000000, 'data_root': 'data', 'hostname': 'localhost', 'port': 8000, 'checksum': '9b24bf47322a113da7b77f64bfa9d6a8', 'creator': {}}, {'number': 11, 'base_path': '10000000_3_125000000', 'size': 10000000, 'data_root': 'data', 'hostname': 'localhost', 'port': 8000, 'checksum': 'b3a5649a2db95c0c58ae0dc931426e1a', 'creator': {}}, {'number': 12, 'base_path': '10000000_3_125000000', 'size': 10000000, 'data_root': 'data', 'hostname': 'localhost', 'port': 8000, 'checksum': '6dff4feca8f44baff5fdf7d69ec0fa8c', 'creator': {}}, {'number': 13, 'base_path': '10000000_3_125000000', 'size': 10000000, 'data_root': 'data', 'hostname': 'localhost', 'port': 8000, 'checksum': 'ef3c17a9621ac2142d0e226660c81726', 'creator': {}}, {'number': 14, 'base_path': '10000000_3_125000000', 'size': 10000000, 'data_root': 'data', 'hostname': 'localhost', 'port': 8000, 'checksum': 'fea25944de76644ef3c679dc76446a67', 'creator': {}}, {'number': 15, 'base_path': '10000000_3_125000000', 'size': 10000000, 'data_root': 'data', 'hostname': 'localhost', 'port': 8000, 'checksum': '7fcccaa836be532f25d79d4eedcf5b34', 'creator': {}}, {'number': 16, 'base_path': '10000000_3_125000000', 'size': 10000000, 'data_root': 'data', 'hostname': 'localhost', 'port': 8000, 'checksum': '63202d8e26de798decd07f9c5b7b6cd8', 'creator': {}}, {'number': 17, 'base_path': '10000000_3_125000000', 'size': 10000000, 'data_root': 'data', 'hostname': 'localhost', 'port': 8000, 'checksum': '54eed13280c0e80f331e3f1290639c30', 'creator': {}}, {'number': 18, 'base_path': '10000000_3_125000000', 'size': 10000000, 'data_root': 'data', 'hostname': 'localhost', 'port': 8000, 'checksum': '6d5e3ad207dcd363063e0d1b00627b21', 'creator': {}}, {'number': 19, 'base_path': '10000000_3_125000000', 'size': 10000000, 'data_root': 'data', 'hostname': 'localhost', 'port': 8000, 'checksum': 'fc614959528e4418a553b7ba130cee44', 'creator': {}}, {'number': 20, 'base_path': '10000000_3_125000000', 'size': 10000000, 'data_root': 'data', 'hostname': 'localhost', 'port': 8000, 'checksum': '1298010995dfba96c768764e004cb5b0', 'creator': {}}, {'number': 21, 'base_path': '10000000_3_125000000', 'size': 10000000, 'data_root': 'data', 'hostname': 'localhost', 'port': 8000, 'checksum': '616ef327597b6919a55ee381dd77d105', 'creator': {}}, {'number': 22, 'base_path': '10000000_3_125000000', 'size': 10000000, 'data_root': 'data', 'hostname': 'localhost', 'port': 8000, 'checksum': '94d5d07c85730be279845c63ba60828f', 'creator': {}}, {'number': 23, 'base_path': '10000000_3_125000000', 'size': 10000000, 'data_root': 'data', 'hostname': 'localhost', 'port': 8000, 'checksum': 'f38a5dec753c7351a3594b7ae889fe64', 'creator': {}}, {'number': 24, 'base_path': '10000000_3_125000000', 'size': 10000000, 'data_root': 'data', 'hostname': 'localhost', 'port': 8000, 'checksum': 'a3ca72d1edebbb8bcc65fd265e816537', 'creator': {}}, {'number': 25, 'base_path': '10000000_3_125000000', 'size': 10000000, 'data_root': 'data', 'hostname': 'localhost', 'port': 8000, 'checksum': '81a9b8b03474af96396b89774ae5faad', 'creator': {}}, {'number': 26, 'base_path': '10000000_3_125000000', 'size': 10000000, 'data_root': 'data', 'hostname': 'localhost', 'port': 8000, 'checksum': 'c5ee420e9e9bcb932c5dd27121bdf36b', 'creator': {}}, {'number': 27, 'base_path': '10000000_3_125000000', 'size': 10000000, 'data_root': 'data', 'hostname': 'localhost', 'port': 8000, 'checksum': '59587606497e51b8baf397130b9ac39c', 'creator': {}}, {'number': 28, 'base_path': '10000000_3_125000000', 'size': 10000000, 'data_root': 'data', 'hostname': 'localhost', 'port': 8000, 'checksum': '8e63c43d8fab1a249fab318f2b399f66', 'creator': {}}, {'number': 29, 'base_path': '10000000_3_125000000', 'size': 10000000, 'data_root': 'data', 'hostname': 'localhost', 'port': 8000, 'checksum': 'd245ebff41cb5f3ce8787049af859ef9', 'creator': {}}, {'number': 30, 'base_path': '10000000_3_125000000', 'size': 10000000, 'data_root': 'data', 'hostname': 'localhost', 'port': 8000, 'checksum': 'b9e8197757546b1e38f99f885d9c82a0', 'creator': {}}, {'number': 31, 'base_path': '10000000_3_125000000', 'size': 10000000, 'data_root': 'data', 'hostname': 'localhost', 'port': 8000, 'checksum': 'c0219af7b4b449694b60997d1105e8f9', 'creator': {}}, {'number': 32, 'base_path': '10000000_3_125000000', 'size': 10000000, 'data_root': 'data', 'hostname': 'localhost', 'port': 8000, 'checksum': '96543766e1c8d6877b183e890bbbf088', 'creator': {}}, {'number': 33, 'base_path': '10000000_3_125000000', 'size': 10000000, 'data_root': 'data', 'hostname': 'localhost', 'port': 8000, 'checksum': 'bca583ee256bf81f9685806173edc946', 'creator': {}}, {'number': 34, 'base_path': '10000000_3_125000000', 'size': 10000000, 'data_root': 'data', 'hostname': 'localhost', 'port': 8000, 'checksum': 'd35643076e91196b964107ae72655477', 'creator': {}}, {'number': 35, 'base_path': '10000000_3_125000000', 'size': 10000000, 'data_root': 'data', 'hostname': 'localhost', 'port': 8000, 'checksum': 'c0ff17d0291eb5eb041762e770626018', 'creator': {}}, {'number': 36, 'base_path': '10000000_3_125000000', 'size': 10000000, 'data_root': 'data', 'hostname': 'localhost', 'port': 8000, 'checksum': 'a6df1885dc0e994b61e7a3afe5e51ee9', 'creator': {}}, {'number': 37, 'base_path': '10000000_3_125000000', 'size': 10000000, 'data_root': 'data', 'hostname': 'localhost', 'port': 8000, 'checksum': '716231c31ed4a72080a4686f5dd6e1be', 'creator': {}}], 'file_creator': {}, 'data_root': 'data'}\n"
     ]
    },
    {
     "data": {
      "application/javascript": [
       "\n",
       "            setTimeout(function() {\n",
       "                var nbb_cell_id = 14;\n",
       "                var nbb_unformatted_code = \"url = \\\"http://localhost:8001/epochs/\\\"\\n\\nr = httpx.post(url, json=epoch.dict_without_file_creator())\\nprint(r.status_code, r.json())\";\n",
       "                var nbb_formatted_code = \"url = \\\"http://localhost:8001/epochs/\\\"\\n\\nr = httpx.post(url, json=epoch.dict_without_file_creator())\\nprint(r.status_code, r.json())\";\n",
       "                var nbb_cells = Jupyter.notebook.get_cells();\n",
       "                for (var i = 0; i < nbb_cells.length; ++i) {\n",
       "                    if (nbb_cells[i].input_prompt_number == nbb_cell_id) {\n",
       "                        if (nbb_cells[i].get_text() == nbb_unformatted_code) {\n",
       "                             nbb_cells[i].set_text(nbb_formatted_code);\n",
       "                        }\n",
       "                        break;\n",
       "                    }\n",
       "                }\n",
       "            }, 500);\n",
       "            "
      ],
      "text/plain": [
       "<IPython.core.display.Javascript object>"
      ]
     },
     "metadata": {},
     "output_type": "display_data"
    }
   ],
   "source": [
    "url = \"http://localhost:8001/epochs/\"\n",
    "\n",
    "r = httpx.post(url, json=epoch.dict_without_file_creator())\n",
    "print(r.status_code, r.json())"
   ]
  },
  {
   "cell_type": "markdown",
   "id": "surprising-stereo",
   "metadata": {},
   "source": [
    "# Export"
   ]
  },
  {
   "cell_type": "code",
   "execution_count": 12,
   "id": "threaded-replacement",
   "metadata": {},
   "outputs": [
    {
     "name": "stdout",
     "output_type": "stream",
     "text": [
      "Converted 00_core.ipynb.\n",
      "Converted 01_django_views.ipynb.\n",
      "Converted 01_fastapi_views.ipynb.\n",
      "Converted 02_control_server.ipynb.\n",
      "Converted 02_docker_servers.ipynb.\n",
      "Converted 02_local_servers.ipynb.\n",
      "Converted 03_benchmark_clients.ipynb.\n",
      "Converted 04_persistence.ipynb.\n",
      "Converted 05_run_benchmark.ipynb.\n",
      "Converted 06_benchmark_without_benchmark.ipynb.\n",
      "Converted index.ipynb.\n"
     ]
    },
    {
     "data": {
      "application/javascript": [
       "\n",
       "            setTimeout(function() {\n",
       "                var nbb_cell_id = 12;\n",
       "                var nbb_unformatted_code = \"# dont_test\\n\\nfrom nbdev.export import notebook2script\\n\\nnotebook2script()\";\n",
       "                var nbb_formatted_code = \"# dont_test\\n\\nfrom nbdev.export import notebook2script\\n\\nnotebook2script()\";\n",
       "                var nbb_cells = Jupyter.notebook.get_cells();\n",
       "                for (var i = 0; i < nbb_cells.length; ++i) {\n",
       "                    if (nbb_cells[i].input_prompt_number == nbb_cell_id) {\n",
       "                        if (nbb_cells[i].get_text() == nbb_unformatted_code) {\n",
       "                             nbb_cells[i].set_text(nbb_formatted_code);\n",
       "                        }\n",
       "                        break;\n",
       "                    }\n",
       "                }\n",
       "            }, 500);\n",
       "            "
      ],
      "text/plain": [
       "<IPython.core.display.Javascript object>"
      ]
     },
     "metadata": {},
     "output_type": "display_data"
    }
   ],
   "source": [
    "# dont_test\n",
    "\n",
    "from nbdev.export import notebook2script\n",
    "\n",
    "notebook2script()"
   ]
  },
  {
   "cell_type": "code",
   "execution_count": null,
   "id": "framed-actor",
   "metadata": {},
   "outputs": [],
   "source": []
  }
 ],
 "metadata": {
  "kernelspec": {
   "display_name": "Python 3",
   "language": "python",
   "name": "python3"
  },
  "language_info": {
   "codemirror_mode": {
    "name": "ipython",
    "version": 3
   },
   "file_extension": ".py",
   "mimetype": "text/x-python",
   "name": "python",
   "nbconvert_exporter": "python",
   "pygments_lexer": "ipython3",
   "version": "3.9.2"
  }
 },
 "nbformat": 4,
 "nbformat_minor": 5
}
