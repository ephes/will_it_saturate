{
 "cells": [
  {
   "cell_type": "code",
   "execution_count": null,
   "id": "automotive-brooks",
   "metadata": {},
   "outputs": [
    {
     "data": {
      "application/javascript": [
       "\n",
       "            setTimeout(function() {\n",
       "                var nbb_cell_id = 1;\n",
       "                var nbb_unformatted_code = \"%load_ext nb_black\";\n",
       "                var nbb_formatted_code = \"%load_ext nb_black\";\n",
       "                var nbb_cells = Jupyter.notebook.get_cells();\n",
       "                for (var i = 0; i < nbb_cells.length; ++i) {\n",
       "                    if (nbb_cells[i].input_prompt_number == nbb_cell_id) {\n",
       "                        if (nbb_cells[i].get_text() == nbb_unformatted_code) {\n",
       "                             nbb_cells[i].set_text(nbb_formatted_code);\n",
       "                        }\n",
       "                        break;\n",
       "                    }\n",
       "                }\n",
       "            }, 500);\n",
       "            "
      ],
      "text/plain": [
       "<IPython.core.display.Javascript object>"
      ]
     },
     "metadata": {},
     "output_type": "display_data"
    }
   ],
   "source": [
    "%load_ext nb_black"
   ]
  },
  {
   "cell_type": "code",
   "execution_count": null,
   "id": "incorporated-ebony",
   "metadata": {},
   "outputs": [
    {
     "data": {
      "application/javascript": [
       "\n",
       "            setTimeout(function() {\n",
       "                var nbb_cell_id = 2;\n",
       "                var nbb_unformatted_code = \"# default_exp servers\";\n",
       "                var nbb_formatted_code = \"# default_exp servers\";\n",
       "                var nbb_cells = Jupyter.notebook.get_cells();\n",
       "                for (var i = 0; i < nbb_cells.length; ++i) {\n",
       "                    if (nbb_cells[i].input_prompt_number == nbb_cell_id) {\n",
       "                        if (nbb_cells[i].get_text() == nbb_unformatted_code) {\n",
       "                             nbb_cells[i].set_text(nbb_formatted_code);\n",
       "                        }\n",
       "                        break;\n",
       "                    }\n",
       "                }\n",
       "            }, 500);\n",
       "            "
      ],
      "text/plain": [
       "<IPython.core.display.Javascript object>"
      ]
     },
     "metadata": {},
     "output_type": "display_data"
    }
   ],
   "source": [
    "# default_exp servers"
   ]
  },
  {
   "cell_type": "markdown",
   "id": "030b1ce9",
   "metadata": {},
   "source": [
    "# Servers"
   ]
  },
  {
   "cell_type": "code",
   "execution_count": null,
   "id": "competitive-rogers",
   "metadata": {},
   "outputs": [
    {
     "data": {
      "application/javascript": [
       "\n",
       "            setTimeout(function() {\n",
       "                var nbb_cell_id = 3;\n",
       "                var nbb_unformatted_code = \"# export\\n\\nimport time\\nimport subprocess\\n\\nfrom pydantic import BaseModel\\n\\nfrom will_it_saturate.files import BenchmarkFile\\nfrom will_it_saturate.registry import register_model\\n\\n\\n@register_model\\nclass BaseServer(BaseModel):\\n    protocol: str = \\\"http\\\"\\n    name: str = \\\"base_server\\\"\\n    host: str = \\\"localhost\\\"\\n    port: int = 8000\\n\\n    def start(self):\\n        pass\\n\\n    def stop(self):\\n        pass\\n\\n    def is_running(self):\\n        return False\\n\\n    def file_to_url(self, file: BenchmarkFile):\\n        return f\\\"{self.protocol}://{self.host}:{self.port}/{file.path}\\\"\\n\\n    def params(self):\\n        return {\\n            \\\"class_name\\\": self.__class__.__name__,\\n            \\\"parameters\\\": self.dict(),\\n        }\";\n",
       "                var nbb_formatted_code = \"# export\\n\\nimport time\\nimport subprocess\\n\\nfrom pydantic import BaseModel\\n\\nfrom will_it_saturate.files import BenchmarkFile\\nfrom will_it_saturate.registry import register_model\\n\\n\\n@register_model\\nclass BaseServer(BaseModel):\\n    protocol: str = \\\"http\\\"\\n    name: str = \\\"base_server\\\"\\n    host: str = \\\"localhost\\\"\\n    port: int = 8000\\n\\n    def start(self):\\n        pass\\n\\n    def stop(self):\\n        pass\\n\\n    def is_running(self):\\n        return False\\n\\n    def file_to_url(self, file: BenchmarkFile):\\n        return f\\\"{self.protocol}://{self.host}:{self.port}/{file.path}\\\"\\n\\n    def params(self):\\n        return {\\n            \\\"class_name\\\": self.__class__.__name__,\\n            \\\"parameters\\\": self.dict(),\\n        }\";\n",
       "                var nbb_cells = Jupyter.notebook.get_cells();\n",
       "                for (var i = 0; i < nbb_cells.length; ++i) {\n",
       "                    if (nbb_cells[i].input_prompt_number == nbb_cell_id) {\n",
       "                        if (nbb_cells[i].get_text() == nbb_unformatted_code) {\n",
       "                             nbb_cells[i].set_text(nbb_formatted_code);\n",
       "                        }\n",
       "                        break;\n",
       "                    }\n",
       "                }\n",
       "            }, 500);\n",
       "            "
      ],
      "text/plain": [
       "<IPython.core.display.Javascript object>"
      ]
     },
     "metadata": {},
     "output_type": "display_data"
    }
   ],
   "source": [
    "# export\n",
    "\n",
    "import time\n",
    "import subprocess\n",
    "\n",
    "from pydantic import BaseModel\n",
    "\n",
    "from will_it_saturate.files import BenchmarkFile\n",
    "from will_it_saturate.registry import register_model\n",
    "\n",
    "\n",
    "@register_model\n",
    "class BaseServer(BaseModel):\n",
    "    protocol: str = \"http\"\n",
    "    name: str = \"base_server\"\n",
    "    host: str = \"localhost\"\n",
    "    port: int = 8000\n",
    "\n",
    "    def start(self):\n",
    "        pass\n",
    "\n",
    "    def stop(self):\n",
    "        pass\n",
    "\n",
    "    def is_running(self):\n",
    "        return False\n",
    "\n",
    "    def file_to_url(self, file: BenchmarkFile):\n",
    "        return f\"{self.protocol}://{self.host}:{self.port}/{file.path}\"\n",
    "\n",
    "    def params(self):\n",
    "        return {\n",
    "            \"class_name\": self.__class__.__name__,\n",
    "            \"parameters\": self.dict(),\n",
    "        }"
   ]
  },
  {
   "cell_type": "markdown",
   "id": "special-milan",
   "metadata": {},
   "source": [
    "## Usage"
   ]
  },
  {
   "cell_type": "code",
   "execution_count": null,
   "id": "naughty-association",
   "metadata": {},
   "outputs": [
    {
     "data": {
      "application/javascript": [
       "\n",
       "            setTimeout(function() {\n",
       "                var nbb_cell_id = 4;\n",
       "                var nbb_unformatted_code = \"name = \\\"Nginx Docker\\\"\\nserver = BaseServer(name=name)\";\n",
       "                var nbb_formatted_code = \"name = \\\"Nginx Docker\\\"\\nserver = BaseServer(name=name)\";\n",
       "                var nbb_cells = Jupyter.notebook.get_cells();\n",
       "                for (var i = 0; i < nbb_cells.length; ++i) {\n",
       "                    if (nbb_cells[i].input_prompt_number == nbb_cell_id) {\n",
       "                        if (nbb_cells[i].get_text() == nbb_unformatted_code) {\n",
       "                             nbb_cells[i].set_text(nbb_formatted_code);\n",
       "                        }\n",
       "                        break;\n",
       "                    }\n",
       "                }\n",
       "            }, 500);\n",
       "            "
      ],
      "text/plain": [
       "<IPython.core.display.Javascript object>"
      ]
     },
     "metadata": {},
     "output_type": "display_data"
    }
   ],
   "source": [
    "name = \"Nginx Docker\"\n",
    "server = BaseServer(name=name)"
   ]
  },
  {
   "cell_type": "markdown",
   "id": "verified-theme",
   "metadata": {},
   "source": [
    "## Tests"
   ]
  },
  {
   "cell_type": "code",
   "execution_count": null,
   "id": "congressional-definition",
   "metadata": {},
   "outputs": [
    {
     "data": {
      "application/javascript": [
       "\n",
       "            setTimeout(function() {\n",
       "                var nbb_cell_id = 5;\n",
       "                var nbb_unformatted_code = \"name = \\\"Nginx Docker\\\"\\nserver = BaseServer(name=name)\\n\\nassert server.name == name\\nassert server.start() is None\\nassert server.stop() is None\\nassert server.host == \\\"localhost\\\"\";\n",
       "                var nbb_formatted_code = \"name = \\\"Nginx Docker\\\"\\nserver = BaseServer(name=name)\\n\\nassert server.name == name\\nassert server.start() is None\\nassert server.stop() is None\\nassert server.host == \\\"localhost\\\"\";\n",
       "                var nbb_cells = Jupyter.notebook.get_cells();\n",
       "                for (var i = 0; i < nbb_cells.length; ++i) {\n",
       "                    if (nbb_cells[i].input_prompt_number == nbb_cell_id) {\n",
       "                        if (nbb_cells[i].get_text() == nbb_unformatted_code) {\n",
       "                             nbb_cells[i].set_text(nbb_formatted_code);\n",
       "                        }\n",
       "                        break;\n",
       "                    }\n",
       "                }\n",
       "            }, 500);\n",
       "            "
      ],
      "text/plain": [
       "<IPython.core.display.Javascript object>"
      ]
     },
     "metadata": {},
     "output_type": "display_data"
    }
   ],
   "source": [
    "name = \"Nginx Docker\"\n",
    "server = BaseServer(name=name)\n",
    "\n",
    "assert server.name == name\n",
    "assert server.start() is None\n",
    "assert server.stop() is None\n",
    "assert server.host == \"localhost\""
   ]
  },
  {
   "cell_type": "code",
   "execution_count": null,
   "id": "direct-discovery",
   "metadata": {},
   "outputs": [
    {
     "data": {
      "application/javascript": [
       "\n",
       "            setTimeout(function() {\n",
       "                var nbb_cell_id = 6;\n",
       "                var nbb_unformatted_code = \"file = BenchmarkFile(number=1, base_path=\\\"foobar\\\", size=123)\\nserver = BaseServer(name=\\\"test server\\\")\\nassert \\\"http://localhost:8000/data/foobar/1\\\" == server.file_to_url(file)\";\n",
       "                var nbb_formatted_code = \"file = BenchmarkFile(number=1, base_path=\\\"foobar\\\", size=123)\\nserver = BaseServer(name=\\\"test server\\\")\\nassert \\\"http://localhost:8000/data/foobar/1\\\" == server.file_to_url(file)\";\n",
       "                var nbb_cells = Jupyter.notebook.get_cells();\n",
       "                for (var i = 0; i < nbb_cells.length; ++i) {\n",
       "                    if (nbb_cells[i].input_prompt_number == nbb_cell_id) {\n",
       "                        if (nbb_cells[i].get_text() == nbb_unformatted_code) {\n",
       "                             nbb_cells[i].set_text(nbb_formatted_code);\n",
       "                        }\n",
       "                        break;\n",
       "                    }\n",
       "                }\n",
       "            }, 500);\n",
       "            "
      ],
      "text/plain": [
       "<IPython.core.display.Javascript object>"
      ]
     },
     "metadata": {},
     "output_type": "display_data"
    }
   ],
   "source": [
    "file = BenchmarkFile(number=1, base_path=\"foobar\", size=123)\n",
    "server = BaseServer(name=\"test server\")\n",
    "assert \"http://localhost:8000/data/foobar/1\" == server.file_to_url(file)"
   ]
  },
  {
   "cell_type": "code",
   "execution_count": null,
   "id": "fb989c1e",
   "metadata": {},
   "outputs": [
    {
     "data": {
      "application/javascript": [
       "\n",
       "            setTimeout(function() {\n",
       "                var nbb_cell_id = 7;\n",
       "                var nbb_unformatted_code = \"assert \\\"class_name\\\" in server.params()\";\n",
       "                var nbb_formatted_code = \"assert \\\"class_name\\\" in server.params()\";\n",
       "                var nbb_cells = Jupyter.notebook.get_cells();\n",
       "                for (var i = 0; i < nbb_cells.length; ++i) {\n",
       "                    if (nbb_cells[i].input_prompt_number == nbb_cell_id) {\n",
       "                        if (nbb_cells[i].get_text() == nbb_unformatted_code) {\n",
       "                             nbb_cells[i].set_text(nbb_formatted_code);\n",
       "                        }\n",
       "                        break;\n",
       "                    }\n",
       "                }\n",
       "            }, 500);\n",
       "            "
      ],
      "text/plain": [
       "<IPython.core.display.Javascript object>"
      ]
     },
     "metadata": {},
     "output_type": "display_data"
    }
   ],
   "source": [
    "assert \"class_name\" in server.params()"
   ]
  },
  {
   "cell_type": "markdown",
   "id": "814bb8ec",
   "metadata": {},
   "source": [
    "# Serialization / Deserialization"
   ]
  },
  {
   "cell_type": "code",
   "execution_count": null,
   "id": "4166b46b",
   "metadata": {},
   "outputs": [
    {
     "data": {
      "application/javascript": [
       "\n",
       "            setTimeout(function() {\n",
       "                var nbb_cell_id = 8;\n",
       "                var nbb_unformatted_code = \"from will_it_saturate.registry import ModelParameters\";\n",
       "                var nbb_formatted_code = \"from will_it_saturate.registry import ModelParameters\";\n",
       "                var nbb_cells = Jupyter.notebook.get_cells();\n",
       "                for (var i = 0; i < nbb_cells.length; ++i) {\n",
       "                    if (nbb_cells[i].input_prompt_number == nbb_cell_id) {\n",
       "                        if (nbb_cells[i].get_text() == nbb_unformatted_code) {\n",
       "                             nbb_cells[i].set_text(nbb_formatted_code);\n",
       "                        }\n",
       "                        break;\n",
       "                    }\n",
       "                }\n",
       "            }, 500);\n",
       "            "
      ],
      "text/plain": [
       "<IPython.core.display.Javascript object>"
      ]
     },
     "metadata": {},
     "output_type": "display_data"
    }
   ],
   "source": [
    "from will_it_saturate.registry import ModelParameters"
   ]
  },
  {
   "cell_type": "markdown",
   "id": "04722faa",
   "metadata": {},
   "source": [
    "## Usage"
   ]
  },
  {
   "cell_type": "code",
   "execution_count": null,
   "id": "ec2e7e17",
   "metadata": {},
   "outputs": [
    {
     "data": {
      "application/javascript": [
       "\n",
       "            setTimeout(function() {\n",
       "                var nbb_cell_id = 9;\n",
       "                var nbb_unformatted_code = \"name = \\\"Some Server\\\"\\nserver = BaseServer(name=name)\\n\\nserver_parameters = ModelParameters(**server.params())\\n\\nserver_from_params = server_parameters.to_model()\";\n",
       "                var nbb_formatted_code = \"name = \\\"Some Server\\\"\\nserver = BaseServer(name=name)\\n\\nserver_parameters = ModelParameters(**server.params())\\n\\nserver_from_params = server_parameters.to_model()\";\n",
       "                var nbb_cells = Jupyter.notebook.get_cells();\n",
       "                for (var i = 0; i < nbb_cells.length; ++i) {\n",
       "                    if (nbb_cells[i].input_prompt_number == nbb_cell_id) {\n",
       "                        if (nbb_cells[i].get_text() == nbb_unformatted_code) {\n",
       "                             nbb_cells[i].set_text(nbb_formatted_code);\n",
       "                        }\n",
       "                        break;\n",
       "                    }\n",
       "                }\n",
       "            }, 500);\n",
       "            "
      ],
      "text/plain": [
       "<IPython.core.display.Javascript object>"
      ]
     },
     "metadata": {},
     "output_type": "display_data"
    }
   ],
   "source": [
    "name = \"Some Server\"\n",
    "server = BaseServer(name=name)\n",
    "\n",
    "server_parameters = ModelParameters(**server.params())\n",
    "\n",
    "server_from_params = server_parameters.to_model()"
   ]
  },
  {
   "cell_type": "markdown",
   "id": "b1269206",
   "metadata": {},
   "source": [
    "## Tests"
   ]
  },
  {
   "cell_type": "code",
   "execution_count": null,
   "id": "3f9fc76b",
   "metadata": {},
   "outputs": [
    {
     "data": {
      "application/javascript": [
       "\n",
       "            setTimeout(function() {\n",
       "                var nbb_cell_id = 10;\n",
       "                var nbb_unformatted_code = \"assert server == server_from_params\";\n",
       "                var nbb_formatted_code = \"assert server == server_from_params\";\n",
       "                var nbb_cells = Jupyter.notebook.get_cells();\n",
       "                for (var i = 0; i < nbb_cells.length; ++i) {\n",
       "                    if (nbb_cells[i].input_prompt_number == nbb_cell_id) {\n",
       "                        if (nbb_cells[i].get_text() == nbb_unformatted_code) {\n",
       "                             nbb_cells[i].set_text(nbb_formatted_code);\n",
       "                        }\n",
       "                        break;\n",
       "                    }\n",
       "                }\n",
       "            }, 500);\n",
       "            "
      ],
      "text/plain": [
       "<IPython.core.display.Javascript object>"
      ]
     },
     "metadata": {},
     "output_type": "display_data"
    }
   ],
   "source": [
    "assert server == server_from_params"
   ]
  },
  {
   "cell_type": "markdown",
   "id": "electronic-tampa",
   "metadata": {},
   "source": [
    "# Export"
   ]
  },
  {
   "cell_type": "code",
   "execution_count": null,
   "id": "cooked-image",
   "metadata": {},
   "outputs": [
    {
     "name": "stdout",
     "output_type": "stream",
     "text": [
      "Converted 00_index.ipynb.\n",
      "Converted 01_host.ipynb.\n",
      "Converted 02_file.ipynb.\n",
      "Converted 03_registry.ipynb.\n",
      "Converted 04_epochs.ipynb.\n",
      "Converted 10_servers.ipynb.\n",
      "Converted 11_local_servers.ipynb.\n",
      "Converted 12_fastapi_views.ipynb.\n",
      "Converted 13_django_views.ipynb.\n",
      "Converted 14_docker_servers.ipynb.\n",
      "Converted 20_clients.ipynb.\n",
      "Converted 21_benchmark_clients.ipynb.\n",
      "Converted 30_control_server.ipynb.\n",
      "Converted 31_control_client.ipynb.\n",
      "Converted 32_control_cli.ipynb.\n",
      "Converted 40_results.ipynb.\n",
      "Converted 41_repositories.ipynb.\n",
      "Converted 42_sqlite_repository.ipynb.\n",
      "Converted 50_benchmark_without_benchmark.ipynb.\n",
      "Converted 51_benchmark_remote_control_server.ipynb.\n",
      "Converted 60_legacy.ipynb.\n",
      "Converted 61_run_benchmark.ipynb.\n"
     ]
    },
    {
     "data": {
      "application/javascript": [
       "\n",
       "            setTimeout(function() {\n",
       "                var nbb_cell_id = 11;\n",
       "                var nbb_unformatted_code = \"# dont_test\\n\\nfrom nbdev.export import notebook2script\\n\\nnotebook2script()\";\n",
       "                var nbb_formatted_code = \"# dont_test\\n\\nfrom nbdev.export import notebook2script\\n\\nnotebook2script()\";\n",
       "                var nbb_cells = Jupyter.notebook.get_cells();\n",
       "                for (var i = 0; i < nbb_cells.length; ++i) {\n",
       "                    if (nbb_cells[i].input_prompt_number == nbb_cell_id) {\n",
       "                        if (nbb_cells[i].get_text() == nbb_unformatted_code) {\n",
       "                             nbb_cells[i].set_text(nbb_formatted_code);\n",
       "                        }\n",
       "                        break;\n",
       "                    }\n",
       "                }\n",
       "            }, 500);\n",
       "            "
      ],
      "text/plain": [
       "<IPython.core.display.Javascript object>"
      ]
     },
     "metadata": {},
     "output_type": "display_data"
    }
   ],
   "source": [
    "# dont_test\n",
    "\n",
    "from nbdev.export import notebook2script\n",
    "\n",
    "notebook2script()"
   ]
  }
 ],
 "metadata": {
  "kernelspec": {
   "display_name": "Python 3",
   "language": "python",
   "name": "python3"
  }
 },
 "nbformat": 4,
 "nbformat_minor": 5
}
