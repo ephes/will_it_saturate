{
 "cells": [
  {
   "cell_type": "code",
   "execution_count": null,
   "id": "basic-underwear",
   "metadata": {},
   "outputs": [
    {
     "data": {
      "application/javascript": [
       "\n",
       "            setTimeout(function() {\n",
       "                var nbb_cell_id = 1;\n",
       "                var nbb_unformatted_code = \"%load_ext nb_black\";\n",
       "                var nbb_formatted_code = \"%load_ext nb_black\";\n",
       "                var nbb_cells = Jupyter.notebook.get_cells();\n",
       "                for (var i = 0; i < nbb_cells.length; ++i) {\n",
       "                    if (nbb_cells[i].input_prompt_number == nbb_cell_id) {\n",
       "                        if (nbb_cells[i].get_text() == nbb_unformatted_code) {\n",
       "                             nbb_cells[i].set_text(nbb_formatted_code);\n",
       "                        }\n",
       "                        break;\n",
       "                    }\n",
       "                }\n",
       "            }, 500);\n",
       "            "
      ],
      "text/plain": [
       "<IPython.core.display.Javascript object>"
      ]
     },
     "metadata": {},
     "output_type": "display_data"
    }
   ],
   "source": [
    "%load_ext nb_black"
   ]
  },
  {
   "cell_type": "code",
   "execution_count": null,
   "id": "moving-sherman",
   "metadata": {},
   "outputs": [
    {
     "data": {
      "application/javascript": [
       "\n",
       "            setTimeout(function() {\n",
       "                var nbb_cell_id = 2;\n",
       "                var nbb_unformatted_code = \"# default_exp repositories\";\n",
       "                var nbb_formatted_code = \"# default_exp repositories\";\n",
       "                var nbb_cells = Jupyter.notebook.get_cells();\n",
       "                for (var i = 0; i < nbb_cells.length; ++i) {\n",
       "                    if (nbb_cells[i].input_prompt_number == nbb_cell_id) {\n",
       "                        if (nbb_cells[i].get_text() == nbb_unformatted_code) {\n",
       "                             nbb_cells[i].set_text(nbb_formatted_code);\n",
       "                        }\n",
       "                        break;\n",
       "                    }\n",
       "                }\n",
       "            }, 500);\n",
       "            "
      ],
      "text/plain": [
       "<IPython.core.display.Javascript object>"
      ]
     },
     "metadata": {},
     "output_type": "display_data"
    }
   ],
   "source": [
    "# default_exp repositories"
   ]
  },
  {
   "cell_type": "markdown",
   "id": "6f29d76d",
   "metadata": {},
   "source": [
    "# Sqlite Repository"
   ]
  },
  {
   "cell_type": "code",
   "execution_count": null,
   "id": "5a80508d",
   "metadata": {},
   "outputs": [
    {
     "data": {
      "application/javascript": [
       "\n",
       "            setTimeout(function() {\n",
       "                var nbb_cell_id = 3;\n",
       "                var nbb_unformatted_code = \"from will_it_saturate.repositories import BaseRepository\";\n",
       "                var nbb_formatted_code = \"from will_it_saturate.repositories import BaseRepository\";\n",
       "                var nbb_cells = Jupyter.notebook.get_cells();\n",
       "                for (var i = 0; i < nbb_cells.length; ++i) {\n",
       "                    if (nbb_cells[i].input_prompt_number == nbb_cell_id) {\n",
       "                        if (nbb_cells[i].get_text() == nbb_unformatted_code) {\n",
       "                             nbb_cells[i].set_text(nbb_formatted_code);\n",
       "                        }\n",
       "                        break;\n",
       "                    }\n",
       "                }\n",
       "            }, 500);\n",
       "            "
      ],
      "text/plain": [
       "<IPython.core.display.Javascript object>"
      ]
     },
     "metadata": {},
     "output_type": "display_data"
    }
   ],
   "source": [
    "from will_it_saturate.repositories import BaseRepository"
   ]
  },
  {
   "cell_type": "code",
   "execution_count": null,
   "id": "a3ced44b",
   "metadata": {},
   "outputs": [
    {
     "data": {
      "application/javascript": [
       "\n",
       "            setTimeout(function() {\n",
       "                var nbb_cell_id = 4;\n",
       "                var nbb_unformatted_code = \"# export\\n\\nimport json\\nimport sqlite3\\n\\nfrom pydantic import BaseModel\\n\\n\\ndef dict_factory(cursor, row):\\n    d = {}\\n    for idx, col in enumerate(cursor.description):\\n        d[col[0]] = row[idx]\\n    return d\\n\\n\\nclass SqliteRepository(BaseRepository):\\n    connection: sqlite3.Connection\\n    tables: dict = {}\\n\\n    class Config:\\n        arbitrary_types_allowed = True\\n\\n    @classmethod\\n    def build_repository(cls, database_name):\\n        conn = sqlite3.connect(database_name)\\n        conn.row_factory = dict_factory\\n        repository = cls(connection=conn)\\n        return repository\\n\\n    def create_tables(self):\\n        for name, table in self.tables.items():\\n            table.create_table()\\n\\n\\nclass BaseTable(BaseModel):\\n    repository: BaseRepository\\n\\n    def __init__(self, *args, **kwargs):\\n        super().__init__(*args, **kwargs)\\n        self.repository.tables[self.table_name] = self\\n\\n    @property\\n    def connection(self):\\n        return self.repository.connection\\n\\n    def execute_stmt(self, stmt, ignore_error=False):\\n        cursor = self.connection.cursor()\\n        try:\\n            cursor.execute(stmt)\\n        except sqlite3.OperationalError as exc:\\n            if not ignore_error:\\n                raise (exc)\\n\\n    def create_table(self):\\n        return self.execute_stmt(self.create_statement, ignore_error=True)\";\n",
       "                var nbb_formatted_code = \"# export\\n\\nimport json\\nimport sqlite3\\n\\nfrom pydantic import BaseModel\\n\\n\\ndef dict_factory(cursor, row):\\n    d = {}\\n    for idx, col in enumerate(cursor.description):\\n        d[col[0]] = row[idx]\\n    return d\\n\\n\\nclass SqliteRepository(BaseRepository):\\n    connection: sqlite3.Connection\\n    tables: dict = {}\\n\\n    class Config:\\n        arbitrary_types_allowed = True\\n\\n    @classmethod\\n    def build_repository(cls, database_name):\\n        conn = sqlite3.connect(database_name)\\n        conn.row_factory = dict_factory\\n        repository = cls(connection=conn)\\n        return repository\\n\\n    def create_tables(self):\\n        for name, table in self.tables.items():\\n            table.create_table()\\n\\n\\nclass BaseTable(BaseModel):\\n    repository: BaseRepository\\n\\n    def __init__(self, *args, **kwargs):\\n        super().__init__(*args, **kwargs)\\n        self.repository.tables[self.table_name] = self\\n\\n    @property\\n    def connection(self):\\n        return self.repository.connection\\n\\n    def execute_stmt(self, stmt, ignore_error=False):\\n        cursor = self.connection.cursor()\\n        try:\\n            cursor.execute(stmt)\\n        except sqlite3.OperationalError as exc:\\n            if not ignore_error:\\n                raise (exc)\\n\\n    def create_table(self):\\n        return self.execute_stmt(self.create_statement, ignore_error=True)\";\n",
       "                var nbb_cells = Jupyter.notebook.get_cells();\n",
       "                for (var i = 0; i < nbb_cells.length; ++i) {\n",
       "                    if (nbb_cells[i].input_prompt_number == nbb_cell_id) {\n",
       "                        if (nbb_cells[i].get_text() == nbb_unformatted_code) {\n",
       "                             nbb_cells[i].set_text(nbb_formatted_code);\n",
       "                        }\n",
       "                        break;\n",
       "                    }\n",
       "                }\n",
       "            }, 500);\n",
       "            "
      ],
      "text/plain": [
       "<IPython.core.display.Javascript object>"
      ]
     },
     "metadata": {},
     "output_type": "display_data"
    }
   ],
   "source": [
    "# export\n",
    "\n",
    "import json\n",
    "import sqlite3\n",
    "\n",
    "from pydantic import BaseModel\n",
    "\n",
    "\n",
    "def dict_factory(cursor, row):\n",
    "    d = {}\n",
    "    for idx, col in enumerate(cursor.description):\n",
    "        d[col[0]] = row[idx]\n",
    "    return d\n",
    "\n",
    "\n",
    "class SqliteRepository(BaseRepository):\n",
    "    connection: sqlite3.Connection\n",
    "    tables: dict = {}\n",
    "\n",
    "    class Config:\n",
    "        arbitrary_types_allowed = True\n",
    "\n",
    "    @classmethod\n",
    "    def build_repository(cls, database_name):\n",
    "        conn = sqlite3.connect(database_name)\n",
    "        conn.row_factory = dict_factory\n",
    "        repository = cls(connection=conn)\n",
    "        return repository\n",
    "\n",
    "    def create_tables(self):\n",
    "        for name, table in self.tables.items():\n",
    "            table.create_table()\n",
    "\n",
    "\n",
    "class BaseTable(BaseModel):\n",
    "    repository: BaseRepository\n",
    "\n",
    "    def __init__(self, *args, **kwargs):\n",
    "        super().__init__(*args, **kwargs)\n",
    "        self.repository.tables[self.table_name] = self\n",
    "\n",
    "    @property\n",
    "    def connection(self):\n",
    "        return self.repository.connection\n",
    "\n",
    "    def execute_stmt(self, stmt, ignore_error=False):\n",
    "        cursor = self.connection.cursor()\n",
    "        try:\n",
    "            cursor.execute(stmt)\n",
    "        except sqlite3.OperationalError as exc:\n",
    "            if not ignore_error:\n",
    "                raise (exc)\n",
    "\n",
    "    def create_table(self):\n",
    "        return self.execute_stmt(self.create_statement, ignore_error=True)"
   ]
  },
  {
   "cell_type": "markdown",
   "id": "f345824f",
   "metadata": {},
   "source": [
    "## Host Table"
   ]
  },
  {
   "cell_type": "code",
   "execution_count": null,
   "id": "89953b88",
   "metadata": {},
   "outputs": [
    {
     "data": {
      "application/javascript": [
       "\n",
       "            setTimeout(function() {\n",
       "                var nbb_cell_id = 5;\n",
       "                var nbb_unformatted_code = \"# export\\n\\nfrom will_it_saturate.hosts import HostDetails\\n\\n\\nclass HostTable(BaseTable):\\n    table_name = \\\"host\\\"\\n\\n    create_statement = f\\\"\\\"\\\"\\n        create table {table_name} (\\n            host_id INTEGER PRIMARY KEY,\\n            created DATE DEFAULT (datetime('now','localtime')),\\n            machine_id TEXT NOT NULL UNIQUE,\\n            details TEXT NOT NULL\\n        )\\n    \\\"\\\"\\\"\\n\\n    def get_machine_to_host_id(self, machine_ids):\\n        question_marks = \\\", \\\".join([\\\"?\\\" for _ in machine_ids])\\n        stmt = f\\\"\\\"\\\"\\n            select host_id, machine_id\\n              from {self.table_name}\\n             where machine_id in ({question_marks})\\n        \\\"\\\"\\\"\\n        cursor = self.connection.cursor()\\n        cursor.execute(stmt, machine_ids)\\n        rows = cursor.fetchall()\\n        return {row[\\\"machine_id\\\"]: row[\\\"host_id\\\"] for row in rows}\\n\\n    def insert_host_details(self, host_details):\\n        stmt = f\\\"\\\"\\\"\\n            insert into {self.table_name} (machine_id, details)\\n            values (?, ?)\\n        \\\"\\\"\\\"\\n        cursor = self.connection.cursor()\\n        try:\\n            cursor = cursor.execute(\\n                stmt, [host_details.machine_id, host_details.json()]\\n            )\\n        except sqlite3.IntegrityError as e:\\n            pass\\n        self.connection.commit()\\n        return cursor.rowcount\\n\\n    def get_or_create_hosts_from_result(self, result):\\n        machine_id_to_server_details = {\\n            result.server_details.machine_id: result.server_details,\\n            result.client_details.machine_id: result.client_details,\\n        }\\n        machine_ids = list(machine_id_to_server_details.keys())\\n        machine_to_host_id = self.get_machine_to_host_id(machine_ids)\\n        for machine_id, host_detail in machine_id_to_server_details.items():\\n            if machine_id not in machine_to_host_id:\\n                self.insert_host_details(host_detail)\\n        return self.get_machine_to_host_id(machine_ids)\\n\\n    def get_all_host_id_to_host_details(self):\\n        stmt = f\\\"\\\"\\\"\\n            select *\\n              from {self.table_name}\\n        \\\"\\\"\\\"\\n        cursor = self.connection.cursor()\\n        cursor.execute(stmt)\\n        rows = cursor.fetchall()\\n\\n        # build host_id_to_host_details lookup\\n        host_id_to_host_details = {}\\n        for row in rows:\\n            kwargs = json.loads(row[\\\"details\\\"])\\n            host_id_to_host_details[row[\\\"host_id\\\"]] = HostDetails(**kwargs)\\n        return host_id_to_host_details\\n\\n    def get_host_id_to_host_details(self, host_ids):\\n        host_id_to_host_details = self.get_all_host_id_to_host_details()\\n        return {\\n            host_id: host_id_to_host_details[host_id]\\n            for host_id in host_ids\\n            if host_id in host_id_to_host_details\\n        }\";\n",
       "                var nbb_formatted_code = \"# export\\n\\nfrom will_it_saturate.hosts import HostDetails\\n\\n\\nclass HostTable(BaseTable):\\n    table_name = \\\"host\\\"\\n\\n    create_statement = f\\\"\\\"\\\"\\n        create table {table_name} (\\n            host_id INTEGER PRIMARY KEY,\\n            created DATE DEFAULT (datetime('now','localtime')),\\n            machine_id TEXT NOT NULL UNIQUE,\\n            details TEXT NOT NULL\\n        )\\n    \\\"\\\"\\\"\\n\\n    def get_machine_to_host_id(self, machine_ids):\\n        question_marks = \\\", \\\".join([\\\"?\\\" for _ in machine_ids])\\n        stmt = f\\\"\\\"\\\"\\n            select host_id, machine_id\\n              from {self.table_name}\\n             where machine_id in ({question_marks})\\n        \\\"\\\"\\\"\\n        cursor = self.connection.cursor()\\n        cursor.execute(stmt, machine_ids)\\n        rows = cursor.fetchall()\\n        return {row[\\\"machine_id\\\"]: row[\\\"host_id\\\"] for row in rows}\\n\\n    def insert_host_details(self, host_details):\\n        stmt = f\\\"\\\"\\\"\\n            insert into {self.table_name} (machine_id, details)\\n            values (?, ?)\\n        \\\"\\\"\\\"\\n        cursor = self.connection.cursor()\\n        try:\\n            cursor = cursor.execute(\\n                stmt, [host_details.machine_id, host_details.json()]\\n            )\\n        except sqlite3.IntegrityError as e:\\n            pass\\n        self.connection.commit()\\n        return cursor.rowcount\\n\\n    def get_or_create_hosts_from_result(self, result):\\n        machine_id_to_server_details = {\\n            result.server_details.machine_id: result.server_details,\\n            result.client_details.machine_id: result.client_details,\\n        }\\n        machine_ids = list(machine_id_to_server_details.keys())\\n        machine_to_host_id = self.get_machine_to_host_id(machine_ids)\\n        for machine_id, host_detail in machine_id_to_server_details.items():\\n            if machine_id not in machine_to_host_id:\\n                self.insert_host_details(host_detail)\\n        return self.get_machine_to_host_id(machine_ids)\\n\\n    def get_all_host_id_to_host_details(self):\\n        stmt = f\\\"\\\"\\\"\\n            select *\\n              from {self.table_name}\\n        \\\"\\\"\\\"\\n        cursor = self.connection.cursor()\\n        cursor.execute(stmt)\\n        rows = cursor.fetchall()\\n\\n        # build host_id_to_host_details lookup\\n        host_id_to_host_details = {}\\n        for row in rows:\\n            kwargs = json.loads(row[\\\"details\\\"])\\n            host_id_to_host_details[row[\\\"host_id\\\"]] = HostDetails(**kwargs)\\n        return host_id_to_host_details\\n\\n    def get_host_id_to_host_details(self, host_ids):\\n        host_id_to_host_details = self.get_all_host_id_to_host_details()\\n        return {\\n            host_id: host_id_to_host_details[host_id]\\n            for host_id in host_ids\\n            if host_id in host_id_to_host_details\\n        }\";\n",
       "                var nbb_cells = Jupyter.notebook.get_cells();\n",
       "                for (var i = 0; i < nbb_cells.length; ++i) {\n",
       "                    if (nbb_cells[i].input_prompt_number == nbb_cell_id) {\n",
       "                        if (nbb_cells[i].get_text() == nbb_unformatted_code) {\n",
       "                             nbb_cells[i].set_text(nbb_formatted_code);\n",
       "                        }\n",
       "                        break;\n",
       "                    }\n",
       "                }\n",
       "            }, 500);\n",
       "            "
      ],
      "text/plain": [
       "<IPython.core.display.Javascript object>"
      ]
     },
     "metadata": {},
     "output_type": "display_data"
    }
   ],
   "source": [
    "# export\n",
    "\n",
    "from will_it_saturate.hosts import HostDetails\n",
    "\n",
    "\n",
    "class HostTable(BaseTable):\n",
    "    table_name = \"host\"\n",
    "\n",
    "    create_statement = f\"\"\"\n",
    "        create table {table_name} (\n",
    "            host_id INTEGER PRIMARY KEY,\n",
    "            created DATE DEFAULT (datetime('now','localtime')),\n",
    "            machine_id TEXT NOT NULL UNIQUE,\n",
    "            details TEXT NOT NULL\n",
    "        )\n",
    "    \"\"\"\n",
    "\n",
    "    def get_machine_to_host_id(self, machine_ids):\n",
    "        question_marks = \", \".join([\"?\" for _ in machine_ids])\n",
    "        stmt = f\"\"\"\n",
    "            select host_id, machine_id\n",
    "              from {self.table_name}\n",
    "             where machine_id in ({question_marks})\n",
    "        \"\"\"\n",
    "        cursor = self.connection.cursor()\n",
    "        cursor.execute(stmt, machine_ids)\n",
    "        rows = cursor.fetchall()\n",
    "        return {row[\"machine_id\"]: row[\"host_id\"] for row in rows}\n",
    "\n",
    "    def insert_host_details(self, host_details):\n",
    "        stmt = f\"\"\"\n",
    "            insert into {self.table_name} (machine_id, details)\n",
    "            values (?, ?)\n",
    "        \"\"\"\n",
    "        cursor = self.connection.cursor()\n",
    "        try:\n",
    "            cursor = cursor.execute(\n",
    "                stmt, [host_details.machine_id, host_details.json()]\n",
    "            )\n",
    "        except sqlite3.IntegrityError as e:\n",
    "            pass\n",
    "        self.connection.commit()\n",
    "        return cursor.rowcount\n",
    "\n",
    "    def get_or_create_hosts_from_result(self, result):\n",
    "        machine_id_to_server_details = {\n",
    "            result.server_details.machine_id: result.server_details,\n",
    "            result.client_details.machine_id: result.client_details,\n",
    "        }\n",
    "        machine_ids = list(machine_id_to_server_details.keys())\n",
    "        machine_to_host_id = self.get_machine_to_host_id(machine_ids)\n",
    "        for machine_id, host_detail in machine_id_to_server_details.items():\n",
    "            if machine_id not in machine_to_host_id:\n",
    "                self.insert_host_details(host_detail)\n",
    "        return self.get_machine_to_host_id(machine_ids)\n",
    "\n",
    "    def get_all_host_id_to_host_details(self):\n",
    "        stmt = f\"\"\"\n",
    "            select *\n",
    "              from {self.table_name}\n",
    "        \"\"\"\n",
    "        cursor = self.connection.cursor()\n",
    "        cursor.execute(stmt)\n",
    "        rows = cursor.fetchall()\n",
    "\n",
    "        # build host_id_to_host_details lookup\n",
    "        host_id_to_host_details = {}\n",
    "        for row in rows:\n",
    "            kwargs = json.loads(row[\"details\"])\n",
    "            host_id_to_host_details[row[\"host_id\"]] = HostDetails(**kwargs)\n",
    "        return host_id_to_host_details\n",
    "\n",
    "    def get_host_id_to_host_details(self, host_ids):\n",
    "        host_id_to_host_details = self.get_all_host_id_to_host_details()\n",
    "        return {\n",
    "            host_id: host_id_to_host_details[host_id]\n",
    "            for host_id in host_ids\n",
    "            if host_id in host_id_to_host_details\n",
    "        }"
   ]
  },
  {
   "cell_type": "markdown",
   "id": "0b8e9b65",
   "metadata": {},
   "source": [
    "## Tests HostTable"
   ]
  },
  {
   "cell_type": "code",
   "execution_count": null,
   "id": "b4b67d4d",
   "metadata": {},
   "outputs": [
    {
     "data": {
      "application/javascript": [
       "\n",
       "            setTimeout(function() {\n",
       "                var nbb_cell_id = 6;\n",
       "                var nbb_unformatted_code = \"repository = SqliteRepository.build_repository(\\\":memory:\\\")\\nhost_table = HostTable(repository=repository)\\n_ = host_table.create_table()\";\n",
       "                var nbb_formatted_code = \"repository = SqliteRepository.build_repository(\\\":memory:\\\")\\nhost_table = HostTable(repository=repository)\\n_ = host_table.create_table()\";\n",
       "                var nbb_cells = Jupyter.notebook.get_cells();\n",
       "                for (var i = 0; i < nbb_cells.length; ++i) {\n",
       "                    if (nbb_cells[i].input_prompt_number == nbb_cell_id) {\n",
       "                        if (nbb_cells[i].get_text() == nbb_unformatted_code) {\n",
       "                             nbb_cells[i].set_text(nbb_formatted_code);\n",
       "                        }\n",
       "                        break;\n",
       "                    }\n",
       "                }\n",
       "            }, 500);\n",
       "            "
      ],
      "text/plain": [
       "<IPython.core.display.Javascript object>"
      ]
     },
     "metadata": {},
     "output_type": "display_data"
    }
   ],
   "source": [
    "repository = SqliteRepository.build_repository(\":memory:\")\n",
    "host_table = HostTable(repository=repository)\n",
    "_ = host_table.create_table()"
   ]
  },
  {
   "cell_type": "markdown",
   "id": "b2a52fea",
   "metadata": {},
   "source": [
    "### Get Machine to Host Lookup"
   ]
  },
  {
   "cell_type": "code",
   "execution_count": null,
   "id": "dab544cb",
   "metadata": {},
   "outputs": [
    {
     "data": {
      "application/javascript": [
       "\n",
       "            setTimeout(function() {\n",
       "                var nbb_cell_id = 7;\n",
       "                var nbb_unformatted_code = \"machine_to_host_id = host_table.get_machine_to_host_id([\\\"asdf\\\"])\\nassert len(machine_to_host_id) == 0\";\n",
       "                var nbb_formatted_code = \"machine_to_host_id = host_table.get_machine_to_host_id([\\\"asdf\\\"])\\nassert len(machine_to_host_id) == 0\";\n",
       "                var nbb_cells = Jupyter.notebook.get_cells();\n",
       "                for (var i = 0; i < nbb_cells.length; ++i) {\n",
       "                    if (nbb_cells[i].input_prompt_number == nbb_cell_id) {\n",
       "                        if (nbb_cells[i].get_text() == nbb_unformatted_code) {\n",
       "                             nbb_cells[i].set_text(nbb_formatted_code);\n",
       "                        }\n",
       "                        break;\n",
       "                    }\n",
       "                }\n",
       "            }, 500);\n",
       "            "
      ],
      "text/plain": [
       "<IPython.core.display.Javascript object>"
      ]
     },
     "metadata": {},
     "output_type": "display_data"
    }
   ],
   "source": [
    "machine_to_host_id = host_table.get_machine_to_host_id([\"asdf\"])\n",
    "assert len(machine_to_host_id) == 0"
   ]
  },
  {
   "cell_type": "markdown",
   "id": "14f3947c",
   "metadata": {},
   "source": [
    "### Insert HostDetails"
   ]
  },
  {
   "cell_type": "code",
   "execution_count": null,
   "id": "fbcc6014",
   "metadata": {},
   "outputs": [
    {
     "data": {
      "application/javascript": [
       "\n",
       "            setTimeout(function() {\n",
       "                var nbb_cell_id = 8;\n",
       "                var nbb_unformatted_code = \"machine_id1, cpu_info = \\\"asdf\\\", {\\\"arch\\\": \\\"X86_64\\\"}\\nhost_details = HostDetails(machine_id=machine_id1, cpu_info=cpu_info)\\n\\nrowcount = host_table.insert_host_details(host_details)\\nassert rowcount == 1\\n\\nmachine_to_host_id = host_table.get_machine_to_host_id([machine_id1])\\nassert machine_to_host_id == {machine_id1: 1}\";\n",
       "                var nbb_formatted_code = \"machine_id1, cpu_info = \\\"asdf\\\", {\\\"arch\\\": \\\"X86_64\\\"}\\nhost_details = HostDetails(machine_id=machine_id1, cpu_info=cpu_info)\\n\\nrowcount = host_table.insert_host_details(host_details)\\nassert rowcount == 1\\n\\nmachine_to_host_id = host_table.get_machine_to_host_id([machine_id1])\\nassert machine_to_host_id == {machine_id1: 1}\";\n",
       "                var nbb_cells = Jupyter.notebook.get_cells();\n",
       "                for (var i = 0; i < nbb_cells.length; ++i) {\n",
       "                    if (nbb_cells[i].input_prompt_number == nbb_cell_id) {\n",
       "                        if (nbb_cells[i].get_text() == nbb_unformatted_code) {\n",
       "                             nbb_cells[i].set_text(nbb_formatted_code);\n",
       "                        }\n",
       "                        break;\n",
       "                    }\n",
       "                }\n",
       "            }, 500);\n",
       "            "
      ],
      "text/plain": [
       "<IPython.core.display.Javascript object>"
      ]
     },
     "metadata": {},
     "output_type": "display_data"
    }
   ],
   "source": [
    "machine_id1, cpu_info = \"asdf\", {\"arch\": \"X86_64\"}\n",
    "host_details = HostDetails(machine_id=machine_id1, cpu_info=cpu_info)\n",
    "\n",
    "rowcount = host_table.insert_host_details(host_details)\n",
    "assert rowcount == 1\n",
    "\n",
    "machine_to_host_id = host_table.get_machine_to_host_id([machine_id1])\n",
    "assert machine_to_host_id == {machine_id1: 1}"
   ]
  },
  {
   "cell_type": "markdown",
   "id": "7d521cd1",
   "metadata": {},
   "source": [
    "### Insert two HostDetails with one Already Existing"
   ]
  },
  {
   "cell_type": "code",
   "execution_count": null,
   "id": "390158ae",
   "metadata": {},
   "outputs": [
    {
     "data": {
      "application/javascript": [
       "\n",
       "            setTimeout(function() {\n",
       "                var nbb_cell_id = 9;\n",
       "                var nbb_unformatted_code = \"machine_id2 = \\\"bsdf\\\"\\nhost_detail = HostDetails(machine_id=machine_id2, cpu_info=cpu_info)\\n\\nrowcount = host_table.insert_host_details(host_detail)\\nassert rowcount == 1\\n\\nmachine_to_host_id = host_table.get_machine_to_host_id(\\n    [machine_id1, machine_id2, \\\"csdf\\\"]\\n)\\nassert machine_to_host_id == {machine_id1: 1, machine_id2: 2}\";\n",
       "                var nbb_formatted_code = \"machine_id2 = \\\"bsdf\\\"\\nhost_detail = HostDetails(machine_id=machine_id2, cpu_info=cpu_info)\\n\\nrowcount = host_table.insert_host_details(host_detail)\\nassert rowcount == 1\\n\\nmachine_to_host_id = host_table.get_machine_to_host_id(\\n    [machine_id1, machine_id2, \\\"csdf\\\"]\\n)\\nassert machine_to_host_id == {machine_id1: 1, machine_id2: 2}\";\n",
       "                var nbb_cells = Jupyter.notebook.get_cells();\n",
       "                for (var i = 0; i < nbb_cells.length; ++i) {\n",
       "                    if (nbb_cells[i].input_prompt_number == nbb_cell_id) {\n",
       "                        if (nbb_cells[i].get_text() == nbb_unformatted_code) {\n",
       "                             nbb_cells[i].set_text(nbb_formatted_code);\n",
       "                        }\n",
       "                        break;\n",
       "                    }\n",
       "                }\n",
       "            }, 500);\n",
       "            "
      ],
      "text/plain": [
       "<IPython.core.display.Javascript object>"
      ]
     },
     "metadata": {},
     "output_type": "display_data"
    }
   ],
   "source": [
    "machine_id2 = \"bsdf\"\n",
    "host_detail = HostDetails(machine_id=machine_id2, cpu_info=cpu_info)\n",
    "\n",
    "rowcount = host_table.insert_host_details(host_detail)\n",
    "assert rowcount == 1\n",
    "\n",
    "machine_to_host_id = host_table.get_machine_to_host_id(\n",
    "    [machine_id1, machine_id2, \"csdf\"]\n",
    ")\n",
    "assert machine_to_host_id == {machine_id1: 1, machine_id2: 2}"
   ]
  },
  {
   "cell_type": "markdown",
   "id": "da5b5034",
   "metadata": {},
   "source": [
    "### Add all Hosts Needed for Result (get_or_create_hosts_from_result)"
   ]
  },
  {
   "cell_type": "code",
   "execution_count": null,
   "id": "910d6bd2",
   "metadata": {},
   "outputs": [
    {
     "data": {
      "application/javascript": [
       "\n",
       "            setTimeout(function() {\n",
       "                var nbb_cell_id = 10;\n",
       "                var nbb_unformatted_code = \"from will_it_saturate.results import Result\\n\\ndummy_result_data = {\\n    \\\"server\\\": {\\\"name\\\": \\\"server\\\"},\\n    \\\"client\\\": {\\\"name\\\": \\\"client\\\"},\\n    \\\"file_size\\\": 10,\\n    \\\"complete_size\\\": 100,\\n}\\n\\nkwargs = {\\n    **dummy_result_data,\\n    \\\"server_details\\\": HostDetails(machine_id=\\\"dsdf\\\", cpu_info={}),\\n    \\\"client_details\\\": HostDetails(machine_id=\\\"esdf\\\", cpu_info={}),\\n}\\nresult = Result(**kwargs)\\nmachine_to_host_id = host_table.get_or_create_hosts_from_result(result)\\nassert machine_to_host_id == {\\n    result.server_details.machine_id: 3,\\n    result.client_details.machine_id: 4,\\n}\";\n",
       "                var nbb_formatted_code = \"from will_it_saturate.results import Result\\n\\ndummy_result_data = {\\n    \\\"server\\\": {\\\"name\\\": \\\"server\\\"},\\n    \\\"client\\\": {\\\"name\\\": \\\"client\\\"},\\n    \\\"file_size\\\": 10,\\n    \\\"complete_size\\\": 100,\\n}\\n\\nkwargs = {\\n    **dummy_result_data,\\n    \\\"server_details\\\": HostDetails(machine_id=\\\"dsdf\\\", cpu_info={}),\\n    \\\"client_details\\\": HostDetails(machine_id=\\\"esdf\\\", cpu_info={}),\\n}\\nresult = Result(**kwargs)\\nmachine_to_host_id = host_table.get_or_create_hosts_from_result(result)\\nassert machine_to_host_id == {\\n    result.server_details.machine_id: 3,\\n    result.client_details.machine_id: 4,\\n}\";\n",
       "                var nbb_cells = Jupyter.notebook.get_cells();\n",
       "                for (var i = 0; i < nbb_cells.length; ++i) {\n",
       "                    if (nbb_cells[i].input_prompt_number == nbb_cell_id) {\n",
       "                        if (nbb_cells[i].get_text() == nbb_unformatted_code) {\n",
       "                             nbb_cells[i].set_text(nbb_formatted_code);\n",
       "                        }\n",
       "                        break;\n",
       "                    }\n",
       "                }\n",
       "            }, 500);\n",
       "            "
      ],
      "text/plain": [
       "<IPython.core.display.Javascript object>"
      ]
     },
     "metadata": {},
     "output_type": "display_data"
    }
   ],
   "source": [
    "from will_it_saturate.results import Result\n",
    "\n",
    "dummy_result_data = {\n",
    "    \"server\": {\"name\": \"server\"},\n",
    "    \"client\": {\"name\": \"client\"},\n",
    "    \"file_size\": 10,\n",
    "    \"complete_size\": 100,\n",
    "}\n",
    "\n",
    "kwargs = {\n",
    "    **dummy_result_data,\n",
    "    \"server_details\": HostDetails(machine_id=\"dsdf\", cpu_info={}),\n",
    "    \"client_details\": HostDetails(machine_id=\"esdf\", cpu_info={}),\n",
    "}\n",
    "result = Result(**kwargs)\n",
    "machine_to_host_id = host_table.get_or_create_hosts_from_result(result)\n",
    "assert machine_to_host_id == {\n",
    "    result.server_details.machine_id: 3,\n",
    "    result.client_details.machine_id: 4,\n",
    "}"
   ]
  },
  {
   "cell_type": "markdown",
   "id": "32f6d55b",
   "metadata": {},
   "source": [
    "### Fetch HostDetails by host_id"
   ]
  },
  {
   "cell_type": "code",
   "execution_count": null,
   "id": "71605d2a",
   "metadata": {},
   "outputs": [
    {
     "data": {
      "application/javascript": [
       "\n",
       "            setTimeout(function() {\n",
       "                var nbb_cell_id = 11;\n",
       "                var nbb_unformatted_code = \"assert (\\n    {}\\n    == host_table.get_host_id_to_host_details([])\\n    == host_table.get_host_id_to_host_details([1337])\\n)\";\n",
       "                var nbb_formatted_code = \"assert (\\n    {}\\n    == host_table.get_host_id_to_host_details([])\\n    == host_table.get_host_id_to_host_details([1337])\\n)\";\n",
       "                var nbb_cells = Jupyter.notebook.get_cells();\n",
       "                for (var i = 0; i < nbb_cells.length; ++i) {\n",
       "                    if (nbb_cells[i].input_prompt_number == nbb_cell_id) {\n",
       "                        if (nbb_cells[i].get_text() == nbb_unformatted_code) {\n",
       "                             nbb_cells[i].set_text(nbb_formatted_code);\n",
       "                        }\n",
       "                        break;\n",
       "                    }\n",
       "                }\n",
       "            }, 500);\n",
       "            "
      ],
      "text/plain": [
       "<IPython.core.display.Javascript object>"
      ]
     },
     "metadata": {},
     "output_type": "display_data"
    }
   ],
   "source": [
    "assert (\n",
    "    {}\n",
    "    == host_table.get_host_id_to_host_details([])\n",
    "    == host_table.get_host_id_to_host_details([1337])\n",
    ")"
   ]
  },
  {
   "cell_type": "code",
   "execution_count": null,
   "id": "e8e7497f",
   "metadata": {},
   "outputs": [
    {
     "data": {
      "application/javascript": [
       "\n",
       "            setTimeout(function() {\n",
       "                var nbb_cell_id = 12;\n",
       "                var nbb_unformatted_code = \"existing_host_ids = list(machine_to_host_id.values())\\nhost_id_to_host_details = host_table.get_host_id_to_host_details(existing_host_ids)\\nfor machine_id, host_id in machine_to_host_id.items():\\n    assert machine_id == host_id_to_host_details[host_id].machine_id\";\n",
       "                var nbb_formatted_code = \"existing_host_ids = list(machine_to_host_id.values())\\nhost_id_to_host_details = host_table.get_host_id_to_host_details(existing_host_ids)\\nfor machine_id, host_id in machine_to_host_id.items():\\n    assert machine_id == host_id_to_host_details[host_id].machine_id\";\n",
       "                var nbb_cells = Jupyter.notebook.get_cells();\n",
       "                for (var i = 0; i < nbb_cells.length; ++i) {\n",
       "                    if (nbb_cells[i].input_prompt_number == nbb_cell_id) {\n",
       "                        if (nbb_cells[i].get_text() == nbb_unformatted_code) {\n",
       "                             nbb_cells[i].set_text(nbb_formatted_code);\n",
       "                        }\n",
       "                        break;\n",
       "                    }\n",
       "                }\n",
       "            }, 500);\n",
       "            "
      ],
      "text/plain": [
       "<IPython.core.display.Javascript object>"
      ]
     },
     "metadata": {},
     "output_type": "display_data"
    }
   ],
   "source": [
    "existing_host_ids = list(machine_to_host_id.values())\n",
    "host_id_to_host_details = host_table.get_host_id_to_host_details(existing_host_ids)\n",
    "for machine_id, host_id in machine_to_host_id.items():\n",
    "    assert machine_id == host_id_to_host_details[host_id].machine_id"
   ]
  },
  {
   "cell_type": "code",
   "execution_count": null,
   "id": "1c729740",
   "metadata": {},
   "outputs": [
    {
     "data": {
      "application/javascript": [
       "\n",
       "            setTimeout(function() {\n",
       "                var nbb_cell_id = 13;\n",
       "                var nbb_unformatted_code = \"# export\\n\\nfrom will_it_saturate.registry import ModelParameters\\n\\n\\nclass ClientServerBase(BaseTable):\\n    @property\\n    def create_statement(self):\\n        return f\\\"\\\"\\\"\\n            create table {self.table_name} (\\n                {self.table_name}_id INTEGER PRIMARY KEY,\\n                created DATE DEFAULT (datetime('now','localtime')),\\n                parameters TEXT NOT NULL UNIQUE\\n            )\\n        \\\"\\\"\\\"\\n\\n    @property\\n    def pk_name(self):\\n        return f\\\"{self.table_name}_id\\\"\\n\\n    def fetch_all_rows(self):\\n        stmt = f\\\"\\\"\\\"\\n            select {self.pk_name}, parameters\\n              from {self.table_name}\\n        \\\"\\\"\\\"\\n        cursor = self.connection.cursor()\\n        cursor.execute(stmt)\\n        return cursor.fetchall()\\n\\n    def get_id_to_model(self):\\n        id_to_model = {}\\n        for row in self.fetch_all_rows():\\n            model_parameters = ModelParameters(**json.loads(row[\\\"parameters\\\"]))\\n            id_to_model[row[self.pk_name]] = model_parameters.to_model()\\n        return id_to_model\\n\\n    def get_model_to_id(self):\\n        model_to_id = {}\\n        for row in self.fetch_all_rows():\\n            model_to_id[row[\\\"parameters\\\"]] = row[self.pk_name]\\n        return model_to_id\\n\\n    def insert_model(self, model):\\n        stmt = f\\\"\\\"\\\"\\n            insert into {self.table_name} (parameters)\\n            values (?)\\n        \\\"\\\"\\\"\\n        cursor = self.connection.cursor()\\n        parameters = json.dumps(model.params())\\n        try:\\n            cursor = cursor.execute(stmt, [parameters])\\n        except sqlite3.IntegrityError as e:\\n            pass\\n        self.connection.commit()\\n        return cursor.lastrowid\\n\\n    def get_or_create_id(self, model):\\n        model_to_id = self.get_model_to_id()\\n        parameters_json = json.dumps(model.params())\\n\\n        # insert model to database if it does not yet exist\\n        if parameters_json not in model_to_id:\\n            model_to_id[parameters_json] = self.insert_model(model)\\n\\n        return model_to_id[parameters_json]\\n\\n\\nclass ServerTable(ClientServerBase):\\n    table_name = \\\"server\\\"\\n\\n\\nclass ClientTable(ClientServerBase):\\n    table_name = \\\"client\\\"\";\n",
       "                var nbb_formatted_code = \"# export\\n\\nfrom will_it_saturate.registry import ModelParameters\\n\\n\\nclass ClientServerBase(BaseTable):\\n    @property\\n    def create_statement(self):\\n        return f\\\"\\\"\\\"\\n            create table {self.table_name} (\\n                {self.table_name}_id INTEGER PRIMARY KEY,\\n                created DATE DEFAULT (datetime('now','localtime')),\\n                parameters TEXT NOT NULL UNIQUE\\n            )\\n        \\\"\\\"\\\"\\n\\n    @property\\n    def pk_name(self):\\n        return f\\\"{self.table_name}_id\\\"\\n\\n    def fetch_all_rows(self):\\n        stmt = f\\\"\\\"\\\"\\n            select {self.pk_name}, parameters\\n              from {self.table_name}\\n        \\\"\\\"\\\"\\n        cursor = self.connection.cursor()\\n        cursor.execute(stmt)\\n        return cursor.fetchall()\\n\\n    def get_id_to_model(self):\\n        id_to_model = {}\\n        for row in self.fetch_all_rows():\\n            model_parameters = ModelParameters(**json.loads(row[\\\"parameters\\\"]))\\n            id_to_model[row[self.pk_name]] = model_parameters.to_model()\\n        return id_to_model\\n\\n    def get_model_to_id(self):\\n        model_to_id = {}\\n        for row in self.fetch_all_rows():\\n            model_to_id[row[\\\"parameters\\\"]] = row[self.pk_name]\\n        return model_to_id\\n\\n    def insert_model(self, model):\\n        stmt = f\\\"\\\"\\\"\\n            insert into {self.table_name} (parameters)\\n            values (?)\\n        \\\"\\\"\\\"\\n        cursor = self.connection.cursor()\\n        parameters = json.dumps(model.params())\\n        try:\\n            cursor = cursor.execute(stmt, [parameters])\\n        except sqlite3.IntegrityError as e:\\n            pass\\n        self.connection.commit()\\n        return cursor.lastrowid\\n\\n    def get_or_create_id(self, model):\\n        model_to_id = self.get_model_to_id()\\n        parameters_json = json.dumps(model.params())\\n\\n        # insert model to database if it does not yet exist\\n        if parameters_json not in model_to_id:\\n            model_to_id[parameters_json] = self.insert_model(model)\\n\\n        return model_to_id[parameters_json]\\n\\n\\nclass ServerTable(ClientServerBase):\\n    table_name = \\\"server\\\"\\n\\n\\nclass ClientTable(ClientServerBase):\\n    table_name = \\\"client\\\"\";\n",
       "                var nbb_cells = Jupyter.notebook.get_cells();\n",
       "                for (var i = 0; i < nbb_cells.length; ++i) {\n",
       "                    if (nbb_cells[i].input_prompt_number == nbb_cell_id) {\n",
       "                        if (nbb_cells[i].get_text() == nbb_unformatted_code) {\n",
       "                             nbb_cells[i].set_text(nbb_formatted_code);\n",
       "                        }\n",
       "                        break;\n",
       "                    }\n",
       "                }\n",
       "            }, 500);\n",
       "            "
      ],
      "text/plain": [
       "<IPython.core.display.Javascript object>"
      ]
     },
     "metadata": {},
     "output_type": "display_data"
    }
   ],
   "source": [
    "# export\n",
    "\n",
    "from will_it_saturate.registry import ModelParameters\n",
    "\n",
    "\n",
    "class ClientServerBase(BaseTable):\n",
    "    @property\n",
    "    def create_statement(self):\n",
    "        return f\"\"\"\n",
    "            create table {self.table_name} (\n",
    "                {self.table_name}_id INTEGER PRIMARY KEY,\n",
    "                created DATE DEFAULT (datetime('now','localtime')),\n",
    "                parameters TEXT NOT NULL UNIQUE\n",
    "            )\n",
    "        \"\"\"\n",
    "\n",
    "    @property\n",
    "    def pk_name(self):\n",
    "        return f\"{self.table_name}_id\"\n",
    "\n",
    "    def fetch_all_rows(self):\n",
    "        stmt = f\"\"\"\n",
    "            select {self.pk_name}, parameters\n",
    "              from {self.table_name}\n",
    "        \"\"\"\n",
    "        cursor = self.connection.cursor()\n",
    "        cursor.execute(stmt)\n",
    "        return cursor.fetchall()\n",
    "\n",
    "    def get_id_to_model(self):\n",
    "        id_to_model = {}\n",
    "        for row in self.fetch_all_rows():\n",
    "            model_parameters = ModelParameters(**json.loads(row[\"parameters\"]))\n",
    "            id_to_model[row[self.pk_name]] = model_parameters.to_model()\n",
    "        return id_to_model\n",
    "\n",
    "    def get_model_to_id(self):\n",
    "        model_to_id = {}\n",
    "        for row in self.fetch_all_rows():\n",
    "            model_to_id[row[\"parameters\"]] = row[self.pk_name]\n",
    "        return model_to_id\n",
    "\n",
    "    def insert_model(self, model):\n",
    "        stmt = f\"\"\"\n",
    "            insert into {self.table_name} (parameters)\n",
    "            values (?)\n",
    "        \"\"\"\n",
    "        cursor = self.connection.cursor()\n",
    "        parameters = json.dumps(model.params())\n",
    "        try:\n",
    "            cursor = cursor.execute(stmt, [parameters])\n",
    "        except sqlite3.IntegrityError as e:\n",
    "            pass\n",
    "        self.connection.commit()\n",
    "        return cursor.lastrowid\n",
    "\n",
    "    def get_or_create_id(self, model):\n",
    "        model_to_id = self.get_model_to_id()\n",
    "        parameters_json = json.dumps(model.params())\n",
    "\n",
    "        # insert model to database if it does not yet exist\n",
    "        if parameters_json not in model_to_id:\n",
    "            model_to_id[parameters_json] = self.insert_model(model)\n",
    "\n",
    "        return model_to_id[parameters_json]\n",
    "\n",
    "\n",
    "class ServerTable(ClientServerBase):\n",
    "    table_name = \"server\"\n",
    "\n",
    "\n",
    "class ClientTable(ClientServerBase):\n",
    "    table_name = \"client\""
   ]
  },
  {
   "cell_type": "markdown",
   "id": "c1e96392",
   "metadata": {},
   "source": [
    "## Tests ServerTable"
   ]
  },
  {
   "cell_type": "code",
   "execution_count": null,
   "id": "89bd0edc",
   "metadata": {},
   "outputs": [
    {
     "data": {
      "application/javascript": [
       "\n",
       "            setTimeout(function() {\n",
       "                var nbb_cell_id = 14;\n",
       "                var nbb_unformatted_code = \"repository = SqliteRepository.build_repository(\\\":memory:\\\")\\nserver_table = ServerTable(repository=repository)\\n_ = server_table.create_table()\";\n",
       "                var nbb_formatted_code = \"repository = SqliteRepository.build_repository(\\\":memory:\\\")\\nserver_table = ServerTable(repository=repository)\\n_ = server_table.create_table()\";\n",
       "                var nbb_cells = Jupyter.notebook.get_cells();\n",
       "                for (var i = 0; i < nbb_cells.length; ++i) {\n",
       "                    if (nbb_cells[i].input_prompt_number == nbb_cell_id) {\n",
       "                        if (nbb_cells[i].get_text() == nbb_unformatted_code) {\n",
       "                             nbb_cells[i].set_text(nbb_formatted_code);\n",
       "                        }\n",
       "                        break;\n",
       "                    }\n",
       "                }\n",
       "            }, 500);\n",
       "            "
      ],
      "text/plain": [
       "<IPython.core.display.Javascript object>"
      ]
     },
     "metadata": {},
     "output_type": "display_data"
    }
   ],
   "source": [
    "repository = SqliteRepository.build_repository(\":memory:\")\n",
    "server_table = ServerTable(repository=repository)\n",
    "_ = server_table.create_table()"
   ]
  },
  {
   "cell_type": "markdown",
   "id": "9a501a22",
   "metadata": {},
   "source": [
    "### Get id to Object Lookup"
   ]
  },
  {
   "cell_type": "code",
   "execution_count": null,
   "id": "fcda6067",
   "metadata": {},
   "outputs": [
    {
     "data": {
      "application/javascript": [
       "\n",
       "            setTimeout(function() {\n",
       "                var nbb_cell_id = 15;\n",
       "                var nbb_unformatted_code = \"id_to_model = server_table.get_id_to_model()\\nassert len(id_to_model) == 0\";\n",
       "                var nbb_formatted_code = \"id_to_model = server_table.get_id_to_model()\\nassert len(id_to_model) == 0\";\n",
       "                var nbb_cells = Jupyter.notebook.get_cells();\n",
       "                for (var i = 0; i < nbb_cells.length; ++i) {\n",
       "                    if (nbb_cells[i].input_prompt_number == nbb_cell_id) {\n",
       "                        if (nbb_cells[i].get_text() == nbb_unformatted_code) {\n",
       "                             nbb_cells[i].set_text(nbb_formatted_code);\n",
       "                        }\n",
       "                        break;\n",
       "                    }\n",
       "                }\n",
       "            }, 500);\n",
       "            "
      ],
      "text/plain": [
       "<IPython.core.display.Javascript object>"
      ]
     },
     "metadata": {},
     "output_type": "display_data"
    }
   ],
   "source": [
    "id_to_model = server_table.get_id_to_model()\n",
    "assert len(id_to_model) == 0"
   ]
  },
  {
   "cell_type": "markdown",
   "id": "5e1d7111",
   "metadata": {},
   "source": [
    "### Insert ServerDetail"
   ]
  },
  {
   "cell_type": "code",
   "execution_count": null,
   "id": "95fc1261",
   "metadata": {},
   "outputs": [
    {
     "data": {
      "application/javascript": [
       "\n",
       "            setTimeout(function() {\n",
       "                var nbb_cell_id = 16;\n",
       "                var nbb_unformatted_code = \"from will_it_saturate.servers import BaseServer\\n\\nserver = BaseServer()\\nlast_rowid = server_table.insert_model(server)\\nassert last_rowid == 1\";\n",
       "                var nbb_formatted_code = \"from will_it_saturate.servers import BaseServer\\n\\nserver = BaseServer()\\nlast_rowid = server_table.insert_model(server)\\nassert last_rowid == 1\";\n",
       "                var nbb_cells = Jupyter.notebook.get_cells();\n",
       "                for (var i = 0; i < nbb_cells.length; ++i) {\n",
       "                    if (nbb_cells[i].input_prompt_number == nbb_cell_id) {\n",
       "                        if (nbb_cells[i].get_text() == nbb_unformatted_code) {\n",
       "                             nbb_cells[i].set_text(nbb_formatted_code);\n",
       "                        }\n",
       "                        break;\n",
       "                    }\n",
       "                }\n",
       "            }, 500);\n",
       "            "
      ],
      "text/plain": [
       "<IPython.core.display.Javascript object>"
      ]
     },
     "metadata": {},
     "output_type": "display_data"
    }
   ],
   "source": [
    "from will_it_saturate.servers import BaseServer\n",
    "\n",
    "server = BaseServer()\n",
    "last_rowid = server_table.insert_model(server)\n",
    "assert last_rowid == 1"
   ]
  },
  {
   "cell_type": "code",
   "execution_count": null,
   "id": "50796079",
   "metadata": {},
   "outputs": [
    {
     "data": {
      "application/javascript": [
       "\n",
       "            setTimeout(function() {\n",
       "                var nbb_cell_id = 17;\n",
       "                var nbb_unformatted_code = \"id_to_model = server_table.get_id_to_model()\\nassert id_to_model == {1: server}\";\n",
       "                var nbb_formatted_code = \"id_to_model = server_table.get_id_to_model()\\nassert id_to_model == {1: server}\";\n",
       "                var nbb_cells = Jupyter.notebook.get_cells();\n",
       "                for (var i = 0; i < nbb_cells.length; ++i) {\n",
       "                    if (nbb_cells[i].input_prompt_number == nbb_cell_id) {\n",
       "                        if (nbb_cells[i].get_text() == nbb_unformatted_code) {\n",
       "                             nbb_cells[i].set_text(nbb_formatted_code);\n",
       "                        }\n",
       "                        break;\n",
       "                    }\n",
       "                }\n",
       "            }, 500);\n",
       "            "
      ],
      "text/plain": [
       "<IPython.core.display.Javascript object>"
      ]
     },
     "metadata": {},
     "output_type": "display_data"
    }
   ],
   "source": [
    "id_to_model = server_table.get_id_to_model()\n",
    "assert id_to_model == {1: server}"
   ]
  },
  {
   "cell_type": "markdown",
   "id": "b9eb01e6",
   "metadata": {},
   "source": [
    "### Get or Create"
   ]
  },
  {
   "cell_type": "code",
   "execution_count": null,
   "id": "b1364b90",
   "metadata": {},
   "outputs": [
    {
     "data": {
      "application/javascript": [
       "\n",
       "            setTimeout(function() {\n",
       "                var nbb_cell_id = 18;\n",
       "                var nbb_unformatted_code = \"server_id, server = list(id_to_model.items())[0]\\nassert server_id == server_table.get_or_create_id(server)\";\n",
       "                var nbb_formatted_code = \"server_id, server = list(id_to_model.items())[0]\\nassert server_id == server_table.get_or_create_id(server)\";\n",
       "                var nbb_cells = Jupyter.notebook.get_cells();\n",
       "                for (var i = 0; i < nbb_cells.length; ++i) {\n",
       "                    if (nbb_cells[i].input_prompt_number == nbb_cell_id) {\n",
       "                        if (nbb_cells[i].get_text() == nbb_unformatted_code) {\n",
       "                             nbb_cells[i].set_text(nbb_formatted_code);\n",
       "                        }\n",
       "                        break;\n",
       "                    }\n",
       "                }\n",
       "            }, 500);\n",
       "            "
      ],
      "text/plain": [
       "<IPython.core.display.Javascript object>"
      ]
     },
     "metadata": {},
     "output_type": "display_data"
    }
   ],
   "source": [
    "server_id, server = list(id_to_model.items())[0]\n",
    "assert server_id == server_table.get_or_create_id(server)"
   ]
  },
  {
   "cell_type": "code",
   "execution_count": null,
   "id": "3a7df95f",
   "metadata": {},
   "outputs": [
    {
     "data": {
      "application/javascript": [
       "\n",
       "            setTimeout(function() {\n",
       "                var nbb_cell_id = 19;\n",
       "                var nbb_unformatted_code = \"different_server = BaseServer(name=\\\"different server\\\")\\nassert server_id != server_table.get_or_create_id(different_server)\";\n",
       "                var nbb_formatted_code = \"different_server = BaseServer(name=\\\"different server\\\")\\nassert server_id != server_table.get_or_create_id(different_server)\";\n",
       "                var nbb_cells = Jupyter.notebook.get_cells();\n",
       "                for (var i = 0; i < nbb_cells.length; ++i) {\n",
       "                    if (nbb_cells[i].input_prompt_number == nbb_cell_id) {\n",
       "                        if (nbb_cells[i].get_text() == nbb_unformatted_code) {\n",
       "                             nbb_cells[i].set_text(nbb_formatted_code);\n",
       "                        }\n",
       "                        break;\n",
       "                    }\n",
       "                }\n",
       "            }, 500);\n",
       "            "
      ],
      "text/plain": [
       "<IPython.core.display.Javascript object>"
      ]
     },
     "metadata": {},
     "output_type": "display_data"
    }
   ],
   "source": [
    "different_server = BaseServer(name=\"different server\")\n",
    "assert server_id != server_table.get_or_create_id(different_server)"
   ]
  },
  {
   "cell_type": "code",
   "execution_count": null,
   "id": "01a70e22",
   "metadata": {},
   "outputs": [
    {
     "data": {
      "application/javascript": [
       "\n",
       "            setTimeout(function() {\n",
       "                var nbb_cell_id = 20;\n",
       "                var nbb_unformatted_code = \"# export\\n\\nfrom will_it_saturate.results import Result\\n\\n\\nclass ResultTable(BaseTable):\\n    table_name = \\\"result\\\"\\n    create_statement = f\\\"\\\"\\\"\\n        create table {table_name} (\\n            result_id INTEGER PRIMARY KEY,\\n            server_host_id integer not NULL,\\n            client_host_id integer not NULL,\\n            created DATE DEFAULT (datetime('now','localtime')),\\n            server_id integer not NULL,\\n            client_id integer not NULL,\\n            file_size integer not NULL,\\n            complete_size integer not NULL,\\n            elapsed real not NULL,\\n            FOREIGN KEY(server_host_id) REFERENCES host(host_id)\\n            FOREIGN KEY(client_host_id) REFERENCES host(host_id)\\n            FOREIGN KEY(server_id) REFERENCES server(server_id)\\n            FOREIGN KEY(client_id) REFERENCES client(client_id)\\n        )\\n    \\\"\\\"\\\"\\n\\n    @property\\n    def host(self):\\n        return self.repository.tables[\\\"host\\\"]\\n\\n    @property\\n    def server(self):\\n        return self.repository.tables[\\\"server\\\"]\\n\\n    @property\\n    def client(self):\\n        return self.repository.tables[\\\"client\\\"]\\n\\n    def add_result(self, result):\\n        machine_to_host_id = self.host.get_or_create_hosts_from_result(result)\\n        host_ids = {\\n            \\\"server_host_id\\\": machine_to_host_id[result.server_details.machine_id],\\n            \\\"client_host_id\\\": machine_to_host_id[result.client_details.machine_id],\\n        }\\n\\n        server_and_client_ids = {\\n            \\\"server_id\\\": self.server.get_or_create_id(result.server),\\n            \\\"client_id\\\": self.client.get_or_create_id(result.client),\\n        }\\n\\n        result_row = {\\n            **host_ids,\\n            **server_and_client_ids,\\n            \\\"file_size\\\": result.file_size,\\n            \\\"complete_size\\\": result.complete_size,\\n            \\\"elapsed\\\": result.elapsed,\\n        }\\n        columns = list(result_row.keys())\\n        columns_str = \\\",\\\".join(columns)\\n        values_str = \\\",\\\".join([\\\"?\\\" for c in columns])\\n\\n        stmt = f\\\"\\\"\\\"\\n            insert into result ({columns_str})\\n            values ({values_str})\\n        \\\"\\\"\\\"\\n        cursor = self.connection.cursor()\\n\\n        values = [result_row[c] for c in columns]\\n        try:\\n            cursor = cursor.execute(stmt, values)\\n        except sqlite3.IntegrityError as e:\\n            pass\\n        self.connection.commit()\\n        return cursor.lastrowid\\n\\n    def get_results(self):\\n        # fetch all host details from DB\\n        host_id_to_host_details = self.host.get_all_host_id_to_host_details()\\n\\n        # fetch all client/server parameters from DB\\n        server_id_to_model = self.server.get_id_to_model()\\n        client_id_to_model = self.client.get_id_to_model()\\n\\n        # fetch all result rows from DB\\n        stmt = \\\"\\\"\\\"\\n            select *\\n              from result\\n        \\\"\\\"\\\"\\n        cursor = self.connection.cursor()\\n        cursor.execute(stmt)\\n        rows = cursor.fetchall()\\n\\n        # build results\\n        results = []\\n        for row in rows:\\n            client_host_details = host_id_to_host_details[row[\\\"client_host_id\\\"]]\\n            server_host_details = host_id_to_host_details[row[\\\"server_host_id\\\"]]\\n            server = server_id_to_model[row[\\\"server_id\\\"]]\\n            client = client_id_to_model[row[\\\"client_id\\\"]]\\n            kwargs = {\\n                **row,\\n                \\\"server\\\": server,\\n                \\\"client\\\": client,\\n                \\\"server_details\\\": server_host_details,\\n                \\\"client_details\\\": client_host_details,\\n            }\\n            results.append(Result(**kwargs))\\n        return results\\n\\n\\ndef register_default_tables(repository):\\n    results = ResultTable(repository=repository)\\n    hosts = HostTable(repository=repository)\\n    servers = ServerTable(repository=repository)\\n    clients = ClientTable(repository=repository)\\n    repository.create_tables()\";\n",
       "                var nbb_formatted_code = \"# export\\n\\nfrom will_it_saturate.results import Result\\n\\n\\nclass ResultTable(BaseTable):\\n    table_name = \\\"result\\\"\\n    create_statement = f\\\"\\\"\\\"\\n        create table {table_name} (\\n            result_id INTEGER PRIMARY KEY,\\n            server_host_id integer not NULL,\\n            client_host_id integer not NULL,\\n            created DATE DEFAULT (datetime('now','localtime')),\\n            server_id integer not NULL,\\n            client_id integer not NULL,\\n            file_size integer not NULL,\\n            complete_size integer not NULL,\\n            elapsed real not NULL,\\n            FOREIGN KEY(server_host_id) REFERENCES host(host_id)\\n            FOREIGN KEY(client_host_id) REFERENCES host(host_id)\\n            FOREIGN KEY(server_id) REFERENCES server(server_id)\\n            FOREIGN KEY(client_id) REFERENCES client(client_id)\\n        )\\n    \\\"\\\"\\\"\\n\\n    @property\\n    def host(self):\\n        return self.repository.tables[\\\"host\\\"]\\n\\n    @property\\n    def server(self):\\n        return self.repository.tables[\\\"server\\\"]\\n\\n    @property\\n    def client(self):\\n        return self.repository.tables[\\\"client\\\"]\\n\\n    def add_result(self, result):\\n        machine_to_host_id = self.host.get_or_create_hosts_from_result(result)\\n        host_ids = {\\n            \\\"server_host_id\\\": machine_to_host_id[result.server_details.machine_id],\\n            \\\"client_host_id\\\": machine_to_host_id[result.client_details.machine_id],\\n        }\\n\\n        server_and_client_ids = {\\n            \\\"server_id\\\": self.server.get_or_create_id(result.server),\\n            \\\"client_id\\\": self.client.get_or_create_id(result.client),\\n        }\\n\\n        result_row = {\\n            **host_ids,\\n            **server_and_client_ids,\\n            \\\"file_size\\\": result.file_size,\\n            \\\"complete_size\\\": result.complete_size,\\n            \\\"elapsed\\\": result.elapsed,\\n        }\\n        columns = list(result_row.keys())\\n        columns_str = \\\",\\\".join(columns)\\n        values_str = \\\",\\\".join([\\\"?\\\" for c in columns])\\n\\n        stmt = f\\\"\\\"\\\"\\n            insert into result ({columns_str})\\n            values ({values_str})\\n        \\\"\\\"\\\"\\n        cursor = self.connection.cursor()\\n\\n        values = [result_row[c] for c in columns]\\n        try:\\n            cursor = cursor.execute(stmt, values)\\n        except sqlite3.IntegrityError as e:\\n            pass\\n        self.connection.commit()\\n        return cursor.lastrowid\\n\\n    def get_results(self):\\n        # fetch all host details from DB\\n        host_id_to_host_details = self.host.get_all_host_id_to_host_details()\\n\\n        # fetch all client/server parameters from DB\\n        server_id_to_model = self.server.get_id_to_model()\\n        client_id_to_model = self.client.get_id_to_model()\\n\\n        # fetch all result rows from DB\\n        stmt = \\\"\\\"\\\"\\n            select *\\n              from result\\n        \\\"\\\"\\\"\\n        cursor = self.connection.cursor()\\n        cursor.execute(stmt)\\n        rows = cursor.fetchall()\\n\\n        # build results\\n        results = []\\n        for row in rows:\\n            client_host_details = host_id_to_host_details[row[\\\"client_host_id\\\"]]\\n            server_host_details = host_id_to_host_details[row[\\\"server_host_id\\\"]]\\n            server = server_id_to_model[row[\\\"server_id\\\"]]\\n            client = client_id_to_model[row[\\\"client_id\\\"]]\\n            kwargs = {\\n                **row,\\n                \\\"server\\\": server,\\n                \\\"client\\\": client,\\n                \\\"server_details\\\": server_host_details,\\n                \\\"client_details\\\": client_host_details,\\n            }\\n            results.append(Result(**kwargs))\\n        return results\\n\\n\\ndef register_default_tables(repository):\\n    results = ResultTable(repository=repository)\\n    hosts = HostTable(repository=repository)\\n    servers = ServerTable(repository=repository)\\n    clients = ClientTable(repository=repository)\\n    repository.create_tables()\";\n",
       "                var nbb_cells = Jupyter.notebook.get_cells();\n",
       "                for (var i = 0; i < nbb_cells.length; ++i) {\n",
       "                    if (nbb_cells[i].input_prompt_number == nbb_cell_id) {\n",
       "                        if (nbb_cells[i].get_text() == nbb_unformatted_code) {\n",
       "                             nbb_cells[i].set_text(nbb_formatted_code);\n",
       "                        }\n",
       "                        break;\n",
       "                    }\n",
       "                }\n",
       "            }, 500);\n",
       "            "
      ],
      "text/plain": [
       "<IPython.core.display.Javascript object>"
      ]
     },
     "metadata": {},
     "output_type": "display_data"
    }
   ],
   "source": [
    "# export\n",
    "\n",
    "from will_it_saturate.results import Result\n",
    "\n",
    "\n",
    "class ResultTable(BaseTable):\n",
    "    table_name = \"result\"\n",
    "    create_statement = f\"\"\"\n",
    "        create table {table_name} (\n",
    "            result_id INTEGER PRIMARY KEY,\n",
    "            server_host_id integer not NULL,\n",
    "            client_host_id integer not NULL,\n",
    "            created DATE DEFAULT (datetime('now','localtime')),\n",
    "            server_id integer not NULL,\n",
    "            client_id integer not NULL,\n",
    "            file_size integer not NULL,\n",
    "            complete_size integer not NULL,\n",
    "            elapsed real not NULL,\n",
    "            FOREIGN KEY(server_host_id) REFERENCES host(host_id)\n",
    "            FOREIGN KEY(client_host_id) REFERENCES host(host_id)\n",
    "            FOREIGN KEY(server_id) REFERENCES server(server_id)\n",
    "            FOREIGN KEY(client_id) REFERENCES client(client_id)\n",
    "        )\n",
    "    \"\"\"\n",
    "\n",
    "    @property\n",
    "    def host(self):\n",
    "        return self.repository.tables[\"host\"]\n",
    "\n",
    "    @property\n",
    "    def server(self):\n",
    "        return self.repository.tables[\"server\"]\n",
    "\n",
    "    @property\n",
    "    def client(self):\n",
    "        return self.repository.tables[\"client\"]\n",
    "\n",
    "    def add_result(self, result):\n",
    "        machine_to_host_id = self.host.get_or_create_hosts_from_result(result)\n",
    "        host_ids = {\n",
    "            \"server_host_id\": machine_to_host_id[result.server_details.machine_id],\n",
    "            \"client_host_id\": machine_to_host_id[result.client_details.machine_id],\n",
    "        }\n",
    "\n",
    "        server_and_client_ids = {\n",
    "            \"server_id\": self.server.get_or_create_id(result.server),\n",
    "            \"client_id\": self.client.get_or_create_id(result.client),\n",
    "        }\n",
    "\n",
    "        result_row = {\n",
    "            **host_ids,\n",
    "            **server_and_client_ids,\n",
    "            \"file_size\": result.file_size,\n",
    "            \"complete_size\": result.complete_size,\n",
    "            \"elapsed\": result.elapsed,\n",
    "        }\n",
    "        columns = list(result_row.keys())\n",
    "        columns_str = \",\".join(columns)\n",
    "        values_str = \",\".join([\"?\" for c in columns])\n",
    "\n",
    "        stmt = f\"\"\"\n",
    "            insert into result ({columns_str})\n",
    "            values ({values_str})\n",
    "        \"\"\"\n",
    "        cursor = self.connection.cursor()\n",
    "\n",
    "        values = [result_row[c] for c in columns]\n",
    "        try:\n",
    "            cursor = cursor.execute(stmt, values)\n",
    "        except sqlite3.IntegrityError as e:\n",
    "            pass\n",
    "        self.connection.commit()\n",
    "        return cursor.lastrowid\n",
    "\n",
    "    def get_results(self):\n",
    "        # fetch all host details from DB\n",
    "        host_id_to_host_details = self.host.get_all_host_id_to_host_details()\n",
    "\n",
    "        # fetch all client/server parameters from DB\n",
    "        server_id_to_model = self.server.get_id_to_model()\n",
    "        client_id_to_model = self.client.get_id_to_model()\n",
    "\n",
    "        # fetch all result rows from DB\n",
    "        stmt = \"\"\"\n",
    "            select *\n",
    "              from result\n",
    "        \"\"\"\n",
    "        cursor = self.connection.cursor()\n",
    "        cursor.execute(stmt)\n",
    "        rows = cursor.fetchall()\n",
    "\n",
    "        # build results\n",
    "        results = []\n",
    "        for row in rows:\n",
    "            client_host_details = host_id_to_host_details[row[\"client_host_id\"]]\n",
    "            server_host_details = host_id_to_host_details[row[\"server_host_id\"]]\n",
    "            server = server_id_to_model[row[\"server_id\"]]\n",
    "            client = client_id_to_model[row[\"client_id\"]]\n",
    "            kwargs = {\n",
    "                **row,\n",
    "                \"server\": server,\n",
    "                \"client\": client,\n",
    "                \"server_details\": server_host_details,\n",
    "                \"client_details\": client_host_details,\n",
    "            }\n",
    "            results.append(Result(**kwargs))\n",
    "        return results\n",
    "\n",
    "\n",
    "def register_default_tables(repository):\n",
    "    results = ResultTable(repository=repository)\n",
    "    hosts = HostTable(repository=repository)\n",
    "    servers = ServerTable(repository=repository)\n",
    "    clients = ClientTable(repository=repository)\n",
    "    repository.create_tables()"
   ]
  },
  {
   "cell_type": "markdown",
   "id": "59758f87",
   "metadata": {},
   "source": [
    "## Usage"
   ]
  },
  {
   "cell_type": "code",
   "execution_count": null,
   "id": "1be3abc0",
   "metadata": {},
   "outputs": [
    {
     "data": {
      "application/javascript": [
       "\n",
       "            setTimeout(function() {\n",
       "                var nbb_cell_id = 21;\n",
       "                var nbb_unformatted_code = \"# dont_test\\n\\nrepository = SqliteRepository.build_repository(\\\":memory:\\\")\\nregister_default_tables(repository)\\nresults = repository.tables[\\\"result\\\"]\";\n",
       "                var nbb_formatted_code = \"# dont_test\\n\\nrepository = SqliteRepository.build_repository(\\\":memory:\\\")\\nregister_default_tables(repository)\\nresults = repository.tables[\\\"result\\\"]\";\n",
       "                var nbb_cells = Jupyter.notebook.get_cells();\n",
       "                for (var i = 0; i < nbb_cells.length; ++i) {\n",
       "                    if (nbb_cells[i].input_prompt_number == nbb_cell_id) {\n",
       "                        if (nbb_cells[i].get_text() == nbb_unformatted_code) {\n",
       "                             nbb_cells[i].set_text(nbb_formatted_code);\n",
       "                        }\n",
       "                        break;\n",
       "                    }\n",
       "                }\n",
       "            }, 500);\n",
       "            "
      ],
      "text/plain": [
       "<IPython.core.display.Javascript object>"
      ]
     },
     "metadata": {},
     "output_type": "display_data"
    }
   ],
   "source": [
    "# dont_test\n",
    "\n",
    "repository = SqliteRepository.build_repository(\":memory:\")\n",
    "register_default_tables(repository)\n",
    "results = repository.tables[\"result\"]"
   ]
  },
  {
   "cell_type": "code",
   "execution_count": null,
   "id": "b6111b0f",
   "metadata": {},
   "outputs": [
    {
     "name": "stdout",
     "output_type": "stream",
     "text": [
      "1\n"
     ]
    },
    {
     "data": {
      "application/javascript": [
       "\n",
       "            setTimeout(function() {\n",
       "                var nbb_cell_id = 22;\n",
       "                var nbb_unformatted_code = \"# dont_test\\n\\nfrom will_it_saturate.clients import BaseClient\\n\\nserver = BaseServer(name=\\\"server\\\", host=\\\"127.0.0.1\\\", port=8000)\\nclient = BaseClient(name=\\\"fake client\\\")\\nserver_details = HostDetails(machine_id=\\\"server_1\\\", cpu_info={\\\"foo\\\": \\\"bar\\\"})\\nclient_details = HostDetails(machine_id=\\\"client_1\\\", cpu_info={\\\"bar\\\": \\\"baz\\\"})\\nresult = Result(\\n    server=server,\\n    client=client,\\n    server_details=server_details,\\n    client_details=client_details,\\n    file_size=10 ** 5,\\n    complete_size=10 ** 8,\\n    elapsed=400,\\n)\\nresult_id = results.add_result(result)\\nprint(result_id)\";\n",
       "                var nbb_formatted_code = \"# dont_test\\n\\nfrom will_it_saturate.clients import BaseClient\\n\\nserver = BaseServer(name=\\\"server\\\", host=\\\"127.0.0.1\\\", port=8000)\\nclient = BaseClient(name=\\\"fake client\\\")\\nserver_details = HostDetails(machine_id=\\\"server_1\\\", cpu_info={\\\"foo\\\": \\\"bar\\\"})\\nclient_details = HostDetails(machine_id=\\\"client_1\\\", cpu_info={\\\"bar\\\": \\\"baz\\\"})\\nresult = Result(\\n    server=server,\\n    client=client,\\n    server_details=server_details,\\n    client_details=client_details,\\n    file_size=10 ** 5,\\n    complete_size=10 ** 8,\\n    elapsed=400,\\n)\\nresult_id = results.add_result(result)\\nprint(result_id)\";\n",
       "                var nbb_cells = Jupyter.notebook.get_cells();\n",
       "                for (var i = 0; i < nbb_cells.length; ++i) {\n",
       "                    if (nbb_cells[i].input_prompt_number == nbb_cell_id) {\n",
       "                        if (nbb_cells[i].get_text() == nbb_unformatted_code) {\n",
       "                             nbb_cells[i].set_text(nbb_formatted_code);\n",
       "                        }\n",
       "                        break;\n",
       "                    }\n",
       "                }\n",
       "            }, 500);\n",
       "            "
      ],
      "text/plain": [
       "<IPython.core.display.Javascript object>"
      ]
     },
     "metadata": {},
     "output_type": "display_data"
    }
   ],
   "source": [
    "# dont_test\n",
    "\n",
    "from will_it_saturate.clients import BaseClient\n",
    "\n",
    "server = BaseServer(name=\"server\", host=\"127.0.0.1\", port=8000)\n",
    "client = BaseClient(name=\"fake client\")\n",
    "server_details = HostDetails(machine_id=\"server_1\", cpu_info={\"foo\": \"bar\"})\n",
    "client_details = HostDetails(machine_id=\"client_1\", cpu_info={\"bar\": \"baz\"})\n",
    "result = Result(\n",
    "    server=server,\n",
    "    client=client,\n",
    "    server_details=server_details,\n",
    "    client_details=client_details,\n",
    "    file_size=10 ** 5,\n",
    "    complete_size=10 ** 8,\n",
    "    elapsed=400,\n",
    ")\n",
    "result_id = results.add_result(result)\n",
    "print(result_id)"
   ]
  },
  {
   "cell_type": "code",
   "execution_count": null,
   "id": "2aa200e7",
   "metadata": {},
   "outputs": [
    {
     "name": "stdout",
     "output_type": "stream",
     "text": [
      "server=BaseServer(protocol='http', name='server', host='127.0.0.1', port=8000) client=BaseClient(name='fake client') server_details=HostDetails(machine_id='server_1', cpu_info={'foo': 'bar'}) client_details=HostDetails(machine_id='client_1', cpu_info={'bar': 'baz'}) file_size=100000 elapsed=400.0 complete_size=100000000\n"
     ]
    },
    {
     "data": {
      "application/javascript": [
       "\n",
       "            setTimeout(function() {\n",
       "                var nbb_cell_id = 23;\n",
       "                var nbb_unformatted_code = \"# dont_test\\n\\nall_results = results.get_results()\\nprint(all_results[0])\";\n",
       "                var nbb_formatted_code = \"# dont_test\\n\\nall_results = results.get_results()\\nprint(all_results[0])\";\n",
       "                var nbb_cells = Jupyter.notebook.get_cells();\n",
       "                for (var i = 0; i < nbb_cells.length; ++i) {\n",
       "                    if (nbb_cells[i].input_prompt_number == nbb_cell_id) {\n",
       "                        if (nbb_cells[i].get_text() == nbb_unformatted_code) {\n",
       "                             nbb_cells[i].set_text(nbb_formatted_code);\n",
       "                        }\n",
       "                        break;\n",
       "                    }\n",
       "                }\n",
       "            }, 500);\n",
       "            "
      ],
      "text/plain": [
       "<IPython.core.display.Javascript object>"
      ]
     },
     "metadata": {},
     "output_type": "display_data"
    }
   ],
   "source": [
    "# dont_test\n",
    "\n",
    "all_results = results.get_results()\n",
    "print(all_results[0])"
   ]
  },
  {
   "cell_type": "markdown",
   "id": "d7480a34",
   "metadata": {},
   "source": [
    "## Test ResultTable"
   ]
  },
  {
   "cell_type": "code",
   "execution_count": null,
   "id": "d48eee3a",
   "metadata": {},
   "outputs": [
    {
     "data": {
      "application/javascript": [
       "\n",
       "            setTimeout(function() {\n",
       "                var nbb_cell_id = 24;\n",
       "                var nbb_unformatted_code = \"repository = SqliteRepository.build_repository(\\\":memory:\\\")\\nregister_default_tables(repository)\";\n",
       "                var nbb_formatted_code = \"repository = SqliteRepository.build_repository(\\\":memory:\\\")\\nregister_default_tables(repository)\";\n",
       "                var nbb_cells = Jupyter.notebook.get_cells();\n",
       "                for (var i = 0; i < nbb_cells.length; ++i) {\n",
       "                    if (nbb_cells[i].input_prompt_number == nbb_cell_id) {\n",
       "                        if (nbb_cells[i].get_text() == nbb_unformatted_code) {\n",
       "                             nbb_cells[i].set_text(nbb_formatted_code);\n",
       "                        }\n",
       "                        break;\n",
       "                    }\n",
       "                }\n",
       "            }, 500);\n",
       "            "
      ],
      "text/plain": [
       "<IPython.core.display.Javascript object>"
      ]
     },
     "metadata": {},
     "output_type": "display_data"
    }
   ],
   "source": [
    "repository = SqliteRepository.build_repository(\":memory:\")\n",
    "register_default_tables(repository)"
   ]
  },
  {
   "cell_type": "markdown",
   "id": "93a1c0f3",
   "metadata": {},
   "source": [
    "### Add a Complete Result to Repository"
   ]
  },
  {
   "cell_type": "code",
   "execution_count": null,
   "id": "231dcd99",
   "metadata": {},
   "outputs": [
    {
     "data": {
      "application/javascript": [
       "\n",
       "            setTimeout(function() {\n",
       "                var nbb_cell_id = 25;\n",
       "                var nbb_unformatted_code = \"from will_it_saturate.servers import BaseServer\\nfrom will_it_saturate.clients import BaseClient\\n\\n\\nserver = BaseServer(name=\\\"fake server\\\")\\nclient = BaseClient(name=\\\"fake client\\\")\\nserver_details = HostDetails(machine_id=\\\"server_1\\\", cpu_info={\\\"foo\\\": \\\"bar\\\"})\\nclient_details = HostDetails(machine_id=\\\"client_1\\\", cpu_info={\\\"bar\\\": \\\"baz\\\"})\\nresult = Result(\\n    server=server,\\n    client=client.params(),\\n    server_details=server_details,\\n    client_details=client_details,\\n    file_size=10 ** 5,\\n    complete_size=10 ** 8,\\n    elapsed=400,\\n)\\nresults = repository.tables[\\\"result\\\"]\\nresult_id = results.add_result(result)\\nassert result_id == 1\";\n",
       "                var nbb_formatted_code = \"from will_it_saturate.servers import BaseServer\\nfrom will_it_saturate.clients import BaseClient\\n\\n\\nserver = BaseServer(name=\\\"fake server\\\")\\nclient = BaseClient(name=\\\"fake client\\\")\\nserver_details = HostDetails(machine_id=\\\"server_1\\\", cpu_info={\\\"foo\\\": \\\"bar\\\"})\\nclient_details = HostDetails(machine_id=\\\"client_1\\\", cpu_info={\\\"bar\\\": \\\"baz\\\"})\\nresult = Result(\\n    server=server,\\n    client=client.params(),\\n    server_details=server_details,\\n    client_details=client_details,\\n    file_size=10 ** 5,\\n    complete_size=10 ** 8,\\n    elapsed=400,\\n)\\nresults = repository.tables[\\\"result\\\"]\\nresult_id = results.add_result(result)\\nassert result_id == 1\";\n",
       "                var nbb_cells = Jupyter.notebook.get_cells();\n",
       "                for (var i = 0; i < nbb_cells.length; ++i) {\n",
       "                    if (nbb_cells[i].input_prompt_number == nbb_cell_id) {\n",
       "                        if (nbb_cells[i].get_text() == nbb_unformatted_code) {\n",
       "                             nbb_cells[i].set_text(nbb_formatted_code);\n",
       "                        }\n",
       "                        break;\n",
       "                    }\n",
       "                }\n",
       "            }, 500);\n",
       "            "
      ],
      "text/plain": [
       "<IPython.core.display.Javascript object>"
      ]
     },
     "metadata": {},
     "output_type": "display_data"
    }
   ],
   "source": [
    "from will_it_saturate.servers import BaseServer\n",
    "from will_it_saturate.clients import BaseClient\n",
    "\n",
    "\n",
    "server = BaseServer(name=\"fake server\")\n",
    "client = BaseClient(name=\"fake client\")\n",
    "server_details = HostDetails(machine_id=\"server_1\", cpu_info={\"foo\": \"bar\"})\n",
    "client_details = HostDetails(machine_id=\"client_1\", cpu_info={\"bar\": \"baz\"})\n",
    "result = Result(\n",
    "    server=server,\n",
    "    client=client.params(),\n",
    "    server_details=server_details,\n",
    "    client_details=client_details,\n",
    "    file_size=10 ** 5,\n",
    "    complete_size=10 ** 8,\n",
    "    elapsed=400,\n",
    ")\n",
    "results = repository.tables[\"result\"]\n",
    "result_id = results.add_result(result)\n",
    "assert result_id == 1"
   ]
  },
  {
   "cell_type": "markdown",
   "id": "b6cdef29",
   "metadata": {},
   "source": [
    "### Get Results"
   ]
  },
  {
   "cell_type": "code",
   "execution_count": null,
   "id": "7a577d28",
   "metadata": {},
   "outputs": [
    {
     "data": {
      "application/javascript": [
       "\n",
       "            setTimeout(function() {\n",
       "                var nbb_cell_id = 26;\n",
       "                var nbb_unformatted_code = \"result_from_db = results.get_results()[0]\\nassert result == result_from_db\";\n",
       "                var nbb_formatted_code = \"result_from_db = results.get_results()[0]\\nassert result == result_from_db\";\n",
       "                var nbb_cells = Jupyter.notebook.get_cells();\n",
       "                for (var i = 0; i < nbb_cells.length; ++i) {\n",
       "                    if (nbb_cells[i].input_prompt_number == nbb_cell_id) {\n",
       "                        if (nbb_cells[i].get_text() == nbb_unformatted_code) {\n",
       "                             nbb_cells[i].set_text(nbb_formatted_code);\n",
       "                        }\n",
       "                        break;\n",
       "                    }\n",
       "                }\n",
       "            }, 500);\n",
       "            "
      ],
      "text/plain": [
       "<IPython.core.display.Javascript object>"
      ]
     },
     "metadata": {},
     "output_type": "display_data"
    }
   ],
   "source": [
    "result_from_db = results.get_results()[0]\n",
    "assert result == result_from_db"
   ]
  },
  {
   "cell_type": "code",
   "execution_count": null,
   "id": "appointed-enforcement",
   "metadata": {},
   "outputs": [
    {
     "name": "stdout",
     "output_type": "stream",
     "text": [
      "Converted 00_index.ipynb.\n",
      "Converted 01_host.ipynb.\n",
      "Converted 02_file.ipynb.\n",
      "Converted 03_registry.ipynb.\n",
      "Converted 04_epochs.ipynb.\n",
      "Converted 10_servers.ipynb.\n",
      "Converted 11_views_for_fastapi_server.ipynb.\n",
      "Converted 12_views_for_django_server.ipynb.\n",
      "Converted 15_servers_started_locally.ipynb.\n",
      "Converted 16_servers_started_via_docker.ipynb.\n",
      "Converted 20_clients.ipynb.\n",
      "Converted 21_benchmark_client_implementations.ipynb.\n",
      "Converted 30_control_server.ipynb.\n",
      "Converted 31_control_client.ipynb.\n",
      "Converted 32_control_cli.ipynb.\n",
      "Converted 40_results.ipynb.\n",
      "Converted 41_repositories.ipynb.\n",
      "Converted 42_sqlite_repository.ipynb.\n",
      "Converted 50_benchmark_without_benchmark.ipynb.\n",
      "Converted 51_benchmark_remote_control_server.ipynb.\n",
      "Converted 60_legacy.ipynb.\n",
      "Converted 61_run_benchmark.ipynb.\n"
     ]
    },
    {
     "data": {
      "application/javascript": [
       "\n",
       "            setTimeout(function() {\n",
       "                var nbb_cell_id = 27;\n",
       "                var nbb_unformatted_code = \"# dont_test\\n\\nfrom nbdev.export import notebook2script\\n\\nnotebook2script()\";\n",
       "                var nbb_formatted_code = \"# dont_test\\n\\nfrom nbdev.export import notebook2script\\n\\nnotebook2script()\";\n",
       "                var nbb_cells = Jupyter.notebook.get_cells();\n",
       "                for (var i = 0; i < nbb_cells.length; ++i) {\n",
       "                    if (nbb_cells[i].input_prompt_number == nbb_cell_id) {\n",
       "                        if (nbb_cells[i].get_text() == nbb_unformatted_code) {\n",
       "                             nbb_cells[i].set_text(nbb_formatted_code);\n",
       "                        }\n",
       "                        break;\n",
       "                    }\n",
       "                }\n",
       "            }, 500);\n",
       "            "
      ],
      "text/plain": [
       "<IPython.core.display.Javascript object>"
      ]
     },
     "metadata": {},
     "output_type": "display_data"
    }
   ],
   "source": [
    "# hide\n",
    "# dont_test\n",
    "\n",
    "from nbdev.export import notebook2script\n",
    "\n",
    "notebook2script()"
   ]
  }
 ],
 "metadata": {
  "kernelspec": {
   "display_name": "Python 3",
   "language": "python",
   "name": "python3"
  }
 },
 "nbformat": 4,
 "nbformat_minor": 5
}
