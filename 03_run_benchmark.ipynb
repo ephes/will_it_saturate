{
 "cells": [
  {
   "cell_type": "code",
   "execution_count": null,
   "id": "aerial-money",
   "metadata": {},
   "outputs": [],
   "source": [
    "from will_it_saturate.core import BenchmarkServer, Benchmark\n",
    "from will_it_saturate.client import HttpxClient, AioHttpClient"
   ]
  },
  {
   "cell_type": "code",
   "execution_count": null,
   "id": "current-impact",
   "metadata": {},
   "outputs": [],
   "source": [
    "byte = 8\n",
    "gigabit = 10 ** 9\n",
    "bandwidth = gigabit / byte\n",
    "\n",
    "# file_sizes = [10 ** 7, 10 ** 6]\n",
    "file_sizes = [10 ** 7, 10 ** 6, 10 ** 5]\n",
    "# file_sizes = [10 ** 7]\n",
    "\n",
    "benchmark = Benchmark(\n",
    "    bandwidth=bandwidth,\n",
    "    duration=3,\n",
    "    file_sizes=file_sizes,\n",
    "    servers=[BenchmarkServer(name=\"uvicorn\")],\n",
    "    clients=[HttpxClient(name=\"httpx\"), AioHttpClient(name=\"aiohttp\")],\n",
    ")\n",
    "benchmark.create_rows()"
   ]
  },
  {
   "cell_type": "code",
   "execution_count": null,
   "id": "charming-desire",
   "metadata": {},
   "outputs": [
    {
     "name": "stdout",
     "output_type": "stream",
     "text": [
      "measure\n",
      "measure\n",
      "measure\n",
      "CPU times: user 32.6 ms, sys: 53.1 ms, total: 85.7 ms\n",
      "Wall time: 33.1 s\n"
     ]
    }
   ],
   "source": [
    "%%time\n",
    "benchmark.run()"
   ]
  },
  {
   "cell_type": "code",
   "execution_count": null,
   "id": "rocky-supervisor",
   "metadata": {},
   "outputs": [
    {
     "data": {
      "text/html": [
       "<div>\n",
       "<style scoped>\n",
       "    .dataframe tbody tr th:only-of-type {\n",
       "        vertical-align: middle;\n",
       "    }\n",
       "\n",
       "    .dataframe tbody tr th {\n",
       "        vertical-align: top;\n",
       "    }\n",
       "\n",
       "    .dataframe thead th {\n",
       "        text-align: right;\n",
       "    }\n",
       "</style>\n",
       "<table border=\"1\" class=\"dataframe\">\n",
       "  <thead>\n",
       "    <tr style=\"text-align: right;\">\n",
       "      <th></th>\n",
       "      <th>server</th>\n",
       "      <th>client</th>\n",
       "      <th>file_size</th>\n",
       "      <th>elapsed</th>\n",
       "      <th>complete_size</th>\n",
       "      <th>file_size_h</th>\n",
       "      <th>bytes_per_second</th>\n",
       "      <th>bytes_per_second_h</th>\n",
       "    </tr>\n",
       "  </thead>\n",
       "  <tbody>\n",
       "    <tr>\n",
       "      <th>0</th>\n",
       "      <td>uvicorn</td>\n",
       "      <td>httpx</td>\n",
       "      <td>10000000</td>\n",
       "      <td>3.502231</td>\n",
       "      <td>375000000</td>\n",
       "      <td>9.54MB</td>\n",
       "      <td>1.070746e+08</td>\n",
       "      <td>102.11MB</td>\n",
       "    </tr>\n",
       "    <tr>\n",
       "      <th>1</th>\n",
       "      <td>uvicorn</td>\n",
       "      <td>httpx</td>\n",
       "      <td>1000000</td>\n",
       "      <td>3.799189</td>\n",
       "      <td>375000000</td>\n",
       "      <td>976.56KB</td>\n",
       "      <td>9.870528e+07</td>\n",
       "      <td>94.13MB</td>\n",
       "    </tr>\n",
       "    <tr>\n",
       "      <th>2</th>\n",
       "      <td>uvicorn</td>\n",
       "      <td>httpx</td>\n",
       "      <td>100000</td>\n",
       "      <td>6.472917</td>\n",
       "      <td>375000000</td>\n",
       "      <td>97.66KB</td>\n",
       "      <td>5.793369e+07</td>\n",
       "      <td>55.25MB</td>\n",
       "    </tr>\n",
       "    <tr>\n",
       "      <th>3</th>\n",
       "      <td>uvicorn</td>\n",
       "      <td>aiohttp</td>\n",
       "      <td>10000000</td>\n",
       "      <td>3.222179</td>\n",
       "      <td>375000000</td>\n",
       "      <td>9.54MB</td>\n",
       "      <td>1.163809e+08</td>\n",
       "      <td>110.99MB</td>\n",
       "    </tr>\n",
       "    <tr>\n",
       "      <th>4</th>\n",
       "      <td>uvicorn</td>\n",
       "      <td>aiohttp</td>\n",
       "      <td>1000000</td>\n",
       "      <td>3.563873</td>\n",
       "      <td>375000000</td>\n",
       "      <td>976.56KB</td>\n",
       "      <td>1.052226e+08</td>\n",
       "      <td>100.35MB</td>\n",
       "    </tr>\n",
       "    <tr>\n",
       "      <th>5</th>\n",
       "      <td>uvicorn</td>\n",
       "      <td>aiohttp</td>\n",
       "      <td>100000</td>\n",
       "      <td>5.413135</td>\n",
       "      <td>375000000</td>\n",
       "      <td>97.66KB</td>\n",
       "      <td>6.927594e+07</td>\n",
       "      <td>66.07MB</td>\n",
       "    </tr>\n",
       "  </tbody>\n",
       "</table>\n",
       "</div>"
      ],
      "text/plain": [
       "    server   client  file_size   elapsed  complete_size file_size_h  \\\n",
       "0  uvicorn    httpx   10000000  3.502231      375000000      9.54MB   \n",
       "1  uvicorn    httpx    1000000  3.799189      375000000    976.56KB   \n",
       "2  uvicorn    httpx     100000  6.472917      375000000     97.66KB   \n",
       "3  uvicorn  aiohttp   10000000  3.222179      375000000      9.54MB   \n",
       "4  uvicorn  aiohttp    1000000  3.563873      375000000    976.56KB   \n",
       "5  uvicorn  aiohttp     100000  5.413135      375000000     97.66KB   \n",
       "\n",
       "   bytes_per_second bytes_per_second_h  \n",
       "0      1.070746e+08           102.11MB  \n",
       "1      9.870528e+07            94.13MB  \n",
       "2      5.793369e+07            55.25MB  \n",
       "3      1.163809e+08           110.99MB  \n",
       "4      1.052226e+08           100.35MB  \n",
       "5      6.927594e+07            66.07MB  "
      ]
     },
     "execution_count": null,
     "metadata": {},
     "output_type": "execute_result"
    }
   ],
   "source": [
    "benchmark.results_frame"
   ]
  },
  {
   "cell_type": "code",
   "execution_count": null,
   "id": "constitutional-karma",
   "metadata": {},
   "outputs": [],
   "source": []
  }
 ],
 "metadata": {
  "kernelspec": {
   "display_name": "Python 3",
   "language": "python",
   "name": "python3"
  }
 },
 "nbformat": 4,
 "nbformat_minor": 5
}
