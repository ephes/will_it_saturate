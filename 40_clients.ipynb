{
 "cells": [
  {
   "cell_type": "code",
   "execution_count": null,
   "id": "automotive-brooks",
   "metadata": {},
   "outputs": [
    {
     "data": {
      "application/javascript": [
       "\n",
       "            setTimeout(function() {\n",
       "                var nbb_cell_id = 1;\n",
       "                var nbb_unformatted_code = \"%load_ext nb_black\";\n",
       "                var nbb_formatted_code = \"%load_ext nb_black\";\n",
       "                var nbb_cells = Jupyter.notebook.get_cells();\n",
       "                for (var i = 0; i < nbb_cells.length; ++i) {\n",
       "                    if (nbb_cells[i].input_prompt_number == nbb_cell_id) {\n",
       "                        if (nbb_cells[i].get_text() == nbb_unformatted_code) {\n",
       "                             nbb_cells[i].set_text(nbb_formatted_code);\n",
       "                        }\n",
       "                        break;\n",
       "                    }\n",
       "                }\n",
       "            }, 500);\n",
       "            "
      ],
      "text/plain": [
       "<IPython.core.display.Javascript object>"
      ]
     },
     "metadata": {},
     "output_type": "display_data"
    }
   ],
   "source": [
    "%load_ext nb_black"
   ]
  },
  {
   "cell_type": "code",
   "execution_count": null,
   "id": "incorporated-ebony",
   "metadata": {},
   "outputs": [
    {
     "data": {
      "application/javascript": [
       "\n",
       "            setTimeout(function() {\n",
       "                var nbb_cell_id = 2;\n",
       "                var nbb_unformatted_code = \"# default_exp clients\";\n",
       "                var nbb_formatted_code = \"# default_exp clients\";\n",
       "                var nbb_cells = Jupyter.notebook.get_cells();\n",
       "                for (var i = 0; i < nbb_cells.length; ++i) {\n",
       "                    if (nbb_cells[i].input_prompt_number == nbb_cell_id) {\n",
       "                        if (nbb_cells[i].get_text() == nbb_unformatted_code) {\n",
       "                             nbb_cells[i].set_text(nbb_formatted_code);\n",
       "                        }\n",
       "                        break;\n",
       "                    }\n",
       "                }\n",
       "            }, 500);\n",
       "            "
      ],
      "text/plain": [
       "<IPython.core.display.Javascript object>"
      ]
     },
     "metadata": {},
     "output_type": "display_data"
    }
   ],
   "source": [
    "# default_exp clients"
   ]
  },
  {
   "cell_type": "markdown",
   "id": "f087b73f",
   "metadata": {},
   "source": [
    "# Client Registry"
   ]
  },
  {
   "cell_type": "code",
   "execution_count": null,
   "id": "34704773",
   "metadata": {},
   "outputs": [
    {
     "data": {
      "application/javascript": [
       "\n",
       "            setTimeout(function() {\n",
       "                var nbb_cell_id = 29;\n",
       "                var nbb_unformatted_code = \"# export\\n\\n\\nCLIENT_CLASS_REGISTRY = {}\\n\\n\\ndef register_client(client_class):\\n    global CLIENT_CLASS_REGISTRY\\n    CLIENT_CLASS_REGISTRY[client_class.__name__] = client_class\\n    return client_class\\n\\n\\ndef get_client_from_registry(client_class):\\n    return CLIENT_CLASS_REGISTRY[client_class]\";\n",
       "                var nbb_formatted_code = \"# export\\n\\n\\nCLIENT_CLASS_REGISTRY = {}\\n\\n\\ndef register_client(client_class):\\n    global CLIENT_CLASS_REGISTRY\\n    CLIENT_CLASS_REGISTRY[client_class.__name__] = client_class\\n    return client_class\\n\\n\\ndef get_client_from_registry(client_class):\\n    return CLIENT_CLASS_REGISTRY[client_class]\";\n",
       "                var nbb_cells = Jupyter.notebook.get_cells();\n",
       "                for (var i = 0; i < nbb_cells.length; ++i) {\n",
       "                    if (nbb_cells[i].input_prompt_number == nbb_cell_id) {\n",
       "                        if (nbb_cells[i].get_text() == nbb_unformatted_code) {\n",
       "                             nbb_cells[i].set_text(nbb_formatted_code);\n",
       "                        }\n",
       "                        break;\n",
       "                    }\n",
       "                }\n",
       "            }, 500);\n",
       "            "
      ],
      "text/plain": [
       "<IPython.core.display.Javascript object>"
      ]
     },
     "metadata": {},
     "output_type": "display_data"
    }
   ],
   "source": [
    "# export\n",
    "from pydantic import BaseModel\n",
    "\n",
    "\n",
    "CLIENT_CLASS_REGISTRY = {}\n",
    "\n",
    "\n",
    "def register_client(client_class):\n",
    "    global CLIENT_CLASS_REGISTRY\n",
    "    CLIENT_CLASS_REGISTRY[client_class.__name__] = client_class\n",
    "    return client_class\n",
    "\n",
    "\n",
    "def get_client_from_registry(class_name):\n",
    "    return CLIENT_CLASS_REGISTRY[class_name]"
   ]
  },
  {
   "cell_type": "code",
   "execution_count": null,
   "id": "a40c1e3e",
   "metadata": {},
   "outputs": [
    {
     "data": {
      "application/javascript": [
       "\n",
       "            setTimeout(function() {\n",
       "                var nbb_cell_id = 30;\n",
       "                var nbb_unformatted_code = \"@register_client\\nclass StubClient(BaseModel):\\n    name: str = \\\"stub client\\\"\";\n",
       "                var nbb_formatted_code = \"@register_client\\nclass StubClient(BaseModel):\\n    name: str = \\\"stub client\\\"\";\n",
       "                var nbb_cells = Jupyter.notebook.get_cells();\n",
       "                for (var i = 0; i < nbb_cells.length; ++i) {\n",
       "                    if (nbb_cells[i].input_prompt_number == nbb_cell_id) {\n",
       "                        if (nbb_cells[i].get_text() == nbb_unformatted_code) {\n",
       "                             nbb_cells[i].set_text(nbb_formatted_code);\n",
       "                        }\n",
       "                        break;\n",
       "                    }\n",
       "                }\n",
       "            }, 500);\n",
       "            "
      ],
      "text/plain": [
       "<IPython.core.display.Javascript object>"
      ]
     },
     "metadata": {},
     "output_type": "display_data"
    }
   ],
   "source": [
    "@register_client\n",
    "class StubClient(BaseModel):\n",
    "    name: str = \"stub client\""
   ]
  },
  {
   "cell_type": "code",
   "execution_count": null,
   "id": "3ec9338a",
   "metadata": {},
   "outputs": [
    {
     "data": {
      "text/plain": [
       "{'StubClient': __main__.StubClient}"
      ]
     },
     "execution_count": null,
     "metadata": {},
     "output_type": "execute_result"
    },
    {
     "data": {
      "application/javascript": [
       "\n",
       "            setTimeout(function() {\n",
       "                var nbb_cell_id = 31;\n",
       "                var nbb_unformatted_code = \"CLIENT_CLASS_REGISTRY\";\n",
       "                var nbb_formatted_code = \"CLIENT_CLASS_REGISTRY\";\n",
       "                var nbb_cells = Jupyter.notebook.get_cells();\n",
       "                for (var i = 0; i < nbb_cells.length; ++i) {\n",
       "                    if (nbb_cells[i].input_prompt_number == nbb_cell_id) {\n",
       "                        if (nbb_cells[i].get_text() == nbb_unformatted_code) {\n",
       "                             nbb_cells[i].set_text(nbb_formatted_code);\n",
       "                        }\n",
       "                        break;\n",
       "                    }\n",
       "                }\n",
       "            }, 500);\n",
       "            "
      ],
      "text/plain": [
       "<IPython.core.display.Javascript object>"
      ]
     },
     "metadata": {},
     "output_type": "display_data"
    }
   ],
   "source": [
    "CLIENT_CLASS_REGISTRY"
   ]
  },
  {
   "cell_type": "markdown",
   "id": "6e13b93b",
   "metadata": {},
   "source": [
    "## Usage"
   ]
  },
  {
   "cell_type": "code",
   "execution_count": null,
   "id": "92b5b557",
   "metadata": {},
   "outputs": [
    {
     "data": {
      "application/javascript": [
       "\n",
       "            setTimeout(function() {\n",
       "                var nbb_cell_id = 32;\n",
       "                var nbb_unformatted_code = \"client = StubClient(name=\\\"foobar\\\")\\nclient_class = get_client_from_registry(client.__class__.__name__)\";\n",
       "                var nbb_formatted_code = \"client = StubClient(name=\\\"foobar\\\")\\nclient_class = get_client_from_registry(client.__class__.__name__)\";\n",
       "                var nbb_cells = Jupyter.notebook.get_cells();\n",
       "                for (var i = 0; i < nbb_cells.length; ++i) {\n",
       "                    if (nbb_cells[i].input_prompt_number == nbb_cell_id) {\n",
       "                        if (nbb_cells[i].get_text() == nbb_unformatted_code) {\n",
       "                             nbb_cells[i].set_text(nbb_formatted_code);\n",
       "                        }\n",
       "                        break;\n",
       "                    }\n",
       "                }\n",
       "            }, 500);\n",
       "            "
      ],
      "text/plain": [
       "<IPython.core.display.Javascript object>"
      ]
     },
     "metadata": {},
     "output_type": "display_data"
    }
   ],
   "source": [
    "client = StubClient(name=\"foobar\")\n",
    "client_class = get_client_from_registry(client.__class__.__name__)"
   ]
  },
  {
   "cell_type": "markdown",
   "id": "d657773b",
   "metadata": {},
   "source": [
    "## Tests"
   ]
  },
  {
   "cell_type": "code",
   "execution_count": null,
   "id": "c9632741",
   "metadata": {},
   "outputs": [
    {
     "data": {
      "application/javascript": [
       "\n",
       "            setTimeout(function() {\n",
       "                var nbb_cell_id = 34;\n",
       "                var nbb_unformatted_code = \"assert StubClient == get_client_from_registry(str(client.__class__.__name__))\";\n",
       "                var nbb_formatted_code = \"assert StubClient == get_client_from_registry(str(client.__class__.__name__))\";\n",
       "                var nbb_cells = Jupyter.notebook.get_cells();\n",
       "                for (var i = 0; i < nbb_cells.length; ++i) {\n",
       "                    if (nbb_cells[i].input_prompt_number == nbb_cell_id) {\n",
       "                        if (nbb_cells[i].get_text() == nbb_unformatted_code) {\n",
       "                             nbb_cells[i].set_text(nbb_formatted_code);\n",
       "                        }\n",
       "                        break;\n",
       "                    }\n",
       "                }\n",
       "            }, 500);\n",
       "            "
      ],
      "text/plain": [
       "<IPython.core.display.Javascript object>"
      ]
     },
     "metadata": {},
     "output_type": "display_data"
    }
   ],
   "source": [
    "assert StubClient == get_client_from_registry(str(client.__class__.__name__))"
   ]
  },
  {
   "cell_type": "code",
   "execution_count": null,
   "id": "cf86a687",
   "metadata": {},
   "outputs": [
    {
     "data": {
      "application/javascript": [
       "\n",
       "            setTimeout(function() {\n",
       "                var nbb_cell_id = 36;\n",
       "                var nbb_unformatted_code = \"client = StubClient(name=\\\"foobar\\\")\\nassert get_client_from_registry(\\\"StubClient\\\") == StubClient\";\n",
       "                var nbb_formatted_code = \"client = StubClient(name=\\\"foobar\\\")\\nassert get_client_from_registry(\\\"StubClient\\\") == StubClient\";\n",
       "                var nbb_cells = Jupyter.notebook.get_cells();\n",
       "                for (var i = 0; i < nbb_cells.length; ++i) {\n",
       "                    if (nbb_cells[i].input_prompt_number == nbb_cell_id) {\n",
       "                        if (nbb_cells[i].get_text() == nbb_unformatted_code) {\n",
       "                             nbb_cells[i].set_text(nbb_formatted_code);\n",
       "                        }\n",
       "                        break;\n",
       "                    }\n",
       "                }\n",
       "            }, 500);\n",
       "            "
      ],
      "text/plain": [
       "<IPython.core.display.Javascript object>"
      ]
     },
     "metadata": {},
     "output_type": "display_data"
    }
   ],
   "source": [
    "client = StubClient(name=\"foobar\")\n",
    "assert get_client_from_registry(\"StubClient\") == StubClient"
   ]
  },
  {
   "cell_type": "markdown",
   "id": "warming-survey",
   "metadata": {},
   "source": [
    "# Clients"
   ]
  },
  {
   "cell_type": "code",
   "execution_count": null,
   "id": "cosmetic-powder",
   "metadata": {},
   "outputs": [
    {
     "data": {
      "application/javascript": [
       "\n",
       "            setTimeout(function() {\n",
       "                var nbb_cell_id = 52;\n",
       "                var nbb_unformatted_code = \"# export\\n\\nfrom pydantic import BaseModel\\n\\nfrom will_it_saturate.files import calculate_checksum\\n\\n\\n@register_client\\nclass BaseClient(BaseModel):\\n    name: str = \\\"base_client\\\"\\n\\n    def verify_checksums(self, epoch, responses):\\n        checksum_lookup = {}\\n        for response in responses:\\n            url = str(response.url)\\n            checksum_lookup[url] = calculate_checksum(response.content)\\n\\n        for bf, url in zip(epoch.files, epoch.urls):\\n            looked_up_checksum = checksum_lookup.get(url, None)\\n            if bf.checksum != looked_up_checksum:\\n                print(bf.checksum, looked_up_checksum, url)\\n\\n            assert bf.checksum == looked_up_checksum\\n\\n    def params(self):\\n        return {\\\"class_name\\\": self.__class__.__name__, \\\"name\\\": self.name}\";\n",
       "                var nbb_formatted_code = \"# export\\n\\nfrom pydantic import BaseModel\\n\\nfrom will_it_saturate.files import calculate_checksum\\n\\n\\n@register_client\\nclass BaseClient(BaseModel):\\n    name: str = \\\"base_client\\\"\\n\\n    def verify_checksums(self, epoch, responses):\\n        checksum_lookup = {}\\n        for response in responses:\\n            url = str(response.url)\\n            checksum_lookup[url] = calculate_checksum(response.content)\\n\\n        for bf, url in zip(epoch.files, epoch.urls):\\n            looked_up_checksum = checksum_lookup.get(url, None)\\n            if bf.checksum != looked_up_checksum:\\n                print(bf.checksum, looked_up_checksum, url)\\n\\n            assert bf.checksum == looked_up_checksum\\n\\n    def params(self):\\n        return {\\\"class_name\\\": self.__class__.__name__, \\\"name\\\": self.name}\";\n",
       "                var nbb_cells = Jupyter.notebook.get_cells();\n",
       "                for (var i = 0; i < nbb_cells.length; ++i) {\n",
       "                    if (nbb_cells[i].input_prompt_number == nbb_cell_id) {\n",
       "                        if (nbb_cells[i].get_text() == nbb_unformatted_code) {\n",
       "                             nbb_cells[i].set_text(nbb_formatted_code);\n",
       "                        }\n",
       "                        break;\n",
       "                    }\n",
       "                }\n",
       "            }, 500);\n",
       "            "
      ],
      "text/plain": [
       "<IPython.core.display.Javascript object>"
      ]
     },
     "metadata": {},
     "output_type": "display_data"
    }
   ],
   "source": [
    "# export\n",
    "\n",
    "from will_it_saturate.files import calculate_checksum\n",
    "\n",
    "\n",
    "@register_client\n",
    "class BaseClient(BaseModel):\n",
    "    name: str = \"base_client\"\n",
    "\n",
    "    def verify_checksums(self, epoch, responses):\n",
    "        checksum_lookup = {}\n",
    "        for response in responses:\n",
    "            url = str(response.url)\n",
    "            checksum_lookup[url] = calculate_checksum(response.content)\n",
    "\n",
    "        for bf, url in zip(epoch.files, epoch.urls):\n",
    "            looked_up_checksum = checksum_lookup.get(url, None)\n",
    "            if bf.checksum != looked_up_checksum:\n",
    "                print(bf.checksum, looked_up_checksum, url)\n",
    "\n",
    "            assert bf.checksum == looked_up_checksum\n",
    "\n",
    "    def params(self):\n",
    "        return {\"class_name\": self.__class__.__name__, \"name\": self.name}"
   ]
  },
  {
   "cell_type": "markdown",
   "id": "modular-child",
   "metadata": {},
   "source": [
    "## Usage"
   ]
  },
  {
   "cell_type": "code",
   "execution_count": null,
   "id": "blind-offense",
   "metadata": {},
   "outputs": [
    {
     "data": {
      "application/javascript": [
       "\n",
       "            setTimeout(function() {\n",
       "                var nbb_cell_id = 53;\n",
       "                var nbb_unformatted_code = \"name = \\\"Httpx\\\"\\nclient = BaseClient(name=name)\";\n",
       "                var nbb_formatted_code = \"name = \\\"Httpx\\\"\\nclient = BaseClient(name=name)\";\n",
       "                var nbb_cells = Jupyter.notebook.get_cells();\n",
       "                for (var i = 0; i < nbb_cells.length; ++i) {\n",
       "                    if (nbb_cells[i].input_prompt_number == nbb_cell_id) {\n",
       "                        if (nbb_cells[i].get_text() == nbb_unformatted_code) {\n",
       "                             nbb_cells[i].set_text(nbb_formatted_code);\n",
       "                        }\n",
       "                        break;\n",
       "                    }\n",
       "                }\n",
       "            }, 500);\n",
       "            "
      ],
      "text/plain": [
       "<IPython.core.display.Javascript object>"
      ]
     },
     "metadata": {},
     "output_type": "display_data"
    }
   ],
   "source": [
    "name = \"Httpx\"\n",
    "client = BaseClient(name=name)"
   ]
  },
  {
   "cell_type": "markdown",
   "id": "directed-halifax",
   "metadata": {},
   "source": [
    "## Tests"
   ]
  },
  {
   "cell_type": "code",
   "execution_count": null,
   "id": "changed-moscow",
   "metadata": {},
   "outputs": [
    {
     "data": {
      "application/javascript": [
       "\n",
       "            setTimeout(function() {\n",
       "                var nbb_cell_id = 54;\n",
       "                var nbb_unformatted_code = \"name = \\\"Httpx\\\"\\nclient = BaseClient(name=name)\\n\\nassert client.name == name\\nassert \\\"BaseClient\\\" == client.params()[\\\"class_name\\\"]\";\n",
       "                var nbb_formatted_code = \"name = \\\"Httpx\\\"\\nclient = BaseClient(name=name)\\n\\nassert client.name == name\\nassert \\\"BaseClient\\\" == client.params()[\\\"class_name\\\"]\";\n",
       "                var nbb_cells = Jupyter.notebook.get_cells();\n",
       "                for (var i = 0; i < nbb_cells.length; ++i) {\n",
       "                    if (nbb_cells[i].input_prompt_number == nbb_cell_id) {\n",
       "                        if (nbb_cells[i].get_text() == nbb_unformatted_code) {\n",
       "                             nbb_cells[i].set_text(nbb_formatted_code);\n",
       "                        }\n",
       "                        break;\n",
       "                    }\n",
       "                }\n",
       "            }, 500);\n",
       "            "
      ],
      "text/plain": [
       "<IPython.core.display.Javascript object>"
      ]
     },
     "metadata": {},
     "output_type": "display_data"
    }
   ],
   "source": [
    "name = \"Httpx\"\n",
    "client = BaseClient(name=name)\n",
    "\n",
    "assert client.name == name\n",
    "assert \"BaseClient\" == client.params()[\"class_name\"]"
   ]
  },
  {
   "cell_type": "code",
   "execution_count": null,
   "id": "julian-seattle",
   "metadata": {},
   "outputs": [
    {
     "data": {
      "application/javascript": [
       "\n",
       "            setTimeout(function() {\n",
       "                var nbb_cell_id = 55;\n",
       "                var nbb_unformatted_code = \"class StubResponse:\\n    url = \\\"foobar\\\"\\n    content = b\\\"asdf\\\"\\n\\n\\nclass StubFile:\\n    checksum = \\\"912ec803b2ce49e4a541068d495ab570\\\"\\n\\n\\nclass StubEpoch:\\n    files = [StubFile()]\\n    urls = [\\\"foobar\\\"]\\n\\n\\nclient.verify_checksums(StubEpoch(), [StubResponse()])\";\n",
       "                var nbb_formatted_code = \"class StubResponse:\\n    url = \\\"foobar\\\"\\n    content = b\\\"asdf\\\"\\n\\n\\nclass StubFile:\\n    checksum = \\\"912ec803b2ce49e4a541068d495ab570\\\"\\n\\n\\nclass StubEpoch:\\n    files = [StubFile()]\\n    urls = [\\\"foobar\\\"]\\n\\n\\nclient.verify_checksums(StubEpoch(), [StubResponse()])\";\n",
       "                var nbb_cells = Jupyter.notebook.get_cells();\n",
       "                for (var i = 0; i < nbb_cells.length; ++i) {\n",
       "                    if (nbb_cells[i].input_prompt_number == nbb_cell_id) {\n",
       "                        if (nbb_cells[i].get_text() == nbb_unformatted_code) {\n",
       "                             nbb_cells[i].set_text(nbb_formatted_code);\n",
       "                        }\n",
       "                        break;\n",
       "                    }\n",
       "                }\n",
       "            }, 500);\n",
       "            "
      ],
      "text/plain": [
       "<IPython.core.display.Javascript object>"
      ]
     },
     "metadata": {},
     "output_type": "display_data"
    }
   ],
   "source": [
    "class StubResponse:\n",
    "    url = \"foobar\"\n",
    "    content = b\"asdf\"\n",
    "\n",
    "\n",
    "class StubFile:\n",
    "    checksum = \"912ec803b2ce49e4a541068d495ab570\"\n",
    "\n",
    "\n",
    "class StubEpoch:\n",
    "    files = [StubFile()]\n",
    "    urls = [\"foobar\"]\n",
    "\n",
    "\n",
    "client.verify_checksums(StubEpoch(), [StubResponse()])"
   ]
  },
  {
   "cell_type": "markdown",
   "id": "22ed7ea8",
   "metadata": {},
   "source": [
    "# Client Parameter Models\n",
    "\n",
    "They are used to transfer clients via json. It's not clear which Client should be created when we accept a BaseClient. Therefore we transfer a client_parameter instance and have a lookup table to choose the right client."
   ]
  },
  {
   "cell_type": "code",
   "execution_count": null,
   "id": "a4f65557",
   "metadata": {},
   "outputs": [
    {
     "data": {
      "application/javascript": [
       "\n",
       "            setTimeout(function() {\n",
       "                var nbb_cell_id = 10;\n",
       "                var nbb_unformatted_code = \"# export\\n\\n\\nclass ClientParameters(BaseModel):\\n    class_name: str\\n    name: str\\n\\n    def client(self):\\n        return get_client_from_registry(self.class_name)(**self.dict())\";\n",
       "                var nbb_formatted_code = \"# export\\n\\n\\nclass ClientParameters(BaseModel):\\n    class_name: str\\n    name: str\\n\\n    def client(self):\\n        return get_client_from_registry(self.class_name)(**self.dict())\";\n",
       "                var nbb_cells = Jupyter.notebook.get_cells();\n",
       "                for (var i = 0; i < nbb_cells.length; ++i) {\n",
       "                    if (nbb_cells[i].input_prompt_number == nbb_cell_id) {\n",
       "                        if (nbb_cells[i].get_text() == nbb_unformatted_code) {\n",
       "                             nbb_cells[i].set_text(nbb_formatted_code);\n",
       "                        }\n",
       "                        break;\n",
       "                    }\n",
       "                }\n",
       "            }, 500);\n",
       "            "
      ],
      "text/plain": [
       "<IPython.core.display.Javascript object>"
      ]
     },
     "metadata": {},
     "output_type": "display_data"
    }
   ],
   "source": [
    "# export\n",
    "\n",
    "\n",
    "class ClientParameters(BaseModel):\n",
    "    class_name: str\n",
    "    name: str\n",
    "\n",
    "    def client(self):\n",
    "        return get_client_from_registry(self.class_name)(**self.dict())"
   ]
  },
  {
   "cell_type": "markdown",
   "id": "7c8d9735",
   "metadata": {},
   "source": [
    "## Usage"
   ]
  },
  {
   "cell_type": "code",
   "execution_count": null,
   "id": "55b35a88",
   "metadata": {},
   "outputs": [
    {
     "data": {
      "application/javascript": [
       "\n",
       "            setTimeout(function() {\n",
       "                var nbb_cell_id = 11;\n",
       "                var nbb_unformatted_code = \"name = \\\"Httpx\\\"\\nclient = BaseClient(name=name)\\n\\nclient_parameters = ClientParameters(**client.params())\\n\\nclient_from_params = client_parameters.client()\";\n",
       "                var nbb_formatted_code = \"name = \\\"Httpx\\\"\\nclient = BaseClient(name=name)\\n\\nclient_parameters = ClientParameters(**client.params())\\n\\nclient_from_params = client_parameters.client()\";\n",
       "                var nbb_cells = Jupyter.notebook.get_cells();\n",
       "                for (var i = 0; i < nbb_cells.length; ++i) {\n",
       "                    if (nbb_cells[i].input_prompt_number == nbb_cell_id) {\n",
       "                        if (nbb_cells[i].get_text() == nbb_unformatted_code) {\n",
       "                             nbb_cells[i].set_text(nbb_formatted_code);\n",
       "                        }\n",
       "                        break;\n",
       "                    }\n",
       "                }\n",
       "            }, 500);\n",
       "            "
      ],
      "text/plain": [
       "<IPython.core.display.Javascript object>"
      ]
     },
     "metadata": {},
     "output_type": "display_data"
    }
   ],
   "source": [
    "name = \"Httpx\"\n",
    "client = BaseClient(name=name)\n",
    "\n",
    "client_parameters = ClientParameters(**client.params())\n",
    "\n",
    "client_from_params = client_parameters.client()"
   ]
  },
  {
   "cell_type": "markdown",
   "id": "81cfc0ee",
   "metadata": {},
   "source": [
    "## Tests"
   ]
  },
  {
   "cell_type": "code",
   "execution_count": null,
   "id": "23b0a75b",
   "metadata": {},
   "outputs": [
    {
     "data": {
      "application/javascript": [
       "\n",
       "            setTimeout(function() {\n",
       "                var nbb_cell_id = 12;\n",
       "                var nbb_unformatted_code = \"assert client_from_params == client\";\n",
       "                var nbb_formatted_code = \"assert client_from_params == client\";\n",
       "                var nbb_cells = Jupyter.notebook.get_cells();\n",
       "                for (var i = 0; i < nbb_cells.length; ++i) {\n",
       "                    if (nbb_cells[i].input_prompt_number == nbb_cell_id) {\n",
       "                        if (nbb_cells[i].get_text() == nbb_unformatted_code) {\n",
       "                             nbb_cells[i].set_text(nbb_formatted_code);\n",
       "                        }\n",
       "                        break;\n",
       "                    }\n",
       "                }\n",
       "            }, 500);\n",
       "            "
      ],
      "text/plain": [
       "<IPython.core.display.Javascript object>"
      ]
     },
     "metadata": {},
     "output_type": "display_data"
    }
   ],
   "source": [
    "assert client_from_params == client"
   ]
  },
  {
   "cell_type": "markdown",
   "id": "electronic-tampa",
   "metadata": {},
   "source": [
    "# Export"
   ]
  },
  {
   "cell_type": "code",
   "execution_count": null,
   "id": "cooked-image",
   "metadata": {},
   "outputs": [
    {
     "name": "stdout",
     "output_type": "stream",
     "text": [
      "Converted 00_host.ipynb.\n",
      "Converted 01_django_views.ipynb.\n",
      "Converted 01_fastapi_views.ipynb.\n",
      "Converted 01_file.ipynb.\n",
      "Converted 05_epochs.ipynb.\n",
      "Converted 06_results.ipynb.\n",
      "Converted 25_core.ipynb.\n",
      "Converted 27_control_server.ipynb.\n",
      "Converted 28_control_client.ipynb.\n",
      "Converted 29_control_cli.ipynb.\n",
      "Converted 30_servers.ipynb.\n",
      "Converted 31_local_servers.ipynb.\n",
      "Converted 32_docker_servers.ipynb.\n",
      "Converted 40_clients.ipynb.\n",
      "Converted 41_benchmark_clients.ipynb.\n",
      "Converted 70_repositories.ipynb.\n",
      "Converted 71_sqlite_repository.ipynb.\n",
      "Converted 90_benchmark_without_benchmark.ipynb.\n",
      "Converted 98_run_benchmark.ipynb.\n",
      "Converted index.ipynb.\n"
     ]
    }
   ],
   "source": [
    "# dont_test\n",
    "\n",
    "from nbdev.export import notebook2script\n",
    "\n",
    "notebook2script()"
   ]
  },
  {
   "cell_type": "code",
   "execution_count": null,
   "id": "02d5db12",
   "metadata": {},
   "outputs": [],
   "source": []
  }
 ],
 "metadata": {
  "kernelspec": {
   "display_name": "Python 3",
   "language": "python",
   "name": "python3"
  }
 },
 "nbformat": 4,
 "nbformat_minor": 5
}
