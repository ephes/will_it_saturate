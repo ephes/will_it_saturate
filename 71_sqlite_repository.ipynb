{
 "cells": [
  {
   "cell_type": "code",
   "execution_count": null,
   "id": "basic-underwear",
   "metadata": {},
   "outputs": [
    {
     "data": {
      "application/javascript": [
       "\n",
       "            setTimeout(function() {\n",
       "                var nbb_cell_id = 1;\n",
       "                var nbb_unformatted_code = \"%load_ext nb_black\";\n",
       "                var nbb_formatted_code = \"%load_ext nb_black\";\n",
       "                var nbb_cells = Jupyter.notebook.get_cells();\n",
       "                for (var i = 0; i < nbb_cells.length; ++i) {\n",
       "                    if (nbb_cells[i].input_prompt_number == nbb_cell_id) {\n",
       "                        if (nbb_cells[i].get_text() == nbb_unformatted_code) {\n",
       "                             nbb_cells[i].set_text(nbb_formatted_code);\n",
       "                        }\n",
       "                        break;\n",
       "                    }\n",
       "                }\n",
       "            }, 500);\n",
       "            "
      ],
      "text/plain": [
       "<IPython.core.display.Javascript object>"
      ]
     },
     "metadata": {},
     "output_type": "display_data"
    }
   ],
   "source": [
    "%load_ext nb_black"
   ]
  },
  {
   "cell_type": "code",
   "execution_count": null,
   "id": "moving-sherman",
   "metadata": {},
   "outputs": [
    {
     "data": {
      "application/javascript": [
       "\n",
       "            setTimeout(function() {\n",
       "                var nbb_cell_id = 2;\n",
       "                var nbb_unformatted_code = \"# default_exp repositories\";\n",
       "                var nbb_formatted_code = \"# default_exp repositories\";\n",
       "                var nbb_cells = Jupyter.notebook.get_cells();\n",
       "                for (var i = 0; i < nbb_cells.length; ++i) {\n",
       "                    if (nbb_cells[i].input_prompt_number == nbb_cell_id) {\n",
       "                        if (nbb_cells[i].get_text() == nbb_unformatted_code) {\n",
       "                             nbb_cells[i].set_text(nbb_formatted_code);\n",
       "                        }\n",
       "                        break;\n",
       "                    }\n",
       "                }\n",
       "            }, 500);\n",
       "            "
      ],
      "text/plain": [
       "<IPython.core.display.Javascript object>"
      ]
     },
     "metadata": {},
     "output_type": "display_data"
    }
   ],
   "source": [
    "# default_exp repositories"
   ]
  },
  {
   "cell_type": "code",
   "execution_count": null,
   "id": "absent-venezuela",
   "metadata": {},
   "outputs": [
    {
     "data": {
      "application/javascript": [
       "\n",
       "            setTimeout(function() {\n",
       "                var nbb_cell_id = 3;\n",
       "                var nbb_unformatted_code = \"from will_it_saturate.repositories import BaseRepository\";\n",
       "                var nbb_formatted_code = \"from will_it_saturate.repositories import BaseRepository\";\n",
       "                var nbb_cells = Jupyter.notebook.get_cells();\n",
       "                for (var i = 0; i < nbb_cells.length; ++i) {\n",
       "                    if (nbb_cells[i].input_prompt_number == nbb_cell_id) {\n",
       "                        if (nbb_cells[i].get_text() == nbb_unformatted_code) {\n",
       "                             nbb_cells[i].set_text(nbb_formatted_code);\n",
       "                        }\n",
       "                        break;\n",
       "                    }\n",
       "                }\n",
       "            }, 500);\n",
       "            "
      ],
      "text/plain": [
       "<IPython.core.display.Javascript object>"
      ]
     },
     "metadata": {},
     "output_type": "display_data"
    }
   ],
   "source": [
    "from will_it_saturate.repositories import BaseRepository"
   ]
  },
  {
   "cell_type": "code",
   "execution_count": null,
   "id": "integrated-customs",
   "metadata": {},
   "outputs": [
    {
     "data": {
      "application/javascript": [
       "\n",
       "            setTimeout(function() {\n",
       "                var nbb_cell_id = 4;\n",
       "                var nbb_unformatted_code = \"# export\\n\\nimport json\\nimport sqlite3\\n\\n\\nclass SqliteRepository(BaseRepository):\\n    connection: sqlite3.Connection\\n\\n    class Config:\\n        arbitrary_types_allowed = True\\n\\n    def execute_stmt(self, stmt, ignore_error=False):\\n        cursor = self.connection.cursor()\\n        try:\\n            cursor.execute(stmt)\\n        except sqlite3.OperationalError as exc:\\n            if not ignore_error:\\n                raise (exc)\\n\\n    def create_benchmark_table(self):\\n        stmt = \\\"\\\"\\\"\\n            create table benchmark (\\n                benchmark_id INTEGER PRIMARY KEY,\\n                created DATE DEFAULT (datetime('now','localtime')),\\n                machine_id TEXT NOT NULL UNIQUE,\\n                uname TEXT NOT NULL,\\n                data TEXT NOT NULL\\n            )\\n        \\\"\\\"\\\"\\n        self.execute_stmt(stmt, ignore_error=True)\\n\\n    def create_result_table(self):\\n        stmt = \\\"\\\"\\\"\\n            create table result (\\n                result_id INTEGER PRIMARY KEY,\\n                benchmark_id integer not NULL,\\n                created DATE DEFAULT (datetime('now','localtime')),\\n                server text not NULL,\\n                client text not NULL,\\n                file_size integer not NULL,\\n                complete_size integer not NULL,\\n                elapsed real not NULL,\\n                FOREIGN KEY(benchmark_id) REFERENCES benchmark(benchmark_id)\\n            )\\n        \\\"\\\"\\\"\\n        self.execute_stmt(stmt, ignore_error=True)\\n\\n    def create_tables(self):\\n        self.create_benchmark_table()\\n        self.create_result_table()\\n\\n    def add_benchmark(self, benchmark):\\n        stmt = \\\"\\\"\\\"\\n            insert into benchmark (machine_id, uname, data)\\n            values (?, ?, ?)\\n        \\\"\\\"\\\"\\n        cursor = self.connection.cursor()\\n        machine_id = benchmark.machine_id\\n        uname = benchmark.uname_json\\n        data = benchmark.json()\\n        try:\\n            cursor = cursor.execute(stmt, [machine_id, uname, data])\\n        except sqlite3.IntegrityError as e:\\n            pass\\n        self.connection.commit()\\n\\n    def get_benchmark(self, benchmark):\\n        stmt = \\\"\\\"\\\"\\n            select *\\n              from benchmark\\n             where machine_id=?\\n        \\\"\\\"\\\"\\n        cursor = self.connection.cursor()\\n        cursor.execute(stmt, [benchmark.machine_id])\\n        return cursor.fetchone()\\n\\n    def get_benchmark_id(self, benchmark):\\n        row = self.get_benchmark(benchmark)\\n        if row is None:\\n            return row\\n        return row[0]\\n\\n    def get_result(self, benchmark, result):\\n        benchmark_id = self.get_benchmark_id(benchmark)\\n        if benchmark_id is None:\\n            self.add_benchmark(benchmark)\\n        benchmark_id = self.get_benchmark_id(benchmark)\\n        assert benchmark_id is not None\\n        stmt = \\\"\\\"\\\"\\n            select *\\n              from result\\n             where benchmark_id=?\\n               and server=?\\n               and client=?\\n               and file_size=?\\n               and complete_size=?\\n        \\\"\\\"\\\"\\n        cursor = self.connection.cursor()\\n        cursor.execute(\\n            stmt,\\n            [\\n                benchmark_id,\\n                result.server,\\n                result.client,\\n                result.file_size,\\n                result.complete_size,\\n            ],\\n        )\\n        row = cursor.fetchone()\\n        if row is None:\\n            return result\\n        result.elapsed = row[7]\\n        return result\\n\\n    def add_result(self, benchmark, result):\\n        benchmark_id = self.get_benchmark_id(benchmark)\\n        columns = [\\n            \\\"benchmark_id\\\",\\n            \\\"server\\\",\\n            \\\"client\\\",\\n            \\\"file_size\\\",\\n            \\\"complete_size\\\",\\n            \\\"elapsed\\\",\\n        ]\\n        columns_str = \\\",\\\".join(columns)\\n        values_str = \\\",\\\".join([\\\"?\\\" for c in columns])\\n        stmt = f\\\"\\\"\\\"\\n            insert into result ({columns_str})\\n            values ({values_str})\\n        \\\"\\\"\\\"\\n        cursor = self.connection.cursor()\\n        result_dict = result.dict()\\n        result_dict[\\\"benchmark_id\\\"] = benchmark_id\\n        values = [result_dict[c] for c in columns]\\n        try:\\n            cursor = cursor.execute(stmt, values)\\n        except sqlite3.IntegrityError as e:\\n            pass\\n        self.connection.commit()\\n\\n    @classmethod\\n    def build_repository(cls, database_name):\\n        conn = sqlite3.connect(database_name)\\n        repo = cls(connection=conn)\\n        repo.create_tables()\\n        return repo\";\n",
       "                var nbb_formatted_code = \"# export\\n\\nimport json\\nimport sqlite3\\n\\n\\nclass SqliteRepository(BaseRepository):\\n    connection: sqlite3.Connection\\n\\n    class Config:\\n        arbitrary_types_allowed = True\\n\\n    def execute_stmt(self, stmt, ignore_error=False):\\n        cursor = self.connection.cursor()\\n        try:\\n            cursor.execute(stmt)\\n        except sqlite3.OperationalError as exc:\\n            if not ignore_error:\\n                raise (exc)\\n\\n    def create_benchmark_table(self):\\n        stmt = \\\"\\\"\\\"\\n            create table benchmark (\\n                benchmark_id INTEGER PRIMARY KEY,\\n                created DATE DEFAULT (datetime('now','localtime')),\\n                machine_id TEXT NOT NULL UNIQUE,\\n                uname TEXT NOT NULL,\\n                data TEXT NOT NULL\\n            )\\n        \\\"\\\"\\\"\\n        self.execute_stmt(stmt, ignore_error=True)\\n\\n    def create_result_table(self):\\n        stmt = \\\"\\\"\\\"\\n            create table result (\\n                result_id INTEGER PRIMARY KEY,\\n                benchmark_id integer not NULL,\\n                created DATE DEFAULT (datetime('now','localtime')),\\n                server text not NULL,\\n                client text not NULL,\\n                file_size integer not NULL,\\n                complete_size integer not NULL,\\n                elapsed real not NULL,\\n                FOREIGN KEY(benchmark_id) REFERENCES benchmark(benchmark_id)\\n            )\\n        \\\"\\\"\\\"\\n        self.execute_stmt(stmt, ignore_error=True)\\n\\n    def create_tables(self):\\n        self.create_benchmark_table()\\n        self.create_result_table()\\n\\n    def add_benchmark(self, benchmark):\\n        stmt = \\\"\\\"\\\"\\n            insert into benchmark (machine_id, uname, data)\\n            values (?, ?, ?)\\n        \\\"\\\"\\\"\\n        cursor = self.connection.cursor()\\n        machine_id = benchmark.machine_id\\n        uname = benchmark.uname_json\\n        data = benchmark.json()\\n        try:\\n            cursor = cursor.execute(stmt, [machine_id, uname, data])\\n        except sqlite3.IntegrityError as e:\\n            pass\\n        self.connection.commit()\\n\\n    def get_benchmark(self, benchmark):\\n        stmt = \\\"\\\"\\\"\\n            select *\\n              from benchmark\\n             where machine_id=?\\n        \\\"\\\"\\\"\\n        cursor = self.connection.cursor()\\n        cursor.execute(stmt, [benchmark.machine_id])\\n        return cursor.fetchone()\\n\\n    def get_benchmark_id(self, benchmark):\\n        row = self.get_benchmark(benchmark)\\n        if row is None:\\n            return row\\n        return row[0]\\n\\n    def get_result(self, benchmark, result):\\n        benchmark_id = self.get_benchmark_id(benchmark)\\n        if benchmark_id is None:\\n            self.add_benchmark(benchmark)\\n        benchmark_id = self.get_benchmark_id(benchmark)\\n        assert benchmark_id is not None\\n        stmt = \\\"\\\"\\\"\\n            select *\\n              from result\\n             where benchmark_id=?\\n               and server=?\\n               and client=?\\n               and file_size=?\\n               and complete_size=?\\n        \\\"\\\"\\\"\\n        cursor = self.connection.cursor()\\n        cursor.execute(\\n            stmt,\\n            [\\n                benchmark_id,\\n                result.server,\\n                result.client,\\n                result.file_size,\\n                result.complete_size,\\n            ],\\n        )\\n        row = cursor.fetchone()\\n        if row is None:\\n            return result\\n        result.elapsed = row[7]\\n        return result\\n\\n    def add_result(self, benchmark, result):\\n        benchmark_id = self.get_benchmark_id(benchmark)\\n        columns = [\\n            \\\"benchmark_id\\\",\\n            \\\"server\\\",\\n            \\\"client\\\",\\n            \\\"file_size\\\",\\n            \\\"complete_size\\\",\\n            \\\"elapsed\\\",\\n        ]\\n        columns_str = \\\",\\\".join(columns)\\n        values_str = \\\",\\\".join([\\\"?\\\" for c in columns])\\n        stmt = f\\\"\\\"\\\"\\n            insert into result ({columns_str})\\n            values ({values_str})\\n        \\\"\\\"\\\"\\n        cursor = self.connection.cursor()\\n        result_dict = result.dict()\\n        result_dict[\\\"benchmark_id\\\"] = benchmark_id\\n        values = [result_dict[c] for c in columns]\\n        try:\\n            cursor = cursor.execute(stmt, values)\\n        except sqlite3.IntegrityError as e:\\n            pass\\n        self.connection.commit()\\n\\n    @classmethod\\n    def build_repository(cls, database_name):\\n        conn = sqlite3.connect(database_name)\\n        repo = cls(connection=conn)\\n        repo.create_tables()\\n        return repo\";\n",
       "                var nbb_cells = Jupyter.notebook.get_cells();\n",
       "                for (var i = 0; i < nbb_cells.length; ++i) {\n",
       "                    if (nbb_cells[i].input_prompt_number == nbb_cell_id) {\n",
       "                        if (nbb_cells[i].get_text() == nbb_unformatted_code) {\n",
       "                             nbb_cells[i].set_text(nbb_formatted_code);\n",
       "                        }\n",
       "                        break;\n",
       "                    }\n",
       "                }\n",
       "            }, 500);\n",
       "            "
      ],
      "text/plain": [
       "<IPython.core.display.Javascript object>"
      ]
     },
     "metadata": {},
     "output_type": "display_data"
    }
   ],
   "source": [
    "# export\n",
    "\n",
    "import json\n",
    "import sqlite3\n",
    "\n",
    "\n",
    "class SqliteRepository(BaseRepository):\n",
    "    connection: sqlite3.Connection\n",
    "\n",
    "    class Config:\n",
    "        arbitrary_types_allowed = True\n",
    "\n",
    "    def execute_stmt(self, stmt, ignore_error=False):\n",
    "        cursor = self.connection.cursor()\n",
    "        try:\n",
    "            cursor.execute(stmt)\n",
    "        except sqlite3.OperationalError as exc:\n",
    "            if not ignore_error:\n",
    "                raise (exc)\n",
    "\n",
    "    def create_benchmark_table(self):\n",
    "        stmt = \"\"\"\n",
    "            create table benchmark (\n",
    "                benchmark_id INTEGER PRIMARY KEY,\n",
    "                created DATE DEFAULT (datetime('now','localtime')),\n",
    "                machine_id TEXT NOT NULL UNIQUE,\n",
    "                uname TEXT NOT NULL,\n",
    "                data TEXT NOT NULL\n",
    "            )\n",
    "        \"\"\"\n",
    "        self.execute_stmt(stmt, ignore_error=True)\n",
    "\n",
    "    def create_result_table(self):\n",
    "        stmt = \"\"\"\n",
    "            create table result (\n",
    "                result_id INTEGER PRIMARY KEY,\n",
    "                benchmark_id integer not NULL,\n",
    "                created DATE DEFAULT (datetime('now','localtime')),\n",
    "                server text not NULL,\n",
    "                client text not NULL,\n",
    "                file_size integer not NULL,\n",
    "                complete_size integer not NULL,\n",
    "                elapsed real not NULL,\n",
    "                FOREIGN KEY(benchmark_id) REFERENCES benchmark(benchmark_id)\n",
    "            )\n",
    "        \"\"\"\n",
    "        self.execute_stmt(stmt, ignore_error=True)\n",
    "\n",
    "    def create_tables(self):\n",
    "        self.create_benchmark_table()\n",
    "        self.create_result_table()\n",
    "\n",
    "    def add_benchmark(self, benchmark):\n",
    "        stmt = \"\"\"\n",
    "            insert into benchmark (machine_id, uname, data)\n",
    "            values (?, ?, ?)\n",
    "        \"\"\"\n",
    "        cursor = self.connection.cursor()\n",
    "        machine_id = benchmark.machine_id\n",
    "        uname = benchmark.uname_json\n",
    "        data = benchmark.json()\n",
    "        try:\n",
    "            cursor = cursor.execute(stmt, [machine_id, uname, data])\n",
    "        except sqlite3.IntegrityError as e:\n",
    "            pass\n",
    "        self.connection.commit()\n",
    "\n",
    "    def get_benchmark(self, benchmark):\n",
    "        stmt = \"\"\"\n",
    "            select *\n",
    "              from benchmark\n",
    "             where machine_id=?\n",
    "        \"\"\"\n",
    "        cursor = self.connection.cursor()\n",
    "        cursor.execute(stmt, [benchmark.machine_id])\n",
    "        return cursor.fetchone()\n",
    "\n",
    "    def get_benchmark_id(self, benchmark):\n",
    "        row = self.get_benchmark(benchmark)\n",
    "        if row is None:\n",
    "            return row\n",
    "        return row[0]\n",
    "\n",
    "    def get_result(self, benchmark, result):\n",
    "        benchmark_id = self.get_benchmark_id(benchmark)\n",
    "        if benchmark_id is None:\n",
    "            self.add_benchmark(benchmark)\n",
    "        benchmark_id = self.get_benchmark_id(benchmark)\n",
    "        assert benchmark_id is not None\n",
    "        stmt = \"\"\"\n",
    "            select *\n",
    "              from result\n",
    "             where benchmark_id=?\n",
    "               and server=?\n",
    "               and client=?\n",
    "               and file_size=?\n",
    "               and complete_size=?\n",
    "        \"\"\"\n",
    "        cursor = self.connection.cursor()\n",
    "        cursor.execute(\n",
    "            stmt,\n",
    "            [\n",
    "                benchmark_id,\n",
    "                result.server,\n",
    "                result.client,\n",
    "                result.file_size,\n",
    "                result.complete_size,\n",
    "            ],\n",
    "        )\n",
    "        row = cursor.fetchone()\n",
    "        if row is None:\n",
    "            return result\n",
    "        result.elapsed = row[7]\n",
    "        return result\n",
    "\n",
    "    def add_result(self, benchmark, result):\n",
    "        benchmark_id = self.get_benchmark_id(benchmark)\n",
    "        columns = [\n",
    "            \"benchmark_id\",\n",
    "            \"server\",\n",
    "            \"client\",\n",
    "            \"file_size\",\n",
    "            \"complete_size\",\n",
    "            \"elapsed\",\n",
    "        ]\n",
    "        columns_str = \",\".join(columns)\n",
    "        values_str = \",\".join([\"?\" for c in columns])\n",
    "        stmt = f\"\"\"\n",
    "            insert into result ({columns_str})\n",
    "            values ({values_str})\n",
    "        \"\"\"\n",
    "        cursor = self.connection.cursor()\n",
    "        result_dict = result.dict()\n",
    "        result_dict[\"benchmark_id\"] = benchmark_id\n",
    "        values = [result_dict[c] for c in columns]\n",
    "        try:\n",
    "            cursor = cursor.execute(stmt, values)\n",
    "        except sqlite3.IntegrityError as e:\n",
    "            pass\n",
    "        self.connection.commit()\n",
    "\n",
    "    @classmethod\n",
    "    def build_repository(cls, database_name):\n",
    "        conn = sqlite3.connect(database_name)\n",
    "        repo = cls(connection=conn)\n",
    "        repo.create_tables()\n",
    "        return repo"
   ]
  },
  {
   "cell_type": "markdown",
   "id": "coated-consortium",
   "metadata": {},
   "source": [
    "# Usage"
   ]
  },
  {
   "cell_type": "code",
   "execution_count": null,
   "id": "constant-promise",
   "metadata": {},
   "outputs": [
    {
     "data": {
      "application/javascript": [
       "\n",
       "            setTimeout(function() {\n",
       "                var nbb_cell_id = 5;\n",
       "                var nbb_unformatted_code = \"conn = sqlite3.connect(\\\"example.db\\\")\\nrepo = SqliteRepository(connection=conn)\\nrepo.create_tables()\";\n",
       "                var nbb_formatted_code = \"conn = sqlite3.connect(\\\"example.db\\\")\\nrepo = SqliteRepository(connection=conn)\\nrepo.create_tables()\";\n",
       "                var nbb_cells = Jupyter.notebook.get_cells();\n",
       "                for (var i = 0; i < nbb_cells.length; ++i) {\n",
       "                    if (nbb_cells[i].input_prompt_number == nbb_cell_id) {\n",
       "                        if (nbb_cells[i].get_text() == nbb_unformatted_code) {\n",
       "                             nbb_cells[i].set_text(nbb_formatted_code);\n",
       "                        }\n",
       "                        break;\n",
       "                    }\n",
       "                }\n",
       "            }, 500);\n",
       "            "
      ],
      "text/plain": [
       "<IPython.core.display.Javascript object>"
      ]
     },
     "metadata": {},
     "output_type": "display_data"
    }
   ],
   "source": [
    "conn = sqlite3.connect(\"example.db\")\n",
    "repo = SqliteRepository(connection=conn)\n",
    "repo.create_tables()"
   ]
  },
  {
   "cell_type": "code",
   "execution_count": null,
   "id": "original-juice",
   "metadata": {},
   "outputs": [
    {
     "data": {
      "application/javascript": [
       "\n",
       "            setTimeout(function() {\n",
       "                var nbb_cell_id = 6;\n",
       "                var nbb_unformatted_code = \"from will_it_saturate.results import Result\\n\\n# from will_it_saturate.old_core import Benchmark\\n\\n# benchmark = Benchmark()\\n# benchmark = Benchmark()\\n# repo.add_benchmark(benchmark)\\n# repo.add_benchmark(benchmark)  # should not raise integrity exception\";\n",
       "                var nbb_formatted_code = \"from will_it_saturate.results import Result\\n\\n# from will_it_saturate.old_core import Benchmark\\n\\n# benchmark = Benchmark()\\n# benchmark = Benchmark()\\n# repo.add_benchmark(benchmark)\\n# repo.add_benchmark(benchmark)  # should not raise integrity exception\";\n",
       "                var nbb_cells = Jupyter.notebook.get_cells();\n",
       "                for (var i = 0; i < nbb_cells.length; ++i) {\n",
       "                    if (nbb_cells[i].input_prompt_number == nbb_cell_id) {\n",
       "                        if (nbb_cells[i].get_text() == nbb_unformatted_code) {\n",
       "                             nbb_cells[i].set_text(nbb_formatted_code);\n",
       "                        }\n",
       "                        break;\n",
       "                    }\n",
       "                }\n",
       "            }, 500);\n",
       "            "
      ],
      "text/plain": [
       "<IPython.core.display.Javascript object>"
      ]
     },
     "metadata": {},
     "output_type": "display_data"
    }
   ],
   "source": [
    "from will_it_saturate.results import Result\n",
    "\n",
    "# from will_it_saturate.old_core import Benchmark\n",
    "\n",
    "# benchmark = Benchmark()\n",
    "# benchmark = Benchmark()\n",
    "# repo.add_benchmark(benchmark)\n",
    "# repo.add_benchmark(benchmark)  # should not raise integrity exception"
   ]
  },
  {
   "cell_type": "code",
   "execution_count": null,
   "id": "proprietary-purchase",
   "metadata": {},
   "outputs": [
    {
     "data": {
      "application/javascript": [
       "\n",
       "            setTimeout(function() {\n",
       "                var nbb_cell_id = 7;\n",
       "                var nbb_unformatted_code = \"# repo.get_benchmark(benchmark)\";\n",
       "                var nbb_formatted_code = \"# repo.get_benchmark(benchmark)\";\n",
       "                var nbb_cells = Jupyter.notebook.get_cells();\n",
       "                for (var i = 0; i < nbb_cells.length; ++i) {\n",
       "                    if (nbb_cells[i].input_prompt_number == nbb_cell_id) {\n",
       "                        if (nbb_cells[i].get_text() == nbb_unformatted_code) {\n",
       "                             nbb_cells[i].set_text(nbb_formatted_code);\n",
       "                        }\n",
       "                        break;\n",
       "                    }\n",
       "                }\n",
       "            }, 500);\n",
       "            "
      ],
      "text/plain": [
       "<IPython.core.display.Javascript object>"
      ]
     },
     "metadata": {},
     "output_type": "display_data"
    }
   ],
   "source": [
    "# repo.get_benchmark(benchmark)"
   ]
  },
  {
   "cell_type": "code",
   "execution_count": null,
   "id": "static-audio",
   "metadata": {},
   "outputs": [
    {
     "data": {
      "application/javascript": [
       "\n",
       "            setTimeout(function() {\n",
       "                var nbb_cell_id = 8;\n",
       "                var nbb_unformatted_code = \"# benchmark.json()\";\n",
       "                var nbb_formatted_code = \"# benchmark.json()\";\n",
       "                var nbb_cells = Jupyter.notebook.get_cells();\n",
       "                for (var i = 0; i < nbb_cells.length; ++i) {\n",
       "                    if (nbb_cells[i].input_prompt_number == nbb_cell_id) {\n",
       "                        if (nbb_cells[i].get_text() == nbb_unformatted_code) {\n",
       "                             nbb_cells[i].set_text(nbb_formatted_code);\n",
       "                        }\n",
       "                        break;\n",
       "                    }\n",
       "                }\n",
       "            }, 500);\n",
       "            "
      ],
      "text/plain": [
       "<IPython.core.display.Javascript object>"
      ]
     },
     "metadata": {},
     "output_type": "display_data"
    }
   ],
   "source": [
    "# benchmark.json()"
   ]
  },
  {
   "cell_type": "code",
   "execution_count": null,
   "id": "tested-found",
   "metadata": {},
   "outputs": [
    {
     "data": {
      "application/javascript": [
       "\n",
       "            setTimeout(function() {\n",
       "                var nbb_cell_id = 9;\n",
       "                var nbb_unformatted_code = \"# repo.get_benchmark(benchmark)\";\n",
       "                var nbb_formatted_code = \"# repo.get_benchmark(benchmark)\";\n",
       "                var nbb_cells = Jupyter.notebook.get_cells();\n",
       "                for (var i = 0; i < nbb_cells.length; ++i) {\n",
       "                    if (nbb_cells[i].input_prompt_number == nbb_cell_id) {\n",
       "                        if (nbb_cells[i].get_text() == nbb_unformatted_code) {\n",
       "                             nbb_cells[i].set_text(nbb_formatted_code);\n",
       "                        }\n",
       "                        break;\n",
       "                    }\n",
       "                }\n",
       "            }, 500);\n",
       "            "
      ],
      "text/plain": [
       "<IPython.core.display.Javascript object>"
      ]
     },
     "metadata": {},
     "output_type": "display_data"
    }
   ],
   "source": [
    "# repo.get_benchmark(benchmark)"
   ]
  },
  {
   "cell_type": "code",
   "execution_count": null,
   "id": "selective-liberty",
   "metadata": {},
   "outputs": [
    {
     "data": {
      "application/javascript": [
       "\n",
       "            setTimeout(function() {\n",
       "                var nbb_cell_id = 10;\n",
       "                var nbb_unformatted_code = \"# benchmark.machine_id = \\\"foobar\\\"\";\n",
       "                var nbb_formatted_code = \"# benchmark.machine_id = \\\"foobar\\\"\";\n",
       "                var nbb_cells = Jupyter.notebook.get_cells();\n",
       "                for (var i = 0; i < nbb_cells.length; ++i) {\n",
       "                    if (nbb_cells[i].input_prompt_number == nbb_cell_id) {\n",
       "                        if (nbb_cells[i].get_text() == nbb_unformatted_code) {\n",
       "                             nbb_cells[i].set_text(nbb_formatted_code);\n",
       "                        }\n",
       "                        break;\n",
       "                    }\n",
       "                }\n",
       "            }, 500);\n",
       "            "
      ],
      "text/plain": [
       "<IPython.core.display.Javascript object>"
      ]
     },
     "metadata": {},
     "output_type": "display_data"
    }
   ],
   "source": [
    "# benchmark.machine_id = \"foobar\""
   ]
  },
  {
   "cell_type": "code",
   "execution_count": null,
   "id": "fitting-marketing",
   "metadata": {},
   "outputs": [
    {
     "data": {
      "application/javascript": [
       "\n",
       "            setTimeout(function() {\n",
       "                var nbb_cell_id = 11;\n",
       "                var nbb_unformatted_code = \"# file_size = 10 ** 6\\n# complete_size = 100 * file_size\\n# result = Result(\\n#     server=\\\"nginx\\\",\\n#     client=\\\"httpx\\\",\\n#     file_size=file_size,\\n#     complete_size=complete_size,\\n# )\\n\\n# result = repo.get_result(benchmark, result)\\n# print(result.elapsed)\";\n",
       "                var nbb_formatted_code = \"# file_size = 10 ** 6\\n# complete_size = 100 * file_size\\n# result = Result(\\n#     server=\\\"nginx\\\",\\n#     client=\\\"httpx\\\",\\n#     file_size=file_size,\\n#     complete_size=complete_size,\\n# )\\n\\n# result = repo.get_result(benchmark, result)\\n# print(result.elapsed)\";\n",
       "                var nbb_cells = Jupyter.notebook.get_cells();\n",
       "                for (var i = 0; i < nbb_cells.length; ++i) {\n",
       "                    if (nbb_cells[i].input_prompt_number == nbb_cell_id) {\n",
       "                        if (nbb_cells[i].get_text() == nbb_unformatted_code) {\n",
       "                             nbb_cells[i].set_text(nbb_formatted_code);\n",
       "                        }\n",
       "                        break;\n",
       "                    }\n",
       "                }\n",
       "            }, 500);\n",
       "            "
      ],
      "text/plain": [
       "<IPython.core.display.Javascript object>"
      ]
     },
     "metadata": {},
     "output_type": "display_data"
    }
   ],
   "source": [
    "# file_size = 10 ** 6\n",
    "# complete_size = 100 * file_size\n",
    "# result = Result(\n",
    "#     server=\"nginx\",\n",
    "#     client=\"httpx\",\n",
    "#     file_size=file_size,\n",
    "#     complete_size=complete_size,\n",
    "# )\n",
    "\n",
    "# result = repo.get_result(benchmark, result)\n",
    "# print(result.elapsed)"
   ]
  },
  {
   "cell_type": "code",
   "execution_count": null,
   "id": "furnished-tanzania",
   "metadata": {},
   "outputs": [
    {
     "data": {
      "application/javascript": [
       "\n",
       "            setTimeout(function() {\n",
       "                var nbb_cell_id = 12;\n",
       "                var nbb_unformatted_code = \"# from will_it_saturate.core import Result\\n\\n# file_size = 10 ** 6\\n# complete_size = 100 * file_size\\n# result = Result(\\n#     server=\\\"nginx\\\",\\n#     client=\\\"httpx\\\",\\n#     file_size=file_size,\\n#     elapsed=3.0,\\n#     complete_size=complete_size,\\n# )\\n# print(result.dict())\";\n",
       "                var nbb_formatted_code = \"# from will_it_saturate.core import Result\\n\\n# file_size = 10 ** 6\\n# complete_size = 100 * file_size\\n# result = Result(\\n#     server=\\\"nginx\\\",\\n#     client=\\\"httpx\\\",\\n#     file_size=file_size,\\n#     elapsed=3.0,\\n#     complete_size=complete_size,\\n# )\\n# print(result.dict())\";\n",
       "                var nbb_cells = Jupyter.notebook.get_cells();\n",
       "                for (var i = 0; i < nbb_cells.length; ++i) {\n",
       "                    if (nbb_cells[i].input_prompt_number == nbb_cell_id) {\n",
       "                        if (nbb_cells[i].get_text() == nbb_unformatted_code) {\n",
       "                             nbb_cells[i].set_text(nbb_formatted_code);\n",
       "                        }\n",
       "                        break;\n",
       "                    }\n",
       "                }\n",
       "            }, 500);\n",
       "            "
      ],
      "text/plain": [
       "<IPython.core.display.Javascript object>"
      ]
     },
     "metadata": {},
     "output_type": "display_data"
    }
   ],
   "source": [
    "# from will_it_saturate.core import Result\n",
    "\n",
    "# file_size = 10 ** 6\n",
    "# complete_size = 100 * file_size\n",
    "# result = Result(\n",
    "#     server=\"nginx\",\n",
    "#     client=\"httpx\",\n",
    "#     file_size=file_size,\n",
    "#     elapsed=3.0,\n",
    "#     complete_size=complete_size,\n",
    "# )\n",
    "# print(result.dict())"
   ]
  },
  {
   "cell_type": "code",
   "execution_count": null,
   "id": "sublime-brown",
   "metadata": {},
   "outputs": [
    {
     "data": {
      "application/javascript": [
       "\n",
       "            setTimeout(function() {\n",
       "                var nbb_cell_id = 13;\n",
       "                var nbb_unformatted_code = \"# repo.add_result(benchmark, result)\";\n",
       "                var nbb_formatted_code = \"# repo.add_result(benchmark, result)\";\n",
       "                var nbb_cells = Jupyter.notebook.get_cells();\n",
       "                for (var i = 0; i < nbb_cells.length; ++i) {\n",
       "                    if (nbb_cells[i].input_prompt_number == nbb_cell_id) {\n",
       "                        if (nbb_cells[i].get_text() == nbb_unformatted_code) {\n",
       "                             nbb_cells[i].set_text(nbb_formatted_code);\n",
       "                        }\n",
       "                        break;\n",
       "                    }\n",
       "                }\n",
       "            }, 500);\n",
       "            "
      ],
      "text/plain": [
       "<IPython.core.display.Javascript object>"
      ]
     },
     "metadata": {},
     "output_type": "display_data"
    }
   ],
   "source": [
    "# repo.add_result(benchmark, result)"
   ]
  },
  {
   "cell_type": "markdown",
   "id": "personal-missouri",
   "metadata": {},
   "source": [
    "# Export"
   ]
  },
  {
   "cell_type": "code",
   "execution_count": null,
   "id": "appointed-enforcement",
   "metadata": {},
   "outputs": [
    {
     "name": "stdout",
     "output_type": "stream",
     "text": [
      "Converted 00_host.ipynb.\n",
      "Converted 01_django_views.ipynb.\n",
      "Converted 01_fastapi_views.ipynb.\n",
      "Converted 01_file.ipynb.\n",
      "Converted 05_epochs.ipynb.\n",
      "Converted 06_results.ipynb.\n",
      "Converted 25_core.ipynb.\n",
      "Converted 27_control_server.ipynb.\n",
      "Converted 28_control_client.ipynb.\n",
      "Converted 30_servers.ipynb.\n",
      "Converted 31_local_servers.ipynb.\n",
      "Converted 32_docker_servers.ipynb.\n",
      "Converted 40_clients.ipynb.\n",
      "Converted 41_benchmark_clients.ipynb.\n",
      "Converted 70_repositories.ipynb.\n",
      "Converted 71_sqlite_repository.ipynb.\n",
      "Converted 90_benchmark_without_benchmark.ipynb.\n",
      "Converted 98_run_benchmark.ipynb.\n",
      "Converted index.ipynb.\n"
     ]
    },
    {
     "data": {
      "application/javascript": [
       "\n",
       "            setTimeout(function() {\n",
       "                var nbb_cell_id = 14;\n",
       "                var nbb_unformatted_code = \"# dont_test\\n\\nfrom nbdev.export import notebook2script\\n\\nnotebook2script()\";\n",
       "                var nbb_formatted_code = \"# dont_test\\n\\nfrom nbdev.export import notebook2script\\n\\nnotebook2script()\";\n",
       "                var nbb_cells = Jupyter.notebook.get_cells();\n",
       "                for (var i = 0; i < nbb_cells.length; ++i) {\n",
       "                    if (nbb_cells[i].input_prompt_number == nbb_cell_id) {\n",
       "                        if (nbb_cells[i].get_text() == nbb_unformatted_code) {\n",
       "                             nbb_cells[i].set_text(nbb_formatted_code);\n",
       "                        }\n",
       "                        break;\n",
       "                    }\n",
       "                }\n",
       "            }, 500);\n",
       "            "
      ],
      "text/plain": [
       "<IPython.core.display.Javascript object>"
      ]
     },
     "metadata": {},
     "output_type": "display_data"
    }
   ],
   "source": [
    "# dont_test\n",
    "\n",
    "from nbdev.export import notebook2script\n",
    "\n",
    "notebook2script()"
   ]
  }
 ],
 "metadata": {
  "kernelspec": {
   "display_name": "Python 3",
   "language": "python",
   "name": "python3"
  }
 },
 "nbformat": 4,
 "nbformat_minor": 5
}
