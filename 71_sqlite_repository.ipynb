{
 "cells": [
  {
   "cell_type": "code",
   "execution_count": null,
   "id": "basic-underwear",
   "metadata": {},
   "outputs": [
    {
     "data": {
      "application/javascript": [
       "\n",
       "            setTimeout(function() {\n",
       "                var nbb_cell_id = 1;\n",
       "                var nbb_unformatted_code = \"%load_ext nb_black\";\n",
       "                var nbb_formatted_code = \"%load_ext nb_black\";\n",
       "                var nbb_cells = Jupyter.notebook.get_cells();\n",
       "                for (var i = 0; i < nbb_cells.length; ++i) {\n",
       "                    if (nbb_cells[i].input_prompt_number == nbb_cell_id) {\n",
       "                        if (nbb_cells[i].get_text() == nbb_unformatted_code) {\n",
       "                             nbb_cells[i].set_text(nbb_formatted_code);\n",
       "                        }\n",
       "                        break;\n",
       "                    }\n",
       "                }\n",
       "            }, 500);\n",
       "            "
      ],
      "text/plain": [
       "<IPython.core.display.Javascript object>"
      ]
     },
     "metadata": {},
     "output_type": "display_data"
    }
   ],
   "source": [
    "%load_ext nb_black"
   ]
  },
  {
   "cell_type": "code",
   "execution_count": null,
   "id": "moving-sherman",
   "metadata": {},
   "outputs": [
    {
     "data": {
      "application/javascript": [
       "\n",
       "            setTimeout(function() {\n",
       "                var nbb_cell_id = 2;\n",
       "                var nbb_unformatted_code = \"# default_exp repositories\";\n",
       "                var nbb_formatted_code = \"# default_exp repositories\";\n",
       "                var nbb_cells = Jupyter.notebook.get_cells();\n",
       "                for (var i = 0; i < nbb_cells.length; ++i) {\n",
       "                    if (nbb_cells[i].input_prompt_number == nbb_cell_id) {\n",
       "                        if (nbb_cells[i].get_text() == nbb_unformatted_code) {\n",
       "                             nbb_cells[i].set_text(nbb_formatted_code);\n",
       "                        }\n",
       "                        break;\n",
       "                    }\n",
       "                }\n",
       "            }, 500);\n",
       "            "
      ],
      "text/plain": [
       "<IPython.core.display.Javascript object>"
      ]
     },
     "metadata": {},
     "output_type": "display_data"
    }
   ],
   "source": [
    "# default_exp repositories"
   ]
  },
  {
   "cell_type": "code",
   "execution_count": null,
   "id": "77437567",
   "metadata": {},
   "outputs": [
    {
     "data": {
      "application/javascript": [
       "\n",
       "            setTimeout(function() {\n",
       "                var nbb_cell_id = 3;\n",
       "                var nbb_unformatted_code = \"from will_it_saturate.repositories import BaseRepository\";\n",
       "                var nbb_formatted_code = \"from will_it_saturate.repositories import BaseRepository\";\n",
       "                var nbb_cells = Jupyter.notebook.get_cells();\n",
       "                for (var i = 0; i < nbb_cells.length; ++i) {\n",
       "                    if (nbb_cells[i].input_prompt_number == nbb_cell_id) {\n",
       "                        if (nbb_cells[i].get_text() == nbb_unformatted_code) {\n",
       "                             nbb_cells[i].set_text(nbb_formatted_code);\n",
       "                        }\n",
       "                        break;\n",
       "                    }\n",
       "                }\n",
       "            }, 500);\n",
       "            "
      ],
      "text/plain": [
       "<IPython.core.display.Javascript object>"
      ]
     },
     "metadata": {},
     "output_type": "display_data"
    }
   ],
   "source": [
    "from will_it_saturate.repositories import BaseRepository"
   ]
  },
  {
   "cell_type": "code",
   "execution_count": null,
   "id": "integrated-customs",
   "metadata": {},
   "outputs": [
    {
     "data": {
      "application/javascript": [
       "\n",
       "            setTimeout(function() {\n",
       "                var nbb_cell_id = 4;\n",
       "                var nbb_unformatted_code = \"# export\\n\\nimport json\\nimport sqlite3\\n\\n\\ndef dict_factory(cursor, row):\\n    d = {}\\n    for idx, col in enumerate(cursor.description):\\n        d[col[0]] = row[idx]\\n    return d\\n\\n\\nclass SqliteRepository(BaseRepository):\\n    connection: sqlite3.Connection\\n\\n    class Config:\\n        arbitrary_types_allowed = True\\n\\n    def execute_stmt(self, stmt, ignore_error=False):\\n        cursor = self.connection.cursor()\\n        try:\\n            cursor.execute(stmt)\\n        except sqlite3.OperationalError as exc:\\n            if not ignore_error:\\n                raise (exc)\\n\\n    def create_benchmark_table(self):\\n        stmt = \\\"\\\"\\\"\\n            create table benchmark (\\n                benchmark_id INTEGER PRIMARY KEY,\\n                created DATE DEFAULT (datetime('now','localtime')),\\n                machine_id TEXT NOT NULL UNIQUE,\\n                uname TEXT NOT NULL,\\n                data TEXT NOT NULL\\n            )\\n        \\\"\\\"\\\"\\n        self.execute_stmt(stmt, ignore_error=True)\\n\\n    def create_host_table(self):\\n        stmt = \\\"\\\"\\\"\\n            create table host (\\n                host_id INTEGER PRIMARY KEY,\\n                created DATE DEFAULT (datetime('now','localtime')),\\n                machine_id TEXT NOT NULL UNIQUE,\\n                data TEXT NOT NULL\\n            )\\n        \\\"\\\"\\\"\\n        self.execute_stmt(stmt, ignore_error=True)\\n\\n    def create_result_table(self):\\n        stmt = \\\"\\\"\\\"\\n            create table result (\\n                result_id INTEGER PRIMARY KEY,\\n                server_host_id integer not NULL,\\n                client_host_id integer not NULL,\\n                created DATE DEFAULT (datetime('now','localtime')),\\n                server text not NULL,\\n                client text not NULL,\\n                file_size integer not NULL,\\n                complete_size integer not NULL,\\n                elapsed real not NULL,\\n                FOREIGN KEY(server_host_id) REFERENCES host(host_id)\\n                FOREIGN KEY(client_host_id) REFERENCES host(host_id)\\n            )\\n        \\\"\\\"\\\"\\n        self.execute_stmt(stmt, ignore_error=True)\\n\\n    def create_tables(self):\\n        self.create_host_table()\\n        self.create_result_table()\\n\\n    def add_benchmark(self, benchmark):\\n        stmt = \\\"\\\"\\\"\\n            insert into benchmark (machine_id, uname, data)\\n            values (?, ?, ?)\\n        \\\"\\\"\\\"\\n        cursor = self.connection.cursor()\\n        machine_id = benchmark.machine_id\\n        uname = benchmark.uname_json\\n        data = benchmark.json()\\n        try:\\n            cursor = cursor.execute(stmt, [machine_id, uname, data])\\n        except sqlite3.IntegrityError as e:\\n            pass\\n        self.connection.commit()\\n\\n    def get_benchmark(self, benchmark):\\n        stmt = \\\"\\\"\\\"\\n            select *\\n              from benchmark\\n             where machine_id=?\\n        \\\"\\\"\\\"\\n        cursor = self.connection.cursor()\\n        cursor.execute(stmt, [benchmark.machine_id])\\n        return cursor.fetchone()\\n\\n    def get_benchmark_id(self, benchmark):\\n        row = self.get_benchmark(benchmark)\\n        if row is None:\\n            return row\\n        return row[0]\\n\\n    def get_machine_to_host_id(self, machine_ids):\\n        question_marks = \\\", \\\".join([\\\"?\\\" for _ in machine_ids])\\n        stmt = f\\\"\\\"\\\"\\n            select host_id, machine_id\\n              from host\\n             where machine_id in ({question_marks})\\n        \\\"\\\"\\\"\\n        cursor = self.connection.cursor()\\n        cursor.execute(stmt, machine_ids)\\n        rows = cursor.fetchall()\\n        return {row[\\\"machine_id\\\"]: row[\\\"host_id\\\"] for row in rows}\\n\\n    def insert_host_details(self, host_details):\\n        stmt = \\\"\\\"\\\"\\n            insert into host (machine_id, data)\\n            values (?, ?)\\n        \\\"\\\"\\\"\\n        cursor = self.connection.cursor()\\n        try:\\n            cursor = cursor.execute(\\n                stmt, [host_details.machine_id, host_details.json()]\\n            )\\n        except sqlite3.IntegrityError as e:\\n            pass\\n        self.connection.commit()\\n        return cursor.rowcount\\n\\n    def get_result(self, benchmark, result):\\n        benchmark_id = self.get_benchmark_id(benchmark)\\n        if benchmark_id is None:\\n            self.add_benchmark(benchmark)\\n        benchmark_id = self.get_benchmark_id(benchmark)\\n        assert benchmark_id is not None\\n        stmt = \\\"\\\"\\\"\\n            select *\\n              from result\\n             where benchmark_id=?\\n               and server=?\\n               and client=?\\n               and file_size=?\\n               and complete_size=?\\n        \\\"\\\"\\\"\\n        cursor = self.connection.cursor()\\n        cursor.execute(\\n            stmt,\\n            [\\n                benchmark_id,\\n                result.server,\\n                result.client,\\n                result.file_size,\\n                result.complete_size,\\n            ],\\n        )\\n        row = cursor.fetchone()\\n        if row is None:\\n            return result\\n        result.elapsed = row[7]\\n        return result\\n\\n    def get_results(self):\\n        stmt = \\\"\\\"\\\"\\n            select *\\n              from result\\n        \\\"\\\"\\\"\\n        cursor = self.connection.cursor()\\n        cursor.execute(stmt)\\n        rows = cursor.fetchall()\\n        return rows\\n\\n    def get_or_create_hosts_from_result(self, result):\\n        machine_id_to_server_details = {\\n            result.server_details.machine_id: result.server_details,\\n            result.client_details.machine_id: result.client_details,\\n        }\\n        machine_ids = list(machine_id_to_server_details.keys())\\n        machine_to_host_id = self.get_machine_to_host_id(machine_ids)\\n        for machine_id, host_detail in machine_id_to_server_details.items():\\n            if machine_id not in machine_to_host_id:\\n                self.insert_host_details(host_detail)\\n        return self.get_machine_to_host_id(machine_ids)\\n\\n    def add_result(self, result):\\n        machine_to_host_id = self.get_or_create_hosts_from_result(result)\\n        result_row = {\\n            \\\"server_host_id\\\": machine_to_host_id[result.server_details.machine_id],\\n            \\\"client_host_id\\\": machine_to_host_id[result.client_details.machine_id],\\n            \\\"server\\\": result.server.json(),\\n            \\\"client\\\": result.client.json(),\\n            \\\"file_size\\\": result.file_size,\\n            \\\"complete_size\\\": result.complete_size,\\n            \\\"elapsed\\\": result.elapsed,\\n        }\\n        columns = list(result_row.keys())\\n        columns_str = \\\",\\\".join(columns)\\n        values_str = \\\",\\\".join([\\\"?\\\" for c in columns])\\n\\n        stmt = f\\\"\\\"\\\"\\n            insert into result ({columns_str})\\n            values ({values_str})\\n        \\\"\\\"\\\"\\n        cursor = self.connection.cursor()\\n\\n        values = [result_row[c] for c in columns]\\n        try:\\n            cursor = cursor.execute(stmt, values)\\n        except sqlite3.IntegrityError as e:\\n            pass\\n        self.connection.commit()\\n        return cursor.rowcount\\n\\n    @classmethod\\n    def build_repository(cls, database_name):\\n        conn = sqlite3.connect(database_name)\\n        conn.row_factory = dict_factory\\n        repo = cls(connection=conn)\\n        repo.create_tables()\\n        return repo\";\n",
       "                var nbb_formatted_code = \"# export\\n\\nimport json\\nimport sqlite3\\n\\n\\ndef dict_factory(cursor, row):\\n    d = {}\\n    for idx, col in enumerate(cursor.description):\\n        d[col[0]] = row[idx]\\n    return d\\n\\n\\nclass SqliteRepository(BaseRepository):\\n    connection: sqlite3.Connection\\n\\n    class Config:\\n        arbitrary_types_allowed = True\\n\\n    def execute_stmt(self, stmt, ignore_error=False):\\n        cursor = self.connection.cursor()\\n        try:\\n            cursor.execute(stmt)\\n        except sqlite3.OperationalError as exc:\\n            if not ignore_error:\\n                raise (exc)\\n\\n    def create_benchmark_table(self):\\n        stmt = \\\"\\\"\\\"\\n            create table benchmark (\\n                benchmark_id INTEGER PRIMARY KEY,\\n                created DATE DEFAULT (datetime('now','localtime')),\\n                machine_id TEXT NOT NULL UNIQUE,\\n                uname TEXT NOT NULL,\\n                data TEXT NOT NULL\\n            )\\n        \\\"\\\"\\\"\\n        self.execute_stmt(stmt, ignore_error=True)\\n\\n    def create_host_table(self):\\n        stmt = \\\"\\\"\\\"\\n            create table host (\\n                host_id INTEGER PRIMARY KEY,\\n                created DATE DEFAULT (datetime('now','localtime')),\\n                machine_id TEXT NOT NULL UNIQUE,\\n                data TEXT NOT NULL\\n            )\\n        \\\"\\\"\\\"\\n        self.execute_stmt(stmt, ignore_error=True)\\n\\n    def create_result_table(self):\\n        stmt = \\\"\\\"\\\"\\n            create table result (\\n                result_id INTEGER PRIMARY KEY,\\n                server_host_id integer not NULL,\\n                client_host_id integer not NULL,\\n                created DATE DEFAULT (datetime('now','localtime')),\\n                server text not NULL,\\n                client text not NULL,\\n                file_size integer not NULL,\\n                complete_size integer not NULL,\\n                elapsed real not NULL,\\n                FOREIGN KEY(server_host_id) REFERENCES host(host_id)\\n                FOREIGN KEY(client_host_id) REFERENCES host(host_id)\\n            )\\n        \\\"\\\"\\\"\\n        self.execute_stmt(stmt, ignore_error=True)\\n\\n    def create_tables(self):\\n        self.create_host_table()\\n        self.create_result_table()\\n\\n    def add_benchmark(self, benchmark):\\n        stmt = \\\"\\\"\\\"\\n            insert into benchmark (machine_id, uname, data)\\n            values (?, ?, ?)\\n        \\\"\\\"\\\"\\n        cursor = self.connection.cursor()\\n        machine_id = benchmark.machine_id\\n        uname = benchmark.uname_json\\n        data = benchmark.json()\\n        try:\\n            cursor = cursor.execute(stmt, [machine_id, uname, data])\\n        except sqlite3.IntegrityError as e:\\n            pass\\n        self.connection.commit()\\n\\n    def get_benchmark(self, benchmark):\\n        stmt = \\\"\\\"\\\"\\n            select *\\n              from benchmark\\n             where machine_id=?\\n        \\\"\\\"\\\"\\n        cursor = self.connection.cursor()\\n        cursor.execute(stmt, [benchmark.machine_id])\\n        return cursor.fetchone()\\n\\n    def get_benchmark_id(self, benchmark):\\n        row = self.get_benchmark(benchmark)\\n        if row is None:\\n            return row\\n        return row[0]\\n\\n    def get_machine_to_host_id(self, machine_ids):\\n        question_marks = \\\", \\\".join([\\\"?\\\" for _ in machine_ids])\\n        stmt = f\\\"\\\"\\\"\\n            select host_id, machine_id\\n              from host\\n             where machine_id in ({question_marks})\\n        \\\"\\\"\\\"\\n        cursor = self.connection.cursor()\\n        cursor.execute(stmt, machine_ids)\\n        rows = cursor.fetchall()\\n        return {row[\\\"machine_id\\\"]: row[\\\"host_id\\\"] for row in rows}\\n\\n    def insert_host_details(self, host_details):\\n        stmt = \\\"\\\"\\\"\\n            insert into host (machine_id, data)\\n            values (?, ?)\\n        \\\"\\\"\\\"\\n        cursor = self.connection.cursor()\\n        try:\\n            cursor = cursor.execute(\\n                stmt, [host_details.machine_id, host_details.json()]\\n            )\\n        except sqlite3.IntegrityError as e:\\n            pass\\n        self.connection.commit()\\n        return cursor.rowcount\\n\\n    def get_result(self, benchmark, result):\\n        benchmark_id = self.get_benchmark_id(benchmark)\\n        if benchmark_id is None:\\n            self.add_benchmark(benchmark)\\n        benchmark_id = self.get_benchmark_id(benchmark)\\n        assert benchmark_id is not None\\n        stmt = \\\"\\\"\\\"\\n            select *\\n              from result\\n             where benchmark_id=?\\n               and server=?\\n               and client=?\\n               and file_size=?\\n               and complete_size=?\\n        \\\"\\\"\\\"\\n        cursor = self.connection.cursor()\\n        cursor.execute(\\n            stmt,\\n            [\\n                benchmark_id,\\n                result.server,\\n                result.client,\\n                result.file_size,\\n                result.complete_size,\\n            ],\\n        )\\n        row = cursor.fetchone()\\n        if row is None:\\n            return result\\n        result.elapsed = row[7]\\n        return result\\n\\n    def get_results(self):\\n        stmt = \\\"\\\"\\\"\\n            select *\\n              from result\\n        \\\"\\\"\\\"\\n        cursor = self.connection.cursor()\\n        cursor.execute(stmt)\\n        rows = cursor.fetchall()\\n        return rows\\n\\n    def get_or_create_hosts_from_result(self, result):\\n        machine_id_to_server_details = {\\n            result.server_details.machine_id: result.server_details,\\n            result.client_details.machine_id: result.client_details,\\n        }\\n        machine_ids = list(machine_id_to_server_details.keys())\\n        machine_to_host_id = self.get_machine_to_host_id(machine_ids)\\n        for machine_id, host_detail in machine_id_to_server_details.items():\\n            if machine_id not in machine_to_host_id:\\n                self.insert_host_details(host_detail)\\n        return self.get_machine_to_host_id(machine_ids)\\n\\n    def add_result(self, result):\\n        machine_to_host_id = self.get_or_create_hosts_from_result(result)\\n        result_row = {\\n            \\\"server_host_id\\\": machine_to_host_id[result.server_details.machine_id],\\n            \\\"client_host_id\\\": machine_to_host_id[result.client_details.machine_id],\\n            \\\"server\\\": result.server.json(),\\n            \\\"client\\\": result.client.json(),\\n            \\\"file_size\\\": result.file_size,\\n            \\\"complete_size\\\": result.complete_size,\\n            \\\"elapsed\\\": result.elapsed,\\n        }\\n        columns = list(result_row.keys())\\n        columns_str = \\\",\\\".join(columns)\\n        values_str = \\\",\\\".join([\\\"?\\\" for c in columns])\\n\\n        stmt = f\\\"\\\"\\\"\\n            insert into result ({columns_str})\\n            values ({values_str})\\n        \\\"\\\"\\\"\\n        cursor = self.connection.cursor()\\n\\n        values = [result_row[c] for c in columns]\\n        try:\\n            cursor = cursor.execute(stmt, values)\\n        except sqlite3.IntegrityError as e:\\n            pass\\n        self.connection.commit()\\n        return cursor.rowcount\\n\\n    @classmethod\\n    def build_repository(cls, database_name):\\n        conn = sqlite3.connect(database_name)\\n        conn.row_factory = dict_factory\\n        repo = cls(connection=conn)\\n        repo.create_tables()\\n        return repo\";\n",
       "                var nbb_cells = Jupyter.notebook.get_cells();\n",
       "                for (var i = 0; i < nbb_cells.length; ++i) {\n",
       "                    if (nbb_cells[i].input_prompt_number == nbb_cell_id) {\n",
       "                        if (nbb_cells[i].get_text() == nbb_unformatted_code) {\n",
       "                             nbb_cells[i].set_text(nbb_formatted_code);\n",
       "                        }\n",
       "                        break;\n",
       "                    }\n",
       "                }\n",
       "            }, 500);\n",
       "            "
      ],
      "text/plain": [
       "<IPython.core.display.Javascript object>"
      ]
     },
     "metadata": {},
     "output_type": "display_data"
    }
   ],
   "source": [
    "# export\n",
    "\n",
    "import json\n",
    "import sqlite3\n",
    "\n",
    "\n",
    "def dict_factory(cursor, row):\n",
    "    d = {}\n",
    "    for idx, col in enumerate(cursor.description):\n",
    "        d[col[0]] = row[idx]\n",
    "    return d\n",
    "\n",
    "\n",
    "class SqliteRepository(BaseRepository):\n",
    "    connection: sqlite3.Connection\n",
    "\n",
    "    class Config:\n",
    "        arbitrary_types_allowed = True\n",
    "\n",
    "    def execute_stmt(self, stmt, ignore_error=False):\n",
    "        cursor = self.connection.cursor()\n",
    "        try:\n",
    "            cursor.execute(stmt)\n",
    "        except sqlite3.OperationalError as exc:\n",
    "            if not ignore_error:\n",
    "                raise (exc)\n",
    "\n",
    "    def create_benchmark_table(self):\n",
    "        stmt = \"\"\"\n",
    "            create table benchmark (\n",
    "                benchmark_id INTEGER PRIMARY KEY,\n",
    "                created DATE DEFAULT (datetime('now','localtime')),\n",
    "                machine_id TEXT NOT NULL UNIQUE,\n",
    "                uname TEXT NOT NULL,\n",
    "                data TEXT NOT NULL\n",
    "            )\n",
    "        \"\"\"\n",
    "        self.execute_stmt(stmt, ignore_error=True)\n",
    "\n",
    "    def create_host_table(self):\n",
    "        stmt = \"\"\"\n",
    "            create table host (\n",
    "                host_id INTEGER PRIMARY KEY,\n",
    "                created DATE DEFAULT (datetime('now','localtime')),\n",
    "                machine_id TEXT NOT NULL UNIQUE,\n",
    "                data TEXT NOT NULL\n",
    "            )\n",
    "        \"\"\"\n",
    "        self.execute_stmt(stmt, ignore_error=True)\n",
    "\n",
    "    def create_result_table(self):\n",
    "        stmt = \"\"\"\n",
    "            create table result (\n",
    "                result_id INTEGER PRIMARY KEY,\n",
    "                server_host_id integer not NULL,\n",
    "                client_host_id integer not NULL,\n",
    "                created DATE DEFAULT (datetime('now','localtime')),\n",
    "                server text not NULL,\n",
    "                client text not NULL,\n",
    "                file_size integer not NULL,\n",
    "                complete_size integer not NULL,\n",
    "                elapsed real not NULL,\n",
    "                FOREIGN KEY(server_host_id) REFERENCES host(host_id)\n",
    "                FOREIGN KEY(client_host_id) REFERENCES host(host_id)\n",
    "            )\n",
    "        \"\"\"\n",
    "        self.execute_stmt(stmt, ignore_error=True)\n",
    "\n",
    "    def create_tables(self):\n",
    "        self.create_host_table()\n",
    "        self.create_result_table()\n",
    "\n",
    "    def add_benchmark(self, benchmark):\n",
    "        stmt = \"\"\"\n",
    "            insert into benchmark (machine_id, uname, data)\n",
    "            values (?, ?, ?)\n",
    "        \"\"\"\n",
    "        cursor = self.connection.cursor()\n",
    "        machine_id = benchmark.machine_id\n",
    "        uname = benchmark.uname_json\n",
    "        data = benchmark.json()\n",
    "        try:\n",
    "            cursor = cursor.execute(stmt, [machine_id, uname, data])\n",
    "        except sqlite3.IntegrityError as e:\n",
    "            pass\n",
    "        self.connection.commit()\n",
    "\n",
    "    def get_benchmark(self, benchmark):\n",
    "        stmt = \"\"\"\n",
    "            select *\n",
    "              from benchmark\n",
    "             where machine_id=?\n",
    "        \"\"\"\n",
    "        cursor = self.connection.cursor()\n",
    "        cursor.execute(stmt, [benchmark.machine_id])\n",
    "        return cursor.fetchone()\n",
    "\n",
    "    def get_benchmark_id(self, benchmark):\n",
    "        row = self.get_benchmark(benchmark)\n",
    "        if row is None:\n",
    "            return row\n",
    "        return row[0]\n",
    "\n",
    "    def get_machine_to_host_id(self, machine_ids):\n",
    "        question_marks = \", \".join([\"?\" for _ in machine_ids])\n",
    "        stmt = f\"\"\"\n",
    "            select host_id, machine_id\n",
    "              from host\n",
    "             where machine_id in ({question_marks})\n",
    "        \"\"\"\n",
    "        cursor = self.connection.cursor()\n",
    "        cursor.execute(stmt, machine_ids)\n",
    "        rows = cursor.fetchall()\n",
    "        return {row[\"machine_id\"]: row[\"host_id\"] for row in rows}\n",
    "\n",
    "    def insert_host_details(self, host_details):\n",
    "        stmt = \"\"\"\n",
    "            insert into host (machine_id, data)\n",
    "            values (?, ?)\n",
    "        \"\"\"\n",
    "        cursor = self.connection.cursor()\n",
    "        try:\n",
    "            cursor = cursor.execute(\n",
    "                stmt, [host_details.machine_id, host_details.json()]\n",
    "            )\n",
    "        except sqlite3.IntegrityError as e:\n",
    "            pass\n",
    "        self.connection.commit()\n",
    "        return cursor.rowcount\n",
    "\n",
    "    def get_result(self, benchmark, result):\n",
    "        benchmark_id = self.get_benchmark_id(benchmark)\n",
    "        if benchmark_id is None:\n",
    "            self.add_benchmark(benchmark)\n",
    "        benchmark_id = self.get_benchmark_id(benchmark)\n",
    "        assert benchmark_id is not None\n",
    "        stmt = \"\"\"\n",
    "            select *\n",
    "              from result\n",
    "             where benchmark_id=?\n",
    "               and server=?\n",
    "               and client=?\n",
    "               and file_size=?\n",
    "               and complete_size=?\n",
    "        \"\"\"\n",
    "        cursor = self.connection.cursor()\n",
    "        cursor.execute(\n",
    "            stmt,\n",
    "            [\n",
    "                benchmark_id,\n",
    "                result.server,\n",
    "                result.client,\n",
    "                result.file_size,\n",
    "                result.complete_size,\n",
    "            ],\n",
    "        )\n",
    "        row = cursor.fetchone()\n",
    "        if row is None:\n",
    "            return result\n",
    "        result.elapsed = row[7]\n",
    "        return result\n",
    "\n",
    "    def get_results(self):\n",
    "        stmt = \"\"\"\n",
    "            select *\n",
    "              from result\n",
    "        \"\"\"\n",
    "        cursor = self.connection.cursor()\n",
    "        cursor.execute(stmt)\n",
    "        rows = cursor.fetchall()\n",
    "        return rows\n",
    "\n",
    "    def get_or_create_hosts_from_result(self, result):\n",
    "        machine_id_to_server_details = {\n",
    "            result.server_details.machine_id: result.server_details,\n",
    "            result.client_details.machine_id: result.client_details,\n",
    "        }\n",
    "        machine_ids = list(machine_id_to_server_details.keys())\n",
    "        machine_to_host_id = self.get_machine_to_host_id(machine_ids)\n",
    "        for machine_id, host_detail in machine_id_to_server_details.items():\n",
    "            if machine_id not in machine_to_host_id:\n",
    "                self.insert_host_details(host_detail)\n",
    "        return self.get_machine_to_host_id(machine_ids)\n",
    "\n",
    "    def add_result(self, result):\n",
    "        machine_to_host_id = self.get_or_create_hosts_from_result(result)\n",
    "        result_row = {\n",
    "            \"server_host_id\": machine_to_host_id[result.server_details.machine_id],\n",
    "            \"client_host_id\": machine_to_host_id[result.client_details.machine_id],\n",
    "            \"server\": result.server.json(),\n",
    "            \"client\": result.client.json(),\n",
    "            \"file_size\": result.file_size,\n",
    "            \"complete_size\": result.complete_size,\n",
    "            \"elapsed\": result.elapsed,\n",
    "        }\n",
    "        columns = list(result_row.keys())\n",
    "        columns_str = \",\".join(columns)\n",
    "        values_str = \",\".join([\"?\" for c in columns])\n",
    "\n",
    "        stmt = f\"\"\"\n",
    "            insert into result ({columns_str})\n",
    "            values ({values_str})\n",
    "        \"\"\"\n",
    "        cursor = self.connection.cursor()\n",
    "\n",
    "        values = [result_row[c] for c in columns]\n",
    "        try:\n",
    "            cursor = cursor.execute(stmt, values)\n",
    "        except sqlite3.IntegrityError as e:\n",
    "            pass\n",
    "        self.connection.commit()\n",
    "        return cursor.rowcount\n",
    "\n",
    "    @classmethod\n",
    "    def build_repository(cls, database_name):\n",
    "        conn = sqlite3.connect(database_name)\n",
    "        conn.row_factory = dict_factory\n",
    "        repo = cls(connection=conn)\n",
    "        repo.create_tables()\n",
    "        return repo"
   ]
  },
  {
   "cell_type": "markdown",
   "id": "cd5ac26f",
   "metadata": {},
   "source": [
    "## Tests"
   ]
  },
  {
   "cell_type": "code",
   "execution_count": null,
   "id": "absent-venezuela",
   "metadata": {},
   "outputs": [
    {
     "data": {
      "application/javascript": [
       "\n",
       "            setTimeout(function() {\n",
       "                var nbb_cell_id = 5;\n",
       "                var nbb_unformatted_code = \"from will_it_saturate.results import Result\\nfrom will_it_saturate.hosts import HostDetails\";\n",
       "                var nbb_formatted_code = \"from will_it_saturate.results import Result\\nfrom will_it_saturate.hosts import HostDetails\";\n",
       "                var nbb_cells = Jupyter.notebook.get_cells();\n",
       "                for (var i = 0; i < nbb_cells.length; ++i) {\n",
       "                    if (nbb_cells[i].input_prompt_number == nbb_cell_id) {\n",
       "                        if (nbb_cells[i].get_text() == nbb_unformatted_code) {\n",
       "                             nbb_cells[i].set_text(nbb_formatted_code);\n",
       "                        }\n",
       "                        break;\n",
       "                    }\n",
       "                }\n",
       "            }, 500);\n",
       "            "
      ],
      "text/plain": [
       "<IPython.core.display.Javascript object>"
      ]
     },
     "metadata": {},
     "output_type": "display_data"
    }
   ],
   "source": [
    "from will_it_saturate.results import Result\n",
    "from will_it_saturate.hosts import HostDetails"
   ]
  },
  {
   "cell_type": "markdown",
   "id": "c1fd0f67",
   "metadata": {},
   "source": [
    "### Add Host to Repository"
   ]
  },
  {
   "cell_type": "code",
   "execution_count": null,
   "id": "6d614556",
   "metadata": {},
   "outputs": [
    {
     "data": {
      "application/javascript": [
       "\n",
       "            setTimeout(function() {\n",
       "                var nbb_cell_id = 6;\n",
       "                var nbb_unformatted_code = \"repo = SqliteRepository.build_repository(\\\":memory:\\\")\\nmachine_to_host_id = repo.get_machine_to_host_id([\\\"asdf\\\"])\\nassert len(machine_to_host_id) == 0\";\n",
       "                var nbb_formatted_code = \"repo = SqliteRepository.build_repository(\\\":memory:\\\")\\nmachine_to_host_id = repo.get_machine_to_host_id([\\\"asdf\\\"])\\nassert len(machine_to_host_id) == 0\";\n",
       "                var nbb_cells = Jupyter.notebook.get_cells();\n",
       "                for (var i = 0; i < nbb_cells.length; ++i) {\n",
       "                    if (nbb_cells[i].input_prompt_number == nbb_cell_id) {\n",
       "                        if (nbb_cells[i].get_text() == nbb_unformatted_code) {\n",
       "                             nbb_cells[i].set_text(nbb_formatted_code);\n",
       "                        }\n",
       "                        break;\n",
       "                    }\n",
       "                }\n",
       "            }, 500);\n",
       "            "
      ],
      "text/plain": [
       "<IPython.core.display.Javascript object>"
      ]
     },
     "metadata": {},
     "output_type": "display_data"
    }
   ],
   "source": [
    "repo = SqliteRepository.build_repository(\":memory:\")\n",
    "machine_to_host_id = repo.get_machine_to_host_id([\"asdf\"])\n",
    "assert len(machine_to_host_id) == 0"
   ]
  },
  {
   "cell_type": "markdown",
   "id": "f9273772",
   "metadata": {},
   "source": [
    "### Add HostDetails to Repository"
   ]
  },
  {
   "cell_type": "code",
   "execution_count": null,
   "id": "dc9ba09d",
   "metadata": {},
   "outputs": [
    {
     "data": {
      "application/javascript": [
       "\n",
       "            setTimeout(function() {\n",
       "                var nbb_cell_id = 7;\n",
       "                var nbb_unformatted_code = \"machine_id1, cpuinfo = \\\"asdf\\\", {\\\"arch\\\": \\\"X86_64\\\"}\\nhost_detail = HostDetails(machine_id=machine_id1, cpuinfo=cpuinfo)\\n\\nrowcount = repo.insert_host_details(host_detail)\\nassert rowcount == 1\\n\\nmachine_to_host_id = repo.get_machine_to_host_id([machine_id1])\\nassert machine_to_host_id == {machine_id1: 1}\";\n",
       "                var nbb_formatted_code = \"machine_id1, cpuinfo = \\\"asdf\\\", {\\\"arch\\\": \\\"X86_64\\\"}\\nhost_detail = HostDetails(machine_id=machine_id1, cpuinfo=cpuinfo)\\n\\nrowcount = repo.insert_host_details(host_detail)\\nassert rowcount == 1\\n\\nmachine_to_host_id = repo.get_machine_to_host_id([machine_id1])\\nassert machine_to_host_id == {machine_id1: 1}\";\n",
       "                var nbb_cells = Jupyter.notebook.get_cells();\n",
       "                for (var i = 0; i < nbb_cells.length; ++i) {\n",
       "                    if (nbb_cells[i].input_prompt_number == nbb_cell_id) {\n",
       "                        if (nbb_cells[i].get_text() == nbb_unformatted_code) {\n",
       "                             nbb_cells[i].set_text(nbb_formatted_code);\n",
       "                        }\n",
       "                        break;\n",
       "                    }\n",
       "                }\n",
       "            }, 500);\n",
       "            "
      ],
      "text/plain": [
       "<IPython.core.display.Javascript object>"
      ]
     },
     "metadata": {},
     "output_type": "display_data"
    }
   ],
   "source": [
    "machine_id1, cpuinfo = \"asdf\", {\"arch\": \"X86_64\"}\n",
    "host_detail = HostDetails(machine_id=machine_id1, cpuinfo=cpuinfo)\n",
    "\n",
    "rowcount = repo.insert_host_details(host_detail)\n",
    "assert rowcount == 1\n",
    "\n",
    "machine_to_host_id = repo.get_machine_to_host_id([machine_id1])\n",
    "assert machine_to_host_id == {machine_id1: 1}"
   ]
  },
  {
   "cell_type": "markdown",
   "id": "ed4bf05a",
   "metadata": {},
   "source": [
    "### Add two HostDetails to Repository with one Already Existing"
   ]
  },
  {
   "cell_type": "code",
   "execution_count": null,
   "id": "70dd1a0b",
   "metadata": {},
   "outputs": [
    {
     "data": {
      "application/javascript": [
       "\n",
       "            setTimeout(function() {\n",
       "                var nbb_cell_id = 8;\n",
       "                var nbb_unformatted_code = \"machine_id2 = \\\"bsdf\\\"\\nhost_detail = HostDetails(machine_id=machine_id2, cpuinfo=cpuinfo)\\n\\nrowcount = repo.insert_host_details(host_detail)\\nassert rowcount == 1\\n\\nmachine_to_host_id = repo.get_machine_to_host_id([machine_id1, machine_id2, \\\"csdf\\\"])\\nassert machine_to_host_id == {machine_id1: 1, machine_id2: 2}\";\n",
       "                var nbb_formatted_code = \"machine_id2 = \\\"bsdf\\\"\\nhost_detail = HostDetails(machine_id=machine_id2, cpuinfo=cpuinfo)\\n\\nrowcount = repo.insert_host_details(host_detail)\\nassert rowcount == 1\\n\\nmachine_to_host_id = repo.get_machine_to_host_id([machine_id1, machine_id2, \\\"csdf\\\"])\\nassert machine_to_host_id == {machine_id1: 1, machine_id2: 2}\";\n",
       "                var nbb_cells = Jupyter.notebook.get_cells();\n",
       "                for (var i = 0; i < nbb_cells.length; ++i) {\n",
       "                    if (nbb_cells[i].input_prompt_number == nbb_cell_id) {\n",
       "                        if (nbb_cells[i].get_text() == nbb_unformatted_code) {\n",
       "                             nbb_cells[i].set_text(nbb_formatted_code);\n",
       "                        }\n",
       "                        break;\n",
       "                    }\n",
       "                }\n",
       "            }, 500);\n",
       "            "
      ],
      "text/plain": [
       "<IPython.core.display.Javascript object>"
      ]
     },
     "metadata": {},
     "output_type": "display_data"
    }
   ],
   "source": [
    "machine_id2 = \"bsdf\"\n",
    "host_detail = HostDetails(machine_id=machine_id2, cpuinfo=cpuinfo)\n",
    "\n",
    "rowcount = repo.insert_host_details(host_detail)\n",
    "assert rowcount == 1\n",
    "\n",
    "machine_to_host_id = repo.get_machine_to_host_id([machine_id1, machine_id2, \"csdf\"])\n",
    "assert machine_to_host_id == {machine_id1: 1, machine_id2: 2}"
   ]
  },
  {
   "cell_type": "markdown",
   "id": "38a7cb51",
   "metadata": {},
   "source": [
    "### Add all Hosts Needed for Result"
   ]
  },
  {
   "cell_type": "code",
   "execution_count": null,
   "id": "9219498d",
   "metadata": {},
   "outputs": [
    {
     "data": {
      "application/javascript": [
       "\n",
       "            setTimeout(function() {\n",
       "                var nbb_cell_id = 9;\n",
       "                var nbb_unformatted_code = \"dummy_result_data = {\\n    \\\"server\\\": {\\\"name\\\": \\\"server\\\"},\\n    \\\"client\\\": {\\\"name\\\": \\\"client\\\"},\\n    \\\"file_size\\\": 10,\\n    \\\"complete_size\\\": 100,\\n}\\n\\nkwargs = {\\n    **dummy_result_data,\\n    \\\"server_details\\\": HostDetails(machine_id=\\\"dsdf\\\", cpuinfo={}),\\n    \\\"client_details\\\": HostDetails(machine_id=\\\"esdf\\\", cpuinfo={}),\\n}\\nresult = Result(**kwargs)\\nmachine_to_host_id = repo.get_or_create_hosts_from_result(result)\\nassert machine_to_host_id == {\\n    result.server_details.machine_id: 3,\\n    result.client_details.machine_id: 4,\\n}\";\n",
       "                var nbb_formatted_code = \"dummy_result_data = {\\n    \\\"server\\\": {\\\"name\\\": \\\"server\\\"},\\n    \\\"client\\\": {\\\"name\\\": \\\"client\\\"},\\n    \\\"file_size\\\": 10,\\n    \\\"complete_size\\\": 100,\\n}\\n\\nkwargs = {\\n    **dummy_result_data,\\n    \\\"server_details\\\": HostDetails(machine_id=\\\"dsdf\\\", cpuinfo={}),\\n    \\\"client_details\\\": HostDetails(machine_id=\\\"esdf\\\", cpuinfo={}),\\n}\\nresult = Result(**kwargs)\\nmachine_to_host_id = repo.get_or_create_hosts_from_result(result)\\nassert machine_to_host_id == {\\n    result.server_details.machine_id: 3,\\n    result.client_details.machine_id: 4,\\n}\";\n",
       "                var nbb_cells = Jupyter.notebook.get_cells();\n",
       "                for (var i = 0; i < nbb_cells.length; ++i) {\n",
       "                    if (nbb_cells[i].input_prompt_number == nbb_cell_id) {\n",
       "                        if (nbb_cells[i].get_text() == nbb_unformatted_code) {\n",
       "                             nbb_cells[i].set_text(nbb_formatted_code);\n",
       "                        }\n",
       "                        break;\n",
       "                    }\n",
       "                }\n",
       "            }, 500);\n",
       "            "
      ],
      "text/plain": [
       "<IPython.core.display.Javascript object>"
      ]
     },
     "metadata": {},
     "output_type": "display_data"
    }
   ],
   "source": [
    "dummy_result_data = {\n",
    "    \"server\": {\"name\": \"server\"},\n",
    "    \"client\": {\"name\": \"client\"},\n",
    "    \"file_size\": 10,\n",
    "    \"complete_size\": 100,\n",
    "}\n",
    "\n",
    "kwargs = {\n",
    "    **dummy_result_data,\n",
    "    \"server_details\": HostDetails(machine_id=\"dsdf\", cpuinfo={}),\n",
    "    \"client_details\": HostDetails(machine_id=\"esdf\", cpuinfo={}),\n",
    "}\n",
    "result = Result(**kwargs)\n",
    "machine_to_host_id = repo.get_or_create_hosts_from_result(result)\n",
    "assert machine_to_host_id == {\n",
    "    result.server_details.machine_id: 3,\n",
    "    result.client_details.machine_id: 4,\n",
    "}"
   ]
  },
  {
   "cell_type": "markdown",
   "id": "77968180",
   "metadata": {},
   "source": [
    "### Add a Complete Result to Repository"
   ]
  },
  {
   "cell_type": "code",
   "execution_count": null,
   "id": "18c42281",
   "metadata": {},
   "outputs": [
    {
     "data": {
      "application/javascript": [
       "\n",
       "            setTimeout(function() {\n",
       "                var nbb_cell_id = 13;\n",
       "                var nbb_unformatted_code = \"from will_it_saturate.results import Result\\nfrom will_it_saturate.servers import BaseServer\\nfrom will_it_saturate.clients import BaseClient\\n\\n\\nserver = BaseServer(name=\\\"server\\\", host=\\\"127.0.0.1\\\", port=8000)\\nclient = BaseClient(name=\\\"fake client\\\")\\nserver_details = HostDetails(machine_id=\\\"server_1\\\", cpuinfo={\\\"foo\\\": \\\"bar\\\"})\\nclient_details = HostDetails(machine_id=\\\"client_1\\\", cpuinfo={\\\"bar\\\": \\\"baz\\\"})\\nresult = Result(\\n    server=server,\\n    client=client,\\n    server_details=server_details,\\n    client_details=client_details,\\n    file_size=10 ** 5,\\n    complete_size=10 ** 8,\\n    elapsed=400,\\n)\\ninserted_rows = repo.add_result(result)\";\n",
       "                var nbb_formatted_code = \"from will_it_saturate.results import Result\\nfrom will_it_saturate.servers import BaseServer\\nfrom will_it_saturate.clients import BaseClient\\n\\n\\nserver = BaseServer(name=\\\"server\\\", host=\\\"127.0.0.1\\\", port=8000)\\nclient = BaseClient(name=\\\"fake client\\\")\\nserver_details = HostDetails(machine_id=\\\"server_1\\\", cpuinfo={\\\"foo\\\": \\\"bar\\\"})\\nclient_details = HostDetails(machine_id=\\\"client_1\\\", cpuinfo={\\\"bar\\\": \\\"baz\\\"})\\nresult = Result(\\n    server=server,\\n    client=client,\\n    server_details=server_details,\\n    client_details=client_details,\\n    file_size=10 ** 5,\\n    complete_size=10 ** 8,\\n    elapsed=400,\\n)\\ninserted_rows = repo.add_result(result)\";\n",
       "                var nbb_cells = Jupyter.notebook.get_cells();\n",
       "                for (var i = 0; i < nbb_cells.length; ++i) {\n",
       "                    if (nbb_cells[i].input_prompt_number == nbb_cell_id) {\n",
       "                        if (nbb_cells[i].get_text() == nbb_unformatted_code) {\n",
       "                             nbb_cells[i].set_text(nbb_formatted_code);\n",
       "                        }\n",
       "                        break;\n",
       "                    }\n",
       "                }\n",
       "            }, 500);\n",
       "            "
      ],
      "text/plain": [
       "<IPython.core.display.Javascript object>"
      ]
     },
     "metadata": {},
     "output_type": "display_data"
    }
   ],
   "source": [
    "from will_it_saturate.results import Result\n",
    "from will_it_saturate.servers import BaseServer\n",
    "from will_it_saturate.clients import BaseClient\n",
    "\n",
    "\n",
    "server = BaseServer(name=\"server\", host=\"127.0.0.1\", port=8000)\n",
    "client = BaseClient(name=\"fake client\")\n",
    "server_details = HostDetails(machine_id=\"server_1\", cpuinfo={\"foo\": \"bar\"})\n",
    "client_details = HostDetails(machine_id=\"client_1\", cpuinfo={\"bar\": \"baz\"})\n",
    "result = Result(\n",
    "    server=server,\n",
    "    client=client,\n",
    "    server_details=server_details,\n",
    "    client_details=client_details,\n",
    "    file_size=10 ** 5,\n",
    "    complete_size=10 ** 8,\n",
    "    elapsed=400,\n",
    ")\n",
    "inserted_rows = repo.add_result(result)"
   ]
  },
  {
   "cell_type": "markdown",
   "id": "47c5643c",
   "metadata": {},
   "source": [
    "### Get Results from Repository"
   ]
  },
  {
   "cell_type": "code",
   "execution_count": null,
   "id": "694363b0",
   "metadata": {},
   "outputs": [
    {
     "name": "stdout",
     "output_type": "stream",
     "text": [
      "[{'result_id': 1, 'server_host_id': 5, 'client_host_id': 6, 'created': '2021-04-21 08:08:35', 'server': '{\"protocol\": \"http\", \"name\": \"server\", \"host\": \"127.0.0.1\", \"port\": 8000}', 'client': '{\"name\": \"fake client\"}', 'file_size': 100000, 'complete_size': 100000000, 'elapsed': 400.0}]\n"
     ]
    },
    {
     "data": {
      "application/javascript": [
       "\n",
       "            setTimeout(function() {\n",
       "                var nbb_cell_id = 14;\n",
       "                var nbb_unformatted_code = \"results = repo.get_results()\\nprint(results)\";\n",
       "                var nbb_formatted_code = \"results = repo.get_results()\\nprint(results)\";\n",
       "                var nbb_cells = Jupyter.notebook.get_cells();\n",
       "                for (var i = 0; i < nbb_cells.length; ++i) {\n",
       "                    if (nbb_cells[i].input_prompt_number == nbb_cell_id) {\n",
       "                        if (nbb_cells[i].get_text() == nbb_unformatted_code) {\n",
       "                             nbb_cells[i].set_text(nbb_formatted_code);\n",
       "                        }\n",
       "                        break;\n",
       "                    }\n",
       "                }\n",
       "            }, 500);\n",
       "            "
      ],
      "text/plain": [
       "<IPython.core.display.Javascript object>"
      ]
     },
     "metadata": {},
     "output_type": "display_data"
    }
   ],
   "source": [
    "results = repo.get_results()\n",
    "print(results)"
   ]
  },
  {
   "cell_type": "markdown",
   "id": "coated-consortium",
   "metadata": {},
   "source": [
    "## Usage"
   ]
  },
  {
   "cell_type": "code",
   "execution_count": null,
   "id": "constant-promise",
   "metadata": {},
   "outputs": [
    {
     "data": {
      "application/javascript": [
       "\n",
       "            setTimeout(function() {\n",
       "                var nbb_cell_id = 12;\n",
       "                var nbb_unformatted_code = \"conn = sqlite3.connect(\\\":memory:\\\")\\nrepo = SqliteRepository(connection=conn)\\nrepo.create_tables()\";\n",
       "                var nbb_formatted_code = \"conn = sqlite3.connect(\\\":memory:\\\")\\nrepo = SqliteRepository(connection=conn)\\nrepo.create_tables()\";\n",
       "                var nbb_cells = Jupyter.notebook.get_cells();\n",
       "                for (var i = 0; i < nbb_cells.length; ++i) {\n",
       "                    if (nbb_cells[i].input_prompt_number == nbb_cell_id) {\n",
       "                        if (nbb_cells[i].get_text() == nbb_unformatted_code) {\n",
       "                             nbb_cells[i].set_text(nbb_formatted_code);\n",
       "                        }\n",
       "                        break;\n",
       "                    }\n",
       "                }\n",
       "            }, 500);\n",
       "            "
      ],
      "text/plain": [
       "<IPython.core.display.Javascript object>"
      ]
     },
     "metadata": {},
     "output_type": "display_data"
    }
   ],
   "source": [
    "# dont_test\n",
    "\n",
    "repo = SqliteRepository.build_repository(\":memory:\")"
   ]
  },
  {
   "cell_type": "code",
   "execution_count": null,
   "id": "original-juice",
   "metadata": {},
   "outputs": [
    {
     "data": {
      "application/javascript": [
       "\n",
       "            setTimeout(function() {\n",
       "                var nbb_cell_id = 12;\n",
       "                var nbb_unformatted_code = \"# dont_test\\n\\nfrom will_it_saturate.results import Result\\n\\nserver = BaseServer(name=\\\"server\\\", host=\\\"127.0.0.1\\\", port=8000)\\nclient = BaseClient(name=\\\"fake client\\\")\\nserver_details = HostDetails(machine_id=\\\"server_1\\\", cpuinfo={\\\"foo\\\": \\\"bar\\\"})\\nclient_details = HostDetails(machine_id=\\\"client_1\\\", cpuinfo={\\\"bar\\\": \\\"baz\\\"})\\nresult = Result(\\n    server=server,\\n    client=client,\\n    server_details=server_details,\\n    client_details=client_details,\\n    file_size=10 ** 5,\\n    complete_size=10 ** 8,\\n    elapsed=400,\\n)\\ninserted_rows = repo.add_result(result)\\nassert inserted_rows == 1\";\n",
       "                var nbb_formatted_code = \"# dont_test\\n\\nfrom will_it_saturate.results import Result\\n\\nserver = BaseServer(name=\\\"server\\\", host=\\\"127.0.0.1\\\", port=8000)\\nclient = BaseClient(name=\\\"fake client\\\")\\nserver_details = HostDetails(machine_id=\\\"server_1\\\", cpuinfo={\\\"foo\\\": \\\"bar\\\"})\\nclient_details = HostDetails(machine_id=\\\"client_1\\\", cpuinfo={\\\"bar\\\": \\\"baz\\\"})\\nresult = Result(\\n    server=server,\\n    client=client,\\n    server_details=server_details,\\n    client_details=client_details,\\n    file_size=10 ** 5,\\n    complete_size=10 ** 8,\\n    elapsed=400,\\n)\\ninserted_rows = repo.add_result(result)\\nassert inserted_rows == 1\";\n",
       "                var nbb_cells = Jupyter.notebook.get_cells();\n",
       "                for (var i = 0; i < nbb_cells.length; ++i) {\n",
       "                    if (nbb_cells[i].input_prompt_number == nbb_cell_id) {\n",
       "                        if (nbb_cells[i].get_text() == nbb_unformatted_code) {\n",
       "                             nbb_cells[i].set_text(nbb_formatted_code);\n",
       "                        }\n",
       "                        break;\n",
       "                    }\n",
       "                }\n",
       "            }, 500);\n",
       "            "
      ],
      "text/plain": [
       "<IPython.core.display.Javascript object>"
      ]
     },
     "metadata": {},
     "output_type": "display_data"
    }
   ],
   "source": [
    "# dont_test\n",
    "\n",
    "from will_it_saturate.results import Result\n",
    "\n",
    "server = BaseServer(name=\"server\", host=\"127.0.0.1\", port=8000)\n",
    "client = BaseClient(name=\"fake client\")\n",
    "server_details = HostDetails(machine_id=\"server_1\", cpuinfo={\"foo\": \"bar\"})\n",
    "client_details = HostDetails(machine_id=\"client_1\", cpuinfo={\"bar\": \"baz\"})\n",
    "result = Result(\n",
    "    server=server,\n",
    "    client=client,\n",
    "    server_details=server_details,\n",
    "    client_details=client_details,\n",
    "    file_size=10 ** 5,\n",
    "    complete_size=10 ** 8,\n",
    "    elapsed=400,\n",
    ")\n",
    "inserted_rows = repo.add_result(result)"
   ]
  },
  {
   "cell_type": "code",
   "execution_count": null,
   "id": "proprietary-purchase",
   "metadata": {},
   "outputs": [
    {
     "data": {
      "application/javascript": [
       "\n",
       "            setTimeout(function() {\n",
       "                var nbb_cell_id = 14;\n",
       "                var nbb_unformatted_code = \"# repo.get_benchmark(benchmark)\";\n",
       "                var nbb_formatted_code = \"# repo.get_benchmark(benchmark)\";\n",
       "                var nbb_cells = Jupyter.notebook.get_cells();\n",
       "                for (var i = 0; i < nbb_cells.length; ++i) {\n",
       "                    if (nbb_cells[i].input_prompt_number == nbb_cell_id) {\n",
       "                        if (nbb_cells[i].get_text() == nbb_unformatted_code) {\n",
       "                             nbb_cells[i].set_text(nbb_formatted_code);\n",
       "                        }\n",
       "                        break;\n",
       "                    }\n",
       "                }\n",
       "            }, 500);\n",
       "            "
      ],
      "text/plain": [
       "<IPython.core.display.Javascript object>"
      ]
     },
     "metadata": {},
     "output_type": "display_data"
    }
   ],
   "source": [
    "# repo.get_benchmark(benchmark)"
   ]
  },
  {
   "cell_type": "code",
   "execution_count": null,
   "id": "static-audio",
   "metadata": {},
   "outputs": [
    {
     "data": {
      "application/javascript": [
       "\n",
       "            setTimeout(function() {\n",
       "                var nbb_cell_id = 15;\n",
       "                var nbb_unformatted_code = \"# benchmark.json()\";\n",
       "                var nbb_formatted_code = \"# benchmark.json()\";\n",
       "                var nbb_cells = Jupyter.notebook.get_cells();\n",
       "                for (var i = 0; i < nbb_cells.length; ++i) {\n",
       "                    if (nbb_cells[i].input_prompt_number == nbb_cell_id) {\n",
       "                        if (nbb_cells[i].get_text() == nbb_unformatted_code) {\n",
       "                             nbb_cells[i].set_text(nbb_formatted_code);\n",
       "                        }\n",
       "                        break;\n",
       "                    }\n",
       "                }\n",
       "            }, 500);\n",
       "            "
      ],
      "text/plain": [
       "<IPython.core.display.Javascript object>"
      ]
     },
     "metadata": {},
     "output_type": "display_data"
    }
   ],
   "source": [
    "# benchmark.json()"
   ]
  },
  {
   "cell_type": "code",
   "execution_count": null,
   "id": "tested-found",
   "metadata": {},
   "outputs": [
    {
     "data": {
      "application/javascript": [
       "\n",
       "            setTimeout(function() {\n",
       "                var nbb_cell_id = 16;\n",
       "                var nbb_unformatted_code = \"# repo.get_benchmark(benchmark)\";\n",
       "                var nbb_formatted_code = \"# repo.get_benchmark(benchmark)\";\n",
       "                var nbb_cells = Jupyter.notebook.get_cells();\n",
       "                for (var i = 0; i < nbb_cells.length; ++i) {\n",
       "                    if (nbb_cells[i].input_prompt_number == nbb_cell_id) {\n",
       "                        if (nbb_cells[i].get_text() == nbb_unformatted_code) {\n",
       "                             nbb_cells[i].set_text(nbb_formatted_code);\n",
       "                        }\n",
       "                        break;\n",
       "                    }\n",
       "                }\n",
       "            }, 500);\n",
       "            "
      ],
      "text/plain": [
       "<IPython.core.display.Javascript object>"
      ]
     },
     "metadata": {},
     "output_type": "display_data"
    }
   ],
   "source": [
    "# repo.get_benchmark(benchmark)"
   ]
  },
  {
   "cell_type": "code",
   "execution_count": null,
   "id": "selective-liberty",
   "metadata": {},
   "outputs": [
    {
     "data": {
      "application/javascript": [
       "\n",
       "            setTimeout(function() {\n",
       "                var nbb_cell_id = 17;\n",
       "                var nbb_unformatted_code = \"# benchmark.machine_id = \\\"foobar\\\"\";\n",
       "                var nbb_formatted_code = \"# benchmark.machine_id = \\\"foobar\\\"\";\n",
       "                var nbb_cells = Jupyter.notebook.get_cells();\n",
       "                for (var i = 0; i < nbb_cells.length; ++i) {\n",
       "                    if (nbb_cells[i].input_prompt_number == nbb_cell_id) {\n",
       "                        if (nbb_cells[i].get_text() == nbb_unformatted_code) {\n",
       "                             nbb_cells[i].set_text(nbb_formatted_code);\n",
       "                        }\n",
       "                        break;\n",
       "                    }\n",
       "                }\n",
       "            }, 500);\n",
       "            "
      ],
      "text/plain": [
       "<IPython.core.display.Javascript object>"
      ]
     },
     "metadata": {},
     "output_type": "display_data"
    }
   ],
   "source": [
    "# benchmark.machine_id = \"foobar\""
   ]
  },
  {
   "cell_type": "code",
   "execution_count": null,
   "id": "fitting-marketing",
   "metadata": {},
   "outputs": [
    {
     "data": {
      "application/javascript": [
       "\n",
       "            setTimeout(function() {\n",
       "                var nbb_cell_id = 18;\n",
       "                var nbb_unformatted_code = \"# file_size = 10 ** 6\\n# complete_size = 100 * file_size\\n# result = Result(\\n#     server=\\\"nginx\\\",\\n#     client=\\\"httpx\\\",\\n#     file_size=file_size,\\n#     complete_size=complete_size,\\n# )\\n\\n# result = repo.get_result(benchmark, result)\\n# print(result.elapsed)\";\n",
       "                var nbb_formatted_code = \"# file_size = 10 ** 6\\n# complete_size = 100 * file_size\\n# result = Result(\\n#     server=\\\"nginx\\\",\\n#     client=\\\"httpx\\\",\\n#     file_size=file_size,\\n#     complete_size=complete_size,\\n# )\\n\\n# result = repo.get_result(benchmark, result)\\n# print(result.elapsed)\";\n",
       "                var nbb_cells = Jupyter.notebook.get_cells();\n",
       "                for (var i = 0; i < nbb_cells.length; ++i) {\n",
       "                    if (nbb_cells[i].input_prompt_number == nbb_cell_id) {\n",
       "                        if (nbb_cells[i].get_text() == nbb_unformatted_code) {\n",
       "                             nbb_cells[i].set_text(nbb_formatted_code);\n",
       "                        }\n",
       "                        break;\n",
       "                    }\n",
       "                }\n",
       "            }, 500);\n",
       "            "
      ],
      "text/plain": [
       "<IPython.core.display.Javascript object>"
      ]
     },
     "metadata": {},
     "output_type": "display_data"
    }
   ],
   "source": [
    "# file_size = 10 ** 6\n",
    "# complete_size = 100 * file_size\n",
    "# result = Result(\n",
    "#     server=\"nginx\",\n",
    "#     client=\"httpx\",\n",
    "#     file_size=file_size,\n",
    "#     complete_size=complete_size,\n",
    "# )\n",
    "\n",
    "# result = repo.get_result(benchmark, result)\n",
    "# print(result.elapsed)"
   ]
  },
  {
   "cell_type": "code",
   "execution_count": null,
   "id": "furnished-tanzania",
   "metadata": {},
   "outputs": [
    {
     "data": {
      "application/javascript": [
       "\n",
       "            setTimeout(function() {\n",
       "                var nbb_cell_id = 19;\n",
       "                var nbb_unformatted_code = \"# from will_it_saturate.core import Result\\n\\n# file_size = 10 ** 6\\n# complete_size = 100 * file_size\\n# result = Result(\\n#     server=\\\"nginx\\\",\\n#     client=\\\"httpx\\\",\\n#     file_size=file_size,\\n#     elapsed=3.0,\\n#     complete_size=complete_size,\\n# )\\n# print(result.dict())\";\n",
       "                var nbb_formatted_code = \"# from will_it_saturate.core import Result\\n\\n# file_size = 10 ** 6\\n# complete_size = 100 * file_size\\n# result = Result(\\n#     server=\\\"nginx\\\",\\n#     client=\\\"httpx\\\",\\n#     file_size=file_size,\\n#     elapsed=3.0,\\n#     complete_size=complete_size,\\n# )\\n# print(result.dict())\";\n",
       "                var nbb_cells = Jupyter.notebook.get_cells();\n",
       "                for (var i = 0; i < nbb_cells.length; ++i) {\n",
       "                    if (nbb_cells[i].input_prompt_number == nbb_cell_id) {\n",
       "                        if (nbb_cells[i].get_text() == nbb_unformatted_code) {\n",
       "                             nbb_cells[i].set_text(nbb_formatted_code);\n",
       "                        }\n",
       "                        break;\n",
       "                    }\n",
       "                }\n",
       "            }, 500);\n",
       "            "
      ],
      "text/plain": [
       "<IPython.core.display.Javascript object>"
      ]
     },
     "metadata": {},
     "output_type": "display_data"
    }
   ],
   "source": [
    "# from will_it_saturate.core import Result\n",
    "\n",
    "# file_size = 10 ** 6\n",
    "# complete_size = 100 * file_size\n",
    "# result = Result(\n",
    "#     server=\"nginx\",\n",
    "#     client=\"httpx\",\n",
    "#     file_size=file_size,\n",
    "#     elapsed=3.0,\n",
    "#     complete_size=complete_size,\n",
    "# )\n",
    "# print(result.dict())"
   ]
  },
  {
   "cell_type": "code",
   "execution_count": null,
   "id": "sublime-brown",
   "metadata": {},
   "outputs": [
    {
     "data": {
      "application/javascript": [
       "\n",
       "            setTimeout(function() {\n",
       "                var nbb_cell_id = 20;\n",
       "                var nbb_unformatted_code = \"# repo.add_result(benchmark, result)\";\n",
       "                var nbb_formatted_code = \"# repo.add_result(benchmark, result)\";\n",
       "                var nbb_cells = Jupyter.notebook.get_cells();\n",
       "                for (var i = 0; i < nbb_cells.length; ++i) {\n",
       "                    if (nbb_cells[i].input_prompt_number == nbb_cell_id) {\n",
       "                        if (nbb_cells[i].get_text() == nbb_unformatted_code) {\n",
       "                             nbb_cells[i].set_text(nbb_formatted_code);\n",
       "                        }\n",
       "                        break;\n",
       "                    }\n",
       "                }\n",
       "            }, 500);\n",
       "            "
      ],
      "text/plain": [
       "<IPython.core.display.Javascript object>"
      ]
     },
     "metadata": {},
     "output_type": "display_data"
    }
   ],
   "source": [
    "# repo.add_result(benchmark, result)"
   ]
  },
  {
   "cell_type": "markdown",
   "id": "personal-missouri",
   "metadata": {},
   "source": [
    "# Export"
   ]
  },
  {
   "cell_type": "code",
   "execution_count": null,
   "id": "appointed-enforcement",
   "metadata": {},
   "outputs": [
    {
     "name": "stdout",
     "output_type": "stream",
     "text": [
      "Converted 00_host.ipynb.\n",
      "Converted 01_django_views.ipynb.\n",
      "Converted 01_fastapi_views.ipynb.\n",
      "Converted 01_file.ipynb.\n",
      "Converted 05_epochs.ipynb.\n",
      "Converted 06_results.ipynb.\n",
      "Converted 25_core.ipynb.\n",
      "Converted 27_control_server.ipynb.\n",
      "Converted 28_control_client.ipynb.\n",
      "Converted 29_control_cli.ipynb.\n",
      "Converted 30_servers.ipynb.\n",
      "Converted 31_local_servers.ipynb.\n",
      "Converted 32_docker_servers.ipynb.\n",
      "Converted 40_clients.ipynb.\n",
      "Converted 41_benchmark_clients.ipynb.\n",
      "Converted 70_repositories.ipynb.\n",
      "Converted 71_sqlite_repository.ipynb.\n",
      "Converted 90_benchmark_without_benchmark.ipynb.\n",
      "Converted 98_run_benchmark.ipynb.\n",
      "Converted index.ipynb.\n"
     ]
    },
    {
     "data": {
      "application/javascript": [
       "\n",
       "            setTimeout(function() {\n",
       "                var nbb_cell_id = 16;\n",
       "                var nbb_unformatted_code = \"# dont_test\\n\\nfrom nbdev.export import notebook2script\\n\\nnotebook2script()\";\n",
       "                var nbb_formatted_code = \"# dont_test\\n\\nfrom nbdev.export import notebook2script\\n\\nnotebook2script()\";\n",
       "                var nbb_cells = Jupyter.notebook.get_cells();\n",
       "                for (var i = 0; i < nbb_cells.length; ++i) {\n",
       "                    if (nbb_cells[i].input_prompt_number == nbb_cell_id) {\n",
       "                        if (nbb_cells[i].get_text() == nbb_unformatted_code) {\n",
       "                             nbb_cells[i].set_text(nbb_formatted_code);\n",
       "                        }\n",
       "                        break;\n",
       "                    }\n",
       "                }\n",
       "            }, 500);\n",
       "            "
      ],
      "text/plain": [
       "<IPython.core.display.Javascript object>"
      ]
     },
     "metadata": {},
     "output_type": "display_data"
    }
   ],
   "source": [
    "# dont_test\n",
    "\n",
    "from nbdev.export import notebook2script\n",
    "\n",
    "notebook2script()"
   ]
  }
 ],
 "metadata": {
  "kernelspec": {
   "display_name": "Python 3",
   "language": "python",
   "name": "python3"
  }
 },
 "nbformat": 4,
 "nbformat_minor": 5
}
