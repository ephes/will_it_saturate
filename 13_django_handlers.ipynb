{
 "cells": [
  {
   "cell_type": "code",
   "execution_count": null,
   "id": "b9848bf8",
   "metadata": {},
   "outputs": [
    {
     "name": "stdout",
     "output_type": "stream",
     "text": [
      "The nb_black extension is already loaded. To reload it, use:\n",
      "  %reload_ext nb_black\n"
     ]
    },
    {
     "data": {
      "application/javascript": [
       "\n",
       "            setTimeout(function() {\n",
       "                var nbb_cell_id = 6;\n",
       "                var nbb_unformatted_code = \"# hide\\n\\n%load_ext nb_black\";\n",
       "                var nbb_formatted_code = \"# hide\\n\\n%load_ext nb_black\";\n",
       "                var nbb_cells = Jupyter.notebook.get_cells();\n",
       "                for (var i = 0; i < nbb_cells.length; ++i) {\n",
       "                    if (nbb_cells[i].input_prompt_number == nbb_cell_id) {\n",
       "                        if (nbb_cells[i].get_text() == nbb_unformatted_code) {\n",
       "                             nbb_cells[i].set_text(nbb_formatted_code);\n",
       "                        }\n",
       "                        break;\n",
       "                    }\n",
       "                }\n",
       "            }, 500);\n",
       "            "
      ],
      "text/plain": [
       "<IPython.core.display.Javascript object>"
      ]
     },
     "metadata": {},
     "output_type": "display_data"
    }
   ],
   "source": [
    "# hide\n",
    "\n",
    "%load_ext nb_black"
   ]
  },
  {
   "cell_type": "code",
   "execution_count": null,
   "id": "f32906ea",
   "metadata": {},
   "outputs": [
    {
     "data": {
      "application/javascript": [
       "\n",
       "            setTimeout(function() {\n",
       "                var nbb_cell_id = 7;\n",
       "                var nbb_unformatted_code = \"# default_exp django.handlers\";\n",
       "                var nbb_formatted_code = \"# default_exp django.handlers\";\n",
       "                var nbb_cells = Jupyter.notebook.get_cells();\n",
       "                for (var i = 0; i < nbb_cells.length; ++i) {\n",
       "                    if (nbb_cells[i].input_prompt_number == nbb_cell_id) {\n",
       "                        if (nbb_cells[i].get_text() == nbb_unformatted_code) {\n",
       "                             nbb_cells[i].set_text(nbb_formatted_code);\n",
       "                        }\n",
       "                        break;\n",
       "                    }\n",
       "                }\n",
       "            }, 500);\n",
       "            "
      ],
      "text/plain": [
       "<IPython.core.display.Javascript object>"
      ]
     },
     "metadata": {},
     "output_type": "display_data"
    }
   ],
   "source": [
    "# default_exp django.handlers"
   ]
  },
  {
   "cell_type": "markdown",
   "id": "b3920c7c",
   "metadata": {},
   "source": [
    "## Modified Version to Serve Files"
   ]
  },
  {
   "cell_type": "code",
   "execution_count": null,
   "id": "829f376b",
   "metadata": {},
   "outputs": [
    {
     "data": {
      "application/javascript": [
       "\n",
       "            setTimeout(function() {\n",
       "                var nbb_cell_id = 8;\n",
       "                var nbb_unformatted_code = \"# export\\n\\nfrom asgiref.sync import sync_to_async\\nfrom django.core.handlers.asgi import ASGIHandler\";\n",
       "                var nbb_formatted_code = \"# export\\n\\nfrom asgiref.sync import sync_to_async\\nfrom django.core.handlers.asgi import ASGIHandler\";\n",
       "                var nbb_cells = Jupyter.notebook.get_cells();\n",
       "                for (var i = 0; i < nbb_cells.length; ++i) {\n",
       "                    if (nbb_cells[i].input_prompt_number == nbb_cell_id) {\n",
       "                        if (nbb_cells[i].get_text() == nbb_unformatted_code) {\n",
       "                             nbb_cells[i].set_text(nbb_formatted_code);\n",
       "                        }\n",
       "                        break;\n",
       "                    }\n",
       "                }\n",
       "            }, 500);\n",
       "            "
      ],
      "text/plain": [
       "<IPython.core.display.Javascript object>"
      ]
     },
     "metadata": {},
     "output_type": "display_data"
    }
   ],
   "source": [
    "# export\n",
    "\n",
    "from asgiref.sync import sync_to_async\n",
    "from django.core.handlers.asgi import ASGIHandler"
   ]
  },
  {
   "cell_type": "code",
   "execution_count": null,
   "id": "f4fddf12",
   "metadata": {},
   "outputs": [
    {
     "data": {
      "application/javascript": [
       "\n",
       "            setTimeout(function() {\n",
       "                var nbb_cell_id = 9;\n",
       "                var nbb_unformatted_code = \"# export\\n\\n\\nclass AsyncFileASGIHandler(ASGIHandler):\\n    async def send_response(self, response, send):\\n        \\\"\\\"\\\"Encode and send a response out over ASGI.\\\"\\\"\\\"\\n        # Collect cookies into headers. Have to preserve header case as there\\n        # are some non-RFC compliant clients that require e.g. Content-Type.\\n        response_headers = []\\n        for header, value in response.items():\\n            if isinstance(header, str):\\n                header = header.encode(\\\"ascii\\\")\\n            if isinstance(value, str):\\n                value = value.encode(\\\"latin1\\\")\\n            response_headers.append((bytes(header), bytes(value)))\\n        for c in response.cookies.values():\\n            response_headers.append(\\n                (b\\\"Set-Cookie\\\", c.output(header=\\\"\\\").encode(\\\"ascii\\\").strip())\\n            )\\n        # Initial response message.\\n        await send(\\n            {\\n                \\\"type\\\": \\\"http.response.start\\\",\\n                \\\"status\\\": response.status_code,\\n                \\\"headers\\\": response_headers,\\n            }\\n        )\\n        # Streaming responses need to be pinned to their iterator.\\n        if response.streaming:\\n            is_async_file_response = hasattr(response, \\\"__aiter__\\\")\\n            if is_async_file_response:\\n                async for more_body, chunk in response:\\n                    await send(\\n                        {\\n                            \\\"type\\\": \\\"http.response.body\\\",\\n                            \\\"body\\\": chunk,\\n                            \\\"more_body\\\": more_body,\\n                        }\\n                    )\\n\\n            else:\\n                # Access `__iter__` and not `streaming_content` directly in case\\n                # it has been overridden in a subclass.\\n                for part in response:\\n                    for chunk, _ in self.chunk_bytes(part):\\n                        await send(\\n                            {\\n                                \\\"type\\\": \\\"http.response.body\\\",\\n                                \\\"body\\\": chunk,\\n                                # Ignore \\\"more\\\" as there may be more parts; instead,\\n                                # use an empty final closing message with False.\\n                                \\\"more_body\\\": True,\\n                            }\\n                        )\\n                # Final closing message.\\n                await send({\\\"type\\\": \\\"http.response.body\\\"})\\n        # Other responses just need chunking.\\n        else:\\n            # Yield chunks of response.\\n            for chunk, last in self.chunk_bytes(response.content):\\n                await send(\\n                    {\\n                        \\\"type\\\": \\\"http.response.body\\\",\\n                        \\\"body\\\": chunk,\\n                        \\\"more_body\\\": not last,\\n                    }\\n                )\\n        await sync_to_async(response.close, thread_sensitive=True)()\";\n",
       "                var nbb_formatted_code = \"# export\\n\\n\\nclass AsyncFileASGIHandler(ASGIHandler):\\n    async def send_response(self, response, send):\\n        \\\"\\\"\\\"Encode and send a response out over ASGI.\\\"\\\"\\\"\\n        # Collect cookies into headers. Have to preserve header case as there\\n        # are some non-RFC compliant clients that require e.g. Content-Type.\\n        response_headers = []\\n        for header, value in response.items():\\n            if isinstance(header, str):\\n                header = header.encode(\\\"ascii\\\")\\n            if isinstance(value, str):\\n                value = value.encode(\\\"latin1\\\")\\n            response_headers.append((bytes(header), bytes(value)))\\n        for c in response.cookies.values():\\n            response_headers.append(\\n                (b\\\"Set-Cookie\\\", c.output(header=\\\"\\\").encode(\\\"ascii\\\").strip())\\n            )\\n        # Initial response message.\\n        await send(\\n            {\\n                \\\"type\\\": \\\"http.response.start\\\",\\n                \\\"status\\\": response.status_code,\\n                \\\"headers\\\": response_headers,\\n            }\\n        )\\n        # Streaming responses need to be pinned to their iterator.\\n        if response.streaming:\\n            is_async_file_response = hasattr(response, \\\"__aiter__\\\")\\n            if is_async_file_response:\\n                async for more_body, chunk in response:\\n                    await send(\\n                        {\\n                            \\\"type\\\": \\\"http.response.body\\\",\\n                            \\\"body\\\": chunk,\\n                            \\\"more_body\\\": more_body,\\n                        }\\n                    )\\n\\n            else:\\n                # Access `__iter__` and not `streaming_content` directly in case\\n                # it has been overridden in a subclass.\\n                for part in response:\\n                    for chunk, _ in self.chunk_bytes(part):\\n                        await send(\\n                            {\\n                                \\\"type\\\": \\\"http.response.body\\\",\\n                                \\\"body\\\": chunk,\\n                                # Ignore \\\"more\\\" as there may be more parts; instead,\\n                                # use an empty final closing message with False.\\n                                \\\"more_body\\\": True,\\n                            }\\n                        )\\n                # Final closing message.\\n                await send({\\\"type\\\": \\\"http.response.body\\\"})\\n        # Other responses just need chunking.\\n        else:\\n            # Yield chunks of response.\\n            for chunk, last in self.chunk_bytes(response.content):\\n                await send(\\n                    {\\n                        \\\"type\\\": \\\"http.response.body\\\",\\n                        \\\"body\\\": chunk,\\n                        \\\"more_body\\\": not last,\\n                    }\\n                )\\n        await sync_to_async(response.close, thread_sensitive=True)()\";\n",
       "                var nbb_cells = Jupyter.notebook.get_cells();\n",
       "                for (var i = 0; i < nbb_cells.length; ++i) {\n",
       "                    if (nbb_cells[i].input_prompt_number == nbb_cell_id) {\n",
       "                        if (nbb_cells[i].get_text() == nbb_unformatted_code) {\n",
       "                             nbb_cells[i].set_text(nbb_formatted_code);\n",
       "                        }\n",
       "                        break;\n",
       "                    }\n",
       "                }\n",
       "            }, 500);\n",
       "            "
      ],
      "text/plain": [
       "<IPython.core.display.Javascript object>"
      ]
     },
     "metadata": {},
     "output_type": "display_data"
    }
   ],
   "source": [
    "# export\n",
    "\n",
    "\n",
    "class AsyncFileASGIHandler(ASGIHandler):\n",
    "    async def send_response(self, response, send):\n",
    "        \"\"\"Encode and send a response out over ASGI.\"\"\"\n",
    "        # Collect cookies into headers. Have to preserve header case as there\n",
    "        # are some non-RFC compliant clients that require e.g. Content-Type.\n",
    "        response_headers = []\n",
    "        for header, value in response.items():\n",
    "            if isinstance(header, str):\n",
    "                header = header.encode(\"ascii\")\n",
    "            if isinstance(value, str):\n",
    "                value = value.encode(\"latin1\")\n",
    "            response_headers.append((bytes(header), bytes(value)))\n",
    "        for c in response.cookies.values():\n",
    "            response_headers.append(\n",
    "                (b\"Set-Cookie\", c.output(header=\"\").encode(\"ascii\").strip())\n",
    "            )\n",
    "        # Initial response message.\n",
    "        await send(\n",
    "            {\n",
    "                \"type\": \"http.response.start\",\n",
    "                \"status\": response.status_code,\n",
    "                \"headers\": response_headers,\n",
    "            }\n",
    "        )\n",
    "        # Streaming responses need to be pinned to their iterator.\n",
    "        if response.streaming:\n",
    "            is_async_file_response = hasattr(response, \"__aiter__\")\n",
    "            if is_async_file_response:\n",
    "                async for more_body, chunk in response:\n",
    "                    await send(\n",
    "                        {\n",
    "                            \"type\": \"http.response.body\",\n",
    "                            \"body\": chunk,\n",
    "                            \"more_body\": more_body,\n",
    "                        }\n",
    "                    )\n",
    "\n",
    "            else:\n",
    "                # Access `__iter__` and not `streaming_content` directly in case\n",
    "                # it has been overridden in a subclass.\n",
    "                for part in response:\n",
    "                    for chunk, _ in self.chunk_bytes(part):\n",
    "                        await send(\n",
    "                            {\n",
    "                                \"type\": \"http.response.body\",\n",
    "                                \"body\": chunk,\n",
    "                                # Ignore \"more\" as there may be more parts; instead,\n",
    "                                # use an empty final closing message with False.\n",
    "                                \"more_body\": True,\n",
    "                            }\n",
    "                        )\n",
    "                # Final closing message.\n",
    "                await send({\"type\": \"http.response.body\"})\n",
    "        # Other responses just need chunking.\n",
    "        else:\n",
    "            # Yield chunks of response.\n",
    "            for chunk, last in self.chunk_bytes(response.content):\n",
    "                await send(\n",
    "                    {\n",
    "                        \"type\": \"http.response.body\",\n",
    "                        \"body\": chunk,\n",
    "                        \"more_body\": not last,\n",
    "                    }\n",
    "                )\n",
    "        await sync_to_async(response.close, thread_sensitive=True)()"
   ]
  },
  {
   "cell_type": "code",
   "execution_count": null,
   "id": "9ade15f7",
   "metadata": {},
   "outputs": [
    {
     "name": "stdout",
     "output_type": "stream",
     "text": [
      "Converted 00_index.ipynb.\n",
      "Converted 01_host.ipynb.\n",
      "Converted 02_file.ipynb.\n",
      "Converted 03_registry.ipynb.\n",
      "Converted 04_epochs.ipynb.\n",
      "Converted 10_servers.ipynb.\n",
      "Converted 11_views_for_fastapi_server.ipynb.\n",
      "Converted 12_views_for_django_server.ipynb.\n",
      "Warning: Exporting to \"django/asgi.py\" but this module is not part of this build\n",
      "Converted 13_django_asgi.ipynb.\n",
      "Converted 13_django_handlers.ipynb.\n",
      "Converted 14_django_async_file_response.ipynb.\n",
      "Converted 15_servers_started_locally.ipynb.\n",
      "Converted 16_servers_started_via_docker.ipynb.\n",
      "Converted 20_clients.ipynb.\n",
      "Converted 21_benchmark_client_implementations.ipynb.\n",
      "Converted 22_gevent_client.ipynb.\n",
      "Converted 30_control_server.ipynb.\n",
      "Converted 31_control_client.ipynb.\n",
      "Converted 32_control_cli.ipynb.\n",
      "Converted 40_results.ipynb.\n",
      "Converted 41_repositories.ipynb.\n",
      "Converted 42_sqlite_repository.ipynb.\n",
      "Converted 50_benchmark_without_benchmark.ipynb.\n",
      "Converted 51_benchmark_remote_control_server.ipynb.\n",
      "Converted 52_benchmark_from_config.ipynb.\n",
      "Converted 52_generate_files_for_benchmark.ipynb.\n",
      "Converted 53_analyze.ipynb.\n",
      "Converted 54_measure_with_plots.ipynb.\n",
      "Converted 54_measure_with_plots_not_gevent.ipynb.\n",
      "Converted 55_create_minio_files.ipynb.\n",
      "Converted 60_legacy.ipynb.\n",
      "Converted 61_run_benchmark.ipynb.\n"
     ]
    },
    {
     "data": {
      "application/javascript": [
       "\n",
       "            setTimeout(function() {\n",
       "                var nbb_cell_id = 11;\n",
       "                var nbb_unformatted_code = \"# hide\\n# dont_test\\n\\nfrom nbdev.export import notebook2script\\n\\nnotebook2script()\";\n",
       "                var nbb_formatted_code = \"# hide\\n# dont_test\\n\\nfrom nbdev.export import notebook2script\\n\\nnotebook2script()\";\n",
       "                var nbb_cells = Jupyter.notebook.get_cells();\n",
       "                for (var i = 0; i < nbb_cells.length; ++i) {\n",
       "                    if (nbb_cells[i].input_prompt_number == nbb_cell_id) {\n",
       "                        if (nbb_cells[i].get_text() == nbb_unformatted_code) {\n",
       "                             nbb_cells[i].set_text(nbb_formatted_code);\n",
       "                        }\n",
       "                        break;\n",
       "                    }\n",
       "                }\n",
       "            }, 500);\n",
       "            "
      ],
      "text/plain": [
       "<IPython.core.display.Javascript object>"
      ]
     },
     "metadata": {},
     "output_type": "display_data"
    }
   ],
   "source": [
    "# hide\n",
    "# dont_test\n",
    "\n",
    "from nbdev.export import notebook2script\n",
    "\n",
    "notebook2script()"
   ]
  },
  {
   "cell_type": "code",
   "execution_count": null,
   "id": "bb4a6b79",
   "metadata": {},
   "outputs": [],
   "source": []
  }
 ],
 "metadata": {
  "kernelspec": {
   "display_name": "Python 3",
   "language": "python",
   "name": "python3"
  }
 },
 "nbformat": 4,
 "nbformat_minor": 5
}
