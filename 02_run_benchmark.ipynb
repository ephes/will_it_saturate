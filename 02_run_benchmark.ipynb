{
 "cells": [
  {
   "cell_type": "code",
   "execution_count": null,
   "metadata": {},
   "outputs": [
    {
     "data": {
      "application/javascript": [
       "\n",
       "            setTimeout(function() {\n",
       "                var nbb_cell_id = 1;\n",
       "                var nbb_unformatted_code = \"# hide\\n\\n%load_ext nb_black\";\n",
       "                var nbb_formatted_code = \"# hide\\n\\n%load_ext nb_black\";\n",
       "                var nbb_cells = Jupyter.notebook.get_cells();\n",
       "                for (var i = 0; i < nbb_cells.length; ++i) {\n",
       "                    if (nbb_cells[i].input_prompt_number == nbb_cell_id) {\n",
       "                        if (nbb_cells[i].get_text() == nbb_unformatted_code) {\n",
       "                             nbb_cells[i].set_text(nbb_formatted_code);\n",
       "                        }\n",
       "                        break;\n",
       "                    }\n",
       "                }\n",
       "            }, 500);\n",
       "            "
      ],
      "text/plain": [
       "<IPython.core.display.Javascript object>"
      ]
     },
     "metadata": {},
     "output_type": "display_data"
    }
   ],
   "source": [
    "# hide\n",
    "\n",
    "%load_ext nb_black"
   ]
  },
  {
   "cell_type": "code",
   "execution_count": null,
   "metadata": {},
   "outputs": [
    {
     "data": {
      "application/javascript": [
       "\n",
       "            setTimeout(function() {\n",
       "                var nbb_cell_id = 2;\n",
       "                var nbb_unformatted_code = \"# default_exp client\";\n",
       "                var nbb_formatted_code = \"# default_exp client\";\n",
       "                var nbb_cells = Jupyter.notebook.get_cells();\n",
       "                for (var i = 0; i < nbb_cells.length; ++i) {\n",
       "                    if (nbb_cells[i].input_prompt_number == nbb_cell_id) {\n",
       "                        if (nbb_cells[i].get_text() == nbb_unformatted_code) {\n",
       "                             nbb_cells[i].set_text(nbb_formatted_code);\n",
       "                        }\n",
       "                        break;\n",
       "                    }\n",
       "                }\n",
       "            }, 500);\n",
       "            "
      ],
      "text/plain": [
       "<IPython.core.display.Javascript object>"
      ]
     },
     "metadata": {},
     "output_type": "display_data"
    }
   ],
   "source": [
    "# default_exp client"
   ]
  },
  {
   "cell_type": "code",
   "execution_count": null,
   "metadata": {},
   "outputs": [
    {
     "data": {
      "application/javascript": [
       "\n",
       "            setTimeout(function() {\n",
       "                var nbb_cell_id = 13;\n",
       "                var nbb_unformatted_code = \"# export\\n\\nimport os\\nimport math\\nimport time\\nimport httpx\\nimport asyncio\\nimport hashlib\\nimport aiohttp\\n\\nfrom pathlib import Path\\n\\nfrom will_it_saturate.core import Benchmark\";\n",
       "                var nbb_formatted_code = \"# export\\n\\nimport os\\nimport math\\nimport time\\nimport httpx\\nimport asyncio\\nimport hashlib\\nimport aiohttp\\n\\nfrom pathlib import Path\\n\\nfrom will_it_saturate.core import Benchmark\";\n",
       "                var nbb_cells = Jupyter.notebook.get_cells();\n",
       "                for (var i = 0; i < nbb_cells.length; ++i) {\n",
       "                    if (nbb_cells[i].input_prompt_number == nbb_cell_id) {\n",
       "                        if (nbb_cells[i].get_text() == nbb_unformatted_code) {\n",
       "                             nbb_cells[i].set_text(nbb_formatted_code);\n",
       "                        }\n",
       "                        break;\n",
       "                    }\n",
       "                }\n",
       "            }, 500);\n",
       "            "
      ],
      "text/plain": [
       "<IPython.core.display.Javascript object>"
      ]
     },
     "metadata": {},
     "output_type": "display_data"
    }
   ],
   "source": [
    "# export\n",
    "\n",
    "import os\n",
    "import math\n",
    "import time\n",
    "import httpx\n",
    "import asyncio\n",
    "import hashlib\n",
    "import aiohttp\n",
    "\n",
    "from pathlib import Path\n",
    "\n",
    "from will_it_saturate.core import Benchmark"
   ]
  },
  {
   "cell_type": "markdown",
   "metadata": {},
   "source": [
    "# Caveats\n",
    "\n",
    "On macOS increase open file limit with:\n",
    "\n",
    "```\n",
    "ulimit -n 2048\n",
    "```\n",
    "\n",
    "Before starting the fastAPI Server with:\n",
    "\n",
    "```\n",
    "uvicorn will_it_saturate.main:app --reload\n",
    "```\n",
    "\n"
   ]
  },
  {
   "cell_type": "code",
   "execution_count": null,
   "metadata": {},
   "outputs": [
    {
     "data": {
      "application/javascript": [
       "\n",
       "            setTimeout(function() {\n",
       "                var nbb_cell_id = 14;\n",
       "                var nbb_unformatted_code = \"# export\\n\\ndef convert_size(size_bytes):\\n    if size_bytes == 0:\\n        return \\\"0B\\\"\\n    size_name = (\\\"B\\\", \\\"KB\\\", \\\"MB\\\", \\\"GB\\\", \\\"TB\\\", \\\"PB\\\", \\\"EB\\\", \\\"ZB\\\", \\\"YB\\\")\\n    i = int(math.floor(math.log(size_bytes, 1024)))\\n    p = math.pow(1024, i)\\n    s = round(size_bytes / p, 2)\\n    return s, size_name[i]\";\n",
       "                var nbb_formatted_code = \"# export\\n\\n\\ndef convert_size(size_bytes):\\n    if size_bytes == 0:\\n        return \\\"0B\\\"\\n    size_name = (\\\"B\\\", \\\"KB\\\", \\\"MB\\\", \\\"GB\\\", \\\"TB\\\", \\\"PB\\\", \\\"EB\\\", \\\"ZB\\\", \\\"YB\\\")\\n    i = int(math.floor(math.log(size_bytes, 1024)))\\n    p = math.pow(1024, i)\\n    s = round(size_bytes / p, 2)\\n    return s, size_name[i]\";\n",
       "                var nbb_cells = Jupyter.notebook.get_cells();\n",
       "                for (var i = 0; i < nbb_cells.length; ++i) {\n",
       "                    if (nbb_cells[i].input_prompt_number == nbb_cell_id) {\n",
       "                        if (nbb_cells[i].get_text() == nbb_unformatted_code) {\n",
       "                             nbb_cells[i].set_text(nbb_formatted_code);\n",
       "                        }\n",
       "                        break;\n",
       "                    }\n",
       "                }\n",
       "            }, 500);\n",
       "            "
      ],
      "text/plain": [
       "<IPython.core.display.Javascript object>"
      ]
     },
     "metadata": {},
     "output_type": "display_data"
    }
   ],
   "source": [
    "# export\n",
    "\n",
    "\n",
    "def convert_size(size_bytes):\n",
    "    if size_bytes == 0:\n",
    "        return \"0B\"\n",
    "    size_name = (\"B\", \"KB\", \"MB\", \"GB\", \"TB\", \"PB\", \"EB\", \"ZB\", \"YB\")\n",
    "    i = int(math.floor(math.log(size_bytes, 1024)))\n",
    "    p = math.pow(1024, i)\n",
    "    s = round(size_bytes / p, 2)\n",
    "    return s, size_name[i]"
   ]
  },
  {
   "cell_type": "code",
   "execution_count": null,
   "metadata": {},
   "outputs": [
    {
     "data": {
      "application/javascript": [
       "\n",
       "            setTimeout(function() {\n",
       "                var nbb_cell_id = 4;\n",
       "                var nbb_unformatted_code = \"byte = 8\\ngigabit = 10 ** 9\\nbandwidth = gigabit / byte\\n\\nbenchmark = Benchmark(bandwidth=bandwidth, duration=3)\\n\\n# file_sizes = [10 ** 7, 10 ** 6]\\nfile_sizes = [10 ** 7, 10 ** 6, 10 ** 5]\\n# file_sizes = [10 ** 7]\\nbenchmark.create_rows(file_sizes)\";\n",
       "                var nbb_formatted_code = \"byte = 8\\ngigabit = 10 ** 9\\nbandwidth = gigabit / byte\\n\\nbenchmark = Benchmark(bandwidth=bandwidth, duration=3)\\n\\n# file_sizes = [10 ** 7, 10 ** 6]\\nfile_sizes = [10 ** 7, 10 ** 6, 10 ** 5]\\n# file_sizes = [10 ** 7]\\nbenchmark.create_rows(file_sizes)\";\n",
       "                var nbb_cells = Jupyter.notebook.get_cells();\n",
       "                for (var i = 0; i < nbb_cells.length; ++i) {\n",
       "                    if (nbb_cells[i].input_prompt_number == nbb_cell_id) {\n",
       "                        if (nbb_cells[i].get_text() == nbb_unformatted_code) {\n",
       "                             nbb_cells[i].set_text(nbb_formatted_code);\n",
       "                        }\n",
       "                        break;\n",
       "                    }\n",
       "                }\n",
       "            }, 500);\n",
       "            "
      ],
      "text/plain": [
       "<IPython.core.display.Javascript object>"
      ]
     },
     "metadata": {},
     "output_type": "display_data"
    }
   ],
   "source": [
    "byte = 8\n",
    "gigabit = 10 ** 9\n",
    "bandwidth = gigabit / byte\n",
    "\n",
    "benchmark = Benchmark(bandwidth=bandwidth, duration=3)\n",
    "\n",
    "# file_sizes = [10 ** 7, 10 ** 6]\n",
    "file_sizes = [10 ** 7, 10 ** 6, 10 ** 5]\n",
    "# file_sizes = [10 ** 7]\n",
    "benchmark.create_rows(file_sizes)"
   ]
  },
  {
   "cell_type": "code",
   "execution_count": null,
   "metadata": {},
   "outputs": [
    {
     "data": {
      "application/javascript": [
       "\n",
       "            setTimeout(function() {\n",
       "                var nbb_cell_id = 5;\n",
       "                var nbb_unformatted_code = \"# export\\n\\n\\nclass BaseClient:\\n    def __init__(self, benchmark):\\n        self.benchmark = benchmark\\n\\n    def check_md5sums(self, benchmark_files, responses):\\n        md5_lookup = {}\\n        for response in responses:\\n            url = str(response.url)\\n            md5_lookup[url] = hashlib.md5(response.content).hexdigest()\\n\\n        for bf in benchmark_files:\\n            assert bf.md5sum == md5_lookup.get(bf.url, \\\"wrong\\\")\";\n",
       "                var nbb_formatted_code = \"# export\\n\\n\\nclass BaseClient:\\n    def __init__(self, benchmark):\\n        self.benchmark = benchmark\\n\\n    def check_md5sums(self, benchmark_files, responses):\\n        md5_lookup = {}\\n        for response in responses:\\n            url = str(response.url)\\n            md5_lookup[url] = hashlib.md5(response.content).hexdigest()\\n\\n        for bf in benchmark_files:\\n            assert bf.md5sum == md5_lookup.get(bf.url, \\\"wrong\\\")\";\n",
       "                var nbb_cells = Jupyter.notebook.get_cells();\n",
       "                for (var i = 0; i < nbb_cells.length; ++i) {\n",
       "                    if (nbb_cells[i].input_prompt_number == nbb_cell_id) {\n",
       "                        if (nbb_cells[i].get_text() == nbb_unformatted_code) {\n",
       "                             nbb_cells[i].set_text(nbb_formatted_code);\n",
       "                        }\n",
       "                        break;\n",
       "                    }\n",
       "                }\n",
       "            }, 500);\n",
       "            "
      ],
      "text/plain": [
       "<IPython.core.display.Javascript object>"
      ]
     },
     "metadata": {},
     "output_type": "display_data"
    }
   ],
   "source": [
    "# export\n",
    "\n",
    "\n",
    "class BaseClient:\n",
    "    def __init__(self, benchmark):\n",
    "        self.benchmark = benchmark\n",
    "\n",
    "    def check_md5sums(self, benchmark_files, responses):\n",
    "        md5_lookup = {}\n",
    "        for response in responses:\n",
    "            url = str(response.url)\n",
    "            md5_lookup[url] = hashlib.md5(response.content).hexdigest()\n",
    "\n",
    "        for bf in benchmark_files:\n",
    "            assert bf.md5sum == md5_lookup.get(bf.url, \"wrong\")"
   ]
  },
  {
   "cell_type": "code",
   "execution_count": null,
   "metadata": {},
   "outputs": [
    {
     "data": {
      "application/javascript": [
       "\n",
       "            setTimeout(function() {\n",
       "                var nbb_cell_id = 6;\n",
       "                var nbb_unformatted_code = \"# export\\n\\n\\nclass HttpxClient(BaseClient):\\n    async def measure_benchmark_row(self, br):\\n        urls = [bf.url for bf in br.files]\\n        # httpx breaks on more than 100 parallel connections\\n        max_connections = min(br.number_of_connections, 100)\\n        limits = httpx.Limits(\\n            max_keepalive_connections=5, max_connections=max_connections\\n        )\\n        start = time.perf_counter()\\n        async with httpx.AsyncClient(limits=limits) as client:\\n            responses = await asyncio.gather(*[client.get(url) for url in urls])\\n        elapsed = time.perf_counter() - start\\n        self.check_md5sums(br.files, responses)\\n        br.elapsed = elapsed\\n\\n    async def run(self):\\n        for br in self.benchmark.rows:\\n            await self.measure_benchmark_row(br)\";\n",
       "                var nbb_formatted_code = \"# export\\n\\n\\nclass HttpxClient(BaseClient):\\n    async def measure_benchmark_row(self, br):\\n        urls = [bf.url for bf in br.files]\\n        # httpx breaks on more than 100 parallel connections\\n        max_connections = min(br.number_of_connections, 100)\\n        limits = httpx.Limits(\\n            max_keepalive_connections=5, max_connections=max_connections\\n        )\\n        start = time.perf_counter()\\n        async with httpx.AsyncClient(limits=limits) as client:\\n            responses = await asyncio.gather(*[client.get(url) for url in urls])\\n        elapsed = time.perf_counter() - start\\n        self.check_md5sums(br.files, responses)\\n        br.elapsed = elapsed\\n\\n    async def run(self):\\n        for br in self.benchmark.rows:\\n            await self.measure_benchmark_row(br)\";\n",
       "                var nbb_cells = Jupyter.notebook.get_cells();\n",
       "                for (var i = 0; i < nbb_cells.length; ++i) {\n",
       "                    if (nbb_cells[i].input_prompt_number == nbb_cell_id) {\n",
       "                        if (nbb_cells[i].get_text() == nbb_unformatted_code) {\n",
       "                             nbb_cells[i].set_text(nbb_formatted_code);\n",
       "                        }\n",
       "                        break;\n",
       "                    }\n",
       "                }\n",
       "            }, 500);\n",
       "            "
      ],
      "text/plain": [
       "<IPython.core.display.Javascript object>"
      ]
     },
     "metadata": {},
     "output_type": "display_data"
    }
   ],
   "source": [
    "# export\n",
    "\n",
    "\n",
    "class HttpxClient(BaseClient):\n",
    "    async def measure_benchmark_row(self, br):\n",
    "        urls = [bf.url for bf in br.files]\n",
    "        # httpx breaks on more than 100 parallel connections\n",
    "        max_connections = min(br.number_of_connections, 100)\n",
    "        limits = httpx.Limits(\n",
    "            max_keepalive_connections=5, max_connections=max_connections\n",
    "        )\n",
    "        start = time.perf_counter()\n",
    "        async with httpx.AsyncClient(limits=limits) as client:\n",
    "            responses = await asyncio.gather(*[client.get(url) for url in urls])\n",
    "        elapsed = time.perf_counter() - start\n",
    "        self.check_md5sums(br.files, responses)\n",
    "        br.elapsed = elapsed\n",
    "\n",
    "    async def run(self):\n",
    "        for br in self.benchmark.rows:\n",
    "            await self.measure_benchmark_row(br)"
   ]
  },
  {
   "cell_type": "code",
   "execution_count": null,
   "metadata": {},
   "outputs": [
    {
     "data": {
      "application/javascript": [
       "\n",
       "            setTimeout(function() {\n",
       "                var nbb_cell_id = 7;\n",
       "                var nbb_unformatted_code = \"bclient = HttpxClient(benchmark)\";\n",
       "                var nbb_formatted_code = \"bclient = HttpxClient(benchmark)\";\n",
       "                var nbb_cells = Jupyter.notebook.get_cells();\n",
       "                for (var i = 0; i < nbb_cells.length; ++i) {\n",
       "                    if (nbb_cells[i].input_prompt_number == nbb_cell_id) {\n",
       "                        if (nbb_cells[i].get_text() == nbb_unformatted_code) {\n",
       "                             nbb_cells[i].set_text(nbb_formatted_code);\n",
       "                        }\n",
       "                        break;\n",
       "                    }\n",
       "                }\n",
       "            }, 500);\n",
       "            "
      ],
      "text/plain": [
       "<IPython.core.display.Javascript object>"
      ]
     },
     "metadata": {},
     "output_type": "display_data"
    }
   ],
   "source": [
    "bclient = HttpxClient(benchmark)"
   ]
  },
  {
   "cell_type": "code",
   "execution_count": null,
   "metadata": {},
   "outputs": [
    {
     "data": {
      "text/plain": [
       "['http://localhost:8000/data/10000000_3_125000000/0',\n",
       " 'http://localhost:8000/data/10000000_3_125000000/1',\n",
       " 'http://localhost:8000/data/10000000_3_125000000/2',\n",
       " 'http://localhost:8000/data/10000000_3_125000000/3',\n",
       " 'http://localhost:8000/data/10000000_3_125000000/4',\n",
       " 'http://localhost:8000/data/10000000_3_125000000/5',\n",
       " 'http://localhost:8000/data/10000000_3_125000000/6',\n",
       " 'http://localhost:8000/data/10000000_3_125000000/7',\n",
       " 'http://localhost:8000/data/10000000_3_125000000/8',\n",
       " 'http://localhost:8000/data/10000000_3_125000000/9',\n",
       " 'http://localhost:8000/data/10000000_3_125000000/10',\n",
       " 'http://localhost:8000/data/10000000_3_125000000/11',\n",
       " 'http://localhost:8000/data/10000000_3_125000000/12',\n",
       " 'http://localhost:8000/data/10000000_3_125000000/13',\n",
       " 'http://localhost:8000/data/10000000_3_125000000/14',\n",
       " 'http://localhost:8000/data/10000000_3_125000000/15',\n",
       " 'http://localhost:8000/data/10000000_3_125000000/16',\n",
       " 'http://localhost:8000/data/10000000_3_125000000/17',\n",
       " 'http://localhost:8000/data/10000000_3_125000000/18',\n",
       " 'http://localhost:8000/data/10000000_3_125000000/19',\n",
       " 'http://localhost:8000/data/10000000_3_125000000/20',\n",
       " 'http://localhost:8000/data/10000000_3_125000000/21',\n",
       " 'http://localhost:8000/data/10000000_3_125000000/22',\n",
       " 'http://localhost:8000/data/10000000_3_125000000/23',\n",
       " 'http://localhost:8000/data/10000000_3_125000000/24',\n",
       " 'http://localhost:8000/data/10000000_3_125000000/25',\n",
       " 'http://localhost:8000/data/10000000_3_125000000/26',\n",
       " 'http://localhost:8000/data/10000000_3_125000000/27',\n",
       " 'http://localhost:8000/data/10000000_3_125000000/28',\n",
       " 'http://localhost:8000/data/10000000_3_125000000/29',\n",
       " 'http://localhost:8000/data/10000000_3_125000000/30',\n",
       " 'http://localhost:8000/data/10000000_3_125000000/31',\n",
       " 'http://localhost:8000/data/10000000_3_125000000/32',\n",
       " 'http://localhost:8000/data/10000000_3_125000000/33',\n",
       " 'http://localhost:8000/data/10000000_3_125000000/34',\n",
       " 'http://localhost:8000/data/10000000_3_125000000/35',\n",
       " 'http://localhost:8000/data/10000000_3_125000000/36',\n",
       " 'http://localhost:8000/data/10000000_3_125000000/37']"
      ]
     },
     "execution_count": null,
     "metadata": {},
     "output_type": "execute_result"
    },
    {
     "data": {
      "application/javascript": [
       "\n",
       "            setTimeout(function() {\n",
       "                var nbb_cell_id = 8;\n",
       "                var nbb_unformatted_code = \"[bf.url for bf in bclient.benchmark.rows[0].files]\";\n",
       "                var nbb_formatted_code = \"[bf.url for bf in bclient.benchmark.rows[0].files]\";\n",
       "                var nbb_cells = Jupyter.notebook.get_cells();\n",
       "                for (var i = 0; i < nbb_cells.length; ++i) {\n",
       "                    if (nbb_cells[i].input_prompt_number == nbb_cell_id) {\n",
       "                        if (nbb_cells[i].get_text() == nbb_unformatted_code) {\n",
       "                             nbb_cells[i].set_text(nbb_formatted_code);\n",
       "                        }\n",
       "                        break;\n",
       "                    }\n",
       "                }\n",
       "            }, 500);\n",
       "            "
      ],
      "text/plain": [
       "<IPython.core.display.Javascript object>"
      ]
     },
     "metadata": {},
     "output_type": "display_data"
    }
   ],
   "source": [
    "[bf.url for bf in bclient.benchmark.rows[0].files]"
   ]
  },
  {
   "cell_type": "code",
   "execution_count": null,
   "metadata": {},
   "outputs": [
    {
     "data": {
      "application/javascript": [
       "\n",
       "            setTimeout(function() {\n",
       "                var nbb_cell_id = 9;\n",
       "                var nbb_unformatted_code = \"await bclient.run()\";\n",
       "                var nbb_formatted_code = \"await bclient.run()\";\n",
       "                var nbb_cells = Jupyter.notebook.get_cells();\n",
       "                for (var i = 0; i < nbb_cells.length; ++i) {\n",
       "                    if (nbb_cells[i].input_prompt_number == nbb_cell_id) {\n",
       "                        if (nbb_cells[i].get_text() == nbb_unformatted_code) {\n",
       "                             nbb_cells[i].set_text(nbb_formatted_code);\n",
       "                        }\n",
       "                        break;\n",
       "                    }\n",
       "                }\n",
       "            }, 500);\n",
       "            "
      ],
      "text/plain": [
       "<IPython.core.display.Javascript object>"
      ]
     },
     "metadata": {},
     "output_type": "display_data"
    }
   ],
   "source": [
    "await bclient.run()"
   ]
  },
  {
   "cell_type": "code",
   "execution_count": null,
   "metadata": {},
   "outputs": [
    {
     "name": "stdout",
     "output_type": "stream",
     "text": [
      "59.83 MB\n",
      "48.33 MB\n",
      "12.12 MB\n"
     ]
    },
    {
     "data": {
      "application/javascript": [
       "\n",
       "            setTimeout(function() {\n",
       "                var nbb_cell_id = 18;\n",
       "                var nbb_unformatted_code = \"for br in benchmark.rows:\\n    # print(br.bytes_per_second)\\n    print(\\\" \\\".join([str(_) for _ in convert_size(br.bytes_per_second)]))\";\n",
       "                var nbb_formatted_code = \"for br in benchmark.rows:\\n    # print(br.bytes_per_second)\\n    print(\\\" \\\".join([str(_) for _ in convert_size(br.bytes_per_second)]))\";\n",
       "                var nbb_cells = Jupyter.notebook.get_cells();\n",
       "                for (var i = 0; i < nbb_cells.length; ++i) {\n",
       "                    if (nbb_cells[i].input_prompt_number == nbb_cell_id) {\n",
       "                        if (nbb_cells[i].get_text() == nbb_unformatted_code) {\n",
       "                             nbb_cells[i].set_text(nbb_formatted_code);\n",
       "                        }\n",
       "                        break;\n",
       "                    }\n",
       "                }\n",
       "            }, 500);\n",
       "            "
      ],
      "text/plain": [
       "<IPython.core.display.Javascript object>"
      ]
     },
     "metadata": {},
     "output_type": "display_data"
    }
   ],
   "source": [
    "for br in benchmark.rows:\n",
    "    # print(br.bytes_per_second)\n",
    "    print(\" \".join([str(_) for _ in convert_size(br.bytes_per_second)]))"
   ]
  },
  {
   "cell_type": "markdown",
   "metadata": {},
   "source": [
    "# aiohttp"
   ]
  },
  {
   "cell_type": "code",
   "execution_count": null,
   "metadata": {},
   "outputs": [
    {
     "data": {
      "application/javascript": [
       "\n",
       "            setTimeout(function() {\n",
       "                var nbb_cell_id = 19;\n",
       "                var nbb_unformatted_code = \"# export\\n\\n\\nclass AioHttpResponse:\\n    def __init__(self, url, content):\\n        self.url = url\\n        self.content = content\\n\\n\\nclass AioHttpClient(BaseClient):\\n    async def fetch_page(self, session, url):\\n        async with session.get(url) as response:\\n            content = await response.read()\\n            return AioHttpResponse(url, content)\\n\\n    async def measure_benchmark_row(self, br):\\n        urls = [bf.url for bf in br.files]\\n        max_connections = min(br.number_of_connections, 1000)\\n        # max_connections = br.number_of_connections\\n        conn = aiohttp.TCPConnector(limit=max_connections)\\n        responses = []\\n        start = time.perf_counter()\\n        async with aiohttp.ClientSession(connector=conn) as session:\\n            tasks = [asyncio.create_task(self.fetch_page(session, url)) for url in urls]\\n            responses = await asyncio.gather(*tasks)\\n        elapsed = time.perf_counter() - start\\n        self.responses = responses\\n        self.check_md5sums(br.files, responses)\\n        br.elapsed = elapsed\\n\\n    async def run(self):\\n        for br in self.benchmark.rows:\\n            await self.measure_benchmark_row(br)\";\n",
       "                var nbb_formatted_code = \"# export\\n\\n\\nclass AioHttpResponse:\\n    def __init__(self, url, content):\\n        self.url = url\\n        self.content = content\\n\\n\\nclass AioHttpClient(BaseClient):\\n    async def fetch_page(self, session, url):\\n        async with session.get(url) as response:\\n            content = await response.read()\\n            return AioHttpResponse(url, content)\\n\\n    async def measure_benchmark_row(self, br):\\n        urls = [bf.url for bf in br.files]\\n        max_connections = min(br.number_of_connections, 1000)\\n        # max_connections = br.number_of_connections\\n        conn = aiohttp.TCPConnector(limit=max_connections)\\n        responses = []\\n        start = time.perf_counter()\\n        async with aiohttp.ClientSession(connector=conn) as session:\\n            tasks = [asyncio.create_task(self.fetch_page(session, url)) for url in urls]\\n            responses = await asyncio.gather(*tasks)\\n        elapsed = time.perf_counter() - start\\n        self.responses = responses\\n        self.check_md5sums(br.files, responses)\\n        br.elapsed = elapsed\\n\\n    async def run(self):\\n        for br in self.benchmark.rows:\\n            await self.measure_benchmark_row(br)\";\n",
       "                var nbb_cells = Jupyter.notebook.get_cells();\n",
       "                for (var i = 0; i < nbb_cells.length; ++i) {\n",
       "                    if (nbb_cells[i].input_prompt_number == nbb_cell_id) {\n",
       "                        if (nbb_cells[i].get_text() == nbb_unformatted_code) {\n",
       "                             nbb_cells[i].set_text(nbb_formatted_code);\n",
       "                        }\n",
       "                        break;\n",
       "                    }\n",
       "                }\n",
       "            }, 500);\n",
       "            "
      ],
      "text/plain": [
       "<IPython.core.display.Javascript object>"
      ]
     },
     "metadata": {},
     "output_type": "display_data"
    }
   ],
   "source": [
    "# export\n",
    "\n",
    "\n",
    "class AioHttpResponse:\n",
    "    def __init__(self, url, content):\n",
    "        self.url = url\n",
    "        self.content = content\n",
    "\n",
    "\n",
    "class AioHttpClient(BaseClient):\n",
    "    async def fetch_page(self, session, url):\n",
    "        async with session.get(url) as response:\n",
    "            content = await response.read()\n",
    "            return AioHttpResponse(url, content)\n",
    "\n",
    "    async def measure_benchmark_row(self, br):\n",
    "        urls = [bf.url for bf in br.files]\n",
    "        max_connections = min(br.number_of_connections, 1000)\n",
    "        # max_connections = br.number_of_connections\n",
    "        conn = aiohttp.TCPConnector(limit=max_connections)\n",
    "        responses = []\n",
    "        start = time.perf_counter()\n",
    "        async with aiohttp.ClientSession(connector=conn) as session:\n",
    "            tasks = [asyncio.create_task(self.fetch_page(session, url)) for url in urls]\n",
    "            responses = await asyncio.gather(*tasks)\n",
    "        elapsed = time.perf_counter() - start\n",
    "        self.responses = responses\n",
    "        self.check_md5sums(br.files, responses)\n",
    "        br.elapsed = elapsed\n",
    "\n",
    "    async def run(self):\n",
    "        for br in self.benchmark.rows:\n",
    "            await self.measure_benchmark_row(br)"
   ]
  },
  {
   "cell_type": "code",
   "execution_count": null,
   "metadata": {},
   "outputs": [
    {
     "data": {
      "application/javascript": [
       "\n",
       "            setTimeout(function() {\n",
       "                var nbb_cell_id = 20;\n",
       "                var nbb_unformatted_code = \"bclient = AioHttpClient(benchmark)\";\n",
       "                var nbb_formatted_code = \"bclient = AioHttpClient(benchmark)\";\n",
       "                var nbb_cells = Jupyter.notebook.get_cells();\n",
       "                for (var i = 0; i < nbb_cells.length; ++i) {\n",
       "                    if (nbb_cells[i].input_prompt_number == nbb_cell_id) {\n",
       "                        if (nbb_cells[i].get_text() == nbb_unformatted_code) {\n",
       "                             nbb_cells[i].set_text(nbb_formatted_code);\n",
       "                        }\n",
       "                        break;\n",
       "                    }\n",
       "                }\n",
       "            }, 500);\n",
       "            "
      ],
      "text/plain": [
       "<IPython.core.display.Javascript object>"
      ]
     },
     "metadata": {},
     "output_type": "display_data"
    }
   ],
   "source": [
    "bclient = AioHttpClient(benchmark)"
   ]
  },
  {
   "cell_type": "code",
   "execution_count": null,
   "metadata": {},
   "outputs": [
    {
     "data": {
      "application/javascript": [
       "\n",
       "            setTimeout(function() {\n",
       "                var nbb_cell_id = 21;\n",
       "                var nbb_unformatted_code = \"await bclient.run()\";\n",
       "                var nbb_formatted_code = \"await bclient.run()\";\n",
       "                var nbb_cells = Jupyter.notebook.get_cells();\n",
       "                for (var i = 0; i < nbb_cells.length; ++i) {\n",
       "                    if (nbb_cells[i].input_prompt_number == nbb_cell_id) {\n",
       "                        if (nbb_cells[i].get_text() == nbb_unformatted_code) {\n",
       "                             nbb_cells[i].set_text(nbb_formatted_code);\n",
       "                        }\n",
       "                        break;\n",
       "                    }\n",
       "                }\n",
       "            }, 500);\n",
       "            "
      ],
      "text/plain": [
       "<IPython.core.display.Javascript object>"
      ]
     },
     "metadata": {},
     "output_type": "display_data"
    }
   ],
   "source": [
    "await bclient.run()"
   ]
  },
  {
   "cell_type": "code",
   "execution_count": null,
   "metadata": {},
   "outputs": [
    {
     "name": "stdout",
     "output_type": "stream",
     "text": [
      "61.16 MB\n",
      "54.44 MB\n",
      "31.9 MB\n"
     ]
    },
    {
     "data": {
      "application/javascript": [
       "\n",
       "            setTimeout(function() {\n",
       "                var nbb_cell_id = 22;\n",
       "                var nbb_unformatted_code = \"for br in benchmark.rows:\\n    # print(br.elapsed)\\n    # print(br.bytes_per_second)\\n    print(\\\" \\\".join([str(_) for _ in convert_size(br.bytes_per_second)]))\";\n",
       "                var nbb_formatted_code = \"for br in benchmark.rows:\\n    # print(br.elapsed)\\n    # print(br.bytes_per_second)\\n    print(\\\" \\\".join([str(_) for _ in convert_size(br.bytes_per_second)]))\";\n",
       "                var nbb_cells = Jupyter.notebook.get_cells();\n",
       "                for (var i = 0; i < nbb_cells.length; ++i) {\n",
       "                    if (nbb_cells[i].input_prompt_number == nbb_cell_id) {\n",
       "                        if (nbb_cells[i].get_text() == nbb_unformatted_code) {\n",
       "                             nbb_cells[i].set_text(nbb_formatted_code);\n",
       "                        }\n",
       "                        break;\n",
       "                    }\n",
       "                }\n",
       "            }, 500);\n",
       "            "
      ],
      "text/plain": [
       "<IPython.core.display.Javascript object>"
      ]
     },
     "metadata": {},
     "output_type": "display_data"
    }
   ],
   "source": [
    "for br in benchmark.rows:\n",
    "    # print(br.elapsed)\n",
    "    # print(br.bytes_per_second)\n",
    "    print(\" \".join([str(_) for _ in convert_size(br.bytes_per_second)]))"
   ]
  },
  {
   "cell_type": "markdown",
   "metadata": {},
   "source": [
    "# Export"
   ]
  },
  {
   "cell_type": "code",
   "execution_count": null,
   "metadata": {},
   "outputs": [
    {
     "name": "stdout",
     "output_type": "stream",
     "text": [
      "Converted 00_core.ipynb.\n",
      "Converted 01_serve_files.ipynb.\n",
      "Converted 02_run_benchmark.ipynb.\n",
      "Converted 03_create_files_old.ipynb.\n",
      "Converted index.ipynb.\n"
     ]
    },
    {
     "data": {
      "application/javascript": [
       "\n",
       "            setTimeout(function() {\n",
       "                var nbb_cell_id = 13;\n",
       "                var nbb_unformatted_code = \"from nbdev.export import notebook2script\\n\\nnotebook2script()\";\n",
       "                var nbb_formatted_code = \"from nbdev.export import notebook2script\\n\\nnotebook2script()\";\n",
       "                var nbb_cells = Jupyter.notebook.get_cells();\n",
       "                for (var i = 0; i < nbb_cells.length; ++i) {\n",
       "                    if (nbb_cells[i].input_prompt_number == nbb_cell_id) {\n",
       "                        if (nbb_cells[i].get_text() == nbb_unformatted_code) {\n",
       "                             nbb_cells[i].set_text(nbb_formatted_code);\n",
       "                        }\n",
       "                        break;\n",
       "                    }\n",
       "                }\n",
       "            }, 500);\n",
       "            "
      ],
      "text/plain": [
       "<IPython.core.display.Javascript object>"
      ]
     },
     "metadata": {},
     "output_type": "display_data"
    }
   ],
   "source": [
    "from nbdev.export import notebook2script\n",
    "\n",
    "notebook2script()"
   ]
  }
 ],
 "metadata": {
  "kernelspec": {
   "display_name": "Python 3",
   "language": "python",
   "name": "python3"
  }
 },
 "nbformat": 4,
 "nbformat_minor": 2
}
