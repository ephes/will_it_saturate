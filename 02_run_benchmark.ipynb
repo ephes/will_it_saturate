{
 "cells": [
  {
   "cell_type": "code",
   "execution_count": null,
   "metadata": {},
   "outputs": [
    {
     "data": {
      "application/javascript": [
       "\n",
       "            setTimeout(function() {\n",
       "                var nbb_cell_id = 1;\n",
       "                var nbb_unformatted_code = \"# hide\\n\\n%load_ext nb_black\";\n",
       "                var nbb_formatted_code = \"# hide\\n\\n%load_ext nb_black\";\n",
       "                var nbb_cells = Jupyter.notebook.get_cells();\n",
       "                for (var i = 0; i < nbb_cells.length; ++i) {\n",
       "                    if (nbb_cells[i].input_prompt_number == nbb_cell_id) {\n",
       "                        if (nbb_cells[i].get_text() == nbb_unformatted_code) {\n",
       "                             nbb_cells[i].set_text(nbb_formatted_code);\n",
       "                        }\n",
       "                        break;\n",
       "                    }\n",
       "                }\n",
       "            }, 500);\n",
       "            "
      ],
      "text/plain": [
       "<IPython.core.display.Javascript object>"
      ]
     },
     "metadata": {},
     "output_type": "display_data"
    }
   ],
   "source": [
    "# hide\n",
    "\n",
    "%load_ext nb_black"
   ]
  },
  {
   "cell_type": "code",
   "execution_count": null,
   "metadata": {},
   "outputs": [
    {
     "data": {
      "application/javascript": [
       "\n",
       "            setTimeout(function() {\n",
       "                var nbb_cell_id = 2;\n",
       "                var nbb_unformatted_code = \"# default_exp client\";\n",
       "                var nbb_formatted_code = \"# default_exp client\";\n",
       "                var nbb_cells = Jupyter.notebook.get_cells();\n",
       "                for (var i = 0; i < nbb_cells.length; ++i) {\n",
       "                    if (nbb_cells[i].input_prompt_number == nbb_cell_id) {\n",
       "                        if (nbb_cells[i].get_text() == nbb_unformatted_code) {\n",
       "                             nbb_cells[i].set_text(nbb_formatted_code);\n",
       "                        }\n",
       "                        break;\n",
       "                    }\n",
       "                }\n",
       "            }, 500);\n",
       "            "
      ],
      "text/plain": [
       "<IPython.core.display.Javascript object>"
      ]
     },
     "metadata": {},
     "output_type": "display_data"
    }
   ],
   "source": [
    "# default_exp client"
   ]
  },
  {
   "cell_type": "code",
   "execution_count": null,
   "metadata": {},
   "outputs": [
    {
     "data": {
      "application/javascript": [
       "\n",
       "            setTimeout(function() {\n",
       "                var nbb_cell_id = 3;\n",
       "                var nbb_unformatted_code = \"# export\\n\\nimport os\\nimport time\\nimport httpx\\nimport asyncio\\nimport hashlib\\nimport aiohttp\\n\\nfrom pathlib import Path\\n\\nfrom will_it_saturate.core import Benchmark\";\n",
       "                var nbb_formatted_code = \"# export\\n\\nimport os\\nimport time\\nimport httpx\\nimport asyncio\\nimport hashlib\\nimport aiohttp\\n\\nfrom pathlib import Path\\n\\nfrom will_it_saturate.core import Benchmark\";\n",
       "                var nbb_cells = Jupyter.notebook.get_cells();\n",
       "                for (var i = 0; i < nbb_cells.length; ++i) {\n",
       "                    if (nbb_cells[i].input_prompt_number == nbb_cell_id) {\n",
       "                        if (nbb_cells[i].get_text() == nbb_unformatted_code) {\n",
       "                             nbb_cells[i].set_text(nbb_formatted_code);\n",
       "                        }\n",
       "                        break;\n",
       "                    }\n",
       "                }\n",
       "            }, 500);\n",
       "            "
      ],
      "text/plain": [
       "<IPython.core.display.Javascript object>"
      ]
     },
     "metadata": {},
     "output_type": "display_data"
    }
   ],
   "source": [
    "# export\n",
    "\n",
    "import os\n",
    "import time\n",
    "import httpx\n",
    "import asyncio\n",
    "import hashlib\n",
    "import aiohttp\n",
    "\n",
    "from pathlib import Path\n",
    "\n",
    "from will_it_saturate.core import Benchmark"
   ]
  },
  {
   "cell_type": "code",
   "execution_count": null,
   "metadata": {},
   "outputs": [
    {
     "data": {
      "application/javascript": [
       "\n",
       "            setTimeout(function() {\n",
       "                var nbb_cell_id = 4;\n",
       "                var nbb_unformatted_code = \"byte = 8\\ngigabit = 10 ** 9\\nbandwidth = gigabit / byte\\n\\nbenchmark = Benchmark(bandwidth=bandwidth, duration=3)\\n\\n# file_sizes = [10 ** 7, 10 ** 6]\\nfile_sizes = [10 ** 7, 10 ** 6, 10 ** 5]\\n# file_sizes = [10 ** 7]\\nbenchmark.create_rows(file_sizes)\";\n",
       "                var nbb_formatted_code = \"byte = 8\\ngigabit = 10 ** 9\\nbandwidth = gigabit / byte\\n\\nbenchmark = Benchmark(bandwidth=bandwidth, duration=3)\\n\\n# file_sizes = [10 ** 7, 10 ** 6]\\nfile_sizes = [10 ** 7, 10 ** 6, 10 ** 5]\\n# file_sizes = [10 ** 7]\\nbenchmark.create_rows(file_sizes)\";\n",
       "                var nbb_cells = Jupyter.notebook.get_cells();\n",
       "                for (var i = 0; i < nbb_cells.length; ++i) {\n",
       "                    if (nbb_cells[i].input_prompt_number == nbb_cell_id) {\n",
       "                        if (nbb_cells[i].get_text() == nbb_unformatted_code) {\n",
       "                             nbb_cells[i].set_text(nbb_formatted_code);\n",
       "                        }\n",
       "                        break;\n",
       "                    }\n",
       "                }\n",
       "            }, 500);\n",
       "            "
      ],
      "text/plain": [
       "<IPython.core.display.Javascript object>"
      ]
     },
     "metadata": {},
     "output_type": "display_data"
    }
   ],
   "source": [
    "byte = 8\n",
    "gigabit = 10 ** 9\n",
    "bandwidth = gigabit / byte\n",
    "\n",
    "benchmark = Benchmark(bandwidth=bandwidth, duration=3)\n",
    "\n",
    "# file_sizes = [10 ** 7, 10 ** 6]\n",
    "file_sizes = [10 ** 7, 10 ** 6, 10 ** 5]\n",
    "# file_sizes = [10 ** 7]\n",
    "benchmark.create_rows(file_sizes)"
   ]
  },
  {
   "cell_type": "code",
   "execution_count": null,
   "metadata": {},
   "outputs": [
    {
     "data": {
      "application/javascript": [
       "\n",
       "            setTimeout(function() {\n",
       "                var nbb_cell_id = 5;\n",
       "                var nbb_unformatted_code = \"# export\\n\\n\\nclass BaseClient:\\n    def __init__(self, benchmark):\\n        self.benchmark = benchmark\\n\\n    def check_md5sums(self, benchmark_files, responses):\\n        md5_lookup = {}\\n        for response in responses:\\n            url = str(response.url)\\n            md5_lookup[url] = hashlib.md5(response.content).hexdigest()\\n\\n        for bf in benchmark_files:\\n            assert bf.md5sum == md5_lookup.get(bf.url, \\\"wrong\\\")\";\n",
       "                var nbb_formatted_code = \"# export\\n\\n\\nclass BaseClient:\\n    def __init__(self, benchmark):\\n        self.benchmark = benchmark\\n\\n    def check_md5sums(self, benchmark_files, responses):\\n        md5_lookup = {}\\n        for response in responses:\\n            url = str(response.url)\\n            md5_lookup[url] = hashlib.md5(response.content).hexdigest()\\n\\n        for bf in benchmark_files:\\n            assert bf.md5sum == md5_lookup.get(bf.url, \\\"wrong\\\")\";\n",
       "                var nbb_cells = Jupyter.notebook.get_cells();\n",
       "                for (var i = 0; i < nbb_cells.length; ++i) {\n",
       "                    if (nbb_cells[i].input_prompt_number == nbb_cell_id) {\n",
       "                        if (nbb_cells[i].get_text() == nbb_unformatted_code) {\n",
       "                             nbb_cells[i].set_text(nbb_formatted_code);\n",
       "                        }\n",
       "                        break;\n",
       "                    }\n",
       "                }\n",
       "            }, 500);\n",
       "            "
      ],
      "text/plain": [
       "<IPython.core.display.Javascript object>"
      ]
     },
     "metadata": {},
     "output_type": "display_data"
    }
   ],
   "source": [
    "# export\n",
    "\n",
    "\n",
    "class BaseClient:\n",
    "    def __init__(self, benchmark):\n",
    "        self.benchmark = benchmark\n",
    "\n",
    "    def check_md5sums(self, benchmark_files, responses):\n",
    "        md5_lookup = {}\n",
    "        for response in responses:\n",
    "            url = str(response.url)\n",
    "            md5_lookup[url] = hashlib.md5(response.content).hexdigest()\n",
    "\n",
    "        for bf in benchmark_files:\n",
    "            assert bf.md5sum == md5_lookup.get(bf.url, \"wrong\")"
   ]
  },
  {
   "cell_type": "code",
   "execution_count": null,
   "metadata": {},
   "outputs": [
    {
     "data": {
      "application/javascript": [
       "\n",
       "            setTimeout(function() {\n",
       "                var nbb_cell_id = 6;\n",
       "                var nbb_unformatted_code = \"# export\\n\\n\\nclass HttpxClient(BaseClient):\\n    async def measure_benchmark_row(self, br):\\n        urls = [bf.url for bf in br.files]\\n        # httpx breaks on more than 100 parallel connections\\n        max_connections = min(br.number_of_connections, 100)\\n        limits = httpx.Limits(\\n            max_keepalive_connections=5, max_connections=max_connections\\n        )\\n        start = time.perf_counter()\\n        async with httpx.AsyncClient(limits=limits) as client:\\n            responses = await asyncio.gather(*[client.get(url) for url in urls])\\n        elapsed = time.perf_counter() - start\\n        self.check_md5sums(br.files, responses)\\n        br.elapsed = elapsed\\n\\n    async def run(self):\\n        for br in self.benchmark.rows:\\n            await self.measure_benchmark_row(br)\";\n",
       "                var nbb_formatted_code = \"# export\\n\\n\\nclass HttpxClient(BaseClient):\\n    async def measure_benchmark_row(self, br):\\n        urls = [bf.url for bf in br.files]\\n        # httpx breaks on more than 100 parallel connections\\n        max_connections = min(br.number_of_connections, 100)\\n        limits = httpx.Limits(\\n            max_keepalive_connections=5, max_connections=max_connections\\n        )\\n        start = time.perf_counter()\\n        async with httpx.AsyncClient(limits=limits) as client:\\n            responses = await asyncio.gather(*[client.get(url) for url in urls])\\n        elapsed = time.perf_counter() - start\\n        self.check_md5sums(br.files, responses)\\n        br.elapsed = elapsed\\n\\n    async def run(self):\\n        for br in self.benchmark.rows:\\n            await self.measure_benchmark_row(br)\";\n",
       "                var nbb_cells = Jupyter.notebook.get_cells();\n",
       "                for (var i = 0; i < nbb_cells.length; ++i) {\n",
       "                    if (nbb_cells[i].input_prompt_number == nbb_cell_id) {\n",
       "                        if (nbb_cells[i].get_text() == nbb_unformatted_code) {\n",
       "                             nbb_cells[i].set_text(nbb_formatted_code);\n",
       "                        }\n",
       "                        break;\n",
       "                    }\n",
       "                }\n",
       "            }, 500);\n",
       "            "
      ],
      "text/plain": [
       "<IPython.core.display.Javascript object>"
      ]
     },
     "metadata": {},
     "output_type": "display_data"
    }
   ],
   "source": [
    "# export\n",
    "\n",
    "\n",
    "class HttpxClient(BaseClient):\n",
    "    async def measure_benchmark_row(self, br):\n",
    "        urls = [bf.url for bf in br.files]\n",
    "        # httpx breaks on more than 100 parallel connections\n",
    "        max_connections = min(br.number_of_connections, 100)\n",
    "        limits = httpx.Limits(\n",
    "            max_keepalive_connections=5, max_connections=max_connections\n",
    "        )\n",
    "        start = time.perf_counter()\n",
    "        async with httpx.AsyncClient(limits=limits) as client:\n",
    "            responses = await asyncio.gather(*[client.get(url) for url in urls])\n",
    "        elapsed = time.perf_counter() - start\n",
    "        self.check_md5sums(br.files, responses)\n",
    "        br.elapsed = elapsed\n",
    "\n",
    "    async def run(self):\n",
    "        for br in self.benchmark.rows:\n",
    "            await self.measure_benchmark_row(br)"
   ]
  },
  {
   "cell_type": "code",
   "execution_count": null,
   "metadata": {},
   "outputs": [
    {
     "data": {
      "application/javascript": [
       "\n",
       "            setTimeout(function() {\n",
       "                var nbb_cell_id = 7;\n",
       "                var nbb_unformatted_code = \"bclient = HttpxClient(benchmark)\";\n",
       "                var nbb_formatted_code = \"bclient = HttpxClient(benchmark)\";\n",
       "                var nbb_cells = Jupyter.notebook.get_cells();\n",
       "                for (var i = 0; i < nbb_cells.length; ++i) {\n",
       "                    if (nbb_cells[i].input_prompt_number == nbb_cell_id) {\n",
       "                        if (nbb_cells[i].get_text() == nbb_unformatted_code) {\n",
       "                             nbb_cells[i].set_text(nbb_formatted_code);\n",
       "                        }\n",
       "                        break;\n",
       "                    }\n",
       "                }\n",
       "            }, 500);\n",
       "            "
      ],
      "text/plain": [
       "<IPython.core.display.Javascript object>"
      ]
     },
     "metadata": {},
     "output_type": "display_data"
    }
   ],
   "source": [
    "bclient = HttpxClient(benchmark)"
   ]
  },
  {
   "cell_type": "code",
   "execution_count": null,
   "metadata": {},
   "outputs": [
    {
     "data": {
      "application/javascript": [
       "\n",
       "            setTimeout(function() {\n",
       "                var nbb_cell_id = 8;\n",
       "                var nbb_unformatted_code = \"await bclient.run()\";\n",
       "                var nbb_formatted_code = \"await bclient.run()\";\n",
       "                var nbb_cells = Jupyter.notebook.get_cells();\n",
       "                for (var i = 0; i < nbb_cells.length; ++i) {\n",
       "                    if (nbb_cells[i].input_prompt_number == nbb_cell_id) {\n",
       "                        if (nbb_cells[i].get_text() == nbb_unformatted_code) {\n",
       "                             nbb_cells[i].set_text(nbb_formatted_code);\n",
       "                        }\n",
       "                        break;\n",
       "                    }\n",
       "                }\n",
       "            }, 500);\n",
       "            "
      ],
      "text/plain": [
       "<IPython.core.display.Javascript object>"
      ]
     },
     "metadata": {},
     "output_type": "display_data"
    }
   ],
   "source": [
    "await bclient.run()"
   ]
  },
  {
   "cell_type": "code",
   "execution_count": null,
   "metadata": {},
   "outputs": [
    {
     "name": "stdout",
     "output_type": "stream",
     "text": [
      "115508622.77644457\n",
      "92834362.10747789\n",
      "55720874.5777953\n"
     ]
    },
    {
     "data": {
      "application/javascript": [
       "\n",
       "            setTimeout(function() {\n",
       "                var nbb_cell_id = 9;\n",
       "                var nbb_unformatted_code = \"for br in benchmark.rows:\\n    print(br.bytes_per_second)\";\n",
       "                var nbb_formatted_code = \"for br in benchmark.rows:\\n    print(br.bytes_per_second)\";\n",
       "                var nbb_cells = Jupyter.notebook.get_cells();\n",
       "                for (var i = 0; i < nbb_cells.length; ++i) {\n",
       "                    if (nbb_cells[i].input_prompt_number == nbb_cell_id) {\n",
       "                        if (nbb_cells[i].get_text() == nbb_unformatted_code) {\n",
       "                             nbb_cells[i].set_text(nbb_formatted_code);\n",
       "                        }\n",
       "                        break;\n",
       "                    }\n",
       "                }\n",
       "            }, 500);\n",
       "            "
      ],
      "text/plain": [
       "<IPython.core.display.Javascript object>"
      ]
     },
     "metadata": {},
     "output_type": "display_data"
    }
   ],
   "source": [
    "for br in benchmark.rows:\n",
    "    print(br.bytes_per_second)"
   ]
  },
  {
   "cell_type": "markdown",
   "metadata": {},
   "source": [
    "# aiohttp"
   ]
  },
  {
   "cell_type": "code",
   "execution_count": null,
   "metadata": {},
   "outputs": [
    {
     "data": {
      "application/javascript": [
       "\n",
       "            setTimeout(function() {\n",
       "                var nbb_cell_id = 12;\n",
       "                var nbb_unformatted_code = \"#export\\n\\n\\nclass AioHttpResponse:\\n    def __init__(self, url, content):\\n        self.url = url\\n        self.content = content\\n\\n\\nclass AioHttpClient(BaseClient):\\n    async def fetch_page(self, session, url):\\n        async with session.get(url) as response:\\n            content = await response.read()\\n            return AioHttpResponse(url, content)\\n\\n    async def measure_benchmark_row(self, br):\\n        urls = [bf.url for bf in br.files]\\n        max_connections = min(br.number_of_connections, 300)\\n        conn = aiohttp.TCPConnector(limit=max_connections)\\n        responses = []\\n        start = time.perf_counter()\\n        async with aiohttp.ClientSession(connector=conn) as session:\\n            tasks = [asyncio.create_task(self.fetch_page(session, url)) for url in urls]\\n            responses = await asyncio.gather(*tasks)\\n        elapsed = time.perf_counter() - start\\n        self.responses = responses\\n        self.check_md5sums(br.files, responses)\\n        br.elapsed = elapsed\\n\\n    async def run(self):\\n        for br in self.benchmark.rows:\\n            await self.measure_benchmark_row(br)\";\n",
       "                var nbb_formatted_code = \"# export\\n\\n\\nclass AioHttpResponse:\\n    def __init__(self, url, content):\\n        self.url = url\\n        self.content = content\\n\\n\\nclass AioHttpClient(BaseClient):\\n    async def fetch_page(self, session, url):\\n        async with session.get(url) as response:\\n            content = await response.read()\\n            return AioHttpResponse(url, content)\\n\\n    async def measure_benchmark_row(self, br):\\n        urls = [bf.url for bf in br.files]\\n        max_connections = min(br.number_of_connections, 300)\\n        conn = aiohttp.TCPConnector(limit=max_connections)\\n        responses = []\\n        start = time.perf_counter()\\n        async with aiohttp.ClientSession(connector=conn) as session:\\n            tasks = [asyncio.create_task(self.fetch_page(session, url)) for url in urls]\\n            responses = await asyncio.gather(*tasks)\\n        elapsed = time.perf_counter() - start\\n        self.responses = responses\\n        self.check_md5sums(br.files, responses)\\n        br.elapsed = elapsed\\n\\n    async def run(self):\\n        for br in self.benchmark.rows:\\n            await self.measure_benchmark_row(br)\";\n",
       "                var nbb_cells = Jupyter.notebook.get_cells();\n",
       "                for (var i = 0; i < nbb_cells.length; ++i) {\n",
       "                    if (nbb_cells[i].input_prompt_number == nbb_cell_id) {\n",
       "                        if (nbb_cells[i].get_text() == nbb_unformatted_code) {\n",
       "                             nbb_cells[i].set_text(nbb_formatted_code);\n",
       "                        }\n",
       "                        break;\n",
       "                    }\n",
       "                }\n",
       "            }, 500);\n",
       "            "
      ],
      "text/plain": [
       "<IPython.core.display.Javascript object>"
      ]
     },
     "metadata": {},
     "output_type": "display_data"
    }
   ],
   "source": [
    "# export\n",
    "\n",
    "\n",
    "class AioHttpResponse:\n",
    "    def __init__(self, url, content):\n",
    "        self.url = url\n",
    "        self.content = content\n",
    "\n",
    "\n",
    "class AioHttpClient(BaseClient):\n",
    "    async def fetch_page(self, session, url):\n",
    "        async with session.get(url) as response:\n",
    "            content = await response.read()\n",
    "            return AioHttpResponse(url, content)\n",
    "\n",
    "    async def measure_benchmark_row(self, br):\n",
    "        urls = [bf.url for bf in br.files]\n",
    "        max_connections = min(br.number_of_connections, 300)\n",
    "        conn = aiohttp.TCPConnector(limit=max_connections)\n",
    "        responses = []\n",
    "        start = time.perf_counter()\n",
    "        async with aiohttp.ClientSession(connector=conn) as session:\n",
    "            tasks = [asyncio.create_task(self.fetch_page(session, url)) for url in urls]\n",
    "            responses = await asyncio.gather(*tasks)\n",
    "        elapsed = time.perf_counter() - start\n",
    "        self.responses = responses\n",
    "        self.check_md5sums(br.files, responses)\n",
    "        br.elapsed = elapsed\n",
    "\n",
    "    async def run(self):\n",
    "        for br in self.benchmark.rows:\n",
    "            await self.measure_benchmark_row(br)"
   ]
  },
  {
   "cell_type": "code",
   "execution_count": null,
   "metadata": {},
   "outputs": [
    {
     "data": {
      "application/javascript": [
       "\n",
       "            setTimeout(function() {\n",
       "                var nbb_cell_id = 8;\n",
       "                var nbb_unformatted_code = \"bclient = AioHttpClient(benchmark)\";\n",
       "                var nbb_formatted_code = \"bclient = AioHttpClient(benchmark)\";\n",
       "                var nbb_cells = Jupyter.notebook.get_cells();\n",
       "                for (var i = 0; i < nbb_cells.length; ++i) {\n",
       "                    if (nbb_cells[i].input_prompt_number == nbb_cell_id) {\n",
       "                        if (nbb_cells[i].get_text() == nbb_unformatted_code) {\n",
       "                             nbb_cells[i].set_text(nbb_formatted_code);\n",
       "                        }\n",
       "                        break;\n",
       "                    }\n",
       "                }\n",
       "            }, 500);\n",
       "            "
      ],
      "text/plain": [
       "<IPython.core.display.Javascript object>"
      ]
     },
     "metadata": {},
     "output_type": "display_data"
    }
   ],
   "source": [
    "bclient = AioHttpClient(benchmark)"
   ]
  },
  {
   "cell_type": "code",
   "execution_count": null,
   "metadata": {},
   "outputs": [
    {
     "data": {
      "application/javascript": [
       "\n",
       "            setTimeout(function() {\n",
       "                var nbb_cell_id = 9;\n",
       "                var nbb_unformatted_code = \"await bclient.run()\";\n",
       "                var nbb_formatted_code = \"await bclient.run()\";\n",
       "                var nbb_cells = Jupyter.notebook.get_cells();\n",
       "                for (var i = 0; i < nbb_cells.length; ++i) {\n",
       "                    if (nbb_cells[i].input_prompt_number == nbb_cell_id) {\n",
       "                        if (nbb_cells[i].get_text() == nbb_unformatted_code) {\n",
       "                             nbb_cells[i].set_text(nbb_formatted_code);\n",
       "                        }\n",
       "                        break;\n",
       "                    }\n",
       "                }\n",
       "            }, 500);\n",
       "            "
      ],
      "text/plain": [
       "<IPython.core.display.Javascript object>"
      ]
     },
     "metadata": {},
     "output_type": "display_data"
    }
   ],
   "source": [
    "await bclient.run()"
   ]
  },
  {
   "cell_type": "code",
   "execution_count": null,
   "metadata": {},
   "outputs": [
    {
     "name": "stdout",
     "output_type": "stream",
     "text": [
      "3.223404542000001\n",
      "116336623.31670187\n",
      "3.539465290999999\n",
      "105948206.62701057\n",
      "5.533927666999997\n",
      "67763805.84737416\n"
     ]
    },
    {
     "data": {
      "application/javascript": [
       "\n",
       "            setTimeout(function() {\n",
       "                var nbb_cell_id = 10;\n",
       "                var nbb_unformatted_code = \"for br in benchmark.rows:\\n    print(br.elapsed)\\n    print(br.bytes_per_second)\";\n",
       "                var nbb_formatted_code = \"for br in benchmark.rows:\\n    print(br.elapsed)\\n    print(br.bytes_per_second)\";\n",
       "                var nbb_cells = Jupyter.notebook.get_cells();\n",
       "                for (var i = 0; i < nbb_cells.length; ++i) {\n",
       "                    if (nbb_cells[i].input_prompt_number == nbb_cell_id) {\n",
       "                        if (nbb_cells[i].get_text() == nbb_unformatted_code) {\n",
       "                             nbb_cells[i].set_text(nbb_formatted_code);\n",
       "                        }\n",
       "                        break;\n",
       "                    }\n",
       "                }\n",
       "            }, 500);\n",
       "            "
      ],
      "text/plain": [
       "<IPython.core.display.Javascript object>"
      ]
     },
     "metadata": {},
     "output_type": "display_data"
    }
   ],
   "source": [
    "for br in benchmark.rows:\n",
    "    print(br.elapsed)\n",
    "    print(br.bytes_per_second)"
   ]
  },
  {
   "cell_type": "markdown",
   "metadata": {},
   "source": [
    "# Export"
   ]
  },
  {
   "cell_type": "code",
   "execution_count": null,
   "metadata": {},
   "outputs": [
    {
     "name": "stdout",
     "output_type": "stream",
     "text": [
      "Converted 00_core.ipynb.\n",
      "Converted 01_serve_files.ipynb.\n",
      "Converted 02_run_benchmark.ipynb.\n",
      "Converted 03_create_files_old.ipynb.\n",
      "Converted index.ipynb.\n"
     ]
    },
    {
     "data": {
      "application/javascript": [
       "\n",
       "            setTimeout(function() {\n",
       "                var nbb_cell_id = 11;\n",
       "                var nbb_unformatted_code = \"from nbdev.export import notebook2script\\n\\nnotebook2script()\";\n",
       "                var nbb_formatted_code = \"from nbdev.export import notebook2script\\n\\nnotebook2script()\";\n",
       "                var nbb_cells = Jupyter.notebook.get_cells();\n",
       "                for (var i = 0; i < nbb_cells.length; ++i) {\n",
       "                    if (nbb_cells[i].input_prompt_number == nbb_cell_id) {\n",
       "                        if (nbb_cells[i].get_text() == nbb_unformatted_code) {\n",
       "                             nbb_cells[i].set_text(nbb_formatted_code);\n",
       "                        }\n",
       "                        break;\n",
       "                    }\n",
       "                }\n",
       "            }, 500);\n",
       "            "
      ],
      "text/plain": [
       "<IPython.core.display.Javascript object>"
      ]
     },
     "metadata": {},
     "output_type": "display_data"
    }
   ],
   "source": [
    "from nbdev.export import notebook2script\n",
    "\n",
    "notebook2script()"
   ]
  }
 ],
 "metadata": {
  "kernelspec": {
   "display_name": "Python 3",
   "language": "python",
   "name": "python3"
  }
 },
 "nbformat": 4,
 "nbformat_minor": 2
}
