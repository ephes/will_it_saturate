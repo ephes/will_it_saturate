{
 "cells": [
  {
   "cell_type": "code",
   "execution_count": null,
   "id": "alien-power",
   "metadata": {},
   "outputs": [
    {
     "name": "stdout",
     "output_type": "stream",
     "text": [
      "The nb_black extension is already loaded. To reload it, use:\n",
      "  %reload_ext nb_black\n"
     ]
    },
    {
     "data": {
      "application/javascript": [
       "\n",
       "            setTimeout(function() {\n",
       "                var nbb_cell_id = 12;\n",
       "                var nbb_unformatted_code = \"# hide\\n%load_ext nb_black\";\n",
       "                var nbb_formatted_code = \"# hide\\n%load_ext nb_black\";\n",
       "                var nbb_cells = Jupyter.notebook.get_cells();\n",
       "                for (var i = 0; i < nbb_cells.length; ++i) {\n",
       "                    if (nbb_cells[i].input_prompt_number == nbb_cell_id) {\n",
       "                        if (nbb_cells[i].get_text() == nbb_unformatted_code) {\n",
       "                             nbb_cells[i].set_text(nbb_formatted_code);\n",
       "                        }\n",
       "                        break;\n",
       "                    }\n",
       "                }\n",
       "            }, 500);\n",
       "            "
      ],
      "text/plain": [
       "<IPython.core.display.Javascript object>"
      ]
     },
     "metadata": {},
     "output_type": "display_data"
    }
   ],
   "source": [
    "# hide\n",
    "%load_ext nb_black"
   ]
  },
  {
   "cell_type": "code",
   "execution_count": null,
   "id": "stable-power",
   "metadata": {},
   "outputs": [
    {
     "data": {
      "application/javascript": [
       "\n",
       "            setTimeout(function() {\n",
       "                var nbb_cell_id = 13;\n",
       "                var nbb_unformatted_code = \"# default_exp servers\";\n",
       "                var nbb_formatted_code = \"# default_exp servers\";\n",
       "                var nbb_cells = Jupyter.notebook.get_cells();\n",
       "                for (var i = 0; i < nbb_cells.length; ++i) {\n",
       "                    if (nbb_cells[i].input_prompt_number == nbb_cell_id) {\n",
       "                        if (nbb_cells[i].get_text() == nbb_unformatted_code) {\n",
       "                             nbb_cells[i].set_text(nbb_formatted_code);\n",
       "                        }\n",
       "                        break;\n",
       "                    }\n",
       "                }\n",
       "            }, 500);\n",
       "            "
      ],
      "text/plain": [
       "<IPython.core.display.Javascript object>"
      ]
     },
     "metadata": {},
     "output_type": "display_data"
    }
   ],
   "source": [
    "# default_exp servers"
   ]
  },
  {
   "cell_type": "markdown",
   "id": "driven-laugh",
   "metadata": {},
   "source": [
    "## Nginx Docker Server"
   ]
  },
  {
   "cell_type": "code",
   "execution_count": null,
   "id": "geographic-cambodia",
   "metadata": {},
   "outputs": [
    {
     "data": {
      "application/javascript": [
       "\n",
       "            setTimeout(function() {\n",
       "                var nbb_cell_id = 16;\n",
       "                var nbb_unformatted_code = \"import time\\nimport subprocess\\n\\nfrom will_it_saturate.servers import BaseServer\\nfrom will_it_saturate.registry import register_model\";\n",
       "                var nbb_formatted_code = \"import time\\nimport subprocess\\n\\nfrom will_it_saturate.servers import BaseServer\\nfrom will_it_saturate.registry import register_model\";\n",
       "                var nbb_cells = Jupyter.notebook.get_cells();\n",
       "                for (var i = 0; i < nbb_cells.length; ++i) {\n",
       "                    if (nbb_cells[i].input_prompt_number == nbb_cell_id) {\n",
       "                        if (nbb_cells[i].get_text() == nbb_unformatted_code) {\n",
       "                             nbb_cells[i].set_text(nbb_formatted_code);\n",
       "                        }\n",
       "                        break;\n",
       "                    }\n",
       "                }\n",
       "            }, 500);\n",
       "            "
      ],
      "text/plain": [
       "<IPython.core.display.Javascript object>"
      ]
     },
     "metadata": {},
     "output_type": "display_data"
    }
   ],
   "source": [
    "import time\n",
    "import subprocess\n",
    "\n",
    "from will_it_saturate.servers import BaseServer"
   ]
  },
  {
   "cell_type": "code",
   "execution_count": null,
   "id": "scenic-romantic",
   "metadata": {},
   "outputs": [
    {
     "data": {
      "application/javascript": [
       "\n",
       "            setTimeout(function() {\n",
       "                var nbb_cell_id = 17;\n",
       "                var nbb_unformatted_code = \"# export\\n\\nfrom pathlib import Path\\n\\n\\n@register_model\\nclass NginxDockerServer(BaseServer):\\n    name: str = \\\"nginx/docker\\\"\\n    docker_name: str = \\\"wis-nginx\\\"\\n    port: int = 8000\\n    data_root: str = \\\"data\\\"\\n    subprocess_kwargs = {\\\"shell\\\": True, \\\"capture_output\\\": True, \\\"text\\\": True}\\n\\n    def write_dockerfile(self):\\n        dockerfile = f\\\"\\\"\\\"\\n        FROM nginx\\n        COPY {self.data_root} /usr/share/nginx/html/{self.data_root}\\n        \\\"\\\"\\\"\\n        with Path(\\\"Dockerfile.nginx\\\").open(\\\"w\\\") as f:\\n            f.write(dockerfile)\\n\\n    @property\\n    def docker_id(self):\\n        output = subprocess.run(\\n            f\\\"docker ps | grep {self.docker_name}\\\", **self.subprocess_kwargs\\n        )\\n        if len(output.stdout) > 0:\\n            return output.stdout.split()[0]\\n\\n    @property\\n    def started(self):\\n        return self.docker_id is not None\\n\\n    def stop_container(self, docker_id):\\n        output = subprocess.run(f\\\"docker kill {docker_id}\\\", **self.subprocess_kwargs)\\n        print(output.stdout)\\n\\n    def remove_container(self):\\n        output = subprocess.run(\\n            f\\\"docker rm {self.docker_name}\\\", **self.subprocess_kwargs\\n        )\\n        print(output.stdout)\\n\\n    def build_container(self):\\n        output = subprocess.run(\\n            f\\\"docker build -f Dockerfile.nginx -t {self.docker_name} .\\\",\\n            **self.subprocess_kwargs,\\n        )\\n        print(output.stdout)\\n\\n    def start_container(self):\\n        output = subprocess.run(\\n            f\\\"docker run --name {self.docker_name} -d -p {self.port}:80 {self.docker_name}\\\",\\n            **self.subprocess_kwargs,\\n        )\\n        print(output.stdout)\\n\\n    def start_server(self):\\n        self.write_dockerfile()\\n        self.remove_container()\\n        self.build_container()\\n        self.start_container()\\n\\n    def stop_server(self):\\n        if self.started:\\n            self.stop_container(self.docker_id)\\n            self.remove_container()\\n        time.sleep(1)  # dunno why this is necessary\\n\\n    def start(self):\\n        if not self.started:\\n            self.start_server()\\n\\n    def stop(self):\\n        if self.started:\\n            self.stop_server()\";\n",
       "                var nbb_formatted_code = \"# export\\n\\nfrom pathlib import Path\\n\\n\\n@register_model\\nclass NginxDockerServer(BaseServer):\\n    name: str = \\\"nginx/docker\\\"\\n    docker_name: str = \\\"wis-nginx\\\"\\n    port: int = 8000\\n    data_root: str = \\\"data\\\"\\n    subprocess_kwargs = {\\\"shell\\\": True, \\\"capture_output\\\": True, \\\"text\\\": True}\\n\\n    def write_dockerfile(self):\\n        dockerfile = f\\\"\\\"\\\"\\n        FROM nginx\\n        COPY {self.data_root} /usr/share/nginx/html/{self.data_root}\\n        \\\"\\\"\\\"\\n        with Path(\\\"Dockerfile.nginx\\\").open(\\\"w\\\") as f:\\n            f.write(dockerfile)\\n\\n    @property\\n    def docker_id(self):\\n        output = subprocess.run(\\n            f\\\"docker ps | grep {self.docker_name}\\\", **self.subprocess_kwargs\\n        )\\n        if len(output.stdout) > 0:\\n            return output.stdout.split()[0]\\n\\n    @property\\n    def started(self):\\n        return self.docker_id is not None\\n\\n    def stop_container(self, docker_id):\\n        output = subprocess.run(f\\\"docker kill {docker_id}\\\", **self.subprocess_kwargs)\\n        print(output.stdout)\\n\\n    def remove_container(self):\\n        output = subprocess.run(\\n            f\\\"docker rm {self.docker_name}\\\", **self.subprocess_kwargs\\n        )\\n        print(output.stdout)\\n\\n    def build_container(self):\\n        output = subprocess.run(\\n            f\\\"docker build -f Dockerfile.nginx -t {self.docker_name} .\\\",\\n            **self.subprocess_kwargs,\\n        )\\n        print(output.stdout)\\n\\n    def start_container(self):\\n        output = subprocess.run(\\n            f\\\"docker run --name {self.docker_name} -d -p {self.port}:80 {self.docker_name}\\\",\\n            **self.subprocess_kwargs,\\n        )\\n        print(output.stdout)\\n\\n    def start_server(self):\\n        self.write_dockerfile()\\n        self.remove_container()\\n        self.build_container()\\n        self.start_container()\\n\\n    def stop_server(self):\\n        if self.started:\\n            self.stop_container(self.docker_id)\\n            self.remove_container()\\n        time.sleep(1)  # dunno why this is necessary\\n\\n    def start(self):\\n        if not self.started:\\n            self.start_server()\\n\\n    def stop(self):\\n        if self.started:\\n            self.stop_server()\";\n",
       "                var nbb_cells = Jupyter.notebook.get_cells();\n",
       "                for (var i = 0; i < nbb_cells.length; ++i) {\n",
       "                    if (nbb_cells[i].input_prompt_number == nbb_cell_id) {\n",
       "                        if (nbb_cells[i].get_text() == nbb_unformatted_code) {\n",
       "                             nbb_cells[i].set_text(nbb_formatted_code);\n",
       "                        }\n",
       "                        break;\n",
       "                    }\n",
       "                }\n",
       "            }, 500);\n",
       "            "
      ],
      "text/plain": [
       "<IPython.core.display.Javascript object>"
      ]
     },
     "metadata": {},
     "output_type": "display_data"
    }
   ],
   "source": [
    "# export\n",
    "\n",
    "from pathlib import Path\n",
    "from will_it_saturate.registry import register_model\n",
    "\n",
    "\n",
    "@register_model\n",
    "class NginxDockerServer(BaseServer):\n",
    "    name: str = \"nginx/docker\"\n",
    "    docker_name: str = \"wis-nginx\"\n",
    "    port: int = 8000\n",
    "    data_root: str = \"data\"\n",
    "    subprocess_kwargs = {\"shell\": True, \"capture_output\": True, \"text\": True}\n",
    "\n",
    "    def write_dockerfile(self):\n",
    "        dockerfile = f\"\"\"\n",
    "        FROM nginx\n",
    "        COPY {self.data_root} /usr/share/nginx/html/{self.data_root}\n",
    "        \"\"\"\n",
    "        with Path(\"Dockerfile.nginx\").open(\"w\") as f:\n",
    "            f.write(dockerfile)\n",
    "\n",
    "    @property\n",
    "    def docker_id(self):\n",
    "        output = subprocess.run(\n",
    "            f\"docker ps | grep {self.docker_name}\", **self.subprocess_kwargs\n",
    "        )\n",
    "        if len(output.stdout) > 0:\n",
    "            return output.stdout.split()[0]\n",
    "\n",
    "    @property\n",
    "    def started(self):\n",
    "        return self.docker_id is not None\n",
    "\n",
    "    def stop_container(self, docker_id):\n",
    "        output = subprocess.run(f\"docker kill {docker_id}\", **self.subprocess_kwargs)\n",
    "        print(output.stdout)\n",
    "\n",
    "    def remove_container(self):\n",
    "        output = subprocess.run(\n",
    "            f\"docker rm {self.docker_name}\", **self.subprocess_kwargs\n",
    "        )\n",
    "        print(output.stdout)\n",
    "\n",
    "    def build_container(self):\n",
    "        output = subprocess.run(\n",
    "            f\"docker build -f Dockerfile.nginx -t {self.docker_name} .\",\n",
    "            **self.subprocess_kwargs,\n",
    "        )\n",
    "        print(output.stdout)\n",
    "\n",
    "    def start_container(self):\n",
    "        output = subprocess.run(\n",
    "            f\"docker run --name {self.docker_name} -d -p {self.port}:80 {self.docker_name}\",\n",
    "            **self.subprocess_kwargs,\n",
    "        )\n",
    "        print(output.stdout)\n",
    "\n",
    "    def start_server(self):\n",
    "        self.write_dockerfile()\n",
    "        self.remove_container()\n",
    "        self.build_container()\n",
    "        self.start_container()\n",
    "\n",
    "    def stop_server(self):\n",
    "        if self.started:\n",
    "            self.stop_container(self.docker_id)\n",
    "            self.remove_container()\n",
    "        time.sleep(1)  # dunno why this is necessary\n",
    "\n",
    "    def start(self):\n",
    "        if not self.started:\n",
    "            self.start_server()\n",
    "\n",
    "    def stop(self):\n",
    "        if self.started:\n",
    "            self.stop_server()"
   ]
  },
  {
   "cell_type": "markdown",
   "id": "unauthorized-technician",
   "metadata": {},
   "source": [
    "### Usage"
   ]
  },
  {
   "cell_type": "code",
   "execution_count": null,
   "id": "alternate-certification",
   "metadata": {},
   "outputs": [
    {
     "name": "stdout",
     "output_type": "stream",
     "text": [
      "\n",
      "\n",
      "3eaab2857767f18bb8c8a6b5c187d52917c5730dc30002b68d51b223e021f075\n",
      "\n",
      "3eaab2857767\n",
      "3eaab2857767\n",
      "\n",
      "wis-nginx\n",
      "\n",
      "stopped..\n",
      "None\n",
      "False\n"
     ]
    },
    {
     "data": {
      "application/javascript": [
       "\n",
       "            setTimeout(function() {\n",
       "                var nbb_cell_id = 5;\n",
       "                var nbb_unformatted_code = \"# dont_test\\n\\nserver = NginxDockerServer()\\nserver.start()\\nprint(server.docker_id)\\nserver.stop()\\nprint(\\\"stopped..\\\")\\nprint(server.docker_id)\\nprint(server.started)\";\n",
       "                var nbb_formatted_code = \"# dont_test\\n\\nserver = NginxDockerServer()\\nserver.start()\\nprint(server.docker_id)\\nserver.stop()\\nprint(\\\"stopped..\\\")\\nprint(server.docker_id)\\nprint(server.started)\";\n",
       "                var nbb_cells = Jupyter.notebook.get_cells();\n",
       "                for (var i = 0; i < nbb_cells.length; ++i) {\n",
       "                    if (nbb_cells[i].input_prompt_number == nbb_cell_id) {\n",
       "                        if (nbb_cells[i].get_text() == nbb_unformatted_code) {\n",
       "                             nbb_cells[i].set_text(nbb_formatted_code);\n",
       "                        }\n",
       "                        break;\n",
       "                    }\n",
       "                }\n",
       "            }, 500);\n",
       "            "
      ],
      "text/plain": [
       "<IPython.core.display.Javascript object>"
      ]
     },
     "metadata": {},
     "output_type": "display_data"
    }
   ],
   "source": [
    "# dont_test\n",
    "\n",
    "server = NginxDockerServer()\n",
    "server.start()\n",
    "print(server.docker_id)\n",
    "server.stop()\n",
    "print(\"stopped..\")\n",
    "print(server.docker_id)\n",
    "print(server.started)"
   ]
  },
  {
   "cell_type": "code",
   "execution_count": null,
   "id": "meaning-transsexual",
   "metadata": {},
   "outputs": [
    {
     "name": "stdout",
     "output_type": "stream",
     "text": [
      "\n",
      "\n",
      "698b44e7715fae113837e4e16956bc837c26be1efb1a7ec8dec8b6e94db041f2\n",
      "\n"
     ]
    },
    {
     "data": {
      "application/javascript": [
       "\n",
       "            setTimeout(function() {\n",
       "                var nbb_cell_id = 6;\n",
       "                var nbb_unformatted_code = \"server = NginxDockerServer()\\nserver.start()\";\n",
       "                var nbb_formatted_code = \"server = NginxDockerServer()\\nserver.start()\";\n",
       "                var nbb_cells = Jupyter.notebook.get_cells();\n",
       "                for (var i = 0; i < nbb_cells.length; ++i) {\n",
       "                    if (nbb_cells[i].input_prompt_number == nbb_cell_id) {\n",
       "                        if (nbb_cells[i].get_text() == nbb_unformatted_code) {\n",
       "                             nbb_cells[i].set_text(nbb_formatted_code);\n",
       "                        }\n",
       "                        break;\n",
       "                    }\n",
       "                }\n",
       "            }, 500);\n",
       "            "
      ],
      "text/plain": [
       "<IPython.core.display.Javascript object>"
      ]
     },
     "metadata": {},
     "output_type": "display_data"
    }
   ],
   "source": [
    "# dont_test\n",
    "server = NginxDockerServer()\n",
    "server.start()"
   ]
  },
  {
   "cell_type": "code",
   "execution_count": null,
   "id": "medieval-sandwich",
   "metadata": {},
   "outputs": [
    {
     "name": "stdout",
     "output_type": "stream",
     "text": [
      "698b44e7715f\n",
      "\n",
      "wis-nginx\n",
      "\n"
     ]
    },
    {
     "data": {
      "application/javascript": [
       "\n",
       "            setTimeout(function() {\n",
       "                var nbb_cell_id = 7;\n",
       "                var nbb_unformatted_code = \"server.stop()\";\n",
       "                var nbb_formatted_code = \"server.stop()\";\n",
       "                var nbb_cells = Jupyter.notebook.get_cells();\n",
       "                for (var i = 0; i < nbb_cells.length; ++i) {\n",
       "                    if (nbb_cells[i].input_prompt_number == nbb_cell_id) {\n",
       "                        if (nbb_cells[i].get_text() == nbb_unformatted_code) {\n",
       "                             nbb_cells[i].set_text(nbb_formatted_code);\n",
       "                        }\n",
       "                        break;\n",
       "                    }\n",
       "                }\n",
       "            }, 500);\n",
       "            "
      ],
      "text/plain": [
       "<IPython.core.display.Javascript object>"
      ]
     },
     "metadata": {},
     "output_type": "display_data"
    }
   ],
   "source": [
    "# dont_test\n",
    "server.stop()"
   ]
  },
  {
   "cell_type": "code",
   "execution_count": null,
   "id": "commercial-thinking",
   "metadata": {},
   "outputs": [
    {
     "name": "stdout",
     "output_type": "stream",
     "text": [
      "Converted 00_index.ipynb.\n",
      "Converted 01_host.ipynb.\n",
      "Converted 02_file.ipynb.\n",
      "Converted 03_registry.ipynb.\n",
      "Converted 04_epochs.ipynb.\n",
      "Converted 10_servers.ipynb.\n",
      "Converted 11_views_for_fastapi_server.ipynb.\n",
      "Converted 12_views_for_django_server.ipynb.\n",
      "Converted 15_servers_started_locally.ipynb.\n",
      "Converted 16_servers_started_via_docker.ipynb.\n",
      "Converted 20_clients.ipynb.\n",
      "Converted 21_benchmark_client_implementations.ipynb.\n",
      "Converted 30_control_server.ipynb.\n",
      "Converted 31_control_client.ipynb.\n",
      "Converted 32_control_cli.ipynb.\n",
      "Converted 40_results.ipynb.\n",
      "Converted 41_repositories.ipynb.\n",
      "Converted 42_sqlite_repository.ipynb.\n",
      "Converted 50_benchmark_without_benchmark.ipynb.\n",
      "Converted 51_benchmark_remote_control_server.ipynb.\n",
      "Converted 60_legacy.ipynb.\n",
      "Converted 61_run_benchmark.ipynb.\n"
     ]
    },
    {
     "data": {
      "application/javascript": [
       "\n",
       "            setTimeout(function() {\n",
       "                var nbb_cell_id = 19;\n",
       "                var nbb_unformatted_code = \"# hide\\n# dont_test\\n\\nfrom nbdev.export import notebook2script\\n\\nnotebook2script()\";\n",
       "                var nbb_formatted_code = \"# hide\\n# dont_test\\n\\nfrom nbdev.export import notebook2script\\n\\nnotebook2script()\";\n",
       "                var nbb_cells = Jupyter.notebook.get_cells();\n",
       "                for (var i = 0; i < nbb_cells.length; ++i) {\n",
       "                    if (nbb_cells[i].input_prompt_number == nbb_cell_id) {\n",
       "                        if (nbb_cells[i].get_text() == nbb_unformatted_code) {\n",
       "                             nbb_cells[i].set_text(nbb_formatted_code);\n",
       "                        }\n",
       "                        break;\n",
       "                    }\n",
       "                }\n",
       "            }, 500);\n",
       "            "
      ],
      "text/plain": [
       "<IPython.core.display.Javascript object>"
      ]
     },
     "metadata": {},
     "output_type": "display_data"
    }
   ],
   "source": [
    "# hide\n",
    "# dont_test\n",
    "\n",
    "from nbdev.export import notebook2script\n",
    "\n",
    "notebook2script()"
   ]
  }
 ],
 "metadata": {
  "kernelspec": {
   "display_name": "Python 3",
   "language": "python",
   "name": "python3"
  }
 },
 "nbformat": 4,
 "nbformat_minor": 5
}
