{
 "cells": [
  {
   "cell_type": "code",
   "execution_count": null,
   "id": "recovered-venture",
   "metadata": {},
   "outputs": [
    {
     "data": {
      "application/javascript": [
       "\n",
       "            setTimeout(function() {\n",
       "                var nbb_cell_id = 1;\n",
       "                var nbb_unformatted_code = \"# hide\\n\\n%load_ext nb_black\";\n",
       "                var nbb_formatted_code = \"# hide\\n\\n%load_ext nb_black\";\n",
       "                var nbb_cells = Jupyter.notebook.get_cells();\n",
       "                for (var i = 0; i < nbb_cells.length; ++i) {\n",
       "                    if (nbb_cells[i].input_prompt_number == nbb_cell_id) {\n",
       "                        if (nbb_cells[i].get_text() == nbb_unformatted_code) {\n",
       "                             nbb_cells[i].set_text(nbb_formatted_code);\n",
       "                        }\n",
       "                        break;\n",
       "                    }\n",
       "                }\n",
       "            }, 500);\n",
       "            "
      ],
      "text/plain": [
       "<IPython.core.display.Javascript object>"
      ]
     },
     "metadata": {},
     "output_type": "display_data"
    }
   ],
   "source": [
    "# hide\n",
    "\n",
    "%load_ext nb_black"
   ]
  },
  {
   "cell_type": "code",
   "execution_count": null,
   "id": "explicit-slovenia",
   "metadata": {},
   "outputs": [
    {
     "data": {
      "application/javascript": [
       "\n",
       "            setTimeout(function() {\n",
       "                var nbb_cell_id = 2;\n",
       "                var nbb_unformatted_code = \"# default_exp django.views\";\n",
       "                var nbb_formatted_code = \"# default_exp django.views\";\n",
       "                var nbb_cells = Jupyter.notebook.get_cells();\n",
       "                for (var i = 0; i < nbb_cells.length; ++i) {\n",
       "                    if (nbb_cells[i].input_prompt_number == nbb_cell_id) {\n",
       "                        if (nbb_cells[i].get_text() == nbb_unformatted_code) {\n",
       "                             nbb_cells[i].set_text(nbb_formatted_code);\n",
       "                        }\n",
       "                        break;\n",
       "                    }\n",
       "                }\n",
       "            }, 500);\n",
       "            "
      ],
      "text/plain": [
       "<IPython.core.display.Javascript object>"
      ]
     },
     "metadata": {},
     "output_type": "display_data"
    }
   ],
   "source": [
    "# default_exp django.views"
   ]
  },
  {
   "cell_type": "code",
   "execution_count": null,
   "id": "a812adfa",
   "metadata": {},
   "outputs": [
    {
     "data": {
      "application/javascript": [
       "\n",
       "            setTimeout(function() {\n",
       "                var nbb_cell_id = 6;\n",
       "                var nbb_unformatted_code = \"# export\\nfrom pathlib import Path\\n\\nfrom django.http import JsonResponse\\nfrom django.http import FileResponse\\n\\nfrom will_it_saturate.django.http import AsyncFileResponse\";\n",
       "                var nbb_formatted_code = \"# export\\nfrom pathlib import Path\\n\\nfrom django.http import JsonResponse\\nfrom django.http import FileResponse\\n\\nfrom will_it_saturate.django.http import AsyncFileResponse\";\n",
       "                var nbb_cells = Jupyter.notebook.get_cells();\n",
       "                for (var i = 0; i < nbb_cells.length; ++i) {\n",
       "                    if (nbb_cells[i].input_prompt_number == nbb_cell_id) {\n",
       "                        if (nbb_cells[i].get_text() == nbb_unformatted_code) {\n",
       "                             nbb_cells[i].set_text(nbb_formatted_code);\n",
       "                        }\n",
       "                        break;\n",
       "                    }\n",
       "                }\n",
       "            }, 500);\n",
       "            "
      ],
      "text/plain": [
       "<IPython.core.display.Javascript object>"
      ]
     },
     "metadata": {},
     "output_type": "display_data"
    }
   ],
   "source": [
    "# export\n",
    "from pathlib import Path\n",
    "\n",
    "from django.http import JsonResponse\n",
    "from django.http import FileResponse\n",
    "\n",
    "from will_it_saturate.django.http import AsyncFileResponse"
   ]
  },
  {
   "cell_type": "markdown",
   "id": "292d86a6",
   "metadata": {},
   "source": [
    "## Use Own FileResponse to Measure Serving Time"
   ]
  },
  {
   "cell_type": "code",
   "execution_count": null,
   "id": "017f0bb6",
   "metadata": {},
   "outputs": [
    {
     "data": {
      "application/javascript": [
       "\n",
       "            setTimeout(function() {\n",
       "                var nbb_cell_id = 12;\n",
       "                var nbb_unformatted_code = \"# class MeasuringFileResponse(FileResponse):\\n#     def __init__(self, *args, **kwargs):\\n#         open_file = args[0]\\n#         print(f\\\"starting to serve: {open_file.name}\\\")\\n#         super().__init__(*args, **kwargs)\";\n",
       "                var nbb_formatted_code = \"# class MeasuringFileResponse(FileResponse):\\n#     def __init__(self, *args, **kwargs):\\n#         open_file = args[0]\\n#         print(f\\\"starting to serve: {open_file.name}\\\")\\n#         super().__init__(*args, **kwargs)\";\n",
       "                var nbb_cells = Jupyter.notebook.get_cells();\n",
       "                for (var i = 0; i < nbb_cells.length; ++i) {\n",
       "                    if (nbb_cells[i].input_prompt_number == nbb_cell_id) {\n",
       "                        if (nbb_cells[i].get_text() == nbb_unformatted_code) {\n",
       "                             nbb_cells[i].set_text(nbb_formatted_code);\n",
       "                        }\n",
       "                        break;\n",
       "                    }\n",
       "                }\n",
       "            }, 500);\n",
       "            "
      ],
      "text/plain": [
       "<IPython.core.display.Javascript object>"
      ]
     },
     "metadata": {},
     "output_type": "display_data"
    }
   ],
   "source": [
    "# export\n",
    "\n",
    "import time\n",
    "\n",
    "from django.core import signals\n",
    "\n",
    "\n",
    "class MeasuringFileResponse(FileResponse):\n",
    "    def __init__(self, *args, **kwargs):\n",
    "        # open_file = args[0]\n",
    "        # print(f\"starting to serve: {open_file.name}\")\n",
    "        self.open_file_name = args[0].name\n",
    "        self.started_serving = time.perf_counter()\n",
    "        super().__init__(*args, **kwargs)\n",
    "\n",
    "    def close(self):\n",
    "        elapsed = time.perf_counter() - self.started_serving\n",
    "        print(f\"elapsed: {elapsed} for {self.open_file_name}\")\n",
    "        for closer in self._resource_closers:\n",
    "            try:\n",
    "                closer()\n",
    "            except Exception:\n",
    "                pass\n",
    "        # Free resources that were still referenced.\n",
    "        self._resource_closers.clear()\n",
    "        self.closed = True\n",
    "        signals.request_finished.send(sender=self._handler_class)"
   ]
  },
  {
   "cell_type": "markdown",
   "id": "proper-split",
   "metadata": {},
   "source": [
    "## Django Views"
   ]
  },
  {
   "cell_type": "code",
   "execution_count": null,
   "id": "becoming-driver",
   "metadata": {},
   "outputs": [
    {
     "data": {
      "application/javascript": [
       "\n",
       "            setTimeout(function() {\n",
       "                var nbb_cell_id = 13;\n",
       "                var nbb_unformatted_code = \"# export\\n\\nasync def serve_file(request, base, path, num):\\n    file_path = Path(base) / path / str(num)\\n    # return JsonResponse({\\\"file_path\\\": file_path})\\n    return FileResponse(file_path.open(\\\"rb\\\"))\\n    # return MeasuringFileResponse(file_path.open(\\\"rb\\\"))\";\n",
       "                var nbb_formatted_code = \"# export\\n\\n\\nasync def serve_file(request, base, path, num):\\n    file_path = Path(base) / path / str(num)\\n    # return JsonResponse({\\\"file_path\\\": file_path})\\n    return FileResponse(file_path.open(\\\"rb\\\"))\\n    # return MeasuringFileResponse(file_path.open(\\\"rb\\\"))\";\n",
       "                var nbb_cells = Jupyter.notebook.get_cells();\n",
       "                for (var i = 0; i < nbb_cells.length; ++i) {\n",
       "                    if (nbb_cells[i].input_prompt_number == nbb_cell_id) {\n",
       "                        if (nbb_cells[i].get_text() == nbb_unformatted_code) {\n",
       "                             nbb_cells[i].set_text(nbb_formatted_code);\n",
       "                        }\n",
       "                        break;\n",
       "                    }\n",
       "                }\n",
       "            }, 500);\n",
       "            "
      ],
      "text/plain": [
       "<IPython.core.display.Javascript object>"
      ]
     },
     "metadata": {},
     "output_type": "display_data"
    }
   ],
   "source": [
    "# export\n",
    "\n",
    "\n",
    "async def serve_file_sync(request, base, path, num):\n",
    "    file_path = Path(base) / path / str(num)\n",
    "    # return JsonResponse({\"file_path\": file_path})\n",
    "    return MeasuringFileResponse(file_path.open(\"rb\"))\n",
    "    # return FileResponse(file_path.open(\"rb\"))"
   ]
  },
  {
   "cell_type": "code",
   "execution_count": null,
   "id": "496009e6",
   "metadata": {},
   "outputs": [
    {
     "data": {
      "application/javascript": [
       "\n",
       "            setTimeout(function() {\n",
       "                var nbb_cell_id = 11;\n",
       "                var nbb_unformatted_code = \"# dont_test\\n\\nimport aiofiles\\n\\n\\nclass StubIterator:\\n    def __init__(self, filename):\\n        self.filename = filename\\n        self.file = None\\n        self.chunk_size = 4096\\n        self.more_body = True\\n\\n    def __aiter__(self):\\n        return self\\n\\n    async def __anext__(self):\\n        if self.file is None:\\n            self.file = await aiofiles.open(self.filename, mode=\\\"rb\\\")\\n        while self.more_body:\\n            chunk = await self.file.read(self.chunk_size)\\n            self.more_body = len(chunk) == self.chunk_size\\n            return chunk\\n        await self.file.close()\\n        raise StopAsyncIteration\\n\\n\\n# class StubResponse:\\n#     def __init__(self):\\n#         async with aiofiles.open(self.path, mode=\\\"rb\\\") as file:\\n#             return StubIterator(file)\";\n",
       "                var nbb_formatted_code = \"# dont_test\\n\\nimport aiofiles\\n\\n\\nclass StubIterator:\\n    def __init__(self, filename):\\n        self.filename = filename\\n        self.file = None\\n        self.chunk_size = 4096\\n        self.more_body = True\\n\\n    def __aiter__(self):\\n        return self\\n\\n    async def __anext__(self):\\n        if self.file is None:\\n            self.file = await aiofiles.open(self.filename, mode=\\\"rb\\\")\\n        while self.more_body:\\n            chunk = await self.file.read(self.chunk_size)\\n            self.more_body = len(chunk) == self.chunk_size\\n            return chunk\\n        await self.file.close()\\n        raise StopAsyncIteration\\n\\n\\n# class StubResponse:\\n#     def __init__(self):\\n#         async with aiofiles.open(self.path, mode=\\\"rb\\\") as file:\\n#             return StubIterator(file)\";\n",
       "                var nbb_cells = Jupyter.notebook.get_cells();\n",
       "                for (var i = 0; i < nbb_cells.length; ++i) {\n",
       "                    if (nbb_cells[i].input_prompt_number == nbb_cell_id) {\n",
       "                        if (nbb_cells[i].get_text() == nbb_unformatted_code) {\n",
       "                             nbb_cells[i].set_text(nbb_formatted_code);\n",
       "                        }\n",
       "                        break;\n",
       "                    }\n",
       "                }\n",
       "            }, 500);\n",
       "            "
      ],
      "text/plain": [
       "<IPython.core.display.Javascript object>"
      ]
     },
     "metadata": {},
     "output_type": "display_data"
    }
   ],
   "source": [
    "# dont_test\n",
    "\n",
    "import aiofiles\n",
    "\n",
    "\n",
    "class StubIterator:\n",
    "    def __init__(self, filename):\n",
    "        self.filename = filename\n",
    "        self.file = None\n",
    "        self.chunk_size = 4096\n",
    "        self.more_body = True\n",
    "\n",
    "    def __aiter__(self):\n",
    "        return self\n",
    "\n",
    "    async def __anext__(self):\n",
    "        if self.file is None:\n",
    "            self.file = await aiofiles.open(self.filename, mode=\"rb\")\n",
    "        while self.more_body:\n",
    "            chunk = await self.file.read(self.chunk_size)\n",
    "            self.more_body = len(chunk) == self.chunk_size\n",
    "            return chunk\n",
    "        await self.file.close()\n",
    "        raise StopAsyncIteration\n",
    "\n",
    "\n",
    "# class StubResponse:\n",
    "#     def __init__(self):\n",
    "#         async with aiofiles.open(self.path, mode=\"rb\") as file:\n",
    "#             return StubIterator(file)"
   ]
  },
  {
   "cell_type": "code",
   "execution_count": null,
   "id": "2b975ee1",
   "metadata": {},
   "outputs": [
    {
     "name": "stdout",
     "output_type": "stream",
     "text": [
      "4096\n",
      "4096\n",
      "4096\n",
      "4096\n",
      "4096\n",
      "4096\n",
      "4096\n",
      "4096\n",
      "4096\n",
      "4096\n",
      "4096\n",
      "4096\n",
      "4096\n",
      "4096\n",
      "4096\n",
      "4096\n",
      "4096\n",
      "4096\n",
      "4096\n",
      "4096\n",
      "4096\n",
      "4096\n",
      "4096\n",
      "4096\n",
      "1696\n"
     ]
    },
    {
     "data": {
      "application/javascript": [
       "\n",
       "            setTimeout(function() {\n",
       "                var nbb_cell_id = 13;\n",
       "                var nbb_unformatted_code = \"file_iterator = StubIterator(\\\"data/100000_3_125000000/0\\\")\\n# file_iterator = StubIterator(\\\"wrk.lua\\\")\\nasync for chunk in file_iterator:\\n    print(len(chunk))\";\n",
       "                var nbb_formatted_code = \"file_iterator = StubIterator(\\\"data/100000_3_125000000/0\\\")\\n# file_iterator = StubIterator(\\\"wrk.lua\\\")\\nasync for chunk in file_iterator:\\n    print(len(chunk))\";\n",
       "                var nbb_cells = Jupyter.notebook.get_cells();\n",
       "                for (var i = 0; i < nbb_cells.length; ++i) {\n",
       "                    if (nbb_cells[i].input_prompt_number == nbb_cell_id) {\n",
       "                        if (nbb_cells[i].get_text() == nbb_unformatted_code) {\n",
       "                             nbb_cells[i].set_text(nbb_formatted_code);\n",
       "                        }\n",
       "                        break;\n",
       "                    }\n",
       "                }\n",
       "            }, 500);\n",
       "            "
      ],
      "text/plain": [
       "<IPython.core.display.Javascript object>"
      ]
     },
     "metadata": {},
     "output_type": "display_data"
    }
   ],
   "source": [
    "# dont_test\n",
    "file_iterator = StubIterator(\"data/100000_3_125000000/0\")\n",
    "# file_iterator = StubIterator(\"wrk.lua\")\n",
    "async for chunk in file_iterator:\n",
    "    print(len(chunk))"
   ]
  },
  {
   "cell_type": "code",
   "execution_count": null,
   "id": "683cfabc",
   "metadata": {},
   "outputs": [
    {
     "data": {
      "text/plain": [
       "'/Users/jochen/projects/will_it_saturate'"
      ]
     },
     "execution_count": null,
     "metadata": {},
     "output_type": "execute_result"
    },
    {
     "data": {
      "application/javascript": [
       "\n",
       "            setTimeout(function() {\n",
       "                var nbb_cell_id = 45;\n",
       "                var nbb_unformatted_code = \"import os\\nos.getcwd()\";\n",
       "                var nbb_formatted_code = \"import os\\n\\nos.getcwd()\";\n",
       "                var nbb_cells = Jupyter.notebook.get_cells();\n",
       "                for (var i = 0; i < nbb_cells.length; ++i) {\n",
       "                    if (nbb_cells[i].input_prompt_number == nbb_cell_id) {\n",
       "                        if (nbb_cells[i].get_text() == nbb_unformatted_code) {\n",
       "                             nbb_cells[i].set_text(nbb_formatted_code);\n",
       "                        }\n",
       "                        break;\n",
       "                    }\n",
       "                }\n",
       "            }, 500);\n",
       "            "
      ],
      "text/plain": [
       "<IPython.core.display.Javascript object>"
      ]
     },
     "metadata": {},
     "output_type": "display_data"
    }
   ],
   "source": [
    "import os\n",
    "\n",
    "os.getcwd()"
   ]
  },
  {
   "cell_type": "code",
   "execution_count": null,
   "id": "bf5da920",
   "metadata": {},
   "outputs": [
    {
     "data": {
      "application/javascript": [
       "\n",
       "            setTimeout(function() {\n",
       "                var nbb_cell_id = 7;\n",
       "                var nbb_unformatted_code = \"# export\\n\\n\\n# class AsyncFileResponse(FileResponse):\\n#     async_file_response = True\\n#     chunk_size = 4096\\n    \\n    \\n# class AsyncFileResponse2(FileResponse):\\n#     async_file_response = True\\n#     chunk_size = 4096\\n\\n\\n\\nasync def serve_file(request, base, path, num):\\n    file_path = Path(base) / path / str(num)\\n    # print(f\\\"serving file {file_path}\\\")\\n    response = AsyncFileResponse(filename=file_path)\\n    response.headers[\\\"Content-Type\\\"] = \\\"application/octet-stream\\\"\\n    #response = FileResponse(file_path.open(\\\"rb\\\"))\\n    #response.async_file_response = False\\n    return response\\n    # return AsyncFileResponse(file_path)\";\n",
       "                var nbb_formatted_code = \"# export\\n\\n\\n# class AsyncFileResponse(FileResponse):\\n#     async_file_response = True\\n#     chunk_size = 4096\\n\\n\\n# class AsyncFileResponse2(FileResponse):\\n#     async_file_response = True\\n#     chunk_size = 4096\\n\\n\\nasync def serve_file(request, base, path, num):\\n    file_path = Path(base) / path / str(num)\\n    # print(f\\\"serving file {file_path}\\\")\\n    response = AsyncFileResponse(filename=file_path)\\n    response.headers[\\\"Content-Type\\\"] = \\\"application/octet-stream\\\"\\n    # response = FileResponse(file_path.open(\\\"rb\\\"))\\n    # response.async_file_response = False\\n    return response\\n    # return AsyncFileResponse(file_path)\";\n",
       "                var nbb_cells = Jupyter.notebook.get_cells();\n",
       "                for (var i = 0; i < nbb_cells.length; ++i) {\n",
       "                    if (nbb_cells[i].input_prompt_number == nbb_cell_id) {\n",
       "                        if (nbb_cells[i].get_text() == nbb_unformatted_code) {\n",
       "                             nbb_cells[i].set_text(nbb_formatted_code);\n",
       "                        }\n",
       "                        break;\n",
       "                    }\n",
       "                }\n",
       "            }, 500);\n",
       "            "
      ],
      "text/plain": [
       "<IPython.core.display.Javascript object>"
      ]
     },
     "metadata": {},
     "output_type": "display_data"
    }
   ],
   "source": [
    "# export\n",
    "\n",
    "\n",
    "# class AsyncFileResponse(FileResponse):\n",
    "#     async_file_response = True\n",
    "#     chunk_size = 4096\n",
    "\n",
    "\n",
    "# class AsyncFileResponse2(FileResponse):\n",
    "#     async_file_response = True\n",
    "#     chunk_size = 4096\n",
    "\n",
    "\n",
    "async def serve_file(request, base, path, num):\n",
    "    file_path = Path(base) / path / str(num)\n",
    "    # print(f\"serving file {file_path}\")\n",
    "    response = AsyncFileResponse(filename=file_path)\n",
    "    response.headers[\"Content-Type\"] = \"application/octet-stream\"\n",
    "    # response = FileResponse(file_path.open(\"rb\"))\n",
    "    # response.async_file_response = False\n",
    "    return response\n",
    "    # return AsyncFileResponse(file_path)"
   ]
  },
  {
   "cell_type": "code",
   "execution_count": null,
   "id": "dress-ghost",
   "metadata": {},
   "outputs": [
    {
     "name": "stdout",
     "output_type": "stream",
     "text": [
      "Converted 00_index.ipynb.\n",
      "Converted 01_host.ipynb.\n",
      "Converted 02_file.ipynb.\n",
      "Converted 03_registry.ipynb.\n",
      "Converted 04_epochs.ipynb.\n",
      "Converted 10_servers.ipynb.\n",
      "Converted 11_views_for_fastapi_server.ipynb.\n",
      "Converted 12_views_for_django_server.ipynb.\n",
      "Converted 13_django_asgi.ipynb.\n",
      "Converted 14_django_async_file_response.ipynb.\n",
      "Converted 15_servers_started_locally.ipynb.\n",
      "Converted 16_servers_started_via_docker.ipynb.\n",
      "Converted 20_clients.ipynb.\n",
      "Converted 21_benchmark_client_implementations.ipynb.\n",
      "Converted 30_control_server.ipynb.\n",
      "Converted 31_control_client.ipynb.\n",
      "Converted 32_control_cli.ipynb.\n",
      "Converted 40_results.ipynb.\n",
      "Converted 41_repositories.ipynb.\n",
      "Converted 42_sqlite_repository.ipynb.\n",
      "Converted 50_benchmark_without_benchmark.ipynb.\n",
      "Converted 51_benchmark_remote_control_server.ipynb.\n",
      "Converted 52_benchmark_from_config.ipynb.\n",
      "Converted 52_generate_files_for_benchmark.ipynb.\n",
      "Converted 60_legacy.ipynb.\n",
      "Converted 61_run_benchmark.ipynb.\n"
     ]
    },
    {
     "data": {
      "application/javascript": [
       "\n",
       "            setTimeout(function() {\n",
       "                var nbb_cell_id = 9;\n",
       "                var nbb_unformatted_code = \"# hide\\n# dont_test\\n\\nfrom nbdev.export import notebook2script\\n\\nnotebook2script()\";\n",
       "                var nbb_formatted_code = \"# hide\\n# dont_test\\n\\nfrom nbdev.export import notebook2script\\n\\nnotebook2script()\";\n",
       "                var nbb_cells = Jupyter.notebook.get_cells();\n",
       "                for (var i = 0; i < nbb_cells.length; ++i) {\n",
       "                    if (nbb_cells[i].input_prompt_number == nbb_cell_id) {\n",
       "                        if (nbb_cells[i].get_text() == nbb_unformatted_code) {\n",
       "                             nbb_cells[i].set_text(nbb_formatted_code);\n",
       "                        }\n",
       "                        break;\n",
       "                    }\n",
       "                }\n",
       "            }, 500);\n",
       "            "
      ],
      "text/plain": [
       "<IPython.core.display.Javascript object>"
      ]
     },
     "metadata": {},
     "output_type": "display_data"
    }
   ],
   "source": [
    "# hide\n",
    "# dont_test\n",
    "\n",
    "from nbdev.export import notebook2script\n",
    "\n",
    "notebook2script()"
   ]
  },
  {
   "cell_type": "code",
   "execution_count": null,
   "id": "edde75b5",
   "metadata": {},
   "outputs": [],
   "source": []
  }
 ],
 "metadata": {
  "kernelspec": {
   "display_name": "Python 3",
   "language": "python",
   "name": "python3"
  }
 },
 "nbformat": 4,
 "nbformat_minor": 5
}
