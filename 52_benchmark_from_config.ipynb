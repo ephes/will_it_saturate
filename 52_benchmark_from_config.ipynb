{
 "cells": [
  {
   "cell_type": "code",
   "execution_count": null,
   "id": "56f03797",
   "metadata": {},
   "outputs": [
    {
     "data": {
      "application/javascript": [
       "\n",
       "            setTimeout(function() {\n",
       "                var nbb_cell_id = 1;\n",
       "                var nbb_unformatted_code = \"# hide\\n%load_ext nb_black\";\n",
       "                var nbb_formatted_code = \"# hide\\n%load_ext nb_black\";\n",
       "                var nbb_cells = Jupyter.notebook.get_cells();\n",
       "                for (var i = 0; i < nbb_cells.length; ++i) {\n",
       "                    if (nbb_cells[i].input_prompt_number == nbb_cell_id) {\n",
       "                        if (nbb_cells[i].get_text() == nbb_unformatted_code) {\n",
       "                             nbb_cells[i].set_text(nbb_formatted_code);\n",
       "                        }\n",
       "                        break;\n",
       "                    }\n",
       "                }\n",
       "            }, 500);\n",
       "            "
      ],
      "text/plain": [
       "<IPython.core.display.Javascript object>"
      ]
     },
     "metadata": {},
     "output_type": "display_data"
    }
   ],
   "source": [
    "# hide\n",
    "%load_ext nb_black"
   ]
  },
  {
   "cell_type": "code",
   "execution_count": null,
   "id": "f1fa8faf",
   "metadata": {},
   "outputs": [
    {
     "data": {
      "application/javascript": [
       "\n",
       "            setTimeout(function() {\n",
       "                var nbb_cell_id = 2;\n",
       "                var nbb_unformatted_code = \"import httpx\\nimport pandas as pd\\n\\nfrom urllib.parse import urljoin\\n\\nfrom will_it_saturate import servers\\nfrom will_it_saturate import clients\\nfrom will_it_saturate.epochs import Epoch\\nfrom will_it_saturate.hosts import Host, HostDetails\\n\\nfrom will_it_saturate.results import Result\\nfrom will_it_saturate.files import BenchmarkFile\\nfrom will_it_saturate.control.client import ControlClient\\nfrom will_it_saturate.repositories import SqliteRepository, register_default_tables\";\n",
       "                var nbb_formatted_code = \"import httpx\\nimport pandas as pd\\n\\nfrom urllib.parse import urljoin\\n\\nfrom will_it_saturate import servers\\nfrom will_it_saturate import clients\\nfrom will_it_saturate.epochs import Epoch\\nfrom will_it_saturate.hosts import Host, HostDetails\\n\\nfrom will_it_saturate.results import Result\\nfrom will_it_saturate.files import BenchmarkFile\\nfrom will_it_saturate.control.client import ControlClient\\nfrom will_it_saturate.repositories import SqliteRepository, register_default_tables\";\n",
       "                var nbb_cells = Jupyter.notebook.get_cells();\n",
       "                for (var i = 0; i < nbb_cells.length; ++i) {\n",
       "                    if (nbb_cells[i].input_prompt_number == nbb_cell_id) {\n",
       "                        if (nbb_cells[i].get_text() == nbb_unformatted_code) {\n",
       "                             nbb_cells[i].set_text(nbb_formatted_code);\n",
       "                        }\n",
       "                        break;\n",
       "                    }\n",
       "                }\n",
       "            }, 500);\n",
       "            "
      ],
      "text/plain": [
       "<IPython.core.display.Javascript object>"
      ]
     },
     "metadata": {},
     "output_type": "display_data"
    }
   ],
   "source": [
    "import httpx\n",
    "import pandas as pd\n",
    "\n",
    "from urllib.parse import urljoin\n",
    "\n",
    "from will_it_saturate import servers\n",
    "from will_it_saturate import clients\n",
    "from will_it_saturate.epochs import Epoch\n",
    "from will_it_saturate.hosts import Host, HostDetails\n",
    "\n",
    "from will_it_saturate.results import Result\n",
    "from will_it_saturate.files import BenchmarkFile\n",
    "from will_it_saturate.control.client import ControlClient\n",
    "from will_it_saturate.repositories import SqliteRepository, register_default_tables"
   ]
  },
  {
   "cell_type": "markdown",
   "id": "78d995f8",
   "metadata": {},
   "source": [
    "# Create Benchmark Config"
   ]
  },
  {
   "cell_type": "code",
   "execution_count": null,
   "id": "5a908b02",
   "metadata": {},
   "outputs": [
    {
     "data": {
      "application/javascript": [
       "\n",
       "            setTimeout(function() {\n",
       "                var nbb_cell_id = 3;\n",
       "                var nbb_unformatted_code = \"# dont_test\\n\\nrepository = SqliteRepository.build_repository(\\\"results_remote.db\\\")\\nregister_default_tables(repository)\\nresults_table = repository.tables[\\\"result\\\"]\\n\\nserver_port = 5001\\nserver_host_name = \\\"staging.wersdoerfer.de\\\"\\nserver_control_host = Host(name=server_host_name, port=8100)\\nserver_control_client = ControlClient(host=server_control_host)\\nserver_details = server_control_client.get_host_details()\\n\\nclient_control_host = Host(name=\\\"wersdoerfer.de\\\", port=8001)\\nclient_control_client = ControlClient(host=client_control_host)\\nclient_details = client_control_client.get_host_details()\\n\\nservers_to_test = [\\n    servers.FastAPIUvicornServer(host=server_host_name, port=server_port),\\n]\\nclients_to_test = [\\n    clients.HttpxClient(name=\\\"httpx\\\"),\\n    clients.AioHttpClient(name=\\\"aiohttp\\\"),\\n    clients.WrkClient(name=\\\"wrk ethernet\\\", host=server_host_name, port=server_port),\\n]\\nepochs_to_test = [\\n    Epoch(file_size=10 ** 7, duration=10),\\n]\";\n",
       "                var nbb_formatted_code = \"# dont_test\\n\\nrepository = SqliteRepository.build_repository(\\\"results_remote.db\\\")\\nregister_default_tables(repository)\\nresults_table = repository.tables[\\\"result\\\"]\\n\\nserver_port = 5001\\nserver_host_name = \\\"staging.wersdoerfer.de\\\"\\nserver_control_host = Host(name=server_host_name, port=8100)\\nserver_control_client = ControlClient(host=server_control_host)\\nserver_details = server_control_client.get_host_details()\\n\\nclient_control_host = Host(name=\\\"wersdoerfer.de\\\", port=8001)\\nclient_control_client = ControlClient(host=client_control_host)\\nclient_details = client_control_client.get_host_details()\\n\\nservers_to_test = [\\n    servers.FastAPIUvicornServer(host=server_host_name, port=server_port),\\n]\\nclients_to_test = [\\n    clients.HttpxClient(name=\\\"httpx\\\"),\\n    clients.AioHttpClient(name=\\\"aiohttp\\\"),\\n    clients.WrkClient(name=\\\"wrk ethernet\\\", host=server_host_name, port=server_port),\\n]\\nepochs_to_test = [\\n    Epoch(file_size=10 ** 7, duration=10),\\n]\";\n",
       "                var nbb_cells = Jupyter.notebook.get_cells();\n",
       "                for (var i = 0; i < nbb_cells.length; ++i) {\n",
       "                    if (nbb_cells[i].input_prompt_number == nbb_cell_id) {\n",
       "                        if (nbb_cells[i].get_text() == nbb_unformatted_code) {\n",
       "                             nbb_cells[i].set_text(nbb_formatted_code);\n",
       "                        }\n",
       "                        break;\n",
       "                    }\n",
       "                }\n",
       "            }, 500);\n",
       "            "
      ],
      "text/plain": [
       "<IPython.core.display.Javascript object>"
      ]
     },
     "metadata": {},
     "output_type": "display_data"
    }
   ],
   "source": [
    "# dont_test\n",
    "\n",
    "repository = SqliteRepository.build_repository(\"results_remote.db\")\n",
    "register_default_tables(repository)\n",
    "results_table = repository.tables[\"result\"]\n",
    "\n",
    "server_port = 5001\n",
    "server_host_name = \"staging.wersdoerfer.de\"\n",
    "server_control_host = Host(name=server_host_name, port=8100)\n",
    "server_control_client = ControlClient(host=server_control_host)\n",
    "server_details = server_control_client.get_host_details()\n",
    "\n",
    "client_control_host = Host(name=\"wersdoerfer.de\", port=8001)\n",
    "client_control_client = ControlClient(host=client_control_host)\n",
    "client_details = client_control_client.get_host_details()\n",
    "\n",
    "servers_to_test = [\n",
    "    servers.FastAPIUvicornServer(host=server_host_name, port=server_port),\n",
    "]\n",
    "clients_to_test = [\n",
    "    clients.HttpxClient(name=\"httpx\"),\n",
    "    clients.AioHttpClient(name=\"aiohttp\"),\n",
    "    clients.WrkClient(name=\"wrk ethernet\", host=server_host_name, port=server_port),\n",
    "]\n",
    "epochs_to_test = [\n",
    "    Epoch(file_size=10 ** 7, duration=10),\n",
    "]"
   ]
  },
  {
   "cell_type": "code",
   "execution_count": null,
   "id": "90a231bb",
   "metadata": {},
   "outputs": [
    {
     "ename": "HTTPStatusError",
     "evalue": "500 Server Error: Internal Server Error for url: http://wersdoerfer.de:8001/measure/\nFor more information check: https://httpstatuses.com/500",
     "output_type": "error",
     "traceback": [
      "\u001b[0;31m---------------------------------------------------------------------------\u001b[0m",
      "\u001b[0;31mHTTPStatusError\u001b[0m                           Traceback (most recent call last)",
      "\u001b[0;32m<ipython-input-4-fe2148242abb>\u001b[0m in \u001b[0;36m<module>\u001b[0;34m\u001b[0m\n\u001b[1;32m     18\u001b[0m                 \u001b[0mcomplete_size\u001b[0m\u001b[0;34m=\u001b[0m\u001b[0mepoch\u001b[0m\u001b[0;34m.\u001b[0m\u001b[0mcomplete_size\u001b[0m\u001b[0;34m,\u001b[0m\u001b[0;34m\u001b[0m\u001b[0;34m\u001b[0m\u001b[0m\n\u001b[1;32m     19\u001b[0m             )\n\u001b[0;32m---> 20\u001b[0;31m             \u001b[0mresult\u001b[0m\u001b[0;34m.\u001b[0m\u001b[0melapsed\u001b[0m \u001b[0;34m=\u001b[0m \u001b[0mclient_control_client\u001b[0m\u001b[0;34m.\u001b[0m\u001b[0mmeasure\u001b[0m\u001b[0;34m(\u001b[0m\u001b[0mbenchmark_client\u001b[0m\u001b[0;34m,\u001b[0m \u001b[0mepoch\u001b[0m\u001b[0;34m)\u001b[0m\u001b[0;34m\u001b[0m\u001b[0;34m\u001b[0m\u001b[0m\n\u001b[0m\u001b[1;32m     21\u001b[0m             \u001b[0mresult_id\u001b[0m \u001b[0;34m=\u001b[0m \u001b[0mresults_table\u001b[0m\u001b[0;34m.\u001b[0m\u001b[0madd_result\u001b[0m\u001b[0;34m(\u001b[0m\u001b[0mresult\u001b[0m\u001b[0;34m)\u001b[0m\u001b[0;34m\u001b[0m\u001b[0;34m\u001b[0m\u001b[0m\n\u001b[1;32m     22\u001b[0m     \u001b[0mserver_control_client\u001b[0m\u001b[0;34m.\u001b[0m\u001b[0mstop_server\u001b[0m\u001b[0;34m(\u001b[0m\u001b[0mserver\u001b[0m\u001b[0;34m)\u001b[0m\u001b[0;34m\u001b[0m\u001b[0;34m\u001b[0m\u001b[0m\n",
      "\u001b[0;32m~/projects/will_it_saturate/will_it_saturate/control/client.py\u001b[0m in \u001b[0;36mmeasure\u001b[0;34m(self, client, epoch)\u001b[0m\n\u001b[1;32m     51\u001b[0m         \u001b[0mdata\u001b[0m \u001b[0;34m=\u001b[0m \u001b[0;34m{\u001b[0m\u001b[0;34m\"client_params\"\u001b[0m\u001b[0;34m:\u001b[0m \u001b[0mclient\u001b[0m\u001b[0;34m.\u001b[0m\u001b[0mparams\u001b[0m\u001b[0;34m(\u001b[0m\u001b[0;34m)\u001b[0m\u001b[0;34m,\u001b[0m \u001b[0;34m\"epoch\"\u001b[0m\u001b[0;34m:\u001b[0m \u001b[0mepoch\u001b[0m\u001b[0;34m.\u001b[0m\u001b[0mdict\u001b[0m\u001b[0;34m(\u001b[0m\u001b[0;34m)\u001b[0m\u001b[0;34m}\u001b[0m\u001b[0;34m\u001b[0m\u001b[0;34m\u001b[0m\u001b[0m\n\u001b[1;32m     52\u001b[0m         \u001b[0mr\u001b[0m \u001b[0;34m=\u001b[0m \u001b[0mhttpx\u001b[0m\u001b[0;34m.\u001b[0m\u001b[0mpost\u001b[0m\u001b[0;34m(\u001b[0m\u001b[0murl\u001b[0m\u001b[0;34m,\u001b[0m \u001b[0mjson\u001b[0m\u001b[0;34m=\u001b[0m\u001b[0mdata\u001b[0m\u001b[0;34m,\u001b[0m \u001b[0mtimeout\u001b[0m\u001b[0;34m=\u001b[0m\u001b[0;32mNone\u001b[0m\u001b[0;34m)\u001b[0m\u001b[0;34m\u001b[0m\u001b[0;34m\u001b[0m\u001b[0m\n\u001b[0;32m---> 53\u001b[0;31m         \u001b[0mr\u001b[0m\u001b[0;34m.\u001b[0m\u001b[0mraise_for_status\u001b[0m\u001b[0;34m(\u001b[0m\u001b[0;34m)\u001b[0m\u001b[0;34m\u001b[0m\u001b[0;34m\u001b[0m\u001b[0m\n\u001b[0m\u001b[1;32m     54\u001b[0m         \u001b[0;32mreturn\u001b[0m \u001b[0mr\u001b[0m\u001b[0;34m.\u001b[0m\u001b[0mjson\u001b[0m\u001b[0;34m(\u001b[0m\u001b[0;34m)\u001b[0m\u001b[0;34m\u001b[0m\u001b[0;34m\u001b[0m\u001b[0m\n",
      "\u001b[0;32m~/.virtualenvs/wis/lib/python3.9/site-packages/httpx/_models.py\u001b[0m in \u001b[0;36mraise_for_status\u001b[0;34m(self)\u001b[0m\n\u001b[1;32m   1403\u001b[0m         \u001b[0;32melif\u001b[0m \u001b[0mcodes\u001b[0m\u001b[0;34m.\u001b[0m\u001b[0mis_server_error\u001b[0m\u001b[0;34m(\u001b[0m\u001b[0mself\u001b[0m\u001b[0;34m.\u001b[0m\u001b[0mstatus_code\u001b[0m\u001b[0;34m)\u001b[0m\u001b[0;34m:\u001b[0m\u001b[0;34m\u001b[0m\u001b[0;34m\u001b[0m\u001b[0m\n\u001b[1;32m   1404\u001b[0m             \u001b[0mmessage\u001b[0m \u001b[0;34m=\u001b[0m \u001b[0mmessage\u001b[0m\u001b[0;34m.\u001b[0m\u001b[0mformat\u001b[0m\u001b[0;34m(\u001b[0m\u001b[0mself\u001b[0m\u001b[0;34m,\u001b[0m \u001b[0merror_type\u001b[0m\u001b[0;34m=\u001b[0m\u001b[0;34m\"Server Error\"\u001b[0m\u001b[0;34m)\u001b[0m\u001b[0;34m\u001b[0m\u001b[0;34m\u001b[0m\u001b[0m\n\u001b[0;32m-> 1405\u001b[0;31m             \u001b[0;32mraise\u001b[0m \u001b[0mHTTPStatusError\u001b[0m\u001b[0;34m(\u001b[0m\u001b[0mmessage\u001b[0m\u001b[0;34m,\u001b[0m \u001b[0mrequest\u001b[0m\u001b[0;34m=\u001b[0m\u001b[0mrequest\u001b[0m\u001b[0;34m,\u001b[0m \u001b[0mresponse\u001b[0m\u001b[0;34m=\u001b[0m\u001b[0mself\u001b[0m\u001b[0;34m)\u001b[0m\u001b[0;34m\u001b[0m\u001b[0;34m\u001b[0m\u001b[0m\n\u001b[0m\u001b[1;32m   1406\u001b[0m \u001b[0;34m\u001b[0m\u001b[0m\n\u001b[1;32m   1407\u001b[0m     \u001b[0;32mdef\u001b[0m \u001b[0mjson\u001b[0m\u001b[0;34m(\u001b[0m\u001b[0mself\u001b[0m\u001b[0;34m,\u001b[0m \u001b[0;34m**\u001b[0m\u001b[0mkwargs\u001b[0m\u001b[0;34m:\u001b[0m \u001b[0mtyping\u001b[0m\u001b[0;34m.\u001b[0m\u001b[0mAny\u001b[0m\u001b[0;34m)\u001b[0m \u001b[0;34m->\u001b[0m \u001b[0mtyping\u001b[0m\u001b[0;34m.\u001b[0m\u001b[0mAny\u001b[0m\u001b[0;34m:\u001b[0m\u001b[0;34m\u001b[0m\u001b[0;34m\u001b[0m\u001b[0m\n",
      "\u001b[0;31mHTTPStatusError\u001b[0m: 500 Server Error: Internal Server Error for url: http://wersdoerfer.de:8001/measure/\nFor more information check: https://httpstatuses.com/500"
     ]
    },
    {
     "data": {
      "application/javascript": [
       "\n",
       "            setTimeout(function() {\n",
       "                var nbb_cell_id = 4;\n",
       "                var nbb_unformatted_code = \"# dont_test\\n\\nfor server in servers_to_test:\\n    server = server_control_client.get_or_create_server(server)\\n    for epoch in epochs_to_test:\\n        epoch.files = server_control_client.get_or_create_files(epoch)\\n        epoch.urls = [server.file_to_url(file) for file in epoch.files]\\n        for epoch_file in epoch.files:\\n            epoch_file.port = server.port\\n            epoch_file.hostname = server.host\\n        for benchmark_client in clients_to_test:\\n            result = Result(\\n                server=server,\\n                client=benchmark_client,\\n                server_details=server_details,\\n                client_details=client_details,\\n                file_size=epoch.file_size,\\n                complete_size=epoch.complete_size,\\n            )\\n            result.elapsed = client_control_client.measure(benchmark_client, epoch)\\n            result_id = results_table.add_result(result)\\n    server_control_client.stop_server(server)\";\n",
       "                var nbb_formatted_code = \"# dont_test\\n\\nfor server in servers_to_test:\\n    server = server_control_client.get_or_create_server(server)\\n    for epoch in epochs_to_test:\\n        epoch.files = server_control_client.get_or_create_files(epoch)\\n        epoch.urls = [server.file_to_url(file) for file in epoch.files]\\n        for epoch_file in epoch.files:\\n            epoch_file.port = server.port\\n            epoch_file.hostname = server.host\\n        for benchmark_client in clients_to_test:\\n            result = Result(\\n                server=server,\\n                client=benchmark_client,\\n                server_details=server_details,\\n                client_details=client_details,\\n                file_size=epoch.file_size,\\n                complete_size=epoch.complete_size,\\n            )\\n            result.elapsed = client_control_client.measure(benchmark_client, epoch)\\n            result_id = results_table.add_result(result)\\n    server_control_client.stop_server(server)\";\n",
       "                var nbb_cells = Jupyter.notebook.get_cells();\n",
       "                for (var i = 0; i < nbb_cells.length; ++i) {\n",
       "                    if (nbb_cells[i].input_prompt_number == nbb_cell_id) {\n",
       "                        if (nbb_cells[i].get_text() == nbb_unformatted_code) {\n",
       "                             nbb_cells[i].set_text(nbb_formatted_code);\n",
       "                        }\n",
       "                        break;\n",
       "                    }\n",
       "                }\n",
       "            }, 500);\n",
       "            "
      ],
      "text/plain": [
       "<IPython.core.display.Javascript object>"
      ]
     },
     "metadata": {},
     "output_type": "display_data"
    }
   ],
   "source": [
    "# dont_test\n",
    "\n",
    "for server in servers_to_test:\n",
    "    server = server_control_client.get_or_create_server(server)\n",
    "    for epoch in epochs_to_test:\n",
    "        epoch.files = server_control_client.get_or_create_files(epoch)\n",
    "        epoch.urls = [server.file_to_url(file) for file in epoch.files]\n",
    "        for epoch_file in epoch.files:\n",
    "            epoch_file.port = server.port\n",
    "            epoch_file.hostname = server.host\n",
    "        for benchmark_client in clients_to_test:\n",
    "            result = Result(\n",
    "                server=server,\n",
    "                client=benchmark_client,\n",
    "                server_details=server_details,\n",
    "                client_details=client_details,\n",
    "                file_size=epoch.file_size,\n",
    "                complete_size=epoch.complete_size,\n",
    "            )\n",
    "            result.elapsed = client_control_client.measure(benchmark_client, epoch)\n",
    "            result_id = results_table.add_result(result)\n",
    "    server_control_client.stop_server(server)"
   ]
  },
  {
   "cell_type": "code",
   "execution_count": null,
   "id": "0c3caf43",
   "metadata": {},
   "outputs": [],
   "source": [
    "# dont_test\n",
    "\n",
    "results_from_database = results_table.get_results()\n",
    "\n",
    "cols = set([\"server\", \"client\", \"elapsed\", \"file_size_h\", \"bytes_per_second_h\"])\n",
    "pd.DataFrame(\n",
    "    [\n",
    "        {k: v for k, v in r.dict_for_pandas().items() if k in cols}\n",
    "        for r in results_from_database\n",
    "    ]\n",
    ")"
   ]
  },
  {
   "cell_type": "markdown",
   "id": "d6734aa2",
   "metadata": {},
   "source": [
    "## Create Benchmark Server\n",
    "\n",
    "create server control client + server (needed for turning files into urls)"
   ]
  },
  {
   "cell_type": "code",
   "execution_count": null,
   "id": "b659105a",
   "metadata": {},
   "outputs": [
    {
     "data": {
      "application/javascript": [
       "\n",
       "            setTimeout(function() {\n",
       "                var nbb_cell_id = 25;\n",
       "                var nbb_unformatted_code = \"# dont_test\\n\\nserver_control_host = Host(name=\\\"staging.wersdoerfer.de\\\", port=8100)\\nserver_control_client = ControlClient(host=server_control_host)\\nserver_details = server_control_client.get_host_details()\\n# server = server_control_client.get_or_create_server(\\n#     servers.FastAPIUvicornServer(host=\\\"192.168.178.113\\\", port=5001)\\n# )\\n# server = server_control_client.get_or_create_server(\\n#     servers.NginxDockerServer(host=\\\"192.168.178.113\\\", port=5001)\\n# )\\nserver = server_control_client.get_or_create_server(\\n    servers.DjangoGunicornWSGIServer(host=\\\"staging.wersdoerfer.de\\\", port=5001)\\n)\";\n",
       "                var nbb_formatted_code = \"# dont_test\\n\\nserver_control_host = Host(name=\\\"staging.wersdoerfer.de\\\", port=8100)\\nserver_control_client = ControlClient(host=server_control_host)\\nserver_details = server_control_client.get_host_details()\\n# server = server_control_client.get_or_create_server(\\n#     servers.FastAPIUvicornServer(host=\\\"192.168.178.113\\\", port=5001)\\n# )\\n# server = server_control_client.get_or_create_server(\\n#     servers.NginxDockerServer(host=\\\"192.168.178.113\\\", port=5001)\\n# )\\nserver = server_control_client.get_or_create_server(\\n    servers.DjangoGunicornWSGIServer(host=\\\"staging.wersdoerfer.de\\\", port=5001)\\n)\";\n",
       "                var nbb_cells = Jupyter.notebook.get_cells();\n",
       "                for (var i = 0; i < nbb_cells.length; ++i) {\n",
       "                    if (nbb_cells[i].input_prompt_number == nbb_cell_id) {\n",
       "                        if (nbb_cells[i].get_text() == nbb_unformatted_code) {\n",
       "                             nbb_cells[i].set_text(nbb_formatted_code);\n",
       "                        }\n",
       "                        break;\n",
       "                    }\n",
       "                }\n",
       "            }, 500);\n",
       "            "
      ],
      "text/plain": [
       "<IPython.core.display.Javascript object>"
      ]
     },
     "metadata": {},
     "output_type": "display_data"
    }
   ],
   "source": [
    "# dont_test\n",
    "\n",
    "server_control_host = Host(name=\"staging.wersdoerfer.de\", port=8100)\n",
    "server_control_client = ControlClient(host=server_control_host)\n",
    "server_details = server_control_client.get_host_details()\n",
    "# server = server_control_client.get_or_create_server(\n",
    "#     servers.FastAPIUvicornServer(host=\"192.168.178.113\", port=5001)\n",
    "# )\n",
    "# server = server_control_client.get_or_create_server(\n",
    "#     servers.NginxDockerServer(host=\"192.168.178.113\", port=5001)\n",
    "# )\n",
    "server = server_control_client.get_or_create_server(\n",
    "    servers.DjangoGunicornWSGIServer(host=\"staging.wersdoerfer.de\", port=5001)\n",
    ")"
   ]
  },
  {
   "cell_type": "markdown",
   "id": "f408d26f",
   "metadata": {},
   "source": [
    "## Create Files and Urls"
   ]
  },
  {
   "cell_type": "code",
   "execution_count": null,
   "id": "3885d57d",
   "metadata": {},
   "outputs": [
    {
     "data": {
      "application/javascript": [
       "\n",
       "            setTimeout(function() {\n",
       "                var nbb_cell_id = 16;\n",
       "                var nbb_unformatted_code = \"# dont_test\\n\\nfile_size, duration = 10 ** 7, 10\\nepoch = Epoch(file_size=file_size, duration=duration)\\nepoch.files = server_control_client.get_or_create_files(epoch)\\nepoch.urls = [server.file_to_url(file) for file in epoch.files]\";\n",
       "                var nbb_formatted_code = \"# dont_test\\n\\nfile_size, duration = 10 ** 7, 10\\nepoch = Epoch(file_size=file_size, duration=duration)\\nepoch.files = server_control_client.get_or_create_files(epoch)\\nepoch.urls = [server.file_to_url(file) for file in epoch.files]\";\n",
       "                var nbb_cells = Jupyter.notebook.get_cells();\n",
       "                for (var i = 0; i < nbb_cells.length; ++i) {\n",
       "                    if (nbb_cells[i].input_prompt_number == nbb_cell_id) {\n",
       "                        if (nbb_cells[i].get_text() == nbb_unformatted_code) {\n",
       "                             nbb_cells[i].set_text(nbb_formatted_code);\n",
       "                        }\n",
       "                        break;\n",
       "                    }\n",
       "                }\n",
       "            }, 500);\n",
       "            "
      ],
      "text/plain": [
       "<IPython.core.display.Javascript object>"
      ]
     },
     "metadata": {},
     "output_type": "display_data"
    }
   ],
   "source": [
    "# dont_test\n",
    "\n",
    "file_size, duration = 10 ** 7, 10\n",
    "epoch = Epoch(file_size=file_size, duration=duration)\n",
    "epoch.files = server_control_client.get_or_create_files(epoch)\n",
    "epoch.urls = [server.file_to_url(file) for file in epoch.files]"
   ]
  },
  {
   "cell_type": "markdown",
   "id": "30ee69cb",
   "metadata": {},
   "source": [
    "## Modify Files"
   ]
  },
  {
   "cell_type": "code",
   "execution_count": null,
   "id": "e7a9807f",
   "metadata": {},
   "outputs": [
    {
     "data": {
      "application/javascript": [
       "\n",
       "            setTimeout(function() {\n",
       "                var nbb_cell_id = 17;\n",
       "                var nbb_unformatted_code = \"# dont_test\\n\\nfor epoch_file in epoch.files:\\n    epoch_file.port = server.port\\n    epoch_file.hostname = server.host\";\n",
       "                var nbb_formatted_code = \"# dont_test\\n\\nfor epoch_file in epoch.files:\\n    epoch_file.port = server.port\\n    epoch_file.hostname = server.host\";\n",
       "                var nbb_cells = Jupyter.notebook.get_cells();\n",
       "                for (var i = 0; i < nbb_cells.length; ++i) {\n",
       "                    if (nbb_cells[i].input_prompt_number == nbb_cell_id) {\n",
       "                        if (nbb_cells[i].get_text() == nbb_unformatted_code) {\n",
       "                             nbb_cells[i].set_text(nbb_formatted_code);\n",
       "                        }\n",
       "                        break;\n",
       "                    }\n",
       "                }\n",
       "            }, 500);\n",
       "            "
      ],
      "text/plain": [
       "<IPython.core.display.Javascript object>"
      ]
     },
     "metadata": {},
     "output_type": "display_data"
    }
   ],
   "source": [
    "# dont_test\n",
    "\n",
    "for epoch_file in epoch.files:\n",
    "    epoch_file.port = server.port\n",
    "    epoch_file.hostname = server.host"
   ]
  },
  {
   "cell_type": "markdown",
   "id": "6d299571",
   "metadata": {},
   "source": [
    "## Create Control Client"
   ]
  },
  {
   "cell_type": "code",
   "execution_count": null,
   "id": "b274ee95",
   "metadata": {},
   "outputs": [
    {
     "data": {
      "application/javascript": [
       "\n",
       "            setTimeout(function() {\n",
       "                var nbb_cell_id = 19;\n",
       "                var nbb_unformatted_code = \"# dont_test\\n\\nclient_control_host = Host(name=\\\"wersdoerfer.de\\\", port=8001)\\nclient_control_client = ControlClient(host=client_control_host)\\nclient_details = client_control_client.get_host_details()\\n# benchmark_client = clients.HttpxClient(name=\\\"httpx\\\")\\n# benchmark_client = clients.AioHttpClient(name=\\\"aiohttp\\\")\\nbenchmark_client = clients.WrkClient(\\n    name=\\\"wrk ethernet\\\", host=server.host, port=server.port\\n)\";\n",
       "                var nbb_formatted_code = \"# dont_test\\n\\nclient_control_host = Host(name=\\\"wersdoerfer.de\\\", port=8001)\\nclient_control_client = ControlClient(host=client_control_host)\\nclient_details = client_control_client.get_host_details()\\n# benchmark_client = clients.HttpxClient(name=\\\"httpx\\\")\\n# benchmark_client = clients.AioHttpClient(name=\\\"aiohttp\\\")\\nbenchmark_client = clients.WrkClient(\\n    name=\\\"wrk ethernet\\\", host=server.host, port=server.port\\n)\";\n",
       "                var nbb_cells = Jupyter.notebook.get_cells();\n",
       "                for (var i = 0; i < nbb_cells.length; ++i) {\n",
       "                    if (nbb_cells[i].input_prompt_number == nbb_cell_id) {\n",
       "                        if (nbb_cells[i].get_text() == nbb_unformatted_code) {\n",
       "                             nbb_cells[i].set_text(nbb_formatted_code);\n",
       "                        }\n",
       "                        break;\n",
       "                    }\n",
       "                }\n",
       "            }, 500);\n",
       "            "
      ],
      "text/plain": [
       "<IPython.core.display.Javascript object>"
      ]
     },
     "metadata": {},
     "output_type": "display_data"
    }
   ],
   "source": [
    "# dont_test\n",
    "\n",
    "client_control_host = Host(name=\"wersdoerfer.de\", port=8001)\n",
    "client_control_client = ControlClient(host=client_control_host)\n",
    "client_details = client_control_client.get_host_details()\n",
    "# benchmark_client = clients.HttpxClient(name=\"httpx\")\n",
    "# benchmark_client = clients.AioHttpClient(name=\"aiohttp\")\n",
    "benchmark_client = clients.WrkClient(\n",
    "    name=\"wrk ethernet\", host=server.host, port=server.port\n",
    ")"
   ]
  },
  {
   "cell_type": "markdown",
   "id": "048c9b7b",
   "metadata": {},
   "source": [
    "## Create Result"
   ]
  },
  {
   "cell_type": "code",
   "execution_count": null,
   "id": "39eaa87e",
   "metadata": {},
   "outputs": [
    {
     "data": {
      "application/javascript": [
       "\n",
       "            setTimeout(function() {\n",
       "                var nbb_cell_id = 20;\n",
       "                var nbb_unformatted_code = \"# dont_test\\n\\nresult = Result(\\n    server=server,\\n    client=benchmark_client,\\n    server_details=server_details,\\n    client_details=client_details,\\n    file_size=epoch.file_size,\\n    complete_size=epoch.complete_size,\\n)\";\n",
       "                var nbb_formatted_code = \"# dont_test\\n\\nresult = Result(\\n    server=server,\\n    client=benchmark_client,\\n    server_details=server_details,\\n    client_details=client_details,\\n    file_size=epoch.file_size,\\n    complete_size=epoch.complete_size,\\n)\";\n",
       "                var nbb_cells = Jupyter.notebook.get_cells();\n",
       "                for (var i = 0; i < nbb_cells.length; ++i) {\n",
       "                    if (nbb_cells[i].input_prompt_number == nbb_cell_id) {\n",
       "                        if (nbb_cells[i].get_text() == nbb_unformatted_code) {\n",
       "                             nbb_cells[i].set_text(nbb_formatted_code);\n",
       "                        }\n",
       "                        break;\n",
       "                    }\n",
       "                }\n",
       "            }, 500);\n",
       "            "
      ],
      "text/plain": [
       "<IPython.core.display.Javascript object>"
      ]
     },
     "metadata": {},
     "output_type": "display_data"
    }
   ],
   "source": [
    "# dont_test\n",
    "\n",
    "result = Result(\n",
    "    server=server,\n",
    "    client=benchmark_client,\n",
    "    server_details=server_details,\n",
    "    client_details=client_details,\n",
    "    file_size=epoch.file_size,\n",
    "    complete_size=epoch.complete_size,\n",
    ")"
   ]
  },
  {
   "cell_type": "code",
   "execution_count": null,
   "id": "4a4cc266",
   "metadata": {},
   "outputs": [
    {
     "data": {
      "application/javascript": [
       "\n",
       "            setTimeout(function() {\n",
       "                var nbb_cell_id = 20;\n",
       "                var nbb_unformatted_code = \"# epoch.urls[:5]\";\n",
       "                var nbb_formatted_code = \"# epoch.urls[:5]\";\n",
       "                var nbb_cells = Jupyter.notebook.get_cells();\n",
       "                for (var i = 0; i < nbb_cells.length; ++i) {\n",
       "                    if (nbb_cells[i].input_prompt_number == nbb_cell_id) {\n",
       "                        if (nbb_cells[i].get_text() == nbb_unformatted_code) {\n",
       "                             nbb_cells[i].set_text(nbb_formatted_code);\n",
       "                        }\n",
       "                        break;\n",
       "                    }\n",
       "                }\n",
       "            }, 500);\n",
       "            "
      ],
      "text/plain": [
       "<IPython.core.display.Javascript object>"
      ]
     },
     "metadata": {},
     "output_type": "display_data"
    }
   ],
   "source": [
    "# epoch.urls[:5]"
   ]
  },
  {
   "cell_type": "code",
   "execution_count": null,
   "id": "c3c3e676",
   "metadata": {},
   "outputs": [
    {
     "data": {
      "application/javascript": [
       "\n",
       "            setTimeout(function() {\n",
       "                var nbb_cell_id = 21;\n",
       "                var nbb_unformatted_code = \"# result.elapsed = 2.80\\n# result.readable_bytes_per_second\";\n",
       "                var nbb_formatted_code = \"# result.elapsed = 2.80\\n# result.readable_bytes_per_second\";\n",
       "                var nbb_cells = Jupyter.notebook.get_cells();\n",
       "                for (var i = 0; i < nbb_cells.length; ++i) {\n",
       "                    if (nbb_cells[i].input_prompt_number == nbb_cell_id) {\n",
       "                        if (nbb_cells[i].get_text() == nbb_unformatted_code) {\n",
       "                             nbb_cells[i].set_text(nbb_formatted_code);\n",
       "                        }\n",
       "                        break;\n",
       "                    }\n",
       "                }\n",
       "            }, 500);\n",
       "            "
      ],
      "text/plain": [
       "<IPython.core.display.Javascript object>"
      ]
     },
     "metadata": {},
     "output_type": "display_data"
    }
   ],
   "source": [
    "# result.elapsed = 2.80\n",
    "# result.readable_bytes_per_second"
   ]
  },
  {
   "cell_type": "markdown",
   "id": "2f59f66a",
   "metadata": {},
   "source": [
    "## Measure Server with Client"
   ]
  },
  {
   "cell_type": "code",
   "execution_count": null,
   "id": "a0743e6b",
   "metadata": {},
   "outputs": [
    {
     "data": {
      "application/javascript": [
       "\n",
       "            setTimeout(function() {\n",
       "                var nbb_cell_id = 21;\n",
       "                var nbb_unformatted_code = \"# dont_test\\n\\nresult.elapsed = client_control_client.measure(benchmark_client, epoch)\";\n",
       "                var nbb_formatted_code = \"# dont_test\\n\\nresult.elapsed = client_control_client.measure(benchmark_client, epoch)\";\n",
       "                var nbb_cells = Jupyter.notebook.get_cells();\n",
       "                for (var i = 0; i < nbb_cells.length; ++i) {\n",
       "                    if (nbb_cells[i].input_prompt_number == nbb_cell_id) {\n",
       "                        if (nbb_cells[i].get_text() == nbb_unformatted_code) {\n",
       "                             nbb_cells[i].set_text(nbb_formatted_code);\n",
       "                        }\n",
       "                        break;\n",
       "                    }\n",
       "                }\n",
       "            }, 500);\n",
       "            "
      ],
      "text/plain": [
       "<IPython.core.display.Javascript object>"
      ]
     },
     "metadata": {},
     "output_type": "display_data"
    }
   ],
   "source": [
    "# dont_test\n",
    "\n",
    "result.elapsed = client_control_client.measure(benchmark_client, epoch)"
   ]
  },
  {
   "cell_type": "markdown",
   "id": "06448d2c",
   "metadata": {},
   "source": [
    "## Stop Server"
   ]
  },
  {
   "cell_type": "code",
   "execution_count": null,
   "id": "b948640a",
   "metadata": {},
   "outputs": [
    {
     "data": {
      "text/plain": [
       "True"
      ]
     },
     "execution_count": null,
     "metadata": {},
     "output_type": "execute_result"
    },
    {
     "data": {
      "application/javascript": [
       "\n",
       "            setTimeout(function() {\n",
       "                var nbb_cell_id = 26;\n",
       "                var nbb_unformatted_code = \"# dont_test\\n\\nserver_control_client.stop_server(server)\";\n",
       "                var nbb_formatted_code = \"# dont_test\\n\\nserver_control_client.stop_server(server)\";\n",
       "                var nbb_cells = Jupyter.notebook.get_cells();\n",
       "                for (var i = 0; i < nbb_cells.length; ++i) {\n",
       "                    if (nbb_cells[i].input_prompt_number == nbb_cell_id) {\n",
       "                        if (nbb_cells[i].get_text() == nbb_unformatted_code) {\n",
       "                             nbb_cells[i].set_text(nbb_formatted_code);\n",
       "                        }\n",
       "                        break;\n",
       "                    }\n",
       "                }\n",
       "            }, 500);\n",
       "            "
      ],
      "text/plain": [
       "<IPython.core.display.Javascript object>"
      ]
     },
     "metadata": {},
     "output_type": "display_data"
    }
   ],
   "source": [
    "# dont_test\n",
    "\n",
    "server_control_client.stop_server(server)"
   ]
  },
  {
   "cell_type": "markdown",
   "id": "0d02e88a",
   "metadata": {},
   "source": [
    "## Save Result\n",
    "\n",
    "We are using a sqlite database for saving benchmark results."
   ]
  },
  {
   "cell_type": "code",
   "execution_count": null,
   "id": "388541b2",
   "metadata": {},
   "outputs": [
    {
     "data": {
      "application/javascript": [
       "\n",
       "            setTimeout(function() {\n",
       "                var nbb_cell_id = 23;\n",
       "                var nbb_unformatted_code = \"# dont_test\\n\\nrepository = SqliteRepository.build_repository(\\\"results_remote.db\\\")\\nregister_default_tables(repository)\\nresults_table = repository.tables[\\\"result\\\"]\";\n",
       "                var nbb_formatted_code = \"# dont_test\\n\\nrepository = SqliteRepository.build_repository(\\\"results_remote.db\\\")\\nregister_default_tables(repository)\\nresults_table = repository.tables[\\\"result\\\"]\";\n",
       "                var nbb_cells = Jupyter.notebook.get_cells();\n",
       "                for (var i = 0; i < nbb_cells.length; ++i) {\n",
       "                    if (nbb_cells[i].input_prompt_number == nbb_cell_id) {\n",
       "                        if (nbb_cells[i].get_text() == nbb_unformatted_code) {\n",
       "                             nbb_cells[i].set_text(nbb_formatted_code);\n",
       "                        }\n",
       "                        break;\n",
       "                    }\n",
       "                }\n",
       "            }, 500);\n",
       "            "
      ],
      "text/plain": [
       "<IPython.core.display.Javascript object>"
      ]
     },
     "metadata": {},
     "output_type": "display_data"
    }
   ],
   "source": [
    "# dont_test\n",
    "\n",
    "repository = SqliteRepository.build_repository(\"results_remote.db\")\n",
    "register_default_tables(repository)\n",
    "results_table = repository.tables[\"result\"]"
   ]
  },
  {
   "cell_type": "code",
   "execution_count": null,
   "id": "9592c7b4",
   "metadata": {},
   "outputs": [
    {
     "data": {
      "application/javascript": [
       "\n",
       "            setTimeout(function() {\n",
       "                var nbb_cell_id = 31;\n",
       "                var nbb_unformatted_code = \"# dont_test\\n\\nresult_id = results_table.add_result(result)\";\n",
       "                var nbb_formatted_code = \"# dont_test\\n\\nresult_id = results_table.add_result(result)\";\n",
       "                var nbb_cells = Jupyter.notebook.get_cells();\n",
       "                for (var i = 0; i < nbb_cells.length; ++i) {\n",
       "                    if (nbb_cells[i].input_prompt_number == nbb_cell_id) {\n",
       "                        if (nbb_cells[i].get_text() == nbb_unformatted_code) {\n",
       "                             nbb_cells[i].set_text(nbb_formatted_code);\n",
       "                        }\n",
       "                        break;\n",
       "                    }\n",
       "                }\n",
       "            }, 500);\n",
       "            "
      ],
      "text/plain": [
       "<IPython.core.display.Javascript object>"
      ]
     },
     "metadata": {},
     "output_type": "display_data"
    }
   ],
   "source": [
    "# dont_test\n",
    "\n",
    "result_id = results_table.add_result(result)"
   ]
  },
  {
   "cell_type": "code",
   "execution_count": null,
   "id": "239b173b",
   "metadata": {},
   "outputs": [
    {
     "data": {
      "text/html": [
       "<div>\n",
       "<style scoped>\n",
       "    .dataframe tbody tr th:only-of-type {\n",
       "        vertical-align: middle;\n",
       "    }\n",
       "\n",
       "    .dataframe tbody tr th {\n",
       "        vertical-align: top;\n",
       "    }\n",
       "\n",
       "    .dataframe thead th {\n",
       "        text-align: right;\n",
       "    }\n",
       "</style>\n",
       "<table border=\"1\" class=\"dataframe\">\n",
       "  <thead>\n",
       "    <tr style=\"text-align: right;\">\n",
       "      <th></th>\n",
       "    </tr>\n",
       "  </thead>\n",
       "  <tbody>\n",
       "  </tbody>\n",
       "</table>\n",
       "</div>"
      ],
      "text/plain": [
       "Empty DataFrame\n",
       "Columns: []\n",
       "Index: []"
      ]
     },
     "execution_count": null,
     "metadata": {},
     "output_type": "execute_result"
    },
    {
     "data": {
      "application/javascript": [
       "\n",
       "            setTimeout(function() {\n",
       "                var nbb_cell_id = 24;\n",
       "                var nbb_unformatted_code = \"# dont_test\\n\\nresults_from_database = results_table.get_results()\\n\\ncols = set([\\\"server\\\", \\\"client\\\", \\\"elapsed\\\", \\\"file_size_h\\\", \\\"bytes_per_second_h\\\"])\\npd.DataFrame(\\n    [\\n        {k: v for k, v in r.dict_for_pandas().items() if k in cols}\\n        for r in results_from_database\\n    ]\\n)\";\n",
       "                var nbb_formatted_code = \"# dont_test\\n\\nresults_from_database = results_table.get_results()\\n\\ncols = set([\\\"server\\\", \\\"client\\\", \\\"elapsed\\\", \\\"file_size_h\\\", \\\"bytes_per_second_h\\\"])\\npd.DataFrame(\\n    [\\n        {k: v for k, v in r.dict_for_pandas().items() if k in cols}\\n        for r in results_from_database\\n    ]\\n)\";\n",
       "                var nbb_cells = Jupyter.notebook.get_cells();\n",
       "                for (var i = 0; i < nbb_cells.length; ++i) {\n",
       "                    if (nbb_cells[i].input_prompt_number == nbb_cell_id) {\n",
       "                        if (nbb_cells[i].get_text() == nbb_unformatted_code) {\n",
       "                             nbb_cells[i].set_text(nbb_formatted_code);\n",
       "                        }\n",
       "                        break;\n",
       "                    }\n",
       "                }\n",
       "            }, 500);\n",
       "            "
      ],
      "text/plain": [
       "<IPython.core.display.Javascript object>"
      ]
     },
     "metadata": {},
     "output_type": "display_data"
    }
   ],
   "source": [
    "# dont_test\n",
    "\n",
    "results_from_database = results_table.get_results()\n",
    "\n",
    "cols = set([\"server\", \"client\", \"elapsed\", \"file_size_h\", \"bytes_per_second_h\"])\n",
    "pd.DataFrame(\n",
    "    [\n",
    "        {k: v for k, v in r.dict_for_pandas().items() if k in cols}\n",
    "        for r in results_from_database\n",
    "    ]\n",
    ")"
   ]
  },
  {
   "cell_type": "code",
   "execution_count": null,
   "id": "de53a40e",
   "metadata": {},
   "outputs": [],
   "source": []
  }
 ],
 "metadata": {
  "kernelspec": {
   "display_name": "Python 3",
   "language": "python",
   "name": "python3"
  }
 },
 "nbformat": 4,
 "nbformat_minor": 5
}
