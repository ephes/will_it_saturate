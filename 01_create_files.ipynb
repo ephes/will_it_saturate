{
 "cells": [
  {
   "cell_type": "code",
   "execution_count": null,
   "id": "stainless-clear",
   "metadata": {},
   "outputs": [
    {
     "data": {
      "application/javascript": [
       "\n",
       "            setTimeout(function() {\n",
       "                var nbb_cell_id = 6;\n",
       "                var nbb_unformatted_code = \"# hide\\n\\n%load_ext nb_black\";\n",
       "                var nbb_formatted_code = \"# hide\\n\\n%load_ext nb_black\";\n",
       "                var nbb_cells = Jupyter.notebook.get_cells();\n",
       "                for (var i = 0; i < nbb_cells.length; ++i) {\n",
       "                    if (nbb_cells[i].input_prompt_number == nbb_cell_id) {\n",
       "                        if (nbb_cells[i].get_text() == nbb_unformatted_code) {\n",
       "                             nbb_cells[i].set_text(nbb_formatted_code);\n",
       "                        }\n",
       "                        break;\n",
       "                    }\n",
       "                }\n",
       "            }, 500);\n",
       "            "
      ],
      "text/plain": [
       "<IPython.core.display.Javascript object>"
      ]
     },
     "metadata": {},
     "output_type": "display_data"
    }
   ],
   "source": [
    "# hide\n",
    "\n",
    "%load_ext nb_black"
   ]
  },
  {
   "cell_type": "code",
   "execution_count": null,
   "id": "fantastic-craps",
   "metadata": {},
   "outputs": [],
   "source": [
    "#default_exp files"
   ]
  },
  {
   "cell_type": "markdown",
   "id": "dated-anniversary",
   "metadata": {},
   "source": [
    "# module Files\n",
    "\n",
    "> Creation of benchmark files"
   ]
  },
  {
   "cell_type": "code",
   "execution_count": null,
   "id": "loaded-enzyme",
   "metadata": {},
   "outputs": [],
   "source": [
    "import os\n",
    "\n",
    "from pathlib import Path"
   ]
  },
  {
   "cell_type": "code",
   "execution_count": null,
   "id": "visible-delivery",
   "metadata": {},
   "outputs": [],
   "source": [
    "#export\n",
    "\n",
    "class Creator:\n",
    "    \"\"\"\n",
    "    Create files used for benchmark.\n",
    "    \"\"\"\n",
    "    def __init__(self, bandwidth=10**9 / 8, duration=30, file_size=100 * 1024 * 1024):\n",
    "        self.bandwidth = bandwidth\n",
    "        self.duration = duration\n",
    "        self.file_size = file_size\n",
    "    \n",
    "  "
   ]
  },
  {
   "cell_type": "code",
   "execution_count": null,
   "id": "healthy-witch",
   "metadata": {},
   "outputs": [
    {
     "name": "stdout",
     "output_type": "stream",
     "text": [
      "CPU times: user 151 ms, sys: 204 ms, total: 355 ms\n",
      "Wall time: 364 ms\n"
     ]
    }
   ],
   "source": [
    "%%time\n",
    "\n",
    "path = Path(\"binary_file\")\n",
    "with path.open(\"wb\") as f:\n",
    "    f.write(os.urandom(1024 * 1024 * 100))"
   ]
  },
  {
   "cell_type": "code",
   "execution_count": null,
   "id": "suspended-insulation",
   "metadata": {},
   "outputs": [
    {
     "data": {
      "text/plain": [
       "125000000.0"
      ]
     },
     "execution_count": null,
     "metadata": {},
     "output_type": "execute_result"
    }
   ],
   "source": [
    "10 ** 9 / 8"
   ]
  },
  {
   "cell_type": "code",
   "execution_count": null,
   "id": "static-citizen",
   "metadata": {},
   "outputs": [],
   "source": [
    "creator = Creator()"
   ]
  },
  {
   "cell_type": "code",
   "execution_count": null,
   "id": "judicial-excuse",
   "metadata": {},
   "outputs": [
    {
     "data": {
      "text/plain": [
       "125000000.0"
      ]
     },
     "execution_count": null,
     "metadata": {},
     "output_type": "execute_result"
    }
   ],
   "source": [
    "creator.bandwidth"
   ]
  },
  {
   "cell_type": "code",
   "execution_count": null,
   "id": "billion-rouge",
   "metadata": {},
   "outputs": [],
   "source": []
  }
 ],
 "metadata": {
  "kernelspec": {
   "display_name": "Python 3",
   "language": "python",
   "name": "python3"
  }
 },
 "nbformat": 4,
 "nbformat_minor": 5
}
