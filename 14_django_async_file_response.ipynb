{
 "cells": [
  {
   "cell_type": "code",
   "execution_count": null,
   "id": "af96018f",
   "metadata": {},
   "outputs": [
    {
     "name": "stdout",
     "output_type": "stream",
     "text": [
      "The nb_black extension is already loaded. To reload it, use:\n",
      "  %reload_ext nb_black\n"
     ]
    },
    {
     "data": {
      "application/javascript": [
       "\n",
       "            setTimeout(function() {\n",
       "                var nbb_cell_id = 3;\n",
       "                var nbb_unformatted_code = \"# hide\\n\\n%load_ext nb_black\";\n",
       "                var nbb_formatted_code = \"# hide\\n\\n%load_ext nb_black\";\n",
       "                var nbb_cells = Jupyter.notebook.get_cells();\n",
       "                for (var i = 0; i < nbb_cells.length; ++i) {\n",
       "                    if (nbb_cells[i].input_prompt_number == nbb_cell_id) {\n",
       "                        if (nbb_cells[i].get_text() == nbb_unformatted_code) {\n",
       "                             nbb_cells[i].set_text(nbb_formatted_code);\n",
       "                        }\n",
       "                        break;\n",
       "                    }\n",
       "                }\n",
       "            }, 500);\n",
       "            "
      ],
      "text/plain": [
       "<IPython.core.display.Javascript object>"
      ]
     },
     "metadata": {},
     "output_type": "display_data"
    }
   ],
   "source": [
    "# hide\n",
    "\n",
    "%load_ext nb_black"
   ]
  },
  {
   "cell_type": "markdown",
   "id": "7432847e",
   "metadata": {},
   "source": [
    "## Async File Response"
   ]
  },
  {
   "cell_type": "code",
   "execution_count": null,
   "id": "8a135347",
   "metadata": {},
   "outputs": [
    {
     "data": {
      "application/javascript": [
       "\n",
       "            setTimeout(function() {\n",
       "                var nbb_cell_id = 4;\n",
       "                var nbb_unformatted_code = \"# default_exp django.http\";\n",
       "                var nbb_formatted_code = \"# default_exp django.http\";\n",
       "                var nbb_cells = Jupyter.notebook.get_cells();\n",
       "                for (var i = 0; i < nbb_cells.length; ++i) {\n",
       "                    if (nbb_cells[i].input_prompt_number == nbb_cell_id) {\n",
       "                        if (nbb_cells[i].get_text() == nbb_unformatted_code) {\n",
       "                             nbb_cells[i].set_text(nbb_formatted_code);\n",
       "                        }\n",
       "                        break;\n",
       "                    }\n",
       "                }\n",
       "            }, 500);\n",
       "            "
      ],
      "text/plain": [
       "<IPython.core.display.Javascript object>"
      ]
     },
     "metadata": {},
     "output_type": "display_data"
    }
   ],
   "source": [
    "# default_exp django.http"
   ]
  },
  {
   "cell_type": "code",
   "execution_count": null,
   "id": "f46deded",
   "metadata": {},
   "outputs": [
    {
     "data": {
      "application/javascript": [
       "\n",
       "            setTimeout(function() {\n",
       "                var nbb_cell_id = 25;\n",
       "                var nbb_unformatted_code = \"# export\\nimport time\\nimport aiofiles\\n\\nfrom django.http import FileResponse\\n\\n\\nclass AsyncFileResponse(FileResponse):\\n    def __init__(self, *args, **kwargs):\\n        self.started_serving = time.perf_counter()\\n        self.chunk_size = kwargs.get(\\\"chunk_size\\\", 4096)\\n        self.async_file = None\\n        self.more_body = True\\n        super().__init__(*args, **kwargs)\\n\\n    def __aiter__(self):\\n        return self\\n\\n    async def __anext__(self):\\n        if self.async_file is None:\\n            self.async_file = await aiofiles.open(self.filename, mode=\\\"rb\\\")\\n        while self.more_body:\\n            chunk = await self.async_file.read(self.chunk_size)\\n            self.more_body = len(chunk) == self.chunk_size\\n            return self.more_body, chunk\\n        elapsed = time.perf_counter() - self.started_serving\\n        print(f\\\"elapsed: {elapsed} for {self.filename}\\\")\\n        await self.async_file.close()\\n        raise StopAsyncIteration\";\n",
       "                var nbb_formatted_code = \"# export\\nimport time\\nimport aiofiles\\n\\nfrom django.http import FileResponse\\n\\n\\nclass AsyncFileResponse(FileResponse):\\n    def __init__(self, *args, **kwargs):\\n        self.started_serving = time.perf_counter()\\n        self.chunk_size = kwargs.get(\\\"chunk_size\\\", 4096)\\n        self.async_file = None\\n        self.more_body = True\\n        super().__init__(*args, **kwargs)\\n\\n    def __aiter__(self):\\n        return self\\n\\n    async def __anext__(self):\\n        if self.async_file is None:\\n            self.async_file = await aiofiles.open(self.filename, mode=\\\"rb\\\")\\n        while self.more_body:\\n            chunk = await self.async_file.read(self.chunk_size)\\n            self.more_body = len(chunk) == self.chunk_size\\n            return self.more_body, chunk\\n        elapsed = time.perf_counter() - self.started_serving\\n        print(f\\\"elapsed: {elapsed} for {self.filename}\\\")\\n        await self.async_file.close()\\n        raise StopAsyncIteration\";\n",
       "                var nbb_cells = Jupyter.notebook.get_cells();\n",
       "                for (var i = 0; i < nbb_cells.length; ++i) {\n",
       "                    if (nbb_cells[i].input_prompt_number == nbb_cell_id) {\n",
       "                        if (nbb_cells[i].get_text() == nbb_unformatted_code) {\n",
       "                             nbb_cells[i].set_text(nbb_formatted_code);\n",
       "                        }\n",
       "                        break;\n",
       "                    }\n",
       "                }\n",
       "            }, 500);\n",
       "            "
      ],
      "text/plain": [
       "<IPython.core.display.Javascript object>"
      ]
     },
     "metadata": {},
     "output_type": "display_data"
    }
   ],
   "source": [
    "# export\n",
    "import time\n",
    "import aiofiles\n",
    "\n",
    "from django.http import FileResponse\n",
    "\n",
    "\n",
    "class AsyncFileResponse(FileResponse):\n",
    "    def __init__(self, *args, **kwargs):\n",
    "        self.started_serving = time.perf_counter()\n",
    "        self.chunk_size = kwargs.get(\"chunk_size\", 4096)\n",
    "        self.async_file = None\n",
    "        self.more_body = True\n",
    "        super().__init__(*args, **kwargs)\n",
    "\n",
    "    def __aiter__(self):\n",
    "        return self\n",
    "\n",
    "    async def __anext__(self):\n",
    "        if self.async_file is None:\n",
    "            self.async_file = await aiofiles.open(self.filename, mode=\"rb\")\n",
    "        while self.more_body:\n",
    "            chunk = await self.async_file.read(self.chunk_size)\n",
    "            self.more_body = len(chunk) == self.chunk_size\n",
    "            return self.more_body, chunk\n",
    "        elapsed = time.perf_counter() - self.started_serving\n",
    "        print(f\"elapsed: {elapsed} for {self.filename}\")\n",
    "        await self.async_file.close()\n",
    "        raise StopAsyncIteration"
   ]
  },
  {
   "cell_type": "code",
   "execution_count": null,
   "id": "0bac5f13",
   "metadata": {},
   "outputs": [
    {
     "name": "stdout",
     "output_type": "stream",
     "text": [
      "False\n",
      "True\n"
     ]
    },
    {
     "data": {
      "application/javascript": [
       "\n",
       "            setTimeout(function() {\n",
       "                var nbb_cell_id = 24;\n",
       "                var nbb_unformatted_code = \"# dont_test\\nimport os\\nimport asyncio\\n\\nimport django\\n\\nos.environ.setdefault(\\\"DJANGO_SETTINGS_MODULE\\\", \\\"will_it_saturate.django.settings\\\")\\n\\ndjango.setup(set_prefix=False)\\n\\n\\nafr = AsyncFileResponse()\\nprint(asyncio.iscoroutinefunction(afr.__aiter__))\\nprint(hasattr(afr, \\\"__aiter__\\\"))\";\n",
       "                var nbb_formatted_code = \"# dont_test\\nimport os\\nimport asyncio\\n\\nimport django\\n\\nos.environ.setdefault(\\\"DJANGO_SETTINGS_MODULE\\\", \\\"will_it_saturate.django.settings\\\")\\n\\ndjango.setup(set_prefix=False)\\n\\n\\nafr = AsyncFileResponse()\\nprint(asyncio.iscoroutinefunction(afr.__aiter__))\\nprint(hasattr(afr, \\\"__aiter__\\\"))\";\n",
       "                var nbb_cells = Jupyter.notebook.get_cells();\n",
       "                for (var i = 0; i < nbb_cells.length; ++i) {\n",
       "                    if (nbb_cells[i].input_prompt_number == nbb_cell_id) {\n",
       "                        if (nbb_cells[i].get_text() == nbb_unformatted_code) {\n",
       "                             nbb_cells[i].set_text(nbb_formatted_code);\n",
       "                        }\n",
       "                        break;\n",
       "                    }\n",
       "                }\n",
       "            }, 500);\n",
       "            "
      ],
      "text/plain": [
       "<IPython.core.display.Javascript object>"
      ]
     },
     "metadata": {},
     "output_type": "display_data"
    }
   ],
   "source": [
    "# dont_test\n",
    "import os\n",
    "import asyncio\n",
    "\n",
    "import django\n",
    "\n",
    "os.environ.setdefault(\"DJANGO_SETTINGS_MODULE\", \"will_it_saturate.django.settings\")\n",
    "\n",
    "django.setup(set_prefix=False)\n",
    "\n",
    "\n",
    "afr = AsyncFileResponse()\n",
    "print(asyncio.iscoroutinefunction(afr.__aiter__))\n",
    "print(hasattr(afr, \"__aiter__\"))"
   ]
  },
  {
   "cell_type": "code",
   "execution_count": null,
   "id": "ea626b26",
   "metadata": {},
   "outputs": [],
   "source": []
  },
  {
   "cell_type": "code",
   "execution_count": null,
   "id": "bca91a20",
   "metadata": {},
   "outputs": [
    {
     "name": "stdout",
     "output_type": "stream",
     "text": [
      "Converted 00_index.ipynb.\n",
      "Converted 01_host.ipynb.\n",
      "Converted 02_file.ipynb.\n",
      "Converted 03_registry.ipynb.\n",
      "Converted 04_epochs.ipynb.\n",
      "Converted 10_servers.ipynb.\n",
      "Converted 11_views_for_fastapi_server.ipynb.\n",
      "Converted 12_views_for_django_server.ipynb.\n",
      "Converted 13_django_asgi.ipynb.\n",
      "Converted 14_django_async_file_response.ipynb.\n",
      "Converted 15_servers_started_locally.ipynb.\n",
      "Converted 16_servers_started_via_docker.ipynb.\n",
      "Converted 20_clients.ipynb.\n",
      "Converted 21_benchmark_client_implementations.ipynb.\n",
      "Converted 30_control_server.ipynb.\n",
      "Converted 31_control_client.ipynb.\n",
      "Converted 32_control_cli.ipynb.\n",
      "Converted 40_results.ipynb.\n",
      "Converted 41_repositories.ipynb.\n",
      "Converted 42_sqlite_repository.ipynb.\n",
      "Converted 50_benchmark_without_benchmark.ipynb.\n",
      "Converted 51_benchmark_remote_control_server.ipynb.\n",
      "Converted 52_benchmark_from_config.ipynb.\n",
      "Converted 52_generate_files_for_benchmark.ipynb.\n",
      "Converted 60_legacy.ipynb.\n",
      "Converted 61_run_benchmark.ipynb.\n"
     ]
    },
    {
     "data": {
      "application/javascript": [
       "\n",
       "            setTimeout(function() {\n",
       "                var nbb_cell_id = 18;\n",
       "                var nbb_unformatted_code = \"# hide\\n# dont_test\\n\\nfrom nbdev.export import notebook2script\\n\\nnotebook2script()\";\n",
       "                var nbb_formatted_code = \"# hide\\n# dont_test\\n\\nfrom nbdev.export import notebook2script\\n\\nnotebook2script()\";\n",
       "                var nbb_cells = Jupyter.notebook.get_cells();\n",
       "                for (var i = 0; i < nbb_cells.length; ++i) {\n",
       "                    if (nbb_cells[i].input_prompt_number == nbb_cell_id) {\n",
       "                        if (nbb_cells[i].get_text() == nbb_unformatted_code) {\n",
       "                             nbb_cells[i].set_text(nbb_formatted_code);\n",
       "                        }\n",
       "                        break;\n",
       "                    }\n",
       "                }\n",
       "            }, 500);\n",
       "            "
      ],
      "text/plain": [
       "<IPython.core.display.Javascript object>"
      ]
     },
     "metadata": {},
     "output_type": "display_data"
    }
   ],
   "source": [
    "# hide\n",
    "# dont_test\n",
    "\n",
    "from nbdev.export import notebook2script\n",
    "\n",
    "notebook2script()"
   ]
  }
 ],
 "metadata": {
  "kernelspec": {
   "display_name": "Python 3",
   "language": "python",
   "name": "python3"
  }
 },
 "nbformat": 4,
 "nbformat_minor": 5
}
