{
 "cells": [
  {
   "cell_type": "code",
   "execution_count": null,
   "id": "automotive-brooks",
   "metadata": {},
   "outputs": [
    {
     "data": {
      "application/javascript": [
       "\n",
       "            setTimeout(function() {\n",
       "                var nbb_cell_id = 1;\n",
       "                var nbb_unformatted_code = \"%load_ext nb_black\";\n",
       "                var nbb_formatted_code = \"%load_ext nb_black\";\n",
       "                var nbb_cells = Jupyter.notebook.get_cells();\n",
       "                for (var i = 0; i < nbb_cells.length; ++i) {\n",
       "                    if (nbb_cells[i].input_prompt_number == nbb_cell_id) {\n",
       "                        if (nbb_cells[i].get_text() == nbb_unformatted_code) {\n",
       "                             nbb_cells[i].set_text(nbb_formatted_code);\n",
       "                        }\n",
       "                        break;\n",
       "                    }\n",
       "                }\n",
       "            }, 500);\n",
       "            "
      ],
      "text/plain": [
       "<IPython.core.display.Javascript object>"
      ]
     },
     "metadata": {},
     "output_type": "display_data"
    }
   ],
   "source": [
    "%load_ext nb_black"
   ]
  },
  {
   "cell_type": "code",
   "execution_count": null,
   "id": "incorporated-ebony",
   "metadata": {},
   "outputs": [
    {
     "data": {
      "application/javascript": [
       "\n",
       "            setTimeout(function() {\n",
       "                var nbb_cell_id = 2;\n",
       "                var nbb_unformatted_code = \"# default_exp results\";\n",
       "                var nbb_formatted_code = \"# default_exp results\";\n",
       "                var nbb_cells = Jupyter.notebook.get_cells();\n",
       "                for (var i = 0; i < nbb_cells.length; ++i) {\n",
       "                    if (nbb_cells[i].input_prompt_number == nbb_cell_id) {\n",
       "                        if (nbb_cells[i].get_text() == nbb_unformatted_code) {\n",
       "                             nbb_cells[i].set_text(nbb_formatted_code);\n",
       "                        }\n",
       "                        break;\n",
       "                    }\n",
       "                }\n",
       "            }, 500);\n",
       "            "
      ],
      "text/plain": [
       "<IPython.core.display.Javascript object>"
      ]
     },
     "metadata": {},
     "output_type": "display_data"
    }
   ],
   "source": [
    "# default_exp results"
   ]
  },
  {
   "cell_type": "markdown",
   "id": "macro-thermal",
   "metadata": {},
   "source": [
    "# module Results\n",
    "\n",
    "> Handle benchmark results"
   ]
  },
  {
   "cell_type": "code",
   "execution_count": null,
   "id": "political-traveler",
   "metadata": {},
   "outputs": [
    {
     "data": {
      "application/javascript": [
       "\n",
       "            setTimeout(function() {\n",
       "                var nbb_cell_id = 3;\n",
       "                var nbb_unformatted_code = \"# export\\n\\nimport math\\n\\nfrom typing import Optional\\nfrom pydantic import BaseModel\\n\\nfrom will_it_saturate.epochs import Epoch\\nfrom will_it_saturate.hosts import HostDetails\\nfrom will_it_saturate.servers import BaseServer\\nfrom will_it_saturate.clients import BaseClient\";\n",
       "                var nbb_formatted_code = \"# export\\n\\nimport math\\n\\nfrom typing import Optional\\nfrom pydantic import BaseModel\\n\\nfrom will_it_saturate.epochs import Epoch\\nfrom will_it_saturate.hosts import HostDetails\\nfrom will_it_saturate.servers import BaseServer\\nfrom will_it_saturate.clients import BaseClient\";\n",
       "                var nbb_cells = Jupyter.notebook.get_cells();\n",
       "                for (var i = 0; i < nbb_cells.length; ++i) {\n",
       "                    if (nbb_cells[i].input_prompt_number == nbb_cell_id) {\n",
       "                        if (nbb_cells[i].get_text() == nbb_unformatted_code) {\n",
       "                             nbb_cells[i].set_text(nbb_formatted_code);\n",
       "                        }\n",
       "                        break;\n",
       "                    }\n",
       "                }\n",
       "            }, 500);\n",
       "            "
      ],
      "text/plain": [
       "<IPython.core.display.Javascript object>"
      ]
     },
     "metadata": {},
     "output_type": "display_data"
    }
   ],
   "source": [
    "# export\n",
    "\n",
    "import math\n",
    "\n",
    "from typing import Optional\n",
    "from pydantic import BaseModel\n",
    "\n",
    "from will_it_saturate.epochs import Epoch\n",
    "from will_it_saturate.hosts import HostDetails\n",
    "from will_it_saturate.servers import BaseServer\n",
    "from will_it_saturate.clients import BaseClient"
   ]
  },
  {
   "cell_type": "markdown",
   "id": "dangerous-compromise",
   "metadata": {},
   "source": [
    "# Benchmark Result"
   ]
  },
  {
   "cell_type": "code",
   "execution_count": null,
   "id": "conditional-transmission",
   "metadata": {},
   "outputs": [
    {
     "data": {
      "application/javascript": [
       "\n",
       "            setTimeout(function() {\n",
       "                var nbb_cell_id = 4;\n",
       "                var nbb_unformatted_code = \"# export\\n\\n\\ndef convert_size(size_bytes):\\n    if size_bytes == 0:\\n        return \\\"0B\\\"\\n    size_name = (\\\"B\\\", \\\"KB\\\", \\\"MB\\\", \\\"GB\\\", \\\"TB\\\", \\\"PB\\\", \\\"EB\\\", \\\"ZB\\\", \\\"YB\\\")\\n    i = int(math.floor(math.log(size_bytes, 1024)))\\n    p = math.pow(1024, i)\\n    s = round(size_bytes / p, 2)\\n    return s, size_name[i]\\n\\n\\nclass Result(BaseModel):\\n    server: BaseServer\\n    client: BaseClient\\n    server_details: Optional[HostDetails]\\n    client_details: Optional[HostDetails]\\n    file_size: int\\n    elapsed: Optional[float] = None\\n    complete_size: int\\n\\n    def __hash__(self):\\n        return hash(self.json(exclude={\\\"elapsed\\\"}))\\n\\n    def __eq__(self, other):\\n        self_dict, other_dict = self.dict(exclude={\\\"elapsed\\\"}), other.dict(\\n            exclude={\\\"elapsed\\\"}\\n        )\\n        return self_dict == other_dict\\n\\n    @classmethod\\n    def build_empty_result(cls, row, server, client):\\n        return cls(\\n            server=server,\\n            client=client,\\n            file_size=row.file_size,\\n            complete_size=row.complete_size,\\n        )\\n\\n    def make_readable(self, size_in_bytes):\\n        size, unit = convert_size(size_in_bytes)\\n        return f\\\"{size}{unit}\\\"\\n\\n    @property\\n    def readable_file_size(self):\\n        return self.make_readable(self.file_size)\\n\\n    @property\\n    def bytes_per_second(self):\\n        return self.complete_size / self.elapsed\\n\\n    @property\\n    def readable_bytes_per_second(self):\\n        return self.make_readable(self.bytes_per_second)\\n\\n    def dict_with_properties(self):\\n        return {\\n            **super().dict(),\\n            \\\"file_size_h\\\": self.readable_file_size,\\n            \\\"bytes_per_second\\\": self.bytes_per_second,\\n            \\\"bytes_per_second_h\\\": self.readable_bytes_per_second,\\n        }\\n\\n    def dict_for_pandas(self):\\n        return {\\n            \\\"server\\\": self.server.name,\\n            \\\"client\\\": self.client.name,\\n            \\\"server_host\\\": self.server_details.machine_id,\\n            \\\"client_host\\\": self.client_details.machine_id,\\n            \\\"elapsed\\\": self.elapsed,\\n            \\\"file_size\\\": self.file_size,\\n            \\\"file_size_h\\\": self.readable_file_size,\\n            \\\"complete_size\\\": self.complete_size,\\n            \\\"bytes_per_second\\\": self.bytes_per_second,\\n            \\\"bytes_per_second_h\\\": self.readable_bytes_per_second,\\n        }\";\n",
       "                var nbb_formatted_code = \"# export\\n\\n\\ndef convert_size(size_bytes):\\n    if size_bytes == 0:\\n        return \\\"0B\\\"\\n    size_name = (\\\"B\\\", \\\"KB\\\", \\\"MB\\\", \\\"GB\\\", \\\"TB\\\", \\\"PB\\\", \\\"EB\\\", \\\"ZB\\\", \\\"YB\\\")\\n    i = int(math.floor(math.log(size_bytes, 1024)))\\n    p = math.pow(1024, i)\\n    s = round(size_bytes / p, 2)\\n    return s, size_name[i]\\n\\n\\nclass Result(BaseModel):\\n    server: BaseServer\\n    client: BaseClient\\n    server_details: Optional[HostDetails]\\n    client_details: Optional[HostDetails]\\n    file_size: int\\n    elapsed: Optional[float] = None\\n    complete_size: int\\n\\n    def __hash__(self):\\n        return hash(self.json(exclude={\\\"elapsed\\\"}))\\n\\n    def __eq__(self, other):\\n        self_dict, other_dict = self.dict(exclude={\\\"elapsed\\\"}), other.dict(\\n            exclude={\\\"elapsed\\\"}\\n        )\\n        return self_dict == other_dict\\n\\n    @classmethod\\n    def build_empty_result(cls, row, server, client):\\n        return cls(\\n            server=server,\\n            client=client,\\n            file_size=row.file_size,\\n            complete_size=row.complete_size,\\n        )\\n\\n    def make_readable(self, size_in_bytes):\\n        size, unit = convert_size(size_in_bytes)\\n        return f\\\"{size}{unit}\\\"\\n\\n    @property\\n    def readable_file_size(self):\\n        return self.make_readable(self.file_size)\\n\\n    @property\\n    def bytes_per_second(self):\\n        return self.complete_size / self.elapsed\\n\\n    @property\\n    def readable_bytes_per_second(self):\\n        return self.make_readable(self.bytes_per_second)\\n\\n    def dict_with_properties(self):\\n        return {\\n            **super().dict(),\\n            \\\"file_size_h\\\": self.readable_file_size,\\n            \\\"bytes_per_second\\\": self.bytes_per_second,\\n            \\\"bytes_per_second_h\\\": self.readable_bytes_per_second,\\n        }\\n\\n    def dict_for_pandas(self):\\n        return {\\n            \\\"server\\\": self.server.name,\\n            \\\"client\\\": self.client.name,\\n            \\\"server_host\\\": self.server_details.machine_id,\\n            \\\"client_host\\\": self.client_details.machine_id,\\n            \\\"elapsed\\\": self.elapsed,\\n            \\\"file_size\\\": self.file_size,\\n            \\\"file_size_h\\\": self.readable_file_size,\\n            \\\"complete_size\\\": self.complete_size,\\n            \\\"bytes_per_second\\\": self.bytes_per_second,\\n            \\\"bytes_per_second_h\\\": self.readable_bytes_per_second,\\n        }\";\n",
       "                var nbb_cells = Jupyter.notebook.get_cells();\n",
       "                for (var i = 0; i < nbb_cells.length; ++i) {\n",
       "                    if (nbb_cells[i].input_prompt_number == nbb_cell_id) {\n",
       "                        if (nbb_cells[i].get_text() == nbb_unformatted_code) {\n",
       "                             nbb_cells[i].set_text(nbb_formatted_code);\n",
       "                        }\n",
       "                        break;\n",
       "                    }\n",
       "                }\n",
       "            }, 500);\n",
       "            "
      ],
      "text/plain": [
       "<IPython.core.display.Javascript object>"
      ]
     },
     "metadata": {},
     "output_type": "display_data"
    }
   ],
   "source": [
    "# export\n",
    "\n",
    "\n",
    "def convert_size(size_bytes):\n",
    "    if size_bytes == 0:\n",
    "        return \"0B\"\n",
    "    size_name = (\"B\", \"KB\", \"MB\", \"GB\", \"TB\", \"PB\", \"EB\", \"ZB\", \"YB\")\n",
    "    i = int(math.floor(math.log(size_bytes, 1024)))\n",
    "    p = math.pow(1024, i)\n",
    "    s = round(size_bytes / p, 2)\n",
    "    return s, size_name[i]\n",
    "\n",
    "\n",
    "class Result(BaseModel):\n",
    "    server: BaseServer\n",
    "    client: BaseClient\n",
    "    server_details: Optional[HostDetails]\n",
    "    client_details: Optional[HostDetails]\n",
    "    file_size: int\n",
    "    elapsed: Optional[float] = None\n",
    "    complete_size: int\n",
    "\n",
    "    def __hash__(self):\n",
    "        return hash(self.json(exclude={\"elapsed\"}))\n",
    "\n",
    "    def __eq__(self, other):\n",
    "        self_dict, other_dict = self.dict(exclude={\"elapsed\"}), other.dict(\n",
    "            exclude={\"elapsed\"}\n",
    "        )\n",
    "        return self_dict == other_dict\n",
    "\n",
    "    @classmethod\n",
    "    def build_empty_result(cls, row, server, client):\n",
    "        return cls(\n",
    "            server=server,\n",
    "            client=client,\n",
    "            file_size=row.file_size,\n",
    "            complete_size=row.complete_size,\n",
    "        )\n",
    "\n",
    "    def make_readable(self, size_in_bytes):\n",
    "        size, unit = convert_size(size_in_bytes)\n",
    "        return f\"{size}{unit}\"\n",
    "\n",
    "    @property\n",
    "    def readable_file_size(self):\n",
    "        return self.make_readable(self.file_size)\n",
    "\n",
    "    @property\n",
    "    def bytes_per_second(self):\n",
    "        return self.complete_size / self.elapsed\n",
    "\n",
    "    @property\n",
    "    def readable_bytes_per_second(self):\n",
    "        return self.make_readable(self.bytes_per_second)\n",
    "\n",
    "    def dict_with_properties(self):\n",
    "        return {\n",
    "            **super().dict(),\n",
    "            \"file_size_h\": self.readable_file_size,\n",
    "            \"bytes_per_second\": self.bytes_per_second,\n",
    "            \"bytes_per_second_h\": self.readable_bytes_per_second,\n",
    "        }\n",
    "\n",
    "    def dict_for_pandas(self):\n",
    "        return {\n",
    "            \"server\": self.server.name,\n",
    "            \"client\": self.client.name,\n",
    "            \"server_host\": self.server_details.machine_id,\n",
    "            \"client_host\": self.client_details.machine_id,\n",
    "            \"elapsed\": self.elapsed,\n",
    "            \"file_size\": self.file_size,\n",
    "            \"file_size_h\": self.readable_file_size,\n",
    "            \"complete_size\": self.complete_size,\n",
    "            \"bytes_per_second\": self.bytes_per_second,\n",
    "            \"bytes_per_second_h\": self.readable_bytes_per_second,\n",
    "        }"
   ]
  },
  {
   "cell_type": "markdown",
   "id": "involved-religion",
   "metadata": {},
   "source": [
    "## Usage"
   ]
  },
  {
   "cell_type": "code",
   "execution_count": null,
   "id": "generic-blink",
   "metadata": {},
   "outputs": [
    {
     "name": "stdout",
     "output_type": "stream",
     "text": [
      "{'server': {'protocol': 'http', 'name': 'nginx', 'host': 'localhost', 'port': 8000}, 'client': {'name': 'httpx'}, 'server_details': {'machine_id': 'asdf', 'cpuinfo': {'arch': 'X86_64'}}, 'client_details': {'machine_id': 'asdf', 'cpuinfo': {'arch': 'X86_64'}}, 'file_size': 1000000, 'elapsed': 3.0, 'complete_size': 100000000}\n",
      "{'server': {'protocol': 'http', 'name': 'nginx', 'host': 'localhost', 'port': 8000}, 'client': {'name': 'httpx'}, 'server_details': {'machine_id': 'asdf', 'cpuinfo': {'arch': 'X86_64'}}, 'client_details': {'machine_id': 'asdf', 'cpuinfo': {'arch': 'X86_64'}}, 'file_size': 1000000, 'elapsed': 3.0, 'complete_size': 100000000, 'file_size_h': '976.56KB', 'bytes_per_second': 33333333.333333332, 'bytes_per_second_h': '31.79MB'}\n",
      "{'server': 'nginx', 'client': 'httpx', 'server_host': 'asdf', 'client_host': 'asdf', 'elapsed': 3.0, 'file_size': 1000000, 'file_size_h': '976.56KB', 'complete_size': 100000000, 'bytes_per_second': 33333333.333333332, 'bytes_per_second_h': '31.79MB'}\n"
     ]
    },
    {
     "data": {
      "application/javascript": [
       "\n",
       "            setTimeout(function() {\n",
       "                var nbb_cell_id = 5;\n",
       "                var nbb_unformatted_code = \"file_size = 10 ** 6\\ncomplete_size = 100 * file_size\\ndummy_details = HostDetails(machine_id=\\\"asdf\\\", cpuinfo={\\\"arch\\\": \\\"X86_64\\\"})\\nresult = Result(\\n    server_details=dummy_details,\\n    client_details=dummy_details,\\n    server=BaseServer(name=\\\"nginx\\\"),\\n    client=BaseClient(name=\\\"httpx\\\"),\\n    file_size=file_size,\\n    elapsed=3.0,\\n    complete_size=complete_size,\\n)\\nprint(result.dict())\\nprint(result.dict_with_properties())\\nprint(result.dict_for_pandas())\";\n",
       "                var nbb_formatted_code = \"file_size = 10 ** 6\\ncomplete_size = 100 * file_size\\ndummy_details = HostDetails(machine_id=\\\"asdf\\\", cpuinfo={\\\"arch\\\": \\\"X86_64\\\"})\\nresult = Result(\\n    server_details=dummy_details,\\n    client_details=dummy_details,\\n    server=BaseServer(name=\\\"nginx\\\"),\\n    client=BaseClient(name=\\\"httpx\\\"),\\n    file_size=file_size,\\n    elapsed=3.0,\\n    complete_size=complete_size,\\n)\\nprint(result.dict())\\nprint(result.dict_with_properties())\\nprint(result.dict_for_pandas())\";\n",
       "                var nbb_cells = Jupyter.notebook.get_cells();\n",
       "                for (var i = 0; i < nbb_cells.length; ++i) {\n",
       "                    if (nbb_cells[i].input_prompt_number == nbb_cell_id) {\n",
       "                        if (nbb_cells[i].get_text() == nbb_unformatted_code) {\n",
       "                             nbb_cells[i].set_text(nbb_formatted_code);\n",
       "                        }\n",
       "                        break;\n",
       "                    }\n",
       "                }\n",
       "            }, 500);\n",
       "            "
      ],
      "text/plain": [
       "<IPython.core.display.Javascript object>"
      ]
     },
     "metadata": {},
     "output_type": "display_data"
    }
   ],
   "source": [
    "file_size = 10 ** 6\n",
    "complete_size = 100 * file_size\n",
    "dummy_details = HostDetails(machine_id=\"asdf\", cpuinfo={\"arch\": \"X86_64\"})\n",
    "result = Result(\n",
    "    server_details=dummy_details,\n",
    "    client_details=dummy_details,\n",
    "    server=BaseServer(name=\"nginx\"),\n",
    "    client=BaseClient(name=\"httpx\"),\n",
    "    file_size=file_size,\n",
    "    elapsed=3.0,\n",
    "    complete_size=complete_size,\n",
    ")\n",
    "print(result.dict())\n",
    "print(result.dict_with_properties())\n",
    "print(result.dict_for_pandas())"
   ]
  },
  {
   "cell_type": "code",
   "execution_count": null,
   "id": "2d076098",
   "metadata": {},
   "outputs": [
    {
     "data": {
      "text/plain": [
       "'asdf'"
      ]
     },
     "execution_count": null,
     "metadata": {},
     "output_type": "execute_result"
    },
    {
     "data": {
      "application/javascript": [
       "\n",
       "            setTimeout(function() {\n",
       "                var nbb_cell_id = 6;\n",
       "                var nbb_unformatted_code = \"result.server_details.machine_id\";\n",
       "                var nbb_formatted_code = \"result.server_details.machine_id\";\n",
       "                var nbb_cells = Jupyter.notebook.get_cells();\n",
       "                for (var i = 0; i < nbb_cells.length; ++i) {\n",
       "                    if (nbb_cells[i].input_prompt_number == nbb_cell_id) {\n",
       "                        if (nbb_cells[i].get_text() == nbb_unformatted_code) {\n",
       "                             nbb_cells[i].set_text(nbb_formatted_code);\n",
       "                        }\n",
       "                        break;\n",
       "                    }\n",
       "                }\n",
       "            }, 500);\n",
       "            "
      ],
      "text/plain": [
       "<IPython.core.display.Javascript object>"
      ]
     },
     "metadata": {},
     "output_type": "display_data"
    }
   ],
   "source": [
    "result.server_details.machine_id"
   ]
  },
  {
   "cell_type": "markdown",
   "id": "resident-defendant",
   "metadata": {},
   "source": [
    "## Tests"
   ]
  },
  {
   "cell_type": "code",
   "execution_count": null,
   "id": "under-blame",
   "metadata": {},
   "outputs": [
    {
     "data": {
      "application/javascript": [
       "\n",
       "            setTimeout(function() {\n",
       "                var nbb_cell_id = 7;\n",
       "                var nbb_unformatted_code = \"assert result.readable_bytes_per_second == \\\"31.79MB\\\"\\nassert \\\"file_size\\\" in result.json()\";\n",
       "                var nbb_formatted_code = \"assert result.readable_bytes_per_second == \\\"31.79MB\\\"\\nassert \\\"file_size\\\" in result.json()\";\n",
       "                var nbb_cells = Jupyter.notebook.get_cells();\n",
       "                for (var i = 0; i < nbb_cells.length; ++i) {\n",
       "                    if (nbb_cells[i].input_prompt_number == nbb_cell_id) {\n",
       "                        if (nbb_cells[i].get_text() == nbb_unformatted_code) {\n",
       "                             nbb_cells[i].set_text(nbb_formatted_code);\n",
       "                        }\n",
       "                        break;\n",
       "                    }\n",
       "                }\n",
       "            }, 500);\n",
       "            "
      ],
      "text/plain": [
       "<IPython.core.display.Javascript object>"
      ]
     },
     "metadata": {},
     "output_type": "display_data"
    }
   ],
   "source": [
    "assert result.readable_bytes_per_second == \"31.79MB\"\n",
    "assert \"file_size\" in result.json()"
   ]
  },
  {
   "cell_type": "code",
   "execution_count": null,
   "id": "prescription-light",
   "metadata": {},
   "outputs": [
    {
     "data": {
      "application/javascript": [
       "\n",
       "            setTimeout(function() {\n",
       "                var nbb_cell_id = 8;\n",
       "                var nbb_unformatted_code = \"from will_it_saturate.clients import BaseClient\\nfrom will_it_saturate.servers import BaseServer\\n\\n\\nclass Client(BaseClient):\\n    measured: bool = False\\n\\n    def measure(self, benchmark_row):\\n        self.measured = True\\n        print(\\\"measure_benchmark_row: \\\", benchmark_row)\\n        return 2.0\\n\\n\\nclass Server(BaseServer):\\n    started: bool = False\\n    stopped: bool = False\\n\\n    def start(self):\\n        self.started = True\\n\\n    def stop(self):\\n        self.stopped = True\\n\\n\\nrow_params = {\\n    \\\"file_size\\\": 10 ** 6 * 10,\\n    \\\"duration\\\": 30,\\n    \\\"bandwidth\\\": 10 ** 9 / 8,\\n    \\\"file_creator_name\\\": \\\"dummy\\\",\\n}\\nepoch = Epoch(**row_params)\\n\\n\\nclient = Client(name=\\\"client\\\")\\nserver = Server(name=\\\"server\\\")\\n\\nresult = Result.build_empty_result(epoch, server, client)\";\n",
       "                var nbb_formatted_code = \"from will_it_saturate.clients import BaseClient\\nfrom will_it_saturate.servers import BaseServer\\n\\n\\nclass Client(BaseClient):\\n    measured: bool = False\\n\\n    def measure(self, benchmark_row):\\n        self.measured = True\\n        print(\\\"measure_benchmark_row: \\\", benchmark_row)\\n        return 2.0\\n\\n\\nclass Server(BaseServer):\\n    started: bool = False\\n    stopped: bool = False\\n\\n    def start(self):\\n        self.started = True\\n\\n    def stop(self):\\n        self.stopped = True\\n\\n\\nrow_params = {\\n    \\\"file_size\\\": 10 ** 6 * 10,\\n    \\\"duration\\\": 30,\\n    \\\"bandwidth\\\": 10 ** 9 / 8,\\n    \\\"file_creator_name\\\": \\\"dummy\\\",\\n}\\nepoch = Epoch(**row_params)\\n\\n\\nclient = Client(name=\\\"client\\\")\\nserver = Server(name=\\\"server\\\")\\n\\nresult = Result.build_empty_result(epoch, server, client)\";\n",
       "                var nbb_cells = Jupyter.notebook.get_cells();\n",
       "                for (var i = 0; i < nbb_cells.length; ++i) {\n",
       "                    if (nbb_cells[i].input_prompt_number == nbb_cell_id) {\n",
       "                        if (nbb_cells[i].get_text() == nbb_unformatted_code) {\n",
       "                             nbb_cells[i].set_text(nbb_formatted_code);\n",
       "                        }\n",
       "                        break;\n",
       "                    }\n",
       "                }\n",
       "            }, 500);\n",
       "            "
      ],
      "text/plain": [
       "<IPython.core.display.Javascript object>"
      ]
     },
     "metadata": {},
     "output_type": "display_data"
    }
   ],
   "source": [
    "from will_it_saturate.clients import BaseClient\n",
    "from will_it_saturate.servers import BaseServer\n",
    "\n",
    "\n",
    "class Client(BaseClient):\n",
    "    measured: bool = False\n",
    "\n",
    "    def measure(self, benchmark_row):\n",
    "        self.measured = True\n",
    "        print(\"measure_benchmark_row: \", benchmark_row)\n",
    "        return 2.0\n",
    "\n",
    "\n",
    "class Server(BaseServer):\n",
    "    started: bool = False\n",
    "    stopped: bool = False\n",
    "\n",
    "    def start(self):\n",
    "        self.started = True\n",
    "\n",
    "    def stop(self):\n",
    "        self.stopped = True\n",
    "\n",
    "\n",
    "row_params = {\n",
    "    \"file_size\": 10 ** 6 * 10,\n",
    "    \"duration\": 30,\n",
    "    \"bandwidth\": 10 ** 9 / 8,\n",
    "    \"file_creator_name\": \"dummy\",\n",
    "}\n",
    "epoch = Epoch(**row_params)\n",
    "\n",
    "\n",
    "client = Client(name=\"client\")\n",
    "server = Server(name=\"server\")\n",
    "\n",
    "result = Result.build_empty_result(epoch, server, client)"
   ]
  },
  {
   "cell_type": "code",
   "execution_count": null,
   "id": "pressed-checkout",
   "metadata": {},
   "outputs": [
    {
     "data": {
      "application/javascript": [
       "\n",
       "            setTimeout(function() {\n",
       "                var nbb_cell_id = 9;\n",
       "                var nbb_unformatted_code = \"assert result.server == server\\nassert result.client == client\";\n",
       "                var nbb_formatted_code = \"assert result.server == server\\nassert result.client == client\";\n",
       "                var nbb_cells = Jupyter.notebook.get_cells();\n",
       "                for (var i = 0; i < nbb_cells.length; ++i) {\n",
       "                    if (nbb_cells[i].input_prompt_number == nbb_cell_id) {\n",
       "                        if (nbb_cells[i].get_text() == nbb_unformatted_code) {\n",
       "                             nbb_cells[i].set_text(nbb_formatted_code);\n",
       "                        }\n",
       "                        break;\n",
       "                    }\n",
       "                }\n",
       "            }, 500);\n",
       "            "
      ],
      "text/plain": [
       "<IPython.core.display.Javascript object>"
      ]
     },
     "metadata": {},
     "output_type": "display_data"
    }
   ],
   "source": [
    "assert result.server == server\n",
    "assert result.client == client"
   ]
  },
  {
   "cell_type": "markdown",
   "id": "electronic-tampa",
   "metadata": {},
   "source": [
    "# Export"
   ]
  },
  {
   "cell_type": "code",
   "execution_count": null,
   "id": "cooked-image",
   "metadata": {},
   "outputs": [
    {
     "name": "stdout",
     "output_type": "stream",
     "text": [
      "Converted 00_host.ipynb.\n",
      "Converted 01_django_views.ipynb.\n",
      "Converted 01_fastapi_views.ipynb.\n",
      "Converted 01_file.ipynb.\n",
      "Converted 05_epochs.ipynb.\n",
      "Converted 06_results.ipynb.\n",
      "Converted 25_core.ipynb.\n",
      "Converted 27_control_server.ipynb.\n",
      "Converted 28_control_client.ipynb.\n",
      "Converted 29_control_cli.ipynb.\n",
      "Converted 30_servers.ipynb.\n",
      "Converted 31_local_servers.ipynb.\n",
      "Converted 32_docker_servers.ipynb.\n",
      "Converted 40_clients.ipynb.\n",
      "Converted 41_benchmark_clients.ipynb.\n",
      "Converted 70_repositories.ipynb.\n",
      "Converted 71_sqlite_repository.ipynb.\n",
      "Converted 90_benchmark_without_benchmark.ipynb.\n",
      "Converted 98_run_benchmark.ipynb.\n",
      "Converted index.ipynb.\n"
     ]
    },
    {
     "data": {
      "application/javascript": [
       "\n",
       "            setTimeout(function() {\n",
       "                var nbb_cell_id = 10;\n",
       "                var nbb_unformatted_code = \"# dont_test\\n\\nfrom nbdev.export import notebook2script\\n\\nnotebook2script()\";\n",
       "                var nbb_formatted_code = \"# dont_test\\n\\nfrom nbdev.export import notebook2script\\n\\nnotebook2script()\";\n",
       "                var nbb_cells = Jupyter.notebook.get_cells();\n",
       "                for (var i = 0; i < nbb_cells.length; ++i) {\n",
       "                    if (nbb_cells[i].input_prompt_number == nbb_cell_id) {\n",
       "                        if (nbb_cells[i].get_text() == nbb_unformatted_code) {\n",
       "                             nbb_cells[i].set_text(nbb_formatted_code);\n",
       "                        }\n",
       "                        break;\n",
       "                    }\n",
       "                }\n",
       "            }, 500);\n",
       "            "
      ],
      "text/plain": [
       "<IPython.core.display.Javascript object>"
      ]
     },
     "metadata": {},
     "output_type": "display_data"
    }
   ],
   "source": [
    "# dont_test\n",
    "\n",
    "from nbdev.export import notebook2script\n",
    "\n",
    "notebook2script()"
   ]
  }
 ],
 "metadata": {
  "kernelspec": {
   "display_name": "Python 3",
   "language": "python",
   "name": "python3"
  }
 },
 "nbformat": 4,
 "nbformat_minor": 5
}
