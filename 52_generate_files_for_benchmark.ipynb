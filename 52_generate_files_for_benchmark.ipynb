{
 "cells": [
  {
   "cell_type": "code",
   "execution_count": null,
   "id": "56f03797",
   "metadata": {},
   "outputs": [
    {
     "name": "stdout",
     "output_type": "stream",
     "text": [
      "The nb_black extension is already loaded. To reload it, use:\n",
      "  %reload_ext nb_black\n"
     ]
    },
    {
     "data": {
      "application/javascript": [
       "\n",
       "            setTimeout(function() {\n",
       "                var nbb_cell_id = 9;\n",
       "                var nbb_unformatted_code = \"# hide\\n%load_ext nb_black\";\n",
       "                var nbb_formatted_code = \"# hide\\n%load_ext nb_black\";\n",
       "                var nbb_cells = Jupyter.notebook.get_cells();\n",
       "                for (var i = 0; i < nbb_cells.length; ++i) {\n",
       "                    if (nbb_cells[i].input_prompt_number == nbb_cell_id) {\n",
       "                        if (nbb_cells[i].get_text() == nbb_unformatted_code) {\n",
       "                             nbb_cells[i].set_text(nbb_formatted_code);\n",
       "                        }\n",
       "                        break;\n",
       "                    }\n",
       "                }\n",
       "            }, 500);\n",
       "            "
      ],
      "text/plain": [
       "<IPython.core.display.Javascript object>"
      ]
     },
     "metadata": {},
     "output_type": "display_data"
    }
   ],
   "source": [
    "# hide\n",
    "%load_ext nb_black"
   ]
  },
  {
   "cell_type": "code",
   "execution_count": null,
   "id": "f1fa8faf",
   "metadata": {},
   "outputs": [
    {
     "data": {
      "application/javascript": [
       "\n",
       "            setTimeout(function() {\n",
       "                var nbb_cell_id = 10;\n",
       "                var nbb_unformatted_code = \"import httpx\\nimport pandas as pd\\n\\nfrom urllib.parse import urljoin\\n\\nfrom will_it_saturate import servers\\nfrom will_it_saturate import clients\\nfrom will_it_saturate.epochs import Epoch\\nfrom will_it_saturate.hosts import Host, HostDetails\\n\\nfrom will_it_saturate.results import Result\\nfrom will_it_saturate.files import BenchmarkFile\\nfrom will_it_saturate.control.client import ControlClient\\nfrom will_it_saturate.repositories import SqliteRepository, register_default_tables\";\n",
       "                var nbb_formatted_code = \"import httpx\\nimport pandas as pd\\n\\nfrom urllib.parse import urljoin\\n\\nfrom will_it_saturate import servers\\nfrom will_it_saturate import clients\\nfrom will_it_saturate.epochs import Epoch\\nfrom will_it_saturate.hosts import Host, HostDetails\\n\\nfrom will_it_saturate.results import Result\\nfrom will_it_saturate.files import BenchmarkFile\\nfrom will_it_saturate.control.client import ControlClient\\nfrom will_it_saturate.repositories import SqliteRepository, register_default_tables\";\n",
       "                var nbb_cells = Jupyter.notebook.get_cells();\n",
       "                for (var i = 0; i < nbb_cells.length; ++i) {\n",
       "                    if (nbb_cells[i].input_prompt_number == nbb_cell_id) {\n",
       "                        if (nbb_cells[i].get_text() == nbb_unformatted_code) {\n",
       "                             nbb_cells[i].set_text(nbb_formatted_code);\n",
       "                        }\n",
       "                        break;\n",
       "                    }\n",
       "                }\n",
       "            }, 500);\n",
       "            "
      ],
      "text/plain": [
       "<IPython.core.display.Javascript object>"
      ]
     },
     "metadata": {},
     "output_type": "display_data"
    }
   ],
   "source": [
    "import httpx\n",
    "import pandas as pd\n",
    "\n",
    "from urllib.parse import urljoin\n",
    "\n",
    "from will_it_saturate import servers\n",
    "from will_it_saturate import clients\n",
    "from will_it_saturate.epochs import Epoch\n",
    "from will_it_saturate.hosts import Host, HostDetails\n",
    "\n",
    "from will_it_saturate.results import Result\n",
    "from will_it_saturate.files import BenchmarkFile\n",
    "from will_it_saturate.control.client import ControlClient\n",
    "from will_it_saturate.repositories import SqliteRepository, register_default_tables"
   ]
  },
  {
   "cell_type": "markdown",
   "id": "78d995f8",
   "metadata": {},
   "source": [
    "# Create Benchmark Config"
   ]
  },
  {
   "cell_type": "code",
   "execution_count": null,
   "id": "5a908b02",
   "metadata": {},
   "outputs": [
    {
     "data": {
      "application/javascript": [
       "\n",
       "            setTimeout(function() {\n",
       "                var nbb_cell_id = 27;\n",
       "                var nbb_unformatted_code = \"# dont_test\\n\\nrepository = SqliteRepository.build_repository(\\\"results.db\\\")\\nregister_default_tables(repository)\\nresults_table = repository.tables[\\\"result\\\"]\\n\\ncontrol_server_port, server_port = 8100, 5100\\nserver_host_name = \\\"192.168.178.113\\\"\\n# server_host_name = \\\"127.0.0.1\\\"\\nserver_control_host = Host(name=server_host_name, port=control_server_port)\\nserver_control_client = ControlClient(host=server_control_host)\\nserver_details = server_control_client.get_host_details()\\n\\n# client_control_host = Host(name=\\\"127.0.0.1\\\", port=control_server_port)\\n# client_control_client = ControlClient(host=client_control_host)\\n# client_details = client_control_client.get_host_details()\\n\\n# servers_to_test = [\\n#     servers.FastAPIUvicornServer(host=server_host_name, port=server_port),\\n#     servers.DjangoGunicornWSGIServer(host=server_host_name, port=server_port),\\n#     servers.NginxDockerServer(host=server_host_name, port=server_port),\\n# ]\\n# clients_to_test = [\\n#     clients.HttpxClient(name=\\\"httpx\\\"),\\n#     clients.AioHttpClient(name=\\\"aiohttp\\\"),\\n#     clients.WrkClient(name=\\\"wrk\\\", host=server_host_name, port=server_port),\\n# ]\\n# epochs_to_test = [\\n#     Epoch(file_size=10 ** 7, duration=10),\\n# ]\";\n",
       "                var nbb_formatted_code = \"# dont_test\\n\\nrepository = SqliteRepository.build_repository(\\\"results.db\\\")\\nregister_default_tables(repository)\\nresults_table = repository.tables[\\\"result\\\"]\\n\\ncontrol_server_port, server_port = 8100, 5100\\nserver_host_name = \\\"192.168.178.113\\\"\\n# server_host_name = \\\"127.0.0.1\\\"\\nserver_control_host = Host(name=server_host_name, port=control_server_port)\\nserver_control_client = ControlClient(host=server_control_host)\\nserver_details = server_control_client.get_host_details()\\n\\n# client_control_host = Host(name=\\\"127.0.0.1\\\", port=control_server_port)\\n# client_control_client = ControlClient(host=client_control_host)\\n# client_details = client_control_client.get_host_details()\\n\\n# servers_to_test = [\\n#     servers.FastAPIUvicornServer(host=server_host_name, port=server_port),\\n#     servers.DjangoGunicornWSGIServer(host=server_host_name, port=server_port),\\n#     servers.NginxDockerServer(host=server_host_name, port=server_port),\\n# ]\\n# clients_to_test = [\\n#     clients.HttpxClient(name=\\\"httpx\\\"),\\n#     clients.AioHttpClient(name=\\\"aiohttp\\\"),\\n#     clients.WrkClient(name=\\\"wrk\\\", host=server_host_name, port=server_port),\\n# ]\\n# epochs_to_test = [\\n#     Epoch(file_size=10 ** 7, duration=10),\\n# ]\";\n",
       "                var nbb_cells = Jupyter.notebook.get_cells();\n",
       "                for (var i = 0; i < nbb_cells.length; ++i) {\n",
       "                    if (nbb_cells[i].input_prompt_number == nbb_cell_id) {\n",
       "                        if (nbb_cells[i].get_text() == nbb_unformatted_code) {\n",
       "                             nbb_cells[i].set_text(nbb_formatted_code);\n",
       "                        }\n",
       "                        break;\n",
       "                    }\n",
       "                }\n",
       "            }, 500);\n",
       "            "
      ],
      "text/plain": [
       "<IPython.core.display.Javascript object>"
      ]
     },
     "metadata": {},
     "output_type": "display_data"
    }
   ],
   "source": [
    "# dont_test\n",
    "\n",
    "repository = SqliteRepository.build_repository(\"results.db\")\n",
    "register_default_tables(repository)\n",
    "results_table = repository.tables[\"result\"]\n",
    "\n",
    "control_server_port, server_port = 8100, 5100\n",
    "server_host_name = \"192.168.178.113\"\n",
    "# server_host_name = \"127.0.0.1\"\n",
    "server_control_host = Host(name=server_host_name, port=control_server_port)\n",
    "server_control_client = ControlClient(host=server_control_host)\n",
    "server_details = server_control_client.get_host_details()\n",
    "\n",
    "# client_control_host = Host(name=\"127.0.0.1\", port=control_server_port)\n",
    "# client_control_client = ControlClient(host=client_control_host)\n",
    "# client_details = client_control_client.get_host_details()\n",
    "\n",
    "# servers_to_test = [\n",
    "#     servers.FastAPIUvicornServer(host=server_host_name, port=server_port),\n",
    "#     servers.DjangoGunicornWSGIServer(host=server_host_name, port=server_port),\n",
    "#     servers.NginxDockerServer(host=server_host_name, port=server_port),\n",
    "# ]\n",
    "# clients_to_test = [\n",
    "#     clients.HttpxClient(name=\"httpx\"),\n",
    "#     clients.AioHttpClient(name=\"aiohttp\"),\n",
    "#     clients.WrkClient(name=\"wrk\", host=server_host_name, port=server_port),\n",
    "# ]\n",
    "# epochs_to_test = [\n",
    "#     Epoch(file_size=10 ** 7, duration=10),\n",
    "# ]"
   ]
  },
  {
   "cell_type": "code",
   "execution_count": null,
   "id": "b3de9219",
   "metadata": {},
   "outputs": [
    {
     "data": {
      "application/javascript": [
       "\n",
       "            setTimeout(function() {\n",
       "                var nbb_cell_id = 28;\n",
       "                var nbb_unformatted_code = \"# dont_test\\n\\nserver = servers.FastAPIUvicornServer(host=server_host_name, port=server_port)\";\n",
       "                var nbb_formatted_code = \"# dont_test\\n\\nserver = servers.FastAPIUvicornServer(host=server_host_name, port=server_port)\";\n",
       "                var nbb_cells = Jupyter.notebook.get_cells();\n",
       "                for (var i = 0; i < nbb_cells.length; ++i) {\n",
       "                    if (nbb_cells[i].input_prompt_number == nbb_cell_id) {\n",
       "                        if (nbb_cells[i].get_text() == nbb_unformatted_code) {\n",
       "                             nbb_cells[i].set_text(nbb_formatted_code);\n",
       "                        }\n",
       "                        break;\n",
       "                    }\n",
       "                }\n",
       "            }, 500);\n",
       "            "
      ],
      "text/plain": [
       "<IPython.core.display.Javascript object>"
      ]
     },
     "metadata": {},
     "output_type": "display_data"
    }
   ],
   "source": [
    "# dont_test\n",
    "\n",
    "server = servers.FastAPIUvicornServer(host=server_host_name, port=server_port)"
   ]
  },
  {
   "cell_type": "code",
   "execution_count": null,
   "id": "ae1049fb",
   "metadata": {},
   "outputs": [
    {
     "data": {
      "application/javascript": [
       "\n",
       "            setTimeout(function() {\n",
       "                var nbb_cell_id = 29;\n",
       "                var nbb_unformatted_code = \"# dont_test\\n\\nepoch = Epoch(file_size=10 ** 7, duration=10)\\nepoch.files = server_control_client.get_or_create_files(epoch)\\nepoch.urls = [server.file_to_url(file) for file in epoch.files]\\nfor epoch_file in epoch.files:\\n    epoch_file.port = server.port\\n    epoch_file.hostname = server.host\";\n",
       "                var nbb_formatted_code = \"# dont_test\\n\\nepoch = Epoch(file_size=10 ** 7, duration=10)\\nepoch.files = server_control_client.get_or_create_files(epoch)\\nepoch.urls = [server.file_to_url(file) for file in epoch.files]\\nfor epoch_file in epoch.files:\\n    epoch_file.port = server.port\\n    epoch_file.hostname = server.host\";\n",
       "                var nbb_cells = Jupyter.notebook.get_cells();\n",
       "                for (var i = 0; i < nbb_cells.length; ++i) {\n",
       "                    if (nbb_cells[i].input_prompt_number == nbb_cell_id) {\n",
       "                        if (nbb_cells[i].get_text() == nbb_unformatted_code) {\n",
       "                             nbb_cells[i].set_text(nbb_formatted_code);\n",
       "                        }\n",
       "                        break;\n",
       "                    }\n",
       "                }\n",
       "            }, 500);\n",
       "            "
      ],
      "text/plain": [
       "<IPython.core.display.Javascript object>"
      ]
     },
     "metadata": {},
     "output_type": "display_data"
    }
   ],
   "source": [
    "# dont_test\n",
    "\n",
    "epoch = Epoch(file_size=10 ** 7, duration=10)\n",
    "epoch.files = server_control_client.get_or_create_files(epoch)\n",
    "epoch.urls = [server.file_to_url(file) for file in epoch.files]\n",
    "for epoch_file in epoch.files:\n",
    "    epoch_file.port = server.port\n",
    "    epoch_file.hostname = server.host"
   ]
  },
  {
   "cell_type": "code",
   "execution_count": null,
   "id": "da818e98",
   "metadata": {},
   "outputs": [
    {
     "data": {
      "application/javascript": [
       "\n",
       "            setTimeout(function() {\n",
       "                var nbb_cell_id = 30;\n",
       "                var nbb_unformatted_code = \"# dont_test\\n\\n\\nbenchmark_client = clients.WrkClient(\\n    name=\\\"wrk\\\", host=server_host_name, port=server_port\\n)\\nbenchmark_client.create_lua_script(epoch)\";\n",
       "                var nbb_formatted_code = \"# dont_test\\n\\n\\nbenchmark_client = clients.WrkClient(\\n    name=\\\"wrk\\\", host=server_host_name, port=server_port\\n)\\nbenchmark_client.create_lua_script(epoch)\";\n",
       "                var nbb_cells = Jupyter.notebook.get_cells();\n",
       "                for (var i = 0; i < nbb_cells.length; ++i) {\n",
       "                    if (nbb_cells[i].input_prompt_number == nbb_cell_id) {\n",
       "                        if (nbb_cells[i].get_text() == nbb_unformatted_code) {\n",
       "                             nbb_cells[i].set_text(nbb_formatted_code);\n",
       "                        }\n",
       "                        break;\n",
       "                    }\n",
       "                }\n",
       "            }, 500);\n",
       "            "
      ],
      "text/plain": [
       "<IPython.core.display.Javascript object>"
      ]
     },
     "metadata": {},
     "output_type": "display_data"
    }
   ],
   "source": [
    "# dont_test\n",
    "\n",
    "\n",
    "benchmark_client = clients.WrkClient(\n",
    "    name=\"wrk\", host=server_host_name, port=server_port\n",
    ")\n",
    "benchmark_client.create_lua_script(epoch)"
   ]
  },
  {
   "cell_type": "code",
   "execution_count": null,
   "id": "cc06fa9d",
   "metadata": {},
   "outputs": [],
   "source": []
  }
 ],
 "metadata": {
  "kernelspec": {
   "display_name": "Python 3",
   "language": "python",
   "name": "python3"
  }
 },
 "nbformat": 4,
 "nbformat_minor": 5
}
