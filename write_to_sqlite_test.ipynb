{
 "cells": [
  {
   "cell_type": "code",
   "execution_count": null,
   "id": "basic-underwear",
   "metadata": {},
   "outputs": [
    {
     "data": {
      "application/javascript": [
       "\n",
       "            setTimeout(function() {\n",
       "                var nbb_cell_id = 1;\n",
       "                var nbb_unformatted_code = \"# hide\\n\\nfrom pprint import pprint\\n\\n%load_ext nb_black\";\n",
       "                var nbb_formatted_code = \"# hide\\n\\nfrom pprint import pprint\\n\\n%load_ext nb_black\";\n",
       "                var nbb_cells = Jupyter.notebook.get_cells();\n",
       "                for (var i = 0; i < nbb_cells.length; ++i) {\n",
       "                    if (nbb_cells[i].input_prompt_number == nbb_cell_id) {\n",
       "                        if (nbb_cells[i].get_text() == nbb_unformatted_code) {\n",
       "                             nbb_cells[i].set_text(nbb_formatted_code);\n",
       "                        }\n",
       "                        break;\n",
       "                    }\n",
       "                }\n",
       "            }, 500);\n",
       "            "
      ],
      "text/plain": [
       "<IPython.core.display.Javascript object>"
      ]
     },
     "metadata": {},
     "output_type": "display_data"
    }
   ],
   "source": [
    "# hide\n",
    "\n",
    "from pprint import pprint\n",
    "\n",
    "%load_ext nb_black"
   ]
  },
  {
   "cell_type": "code",
   "execution_count": null,
   "id": "moving-sherman",
   "metadata": {},
   "outputs": [
    {
     "data": {
      "application/javascript": [
       "\n",
       "            setTimeout(function() {\n",
       "                var nbb_cell_id = 2;\n",
       "                var nbb_unformatted_code = \"# default_exp persistence\";\n",
       "                var nbb_formatted_code = \"# default_exp persistence\";\n",
       "                var nbb_cells = Jupyter.notebook.get_cells();\n",
       "                for (var i = 0; i < nbb_cells.length; ++i) {\n",
       "                    if (nbb_cells[i].input_prompt_number == nbb_cell_id) {\n",
       "                        if (nbb_cells[i].get_text() == nbb_unformatted_code) {\n",
       "                             nbb_cells[i].set_text(nbb_formatted_code);\n",
       "                        }\n",
       "                        break;\n",
       "                    }\n",
       "                }\n",
       "            }, 500);\n",
       "            "
      ],
      "text/plain": [
       "<IPython.core.display.Javascript object>"
      ]
     },
     "metadata": {},
     "output_type": "display_data"
    }
   ],
   "source": [
    "# default_exp persistence"
   ]
  },
  {
   "cell_type": "code",
   "execution_count": null,
   "id": "integrated-customs",
   "metadata": {},
   "outputs": [
    {
     "data": {
      "application/javascript": [
       "\n",
       "            setTimeout(function() {\n",
       "                var nbb_cell_id = 3;\n",
       "                var nbb_unformatted_code = \"import json\\nimport sqlite3\\n\\nfrom will_it_saturate.core import BaseRepository\\n\\n\\nclass SqliteRepository(BaseRepository):\\n    connection: sqlite3.Connection\\n\\n    class Config:\\n        arbitrary_types_allowed = True\\n\\n    def execute_stmt(self, stmt, ignore_error=False):\\n        cursor = self.connection.cursor()\\n        try:\\n            cursor.execute(stmt)\\n        except sqlite3.OperationalError as exc:\\n            if not ignore_error:\\n                raise (exc)\\n\\n    def create_benchmark_table(self):\\n        stmt = \\\"\\\"\\\"\\n            create table benchmark (\\n                benchmark_id INTEGER PRIMARY KEY,\\n                created DATE DEFAULT (datetime('now','localtime')),\\n                data text not NULL UNIQUE\\n            )\\n        \\\"\\\"\\\"\\n        self.execute_stmt(stmt, ignore_error=True)\\n\\n    def create_result_table(self):\\n        stmt = \\\"\\\"\\\"\\n            create table result (\\n                result_id INTEGER PRIMARY KEY,\\n                benchmark_id integer not NULL,\\n                created DATE DEFAULT (datetime('now','localtime')),\\n                server text not NULL,\\n                client text not NULL,\\n                file_size integer not NULL,\\n                complete_size integer not NULL,\\n                elapsed real not NULL,\\n                FOREIGN KEY(benchmark_id) REFERENCES benchmark(benchmark_id)\\n            )\\n        \\\"\\\"\\\"\\n        self.execute_stmt(stmt, ignore_error=True)\\n\\n    def create_tables(self):\\n        self.create_benchmark_table()\\n        self.create_result_table()\\n\\n    def add_benchmark(self, benchmark):\\n        stmt = \\\"\\\"\\\"\\n            insert into benchmark (data)\\n            values (?)\\n        \\\"\\\"\\\"\\n        cursor = self.connection.cursor()\\n        data = benchmark.json()\\n        try:\\n            cursor = cursor.execute(stmt, [data])\\n        except sqlite3.IntegrityError as e:\\n            pass\\n        self.connection.commit()\\n\\n    def get_benchmark(self, benchmark):\\n        stmt = \\\"\\\"\\\"\\n            select *\\n              from benchmark\\n             where data=?\\n        \\\"\\\"\\\"\\n        cursor = self.connection.cursor()\\n        cursor.execute(stmt, [benchmark.json()])\\n        print(\\\"fetchall: \\\")\\n        return cursor.fetchone()\\n\\n    def get_benchmark_id(self, benchmark):\\n        row = self.get_benchmark(benchmark)\\n        return row[0]\\n\\n    def add_result(self, benchmark, result):\\n        benchmark_id = self.get_benchmark_id(benchmark)\\n        columns = [\\n            \\\"benchmark_id\\\",\\n            \\\"server\\\",\\n            \\\"client\\\",\\n            \\\"file_size\\\",\\n            \\\"complete_size\\\",\\n            \\\"elapsed\\\",\\n        ]\\n        columns_str = \\\",\\\".join(columns)\\n        values_str = \\\",\\\".join([\\\"?\\\" for c in columns])\\n        stmt = f\\\"\\\"\\\"\\n            insert into result ({columns_str})\\n            values ({values_str})\\n        \\\"\\\"\\\"\\n        print(stmt)\\n        cursor = self.connection.cursor()\\n        result_dict = result.dict()\\n        result_dict[\\\"benchmark_id\\\"] = benchmark_id\\n        values = [result_dict[c] for c in columns]\\n        try:\\n            cursor = cursor.execute(stmt, values)\\n        except sqlite3.IntegrityError as e:\\n            pass\\n        self.connection.commit()\";\n",
       "                var nbb_formatted_code = \"import json\\nimport sqlite3\\n\\nfrom will_it_saturate.core import BaseRepository\\n\\n\\nclass SqliteRepository(BaseRepository):\\n    connection: sqlite3.Connection\\n\\n    class Config:\\n        arbitrary_types_allowed = True\\n\\n    def execute_stmt(self, stmt, ignore_error=False):\\n        cursor = self.connection.cursor()\\n        try:\\n            cursor.execute(stmt)\\n        except sqlite3.OperationalError as exc:\\n            if not ignore_error:\\n                raise (exc)\\n\\n    def create_benchmark_table(self):\\n        stmt = \\\"\\\"\\\"\\n            create table benchmark (\\n                benchmark_id INTEGER PRIMARY KEY,\\n                created DATE DEFAULT (datetime('now','localtime')),\\n                data text not NULL UNIQUE\\n            )\\n        \\\"\\\"\\\"\\n        self.execute_stmt(stmt, ignore_error=True)\\n\\n    def create_result_table(self):\\n        stmt = \\\"\\\"\\\"\\n            create table result (\\n                result_id INTEGER PRIMARY KEY,\\n                benchmark_id integer not NULL,\\n                created DATE DEFAULT (datetime('now','localtime')),\\n                server text not NULL,\\n                client text not NULL,\\n                file_size integer not NULL,\\n                complete_size integer not NULL,\\n                elapsed real not NULL,\\n                FOREIGN KEY(benchmark_id) REFERENCES benchmark(benchmark_id)\\n            )\\n        \\\"\\\"\\\"\\n        self.execute_stmt(stmt, ignore_error=True)\\n\\n    def create_tables(self):\\n        self.create_benchmark_table()\\n        self.create_result_table()\\n\\n    def add_benchmark(self, benchmark):\\n        stmt = \\\"\\\"\\\"\\n            insert into benchmark (data)\\n            values (?)\\n        \\\"\\\"\\\"\\n        cursor = self.connection.cursor()\\n        data = benchmark.json()\\n        try:\\n            cursor = cursor.execute(stmt, [data])\\n        except sqlite3.IntegrityError as e:\\n            pass\\n        self.connection.commit()\\n\\n    def get_benchmark(self, benchmark):\\n        stmt = \\\"\\\"\\\"\\n            select *\\n              from benchmark\\n             where data=?\\n        \\\"\\\"\\\"\\n        cursor = self.connection.cursor()\\n        cursor.execute(stmt, [benchmark.json()])\\n        print(\\\"fetchall: \\\")\\n        return cursor.fetchone()\\n\\n    def get_benchmark_id(self, benchmark):\\n        row = self.get_benchmark(benchmark)\\n        return row[0]\\n\\n    def add_result(self, benchmark, result):\\n        benchmark_id = self.get_benchmark_id(benchmark)\\n        columns = [\\n            \\\"benchmark_id\\\",\\n            \\\"server\\\",\\n            \\\"client\\\",\\n            \\\"file_size\\\",\\n            \\\"complete_size\\\",\\n            \\\"elapsed\\\",\\n        ]\\n        columns_str = \\\",\\\".join(columns)\\n        values_str = \\\",\\\".join([\\\"?\\\" for c in columns])\\n        stmt = f\\\"\\\"\\\"\\n            insert into result ({columns_str})\\n            values ({values_str})\\n        \\\"\\\"\\\"\\n        print(stmt)\\n        cursor = self.connection.cursor()\\n        result_dict = result.dict()\\n        result_dict[\\\"benchmark_id\\\"] = benchmark_id\\n        values = [result_dict[c] for c in columns]\\n        try:\\n            cursor = cursor.execute(stmt, values)\\n        except sqlite3.IntegrityError as e:\\n            pass\\n        self.connection.commit()\";\n",
       "                var nbb_cells = Jupyter.notebook.get_cells();\n",
       "                for (var i = 0; i < nbb_cells.length; ++i) {\n",
       "                    if (nbb_cells[i].input_prompt_number == nbb_cell_id) {\n",
       "                        if (nbb_cells[i].get_text() == nbb_unformatted_code) {\n",
       "                             nbb_cells[i].set_text(nbb_formatted_code);\n",
       "                        }\n",
       "                        break;\n",
       "                    }\n",
       "                }\n",
       "            }, 500);\n",
       "            "
      ],
      "text/plain": [
       "<IPython.core.display.Javascript object>"
      ]
     },
     "metadata": {},
     "output_type": "display_data"
    }
   ],
   "source": [
    "import json\n",
    "import sqlite3\n",
    "\n",
    "from will_it_saturate.core import BaseRepository\n",
    "\n",
    "\n",
    "class SqliteRepository(BaseRepository):\n",
    "    connection: sqlite3.Connection\n",
    "\n",
    "    class Config:\n",
    "        arbitrary_types_allowed = True\n",
    "\n",
    "    def execute_stmt(self, stmt, ignore_error=False):\n",
    "        cursor = self.connection.cursor()\n",
    "        try:\n",
    "            cursor.execute(stmt)\n",
    "        except sqlite3.OperationalError as exc:\n",
    "            if not ignore_error:\n",
    "                raise (exc)\n",
    "\n",
    "    def create_benchmark_table(self):\n",
    "        stmt = \"\"\"\n",
    "            create table benchmark (\n",
    "                benchmark_id INTEGER PRIMARY KEY,\n",
    "                created DATE DEFAULT (datetime('now','localtime')),\n",
    "                data text not NULL UNIQUE\n",
    "            )\n",
    "        \"\"\"\n",
    "        self.execute_stmt(stmt, ignore_error=True)\n",
    "\n",
    "    def create_result_table(self):\n",
    "        stmt = \"\"\"\n",
    "            create table result (\n",
    "                result_id INTEGER PRIMARY KEY,\n",
    "                benchmark_id integer not NULL,\n",
    "                created DATE DEFAULT (datetime('now','localtime')),\n",
    "                server text not NULL,\n",
    "                client text not NULL,\n",
    "                file_size integer not NULL,\n",
    "                complete_size integer not NULL,\n",
    "                elapsed real not NULL,\n",
    "                FOREIGN KEY(benchmark_id) REFERENCES benchmark(benchmark_id)\n",
    "            )\n",
    "        \"\"\"\n",
    "        self.execute_stmt(stmt, ignore_error=True)\n",
    "\n",
    "    def create_tables(self):\n",
    "        self.create_benchmark_table()\n",
    "        self.create_result_table()\n",
    "\n",
    "    def add_benchmark(self, benchmark):\n",
    "        stmt = \"\"\"\n",
    "            insert into benchmark (data)\n",
    "            values (?)\n",
    "        \"\"\"\n",
    "        cursor = self.connection.cursor()\n",
    "        data = benchmark.json()\n",
    "        try:\n",
    "            cursor = cursor.execute(stmt, [data])\n",
    "        except sqlite3.IntegrityError as e:\n",
    "            pass\n",
    "        self.connection.commit()\n",
    "\n",
    "    def get_benchmark(self, benchmark):\n",
    "        stmt = \"\"\"\n",
    "            select *\n",
    "              from benchmark\n",
    "             where data=?\n",
    "        \"\"\"\n",
    "        cursor = self.connection.cursor()\n",
    "        cursor.execute(stmt, [benchmark.json()])\n",
    "        print(\"fetchall: \")\n",
    "        return cursor.fetchone()\n",
    "\n",
    "    def get_benchmark_id(self, benchmark):\n",
    "        row = self.get_benchmark(benchmark)\n",
    "        return row[0]\n",
    "\n",
    "    def add_result(self, benchmark, result):\n",
    "        benchmark_id = self.get_benchmark_id(benchmark)\n",
    "        columns = [\n",
    "            \"benchmark_id\",\n",
    "            \"server\",\n",
    "            \"client\",\n",
    "            \"file_size\",\n",
    "            \"complete_size\",\n",
    "            \"elapsed\",\n",
    "        ]\n",
    "        columns_str = \",\".join(columns)\n",
    "        values_str = \",\".join([\"?\" for c in columns])\n",
    "        stmt = f\"\"\"\n",
    "            insert into result ({columns_str})\n",
    "            values ({values_str})\n",
    "        \"\"\"\n",
    "        print(stmt)\n",
    "        cursor = self.connection.cursor()\n",
    "        result_dict = result.dict()\n",
    "        result_dict[\"benchmark_id\"] = benchmark_id\n",
    "        values = [result_dict[c] for c in columns]\n",
    "        try:\n",
    "            cursor = cursor.execute(stmt, values)\n",
    "        except sqlite3.IntegrityError as e:\n",
    "            pass\n",
    "        self.connection.commit()\n",
    "\n",
    "    def persist(self, benchmark):\n",
    "        persisted_results = self.results.get(benchmark, {})\n",
    "        for result in benchmark.results:\n",
    "            if result not in persisted_results:\n",
    "                persisted_results[result] = result\n",
    "        self.results[benchmark] = persisted_results"
   ]
  },
  {
   "cell_type": "markdown",
   "id": "coated-consortium",
   "metadata": {},
   "source": [
    "# Usage"
   ]
  },
  {
   "cell_type": "code",
   "execution_count": null,
   "id": "constant-promise",
   "metadata": {},
   "outputs": [
    {
     "data": {
      "application/javascript": [
       "\n",
       "            setTimeout(function() {\n",
       "                var nbb_cell_id = 4;\n",
       "                var nbb_unformatted_code = \"conn = sqlite3.connect(\\\"example.db\\\")\\nrepo = SqliteRepository(connection=conn)\\nrepo.create_tables()\";\n",
       "                var nbb_formatted_code = \"conn = sqlite3.connect(\\\"example.db\\\")\\nrepo = SqliteRepository(connection=conn)\\nrepo.create_tables()\";\n",
       "                var nbb_cells = Jupyter.notebook.get_cells();\n",
       "                for (var i = 0; i < nbb_cells.length; ++i) {\n",
       "                    if (nbb_cells[i].input_prompt_number == nbb_cell_id) {\n",
       "                        if (nbb_cells[i].get_text() == nbb_unformatted_code) {\n",
       "                             nbb_cells[i].set_text(nbb_formatted_code);\n",
       "                        }\n",
       "                        break;\n",
       "                    }\n",
       "                }\n",
       "            }, 500);\n",
       "            "
      ],
      "text/plain": [
       "<IPython.core.display.Javascript object>"
      ]
     },
     "metadata": {},
     "output_type": "display_data"
    }
   ],
   "source": [
    "conn = sqlite3.connect(\"example.db\")\n",
    "repo = SqliteRepository(connection=conn)\n",
    "repo.create_tables()"
   ]
  },
  {
   "cell_type": "code",
   "execution_count": null,
   "id": "original-juice",
   "metadata": {},
   "outputs": [
    {
     "data": {
      "application/javascript": [
       "\n",
       "            setTimeout(function() {\n",
       "                var nbb_cell_id = 5;\n",
       "                var nbb_unformatted_code = \"from will_it_saturate.core import Benchmark\\n\\nbenchmark = Benchmark()\\nbenchmark = Benchmark()\\nrepo.add_benchmark(benchmark)\\nrepo.add_benchmark(benchmark)  # should not raise integrity exception\";\n",
       "                var nbb_formatted_code = \"from will_it_saturate.core import Benchmark\\n\\nbenchmark = Benchmark()\\nbenchmark = Benchmark()\\nrepo.add_benchmark(benchmark)\\nrepo.add_benchmark(benchmark)  # should not raise integrity exception\";\n",
       "                var nbb_cells = Jupyter.notebook.get_cells();\n",
       "                for (var i = 0; i < nbb_cells.length; ++i) {\n",
       "                    if (nbb_cells[i].input_prompt_number == nbb_cell_id) {\n",
       "                        if (nbb_cells[i].get_text() == nbb_unformatted_code) {\n",
       "                             nbb_cells[i].set_text(nbb_formatted_code);\n",
       "                        }\n",
       "                        break;\n",
       "                    }\n",
       "                }\n",
       "            }, 500);\n",
       "            "
      ],
      "text/plain": [
       "<IPython.core.display.Javascript object>"
      ]
     },
     "metadata": {},
     "output_type": "display_data"
    }
   ],
   "source": [
    "from will_it_saturate.core import Benchmark\n",
    "\n",
    "benchmark = Benchmark()\n",
    "benchmark = Benchmark()\n",
    "repo.add_benchmark(benchmark)\n",
    "repo.add_benchmark(benchmark)  # should not raise integrity exception"
   ]
  },
  {
   "cell_type": "code",
   "execution_count": null,
   "id": "static-audio",
   "metadata": {},
   "outputs": [
    {
     "data": {
      "text/plain": [
       "'{\"duration\": 30, \"bandwidth\": 125000000, \"file_sizes\": [10000000, 1000000, 100000], \"rows\": [], \"file_creator\": {}, \"platform\": \"x86_64\", \"cpuinfo\": {\"python_version\": \"3.9.2.final.0 (64 bit)\", \"cpuinfo_version\": [7, 0, 0], \"cpuinfo_version_string\": \"7.0.0\", \"arch\": \"X86_64\", \"bits\": 64, \"count\": 12, \"arch_string_raw\": \"x86_64\", \"vendor_id_raw\": \"GenuineIntel\", \"brand_raw\": \"Intel(R) Core(TM) i7-9750H CPU @ 2.60GHz\", \"hz_advertised_friendly\": \"2.6000 GHz\", \"hz_actual_friendly\": \"2.6000 GHz\", \"hz_advertised\": [2600000000, 0], \"hz_actual\": [2600000000, 0], \"l2_cache_size\": 262144, \"stepping\": 10, \"model\": 158, \"family\": 6, \"flags\": [\"1gbpage\", \"3dnowprefetch\", \"abm\", \"acpi\", \"adx\", \"aes\", \"apic\", \"avx\", \"avx1.0\", \"avx2\", \"bmi1\", \"bmi2\", \"clflush\", \"clflushopt\", \"clfsh\", \"clfsopt\", \"cmov\", \"cx16\", \"cx8\", \"de\", \"ds\", \"ds_cpl\", \"dscpl\", \"dtes64\", \"dts\", \"em64t\", \"erms\", \"est\", \"f16c\", \"fma\", \"fpu\", \"fpu_csds\", \"fxsr\", \"ht\", \"htt\", \"ibrs\", \"intel_pt\", \"invpcid\", \"ipt\", \"l1df\", \"lahf\", \"lahf_lm\", \"lzcnt\", \"mca\", \"mce\", \"mdclear\", \"mmx\", \"mon\", \"monitor\", \"movbe\", \"mpx\", \"msr\", \"mtrr\", \"osxsave\", \"pae\", \"pat\", \"pbe\", \"pcid\", \"pclmulqdq\", \"pdcm\", \"pge\", \"pni\", \"popcnt\", \"prefetchw\", \"pse\", \"pse36\", \"rdrand\", \"rdrnd\", \"rdseed\", \"rdtscp\", \"rdwrfsgs\", \"seglim64\", \"sep\", \"sgx\", \"sgx_lc\", \"sgxlc\", \"smap\", \"smep\", \"ss\", \"ssbd\", \"sse\", \"sse2\", \"sse3\", \"sse4.1\", \"sse4.2\", \"sse4_1\", \"sse4_2\", \"ssse3\", \"stibp\", \"syscall\", \"tm\", \"tm2\", \"tpr\", \"tsc\", \"tsc_thread_offset\", \"tscdeadline\", \"tsci\", \"tsctmr\", \"tsxfa\", \"vme\", \"vmx\", \"x2apic\", \"xd\", \"xsave\", \"xtpr\"], \"l2_cache_line_size\": 256, \"l2_cache_associativity\": 6}, \"servers\": [], \"clients\": [], \"results\": []}'"
      ]
     },
     "execution_count": null,
     "metadata": {},
     "output_type": "execute_result"
    },
    {
     "data": {
      "application/javascript": [
       "\n",
       "            setTimeout(function() {\n",
       "                var nbb_cell_id = 6;\n",
       "                var nbb_unformatted_code = \"benchmark.json()\";\n",
       "                var nbb_formatted_code = \"benchmark.json()\";\n",
       "                var nbb_cells = Jupyter.notebook.get_cells();\n",
       "                for (var i = 0; i < nbb_cells.length; ++i) {\n",
       "                    if (nbb_cells[i].input_prompt_number == nbb_cell_id) {\n",
       "                        if (nbb_cells[i].get_text() == nbb_unformatted_code) {\n",
       "                             nbb_cells[i].set_text(nbb_formatted_code);\n",
       "                        }\n",
       "                        break;\n",
       "                    }\n",
       "                }\n",
       "            }, 500);\n",
       "            "
      ],
      "text/plain": [
       "<IPython.core.display.Javascript object>"
      ]
     },
     "metadata": {},
     "output_type": "display_data"
    }
   ],
   "source": [
    "benchmark.json()"
   ]
  },
  {
   "cell_type": "code",
   "execution_count": null,
   "id": "tested-found",
   "metadata": {},
   "outputs": [
    {
     "name": "stdout",
     "output_type": "stream",
     "text": [
      "fetchall: \n"
     ]
    },
    {
     "data": {
      "text/plain": [
       "1"
      ]
     },
     "execution_count": null,
     "metadata": {},
     "output_type": "execute_result"
    },
    {
     "data": {
      "application/javascript": [
       "\n",
       "            setTimeout(function() {\n",
       "                var nbb_cell_id = 7;\n",
       "                var nbb_unformatted_code = \"repo.get_benchmark(benchmark)[0]\";\n",
       "                var nbb_formatted_code = \"repo.get_benchmark(benchmark)[0]\";\n",
       "                var nbb_cells = Jupyter.notebook.get_cells();\n",
       "                for (var i = 0; i < nbb_cells.length; ++i) {\n",
       "                    if (nbb_cells[i].input_prompt_number == nbb_cell_id) {\n",
       "                        if (nbb_cells[i].get_text() == nbb_unformatted_code) {\n",
       "                             nbb_cells[i].set_text(nbb_formatted_code);\n",
       "                        }\n",
       "                        break;\n",
       "                    }\n",
       "                }\n",
       "            }, 500);\n",
       "            "
      ],
      "text/plain": [
       "<IPython.core.display.Javascript object>"
      ]
     },
     "metadata": {},
     "output_type": "display_data"
    }
   ],
   "source": [
    "repo.get_benchmark(benchmark)[0]"
   ]
  },
  {
   "cell_type": "code",
   "execution_count": null,
   "id": "furnished-tanzania",
   "metadata": {},
   "outputs": [
    {
     "name": "stdout",
     "output_type": "stream",
     "text": [
      "{'server': 'nginx', 'client': 'httpx', 'file_size': 1000000, 'elapsed': 3.0, 'complete_size': 100000000, 'file_size_h': '976.56KB', 'bytes_per_second': 33333333.333333332, 'bytes_per_second_h': '31.79MB'}\n"
     ]
    },
    {
     "data": {
      "application/javascript": [
       "\n",
       "            setTimeout(function() {\n",
       "                var nbb_cell_id = 8;\n",
       "                var nbb_unformatted_code = \"from will_it_saturate.core import BenchmarkResult\\n\\nfile_size = 10 ** 6\\ncomplete_size = 100 * file_size\\nresult = BenchmarkResult(\\n    server=\\\"nginx\\\",\\n    client=\\\"httpx\\\",\\n    file_size=file_size,\\n    elapsed=3.0,\\n    complete_size=complete_size,\\n)\\nprint(result.dict())\";\n",
       "                var nbb_formatted_code = \"from will_it_saturate.core import BenchmarkResult\\n\\nfile_size = 10 ** 6\\ncomplete_size = 100 * file_size\\nresult = BenchmarkResult(\\n    server=\\\"nginx\\\",\\n    client=\\\"httpx\\\",\\n    file_size=file_size,\\n    elapsed=3.0,\\n    complete_size=complete_size,\\n)\\nprint(result.dict())\";\n",
       "                var nbb_cells = Jupyter.notebook.get_cells();\n",
       "                for (var i = 0; i < nbb_cells.length; ++i) {\n",
       "                    if (nbb_cells[i].input_prompt_number == nbb_cell_id) {\n",
       "                        if (nbb_cells[i].get_text() == nbb_unformatted_code) {\n",
       "                             nbb_cells[i].set_text(nbb_formatted_code);\n",
       "                        }\n",
       "                        break;\n",
       "                    }\n",
       "                }\n",
       "            }, 500);\n",
       "            "
      ],
      "text/plain": [
       "<IPython.core.display.Javascript object>"
      ]
     },
     "metadata": {},
     "output_type": "display_data"
    }
   ],
   "source": [
    "from will_it_saturate.core import BenchmarkResult\n",
    "\n",
    "file_size = 10 ** 6\n",
    "complete_size = 100 * file_size\n",
    "result = BenchmarkResult(\n",
    "    server=\"nginx\",\n",
    "    client=\"httpx\",\n",
    "    file_size=file_size,\n",
    "    elapsed=3.0,\n",
    "    complete_size=complete_size,\n",
    ")\n",
    "print(result.dict())"
   ]
  },
  {
   "cell_type": "code",
   "execution_count": null,
   "id": "sublime-brown",
   "metadata": {},
   "outputs": [
    {
     "name": "stdout",
     "output_type": "stream",
     "text": [
      "fetchall: \n",
      "\n",
      "            insert into result (benchmark_id,server,client,file_size,complete_size,elapsed)\n",
      "            values (?,?,?,?,?,?)\n",
      "        \n"
     ]
    },
    {
     "data": {
      "application/javascript": [
       "\n",
       "            setTimeout(function() {\n",
       "                var nbb_cell_id = 9;\n",
       "                var nbb_unformatted_code = \"repo.add_result(benchmark, result)\";\n",
       "                var nbb_formatted_code = \"repo.add_result(benchmark, result)\";\n",
       "                var nbb_cells = Jupyter.notebook.get_cells();\n",
       "                for (var i = 0; i < nbb_cells.length; ++i) {\n",
       "                    if (nbb_cells[i].input_prompt_number == nbb_cell_id) {\n",
       "                        if (nbb_cells[i].get_text() == nbb_unformatted_code) {\n",
       "                             nbb_cells[i].set_text(nbb_formatted_code);\n",
       "                        }\n",
       "                        break;\n",
       "                    }\n",
       "                }\n",
       "            }, 500);\n",
       "            "
      ],
      "text/plain": [
       "<IPython.core.display.Javascript object>"
      ]
     },
     "metadata": {},
     "output_type": "display_data"
    }
   ],
   "source": [
    "repo.add_result(benchmark, result)"
   ]
  },
  {
   "cell_type": "code",
   "execution_count": null,
   "id": "appointed-enforcement",
   "metadata": {},
   "outputs": [],
   "source": []
  }
 ],
 "metadata": {
  "kernelspec": {
   "display_name": "Python 3",
   "language": "python",
   "name": "python3"
  }
 },
 "nbformat": 4,
 "nbformat_minor": 5
}
