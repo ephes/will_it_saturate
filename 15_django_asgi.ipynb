{
 "cells": [
  {
   "cell_type": "code",
   "execution_count": null,
   "id": "b9848bf8",
   "metadata": {},
   "outputs": [
    {
     "data": {
      "application/javascript": [
       "\n",
       "            setTimeout(function() {\n",
       "                var nbb_cell_id = 1;\n",
       "                var nbb_unformatted_code = \"# hide\\n\\n%load_ext nb_black\";\n",
       "                var nbb_formatted_code = \"# hide\\n\\n%load_ext nb_black\";\n",
       "                var nbb_cells = Jupyter.notebook.get_cells();\n",
       "                for (var i = 0; i < nbb_cells.length; ++i) {\n",
       "                    if (nbb_cells[i].input_prompt_number == nbb_cell_id) {\n",
       "                        if (nbb_cells[i].get_text() == nbb_unformatted_code) {\n",
       "                             nbb_cells[i].set_text(nbb_formatted_code);\n",
       "                        }\n",
       "                        break;\n",
       "                    }\n",
       "                }\n",
       "            }, 500);\n",
       "            "
      ],
      "text/plain": [
       "<IPython.core.display.Javascript object>"
      ]
     },
     "metadata": {},
     "output_type": "display_data"
    }
   ],
   "source": [
    "# hide\n",
    "\n",
    "%load_ext nb_black"
   ]
  },
  {
   "cell_type": "code",
   "execution_count": null,
   "id": "1564a658",
   "metadata": {},
   "outputs": [
    {
     "data": {
      "application/javascript": [
       "\n",
       "            setTimeout(function() {\n",
       "                var nbb_cell_id = 13;\n",
       "                var nbb_unformatted_code = \"# default_exp django.asgi\";\n",
       "                var nbb_formatted_code = \"# default_exp django.asgi\";\n",
       "                var nbb_cells = Jupyter.notebook.get_cells();\n",
       "                for (var i = 0; i < nbb_cells.length; ++i) {\n",
       "                    if (nbb_cells[i].input_prompt_number == nbb_cell_id) {\n",
       "                        if (nbb_cells[i].get_text() == nbb_unformatted_code) {\n",
       "                             nbb_cells[i].set_text(nbb_formatted_code);\n",
       "                        }\n",
       "                        break;\n",
       "                    }\n",
       "                }\n",
       "            }, 500);\n",
       "            "
      ],
      "text/plain": [
       "<IPython.core.display.Javascript object>"
      ]
     },
     "metadata": {},
     "output_type": "display_data"
    }
   ],
   "source": [
    "# default_exp django.asgi"
   ]
  },
  {
   "cell_type": "markdown",
   "id": "7953e73b",
   "metadata": {},
   "source": [
    "## Old ASGI file\n",
    "\n",
    "```python\n",
    "import os\n",
    "\n",
    "\n",
    "from django.core.asgi import get_asgi_application\n",
    "\n",
    "os.environ.setdefault(\"DJANGO_SETTINGS_MODULE\", \"will_it_saturate.django.settings\")\n",
    "\n",
    "application = get_asgi_application()\n",
    "\n",
    "```"
   ]
  },
  {
   "cell_type": "markdown",
   "id": "b3920c7c",
   "metadata": {},
   "source": [
    "## Modified Version to Serve Files"
   ]
  },
  {
   "cell_type": "code",
   "execution_count": null,
   "id": "829f376b",
   "metadata": {},
   "outputs": [
    {
     "data": {
      "application/javascript": [
       "\n",
       "            setTimeout(function() {\n",
       "                var nbb_cell_id = 14;\n",
       "                var nbb_unformatted_code = \"# export\\n# dont_test\\n\\\"\\\"\\\"\\nASGI config for will_it_saturate project.\\nIt exposes the ASGI callable as a module-level variable named ``application``.\\nFor more information on this file, see\\nhttps://docs.djangoproject.com/en/3.1/howto/deployment/asgi/\\n\\\"\\\"\\\"\\n\\nimport os\\n\\nos.environ.setdefault(\\\"DJANGO_SETTINGS_MODULE\\\", \\\"will_it_saturate.django.settings\\\")\\n\\nimport django\\n\\ndjango.setup(set_prefix=False)\\n\\nfrom will_it_saturate.django.handlers import AsyncFileASGIHandler\\n\\napplication = AsyncFileASGIHandler()\\n\\n# serve files via async file response\\nfrom will_it_saturate.django.views import set_serve_file_to_async\";\n",
       "                var nbb_formatted_code = \"# export\\n# dont_test\\n\\\"\\\"\\\"\\nASGI config for will_it_saturate project.\\nIt exposes the ASGI callable as a module-level variable named ``application``.\\nFor more information on this file, see\\nhttps://docs.djangoproject.com/en/3.1/howto/deployment/asgi/\\n\\\"\\\"\\\"\\n\\nimport os\\n\\nos.environ.setdefault(\\\"DJANGO_SETTINGS_MODULE\\\", \\\"will_it_saturate.django.settings\\\")\\n\\nimport django\\n\\ndjango.setup(set_prefix=False)\\n\\nfrom will_it_saturate.django.handlers import AsyncFileASGIHandler\\n\\napplication = AsyncFileASGIHandler()\\n\\n# serve files via async file response\\nfrom will_it_saturate.django.views import set_serve_file_to_async\";\n",
       "                var nbb_cells = Jupyter.notebook.get_cells();\n",
       "                for (var i = 0; i < nbb_cells.length; ++i) {\n",
       "                    if (nbb_cells[i].input_prompt_number == nbb_cell_id) {\n",
       "                        if (nbb_cells[i].get_text() == nbb_unformatted_code) {\n",
       "                             nbb_cells[i].set_text(nbb_formatted_code);\n",
       "                        }\n",
       "                        break;\n",
       "                    }\n",
       "                }\n",
       "            }, 500);\n",
       "            "
      ],
      "text/plain": [
       "<IPython.core.display.Javascript object>"
      ]
     },
     "metadata": {},
     "output_type": "display_data"
    }
   ],
   "source": [
    "# export\n",
    "# dont_test\n",
    "\"\"\"\n",
    "ASGI config for will_it_saturate project.\n",
    "It exposes the ASGI callable as a module-level variable named ``application``.\n",
    "For more information on this file, see\n",
    "https://docs.djangoproject.com/en/3.1/howto/deployment/asgi/\n",
    "\"\"\"\n",
    "\n",
    "import os\n",
    "\n",
    "os.environ.setdefault(\"DJANGO_SETTINGS_MODULE\", \"will_it_saturate.django.settings\")\n",
    "\n",
    "import django\n",
    "\n",
    "django.setup(set_prefix=False)\n",
    "\n",
    "from will_it_saturate.django.handlers import AsyncFileASGIHandler\n",
    "\n",
    "application = AsyncFileASGIHandler()\n",
    "\n",
    "# serve files via async file response\n",
    "from will_it_saturate.django.views import set_serve_file_to_async"
   ]
  },
  {
   "cell_type": "code",
   "execution_count": null,
   "id": "9ade15f7",
   "metadata": {},
   "outputs": [
    {
     "name": "stdout",
     "output_type": "stream",
     "text": [
      "Converted 00_index.ipynb.\n",
      "Converted 01_host.ipynb.\n",
      "Converted 02_file.ipynb.\n",
      "Converted 03_registry.ipynb.\n",
      "Converted 04_epochs.ipynb.\n",
      "Converted 10_servers.ipynb.\n",
      "Converted 11_fastapi_main.ipynb.\n",
      "Converted 12_django_views.ipynb.\n",
      "Converted 13_django_handlers.ipynb.\n",
      "Converted 14_django_http.ipynb.\n",
      "Converted 15_django_asgi.ipynb.\n",
      "Converted 15_django_async_settings.ipynb.\n",
      "Converted 15_django_async_urls.ipynb.\n",
      "Converted 15_servers_started_locally.ipynb.\n",
      "Converted 16_servers_started_via_docker.ipynb.\n",
      "Converted 20_clients.ipynb.\n",
      "Converted 21_benchmark_client_implementations.ipynb.\n",
      "Converted 22_gevent_client.ipynb.\n",
      "Converted 30_control_server.ipynb.\n",
      "Converted 31_control_client.ipynb.\n",
      "Converted 32_control_cli.ipynb.\n",
      "Converted 40_results.ipynb.\n",
      "Converted 41_repositories.ipynb.\n",
      "Converted 42_sqlite_repository.ipynb.\n",
      "Converted 50_benchmark_without_benchmark.ipynb.\n",
      "Converted 51_benchmark_remote_control_server.ipynb.\n",
      "Converted 52_benchmark_from_config.ipynb.\n",
      "Converted 52_generate_files_for_benchmark.ipynb.\n",
      "Converted 53_analyze.ipynb.\n",
      "Converted 54_measure_with_plots.ipynb.\n",
      "Converted 54_measure_with_plots_not_gevent.ipynb.\n",
      "Converted 55_create_minio_files.ipynb.\n",
      "Converted 60_legacy.ipynb.\n",
      "Converted 61_run_benchmark.ipynb.\n"
     ]
    },
    {
     "data": {
      "application/javascript": [
       "\n",
       "            setTimeout(function() {\n",
       "                var nbb_cell_id = 16;\n",
       "                var nbb_unformatted_code = \"# hide\\n# dont_test\\n\\nfrom nbdev.export import notebook2script\\n\\nnotebook2script()\";\n",
       "                var nbb_formatted_code = \"# hide\\n# dont_test\\n\\nfrom nbdev.export import notebook2script\\n\\nnotebook2script()\";\n",
       "                var nbb_cells = Jupyter.notebook.get_cells();\n",
       "                for (var i = 0; i < nbb_cells.length; ++i) {\n",
       "                    if (nbb_cells[i].input_prompt_number == nbb_cell_id) {\n",
       "                        if (nbb_cells[i].get_text() == nbb_unformatted_code) {\n",
       "                             nbb_cells[i].set_text(nbb_formatted_code);\n",
       "                        }\n",
       "                        break;\n",
       "                    }\n",
       "                }\n",
       "            }, 500);\n",
       "            "
      ],
      "text/plain": [
       "<IPython.core.display.Javascript object>"
      ]
     },
     "metadata": {},
     "output_type": "display_data"
    }
   ],
   "source": [
    "# hide\n",
    "# dont_test\n",
    "\n",
    "from nbdev.export import notebook2script\n",
    "\n",
    "notebook2script()"
   ]
  }
 ],
 "metadata": {
  "kernelspec": {
   "display_name": "Python 3",
   "language": "python",
   "name": "python3"
  }
 },
 "nbformat": 4,
 "nbformat_minor": 5
}
