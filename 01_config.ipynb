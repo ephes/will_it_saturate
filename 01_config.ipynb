{
 "cells": [
  {
   "cell_type": "code",
   "execution_count": null,
   "id": "a38f15f9",
   "metadata": {},
   "outputs": [
    {
     "name": "stdout",
     "output_type": "stream",
     "text": [
      "The nb_black extension is already loaded. To reload it, use:\n",
      "  %reload_ext nb_black\n"
     ]
    },
    {
     "data": {
      "application/javascript": [
       "\n",
       "            setTimeout(function() {\n",
       "                var nbb_cell_id = 21;\n",
       "                var nbb_unformatted_code = \"%load_ext nb_black\";\n",
       "                var nbb_formatted_code = \"%load_ext nb_black\";\n",
       "                var nbb_cells = Jupyter.notebook.get_cells();\n",
       "                for (var i = 0; i < nbb_cells.length; ++i) {\n",
       "                    if (nbb_cells[i].input_prompt_number == nbb_cell_id) {\n",
       "                        if (nbb_cells[i].get_text() == nbb_unformatted_code) {\n",
       "                             nbb_cells[i].set_text(nbb_formatted_code);\n",
       "                        }\n",
       "                        break;\n",
       "                    }\n",
       "                }\n",
       "            }, 500);\n",
       "            "
      ],
      "text/plain": [
       "<IPython.core.display.Javascript object>"
      ]
     },
     "metadata": {},
     "output_type": "display_data"
    }
   ],
   "source": [
    "%load_ext nb_black"
   ]
  },
  {
   "cell_type": "code",
   "execution_count": null,
   "id": "94c0f8c5",
   "metadata": {},
   "outputs": [
    {
     "data": {
      "application/javascript": [
       "\n",
       "            setTimeout(function() {\n",
       "                var nbb_cell_id = 22;\n",
       "                var nbb_unformatted_code = \"# default_exp config\";\n",
       "                var nbb_formatted_code = \"# default_exp config\";\n",
       "                var nbb_cells = Jupyter.notebook.get_cells();\n",
       "                for (var i = 0; i < nbb_cells.length; ++i) {\n",
       "                    if (nbb_cells[i].input_prompt_number == nbb_cell_id) {\n",
       "                        if (nbb_cells[i].get_text() == nbb_unformatted_code) {\n",
       "                             nbb_cells[i].set_text(nbb_formatted_code);\n",
       "                        }\n",
       "                        break;\n",
       "                    }\n",
       "                }\n",
       "            }, 500);\n",
       "            "
      ],
      "text/plain": [
       "<IPython.core.display.Javascript object>"
      ]
     },
     "metadata": {},
     "output_type": "display_data"
    }
   ],
   "source": [
    "# default_exp config"
   ]
  },
  {
   "cell_type": "code",
   "execution_count": null,
   "id": "7e229421",
   "metadata": {},
   "outputs": [
    {
     "data": {
      "application/javascript": [
       "\n",
       "            setTimeout(function() {\n",
       "                var nbb_cell_id = 23;\n",
       "                var nbb_unformatted_code = \"# export\\n\\nfrom pydantic import BaseSettings, Field\\n\\n\\nclass Settings(BaseSettings):\\n    minio_endpoint: str = Field(default=\\\"127.0.0.1:9000\\\", end=\\\"MINIO_ENDPOINT\\\")\\n    minio_access_key: str = Field(default=\\\"minioadmin\\\", env=\\\"MINIO_ACCESS_KEY\\\")\\n    minio_secret_key: str = Field(default=\\\"minioadmin\\\", env=\\\"MINIO_SECRET_KEY\\\")\\n\\n    class Config:\\n        env_file = \\\".env\\\"\\n        env_file_encoding = \\\"utf-8\\\"\\n\\n\\nsettings = Settings()\";\n",
       "                var nbb_formatted_code = \"# export\\n\\nfrom pydantic import BaseSettings, Field\\n\\n\\nclass Settings(BaseSettings):\\n    minio_endpoint: str = Field(default=\\\"127.0.0.1:9000\\\", end=\\\"MINIO_ENDPOINT\\\")\\n    minio_access_key: str = Field(default=\\\"minioadmin\\\", env=\\\"MINIO_ACCESS_KEY\\\")\\n    minio_secret_key: str = Field(default=\\\"minioadmin\\\", env=\\\"MINIO_SECRET_KEY\\\")\\n\\n    class Config:\\n        env_file = \\\".env\\\"\\n        env_file_encoding = \\\"utf-8\\\"\\n\\n\\nsettings = Settings()\";\n",
       "                var nbb_cells = Jupyter.notebook.get_cells();\n",
       "                for (var i = 0; i < nbb_cells.length; ++i) {\n",
       "                    if (nbb_cells[i].input_prompt_number == nbb_cell_id) {\n",
       "                        if (nbb_cells[i].get_text() == nbb_unformatted_code) {\n",
       "                             nbb_cells[i].set_text(nbb_formatted_code);\n",
       "                        }\n",
       "                        break;\n",
       "                    }\n",
       "                }\n",
       "            }, 500);\n",
       "            "
      ],
      "text/plain": [
       "<IPython.core.display.Javascript object>"
      ]
     },
     "metadata": {},
     "output_type": "display_data"
    }
   ],
   "source": [
    "# export\n",
    "\n",
    "from pydantic import BaseSettings, Field\n",
    "\n",
    "\n",
    "class Settings(BaseSettings):\n",
    "    minio_endpoint: str = Field(default=\"127.0.0.1:9000\", end=\"MINIO_ENDPOINT\")\n",
    "    minio_access_key: str = Field(default=\"minioadmin\", env=\"MINIO_ACCESS_KEY\")\n",
    "    minio_secret_key: str = Field(default=\"minioadmin\", env=\"MINIO_SECRET_KEY\")\n",
    "    minio_bucket: str = Field(default=\"wis\", enf=\"MINIO_BUCKET_NAME\")\n",
    "\n",
    "    class Config:\n",
    "        env_file = \".env\"\n",
    "        env_file_encoding = \"utf-8\"\n",
    "\n",
    "\n",
    "settings = Settings()"
   ]
  },
  {
   "cell_type": "code",
   "execution_count": null,
   "id": "655c2118",
   "metadata": {},
   "outputs": [
    {
     "name": "stdout",
     "output_type": "stream",
     "text": [
      "{'minio_endpoint': '127.0.0.1:9000', 'minio_access_key': 'minioadmin', 'minio_secret_key': 'minioadmin'}\n"
     ]
    },
    {
     "data": {
      "application/javascript": [
       "\n",
       "            setTimeout(function() {\n",
       "                var nbb_cell_id = 24;\n",
       "                var nbb_unformatted_code = \"# dont_test\\n\\nprint(Settings().dict())\";\n",
       "                var nbb_formatted_code = \"# dont_test\\n\\nprint(Settings().dict())\";\n",
       "                var nbb_cells = Jupyter.notebook.get_cells();\n",
       "                for (var i = 0; i < nbb_cells.length; ++i) {\n",
       "                    if (nbb_cells[i].input_prompt_number == nbb_cell_id) {\n",
       "                        if (nbb_cells[i].get_text() == nbb_unformatted_code) {\n",
       "                             nbb_cells[i].set_text(nbb_formatted_code);\n",
       "                        }\n",
       "                        break;\n",
       "                    }\n",
       "                }\n",
       "            }, 500);\n",
       "            "
      ],
      "text/plain": [
       "<IPython.core.display.Javascript object>"
      ]
     },
     "metadata": {},
     "output_type": "display_data"
    }
   ],
   "source": [
    "# dont_test\n",
    "\n",
    "print(Settings().dict())"
   ]
  },
  {
   "cell_type": "code",
   "execution_count": null,
   "id": "15951317",
   "metadata": {},
   "outputs": [
    {
     "name": "stdout",
     "output_type": "stream",
     "text": [
      "Converted 00_index.ipynb.\n",
      "Converted 01_config.ipynb.\n",
      "Converted 01_host.ipynb.\n",
      "Converted 02_file.ipynb.\n",
      "Converted 03_registry.ipynb.\n",
      "Converted 04_epochs.ipynb.\n",
      "Converted 10_servers.ipynb.\n",
      "Converted 11_fastapi_main.ipynb.\n",
      "Converted 12_django_views.ipynb.\n",
      "Converted 13_django_handlers.ipynb.\n",
      "Converted 14_django_http.ipynb.\n",
      "Converted 15_django_asgi.ipynb.\n",
      "Converted 15_django_async_settings.ipynb.\n",
      "Converted 15_django_settings.ipynb.\n",
      "Converted 15_django_urls.ipynb.\n",
      "Converted 15_django_wsgi.ipynb.\n",
      "Converted 16_minio.ipynb.\n",
      "Converted 16_servers_started_locally.ipynb.\n",
      "Converted 16_servers_started_via_docker.ipynb.\n",
      "Converted 20_clients.ipynb.\n",
      "Converted 21_benchmark_client_implementations.ipynb.\n",
      "Converted 22_gevent_client.ipynb.\n",
      "Converted 30_control_server.ipynb.\n",
      "Converted 31_control_client.ipynb.\n",
      "Converted 32_control_cli.ipynb.\n",
      "Converted 40_results.ipynb.\n",
      "Converted 41_repositories.ipynb.\n",
      "Converted 42_sqlite_repository.ipynb.\n",
      "Converted 50_benchmark_without_benchmark.ipynb.\n",
      "Converted 51_benchmark_remote_control_server.ipynb.\n",
      "Converted 52_benchmark_from_config.ipynb.\n",
      "Converted 52_generate_files_for_benchmark.ipynb.\n",
      "Converted 53_analyze.ipynb.\n",
      "Converted 54_measure_with_plots.ipynb.\n",
      "Converted 54_measure_with_plots_not_gevent.ipynb.\n",
      "Converted 55_create_minio_files.ipynb.\n",
      "Converted 60_legacy.ipynb.\n",
      "Converted 61_run_benchmark.ipynb.\n"
     ]
    },
    {
     "data": {
      "application/javascript": [
       "\n",
       "            setTimeout(function() {\n",
       "                var nbb_cell_id = 26;\n",
       "                var nbb_unformatted_code = \"# hide\\n# dont_test\\n\\nfrom nbdev.export import notebook2script\\n\\nnotebook2script()\";\n",
       "                var nbb_formatted_code = \"# hide\\n# dont_test\\n\\nfrom nbdev.export import notebook2script\\n\\nnotebook2script()\";\n",
       "                var nbb_cells = Jupyter.notebook.get_cells();\n",
       "                for (var i = 0; i < nbb_cells.length; ++i) {\n",
       "                    if (nbb_cells[i].input_prompt_number == nbb_cell_id) {\n",
       "                        if (nbb_cells[i].get_text() == nbb_unformatted_code) {\n",
       "                             nbb_cells[i].set_text(nbb_formatted_code);\n",
       "                        }\n",
       "                        break;\n",
       "                    }\n",
       "                }\n",
       "            }, 500);\n",
       "            "
      ],
      "text/plain": [
       "<IPython.core.display.Javascript object>"
      ]
     },
     "metadata": {},
     "output_type": "display_data"
    }
   ],
   "source": [
    "# hide\n",
    "# dont_test\n",
    "\n",
    "from nbdev.export import notebook2script\n",
    "\n",
    "notebook2script()"
   ]
  },
  {
   "cell_type": "code",
   "execution_count": null,
   "id": "ef48dcf0",
   "metadata": {},
   "outputs": [],
   "source": []
  }
 ],
 "metadata": {
  "kernelspec": {
   "display_name": "Python 3",
   "language": "python",
   "name": "python3"
  }
 },
 "nbformat": 4,
 "nbformat_minor": 5
}
