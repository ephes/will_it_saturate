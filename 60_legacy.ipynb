{
 "cells": [
  {
   "cell_type": "code",
   "execution_count": null,
   "id": "automotive-brooks",
   "metadata": {},
   "outputs": [
    {
     "data": {
      "application/javascript": [
       "\n",
       "            setTimeout(function() {\n",
       "                var nbb_cell_id = 1;\n",
       "                var nbb_unformatted_code = \"from pprint import pprint\\n\\n%load_ext nb_black\";\n",
       "                var nbb_formatted_code = \"from pprint import pprint\\n\\n%load_ext nb_black\";\n",
       "                var nbb_cells = Jupyter.notebook.get_cells();\n",
       "                for (var i = 0; i < nbb_cells.length; ++i) {\n",
       "                    if (nbb_cells[i].input_prompt_number == nbb_cell_id) {\n",
       "                        if (nbb_cells[i].get_text() == nbb_unformatted_code) {\n",
       "                             nbb_cells[i].set_text(nbb_formatted_code);\n",
       "                        }\n",
       "                        break;\n",
       "                    }\n",
       "                }\n",
       "            }, 500);\n",
       "            "
      ],
      "text/plain": [
       "<IPython.core.display.Javascript object>"
      ]
     },
     "metadata": {},
     "output_type": "display_data"
    }
   ],
   "source": [
    "from pprint import pprint\n",
    "\n",
    "%load_ext nb_black"
   ]
  },
  {
   "cell_type": "code",
   "execution_count": null,
   "id": "incorporated-ebony",
   "metadata": {},
   "outputs": [
    {
     "data": {
      "application/javascript": [
       "\n",
       "            setTimeout(function() {\n",
       "                var nbb_cell_id = 2;\n",
       "                var nbb_unformatted_code = \"# default_exp old_core\";\n",
       "                var nbb_formatted_code = \"# default_exp old_core\";\n",
       "                var nbb_cells = Jupyter.notebook.get_cells();\n",
       "                for (var i = 0; i < nbb_cells.length; ++i) {\n",
       "                    if (nbb_cells[i].input_prompt_number == nbb_cell_id) {\n",
       "                        if (nbb_cells[i].get_text() == nbb_unformatted_code) {\n",
       "                             nbb_cells[i].set_text(nbb_formatted_code);\n",
       "                        }\n",
       "                        break;\n",
       "                    }\n",
       "                }\n",
       "            }, 500);\n",
       "            "
      ],
      "text/plain": [
       "<IPython.core.display.Javascript object>"
      ]
     },
     "metadata": {},
     "output_type": "display_data"
    }
   ],
   "source": [
    "# default_exp legacy_core"
   ]
  },
  {
   "cell_type": "markdown",
   "id": "macro-thermal",
   "metadata": {},
   "source": [
    "# module Core\n",
    "\n",
    "> Core benchmark logic"
   ]
  },
  {
   "cell_type": "code",
   "execution_count": null,
   "id": "political-traveler",
   "metadata": {},
   "outputs": [
    {
     "data": {
      "application/javascript": [
       "\n",
       "            setTimeout(function() {\n",
       "                var nbb_cell_id = 3;\n",
       "                var nbb_unformatted_code = \"# export\\n\\nimport os\\nimport math\\nimport json\\nimport hashlib\\n\\nimport pandas as pd\\n\\nfrom pathlib import Path\\nfrom urllib.parse import urljoin\\nfrom typing import Optional, Callable, Any\\n\\nfrom pydantic import BaseModel\\n\\nfrom will_it_saturate.epochs import Epoch\\nfrom will_it_saturate.results import Result\\nfrom will_it_saturate.servers import BaseServer\\nfrom will_it_saturate.clients import BaseClient\\nfrom will_it_saturate.files import BenchmarkFile, FILE_CREATORS\\nfrom will_it_saturate.repositories import BaseRepository, InMemoryRepository\";\n",
       "                var nbb_formatted_code = \"# export\\n\\nimport os\\nimport math\\nimport json\\nimport hashlib\\n\\nimport pandas as pd\\n\\nfrom pathlib import Path\\nfrom urllib.parse import urljoin\\nfrom typing import Optional, Callable, Any\\n\\nfrom pydantic import BaseModel\\n\\nfrom will_it_saturate.epochs import Epoch\\nfrom will_it_saturate.results import Result\\nfrom will_it_saturate.servers import BaseServer\\nfrom will_it_saturate.clients import BaseClient\\nfrom will_it_saturate.files import BenchmarkFile, FILE_CREATORS\\nfrom will_it_saturate.repositories import BaseRepository, InMemoryRepository\";\n",
       "                var nbb_cells = Jupyter.notebook.get_cells();\n",
       "                for (var i = 0; i < nbb_cells.length; ++i) {\n",
       "                    if (nbb_cells[i].input_prompt_number == nbb_cell_id) {\n",
       "                        if (nbb_cells[i].get_text() == nbb_unformatted_code) {\n",
       "                             nbb_cells[i].set_text(nbb_formatted_code);\n",
       "                        }\n",
       "                        break;\n",
       "                    }\n",
       "                }\n",
       "            }, 500);\n",
       "            "
      ],
      "text/plain": [
       "<IPython.core.display.Javascript object>"
      ]
     },
     "metadata": {},
     "output_type": "display_data"
    }
   ],
   "source": [
    "# export\n",
    "\n",
    "import os\n",
    "import math\n",
    "import json\n",
    "import hashlib\n",
    "\n",
    "import pandas as pd\n",
    "\n",
    "from pathlib import Path\n",
    "from urllib.parse import urljoin\n",
    "from typing import Optional, Callable, Any\n",
    "\n",
    "from pydantic import BaseModel\n",
    "\n",
    "from will_it_saturate.epochs import Epoch\n",
    "from will_it_saturate.results import Result\n",
    "from will_it_saturate.servers import BaseServer\n",
    "from will_it_saturate.clients import BaseClient\n",
    "from will_it_saturate.files import BenchmarkFile, FILE_CREATORS\n",
    "from will_it_saturate.repositories import BaseRepository, InMemoryRepository"
   ]
  },
  {
   "cell_type": "markdown",
   "id": "resident-defendant",
   "metadata": {},
   "source": [
    "## Tests"
   ]
  },
  {
   "cell_type": "code",
   "execution_count": null,
   "id": "binary-mixture",
   "metadata": {},
   "outputs": [
    {
     "data": {
      "application/javascript": [
       "\n",
       "            setTimeout(function() {\n",
       "                var nbb_cell_id = 4;\n",
       "                var nbb_unformatted_code = \"class TestClient(BaseClient):\\n    measured: bool = False\\n\\n    def measure(self, benchmark_row):\\n        self.measured = True\\n        print(\\\"measure_benchmark_row: \\\", benchmark_row)\\n        return 2.0\\n\\n\\nclass TestServer(BaseServer):\\n    started: bool = False\\n    stopped: bool = False\\n\\n    def start(self):\\n        self.started = True\\n\\n    def stop(self):\\n        self.stopped = True\";\n",
       "                var nbb_formatted_code = \"class TestClient(BaseClient):\\n    measured: bool = False\\n\\n    def measure(self, benchmark_row):\\n        self.measured = True\\n        print(\\\"measure_benchmark_row: \\\", benchmark_row)\\n        return 2.0\\n\\n\\nclass TestServer(BaseServer):\\n    started: bool = False\\n    stopped: bool = False\\n\\n    def start(self):\\n        self.started = True\\n\\n    def stop(self):\\n        self.stopped = True\";\n",
       "                var nbb_cells = Jupyter.notebook.get_cells();\n",
       "                for (var i = 0; i < nbb_cells.length; ++i) {\n",
       "                    if (nbb_cells[i].input_prompt_number == nbb_cell_id) {\n",
       "                        if (nbb_cells[i].get_text() == nbb_unformatted_code) {\n",
       "                             nbb_cells[i].set_text(nbb_formatted_code);\n",
       "                        }\n",
       "                        break;\n",
       "                    }\n",
       "                }\n",
       "            }, 500);\n",
       "            "
      ],
      "text/plain": [
       "<IPython.core.display.Javascript object>"
      ]
     },
     "metadata": {},
     "output_type": "display_data"
    }
   ],
   "source": [
    "class TestClient(BaseClient):\n",
    "    measured: bool = False\n",
    "\n",
    "    def measure(self, benchmark_row):\n",
    "        self.measured = True\n",
    "        print(\"measure_benchmark_row: \", benchmark_row)\n",
    "        return 2.0\n",
    "\n",
    "\n",
    "class TestServer(BaseServer):\n",
    "    started: bool = False\n",
    "    stopped: bool = False\n",
    "\n",
    "    def start(self):\n",
    "        self.started = True\n",
    "\n",
    "    def stop(self):\n",
    "        self.stopped = True"
   ]
  },
  {
   "cell_type": "markdown",
   "id": "official-chile",
   "metadata": {},
   "source": [
    "# Core Benchmark Model"
   ]
  },
  {
   "cell_type": "code",
   "execution_count": null,
   "id": "hairy-soccer",
   "metadata": {},
   "outputs": [
    {
     "data": {
      "application/javascript": [
       "\n",
       "            setTimeout(function() {\n",
       "                var nbb_cell_id = 5;\n",
       "                var nbb_unformatted_code = \"# export\\nimport cpuinfo\\nimport platform\\nimport subprocess\\n\\nfrom pathlib import Path\\nfrom functools import cache\\n\\n\\ndef get_macos_machine_id():\\n    kwargs = {\\\"capture_output\\\": True, \\\"text\\\": True}\\n    output = subprocess.run(\\n        [\\n            \\\"/usr/sbin/system_profiler\\\",\\n            \\\"SPHardwareDataType\\\",\\n        ],\\n        **kwargs,\\n    )\\n    machine_id = None\\n    for line in output.stdout.split(\\\"\\\\n\\\"):\\n        if \\\"Serial Number\\\" in line:\\n            machine_id = line.split()[-1]\\n    return machine_id\\n\\n\\ndef get_linux_machine_id():\\n    machine_id = \\\"linux_dummy\\\"\\n    with Path(\\\"/etc/machine-id\\\").open() as f:\\n        machine_id = f.read().rstrip()\\n    return machine_id\\n\\n\\n@cache\\ndef get_machine_id():\\n    os = platform.platform().lower().split(\\\"-\\\")[0]\\n    os_lookup = {\\\"macos\\\": get_macos_machine_id, \\\"linux\\\": get_linux_machine_id}\\n    return os_lookup[os]()\\n\\n\\nclass Benchmark(BaseModel):\\n    duration: int = 30  # in seconds\\n    bandwidth: int = int(10 ** 9 / 8)  # in bytes per second\\n    file_sizes: list[int] = [10 ** 7, 10 ** 6, 10 ** 5]\\n    epochs: list[Epoch] = []\\n    file_creator_name: str = \\\"filesystem\\\"\\n    uname: Optional[Any] = platform.uname()\\n    cpuinfo: Optional[dict] = cpuinfo.get_cpu_info()\\n    servers: list[BaseServer] = []\\n    clients: list[BaseClient] = []\\n    results: list[Result] = []\\n    repository: Optional[BaseRepository] = None\\n    machine_id: str = get_machine_id()\\n\\n    @property\\n    def uname_json(self):\\n        return json.dumps(self.uname)\\n\\n    def __hash__(self):\\n        return hash(self.machine_id)\\n\\n    def __eq__(self, other):\\n        self.machine_id == other.machine_id\\n\\n    def create_epoch_from_file_size(self, file_size):\\n        do_not_copy = {\\n            \\\"rows\\\",\\n            \\\"file_sizes\\\",\\n            \\\"servers\\\",\\n            \\\"clients\\\",\\n            \\\"results\\\",\\n            \\\"repository\\\",\\n        }\\n        kwargs = {k: v for k, v in dict(self).items() if k not in do_not_copy}\\n        epoch = Epoch(file_size=file_size, **kwargs)\\n        epoch.create_files()\\n        return epoch\\n\\n    def create_epochs(self):\\n        if len(self.epochs) > 0:\\n            # benchmark rows were already created\\n            return\\n\\n        # create a row for each file_size\\n        for file_size in self.file_sizes:\\n            self.epochs.append(self.create_epoch_from_file_size(file_size))\\n\\n    def build_empty_result(self, epoch, server, client):\\n        return Result(\\n            server=server.name,\\n            client=client.name,\\n            file_size=epoch.file_size,\\n            elapsed=elapsed,\\n            complete_size=epoch.complete_size,\\n            platform=self.uname.machine,\\n        )\\n\\n    def test_server_with_client(self, server, client):\\n        for epoch in self.epochs:\\n            result = Result.build_empty_result(epoch, server, client)\\n            if (\\n                self.repository is not None\\n                and (\\n                    already_measured := self.repository.get_result(self, result)\\n                ).elapsed\\n                is not None\\n            ):\\n                print(\\\"already measured: \\\", already_measured)\\n                result = already_measured\\n            else:\\n                if not server.started:\\n                    server.start()\\n                result.elapsed = client.measure(epoch)\\n                if self.repository is not None:\\n                    self.repository.add_result(self, result)\\n                print(\\\"measured: \\\", result)\\n            self.results.append(result)\\n\\n    def run(self):\\n        for server in self.servers:\\n            # start with servers, because they are more expensive to create\\n            print(f\\\"server: {server}\\\")\\n            for client in self.clients:\\n                self.test_server_with_client(server, client)\\n            if server.started:\\n                server.stop()\\n\\n    def json(self):\\n        # return super().json(exclude={\\\"rows\\\", \\\"repository\\\"})\\n        fields = {\\n            \\\"duration\\\",\\n            \\\"bandwidth\\\",\\n            \\\"cpuinfo\\\",\\n        }\\n        return super().json(include=fields)\\n\\n    @property\\n    def results_frame(self):\\n        return pd.DataFrame([r.dict_with_properties() for r in self.results])\";\n",
       "                var nbb_formatted_code = \"# export\\nimport cpuinfo\\nimport platform\\nimport subprocess\\n\\nfrom pathlib import Path\\nfrom functools import cache\\n\\n\\ndef get_macos_machine_id():\\n    kwargs = {\\\"capture_output\\\": True, \\\"text\\\": True}\\n    output = subprocess.run(\\n        [\\n            \\\"/usr/sbin/system_profiler\\\",\\n            \\\"SPHardwareDataType\\\",\\n        ],\\n        **kwargs,\\n    )\\n    machine_id = None\\n    for line in output.stdout.split(\\\"\\\\n\\\"):\\n        if \\\"Serial Number\\\" in line:\\n            machine_id = line.split()[-1]\\n    return machine_id\\n\\n\\ndef get_linux_machine_id():\\n    machine_id = \\\"linux_dummy\\\"\\n    with Path(\\\"/etc/machine-id\\\").open() as f:\\n        machine_id = f.read().rstrip()\\n    return machine_id\\n\\n\\n@cache\\ndef get_machine_id():\\n    os = platform.platform().lower().split(\\\"-\\\")[0]\\n    os_lookup = {\\\"macos\\\": get_macos_machine_id, \\\"linux\\\": get_linux_machine_id}\\n    return os_lookup[os]()\\n\\n\\nclass Benchmark(BaseModel):\\n    duration: int = 30  # in seconds\\n    bandwidth: int = int(10 ** 9 / 8)  # in bytes per second\\n    file_sizes: list[int] = [10 ** 7, 10 ** 6, 10 ** 5]\\n    epochs: list[Epoch] = []\\n    file_creator_name: str = \\\"filesystem\\\"\\n    uname: Optional[Any] = platform.uname()\\n    cpuinfo: Optional[dict] = cpuinfo.get_cpu_info()\\n    servers: list[BaseServer] = []\\n    clients: list[BaseClient] = []\\n    results: list[Result] = []\\n    repository: Optional[BaseRepository] = None\\n    machine_id: str = get_machine_id()\\n\\n    @property\\n    def uname_json(self):\\n        return json.dumps(self.uname)\\n\\n    def __hash__(self):\\n        return hash(self.machine_id)\\n\\n    def __eq__(self, other):\\n        self.machine_id == other.machine_id\\n\\n    def create_epoch_from_file_size(self, file_size):\\n        do_not_copy = {\\n            \\\"rows\\\",\\n            \\\"file_sizes\\\",\\n            \\\"servers\\\",\\n            \\\"clients\\\",\\n            \\\"results\\\",\\n            \\\"repository\\\",\\n        }\\n        kwargs = {k: v for k, v in dict(self).items() if k not in do_not_copy}\\n        epoch = Epoch(file_size=file_size, **kwargs)\\n        epoch.create_files()\\n        return epoch\\n\\n    def create_epochs(self):\\n        if len(self.epochs) > 0:\\n            # benchmark rows were already created\\n            return\\n\\n        # create a row for each file_size\\n        for file_size in self.file_sizes:\\n            self.epochs.append(self.create_epoch_from_file_size(file_size))\\n\\n    def build_empty_result(self, epoch, server, client):\\n        return Result(\\n            server=server.name,\\n            client=client.name,\\n            file_size=epoch.file_size,\\n            elapsed=elapsed,\\n            complete_size=epoch.complete_size,\\n            platform=self.uname.machine,\\n        )\\n\\n    def test_server_with_client(self, server, client):\\n        for epoch in self.epochs:\\n            result = Result.build_empty_result(epoch, server, client)\\n            if (\\n                self.repository is not None\\n                and (\\n                    already_measured := self.repository.get_result(self, result)\\n                ).elapsed\\n                is not None\\n            ):\\n                print(\\\"already measured: \\\", already_measured)\\n                result = already_measured\\n            else:\\n                if not server.started:\\n                    server.start()\\n                result.elapsed = client.measure(epoch)\\n                if self.repository is not None:\\n                    self.repository.add_result(self, result)\\n                print(\\\"measured: \\\", result)\\n            self.results.append(result)\\n\\n    def run(self):\\n        for server in self.servers:\\n            # start with servers, because they are more expensive to create\\n            print(f\\\"server: {server}\\\")\\n            for client in self.clients:\\n                self.test_server_with_client(server, client)\\n            if server.started:\\n                server.stop()\\n\\n    def json(self):\\n        # return super().json(exclude={\\\"rows\\\", \\\"repository\\\"})\\n        fields = {\\n            \\\"duration\\\",\\n            \\\"bandwidth\\\",\\n            \\\"cpuinfo\\\",\\n        }\\n        return super().json(include=fields)\\n\\n    @property\\n    def results_frame(self):\\n        return pd.DataFrame([r.dict_with_properties() for r in self.results])\";\n",
       "                var nbb_cells = Jupyter.notebook.get_cells();\n",
       "                for (var i = 0; i < nbb_cells.length; ++i) {\n",
       "                    if (nbb_cells[i].input_prompt_number == nbb_cell_id) {\n",
       "                        if (nbb_cells[i].get_text() == nbb_unformatted_code) {\n",
       "                             nbb_cells[i].set_text(nbb_formatted_code);\n",
       "                        }\n",
       "                        break;\n",
       "                    }\n",
       "                }\n",
       "            }, 500);\n",
       "            "
      ],
      "text/plain": [
       "<IPython.core.display.Javascript object>"
      ]
     },
     "metadata": {},
     "output_type": "display_data"
    }
   ],
   "source": [
    "# export\n",
    "import cpuinfo\n",
    "import platform\n",
    "import subprocess\n",
    "\n",
    "from pathlib import Path\n",
    "from functools import cache\n",
    "\n",
    "\n",
    "def get_macos_machine_id():\n",
    "    kwargs = {\"capture_output\": True, \"text\": True}\n",
    "    output = subprocess.run(\n",
    "        [\n",
    "            \"/usr/sbin/system_profiler\",\n",
    "            \"SPHardwareDataType\",\n",
    "        ],\n",
    "        **kwargs,\n",
    "    )\n",
    "    machine_id = None\n",
    "    for line in output.stdout.split(\"\\n\"):\n",
    "        if \"Serial Number\" in line:\n",
    "            machine_id = line.split()[-1]\n",
    "    return machine_id\n",
    "\n",
    "\n",
    "def get_linux_machine_id():\n",
    "    machine_id = \"linux_dummy\"\n",
    "    with Path(\"/etc/machine-id\").open() as f:\n",
    "        machine_id = f.read().rstrip()\n",
    "    return machine_id\n",
    "\n",
    "\n",
    "@cache\n",
    "def get_machine_id():\n",
    "    os = platform.platform().lower().split(\"-\")[0]\n",
    "    os_lookup = {\"macos\": get_macos_machine_id, \"linux\": get_linux_machine_id}\n",
    "    return os_lookup[os]()\n",
    "\n",
    "\n",
    "class Benchmark(BaseModel):\n",
    "    duration: int = 30  # in seconds\n",
    "    bandwidth: int = int(10 ** 9 / 8)  # in bytes per second\n",
    "    file_sizes: list[int] = [10 ** 7, 10 ** 6, 10 ** 5]\n",
    "    epochs: list[Epoch] = []\n",
    "    file_creator_name: str = \"filesystem\"\n",
    "    uname: Optional[Any] = platform.uname()\n",
    "    cpuinfo: Optional[dict] = cpuinfo.get_cpu_info()\n",
    "    servers: list[BaseServer] = []\n",
    "    clients: list[BaseClient] = []\n",
    "    results: list[Result] = []\n",
    "    repository: Optional[BaseRepository] = None\n",
    "    machine_id: str = get_machine_id()\n",
    "\n",
    "    @property\n",
    "    def uname_json(self):\n",
    "        return json.dumps(self.uname)\n",
    "\n",
    "    def __hash__(self):\n",
    "        return hash(self.machine_id)\n",
    "\n",
    "    def __eq__(self, other):\n",
    "        self.machine_id == other.machine_id\n",
    "\n",
    "    def create_epoch_from_file_size(self, file_size):\n",
    "        do_not_copy = {\n",
    "            \"rows\",\n",
    "            \"file_sizes\",\n",
    "            \"servers\",\n",
    "            \"clients\",\n",
    "            \"results\",\n",
    "            \"repository\",\n",
    "        }\n",
    "        kwargs = {k: v for k, v in dict(self).items() if k not in do_not_copy}\n",
    "        epoch = Epoch(file_size=file_size, **kwargs)\n",
    "        epoch.create_files()\n",
    "        return epoch\n",
    "\n",
    "    def create_epochs(self):\n",
    "        if len(self.epochs) > 0:\n",
    "            # benchmark rows were already created\n",
    "            return\n",
    "\n",
    "        # create a row for each file_size\n",
    "        for file_size in self.file_sizes:\n",
    "            self.epochs.append(self.create_epoch_from_file_size(file_size))\n",
    "\n",
    "    def build_empty_result(self, epoch, server, client):\n",
    "        return Result(\n",
    "            server=server.name,\n",
    "            client=client.name,\n",
    "            file_size=epoch.file_size,\n",
    "            elapsed=elapsed,\n",
    "            complete_size=epoch.complete_size,\n",
    "            platform=self.uname.machine,\n",
    "        )\n",
    "\n",
    "    def test_server_with_client(self, server, client):\n",
    "        for epoch in self.epochs:\n",
    "            result = Result.build_empty_result(epoch, server, client)\n",
    "            if (\n",
    "                self.repository is not None\n",
    "                and (\n",
    "                    already_measured := self.repository.get_result(self, result)\n",
    "                ).elapsed\n",
    "                is not None\n",
    "            ):\n",
    "                print(\"already measured: \", already_measured)\n",
    "                result = already_measured\n",
    "            else:\n",
    "                if not server.started:\n",
    "                    server.start()\n",
    "                result.elapsed = client.measure(epoch)\n",
    "                if self.repository is not None:\n",
    "                    self.repository.add_result(self, result)\n",
    "                print(\"measured: \", result)\n",
    "            self.results.append(result)\n",
    "\n",
    "    def run(self):\n",
    "        for server in self.servers:\n",
    "            # start with servers, because they are more expensive to create\n",
    "            print(f\"server: {server}\")\n",
    "            for client in self.clients:\n",
    "                self.test_server_with_client(server, client)\n",
    "            if server.started:\n",
    "                server.stop()\n",
    "\n",
    "    def json(self):\n",
    "        # return super().json(exclude={\"rows\", \"repository\"})\n",
    "        fields = {\n",
    "            \"duration\",\n",
    "            \"bandwidth\",\n",
    "            \"cpuinfo\",\n",
    "        }\n",
    "        return super().json(include=fields)\n",
    "\n",
    "    @property\n",
    "    def results_frame(self):\n",
    "        return pd.DataFrame([r.dict_with_properties() for r in self.results])"
   ]
  },
  {
   "cell_type": "markdown",
   "id": "veterinary-capability",
   "metadata": {},
   "source": [
    "## Usage"
   ]
  },
  {
   "cell_type": "code",
   "execution_count": null,
   "id": "common-combine",
   "metadata": {},
   "outputs": [
    {
     "name": "stdout",
     "output_type": "stream",
     "text": [
      "3\n"
     ]
    },
    {
     "data": {
      "application/javascript": [
       "\n",
       "            setTimeout(function() {\n",
       "                var nbb_cell_id = 7;\n",
       "                var nbb_unformatted_code = \"# dont_test\\n\\n\\ndef create_file(path, size):\\n    return \\\"test_md5sum\\\"\\n\\n\\nFILE_CREATORS[\\\"stub_creator\\\"] = create_file\\n\\n\\nbyte = 8\\nhundred_mbit = 10 ** 8\\nbandwidth = hundred_mbit / byte\\nduration = 2  # seconds\\nfile_size = 10 ** 6 * 3  # 100MB\\nfile_sizes = [10 ** 7, 10 ** 6, 10 ** 5]\\n\\nbenchmark = Benchmark(\\n    duration=duration,\\n    bandwidth=bandwidth,\\n    file_creator_name=\\\"stub_creator\\\",\\n    file_sizes=file_sizes,\\n    servers=[TestServer(name=\\\"Nginx\\\")],\\n    clients=[TestClient(name=\\\"Httpx\\\")],\\n    repository=InMemoryRepository(),\\n)\\nbenchmark.create_epochs()\\nprint(len(benchmark.epochs))\\n\\n# benchmark.run()\\n# pprint(benchmark.results)\\n# benchmark.results_frame\";\n",
       "                var nbb_formatted_code = \"# dont_test\\n\\n\\ndef create_file(path, size):\\n    return \\\"test_md5sum\\\"\\n\\n\\nFILE_CREATORS[\\\"stub_creator\\\"] = create_file\\n\\n\\nbyte = 8\\nhundred_mbit = 10 ** 8\\nbandwidth = hundred_mbit / byte\\nduration = 2  # seconds\\nfile_size = 10 ** 6 * 3  # 100MB\\nfile_sizes = [10 ** 7, 10 ** 6, 10 ** 5]\\n\\nbenchmark = Benchmark(\\n    duration=duration,\\n    bandwidth=bandwidth,\\n    file_creator_name=\\\"stub_creator\\\",\\n    file_sizes=file_sizes,\\n    servers=[TestServer(name=\\\"Nginx\\\")],\\n    clients=[TestClient(name=\\\"Httpx\\\")],\\n    repository=InMemoryRepository(),\\n)\\nbenchmark.create_epochs()\\nprint(len(benchmark.epochs))\\n\\n# benchmark.run()\\n# pprint(benchmark.results)\\n# benchmark.results_frame\";\n",
       "                var nbb_cells = Jupyter.notebook.get_cells();\n",
       "                for (var i = 0; i < nbb_cells.length; ++i) {\n",
       "                    if (nbb_cells[i].input_prompt_number == nbb_cell_id) {\n",
       "                        if (nbb_cells[i].get_text() == nbb_unformatted_code) {\n",
       "                             nbb_cells[i].set_text(nbb_formatted_code);\n",
       "                        }\n",
       "                        break;\n",
       "                    }\n",
       "                }\n",
       "            }, 500);\n",
       "            "
      ],
      "text/plain": [
       "<IPython.core.display.Javascript object>"
      ]
     },
     "metadata": {},
     "output_type": "display_data"
    }
   ],
   "source": [
    "# dont_test\n",
    "\n",
    "\n",
    "def create_file(path, size):\n",
    "    return \"test_md5sum\"\n",
    "\n",
    "\n",
    "FILE_CREATORS[\"stub_creator\"] = create_file\n",
    "\n",
    "\n",
    "byte = 8\n",
    "hundred_mbit = 10 ** 8\n",
    "bandwidth = hundred_mbit / byte\n",
    "duration = 2  # seconds\n",
    "file_size = 10 ** 6 * 3  # 100MB\n",
    "file_sizes = [10 ** 7, 10 ** 6, 10 ** 5]\n",
    "\n",
    "benchmark = Benchmark(\n",
    "    duration=duration,\n",
    "    bandwidth=bandwidth,\n",
    "    file_creator_name=\"stub_creator\",\n",
    "    file_sizes=file_sizes,\n",
    "    servers=[TestServer(name=\"Nginx\")],\n",
    "    clients=[TestClient(name=\"Httpx\")],\n",
    "    repository=InMemoryRepository(),\n",
    ")\n",
    "benchmark.create_epochs()\n",
    "print(len(benchmark.epochs))\n",
    "\n",
    "# benchmark.run()\n",
    "# pprint(benchmark.results)\n",
    "# benchmark.results_frame"
   ]
  },
  {
   "cell_type": "markdown",
   "id": "unusual-youth",
   "metadata": {},
   "source": [
    "## Tests"
   ]
  },
  {
   "cell_type": "code",
   "execution_count": null,
   "id": "missing-egypt",
   "metadata": {},
   "outputs": [
    {
     "data": {
      "application/javascript": [
       "\n",
       "            setTimeout(function() {\n",
       "                var nbb_cell_id = 8;\n",
       "                var nbb_unformatted_code = \"from collections import namedtuple\\n\\n\\ndef create_file(path, size):\\n    return \\\"test_md5sum\\\"\\n\\n\\nFILE_CREATORS[\\\"stub_creator\\\"] = create_file\\n\\n\\nTestPlatform = namedtuple(\\\"TestPlatform\\\", [\\\"machine\\\"])\\n\\nbyte = 8\\ngigabit = 10 ** 9\\nfile_sizes = [10 ** 7, 10 ** 6, 10 ** 5]\\n\\ntest_params = {\\n    \\\"duration\\\": 3,\\n    \\\"bandwidth\\\": gigabit / byte / 10,  # divided by ten for test duration\\n    \\\"file_creator_name\\\": \\\"stub_creator\\\",\\n    \\\"file_sizes\\\": file_sizes,\\n    \\\"cpuinfo\\\": {\\\"python_version\\\": 4.0},\\n    \\\"uname\\\": TestPlatform(\\\"M3\\\"),\\n    \\\"repository\\\": InMemoryRepository(),\\n}\\n\\ntest_benchmark = Benchmark(**test_params)\\n\\ntest_benchmark.create_epochs()\\nassert len(test_benchmark.epochs) == len(file_sizes)\";\n",
       "                var nbb_formatted_code = \"from collections import namedtuple\\n\\n\\ndef create_file(path, size):\\n    return \\\"test_md5sum\\\"\\n\\n\\nFILE_CREATORS[\\\"stub_creator\\\"] = create_file\\n\\n\\nTestPlatform = namedtuple(\\\"TestPlatform\\\", [\\\"machine\\\"])\\n\\nbyte = 8\\ngigabit = 10 ** 9\\nfile_sizes = [10 ** 7, 10 ** 6, 10 ** 5]\\n\\ntest_params = {\\n    \\\"duration\\\": 3,\\n    \\\"bandwidth\\\": gigabit / byte / 10,  # divided by ten for test duration\\n    \\\"file_creator_name\\\": \\\"stub_creator\\\",\\n    \\\"file_sizes\\\": file_sizes,\\n    \\\"cpuinfo\\\": {\\\"python_version\\\": 4.0},\\n    \\\"uname\\\": TestPlatform(\\\"M3\\\"),\\n    \\\"repository\\\": InMemoryRepository(),\\n}\\n\\ntest_benchmark = Benchmark(**test_params)\\n\\ntest_benchmark.create_epochs()\\nassert len(test_benchmark.epochs) == len(file_sizes)\";\n",
       "                var nbb_cells = Jupyter.notebook.get_cells();\n",
       "                for (var i = 0; i < nbb_cells.length; ++i) {\n",
       "                    if (nbb_cells[i].input_prompt_number == nbb_cell_id) {\n",
       "                        if (nbb_cells[i].get_text() == nbb_unformatted_code) {\n",
       "                             nbb_cells[i].set_text(nbb_formatted_code);\n",
       "                        }\n",
       "                        break;\n",
       "                    }\n",
       "                }\n",
       "            }, 500);\n",
       "            "
      ],
      "text/plain": [
       "<IPython.core.display.Javascript object>"
      ]
     },
     "metadata": {},
     "output_type": "display_data"
    }
   ],
   "source": [
    "from collections import namedtuple\n",
    "\n",
    "\n",
    "def create_file(path, size):\n",
    "    return \"test_md5sum\"\n",
    "\n",
    "\n",
    "FILE_CREATORS[\"stub_creator\"] = create_file\n",
    "\n",
    "\n",
    "TestPlatform = namedtuple(\"TestPlatform\", [\"machine\"])\n",
    "\n",
    "byte = 8\n",
    "gigabit = 10 ** 9\n",
    "file_sizes = [10 ** 7, 10 ** 6, 10 ** 5]\n",
    "\n",
    "test_params = {\n",
    "    \"duration\": 3,\n",
    "    \"bandwidth\": gigabit / byte / 10,  # divided by ten for test duration\n",
    "    \"file_creator_name\": \"stub_creator\",\n",
    "    \"file_sizes\": file_sizes,\n",
    "    \"cpuinfo\": {\"python_version\": 4.0},\n",
    "    \"uname\": TestPlatform(\"M3\"),\n",
    "    \"repository\": InMemoryRepository(),\n",
    "}\n",
    "\n",
    "test_benchmark = Benchmark(**test_params)\n",
    "\n",
    "test_benchmark.create_epochs()\n",
    "assert len(test_benchmark.epochs) == len(file_sizes)"
   ]
  },
  {
   "cell_type": "code",
   "execution_count": null,
   "id": "received-content",
   "metadata": {},
   "outputs": [
    {
     "name": "stdout",
     "output_type": "stream",
     "text": [
      "CPU times: user 16.5 ms, sys: 536 µs, total: 17 ms\n",
      "Wall time: 16.6 ms\n"
     ]
    },
    {
     "data": {
      "application/javascript": [
       "\n",
       "            setTimeout(function() {\n",
       "                var nbb_cell_id = 10;\n",
       "                var nbb_unformatted_code = \"%%time\\n\\nclass TestClient(BaseClient):\\n    measured: bool = False\\n\\n    def measure(self, benchmark_row):\\n        self.measured = True\\n        print(\\\"measure_benchmark_row: \\\", benchmark_row)\\n        return 2.0\\n\\n\\nclass TestServer(BaseServer):\\n    started: bool = False\\n    stopped: bool = False\\n\\n    def start(self):\\n        self.started = True\\n\\n    def stop(self):\\n        self.stopped = True\\n\\n\\ntest_params = {\\n    **test_params,\\n    \\\"clients\\\": [TestClient(name=\\\"foo\\\")],\\n    \\\"servers\\\": [TestServer(name=\\\"bar\\\")],\\n}\\ntest_benchmark = Benchmark(**test_params)\\ntest_benchmark.create_epochs()\\n# test_benchmark.run()\";\n",
       "                var nbb_formatted_code = \"%%time\\n\\nclass TestClient(BaseClient):\\n    measured: bool = False\\n\\n    def measure(self, benchmark_row):\\n        self.measured = True\\n        print(\\\"measure_benchmark_row: \\\", benchmark_row)\\n        return 2.0\\n\\n\\nclass TestServer(BaseServer):\\n    started: bool = False\\n    stopped: bool = False\\n\\n    def start(self):\\n        self.started = True\\n\\n    def stop(self):\\n        self.stopped = True\\n\\n\\ntest_params = {\\n    **test_params,\\n    \\\"clients\\\": [TestClient(name=\\\"foo\\\")],\\n    \\\"servers\\\": [TestServer(name=\\\"bar\\\")],\\n}\\ntest_benchmark = Benchmark(**test_params)\\ntest_benchmark.create_epochs()\\n# test_benchmark.run()\";\n",
       "                var nbb_cells = Jupyter.notebook.get_cells();\n",
       "                for (var i = 0; i < nbb_cells.length; ++i) {\n",
       "                    if (nbb_cells[i].input_prompt_number == nbb_cell_id) {\n",
       "                        if (nbb_cells[i].get_text() == nbb_unformatted_code) {\n",
       "                             nbb_cells[i].set_text(nbb_formatted_code);\n",
       "                        }\n",
       "                        break;\n",
       "                    }\n",
       "                }\n",
       "            }, 500);\n",
       "            "
      ],
      "text/plain": [
       "<IPython.core.display.Javascript object>"
      ]
     },
     "metadata": {},
     "output_type": "display_data"
    }
   ],
   "source": [
    "%%time\n",
    "\n",
    "class TestClient(BaseClient):\n",
    "    measured: bool = False\n",
    "\n",
    "    def measure(self, benchmark_row):\n",
    "        self.measured = True\n",
    "        print(\"measure_benchmark_row: \", benchmark_row)\n",
    "        return 2.0\n",
    "\n",
    "\n",
    "class TestServer(BaseServer):\n",
    "    started: bool = False\n",
    "    stopped: bool = False\n",
    "\n",
    "    def start(self):\n",
    "        self.started = True\n",
    "\n",
    "    def stop(self):\n",
    "        self.stopped = True\n",
    "\n",
    "\n",
    "test_params = {\n",
    "    **test_params,\n",
    "    \"clients\": [TestClient(name=\"foo\")],\n",
    "    \"servers\": [TestServer(name=\"bar\")],\n",
    "}\n",
    "test_benchmark = Benchmark(**test_params)\n",
    "test_benchmark.create_epochs()\n",
    "# test_benchmark.run()"
   ]
  },
  {
   "cell_type": "code",
   "execution_count": null,
   "id": "resident-spank",
   "metadata": {},
   "outputs": [
    {
     "data": {
      "application/javascript": [
       "\n",
       "            setTimeout(function() {\n",
       "                var nbb_cell_id = 12;\n",
       "                var nbb_unformatted_code = \"# assert len(test_benchmark.results) == len(test_benchmark.epochs)\";\n",
       "                var nbb_formatted_code = \"# assert len(test_benchmark.results) == len(test_benchmark.epochs)\";\n",
       "                var nbb_cells = Jupyter.notebook.get_cells();\n",
       "                for (var i = 0; i < nbb_cells.length; ++i) {\n",
       "                    if (nbb_cells[i].input_prompt_number == nbb_cell_id) {\n",
       "                        if (nbb_cells[i].get_text() == nbb_unformatted_code) {\n",
       "                             nbb_cells[i].set_text(nbb_formatted_code);\n",
       "                        }\n",
       "                        break;\n",
       "                    }\n",
       "                }\n",
       "            }, 500);\n",
       "            "
      ],
      "text/plain": [
       "<IPython.core.display.Javascript object>"
      ]
     },
     "metadata": {},
     "output_type": "display_data"
    }
   ],
   "source": [
    "# assert len(test_benchmark.results) == len(test_benchmark.epochs)"
   ]
  },
  {
   "cell_type": "code",
   "execution_count": null,
   "id": "derived-damages",
   "metadata": {},
   "outputs": [
    {
     "data": {
      "application/javascript": [
       "\n",
       "            setTimeout(function() {\n",
       "                var nbb_cell_id = 14;\n",
       "                var nbb_unformatted_code = \"# assert test_benchmark.servers[0].started\\n# assert test_benchmark.servers[0].stopped\";\n",
       "                var nbb_formatted_code = \"# assert test_benchmark.servers[0].started\\n# assert test_benchmark.servers[0].stopped\";\n",
       "                var nbb_cells = Jupyter.notebook.get_cells();\n",
       "                for (var i = 0; i < nbb_cells.length; ++i) {\n",
       "                    if (nbb_cells[i].input_prompt_number == nbb_cell_id) {\n",
       "                        if (nbb_cells[i].get_text() == nbb_unformatted_code) {\n",
       "                             nbb_cells[i].set_text(nbb_formatted_code);\n",
       "                        }\n",
       "                        break;\n",
       "                    }\n",
       "                }\n",
       "            }, 500);\n",
       "            "
      ],
      "text/plain": [
       "<IPython.core.display.Javascript object>"
      ]
     },
     "metadata": {},
     "output_type": "display_data"
    }
   ],
   "source": [
    "# assert test_benchmark.servers[0].started\n",
    "# assert test_benchmark.servers[0].stopped"
   ]
  },
  {
   "cell_type": "code",
   "execution_count": null,
   "id": "threaded-influence",
   "metadata": {},
   "outputs": [
    {
     "data": {
      "application/javascript": [
       "\n",
       "            setTimeout(function() {\n",
       "                var nbb_cell_id = 15;\n",
       "                var nbb_unformatted_code = \"# assert test_benchmark.uname.machine == \\\"M3\\\"\\n# assert \\\"python_version\\\" in test_benchmark.cpuinfo\";\n",
       "                var nbb_formatted_code = \"# assert test_benchmark.uname.machine == \\\"M3\\\"\\n# assert \\\"python_version\\\" in test_benchmark.cpuinfo\";\n",
       "                var nbb_cells = Jupyter.notebook.get_cells();\n",
       "                for (var i = 0; i < nbb_cells.length; ++i) {\n",
       "                    if (nbb_cells[i].input_prompt_number == nbb_cell_id) {\n",
       "                        if (nbb_cells[i].get_text() == nbb_unformatted_code) {\n",
       "                             nbb_cells[i].set_text(nbb_formatted_code);\n",
       "                        }\n",
       "                        break;\n",
       "                    }\n",
       "                }\n",
       "            }, 500);\n",
       "            "
      ],
      "text/plain": [
       "<IPython.core.display.Javascript object>"
      ]
     },
     "metadata": {},
     "output_type": "display_data"
    }
   ],
   "source": [
    "# assert test_benchmark.uname.machine == \"M3\"\n",
    "# assert \"python_version\" in test_benchmark.cpuinfo"
   ]
  },
  {
   "cell_type": "code",
   "execution_count": null,
   "id": "infectious-variety",
   "metadata": {},
   "outputs": [
    {
     "data": {
      "application/javascript": [
       "\n",
       "            setTimeout(function() {\n",
       "                var nbb_cell_id = 16;\n",
       "                var nbb_unformatted_code = \"# assert \\\"duration\\\" in test_benchmark.json()\";\n",
       "                var nbb_formatted_code = \"# assert \\\"duration\\\" in test_benchmark.json()\";\n",
       "                var nbb_cells = Jupyter.notebook.get_cells();\n",
       "                for (var i = 0; i < nbb_cells.length; ++i) {\n",
       "                    if (nbb_cells[i].input_prompt_number == nbb_cell_id) {\n",
       "                        if (nbb_cells[i].get_text() == nbb_unformatted_code) {\n",
       "                             nbb_cells[i].set_text(nbb_formatted_code);\n",
       "                        }\n",
       "                        break;\n",
       "                    }\n",
       "                }\n",
       "            }, 500);\n",
       "            "
      ],
      "text/plain": [
       "<IPython.core.display.Javascript object>"
      ]
     },
     "metadata": {},
     "output_type": "display_data"
    }
   ],
   "source": [
    "# assert \"duration\" in test_benchmark.json()"
   ]
  },
  {
   "cell_type": "code",
   "execution_count": null,
   "id": "explicit-gothic",
   "metadata": {},
   "outputs": [
    {
     "data": {
      "application/javascript": [
       "\n",
       "            setTimeout(function() {\n",
       "                var nbb_cell_id = 17;\n",
       "                var nbb_unformatted_code = \"# assert len(test_benchmark.repository.results[test_benchmark]) == len(\\n#     test_benchmark.results\\n# )\";\n",
       "                var nbb_formatted_code = \"# assert len(test_benchmark.repository.results[test_benchmark]) == len(\\n#     test_benchmark.results\\n# )\";\n",
       "                var nbb_cells = Jupyter.notebook.get_cells();\n",
       "                for (var i = 0; i < nbb_cells.length; ++i) {\n",
       "                    if (nbb_cells[i].input_prompt_number == nbb_cell_id) {\n",
       "                        if (nbb_cells[i].get_text() == nbb_unformatted_code) {\n",
       "                             nbb_cells[i].set_text(nbb_formatted_code);\n",
       "                        }\n",
       "                        break;\n",
       "                    }\n",
       "                }\n",
       "            }, 500);\n",
       "            "
      ],
      "text/plain": [
       "<IPython.core.display.Javascript object>"
      ]
     },
     "metadata": {},
     "output_type": "display_data"
    }
   ],
   "source": [
    "# assert len(test_benchmark.repository.results[test_benchmark]) == len(\n",
    "#     test_benchmark.results\n",
    "# )"
   ]
  },
  {
   "cell_type": "code",
   "execution_count": null,
   "id": "seventh-coach",
   "metadata": {},
   "outputs": [
    {
     "data": {
      "application/javascript": [
       "\n",
       "            setTimeout(function() {\n",
       "                var nbb_cell_id = 19;\n",
       "                var nbb_unformatted_code = \"# assert already measured results are not measured again\\n# test_benchmark.clients = [TestClient(name=\\\"foo\\\")]\\n# test_benchmark.run()\\n# assert test_benchmark.clients[0].measured == True\";\n",
       "                var nbb_formatted_code = \"# assert already measured results are not measured again\\n# test_benchmark.clients = [TestClient(name=\\\"foo\\\")]\\n# test_benchmark.run()\\n# assert test_benchmark.clients[0].measured == True\";\n",
       "                var nbb_cells = Jupyter.notebook.get_cells();\n",
       "                for (var i = 0; i < nbb_cells.length; ++i) {\n",
       "                    if (nbb_cells[i].input_prompt_number == nbb_cell_id) {\n",
       "                        if (nbb_cells[i].get_text() == nbb_unformatted_code) {\n",
       "                             nbb_cells[i].set_text(nbb_formatted_code);\n",
       "                        }\n",
       "                        break;\n",
       "                    }\n",
       "                }\n",
       "            }, 500);\n",
       "            "
      ],
      "text/plain": [
       "<IPython.core.display.Javascript object>"
      ]
     },
     "metadata": {},
     "output_type": "display_data"
    }
   ],
   "source": [
    "# assert already measured results are not measured again\n",
    "# test_benchmark.clients = [TestClient(name=\"foo\")]\n",
    "# test_benchmark.run()\n",
    "# assert test_benchmark.clients[0].measured == True"
   ]
  },
  {
   "cell_type": "markdown",
   "id": "electronic-tampa",
   "metadata": {},
   "source": [
    "# Export"
   ]
  },
  {
   "cell_type": "code",
   "execution_count": null,
   "id": "cooked-image",
   "metadata": {},
   "outputs": [
    {
     "name": "stdout",
     "output_type": "stream",
     "text": [
      "Converted 00_host.ipynb.\n",
      "Converted 01_django_views.ipynb.\n",
      "Converted 01_fastapi_views.ipynb.\n",
      "Converted 01_file.ipynb.\n",
      "Converted 05_epochs.ipynb.\n",
      "Converted 06_results.ipynb.\n",
      "Converted 25_core.ipynb.\n",
      "Converted 27_control_server.ipynb.\n",
      "Converted 28_control_client.ipynb.\n",
      "Converted 29_control_cli.ipynb.\n",
      "Converted 30_servers.ipynb.\n",
      "Converted 31_local_servers.ipynb.\n",
      "Converted 32_docker_servers.ipynb.\n",
      "Converted 40_clients.ipynb.\n",
      "Converted 41_benchmark_clients.ipynb.\n",
      "Converted 70_repositories.ipynb.\n",
      "Converted 71_sqlite_repository.ipynb.\n",
      "Converted 90_benchmark_without_benchmark.ipynb.\n",
      "Converted 98_run_benchmark.ipynb.\n",
      "Converted index.ipynb.\n"
     ]
    },
    {
     "data": {
      "application/javascript": [
       "\n",
       "            setTimeout(function() {\n",
       "                var nbb_cell_id = 21;\n",
       "                var nbb_unformatted_code = \"# dont_test\\n\\nfrom nbdev.export import notebook2script\\n\\nnotebook2script()\";\n",
       "                var nbb_formatted_code = \"# dont_test\\n\\nfrom nbdev.export import notebook2script\\n\\nnotebook2script()\";\n",
       "                var nbb_cells = Jupyter.notebook.get_cells();\n",
       "                for (var i = 0; i < nbb_cells.length; ++i) {\n",
       "                    if (nbb_cells[i].input_prompt_number == nbb_cell_id) {\n",
       "                        if (nbb_cells[i].get_text() == nbb_unformatted_code) {\n",
       "                             nbb_cells[i].set_text(nbb_formatted_code);\n",
       "                        }\n",
       "                        break;\n",
       "                    }\n",
       "                }\n",
       "            }, 500);\n",
       "            "
      ],
      "text/plain": [
       "<IPython.core.display.Javascript object>"
      ]
     },
     "metadata": {},
     "output_type": "display_data"
    }
   ],
   "source": [
    "# dont_test\n",
    "\n",
    "from nbdev.export import notebook2script\n",
    "\n",
    "notebook2script()"
   ]
  }
 ],
 "metadata": {
  "kernelspec": {
   "display_name": "Python 3",
   "language": "python",
   "name": "python3"
  }
 },
 "nbformat": 4,
 "nbformat_minor": 5
}
