{
 "cells": [
  {
   "cell_type": "code",
   "execution_count": null,
   "id": "56f03797",
   "metadata": {},
   "outputs": [
    {
     "data": {
      "application/javascript": [
       "\n",
       "            setTimeout(function() {\n",
       "                var nbb_cell_id = 2;\n",
       "                var nbb_unformatted_code = \"%load_ext nb_black\";\n",
       "                var nbb_formatted_code = \"%load_ext nb_black\";\n",
       "                var nbb_cells = Jupyter.notebook.get_cells();\n",
       "                for (var i = 0; i < nbb_cells.length; ++i) {\n",
       "                    if (nbb_cells[i].input_prompt_number == nbb_cell_id) {\n",
       "                        if (nbb_cells[i].get_text() == nbb_unformatted_code) {\n",
       "                             nbb_cells[i].set_text(nbb_formatted_code);\n",
       "                        }\n",
       "                        break;\n",
       "                    }\n",
       "                }\n",
       "            }, 500);\n",
       "            "
      ],
      "text/plain": [
       "<IPython.core.display.Javascript object>"
      ]
     },
     "metadata": {},
     "output_type": "display_data"
    }
   ],
   "source": [
    "%load_ext nb_black"
   ]
  },
  {
   "cell_type": "code",
   "execution_count": null,
   "id": "f1fa8faf",
   "metadata": {},
   "outputs": [
    {
     "data": {
      "application/javascript": [
       "\n",
       "            setTimeout(function() {\n",
       "                var nbb_cell_id = 3;\n",
       "                var nbb_unformatted_code = \"import httpx\\nimport pandas as pd\\n\\nfrom urllib.parse import urljoin\\n\\nfrom will_it_saturate.servers import (\\n    FastAPIUvicornServer,\\n    NginxDockerServer,\\n    DjangoGunicornWSGIServer,\\n)\\nfrom will_it_saturate.epochs import Epoch\\nfrom will_it_saturate.hosts import Host, HostDetails\\n\\nfrom will_it_saturate.results import Result\\nfrom will_it_saturate.files import BenchmarkFile\\nfrom will_it_saturate.control.client import ControlClient\\nfrom will_it_saturate.repositories import SqliteRepository, register_default_tables\\nfrom will_it_saturate.clients import (\\n    HttpxClient,\\n    AioHttpClient,\\n    WrkClient,\\n    BaseClient,\\n)\";\n",
       "                var nbb_formatted_code = \"import httpx\\nimport pandas as pd\\n\\nfrom urllib.parse import urljoin\\n\\nfrom will_it_saturate.servers import (\\n    FastAPIUvicornServer,\\n    NginxDockerServer,\\n    DjangoGunicornWSGIServer,\\n)\\nfrom will_it_saturate.epochs import Epoch\\nfrom will_it_saturate.hosts import Host, HostDetails\\n\\nfrom will_it_saturate.results import Result\\nfrom will_it_saturate.files import BenchmarkFile\\nfrom will_it_saturate.control.client import ControlClient\\nfrom will_it_saturate.repositories import SqliteRepository, register_default_tables\\nfrom will_it_saturate.clients import (\\n    HttpxClient,\\n    AioHttpClient,\\n    WrkClient,\\n    BaseClient,\\n)\";\n",
       "                var nbb_cells = Jupyter.notebook.get_cells();\n",
       "                for (var i = 0; i < nbb_cells.length; ++i) {\n",
       "                    if (nbb_cells[i].input_prompt_number == nbb_cell_id) {\n",
       "                        if (nbb_cells[i].get_text() == nbb_unformatted_code) {\n",
       "                             nbb_cells[i].set_text(nbb_formatted_code);\n",
       "                        }\n",
       "                        break;\n",
       "                    }\n",
       "                }\n",
       "            }, 500);\n",
       "            "
      ],
      "text/plain": [
       "<IPython.core.display.Javascript object>"
      ]
     },
     "metadata": {},
     "output_type": "display_data"
    }
   ],
   "source": [
    "import httpx\n",
    "import pandas as pd\n",
    "\n",
    "from urllib.parse import urljoin\n",
    "\n",
    "from will_it_saturate.servers import (\n",
    "    FastAPIUvicornServer,\n",
    "    NginxDockerServer,\n",
    "    DjangoGunicornWSGIServer,\n",
    ")\n",
    "from will_it_saturate.epochs import Epoch\n",
    "from will_it_saturate.hosts import Host, HostDetails\n",
    "\n",
    "from will_it_saturate.results import Result\n",
    "from will_it_saturate.files import BenchmarkFile\n",
    "from will_it_saturate.control.client import ControlClient\n",
    "from will_it_saturate.repositories import SqliteRepository, register_default_tables\n",
    "from will_it_saturate.clients import (\n",
    "    HttpxClient,\n",
    "    AioHttpClient,\n",
    "    WrkClient,\n",
    "    BaseClient,\n",
    ")"
   ]
  },
  {
   "cell_type": "markdown",
   "id": "78d995f8",
   "metadata": {},
   "source": [
    "# Remote Benchmark"
   ]
  },
  {
   "cell_type": "code",
   "execution_count": null,
   "id": "b659105a",
   "metadata": {},
   "outputs": [
    {
     "name": "stdout",
     "output_type": "stream",
     "text": [
      "protocol='http' name='fastAPI/uvicorn' host='localhost' port=5001\n"
     ]
    },
    {
     "data": {
      "application/javascript": [
       "\n",
       "            setTimeout(function() {\n",
       "                var nbb_cell_id = 3;\n",
       "                var nbb_unformatted_code = \"# dont_test\\n\\n# create server control client + server (needed for turning files into urls)\\nserver_control_host = Host(name=\\\"macmini.fritz.box\\\", port=8001)\\nserver_control_client = ControlClient(host=server_control_host)\\nserver_details = server_control_client.get_host_details()\\nserver = server_control_client.get_or_create_server(FastAPIUvicornServer(host=\\\"macmini.fritz.box\\\", port=5001))\\nprint(server)\";\n",
       "                var nbb_formatted_code = \"# dont_test\\n\\n# create server control client + server (needed for turning files into urls)\\nserver_control_host = Host(name=\\\"macmini.fritz.box\\\", port=8001)\\nserver_control_client = ControlClient(host=server_control_host)\\nserver_details = server_control_client.get_host_details()\\nserver = server_control_client.get_or_create_server(\\n    FastAPIUvicornServer(host=\\\"macmini.fritz.box\\\", port=5001)\\n)\\nprint(server)\";\n",
       "                var nbb_cells = Jupyter.notebook.get_cells();\n",
       "                for (var i = 0; i < nbb_cells.length; ++i) {\n",
       "                    if (nbb_cells[i].input_prompt_number == nbb_cell_id) {\n",
       "                        if (nbb_cells[i].get_text() == nbb_unformatted_code) {\n",
       "                             nbb_cells[i].set_text(nbb_formatted_code);\n",
       "                        }\n",
       "                        break;\n",
       "                    }\n",
       "                }\n",
       "            }, 500);\n",
       "            "
      ],
      "text/plain": [
       "<IPython.core.display.Javascript object>"
      ]
     },
     "metadata": {},
     "output_type": "display_data"
    }
   ],
   "source": [
    "# dont_test\n",
    "\n",
    "# create server control client + server (needed for turning files into urls)\n",
    "server_control_host = Host(name=\"macmini.fritz.box\", port=8001)\n",
    "server_control_client = ControlClient(host=server_control_host)\n",
    "server_details = server_control_client.get_host_details()\n",
    "server = server_control_client.get_or_create_server(FastAPIUvicornServer(host=\"macmini.fritz.box\", port=5001))\n",
    "print(server)\n"
   ]
  },
  {
   "cell_type": "code",
   "execution_count": null,
   "id": "17e352cb",
   "metadata": {},
   "outputs": [
    {
     "name": "stdout",
     "output_type": "stream",
     "text": [
      "protocol='http' name='fastAPI/uvicorn' host='localhost' port=5001\n",
      "[BenchmarkFile(number=0, base_path='10000000_3_125000000', size=10000000, data_root='data', hostname='localhost', port=8000, checksum='d41d8cd98f00b204e9800998ecf8427e', creator_name='filesystem'), BenchmarkFile(number=1, base_path='10000000_3_125000000', size=10000000, data_root='data', hostname='localhost', port=8000, checksum='c2b87744cfbdf5a1bb0c3b691ca40e66', creator_name='filesystem'), BenchmarkFile(number=2, base_path='10000000_3_125000000', size=10000000, data_root='data', hostname='localhost', port=8000, checksum='b197317f87369090fe0ae4bbfe90ddf3', creator_name='filesystem'), BenchmarkFile(number=3, base_path='10000000_3_125000000', size=10000000, data_root='data', hostname='localhost', port=8000, checksum='0830427b0a6a8e5831fafa2babef13c1', creator_name='filesystem'), BenchmarkFile(number=4, base_path='10000000_3_125000000', size=10000000, data_root='data', hostname='localhost', port=8000, checksum='46d44b3d9b086e224f1abb4133ab15ec', creator_name='filesystem'), BenchmarkFile(number=5, base_path='10000000_3_125000000', size=10000000, data_root='data', hostname='localhost', port=8000, checksum='459c9b7f167385cd061dcef9dc20a8d2', creator_name='filesystem'), BenchmarkFile(number=6, base_path='10000000_3_125000000', size=10000000, data_root='data', hostname='localhost', port=8000, checksum='5623f8aec6dbe2693f19d9e240dd6cc7', creator_name='filesystem'), BenchmarkFile(number=7, base_path='10000000_3_125000000', size=10000000, data_root='data', hostname='localhost', port=8000, checksum='a888ed854c5e311da29873670ecbed41', creator_name='filesystem'), BenchmarkFile(number=8, base_path='10000000_3_125000000', size=10000000, data_root='data', hostname='localhost', port=8000, checksum='6a35fe2cc7ac40a8951216fe4098b11f', creator_name='filesystem'), BenchmarkFile(number=9, base_path='10000000_3_125000000', size=10000000, data_root='data', hostname='localhost', port=8000, checksum='f69faca1a12e612029ca29ed6ed069d0', creator_name='filesystem')]\n"
     ]
    },
    {
     "data": {
      "application/javascript": [
       "\n",
       "            setTimeout(function() {\n",
       "                var nbb_cell_id = 3;\n",
       "                var nbb_unformatted_code = \"# dont_test\\n\\n# create server control client + server (needed for turning files into urls)\\nserver_control_host = Host(name=\\\"macmini.fritz.box\\\", port=8001)\\nserver_control_client = ControlClient(host=server_control_host)\\nserver_details = server_control_client.get_host_details()\\nserver = server_control_client.get_or_create_server(FastAPIUvicornServer())\\nprint(server)\\n\\n# create files and urls\\nbyte, file_size, duration = 8, 10 ** 7, 3\\nepoch = Epoch(file_size=file_size, duration=duration)\\nfiles = server_control_client.get_or_create_files(epoch)\\nprint(files[:10])\\nepoch.urls = [server.file_to_url(file) for file in files]\\n\\n# create control client + measure server\\nclient_control_host = Host(name=\\\"localhost\\\", port=8001)\\nclient_control_client = ControlClient(host=client_control_host)\\nclient_details = client_control_client.get_host_details()\\nbenchmark_client = HttpxClient(name=\\\"httpx\\\")\\nclient_params = ClientParameters(**benchmark_client.params())\\n\\n\\nresult = Result(\\n    server=server,\\n    client=benchmark_client,\\n    server_details=server_details,\\n    client_details=client_details,\\n    file_size=epoch.file_size,\\n    complete_size=epoch.complete_size,\\n)\";\n",
       "                var nbb_formatted_code = \"# dont_test\\n\\n# create server control client + server (needed for turning files into urls)\\nserver_control_host = Host(name=\\\"macmini.fritz.box\\\", port=8001)\\nserver_control_client = ControlClient(host=server_control_host)\\nserver_details = server_control_client.get_host_details()\\nserver = server_control_client.get_or_create_server(FastAPIUvicornServer())\\nprint(server)\\n\\n# create files and urls\\nbyte, file_size, duration = 8, 10 ** 7, 3\\nepoch = Epoch(file_size=file_size, duration=duration)\\nfiles = server_control_client.get_or_create_files(epoch)\\nprint(files[:10])\\nepoch.urls = [server.file_to_url(file) for file in files]\\n\\n# create control client + measure server\\nclient_control_host = Host(name=\\\"localhost\\\", port=8001)\\nclient_control_client = ControlClient(host=client_control_host)\\nclient_details = client_control_client.get_host_details()\\nbenchmark_client = HttpxClient(name=\\\"httpx\\\")\\nclient_params = ClientParameters(**benchmark_client.params())\\n\\n\\nresult = Result(\\n    server=server,\\n    client=benchmark_client,\\n    server_details=server_details,\\n    client_details=client_details,\\n    file_size=epoch.file_size,\\n    complete_size=epoch.complete_size,\\n)\";\n",
       "                var nbb_cells = Jupyter.notebook.get_cells();\n",
       "                for (var i = 0; i < nbb_cells.length; ++i) {\n",
       "                    if (nbb_cells[i].input_prompt_number == nbb_cell_id) {\n",
       "                        if (nbb_cells[i].get_text() == nbb_unformatted_code) {\n",
       "                             nbb_cells[i].set_text(nbb_formatted_code);\n",
       "                        }\n",
       "                        break;\n",
       "                    }\n",
       "                }\n",
       "            }, 500);\n",
       "            "
      ],
      "text/plain": [
       "<IPython.core.display.Javascript object>"
      ]
     },
     "metadata": {},
     "output_type": "display_data"
    }
   ],
   "source": [
    "# dont_test\n",
    "\n",
    "# create server control client + server (needed for turning files into urls)\n",
    "server_control_host = Host(name=\"macmini.fritz.box\", port=8001)\n",
    "server_control_client = ControlClient(host=server_control_host)\n",
    "server_details = server_control_client.get_host_details()\n",
    "server = server_control_client.get_or_create_server(FastAPIUvicornServer(host=\"macmini.\"))\n",
    "print(server)\n",
    "\n",
    "# create files and urls\n",
    "byte, file_size, duration = 8, 10 ** 7, 3\n",
    "epoch = Epoch(file_size=file_size, duration=duration)\n",
    "files = server_control_client.get_or_create_files(epoch)\n",
    "print(files[:10])\n",
    "epoch.urls = [server.file_to_url(file) for file in files]\n",
    "\n",
    "# create control client + measure server\n",
    "client_control_host = Host(name=\"localhost\", port=8001)\n",
    "client_control_client = ControlClient(host=client_control_host)\n",
    "client_details = client_control_client.get_host_details()\n",
    "benchmark_client = HttpxClient(name=\"httpx\")\n",
    "\n",
    "result = Result(\n",
    "    server=server,\n",
    "    client=benchmark_client,\n",
    "    server_details=server_details,\n",
    "    client_details=client_details,\n",
    "    file_size=epoch.file_size,\n",
    "    complete_size=epoch.complete_size,\n",
    ")"
   ]
  },
  {
   "cell_type": "code",
   "execution_count": null,
   "id": "cfdab508",
   "metadata": {},
   "outputs": [
    {
     "name": "stdout",
     "output_type": "stream",
     "text": [
      "3.159423792\n"
     ]
    },
    {
     "data": {
      "application/javascript": [
       "\n",
       "            setTimeout(function() {\n",
       "                var nbb_cell_id = 6;\n",
       "                var nbb_unformatted_code = \"# dont_test\\n\\nresult.elapsed = client_control_client.measure(client_params, epoch)\\nprint(result.elapsed)\\n\\n# result.elapsed = benchmark_client.measure(epoch)\";\n",
       "                var nbb_formatted_code = \"# dont_test\\n\\nresult.elapsed = client_control_client.measure(client_params, epoch)\\nprint(result.elapsed)\\n\\n# result.elapsed = benchmark_client.measure(epoch)\";\n",
       "                var nbb_cells = Jupyter.notebook.get_cells();\n",
       "                for (var i = 0; i < nbb_cells.length; ++i) {\n",
       "                    if (nbb_cells[i].input_prompt_number == nbb_cell_id) {\n",
       "                        if (nbb_cells[i].get_text() == nbb_unformatted_code) {\n",
       "                             nbb_cells[i].set_text(nbb_formatted_code);\n",
       "                        }\n",
       "                        break;\n",
       "                    }\n",
       "                }\n",
       "            }, 500);\n",
       "            "
      ],
      "text/plain": [
       "<IPython.core.display.Javascript object>"
      ]
     },
     "metadata": {},
     "output_type": "display_data"
    }
   ],
   "source": [
    "# dont_test\n",
    "\n",
    "result.elapsed = client_control_client.measure(benchmark_client, epoch)\n",
    "print(result.elapsed)\n",
    "\n",
    "# result.elapsed = benchmark_client.measure(epoch)"
   ]
  },
  {
   "cell_type": "code",
   "execution_count": null,
   "id": "d2d5b0c7",
   "metadata": {},
   "outputs": [
    {
     "data": {
      "text/plain": [
       "118850051.28710909"
      ]
     },
     "execution_count": null,
     "metadata": {},
     "output_type": "execute_result"
    },
    {
     "data": {
      "application/javascript": [
       "\n",
       "            setTimeout(function() {\n",
       "                var nbb_cell_id = 5;\n",
       "                var nbb_unformatted_code = \"# dont_test\\n\\nresult.bytes_per_second\";\n",
       "                var nbb_formatted_code = \"# dont_test\\n\\nresult.bytes_per_second\";\n",
       "                var nbb_cells = Jupyter.notebook.get_cells();\n",
       "                for (var i = 0; i < nbb_cells.length; ++i) {\n",
       "                    if (nbb_cells[i].input_prompt_number == nbb_cell_id) {\n",
       "                        if (nbb_cells[i].get_text() == nbb_unformatted_code) {\n",
       "                             nbb_cells[i].set_text(nbb_formatted_code);\n",
       "                        }\n",
       "                        break;\n",
       "                    }\n",
       "                }\n",
       "            }, 500);\n",
       "            "
      ],
      "text/plain": [
       "<IPython.core.display.Javascript object>"
      ]
     },
     "metadata": {},
     "output_type": "display_data"
    }
   ],
   "source": [
    "# dont_test\n",
    "\n",
    "result.bytes_per_second"
   ]
  },
  {
   "cell_type": "markdown",
   "id": "235ca99d",
   "metadata": {},
   "source": [
    "# Save Result"
   ]
  },
  {
   "cell_type": "code",
   "execution_count": null,
   "id": "525504f8",
   "metadata": {},
   "outputs": [
    {
     "data": {
      "application/javascript": [
       "\n",
       "            setTimeout(function() {\n",
       "                var nbb_cell_id = 7;\n",
       "                var nbb_unformatted_code = \"# dont_test\\n\\nrepository = SqliteRepository.build_repository(\\\"results.db\\\")\\nregister_default_tables(repository)\\nresults = repository.tables[\\\"result\\\"]\";\n",
       "                var nbb_formatted_code = \"# dont_test\\n\\nrepository = SqliteRepository.build_repository(\\\"results.db\\\")\\nregister_default_tables(repository)\\nresults = repository.tables[\\\"result\\\"]\";\n",
       "                var nbb_cells = Jupyter.notebook.get_cells();\n",
       "                for (var i = 0; i < nbb_cells.length; ++i) {\n",
       "                    if (nbb_cells[i].input_prompt_number == nbb_cell_id) {\n",
       "                        if (nbb_cells[i].get_text() == nbb_unformatted_code) {\n",
       "                             nbb_cells[i].set_text(nbb_formatted_code);\n",
       "                        }\n",
       "                        break;\n",
       "                    }\n",
       "                }\n",
       "            }, 500);\n",
       "            "
      ],
      "text/plain": [
       "<IPython.core.display.Javascript object>"
      ]
     },
     "metadata": {},
     "output_type": "display_data"
    }
   ],
   "source": [
    "# dont_test\n",
    "\n",
    "repository = SqliteRepository.build_repository(\"results.db\")\n",
    "register_default_tables(repository)\n",
    "results = repository.tables[\"result\"]"
   ]
  },
  {
   "cell_type": "code",
   "execution_count": null,
   "id": "55e9b9f2",
   "metadata": {},
   "outputs": [
    {
     "name": "stdout",
     "output_type": "stream",
     "text": [
      "1\n"
     ]
    },
    {
     "data": {
      "application/javascript": [
       "\n",
       "            setTimeout(function() {\n",
       "                var nbb_cell_id = 8;\n",
       "                var nbb_unformatted_code = \"# dont_test\\n\\nresult_id = results.add_result(result)\\nprint(result_id)\";\n",
       "                var nbb_formatted_code = \"# dont_test\\n\\nresult_id = results.add_result(result)\\nprint(result_id)\";\n",
       "                var nbb_cells = Jupyter.notebook.get_cells();\n",
       "                for (var i = 0; i < nbb_cells.length; ++i) {\n",
       "                    if (nbb_cells[i].input_prompt_number == nbb_cell_id) {\n",
       "                        if (nbb_cells[i].get_text() == nbb_unformatted_code) {\n",
       "                             nbb_cells[i].set_text(nbb_formatted_code);\n",
       "                        }\n",
       "                        break;\n",
       "                    }\n",
       "                }\n",
       "            }, 500);\n",
       "            "
      ],
      "text/plain": [
       "<IPython.core.display.Javascript object>"
      ]
     },
     "metadata": {},
     "output_type": "display_data"
    }
   ],
   "source": [
    "# dont_test\n",
    "\n",
    "result_id = results.add_result(result)\n",
    "print(result_id)"
   ]
  },
  {
   "cell_type": "code",
   "execution_count": null,
   "id": "a7a0409b",
   "metadata": {},
   "outputs": [
    {
     "data": {
      "text/plain": [
       "[Result(server=FastAPIUvicornServer(protocol='http', name='fastAPI/uvicorn', host='localhost', port=5001), client=HttpxClient(name='httpx'), server_details=HostDetails(machine_id='C07XJ1E5JYVX', cpuinfo={'python_version': '3.9.4.final.0 (64 bit)', 'cpuinfo_version': [8, 0, 0], 'cpuinfo_version_string': '8.0.0', 'arch': 'X86_64', 'bits': 64, 'count': 6, 'arch_string_raw': 'x86_64', 'vendor_id_raw': 'GenuineIntel', 'brand_raw': 'Intel(R) Core(TM) i5-8500B CPU @ 3.00GHz', 'hz_advertised_friendly': '3.0000 GHz', 'hz_actual_friendly': '3.0000 GHz', 'hz_advertised': [3000000000, 0], 'hz_actual': [3000000000, 0], 'l2_cache_size': 262144, 'stepping': 10, 'model': 158, 'family': 6, 'flags': ['1gbpage', '3dnowprefetch', 'abm', 'acpi', 'adx', 'aes', 'apic', 'avx', 'avx1.0', 'avx2', 'bmi1', 'bmi2', 'clflush', 'clflushopt', 'clfsh', 'clfsopt', 'cmov', 'cx16', 'cx8', 'de', 'ds', 'ds_cpl', 'dscpl', 'dtes64', 'dts', 'em64t', 'erms', 'est', 'f16c', 'fma', 'fpu', 'fpu_csds', 'fxsr', 'hle', 'ht', 'htt', 'ibrs', 'intel_pt', 'invpcid', 'ipt', 'l1df', 'lahf', 'lahf_lm', 'lzcnt', 'mca', 'mce', 'mdclear', 'mmx', 'mon', 'monitor', 'movbe', 'mpx', 'msr', 'mtrr', 'osxsave', 'pae', 'pat', 'pbe', 'pcid', 'pclmulqdq', 'pdcm', 'pge', 'pni', 'popcnt', 'prefetchw', 'pse', 'pse36', 'rdrand', 'rdrnd', 'rdseed', 'rdtscp', 'rdwrfsgs', 'rtm', 'seglim64', 'sep', 'sgx', 'sgx_lc', 'sgxlc', 'smap', 'smep', 'smx', 'ss', 'ssbd', 'sse', 'sse2', 'sse3', 'sse4.1', 'sse4.2', 'sse4_1', 'sse4_2', 'ssse3', 'stibp', 'syscall', 'tm', 'tm2', 'tpr', 'tsc', 'tsc_thread_offset', 'tscdeadline', 'tsci', 'tsctmr', 'tsxfa', 'vme', 'vmx', 'x2apic', 'xd', 'xsave', 'xtpr'], 'l2_cache_line_size': 256, 'l2_cache_associativity': 6}), client_details=HostDetails(machine_id='C02DR0MZQ6LT', cpuinfo={'python_version': '3.9.4.final.0 (64 bit)', 'cpuinfo_version': [7, 0, 0], 'cpuinfo_version_string': '7.0.0', 'arch': 'X86_64', 'bits': 64, 'count': 8, 'arch_string_raw': 'x86_64', 'vendor_id_raw': 'GenuineIntel', 'brand_raw': 'VirtualApple @ 2.50GHz', 'hz_advertised_friendly': '2.5000 GHz', 'hz_actual_friendly': '1.0050 GHz', 'hz_advertised': [2500000000, 0], 'hz_actual': [1005035792, 0], 'l2_cache_size': 65536, 'l2_cache_line_size': 8192, 'l2_cache_associativity': 8, 'model': 44, 'family': 6, 'flags': ['aes', 'apic', 'clflush', 'cmov', 'cx16', 'cx8', 'de', 'dtes64', 'fpu', 'fxsr', 'lahf_lm', 'mmx', 'monitor', 'pat', 'pclmulqdq', 'pni', 'popcnt', 'pse36', 'sep', 'ss', 'sse', 'sse2', 'sse4_1', 'sse4_2', 'ssse3', 'tsc']}), file_size=10000000, elapsed=3.1393565829999996, complete_size=375000000)]"
      ]
     },
     "execution_count": null,
     "metadata": {},
     "output_type": "execute_result"
    },
    {
     "data": {
      "application/javascript": [
       "\n",
       "            setTimeout(function() {\n",
       "                var nbb_cell_id = 9;\n",
       "                var nbb_unformatted_code = \"# dont_test\\n\\nresults.get_results()\";\n",
       "                var nbb_formatted_code = \"# dont_test\\n\\nresults.get_results()\";\n",
       "                var nbb_cells = Jupyter.notebook.get_cells();\n",
       "                for (var i = 0; i < nbb_cells.length; ++i) {\n",
       "                    if (nbb_cells[i].input_prompt_number == nbb_cell_id) {\n",
       "                        if (nbb_cells[i].get_text() == nbb_unformatted_code) {\n",
       "                             nbb_cells[i].set_text(nbb_formatted_code);\n",
       "                        }\n",
       "                        break;\n",
       "                    }\n",
       "                }\n",
       "            }, 500);\n",
       "            "
      ],
      "text/plain": [
       "<IPython.core.display.Javascript object>"
      ]
     },
     "metadata": {},
     "output_type": "display_data"
    }
   ],
   "source": [
    "# dont_test\n",
    "\n",
    "results.get_results()"
   ]
  },
  {
   "cell_type": "code",
   "execution_count": null,
   "id": "b1c3c7d4",
   "metadata": {},
   "outputs": [
    {
     "data": {
      "text/html": [
       "<div>\n",
       "<style scoped>\n",
       "    .dataframe tbody tr th:only-of-type {\n",
       "        vertical-align: middle;\n",
       "    }\n",
       "\n",
       "    .dataframe tbody tr th {\n",
       "        vertical-align: top;\n",
       "    }\n",
       "\n",
       "    .dataframe thead th {\n",
       "        text-align: right;\n",
       "    }\n",
       "</style>\n",
       "<table border=\"1\" class=\"dataframe\">\n",
       "  <thead>\n",
       "    <tr style=\"text-align: right;\">\n",
       "      <th></th>\n",
       "      <th>server</th>\n",
       "      <th>client</th>\n",
       "      <th>server_host</th>\n",
       "      <th>client_host</th>\n",
       "      <th>elapsed</th>\n",
       "      <th>file_size</th>\n",
       "      <th>file_size_h</th>\n",
       "      <th>complete_size</th>\n",
       "      <th>bytes_per_second</th>\n",
       "      <th>bytes_per_second_h</th>\n",
       "    </tr>\n",
       "  </thead>\n",
       "  <tbody>\n",
       "    <tr>\n",
       "      <th>0</th>\n",
       "      <td>fastAPI/uvicorn</td>\n",
       "      <td>httpx</td>\n",
       "      <td>C07XJ1E5JYVX</td>\n",
       "      <td>C02DR0MZQ6LT</td>\n",
       "      <td>3.139357</td>\n",
       "      <td>10000000</td>\n",
       "      <td>9.54MB</td>\n",
       "      <td>375000000</td>\n",
       "      <td>1.194512e+08</td>\n",
       "      <td>113.92MB</td>\n",
       "    </tr>\n",
       "  </tbody>\n",
       "</table>\n",
       "</div>"
      ],
      "text/plain": [
       "            server client   server_host   client_host   elapsed  file_size  \\\n",
       "0  fastAPI/uvicorn  httpx  C07XJ1E5JYVX  C02DR0MZQ6LT  3.139357   10000000   \n",
       "\n",
       "  file_size_h  complete_size  bytes_per_second bytes_per_second_h  \n",
       "0      9.54MB      375000000      1.194512e+08           113.92MB  "
      ]
     },
     "execution_count": null,
     "metadata": {},
     "output_type": "execute_result"
    },
    {
     "data": {
      "application/javascript": [
       "\n",
       "            setTimeout(function() {\n",
       "                var nbb_cell_id = 10;\n",
       "                var nbb_unformatted_code = \"# dont_test\\n\\npd.DataFrame([r.dict_for_pandas() for r in results.get_results()])\";\n",
       "                var nbb_formatted_code = \"# dont_test\\n\\npd.DataFrame([r.dict_for_pandas() for r in results.get_results()])\";\n",
       "                var nbb_cells = Jupyter.notebook.get_cells();\n",
       "                for (var i = 0; i < nbb_cells.length; ++i) {\n",
       "                    if (nbb_cells[i].input_prompt_number == nbb_cell_id) {\n",
       "                        if (nbb_cells[i].get_text() == nbb_unformatted_code) {\n",
       "                             nbb_cells[i].set_text(nbb_formatted_code);\n",
       "                        }\n",
       "                        break;\n",
       "                    }\n",
       "                }\n",
       "            }, 500);\n",
       "            "
      ],
      "text/plain": [
       "<IPython.core.display.Javascript object>"
      ]
     },
     "metadata": {},
     "output_type": "display_data"
    }
   ],
   "source": [
    "# dont_test\n",
    "\n",
    "pd.DataFrame([r.dict_for_pandas() for r in results.get_results()])"
   ]
  },
  {
   "cell_type": "code",
   "execution_count": null,
   "id": "638a4479",
   "metadata": {},
   "outputs": [],
   "source": []
  }
 ],
 "metadata": {
  "kernelspec": {
   "display_name": "Python 3",
   "language": "python",
   "name": "python3"
  }
 },
 "nbformat": 4,
 "nbformat_minor": 5
}
