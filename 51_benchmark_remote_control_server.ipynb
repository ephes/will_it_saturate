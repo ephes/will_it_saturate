{
 "cells": [
  {
   "cell_type": "code",
   "execution_count": 1,
   "id": "56f03797",
   "metadata": {},
   "outputs": [
    {
     "data": {
      "application/javascript": [
       "\n",
       "            setTimeout(function() {\n",
       "                var nbb_cell_id = 1;\n",
       "                var nbb_unformatted_code = \"# hide\\n%load_ext nb_black\";\n",
       "                var nbb_formatted_code = \"# hide\\n%load_ext nb_black\";\n",
       "                var nbb_cells = Jupyter.notebook.get_cells();\n",
       "                for (var i = 0; i < nbb_cells.length; ++i) {\n",
       "                    if (nbb_cells[i].input_prompt_number == nbb_cell_id) {\n",
       "                        if (nbb_cells[i].get_text() == nbb_unformatted_code) {\n",
       "                             nbb_cells[i].set_text(nbb_formatted_code);\n",
       "                        }\n",
       "                        break;\n",
       "                    }\n",
       "                }\n",
       "            }, 500);\n",
       "            "
      ],
      "text/plain": [
       "<IPython.core.display.Javascript object>"
      ]
     },
     "metadata": {},
     "output_type": "display_data"
    }
   ],
   "source": [
    "# hide\n",
    "%load_ext nb_black"
   ]
  },
  {
   "cell_type": "code",
   "execution_count": 2,
   "id": "f1fa8faf",
   "metadata": {},
   "outputs": [
    {
     "data": {
      "application/javascript": [
       "\n",
       "            setTimeout(function() {\n",
       "                var nbb_cell_id = 2;\n",
       "                var nbb_unformatted_code = \"import httpx\\nimport pandas as pd\\n\\nfrom urllib.parse import urljoin\\n\\nfrom will_it_saturate import servers\\nfrom will_it_saturate import clients\\nfrom will_it_saturate.epochs import Epoch\\nfrom will_it_saturate.hosts import Host, HostDetails\\n\\nfrom will_it_saturate.results import Result\\nfrom will_it_saturate.files import BenchmarkFile\\nfrom will_it_saturate.control.client import ControlClient\\nfrom will_it_saturate.repositories import SqliteRepository, register_default_tables\";\n",
       "                var nbb_formatted_code = \"import httpx\\nimport pandas as pd\\n\\nfrom urllib.parse import urljoin\\n\\nfrom will_it_saturate import servers\\nfrom will_it_saturate import clients\\nfrom will_it_saturate.epochs import Epoch\\nfrom will_it_saturate.hosts import Host, HostDetails\\n\\nfrom will_it_saturate.results import Result\\nfrom will_it_saturate.files import BenchmarkFile\\nfrom will_it_saturate.control.client import ControlClient\\nfrom will_it_saturate.repositories import SqliteRepository, register_default_tables\";\n",
       "                var nbb_cells = Jupyter.notebook.get_cells();\n",
       "                for (var i = 0; i < nbb_cells.length; ++i) {\n",
       "                    if (nbb_cells[i].input_prompt_number == nbb_cell_id) {\n",
       "                        if (nbb_cells[i].get_text() == nbb_unformatted_code) {\n",
       "                             nbb_cells[i].set_text(nbb_formatted_code);\n",
       "                        }\n",
       "                        break;\n",
       "                    }\n",
       "                }\n",
       "            }, 500);\n",
       "            "
      ],
      "text/plain": [
       "<IPython.core.display.Javascript object>"
      ]
     },
     "metadata": {},
     "output_type": "display_data"
    }
   ],
   "source": [
    "import httpx\n",
    "import pandas as pd\n",
    "\n",
    "from urllib.parse import urljoin\n",
    "\n",
    "from will_it_saturate import servers\n",
    "from will_it_saturate import clients\n",
    "from will_it_saturate.epochs import Epoch\n",
    "from will_it_saturate.hosts import Host, HostDetails\n",
    "\n",
    "from will_it_saturate.results import Result\n",
    "from will_it_saturate.files import BenchmarkFile\n",
    "from will_it_saturate.control.client import ControlClient\n",
    "from will_it_saturate.repositories import SqliteRepository, register_default_tables"
   ]
  },
  {
   "cell_type": "markdown",
   "id": "78d995f8",
   "metadata": {},
   "source": [
    "# Benchmark Over Network"
   ]
  },
  {
   "cell_type": "markdown",
   "id": "d6734aa2",
   "metadata": {},
   "source": [
    "## Create Benchmark Server\n",
    "\n",
    "create server control client + server (needed for turning files into urls)"
   ]
  },
  {
   "cell_type": "code",
   "execution_count": 3,
   "id": "b659105a",
   "metadata": {},
   "outputs": [
    {
     "data": {
      "application/javascript": [
       "\n",
       "            setTimeout(function() {\n",
       "                var nbb_cell_id = 3;\n",
       "                var nbb_unformatted_code = \"# dont_test\\n\\nserver_control_host = Host(name=\\\"192.168.178.113\\\", port=8001)\\nserver_control_client = ControlClient(host=server_control_host)\\nserver_details = server_control_client.get_host_details()\\nserver = server_control_client.get_or_create_server(\\n    servers.FastAPIUvicornServer(host=\\\"192.168.178.113\\\", port=5001)\\n)\";\n",
       "                var nbb_formatted_code = \"# dont_test\\n\\nserver_control_host = Host(name=\\\"192.168.178.113\\\", port=8001)\\nserver_control_client = ControlClient(host=server_control_host)\\nserver_details = server_control_client.get_host_details()\\nserver = server_control_client.get_or_create_server(\\n    servers.FastAPIUvicornServer(host=\\\"192.168.178.113\\\", port=5001)\\n)\";\n",
       "                var nbb_cells = Jupyter.notebook.get_cells();\n",
       "                for (var i = 0; i < nbb_cells.length; ++i) {\n",
       "                    if (nbb_cells[i].input_prompt_number == nbb_cell_id) {\n",
       "                        if (nbb_cells[i].get_text() == nbb_unformatted_code) {\n",
       "                             nbb_cells[i].set_text(nbb_formatted_code);\n",
       "                        }\n",
       "                        break;\n",
       "                    }\n",
       "                }\n",
       "            }, 500);\n",
       "            "
      ],
      "text/plain": [
       "<IPython.core.display.Javascript object>"
      ]
     },
     "metadata": {},
     "output_type": "display_data"
    }
   ],
   "source": [
    "# dont_test\n",
    "\n",
    "server_control_host = Host(name=\"192.168.178.113\", port=8001)\n",
    "server_control_client = ControlClient(host=server_control_host)\n",
    "server_details = server_control_client.get_host_details()\n",
    "server = server_control_client.get_or_create_server(\n",
    "    servers.FastAPIUvicornServer(host=\"192.168.178.113\", port=5001)\n",
    ")"
   ]
  },
  {
   "cell_type": "markdown",
   "id": "f408d26f",
   "metadata": {},
   "source": [
    "## Create Files and Urls"
   ]
  },
  {
   "cell_type": "code",
   "execution_count": 4,
   "id": "3885d57d",
   "metadata": {},
   "outputs": [
    {
     "data": {
      "application/javascript": [
       "\n",
       "            setTimeout(function() {\n",
       "                var nbb_cell_id = 4;\n",
       "                var nbb_unformatted_code = \"# dont_test\\n\\nbyte, file_size, duration = 8, 10 ** 7, 3\\nepoch = Epoch(file_size=file_size, duration=duration)\\nepoch.files = server_control_client.get_or_create_files(epoch)\\nepoch.urls = [server.file_to_url(file) for file in epoch.files]\";\n",
       "                var nbb_formatted_code = \"# dont_test\\n\\nbyte, file_size, duration = 8, 10 ** 7, 3\\nepoch = Epoch(file_size=file_size, duration=duration)\\nepoch.files = server_control_client.get_or_create_files(epoch)\\nepoch.urls = [server.file_to_url(file) for file in epoch.files]\";\n",
       "                var nbb_cells = Jupyter.notebook.get_cells();\n",
       "                for (var i = 0; i < nbb_cells.length; ++i) {\n",
       "                    if (nbb_cells[i].input_prompt_number == nbb_cell_id) {\n",
       "                        if (nbb_cells[i].get_text() == nbb_unformatted_code) {\n",
       "                             nbb_cells[i].set_text(nbb_formatted_code);\n",
       "                        }\n",
       "                        break;\n",
       "                    }\n",
       "                }\n",
       "            }, 500);\n",
       "            "
      ],
      "text/plain": [
       "<IPython.core.display.Javascript object>"
      ]
     },
     "metadata": {},
     "output_type": "display_data"
    }
   ],
   "source": [
    "# dont_test\n",
    "\n",
    "byte, file_size, duration = 8, 10 ** 7, 3\n",
    "epoch = Epoch(file_size=file_size, duration=duration)\n",
    "epoch.files = server_control_client.get_or_create_files(epoch)\n",
    "epoch.urls = [server.file_to_url(file) for file in epoch.files]"
   ]
  },
  {
   "cell_type": "markdown",
   "id": "a6f613d5",
   "metadata": {},
   "source": [
    "## Modify Files"
   ]
  },
  {
   "cell_type": "code",
   "execution_count": 5,
   "id": "6e5ae230",
   "metadata": {},
   "outputs": [
    {
     "data": {
      "application/javascript": [
       "\n",
       "            setTimeout(function() {\n",
       "                var nbb_cell_id = 5;\n",
       "                var nbb_unformatted_code = \"# dont_test\\n\\nfor epoch_file in epoch.files:\\n    epoch_file.port = server.port\\n    epoch_file.hostname = server.host\";\n",
       "                var nbb_formatted_code = \"# dont_test\\n\\nfor epoch_file in epoch.files:\\n    epoch_file.port = server.port\\n    epoch_file.hostname = server.host\";\n",
       "                var nbb_cells = Jupyter.notebook.get_cells();\n",
       "                for (var i = 0; i < nbb_cells.length; ++i) {\n",
       "                    if (nbb_cells[i].input_prompt_number == nbb_cell_id) {\n",
       "                        if (nbb_cells[i].get_text() == nbb_unformatted_code) {\n",
       "                             nbb_cells[i].set_text(nbb_formatted_code);\n",
       "                        }\n",
       "                        break;\n",
       "                    }\n",
       "                }\n",
       "            }, 500);\n",
       "            "
      ],
      "text/plain": [
       "<IPython.core.display.Javascript object>"
      ]
     },
     "metadata": {},
     "output_type": "display_data"
    }
   ],
   "source": [
    "# dont_test\n",
    "\n",
    "for epoch_file in epoch.files:\n",
    "    epoch_file.port = server.port\n",
    "    epoch_file.hostname = server.host"
   ]
  },
  {
   "cell_type": "markdown",
   "id": "6d299571",
   "metadata": {},
   "source": [
    "## Create Control Client"
   ]
  },
  {
   "cell_type": "code",
   "execution_count": 6,
   "id": "b274ee95",
   "metadata": {},
   "outputs": [
    {
     "data": {
      "application/javascript": [
       "\n",
       "            setTimeout(function() {\n",
       "                var nbb_cell_id = 6;\n",
       "                var nbb_unformatted_code = \"# dont_test\\n\\nclient_control_host = Host(name=\\\"localhost\\\", port=8001)\\nclient_control_client = ControlClient(host=client_control_host)\\nclient_details = client_control_client.get_host_details()\\nbenchmark_client = clients.HttpxClient(name=\\\"httpx keepalive 10\\\")\\n# benchmark_client = clients.AioHttpClient(name=\\\"aiohttp 400 ethernet\\\")\\n# benchmark_client = clients.WrkClient(\\n#     name=\\\"wrk ethernet\\\", host=server.host, port=server.port\\n# )\";\n",
       "                var nbb_formatted_code = \"# dont_test\\n\\nclient_control_host = Host(name=\\\"localhost\\\", port=8001)\\nclient_control_client = ControlClient(host=client_control_host)\\nclient_details = client_control_client.get_host_details()\\nbenchmark_client = clients.HttpxClient(name=\\\"httpx keepalive 10\\\")\\n# benchmark_client = clients.AioHttpClient(name=\\\"aiohttp 400 ethernet\\\")\\n# benchmark_client = clients.WrkClient(\\n#     name=\\\"wrk ethernet\\\", host=server.host, port=server.port\\n# )\";\n",
       "                var nbb_cells = Jupyter.notebook.get_cells();\n",
       "                for (var i = 0; i < nbb_cells.length; ++i) {\n",
       "                    if (nbb_cells[i].input_prompt_number == nbb_cell_id) {\n",
       "                        if (nbb_cells[i].get_text() == nbb_unformatted_code) {\n",
       "                             nbb_cells[i].set_text(nbb_formatted_code);\n",
       "                        }\n",
       "                        break;\n",
       "                    }\n",
       "                }\n",
       "            }, 500);\n",
       "            "
      ],
      "text/plain": [
       "<IPython.core.display.Javascript object>"
      ]
     },
     "metadata": {},
     "output_type": "display_data"
    }
   ],
   "source": [
    "# dont_test\n",
    "\n",
    "client_control_host = Host(name=\"localhost\", port=8001)\n",
    "client_control_client = ControlClient(host=client_control_host)\n",
    "client_details = client_control_client.get_host_details()\n",
    "benchmark_client = clients.HttpxClient(name=\"httpx keepalive 10\")\n",
    "# benchmark_client = clients.AioHttpClient(name=\"aiohttp 400 ethernet\")\n",
    "# benchmark_client = clients.WrkClient(\n",
    "#     name=\"wrk ethernet\", host=server.host, port=server.port\n",
    "# )"
   ]
  },
  {
   "cell_type": "markdown",
   "id": "048c9b7b",
   "metadata": {},
   "source": [
    "## Create Result"
   ]
  },
  {
   "cell_type": "code",
   "execution_count": 7,
   "id": "39eaa87e",
   "metadata": {},
   "outputs": [
    {
     "data": {
      "application/javascript": [
       "\n",
       "            setTimeout(function() {\n",
       "                var nbb_cell_id = 7;\n",
       "                var nbb_unformatted_code = \"# dont_test\\n\\nresult = Result(\\n    server=server,\\n    client=benchmark_client,\\n    server_details=server_details,\\n    client_details=client_details,\\n    file_size=epoch.file_size,\\n    complete_size=epoch.complete_size,\\n)\";\n",
       "                var nbb_formatted_code = \"# dont_test\\n\\nresult = Result(\\n    server=server,\\n    client=benchmark_client,\\n    server_details=server_details,\\n    client_details=client_details,\\n    file_size=epoch.file_size,\\n    complete_size=epoch.complete_size,\\n)\";\n",
       "                var nbb_cells = Jupyter.notebook.get_cells();\n",
       "                for (var i = 0; i < nbb_cells.length; ++i) {\n",
       "                    if (nbb_cells[i].input_prompt_number == nbb_cell_id) {\n",
       "                        if (nbb_cells[i].get_text() == nbb_unformatted_code) {\n",
       "                             nbb_cells[i].set_text(nbb_formatted_code);\n",
       "                        }\n",
       "                        break;\n",
       "                    }\n",
       "                }\n",
       "            }, 500);\n",
       "            "
      ],
      "text/plain": [
       "<IPython.core.display.Javascript object>"
      ]
     },
     "metadata": {},
     "output_type": "display_data"
    }
   ],
   "source": [
    "# dont_test\n",
    "\n",
    "result = Result(\n",
    "    server=server,\n",
    "    client=benchmark_client,\n",
    "    server_details=server_details,\n",
    "    client_details=client_details,\n",
    "    file_size=epoch.file_size,\n",
    "    complete_size=epoch.complete_size,\n",
    ")"
   ]
  },
  {
   "cell_type": "code",
   "execution_count": 8,
   "id": "4a4cc266",
   "metadata": {},
   "outputs": [
    {
     "data": {
      "application/javascript": [
       "\n",
       "            setTimeout(function() {\n",
       "                var nbb_cell_id = 8;\n",
       "                var nbb_unformatted_code = \"# epoch.urls[:5]\";\n",
       "                var nbb_formatted_code = \"# epoch.urls[:5]\";\n",
       "                var nbb_cells = Jupyter.notebook.get_cells();\n",
       "                for (var i = 0; i < nbb_cells.length; ++i) {\n",
       "                    if (nbb_cells[i].input_prompt_number == nbb_cell_id) {\n",
       "                        if (nbb_cells[i].get_text() == nbb_unformatted_code) {\n",
       "                             nbb_cells[i].set_text(nbb_formatted_code);\n",
       "                        }\n",
       "                        break;\n",
       "                    }\n",
       "                }\n",
       "            }, 500);\n",
       "            "
      ],
      "text/plain": [
       "<IPython.core.display.Javascript object>"
      ]
     },
     "metadata": {},
     "output_type": "display_data"
    }
   ],
   "source": [
    "# epoch.urls[:5]"
   ]
  },
  {
   "cell_type": "code",
   "execution_count": 9,
   "id": "d39ef58b",
   "metadata": {},
   "outputs": [
    {
     "data": {
      "application/javascript": [
       "\n",
       "            setTimeout(function() {\n",
       "                var nbb_cell_id = 9;\n",
       "                var nbb_unformatted_code = \"# result.elapsed = 2.80\\n# result.readable_bytes_per_second\";\n",
       "                var nbb_formatted_code = \"# result.elapsed = 2.80\\n# result.readable_bytes_per_second\";\n",
       "                var nbb_cells = Jupyter.notebook.get_cells();\n",
       "                for (var i = 0; i < nbb_cells.length; ++i) {\n",
       "                    if (nbb_cells[i].input_prompt_number == nbb_cell_id) {\n",
       "                        if (nbb_cells[i].get_text() == nbb_unformatted_code) {\n",
       "                             nbb_cells[i].set_text(nbb_formatted_code);\n",
       "                        }\n",
       "                        break;\n",
       "                    }\n",
       "                }\n",
       "            }, 500);\n",
       "            "
      ],
      "text/plain": [
       "<IPython.core.display.Javascript object>"
      ]
     },
     "metadata": {},
     "output_type": "display_data"
    }
   ],
   "source": [
    "# result.elapsed = 2.80\n",
    "# result.readable_bytes_per_second"
   ]
  },
  {
   "cell_type": "markdown",
   "id": "2f59f66a",
   "metadata": {},
   "source": [
    "## Measure Server with Client"
   ]
  },
  {
   "cell_type": "code",
   "execution_count": 10,
   "id": "a0743e6b",
   "metadata": {},
   "outputs": [
    {
     "data": {
      "application/javascript": [
       "\n",
       "            setTimeout(function() {\n",
       "                var nbb_cell_id = 10;\n",
       "                var nbb_unformatted_code = \"# dont_test\\n\\nresult.elapsed = client_control_client.measure(benchmark_client, epoch)\";\n",
       "                var nbb_formatted_code = \"# dont_test\\n\\nresult.elapsed = client_control_client.measure(benchmark_client, epoch)\";\n",
       "                var nbb_cells = Jupyter.notebook.get_cells();\n",
       "                for (var i = 0; i < nbb_cells.length; ++i) {\n",
       "                    if (nbb_cells[i].input_prompt_number == nbb_cell_id) {\n",
       "                        if (nbb_cells[i].get_text() == nbb_unformatted_code) {\n",
       "                             nbb_cells[i].set_text(nbb_formatted_code);\n",
       "                        }\n",
       "                        break;\n",
       "                    }\n",
       "                }\n",
       "            }, 500);\n",
       "            "
      ],
      "text/plain": [
       "<IPython.core.display.Javascript object>"
      ]
     },
     "metadata": {},
     "output_type": "display_data"
    }
   ],
   "source": [
    "# dont_test\n",
    "\n",
    "result.elapsed = client_control_client.measure(benchmark_client, epoch)"
   ]
  },
  {
   "cell_type": "markdown",
   "id": "366c19ef",
   "metadata": {},
   "source": [
    "## Stop Server"
   ]
  },
  {
   "cell_type": "code",
   "execution_count": 9,
   "id": "93103f2f",
   "metadata": {},
   "outputs": [
    {
     "data": {
      "text/plain": [
       "True"
      ]
     },
     "execution_count": 9,
     "metadata": {},
     "output_type": "execute_result"
    },
    {
     "data": {
      "application/javascript": [
       "\n",
       "            setTimeout(function() {\n",
       "                var nbb_cell_id = 9;\n",
       "                var nbb_unformatted_code = \"# dont_test\\n\\nserver_control_client.stop_server(server)\";\n",
       "                var nbb_formatted_code = \"# dont_test\\n\\nserver_control_client.stop_server(server)\";\n",
       "                var nbb_cells = Jupyter.notebook.get_cells();\n",
       "                for (var i = 0; i < nbb_cells.length; ++i) {\n",
       "                    if (nbb_cells[i].input_prompt_number == nbb_cell_id) {\n",
       "                        if (nbb_cells[i].get_text() == nbb_unformatted_code) {\n",
       "                             nbb_cells[i].set_text(nbb_formatted_code);\n",
       "                        }\n",
       "                        break;\n",
       "                    }\n",
       "                }\n",
       "            }, 500);\n",
       "            "
      ],
      "text/plain": [
       "<IPython.core.display.Javascript object>"
      ]
     },
     "metadata": {},
     "output_type": "display_data"
    }
   ],
   "source": [
    "# dont_test\n",
    "\n",
    "server_control_client.stop_server(server)"
   ]
  },
  {
   "cell_type": "markdown",
   "id": "0d02e88a",
   "metadata": {},
   "source": [
    "## Save Result\n",
    "\n",
    "We are using a sqlite database for saving benchmark results."
   ]
  },
  {
   "cell_type": "code",
   "execution_count": 11,
   "id": "388541b2",
   "metadata": {},
   "outputs": [
    {
     "data": {
      "application/javascript": [
       "\n",
       "            setTimeout(function() {\n",
       "                var nbb_cell_id = 11;\n",
       "                var nbb_unformatted_code = \"# dont_test\\n\\nrepository = SqliteRepository.build_repository(\\\"results.db\\\")\\nregister_default_tables(repository)\\nresults_table = repository.tables[\\\"result\\\"]\";\n",
       "                var nbb_formatted_code = \"# dont_test\\n\\nrepository = SqliteRepository.build_repository(\\\"results.db\\\")\\nregister_default_tables(repository)\\nresults_table = repository.tables[\\\"result\\\"]\";\n",
       "                var nbb_cells = Jupyter.notebook.get_cells();\n",
       "                for (var i = 0; i < nbb_cells.length; ++i) {\n",
       "                    if (nbb_cells[i].input_prompt_number == nbb_cell_id) {\n",
       "                        if (nbb_cells[i].get_text() == nbb_unformatted_code) {\n",
       "                             nbb_cells[i].set_text(nbb_formatted_code);\n",
       "                        }\n",
       "                        break;\n",
       "                    }\n",
       "                }\n",
       "            }, 500);\n",
       "            "
      ],
      "text/plain": [
       "<IPython.core.display.Javascript object>"
      ]
     },
     "metadata": {},
     "output_type": "display_data"
    }
   ],
   "source": [
    "# dont_test\n",
    "\n",
    "repository = SqliteRepository.build_repository(\"results.db\")\n",
    "register_default_tables(repository)\n",
    "results_table = repository.tables[\"result\"]"
   ]
  },
  {
   "cell_type": "code",
   "execution_count": 12,
   "id": "9592c7b4",
   "metadata": {},
   "outputs": [
    {
     "data": {
      "application/javascript": [
       "\n",
       "            setTimeout(function() {\n",
       "                var nbb_cell_id = 12;\n",
       "                var nbb_unformatted_code = \"# dont_test\\n\\nresult_id = results_table.add_result(result)\";\n",
       "                var nbb_formatted_code = \"# dont_test\\n\\nresult_id = results_table.add_result(result)\";\n",
       "                var nbb_cells = Jupyter.notebook.get_cells();\n",
       "                for (var i = 0; i < nbb_cells.length; ++i) {\n",
       "                    if (nbb_cells[i].input_prompt_number == nbb_cell_id) {\n",
       "                        if (nbb_cells[i].get_text() == nbb_unformatted_code) {\n",
       "                             nbb_cells[i].set_text(nbb_formatted_code);\n",
       "                        }\n",
       "                        break;\n",
       "                    }\n",
       "                }\n",
       "            }, 500);\n",
       "            "
      ],
      "text/plain": [
       "<IPython.core.display.Javascript object>"
      ]
     },
     "metadata": {},
     "output_type": "display_data"
    }
   ],
   "source": [
    "# dont_test\n",
    "\n",
    "result_id = results_table.add_result(result)"
   ]
  },
  {
   "cell_type": "code",
   "execution_count": 13,
   "id": "239b173b",
   "metadata": {},
   "outputs": [
    {
     "data": {
      "text/html": [
       "<div>\n",
       "<style scoped>\n",
       "    .dataframe tbody tr th:only-of-type {\n",
       "        vertical-align: middle;\n",
       "    }\n",
       "\n",
       "    .dataframe tbody tr th {\n",
       "        vertical-align: top;\n",
       "    }\n",
       "\n",
       "    .dataframe thead th {\n",
       "        text-align: right;\n",
       "    }\n",
       "</style>\n",
       "<table border=\"1\" class=\"dataframe\">\n",
       "  <thead>\n",
       "    <tr style=\"text-align: right;\">\n",
       "      <th></th>\n",
       "      <th>server</th>\n",
       "      <th>client</th>\n",
       "      <th>elapsed</th>\n",
       "      <th>file_size_h</th>\n",
       "      <th>bytes_per_second_h</th>\n",
       "    </tr>\n",
       "  </thead>\n",
       "  <tbody>\n",
       "    <tr>\n",
       "      <th>0</th>\n",
       "      <td>fastAPI/uvicorn</td>\n",
       "      <td>httpx</td>\n",
       "      <td>10.352465</td>\n",
       "      <td>9.54MB</td>\n",
       "      <td>34.55MB</td>\n",
       "    </tr>\n",
       "    <tr>\n",
       "      <th>1</th>\n",
       "      <td>fastAPI/uvicorn</td>\n",
       "      <td>httpx</td>\n",
       "      <td>8.318073</td>\n",
       "      <td>9.54MB</td>\n",
       "      <td>42.99MB</td>\n",
       "    </tr>\n",
       "    <tr>\n",
       "      <th>2</th>\n",
       "      <td>fastAPI/uvicorn</td>\n",
       "      <td>aiohttp</td>\n",
       "      <td>9.394115</td>\n",
       "      <td>9.54MB</td>\n",
       "      <td>38.07MB</td>\n",
       "    </tr>\n",
       "    <tr>\n",
       "      <th>3</th>\n",
       "      <td>fastAPI/uvicorn</td>\n",
       "      <td>aiohttp 400</td>\n",
       "      <td>8.790079</td>\n",
       "      <td>9.54MB</td>\n",
       "      <td>40.69MB</td>\n",
       "    </tr>\n",
       "    <tr>\n",
       "      <th>4</th>\n",
       "      <td>fastAPI/uvicorn</td>\n",
       "      <td>wrk</td>\n",
       "      <td>6.617528</td>\n",
       "      <td>9.54MB</td>\n",
       "      <td>54.04MB</td>\n",
       "    </tr>\n",
       "    <tr>\n",
       "      <th>5</th>\n",
       "      <td>fastAPI/uvicorn</td>\n",
       "      <td>wrk ethernet</td>\n",
       "      <td>2.795011</td>\n",
       "      <td>9.54MB</td>\n",
       "      <td>127.95MB</td>\n",
       "    </tr>\n",
       "    <tr>\n",
       "      <th>6</th>\n",
       "      <td>fastAPI/uvicorn</td>\n",
       "      <td>httpx</td>\n",
       "      <td>5.734141</td>\n",
       "      <td>9.54MB</td>\n",
       "      <td>62.37MB</td>\n",
       "    </tr>\n",
       "    <tr>\n",
       "      <th>7</th>\n",
       "      <td>fastAPI/uvicorn</td>\n",
       "      <td>aiohttp 400 ethernet</td>\n",
       "      <td>5.588128</td>\n",
       "      <td>9.54MB</td>\n",
       "      <td>64.0MB</td>\n",
       "    </tr>\n",
       "    <tr>\n",
       "      <th>8</th>\n",
       "      <td>fastAPI/uvicorn</td>\n",
       "      <td>httpx keepalive 10</td>\n",
       "      <td>5.657740</td>\n",
       "      <td>9.54MB</td>\n",
       "      <td>63.21MB</td>\n",
       "    </tr>\n",
       "  </tbody>\n",
       "</table>\n",
       "</div>"
      ],
      "text/plain": [
       "            server                client    elapsed file_size_h  \\\n",
       "0  fastAPI/uvicorn                 httpx  10.352465      9.54MB   \n",
       "1  fastAPI/uvicorn                 httpx   8.318073      9.54MB   \n",
       "2  fastAPI/uvicorn               aiohttp   9.394115      9.54MB   \n",
       "3  fastAPI/uvicorn           aiohttp 400   8.790079      9.54MB   \n",
       "4  fastAPI/uvicorn                   wrk   6.617528      9.54MB   \n",
       "5  fastAPI/uvicorn          wrk ethernet   2.795011      9.54MB   \n",
       "6  fastAPI/uvicorn                 httpx   5.734141      9.54MB   \n",
       "7  fastAPI/uvicorn  aiohttp 400 ethernet   5.588128      9.54MB   \n",
       "8  fastAPI/uvicorn    httpx keepalive 10   5.657740      9.54MB   \n",
       "\n",
       "  bytes_per_second_h  \n",
       "0            34.55MB  \n",
       "1            42.99MB  \n",
       "2            38.07MB  \n",
       "3            40.69MB  \n",
       "4            54.04MB  \n",
       "5           127.95MB  \n",
       "6            62.37MB  \n",
       "7             64.0MB  \n",
       "8            63.21MB  "
      ]
     },
     "execution_count": 13,
     "metadata": {},
     "output_type": "execute_result"
    },
    {
     "data": {
      "application/javascript": [
       "\n",
       "            setTimeout(function() {\n",
       "                var nbb_cell_id = 13;\n",
       "                var nbb_unformatted_code = \"# dont_test\\n\\nresults_from_database = results_table.get_results()\\n\\ncols = set([\\\"server\\\", \\\"client\\\", \\\"elapsed\\\", \\\"file_size_h\\\", \\\"bytes_per_second_h\\\"])\\npd.DataFrame(\\n    [\\n        {k: v for k, v in r.dict_for_pandas().items() if k in cols}\\n        for r in results_from_database\\n    ]\\n)\";\n",
       "                var nbb_formatted_code = \"# dont_test\\n\\nresults_from_database = results_table.get_results()\\n\\ncols = set([\\\"server\\\", \\\"client\\\", \\\"elapsed\\\", \\\"file_size_h\\\", \\\"bytes_per_second_h\\\"])\\npd.DataFrame(\\n    [\\n        {k: v for k, v in r.dict_for_pandas().items() if k in cols}\\n        for r in results_from_database\\n    ]\\n)\";\n",
       "                var nbb_cells = Jupyter.notebook.get_cells();\n",
       "                for (var i = 0; i < nbb_cells.length; ++i) {\n",
       "                    if (nbb_cells[i].input_prompt_number == nbb_cell_id) {\n",
       "                        if (nbb_cells[i].get_text() == nbb_unformatted_code) {\n",
       "                             nbb_cells[i].set_text(nbb_formatted_code);\n",
       "                        }\n",
       "                        break;\n",
       "                    }\n",
       "                }\n",
       "            }, 500);\n",
       "            "
      ],
      "text/plain": [
       "<IPython.core.display.Javascript object>"
      ]
     },
     "metadata": {},
     "output_type": "display_data"
    }
   ],
   "source": [
    "# dont_test\n",
    "\n",
    "results_from_database = results_table.get_results()\n",
    "\n",
    "cols = set([\"server\", \"client\", \"elapsed\", \"file_size_h\", \"bytes_per_second_h\"])\n",
    "pd.DataFrame(\n",
    "    [\n",
    "        {k: v for k, v in r.dict_for_pandas().items() if k in cols}\n",
    "        for r in results_from_database\n",
    "    ]\n",
    ")"
   ]
  }
 ],
 "metadata": {
  "kernelspec": {
   "display_name": "Python 3",
   "language": "python",
   "name": "python3"
  },
  "language_info": {
   "codemirror_mode": {
    "name": "ipython",
    "version": 3
   },
   "file_extension": ".py",
   "mimetype": "text/x-python",
   "name": "python",
   "nbconvert_exporter": "python",
   "pygments_lexer": "ipython3",
   "version": "3.9.4"
  }
 },
 "nbformat": 4,
 "nbformat_minor": 5
}
