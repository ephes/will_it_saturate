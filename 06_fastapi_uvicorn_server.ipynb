{
 "cells": [
  {
   "cell_type": "code",
   "execution_count": null,
   "id": "recovered-venture",
   "metadata": {},
   "outputs": [
    {
     "data": {
      "application/javascript": [
       "\n",
       "            setTimeout(function() {\n",
       "                var nbb_cell_id = 1;\n",
       "                var nbb_unformatted_code = \"# hide\\n\\n%load_ext nb_black\";\n",
       "                var nbb_formatted_code = \"# hide\\n\\n%load_ext nb_black\";\n",
       "                var nbb_cells = Jupyter.notebook.get_cells();\n",
       "                for (var i = 0; i < nbb_cells.length; ++i) {\n",
       "                    if (nbb_cells[i].input_prompt_number == nbb_cell_id) {\n",
       "                        if (nbb_cells[i].get_text() == nbb_unformatted_code) {\n",
       "                             nbb_cells[i].set_text(nbb_formatted_code);\n",
       "                        }\n",
       "                        break;\n",
       "                    }\n",
       "                }\n",
       "            }, 500);\n",
       "            "
      ],
      "text/plain": [
       "<IPython.core.display.Javascript object>"
      ]
     },
     "metadata": {},
     "output_type": "display_data"
    }
   ],
   "source": [
    "# hide\n",
    "\n",
    "%load_ext nb_black"
   ]
  },
  {
   "cell_type": "code",
   "execution_count": null,
   "id": "oriented-denver",
   "metadata": {},
   "outputs": [
    {
     "data": {
      "application/javascript": [
       "\n",
       "            setTimeout(function() {\n",
       "                var nbb_cell_id = 2;\n",
       "                var nbb_unformatted_code = \"# default_exp server\";\n",
       "                var nbb_formatted_code = \"# default_exp server\";\n",
       "                var nbb_cells = Jupyter.notebook.get_cells();\n",
       "                for (var i = 0; i < nbb_cells.length; ++i) {\n",
       "                    if (nbb_cells[i].input_prompt_number == nbb_cell_id) {\n",
       "                        if (nbb_cells[i].get_text() == nbb_unformatted_code) {\n",
       "                             nbb_cells[i].set_text(nbb_formatted_code);\n",
       "                        }\n",
       "                        break;\n",
       "                    }\n",
       "                }\n",
       "            }, 500);\n",
       "            "
      ],
      "text/plain": [
       "<IPython.core.display.Javascript object>"
      ]
     },
     "metadata": {},
     "output_type": "display_data"
    }
   ],
   "source": [
    "# default_exp server"
   ]
  },
  {
   "cell_type": "markdown",
   "id": "golden-campbell",
   "metadata": {},
   "source": [
    "# Start the Server"
   ]
  },
  {
   "cell_type": "code",
   "execution_count": null,
   "id": "minimal-stopping",
   "metadata": {},
   "outputs": [
    {
     "data": {
      "application/javascript": [
       "\n",
       "            setTimeout(function() {\n",
       "                var nbb_cell_id = 7;\n",
       "                var nbb_unformatted_code = \"# export\\n\\nimport time\\nimport subprocess\\n\\nfrom will_it_saturate.core import BenchmarkServer\\n\\n\\nclass FastAPIUvicornServer(BenchmarkServer):\\n    name: str = \\\"fastAPI/uvicorn\\\"\\n\\n    def get_pid(self):\\n        kwargs = {\\\"shell\\\": True, \\\"capture_output\\\": True, \\\"text\\\": True}\\n        output = subprocess.run(f\\\"ps aux | grep will_it_saturate.main:app\\\", **kwargs)\\n        lines = [l for l in output.stdout.split(\\\"\\\\n\\\") if len(l) > 0 and \\\"grep\\\" not in l]\\n        if len(lines) > 0:\\n            pid = lines[0].split()[1]\\n            return pid\\n\\n    @property\\n    def started(self):\\n        return self.get_pid() is not None\\n\\n    def start_server(self):\\n        subprocess.Popen([\\\"uvicorn\\\", \\\"--no-access-log\\\", \\\"will_it_saturate.main:app\\\"])\\n        # subprocess.Popen([\\\"uvicorn\\\", \\\"will_it_saturate.main:app\\\"])\\n\\n    def stop_server(self):\\n        subprocess.check_output([\\\"kill\\\", self.get_pid()])\\n        time.sleep(1)  # dunno why this is necessary\\n\\n    def start(self):\\n        if not self.started:\\n            self.start_server()\\n\\n    def stop(self):\\n        if self.started:\\n            self.stop_server()\";\n",
       "                var nbb_formatted_code = \"# export\\n\\nimport time\\nimport subprocess\\n\\nfrom will_it_saturate.core import BenchmarkServer\\n\\n\\nclass FastAPIUvicornServer(BenchmarkServer):\\n    name: str = \\\"fastAPI/uvicorn\\\"\\n\\n    def get_pid(self):\\n        kwargs = {\\\"shell\\\": True, \\\"capture_output\\\": True, \\\"text\\\": True}\\n        output = subprocess.run(f\\\"ps aux | grep will_it_saturate.main:app\\\", **kwargs)\\n        lines = [l for l in output.stdout.split(\\\"\\\\n\\\") if len(l) > 0 and \\\"grep\\\" not in l]\\n        if len(lines) > 0:\\n            pid = lines[0].split()[1]\\n            return pid\\n\\n    @property\\n    def started(self):\\n        return self.get_pid() is not None\\n\\n    def start_server(self):\\n        subprocess.Popen([\\\"uvicorn\\\", \\\"--no-access-log\\\", \\\"will_it_saturate.main:app\\\"])\\n        # subprocess.Popen([\\\"uvicorn\\\", \\\"will_it_saturate.main:app\\\"])\\n\\n    def stop_server(self):\\n        subprocess.check_output([\\\"kill\\\", self.get_pid()])\\n        time.sleep(1)  # dunno why this is necessary\\n\\n    def start(self):\\n        if not self.started:\\n            self.start_server()\\n\\n    def stop(self):\\n        if self.started:\\n            self.stop_server()\";\n",
       "                var nbb_cells = Jupyter.notebook.get_cells();\n",
       "                for (var i = 0; i < nbb_cells.length; ++i) {\n",
       "                    if (nbb_cells[i].input_prompt_number == nbb_cell_id) {\n",
       "                        if (nbb_cells[i].get_text() == nbb_unformatted_code) {\n",
       "                             nbb_cells[i].set_text(nbb_formatted_code);\n",
       "                        }\n",
       "                        break;\n",
       "                    }\n",
       "                }\n",
       "            }, 500);\n",
       "            "
      ],
      "text/plain": [
       "<IPython.core.display.Javascript object>"
      ]
     },
     "metadata": {},
     "output_type": "display_data"
    }
   ],
   "source": [
    "# export\n",
    "\n",
    "import time\n",
    "import subprocess\n",
    "\n",
    "from will_it_saturate.core import BenchmarkServer\n",
    "\n",
    "\n",
    "class FastAPIUvicornServer(BenchmarkServer):\n",
    "    name: str = \"fastAPI/uvicorn\"\n",
    "\n",
    "    def get_pid(self):\n",
    "        kwargs = {\"shell\": True, \"capture_output\": True, \"text\": True}\n",
    "        output = subprocess.run(f\"ps aux | grep will_it_saturate.main:app\", **kwargs)\n",
    "        lines = [l for l in output.stdout.split(\"\\n\") if len(l) > 0 and \"grep\" not in l]\n",
    "        if len(lines) > 0:\n",
    "            pid = lines[0].split()[1]\n",
    "            return pid\n",
    "\n",
    "    @property\n",
    "    def started(self):\n",
    "        return self.get_pid() is not None\n",
    "\n",
    "    def start_server(self):\n",
    "        subprocess.Popen([\"uvicorn\", \"--no-access-log\", \"will_it_saturate.main:app\"])\n",
    "        # subprocess.Popen([\"uvicorn\", \"will_it_saturate.main:app\"])\n",
    "\n",
    "    def stop_server(self):\n",
    "        subprocess.check_output([\"kill\", self.get_pid()])\n",
    "        time.sleep(1)  # dunno why this is necessary\n",
    "\n",
    "    def start(self):\n",
    "        if not self.started:\n",
    "            self.start_server()\n",
    "\n",
    "    def stop(self):\n",
    "        if self.started:\n",
    "            self.stop_server()"
   ]
  },
  {
   "cell_type": "markdown",
   "id": "compliant-devices",
   "metadata": {},
   "source": [
    "## Usage"
   ]
  },
  {
   "cell_type": "code",
   "execution_count": null,
   "id": "distinct-dream",
   "metadata": {},
   "outputs": [
    {
     "name": "stdout",
     "output_type": "stream",
     "text": [
      "98556\n",
      "stopped..\n",
      "None\n",
      "False\n"
     ]
    },
    {
     "data": {
      "application/javascript": [
       "\n",
       "            setTimeout(function() {\n",
       "                var nbb_cell_id = 5;\n",
       "                var nbb_unformatted_code = \"server = FastAPIUvicornServer()\\nserver.start()\\nprint(server.get_pid())\\nserver.stop()\\nprint(\\\"stopped..\\\")\\nprint(server.get_pid())\\nprint(server.started)\";\n",
       "                var nbb_formatted_code = \"server = FastAPIUvicornServer()\\nserver.start()\\nprint(server.get_pid())\\nserver.stop()\\nprint(\\\"stopped..\\\")\\nprint(server.get_pid())\\nprint(server.started)\";\n",
       "                var nbb_cells = Jupyter.notebook.get_cells();\n",
       "                for (var i = 0; i < nbb_cells.length; ++i) {\n",
       "                    if (nbb_cells[i].input_prompt_number == nbb_cell_id) {\n",
       "                        if (nbb_cells[i].get_text() == nbb_unformatted_code) {\n",
       "                             nbb_cells[i].set_text(nbb_formatted_code);\n",
       "                        }\n",
       "                        break;\n",
       "                    }\n",
       "                }\n",
       "            }, 500);\n",
       "            "
      ],
      "text/plain": [
       "<IPython.core.display.Javascript object>"
      ]
     },
     "metadata": {},
     "output_type": "display_data"
    }
   ],
   "source": [
    "# dont_test\n",
    "\n",
    "server = FastAPIUvicornServer()\n",
    "server.start()\n",
    "print(server.get_pid())\n",
    "server.stop()\n",
    "print(\"stopped..\")\n",
    "print(server.get_pid())\n",
    "print(server.started)"
   ]
  },
  {
   "cell_type": "markdown",
   "id": "useful-probability",
   "metadata": {},
   "source": [
    "# Export"
   ]
  },
  {
   "cell_type": "code",
   "execution_count": null,
   "id": "dress-ghost",
   "metadata": {},
   "outputs": [
    {
     "name": "stdout",
     "output_type": "stream",
     "text": [
      "Converted 00_core.ipynb.\n",
      "Converted 01_serve_files_uvicorn.ipynb.\n",
      "Converted 02_benchmark_clients.ipynb.\n",
      "Converted 03_run_benchmark.ipynb.\n",
      "Converted 04_use_nginx_to_serve_files.ipynb.\n",
      "Converted 05_run_wrk_benchmark.ipynb.\n",
      "Converted 06_fastapi_uvicorn_server.ipynb.\n",
      "Converted index.ipynb.\n"
     ]
    },
    {
     "data": {
      "application/javascript": [
       "\n",
       "            setTimeout(function() {\n",
       "                var nbb_cell_id = 8;\n",
       "                var nbb_unformatted_code = \"from nbdev.export import notebook2script\\n\\nnotebook2script()\";\n",
       "                var nbb_formatted_code = \"from nbdev.export import notebook2script\\n\\nnotebook2script()\";\n",
       "                var nbb_cells = Jupyter.notebook.get_cells();\n",
       "                for (var i = 0; i < nbb_cells.length; ++i) {\n",
       "                    if (nbb_cells[i].input_prompt_number == nbb_cell_id) {\n",
       "                        if (nbb_cells[i].get_text() == nbb_unformatted_code) {\n",
       "                             nbb_cells[i].set_text(nbb_formatted_code);\n",
       "                        }\n",
       "                        break;\n",
       "                    }\n",
       "                }\n",
       "            }, 500);\n",
       "            "
      ],
      "text/plain": [
       "<IPython.core.display.Javascript object>"
      ]
     },
     "metadata": {},
     "output_type": "display_data"
    }
   ],
   "source": [
    "# dont_test\n",
    "\n",
    "from nbdev.export import notebook2script\n",
    "\n",
    "notebook2script()"
   ]
  }
 ],
 "metadata": {
  "kernelspec": {
   "display_name": "Python 3",
   "language": "python",
   "name": "python3"
  }
 },
 "nbformat": 4,
 "nbformat_minor": 5
}
